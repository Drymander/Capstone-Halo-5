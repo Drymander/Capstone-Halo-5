{
 "cells": [
  {
   "cell_type": "markdown",
   "metadata": {},
   "source": [
    "# To Do"
   ]
  },
  {
   "cell_type": "markdown",
   "metadata": {},
   "source": [
    "TRY SORTING ONLY FOR ONE FEATURE AND REARRANGING THE P1 P2 TO CORRESPOND\n",
    "\n",
    "Pull last 25 matches for enough players to fill large database, determine winner based on specified player, and pull playlist history for each player in that match to new modeling dataframe.  \n",
    "\n",
    "Thinking 10,000\n",
    "\n"
   ]
  },
  {
   "cell_type": "markdown",
   "metadata": {},
   "source": [
    "# Theme"
   ]
  },
  {
   "cell_type": "code",
   "execution_count": 91,
   "metadata": {
    "ExecuteTime": {
     "end_time": "2021-07-20T22:18:56.075096Z",
     "start_time": "2021-07-20T22:18:56.072095Z"
    }
   },
   "outputs": [],
   "source": [
    "# import jupyterthemes as jt\n",
    "\n",
    "# !jt -r\n",
    "\n",
    "# !jt -t gruvboxd\n",
    "# !jt -t gruvboxd -T\n",
    "# from IPython.core.display import display, HTML\n",
    "# display(HTML(\"<style>.container { width:80% !important; }</style>\"))"
   ]
  },
  {
   "cell_type": "markdown",
   "metadata": {},
   "source": [
    "# Imports"
   ]
  },
  {
   "cell_type": "code",
   "execution_count": 92,
   "metadata": {
    "ExecuteTime": {
     "end_time": "2021-07-20T22:18:56.087098Z",
     "start_time": "2021-07-20T22:18:56.079097Z"
    }
   },
   "outputs": [],
   "source": [
    "import requests\n",
    "import pandas as pd\n",
    "import matplotlib.pyplot as plt\n",
    "%matplotlib inline\n",
    "import seaborn as sns\n",
    "import numpy as np\n",
    "\n",
    "import json\n",
    "def get_keys(path):\n",
    "    with open(path) as f:\n",
    "        return json.load(f)\n",
    "# keys = get_keys(\"/Users/Johnny/.secret/yelp_api.json\")\n",
    "# api_key = keys['api_key']\n",
    "# pip install tmdbsimple #Ctrl+? this line to install tmdbsimple\n",
    "import tmdbsimple as tmdb\n",
    "# tmdb.API_KEY = api_key\n",
    "\n",
    "scrape = False\n",
    "\n",
    "import ast\n",
    "import time\n",
    "import http.client, urllib.request, urllib.parse, urllib.error, base64\n",
    "\n",
    "api_key = 'ceeaacb7cf024c7485e00ef8457e42dc'\n",
    "\n",
    "# !pip install isodate\n",
    "\n",
    "user = 'Drymander'\n",
    "\n",
    "import pickle\n",
    "from tqdm import tqdm"
   ]
  },
  {
   "cell_type": "code",
   "execution_count": 93,
   "metadata": {
    "ExecuteTime": {
     "end_time": "2021-07-20T22:18:56.305155Z",
     "start_time": "2021-07-20T22:18:56.088098Z"
    }
   },
   "outputs": [
    {
     "name": "stderr",
     "output_type": "stream",
     "text": [
      "[nltk_data] Downloading package punkt to\n",
      "[nltk_data]     C:\\Users\\johnn\\AppData\\Roaming\\nltk_data...\n",
      "[nltk_data]   Package punkt is already up-to-date!\n",
      "[nltk_data] Downloading package stopwords to\n",
      "[nltk_data]     C:\\Users\\johnn\\AppData\\Roaming\\nltk_data...\n",
      "[nltk_data]   Package stopwords is already up-to-date!\n"
     ]
    }
   ],
   "source": [
    "#Standard python libraries\n",
    "import pandas as pd\n",
    "import seaborn as sns\n",
    "# sns.set_context('talk')\n",
    "import matplotlib.pyplot as plt\n",
    "import numpy as np\n",
    "import warnings\n",
    "warnings.filterwarnings(action='ignore') \n",
    "\n",
    "# Preprocessing tools\n",
    "from sklearn.model_selection import train_test_split,cross_val_predict,cross_validate\n",
    "from sklearn.preprocessing import MinMaxScaler,StandardScaler,OneHotEncoder\n",
    "scaler = StandardScaler()\n",
    "from sklearn import metrics\n",
    "\n",
    "# Models & Utilities\n",
    "from sklearn.dummy import DummyClassifier\n",
    "from sklearn.linear_model import LogisticRegression,LogisticRegressionCV\n",
    "from sklearn.ensemble import RandomForestClassifier\n",
    "from sklearn.model_selection import train_test_split\n",
    "from sklearn.linear_model import LogisticRegression\n",
    "from sklearn.metrics import classification_report\n",
    "from sklearn.model_selection import cross_val_score\n",
    "from xgboost import XGBClassifier\n",
    "from sklearn.model_selection import GridSearchCV\n",
    "from sklearn.metrics import plot_confusion_matrix\n",
    "from sklearn.metrics import accuracy_score, confusion_matrix, classification_report, precision_score, recall_score, f1_score\n",
    "from sklearn import svm\n",
    "\n",
    "# Warnings\n",
    "import warnings\n",
    "warnings.filterwarnings(action='ignore') \n",
    "\n",
    "# NLP Libraries\n",
    "import nltk\n",
    "import collections\n",
    "nltk.download('punkt')\n",
    "from sklearn.manifold import TSNE\n",
    "from nltk.tokenize import word_tokenize\n",
    "from nltk import regexp_tokenize\n",
    "import re\n",
    "from nltk.corpus import stopwords\n",
    "from nltk.collocations import *\n",
    "from nltk import FreqDist\n",
    "from nltk import word_tokenize\n",
    "from nltk import ngrams\n",
    "import string\n",
    "from sklearn.feature_extraction.text import CountVectorizer\n",
    "from sklearn.feature_extraction.text import TfidfVectorizer\n",
    "nltk.download('stopwords')\n",
    "# !pip install wordcloud\n",
    "from wordcloud import WordCloud\n",
    "\n",
    "import http.client, urllib.request, urllib.parse, urllib.error, base64\n",
    "\n",
    "import isodate\n",
    "from sklearn.preprocessing import MinMaxScaler\n",
    "from sklearn.preprocessing import minmax_scale\n",
    "from sklearn.preprocessing import MaxAbsScaler\n",
    "from sklearn.preprocessing import StandardScaler\n",
    "from sklearn.preprocessing import RobustScaler\n",
    "from sklearn.preprocessing import Normalizer\n",
    "from sklearn.preprocessing import QuantileTransformer\n",
    "from sklearn.preprocessing import PowerTransformer\n",
    "\n",
    "pd.set_option('display.max_columns', None)"
   ]
  },
  {
   "cell_type": "markdown",
   "metadata": {},
   "source": [
    "# Pull Player History"
   ]
  },
  {
   "cell_type": "code",
   "execution_count": 94,
   "metadata": {
    "ExecuteTime": {
     "end_time": "2021-07-20T22:18:56.314149Z",
     "start_time": "2021-07-20T22:18:56.307148Z"
    }
   },
   "outputs": [],
   "source": [
    "run = False\n",
    "\n",
    "if run == True:\n",
    "\n",
    "    gamertag = 'Drymander'\n",
    "\n",
    "    headers = {\n",
    "        # Request headers\n",
    "        'Ocp-Apim-Subscription-Key': 'ceeaacb7cf024c7485e00ef8457e42dc',\n",
    "    }\n",
    "\n",
    "    start = 0\n",
    "\n",
    "    matches = []\n",
    "\n",
    "    maxed_out = False\n",
    "\n",
    "    while maxed_out == False:\n",
    "        try:\n",
    "\n",
    "            params = urllib.parse.urlencode({\n",
    "                # Request parameters\n",
    "                # Request parameters\n",
    "                'modes': 'arena',\n",
    "                'start': start,\n",
    "                'count': 25,\n",
    "                'include-times': True,\n",
    "            })\n",
    "\n",
    "            conn = http.client.HTTPSConnection('www.haloapi.com')\n",
    "            conn.request(\"GET\", f\"/stats/h5/players/{gamertag}/matches?%s\" % params, \"{body}\", headers)\n",
    "            response = conn.getresponse()\n",
    "            data = response.read()\n",
    "    #         print(data)\n",
    "            data = json.loads(data)\n",
    "            matches.extend(data['Results'])\n",
    "\n",
    "\n",
    "    #         conn.close()\n",
    "    # #         if data['ResultCount'] == 25:\n",
    "    #         if data['Start'] > 100:\n",
    "    #             maxed_out = True\n",
    "\n",
    "    #         else:\n",
    "    #             maxed_out = False\n",
    "    #             time.sleep(1.1)\n",
    "    #             start += 25\n",
    "\n",
    "            conn.close()\n",
    "            if data['ResultCount'] == 25:\n",
    "    #         if data['Start'] > 100:\n",
    "                maxed_out = False\n",
    "                time.sleep(1.1)\n",
    "                start += 25\n",
    "\n",
    "            else:\n",
    "                maxed_out = True\n",
    "\n",
    "\n",
    "\n",
    "        except Exception as e:\n",
    "            print(\"error\")\n",
    "\n",
    "    ####################################\n",
    "    df = pd.DataFrame(matches)\n",
    "    df.to_csv('DrymanderHistory.csv')\n",
    "\n"
   ]
  },
  {
   "cell_type": "markdown",
   "metadata": {},
   "source": [
    "## Match History Exploration"
   ]
  },
  {
   "cell_type": "code",
   "execution_count": 95,
   "metadata": {
    "ExecuteTime": {
     "end_time": "2021-07-20T22:18:56.406170Z",
     "start_time": "2021-07-20T22:18:56.315158Z"
    }
   },
   "outputs": [
    {
     "data": {
      "text/html": [
       "<div>\n",
       "<style scoped>\n",
       "    .dataframe tbody tr th:only-of-type {\n",
       "        vertical-align: middle;\n",
       "    }\n",
       "\n",
       "    .dataframe tbody tr th {\n",
       "        vertical-align: top;\n",
       "    }\n",
       "\n",
       "    .dataframe thead th {\n",
       "        text-align: right;\n",
       "    }\n",
       "</style>\n",
       "<table border=\"1\" class=\"dataframe\">\n",
       "  <thead>\n",
       "    <tr style=\"text-align: right;\">\n",
       "      <th></th>\n",
       "      <th>Links</th>\n",
       "      <th>Id</th>\n",
       "      <th>HopperId</th>\n",
       "      <th>MapId</th>\n",
       "      <th>MapVariant</th>\n",
       "      <th>GameBaseVariantId</th>\n",
       "      <th>GameVariant</th>\n",
       "      <th>MatchDuration</th>\n",
       "      <th>MatchCompletedDate</th>\n",
       "      <th>Teams</th>\n",
       "      <th>Players</th>\n",
       "      <th>IsTeamGame</th>\n",
       "      <th>SeasonId</th>\n",
       "      <th>MatchCompletedDateFidelity</th>\n",
       "    </tr>\n",
       "  </thead>\n",
       "  <tbody>\n",
       "    <tr>\n",
       "      <th>0</th>\n",
       "      <td>{'StatsMatchDetails': {'AuthorityId': 'spartan...</td>\n",
       "      <td>{'MatchId': '10010481-1be2-462b-9774-eac5ee152...</td>\n",
       "      <td>f0c9ef9a-48bd-4b24-9db3-2c76b4e23450</td>\n",
       "      <td>d67fdcb9-6d9c-403e-960d-04202e19b244</td>\n",
       "      <td>{'ResourceType': 3, 'ResourceId': 'beaccaff-81...</td>\n",
       "      <td>a2949322-dc84-45ab-8454-cf94fb28c189</td>\n",
       "      <td>{'ResourceType': 2, 'ResourceId': 'f213daf2-94...</td>\n",
       "      <td>PT8M48.3224767S</td>\n",
       "      <td>{'ISO8601Date': '2021-07-01T00:55:13.88Z'}</td>\n",
       "      <td>[{'Id': 1, 'Score': 1, 'Rank': 2}, {'Id': 0, '...</td>\n",
       "      <td>[{'Player': {'Gamertag': 'Drymander', 'Xuid': ...</td>\n",
       "      <td>True</td>\n",
       "      <td>NaN</td>\n",
       "      <td>2</td>\n",
       "    </tr>\n",
       "  </tbody>\n",
       "</table>\n",
       "</div>"
      ],
      "text/plain": [
       "                                               Links  \\\n",
       "0  {'StatsMatchDetails': {'AuthorityId': 'spartan...   \n",
       "\n",
       "                                                  Id  \\\n",
       "0  {'MatchId': '10010481-1be2-462b-9774-eac5ee152...   \n",
       "\n",
       "                               HopperId                                 MapId  \\\n",
       "0  f0c9ef9a-48bd-4b24-9db3-2c76b4e23450  d67fdcb9-6d9c-403e-960d-04202e19b244   \n",
       "\n",
       "                                          MapVariant  \\\n",
       "0  {'ResourceType': 3, 'ResourceId': 'beaccaff-81...   \n",
       "\n",
       "                      GameBaseVariantId  \\\n",
       "0  a2949322-dc84-45ab-8454-cf94fb28c189   \n",
       "\n",
       "                                         GameVariant    MatchDuration  \\\n",
       "0  {'ResourceType': 2, 'ResourceId': 'f213daf2-94...  PT8M48.3224767S   \n",
       "\n",
       "                           MatchCompletedDate  \\\n",
       "0  {'ISO8601Date': '2021-07-01T00:55:13.88Z'}   \n",
       "\n",
       "                                               Teams  \\\n",
       "0  [{'Id': 1, 'Score': 1, 'Rank': 2}, {'Id': 0, '...   \n",
       "\n",
       "                                             Players  IsTeamGame SeasonId  \\\n",
       "0  [{'Player': {'Gamertag': 'Drymander', 'Xuid': ...        True      NaN   \n",
       "\n",
       "   MatchCompletedDateFidelity  \n",
       "0                           2  "
      ]
     },
     "execution_count": 95,
     "metadata": {},
     "output_type": "execute_result"
    }
   ],
   "source": [
    "df = pd.read_csv('DrymanderHistory.csv')\n",
    "\n",
    "df = df.drop(['Unnamed: 0'], axis=1)\n",
    "\n",
    "df.head(1)\n"
   ]
  },
  {
   "cell_type": "code",
   "execution_count": 96,
   "metadata": {
    "ExecuteTime": {
     "end_time": "2021-07-20T22:18:57.828490Z",
     "start_time": "2021-07-20T22:18:56.407170Z"
    }
   },
   "outputs": [
    {
     "data": {
      "text/html": [
       "<div>\n",
       "<style scoped>\n",
       "    .dataframe tbody tr th:only-of-type {\n",
       "        vertical-align: middle;\n",
       "    }\n",
       "\n",
       "    .dataframe tbody tr th {\n",
       "        vertical-align: top;\n",
       "    }\n",
       "\n",
       "    .dataframe thead th {\n",
       "        text-align: right;\n",
       "    }\n",
       "</style>\n",
       "<table border=\"1\" class=\"dataframe\">\n",
       "  <thead>\n",
       "    <tr style=\"text-align: right;\">\n",
       "      <th></th>\n",
       "      <th>Links</th>\n",
       "      <th>HopperId</th>\n",
       "      <th>MapId</th>\n",
       "      <th>MapVariant</th>\n",
       "      <th>GameBaseVariantId</th>\n",
       "      <th>GameVariant</th>\n",
       "      <th>MatchDuration</th>\n",
       "      <th>MatchCompletedDate</th>\n",
       "      <th>Teams</th>\n",
       "      <th>Players</th>\n",
       "      <th>IsTeamGame</th>\n",
       "      <th>SeasonId</th>\n",
       "      <th>MatchCompletedDateFidelity</th>\n",
       "      <th>0</th>\n",
       "    </tr>\n",
       "  </thead>\n",
       "  <tbody>\n",
       "    <tr>\n",
       "      <th>0</th>\n",
       "      <td>{'StatsMatchDetails': {'AuthorityId': 'spartan...</td>\n",
       "      <td>f0c9ef9a-48bd-4b24-9db3-2c76b4e23450</td>\n",
       "      <td>d67fdcb9-6d9c-403e-960d-04202e19b244</td>\n",
       "      <td>{'ResourceType': 3, 'ResourceId': 'beaccaff-81...</td>\n",
       "      <td>a2949322-dc84-45ab-8454-cf94fb28c189</td>\n",
       "      <td>{'ResourceType': 2, 'ResourceId': 'f213daf2-94...</td>\n",
       "      <td>PT8M48.3224767S</td>\n",
       "      <td>{'ISO8601Date': '2021-07-01T00:55:13.88Z'}</td>\n",
       "      <td>[{'Id': 1, 'Score': 1, 'Rank': 2}, {'Id': 0, '...</td>\n",
       "      <td>[{'Player': {'Gamertag': 'Drymander', 'Xuid': ...</td>\n",
       "      <td>True</td>\n",
       "      <td>NaN</td>\n",
       "      <td>2</td>\n",
       "      <td>{'MatchId': '10010481-1be2-462b-9774-eac5ee152...</td>\n",
       "    </tr>\n",
       "  </tbody>\n",
       "</table>\n",
       "</div>"
      ],
      "text/plain": [
       "                                               Links  \\\n",
       "0  {'StatsMatchDetails': {'AuthorityId': 'spartan...   \n",
       "\n",
       "                               HopperId                                 MapId  \\\n",
       "0  f0c9ef9a-48bd-4b24-9db3-2c76b4e23450  d67fdcb9-6d9c-403e-960d-04202e19b244   \n",
       "\n",
       "                                          MapVariant  \\\n",
       "0  {'ResourceType': 3, 'ResourceId': 'beaccaff-81...   \n",
       "\n",
       "                      GameBaseVariantId  \\\n",
       "0  a2949322-dc84-45ab-8454-cf94fb28c189   \n",
       "\n",
       "                                         GameVariant    MatchDuration  \\\n",
       "0  {'ResourceType': 2, 'ResourceId': 'f213daf2-94...  PT8M48.3224767S   \n",
       "\n",
       "                           MatchCompletedDate  \\\n",
       "0  {'ISO8601Date': '2021-07-01T00:55:13.88Z'}   \n",
       "\n",
       "                                               Teams  \\\n",
       "0  [{'Id': 1, 'Score': 1, 'Rank': 2}, {'Id': 0, '...   \n",
       "\n",
       "                                             Players  IsTeamGame SeasonId  \\\n",
       "0  [{'Player': {'Gamertag': 'Drymander', 'Xuid': ...        True      NaN   \n",
       "\n",
       "   MatchCompletedDateFidelity  \\\n",
       "0                           2   \n",
       "\n",
       "                                                   0  \n",
       "0  {'MatchId': '10010481-1be2-462b-9774-eac5ee152...  "
      ]
     },
     "execution_count": 96,
     "metadata": {},
     "output_type": "execute_result"
    }
   ],
   "source": [
    "def explode_column(df, column):\n",
    "    column = str(column)\n",
    "    column_loc = df.columns.get_loc(column)\n",
    "    column_split = df[column].apply(pd.Series)\n",
    "    \n",
    "    column_split_columns = column_split.values.tolist()\n",
    "    \n",
    "#     print(column_split)\n",
    "    \n",
    "    df = df.drop(columns=[column])\n",
    "    \n",
    "    df = df.join(column_split, rsuffix=str(column))\n",
    "    \n",
    "# #     for column in column_split_columns:\n",
    "# #         df.insert(column_loc, str(column), column)\n",
    "        \n",
    "#     for column in column_split_columns:\n",
    "#         df.insert(column_loc, 'test5', column_split['MatchId'])\n",
    "    \n",
    "    return df\n",
    "\n",
    "explode_column(df, 'Id').head(1)"
   ]
  },
  {
   "cell_type": "code",
   "execution_count": 97,
   "metadata": {
    "ExecuteTime": {
     "end_time": "2021-07-20T22:18:59.960971Z",
     "start_time": "2021-07-20T22:18:57.829492Z"
    }
   },
   "outputs": [
    {
     "data": {
      "text/html": [
       "<div>\n",
       "<style scoped>\n",
       "    .dataframe tbody tr th:only-of-type {\n",
       "        vertical-align: middle;\n",
       "    }\n",
       "\n",
       "    .dataframe tbody tr th {\n",
       "        vertical-align: top;\n",
       "    }\n",
       "\n",
       "    .dataframe thead th {\n",
       "        text-align: right;\n",
       "    }\n",
       "</style>\n",
       "<table border=\"1\" class=\"dataframe\">\n",
       "  <thead>\n",
       "    <tr style=\"text-align: right;\">\n",
       "      <th></th>\n",
       "      <th>Links</th>\n",
       "      <th>HopperId</th>\n",
       "      <th>MapId</th>\n",
       "      <th>MapVariant</th>\n",
       "      <th>GameBaseVariantId</th>\n",
       "      <th>GameVariant</th>\n",
       "      <th>MatchDuration</th>\n",
       "      <th>MatchCompletedDate</th>\n",
       "      <th>Teams</th>\n",
       "      <th>Players</th>\n",
       "      <th>IsTeamGame</th>\n",
       "      <th>SeasonId</th>\n",
       "      <th>MatchCompletedDateFidelity</th>\n",
       "      <th>MatchId</th>\n",
       "      <th>GameMode</th>\n",
       "    </tr>\n",
       "  </thead>\n",
       "  <tbody>\n",
       "    <tr>\n",
       "      <th>0</th>\n",
       "      <td>{'StatsMatchDetails': {'AuthorityId': 'spartan...</td>\n",
       "      <td>f0c9ef9a-48bd-4b24-9db3-2c76b4e23450</td>\n",
       "      <td>d67fdcb9-6d9c-403e-960d-04202e19b244</td>\n",
       "      <td>{'ResourceType': 3, 'ResourceId': 'beaccaff-81...</td>\n",
       "      <td>a2949322-dc84-45ab-8454-cf94fb28c189</td>\n",
       "      <td>{'ResourceType': 2, 'ResourceId': 'f213daf2-94...</td>\n",
       "      <td>PT8M48.3224767S</td>\n",
       "      <td>{'ISO8601Date': '2021-07-01T00:55:13.88Z'}</td>\n",
       "      <td>[{'Id': 1, 'Score': 1, 'Rank': 2}, {'Id': 0, '...</td>\n",
       "      <td>[{'Player': {'Gamertag': 'Drymander', 'Xuid': ...</td>\n",
       "      <td>True</td>\n",
       "      <td>NaN</td>\n",
       "      <td>2</td>\n",
       "      <td>10010481-1be2-462b-9774-eac5ee152045</td>\n",
       "      <td>1</td>\n",
       "    </tr>\n",
       "  </tbody>\n",
       "</table>\n",
       "</div>"
      ],
      "text/plain": [
       "                                               Links  \\\n",
       "0  {'StatsMatchDetails': {'AuthorityId': 'spartan...   \n",
       "\n",
       "                               HopperId                                 MapId  \\\n",
       "0  f0c9ef9a-48bd-4b24-9db3-2c76b4e23450  d67fdcb9-6d9c-403e-960d-04202e19b244   \n",
       "\n",
       "                                          MapVariant  \\\n",
       "0  {'ResourceType': 3, 'ResourceId': 'beaccaff-81...   \n",
       "\n",
       "                      GameBaseVariantId  \\\n",
       "0  a2949322-dc84-45ab-8454-cf94fb28c189   \n",
       "\n",
       "                                         GameVariant    MatchDuration  \\\n",
       "0  {'ResourceType': 2, 'ResourceId': 'f213daf2-94...  PT8M48.3224767S   \n",
       "\n",
       "                           MatchCompletedDate  \\\n",
       "0  {'ISO8601Date': '2021-07-01T00:55:13.88Z'}   \n",
       "\n",
       "                                               Teams  \\\n",
       "0  [{'Id': 1, 'Score': 1, 'Rank': 2}, {'Id': 0, '...   \n",
       "\n",
       "                                             Players  IsTeamGame SeasonId  \\\n",
       "0  [{'Player': {'Gamertag': 'Drymander', 'Xuid': ...        True      NaN   \n",
       "\n",
       "   MatchCompletedDateFidelity                               MatchId  GameMode  \n",
       "0                           2  10010481-1be2-462b-9774-eac5ee152045         1  "
      ]
     },
     "execution_count": 97,
     "metadata": {},
     "output_type": "execute_result"
    }
   ],
   "source": [
    "df['Id'] = df['Id'].map(ast.literal_eval)\n",
    "\n",
    "df = explode_column(df, 'Id')\n",
    "# df.columns = df.columns.astype(str)\n",
    "# df = explode_column(df, '0')\n",
    "df.head(1)"
   ]
  },
  {
   "cell_type": "code",
   "execution_count": 98,
   "metadata": {
    "ExecuteTime": {
     "end_time": "2021-07-20T22:19:02.157477Z",
     "start_time": "2021-07-20T22:18:59.962974Z"
    }
   },
   "outputs": [
    {
     "data": {
      "text/html": [
       "<div>\n",
       "<style scoped>\n",
       "    .dataframe tbody tr th:only-of-type {\n",
       "        vertical-align: middle;\n",
       "    }\n",
       "\n",
       "    .dataframe tbody tr th {\n",
       "        vertical-align: top;\n",
       "    }\n",
       "\n",
       "    .dataframe thead th {\n",
       "        text-align: right;\n",
       "    }\n",
       "</style>\n",
       "<table border=\"1\" class=\"dataframe\">\n",
       "  <thead>\n",
       "    <tr style=\"text-align: right;\">\n",
       "      <th></th>\n",
       "      <th>Links</th>\n",
       "      <th>HopperId</th>\n",
       "      <th>MapId</th>\n",
       "      <th>GameBaseVariantId</th>\n",
       "      <th>GameVariant</th>\n",
       "      <th>MatchDuration</th>\n",
       "      <th>MatchCompletedDate</th>\n",
       "      <th>Teams</th>\n",
       "      <th>Players</th>\n",
       "      <th>IsTeamGame</th>\n",
       "      <th>SeasonId</th>\n",
       "      <th>MatchCompletedDateFidelity</th>\n",
       "      <th>MatchId</th>\n",
       "      <th>GameMode</th>\n",
       "      <th>ResourceType</th>\n",
       "      <th>ResourceId</th>\n",
       "      <th>OwnerType</th>\n",
       "      <th>Owner</th>\n",
       "    </tr>\n",
       "  </thead>\n",
       "  <tbody>\n",
       "    <tr>\n",
       "      <th>0</th>\n",
       "      <td>{'StatsMatchDetails': {'AuthorityId': 'spartan...</td>\n",
       "      <td>f0c9ef9a-48bd-4b24-9db3-2c76b4e23450</td>\n",
       "      <td>d67fdcb9-6d9c-403e-960d-04202e19b244</td>\n",
       "      <td>a2949322-dc84-45ab-8454-cf94fb28c189</td>\n",
       "      <td>{'ResourceType': 2, 'ResourceId': 'f213daf2-94...</td>\n",
       "      <td>PT8M48.3224767S</td>\n",
       "      <td>{'ISO8601Date': '2021-07-01T00:55:13.88Z'}</td>\n",
       "      <td>[{'Id': 1, 'Score': 1, 'Rank': 2}, {'Id': 0, '...</td>\n",
       "      <td>[{'Player': {'Gamertag': 'Drymander', 'Xuid': ...</td>\n",
       "      <td>True</td>\n",
       "      <td>NaN</td>\n",
       "      <td>2</td>\n",
       "      <td>10010481-1be2-462b-9774-eac5ee152045</td>\n",
       "      <td>1</td>\n",
       "      <td>3</td>\n",
       "      <td>beaccaff-8166-4fe8-94ba-fd18ad7a83e1</td>\n",
       "      <td>3</td>\n",
       "      <td></td>\n",
       "    </tr>\n",
       "  </tbody>\n",
       "</table>\n",
       "</div>"
      ],
      "text/plain": [
       "                                               Links  \\\n",
       "0  {'StatsMatchDetails': {'AuthorityId': 'spartan...   \n",
       "\n",
       "                               HopperId                                 MapId  \\\n",
       "0  f0c9ef9a-48bd-4b24-9db3-2c76b4e23450  d67fdcb9-6d9c-403e-960d-04202e19b244   \n",
       "\n",
       "                      GameBaseVariantId  \\\n",
       "0  a2949322-dc84-45ab-8454-cf94fb28c189   \n",
       "\n",
       "                                         GameVariant    MatchDuration  \\\n",
       "0  {'ResourceType': 2, 'ResourceId': 'f213daf2-94...  PT8M48.3224767S   \n",
       "\n",
       "                           MatchCompletedDate  \\\n",
       "0  {'ISO8601Date': '2021-07-01T00:55:13.88Z'}   \n",
       "\n",
       "                                               Teams  \\\n",
       "0  [{'Id': 1, 'Score': 1, 'Rank': 2}, {'Id': 0, '...   \n",
       "\n",
       "                                             Players  IsTeamGame SeasonId  \\\n",
       "0  [{'Player': {'Gamertag': 'Drymander', 'Xuid': ...        True      NaN   \n",
       "\n",
       "   MatchCompletedDateFidelity                               MatchId  GameMode  \\\n",
       "0                           2  10010481-1be2-462b-9774-eac5ee152045         1   \n",
       "\n",
       "   ResourceType                            ResourceId  OwnerType Owner  \n",
       "0             3  beaccaff-8166-4fe8-94ba-fd18ad7a83e1          3        "
      ]
     },
     "execution_count": 98,
     "metadata": {},
     "output_type": "execute_result"
    }
   ],
   "source": [
    "df['MapVariant'] = df['MapVariant'].map(ast.literal_eval)\n",
    "\n",
    "df = explode_column(df, 'MapVariant')\n",
    "\n",
    "df.head(1)"
   ]
  },
  {
   "cell_type": "code",
   "execution_count": 99,
   "metadata": {
    "ExecuteTime": {
     "end_time": "2021-07-20T22:19:04.349961Z",
     "start_time": "2021-07-20T22:19:02.159467Z"
    }
   },
   "outputs": [
    {
     "data": {
      "text/html": [
       "<div>\n",
       "<style scoped>\n",
       "    .dataframe tbody tr th:only-of-type {\n",
       "        vertical-align: middle;\n",
       "    }\n",
       "\n",
       "    .dataframe tbody tr th {\n",
       "        vertical-align: top;\n",
       "    }\n",
       "\n",
       "    .dataframe thead th {\n",
       "        text-align: right;\n",
       "    }\n",
       "</style>\n",
       "<table border=\"1\" class=\"dataframe\">\n",
       "  <thead>\n",
       "    <tr style=\"text-align: right;\">\n",
       "      <th></th>\n",
       "      <th>Links</th>\n",
       "      <th>HopperId</th>\n",
       "      <th>MapId</th>\n",
       "      <th>GameBaseVariantId</th>\n",
       "      <th>MatchDuration</th>\n",
       "      <th>MatchCompletedDate</th>\n",
       "      <th>Teams</th>\n",
       "      <th>Players</th>\n",
       "      <th>IsTeamGame</th>\n",
       "      <th>SeasonId</th>\n",
       "      <th>MatchCompletedDateFidelity</th>\n",
       "      <th>MatchId</th>\n",
       "      <th>GameMode</th>\n",
       "      <th>ResourceType</th>\n",
       "      <th>ResourceId</th>\n",
       "      <th>OwnerType</th>\n",
       "      <th>Owner</th>\n",
       "      <th>ResourceTypeGameVariant</th>\n",
       "      <th>ResourceIdGameVariant</th>\n",
       "      <th>OwnerTypeGameVariant</th>\n",
       "      <th>OwnerGameVariant</th>\n",
       "    </tr>\n",
       "  </thead>\n",
       "  <tbody>\n",
       "    <tr>\n",
       "      <th>0</th>\n",
       "      <td>{'StatsMatchDetails': {'AuthorityId': 'spartan...</td>\n",
       "      <td>f0c9ef9a-48bd-4b24-9db3-2c76b4e23450</td>\n",
       "      <td>d67fdcb9-6d9c-403e-960d-04202e19b244</td>\n",
       "      <td>a2949322-dc84-45ab-8454-cf94fb28c189</td>\n",
       "      <td>PT8M48.3224767S</td>\n",
       "      <td>{'ISO8601Date': '2021-07-01T00:55:13.88Z'}</td>\n",
       "      <td>[{'Id': 1, 'Score': 1, 'Rank': 2}, {'Id': 0, '...</td>\n",
       "      <td>[{'Player': {'Gamertag': 'Drymander', 'Xuid': ...</td>\n",
       "      <td>True</td>\n",
       "      <td>NaN</td>\n",
       "      <td>2</td>\n",
       "      <td>10010481-1be2-462b-9774-eac5ee152045</td>\n",
       "      <td>1</td>\n",
       "      <td>3</td>\n",
       "      <td>beaccaff-8166-4fe8-94ba-fd18ad7a83e1</td>\n",
       "      <td>3</td>\n",
       "      <td></td>\n",
       "      <td>2</td>\n",
       "      <td>f213daf2-94f9-46a4-a4d8-b3f782da0bec</td>\n",
       "      <td>3</td>\n",
       "      <td></td>\n",
       "    </tr>\n",
       "  </tbody>\n",
       "</table>\n",
       "</div>"
      ],
      "text/plain": [
       "                                               Links  \\\n",
       "0  {'StatsMatchDetails': {'AuthorityId': 'spartan...   \n",
       "\n",
       "                               HopperId                                 MapId  \\\n",
       "0  f0c9ef9a-48bd-4b24-9db3-2c76b4e23450  d67fdcb9-6d9c-403e-960d-04202e19b244   \n",
       "\n",
       "                      GameBaseVariantId    MatchDuration  \\\n",
       "0  a2949322-dc84-45ab-8454-cf94fb28c189  PT8M48.3224767S   \n",
       "\n",
       "                           MatchCompletedDate  \\\n",
       "0  {'ISO8601Date': '2021-07-01T00:55:13.88Z'}   \n",
       "\n",
       "                                               Teams  \\\n",
       "0  [{'Id': 1, 'Score': 1, 'Rank': 2}, {'Id': 0, '...   \n",
       "\n",
       "                                             Players  IsTeamGame SeasonId  \\\n",
       "0  [{'Player': {'Gamertag': 'Drymander', 'Xuid': ...        True      NaN   \n",
       "\n",
       "   MatchCompletedDateFidelity                               MatchId  GameMode  \\\n",
       "0                           2  10010481-1be2-462b-9774-eac5ee152045         1   \n",
       "\n",
       "   ResourceType                            ResourceId  OwnerType Owner  \\\n",
       "0             3  beaccaff-8166-4fe8-94ba-fd18ad7a83e1          3         \n",
       "\n",
       "   ResourceTypeGameVariant                 ResourceIdGameVariant  \\\n",
       "0                        2  f213daf2-94f9-46a4-a4d8-b3f782da0bec   \n",
       "\n",
       "   OwnerTypeGameVariant OwnerGameVariant  \n",
       "0                     3                   "
      ]
     },
     "execution_count": 99,
     "metadata": {},
     "output_type": "execute_result"
    }
   ],
   "source": [
    "df['GameVariant'] = df['GameVariant'].map(ast.literal_eval)\n",
    "df = explode_column(df, 'GameVariant')\n",
    "\n",
    "df.head(1)"
   ]
  },
  {
   "cell_type": "code",
   "execution_count": 100,
   "metadata": {
    "ExecuteTime": {
     "end_time": "2021-07-20T22:19:06.468447Z",
     "start_time": "2021-07-20T22:19:04.350961Z"
    }
   },
   "outputs": [
    {
     "data": {
      "text/html": [
       "<div>\n",
       "<style scoped>\n",
       "    .dataframe tbody tr th:only-of-type {\n",
       "        vertical-align: middle;\n",
       "    }\n",
       "\n",
       "    .dataframe tbody tr th {\n",
       "        vertical-align: top;\n",
       "    }\n",
       "\n",
       "    .dataframe thead th {\n",
       "        text-align: right;\n",
       "    }\n",
       "</style>\n",
       "<table border=\"1\" class=\"dataframe\">\n",
       "  <thead>\n",
       "    <tr style=\"text-align: right;\">\n",
       "      <th></th>\n",
       "      <th>Links</th>\n",
       "      <th>HopperId</th>\n",
       "      <th>MapId</th>\n",
       "      <th>GameBaseVariantId</th>\n",
       "      <th>MatchDuration</th>\n",
       "      <th>Teams</th>\n",
       "      <th>Players</th>\n",
       "      <th>IsTeamGame</th>\n",
       "      <th>SeasonId</th>\n",
       "      <th>MatchCompletedDateFidelity</th>\n",
       "      <th>MatchId</th>\n",
       "      <th>GameMode</th>\n",
       "      <th>ResourceType</th>\n",
       "      <th>ResourceId</th>\n",
       "      <th>OwnerType</th>\n",
       "      <th>Owner</th>\n",
       "      <th>ResourceTypeGameVariant</th>\n",
       "      <th>ResourceIdGameVariant</th>\n",
       "      <th>OwnerTypeGameVariant</th>\n",
       "      <th>OwnerGameVariant</th>\n",
       "      <th>ISO8601Date</th>\n",
       "    </tr>\n",
       "  </thead>\n",
       "  <tbody>\n",
       "    <tr>\n",
       "      <th>0</th>\n",
       "      <td>{'StatsMatchDetails': {'AuthorityId': 'spartan...</td>\n",
       "      <td>f0c9ef9a-48bd-4b24-9db3-2c76b4e23450</td>\n",
       "      <td>d67fdcb9-6d9c-403e-960d-04202e19b244</td>\n",
       "      <td>a2949322-dc84-45ab-8454-cf94fb28c189</td>\n",
       "      <td>PT8M48.3224767S</td>\n",
       "      <td>[{'Id': 1, 'Score': 1, 'Rank': 2}, {'Id': 0, '...</td>\n",
       "      <td>[{'Player': {'Gamertag': 'Drymander', 'Xuid': ...</td>\n",
       "      <td>True</td>\n",
       "      <td>NaN</td>\n",
       "      <td>2</td>\n",
       "      <td>10010481-1be2-462b-9774-eac5ee152045</td>\n",
       "      <td>1</td>\n",
       "      <td>3</td>\n",
       "      <td>beaccaff-8166-4fe8-94ba-fd18ad7a83e1</td>\n",
       "      <td>3</td>\n",
       "      <td></td>\n",
       "      <td>2</td>\n",
       "      <td>f213daf2-94f9-46a4-a4d8-b3f782da0bec</td>\n",
       "      <td>3</td>\n",
       "      <td></td>\n",
       "      <td>2021-07-01T00:55:13.88Z</td>\n",
       "    </tr>\n",
       "  </tbody>\n",
       "</table>\n",
       "</div>"
      ],
      "text/plain": [
       "                                               Links  \\\n",
       "0  {'StatsMatchDetails': {'AuthorityId': 'spartan...   \n",
       "\n",
       "                               HopperId                                 MapId  \\\n",
       "0  f0c9ef9a-48bd-4b24-9db3-2c76b4e23450  d67fdcb9-6d9c-403e-960d-04202e19b244   \n",
       "\n",
       "                      GameBaseVariantId    MatchDuration  \\\n",
       "0  a2949322-dc84-45ab-8454-cf94fb28c189  PT8M48.3224767S   \n",
       "\n",
       "                                               Teams  \\\n",
       "0  [{'Id': 1, 'Score': 1, 'Rank': 2}, {'Id': 0, '...   \n",
       "\n",
       "                                             Players  IsTeamGame SeasonId  \\\n",
       "0  [{'Player': {'Gamertag': 'Drymander', 'Xuid': ...        True      NaN   \n",
       "\n",
       "   MatchCompletedDateFidelity                               MatchId  GameMode  \\\n",
       "0                           2  10010481-1be2-462b-9774-eac5ee152045         1   \n",
       "\n",
       "   ResourceType                            ResourceId  OwnerType Owner  \\\n",
       "0             3  beaccaff-8166-4fe8-94ba-fd18ad7a83e1          3         \n",
       "\n",
       "   ResourceTypeGameVariant                 ResourceIdGameVariant  \\\n",
       "0                        2  f213daf2-94f9-46a4-a4d8-b3f782da0bec   \n",
       "\n",
       "   OwnerTypeGameVariant OwnerGameVariant              ISO8601Date  \n",
       "0                     3                   2021-07-01T00:55:13.88Z  "
      ]
     },
     "execution_count": 100,
     "metadata": {},
     "output_type": "execute_result"
    }
   ],
   "source": [
    "df['MatchCompletedDate'] = df['MatchCompletedDate'].map(ast.literal_eval)\n",
    "\n",
    "df = explode_column(df, 'MatchCompletedDate')\n",
    "\n",
    "df.head(1)"
   ]
  },
  {
   "cell_type": "code",
   "execution_count": 101,
   "metadata": {
    "ExecuteTime": {
     "end_time": "2021-07-20T22:19:07.973777Z",
     "start_time": "2021-07-20T22:19:06.469447Z"
    }
   },
   "outputs": [
    {
     "data": {
      "text/html": [
       "<div>\n",
       "<style scoped>\n",
       "    .dataframe tbody tr th:only-of-type {\n",
       "        vertical-align: middle;\n",
       "    }\n",
       "\n",
       "    .dataframe tbody tr th {\n",
       "        vertical-align: top;\n",
       "    }\n",
       "\n",
       "    .dataframe thead th {\n",
       "        text-align: right;\n",
       "    }\n",
       "</style>\n",
       "<table border=\"1\" class=\"dataframe\">\n",
       "  <thead>\n",
       "    <tr style=\"text-align: right;\">\n",
       "      <th></th>\n",
       "      <th>Links</th>\n",
       "      <th>HopperId</th>\n",
       "      <th>MapId</th>\n",
       "      <th>GameBaseVariantId</th>\n",
       "      <th>MatchDuration</th>\n",
       "      <th>Players</th>\n",
       "      <th>IsTeamGame</th>\n",
       "      <th>SeasonId</th>\n",
       "      <th>MatchCompletedDateFidelity</th>\n",
       "      <th>MatchId</th>\n",
       "      <th>GameMode</th>\n",
       "      <th>ResourceType</th>\n",
       "      <th>ResourceId</th>\n",
       "      <th>OwnerType</th>\n",
       "      <th>Owner</th>\n",
       "      <th>ResourceTypeGameVariant</th>\n",
       "      <th>ResourceIdGameVariant</th>\n",
       "      <th>OwnerTypeGameVariant</th>\n",
       "      <th>OwnerGameVariant</th>\n",
       "      <th>ISO8601Date</th>\n",
       "      <th>0</th>\n",
       "      <th>1</th>\n",
       "      <th>2</th>\n",
       "      <th>3</th>\n",
       "      <th>4</th>\n",
       "      <th>5</th>\n",
       "      <th>6</th>\n",
       "      <th>7</th>\n",
       "      <th>8</th>\n",
       "      <th>9</th>\n",
       "      <th>10</th>\n",
       "      <th>11</th>\n",
       "    </tr>\n",
       "  </thead>\n",
       "  <tbody>\n",
       "    <tr>\n",
       "      <th>0</th>\n",
       "      <td>{'StatsMatchDetails': {'AuthorityId': 'spartan...</td>\n",
       "      <td>f0c9ef9a-48bd-4b24-9db3-2c76b4e23450</td>\n",
       "      <td>d67fdcb9-6d9c-403e-960d-04202e19b244</td>\n",
       "      <td>a2949322-dc84-45ab-8454-cf94fb28c189</td>\n",
       "      <td>PT8M48.3224767S</td>\n",
       "      <td>[{'Player': {'Gamertag': 'Drymander', 'Xuid': ...</td>\n",
       "      <td>True</td>\n",
       "      <td>NaN</td>\n",
       "      <td>2</td>\n",
       "      <td>10010481-1be2-462b-9774-eac5ee152045</td>\n",
       "      <td>1</td>\n",
       "      <td>3</td>\n",
       "      <td>beaccaff-8166-4fe8-94ba-fd18ad7a83e1</td>\n",
       "      <td>3</td>\n",
       "      <td></td>\n",
       "      <td>2</td>\n",
       "      <td>f213daf2-94f9-46a4-a4d8-b3f782da0bec</td>\n",
       "      <td>3</td>\n",
       "      <td></td>\n",
       "      <td>2021-07-01T00:55:13.88Z</td>\n",
       "      <td>{'Id': 1, 'Score': 1, 'Rank': 2}</td>\n",
       "      <td>{'Id': 0, 'Score': 2, 'Rank': 1}</td>\n",
       "      <td>NaN</td>\n",
       "      <td>NaN</td>\n",
       "      <td>NaN</td>\n",
       "      <td>NaN</td>\n",
       "      <td>NaN</td>\n",
       "      <td>NaN</td>\n",
       "      <td>NaN</td>\n",
       "      <td>NaN</td>\n",
       "      <td>NaN</td>\n",
       "      <td>NaN</td>\n",
       "    </tr>\n",
       "  </tbody>\n",
       "</table>\n",
       "</div>"
      ],
      "text/plain": [
       "                                               Links  \\\n",
       "0  {'StatsMatchDetails': {'AuthorityId': 'spartan...   \n",
       "\n",
       "                               HopperId                                 MapId  \\\n",
       "0  f0c9ef9a-48bd-4b24-9db3-2c76b4e23450  d67fdcb9-6d9c-403e-960d-04202e19b244   \n",
       "\n",
       "                      GameBaseVariantId    MatchDuration  \\\n",
       "0  a2949322-dc84-45ab-8454-cf94fb28c189  PT8M48.3224767S   \n",
       "\n",
       "                                             Players  IsTeamGame SeasonId  \\\n",
       "0  [{'Player': {'Gamertag': 'Drymander', 'Xuid': ...        True      NaN   \n",
       "\n",
       "   MatchCompletedDateFidelity                               MatchId  GameMode  \\\n",
       "0                           2  10010481-1be2-462b-9774-eac5ee152045         1   \n",
       "\n",
       "   ResourceType                            ResourceId  OwnerType Owner  \\\n",
       "0             3  beaccaff-8166-4fe8-94ba-fd18ad7a83e1          3         \n",
       "\n",
       "   ResourceTypeGameVariant                 ResourceIdGameVariant  \\\n",
       "0                        2  f213daf2-94f9-46a4-a4d8-b3f782da0bec   \n",
       "\n",
       "   OwnerTypeGameVariant OwnerGameVariant              ISO8601Date  \\\n",
       "0                     3                   2021-07-01T00:55:13.88Z   \n",
       "\n",
       "                                  0                                 1    2  \\\n",
       "0  {'Id': 1, 'Score': 1, 'Rank': 2}  {'Id': 0, 'Score': 2, 'Rank': 1}  NaN   \n",
       "\n",
       "     3    4    5    6    7    8    9   10   11  \n",
       "0  NaN  NaN  NaN  NaN  NaN  NaN  NaN  NaN  NaN  "
      ]
     },
     "execution_count": 101,
     "metadata": {},
     "output_type": "execute_result"
    }
   ],
   "source": [
    "df['Teams'] = df['Teams'].map(ast.literal_eval)\n",
    "\n",
    "df = explode_column(df, 'Teams')\n",
    "\n",
    "df.head(1)"
   ]
  },
  {
   "cell_type": "code",
   "execution_count": 102,
   "metadata": {
    "ExecuteTime": {
     "end_time": "2021-07-20T22:19:07.977779Z",
     "start_time": "2021-07-20T22:19:07.974778Z"
    }
   },
   "outputs": [],
   "source": [
    "# df = df.rename(columns={0: 'Blue', 1: 'Red'}, inplace=True)\n",
    "# df.columns = df.columns.astype(str)\n",
    "# df['0'] = df['0'].map(ast.literal_eval)\n",
    "# # df['1'] = df['1'].map(ast.literal_eval)\n",
    "# # df = explode_column(df, '0')\n",
    "# # df = explode_column(df, '1')\n",
    "\n",
    "# df.head(1)"
   ]
  },
  {
   "cell_type": "code",
   "execution_count": 103,
   "metadata": {
    "ExecuteTime": {
     "end_time": "2021-07-20T22:19:16.168633Z",
     "start_time": "2021-07-20T22:19:07.978780Z"
    }
   },
   "outputs": [
    {
     "data": {
      "text/html": [
       "<div>\n",
       "<style scoped>\n",
       "    .dataframe tbody tr th:only-of-type {\n",
       "        vertical-align: middle;\n",
       "    }\n",
       "\n",
       "    .dataframe tbody tr th {\n",
       "        vertical-align: top;\n",
       "    }\n",
       "\n",
       "    .dataframe thead th {\n",
       "        text-align: right;\n",
       "    }\n",
       "</style>\n",
       "<table border=\"1\" class=\"dataframe\">\n",
       "  <thead>\n",
       "    <tr style=\"text-align: right;\">\n",
       "      <th></th>\n",
       "      <th>Links</th>\n",
       "      <th>HopperId</th>\n",
       "      <th>MapId</th>\n",
       "      <th>GameBaseVariantId</th>\n",
       "      <th>MatchDuration</th>\n",
       "      <th>Players</th>\n",
       "      <th>IsTeamGame</th>\n",
       "      <th>SeasonId</th>\n",
       "      <th>MatchCompletedDateFidelity</th>\n",
       "      <th>MatchId</th>\n",
       "      <th>GameMode</th>\n",
       "      <th>ResourceType</th>\n",
       "      <th>ResourceId</th>\n",
       "      <th>OwnerType</th>\n",
       "      <th>Owner</th>\n",
       "      <th>ResourceTypeGameVariant</th>\n",
       "      <th>ResourceIdGameVariant</th>\n",
       "      <th>OwnerTypeGameVariant</th>\n",
       "      <th>OwnerGameVariant</th>\n",
       "      <th>ISO8601Date</th>\n",
       "      <th>0</th>\n",
       "      <th>1</th>\n",
       "      <th>2</th>\n",
       "      <th>3</th>\n",
       "      <th>4</th>\n",
       "      <th>5</th>\n",
       "      <th>6</th>\n",
       "      <th>7</th>\n",
       "      <th>8</th>\n",
       "      <th>9</th>\n",
       "      <th>10</th>\n",
       "      <th>11</th>\n",
       "      <th>TeamId</th>\n",
       "      <th>Rank</th>\n",
       "      <th>Result</th>\n",
       "      <th>TotalKills</th>\n",
       "      <th>TotalDeaths</th>\n",
       "      <th>TotalAssists</th>\n",
       "      <th>PreMatchRatings</th>\n",
       "      <th>PostMatchRatings</th>\n",
       "      <th>Gamertag</th>\n",
       "      <th>Xuid</th>\n",
       "    </tr>\n",
       "  </thead>\n",
       "  <tbody>\n",
       "    <tr>\n",
       "      <th>0</th>\n",
       "      <td>{'StatsMatchDetails': {'AuthorityId': 'spartan...</td>\n",
       "      <td>f0c9ef9a-48bd-4b24-9db3-2c76b4e23450</td>\n",
       "      <td>d67fdcb9-6d9c-403e-960d-04202e19b244</td>\n",
       "      <td>a2949322-dc84-45ab-8454-cf94fb28c189</td>\n",
       "      <td>PT8M48.3224767S</td>\n",
       "      <td>[{'Player': {'Gamertag': 'Drymander', 'Xuid': ...</td>\n",
       "      <td>True</td>\n",
       "      <td>NaN</td>\n",
       "      <td>2</td>\n",
       "      <td>10010481-1be2-462b-9774-eac5ee152045</td>\n",
       "      <td>1</td>\n",
       "      <td>3</td>\n",
       "      <td>beaccaff-8166-4fe8-94ba-fd18ad7a83e1</td>\n",
       "      <td>3</td>\n",
       "      <td></td>\n",
       "      <td>2</td>\n",
       "      <td>f213daf2-94f9-46a4-a4d8-b3f782da0bec</td>\n",
       "      <td>3</td>\n",
       "      <td></td>\n",
       "      <td>2021-07-01T00:55:13.88Z</td>\n",
       "      <td>{'Id': 1, 'Score': 1, 'Rank': 2}</td>\n",
       "      <td>{'Id': 0, 'Score': 2, 'Rank': 1}</td>\n",
       "      <td>NaN</td>\n",
       "      <td>NaN</td>\n",
       "      <td>NaN</td>\n",
       "      <td>NaN</td>\n",
       "      <td>NaN</td>\n",
       "      <td>NaN</td>\n",
       "      <td>NaN</td>\n",
       "      <td>NaN</td>\n",
       "      <td>NaN</td>\n",
       "      <td>NaN</td>\n",
       "      <td>0</td>\n",
       "      <td>2</td>\n",
       "      <td>3</td>\n",
       "      <td>11</td>\n",
       "      <td>9</td>\n",
       "      <td>6</td>\n",
       "      <td>None</td>\n",
       "      <td>None</td>\n",
       "      <td>Drymander</td>\n",
       "      <td>None</td>\n",
       "    </tr>\n",
       "  </tbody>\n",
       "</table>\n",
       "</div>"
      ],
      "text/plain": [
       "                                               Links  \\\n",
       "0  {'StatsMatchDetails': {'AuthorityId': 'spartan...   \n",
       "\n",
       "                               HopperId                                 MapId  \\\n",
       "0  f0c9ef9a-48bd-4b24-9db3-2c76b4e23450  d67fdcb9-6d9c-403e-960d-04202e19b244   \n",
       "\n",
       "                      GameBaseVariantId    MatchDuration  \\\n",
       "0  a2949322-dc84-45ab-8454-cf94fb28c189  PT8M48.3224767S   \n",
       "\n",
       "                                             Players  IsTeamGame SeasonId  \\\n",
       "0  [{'Player': {'Gamertag': 'Drymander', 'Xuid': ...        True      NaN   \n",
       "\n",
       "   MatchCompletedDateFidelity                               MatchId  GameMode  \\\n",
       "0                           2  10010481-1be2-462b-9774-eac5ee152045         1   \n",
       "\n",
       "   ResourceType                            ResourceId  OwnerType Owner  \\\n",
       "0             3  beaccaff-8166-4fe8-94ba-fd18ad7a83e1          3         \n",
       "\n",
       "   ResourceTypeGameVariant                 ResourceIdGameVariant  \\\n",
       "0                        2  f213daf2-94f9-46a4-a4d8-b3f782da0bec   \n",
       "\n",
       "   OwnerTypeGameVariant OwnerGameVariant              ISO8601Date  \\\n",
       "0                     3                   2021-07-01T00:55:13.88Z   \n",
       "\n",
       "                                  0                                 1    2  \\\n",
       "0  {'Id': 1, 'Score': 1, 'Rank': 2}  {'Id': 0, 'Score': 2, 'Rank': 1}  NaN   \n",
       "\n",
       "     3    4    5    6    7    8    9   10   11  TeamId  Rank  Result  \\\n",
       "0  NaN  NaN  NaN  NaN  NaN  NaN  NaN  NaN  NaN       0     2       3   \n",
       "\n",
       "   TotalKills  TotalDeaths  TotalAssists PreMatchRatings PostMatchRatings  \\\n",
       "0          11            9             6            None             None   \n",
       "\n",
       "    Gamertag  Xuid  \n",
       "0  Drymander  None  "
      ]
     },
     "execution_count": 103,
     "metadata": {},
     "output_type": "execute_result"
    }
   ],
   "source": [
    "df['Players'] = df['Players'].map(ast.literal_eval)\n",
    "\n",
    "explode_column(df, 'Players').head(1)\n",
    "\n",
    "df_players = df['Players'].apply(pd.Series)\n",
    "\n",
    "df_players[0]\n",
    "\n",
    "df_players.columns = df_players.columns.astype(str)\n",
    "\n",
    "df_players_explode = explode_column(df_players, '0')\n",
    "\n",
    "df_match_stats = explode_column(df_players_explode, 'Player')\n",
    "\n",
    "df = df.join(df_match_stats, rsuffix='_stats')\n",
    "\n",
    "df.head(1)\n"
   ]
  },
  {
   "cell_type": "code",
   "execution_count": 104,
   "metadata": {
    "ExecuteTime": {
     "end_time": "2021-07-20T22:19:16.195633Z",
     "start_time": "2021-07-20T22:19:16.169626Z"
    }
   },
   "outputs": [
    {
     "data": {
      "text/html": [
       "<div>\n",
       "<style scoped>\n",
       "    .dataframe tbody tr th:only-of-type {\n",
       "        vertical-align: middle;\n",
       "    }\n",
       "\n",
       "    .dataframe tbody tr th {\n",
       "        vertical-align: top;\n",
       "    }\n",
       "\n",
       "    .dataframe thead th {\n",
       "        text-align: right;\n",
       "    }\n",
       "</style>\n",
       "<table border=\"1\" class=\"dataframe\">\n",
       "  <thead>\n",
       "    <tr style=\"text-align: right;\">\n",
       "      <th></th>\n",
       "      <th>Links</th>\n",
       "      <th>HopperId</th>\n",
       "      <th>MapId</th>\n",
       "      <th>GameBaseVariantId</th>\n",
       "      <th>MatchDuration</th>\n",
       "      <th>Players</th>\n",
       "      <th>IsTeamGame</th>\n",
       "      <th>SeasonId</th>\n",
       "      <th>MatchCompletedDateFidelity</th>\n",
       "      <th>MatchId</th>\n",
       "      <th>GameMode</th>\n",
       "      <th>ResourceType</th>\n",
       "      <th>ResourceId</th>\n",
       "      <th>OwnerType</th>\n",
       "      <th>Owner</th>\n",
       "      <th>ResourceTypeGameVariant</th>\n",
       "      <th>ResourceIdGameVariant</th>\n",
       "      <th>OwnerTypeGameVariant</th>\n",
       "      <th>OwnerGameVariant</th>\n",
       "      <th>ISO8601Date</th>\n",
       "      <th>0</th>\n",
       "      <th>1</th>\n",
       "      <th>2</th>\n",
       "      <th>3</th>\n",
       "      <th>4</th>\n",
       "      <th>5</th>\n",
       "      <th>6</th>\n",
       "      <th>7</th>\n",
       "      <th>8</th>\n",
       "      <th>9</th>\n",
       "      <th>10</th>\n",
       "      <th>11</th>\n",
       "      <th>TeamId</th>\n",
       "      <th>Rank</th>\n",
       "      <th>Result</th>\n",
       "      <th>TotalKills</th>\n",
       "      <th>TotalDeaths</th>\n",
       "      <th>TotalAssists</th>\n",
       "      <th>PreMatchRatings</th>\n",
       "      <th>PostMatchRatings</th>\n",
       "      <th>Gamertag</th>\n",
       "      <th>Xuid</th>\n",
       "    </tr>\n",
       "  </thead>\n",
       "  <tbody>\n",
       "    <tr>\n",
       "      <th>0</th>\n",
       "      <td>{'StatsMatchDetails': {'AuthorityId': 'spartan...</td>\n",
       "      <td>f0c9ef9a-48bd-4b24-9db3-2c76b4e23450</td>\n",
       "      <td>d67fdcb9-6d9c-403e-960d-04202e19b244</td>\n",
       "      <td>a2949322-dc84-45ab-8454-cf94fb28c189</td>\n",
       "      <td>PT8M48.3224767S</td>\n",
       "      <td>[{'Player': {'Gamertag': 'Drymander', 'Xuid': ...</td>\n",
       "      <td>True</td>\n",
       "      <td>NaN</td>\n",
       "      <td>2</td>\n",
       "      <td>10010481-1be2-462b-9774-eac5ee152045</td>\n",
       "      <td>1</td>\n",
       "      <td>3</td>\n",
       "      <td>beaccaff-8166-4fe8-94ba-fd18ad7a83e1</td>\n",
       "      <td>3</td>\n",
       "      <td></td>\n",
       "      <td>2</td>\n",
       "      <td>f213daf2-94f9-46a4-a4d8-b3f782da0bec</td>\n",
       "      <td>3</td>\n",
       "      <td></td>\n",
       "      <td>2021-07-01T00:55:13.88Z</td>\n",
       "      <td>{'Id': 1, 'Score': 1, 'Rank': 2}</td>\n",
       "      <td>{'Id': 0, 'Score': 2, 'Rank': 1}</td>\n",
       "      <td>NaN</td>\n",
       "      <td>NaN</td>\n",
       "      <td>NaN</td>\n",
       "      <td>NaN</td>\n",
       "      <td>NaN</td>\n",
       "      <td>NaN</td>\n",
       "      <td>NaN</td>\n",
       "      <td>NaN</td>\n",
       "      <td>NaN</td>\n",
       "      <td>NaN</td>\n",
       "      <td>0</td>\n",
       "      <td>2</td>\n",
       "      <td>3</td>\n",
       "      <td>11</td>\n",
       "      <td>9</td>\n",
       "      <td>6</td>\n",
       "      <td>None</td>\n",
       "      <td>None</td>\n",
       "      <td>Drymander</td>\n",
       "      <td>None</td>\n",
       "    </tr>\n",
       "  </tbody>\n",
       "</table>\n",
       "</div>"
      ],
      "text/plain": [
       "                                               Links  \\\n",
       "0  {'StatsMatchDetails': {'AuthorityId': 'spartan...   \n",
       "\n",
       "                               HopperId                                 MapId  \\\n",
       "0  f0c9ef9a-48bd-4b24-9db3-2c76b4e23450  d67fdcb9-6d9c-403e-960d-04202e19b244   \n",
       "\n",
       "                      GameBaseVariantId    MatchDuration  \\\n",
       "0  a2949322-dc84-45ab-8454-cf94fb28c189  PT8M48.3224767S   \n",
       "\n",
       "                                             Players  IsTeamGame SeasonId  \\\n",
       "0  [{'Player': {'Gamertag': 'Drymander', 'Xuid': ...        True      NaN   \n",
       "\n",
       "   MatchCompletedDateFidelity                               MatchId  GameMode  \\\n",
       "0                           2  10010481-1be2-462b-9774-eac5ee152045         1   \n",
       "\n",
       "   ResourceType                            ResourceId  OwnerType Owner  \\\n",
       "0             3  beaccaff-8166-4fe8-94ba-fd18ad7a83e1          3         \n",
       "\n",
       "   ResourceTypeGameVariant                 ResourceIdGameVariant  \\\n",
       "0                        2  f213daf2-94f9-46a4-a4d8-b3f782da0bec   \n",
       "\n",
       "   OwnerTypeGameVariant OwnerGameVariant              ISO8601Date  \\\n",
       "0                     3                   2021-07-01T00:55:13.88Z   \n",
       "\n",
       "                                  0                                 1    2  \\\n",
       "0  {'Id': 1, 'Score': 1, 'Rank': 2}  {'Id': 0, 'Score': 2, 'Rank': 1}  NaN   \n",
       "\n",
       "     3    4    5    6    7    8    9   10   11  TeamId  Rank  Result  \\\n",
       "0  NaN  NaN  NaN  NaN  NaN  NaN  NaN  NaN  NaN       0     2       3   \n",
       "\n",
       "   TotalKills  TotalDeaths  TotalAssists PreMatchRatings PostMatchRatings  \\\n",
       "0          11            9             6            None             None   \n",
       "\n",
       "    Gamertag  Xuid  \n",
       "0  Drymander  None  "
      ]
     },
     "execution_count": 104,
     "metadata": {},
     "output_type": "execute_result"
    }
   ],
   "source": [
    "df.head(1)"
   ]
  },
  {
   "cell_type": "code",
   "execution_count": 105,
   "metadata": {
    "ExecuteTime": {
     "end_time": "2021-07-20T22:19:16.302656Z",
     "start_time": "2021-07-20T22:19:16.196632Z"
    }
   },
   "outputs": [
    {
     "data": {
      "text/html": [
       "<div>\n",
       "<style scoped>\n",
       "    .dataframe tbody tr th:only-of-type {\n",
       "        vertical-align: middle;\n",
       "    }\n",
       "\n",
       "    .dataframe tbody tr th {\n",
       "        vertical-align: top;\n",
       "    }\n",
       "\n",
       "    .dataframe thead th {\n",
       "        text-align: right;\n",
       "    }\n",
       "</style>\n",
       "<table border=\"1\" class=\"dataframe\">\n",
       "  <thead>\n",
       "    <tr style=\"text-align: right;\">\n",
       "      <th></th>\n",
       "      <th>Unnamed: 0</th>\n",
       "      <th>Links</th>\n",
       "      <th>HopperId</th>\n",
       "      <th>MapId</th>\n",
       "      <th>GameBaseVariantId</th>\n",
       "      <th>MatchDuration</th>\n",
       "      <th>Players</th>\n",
       "      <th>IsTeamGame</th>\n",
       "      <th>SeasonId</th>\n",
       "      <th>MatchCompletedDateFidelity</th>\n",
       "      <th>MatchId</th>\n",
       "      <th>GameMode</th>\n",
       "      <th>ResourceType</th>\n",
       "      <th>ResourceId</th>\n",
       "      <th>OwnerType</th>\n",
       "      <th>Owner</th>\n",
       "      <th>ResourceTypeGameVariant</th>\n",
       "      <th>ResourceIdGameVariant</th>\n",
       "      <th>OwnerTypeGameVariant</th>\n",
       "      <th>OwnerGameVariant</th>\n",
       "      <th>ISO8601Date</th>\n",
       "      <th>2</th>\n",
       "      <th>3</th>\n",
       "      <th>4</th>\n",
       "      <th>5</th>\n",
       "      <th>6</th>\n",
       "      <th>7</th>\n",
       "      <th>8</th>\n",
       "      <th>9</th>\n",
       "      <th>10</th>\n",
       "      <th>11</th>\n",
       "      <th>Id</th>\n",
       "      <th>Score</th>\n",
       "      <th>Rank</th>\n",
       "      <th>Id1</th>\n",
       "      <th>Score1</th>\n",
       "      <th>Rank1</th>\n",
       "      <th>TeamId</th>\n",
       "      <th>Rank_stats</th>\n",
       "      <th>Result</th>\n",
       "      <th>TotalKills</th>\n",
       "      <th>TotalDeaths</th>\n",
       "      <th>TotalAssists</th>\n",
       "      <th>PreMatchRatings</th>\n",
       "      <th>PostMatchRatings</th>\n",
       "      <th>Gamertag</th>\n",
       "      <th>Xuid</th>\n",
       "    </tr>\n",
       "  </thead>\n",
       "  <tbody>\n",
       "    <tr>\n",
       "      <th>0</th>\n",
       "      <td>0</td>\n",
       "      <td>{'StatsMatchDetails': {'AuthorityId': 'spartan...</td>\n",
       "      <td>f0c9ef9a-48bd-4b24-9db3-2c76b4e23450</td>\n",
       "      <td>d67fdcb9-6d9c-403e-960d-04202e19b244</td>\n",
       "      <td>a2949322-dc84-45ab-8454-cf94fb28c189</td>\n",
       "      <td>PT8M48.3224767S</td>\n",
       "      <td>[{'Player': {'Gamertag': 'Drymander', 'Xuid': ...</td>\n",
       "      <td>True</td>\n",
       "      <td>NaN</td>\n",
       "      <td>2</td>\n",
       "      <td>10010481-1be2-462b-9774-eac5ee152045</td>\n",
       "      <td>1</td>\n",
       "      <td>3</td>\n",
       "      <td>beaccaff-8166-4fe8-94ba-fd18ad7a83e1</td>\n",
       "      <td>3</td>\n",
       "      <td>NaN</td>\n",
       "      <td>2</td>\n",
       "      <td>f213daf2-94f9-46a4-a4d8-b3f782da0bec</td>\n",
       "      <td>3</td>\n",
       "      <td>NaN</td>\n",
       "      <td>2021-07-01T00:55:13.88Z</td>\n",
       "      <td>NaN</td>\n",
       "      <td>NaN</td>\n",
       "      <td>NaN</td>\n",
       "      <td>NaN</td>\n",
       "      <td>NaN</td>\n",
       "      <td>NaN</td>\n",
       "      <td>NaN</td>\n",
       "      <td>NaN</td>\n",
       "      <td>NaN</td>\n",
       "      <td>NaN</td>\n",
       "      <td>1</td>\n",
       "      <td>1</td>\n",
       "      <td>2</td>\n",
       "      <td>0</td>\n",
       "      <td>2</td>\n",
       "      <td>1</td>\n",
       "      <td>0</td>\n",
       "      <td>2</td>\n",
       "      <td>3</td>\n",
       "      <td>11</td>\n",
       "      <td>9</td>\n",
       "      <td>6</td>\n",
       "      <td>NaN</td>\n",
       "      <td>NaN</td>\n",
       "      <td>Drymander</td>\n",
       "      <td>NaN</td>\n",
       "    </tr>\n",
       "  </tbody>\n",
       "</table>\n",
       "</div>"
      ],
      "text/plain": [
       "   Unnamed: 0                                              Links  \\\n",
       "0           0  {'StatsMatchDetails': {'AuthorityId': 'spartan...   \n",
       "\n",
       "                               HopperId                                 MapId  \\\n",
       "0  f0c9ef9a-48bd-4b24-9db3-2c76b4e23450  d67fdcb9-6d9c-403e-960d-04202e19b244   \n",
       "\n",
       "                      GameBaseVariantId    MatchDuration  \\\n",
       "0  a2949322-dc84-45ab-8454-cf94fb28c189  PT8M48.3224767S   \n",
       "\n",
       "                                             Players  IsTeamGame SeasonId  \\\n",
       "0  [{'Player': {'Gamertag': 'Drymander', 'Xuid': ...        True      NaN   \n",
       "\n",
       "   MatchCompletedDateFidelity                               MatchId  GameMode  \\\n",
       "0                           2  10010481-1be2-462b-9774-eac5ee152045         1   \n",
       "\n",
       "   ResourceType                            ResourceId  OwnerType  Owner  \\\n",
       "0             3  beaccaff-8166-4fe8-94ba-fd18ad7a83e1          3    NaN   \n",
       "\n",
       "   ResourceTypeGameVariant                 ResourceIdGameVariant  \\\n",
       "0                        2  f213daf2-94f9-46a4-a4d8-b3f782da0bec   \n",
       "\n",
       "   OwnerTypeGameVariant  OwnerGameVariant              ISO8601Date    2    3  \\\n",
       "0                     3               NaN  2021-07-01T00:55:13.88Z  NaN  NaN   \n",
       "\n",
       "     4    5    6    7    8    9   10   11  Id  Score  Rank  Id1  Score1  \\\n",
       "0  NaN  NaN  NaN  NaN  NaN  NaN  NaN  NaN   1      1     2    0       2   \n",
       "\n",
       "   Rank1  TeamId  Rank_stats  Result  TotalKills  TotalDeaths  TotalAssists  \\\n",
       "0      1       0           2       3          11            9             6   \n",
       "\n",
       "   PreMatchRatings  PostMatchRatings   Gamertag  Xuid  \n",
       "0              NaN               NaN  Drymander   NaN  "
      ]
     },
     "execution_count": 105,
     "metadata": {},
     "output_type": "execute_result"
    }
   ],
   "source": [
    "df = pd.read_csv('DrymanderHistoryExplode.csv')\n",
    "df.head(1)"
   ]
  },
  {
   "cell_type": "markdown",
   "metadata": {},
   "source": [
    "# Pull All Matches from Player Match History"
   ]
  },
  {
   "cell_type": "code",
   "execution_count": 106,
   "metadata": {
    "ExecuteTime": {
     "end_time": "2021-07-20T22:19:25.369700Z",
     "start_time": "2021-07-20T22:19:16.303657Z"
    }
   },
   "outputs": [],
   "source": [
    "run = False\n",
    "\n",
    "if run == True:\n",
    "    headers = {\n",
    "        # Request headers\n",
    "        'Ocp-Apim-Subscription-Key': api_key,\n",
    "    }\n",
    "\n",
    "    params = urllib.parse.urlencode({\n",
    "    })\n",
    "\n",
    "#     match_list = ['babfb117-9d14-407a-ae45-3647de5a48f9',\n",
    "#                  '951683b7-8135-4937-a1a0-8bacc9c34659',\n",
    "#                  '10010481-1be2-462b-9774-eac5ee152045',\n",
    "#                  'd8964123-992f-4dd9-8555-40b76a98d4e1',\n",
    "#                  'c86a93e7-4842-4443-9b90-875b20e3846e']\n",
    "\n",
    "    match_list = df['MatchId']\n",
    "\n",
    "    match_details = []\n",
    "\n",
    "    i = 0\n",
    "\n",
    "    for match in match_list:\n",
    "        try:\n",
    "            conn = http.client.HTTPSConnection('www.haloapi.com')\n",
    "    #         conn.request(\"GET\", f\"/stats/h5/arena/matches/{match[i]}?%s\" % params, \"{body}\", headers)\n",
    "            conn.request(\"GET\", f\"/stats/h5/arena/matches/{match}?%s\" % params, \"{body}\", headers)\n",
    "            response = conn.getresponse()\n",
    "            data = response.read()\n",
    "            data = json.loads(data)\n",
    "            match_details.append(data)\n",
    "    #         print(data)\n",
    "            conn.close()\n",
    "            i += 1\n",
    "            time.sleep(1.1)\n",
    "\n",
    "            print(f\"Match {match} collected and appended to match_details.\")\n",
    "            print(f\"{i} match collected out of {len(match_list)} :: {(i / len(match_list)) * 100}% complete.\")\n",
    "        except Exception as e:\n",
    "            print(\"error\")\n",
    "\n",
    "#     with open('match_details.pkl', 'wb') as match_details_pickle:\n",
    "#         pickle.dump(match_details, match_details_pickle)\n",
    "        \n",
    "else: \n",
    "    with open('match_details.pkl', 'rb') as match_details:\n",
    "        match_results = pickle.load(match_details)\n",
    "\n",
    "    len(match_results)"
   ]
  },
  {
   "cell_type": "code",
   "execution_count": 107,
   "metadata": {
    "ExecuteTime": {
     "end_time": "2021-07-20T22:19:25.375703Z",
     "start_time": "2021-07-20T22:19:25.370700Z"
    }
   },
   "outputs": [],
   "source": [
    "df_history = df.copy()"
   ]
  },
  {
   "cell_type": "code",
   "execution_count": 108,
   "metadata": {
    "ExecuteTime": {
     "end_time": "2021-07-20T22:19:25.884816Z",
     "start_time": "2021-07-20T22:19:25.377703Z"
    }
   },
   "outputs": [
    {
     "data": {
      "text/html": [
       "<div>\n",
       "<style scoped>\n",
       "    .dataframe tbody tr th:only-of-type {\n",
       "        vertical-align: middle;\n",
       "    }\n",
       "\n",
       "    .dataframe tbody tr th {\n",
       "        vertical-align: top;\n",
       "    }\n",
       "\n",
       "    .dataframe thead th {\n",
       "        text-align: right;\n",
       "    }\n",
       "</style>\n",
       "<table border=\"1\" class=\"dataframe\">\n",
       "  <thead>\n",
       "    <tr style=\"text-align: right;\">\n",
       "      <th></th>\n",
       "      <th>Date</th>\n",
       "      <th>MatchId</th>\n",
       "    </tr>\n",
       "  </thead>\n",
       "  <tbody>\n",
       "    <tr>\n",
       "      <th>0</th>\n",
       "      <td>2021-07-01 00:55:13.880000+00:00</td>\n",
       "      <td>10010481-1be2-462b-9774-eac5ee152045</td>\n",
       "    </tr>\n",
       "    <tr>\n",
       "      <th>1</th>\n",
       "      <td>2021-07-01 00:49:29.519000+00:00</td>\n",
       "      <td>d8964123-992f-4dd9-8555-40b76a98d4e1</td>\n",
       "    </tr>\n",
       "    <tr>\n",
       "      <th>2</th>\n",
       "      <td>2021-07-01 00:40:43.086000+00:00</td>\n",
       "      <td>c86a93e7-4842-4443-9b90-875b20e3846e</td>\n",
       "    </tr>\n",
       "    <tr>\n",
       "      <th>3</th>\n",
       "      <td>2021-07-01 00:32:49.388000+00:00</td>\n",
       "      <td>79379ee7-036c-4c4a-9945-ef6eec06fed8</td>\n",
       "    </tr>\n",
       "    <tr>\n",
       "      <th>4</th>\n",
       "      <td>2021-07-01 00:24:59.974000+00:00</td>\n",
       "      <td>f16ebbe7-3ddd-4ff8-92de-52904c282d26</td>\n",
       "    </tr>\n",
       "    <tr>\n",
       "      <th>...</th>\n",
       "      <td>...</td>\n",
       "      <td>...</td>\n",
       "    </tr>\n",
       "    <tr>\n",
       "      <th>5898</th>\n",
       "      <td>2015-11-22 08:36:43.477000+00:00</td>\n",
       "      <td>3be18e3f-1354-4f6f-9418-63a02ae630ec</td>\n",
       "    </tr>\n",
       "    <tr>\n",
       "      <th>5899</th>\n",
       "      <td>2015-11-18 08:27:19.075000+00:00</td>\n",
       "      <td>0bbc809c-87d8-423f-88a4-ffb9fc782fd6</td>\n",
       "    </tr>\n",
       "    <tr>\n",
       "      <th>5900</th>\n",
       "      <td>2015-11-17 05:29:25.101000+00:00</td>\n",
       "      <td>f165735b-3687-4a8a-890c-d5f3000d9257</td>\n",
       "    </tr>\n",
       "    <tr>\n",
       "      <th>5901</th>\n",
       "      <td>2015-11-17 05:21:33.727000+00:00</td>\n",
       "      <td>994913a5-26ab-41fe-836e-e082188b3253</td>\n",
       "    </tr>\n",
       "    <tr>\n",
       "      <th>5902</th>\n",
       "      <td>2015-11-16 06:53:14.516000+00:00</td>\n",
       "      <td>db10eb2e-77ca-409c-bc43-018eb0c470f3</td>\n",
       "    </tr>\n",
       "  </tbody>\n",
       "</table>\n",
       "<p>5903 rows × 2 columns</p>\n",
       "</div>"
      ],
      "text/plain": [
       "                                 Date                               MatchId\n",
       "0    2021-07-01 00:55:13.880000+00:00  10010481-1be2-462b-9774-eac5ee152045\n",
       "1    2021-07-01 00:49:29.519000+00:00  d8964123-992f-4dd9-8555-40b76a98d4e1\n",
       "2    2021-07-01 00:40:43.086000+00:00  c86a93e7-4842-4443-9b90-875b20e3846e\n",
       "3    2021-07-01 00:32:49.388000+00:00  79379ee7-036c-4c4a-9945-ef6eec06fed8\n",
       "4    2021-07-01 00:24:59.974000+00:00  f16ebbe7-3ddd-4ff8-92de-52904c282d26\n",
       "...                               ...                                   ...\n",
       "5898 2015-11-22 08:36:43.477000+00:00  3be18e3f-1354-4f6f-9418-63a02ae630ec\n",
       "5899 2015-11-18 08:27:19.075000+00:00  0bbc809c-87d8-423f-88a4-ffb9fc782fd6\n",
       "5900 2015-11-17 05:29:25.101000+00:00  f165735b-3687-4a8a-890c-d5f3000d9257\n",
       "5901 2015-11-17 05:21:33.727000+00:00  994913a5-26ab-41fe-836e-e082188b3253\n",
       "5902 2015-11-16 06:53:14.516000+00:00  db10eb2e-77ca-409c-bc43-018eb0c470f3\n",
       "\n",
       "[5903 rows x 2 columns]"
      ]
     },
     "execution_count": 108,
     "metadata": {},
     "output_type": "execute_result"
    }
   ],
   "source": [
    "df = pd.DataFrame()\n",
    "\n",
    "df['Date'] = df_history['ISO8601Date']\n",
    "df['Date'] = df['Date'].apply(pd.to_datetime)\n",
    "df['MatchId'] = df_history['MatchId']\n",
    "df\n"
   ]
  },
  {
   "cell_type": "markdown",
   "metadata": {},
   "source": [
    "# Compile Match Dataframe"
   ]
  },
  {
   "cell_type": "code",
   "execution_count": 109,
   "metadata": {
    "ExecuteTime": {
     "end_time": "2021-07-20T22:19:25.889817Z",
     "start_time": "2021-07-20T22:19:25.885819Z"
    }
   },
   "outputs": [],
   "source": [
    "inner_stats = [\n",
    "            'TeamId',\n",
    "            'Rank',\n",
    "            'DNF',\n",
    "            'AvgLifeTimeOfPlayer',\n",
    "            'PlayerScore',\n",
    "            'GameEndStatus',\n",
    "            'TotalKills',\n",
    "            'TotalHeadshots',\n",
    "            'TotalWeaponDamage',\n",
    "            'TotalShotsFired',\n",
    "            'TotalShotsLanded',\n",
    "            'TotalMeleeKills',\n",
    "            'TotalMeleeDamage',\n",
    "            'TotalAssassinations',\n",
    "            'TotalGroundPoundKills',\n",
    "            'TotalGroundPoundDamage',\n",
    "            'TotalShoulderBashKills',\n",
    "            'TotalShoulderBashDamage',\n",
    "            'TotalGrenadeDamage',\n",
    "            'TotalPowerWeaponKills',\n",
    "            'TotalPowerWeaponDamage',\n",
    "            'TotalPowerWeaponGrabs',\n",
    "            'TotalPowerWeaponPossessionTime',\n",
    "            'TotalDeaths',\n",
    "            'TotalAssists',\n",
    "            'TotalGamesCompleted',\n",
    "            'TotalGamesWon',\n",
    "            'TotalGamesLost',\n",
    "            'TotalGamesTied',\n",
    "            'TotalTimePlayed',\n",
    "            'TotalGrenadeKills',\n",
    "            'TotalSpartanKills',\n",
    "              ]\n",
    "\n",
    "\n",
    "outer_stats = [\n",
    "            'TotalDuration',\n",
    "            'MapVariantId',\n",
    "            'GameVariantId',\n",
    "            'PlaylistId',\n",
    "            'MapVariantId',\n",
    "            'GameBaseVariantId'\n",
    "]"
   ]
  },
  {
   "cell_type": "code",
   "execution_count": 111,
   "metadata": {
    "ExecuteTime": {
     "end_time": "2021-07-20T22:22:05.218490Z",
     "start_time": "2021-07-20T22:20:54.922642Z"
    }
   },
   "outputs": [
    {
     "name": "stderr",
     "output_type": "stream",
     "text": [
      "100%|██████████| 5903/5903 [01:10<00:00, 84.19it/s] \n"
     ]
    }
   ],
   "source": [
    "gamertag = 'Drymander'\n",
    "\n",
    "all_matches_df = pd.DataFrame()\n",
    "\n",
    "match_count = 0\n",
    "for match in tqdm(match_results):\n",
    "    match_dic = {}\n",
    "    i=0\n",
    "    for player in match['PlayerStats']:\n",
    "        if match['PlayerStats'][i]['Player']['Gamertag'] == gamertag:\n",
    "            gamertag_stats = match['PlayerStats'][i]\n",
    "        else:\n",
    "            i += 1\n",
    "    \n",
    "    for stat in inner_stats:\n",
    "        match_dic[stat] = gamertag_stats[stat]\n",
    "    \n",
    "    for stat in outer_stats:\n",
    "        match_dic[stat] = match[stat]\n",
    "    \n",
    "    single_match_df = pd.DataFrame.from_records([match_dic])\n",
    "    all_matches_df = all_matches_df.append(single_match_df, ignore_index=True)\n",
    "        \n",
    "all_matches_df['Date'] = df['Date'].apply(pd.to_datetime)\n",
    "all_matches_df['MatchId'] = df_history['MatchId']\n",
    "all_matches_df.to_csv('all_match_stats.csv')"
   ]
  },
  {
   "cell_type": "markdown",
   "metadata": {},
   "source": [
    "# Data Cleaning "
   ]
  },
  {
   "cell_type": "code",
   "execution_count": 382,
   "metadata": {
    "ExecuteTime": {
     "end_time": "2021-07-21T02:25:29.446662Z",
     "start_time": "2021-07-21T02:25:29.437660Z"
    }
   },
   "outputs": [
    {
     "data": {
      "text/plain": [
       "3    3016\n",
       "1    2477\n",
       "2     239\n",
       "0     171\n",
       "Name: GameEndStatus, dtype: int64"
      ]
     },
     "execution_count": 382,
     "metadata": {},
     "output_type": "execute_result"
    }
   ],
   "source": [
    "df = all_matches_df.copy()\n",
    "df['GameEndStatus'].value_counts()"
   ]
  },
  {
   "cell_type": "code",
   "execution_count": 383,
   "metadata": {
    "ExecuteTime": {
     "end_time": "2021-07-21T02:25:29.618702Z",
     "start_time": "2021-07-21T02:25:29.614700Z"
    }
   },
   "outputs": [
    {
     "data": {
      "text/plain": [
       "Index(['TeamId', 'Rank', 'DNF', 'AvgLifeTimeOfPlayer', 'PlayerScore',\n",
       "       'GameEndStatus', 'TotalKills', 'TotalHeadshots', 'TotalWeaponDamage',\n",
       "       'TotalShotsFired', 'TotalShotsLanded', 'TotalMeleeKills',\n",
       "       'TotalMeleeDamage', 'TotalAssassinations', 'TotalGroundPoundKills',\n",
       "       'TotalGroundPoundDamage', 'TotalShoulderBashKills',\n",
       "       'TotalShoulderBashDamage', 'TotalGrenadeDamage',\n",
       "       'TotalPowerWeaponKills', 'TotalPowerWeaponDamage',\n",
       "       'TotalPowerWeaponGrabs', 'TotalPowerWeaponPossessionTime',\n",
       "       'TotalDeaths', 'TotalAssists', 'TotalGamesCompleted', 'TotalGamesWon',\n",
       "       'TotalGamesLost', 'TotalGamesTied', 'TotalTimePlayed',\n",
       "       'TotalGrenadeKills', 'TotalSpartanKills', 'TotalDuration',\n",
       "       'MapVariantId', 'GameVariantId', 'PlaylistId', 'GameBaseVariantId',\n",
       "       'Date', 'MatchId'],\n",
       "      dtype='object')"
      ]
     },
     "execution_count": 383,
     "metadata": {},
     "output_type": "execute_result"
    }
   ],
   "source": [
    "df.columns"
   ]
  },
  {
   "cell_type": "code",
   "execution_count": 384,
   "metadata": {
    "ExecuteTime": {
     "end_time": "2021-07-21T02:25:29.759733Z",
     "start_time": "2021-07-21T02:25:29.755732Z"
    }
   },
   "outputs": [],
   "source": [
    "df['WinLoseTie'] = df['GameEndStatus'].map({3:'Victory', 2:'Tie', 1:'Defeat', 0:'Did Not Finish'})\n"
   ]
  },
  {
   "cell_type": "code",
   "execution_count": 385,
   "metadata": {
    "ExecuteTime": {
     "end_time": "2021-07-21T02:25:30.368871Z",
     "start_time": "2021-07-21T02:25:29.989784Z"
    }
   },
   "outputs": [
    {
     "data": {
      "text/html": [
       "<div>\n",
       "<style scoped>\n",
       "    .dataframe tbody tr th:only-of-type {\n",
       "        vertical-align: middle;\n",
       "    }\n",
       "\n",
       "    .dataframe tbody tr th {\n",
       "        vertical-align: top;\n",
       "    }\n",
       "\n",
       "    .dataframe thead th {\n",
       "        text-align: right;\n",
       "    }\n",
       "</style>\n",
       "<table border=\"1\" class=\"dataframe\">\n",
       "  <thead>\n",
       "    <tr style=\"text-align: right;\">\n",
       "      <th></th>\n",
       "      <th>AvgLifeTimeOfPlayer</th>\n",
       "      <th>TotalTimePlayed</th>\n",
       "      <th>TotalDuration</th>\n",
       "      <th>TotalPowerWeaponPossessionTime</th>\n",
       "    </tr>\n",
       "  </thead>\n",
       "  <tbody>\n",
       "    <tr>\n",
       "      <th>0</th>\n",
       "      <td>19.010178</td>\n",
       "      <td>4.841203</td>\n",
       "      <td>8.805375</td>\n",
       "      <td>2.410275</td>\n",
       "    </tr>\n",
       "    <tr>\n",
       "      <th>1</th>\n",
       "      <td>27.334877</td>\n",
       "      <td>7.464131</td>\n",
       "      <td>7.464181</td>\n",
       "      <td>5.233610</td>\n",
       "    </tr>\n",
       "    <tr>\n",
       "      <th>2</th>\n",
       "      <td>23.869093</td>\n",
       "      <td>6.585553</td>\n",
       "      <td>6.585570</td>\n",
       "      <td>4.138608</td>\n",
       "    </tr>\n",
       "    <tr>\n",
       "      <th>3</th>\n",
       "      <td>16.470651</td>\n",
       "      <td>6.535180</td>\n",
       "      <td>6.535463</td>\n",
       "      <td>3.523335</td>\n",
       "    </tr>\n",
       "    <tr>\n",
       "      <th>4</th>\n",
       "      <td>13.450686</td>\n",
       "      <td>2.343230</td>\n",
       "      <td>2.343530</td>\n",
       "      <td>1.015558</td>\n",
       "    </tr>\n",
       "    <tr>\n",
       "      <th>...</th>\n",
       "      <td>...</td>\n",
       "      <td>...</td>\n",
       "      <td>...</td>\n",
       "      <td>...</td>\n",
       "    </tr>\n",
       "    <tr>\n",
       "      <th>5898</th>\n",
       "      <td>49.406491</td>\n",
       "      <td>11.647581</td>\n",
       "      <td>11.647714</td>\n",
       "      <td>1.252777</td>\n",
       "    </tr>\n",
       "    <tr>\n",
       "      <th>5899</th>\n",
       "      <td>41.063913</td>\n",
       "      <td>7.525613</td>\n",
       "      <td>7.525796</td>\n",
       "      <td>0.000000</td>\n",
       "    </tr>\n",
       "    <tr>\n",
       "      <th>5900</th>\n",
       "      <td>17.047797</td>\n",
       "      <td>6.205915</td>\n",
       "      <td>6.205915</td>\n",
       "      <td>0.270833</td>\n",
       "    </tr>\n",
       "    <tr>\n",
       "      <th>5901</th>\n",
       "      <td>32.895376</td>\n",
       "      <td>12.513420</td>\n",
       "      <td>12.513587</td>\n",
       "      <td>0.805277</td>\n",
       "    </tr>\n",
       "    <tr>\n",
       "      <th>5902</th>\n",
       "      <td>12.708293</td>\n",
       "      <td>8.999112</td>\n",
       "      <td>8.999273</td>\n",
       "      <td>0.000000</td>\n",
       "    </tr>\n",
       "  </tbody>\n",
       "</table>\n",
       "<p>5903 rows × 4 columns</p>\n",
       "</div>"
      ],
      "text/plain": [
       "      AvgLifeTimeOfPlayer  TotalTimePlayed  TotalDuration  \\\n",
       "0               19.010178         4.841203       8.805375   \n",
       "1               27.334877         7.464131       7.464181   \n",
       "2               23.869093         6.585553       6.585570   \n",
       "3               16.470651         6.535180       6.535463   \n",
       "4               13.450686         2.343230       2.343530   \n",
       "...                   ...              ...            ...   \n",
       "5898            49.406491        11.647581      11.647714   \n",
       "5899            41.063913         7.525613       7.525796   \n",
       "5900            17.047797         6.205915       6.205915   \n",
       "5901            32.895376        12.513420      12.513587   \n",
       "5902            12.708293         8.999112       8.999273   \n",
       "\n",
       "      TotalPowerWeaponPossessionTime  \n",
       "0                           2.410275  \n",
       "1                           5.233610  \n",
       "2                           4.138608  \n",
       "3                           3.523335  \n",
       "4                           1.015558  \n",
       "...                              ...  \n",
       "5898                        1.252777  \n",
       "5899                        0.000000  \n",
       "5900                        0.270833  \n",
       "5901                        0.805277  \n",
       "5902                        0.000000  \n",
       "\n",
       "[5903 rows x 4 columns]"
      ]
     },
     "execution_count": 385,
     "metadata": {},
     "output_type": "execute_result"
    }
   ],
   "source": [
    "time_columns = ['AvgLifeTimeOfPlayer', 'TotalTimePlayed', 'TotalDuration',\n",
    "                'TotalPowerWeaponPossessionTime']\n",
    "\n",
    "def convert_times(df, time_columns):\n",
    "    for column in time_columns:\n",
    "        parsed_times = []\n",
    "        for row in df[column]:\n",
    "            row = isodate.parse_duration(row).total_seconds() / 60\n",
    "        #     print(row)\n",
    "            parsed_times.append(row)\n",
    "        df[column] = parsed_times\n",
    "\n",
    "convert_times(df, time_columns)\n",
    "\n",
    "df['AvgLifeTimeOfPlayer'] = df['AvgLifeTimeOfPlayer'] * 60\n",
    "\n",
    "df[['AvgLifeTimeOfPlayer', 'TotalTimePlayed', 'TotalDuration','TotalPowerWeaponPossessionTime']]"
   ]
  },
  {
   "cell_type": "markdown",
   "metadata": {},
   "source": [
    "## Decode Columns"
   ]
  },
  {
   "cell_type": "code",
   "execution_count": 386,
   "metadata": {
    "ExecuteTime": {
     "end_time": "2021-07-21T02:25:30.373871Z",
     "start_time": "2021-07-21T02:25:30.369870Z"
    }
   },
   "outputs": [],
   "source": [
    "def decode_column(df, column, api_dict):\n",
    "    decoded_list = []\n",
    "\n",
    "    for row in df[column]:\n",
    "        i = 0\n",
    "    #     print(row)\n",
    "        for item in api_dict:\n",
    "            if item['id'] == row:\n",
    "                name = item['name']\n",
    "                decoded_list.append(name)\n",
    "            else:\n",
    "                i += 1\n",
    "\n",
    "#     df[column] = decoded_list\n",
    "    \n",
    "    return decoded_list"
   ]
  },
  {
   "cell_type": "code",
   "execution_count": 387,
   "metadata": {
    "ExecuteTime": {
     "end_time": "2021-07-21T02:25:30.507902Z",
     "start_time": "2021-07-21T02:25:30.503900Z"
    }
   },
   "outputs": [],
   "source": [
    "def decode_maps(df, column, api_dict):\n",
    "    decoded_list = []\n",
    "\n",
    "    for row in df[column]:\n",
    "        i = 0\n",
    "        map_count = len(api_dict)\n",
    "    #     print(row)\n",
    "        for item in api_dict:\n",
    "            if (i+1) == map_count:\n",
    "                name = 'Custom Map'\n",
    "                decoded_list.append(name)\n",
    "            elif item['id'] == row:\n",
    "                name = item['name']\n",
    "                decoded_list.append(name)\n",
    "            else:\n",
    "                i += 1\n",
    "\n",
    "#     df[column] = decoded_list\n",
    "    \n",
    "    return decoded_list\n",
    "# df = pd.read_csv('MODEL_PULL - Copy.csv')\n",
    "# # df = df.reset_index\n",
    "# df = df.drop(['Unnamed: 0'], axis=1)\n",
    "# df['GameBaseVariantId'] = decode_column(df, 'GameBaseVariantId', GameBaseVariantId_dic)\n",
    "# df['PlaylistId'] = decode_column(df, 'PlaylistId', PlaylistId_dic)\n",
    "# df['MapVariantId'] = decode_maps(df, 'MapVariantId', map_list)"
   ]
  },
  {
   "cell_type": "markdown",
   "metadata": {},
   "source": [
    "### GameBaseVariant, PlayListId, MapVariantId"
   ]
  },
  {
   "cell_type": "code",
   "execution_count": 388,
   "metadata": {
    "ExecuteTime": {
     "end_time": "2021-07-21T02:25:31.290078Z",
     "start_time": "2021-07-21T02:25:30.785965Z"
    }
   },
   "outputs": [
    {
     "data": {
      "text/html": [
       "<div>\n",
       "<style scoped>\n",
       "    .dataframe tbody tr th:only-of-type {\n",
       "        vertical-align: middle;\n",
       "    }\n",
       "\n",
       "    .dataframe tbody tr th {\n",
       "        vertical-align: top;\n",
       "    }\n",
       "\n",
       "    .dataframe thead th {\n",
       "        text-align: right;\n",
       "    }\n",
       "</style>\n",
       "<table border=\"1\" class=\"dataframe\">\n",
       "  <thead>\n",
       "    <tr style=\"text-align: right;\">\n",
       "      <th></th>\n",
       "      <th>TeamId</th>\n",
       "      <th>Rank</th>\n",
       "      <th>DNF</th>\n",
       "      <th>AvgLifeTimeOfPlayer</th>\n",
       "      <th>PlayerScore</th>\n",
       "      <th>GameEndStatus</th>\n",
       "      <th>TotalKills</th>\n",
       "      <th>TotalHeadshots</th>\n",
       "      <th>TotalWeaponDamage</th>\n",
       "      <th>TotalShotsFired</th>\n",
       "      <th>TotalShotsLanded</th>\n",
       "      <th>TotalMeleeKills</th>\n",
       "      <th>TotalMeleeDamage</th>\n",
       "      <th>TotalAssassinations</th>\n",
       "      <th>TotalGroundPoundKills</th>\n",
       "      <th>TotalGroundPoundDamage</th>\n",
       "      <th>TotalShoulderBashKills</th>\n",
       "      <th>TotalShoulderBashDamage</th>\n",
       "      <th>TotalGrenadeDamage</th>\n",
       "      <th>TotalPowerWeaponKills</th>\n",
       "      <th>TotalPowerWeaponDamage</th>\n",
       "      <th>TotalPowerWeaponGrabs</th>\n",
       "      <th>TotalPowerWeaponPossessionTime</th>\n",
       "      <th>TotalDeaths</th>\n",
       "      <th>TotalAssists</th>\n",
       "      <th>TotalGamesCompleted</th>\n",
       "      <th>TotalGamesWon</th>\n",
       "      <th>TotalGamesLost</th>\n",
       "      <th>TotalGamesTied</th>\n",
       "      <th>TotalTimePlayed</th>\n",
       "      <th>TotalGrenadeKills</th>\n",
       "      <th>TotalSpartanKills</th>\n",
       "      <th>TotalDuration</th>\n",
       "      <th>MapVariantId</th>\n",
       "      <th>GameVariantId</th>\n",
       "      <th>PlaylistId</th>\n",
       "      <th>GameBaseVariantId</th>\n",
       "      <th>Date</th>\n",
       "      <th>MatchId</th>\n",
       "      <th>WinLoseTie</th>\n",
       "    </tr>\n",
       "  </thead>\n",
       "  <tbody>\n",
       "    <tr>\n",
       "      <th>0</th>\n",
       "      <td>0</td>\n",
       "      <td>2</td>\n",
       "      <td>False</td>\n",
       "      <td>19.010178</td>\n",
       "      <td>0</td>\n",
       "      <td>3</td>\n",
       "      <td>11</td>\n",
       "      <td>1</td>\n",
       "      <td>1333.918901</td>\n",
       "      <td>231</td>\n",
       "      <td>66</td>\n",
       "      <td>1</td>\n",
       "      <td>80.029148</td>\n",
       "      <td>0</td>\n",
       "      <td>0</td>\n",
       "      <td>0.0</td>\n",
       "      <td>0</td>\n",
       "      <td>0.0</td>\n",
       "      <td>90.000000</td>\n",
       "      <td>9</td>\n",
       "      <td>1086.018900</td>\n",
       "      <td>0</td>\n",
       "      <td>2.410275</td>\n",
       "      <td>9</td>\n",
       "      <td>6</td>\n",
       "      <td>0</td>\n",
       "      <td>0</td>\n",
       "      <td>0</td>\n",
       "      <td>0</td>\n",
       "      <td>4.841203</td>\n",
       "      <td>0</td>\n",
       "      <td>11</td>\n",
       "      <td>8.805375</td>\n",
       "      <td>Traverse</td>\n",
       "      <td>f213daf2-94f9-46a4-a4d8-b3f782da0bec</td>\n",
       "      <td>Super Fiesta Party</td>\n",
       "      <td>Capture the Flag</td>\n",
       "      <td>2021-07-01 00:55:13.880000+00:00</td>\n",
       "      <td>10010481-1be2-462b-9774-eac5ee152045</td>\n",
       "      <td>Victory</td>\n",
       "    </tr>\n",
       "    <tr>\n",
       "      <th>1</th>\n",
       "      <td>0</td>\n",
       "      <td>2</td>\n",
       "      <td>False</td>\n",
       "      <td>27.334877</td>\n",
       "      <td>14</td>\n",
       "      <td>3</td>\n",
       "      <td>14</td>\n",
       "      <td>0</td>\n",
       "      <td>1824.901194</td>\n",
       "      <td>259</td>\n",
       "      <td>87</td>\n",
       "      <td>2</td>\n",
       "      <td>198.000015</td>\n",
       "      <td>0</td>\n",
       "      <td>0</td>\n",
       "      <td>0.0</td>\n",
       "      <td>0</td>\n",
       "      <td>0.0</td>\n",
       "      <td>50.744907</td>\n",
       "      <td>11</td>\n",
       "      <td>1635.156286</td>\n",
       "      <td>0</td>\n",
       "      <td>5.233610</td>\n",
       "      <td>12</td>\n",
       "      <td>1</td>\n",
       "      <td>0</td>\n",
       "      <td>0</td>\n",
       "      <td>0</td>\n",
       "      <td>0</td>\n",
       "      <td>7.464131</td>\n",
       "      <td>0</td>\n",
       "      <td>14</td>\n",
       "      <td>7.464181</td>\n",
       "      <td>Vestige</td>\n",
       "      <td>04a4099c-8b96-40a7-a341-668d94a10357</td>\n",
       "      <td>Super Fiesta Party</td>\n",
       "      <td>Slayer</td>\n",
       "      <td>2021-07-01 00:49:29.519000+00:00</td>\n",
       "      <td>d8964123-992f-4dd9-8555-40b76a98d4e1</td>\n",
       "      <td>Victory</td>\n",
       "    </tr>\n",
       "    <tr>\n",
       "      <th>2</th>\n",
       "      <td>1</td>\n",
       "      <td>4</td>\n",
       "      <td>False</td>\n",
       "      <td>23.869093</td>\n",
       "      <td>10</td>\n",
       "      <td>3</td>\n",
       "      <td>10</td>\n",
       "      <td>2</td>\n",
       "      <td>1300.256462</td>\n",
       "      <td>196</td>\n",
       "      <td>47</td>\n",
       "      <td>0</td>\n",
       "      <td>0.000000</td>\n",
       "      <td>0</td>\n",
       "      <td>0</td>\n",
       "      <td>0.0</td>\n",
       "      <td>0</td>\n",
       "      <td>0.0</td>\n",
       "      <td>92.379814</td>\n",
       "      <td>9</td>\n",
       "      <td>1169.076649</td>\n",
       "      <td>0</td>\n",
       "      <td>4.138608</td>\n",
       "      <td>12</td>\n",
       "      <td>3</td>\n",
       "      <td>0</td>\n",
       "      <td>0</td>\n",
       "      <td>0</td>\n",
       "      <td>0</td>\n",
       "      <td>6.585553</td>\n",
       "      <td>1</td>\n",
       "      <td>10</td>\n",
       "      <td>6.585570</td>\n",
       "      <td>Russet</td>\n",
       "      <td>1005b609-aed9-4f19-bc3b-e8f0d29465f0</td>\n",
       "      <td>Super Fiesta Party</td>\n",
       "      <td>Slayer</td>\n",
       "      <td>2021-07-01 00:40:43.086000+00:00</td>\n",
       "      <td>c86a93e7-4842-4443-9b90-875b20e3846e</td>\n",
       "      <td>Victory</td>\n",
       "    </tr>\n",
       "  </tbody>\n",
       "</table>\n",
       "</div>"
      ],
      "text/plain": [
       "   TeamId  Rank    DNF  AvgLifeTimeOfPlayer PlayerScore  GameEndStatus  \\\n",
       "0       0     2  False            19.010178           0              3   \n",
       "1       0     2  False            27.334877          14              3   \n",
       "2       1     4  False            23.869093          10              3   \n",
       "\n",
       "   TotalKills  TotalHeadshots  TotalWeaponDamage  TotalShotsFired  \\\n",
       "0          11               1        1333.918901              231   \n",
       "1          14               0        1824.901194              259   \n",
       "2          10               2        1300.256462              196   \n",
       "\n",
       "   TotalShotsLanded  TotalMeleeKills  TotalMeleeDamage  TotalAssassinations  \\\n",
       "0                66                1         80.029148                    0   \n",
       "1                87                2        198.000015                    0   \n",
       "2                47                0          0.000000                    0   \n",
       "\n",
       "   TotalGroundPoundKills  TotalGroundPoundDamage  TotalShoulderBashKills  \\\n",
       "0                      0                     0.0                       0   \n",
       "1                      0                     0.0                       0   \n",
       "2                      0                     0.0                       0   \n",
       "\n",
       "   TotalShoulderBashDamage  TotalGrenadeDamage  TotalPowerWeaponKills  \\\n",
       "0                      0.0           90.000000                      9   \n",
       "1                      0.0           50.744907                     11   \n",
       "2                      0.0           92.379814                      9   \n",
       "\n",
       "   TotalPowerWeaponDamage  TotalPowerWeaponGrabs  \\\n",
       "0             1086.018900                      0   \n",
       "1             1635.156286                      0   \n",
       "2             1169.076649                      0   \n",
       "\n",
       "   TotalPowerWeaponPossessionTime  TotalDeaths  TotalAssists  \\\n",
       "0                        2.410275            9             6   \n",
       "1                        5.233610           12             1   \n",
       "2                        4.138608           12             3   \n",
       "\n",
       "   TotalGamesCompleted  TotalGamesWon  TotalGamesLost  TotalGamesTied  \\\n",
       "0                    0              0               0               0   \n",
       "1                    0              0               0               0   \n",
       "2                    0              0               0               0   \n",
       "\n",
       "   TotalTimePlayed  TotalGrenadeKills  TotalSpartanKills  TotalDuration  \\\n",
       "0         4.841203                  0                 11       8.805375   \n",
       "1         7.464131                  0                 14       7.464181   \n",
       "2         6.585553                  1                 10       6.585570   \n",
       "\n",
       "  MapVariantId                         GameVariantId          PlaylistId  \\\n",
       "0     Traverse  f213daf2-94f9-46a4-a4d8-b3f782da0bec  Super Fiesta Party   \n",
       "1      Vestige  04a4099c-8b96-40a7-a341-668d94a10357  Super Fiesta Party   \n",
       "2       Russet  1005b609-aed9-4f19-bc3b-e8f0d29465f0  Super Fiesta Party   \n",
       "\n",
       "  GameBaseVariantId                             Date  \\\n",
       "0  Capture the Flag 2021-07-01 00:55:13.880000+00:00   \n",
       "1            Slayer 2021-07-01 00:49:29.519000+00:00   \n",
       "2            Slayer 2021-07-01 00:40:43.086000+00:00   \n",
       "\n",
       "                                MatchId WinLoseTie  \n",
       "0  10010481-1be2-462b-9774-eac5ee152045    Victory  \n",
       "1  d8964123-992f-4dd9-8555-40b76a98d4e1    Victory  \n",
       "2  c86a93e7-4842-4443-9b90-875b20e3846e    Victory  "
      ]
     },
     "execution_count": 388,
     "metadata": {},
     "output_type": "execute_result"
    }
   ],
   "source": [
    "with open('GameBaseVariantId.pkl', 'rb') as GameBaseVariantId_pickle:\n",
    "    GameBaseVariantId_dic = pickle.load(GameBaseVariantId_pickle)\n",
    "    \n",
    "with open('PlaylistId_dic.pkl', 'rb') as PlaylistId_dic_pickle:\n",
    "    PlaylistId_dic = pickle.load(PlaylistId_dic_pickle)\n",
    "    \n",
    "with open('map_list.pkl', 'rb') as map_list_pickle:\n",
    "    map_list = pickle.load(map_list_pickle)\n",
    "    \n",
    "df['GameBaseVariantId'] = decode_column(df, 'GameBaseVariantId', GameBaseVariantId_dic)    \n",
    "\n",
    "df['PlaylistId'] = decode_column(df, 'PlaylistId', PlaylistId_dic)\n",
    "\n",
    "df['MapVariantId'] = decode_maps(df, 'MapVariantId', map_list)\n",
    "\n",
    "df.head(3)"
   ]
  },
  {
   "cell_type": "code",
   "execution_count": 389,
   "metadata": {
    "ExecuteTime": {
     "end_time": "2021-07-21T02:25:31.303080Z",
     "start_time": "2021-07-21T02:25:31.291078Z"
    }
   },
   "outputs": [
    {
     "data": {
      "text/html": [
       "<div>\n",
       "<style scoped>\n",
       "    .dataframe tbody tr th:only-of-type {\n",
       "        vertical-align: middle;\n",
       "    }\n",
       "\n",
       "    .dataframe tbody tr th {\n",
       "        vertical-align: top;\n",
       "    }\n",
       "\n",
       "    .dataframe thead th {\n",
       "        text-align: right;\n",
       "    }\n",
       "</style>\n",
       "<table border=\"1\" class=\"dataframe\">\n",
       "  <thead>\n",
       "    <tr style=\"text-align: right;\">\n",
       "      <th></th>\n",
       "      <th>K/D</th>\n",
       "      <th>Accuracy</th>\n",
       "    </tr>\n",
       "  </thead>\n",
       "  <tbody>\n",
       "    <tr>\n",
       "      <th>0</th>\n",
       "      <td>1.222222</td>\n",
       "      <td>0.285714</td>\n",
       "    </tr>\n",
       "    <tr>\n",
       "      <th>1</th>\n",
       "      <td>1.166667</td>\n",
       "      <td>0.335907</td>\n",
       "    </tr>\n",
       "    <tr>\n",
       "      <th>2</th>\n",
       "      <td>0.833333</td>\n",
       "      <td>0.239796</td>\n",
       "    </tr>\n",
       "    <tr>\n",
       "      <th>3</th>\n",
       "      <td>1.187500</td>\n",
       "      <td>0.348668</td>\n",
       "    </tr>\n",
       "    <tr>\n",
       "      <th>4</th>\n",
       "      <td>0.200000</td>\n",
       "      <td>0.434211</td>\n",
       "    </tr>\n",
       "    <tr>\n",
       "      <th>...</th>\n",
       "      <td>...</td>\n",
       "      <td>...</td>\n",
       "    </tr>\n",
       "    <tr>\n",
       "      <th>5898</th>\n",
       "      <td>0.272727</td>\n",
       "      <td>0.122530</td>\n",
       "    </tr>\n",
       "    <tr>\n",
       "      <th>5899</th>\n",
       "      <td>0.125000</td>\n",
       "      <td>0.243243</td>\n",
       "    </tr>\n",
       "    <tr>\n",
       "      <th>5900</th>\n",
       "      <td>0.384615</td>\n",
       "      <td>0.326316</td>\n",
       "    </tr>\n",
       "    <tr>\n",
       "      <th>5901</th>\n",
       "      <td>0.294118</td>\n",
       "      <td>0.228365</td>\n",
       "    </tr>\n",
       "    <tr>\n",
       "      <th>5902</th>\n",
       "      <td>0.375000</td>\n",
       "      <td>0.212766</td>\n",
       "    </tr>\n",
       "  </tbody>\n",
       "</table>\n",
       "<p>5903 rows × 2 columns</p>\n",
       "</div>"
      ],
      "text/plain": [
       "           K/D  Accuracy\n",
       "0     1.222222  0.285714\n",
       "1     1.166667  0.335907\n",
       "2     0.833333  0.239796\n",
       "3     1.187500  0.348668\n",
       "4     0.200000  0.434211\n",
       "...        ...       ...\n",
       "5898  0.272727  0.122530\n",
       "5899  0.125000  0.243243\n",
       "5900  0.384615  0.326316\n",
       "5901  0.294118  0.228365\n",
       "5902  0.375000  0.212766\n",
       "\n",
       "[5903 rows x 2 columns]"
      ]
     },
     "execution_count": 389,
     "metadata": {},
     "output_type": "execute_result"
    }
   ],
   "source": [
    "df['K/D'] = df['TotalKills'] / df['TotalDeaths']\n",
    "df['Accuracy'] = df['TotalShotsLanded'] / df['TotalShotsFired']\n",
    "\n",
    "df[['K/D', 'Accuracy']]"
   ]
  },
  {
   "cell_type": "code",
   "execution_count": 390,
   "metadata": {
    "ExecuteTime": {
     "end_time": "2021-07-21T02:25:31.312083Z",
     "start_time": "2021-07-21T02:25:31.304080Z"
    }
   },
   "outputs": [
    {
     "data": {
      "text/plain": [
       "Index(['TeamId', 'Rank', 'DNF', 'AvgLifeTimeOfPlayer', 'PlayerScore',\n",
       "       'GameEndStatus', 'TotalKills', 'TotalHeadshots', 'TotalWeaponDamage',\n",
       "       'TotalShotsFired', 'TotalShotsLanded', 'TotalMeleeKills',\n",
       "       'TotalMeleeDamage', 'TotalAssassinations', 'TotalGroundPoundKills',\n",
       "       'TotalGroundPoundDamage', 'TotalShoulderBashKills',\n",
       "       'TotalShoulderBashDamage', 'TotalGrenadeDamage',\n",
       "       'TotalPowerWeaponKills', 'TotalPowerWeaponDamage',\n",
       "       'TotalPowerWeaponGrabs', 'TotalPowerWeaponPossessionTime',\n",
       "       'TotalDeaths', 'TotalAssists', 'TotalGamesCompleted', 'TotalGamesWon',\n",
       "       'TotalGamesLost', 'TotalGamesTied', 'TotalTimePlayed',\n",
       "       'TotalGrenadeKills', 'TotalSpartanKills', 'TotalDuration',\n",
       "       'MapVariantId', 'GameVariantId', 'PlaylistId', 'GameBaseVariantId',\n",
       "       'Date', 'MatchId', 'WinLoseTie', 'K/D', 'Accuracy'],\n",
       "      dtype='object')"
      ]
     },
     "execution_count": 390,
     "metadata": {},
     "output_type": "execute_result"
    }
   ],
   "source": [
    "df.columns"
   ]
  },
  {
   "cell_type": "code",
   "execution_count": 391,
   "metadata": {
    "ExecuteTime": {
     "end_time": "2021-07-21T02:25:31.337089Z",
     "start_time": "2021-07-21T02:25:31.313083Z"
    }
   },
   "outputs": [
    {
     "data": {
      "text/html": [
       "<div>\n",
       "<style scoped>\n",
       "    .dataframe tbody tr th:only-of-type {\n",
       "        vertical-align: middle;\n",
       "    }\n",
       "\n",
       "    .dataframe tbody tr th {\n",
       "        vertical-align: top;\n",
       "    }\n",
       "\n",
       "    .dataframe thead th {\n",
       "        text-align: right;\n",
       "    }\n",
       "</style>\n",
       "<table border=\"1\" class=\"dataframe\">\n",
       "  <thead>\n",
       "    <tr style=\"text-align: right;\">\n",
       "      <th></th>\n",
       "      <th>Date</th>\n",
       "      <th>DNF</th>\n",
       "      <th>GameBaseVariantId</th>\n",
       "      <th>PlaylistId</th>\n",
       "      <th>MapVariantId</th>\n",
       "      <th>WinLoseTie</th>\n",
       "      <th>TotalKills</th>\n",
       "      <th>TotalDeaths</th>\n",
       "      <th>K/D</th>\n",
       "      <th>Accuracy</th>\n",
       "      <th>TotalHeadshots</th>\n",
       "      <th>TotalWeaponDamage</th>\n",
       "      <th>TotalGrenadeKills</th>\n",
       "      <th>TotalGrenadeDamage</th>\n",
       "      <th>AvgLifeTimeOfPlayer</th>\n",
       "      <th>TotalTimePlayed</th>\n",
       "      <th>TotalDuration</th>\n",
       "      <th>MatchId</th>\n",
       "    </tr>\n",
       "  </thead>\n",
       "  <tbody>\n",
       "    <tr>\n",
       "      <th>0</th>\n",
       "      <td>2021-07-01 00:55:13.880000+00:00</td>\n",
       "      <td>False</td>\n",
       "      <td>Capture the Flag</td>\n",
       "      <td>Super Fiesta Party</td>\n",
       "      <td>Traverse</td>\n",
       "      <td>Victory</td>\n",
       "      <td>11</td>\n",
       "      <td>9</td>\n",
       "      <td>1.222222</td>\n",
       "      <td>0.285714</td>\n",
       "      <td>1</td>\n",
       "      <td>1333.918901</td>\n",
       "      <td>0</td>\n",
       "      <td>90.000000</td>\n",
       "      <td>19.010178</td>\n",
       "      <td>4.841203</td>\n",
       "      <td>8.805375</td>\n",
       "      <td>10010481-1be2-462b-9774-eac5ee152045</td>\n",
       "    </tr>\n",
       "    <tr>\n",
       "      <th>1</th>\n",
       "      <td>2021-07-01 00:49:29.519000+00:00</td>\n",
       "      <td>False</td>\n",
       "      <td>Slayer</td>\n",
       "      <td>Super Fiesta Party</td>\n",
       "      <td>Vestige</td>\n",
       "      <td>Victory</td>\n",
       "      <td>14</td>\n",
       "      <td>12</td>\n",
       "      <td>1.166667</td>\n",
       "      <td>0.335907</td>\n",
       "      <td>0</td>\n",
       "      <td>1824.901194</td>\n",
       "      <td>0</td>\n",
       "      <td>50.744907</td>\n",
       "      <td>27.334877</td>\n",
       "      <td>7.464131</td>\n",
       "      <td>7.464181</td>\n",
       "      <td>d8964123-992f-4dd9-8555-40b76a98d4e1</td>\n",
       "    </tr>\n",
       "  </tbody>\n",
       "</table>\n",
       "</div>"
      ],
      "text/plain": [
       "                              Date    DNF GameBaseVariantId  \\\n",
       "0 2021-07-01 00:55:13.880000+00:00  False  Capture the Flag   \n",
       "1 2021-07-01 00:49:29.519000+00:00  False            Slayer   \n",
       "\n",
       "           PlaylistId MapVariantId WinLoseTie  TotalKills  TotalDeaths  \\\n",
       "0  Super Fiesta Party     Traverse    Victory          11            9   \n",
       "1  Super Fiesta Party      Vestige    Victory          14           12   \n",
       "\n",
       "        K/D  Accuracy  TotalHeadshots  TotalWeaponDamage  TotalGrenadeKills  \\\n",
       "0  1.222222  0.285714               1        1333.918901                  0   \n",
       "1  1.166667  0.335907               0        1824.901194                  0   \n",
       "\n",
       "   TotalGrenadeDamage  AvgLifeTimeOfPlayer  TotalTimePlayed  TotalDuration  \\\n",
       "0           90.000000            19.010178         4.841203       8.805375   \n",
       "1           50.744907            27.334877         7.464131       7.464181   \n",
       "\n",
       "                                MatchId  \n",
       "0  10010481-1be2-462b-9774-eac5ee152045  \n",
       "1  d8964123-992f-4dd9-8555-40b76a98d4e1  "
      ]
     },
     "execution_count": 391,
     "metadata": {},
     "output_type": "execute_result"
    }
   ],
   "source": [
    "df_columns = ['Date',\n",
    "            'DNF',\n",
    "            'GameBaseVariantId',\n",
    "            'PlaylistId',\n",
    "            'MapVariantId',\n",
    "            'WinLoseTie',\n",
    "            'TotalKills',\n",
    "            'TotalDeaths',\n",
    "            'K/D',\n",
    "            'Accuracy',\n",
    "            'TotalHeadshots',\n",
    "            'TotalWeaponDamage',\n",
    "            'TotalGrenadeKills',\n",
    "            'TotalGrenadeDamage',\n",
    "            'AvgLifeTimeOfPlayer',\n",
    "            'TotalTimePlayed',\n",
    "            'TotalDuration',\n",
    "            'MatchId',\n",
    "             ]\n",
    "\n",
    "df = df[df_columns]\n",
    "\n",
    "df.head(2)"
   ]
  },
  {
   "cell_type": "code",
   "execution_count": 392,
   "metadata": {
    "ExecuteTime": {
     "end_time": "2021-07-21T02:25:31.523131Z",
     "start_time": "2021-07-21T02:25:31.517129Z"
    }
   },
   "outputs": [
    {
     "data": {
      "text/plain": [
       "0      2021-07-01 00:55:13.880000+00:00\n",
       "1      2021-07-01 00:49:29.519000+00:00\n",
       "2      2021-07-01 00:40:43.086000+00:00\n",
       "3      2021-07-01 00:32:49.388000+00:00\n",
       "4      2021-07-01 00:24:59.974000+00:00\n",
       "                     ...               \n",
       "5898   2015-11-22 08:36:43.477000+00:00\n",
       "5899   2015-11-18 08:27:19.075000+00:00\n",
       "5900   2015-11-17 05:29:25.101000+00:00\n",
       "5901   2015-11-17 05:21:33.727000+00:00\n",
       "5902   2015-11-16 06:53:14.516000+00:00\n",
       "Name: Date, Length: 5903, dtype: datetime64[ns, UTC]"
      ]
     },
     "execution_count": 392,
     "metadata": {},
     "output_type": "execute_result"
    }
   ],
   "source": [
    "# df['Date'] = pd.to_datetime(df['Date']).dt.date\n",
    "\n",
    "df['Date']"
   ]
  },
  {
   "cell_type": "markdown",
   "metadata": {},
   "source": [
    "## Removing Unnecessary Rows"
   ]
  },
  {
   "cell_type": "code",
   "execution_count": 393,
   "metadata": {
    "ExecuteTime": {
     "end_time": "2021-07-21T02:25:33.036384Z",
     "start_time": "2021-07-21T02:25:33.006385Z"
    }
   },
   "outputs": [
    {
     "data": {
      "text/html": [
       "<div>\n",
       "<style scoped>\n",
       "    .dataframe tbody tr th:only-of-type {\n",
       "        vertical-align: middle;\n",
       "    }\n",
       "\n",
       "    .dataframe tbody tr th {\n",
       "        vertical-align: top;\n",
       "    }\n",
       "\n",
       "    .dataframe thead th {\n",
       "        text-align: right;\n",
       "    }\n",
       "</style>\n",
       "<table border=\"1\" class=\"dataframe\">\n",
       "  <thead>\n",
       "    <tr style=\"text-align: right;\">\n",
       "      <th></th>\n",
       "      <th>Date</th>\n",
       "      <th>DNF</th>\n",
       "      <th>GameBaseVariantId</th>\n",
       "      <th>PlaylistId</th>\n",
       "      <th>MapVariantId</th>\n",
       "      <th>WinLoseTie</th>\n",
       "      <th>TotalKills</th>\n",
       "      <th>TotalDeaths</th>\n",
       "      <th>K/D</th>\n",
       "      <th>Accuracy</th>\n",
       "      <th>TotalHeadshots</th>\n",
       "      <th>TotalWeaponDamage</th>\n",
       "      <th>TotalGrenadeKills</th>\n",
       "      <th>TotalGrenadeDamage</th>\n",
       "      <th>AvgLifeTimeOfPlayer</th>\n",
       "      <th>TotalTimePlayed</th>\n",
       "      <th>TotalDuration</th>\n",
       "      <th>MatchId</th>\n",
       "    </tr>\n",
       "  </thead>\n",
       "  <tbody>\n",
       "    <tr>\n",
       "      <th>0</th>\n",
       "      <td>2021-07-01 00:55:13.880000+00:00</td>\n",
       "      <td>False</td>\n",
       "      <td>Capture the Flag</td>\n",
       "      <td>Super Fiesta Party</td>\n",
       "      <td>Traverse</td>\n",
       "      <td>Victory</td>\n",
       "      <td>11</td>\n",
       "      <td>9</td>\n",
       "      <td>1.222222</td>\n",
       "      <td>0.285714</td>\n",
       "      <td>1</td>\n",
       "      <td>1333.918901</td>\n",
       "      <td>0</td>\n",
       "      <td>90.000000</td>\n",
       "      <td>19.010178</td>\n",
       "      <td>4.841203</td>\n",
       "      <td>8.805375</td>\n",
       "      <td>10010481-1be2-462b-9774-eac5ee152045</td>\n",
       "    </tr>\n",
       "    <tr>\n",
       "      <th>1</th>\n",
       "      <td>2021-07-01 00:49:29.519000+00:00</td>\n",
       "      <td>False</td>\n",
       "      <td>Slayer</td>\n",
       "      <td>Super Fiesta Party</td>\n",
       "      <td>Vestige</td>\n",
       "      <td>Victory</td>\n",
       "      <td>14</td>\n",
       "      <td>12</td>\n",
       "      <td>1.166667</td>\n",
       "      <td>0.335907</td>\n",
       "      <td>0</td>\n",
       "      <td>1824.901194</td>\n",
       "      <td>0</td>\n",
       "      <td>50.744907</td>\n",
       "      <td>27.334877</td>\n",
       "      <td>7.464131</td>\n",
       "      <td>7.464181</td>\n",
       "      <td>d8964123-992f-4dd9-8555-40b76a98d4e1</td>\n",
       "    </tr>\n",
       "    <tr>\n",
       "      <th>2</th>\n",
       "      <td>2021-07-01 00:40:43.086000+00:00</td>\n",
       "      <td>False</td>\n",
       "      <td>Slayer</td>\n",
       "      <td>Super Fiesta Party</td>\n",
       "      <td>Russet</td>\n",
       "      <td>Victory</td>\n",
       "      <td>10</td>\n",
       "      <td>12</td>\n",
       "      <td>0.833333</td>\n",
       "      <td>0.239796</td>\n",
       "      <td>2</td>\n",
       "      <td>1300.256462</td>\n",
       "      <td>1</td>\n",
       "      <td>92.379814</td>\n",
       "      <td>23.869093</td>\n",
       "      <td>6.585553</td>\n",
       "      <td>6.585570</td>\n",
       "      <td>c86a93e7-4842-4443-9b90-875b20e3846e</td>\n",
       "    </tr>\n",
       "    <tr>\n",
       "      <th>3</th>\n",
       "      <td>2021-07-01 00:32:49.388000+00:00</td>\n",
       "      <td>False</td>\n",
       "      <td>Capture the Flag</td>\n",
       "      <td>Super Fiesta Party</td>\n",
       "      <td>Hallows</td>\n",
       "      <td>Defeat</td>\n",
       "      <td>19</td>\n",
       "      <td>16</td>\n",
       "      <td>1.187500</td>\n",
       "      <td>0.348668</td>\n",
       "      <td>2</td>\n",
       "      <td>2192.251291</td>\n",
       "      <td>0</td>\n",
       "      <td>0.000000</td>\n",
       "      <td>16.470651</td>\n",
       "      <td>6.535180</td>\n",
       "      <td>6.535463</td>\n",
       "      <td>79379ee7-036c-4c4a-9945-ef6eec06fed8</td>\n",
       "    </tr>\n",
       "    <tr>\n",
       "      <th>4</th>\n",
       "      <td>2021-07-01 00:24:59.974000+00:00</td>\n",
       "      <td>False</td>\n",
       "      <td>Capture the Flag</td>\n",
       "      <td>Super Fiesta Party</td>\n",
       "      <td>Stasis</td>\n",
       "      <td>Defeat</td>\n",
       "      <td>1</td>\n",
       "      <td>5</td>\n",
       "      <td>0.200000</td>\n",
       "      <td>0.434211</td>\n",
       "      <td>0</td>\n",
       "      <td>159.559951</td>\n",
       "      <td>0</td>\n",
       "      <td>0.000000</td>\n",
       "      <td>13.450686</td>\n",
       "      <td>2.343230</td>\n",
       "      <td>2.343530</td>\n",
       "      <td>f16ebbe7-3ddd-4ff8-92de-52904c282d26</td>\n",
       "    </tr>\n",
       "    <tr>\n",
       "      <th>...</th>\n",
       "      <td>...</td>\n",
       "      <td>...</td>\n",
       "      <td>...</td>\n",
       "      <td>...</td>\n",
       "      <td>...</td>\n",
       "      <td>...</td>\n",
       "      <td>...</td>\n",
       "      <td>...</td>\n",
       "      <td>...</td>\n",
       "      <td>...</td>\n",
       "      <td>...</td>\n",
       "      <td>...</td>\n",
       "      <td>...</td>\n",
       "      <td>...</td>\n",
       "      <td>...</td>\n",
       "      <td>...</td>\n",
       "      <td>...</td>\n",
       "      <td>...</td>\n",
       "    </tr>\n",
       "    <tr>\n",
       "      <th>5801</th>\n",
       "      <td>2020-05-07 22:56:15.016000+00:00</td>\n",
       "      <td>False</td>\n",
       "      <td>Capture the Flag</td>\n",
       "      <td>Super Fiesta Party</td>\n",
       "      <td>Harmony</td>\n",
       "      <td>Defeat</td>\n",
       "      <td>12</td>\n",
       "      <td>12</td>\n",
       "      <td>1.000000</td>\n",
       "      <td>0.203390</td>\n",
       "      <td>0</td>\n",
       "      <td>1584.524985</td>\n",
       "      <td>0</td>\n",
       "      <td>2.000000</td>\n",
       "      <td>14.324998</td>\n",
       "      <td>4.592829</td>\n",
       "      <td>4.593179</td>\n",
       "      <td>0970fe69-d03b-4dd5-a560-b5aa8fe1b620</td>\n",
       "    </tr>\n",
       "    <tr>\n",
       "      <th>5802</th>\n",
       "      <td>2020-05-07 22:50:13.795000+00:00</td>\n",
       "      <td>False</td>\n",
       "      <td>Capture the Flag</td>\n",
       "      <td>Super Fiesta Party</td>\n",
       "      <td>Solstace Vista</td>\n",
       "      <td>Defeat</td>\n",
       "      <td>13</td>\n",
       "      <td>13</td>\n",
       "      <td>1.000000</td>\n",
       "      <td>0.311029</td>\n",
       "      <td>2</td>\n",
       "      <td>1692.656492</td>\n",
       "      <td>0</td>\n",
       "      <td>0.000000</td>\n",
       "      <td>22.917729</td>\n",
       "      <td>6.459930</td>\n",
       "      <td>6.460313</td>\n",
       "      <td>3783ddbd-f4c7-49fd-9ace-47d423c06855</td>\n",
       "    </tr>\n",
       "    <tr>\n",
       "      <th>5803</th>\n",
       "      <td>2020-05-07 22:42:22.679000+00:00</td>\n",
       "      <td>False</td>\n",
       "      <td>Capture the Flag</td>\n",
       "      <td>Super Fiesta Party</td>\n",
       "      <td>Hallows</td>\n",
       "      <td>Defeat</td>\n",
       "      <td>13</td>\n",
       "      <td>11</td>\n",
       "      <td>1.181818</td>\n",
       "      <td>0.239899</td>\n",
       "      <td>2</td>\n",
       "      <td>1651.552870</td>\n",
       "      <td>0</td>\n",
       "      <td>94.518219</td>\n",
       "      <td>25.433479</td>\n",
       "      <td>6.557504</td>\n",
       "      <td>6.557821</td>\n",
       "      <td>2c0d253e-f603-42ac-bc81-639626a9243e</td>\n",
       "    </tr>\n",
       "    <tr>\n",
       "      <th>5804</th>\n",
       "      <td>2020-05-07 00:15:37.078000+00:00</td>\n",
       "      <td>False</td>\n",
       "      <td>Slayer</td>\n",
       "      <td>Super Fiesta Party</td>\n",
       "      <td>Echelon</td>\n",
       "      <td>Defeat</td>\n",
       "      <td>8</td>\n",
       "      <td>14</td>\n",
       "      <td>0.571429</td>\n",
       "      <td>0.445312</td>\n",
       "      <td>1</td>\n",
       "      <td>1184.353231</td>\n",
       "      <td>0</td>\n",
       "      <td>0.000000</td>\n",
       "      <td>26.823743</td>\n",
       "      <td>8.036824</td>\n",
       "      <td>8.036874</td>\n",
       "      <td>69009b2d-5543-4f5d-94a0-90492e76df55</td>\n",
       "    </tr>\n",
       "    <tr>\n",
       "      <th>5805</th>\n",
       "      <td>2020-05-07 00:05:58.354000+00:00</td>\n",
       "      <td>False</td>\n",
       "      <td>Capture the Flag</td>\n",
       "      <td>Super Fiesta Party</td>\n",
       "      <td>Stand Clear</td>\n",
       "      <td>Defeat</td>\n",
       "      <td>3</td>\n",
       "      <td>8</td>\n",
       "      <td>0.375000</td>\n",
       "      <td>0.240310</td>\n",
       "      <td>0</td>\n",
       "      <td>375.577906</td>\n",
       "      <td>0</td>\n",
       "      <td>0.000000</td>\n",
       "      <td>18.682870</td>\n",
       "      <td>4.014960</td>\n",
       "      <td>4.015310</td>\n",
       "      <td>e26ebb4b-540e-434d-ba97-c51a652e17ce</td>\n",
       "    </tr>\n",
       "  </tbody>\n",
       "</table>\n",
       "<p>4782 rows × 18 columns</p>\n",
       "</div>"
      ],
      "text/plain": [
       "                                 Date    DNF GameBaseVariantId  \\\n",
       "0    2021-07-01 00:55:13.880000+00:00  False  Capture the Flag   \n",
       "1    2021-07-01 00:49:29.519000+00:00  False            Slayer   \n",
       "2    2021-07-01 00:40:43.086000+00:00  False            Slayer   \n",
       "3    2021-07-01 00:32:49.388000+00:00  False  Capture the Flag   \n",
       "4    2021-07-01 00:24:59.974000+00:00  False  Capture the Flag   \n",
       "...                               ...    ...               ...   \n",
       "5801 2020-05-07 22:56:15.016000+00:00  False  Capture the Flag   \n",
       "5802 2020-05-07 22:50:13.795000+00:00  False  Capture the Flag   \n",
       "5803 2020-05-07 22:42:22.679000+00:00  False  Capture the Flag   \n",
       "5804 2020-05-07 00:15:37.078000+00:00  False            Slayer   \n",
       "5805 2020-05-07 00:05:58.354000+00:00  False  Capture the Flag   \n",
       "\n",
       "              PlaylistId    MapVariantId WinLoseTie  TotalKills  TotalDeaths  \\\n",
       "0     Super Fiesta Party        Traverse    Victory          11            9   \n",
       "1     Super Fiesta Party         Vestige    Victory          14           12   \n",
       "2     Super Fiesta Party          Russet    Victory          10           12   \n",
       "3     Super Fiesta Party         Hallows     Defeat          19           16   \n",
       "4     Super Fiesta Party          Stasis     Defeat           1            5   \n",
       "...                  ...             ...        ...         ...          ...   \n",
       "5801  Super Fiesta Party         Harmony     Defeat          12           12   \n",
       "5802  Super Fiesta Party  Solstace Vista     Defeat          13           13   \n",
       "5803  Super Fiesta Party         Hallows     Defeat          13           11   \n",
       "5804  Super Fiesta Party         Echelon     Defeat           8           14   \n",
       "5805  Super Fiesta Party     Stand Clear     Defeat           3            8   \n",
       "\n",
       "           K/D  Accuracy  TotalHeadshots  TotalWeaponDamage  \\\n",
       "0     1.222222  0.285714               1        1333.918901   \n",
       "1     1.166667  0.335907               0        1824.901194   \n",
       "2     0.833333  0.239796               2        1300.256462   \n",
       "3     1.187500  0.348668               2        2192.251291   \n",
       "4     0.200000  0.434211               0         159.559951   \n",
       "...        ...       ...             ...                ...   \n",
       "5801  1.000000  0.203390               0        1584.524985   \n",
       "5802  1.000000  0.311029               2        1692.656492   \n",
       "5803  1.181818  0.239899               2        1651.552870   \n",
       "5804  0.571429  0.445312               1        1184.353231   \n",
       "5805  0.375000  0.240310               0         375.577906   \n",
       "\n",
       "      TotalGrenadeKills  TotalGrenadeDamage  AvgLifeTimeOfPlayer  \\\n",
       "0                     0           90.000000            19.010178   \n",
       "1                     0           50.744907            27.334877   \n",
       "2                     1           92.379814            23.869093   \n",
       "3                     0            0.000000            16.470651   \n",
       "4                     0            0.000000            13.450686   \n",
       "...                 ...                 ...                  ...   \n",
       "5801                  0            2.000000            14.324998   \n",
       "5802                  0            0.000000            22.917729   \n",
       "5803                  0           94.518219            25.433479   \n",
       "5804                  0            0.000000            26.823743   \n",
       "5805                  0            0.000000            18.682870   \n",
       "\n",
       "      TotalTimePlayed  TotalDuration                               MatchId  \n",
       "0            4.841203       8.805375  10010481-1be2-462b-9774-eac5ee152045  \n",
       "1            7.464131       7.464181  d8964123-992f-4dd9-8555-40b76a98d4e1  \n",
       "2            6.585553       6.585570  c86a93e7-4842-4443-9b90-875b20e3846e  \n",
       "3            6.535180       6.535463  79379ee7-036c-4c4a-9945-ef6eec06fed8  \n",
       "4            2.343230       2.343530  f16ebbe7-3ddd-4ff8-92de-52904c282d26  \n",
       "...               ...            ...                                   ...  \n",
       "5801         4.592829       4.593179  0970fe69-d03b-4dd5-a560-b5aa8fe1b620  \n",
       "5802         6.459930       6.460313  3783ddbd-f4c7-49fd-9ace-47d423c06855  \n",
       "5803         6.557504       6.557821  2c0d253e-f603-42ac-bc81-639626a9243e  \n",
       "5804         8.036824       8.036874  69009b2d-5543-4f5d-94a0-90492e76df55  \n",
       "5805         4.014960       4.015310  e26ebb4b-540e-434d-ba97-c51a652e17ce  \n",
       "\n",
       "[4782 rows x 18 columns]"
      ]
     },
     "execution_count": 393,
     "metadata": {},
     "output_type": "execute_result"
    }
   ],
   "source": [
    "df = df.loc[df['DNF'] == False]\n",
    "df = df.loc[df['PlaylistId'] == 'Super Fiesta Party']\n",
    "df"
   ]
  },
  {
   "cell_type": "markdown",
   "metadata": {},
   "source": [
    "# Visualizations"
   ]
  },
  {
   "cell_type": "markdown",
   "metadata": {},
   "source": [
    "## Win / Loss / Tie by Month"
   ]
  },
  {
   "cell_type": "code",
   "execution_count": 408,
   "metadata": {
    "ExecuteTime": {
     "end_time": "2021-07-21T02:29:37.177891Z",
     "start_time": "2021-07-21T02:29:37.163896Z"
    }
   },
   "outputs": [],
   "source": [
    "# df['Date'] = df['Date'].astype(\"Datetime64\")\n",
    "\n",
    "df['Month'] = pd.to_datetime(df['Date']).dt.to_period('M')\n",
    "df['Day'] = pd.to_datetime(df['Date']).dt.to_period('D')\n",
    "# df.groupby(by=['month', 'year'])"
   ]
  },
  {
   "cell_type": "code",
   "execution_count": 409,
   "metadata": {
    "ExecuteTime": {
     "end_time": "2021-07-21T02:29:40.880657Z",
     "start_time": "2021-07-21T02:29:40.875664Z"
    }
   },
   "outputs": [
    {
     "data": {
      "text/plain": [
       "0       2021-07-01\n",
       "1       2021-07-01\n",
       "2       2021-07-01\n",
       "3       2021-07-01\n",
       "4       2021-07-01\n",
       "           ...    \n",
       "5801    2020-05-07\n",
       "5802    2020-05-07\n",
       "5803    2020-05-07\n",
       "5804    2020-05-07\n",
       "5805    2020-05-07\n",
       "Name: Day, Length: 4782, dtype: period[D]"
      ]
     },
     "execution_count": 409,
     "metadata": {},
     "output_type": "execute_result"
    }
   ],
   "source": [
    "df['Day']"
   ]
  },
  {
   "cell_type": "markdown",
   "metadata": {},
   "source": []
  },
  {
   "cell_type": "code",
   "execution_count": 399,
   "metadata": {
    "ExecuteTime": {
     "end_time": "2021-07-21T02:26:34.165961Z",
     "start_time": "2021-07-21T02:26:33.716867Z"
    }
   },
   "outputs": [
    {
     "data": {
      "text/plain": [
       "[Text(0, 0, 'May, 2020'),\n",
       " Text(1, 0, 'June, 2020'),\n",
       " Text(2, 0, 'July, 2020'),\n",
       " Text(3, 0, 'August, 2020'),\n",
       " Text(4, 0, 'September, 2020'),\n",
       " Text(5, 0, 'October, 2020'),\n",
       " Text(6, 0, 'November, 2020'),\n",
       " Text(7, 0, 'December, 2020'),\n",
       " Text(8, 0, 'January, 2021'),\n",
       " Text(9, 0, 'February, 2021'),\n",
       " Text(10, 0, 'March, 2021'),\n",
       " Text(11, 0, 'April, 2021'),\n",
       " Text(12, 0, 'May, 2021'),\n",
       " Text(13, 0, 'June, 2021'),\n",
       " Text(14, 0, 'July, 2021')]"
      ]
     },
     "execution_count": 399,
     "metadata": {},
     "output_type": "execute_result"
    },
    {
     "data": {
      "image/png": "[encoded data removed]",
      "text/plain": [
       "<Figure size 1152x648 with 1 Axes>"
      ]
     },
     "metadata": {},
     "output_type": "display_data"
    }
   ],
   "source": [
    "sns.set(rc={'axes.facecolor':'white'})\n",
    "sns.set_style(\"darkgrid\")\n",
    "sns.set_context('talk')\n",
    "df['Month'] = df['Month'].dt.strftime('%B, %Y')\n",
    "# '%B %d, %Y, \n",
    "f, ax = plt.subplots(figsize=(16, 9))\n",
    "\n",
    "ax = sns.countplot(x=\"Month\", \n",
    "                   data=df.sort_values(by=['Date'], ascending=True), hue='WinLoseTie',\n",
    "                  hue_order=['Victory','Defeat','Tie'])\n",
    "\n",
    "# ax.set_xticklabels(rotation=65, horizontalalignment='right')\n",
    "ax.set_xticklabels(ax.get_xticklabels(),rotation=45, horizontalalignment='right')"
   ]
  },
  {
   "cell_type": "markdown",
   "metadata": {
    "ExecuteTime": {
     "end_time": "2021-07-21T01:06:51.476014Z",
     "start_time": "2021-07-21T01:06:51.443015Z"
    }
   },
   "source": [
    "# Win Rate by Map"
   ]
  },
  {
   "cell_type": "code",
   "execution_count": 400,
   "metadata": {
    "ExecuteTime": {
     "end_time": "2021-07-21T02:26:39.403571Z",
     "start_time": "2021-07-21T02:26:39.397570Z"
    }
   },
   "outputs": [],
   "source": [
    "df['Win'] = df['WinLoseTie'].map({'Victory':1})\n",
    "df['Lose'] = df['WinLoseTie'].map({'Defeat':1})\n",
    "\n",
    "# df_groupby = df.groupby( [\"Month\"] ).sum()\n",
    "# df_groupby\n",
    "# win = df_groupby['Win']\n",
    "# lose = df_groupby['Lose']\n",
    "# ax = sns.countplot(x=\"Month\", data=df_groupby)\n",
    "# sns.catplot(x = 'investors', y='value', \n",
    "#             hue = 'investments',data=dfs1, \n",
    "#             kind='bar')"
   ]
  },
  {
   "cell_type": "code",
   "execution_count": 401,
   "metadata": {
    "ExecuteTime": {
     "end_time": "2021-07-21T02:26:39.664630Z",
     "start_time": "2021-07-21T02:26:39.656629Z"
    }
   },
   "outputs": [],
   "source": [
    "def choose_gametype(df, GameBaseVariantId, PlaylistId):\n",
    "    if GameBaseVariantId == None and PlaylistId == None:\n",
    "        gametype_df = df\n",
    "    elif GameBaseVariantId == None:\n",
    "        gametype_df = df[df['PlaylistId'] == PlaylistId]\n",
    "    elif PlaylistId == None:\n",
    "        gametype_df = df[df['GameBaseVariantId'] == GameBaseVariantId]\n",
    "    else:\n",
    "        gametype_df = df[(df['GameBaseVariantId'] == GameBaseVariantId) & (df['PlaylistId'] == PlaylistId)]\n",
    "    \n",
    "    return gametype_df\n",
    "\n",
    "husky_df = choose_gametype(df, 'Capture the Flag', 'Super Fiesta Party')\n",
    "slayer_df = choose_gametype(df, 'Slayer', 'Super Fiesta Party')\n"
   ]
  },
  {
   "cell_type": "code",
   "execution_count": 402,
   "metadata": {
    "ExecuteTime": {
     "end_time": "2021-07-21T02:26:40.734837Z",
     "start_time": "2021-07-21T02:26:40.709843Z"
    }
   },
   "outputs": [
    {
     "data": {
      "text/html": [
       "<div>\n",
       "<style scoped>\n",
       "    .dataframe tbody tr th:only-of-type {\n",
       "        vertical-align: middle;\n",
       "    }\n",
       "\n",
       "    .dataframe tbody tr th {\n",
       "        vertical-align: top;\n",
       "    }\n",
       "\n",
       "    .dataframe thead th {\n",
       "        text-align: right;\n",
       "    }\n",
       "</style>\n",
       "<table border=\"1\" class=\"dataframe\">\n",
       "  <thead>\n",
       "    <tr style=\"text-align: right;\">\n",
       "      <th></th>\n",
       "      <th>index</th>\n",
       "      <th>MapVariantId</th>\n",
       "      <th>DNF</th>\n",
       "      <th>TotalKills</th>\n",
       "      <th>TotalDeaths</th>\n",
       "      <th>K/D</th>\n",
       "      <th>Accuracy</th>\n",
       "      <th>TotalHeadshots</th>\n",
       "      <th>TotalWeaponDamage</th>\n",
       "      <th>TotalGrenadeKills</th>\n",
       "      <th>TotalGrenadeDamage</th>\n",
       "      <th>AvgLifeTimeOfPlayer</th>\n",
       "      <th>TotalTimePlayed</th>\n",
       "      <th>TotalDuration</th>\n",
       "      <th>Win</th>\n",
       "      <th>Lose</th>\n",
       "      <th>WinRate</th>\n",
       "    </tr>\n",
       "  </thead>\n",
       "  <tbody>\n",
       "    <tr>\n",
       "      <th>0</th>\n",
       "      <td>0</td>\n",
       "      <td>Blood and Stone</td>\n",
       "      <td>0</td>\n",
       "      <td>1964</td>\n",
       "      <td>2602</td>\n",
       "      <td>157.997519</td>\n",
       "      <td>75.339873</td>\n",
       "      <td>136</td>\n",
       "      <td>252318.403049</td>\n",
       "      <td>43</td>\n",
       "      <td>11589.676155</td>\n",
       "      <td>2531.67524</td>\n",
       "      <td>866.854687</td>\n",
       "      <td>868.907452</td>\n",
       "      <td>110.0</td>\n",
       "      <td>71.0</td>\n",
       "      <td>1.549296</td>\n",
       "    </tr>\n",
       "  </tbody>\n",
       "</table>\n",
       "</div>"
      ],
      "text/plain": [
       "   index     MapVariantId  DNF  TotalKills  TotalDeaths         K/D  \\\n",
       "0      0  Blood and Stone    0        1964         2602  157.997519   \n",
       "\n",
       "    Accuracy  TotalHeadshots  TotalWeaponDamage  TotalGrenadeKills  \\\n",
       "0  75.339873             136      252318.403049                 43   \n",
       "\n",
       "   TotalGrenadeDamage  AvgLifeTimeOfPlayer  TotalTimePlayed  TotalDuration  \\\n",
       "0        11589.676155           2531.67524       866.854687     868.907452   \n",
       "\n",
       "     Win  Lose   WinRate  \n",
       "0  110.0  71.0  1.549296  "
      ]
     },
     "execution_count": 402,
     "metadata": {},
     "output_type": "execute_result"
    }
   ],
   "source": [
    "husky_gb_sum = husky_df.groupby( [\"MapVariantId\"] ).sum()\n",
    "husky_gb_sum.reset_index(level=0, inplace=True)\n",
    "husky_gb_sum['WinRate'] = husky_gb_sum['Win'] / husky_gb_sum['Lose']\n",
    "husky_gb_sum = husky_gb_sum[~husky_gb_sum.isin([np.nan, np.inf, -np.inf]).any(1)]\n",
    "\n",
    "husky_gb_mean = husky_df.groupby( [\"MapVariantId\"] ).mean()\n",
    "husky_gb_mean.reset_index(level=0, inplace=True)\n",
    "husky_gb_mean['WinRate'] = husky_gb_mean['Win'] / husky_gb_mean['Lose']\n",
    "husky_gb_mean = husky_gb_mean[~husky_gb_mean.isin([np.nan, np.inf, -np.inf]).any(1)]\n",
    "\n",
    "husky_gb.head(1)\n"
   ]
  },
  {
   "cell_type": "code",
   "execution_count": 403,
   "metadata": {
    "ExecuteTime": {
     "end_time": "2021-07-21T02:26:42.236552Z",
     "start_time": "2021-07-21T02:26:41.909486Z"
    }
   },
   "outputs": [
    {
     "data": {
      "image/png": "[encoded data removed]",
      "text/plain": [
       "<Figure size 1152x648 with 1 Axes>"
      ]
     },
     "metadata": {},
     "output_type": "display_data"
    }
   ],
   "source": [
    "def map_plot(df, column):\n",
    "    index=df.index\n",
    "    f, ax = plt.subplots(figsize=(16, 9))\n",
    "    sns.barplot(x=column, y='MapVariantId', \n",
    "                data=df.sort_values(by=[column], ascending=False),\n",
    "#                 data=df.sort_values(by=[column], ascending=False),\n",
    "                \n",
    "                order=df.sort_values(column, ascending=False).MapVariantId,\n",
    "                label=\"xxxxxx\", palette=('coolwarm'))\n",
    "\n",
    "map_plot(husky_gb_sum, 'WinRate')"
   ]
  },
  {
   "cell_type": "code",
   "execution_count": 404,
   "metadata": {
    "ExecuteTime": {
     "end_time": "2021-07-21T02:26:43.188438Z",
     "start_time": "2021-07-21T02:26:42.854363Z"
    }
   },
   "outputs": [
    {
     "data": {
      "image/png": "[encoded data removed]",
      "text/plain": [
       "<Figure size 1152x648 with 1 Axes>"
      ]
     },
     "metadata": {},
     "output_type": "display_data"
    }
   ],
   "source": [
    "map_plot(husky_gb_mean, 'K/D')"
   ]
  },
  {
   "cell_type": "code",
   "execution_count": 317,
   "metadata": {
    "ExecuteTime": {
     "end_time": "2021-07-21T01:38:37.738819Z",
     "start_time": "2021-07-21T01:38:37.731817Z"
    }
   },
   "outputs": [
    {
     "data": {
      "text/plain": [
       "Victory    45\n",
       "Defeat     35\n",
       "Tie         5\n",
       "Name: WinLoseTie, dtype: int64"
      ]
     },
     "execution_count": 317,
     "metadata": {},
     "output_type": "execute_result"
    }
   ],
   "source": [
    "swamp_df = husky_df.loc[husky_df['MapVariantId'] == 'Swamp Fever']\n",
    "swamp_df['WinLoseTie'].value_counts()"
   ]
  },
  {
   "cell_type": "code",
   "execution_count": 356,
   "metadata": {
    "ExecuteTime": {
     "end_time": "2021-07-21T01:53:48.330433Z",
     "start_time": "2021-07-21T01:53:48.308429Z"
    }
   },
   "outputs": [
    {
     "data": {
      "text/html": [
       "<div>\n",
       "<style scoped>\n",
       "    .dataframe tbody tr th:only-of-type {\n",
       "        vertical-align: middle;\n",
       "    }\n",
       "\n",
       "    .dataframe tbody tr th {\n",
       "        vertical-align: top;\n",
       "    }\n",
       "\n",
       "    .dataframe thead th {\n",
       "        text-align: right;\n",
       "    }\n",
       "</style>\n",
       "<table border=\"1\" class=\"dataframe\">\n",
       "  <thead>\n",
       "    <tr style=\"text-align: right;\">\n",
       "      <th></th>\n",
       "      <th>MapVariantId</th>\n",
       "      <th>DNF</th>\n",
       "      <th>TotalKills</th>\n",
       "      <th>TotalDeaths</th>\n",
       "      <th>K/D</th>\n",
       "      <th>Accuracy</th>\n",
       "      <th>TotalHeadshots</th>\n",
       "      <th>TotalWeaponDamage</th>\n",
       "      <th>TotalGrenadeKills</th>\n",
       "      <th>TotalGrenadeDamage</th>\n",
       "      <th>AvgLifeTimeOfPlayer</th>\n",
       "      <th>TotalTimePlayed</th>\n",
       "      <th>TotalDuration</th>\n",
       "      <th>Win</th>\n",
       "      <th>Lose</th>\n",
       "      <th>WinRate</th>\n",
       "    </tr>\n",
       "  </thead>\n",
       "  <tbody>\n",
       "    <tr>\n",
       "      <th>0</th>\n",
       "      <td>Blood and Stone</td>\n",
       "      <td>0</td>\n",
       "      <td>1964</td>\n",
       "      <td>2602</td>\n",
       "      <td>157.997519</td>\n",
       "      <td>75.339873</td>\n",
       "      <td>136</td>\n",
       "      <td>252318.403049</td>\n",
       "      <td>43</td>\n",
       "      <td>11589.676155</td>\n",
       "      <td>2531.675240</td>\n",
       "      <td>866.854687</td>\n",
       "      <td>868.907452</td>\n",
       "      <td>110.0</td>\n",
       "      <td>71.0</td>\n",
       "      <td>1.549296</td>\n",
       "    </tr>\n",
       "    <tr>\n",
       "      <th>1</th>\n",
       "      <td>Classified</td>\n",
       "      <td>0</td>\n",
       "      <td>1861</td>\n",
       "      <td>1756</td>\n",
       "      <td>103.897660</td>\n",
       "      <td>40.778846</td>\n",
       "      <td>71</td>\n",
       "      <td>235956.888552</td>\n",
       "      <td>32</td>\n",
       "      <td>8005.991636</td>\n",
       "      <td>1460.224430</td>\n",
       "      <td>659.792479</td>\n",
       "      <td>659.825388</td>\n",
       "      <td>40.0</td>\n",
       "      <td>28.0</td>\n",
       "      <td>1.428571</td>\n",
       "    </tr>\n",
       "    <tr>\n",
       "      <th>3</th>\n",
       "      <td>Containment Breach</td>\n",
       "      <td>0</td>\n",
       "      <td>1213</td>\n",
       "      <td>1468</td>\n",
       "      <td>76.050042</td>\n",
       "      <td>35.318265</td>\n",
       "      <td>59</td>\n",
       "      <td>151842.806095</td>\n",
       "      <td>18</td>\n",
       "      <td>6353.467373</td>\n",
       "      <td>1459.762960</td>\n",
       "      <td>575.038938</td>\n",
       "      <td>575.070256</td>\n",
       "      <td>43.0</td>\n",
       "      <td>35.0</td>\n",
       "      <td>1.228571</td>\n",
       "    </tr>\n",
       "    <tr>\n",
       "      <th>4</th>\n",
       "      <td>Dominus</td>\n",
       "      <td>0</td>\n",
       "      <td>2529</td>\n",
       "      <td>2567</td>\n",
       "      <td>178.050514</td>\n",
       "      <td>56.639660</td>\n",
       "      <td>416</td>\n",
       "      <td>328817.317395</td>\n",
       "      <td>40</td>\n",
       "      <td>10574.596092</td>\n",
       "      <td>2903.439102</td>\n",
       "      <td>1028.666100</td>\n",
       "      <td>1042.989588</td>\n",
       "      <td>84.0</td>\n",
       "      <td>62.0</td>\n",
       "      <td>1.354839</td>\n",
       "    </tr>\n",
       "    <tr>\n",
       "      <th>5</th>\n",
       "      <td>Downfall</td>\n",
       "      <td>0</td>\n",
       "      <td>1782</td>\n",
       "      <td>1945</td>\n",
       "      <td>105.580849</td>\n",
       "      <td>45.205325</td>\n",
       "      <td>157</td>\n",
       "      <td>229679.727996</td>\n",
       "      <td>38</td>\n",
       "      <td>12221.412120</td>\n",
       "      <td>1644.389138</td>\n",
       "      <td>697.620674</td>\n",
       "      <td>701.439835</td>\n",
       "      <td>37.0</td>\n",
       "      <td>43.0</td>\n",
       "      <td>0.860465</td>\n",
       "    </tr>\n",
       "    <tr>\n",
       "      <th>6</th>\n",
       "      <td>Gutter</td>\n",
       "      <td>0</td>\n",
       "      <td>1340</td>\n",
       "      <td>1327</td>\n",
       "      <td>94.972362</td>\n",
       "      <td>34.386003</td>\n",
       "      <td>71</td>\n",
       "      <td>177258.662670</td>\n",
       "      <td>20</td>\n",
       "      <td>8564.651446</td>\n",
       "      <td>1462.076808</td>\n",
       "      <td>536.831673</td>\n",
       "      <td>536.862975</td>\n",
       "      <td>51.0</td>\n",
       "      <td>25.0</td>\n",
       "      <td>2.040000</td>\n",
       "    </tr>\n",
       "    <tr>\n",
       "      <th>7</th>\n",
       "      <td>Hallows</td>\n",
       "      <td>0</td>\n",
       "      <td>1144</td>\n",
       "      <td>1287</td>\n",
       "      <td>75.794464</td>\n",
       "      <td>29.465982</td>\n",
       "      <td>85</td>\n",
       "      <td>146747.405137</td>\n",
       "      <td>17</td>\n",
       "      <td>4184.958516</td>\n",
       "      <td>1333.220499</td>\n",
       "      <td>507.398554</td>\n",
       "      <td>508.108451</td>\n",
       "      <td>42.0</td>\n",
       "      <td>25.0</td>\n",
       "      <td>1.680000</td>\n",
       "    </tr>\n",
       "    <tr>\n",
       "      <th>8</th>\n",
       "      <td>Harmony</td>\n",
       "      <td>0</td>\n",
       "      <td>2679</td>\n",
       "      <td>3214</td>\n",
       "      <td>175.235679</td>\n",
       "      <td>81.403632</td>\n",
       "      <td>136</td>\n",
       "      <td>344008.899563</td>\n",
       "      <td>58</td>\n",
       "      <td>17072.075739</td>\n",
       "      <td>2849.964841</td>\n",
       "      <td>1138.794423</td>\n",
       "      <td>1147.273771</td>\n",
       "      <td>109.0</td>\n",
       "      <td>65.0</td>\n",
       "      <td>1.676923</td>\n",
       "    </tr>\n",
       "    <tr>\n",
       "      <th>9</th>\n",
       "      <td>M808b production</td>\n",
       "      <td>0</td>\n",
       "      <td>1401</td>\n",
       "      <td>1500</td>\n",
       "      <td>85.271309</td>\n",
       "      <td>35.498880</td>\n",
       "      <td>114</td>\n",
       "      <td>189804.668511</td>\n",
       "      <td>33</td>\n",
       "      <td>9726.566200</td>\n",
       "      <td>1384.357323</td>\n",
       "      <td>581.875852</td>\n",
       "      <td>586.352700</td>\n",
       "      <td>41.0</td>\n",
       "      <td>23.0</td>\n",
       "      <td>1.782609</td>\n",
       "    </tr>\n",
       "    <tr>\n",
       "      <th>10</th>\n",
       "      <td>Meta Raid</td>\n",
       "      <td>0</td>\n",
       "      <td>1467</td>\n",
       "      <td>1759</td>\n",
       "      <td>77.154360</td>\n",
       "      <td>32.468709</td>\n",
       "      <td>189</td>\n",
       "      <td>193678.223042</td>\n",
       "      <td>36</td>\n",
       "      <td>10208.014820</td>\n",
       "      <td>1405.551050</td>\n",
       "      <td>647.659493</td>\n",
       "      <td>655.782475</td>\n",
       "      <td>32.0</td>\n",
       "      <td>16.0</td>\n",
       "      <td>2.000000</td>\n",
       "    </tr>\n",
       "    <tr>\n",
       "      <th>12</th>\n",
       "      <td>Moa Fields</td>\n",
       "      <td>0</td>\n",
       "      <td>1281</td>\n",
       "      <td>1402</td>\n",
       "      <td>71.980753</td>\n",
       "      <td>30.200016</td>\n",
       "      <td>105</td>\n",
       "      <td>164565.491406</td>\n",
       "      <td>31</td>\n",
       "      <td>7495.759329</td>\n",
       "      <td>1112.780911</td>\n",
       "      <td>499.577851</td>\n",
       "      <td>500.965990</td>\n",
       "      <td>36.0</td>\n",
       "      <td>30.0</td>\n",
       "      <td>1.200000</td>\n",
       "    </tr>\n",
       "    <tr>\n",
       "      <th>13</th>\n",
       "      <td>Omission</td>\n",
       "      <td>0</td>\n",
       "      <td>1330</td>\n",
       "      <td>1400</td>\n",
       "      <td>105.064973</td>\n",
       "      <td>37.163432</td>\n",
       "      <td>139</td>\n",
       "      <td>171639.294730</td>\n",
       "      <td>22</td>\n",
       "      <td>4671.083673</td>\n",
       "      <td>1653.871102</td>\n",
       "      <td>533.291294</td>\n",
       "      <td>534.595661</td>\n",
       "      <td>56.0</td>\n",
       "      <td>39.0</td>\n",
       "      <td>1.435897</td>\n",
       "    </tr>\n",
       "    <tr>\n",
       "      <th>14</th>\n",
       "      <td>Palmyra</td>\n",
       "      <td>0</td>\n",
       "      <td>872</td>\n",
       "      <td>1065</td>\n",
       "      <td>66.136886</td>\n",
       "      <td>28.336404</td>\n",
       "      <td>115</td>\n",
       "      <td>112149.253521</td>\n",
       "      <td>10</td>\n",
       "      <td>3013.303296</td>\n",
       "      <td>1142.123853</td>\n",
       "      <td>410.491505</td>\n",
       "      <td>414.458476</td>\n",
       "      <td>37.0</td>\n",
       "      <td>37.0</td>\n",
       "      <td>1.000000</td>\n",
       "    </tr>\n",
       "    <tr>\n",
       "      <th>15</th>\n",
       "      <td>Putput</td>\n",
       "      <td>0</td>\n",
       "      <td>1456</td>\n",
       "      <td>1663</td>\n",
       "      <td>102.784447</td>\n",
       "      <td>45.351281</td>\n",
       "      <td>72</td>\n",
       "      <td>189073.086823</td>\n",
       "      <td>18</td>\n",
       "      <td>7351.490584</td>\n",
       "      <td>1724.077314</td>\n",
       "      <td>624.135323</td>\n",
       "      <td>625.905372</td>\n",
       "      <td>59.0</td>\n",
       "      <td>41.0</td>\n",
       "      <td>1.439024</td>\n",
       "    </tr>\n",
       "    <tr>\n",
       "      <th>16</th>\n",
       "      <td>Raid on the Control Room</td>\n",
       "      <td>0</td>\n",
       "      <td>2907</td>\n",
       "      <td>3074</td>\n",
       "      <td>215.615870</td>\n",
       "      <td>79.136437</td>\n",
       "      <td>172</td>\n",
       "      <td>357613.629804</td>\n",
       "      <td>59</td>\n",
       "      <td>13627.104012</td>\n",
       "      <td>3154.872588</td>\n",
       "      <td>1164.913834</td>\n",
       "      <td>1167.150160</td>\n",
       "      <td>87.0</td>\n",
       "      <td>95.0</td>\n",
       "      <td>0.915789</td>\n",
       "    </tr>\n",
       "    <tr>\n",
       "      <th>17</th>\n",
       "      <td>Reclaimed</td>\n",
       "      <td>0</td>\n",
       "      <td>1141</td>\n",
       "      <td>1214</td>\n",
       "      <td>85.436315</td>\n",
       "      <td>39.381526</td>\n",
       "      <td>75</td>\n",
       "      <td>147524.588316</td>\n",
       "      <td>23</td>\n",
       "      <td>6313.415922</td>\n",
       "      <td>1334.151259</td>\n",
       "      <td>460.289455</td>\n",
       "      <td>460.319885</td>\n",
       "      <td>47.0</td>\n",
       "      <td>37.0</td>\n",
       "      <td>1.270270</td>\n",
       "    </tr>\n",
       "    <tr>\n",
       "      <th>18</th>\n",
       "      <td>Sleipnir</td>\n",
       "      <td>0</td>\n",
       "      <td>917</td>\n",
       "      <td>1201</td>\n",
       "      <td>74.264533</td>\n",
       "      <td>30.349022</td>\n",
       "      <td>140</td>\n",
       "      <td>109748.850325</td>\n",
       "      <td>11</td>\n",
       "      <td>3566.414671</td>\n",
       "      <td>1535.396754</td>\n",
       "      <td>509.758222</td>\n",
       "      <td>510.915104</td>\n",
       "      <td>59.0</td>\n",
       "      <td>25.0</td>\n",
       "      <td>2.360000</td>\n",
       "    </tr>\n",
       "    <tr>\n",
       "      <th>20</th>\n",
       "      <td>Stand Clear</td>\n",
       "      <td>0</td>\n",
       "      <td>1206</td>\n",
       "      <td>1679</td>\n",
       "      <td>82.505860</td>\n",
       "      <td>33.586799</td>\n",
       "      <td>140</td>\n",
       "      <td>152789.408612</td>\n",
       "      <td>31</td>\n",
       "      <td>4661.884127</td>\n",
       "      <td>1496.844488</td>\n",
       "      <td>584.219092</td>\n",
       "      <td>584.255282</td>\n",
       "      <td>52.0</td>\n",
       "      <td>44.0</td>\n",
       "      <td>1.181818</td>\n",
       "    </tr>\n",
       "    <tr>\n",
       "      <th>22</th>\n",
       "      <td>Swamp Fever</td>\n",
       "      <td>0</td>\n",
       "      <td>1505</td>\n",
       "      <td>1472</td>\n",
       "      <td>93.797798</td>\n",
       "      <td>40.598356</td>\n",
       "      <td>61</td>\n",
       "      <td>186682.980837</td>\n",
       "      <td>27</td>\n",
       "      <td>8118.221832</td>\n",
       "      <td>1406.974081</td>\n",
       "      <td>567.219697</td>\n",
       "      <td>567.250119</td>\n",
       "      <td>45.0</td>\n",
       "      <td>35.0</td>\n",
       "      <td>1.285714</td>\n",
       "    </tr>\n",
       "    <tr>\n",
       "      <th>23</th>\n",
       "      <td>Traverse</td>\n",
       "      <td>0</td>\n",
       "      <td>2581</td>\n",
       "      <td>3135</td>\n",
       "      <td>165.194449</td>\n",
       "      <td>69.234725</td>\n",
       "      <td>210</td>\n",
       "      <td>323713.917358</td>\n",
       "      <td>47</td>\n",
       "      <td>11185.834303</td>\n",
       "      <td>2845.358987</td>\n",
       "      <td>1222.802833</td>\n",
       "      <td>1239.725024</td>\n",
       "      <td>104.0</td>\n",
       "      <td>62.0</td>\n",
       "      <td>1.677419</td>\n",
       "    </tr>\n",
       "  </tbody>\n",
       "</table>\n",
       "</div>"
      ],
      "text/plain": [
       "                MapVariantId  DNF  TotalKills  TotalDeaths         K/D  \\\n",
       "0            Blood and Stone    0        1964         2602  157.997519   \n",
       "1                Classified     0        1861         1756  103.897660   \n",
       "3         Containment Breach    0        1213         1468   76.050042   \n",
       "4                    Dominus    0        2529         2567  178.050514   \n",
       "5                   Downfall    0        1782         1945  105.580849   \n",
       "6                     Gutter    0        1340         1327   94.972362   \n",
       "7                    Hallows    0        1144         1287   75.794464   \n",
       "8                    Harmony    0        2679         3214  175.235679   \n",
       "9           M808b production    0        1401         1500   85.271309   \n",
       "10                 Meta Raid    0        1467         1759   77.154360   \n",
       "12                Moa Fields    0        1281         1402   71.980753   \n",
       "13                  Omission    0        1330         1400  105.064973   \n",
       "14                   Palmyra    0         872         1065   66.136886   \n",
       "15                    Putput    0        1456         1663  102.784447   \n",
       "16  Raid on the Control Room    0        2907         3074  215.615870   \n",
       "17                 Reclaimed    0        1141         1214   85.436315   \n",
       "18                  Sleipnir    0         917         1201   74.264533   \n",
       "20               Stand Clear    0        1206         1679   82.505860   \n",
       "22               Swamp Fever    0        1505         1472   93.797798   \n",
       "23                  Traverse    0        2581         3135  165.194449   \n",
       "\n",
       "     Accuracy  TotalHeadshots  TotalWeaponDamage  TotalGrenadeKills  \\\n",
       "0   75.339873             136      252318.403049                 43   \n",
       "1   40.778846              71      235956.888552                 32   \n",
       "3   35.318265              59      151842.806095                 18   \n",
       "4   56.639660             416      328817.317395                 40   \n",
       "5   45.205325             157      229679.727996                 38   \n",
       "6   34.386003              71      177258.662670                 20   \n",
       "7   29.465982              85      146747.405137                 17   \n",
       "8   81.403632             136      344008.899563                 58   \n",
       "9   35.498880             114      189804.668511                 33   \n",
       "10  32.468709             189      193678.223042                 36   \n",
       "12  30.200016             105      164565.491406                 31   \n",
       "13  37.163432             139      171639.294730                 22   \n",
       "14  28.336404             115      112149.253521                 10   \n",
       "15  45.351281              72      189073.086823                 18   \n",
       "16  79.136437             172      357613.629804                 59   \n",
       "17  39.381526              75      147524.588316                 23   \n",
       "18  30.349022             140      109748.850325                 11   \n",
       "20  33.586799             140      152789.408612                 31   \n",
       "22  40.598356              61      186682.980837                 27   \n",
       "23  69.234725             210      323713.917358                 47   \n",
       "\n",
       "    TotalGrenadeDamage  AvgLifeTimeOfPlayer  TotalTimePlayed  TotalDuration  \\\n",
       "0         11589.676155          2531.675240       866.854687     868.907452   \n",
       "1          8005.991636          1460.224430       659.792479     659.825388   \n",
       "3          6353.467373          1459.762960       575.038938     575.070256   \n",
       "4         10574.596092          2903.439102      1028.666100    1042.989588   \n",
       "5         12221.412120          1644.389138       697.620674     701.439835   \n",
       "6          8564.651446          1462.076808       536.831673     536.862975   \n",
       "7          4184.958516          1333.220499       507.398554     508.108451   \n",
       "8         17072.075739          2849.964841      1138.794423    1147.273771   \n",
       "9          9726.566200          1384.357323       581.875852     586.352700   \n",
       "10        10208.014820          1405.551050       647.659493     655.782475   \n",
       "12         7495.759329          1112.780911       499.577851     500.965990   \n",
       "13         4671.083673          1653.871102       533.291294     534.595661   \n",
       "14         3013.303296          1142.123853       410.491505     414.458476   \n",
       "15         7351.490584          1724.077314       624.135323     625.905372   \n",
       "16        13627.104012          3154.872588      1164.913834    1167.150160   \n",
       "17         6313.415922          1334.151259       460.289455     460.319885   \n",
       "18         3566.414671          1535.396754       509.758222     510.915104   \n",
       "20         4661.884127          1496.844488       584.219092     584.255282   \n",
       "22         8118.221832          1406.974081       567.219697     567.250119   \n",
       "23        11185.834303          2845.358987      1222.802833    1239.725024   \n",
       "\n",
       "      Win  Lose   WinRate  \n",
       "0   110.0  71.0  1.549296  \n",
       "1    40.0  28.0  1.428571  \n",
       "3    43.0  35.0  1.228571  \n",
       "4    84.0  62.0  1.354839  \n",
       "5    37.0  43.0  0.860465  \n",
       "6    51.0  25.0  2.040000  \n",
       "7    42.0  25.0  1.680000  \n",
       "8   109.0  65.0  1.676923  \n",
       "9    41.0  23.0  1.782609  \n",
       "10   32.0  16.0  2.000000  \n",
       "12   36.0  30.0  1.200000  \n",
       "13   56.0  39.0  1.435897  \n",
       "14   37.0  37.0  1.000000  \n",
       "15   59.0  41.0  1.439024  \n",
       "16   87.0  95.0  0.915789  \n",
       "17   47.0  37.0  1.270270  \n",
       "18   59.0  25.0  2.360000  \n",
       "20   52.0  44.0  1.181818  \n",
       "22   45.0  35.0  1.285714  \n",
       "23  104.0  62.0  1.677419  "
      ]
     },
     "execution_count": 356,
     "metadata": {},
     "output_type": "execute_result"
    }
   ],
   "source": [
    "husky_gb_mean"
   ]
  },
  {
   "cell_type": "code",
   "execution_count": 422,
   "metadata": {
    "ExecuteTime": {
     "end_time": "2021-07-21T02:46:41.268797Z",
     "start_time": "2021-07-21T02:46:41.210784Z"
    }
   },
   "outputs": [
    {
     "data": {
      "text/plain": [
       "0       26\n",
       "1       26\n",
       "2       26\n",
       "3       26\n",
       "4       26\n",
       "        ..\n",
       "5801    19\n",
       "5802    19\n",
       "5803    19\n",
       "5804    19\n",
       "5805    19\n",
       "Name: Week, Length: 4782, dtype: int64"
      ]
     },
     "execution_count": 422,
     "metadata": {},
     "output_type": "execute_result"
    }
   ],
   "source": [
    "df['Day'] = df['Date'].dt.strftime('%B %d, %Y')\n",
    "df['Day']\n",
    "df['Week'] = df['Date'].dt.week\n",
    "df['Week']"
   ]
  },
  {
   "cell_type": "markdown",
   "metadata": {},
   "source": [
    "# K/D Date"
   ]
  },
  {
   "cell_type": "code",
   "execution_count": 432,
   "metadata": {
    "ExecuteTime": {
     "end_time": "2021-07-21T02:54:02.984857Z",
     "start_time": "2021-07-21T02:54:02.976855Z"
    }
   },
   "outputs": [],
   "source": [
    "df_gb_mean = df.groupby( [\"Day\"] ).mean()\n",
    "\n",
    "df_gb_mean.reset_index(level=0, inplace=True)\n",
    "df_gb_mean['Date'] = df_gb_mean['Day'].apply(pd.to_datetime)\n",
    "# df = husky_df[((husky_df['Date'] > '2021-06-01') & (husky_df['Date'] < '2021-06-07'))]\n",
    "df_day = df_gb_mean[(df_gb_mean['Day'] > '2021-06-01')]\n",
    "f, ax = plt.subplots(figsize=(16, 9))\n",
    "# sns.lineplot(data=df_gb_mean, x=\"Day\", y=\"K/D\", hue='WinLoseTie')\n",
    "sns.lineplot(data=df_day, x='Day', y=\"K/D\")\n",
    "# sns.distplot(husky_df['K/D'])"
   ]
  },
  {
   "cell_type": "code",
   "execution_count": 433,
   "metadata": {
    "ExecuteTime": {
     "end_time": "2021-07-21T02:54:09.965002Z",
     "start_time": "2021-07-21T02:54:09.888984Z"
    }
   },
   "outputs": [
    {
     "data": {
      "text/plain": [
       "0     2021-04-01\n",
       "1     2021-04-02\n",
       "2     2021-04-03\n",
       "3     2021-04-04\n",
       "4     2021-04-05\n",
       "         ...    \n",
       "283   2020-09-26\n",
       "284   2020-09-27\n",
       "285   2020-09-28\n",
       "286   2020-09-29\n",
       "287   2020-09-30\n",
       "Name: Date, Length: 288, dtype: datetime64[ns]"
      ]
     },
     "execution_count": 433,
     "metadata": {},
     "output_type": "execute_result"
    }
   ],
   "source": [
    "df_gb_mean['Date'] = df_gb_mean['Day'].apply(pd.to_datetime)\n",
    "df_gb_mean['Date']"
   ]
  },
  {
   "cell_type": "code",
   "execution_count": null,
   "metadata": {},
   "outputs": [],
   "source": []
  },
  {
   "cell_type": "code",
   "execution_count": null,
   "metadata": {},
   "outputs": [],
   "source": []
  },
  {
   "cell_type": "code",
   "execution_count": null,
   "metadata": {},
   "outputs": [],
   "source": []
  },
  {
   "cell_type": "code",
   "execution_count": null,
   "metadata": {},
   "outputs": [],
   "source": []
  },
  {
   "cell_type": "code",
   "execution_count": null,
   "metadata": {},
   "outputs": [],
   "source": []
  },
  {
   "cell_type": "markdown",
   "metadata": {},
   "source": [
    "# Load Player Match History and All Matches"
   ]
  },
  {
   "cell_type": "code",
   "execution_count": null,
   "metadata": {
    "ExecuteTime": {
     "end_time": "2021-07-20T15:01:16.668730Z",
     "start_time": "2021-07-20T15:01:10.943439Z"
    }
   },
   "outputs": [],
   "source": [
    "df_history = pd.read_csv('DrymanderHistoryExplode.csv')\n",
    "\n",
    "with open('match_details.pkl', 'rb') as match_details:\n",
    "    match_details = pickle.load(match_details)\n",
    "    \n",
    "len(match_details)"
   ]
  },
  {
   "cell_type": "markdown",
   "metadata": {},
   "source": [
    "## Add MatchId, GameBaseVariantId"
   ]
  },
  {
   "cell_type": "code",
   "execution_count": null,
   "metadata": {
    "ExecuteTime": {
     "end_time": "2021-07-20T15:01:16.683733Z",
     "start_time": "2021-07-20T15:01:16.669731Z"
    }
   },
   "outputs": [],
   "source": [
    "df = pd.DataFrame()\n",
    "\n",
    "df['MatchId'] = df_history['MatchId']\n",
    "df['GameBaseVariantId'] = df_history['GameBaseVariantId']\n",
    "\n",
    "df.head(3)"
   ]
  },
  {
   "cell_type": "markdown",
   "metadata": {},
   "source": [
    "## Store GameBaseVariantId Original Column\n",
    "\n",
    "We'll store this column as its own dataframe, which will be necessary for pulling the game variant in our Player History step."
   ]
  },
  {
   "cell_type": "code",
   "execution_count": null,
   "metadata": {
    "ExecuteTime": {
     "end_time": "2021-07-20T15:01:16.701737Z",
     "start_time": "2021-07-20T15:01:16.684734Z"
    }
   },
   "outputs": [],
   "source": [
    "game_base_column_store_df = pd.DataFrame()\n",
    "game_base_column_store_df['MatchId'] = df_history['MatchId']\n",
    "game_base_column_store_df['GameBaseVariantId'] = df_history['GameBaseVariantId']\n",
    "game_base_column_store_df"
   ]
  },
  {
   "cell_type": "markdown",
   "metadata": {},
   "source": [
    "## MapVariantId"
   ]
  },
  {
   "cell_type": "code",
   "execution_count": null,
   "metadata": {
    "ExecuteTime": {
     "end_time": "2021-07-20T15:01:16.720741Z",
     "start_time": "2021-07-20T15:01:16.702739Z"
    }
   },
   "outputs": [],
   "source": [
    "MapVariantId_list = []\n",
    "\n",
    "for match in match_details:\n",
    "    MapVariantId = match['MapVariantId']\n",
    "    MapVariantId_list.append(MapVariantId)\n",
    "    \n",
    "df['MapVariantId'] = MapVariantId_list\n",
    "\n",
    "df.head(3)"
   ]
  },
  {
   "cell_type": "markdown",
   "metadata": {},
   "source": [
    "## Playlist ID"
   ]
  },
  {
   "cell_type": "code",
   "execution_count": null,
   "metadata": {
    "ExecuteTime": {
     "end_time": "2021-07-20T15:01:16.743747Z",
     "start_time": "2021-07-20T15:01:16.721742Z"
    }
   },
   "outputs": [],
   "source": [
    "PlaylistId_list = []\n",
    "\n",
    "for match in match_details:\n",
    "    PlaylistId = match['PlaylistId']\n",
    "    PlaylistId_list.append(PlaylistId)\n",
    "    \n",
    "df['PlaylistId'] = PlaylistId_list\n",
    "\n",
    "df.head(3)\n",
    "\n",
    "# df.to_csv('playlist.csv')"
   ]
  },
  {
   "cell_type": "markdown",
   "metadata": {},
   "source": [
    "# Convert Codes to Names\n",
    "\n",
    "Now that we have MatchId, GameBaseVariantId, MapVariantId, and PlaylistId, we'll convert these to their readable naems that might be more familiar to players."
   ]
  },
  {
   "cell_type": "markdown",
   "metadata": {},
   "source": [
    "## Decode Column ID Function"
   ]
  },
  {
   "cell_type": "code",
   "execution_count": null,
   "metadata": {
    "ExecuteTime": {
     "end_time": "2021-07-20T15:01:16.755749Z",
     "start_time": "2021-07-20T15:01:16.745747Z"
    }
   },
   "outputs": [],
   "source": [
    "def decode_maps(df, column, api_dict):\n",
    "    decoded_list = []\n",
    "\n",
    "    for row in df[column]:\n",
    "        i = 0\n",
    "        map_count = len(api_dict)\n",
    "    #     print(row)\n",
    "        for item in api_dict:\n",
    "            if (i+1) == map_count:\n",
    "                name = 'Custom Map'\n",
    "                decoded_list.append(name)\n",
    "            elif item['id'] == row:\n",
    "                name = item['name']\n",
    "                decoded_list.append(name)\n",
    "            else:\n",
    "                i += 1\n",
    "\n",
    "#     df[column] = decoded_list\n",
    "    \n",
    "    return decoded_list\n",
    "# df = pd.read_csv('MODEL_PULL - Copy.csv')\n",
    "# # df = df.reset_index\n",
    "# df = df.drop(['Unnamed: 0'], axis=1)\n",
    "# df['GameBaseVariantId'] = decode_column(df, 'GameBaseVariantId', GameBaseVariantId_dic)\n",
    "# df['PlaylistId'] = decode_column(df, 'PlaylistId', PlaylistId_dic)\n",
    "# df['MapVariantId'] = decode_maps(df, 'MapVariantId', map_list)"
   ]
  },
  {
   "cell_type": "code",
   "execution_count": null,
   "metadata": {
    "ExecuteTime": {
     "end_time": "2021-07-20T15:01:16.767752Z",
     "start_time": "2021-07-20T15:01:16.757751Z"
    }
   },
   "outputs": [],
   "source": [
    "def decode_column(df, column, api_dict):\n",
    "    decoded_list = []\n",
    "\n",
    "    for row in df[column]:\n",
    "        i = 0\n",
    "    #     print(row)\n",
    "        for item in api_dict:\n",
    "            if item['id'] == row:\n",
    "                name = item['name']\n",
    "                decoded_list.append(name)\n",
    "            else:\n",
    "                i += 1\n",
    "\n",
    "#     df[column] = decoded_list\n",
    "    \n",
    "    return decoded_list\n",
    "\n",
    "\n",
    "\n",
    "# decode_column(df, 'PlaylistId', plid)\n",
    "# # decode_column(df, 'GameBaseVariantId', gbv)"
   ]
  },
  {
   "cell_type": "markdown",
   "metadata": {},
   "source": [
    "## GameBaseVariant"
   ]
  },
  {
   "cell_type": "code",
   "execution_count": null,
   "metadata": {
    "ExecuteTime": {
     "end_time": "2021-07-20T15:01:16.779756Z",
     "start_time": "2021-07-20T15:01:16.768752Z"
    }
   },
   "outputs": [],
   "source": [
    "run = False\n",
    "\n",
    "if run == True:\n",
    "    headers = {\n",
    "        # Request headers\n",
    "        'Accept-Language': 'en',\n",
    "        'Ocp-Apim-Subscription-Key': api_key,\n",
    "    }\n",
    "\n",
    "    params = urllib.parse.urlencode({\n",
    "    })\n",
    "\n",
    "    try:\n",
    "        conn = http.client.HTTPSConnection('www.haloapi.com')\n",
    "        conn.request(\"GET\", \"/metadata/h5/metadata/game-base-variants?%s\" % params, \"{body}\", headers)\n",
    "        response = conn.getresponse()\n",
    "        data = response.read()\n",
    "        GameBaseVariantId_dic = json.loads(data)\n",
    "    #     print(data)\n",
    "        conn.close()\n",
    "    except Exception as e:\n",
    "        print(\"[Errno {0}] {1}\".format(e.errno, e.strerror))\n",
    "\n",
    "    with open('GameBaseVariantId.pkl', 'wb') as GameBaseVariantId_pickle:\n",
    "        pickle.dump(GameBaseVariantId_dic, GameBaseVariantId_pickle)\n",
    "\n",
    "else:\n",
    "    with open('GameBaseVariantId.pkl', 'rb') as GameBaseVariantId_pickle:\n",
    "        GameBaseVariantId_dic = pickle.load(GameBaseVariantId_pickle)\n",
    "    \n"
   ]
  },
  {
   "cell_type": "code",
   "execution_count": null,
   "metadata": {
    "ExecuteTime": {
     "end_time": "2021-07-20T15:01:16.811763Z",
     "start_time": "2021-07-20T15:01:16.780755Z"
    }
   },
   "outputs": [],
   "source": [
    "df['GameBaseVariantId'] = decode_column(df, 'GameBaseVariantId', GameBaseVariantId_dic)\n",
    "\n",
    "df.head(3)"
   ]
  },
  {
   "cell_type": "code",
   "execution_count": null,
   "metadata": {
    "ExecuteTime": {
     "end_time": "2021-07-20T15:01:16.823766Z",
     "start_time": "2021-07-20T15:01:16.812764Z"
    }
   },
   "outputs": [],
   "source": [
    "df['GameBaseVariantId'].unique()"
   ]
  },
  {
   "cell_type": "code",
   "execution_count": null,
   "metadata": {
    "ExecuteTime": {
     "end_time": "2021-07-20T15:01:16.840768Z",
     "start_time": "2021-07-20T15:01:16.824767Z"
    }
   },
   "outputs": [],
   "source": [
    "df['GameBaseVariantId'] = df_history['GameBaseVariantId']\n",
    "\n",
    "df.head(3)"
   ]
  },
  {
   "cell_type": "markdown",
   "metadata": {},
   "source": [
    "## Playlist ID"
   ]
  },
  {
   "cell_type": "code",
   "execution_count": null,
   "metadata": {
    "ExecuteTime": {
     "end_time": "2021-07-20T15:01:17.416898Z",
     "start_time": "2021-07-20T15:01:16.841768Z"
    }
   },
   "outputs": [],
   "source": [
    "run = True\n",
    "\n",
    "if run == True:\n",
    "\n",
    "    headers = {\n",
    "        # Request headers\n",
    "        'Accept-Language': 'en',\n",
    "        'Ocp-Apim-Subscription-Key': api_key,\n",
    "    }\n",
    "\n",
    "    params = urllib.parse.urlencode({\n",
    "    })\n",
    "\n",
    "    try:\n",
    "        conn = http.client.HTTPSConnection('www.haloapi.com')\n",
    "        conn.request(\"GET\", \"/metadata/h5/metadata/playlists?%s\" % params, \"{body}\", headers)\n",
    "        response = conn.getresponse()\n",
    "        data = response.read()\n",
    "        PlaylistId_dic = json.loads(data)\n",
    "#         print(data)\n",
    "        conn.close()\n",
    "    except Exception as e:\n",
    "        print(\"[Errno {0}] {1}\".format(e.errno, e.strerror))\n",
    "\n",
    "    with open('PlaylistId_dic.pkl', 'wb') as PlaylistId_dic_pickle:\n",
    "        pickle.dump(PlaylistId_dic, PlaylistId_dic_pickle)\n",
    "        \n",
    "else:\n",
    "    with open('PlaylistId_dic.pkl', 'rb') as PlaylistId_dic_pickle:\n",
    "        PlaylistId_dic = pickle.load(PlaylistId_dic_pickle)"
   ]
  },
  {
   "cell_type": "code",
   "execution_count": null,
   "metadata": {
    "ExecuteTime": {
     "end_time": "2021-07-20T15:01:17.473912Z",
     "start_time": "2021-07-20T15:01:17.417899Z"
    }
   },
   "outputs": [],
   "source": [
    "df['PlaylistId'] = decode_column(df, 'PlaylistId', PlaylistId_dic)\n",
    "\n",
    "df.head(3)"
   ]
  },
  {
   "cell_type": "code",
   "execution_count": null,
   "metadata": {
    "ExecuteTime": {
     "end_time": "2021-07-20T15:01:17.479912Z",
     "start_time": "2021-07-20T15:01:17.474912Z"
    }
   },
   "outputs": [],
   "source": [
    "df['PlaylistId'].unique()"
   ]
  },
  {
   "cell_type": "code",
   "execution_count": null,
   "metadata": {
    "ExecuteTime": {
     "end_time": "2021-07-20T15:01:17.492915Z",
     "start_time": "2021-07-20T15:01:17.480914Z"
    }
   },
   "outputs": [],
   "source": [
    "df['PlaylistId'].value_counts()"
   ]
  },
  {
   "cell_type": "markdown",
   "metadata": {},
   "source": [
    "## MapId"
   ]
  },
  {
   "cell_type": "code",
   "execution_count": null,
   "metadata": {
    "ExecuteTime": {
     "end_time": "2021-07-20T15:01:17.507918Z",
     "start_time": "2021-07-20T15:01:17.493916Z"
    }
   },
   "outputs": [],
   "source": [
    "unique_map_ids = df['MapVariantId'].unique()"
   ]
  },
  {
   "cell_type": "code",
   "execution_count": null,
   "metadata": {
    "ExecuteTime": {
     "end_time": "2021-07-20T15:01:17.518921Z",
     "start_time": "2021-07-20T15:01:17.508920Z"
    }
   },
   "outputs": [],
   "source": [
    "run = False\n",
    "\n",
    "if run == True:\n",
    "\n",
    "    headers = {\n",
    "        # Request headers\n",
    "        'Accept-Language': 'en',\n",
    "        'Ocp-Apim-Subscription-Key': api_key,\n",
    "    }\n",
    "\n",
    "    params = urllib.parse.urlencode({\n",
    "    })\n",
    "    map_list = []\n",
    "    for map_id in tqdm(unique_map_ids):\n",
    "        try:\n",
    "            conn = http.client.HTTPSConnection('www.haloapi.com')\n",
    "            conn.request(\"GET\", f\"/metadata/h5/metadata/map-variants/{map_id}?%s\" % params, \"{body}\", headers)\n",
    "            response = conn.getresponse()\n",
    "            data = response.read()\n",
    "            map_dic = json.loads(data)\n",
    "            map_list.append(map_dic)\n",
    "    #         print(data)\n",
    "            conn.close()\n",
    "            time.sleep(1.1)\n",
    "        except Exception as e:\n",
    "            print(\"[Errno {0}] {1}\".format(e.errno, e.strerror))\n",
    "\n",
    "    with open('map_list.pkl', 'wb') as map_list_pickle:\n",
    "        pickle.dump(map_list, map_list_pickle)\n",
    "\n",
    "else:\n",
    "    with open('map_list.pkl', 'rb') as map_list_pickle:\n",
    "        map_list = pickle.load(map_list_pickle)\n",
    "    \n",
    "\n"
   ]
  },
  {
   "cell_type": "code",
   "execution_count": null,
   "metadata": {
    "ExecuteTime": {
     "end_time": "2021-07-20T15:01:17.744972Z",
     "start_time": "2021-07-20T15:01:17.519921Z"
    }
   },
   "outputs": [],
   "source": [
    "df['MapVariantId'] = decode_column(df, 'MapVariantId', map_list)\n",
    "\n",
    "df.head(10)"
   ]
  },
  {
   "cell_type": "code",
   "execution_count": null,
   "metadata": {
    "ExecuteTime": {
     "end_time": "2021-07-20T15:01:17.750975Z",
     "start_time": "2021-07-20T15:01:17.745973Z"
    }
   },
   "outputs": [],
   "source": [
    "df['MapVariantId'].unique()"
   ]
  },
  {
   "cell_type": "markdown",
   "metadata": {},
   "source": [
    "# Model Dataframe"
   ]
  },
  {
   "cell_type": "markdown",
   "metadata": {},
   "source": [
    "## Add MatchId to Match Details DF\n",
    "\n",
    "Our full match details pull did not include MatchId's, but we were able to retrieve those from our original full player history pull.  Fortunately everything is sequential, so we can add MatchId's to our match details dictionary with a basic for loop.  We'll test everything to make sure everything lines up."
   ]
  },
  {
   "cell_type": "code",
   "execution_count": null,
   "metadata": {
    "ExecuteTime": {
     "end_time": "2021-07-20T15:01:17.831992Z",
     "start_time": "2021-07-20T15:01:17.751975Z"
    }
   },
   "outputs": [],
   "source": [
    "i = 0\n",
    "\n",
    "for match in match_details:\n",
    "    match['MatchId'] = df['MatchId'].iloc[i]\n",
    "    i += 1"
   ]
  },
  {
   "cell_type": "code",
   "execution_count": null,
   "metadata": {
    "ExecuteTime": {
     "end_time": "2021-07-20T15:01:17.837994Z",
     "start_time": "2021-07-20T15:01:17.834993Z"
    }
   },
   "outputs": [],
   "source": [
    "i = 5902\n",
    "\n",
    "print(match_details[i]['MatchId'])\n",
    "\n",
    "print(df['MatchId'].iloc[i])"
   ]
  },
  {
   "cell_type": "markdown",
   "metadata": {},
   "source": [
    "## Initial Columns"
   ]
  },
  {
   "cell_type": "code",
   "execution_count": null,
   "metadata": {
    "ExecuteTime": {
     "end_time": "2021-07-20T15:01:17.850996Z",
     "start_time": "2021-07-20T15:01:17.839994Z"
    }
   },
   "outputs": [],
   "source": [
    "# match_details_df = pd.DataFrame()\n",
    "\n",
    "# match_details_df_columns = [\n",
    "#     'MatchId',\n",
    "#     'PlayerWin',\n",
    "#     'P1',\n",
    "#     'P1_SpartanRank',\n",
    "#     'P1_PrevTotalXP',\n",
    "#     'P2',\n",
    "#     'P2_SpartanRank',\n",
    "#     'P2_PrevTotalXP',\n",
    "#     'P3',\n",
    "#     'P3_SpartanRank',\n",
    "#     'P3_PrevTotalXP',\n",
    "#     'P4',\n",
    "#     'P4_SpartanRank',\n",
    "#     'P4_PrevTotalXP',\n",
    "#     'E1',\n",
    "#     'E1_SpartanRank',\n",
    "#     'E1_PrevTotalXP',\n",
    "#     'E2',\n",
    "#     'E2_SpartanRank',\n",
    "#     'E2_PrevTotalXP',\n",
    "#     'E3',\n",
    "#     'E3_SpartanRank',\n",
    "#     'E3_PrevTotalXP',\n",
    "#     'E4',\n",
    "#     'E4_SpartanRank',\n",
    "#     'E4_PrevTotalXP',\n",
    "# ]\n",
    "\n",
    "# match_details_df = pd.DataFrame(columns=match_details_df_columns)\n",
    "# match_details_df"
   ]
  },
  {
   "cell_type": "code",
   "execution_count": null,
   "metadata": {
    "ExecuteTime": {
     "end_time": "2021-07-20T15:01:17.863000Z",
     "start_time": "2021-07-20T15:01:17.851997Z"
    }
   },
   "outputs": [],
   "source": [
    "# # player_df_spartanrank = player_df.copy()\n",
    "\n",
    "# run = False\n",
    "\n",
    "# if run == True:\n",
    "#     error_count = 0\n",
    "\n",
    "#     row_count = 0\n",
    "\n",
    "#     user = 'Drymander'\n",
    "\n",
    "#     for match in tqdm(match_details):\n",
    "#     # for match in tqdm(mds):\n",
    "\n",
    "#         try:\n",
    "#             data = match\n",
    "#             df_match = pd.DataFrame()\n",
    "#             columns = [\n",
    "#                 'TeamId',\n",
    "#                 'Gamertag',\n",
    "#                 'SpartanRank',\n",
    "#                 'PrevTotalXP',\n",
    "#             ]\n",
    "#             df_match = pd.DataFrame(columns = columns)\n",
    "#             i = 0\n",
    "\n",
    "#             if len(data['PlayerStats']) != 8:\n",
    "#                 continue\n",
    "\n",
    "#             for player in data['PlayerStats']:\n",
    "\n",
    "#                 player_dic = {}\n",
    "#                 # Team ID\n",
    "#                 player_dic['TeamId'] = data['PlayerStats'][i]['TeamId']\n",
    "#                 if player_dic['TeamId'] not in (0, 1):\n",
    "#                     continue\n",
    "#                 # Gamer Tag\n",
    "#                 player_dic['Gamertag'] = data['PlayerStats'][i]['Player']['Gamertag']\n",
    "#                 # Spartan Rank\n",
    "#                 player_dic['SpartanRank'] = data['PlayerStats'][i]['XpInfo']['SpartanRank']\n",
    "#                 # Previous Total XP\n",
    "#                 player_dic['PrevTotalXP'] = data['PlayerStats'][i]['XpInfo']['PrevTotalXP']\n",
    "#                 df_match = df_match.append(player_dic, ignore_index=True)\n",
    "#                 i += 1\n",
    "\n",
    "#             playerteam = df_match.loc[df_match['Gamertag'] == user, 'TeamId'].values[0]\n",
    "\n",
    "#             if data['TeamStats'][0]['TeamId'] == playerteam:\n",
    "#                 playerteam_stats = data['TeamStats'][0]\n",
    "#                 enemyteam_stats = data['TeamStats'][1]\n",
    "#             else: \n",
    "#                 playerteam_stats = data['TeamStats'][1]\n",
    "#                 enemyteam_stats = data['TeamStats'][0]\n",
    "\n",
    "#             # Tie\n",
    "#             if playerteam_stats['Rank'] == 1 and enemyteam_stats['Rank'] == 1:\n",
    "#                 winner = 'Tie'\n",
    "#             # Player wins\n",
    "#             elif playerteam_stats['Rank'] == 1 and enemyteam_stats['Rank'] == 2:\n",
    "#                 winner = 'Player'\n",
    "#             # Enemy wins\n",
    "#             elif playerteam_stats['Rank'] == 2 and enemyteam_stats['Rank'] == 1:\n",
    "#                 winner = 'Enemy'\n",
    "#             # Error handling\n",
    "#             else:\n",
    "#                 winner = 'Error determining winner'\n",
    "\n",
    "#             player_df = df_match.loc[df_match['TeamId'] == playerteam]\n",
    "#             enemy_df = df_match.loc[df_match['TeamId'] != playerteam]\n",
    "\n",
    "#             row_list = []\n",
    "#             row_list.append(match['MatchId'])\n",
    "#             row_list.append(winner)\n",
    "#             for row in range(len(player_df)):\n",
    "#                 row_list.extend(list(player_df.iloc[row].values[1:]))\n",
    "#             for row in range(len(enemy_df)):\n",
    "#                 row_list.extend(list(enemy_df.iloc[row].values[1:]))\n",
    "\n",
    "#             match_details_df.loc[row_count] = row_list\n",
    "\n",
    "#             row_count += 1\n",
    "\n",
    "#         except:\n",
    "#             error_count += 1\n",
    "#             continue\n",
    "#     print(error_count)\n",
    "#     match_details_df.to_csv('match_details_df.csv')\n",
    "#     match_details_df.head(5)\n",
    "#     match_details_df = match_details_df.drop(['Unnamed: 0'], axis=1)\n",
    "    \n",
    "# else:\n",
    "#     match_details_df = pd.read_csv('match_details_df.csv')\n",
    "#     match_details_df = match_details_df.drop(['Unnamed: 0'], axis=1)\n",
    "    "
   ]
  },
  {
   "cell_type": "code",
   "execution_count": null,
   "metadata": {
    "ExecuteTime": {
     "end_time": "2021-07-20T15:01:17.885004Z",
     "start_time": "2021-07-20T15:01:17.863999Z"
    }
   },
   "outputs": [],
   "source": [
    "# match_details_df.head(3)"
   ]
  },
  {
   "cell_type": "code",
   "execution_count": null,
   "metadata": {
    "ExecuteTime": {
     "end_time": "2021-07-20T15:01:17.895006Z",
     "start_time": "2021-07-20T15:01:17.887004Z"
    }
   },
   "outputs": [],
   "source": [
    "# match_details_df['PlayerWin'].value_counts()"
   ]
  },
  {
   "cell_type": "markdown",
   "metadata": {},
   "source": [
    "# Merge Player DF with Base DF"
   ]
  },
  {
   "cell_type": "code",
   "execution_count": null,
   "metadata": {
    "ExecuteTime": {
     "end_time": "2021-07-20T15:01:17.908009Z",
     "start_time": "2021-07-20T15:01:17.896006Z"
    }
   },
   "outputs": [],
   "source": [
    "# df2 = pd.merge(df, match_details_df, how='inner', on = 'MatchId')\n",
    "# df2.to_csv('df2.csv')\n",
    "\n",
    "# df2.head(10)"
   ]
  },
  {
   "cell_type": "code",
   "execution_count": null,
   "metadata": {
    "ExecuteTime": {
     "end_time": "2021-07-20T15:01:17.917011Z",
     "start_time": "2021-07-20T15:01:17.910009Z"
    }
   },
   "outputs": [],
   "source": [
    "# df2 = pd.read_csv(\"df2.csv\")\n",
    "# df2 = df2.drop(['Unnamed: 0'], axis=1)\n",
    "# df2 = df2.drop(['Unnamed: 0.1'], axis=1)\n",
    "# df2"
   ]
  },
  {
   "cell_type": "markdown",
   "metadata": {},
   "source": [
    "# Pull Stats for All Players\n",
    "\n",
    "Using our match_details_df, we'll pull extended stats for every player we've played with.  This will allow us to pull out more detailed features based on game variant, since players often spend more time in their favoriate variants."
   ]
  },
  {
   "cell_type": "markdown",
   "metadata": {},
   "source": [
    "## Create List of Unique Gamertags"
   ]
  },
  {
   "cell_type": "code",
   "execution_count": null,
   "metadata": {
    "ExecuteTime": {
     "end_time": "2021-07-20T15:01:17.929014Z",
     "start_time": "2021-07-20T15:01:17.918011Z"
    }
   },
   "outputs": [],
   "source": [
    "# column_list = ['P1', 'P2', 'P3', 'P4', 'E1', 'E2', 'E3', 'E4']\n",
    "\n",
    "# unique_gamertags = []\n",
    "\n",
    "# for column in column_list:\n",
    "#     unique_gamertags.extend(list(df2[column].unique()))\n",
    "\n",
    "# len(unique_gamertags)\n",
    "\n",
    "# with open('unique_gamertags.pkl', 'wb') as unique_gamertags_pickle:\n",
    "#     pickle.dump(unique_gamertags, unique_gamertags_pickle)\n",
    "\n"
   ]
  },
  {
   "cell_type": "code",
   "execution_count": null,
   "metadata": {
    "ExecuteTime": {
     "end_time": "2021-07-20T15:01:17.939016Z",
     "start_time": "2021-07-20T15:01:17.930014Z"
    }
   },
   "outputs": [],
   "source": [
    "# gamertag_groups = np.array_split(unique_gamertags, 758)\n",
    "# gamertag_groups[0]"
   ]
  },
  {
   "cell_type": "code",
   "execution_count": null,
   "metadata": {
    "ExecuteTime": {
     "end_time": "2021-07-20T15:01:17.950018Z",
     "start_time": "2021-07-20T15:01:17.940017Z"
    }
   },
   "outputs": [],
   "source": [
    "# gamertag_groups"
   ]
  },
  {
   "cell_type": "markdown",
   "metadata": {},
   "source": [
    "## Code to convert list of player names into a string for the API"
   ]
  },
  {
   "cell_type": "code",
   "execution_count": null,
   "metadata": {
    "ExecuteTime": {
     "end_time": "2021-07-20T15:01:17.960021Z",
     "start_time": "2021-07-20T15:01:17.951018Z"
    }
   },
   "outputs": [],
   "source": [
    "# player_list = str(list(gamertag_groups[0]))[1:-1]\n",
    "\n",
    "# player_list\n",
    "# player_list = player_list.replace(', ',',')\n",
    "# player_list = player_list.replace(\"'\",'')\n",
    "# player_list = player_list.replace(' ','+')\n",
    "\n",
    "# player_list"
   ]
  },
  {
   "cell_type": "markdown",
   "metadata": {},
   "source": [
    "## Player Stats API Call"
   ]
  },
  {
   "cell_type": "code",
   "execution_count": null,
   "metadata": {
    "ExecuteTime": {
     "end_time": "2021-07-20T15:01:17.977025Z",
     "start_time": "2021-07-20T15:01:17.961021Z"
    }
   },
   "outputs": [],
   "source": [
    "# run = False\n",
    "\n",
    "# if run == True:\n",
    "\n",
    "#     all_players = []\n",
    "\n",
    "#     headers = {\n",
    "#         # Request headers\n",
    "#         'Ocp-Apim-Subscription-Key': str(api_key),\n",
    "#     }\n",
    "\n",
    "#     params = urllib.parse.urlencode({\n",
    "#         # Request parameters\n",
    "#     #     'seasonId': '{string}',\n",
    "\n",
    "#     })\n",
    "\n",
    "# #     for group in tqdm(gamertag_groups[0:3]):\n",
    "#     for group in tqdm(gamertag_groups):\n",
    "\n",
    "#         player_list = str(list(group))[1:-1]\n",
    "#         player_list = player_list.replace(', ',',')\n",
    "#         player_list = player_list.replace(\"'\",'')\n",
    "#         player_list = player_list.replace(' ','+')\n",
    "\n",
    "#         try:\n",
    "#             conn = http.client.HTTPSConnection('www.haloapi.com')\n",
    "#             conn.request(\"GET\", f\"/stats/h5/servicerecords/arena?players={player_list}&%s\" % params, \"{body}\", headers)\n",
    "\n",
    "#             response = conn.getresponse()\n",
    "#             players_stats = json.loads(response.read())\n",
    "#             all_players.extend(players_stats['Results'])\n",
    "#         #     print(data)\n",
    "#             conn.close()\n",
    "#         except Exception as e:\n",
    "#             print(\"[Errno {0}] {1}\".format(e.errno, e.strerror))\n",
    "\n",
    "#         time.sleep(1.1)\n",
    "\n",
    "#     with open('all_players.pkl', 'wb') as all_players_pickle:\n",
    "#         pickle.dump(all_players, all_players_pickle)\n",
    "\n",
    "# ######## CAUTION - THIS CONSUMES 16 GB of RAM ##########\n",
    "# else:\n",
    "#     with open('all_players.pkl', 'rb') as all_players_pickle:\n",
    "#         all_players = pickle.load(all_players_pickle)\n",
    "    \n",
    "# len(all_players)\n"
   ]
  },
  {
   "cell_type": "markdown",
   "metadata": {},
   "source": [
    "# Merge All Player Stats with Base Dataframe"
   ]
  },
  {
   "cell_type": "markdown",
   "metadata": {},
   "source": [
    "## Reset GameVaseVariantID to code for model DF"
   ]
  },
  {
   "cell_type": "code",
   "execution_count": null,
   "metadata": {
    "ExecuteTime": {
     "end_time": "2021-07-20T15:01:17.989027Z",
     "start_time": "2021-07-20T15:01:17.978025Z"
    }
   },
   "outputs": [],
   "source": [
    "# df2_save = df2.copy()"
   ]
  },
  {
   "cell_type": "code",
   "execution_count": null,
   "metadata": {
    "ExecuteTime": {
     "end_time": "2021-07-20T15:01:17.999030Z",
     "start_time": "2021-07-20T15:01:17.990028Z"
    }
   },
   "outputs": [],
   "source": [
    "# df2.head(2)"
   ]
  },
  {
   "cell_type": "code",
   "execution_count": null,
   "metadata": {
    "ExecuteTime": {
     "end_time": "2021-07-15T20:34:06.700139Z",
     "start_time": "2021-07-15T20:34:06.672141Z"
    }
   },
   "outputs": [],
   "source": []
  },
  {
   "cell_type": "code",
   "execution_count": null,
   "metadata": {
    "ExecuteTime": {
     "end_time": "2021-07-20T15:01:18.011033Z",
     "start_time": "2021-07-20T15:01:18.000030Z"
    }
   },
   "outputs": [],
   "source": [
    "# run = False\n",
    "\n",
    "# if run == True:\n",
    "\n",
    "#     df = df2.copy()\n",
    "\n",
    "#     row_count = 0\n",
    "\n",
    "#     for index, row in tqdm(df.iterrows()):\n",
    "\n",
    "#         # Set Variant ID\n",
    "#         variant_id = df['GameBaseVariantId'].values[0]\n",
    "\n",
    "#         # Define player / enemy variables\n",
    "#         P1 = (df['P1'].values[row_count], 'P1')\n",
    "#         P2 = (df['P2'].values[row_count], 'P2')\n",
    "#         P3 = (df['P3'].values[row_count], 'P3')\n",
    "#         P4 = (df['P4'].values[row_count], 'P4')\n",
    "#         E1 = (df['E1'].values[row_count], 'E1')\n",
    "#         E2 = (df['E2'].values[row_count], 'E2')\n",
    "#         E3 = (df['E3'].values[row_count], 'E3')\n",
    "#         E4 = (df['E4'].values[row_count], 'E4')\n",
    "#         roster = [P1, P2, P3, P4, E1, E2, E3, E4]\n",
    "\n",
    "#         # For loop to loop through player / enemy variables in dataframe    \n",
    "#         for p in roster:        \n",
    "#             i = 0   \n",
    "\n",
    "#             # Loop through large all_players dictionary and find player / enemy gamertag\n",
    "#             for player in all_players:\n",
    "#                 if all_players[i]['Id'] == p[0]:\n",
    "#     #                 print('found')\n",
    "\n",
    "#                     # Once gamertag found, locate game variant as specified by dataframe row\n",
    "#                     for variant in player['Result']['ArenaStats']['ArenaGameBaseVariantStats']:\n",
    "#                         if variant['GameBaseVariantId'] == variant_id:\n",
    "#                             # Create new row if does not already exist AND\n",
    "#                             # Create new column for TotalTimePlayed using P1, P2, E1, etc.\n",
    "#                             if p[1] + '_TotalTimePlayed' not in df:\n",
    "#                                 df[p[1] + '_TotalTimePlayed'] = pd.Series()\n",
    "#                             try:\n",
    "#                                 df[p[1] + '_TotalTimePlayed'].iloc[row_count] = isodate.parse_duration(variant['TotalTimePlayed']).total_seconds() / 3600\n",
    "#                             except:\n",
    "#                                 df[p[1] + '_TotalTimePlayed'].iloc[row_count] = None\n",
    "\n",
    "#                             if p[1] + '_K/D' not in df:\n",
    "#                                 df[p[1] + '_K/D'] = pd.Series()\n",
    "#                             try:\n",
    "#                                 df[p[1] + '_K/D'].iloc[row_count] = variant['TotalKills'] / variant['TotalDeaths']\n",
    "#                             except:\n",
    "#                                 df[p[1] + '_K/D'].iloc[row_count] = None\n",
    "\n",
    "#                             if p[1] + '_Accuracy' not in df:\n",
    "#                                 df[p[1] + '_Accuracy'] = pd.Series()     \n",
    "#                             try:\n",
    "#                                 df[p[1] + '_Accuracy'].iloc[row_count] = variant['TotalShotsLanded'] / variant['TotalShotsFired']\n",
    "#                             except:\n",
    "#                                 df[p[1] + '_Accuracy'].iloc[row_count] = None\n",
    "\n",
    "#                             if p[1] + '_WinRate' not in df:\n",
    "#                                 df[p[1] + '_WinRate'] = pd.Series()\n",
    "#                             try: \n",
    "#                                 df[p[1] + '_WinRate'].iloc[row_count] = variant['TotalGamesWon'] / variant['TotalGamesLost']\n",
    "#                             except:\n",
    "#                                 df[p[1] + '_WinRate'].iloc[row_count] = None\n",
    "\n",
    "#                     i += 1\n",
    "#         #                 else: \n",
    "#         #                     continue\n",
    "#                 else:\n",
    "#                     i += 1\n",
    "#                     continue\n",
    "\n",
    "#         row_count += 1\n",
    "\n",
    "#     ##     Convert df['PlayerWin'] to .int\n",
    "#     #     df = df[df['PlayerWin'] != 'Tie']\n",
    "#     #     df.loc[(df['PlayerWin'] == 'Player'),'PlayerWin'] = 1\n",
    "#     #     df.loc[(df['PlayerWin'] == 'Enemy'),'PlayerWin'] = 0\n",
    "#     #     df['PlayerWin'] = df['PlayerWin'].astype('int')\n",
    "\n",
    "#         df.to_csv('model_df_w_all_features.csv')\n",
    "\n",
    "# else:\n",
    "#     df = pd.read_csv('model_df_w_all_features.csv')\n",
    "\n",
    "# df.head(3)"
   ]
  },
  {
   "cell_type": "markdown",
   "metadata": {},
   "source": [
    "# Model DF from Single Match Pull"
   ]
  },
  {
   "cell_type": "code",
   "execution_count": null,
   "metadata": {
    "ExecuteTime": {
     "end_time": "2021-07-20T01:49:44.876605Z",
     "start_time": "2021-07-20T01:49:44.741575Z"
    }
   },
   "outputs": [],
   "source": [
    "df = pd.read_csv('MODEL_PULL.csv')\n",
    "\n",
    "df"
   ]
  },
  {
   "cell_type": "code",
   "execution_count": null,
   "metadata": {
    "ExecuteTime": {
     "end_time": "2021-07-20T01:49:45.707422Z",
     "start_time": "2021-07-20T01:49:45.701421Z"
    }
   },
   "outputs": [],
   "source": [
    "df['MapVariantId']"
   ]
  },
  {
   "cell_type": "code",
   "execution_count": null,
   "metadata": {
    "ExecuteTime": {
     "end_time": "2021-07-20T15:01:28.109340Z",
     "start_time": "2021-07-20T15:01:26.119900Z"
    }
   },
   "outputs": [],
   "source": [
    "df = pd.read_csv('MODEL_PULL.csv')\n",
    "# df = df.reset_index\n",
    "df = df.drop(['Unnamed: 0'], axis=1)\n",
    "df['GameBaseVariantId'] = decode_column(df, 'GameBaseVariantId', GameBaseVariantId_dic)\n",
    "df['PlaylistId'] = decode_column(df, 'PlaylistId', PlaylistId_dic)\n",
    "df['MapVariantId'] = decode_maps(df, 'MapVariantId', map_list)\n",
    "\n",
    "df = df[df['WinLoseTie'] != 'Tie']\n",
    "df.loc[(df['WinLoseTie'] == 'Victory'),'WinLoseTie'] = 1\n",
    "df.loc[(df['WinLoseTie'] == 'Defeat'),'WinLoseTie'] = 0\n",
    "df['WinLoseTie'] = df['WinLoseTie'].astype('int')\n",
    "\n",
    "df['Date'] = df['Date'].apply(pd.to_datetime)\n",
    "df = df[(df['Date'] > '2021-07-01')]\n",
    "\n",
    "df"
   ]
  },
  {
   "cell_type": "code",
   "execution_count": null,
   "metadata": {},
   "outputs": [],
   "source": []
  },
  {
   "cell_type": "markdown",
   "metadata": {},
   "source": [
    "# Choose GameBaseVariantId to model"
   ]
  },
  {
   "cell_type": "code",
   "execution_count": null,
   "metadata": {
    "ExecuteTime": {
     "end_time": "2021-07-20T15:01:31.365681Z",
     "start_time": "2021-07-20T15:01:31.352678Z"
    }
   },
   "outputs": [],
   "source": [
    "def choose_gametype(df, GameBaseVariantId, PlaylistId):\n",
    "    if GameBaseVariantId == None and PlaylistId == None:\n",
    "        gametype_df = df\n",
    "    elif GameBaseVariantId == None:\n",
    "        gametype_df = df[df['PlaylistId'] == PlaylistId]\n",
    "    elif PlaylistId == None:\n",
    "        gametype_df = df[df['GameBaseVariantId'] == GameBaseVariantId]\n",
    "    else:\n",
    "        gametype_df = df[(df['GameBaseVariantId'] == GameBaseVariantId) & (df['PlaylistId'] == PlaylistId)]\n",
    "    \n",
    "    return gametype_df\n",
    "\n",
    "df = choose_gametype(df, None, 'Super Fiesta Party')\n",
    "# df = choose_gametype(df, None, None)\n",
    "df['PlaylistId'].value_counts()"
   ]
  },
  {
   "cell_type": "markdown",
   "metadata": {},
   "source": [
    "## Drop columns"
   ]
  },
  {
   "cell_type": "code",
   "execution_count": null,
   "metadata": {
    "ExecuteTime": {
     "end_time": "2021-07-20T15:01:34.028032Z",
     "start_time": "2021-07-20T15:01:33.992024Z"
    }
   },
   "outputs": [],
   "source": [
    "df = df.drop(['Date',\n",
    "        'MatchId',\n",
    "        'GameBaseVariantId',\n",
    "        'PlaylistId',\n",
    "        'MapVariantId',\n",
    "        'P1_Gamertag',\n",
    "        'P2_Gamertag',\n",
    "        'P3_Gamertag',\n",
    "        'P4_Gamertag',\n",
    "        'E1_Gamertag',\n",
    "        'E2_Gamertag',\n",
    "        'E3_Gamertag',\n",
    "        'E4_Gamertag',\n",
    "        'P1_TotalPowerWeaponPossessionTime',\n",
    "        'P2_TotalPowerWeaponPossessionTime',\n",
    "        'P3_TotalPowerWeaponPossessionTime',\n",
    "        'P4_TotalPowerWeaponPossessionTime',\n",
    "        'E1_TotalPowerWeaponPossessionTime',\n",
    "        'E2_TotalPowerWeaponPossessionTime',\n",
    "        'E3_TotalPowerWeaponPossessionTime',\n",
    "        'E4_TotalPowerWeaponPossessionTime',\n",
    "        ]\n",
    "        ,axis=1)\n",
    "df.rename(columns={'WinLoseTie':'PlayerWin'}, inplace=True)\n",
    "\n",
    "df"
   ]
  },
  {
   "cell_type": "markdown",
   "metadata": {},
   "source": [
    "## Feature Creation"
   ]
  },
  {
   "cell_type": "code",
   "execution_count": null,
   "metadata": {
    "ExecuteTime": {
     "end_time": "2021-07-20T15:01:38.443175Z",
     "start_time": "2021-07-20T15:01:38.397165Z"
    }
   },
   "outputs": [],
   "source": [
    "roster = ['P1', 'P2', 'P3', 'P4', 'E1', 'E2', 'E3', 'E4']\n",
    "\n",
    "for player in roster:\n",
    "    df[f'{player}_WinRate'] = df[f'{player}_TotalGamesWon'] / df[f'{player}_TotalGamesLost']\n",
    "    df[f'{player}_K/D'] = df[f'{player}_TotalKills'] / df[f'{player}_TotalDeaths']\n",
    "    df[f'{player}_Accuracy'] = df[f'{player}_TotalShotsLanded'] / df[f'{player}_TotalShotsFired']\n",
    "\n",
    "df = df.dropna()\n",
    "df = df[~df.isin([np.nan, np.inf, -np.inf]).any(1)]"
   ]
  },
  {
   "cell_type": "code",
   "execution_count": null,
   "metadata": {
    "ExecuteTime": {
     "end_time": "2021-07-20T02:57:03.643015Z",
     "start_time": "2021-07-20T02:57:03.639014Z"
    }
   },
   "outputs": [],
   "source": [
    "# df.columns.values"
   ]
  },
  {
   "cell_type": "markdown",
   "metadata": {},
   "source": [
    "# Load Model DF from csv"
   ]
  },
  {
   "cell_type": "code",
   "execution_count": null,
   "metadata": {
    "ExecuteTime": {
     "end_time": "2021-07-20T01:47:21.941655Z",
     "start_time": "2021-07-20T01:47:21.938662Z"
    }
   },
   "outputs": [],
   "source": [
    "# df['GameBaseVariantId'] = decode_column(df, 'GameBaseVariantId', GameBaseVariantId_dic)\n",
    "# df = df.drop(['Unnamed: 0'], axis=1)\n",
    "# df = df[df['PlayerWin'] != 'Tie']\n",
    "# df.loc[(df['PlayerWin'] == 'Player'),'PlayerWin'] = 1\n",
    "# df.loc[(df['PlayerWin'] == 'Enemy'),'PlayerWin'] = 0\n",
    "# df['PlayerWin'] = df['PlayerWin'].astype('int')\n",
    "\n",
    "# df.head(10)"
   ]
  },
  {
   "cell_type": "markdown",
   "metadata": {},
   "source": [
    "# Make Model Dataframe Function"
   ]
  },
  {
   "cell_type": "code",
   "execution_count": null,
   "metadata": {
    "ExecuteTime": {
     "end_time": "2021-07-20T15:02:17.973411Z",
     "start_time": "2021-07-20T15:01:46.010204Z"
    }
   },
   "outputs": [],
   "source": [
    "# feature_list = ['WinRate', 'TotalKills', 'TotalHeadshots', 'TotalWeaponDamage', \n",
    "#                 'TotalShotsFired', 'K/D', \n",
    "#                 'TotalShotsLanded', 'TotalMeleeKills', 'TotalMeleeDamage', 'TotalAssassinations',\n",
    "#                 'TotalGroundPoundKills', 'TotalGroundPoundDamage', 'TotalShoulderBashKills',\n",
    "#                 'TotalShoulderBashDamage', 'TotalGrenadeDamage', 'TotalPowerWeaponKills',\n",
    "#                 'TotalPowerWeaponDamage', 'TotalPowerWeaponGrabs',\n",
    "#                 'TotalDeaths', 'TotalAssists', 'TotalGamesCompleted', 'TotalGamesWon',\n",
    "#                 'TotalGamesLost', 'TotalGamesTied', 'TotalTimePlayed','TotalGrenadeKills',\n",
    "#                 'PrevTotalXP', 'SpartanRank']\n",
    "feature_list = ['WinRate', 'K/D', 'TotalGamesCompleted', 'TotalTimePlayed',\n",
    "                'PrevTotalXP', 'SpartanRank']\n",
    "\n",
    "\n",
    "def make_model_df(df, feature_list, GameBaseVariantId, PlaylistId):\n",
    "    \n",
    "    df = choose_gametype(df, GameBaseVariantId, PlaylistId) \n",
    "    model_df = pd.DataFrame()\n",
    "    model_df['PlayerWin'] = df['PlayerWin']\n",
    "    # Creating columns\n",
    "    for feature in feature_list:\n",
    "        feature_columns = [\n",
    "            f'P1_{feature}', f'P2_{feature}',\n",
    "            f'P3_{feature}', f'P4_{feature}', f'E1_{feature}',\n",
    "            f'E2_{feature}', f'E3_{feature}', f'E4_{feature}',\n",
    "            ]\n",
    "\n",
    "        feature_df = df[feature_columns].copy()\n",
    "\n",
    "        # Sort Players in dataframe by highest value\n",
    "        i = 0\n",
    "        for row in tqdm(feature_df.iterrows()):\n",
    "                # Sort player / enemy from highest to lowest in row\n",
    "            feature_df.iloc[i, 0:4] = feature_df.iloc[i, 0:4].sort_values(ascending=False).values\n",
    "            feature_df.iloc[i, 4:8] = feature_df.iloc[i, 4:8].sort_values(ascending=False).values\n",
    "            i += 1\n",
    "            \n",
    "        model_df = model_df.join(feature_df, on=model_df.index)\n",
    "        \n",
    "    model_df = model_df.dropna()\n",
    "    return model_df\n",
    "            \n",
    "# model_df = make_model_df(hr_df, ['TotalTimePlayed'])\n",
    "# hr_model_df = make_model_df(hr_df, ['TotalTimePlayed'])\n",
    "df = make_model_df(df, feature_list, None, None)\n",
    "\n",
    "df"
   ]
  },
  {
   "cell_type": "code",
   "execution_count": null,
   "metadata": {
    "ExecuteTime": {
     "end_time": "2021-07-20T15:02:21.075975Z",
     "start_time": "2021-07-20T15:02:21.038967Z"
    }
   },
   "outputs": [],
   "source": [
    "df_total=pd.DataFrame()\n",
    "df_total['PlayerWin'] = df['PlayerWin']\n",
    "for feature in feature_list:\n",
    "    df_total[f'Player_{feature}'] = df[f'P1_{feature}'] + df[f'P2_{feature}'] + df[f'P3_{feature}'] + df[f'P4_{feature}']\n",
    "    df_total[f'Enemy_{feature}'] = df[f'E1_{feature}'] + df[f'E2_{feature}'] + df[f'E3_{feature}'] + df[f'E4_{feature}']\n",
    "    df_total[f'Player_{feature}'] = df_total[f'Player_{feature}'] / 4\n",
    "    df_total[f'Enemy_{feature}'] = df_total[f'Enemy_{feature}'] / 4\n",
    "\n",
    "    \n",
    "df = df_total.copy()\n",
    "df"
   ]
  },
  {
   "cell_type": "code",
   "execution_count": null,
   "metadata": {
    "ExecuteTime": {
     "end_time": "2021-07-20T14:34:46.518230Z",
     "start_time": "2021-07-20T14:34:46.498235Z"
    }
   },
   "outputs": [],
   "source": [
    "df"
   ]
  },
  {
   "cell_type": "markdown",
   "metadata": {},
   "source": [
    "# Model with All Features"
   ]
  },
  {
   "cell_type": "code",
   "execution_count": null,
   "metadata": {
    "ExecuteTime": {
     "end_time": "2021-07-20T14:32:40.955405Z",
     "start_time": "2021-07-20T14:32:40.947396Z"
    }
   },
   "outputs": [],
   "source": [
    "model_df = df.copy()\n",
    "\n",
    "# Assigning X and y for train test split\n",
    "\n",
    "features = model_df.drop(['PlayerWin'], axis=1)\n",
    "target = model_df['PlayerWin']\n",
    "\n",
    "\n",
    "X = features\n",
    "y = target\n",
    "\n",
    "y=y.astype('int')\n",
    "\n",
    "X_train, X_test, y_train, y_test = train_test_split(X, y, test_size=0.3, \n",
    "                                                    random_state=8)\n",
    "\n",
    "print(X_train.shape)\n",
    "print(X_test.shape)"
   ]
  },
  {
   "cell_type": "code",
   "execution_count": null,
   "metadata": {
    "ExecuteTime": {
     "end_time": "2021-07-20T14:32:45.202781Z",
     "start_time": "2021-07-20T14:32:45.188786Z"
    }
   },
   "outputs": [],
   "source": [
    "# model_log = LogisticRegression(random_state=8)\n",
    "model_log = LogisticRegression(random_state=8)\n",
    "model_log.fit(X_train, y_train)"
   ]
  },
  {
   "cell_type": "code",
   "execution_count": null,
   "metadata": {
    "ExecuteTime": {
     "end_time": "2021-07-20T14:32:46.308154Z",
     "start_time": "2021-07-20T14:32:46.244140Z"
    }
   },
   "outputs": [],
   "source": [
    "def cross_val_check(model_string_name, model, X_train, y_train, X_test, y_test):\n",
    "    scores = cross_val_score(model, X_train, y_train, cv=5) # model, train, target, cross validation\n",
    "    print(f'{model_string_name} Cross Validation Scores:')\n",
    "    print(scores)\n",
    "    print(f'\\nCross validation mean: \\t{scores.mean():.2%}')\n",
    "    \n",
    "cross_val_check('Logistic Regression', model_log, X_train, y_train, X_test, y_test)"
   ]
  },
  {
   "cell_type": "code",
   "execution_count": null,
   "metadata": {
    "ExecuteTime": {
     "end_time": "2021-07-20T14:32:49.754574Z",
     "start_time": "2021-07-20T14:32:49.348482Z"
    }
   },
   "outputs": [],
   "source": [
    "def evaluate_model(model, X_train, X_test, y_train, \n",
    "                   y_test, cmap='Greens', normalize=None,\n",
    "                   classes=None,figsize=(10,4), graphs=False):\n",
    "    \n",
    "    \"\"\"\n",
    "    model :: classifier user desires to evaluate\n",
    "    X_train :: X training data\n",
    "    X_test :: X test data\n",
    "    y_train :: y_train data\n",
    "    y_test :: y_train data\n",
    "    cmap :: color palette of confusion matrix\n",
    "    normalize :: set to True if normalized confusion matrix is desired\n",
    "    figsize :: desired plot size\n",
    "\n",
    "    \"\"\"\n",
    "    \n",
    "    # Print model accuracy\n",
    "    print(f'Training Accuracy: {model.score(X_train,y_train):.2%}')\n",
    "    print(f'Test Accuracy: {model.score(X_test,y_test):.2%}')\n",
    "    print('')\n",
    "    \n",
    "    if graphs == True:\n",
    "        # Print classification report\n",
    "        y_test_predict = model.predict(X_test)\n",
    "        print(metrics.classification_report(y_test, y_test_predict,\n",
    "                                            target_names=classes))\n",
    "\n",
    "        # Plot confusion matrix\n",
    "        fig,ax = plt.subplots(ncols=2,figsize=figsize)\n",
    "        metrics.plot_confusion_matrix(model, X_test,y_test,cmap=cmap, \n",
    "                                      normalize=normalize,display_labels=classes,\n",
    "                                      ax=ax[0])\n",
    "\n",
    "        #Plot ROC curves\n",
    "        with sns.axes_style(\"darkgrid\"):\n",
    "            curve = metrics.plot_roc_curve(model,X_train,y_train,ax=ax[1])\n",
    "            curve2 = metrics.plot_roc_curve(model,X_test,y_test,ax=ax[1])\n",
    "            curve.ax_.grid()\n",
    "            curve.ax_.plot([0,1],[0,1],ls=':')\n",
    "            fig.tight_layout()\n",
    "            plt.show()\n",
    "        \n",
    "evaluate_model(model_log, X_train, X_test, y_train, \n",
    "                   y_test, graphs=True)"
   ]
  },
  {
   "cell_type": "code",
   "execution_count": null,
   "metadata": {
    "ExecuteTime": {
     "end_time": "2021-07-20T14:29:23.325088Z",
     "start_time": "2021-07-20T14:29:23.323087Z"
    }
   },
   "outputs": [],
   "source": [
    "from sklearn.preprocessing import MinMaxScaler\n",
    "from sklearn.preprocessing import RobustScaler\n",
    "from sklearn.preprocessing import MaxAbsScaler"
   ]
  },
  {
   "cell_type": "code",
   "execution_count": null,
   "metadata": {
    "ExecuteTime": {
     "end_time": "2021-07-20T14:32:56.497255Z",
     "start_time": "2021-07-20T14:32:56.021148Z"
    }
   },
   "outputs": [],
   "source": [
    "def make_model(df, regressor=LogisticRegression, scale=False, graphs=False, dummy=False, cmap='Greens',\n",
    "              slim=False, scaler=StandardScaler()):\n",
    "\n",
    "    # Assigning X and y for train test split\n",
    "\n",
    "    X = df.drop(['PlayerWin'], axis=1)\n",
    "    y = df['PlayerWin']\n",
    "\n",
    "    y=y.astype('int')\n",
    "\n",
    "    X_train, X_test, y_train, y_test = train_test_split(X, y, test_size=0.3, \n",
    "                                                        random_state=8)\n",
    "    \n",
    "    if scale==True:\n",
    "#         numericals = X.select_dtypes(X.iloc[1].dtypes).columns\n",
    "        scaler = scaler\n",
    "        X_train = pd.DataFrame(scaler.fit_transform(X_train))\n",
    "        X_test = pd.DataFrame(scaler.transform(X_test))\n",
    "    \n",
    "    if dummy == True:\n",
    "        model_log = DummyClassifier(strategy='stratified')\n",
    "        print('Using Dummy Model')\n",
    "    else:\n",
    "        model_log = regressor\n",
    "    \n",
    "    model_log.fit(X_train, y_train)\n",
    "    total_samples = X_train.shape[0] + X_test.shape[0]\n",
    "    print(f'Total number of samples: {total_samples}')\n",
    "    print('------------------------------------------')\n",
    "#     print(f'The X_train shape is: {X_train.shape}')\n",
    "#     print(f'The X_test shape is: {X_test.shape}')\n",
    "    if slim == False:\n",
    "        cross_val_check('Logistic Regression', model_log, X_train, y_train, X_test, y_test)\n",
    "    evaluate_model(model_log, X_train, X_test, y_train, y_test, graphs=graphs, cmap=cmap)\n",
    "    \n",
    "#     return X_train, X_test, y_train, y_test\n",
    "\n",
    "make_model(model_df, scale=False, graphs=True, regressor=LogisticRegression())"
   ]
  },
  {
   "cell_type": "code",
   "execution_count": null,
   "metadata": {
    "ExecuteTime": {
     "end_time": "2021-07-20T14:33:30.329368Z",
     "start_time": "2021-07-20T14:33:29.833264Z"
    }
   },
   "outputs": [],
   "source": [
    "make_model(model_df, scale=True, graphs=True, \n",
    "           regressor=LogisticRegression(), scaler=StandardScaler())\n",
    "# make_model(model_df, scale=True, graphs=True, \n",
    "#            regressor=LogisticRegression(), scaler=RobustScaler())\n",
    "# make_model(model_df, scale=True, graphs=True, \n",
    "#            regressor=LogisticRegression(), scaler=PowerTransformer())\n"
   ]
  },
  {
   "cell_type": "code",
   "execution_count": null,
   "metadata": {
    "ExecuteTime": {
     "end_time": "2021-07-20T14:33:44.138035Z",
     "start_time": "2021-07-20T14:33:43.738946Z"
    }
   },
   "outputs": [],
   "source": [
    "make_model(model_df, scale=False, graphs=True, dummy=True, \n",
    "           cmap='Reds', regressor=LogisticRegression())"
   ]
  },
  {
   "cell_type": "markdown",
   "metadata": {},
   "source": [
    "## Linear Regression Feature Importances"
   ]
  },
  {
   "cell_type": "code",
   "execution_count": null,
   "metadata": {
    "ExecuteTime": {
     "end_time": "2021-07-20T14:33:48.811975Z",
     "start_time": "2021-07-20T14:33:48.779975Z"
    }
   },
   "outputs": [],
   "source": [
    "model_df = df.copy()\n",
    "\n",
    "# Assigning X and y for train test split\n",
    "\n",
    "features = model_df.drop(['PlayerWin'], axis=1)\n",
    "target = model_df['PlayerWin']\n",
    "\n",
    "\n",
    "X = features\n",
    "y = target\n",
    "\n",
    "y=y.astype('int')\n",
    "\n",
    "X_train, X_test, y_train, y_test = train_test_split(X, y, test_size=0.3, \n",
    "                                                    random_state=8)\n",
    "scaler = StandardScaler()\n",
    "X_train = pd.DataFrame(scaler.fit_transform(X_train))\n",
    "X_test = pd.DataFrame(scaler.transform(X_test))\n",
    "\n",
    "model_log = LogisticRegression(random_state=8)\n",
    "model_log.fit(X_train, y_train)\n",
    "\n",
    "print(X_train.shape)\n",
    "print(X_test.shape)"
   ]
  },
  {
   "cell_type": "code",
   "execution_count": null,
   "metadata": {
    "ExecuteTime": {
     "end_time": "2021-07-20T14:33:49.470740Z",
     "start_time": "2021-07-20T14:33:49.452736Z"
    }
   },
   "outputs": [],
   "source": [
    "model_df"
   ]
  },
  {
   "cell_type": "code",
   "execution_count": null,
   "metadata": {
    "ExecuteTime": {
     "end_time": "2021-07-20T14:33:51.208413Z",
     "start_time": "2021-07-20T14:33:50.492251Z"
    }
   },
   "outputs": [],
   "source": [
    "def model_accuracy(model, X_train=X_train, y_train=y_train, X_test=X_test, y_test=y_test):\n",
    "    print(f'Training Accuracy: {model.score(X_train,y_train):.2%}')\n",
    "    print(f'Test Accuracy: {model.score(X_test,y_test):.2%}')\n",
    "# Create coefficient graph function\n",
    "\n",
    "# Uncomment line below to create images for presentation\n",
    "# sns.set_context('talk')\n",
    "\n",
    "def plot_coefficients(model, features, X_train, X_test, y_train=y_train, y_test=y_test, count=20):    \n",
    "    \n",
    "    # Train model on X_train and y_train\n",
    "#     model.fit(X_train, y_train)\n",
    "    \n",
    "    # Create a list of coefficients\n",
    "    coeffs = pd.Series(model.coef_.flatten(), index=features.columns).sort_values(ascending=False)\n",
    "#     coeffs = coeffs[:20]\n",
    "    top_coeffs = coeffs[:count]\n",
    "    bottom_coeffs = coeffs[-count:]\n",
    "    coeffs = top_coeffs.append(bottom_coeffs)\n",
    "    # Display accuracy of newly trained model\n",
    "    model_accuracy(model, X_train=X_train, y_train=y_train, X_test=X_test, y_test=y_test)\n",
    "\n",
    "    # Create coefficients plot\n",
    "    with sns.axes_style(\"darkgrid\"):\n",
    "        plt.figure(figsize=(12, 10))\n",
    "        ax = sns.barplot(x=coeffs, y=coeffs.index, palette='coolwarm')\n",
    "        ax.set(xlabel='Log Coefficients', ylabel='Features')\n",
    "    \n",
    "    # Save image\n",
    "    plt.tight_layout()\n",
    "\n",
    "    \n",
    "plot_coefficients(model_log, features, X_train, X_test)"
   ]
  },
  {
   "cell_type": "code",
   "execution_count": null,
   "metadata": {},
   "outputs": [],
   "source": []
  },
  {
   "cell_type": "code",
   "execution_count": null,
   "metadata": {},
   "outputs": [],
   "source": []
  },
  {
   "cell_type": "code",
   "execution_count": null,
   "metadata": {},
   "outputs": [],
   "source": []
  },
  {
   "cell_type": "markdown",
   "metadata": {},
   "source": [
    "# Random Forest"
   ]
  },
  {
   "cell_type": "code",
   "execution_count": null,
   "metadata": {
    "ExecuteTime": {
     "end_time": "2021-07-20T14:35:18.542097Z",
     "start_time": "2021-07-20T14:35:14.005082Z"
    }
   },
   "outputs": [],
   "source": [
    "make_model(model_df, scale=False, graphs=True, regressor=RandomForestClassifier())"
   ]
  },
  {
   "cell_type": "code",
   "execution_count": null,
   "metadata": {
    "ExecuteTime": {
     "end_time": "2021-07-20T14:35:25.472034Z",
     "start_time": "2021-07-20T14:35:20.903005Z"
    }
   },
   "outputs": [],
   "source": [
    "make_model(model_df, scale=True, graphs=True, \n",
    "           regressor=RandomForestClassifier(), scaler=StandardScaler())"
   ]
  },
  {
   "cell_type": "markdown",
   "metadata": {},
   "source": [
    "# Support Vector Machines"
   ]
  },
  {
   "cell_type": "code",
   "execution_count": null,
   "metadata": {
    "ExecuteTime": {
     "end_time": "2021-07-20T14:35:32.535707Z",
     "start_time": "2021-07-20T14:35:30.040153Z"
    }
   },
   "outputs": [],
   "source": [
    "make_model(model_df, scale=False, graphs=True, regressor=svm.SVC())"
   ]
  },
  {
   "cell_type": "code",
   "execution_count": null,
   "metadata": {
    "ExecuteTime": {
     "end_time": "2021-07-20T14:35:34.893239Z",
     "start_time": "2021-07-20T14:35:32.536708Z"
    }
   },
   "outputs": [],
   "source": [
    "# make_model(model_df, scale=True, graphs=True, regressor=svm.SVC(), scaler=RobustScaler())\n",
    "# make_model(model_df, scale=True, graphs=True, regressor=svm.SVC(), scaler=StandardScaler())\n",
    "make_model(model_df, scale=True, graphs=True, regressor=svm.SVC(), scaler=PowerTransformer())"
   ]
  },
  {
   "cell_type": "markdown",
   "metadata": {},
   "source": [
    "## SVM with Grid Search"
   ]
  },
  {
   "cell_type": "code",
   "execution_count": null,
   "metadata": {
    "ExecuteTime": {
     "end_time": "2021-07-20T02:40:25.978602Z",
     "start_time": "2021-07-20T02:40:25.883581Z"
    }
   },
   "outputs": [],
   "source": [
    "model = svm.SVC()\n",
    "\n",
    "scaler = RobustScaler()\n",
    "X_train = pd.DataFrame(scaler.fit_transform(X_train))\n",
    "X_test = pd.DataFrame(scaler.transform(X_test))\n",
    "\n",
    "model.fit(X_train, y_train)\n",
    "  \n",
    "# print prediction results\n",
    "predictions = model.predict(X_test)\n",
    "print(classification_report(y_test, predictions))"
   ]
  },
  {
   "cell_type": "code",
   "execution_count": null,
   "metadata": {
    "ExecuteTime": {
     "end_time": "2021-07-20T02:40:45.457611Z",
     "start_time": "2021-07-20T02:40:32.221625Z"
    }
   },
   "outputs": [],
   "source": [
    "from sklearn.model_selection import GridSearchCV\n",
    "  \n",
    "# defining parameter range\n",
    "param_grid = {'C': [0.1, 1, 10, 100, 1000], \n",
    "              'gamma': [1, 0.1, 0.01, 0.001, 0.0001],\n",
    "              'kernel': ['rbf']} \n",
    "  \n",
    "grid = GridSearchCV(svm.SVC(), param_grid, refit = True, verbose = 100)\n",
    "  \n",
    "# fitting the model for grid search\n",
    "grid.fit(X_train, y_train)"
   ]
  },
  {
   "cell_type": "code",
   "execution_count": null,
   "metadata": {
    "ExecuteTime": {
     "end_time": "2021-07-20T02:40:49.322048Z",
     "start_time": "2021-07-20T02:40:48.799929Z"
    }
   },
   "outputs": [],
   "source": [
    "print(f\"Cross Validated Score: {grid.best_score_ :.2%}\")\n",
    "print(\"\")\n",
    "print(f\"Optimal Parameters: {grid.best_params_}\")\n",
    "\n",
    "evaluate_model(grid.best_estimator_,X_train, X_test, y_train, \n",
    "                   y_test, cmap='Purples', graphs=True)"
   ]
  },
  {
   "cell_type": "markdown",
   "metadata": {},
   "source": [
    "## Feature Importances"
   ]
  },
  {
   "cell_type": "code",
   "execution_count": null,
   "metadata": {
    "ExecuteTime": {
     "end_time": "2021-07-20T01:59:18.736959Z",
     "start_time": "2021-07-20T01:59:18.731958Z"
    }
   },
   "outputs": [],
   "source": [
    "X_train.columns"
   ]
  },
  {
   "cell_type": "code",
   "execution_count": null,
   "metadata": {
    "ExecuteTime": {
     "end_time": "2021-07-20T02:01:05.634359Z",
     "start_time": "2021-07-20T02:01:02.873737Z"
    }
   },
   "outputs": [],
   "source": [
    "def f_importances(coef, names, top=-1):\n",
    "    imp = coef\n",
    "    imp, names = zip(*sorted(list(zip(imp, names))))\n",
    "\n",
    "    # Show all features\n",
    "    if top == -1:\n",
    "        top = len(names)\n",
    "\n",
    "    plt.barh(range(top), imp[::-1][0:top], align='center')\n",
    "    plt.yticks(range(top), names[::-1][0:top])\n",
    "    plt.show()\n",
    "\n",
    "model = svm.SVC(kernel='linear')\n",
    "\n",
    "scaler = RobustScaler()\n",
    "X_train = pd.DataFrame(scaler.fit_transform(X_train))\n",
    "X_test = pd.DataFrame(scaler.transform(X_test))\n",
    "\n",
    "features_names = model_df.columns\n",
    "\n",
    "model.fit(X_train, y_train)\n",
    "# f_importances(model.coef_, feature_names)\n",
    "f_importances(abs(model.coef_[0]), features_names, top=10)"
   ]
  },
  {
   "cell_type": "code",
   "execution_count": null,
   "metadata": {},
   "outputs": [],
   "source": []
  },
  {
   "cell_type": "markdown",
   "metadata": {},
   "source": [
    "# XGBoost"
   ]
  },
  {
   "cell_type": "code",
   "execution_count": null,
   "metadata": {
    "ExecuteTime": {
     "end_time": "2021-07-20T14:35:44.197006Z",
     "start_time": "2021-07-20T14:35:43.033751Z"
    }
   },
   "outputs": [],
   "source": [
    "make_model(model_df, scale=False, graphs=True, regressor=XGBClassifier())"
   ]
  },
  {
   "cell_type": "code",
   "execution_count": null,
   "metadata": {
    "ExecuteTime": {
     "end_time": "2021-07-20T14:35:48.156525Z",
     "start_time": "2021-07-20T14:35:46.922246Z"
    }
   },
   "outputs": [],
   "source": [
    "# make_model(model_df, scale=True, graphs=True, regressor=XGBClassifier(), scaler=StandardScaler())\n",
    "# make_model(model_df, scale=True, graphs=True, regressor=XGBClassifier(), scaler=RobustScaler())\n",
    "make_model(model_df, scale=True, graphs=True, regressor=XGBClassifier(), scaler=PowerTransformer())"
   ]
  },
  {
   "cell_type": "markdown",
   "metadata": {},
   "source": [
    "# K Nearest Neighbors"
   ]
  },
  {
   "cell_type": "code",
   "execution_count": null,
   "metadata": {
    "ExecuteTime": {
     "end_time": "2021-07-20T14:28:24.801096Z",
     "start_time": "2021-07-20T14:28:23.251747Z"
    }
   },
   "outputs": [],
   "source": [
    "from sklearn.neighbors import KNeighborsClassifier\n",
    "\n",
    "make_model(model_df, scale=False, graphs=True, regressor=KNeighborsClassifier())"
   ]
  },
  {
   "cell_type": "code",
   "execution_count": null,
   "metadata": {
    "ExecuteTime": {
     "end_time": "2021-07-20T14:28:48.193778Z",
     "start_time": "2021-07-20T14:28:43.956823Z"
    }
   },
   "outputs": [],
   "source": [
    "make_model(model_df, scale=True, graphs=True, \n",
    "           regressor=KNeighborsClassifier(), scaler=PowerTransformer())"
   ]
  },
  {
   "cell_type": "code",
   "execution_count": null,
   "metadata": {},
   "outputs": [],
   "source": []
  },
  {
   "cell_type": "markdown",
   "metadata": {},
   "source": [
    "# Neural Networks"
   ]
  },
  {
   "cell_type": "markdown",
   "metadata": {},
   "source": [
    "## MLP Classifier"
   ]
  },
  {
   "cell_type": "code",
   "execution_count": null,
   "metadata": {
    "ExecuteTime": {
     "end_time": "2021-07-20T14:40:54.048649Z",
     "start_time": "2021-07-20T14:40:51.983192Z"
    }
   },
   "outputs": [],
   "source": [
    "from sklearn.neural_network import MLPClassifier\n",
    "\n",
    "make_model(model_df, scale=True, scaler=PowerTransformer(), graphs=True, \n",
    "           regressor=MLPClassifier(solver='lbfgs', alpha=1e-5, \n",
    "                                   hidden_layer_sizes=(5, 2), random_state=1))"
   ]
  },
  {
   "cell_type": "markdown",
   "metadata": {},
   "source": [
    "## CNN Model"
   ]
  },
  {
   "cell_type": "code",
   "execution_count": null,
   "metadata": {
    "ExecuteTime": {
     "end_time": "2021-07-20T15:02:32.182318Z",
     "start_time": "2021-07-20T15:02:30.287900Z"
    }
   },
   "outputs": [],
   "source": [
    "import pandas\n",
    "from keras.models import Sequential\n",
    "from keras.layers import Dense\n",
    "from keras.wrappers.scikit_learn import KerasClassifier\n",
    "from sklearn.model_selection import cross_val_score\n",
    "from sklearn.preprocessing import LabelEncoder\n",
    "from sklearn.model_selection import StratifiedKFold\n",
    "from sklearn.preprocessing import StandardScaler\n",
    "from sklearn.pipeline import Pipeline"
   ]
  },
  {
   "cell_type": "code",
   "execution_count": null,
   "metadata": {
    "ExecuteTime": {
     "end_time": "2021-07-20T14:56:25.747585Z",
     "start_time": "2021-07-20T14:56:25.730581Z"
    }
   },
   "outputs": [],
   "source": [
    "X"
   ]
  },
  {
   "cell_type": "code",
   "execution_count": null,
   "metadata": {
    "ExecuteTime": {
     "end_time": "2021-07-20T15:02:40.869082Z",
     "start_time": "2021-07-20T15:02:40.864081Z"
    }
   },
   "outputs": [],
   "source": [
    "model_df = df.copy()\n",
    "\n",
    "# Assigning X and y for train test split\n",
    "\n",
    "features = model_df.drop(['PlayerWin'], axis=1)\n",
    "target = model_df['PlayerWin']\n",
    "\n",
    "\n",
    "X = features\n",
    "Y = target\n",
    "\n",
    "Y=Y.astype('int')"
   ]
  },
  {
   "cell_type": "code",
   "execution_count": null,
   "metadata": {
    "ExecuteTime": {
     "end_time": "2021-07-20T15:02:45.157651Z",
     "start_time": "2021-07-20T15:02:45.153659Z"
    }
   },
   "outputs": [],
   "source": [
    "encoder = LabelEncoder()\n",
    "encoder.fit(Y)\n",
    "encoded_Y = encoder.transform(Y)"
   ]
  },
  {
   "cell_type": "code",
   "execution_count": null,
   "metadata": {
    "ExecuteTime": {
     "end_time": "2021-07-20T15:02:45.471722Z",
     "start_time": "2021-07-20T15:02:45.468722Z"
    }
   },
   "outputs": [],
   "source": [
    "\n",
    "# baseline model\n",
    "def create_baseline():\n",
    "\t# create model\n",
    "\tmodel = Sequential()\n",
    "\tmodel.add(Dense(12, input_dim=12, activation='relu'))\n",
    "\tmodel.add(Dense(1, activation='sigmoid'))\n",
    "\t# Compile model\n",
    "\tmodel.compile(loss='binary_crossentropy', optimizer='adam', metrics=['accuracy'])\n",
    "\treturn model"
   ]
  },
  {
   "cell_type": "code",
   "execution_count": null,
   "metadata": {
    "ExecuteTime": {
     "end_time": "2021-07-20T15:09:19.695069Z",
     "start_time": "2021-07-20T15:02:47.824721Z"
    },
    "scrolled": true
   },
   "outputs": [],
   "source": [
    "\n",
    "# evaluate model with standardized dataset\n",
    "estimator = KerasClassifier(build_fn=create_baseline, epochs=100, batch_size=5, verbose=True)\n",
    "kfold = StratifiedKFold(n_splits=10, shuffle=True)\n",
    "results = cross_val_score(estimator, X, encoded_Y, cv=kfold)\n",
    "print(\"Baseline: %.2f%% (%.2f%%)\" % (results.mean()*100, results.std()*100))"
   ]
  },
  {
   "cell_type": "code",
   "execution_count": null,
   "metadata": {},
   "outputs": [],
   "source": []
  },
  {
   "cell_type": "code",
   "execution_count": null,
   "metadata": {},
   "outputs": [],
   "source": []
  },
  {
   "cell_type": "markdown",
   "metadata": {},
   "source": [
    "### Investigating Models with more recent samples"
   ]
  },
  {
   "cell_type": "code",
   "execution_count": null,
   "metadata": {
    "ExecuteTime": {
     "end_time": "2021-07-15T23:07:47.344640Z",
     "start_time": "2021-07-15T23:07:47.206610Z"
    }
   },
   "outputs": [],
   "source": [
    "def make_many_models(df, head_list, scale=False):\n",
    "    for number in head_list:\n",
    "        make_model(df.head(number), scale=scale, graphs=False, slim=True)\n",
    "\n",
    "make_many_models(model_df, [3000, 2500, 2000, 1500, 1000, 750])"
   ]
  },
  {
   "cell_type": "markdown",
   "metadata": {},
   "source": [
    "## Time, K/D, Accuracy, Win Rate"
   ]
  },
  {
   "cell_type": "code",
   "execution_count": null,
   "metadata": {
    "ExecuteTime": {
     "end_time": "2021-07-15T23:00:15.841337Z",
     "start_time": "2021-07-15T22:59:59.598655Z"
    }
   },
   "outputs": [],
   "source": [
    "time_kd_acc_win_df = make_model_df(df, ['TotalTimePlayed', \n",
    "                              'K/D', 'Accuracy', 'WinRate'], \n",
    "                         None, None)\n",
    "\n",
    "make_model(model_df, scale=False, graphs=True)"
   ]
  },
  {
   "cell_type": "code",
   "execution_count": null,
   "metadata": {
    "ExecuteTime": {
     "end_time": "2021-07-15T23:20:37.667681Z",
     "start_time": "2021-07-15T23:20:37.270590Z"
    }
   },
   "outputs": [],
   "source": [
    "make_many_models(time_kd_acc_win_df, [4017, 3000, 2500, 2000, 1500, 1000, 750, 500], scale=False)"
   ]
  },
  {
   "cell_type": "markdown",
   "metadata": {},
   "source": [
    "## Time, Win Rate"
   ]
  },
  {
   "cell_type": "code",
   "execution_count": null,
   "metadata": {
    "ExecuteTime": {
     "end_time": "2021-07-15T23:06:11.725760Z",
     "start_time": "2021-07-15T23:06:03.640928Z"
    }
   },
   "outputs": [],
   "source": [
    "time_win_df = make_model_df(df, ['TotalTimePlayed', \n",
    "                              'WinRate'], \n",
    "                         None, None)"
   ]
  },
  {
   "cell_type": "code",
   "execution_count": null,
   "metadata": {
    "ExecuteTime": {
     "end_time": "2021-07-15T23:20:19.154426Z",
     "start_time": "2021-07-15T23:20:18.788352Z"
    }
   },
   "outputs": [],
   "source": [
    "make_many_models(time_win_df, [4017, 3000, 2500, 2000, 1500, 1000, 750, 500])"
   ]
  },
  {
   "cell_type": "code",
   "execution_count": null,
   "metadata": {},
   "outputs": [],
   "source": []
  },
  {
   "cell_type": "markdown",
   "metadata": {},
   "source": [
    "# Super Fiesta\n",
    "\n",
    "The reason I made this project\n",
    "\n",
    "## Super Fiesta Slayer\n",
    "\n",
    "## Husky Raid"
   ]
  },
  {
   "cell_type": "markdown",
   "metadata": {},
   "source": [
    "#### Super Fiesta"
   ]
  },
  {
   "cell_type": "code",
   "execution_count": null,
   "metadata": {
    "ExecuteTime": {
     "end_time": "2021-07-15T23:10:29.759869Z",
     "start_time": "2021-07-15T23:10:14.521424Z"
    }
   },
   "outputs": [],
   "source": [
    "super_fiesta_df = make_model_df(df, ['TotalTimePlayed', \n",
    "                              'K/D', 'Accuracy', 'WinRate'], \n",
    "                         None, 'Super Fiesta Party')"
   ]
  },
  {
   "cell_type": "code",
   "execution_count": null,
   "metadata": {
    "ExecuteTime": {
     "end_time": "2021-07-15T23:21:43.548413Z",
     "start_time": "2021-07-15T23:21:43.246355Z"
    }
   },
   "outputs": [],
   "source": [
    "make_many_models(super_fiesta_df, [3765, 3000, 2000, 1500, 1000, 750], scale=False)"
   ]
  },
  {
   "cell_type": "markdown",
   "metadata": {},
   "source": [
    "#### Super Fiesta Slayer"
   ]
  },
  {
   "cell_type": "code",
   "execution_count": null,
   "metadata": {
    "ExecuteTime": {
     "end_time": "2021-07-15T23:10:34.928042Z",
     "start_time": "2021-07-15T23:10:30.089944Z"
    }
   },
   "outputs": [],
   "source": [
    "super_fiesta_slayer_df = make_model_df(df, ['TotalTimePlayed', \n",
    "                              'K/D', 'Accuracy', 'WinRate'], \n",
    "                         'Slayer', 'Super Fiesta Party')"
   ]
  },
  {
   "cell_type": "code",
   "execution_count": null,
   "metadata": {
    "ExecuteTime": {
     "end_time": "2021-07-15T23:21:51.349241Z",
     "start_time": "2021-07-15T23:21:51.167210Z"
    }
   },
   "outputs": [],
   "source": [
    "make_many_models(super_fiesta_slayer_df, [1190, 900, 700, 500])"
   ]
  },
  {
   "cell_type": "code",
   "execution_count": null,
   "metadata": {
    "ExecuteTime": {
     "end_time": "2021-07-15T23:23:40.669565Z",
     "start_time": "2021-07-15T23:23:40.572551Z"
    }
   },
   "outputs": [],
   "source": [
    "make_many_models(super_fiesta_slayer_df, [1190, 900, 700, 500], scale=True)"
   ]
  },
  {
   "cell_type": "markdown",
   "metadata": {},
   "source": [
    "#### Husky Raid"
   ]
  },
  {
   "cell_type": "code",
   "execution_count": null,
   "metadata": {
    "ExecuteTime": {
     "end_time": "2021-07-15T23:10:44.305164Z",
     "start_time": "2021-07-15T23:10:35.128085Z"
    }
   },
   "outputs": [],
   "source": [
    "husky_raid_df = make_model_df(df, ['TotalTimePlayed', \n",
    "                              'K/D', 'Accuracy', 'WinRate'], \n",
    "                         'Capture the Flag', 'Super Fiesta Party')"
   ]
  },
  {
   "cell_type": "code",
   "execution_count": null,
   "metadata": {},
   "outputs": [],
   "source": [
    "husky_raid_df"
   ]
  },
  {
   "cell_type": "code",
   "execution_count": null,
   "metadata": {
    "ExecuteTime": {
     "end_time": "2021-07-15T23:11:12.971295Z",
     "start_time": "2021-07-15T23:11:12.640228Z"
    }
   },
   "outputs": [],
   "source": [
    "make_many_models(husky_raid_df, [2261, 1500, 1250, 1000, 900, 800, 600])"
   ]
  },
  {
   "cell_type": "markdown",
   "metadata": {},
   "source": [
    "## Best Dataframe - Time, Accuracy, K/D, Win Rate with 1000 samples"
   ]
  },
  {
   "cell_type": "markdown",
   "metadata": {},
   "source": [
    "## XGBoost"
   ]
  },
  {
   "cell_type": "code",
   "execution_count": null,
   "metadata": {
    "ExecuteTime": {
     "end_time": "2021-07-15T23:25:11.012312Z",
     "start_time": "2021-07-15T23:25:10.937303Z"
    }
   },
   "outputs": [],
   "source": [
    "from sklearn.naive_bayes import MultinomialNB\n",
    "from sklearn.svm import LinearSVC\n",
    "\n",
    "df = time_kd_acc_win_df.head(1000).copy()\n",
    "\n",
    "X = df.drop(['PlayerWin'], axis=1)\n",
    "y = df['PlayerWin']\n",
    "\n",
    "X_train, X_test, y_train, y_test = train_test_split(X, y, test_size=0.3, \n",
    "                                                    random_state=8)\n",
    "\n",
    "model_xgb = LinearSVC()\n",
    "model_xgb.fit(X_train, y_train)\n",
    "\n",
    "evaluate_model(model_xgb, X_train, X_test, y_train=y_train, y_test=y_test)"
   ]
  },
  {
   "cell_type": "markdown",
   "metadata": {},
   "source": [
    "# CNN"
   ]
  },
  {
   "cell_type": "code",
   "execution_count": null,
   "metadata": {},
   "outputs": [],
   "source": []
  },
  {
   "cell_type": "code",
   "execution_count": null,
   "metadata": {},
   "outputs": [],
   "source": []
  },
  {
   "cell_type": "code",
   "execution_count": null,
   "metadata": {},
   "outputs": [],
   "source": []
  },
  {
   "cell_type": "code",
   "execution_count": null,
   "metadata": {},
   "outputs": [],
   "source": []
  },
  {
   "cell_type": "code",
   "execution_count": null,
   "metadata": {},
   "outputs": [],
   "source": []
  },
  {
   "cell_type": "code",
   "execution_count": null,
   "metadata": {},
   "outputs": [],
   "source": []
  },
  {
   "cell_type": "code",
   "execution_count": null,
   "metadata": {},
   "outputs": [],
   "source": []
  },
  {
   "cell_type": "code",
   "execution_count": null,
   "metadata": {},
   "outputs": [],
   "source": []
  },
  {
   "cell_type": "code",
   "execution_count": null,
   "metadata": {},
   "outputs": [],
   "source": []
  },
  {
   "cell_type": "markdown",
   "metadata": {},
   "source": [
    "# This code successfully creates new values for one row"
   ]
  },
  {
   "cell_type": "code",
   "execution_count": null,
   "metadata": {},
   "outputs": [],
   "source": [
    "df = df2.head(3).copy()\n",
    "\n",
    "for index, row in df.iterrows():\n",
    "\n",
    "    # Set Variant ID\n",
    "    variant_id = df['GameBaseVariantId'].values[0]\n",
    "\n",
    "    # Define player / enemy variables\n",
    "    P1 = (df['P1'].values[0], 'P1')\n",
    "    P2 = (df['P2'].values[0], 'P2')\n",
    "    P3 = (df['P3'].values[0], 'P3')\n",
    "    roster = [P1, P2, P3]\n",
    "\n",
    "    # For loop to loop through player / enemy variables in dataframe    \n",
    "    for p in roster:        \n",
    "        i = 0   \n",
    "\n",
    "        # Loop through large all_players dictionary and find player / enemy gamertag\n",
    "        for player in all_players:\n",
    "            if all_players[i]['Id'] == p[0]:\n",
    "                print('found')\n",
    "\n",
    "                # Once gamertag found, locate game variant as specified by dataframe row\n",
    "                for variant in player['Result']['ArenaStats']['ArenaGameBaseVariantStats']:\n",
    "                    if variant['GameBaseVariantId'] == variant_id:\n",
    "\n",
    "                        # Create new column for TotalTimePlayed using P1, P2, E1, etc.\n",
    "                        df[p[1] + '_TotalTimePlayed'] = isodate.parse_duration(variant['TotalTimePlayed']).total_seconds() / 3600\n",
    "\n",
    "                i += 1\n",
    "    #                 else: \n",
    "    #                     continue\n",
    "            else:\n",
    "                i += 1\n",
    "                continue\n",
    "\n",
    "# df['P1_Time']\n",
    "\n",
    "df"
   ]
  },
  {
   "cell_type": "markdown",
   "metadata": {},
   "source": [
    "## Code below works to add P1_totaltimeplayed to dataframe"
   ]
  },
  {
   "cell_type": "code",
   "execution_count": null,
   "metadata": {},
   "outputs": [],
   "source": [
    "df = df2.head(1).copy()\n",
    "\n",
    "for index, row in df.iterrows():\n",
    "    P1 = df['P1'].values[0]\n",
    "    \n",
    "    # Set Variant ID\n",
    "    variant_id = df['GameBaseVariantId'].values[0]\n",
    "    \n",
    "    # Loop through all_players to pull out stats and add to dataframe\n",
    "    i = 0   \n",
    "    for player in all_players:\n",
    "        if all_players[i]['Id'] == P1:\n",
    "            print('found')\n",
    "            \n",
    "            for variant in player['Result']['ArenaStats']['ArenaGameBaseVariantStats']:\n",
    "                if variant['GameBaseVariantId'] == variant_id:\n",
    "                    df['P1_TotalTimePlayed'] = isodate.parse_duration(variant['TotalTimePlayed']).total_seconds() / 3600\n",
    "\n",
    "            i += 1\n",
    "#                 else: \n",
    "#                     continue\n",
    "        else:\n",
    "            i += 1\n",
    "            continue\n",
    "\n",
    "# df['P1_Time']\n",
    "\n",
    "df"
   ]
  },
  {
   "cell_type": "code",
   "execution_count": null,
   "metadata": {},
   "outputs": [],
   "source": [
    "#                     df['P1_K/D'] = variant['TotalKills'] / variant['TotalDeaths']\n",
    "#                     df['P1_Accuracy'] = variant['TotalShotsLanded'] / variant['TotalShotsFired']\n",
    "#                     df['P1_WinRate'] = variant['TotalGamesWon'] / variant['TotalGamesLost']"
   ]
  },
  {
   "cell_type": "code",
   "execution_count": null,
   "metadata": {},
   "outputs": [],
   "source": [
    "drymander_instance = []\n",
    "\n",
    "i = 0     \n",
    "for player in all_players:\n",
    "    if all_players[i]['Id'] == 'Ace Darkscythe':\n",
    "        print('found')\n",
    "        drymander_instance.append(player)\n",
    "        i += 1\n",
    "    else:\n",
    "        i += 1\n",
    "        continue"
   ]
  },
  {
   "cell_type": "code",
   "execution_count": null,
   "metadata": {},
   "outputs": [],
   "source": [
    "drymander_instance"
   ]
  },
  {
   "cell_type": "code",
   "execution_count": null,
   "metadata": {},
   "outputs": [],
   "source": []
  },
  {
   "cell_type": "code",
   "execution_count": null,
   "metadata": {},
   "outputs": [],
   "source": []
  },
  {
   "cell_type": "code",
   "execution_count": null,
   "metadata": {},
   "outputs": [],
   "source": []
  },
  {
   "cell_type": "code",
   "execution_count": null,
   "metadata": {},
   "outputs": [],
   "source": [
    "model_df = pd.DataFrame()\n",
    "\n",
    "model_df_columns = [\n",
    "    'PlayerWin',\n",
    "    'Player1',\n",
    "    'Player2',\n",
    "    'Player3',\n",
    "    'Player4',\n",
    "    'Enemy1',\n",
    "    'Enemy2',\n",
    "    'Enemy3',\n",
    "    'Enemy4',\n",
    "]\n",
    "\n",
    "model_df = pd.DataFrame(columns=model_df_columns)\n",
    "\n",
    "# model_df_spartanrank = model_df.copy()\n",
    "\n",
    "x = 1\n",
    "\n",
    "for match in tqdm(match_details[0:20]):\n",
    "# for match in tqdm(mds):\n",
    "    \n",
    "    try:\n",
    "        data = match\n",
    "        df_match = pd.DataFrame()\n",
    "        columns = [\n",
    "            'TeamId',\n",
    "            'Gamertag',\n",
    "            'SpartanRank',\n",
    "            'PrevTotalXP',\n",
    "        ]\n",
    "        df_match = pd.DataFrame(columns = columns)\n",
    "        i = 0\n",
    "\n",
    "        if len(data['PlayerStats']) != 8:\n",
    "            continue\n",
    "\n",
    "        for player in data['PlayerStats']:\n",
    "\n",
    "            player_dic = {}\n",
    "            # Team ID\n",
    "            player_dic['TeamId'] = data['PlayerStats'][i]['TeamId']\n",
    "            # Gamer Tag\n",
    "            player_dic['Gamertag'] = data['PlayerStats'][i]['Player']['Gamertag']\n",
    "            # Spartan Rank\n",
    "            player_dic['SpartanRank'] = data['PlayerStats'][i]['XpInfo']['SpartanRank']\n",
    "            # Previous Total XP\n",
    "            player_dic['PrevTotalXP'] = data['PlayerStats'][i]['XpInfo']['PrevTotalXP']\n",
    "            df_match = df_match.append(player_dic, ignore_index=True)\n",
    "            i += 1\n",
    "\n",
    "        model_row = {}\n",
    "\n",
    "        playerteam = df_match.loc[df_match['Gamertag'] == user, 'TeamId'].values[0]\n",
    "\n",
    "        if data['TeamStats'][0]['Rank'] == 1:\n",
    "            winner = 0\n",
    "        else: winner = 1\n",
    "\n",
    "        if winner == playerteam:\n",
    "            model_row['PlayerWin'] = 1\n",
    "        else:\n",
    "            model_row['PlayerWin'] = 0\n",
    "\n",
    "\n",
    "################\n",
    "        ## testing here\n",
    "        column = 'PrevTotalXP'\n",
    "################\n",
    "\n",
    "        player_xp_sort = df_match[column].loc[df_match['TeamId'] == playerteam].sort_values(ascending=False).values\n",
    "        enemy_xp_sort = df_match[column].loc[df_match['TeamId'] != playerteam].sort_values(ascending=False).values\n",
    "\n",
    "        model_row['Player1'] = player_xp_sort[0]\n",
    "        model_row['Player2'] = player_xp_sort[1]\n",
    "        model_row['Player3'] = player_xp_sort[2]\n",
    "        model_row['Player4'] = player_xp_sort[3]\n",
    "        model_row['Enemy1'] = enemy_xp_sort[0]\n",
    "        model_row['Enemy2'] = enemy_xp_sort[1]\n",
    "        model_row['Enemy3'] = enemy_xp_sort[2]\n",
    "        model_row['Enemy4'] = enemy_xp_sort[3]\n",
    "\n",
    "        model_df = model_df.append(model_row, ignore_index=True)\n",
    "\n",
    "    #     print(f\"{x} match collected out of {len(match_details_pickle_test)} :: {(x / len(match_details_pickle_test)) * 100}% complete.\")\n",
    "    #     x += 1\n",
    "    except:\n",
    "        continue\n",
    "    \n",
    "model_df.head()\n",
    "\n"
   ]
  },
  {
   "cell_type": "code",
   "execution_count": null,
   "metadata": {},
   "outputs": [],
   "source": []
  },
  {
   "cell_type": "code",
   "execution_count": null,
   "metadata": {},
   "outputs": [],
   "source": []
  },
  {
   "cell_type": "code",
   "execution_count": null,
   "metadata": {},
   "outputs": [],
   "source": []
  },
  {
   "cell_type": "code",
   "execution_count": null,
   "metadata": {},
   "outputs": [],
   "source": []
  },
  {
   "cell_type": "code",
   "execution_count": null,
   "metadata": {},
   "outputs": [],
   "source": []
  },
  {
   "cell_type": "code",
   "execution_count": null,
   "metadata": {},
   "outputs": [],
   "source": []
  },
  {
   "cell_type": "code",
   "execution_count": null,
   "metadata": {},
   "outputs": [],
   "source": []
  },
  {
   "cell_type": "code",
   "execution_count": null,
   "metadata": {},
   "outputs": [],
   "source": []
  },
  {
   "cell_type": "markdown",
   "metadata": {},
   "source": [
    "## Pull Match"
   ]
  },
  {
   "cell_type": "markdown",
   "metadata": {},
   "source": [
    "### Basic"
   ]
  },
  {
   "cell_type": "code",
   "execution_count": null,
   "metadata": {
    "ExecuteTime": {
     "end_time": "2021-06-29T19:30:39.507939Z",
     "start_time": "2021-06-29T19:30:39.304256Z"
    }
   },
   "outputs": [],
   "source": [
    "import http.client, urllib.request, urllib.parse, urllib.error, base64\n",
    "\n",
    "matchId = df['MatchId'][0]\n",
    "\n",
    "headers = {\n",
    "    # Request headers\n",
    "    'Ocp-Apim-Subscription-Key': api_key,\n",
    "}\n",
    "\n",
    "params = urllib.parse.urlencode({\n",
    "})\n",
    "\n",
    "try:\n",
    "    conn = http.client.HTTPSConnection('www.haloapi.com')\n",
    "    conn.request(\"GET\", f\"/stats/h5/arena/matches/{matchId}?%s\" % params, \"{body}\", headers)\n",
    "    response = conn.getresponse()\n",
    "#     data = response.read().decode('utf-8')\n",
    "#     json = json.loads(data)\n",
    "#     print(data)\n",
    "    data = response.read()\n",
    "    data = json.loads(data)\n",
    "    print(data)\n",
    "    conn.close()\n",
    "except Exception as e:\n",
    "    print(\"[Errno {0}] {1}\".format(e.errno, e.strerror))\n",
    "\n",
    "####################################"
   ]
  },
  {
   "cell_type": "code",
   "execution_count": null,
   "metadata": {
    "ExecuteTime": {
     "end_time": "2021-06-29T19:32:02.883825Z",
     "start_time": "2021-06-29T19:32:02.658414Z"
    }
   },
   "outputs": [],
   "source": [
    "# match_stats = []\n",
    "\n",
    "# match_stats.append(json1)\n",
    "# match_stats.append(json2)\n",
    "\n",
    "# match_stats\n",
    "\n",
    "# pd.DataFrame(match_stats)\n",
    "\n",
    "# df['MatchId']"
   ]
  },
  {
   "cell_type": "markdown",
   "metadata": {},
   "source": [
    "### Multiple"
   ]
  },
  {
   "cell_type": "code",
   "execution_count": null,
   "metadata": {
    "ExecuteTime": {
     "end_time": "2021-07-01T22:20:36.955428Z",
     "start_time": "2021-07-01T20:11:02.966555Z"
    },
    "scrolled": true
   },
   "outputs": [],
   "source": [
    "run = True\n",
    "\n",
    "if run == True:\n",
    "    headers = {\n",
    "        # Request headers\n",
    "        'Ocp-Apim-Subscription-Key': api_key,\n",
    "    }\n",
    "\n",
    "    params = urllib.parse.urlencode({\n",
    "    })\n",
    "\n",
    "#     match_list = ['babfb117-9d14-407a-ae45-3647de5a48f9',\n",
    "#                  '951683b7-8135-4937-a1a0-8bacc9c34659',\n",
    "#                  '10010481-1be2-462b-9774-eac5ee152045',\n",
    "#                  'd8964123-992f-4dd9-8555-40b76a98d4e1',\n",
    "#                  'c86a93e7-4842-4443-9b90-875b20e3846e']\n",
    "\n",
    "    match_list = df['MatchId']\n",
    "\n",
    "    match_details = []\n",
    "\n",
    "    i = 0\n",
    "\n",
    "    for match in match_list:\n",
    "        try:\n",
    "            conn = http.client.HTTPSConnection('www.haloapi.com')\n",
    "    #         conn.request(\"GET\", f\"/stats/h5/arena/matches/{match[i]}?%s\" % params, \"{body}\", headers)\n",
    "            conn.request(\"GET\", f\"/stats/h5/arena/matches/{match}?%s\" % params, \"{body}\", headers)\n",
    "            response = conn.getresponse()\n",
    "            data = response.read()\n",
    "            data = json.loads(data)\n",
    "            match_details.append(data)\n",
    "    #         print(data)\n",
    "            conn.close()\n",
    "            i += 1\n",
    "            time.sleep(1.1)\n",
    "\n",
    "            print(f\"Match {match} collected and appended to match_details.\")\n",
    "            print(f\"{i} match collected out of {len(match_list)} :: {(i / len(match_list)) * 100}% complete.\")\n",
    "        except Exception as e:\n",
    "            print(\"error\")\n",
    "\n",
    "#     with open('match_details.pkl', 'wb') as match_details_pickle:\n",
    "#         pickle.dump(match_details, match_details_pickle)\n",
    "        \n",
    "else: \n",
    "    print(\"To run, set run = True\")\n",
    "    print(\"WARNING - this will overwrite the pickle file\")"
   ]
  },
  {
   "cell_type": "code",
   "execution_count": null,
   "metadata": {},
   "outputs": [],
   "source": [
    "data = match_details[2]"
   ]
  },
  {
   "cell_type": "code",
   "execution_count": null,
   "metadata": {
    "ExecuteTime": {
     "end_time": "2021-07-01T22:22:10.202799Z",
     "start_time": "2021-07-01T22:20:57.641339Z"
    }
   },
   "outputs": [],
   "source": [
    "with open('match_details.pkl', 'rb') as match_details_pickle:\n",
    "    match_details_pickle_test = pickle.load(match_details_pickle)\n",
    "    \n",
    "# mds = match_details_pickle_test[0:20]"
   ]
  },
  {
   "cell_type": "code",
   "execution_count": null,
   "metadata": {
    "ExecuteTime": {
     "end_time": "2021-07-01T22:23:32.968311Z",
     "start_time": "2021-07-01T22:23:32.778373Z"
    }
   },
   "outputs": [],
   "source": [
    "len(match_details_pickle_test)\n",
    "\n",
    "match_details_id = match_details_pickle_test.copy()"
   ]
  },
  {
   "cell_type": "code",
   "execution_count": null,
   "metadata": {},
   "outputs": [],
   "source": [
    "len(df['MatchId'])\n",
    "\n",
    "df['MatchId'].iloc[500]\n",
    "\n",
    "df['MatchId'].iloc[5902]"
   ]
  },
  {
   "cell_type": "markdown",
   "metadata": {},
   "source": [
    "## Adding MatchID to Match Details\n",
    "\n",
    "MatchID is not included in match results for some reason"
   ]
  },
  {
   "cell_type": "code",
   "execution_count": null,
   "metadata": {},
   "outputs": [],
   "source": [
    "# match_id_add = match_details_pickle_test[0]\n",
    "\n",
    "type(match_id_add)\n",
    "\n",
    "match_id_add['MatchId'] = df['MatchId'].iloc[500]\n",
    "\n",
    "match_id_add['MatchId']"
   ]
  },
  {
   "cell_type": "code",
   "execution_count": null,
   "metadata": {},
   "outputs": [],
   "source": [
    "i = 0\n",
    "\n",
    "for match in match_details_id:\n",
    "    match['MatchId'] = df['MatchId'].iloc[i]\n",
    "    i += 1"
   ]
  },
  {
   "cell_type": "code",
   "execution_count": null,
   "metadata": {},
   "outputs": [],
   "source": [
    "i = 5902\n",
    "\n",
    "print(match_details_id[i]['MatchId'])\n",
    "\n",
    "print(df['MatchId'].iloc[i])"
   ]
  },
  {
   "cell_type": "code",
   "execution_count": null,
   "metadata": {},
   "outputs": [],
   "source": [
    "match_details_id[0]"
   ]
  },
  {
   "cell_type": "markdown",
   "metadata": {},
   "source": [
    "## Match Details to Dataframe\n",
    "\n",
    "Here we are going to try and pull out the data in individual columns rather than working with a massive dataframe."
   ]
  },
  {
   "cell_type": "code",
   "execution_count": null,
   "metadata": {},
   "outputs": [],
   "source": [
    "# data = json.loads(data)\n",
    "\n",
    "match_details = mds"
   ]
  },
  {
   "cell_type": "code",
   "execution_count": null,
   "metadata": {},
   "outputs": [],
   "source": [
    "model_df = pd.DataFrame()\n",
    "\n",
    "model_df_columns = [\n",
    "    'PlayerWin',\n",
    "    'Player1',\n",
    "    'Player2',\n",
    "    'Player3',\n",
    "    'Player4',\n",
    "    'Enemy1',\n",
    "    'Enemy2',\n",
    "    'Enemy3',\n",
    "    'Enemy4',\n",
    "]\n",
    "\n",
    "model_df = pd.DataFrame(columns=model_df_columns)\n",
    "\n",
    "model_df"
   ]
  },
  {
   "cell_type": "code",
   "execution_count": null,
   "metadata": {},
   "outputs": [],
   "source": [
    "# match_details_pickle_test[0]\n",
    "data = match_details_pickle_test[2]\n",
    "\n",
    "data"
   ]
  },
  {
   "cell_type": "code",
   "execution_count": null,
   "metadata": {},
   "outputs": [],
   "source": [
    "i = 0\n",
    "\n",
    "df_match = pd.DataFrame()\n",
    "columns = [\n",
    "    'TeamId',\n",
    "    'Gamertag',\n",
    "    'SpartanRank',\n",
    "    'PrevTotalXP',\n",
    "]\n",
    "df_match = pd.DataFrame(columns = columns)\n",
    "\n",
    "for player in data['PlayerStats']:\n",
    "\n",
    "    player_dic = {}\n",
    "    # Team ID\n",
    "    player_dic['TeamId'] = data['PlayerStats'][i]['TeamId']\n",
    "    # Gamer Tag\n",
    "    player_dic['Gamertag'] = data['PlayerStats'][i]['Player']['Gamertag']\n",
    "    # Spartan Rank\n",
    "    player_dic['SpartanRank'] = data['PlayerStats'][i]['XpInfo']['SpartanRank']\n",
    "    # Previous Total XP\n",
    "    player_dic['PrevTotalXP'] = data['PlayerStats'][i]['XpInfo']['PrevTotalXP']\n",
    "    df_match = df_match.append(player_dic, ignore_index=True)\n",
    "    i += 1\n",
    "    \n",
    "df_match\n",
    "\n",
    "playerteam = df_match.loc[df_match['Gamertag'] == user, 'TeamId'].values[0]\n",
    "\n",
    "playerteam\n",
    "\n",
    "df_match_player = df_match.loc[df_match['TeamId'] == playerteam]\n",
    "df_match_enemy = df_match.loc[df_match['TeamId'] != playerteam]\n",
    "\n",
    "# df_match_player\n",
    "\n",
    "# df_match_player['Gamertag'].iloc[0]\n",
    "\n",
    "# df_match.loc[df_match['Gamertag'] == user, 'TeamId'].values[0]\n",
    "# df_match['Gamertag'] == user, 'TeamId'\n",
    "\n",
    "# data['PlayerStats'][5]['TeamId']\n",
    "\n",
    "df_match"
   ]
  },
  {
   "cell_type": "code",
   "execution_count": null,
   "metadata": {},
   "outputs": [],
   "source": [
    "data = match_details_pickle_test[0:6]\n",
    "\n",
    "data"
   ]
  },
  {
   "cell_type": "markdown",
   "metadata": {},
   "source": [
    "# Dataframe with Gamertags"
   ]
  },
  {
   "cell_type": "code",
   "execution_count": null,
   "metadata": {},
   "outputs": [],
   "source": [
    "model_df = pd.DataFrame()\n",
    "\n",
    "model_df_columns = [\n",
    "    'PlayerWin',\n",
    "    'Player1',\n",
    "    'Player2',\n",
    "    'Player3',\n",
    "    'Player4',\n",
    "    'Enemy1',\n",
    "    'Enemy2',\n",
    "    'Enemy3',\n",
    "    'Enemy4',\n",
    "    'MatchId',\n",
    "]\n",
    "\n",
    "model_df = pd.DataFrame(columns=model_df_columns)\n",
    "\n",
    "# model_df_spartanrank = model_df.copy()\n",
    "\n",
    "x = 1\n",
    "\n",
    "for match in tqdm(match_details_pickle_test[0:5]):\n",
    "# for match in tqdm(mds):\n",
    "    \n",
    "#     try:\n",
    "        data = match\n",
    "        df_match = pd.DataFrame()\n",
    "        columns = [\n",
    "            'TeamId',\n",
    "            'Gamertag',\n",
    "            'SpartanRank',\n",
    "            'PrevTotalXP',\n",
    "        ]\n",
    "        df_match = pd.DataFrame(columns = columns)\n",
    "        i = 0\n",
    "\n",
    "        if len(data['PlayerStats']) != 8:\n",
    "            continue\n",
    "\n",
    "        for player in data['PlayerStats']:\n",
    "\n",
    "            player_dic = {}\n",
    "            # Team ID\n",
    "            player_dic['TeamId'] = data['PlayerStats'][i]['TeamId']\n",
    "            # Gamer Tag\n",
    "            player_dic['Gamertag'] = data['PlayerStats'][i]['Player']['Gamertag']\n",
    "            # Spartan Rank\n",
    "            player_dic['SpartanRank'] = data['PlayerStats'][i]['XpInfo']['SpartanRank']\n",
    "            # Previous Total XP\n",
    "            player_dic['PrevTotalXP'] = data['PlayerStats'][i]['XpInfo']['PrevTotalXP']\n",
    "            df_match = df_match.append(player_dic, ignore_index=True)\n",
    "            i += 1\n",
    "\n",
    "        model_row = {}\n",
    "\n",
    "        playerteam = df_match.loc[df_match['Gamertag'] == user, 'TeamId'].values[0]\n",
    "\n",
    "        if data['TeamStats'][0]['Rank'] == 1:\n",
    "            winner = 0\n",
    "        else: winner = 1\n",
    "\n",
    "        if winner == playerteam:\n",
    "            model_row['PlayerWin'] = 1\n",
    "        else:\n",
    "            model_row['PlayerWin'] = 0\n",
    "\n",
    "\n",
    "################\n",
    "        ## testing here\n",
    "#         column = 'PrevTotalXP'\n",
    "################\n",
    "        \n",
    "#         player_xp_sort = df_match[column].loc[df_match['TeamId'] == playerteam].sort_values(ascending=False).values\n",
    "#         enemy_xp_sort = df_match[column].loc[df_match['TeamId'] != playerteam].sort_values(ascending=False).values\n",
    "        \n",
    "        df_match_player = df_match.loc[df_match['TeamId'] == playerteam]\n",
    "        df_match_enemy = df_match.loc[df_match['TeamId'] != playerteam]\n",
    "        model_row['Player1'] = df_match_player['Gamertag'].iloc[0]\n",
    "        model_row['Player2'] = df_match_player['Gamertag'].iloc[1]\n",
    "        model_row['Player3'] = df_match_player['Gamertag'].iloc[2]\n",
    "        model_row['Player4'] = df_match_player['Gamertag'].iloc[3]\n",
    "        model_row['Enemy1'] = df_match_enemy['Gamertag'].iloc[0]\n",
    "        model_row['Enemy2'] = df_match_enemy['Gamertag'].iloc[1]\n",
    "        model_row['Enemy3'] = df_match_enemy['Gamertag'].iloc[2]\n",
    "        model_row['Enemy4'] = df_match_enemy['Gamertag'].iloc[3]\n",
    "\n",
    "        model_df = model_df.append(model_row, ignore_index=True)\n",
    "\n",
    "    #     print(f\"{x} match collected out of {len(match_details_pickle_test)} :: {(x / len(match_details_pickle_test)) * 100}% complete.\")\n",
    "    #     x += 1\n",
    "#     except:\n",
    "#         continue\n",
    "    \n",
    "model_df.head()\n",
    "\n",
    "# model_row"
   ]
  },
  {
   "cell_type": "code",
   "execution_count": null,
   "metadata": {},
   "outputs": [],
   "source": []
  },
  {
   "cell_type": "code",
   "execution_count": null,
   "metadata": {},
   "outputs": [],
   "source": [
    "df_match_player = df_match.loc[df_match['TeamId'] == playerteam]\n",
    "df_match_enemy = df_match.loc[df_match['TeamId'] != playerteam]\n",
    "model_row['Player1'] = df_match_player['Gamertag'].iloc[0]\n",
    "model_row['Player2'] = df_match_player['Gamertag'].iloc[1]\n",
    "model_row['Player3'] = df_match_player['Gamertag'].iloc[2]\n",
    "model_row['Player4'] = df_match_player['Gamertag'].iloc[3]\n",
    "model_row['Enemy1'] = df_match_enemy['Gamertag'].iloc[0]\n",
    "model_row['Enemy2'] = df_match_enemy['Gamertag'].iloc[1]\n",
    "model_row['Enemy3'] = df_match_enemy['Gamertag'].iloc[2]\n",
    "model_row['Enemy4'] = df_match_enemy['Gamertag'].iloc[3]\n",
    "#         model_row['MatchId'] = match['MatchId']\n",
    "print(model_row)\n",
    "model_df = model_df.append(model_row, ignore_index=True)"
   ]
  },
  {
   "cell_type": "markdown",
   "metadata": {},
   "source": [
    "# Player History for more detailed stats per match"
   ]
  },
  {
   "cell_type": "markdown",
   "metadata": {},
   "source": [
    "## Player Arena History"
   ]
  },
  {
   "cell_type": "code",
   "execution_count": null,
   "metadata": {},
   "outputs": [],
   "source": [
    "player_list = model_df.iloc[0].tolist()\n",
    "player_list = str(str(player_list[1:9]))[1:-1]\n",
    "# player_list str(test_list)[1:-1]\n",
    "\n",
    "player_list\n",
    "player_list = player_list.replace(', ',',')\n",
    "player_list = player_list.replace(\"'\",'')\n",
    "player_list = player_list.replace(' ','+')\n",
    "\n",
    "\n",
    "player_list"
   ]
  },
  {
   "cell_type": "code",
   "execution_count": null,
   "metadata": {},
   "outputs": [],
   "source": []
  },
  {
   "cell_type": "code",
   "execution_count": null,
   "metadata": {
    "ExecuteTime": {
     "end_time": "2021-07-01T17:05:33.921928Z",
     "start_time": "2021-07-01T17:05:32.644678Z"
    }
   },
   "outputs": [],
   "source": [
    "\n",
    "########### Python 3.2 #############\n",
    "import http.client, urllib.request, urllib.parse, urllib.error, base64\n",
    "\n",
    "players = player_list\n",
    "\n",
    "headers = {\n",
    "    # Request headers\n",
    "    'Ocp-Apim-Subscription-Key': str(api_key),\n",
    "}\n",
    "\n",
    "params = urllib.parse.urlencode({\n",
    "    # Request parameters\n",
    "#     'seasonId': '{string}',\n",
    "\n",
    "\n",
    "    \n",
    "})\n",
    "\n",
    "try:\n",
    "    conn = http.client.HTTPSConnection('www.haloapi.com')\n",
    "    conn.request(\"GET\", f\"/stats/h5/servicerecords/arena?players={player_list}&%s\" % params, \"{body}\", headers)\n",
    "#     conn.request(\"GET\", f\"/stats/h5/servicerecords/arena?players=jAngLes+rAgEs+x&%s\" % params, \"{body}\", headers)\n",
    "    \n",
    "    response = conn.getresponse()\n",
    "    data = response.read()\n",
    "    print(data)\n",
    "    conn.close()\n",
    "except Exception as e:\n",
    "    print(\"[Errno {0}] {1}\".format(e.errno, e.strerror))\n",
    "\n",
    "####################################\n"
   ]
  },
  {
   "cell_type": "code",
   "execution_count": null,
   "metadata": {},
   "outputs": [],
   "source": []
  },
  {
   "cell_type": "code",
   "execution_count": null,
   "metadata": {},
   "outputs": [],
   "source": []
  },
  {
   "cell_type": "markdown",
   "metadata": {},
   "source": [
    "# Model DF"
   ]
  },
  {
   "cell_type": "code",
   "execution_count": null,
   "metadata": {},
   "outputs": [],
   "source": [
    "model_df = pd.DataFrame()\n",
    "\n",
    "model_df_columns = [\n",
    "    'PlayerWin',\n",
    "    'Player1',\n",
    "    'Player2',\n",
    "    'Player3',\n",
    "    'Player4',\n",
    "    'Enemy1',\n",
    "    'Enemy2',\n",
    "    'Enemy3',\n",
    "    'Enemy4',\n",
    "]\n",
    "\n",
    "model_df = pd.DataFrame(columns=model_df_columns)\n",
    "\n",
    "# model_df_spartanrank = model_df.copy()\n",
    "\n",
    "x = 1\n",
    "\n",
    "for match in tqdm(match_details_pickle_test):\n",
    "# for match in tqdm(mds):\n",
    "    \n",
    "    try:\n",
    "        data = match\n",
    "        df_match = pd.DataFrame()\n",
    "        columns = [\n",
    "            'TeamId',\n",
    "            'Gamertag',\n",
    "            'SpartanRank',\n",
    "            'PrevTotalXP',\n",
    "        ]\n",
    "        df_match = pd.DataFrame(columns = columns)\n",
    "        i = 0\n",
    "\n",
    "        if len(data['PlayerStats']) != 8:\n",
    "            continue\n",
    "\n",
    "        for player in data['PlayerStats']:\n",
    "\n",
    "            player_dic = {}\n",
    "            # Team ID\n",
    "            player_dic['TeamId'] = data['PlayerStats'][i]['TeamId']\n",
    "            # Gamer Tag\n",
    "            player_dic['Gamertag'] = data['PlayerStats'][i]['Player']['Gamertag']\n",
    "            # Spartan Rank\n",
    "            player_dic['SpartanRank'] = data['PlayerStats'][i]['XpInfo']['SpartanRank']\n",
    "            # Previous Total XP\n",
    "            player_dic['PrevTotalXP'] = data['PlayerStats'][i]['XpInfo']['PrevTotalXP']\n",
    "            df_match = df_match.append(player_dic, ignore_index=True)\n",
    "            i += 1\n",
    "\n",
    "        model_row = {}\n",
    "\n",
    "        playerteam = df_match.loc[df_match['Gamertag'] == user, 'TeamId'].values[0]\n",
    "\n",
    "        if data['TeamStats'][0]['Rank'] == 1:\n",
    "            winner = 0\n",
    "        else: winner = 1\n",
    "\n",
    "        if winner == playerteam:\n",
    "            model_row['PlayerWin'] = 1\n",
    "        else:\n",
    "            model_row['PlayerWin'] = 0\n",
    "\n",
    "\n",
    "################\n",
    "        ## testing here\n",
    "        column = 'PrevTotalXP'\n",
    "################\n",
    "\n",
    "        player_xp_sort = df_match[column].loc[df_match['TeamId'] == playerteam].sort_values(ascending=False).values\n",
    "        enemy_xp_sort = df_match[column].loc[df_match['TeamId'] != playerteam].sort_values(ascending=False).values\n",
    "\n",
    "        model_row['Player1'] = player_xp_sort[0]\n",
    "        model_row['Player2'] = player_xp_sort[1]\n",
    "        model_row['Player3'] = player_xp_sort[2]\n",
    "        model_row['Player4'] = player_xp_sort[3]\n",
    "        model_row['Enemy1'] = enemy_xp_sort[0]\n",
    "        model_row['Enemy2'] = enemy_xp_sort[1]\n",
    "        model_row['Enemy3'] = enemy_xp_sort[2]\n",
    "        model_row['Enemy4'] = enemy_xp_sort[3]\n",
    "\n",
    "        model_df = model_df.append(model_row, ignore_index=True)\n",
    "\n",
    "    #     print(f\"{x} match collected out of {len(match_details_pickle_test)} :: {(x / len(match_details_pickle_test)) * 100}% complete.\")\n",
    "    #     x += 1\n",
    "    except:\n",
    "        continue\n",
    "    \n",
    "model_df.head()\n",
    "\n"
   ]
  },
  {
   "cell_type": "code",
   "execution_count": null,
   "metadata": {},
   "outputs": [],
   "source": [
    "xp_df = model_df.copy()"
   ]
  },
  {
   "cell_type": "code",
   "execution_count": null,
   "metadata": {},
   "outputs": [],
   "source": [
    "# model_df.to_csv('first_model.csv')\n",
    "\n",
    "model_df_spartanrank.to_csv('spartanrank.csv')"
   ]
  },
  {
   "cell_type": "code",
   "execution_count": null,
   "metadata": {},
   "outputs": [],
   "source": [
    "model_df_spartanrank"
   ]
  },
  {
   "cell_type": "code",
   "execution_count": null,
   "metadata": {},
   "outputs": [],
   "source": [
    "# model_df = model_df.replace(100000000, 50000000)"
   ]
  },
  {
   "cell_type": "code",
   "execution_count": null,
   "metadata": {},
   "outputs": [],
   "source": [
    "# model_1000 = model_df[0:1000]"
   ]
  },
  {
   "cell_type": "code",
   "execution_count": null,
   "metadata": {},
   "outputs": [],
   "source": [
    "xp_df = pd.DataFrame()\n",
    "\n",
    "xp_df['PlayerWin'] = model_df['PlayerWin']\n",
    "xp_df['PlayerXp'] = model_df['Player1'] + model_df['Player2'] + model_df['Player3'] + model_df['Player4']\n",
    "xp_df['EnemyXp'] = model_df['Enemy1'] + model_df['Enemy2'] + model_df['Enemy3'] + model_df['Enemy4']\n",
    "\n",
    "xp_df"
   ]
  },
  {
   "cell_type": "code",
   "execution_count": null,
   "metadata": {},
   "outputs": [],
   "source": [
    "model_df.head()"
   ]
  },
  {
   "cell_type": "markdown",
   "metadata": {},
   "source": [
    "# Model"
   ]
  },
  {
   "cell_type": "code",
   "execution_count": null,
   "metadata": {},
   "outputs": [],
   "source": [
    "# Assigning X and y for train test split\n",
    "\n",
    "features = model_df.drop(['PlayerWin'], axis=1)\n",
    "target = model_df['PlayerWin']\n",
    "\n",
    "\n",
    "X = features\n",
    "y = target\n",
    "\n",
    "y=y.astype('int')\n",
    "\n",
    "X_train, X_test, y_train, y_test = train_test_split(X, y, test_size=0.3, \n",
    "                                                    random_state=8)\n",
    "\n",
    "print(X_train.shape)\n",
    "print(X_test.shape)"
   ]
  },
  {
   "cell_type": "code",
   "execution_count": null,
   "metadata": {},
   "outputs": [],
   "source": [
    "model_log = LogisticRegression(random_state=8)\n",
    "model_log.fit(X_train, y_train)"
   ]
  },
  {
   "cell_type": "code",
   "execution_count": null,
   "metadata": {},
   "outputs": [],
   "source": [
    "def evaluate_model(model, X_train, X_test, y_train=y_train, \n",
    "                   y_test=y_test, cmap='Greens', normalize=None,\n",
    "                   classes=None,figsize=(10,4)):\n",
    "    \n",
    "    \"\"\"\n",
    "    model :: classifier user desires to evaluate\n",
    "    X_train :: X training data\n",
    "    X_test :: X test data\n",
    "    y_train :: y_train data\n",
    "    y_test :: y_train data\n",
    "    cmap :: color palette of confusion matrix\n",
    "    normalize :: set to True if normalized confusion matrix is desired\n",
    "    figsize :: desired plot size\n",
    "\n",
    "    \"\"\"\n",
    "    \n",
    "    # Print model accuracy\n",
    "    print(f'Training Accuracy: {model.score(X_train,y_train):.2%}')\n",
    "    print(f'Test Accuracy: {model.score(X_test,y_test):.2%}')\n",
    "    print('')\n",
    "    \n",
    "    # Print classification report\n",
    "    y_test_predict = model.predict(X_test)\n",
    "    print(metrics.classification_report(y_test, y_test_predict,\n",
    "                                        target_names=classes))\n",
    "    \n",
    "    # Plot confusion matrix\n",
    "    fig,ax = plt.subplots(ncols=2,figsize=figsize)\n",
    "    metrics.plot_confusion_matrix(model, X_test,y_test,cmap=cmap, \n",
    "                                  normalize=normalize,display_labels=classes,\n",
    "                                  ax=ax[0])\n",
    "    \n",
    "    #Plot ROC curves\n",
    "    with sns.axes_style(\"darkgrid\"):\n",
    "        curve = metrics.plot_roc_curve(model,X_train,y_train,ax=ax[1])\n",
    "        curve2 = metrics.plot_roc_curve(model,X_test,y_test,ax=ax[1])\n",
    "        curve.ax_.grid()\n",
    "        curve.ax_.plot([0,1],[0,1],ls=':')\n",
    "        fig.tight_layout()\n",
    "        plt.show()"
   ]
  },
  {
   "cell_type": "code",
   "execution_count": null,
   "metadata": {},
   "outputs": [],
   "source": [
    "evaluate_model(model_log, X_train, X_test)"
   ]
  },
  {
   "cell_type": "code",
   "execution_count": null,
   "metadata": {},
   "outputs": [],
   "source": [
    "y.value_counts()"
   ]
  },
  {
   "cell_type": "code",
   "execution_count": null,
   "metadata": {},
   "outputs": [],
   "source": []
  },
  {
   "cell_type": "code",
   "execution_count": null,
   "metadata": {},
   "outputs": [],
   "source": []
  },
  {
   "cell_type": "code",
   "execution_count": null,
   "metadata": {},
   "outputs": [],
   "source": []
  },
  {
   "cell_type": "code",
   "execution_count": null,
   "metadata": {},
   "outputs": [],
   "source": [
    "df_mr = pd.DataFrame()\n",
    "\n",
    "df_mr_columns = [\n",
    "    'PlayerWin',\n",
    "    'Player1',\n",
    "    'Player2',\n",
    "    'Player3',\n",
    "    'Player4',\n",
    "    'Enemy1',\n",
    "    'Enemy2',\n",
    "    'Enemy3',\n",
    "    'Enemy4',\n",
    "]\n",
    "\n",
    "df_mr = pd.DataFrame(columns=df_mr_columns)\n",
    "\n",
    "df_mr"
   ]
  },
  {
   "cell_type": "markdown",
   "metadata": {},
   "source": [
    "### Winner Column"
   ]
  },
  {
   "cell_type": "code",
   "execution_count": null,
   "metadata": {},
   "outputs": [],
   "source": [
    "model_row = {}\n",
    "\n",
    "playerteam = df_match.loc[df_match['Gamertag'] == user, 'TeamId'].values[0]\n",
    "\n",
    "playerteam\n",
    "\n",
    "if data['TeamStats'][0]['Rank'] == 1:\n",
    "    winner = 0\n",
    "else: winner = 1\n",
    "\n",
    "if winner == playerteam:\n",
    "    model_row['PlayerWin'] = 1\n",
    "else:\n",
    "    model_row['PlayerWin'] = 0\n",
    "\n",
    "winner\n",
    "playerteam\n",
    "\n",
    "model_row"
   ]
  },
  {
   "cell_type": "markdown",
   "metadata": {},
   "source": [
    "### Player 1-4"
   ]
  },
  {
   "cell_type": "code",
   "execution_count": null,
   "metadata": {},
   "outputs": [],
   "source": [
    "player_xp_sort = df_match['PrevTotalXP'].loc[df_match['TeamId'] == playerteam].sort_values(ascending=False).values\n",
    "enemy_xp_sort = df_match['PrevTotalXP'].loc[df_match['TeamId'] != playerteam].sort_values(ascending=False).values\n",
    "\n",
    "model_row['Player1'] = player_xp_sort[0]\n",
    "model_row['Player2'] = player_xp_sort[1]\n",
    "model_row['Player3'] = player_xp_sort[2]\n",
    "model_row['Player4'] = player_xp_sort[3]\n",
    "model_row['Enemy1'] = enemy_xp_sort[0]\n",
    "model_row['Enemy2'] = enemy_xp_sort[1]\n",
    "model_row['Enemy3'] = enemy_xp_sort[2]\n",
    "model_row['Enemy4'] = enemy_xp_sort[3]\n",
    "\n",
    "model_row"
   ]
  },
  {
   "cell_type": "code",
   "execution_count": null,
   "metadata": {},
   "outputs": [],
   "source": [
    "df_mr = df_mr.append(model_row, ignore_index=True)\n",
    "\n",
    "df_mr"
   ]
  },
  {
   "cell_type": "code",
   "execution_count": null,
   "metadata": {},
   "outputs": [],
   "source": []
  },
  {
   "cell_type": "code",
   "execution_count": null,
   "metadata": {},
   "outputs": [],
   "source": []
  },
  {
   "cell_type": "code",
   "execution_count": null,
   "metadata": {},
   "outputs": [],
   "source": []
  },
  {
   "cell_type": "code",
   "execution_count": null,
   "metadata": {},
   "outputs": [],
   "source": []
  },
  {
   "cell_type": "code",
   "execution_count": null,
   "metadata": {},
   "outputs": [],
   "source": []
  },
  {
   "cell_type": "code",
   "execution_count": null,
   "metadata": {},
   "outputs": [],
   "source": []
  },
  {
   "cell_type": "code",
   "execution_count": null,
   "metadata": {},
   "outputs": [],
   "source": []
  },
  {
   "cell_type": "code",
   "execution_count": null,
   "metadata": {},
   "outputs": [],
   "source": []
  },
  {
   "cell_type": "code",
   "execution_count": null,
   "metadata": {},
   "outputs": [],
   "source": []
  },
  {
   "cell_type": "code",
   "execution_count": null,
   "metadata": {},
   "outputs": [],
   "source": []
  },
  {
   "cell_type": "code",
   "execution_count": null,
   "metadata": {
    "ExecuteTime": {
     "end_time": "2021-07-01T22:24:06.103769Z",
     "start_time": "2021-07-01T22:23:40.320376Z"
    }
   },
   "outputs": [],
   "source": [
    "dfm = pd.DataFrame(match_details)\n",
    "\n",
    "dfm.to_csv('match_details.csv')"
   ]
  },
  {
   "cell_type": "code",
   "execution_count": null,
   "metadata": {
    "ExecuteTime": {
     "end_time": "2021-06-30T19:30:42.871084Z",
     "start_time": "2021-06-30T19:30:42.855090Z"
    }
   },
   "outputs": [],
   "source": [
    "dfm.drop(['PlayerStats'], axis=1).to_csv('match_details_example3.csv')"
   ]
  },
  {
   "cell_type": "code",
   "execution_count": null,
   "metadata": {
    "ExecuteTime": {
     "end_time": "2021-06-30T19:31:38.219861Z",
     "start_time": "2021-06-30T19:31:38.191871Z"
    }
   },
   "outputs": [],
   "source": [
    "dfm['PlayerStats'].to_csv('match_details_playerstats.csv')"
   ]
  },
  {
   "cell_type": "code",
   "execution_count": null,
   "metadata": {
    "ExecuteTime": {
     "end_time": "2021-07-01T18:23:34.530578Z",
     "start_time": "2021-07-01T18:23:34.254668Z"
    }
   },
   "outputs": [],
   "source": [
    "df_ps = dfm['PlayerStats'].apply(pd.Series)\n",
    "\n",
    "df_ps[0].apply(pd.Series)"
   ]
  },
  {
   "cell_type": "markdown",
   "metadata": {},
   "source": [
    "## Match Events"
   ]
  },
  {
   "cell_type": "code",
   "execution_count": null,
   "metadata": {},
   "outputs": [],
   "source": [
    "########### Python 3.2 #############\n",
    "import http.client, urllib.request, urllib.parse, urllib.error, base64\n",
    "\n",
    "matchId = 'c86a93e7-4842-4443-9b90-875b20e3846e'\n",
    "\n",
    "headers = {\n",
    "    # Request headers\n",
    "    'Ocp-Apim-Subscription-Key': api_key,\n",
    "}\n",
    "\n",
    "params = urllib.parse.urlencode({\n",
    "})\n",
    "\n",
    "try:\n",
    "    conn = http.client.HTTPSConnection('www.haloapi.com')\n",
    "    conn.request(\"GET\", f\"/stats/h5/matches/{matchId}/events?%s\" % params, \"{body}\", headers)\n",
    "    response = conn.getresponse()\n",
    "    data = response.read()\n",
    "    print(data)\n",
    "    conn.close()\n",
    "except Exception as e:\n",
    "    print(\"[Errno {0}] {1}\".format(e.errno, e.strerror))\n",
    "\n",
    "####################################\n"
   ]
  },
  {
   "cell_type": "markdown",
   "metadata": {},
   "source": [
    "## Weapons Meta"
   ]
  },
  {
   "cell_type": "code",
   "execution_count": null,
   "metadata": {},
   "outputs": [],
   "source": [
    "########### Python 3.2 #############\n",
    "import http.client, urllib.request, urllib.parse, urllib.error, base64\n",
    "\n",
    "headers = {\n",
    "    # Request headers\n",
    "    'Accept-Language': 'en',\n",
    "    'Ocp-Apim-Subscription-Key': api_key,\n",
    "}\n",
    "\n",
    "params = urllib.parse.urlencode({\n",
    "})\n",
    "\n",
    "try:\n",
    "    conn = http.client.HTTPSConnection('www.haloapi.com')\n",
    "    conn.request(\"GET\", \"/metadata/h5/metadata/weapons?%s\" % params, \"{body}\", headers)\n",
    "    response = conn.getresponse()\n",
    "    data = response.read()\n",
    "    my_json = data.decode('utf8').replace(\"'\", '\"')\n",
    "    print(data)\n",
    "    conn.close()\n",
    "except Exception as e:\n",
    "    print(\"[Errno {0}] {1}\".format(e.errno, e.strerror))\n",
    "\n",
    "####################################\n"
   ]
  },
  {
   "cell_type": "code",
   "execution_count": null,
   "metadata": {},
   "outputs": [],
   "source": [
    "my_json"
   ]
  },
  {
   "cell_type": "code",
   "execution_count": null,
   "metadata": {
    "scrolled": true
   },
   "outputs": [],
   "source": [
    "[{\"name\":\"Flagnum\",\"description\":null,\"type\":\"Standard\",\"largeIconImageUrl\":\"https://content.halocdn.com/media/Default/games/halo-5-guardians/tools-of-destruction/weapons/flagnum-282503fb5260409a844e29eeae45bbca.png\",\"smallIconImageUrl\":\"https://image.halocdn.com:443/?path=https%3a%2f%2fcontent.halocdn.com%2fmedia%2fDefault%2fgames%2fhalo-5-guardians%2ftools-of-destruction%2fweapons%2fflagnum-282503fb5260409a844e29eeae45bbca.png&width=332&hash=376WQLPQ8ra7Xbij6jhSp6avT3QG3ccjBS%2fKVFs4Efw%3d\",\"isUsableByPlayer\":true,\"id\":\"2244200496\",\"contentId\":\"cc556937-465f-4286-a989-e4ac28e6988b\"},{\"name\":\"Spartan\",\"description\":null,\"type\":\"Unknown\",\"largeIconImageUrl\":\"https://content.halocdn.com/media/Default/games/halo-5-guardians/tools-of-destruction/weapons/spartan-7d33bbefeee740f8a43e3e081a5b7aea.png\",\"smallIconImageUrl\":\"https://image.halocdn.com:443/?path=https%3a%2f%2fcontent.halocdn.com%2fmedia%2fDefault%2fgames%2fhalo-5-guardians%2ftools-of-destruction%2fweapons%2fspartan-7d33bbefeee740f8a43e3e081a5b7aea.png&width=332&hash=dwLka%2fmOgqyoZhE4czunU6Awgo3XClrV1M%2bWFof83rE%3d\",\"isUsableByPlayer\":false,\"id\":\"3168248199\",\"contentId\":\"447b227e-18eb-4060-904a-1cf709638958\"},{\"name\":\"SHADE AA TURRET\",\"description\":\"Shade AA Turret deployable for campaign and warzone\",\"type\":\"Turret\",\"largeIconImageUrl\":\"https://content.halocdn.com/media/Default/games/halo-5-guardians/tools-of-destruction/weapons/shade-plasma-turret-type2-43a3e7bd5506473d8b21db5529132500.png\",\"smallIconImageUrl\":\"https://image.halocdn.com:443/?path=https%3a%2f%2fcontent.halocdn.com%2fmedia%2fDefault%2fgames%2fhalo-5-guardians%2ftools-of-destruction%2fweapons%2fshade-plasma-turret-type2-43a3e7bd5506473d8b21db5529132500.png&width=332&hash=DMp8f6sqvTQQdtdrMktKI8osrwk9VUAwO21qfUV7dtc%3d\",\"isUsableByPlayer\":true,\"id\":\"2989142719\",\"contentId\":\"0a98a07c-51df-44b8-9359-982458bff2ae\"},{\"name\":\"SHADE PLASMA TURRET\",\"description\":\"Shade Plasma Turret deployable for campaign and warzone\",\"type\":\"Turret\",\"largeIconImageUrl\":\"https://content.halocdn.com/media/Default/games/halo-5-guardians/tools-of-destruction/weapons/shade-plasma-turret-a46b99d2048c46f18511568c722ad301.png\",\"smallIconImageUrl\":\"https://image.halocdn.com:443/?path=https%3a%2f%2fcontent.halocdn.com%2fmedia%2fDefault%2fgames%2fhalo-5-guardians%2ftools-of-destruction%2fweapons%2fshade-plasma-turret-a46b99d2048c46f18511568c722ad301.png&width=332&hash=yReKqrjSq2RAGw6N3L4r27Ch0MXbKCaAfgZ5c%2bQTg0w%3d\",\"isUsableByPlayer\":true,\"id\":\"698769165\",\"contentId\":\"8d6b0d58-f536-4685-b19c-0bbe6bd7fc96\"},{\"name\":\"Environmental Explosives\",\"description\":null,\"type\":\"Unknown\",\"largeIconImageUrl\":\"https://content.halocdn.com/media/Default/games/halo-5-guardians/tools-of-destruction/explosives/explosives-040c30c3a5f3402abfb616e7d18c2395.png\",\"smallIconImageUrl\":\"https://image.halocdn.com:443/?path=https%3a%2f%2fcontent.halocdn.com%2fmedia%2fDefault%2fgames%2fhalo-5-guardians%2ftools-of-destruction%2fexplosives%2fexplosives-040c30c3a5f3402abfb616e7d18c2395.png&width=332&hash=tv3HlwTBv5ChH2KebQAHYTNmOo7ADIksqKIhIu6W13M%3d\",\"isUsableByPlayer\":true,\"id\":\"47178948\",\"contentId\":\"fd412929-4a3f-49c0-b392-5521012f33fc\"},{\"name\":\"Gauss Turret\",\"description\":\"Precision anti-tank coilgun.\",\"type\":\"Turret\",\"largeIconImageUrl\":\"https://content.halocdn.com/media/Default/games/halo-5-guardians/tools-of-destruction/weapons/gauss-turret-5f9a751679634bce91a77bf95c7e2d67.png\",\"smallIconImageUrl\":\"https://image.halocdn.com:443/?path=https%3a%2f%2fcontent.halocdn.com%2fmedia%2fDefault%2fgames%2fhalo-5-guardians%2ftools-of-destruction%2fweapons%2fgauss-turret-5f9a751679634bce91a77bf95c7e2d67.png&width=332&hash=ty4y%2f1sEuT8eMQwX6cVXuZ3KL9bAHaf1A0LPabuLpzE%3d\",\"isUsableByPlayer\":true,\"id\":\"4233134183\",\"contentId\":\"cfa92e74-82be-4b25-a0cd-4f7a97f2bf8c\"},{\"name\":\"ROCKET POD TURRET\",\"description\":\"Multirole missile launcher.\",\"type\":\"Turret\",\"largeIconImageUrl\":\"https://content.halocdn.com/media/Default/games/halo-5-guardians/tools-of-destruction/weapons/missile-rocket-turret-12e04f30fdbf4dc2b9a1f37a907f5234.png\",\"smallIconImageUrl\":\"https://image.halocdn.com:443/?path=https%3a%2f%2fcontent.halocdn.com%2fmedia%2fDefault%2fgames%2fhalo-5-guardians%2ftools-of-destruction%2fweapons%2fmissile-rocket-turret-12e04f30fdbf4dc2b9a1f37a907f5234.png&width=332&hash=EuZSiblHWcj3CRx3LzuVo1Fw2jq9HnCS6NOTBPNYkgQ%3d\",\"isUsableByPlayer\":true,\"id\":\"2907783784\",\"contentId\":\"ec137dd1-82d1-4ef4-809a-f838420416c1\"},{\"name\":\"Chaingun Turret\",\"description\":\"Rotary autocannon.\",\"type\":\"Turret\",\"largeIconImageUrl\":\"https://content.halocdn.com/media/Default/games/halo-5-guardians/tools-of-destruction/weapons/chaingun-turret-0cbad9f5d3a74313adba3d6faf43592e.png\",\"smallIconImageUrl\":\"https://image.halocdn.com:443/?path=https%3a%2f%2fcontent.halocdn.com%2fmedia%2fDefault%2fgames%2fhalo-5-guardians%2ftools-of-destruction%2fweapons%2fchaingun-turret-0cbad9f5d3a74313adba3d6faf43592e.png&width=332&hash=P70p8qnHLXmbuf7tPzofDzeiIXYThkFjMB74JqyD0vk%3d\",\"isUsableByPlayer\":true,\"id\":\"2988661926\",\"contentId\":\"fc78a02f-5f48-4134-a5a8-a92e34d9142d\"},{\"name\":\"Incineration Cannon\",\"description\":\"Heavy cannon that fires a powerful energy charge. Main charge spawns submunitions on impact.\",\"type\":\"Power\",\"largeIconImageUrl\":\"https://content.halocdn.com/media/Default/games/halo-5-guardians/tools-of-destruction/weapons/incineration-cannon-2caa0e0e074543c79c9ff8d0fe289752.png\",\"smallIconImageUrl\":\"https://image.halocdn.com:443/?path=https%3a%2f%2fcontent.halocdn.com%2fmedia%2fDefault%2fgames%2fhalo-5-guardians%2ftools-of-destruction%2fweapons%2fincineration-cannon-2caa0e0e074543c79c9ff8d0fe289752.png&width=332&hash=8T1ASpOwRZxeUIlLWGn39KDYwvUNVEYdvHRpe1w%2blVw%3d\",\"isUsableByPlayer\":true,\"id\":\"4086418184\",\"contentId\":\"f26f8097-a383-4038-ba31-70de7b994c73\"},{\"name\":\"Splinter Turret\",\"description\":\"Fires hardlight projectiles that break apart and detonate after impact.\",\"type\":\"Turret\",\"largeIconImageUrl\":\"https://content.halocdn.com/media/Default/games/halo-5-guardians/tools-of-destruction/weapons/splinter-turret-6a1cad04de8a49ea9370d6bf285f9b29.png\",\"smallIconImageUrl\":\"https://image.halocdn.com:443/?path=https%3a%2f%2fcontent.halocdn.com%2fmedia%2fDefault%2fgames%2fhalo-5-guardians%2ftools-of-destruction%2fweapons%2fsplinter-turret-6a1cad04de8a49ea9370d6bf285f9b29.png&width=332&hash=OR%2baWnYY76UZOtWm4BVXMYAPJQquCBFJDlRx47RxoEQ%3d\",\"isUsableByPlayer\":true,\"id\":\"1749823285\",\"contentId\":\"890bf973-addf-45a1-80c9-71fecc38f77f\"},{\"name\":\"UNSC AUTO TURRET\",\"description\":\"UNSC Auto Turret deployable for campaign and warzone\",\"type\":\"Turret\",\"largeIconImageUrl\":\"https://content.halocdn.com/media/Default/games/halo-5-guardians/default-images/default-turret-332x132-c3db09f21ee242589b5277004462d27e.png\",\"smallIconImageUrl\":\"https://image.halocdn.com:443/?path=https%3a%2f%2fcontent.halocdn.com%2fmedia%2fDefault%2fgames%2fhalo-5-guardians%2fdefault-images%2fdefault-turret-332x132-c3db09f21ee242589b5277004462d27e.png&width=332&hash=M89098C3LTFFiK9wiIUdjWSNxlXvoKTGlmRoBEmd6RU%3d\",\"isUsableByPlayer\":false,\"id\":\"2031824349\",\"contentId\":\"65289c8a-cc54-4503-b1aa-29938b20d436\"},{\"name\":\"SCORPION ANTI INFANTRY TURRET\",\"description\":\"Scorpion Infantry Turret deployable for campaign and warzone\",\"type\":\"Turret\",\"largeIconImageUrl\":\"https://content.halocdn.com/media/Default/games/halo-5-guardians/tools-of-destruction/weapons/scorpion-turret-3acbd9d1a40d4f71ba4721b1ac1c230e.png\",\"smallIconImageUrl\":\"https://image.halocdn.com:443/?path=https%3a%2f%2fcontent.halocdn.com%2fmedia%2fDefault%2fgames%2fhalo-5-guardians%2ftools-of-destruction%2fweapons%2fscorpion-turret-3acbd9d1a40d4f71ba4721b1ac1c230e.png&width=332&hash=Vv2qdYARoN%2bkGscXEQz1ntxVZ071UbMVmuVjK3b3xoI%3d\",\"isUsableByPlayer\":true,\"id\":\"244872079\",\"contentId\":\"b504ed6b-8335-477a-9834-42c90b4a2d88\"},{\"name\":\"WRAITH ANTI INFANTRY TURRET\",\"description\":\"Wraith Infantry Turret deployable for campaign and warzone\",\"type\":\"Turret\",\"largeIconImageUrl\":\"https://content.halocdn.com/media/Default/games/halo-5-guardians/tools-of-destruction/weapons/wraith-turret-8c7f77f080f34ab9b5d97509485f9daf.png\",\"smallIconImageUrl\":\"https://image.halocdn.com:443/?path=https%3a%2f%2fcontent.halocdn.com%2fmedia%2fDefault%2fgames%2fhalo-5-guardians%2ftools-of-destruction%2fweapons%2fwraith-turret-8c7f77f080f34ab9b5d97509485f9daf.png&width=332&hash=9F05IIx2%2ffu2ZBYgnsjpLkDp9HToePCOiCtdmwvYhMs%3d\",\"isUsableByPlayer\":true,\"id\":\"1701501807\",\"contentId\":\"c293d75e-4528-44fc-8be2-b3b101bff2bd\"},{\"name\":\"Plasma Caster\",\"description\":\"Fires plasma bolts that can be bounced off terrain to reach targets behind cover. Bolts stick and will chain-detonate when fired using Smart-Link.\",\"type\":\"Power\",\"largeIconImageUrl\":\"https://content.halocdn.com/media/Default/games/halo-5-guardians/tools-of-destruction/weapons/plasma-caster-8373c86c00cb4cffb36f29381d2f1025.png\",\"smallIconImageUrl\":\"https://image.halocdn.com:443/?path=https%3a%2f%2fcontent.halocdn.com%2fmedia%2fDefault%2fgames%2fhalo-5-guardians%2ftools-of-destruction%2fweapons%2fplasma-caster-8373c86c00cb4cffb36f29381d2f1025.png&width=332&hash=FeGzpg78yr5g8uuwCPkC7ZkN2Wie%2f0la8NMDEbBl2VM%3d\",\"isUsableByPlayer\":true,\"id\":\"4054937266\",\"contentId\":\"006861b7-ca17-4032-a998-99ae1cb1fc4f\"},{\"name\":\"FORERUNNER BEAM TURRET\",\"description\":\"Forerunner Beam Turret deployable for campaign and warzone\",\"type\":\"Turret\",\"largeIconImageUrl\":\"https://content.halocdn.com/media/Default/games/halo-5-guardians/default-images/default-turret-332x132-c3db09f21ee242589b5277004462d27e.png\",\"smallIconImageUrl\":\"https://image.halocdn.com:443/?path=https%3a%2f%2fcontent.halocdn.com%2fmedia%2fDefault%2fgames%2fhalo-5-guardians%2fdefault-images%2fdefault-turret-332x132-c3db09f21ee242589b5277004462d27e.png&width=332&hash=M89098C3LTFFiK9wiIUdjWSNxlXvoKTGlmRoBEmd6RU%3d\",\"isUsableByPlayer\":false,\"id\":\"514985629\",\"contentId\":\"f3c11ff9-d960-481b-b733-e7994c001f0f\"},{\"name\":\"SPIRIT CHIN GUN\",\"description\":\"Spirit Chin Gun deployable for campaign and warzone\",\"type\":\"Turret\",\"largeIconImageUrl\":\"https://content.halocdn.com/media/Default/games/halo-5-guardians/tools-of-destruction/weapons/spirit-chain-gun-1884effb163d43bb82b198fdd43dbe11.png\",\"smallIconImageUrl\":\"https://image.halocdn.com:443/?path=https%3a%2f%2fcontent.halocdn.com%2fmedia%2fDefault%2fgames%2fhalo-5-guardians%2ftools-of-destruction%2fweapons%2fspirit-chain-gun-1884effb163d43bb82b198fdd43dbe11.png&width=332&hash=y%2bwojiZdKkre25hosAHW30JWNa87lzts9NruwwzEybs%3d\",\"isUsableByPlayer\":false,\"id\":\"1797509873\",\"contentId\":\"55ae77f4-3111-4d34-a1ae-ee82ef69f6cb\"},{\"name\":\"Carbine\",\"description\":\"Carbine with Holoscope. Versatile semi-automatic rifle renowned for its accuracy and long range. New production models use a streamlined manufacturing process and reactive materials in place of radioisotopes for coating projectiles.\",\"type\":\"Standard\",\"largeIconImageUrl\":\"https://content.halocdn.com/media/Default/games/halo-5-guardians/tools-of-destruction/weapons/covenant-carbine-30811039456f475f805eaa52762820b0.png\",\"smallIconImageUrl\":\"https://image.halocdn.com:443/?path=https%3a%2f%2fcontent.halocdn.com%2fmedia%2fDefault%2fgames%2fhalo-5-guardians%2ftools-of-destruction%2fweapons%2fcovenant-carbine-30811039456f475f805eaa52762820b0.png&width=332&hash=Zin20muBr8qdP73e6MEp23Qwug0dAaImKkcxtX%2b1xgA%3d\",\"isUsableByPlayer\":true,\"id\":\"4108759423\",\"contentId\":\"a32d5b79-aa24-4897-8850-55ffc7450d6e\"},{\"name\":\"PHANTOM CHIN GUN\",\"description\":\"Phantom Chin Gun deployable for campaign and warzone\",\"type\":\"Turret\",\"largeIconImageUrl\":\"https://content.halocdn.com/media/Default/games/halo-5-guardians/tools-of-destruction/weapons/phantom-chin-gun-a446b325e7494d29a8cabe7e693548da.png\",\"smallIconImageUrl\":\"https://image.halocdn.com:443/?path=https%3a%2f%2fcontent.halocdn.com%2fmedia%2fDefault%2fgames%2fhalo-5-guardians%2ftools-of-destruction%2fweapons%2fphantom-chin-gun-a446b325e7494d29a8cabe7e693548da.png&width=332&hash=GszX%2ffGgOqVHYsp40W8g1IdLn6sxFh%2bbHtqrtcNs0aQ%3d\",\"isUsableByPlayer\":false,\"id\":\"3717288512\",\"contentId\":\"1b15c7be-a807-460a-987a-60037c346b9b\"},{\"name\":\"LightRifle\",\"description\":\"Accurate and powerful, LightRifles were the standard-issue weapon of ancient Promethean warriors.\",\"type\":\"Standard\",\"largeIconImageUrl\":\"https://content.halocdn.com/media/Default/games/halo-5-guardians/tools-of-destruction/weapons/light-rifle-0c9fc99241fc414a85d6e210fed36d04.png\",\"smallIconImageUrl\":\"https://image.halocdn.com:443/?path=https%3a%2f%2fcontent.halocdn.com%2fmedia%2fDefault%2fgames%2fhalo-5-guardians%2ftools-of-destruction%2fweapons%2flight-rifle-0c9fc99241fc414a85d6e210fed36d04.png&width=332&hash=tIJEZDRfA5lPq2QmM6Ql66UCCyNFECIxJXWqlSFDJLE%3d\",\"isUsableByPlayer\":true,\"id\":\"2511447508\",\"contentId\":\"59026c44-1498-4580-99ef-c45fad75bc12\"},{\"name\":\"Storm Rifle\",\"description\":\"Rapid-fire plasma rifle effective out to medium range when Smart-Link is engaged. Sustained fire can temporarily overheat the weapon.\",\"type\":\"Standard\",\"largeIconImageUrl\":\"https://content.halocdn.com/media/Default/games/halo-5-guardians/tools-of-destruction/weapons/covenant-storm-rifle-a440460289a54237832d39becaaf0046.png\",\"smallIconImageUrl\":\"https://image.halocdn.com:443/?path=https%3a%2f%2fcontent.halocdn.com%2fmedia%2fDefault%2fgames%2fhalo-5-guardians%2ftools-of-destruction%2fweapons%2fcovenant-storm-rifle-a440460289a54237832d39becaaf0046.png&width=332&hash=BdfDk%2fhQyjjfC3cPrWYvadmKNtKU5fLlKyuj1QhlSRA%3d\",\"isUsableByPlayer\":true,\"id\":\"2133511419\",\"contentId\":\"611e61ad-5b14-4631-8eef-f8bb6a14b1f0\"},{\"name\":\"Binary Rifle\",\"description\":\"Semi-automatic sniper energy rifle with variable-zoom 4x/9x optics. Use Smart-Link when engaging targets at long range.\",\"type\":\"Power\",\"largeIconImageUrl\":\"https://content.halocdn.com/media/Default/games/halo-5-guardians/tools-of-destruction/weapons/binary-rifle-79e0c4a1283641bda007e0d861ded31b.png\",\"smallIconImageUrl\":\"https://image.halocdn.com:443/?path=https%3a%2f%2fcontent.halocdn.com%2fmedia%2fDefault%2fgames%2fhalo-5-guardians%2ftools-of-destruction%2fweapons%2fbinary-rifle-79e0c4a1283641bda007e0d861ded31b.png&width=332&hash=s0YVJm3ACjKC2uS31lvIGShLBOn9BXeLOxeskO0xeLA%3d\",\"isUsableByPlayer\":true,\"id\":\"2140505068\",\"contentId\":\"5130eeaa-d67e-4001-a548-20408dffe0d8\"},{\"name\":\"Plasma Pistol\",\"description\":\"Semi-automatic energy pistol that fires packets of superheated plasma. Holding down the trigger, then releasing, will fire a tracking overcharge shot with an EMP effect that will disable vehicles and knock out shields.\",\"type\":\"Standard\",\"largeIconImageUrl\":\"https://content.halocdn.com/media/Default/games/halo-5-guardians/tools-of-destruction/weapons/plasma-pistol-1a65716f9b894b8496b501c69b4c05d9.png\",\"smallIconImageUrl\":\"https://image.halocdn.com:443/?path=https%3a%2f%2fcontent.halocdn.com%2fmedia%2fDefault%2fgames%2fhalo-5-guardians%2ftools-of-destruction%2fweapons%2fplasma-pistol-1a65716f9b894b8496b501c69b4c05d9.png&width=332&hash=EXTEQAQlvspdmk0AJWHxJfJKVBhejMoyiZPWQjzN0Ro%3d\",\"isUsableByPlayer\":true,\"id\":\"524558978\",\"contentId\":\"c8dd731b-0766-4315-8ec0-8922f40cc101\"},{\"name\":\"Scorpion\",\"description\":\"Main battle tank armed with a heavy cannon and pintle-mounted heavy machine gun. This new iteration of the storied Scorpion is half the mass of the old M808 yet has nearly identical firepower and armor protection.\",\"type\":\"Vehicle\",\"largeIconImageUrl\":\"https://content.halocdn.com/media/Default/games/halo-5-guardians/tools-of-destruction/vehicles/scorpion-6c7fb074aa1c42549a765a294e78c3c7.png\",\"smallIconImageUrl\":\"https://image.halocdn.com:443/?path=https%3a%2f%2fcontent.halocdn.com%2fmedia%2fDefault%2fgames%2fhalo-5-guardians%2ftools-of-destruction%2fvehicles%2fscorpion-6c7fb074aa1c42549a765a294e78c3c7.png&width=332&hash=%2fCkx7J14PgzU9QjJ5ndSwhhMk0%2bTZa6nlpEndWfyTHc%3d\",\"isUsableByPlayer\":true,\"id\":\"1730553442\",\"contentId\":\"c7e2f6aa-b86c-4131-b5d7-71bb35fcd0c4\"},{\"name\":\"Suppressor\",\"description\":\"Fully-automatic energy rifle effective at short range. Accuracy significantly improves when using Smart-Link.\",\"type\":\"Standard\",\"largeIconImageUrl\":\"https://content.halocdn.com/media/Default/games/halo-5-guardians/tools-of-destruction/weapons/suppressor-5ee536381da34f48abb542a29a51a898.png\",\"smallIconImageUrl\":\"https://image.halocdn.com:443/?path=https%3a%2f%2fcontent.halocdn.com%2fmedia%2fDefault%2fgames%2fhalo-5-guardians%2ftools-of-destruction%2fweapons%2fsuppressor-5ee536381da34f48abb542a29a51a898.png&width=332&hash=wJMTrh6lL7uesgj0OU9W3Cene%2fInCVHLAd5ZUUMK5Lg%3d\",\"isUsableByPlayer\":true,\"id\":\"2681172411\",\"contentId\":\"fc839d35-d0e3-4234-b9ff-70c428d8cca7\"},{\"name\":\"Phaeton\",\"description\":null,\"type\":\"Vehicle\",\"largeIconImageUrl\":\"https://content.halocdn.com/media/Default/games/halo-5-guardians/tools-of-destruction/vehicles/vtol-5c02f48bfdf246c0aab7f738687b5744.png\",\"smallIconImageUrl\":\"https://image.halocdn.com:443/?path=https%3a%2f%2fcontent.halocdn.com%2fmedia%2fDefault%2fgames%2fhalo-5-guardians%2ftools-of-destruction%2fvehicles%2fvtol-5c02f48bfdf246c0aab7f738687b5744.png&width=332&hash=p%2b56GNOiSUDlhjfn%2ffB2d457Le7Vdw752wer9fGX0Ts%3d\",\"isUsableByPlayer\":true,\"id\":\"3394982816\",\"contentId\":\"011cd325-c192-477c-8767-23b99546031d\"},{\"name\":\"Boltshot\",\"description\":\"Burst-fire energy pistol. Bolts home-in on close range targets. This new functionality appears to be related to other adaptations the Prometheans have displayed since the disappearance of the Didact.\",\"type\":\"Standard\",\"largeIconImageUrl\":\"https://content.halocdn.com/media/Default/games/halo-5-guardians/tools-of-destruction/weapons/boltshot-c9cdbdb343524915b1d80bc8b3047286.png\",\"smallIconImageUrl\":\"https://image.halocdn.com:443/?path=https%3a%2f%2fcontent.halocdn.com%2fmedia%2fDefault%2fgames%2fhalo-5-guardians%2ftools-of-destruction%2fweapons%2fboltshot-c9cdbdb343524915b1d80bc8b3047286.png&width=332&hash=ufVTmfMPj5xIOpOyGMEn%2fV6Pa5Qb5%2b%2fb%2b520Px3XAX0%3d\",\"isUsableByPlayer\":true,\"id\":\"4153405209\",\"contentId\":\"4ead2f3c-c9ba-41d0-bf69-a3ac1d4b4e32\"},{\"name\":\"Mantis\",\"description\":\"Combat walker armed with heavy machine gun and missile launcher. Missiles can lock-on to aerial targets. Melee unleashes a devastating stomp attack. Extended use of the heavy machine gun will cause it to overheat.\",\"type\":\"Vehicle\",\"largeIconImageUrl\":\"https://content.halocdn.com/media/Default/games/halo-5-guardians/tools-of-destruction/vehicles/mantis-88bcd6e59a3d469aa380620309a5e8a5.png\",\"smallIconImageUrl\":\"https://image.halocdn.com:443/?path=https%3a%2f%2fcontent.halocdn.com%2fmedia%2fDefault%2fgames%2fhalo-5-guardians%2ftools-of-destruction%2fvehicles%2fmantis-88bcd6e59a3d469aa380620309a5e8a5.png&width=332&hash=bQ58hOrEtc%2b3XuXpGvrmzK31OhA5Ctt8mUlqXZ%2bMmRU%3d\",\"isUsableByPlayer\":true,\"id\":\"3227919741\",\"contentId\":\"71347094-6fdb-437a-862c-59db1b936aa6\"},{\"name\":\"Banshee\",\"description\":\"Agile ground attack aircraft. Armed with rapid-fire plasma cannons and secondary fuel rod cannon. Can perform acrobatic rolls and loops or high-speed boosts.\",\"type\":\"Vehicle\",\"largeIconImageUrl\":\"https://content.halocdn.com/media/Default/games/halo-5-guardians/tools-of-destruction/vehicles/banshee-9626ac8f343644f3a592a0b7d49faac6.png\",\"smallIconImageUrl\":\"https://image.halocdn.com:443/?path=https%3a%2f%2fcontent.halocdn.com%2fmedia%2fDefault%2fgames%2fhalo-5-guardians%2ftools-of-destruction%2fvehicles%2fbanshee-9626ac8f343644f3a592a0b7d49faac6.png&width=332&hash=%2bwTKTSuyqU6fPV%2f0JYmjU2YOh4SvpWEcKMVyHF7gL3U%3d\",\"isUsableByPlayer\":true,\"id\":\"419783896\",\"contentId\":\"91fafc39-ee57-4ae7-ad93-b36e6ac34561\"},{\"name\":\"Wraith\",\"description\":\"Assault tank armed with a heavy plasma mortar and pintle-mounted plasma cannon. Can boost for quick sprints. The latest Wraith revisits an ancient Sangheili design that is easier to manufacture and less costly to lose.\",\"type\":\"Vehicle\",\"largeIconImageUrl\":\"https://content.halocdn.com/media/Default/games/halo-5-guardians/tools-of-destruction/vehicles/wraith-bd8975a1a57348a2b8a2588e9a5040f1.png\",\"smallIconImageUrl\":\"https://image.halocdn.com:443/?path=https%3a%2f%2fcontent.halocdn.com%2fmedia%2fDefault%2fgames%2fhalo-5-guardians%2ftools-of-destruction%2fvehicles%2fwraith-bd8975a1a57348a2b8a2588e9a5040f1.png&width=332&hash=vr34Tpz64SEzQReJpo2bu0kn5bBSbyOGwpDwCXhzF0M%3d\",\"isUsableByPlayer\":true,\"id\":\"1206711506\",\"contentId\":\"c12685a5-956c-483b-8254-70765a23d863\"},{\"name\":\"Warthog\",\"description\":\"Warthog armed reconnaissance configuration fitted with a rotary autocannon on a full-rotation turret mount. \",\"type\":\"Vehicle\",\"largeIconImageUrl\":\"https://content.halocdn.com/media/Default/games/halo-5-guardians/tools-of-destruction/vehicles/warthog-951f2406dea44d229662df881d89272e.png\",\"smallIconImageUrl\":\"https://image.halocdn.com:443/?path=https%3a%2f%2fcontent.halocdn.com%2fmedia%2fDefault%2fgames%2fhalo-5-guardians%2ftools-of-destruction%2fvehicles%2fwarthog-951f2406dea44d229662df881d89272e.png&width=332&hash=fgVOMTjIBBWxAMSe5%2bGu6VRwzTrdizeFN7F6YDNtbMw%3d\",\"isUsableByPlayer\":true,\"id\":\"4028516791\",\"contentId\":\"4dcc7ed4-6d15-4170-bad2-fdf28705fbae\"},{\"name\":\"Assault Rifle\",\"description\":\"Assault Rifle with Projection Sight. Standard-issue fully-automatic rifle effective at short to medium range.\",\"type\":\"Standard\",\"largeIconImageUrl\":\"https://content.halocdn.com/media/Default/games/halo-5-guardians/tools-of-destruction/weapons/assault-rifle-72bb6004e7804715935013ca745cadb9.png\",\"smallIconImageUrl\":\"https://image.halocdn.com:443/?path=https%3a%2f%2fcontent.halocdn.com%2fmedia%2fDefault%2fgames%2fhalo-5-guardians%2ftools-of-destruction%2fweapons%2fassault-rifle-72bb6004e7804715935013ca745cadb9.png&width=332&hash=5aSvHLqf3tm3VL4EyZXk9WkfZAD%2fwaVy2T22GduWhqw%3d\",\"isUsableByPlayer\":true,\"id\":\"313138863\",\"contentId\":\"9f00429a-687a-4e0e-8690-cde5ba010bcf\"},{\"name\":\"SMG\",\"description\":\"SMG with CQB Sight. Rapid fire submachine gun best suited for close-quarters combat while leveraging Smart-Link.\",\"type\":\"Standard\",\"largeIconImageUrl\":\"https://content.halocdn.com/media/Default/games/halo-5-guardians/tools-of-destruction/weapons/smg-74d80a6bc14c4c64aa08db838e775db7.png\",\"smallIconImageUrl\":\"https://image.halocdn.com:443/?path=https%3a%2f%2fcontent.halocdn.com%2fmedia%2fDefault%2fgames%2fhalo-5-guardians%2ftools-of-destruction%2fweapons%2fsmg-74d80a6bc14c4c64aa08db838e775db7.png&width=332&hash=6Ikf%2fFGrIZ8eeJfpuA6Ti%2bn5cdzoFu66S4ctCjr3RZo%3d\",\"isUsableByPlayer\":true,\"id\":\"723388907\",\"contentId\":\"5d4f4df8-9684-40d8-9d25-a15481a1047f\"},{\"name\":\"Scattershot\",\"description\":\"Short-range semi-automatic energy shotgun. Energy projectiles ricochet off hard surfaces and exhibit homing behavior.\",\"type\":\"Power\",\"largeIconImageUrl\":\"https://content.halocdn.com/media/Default/games/halo-5-guardians/tools-of-destruction/weapons/scattershot-7453d1d0f9a149dfb2649675322780cd.png\",\"smallIconImageUrl\":\"https://image.halocdn.com:443/?path=https%3a%2f%2fcontent.halocdn.com%2fmedia%2fDefault%2fgames%2fhalo-5-guardians%2ftools-of-destruction%2fweapons%2fscattershot-7453d1d0f9a149dfb2649675322780cd.png&width=332&hash=cAtlmS3kBkUWiC8goxDP4DPNo%2f%2ffLsK2ojbQhNKQL6Y%3d\",\"isUsableByPlayer\":true,\"id\":\"3808094875\",\"contentId\":\"6e033e34-9ebe-4120-9abb-59c5d55159e0\"},{\"name\":\"Ghost\",\"description\":\"Fast attack bike fitted with dual rapid-fire plasma cannons. Can boost for extra speed, at the expense of maneuverability.\",\"type\":\"Vehicle\",\"largeIconImageUrl\":\"https://content.halocdn.com/media/Default/games/halo-5-guardians/tools-of-destruction/vehicles/ghost-3d8125d531f14b5499eb203bb6689c19.png\",\"smallIconImageUrl\":\"https://image.halocdn.com:443/?path=https%3a%2f%2fcontent.halocdn.com%2fmedia%2fDefault%2fgames%2fhalo-5-guardians%2ftools-of-destruction%2fvehicles%2fghost-3d8125d531f14b5499eb203bb6689c19.png&width=332&hash=8iIZszbCW4BymoY%2ftsU02sVjy9k1RPVcIR9WPhE%2bNLA%3d\",\"isUsableByPlayer\":true,\"id\":\"3010146366\",\"contentId\":\"d760ed2e-8b55-44c0-9b47-fc5c8d44910d\"},{\"name\":\"Railgun\",\"description\":\"Powerful single-shot coilgun that requires a short charge cycle before firing. Will automatically fire if the charge is held for too long.\",\"type\":\"Power\",\"largeIconImageUrl\":\"https://content.halocdn.com/media/Default/games/halo-5-guardians/tools-of-destruction/weapons/railgun-ce34452629a74a0899a091f0f2e52f89.png\",\"smallIconImageUrl\":\"https://image.halocdn.com:443/?path=https%3a%2f%2fcontent.halocdn.com%2fmedia%2fDefault%2fgames%2fhalo-5-guardians%2ftools-of-destruction%2fweapons%2frailgun-ce34452629a74a0899a091f0f2e52f89.png&width=332&hash=eh%2b4lDppbLwobJ7CtqVzSGgfvCv7qVABYIqP%2fq3QMCs%3d\",\"isUsableByPlayer\":true,\"id\":\"3682788176\",\"contentId\":\"c5fe5ab1-6583-443f-abc6-4c513847fdd1\"},{\"name\":\"Mongoose\",\"description\":\"Heavy-duty all-terrain quad bike. A passenger can be accommodated on the rear-facing seat. \",\"type\":\"Vehicle\",\"largeIconImageUrl\":\"https://content.halocdn.com/media/Default/games/halo-5-guardians/tools-of-destruction/vehicles/wargoose-6bfb5d0d8ff34c67ac7537dbecea9f59.png\",\"smallIconImageUrl\":\"https://image.halocdn.com:443/?path=https%3a%2f%2fcontent.halocdn.com%2fmedia%2fDefault%2fgames%2fhalo-5-guardians%2ftools-of-destruction%2fvehicles%2fwargoose-6bfb5d0d8ff34c67ac7537dbecea9f59.png&width=332&hash=Alksbp7GujgkvJ5tsRpgWqCOoUqpeIvuRAY9Y9dFWRk%3d\",\"isUsableByPlayer\":true,\"id\":\"1063919886\",\"contentId\":\"f9b11bd7-7959-4639-94de-a9df329579a5\"},{\"name\":\"Hydra Launcher\",\"description\":\"Portable mini-missile launcher. Use Smart-Link to lock-on to targets before firing.\",\"type\":\"Power\",\"largeIconImageUrl\":\"https://content.halocdn.com/media/Default/games/halo-5-guardians/tools-of-destruction/weapons/hydra-ae5ed76d25b048dd98ca20efd8818935.png\",\"smallIconImageUrl\":\"https://image.halocdn.com:443/?path=https%3a%2f%2fcontent.halocdn.com%2fmedia%2fDefault%2fgames%2fhalo-5-guardians%2ftools-of-destruction%2fweapons%2fhydra-ae5ed76d25b048dd98ca20efd8818935.png&width=332&hash=Igp%2bCCVwYELH%2biLOj8nQjtUFtI0%2fb7WO7XQ96mvNiZk%3d\",\"isUsableByPlayer\":true,\"id\":\"1579758889\",\"contentId\":\"0dd40ad7-9120-4fdf-881a-ecda58fedff3\"},{\"name\":\"Spartan Laser\",\"description\":\"Anti-vehicle laser. Requires a short warmup time before firing.\",\"type\":\"Power\",\"largeIconImageUrl\":\"https://content.halocdn.com/media/Default/games/halo-5-guardians/tools-of-destruction/weapons/spartan-laser-1dce3448ef73469ab8f9e2d38c9d531c.png\",\"smallIconImageUrl\":\"https://image.halocdn.com:443/?path=https%3a%2f%2fcontent.halocdn.com%2fmedia%2fDefault%2fgames%2fhalo-5-guardians%2ftools-of-destruction%2fweapons%2fspartan-laser-1dce3448ef73469ab8f9e2d38c9d531c.png&width=332&hash=dmKMiRo6bmqIWsY%2btMFku6K4YsmlBhWyd2wQMGe8hsA%3d\",\"isUsableByPlayer\":true,\"id\":\"3885603197\",\"contentId\":\"7f28cc32-55a6-4bce-ae30-8703ac50f2e3\"},{\"name\":\"Needler\",\"description\":\"Exotic weapon which fires shards that home in on short-range targets. If multiple shards strike a target they will detonate - creating a \\\\\"supercombine\\\\\" explosion. Will bounce off heavy armor, such as that used by vehicles and Hunters.\",\"type\":\"Power\",\"largeIconImageUrl\":\"https://content.halocdn.com/media/Default/games/halo-5-guardians/tools-of-destruction/weapons/needler-5690d414b19a4b2d83be15baaffa2fe9.png\",\"smallIconImageUrl\":\"https://image.halocdn.com:443/?path=https%3a%2f%2fcontent.halocdn.com%2fmedia%2fDefault%2fgames%2fhalo-5-guardians%2ftools-of-destruction%2fweapons%2fneedler-5690d414b19a4b2d83be15baaffa2fe9.png&width=332&hash=N00LDPlPB5dg3BgRm%2fDef2bQs8MR0c4DJsEeAtIR5ck%3d\",\"isUsableByPlayer\":true,\"id\":\"2050745863\",\"contentId\":\"f6c599f2-2c86-447d-944d-fa604b17136a\"},{\"name\":\"Shotgun\",\"description\":\"Short-ranged semi-automatic shotgun. Get up-close and personal to maximize damage.\",\"type\":\"Power\",\"largeIconImageUrl\":\"https://content.halocdn.com/media/Default/games/halo-5-guardians/tools-of-destruction/weapons/shotgun-35bca45ecb8440479bfbab9e075f4302.png\",\"smallIconImageUrl\":\"https://image.halocdn.com:443/?path=https%3a%2f%2fcontent.halocdn.com%2fmedia%2fDefault%2fgames%2fhalo-5-guardians%2ftools-of-destruction%2fweapons%2fshotgun-35bca45ecb8440479bfbab9e075f4302.png&width=332&hash=aRRxaPLRsA9%2bxwd5%2fA43ghuA0p7jr3L9mX0TtUI8bIo%3d\",\"isUsableByPlayer\":true,\"id\":\"3484334713\",\"contentId\":\"39c25783-6a10-4b13-a586-546eae1c99bc\"},{\"name\":\"SAW\",\"description\":\"Rapid-fire light machine gun with a large ammo capacity.\",\"type\":\"Power\",\"largeIconImageUrl\":\"https://content.halocdn.com/media/Default/games/halo-5-guardians/tools-of-destruction/weapons/saw-0f3ee44a215d4a57b6e578cd760a3fb0.png\",\"smallIconImageUrl\":\"https://image.halocdn.com:443/?path=https%3a%2f%2fcontent.halocdn.com%2fmedia%2fDefault%2fgames%2fhalo-5-guardians%2ftools-of-destruction%2fweapons%2fsaw-0f3ee44a215d4a57b6e578cd760a3fb0.png&width=332&hash=pfWvwfHvmhEmIgcc2SJ2hfon7EHNIAwJwECLlAayPps%3d\",\"isUsableByPlayer\":true,\"id\":\"2278207101\",\"contentId\":\"93970223-4c24-4c73-9ce0-af44299e529d\"},{\"name\":\"Fuel Rod Cannon\",\"description\":\"Magazine-fed, shoulder-fired heavy weapon that fires explosive fuel rods. Modern fuel rod cannons are significantly more accurate than those used by the old Covenant; a refinement sourced from the multi-species workshops on Venezia.\",\"type\":\"Power\",\"largeIconImageUrl\":\"https://content.halocdn.com/media/Default/games/halo-5-guardians/tools-of-destruction/weapons/fuel-rod-cannon-041deffe5b6e4ca283e10b2d3cc734df.png\",\"smallIconImageUrl\":\"https://image.halocdn.com:443/?path=https%3a%2f%2fcontent.halocdn.com%2fmedia%2fDefault%2fgames%2fhalo-5-guardians%2ftools-of-destruction%2fweapons%2ffuel-rod-cannon-041deffe5b6e4ca283e10b2d3cc734df.png&width=332&hash=2V1VcxW79vt%2f8BddOjOIN3V2JKaXX%2bmHelsB%2bdEfO7k%3d\",\"isUsableByPlayer\":true,\"id\":\"2670072722\",\"contentId\":\"1e4a8790-77cd-4106-9047-5ba66053e4fc\"},{\"name\":\"FRAG GRENADE\",\"description\":\"Frag grenade deployable for campaign\",\"type\":\"Grenade\",\"largeIconImageUrl\":\"https://content.halocdn.com/media/Default/games/halo-5-guardians/tools-of-destruction/weapons/frag-grenade-475ae914b9154a0fad1097e1bd93705c.png\",\"smallIconImageUrl\":\"https://image.halocdn.com:443/?path=https%3a%2f%2fcontent.halocdn.com%2fmedia%2fDefault%2fgames%2fhalo-5-guardians%2ftools-of-destruction%2fweapons%2ffrag-grenade-475ae914b9154a0fad1097e1bd93705c.png&width=332&hash=NoUz5nJ9pJWI4daAx%2b%2fGpb%2f1bxmeSqBBrZ0Q3Ue1rcE%3d\",\"isUsableByPlayer\":true,\"id\":\"4106030681\",\"contentId\":\"2355c403-e88b-4897-9698-e731cfdaf8d7\"},{\"name\":\"Energy Sword\",\"description\":\"Deadly plasma-based melee weapon. Successful strikes deplete the sword\"s limited energy charge.\",\"type\":\"Power\",\"largeIconImageUrl\":\"https://content.halocdn.com/media/Default/games/halo-5-guardians/tools-of-destruction/weapons/energy-sword-2c1b6748e5bc4354b832d9369fe814bc.png\",\"smallIconImageUrl\":\"https://image.halocdn.com:443/?path=https%3a%2f%2fcontent.halocdn.com%2fmedia%2fDefault%2fgames%2fhalo-5-guardians%2ftools-of-destruction%2fweapons%2fenergy-sword-2c1b6748e5bc4354b832d9369fe814bc.png&width=332&hash=91cKKp6Ay7GfyEHB4r8nRvzZplD7nl1mCLFx21HjJro%3d\",\"isUsableByPlayer\":true,\"id\":\"2650887244\",\"contentId\":\"d83e562a-5cef-4e86-8231-b1f5ee4e710b\"},{\"name\":\"Beam Rifle\",\"description\":\"Long-range semi-automatic energy rifle with variable-zoom 4x/10x optics. Use Smart-Link to line up headshots for one-shot kills.\",\"type\":\"Power\",\"largeIconImageUrl\":\"https://content.halocdn.com/media/Default/games/halo-5-guardians/tools-of-destruction/weapons/beam-rifle-3a4d95cd93a94895a23b217d812f8c7d.png\",\"smallIconImageUrl\":\"https://image.halocdn.com:443/?path=https%3a%2f%2fcontent.halocdn.com%2fmedia%2fDefault%2fgames%2fhalo-5-guardians%2ftools-of-destruction%2fweapons%2fbeam-rifle-3a4d95cd93a94895a23b217d812f8c7d.png&width=332&hash=oh4MRfkENVebE%2bbbqj2jIWI%2bnz1D0fPyGzkcXUf2%2b7k%3d\",\"isUsableByPlayer\":true,\"id\":\"2862629816\",\"contentId\":\"8d299779-5e9b-4273-aecf-b5727c62fcd7\"},{\"name\":\"SPLINTER GRENADE\",\"description\":\"Splinter grenade deployable for campaign\",\"type\":\"Grenade\",\"largeIconImageUrl\":\"https://content.halocdn.com/media/Default/games/halo-5-guardians/tools-of-destruction/weapons/splinter-grenade-a3734115247e4709af0ab1f53a9c6a55.png\",\"smallIconImageUrl\":\"https://image.halocdn.com:443/?path=https%3a%2f%2fcontent.halocdn.com%2fmedia%2fDefault%2fgames%2fhalo-5-guardians%2ftools-of-destruction%2fweapons%2fsplinter-grenade-a3734115247e4709af0ab1f53a9c6a55.png&width=332&hash=h03UgF2mSwcB3o56FpX5%2bj3Q1N5dfjsCh17Ur%2bSOtw0%3d\",\"isUsableByPlayer\":true,\"id\":\"3190813201\",\"contentId\":\"4eb8f0d1-4c77-438b-9719-c450b3b875db\"},{\"name\":\"DMR\",\"description\":\"DMR with Longshot Sight. Powerful and accurate semi-automatic rifle best used at mid to long-range.\",\"type\":\"Standard\",\"largeIconImageUrl\":\"https://content.halocdn.com/media/Default/games/halo-5-guardians/tools-of-destruction/weapons/dmr-13a45fa2ad074b5cb70a0ef81f36f0e1.png\",\"smallIconImageUrl\":\"https://image.halocdn.com:443/?path=https%3a%2f%2fcontent.halocdn.com%2fmedia%2fDefault%2fgames%2fhalo-5-guardians%2ftools-of-destruction%2fweapons%2fdmr-13a45fa2ad074b5cb70a0ef81f36f0e1.png&width=332&hash=WDK4RgJy%2blGjzyU1%2fCeHy5MjHgisKjGLvk0%2fZxFoj%2fE%3d\",\"isUsableByPlayer\":true,\"id\":\"523953283\",\"contentId\":\"71a5cf7d-c8f1-4ab5-8771-1854338bbb85\"},{\"name\":\"PLASMA GRENADE\",\"description\":\"Plasma grenade deployable for campaign\",\"type\":\"Grenade\",\"largeIconImageUrl\":\"https://content.halocdn.com/media/Default/games/halo-5-guardians/tools-of-destruction/weapons/plasma-grenade-e63ed2a67258459882ea3d73ca173237.png\",\"smallIconImageUrl\":\"https://image.halocdn.com:443/?path=https%3a%2f%2fcontent.halocdn.com%2fmedia%2fDefault%2fgames%2fhalo-5-guardians%2ftools-of-destruction%2fweapons%2fplasma-grenade-e63ed2a67258459882ea3d73ca173237.png&width=332&hash=zhaeCiBVuRlstZfXhYcfmtur5N8W7r3HXnpMBMECvhA%3d\",\"isUsableByPlayer\":true,\"id\":\"2460880172\",\"contentId\":\"a1ede5b9-3819-42d3-a3b3-a276571547a2\"},{\"name\":\"Sniper Rifle\",\"description\":\"Semi-automatic multi-role heavy rifle with variable-zoom 4x/9x optics. Best used at long range in conjunction with Smart-Link.\",\"type\":\"Power\",\"largeIconImageUrl\":\"https://content.halocdn.com/media/Default/games/halo-5-guardians/tools-of-destruction/weapons/sniper-rifle-b6d462a6c57d4297953d12e93e468053.png\",\"smallIconImageUrl\":\"https://image.halocdn.com:443/?path=https%3a%2f%2fcontent.halocdn.com%2fmedia%2fDefault%2fgames%2fhalo-5-guardians%2ftools-of-destruction%2fweapons%2fsniper-rifle-b6d462a6c57d4297953d12e93e468053.png&width=332&hash=BiMAWO4c0GfjEiyp%2fYMyGApujlhorPHFr8tEr49q02Y%3d\",\"isUsableByPlayer\":true,\"id\":\"669296699\",\"contentId\":\"22cad0dc-8af0-44d2-8654-f80a0c231955\"},{\"name\":\"Rocket Launcher\",\"description\":\"Shoulder-fired heavy weapon widely issued to UNSC Army, Marine Corps, and Spartan infantry to counter enemy vehicles and Promethean Knights. Can fire two missiles per magazine. Lock-on to air targets using Smart-Link before firing.\",\"type\":\"Power\",\"largeIconImageUrl\":\"https://content.halocdn.com/media/Default/games/halo-5-guardians/tools-of-destruction/weapons/rocket-launcher-fc1d373704564123ae76cf41de665d18.png\",\"smallIconImageUrl\":\"https://image.halocdn.com:443/?path=https%3a%2f%2fcontent.halocdn.com%2fmedia%2fDefault%2fgames%2fhalo-5-guardians%2ftools-of-destruction%2fweapons%2frocket-launcher-fc1d373704564123ae76cf41de665d18.png&width=332&hash=87HtwFUlzN7GoQu%2bEeySijltY9fM79i7XpN1B%2bPvvaw%3d\",\"isUsableByPlayer\":true,\"id\":\"723523180\",\"contentId\":\"f4aa9fab-fc38-4cbe-a777-0d6eab03bcc4\"},{\"name\":\"Magnum\",\"description\":\"Magnum with Projection Sight. Standard-issue semi-automatic heavy pistol. Use Smart-Link and call your shots.\",\"type\":\"Standard\",\"largeIconImageUrl\":\"https://content.halocdn.com/media/Default/games/halo-5-guardians/tools-of-destruction/weapons/magnum-d98e366992d4489bbb34e75e1ad7c2f6.png\",\"smallIconImageUrl\":\"https://image.halocdn.com:443/?path=https%3a%2f%2fcontent.halocdn.com%2fmedia%2fDefault%2fgames%2fhalo-5-guardians%2ftools-of-destruction%2fweapons%2fmagnum-d98e366992d4489bbb34e75e1ad7c2f6.png&width=332&hash=T2cr3zTZxUhcD7EWVZMgThYlYG%2brBbbZd2z8rp2dMz0%3d\",\"isUsableByPlayer\":true,\"id\":\"4096745987\",\"contentId\":\"9cf1c3ce-bf33-4c20-b9ae-56de0f6f0652\"},{\"name\":\"Battle Rifle\",\"description\":\"Battle Rifle with Recon Sight. Standard-issue burst-fire rifle that can excel at any engagement range.\",\"type\":\"Standard\",\"largeIconImageUrl\":\"https://content.halocdn.com/media/Default/games/halo-5-guardians/tools-of-destruction/weapons/br-07be901f5fac4a68aeea3dac36decc06.png\",\"smallIconImageUrl\":\"https://image.halocdn.com:443/?path=https%3a%2f%2fcontent.halocdn.com%2fmedia%2fDefault%2fgames%2fhalo-5-guardians%2ftools-of-destruction%2fweapons%2fbr-07be901f5fac4a68aeea3dac36decc06.png&width=332&hash=375YR8hAEtNlO6Vq7RPB6V56bdbd4ermo6n6UrrK2ss%3d\",\"isUsableByPlayer\":true,\"id\":\"424645655\",\"contentId\":\"9b2089b8-5652-465a-ad78-78a36761fcac\"},{\"name\":\"SPNKr Rocket Launcher\",\"description\":\"Make some noise! Twin-tube shoulder-fired rocket launcher with Smart-Link sights. Rockets can lock-on to air targets.\",\"type\":\"Power\",\"largeIconImageUrl\":\"https://content.halocdn.com/media/Default/games/halo-5-guardians/tools-of-destruction/weapons/spnkr-25d0ddbcefd14a859bceef38875b28a3.png\",\"smallIconImageUrl\":\"https://image.halocdn.com:443/?path=https%3a%2f%2fcontent.halocdn.com%2fmedia%2fDefault%2fgames%2fhalo-5-guardians%2ftools-of-destruction%2fweapons%2fspnkr-25d0ddbcefd14a859bceef38875b28a3.png&width=332&hash=YZndAuIi%2bqCqGGCvgHjNQSI1FEB5ZcW5946sExuvqSA%3d\",\"isUsableByPlayer\":true,\"id\":\"2902827823\",\"contentId\":\"e7d65a17-2517-458c-ac3f-1dd48405718e\"},{\"name\":\"Halo 2 Battle Rifle\",\"description\":\"BR with Classic Sight. Reliable firepower never goes out of style. Battle Rifle with full-screen zoom.\",\"type\":\"Standard\",\"largeIconImageUrl\":\"https://content.halocdn.com/media/Default/games/halo-5-guardians/tools-of-destruction/weapons/halo-2-battle-rifle-967c07de6b78414eafa429be2eb7ab48.png\",\"smallIconImageUrl\":\"https://image.halocdn.com:443/?path=https%3a%2f%2fcontent.halocdn.com%2fmedia%2fDefault%2fgames%2fhalo-5-guardians%2ftools-of-destruction%2fweapons%2fhalo-2-battle-rifle-967c07de6b78414eafa429be2eb7ab48.png&width=332&hash=B67pwYaY0I3WpJu5t2D11AD%2bpfb4Vqn3x41DZtJU3JY%3d\",\"isUsableByPlayer\":true,\"id\":\"4222743534\",\"contentId\":\"798a60dd-410a-4493-ba48-22e9dfd8ddff\"},{\"name\":\"Ball\",\"description\":null,\"type\":\"Unknown\",\"largeIconImageUrl\":\"https://content.halocdn.com/media/Default/games/halo-5-guardians/tools-of-destruction/weapons/assault-ball-weapon-e1cffc1788c849d8938bf104fe55e07a.png\",\"smallIconImageUrl\":\"https://image.halocdn.com:443/?path=https%3a%2f%2fcontent.halocdn.com%2fmedia%2fDefault%2fgames%2fhalo-5-guardians%2ftools-of-destruction%2fweapons%2fassault-ball-weapon-e1cffc1788c849d8938bf104fe55e07a.png&width=332&hash=XinxuuCPidF6%2fISNfNygk%2bm8Hp9%2b%2b9xAg8ZPCu9Pr1k%3d\",\"isUsableByPlayer\":true,\"id\":\"393532233\",\"contentId\":\"1e2acd11-6bbb-4f62-855b-21a8b84f5a7d\"},{\"name\":\"Gravity Hammer\",\"description\":\"Brutally effective melee weapon that combines a hammer with repurposed gravitic impellers on the striking face. Each smash unleashes a damaging area-of-effect pulse with knockback. Regular melee attacks are weaker, but do not consume energy.\",\"type\":\"Power\",\"largeIconImageUrl\":\"https://content.halocdn.com/media/Default/games/halo-5-guardians/tools-of-destruction/weapons/gravity-hammer-07ce6812c81c4c67a6dd68dbb7456355.png\",\"smallIconImageUrl\":\"https://image.halocdn.com:443/?path=https%3a%2f%2fcontent.halocdn.com%2fmedia%2fDefault%2fgames%2fhalo-5-guardians%2ftools-of-destruction%2fweapons%2fgravity-hammer-07ce6812c81c4c67a6dd68dbb7456355.png&width=332&hash=AflzYP165PLTA%2fVLKmehUKYhO7vCycNsO2GNox7ZM24%3d\",\"isUsableByPlayer\":true,\"id\":\"2899979324\",\"contentId\":\"91cefab6-7af6-4fec-8543-f8efd4908c21\"},{\"name\":\"Halo One Pistol\",\"description\":null,\"type\":\"Power\",\"largeIconImageUrl\":\"https://content.halocdn.com/media/Default/games/halo-5-guardians/tools-of-destruction/weapons/magnum-h1-42d7453086fa48ba897bd99f8f7cab8f.png\",\"smallIconImageUrl\":\"https://image.halocdn.com:443/?path=https%3a%2f%2fcontent.halocdn.com%2fmedia%2fDefault%2fgames%2fhalo-5-guardians%2ftools-of-destruction%2fweapons%2fmagnum-h1-42d7453086fa48ba897bd99f8f7cab8f.png&width=332&hash=GJ5%2fNOKvONYcodHWSK510eVm5lmK7CW92O2Nrvg0ZZE%3d\",\"isUsableByPlayer\":true,\"id\":\"2758094302\",\"contentId\":\"459e3484-e687-4867-88dc-01331973e0aa\"},{\"name\":\"Brute Plasma Rifle\",\"description\":\"Newly manufactured Brute Plasma Rifles continue to appear in the hands of mercenaries and raiders, though their source is unknown.  All Brute Plasma Rifles are capable of unleashing a devastating fusillade of plasma bolts between emergency cooling breaks.\",\"type\":\"Power\",\"largeIconImageUrl\":\"https://content.halocdn.com/media/Default/games/halo-5-guardians/tools-of-destruction/weapons/plasma_rifle-b1c39105c2b341ba9a21fb8602b51a58.png\",\"smallIconImageUrl\":\"https://image.halocdn.com:443/?path=https%3a%2f%2fcontent.halocdn.com%2fmedia%2fDefault%2fgames%2fhalo-5-guardians%2ftools-of-destruction%2fweapons%2fplasma_rifle-b1c39105c2b341ba9a21fb8602b51a58.png&width=332&hash=cISQme4MQ1V8E9e%2f0NTgE5RlWbjDrjfPUN6tJFwI8%2bQ%3d\",\"isUsableByPlayer\":true,\"id\":\"2015271382\",\"contentId\":\"eedf40c7-8fa6-4c8c-89d6-cffab3381711\"},{\"name\":\"Retro Beam Rifle\",\"description\":\"The T-50 Beam Rifle is a Covenant long-range directed-energy weapon used by raiders, snipers, and scout-executors. Long-range semi-automatic energy rifle with variable-zoom optics. Use Smart-Link to line up headshots for one-shot kills.\",\"type\":\"Power\",\"largeIconImageUrl\":\"https://content.halocdn.com/media/Default/games/halo-5-guardians/tools-of-destruction/weapons/beam_rifle_h2_default__542x305-75cb58f18b774b1286714d2843dd4e79.png\",\"smallIconImageUrl\":\"https://image.halocdn.com:443/?path=https%3a%2f%2fcontent.halocdn.com%2fmedia%2fDefault%2fgames%2fhalo-5-guardians%2ftools-of-destruction%2fweapons%2fbeam_rifle_h2_default__542x305-75cb58f18b774b1286714d2843dd4e79.png&width=332&hash=pJXZIBPNlKtG8Re1%2f9YZEj4R5ub%2fBa9xPFd%2fckmoXIY%3d\",\"isUsableByPlayer\":true,\"id\":\"907086443\",\"contentId\":\"c1028797-dff7-4f5b-bc9b-2c0f43374ca7\"},{\"name\":\"Wasp\",\"description\":\"The AV-49 Wasp supplements existing stocks of AV-14 and AV-22 aircraft in Marine service. Close air support VTOL armed with heavy machine guns and twin rocket launchers.\",\"type\":\"Vehicle\",\"largeIconImageUrl\":\"https://content.halocdn.com/media/Default/games/halo-5-guardians/tools-of-destruction/vehicles/linked_wasp_default_542x305-383ceb295f764556ba15dd3d4daaa03c.png\",\"smallIconImageUrl\":\"https://image.halocdn.com:443/?path=https%3a%2f%2fcontent.halocdn.com%2fmedia%2fDefault%2fgames%2fhalo-5-guardians%2ftools-of-destruction%2fvehicles%2flinked_wasp_default_542x305-383ceb295f764556ba15dd3d4daaa03c.png&width=332&hash=eNyCWjHbTDW56FJ9igozd197kql%2bc86xUiY142%2fd9O0%3d\",\"isUsableByPlayer\":true,\"id\":\"3207900961\",\"contentId\":\"104e4c82-b93c-4540-aae7-37ad3a8a9807\"},{\"name\":\"Hunter Arm Turret\",\"description\":\"The Lekgolo that remain in this stolen limb retain a feral vestige of their once-expansive composite mind. The Wicked Grasp fires bursts of tracking plasma shots.\",\"type\":\"Turret\",\"largeIconImageUrl\":\"https://content.halocdn.com/media/Default/games/halo-5-guardians/tools-of-destruction/weapons/hunter_arm-bbaad2f06c914a10815e2ce5c5cfdbd7.png\",\"smallIconImageUrl\":\"https://image.halocdn.com:443/?path=https%3a%2f%2fcontent.halocdn.com%2fmedia%2fDefault%2fgames%2fhalo-5-guardians%2ftools-of-destruction%2fweapons%2fhunter_arm-bbaad2f06c914a10815e2ce5c5cfdbd7.png&width=332&hash=g1DxaQfgZFeily0WUlfWHL2yi3s6yvrJX35EvqS8plU%3d\",\"isUsableByPlayer\":true,\"id\":\"1351500565\",\"contentId\":\"6779263c-57a9-49b3-9048-43a12706e4d4\"},{\"name\":\"Plasma Turret\",\"description\":\"Rapid-fire plasma cannon.\",\"type\":\"Turret\",\"largeIconImageUrl\":\"https://content.halocdn.com/media/Default/games/halo-5-guardians/tools-of-destruction/weapons/plasma_turret-aec66472854145ca9124130353ba2dd2.png\",\"smallIconImageUrl\":\"https://image.halocdn.com:443/?path=https%3a%2f%2fcontent.halocdn.com%2fmedia%2fDefault%2fgames%2fhalo-5-guardians%2ftools-of-destruction%2fweapons%2fplasma_turret-aec66472854145ca9124130353ba2dd2.png&width=332&hash=fQWbpv7LS1G%2btAXqp30E49g3wsexYg8IMFCbvSVm8XY%3d\",\"isUsableByPlayer\":true,\"id\":\"2023669721\",\"contentId\":\"ccab2aea-c7e9-4acf-baf7-916cf01b7c16\"},{\"name\":\"Jorge\"s Chaingun\",\"description\":null,\"type\":\"Turret\",\"largeIconImageUrl\":\"https://content.halocdn.com/media/Default/games/halo-5-guardians/default-images/default-turret-332x132-c3db09f21ee242589b5277004462d27e.png\",\"smallIconImageUrl\":\"https://image.halocdn.com:443/?path=https%3a%2f%2fcontent.halocdn.com%2fmedia%2fDefault%2fgames%2fhalo-5-guardians%2fdefault-images%2fdefault-turret-332x132-c3db09f21ee242589b5277004462d27e.png&width=332&hash=M89098C3LTFFiK9wiIUdjWSNxlXvoKTGlmRoBEmd6RU%3d\",\"isUsableByPlayer\":true,\"id\":\"1364188648\",\"contentId\":\"8ff7b779-b30f-48ea-b366-2c44b56f0f48\"},{\"name\":\"Golf Club\",\"description\":\"409331533\",\"type\":\"Unknown\",\"largeIconImageUrl\":\"https://content.halocdn.com/media/Default/games/halo-5-guardians/default-images/default-weapon-332x132-5e66c8cb2a2045ee8c0b15c0cb1f7944.png\",\"smallIconImageUrl\":\"https://image.halocdn.com:443/?path=https%3a%2f%2fcontent.halocdn.com%2fmedia%2fDefault%2fgames%2fhalo-5-guardians%2fdefault-images%2fdefault-weapon-332x132-5e66c8cb2a2045ee8c0b15c0cb1f7944.png&width=332&hash=B%2fQedDpaFRR6mNigEL1GT9CrU5j8lKSIYZsoepqa2gk%3d\",\"isUsableByPlayer\":true,\"id\":\"409331533\",\"contentId\":\"71e5512e-a151-492f-afe8-aef88045b9c7\"},{\"name\":\"Reach Grenade Launcher\",\"description\":\"M319\"s are single shot, break-action grenade launchers that can fire a variety of 40mm rounds. Hold trigger for alternate fuse: release trigger to manually detonate with EMP effect. The grenade can be bounced to reach around cover.\",\"type\":\"Power\",\"largeIconImageUrl\":\"https://content.halocdn.com/media/Default/Requisition/Generated/objects/multi/warzone/requisition/reqs/consumables/power_weapons/reach_grenade_launcher/reach_grenade_launcher_large-72cd406204db4d82b037928edf50cecb.png\",\"smallIconImageUrl\":\"https://image.halocdn.com:443/?path=https%3a%2f%2fcontent.halocdn.com%2fmedia%2fDefault%2fRequisition%2fGenerated%2fobjects%2fmulti%2fwarzone%2frequisition%2freqs%2fconsumables%2fpower_weapons%2freach_grenade_launcher%2freach_grenade_launcher_large-72cd406204db4d82b037928edf50cecb.png&width=332&hash=NN9c%2fFnVo6AlbPNnL5DmxP%2fuMwHh%2bo0O9vOVSy70tPo%3d\",\"isUsableByPlayer\":true,\"id\":\"1390323522\",\"contentId\":\"b0d9a560-1254-41f5-aa28-8dc0395c48c5\"},{\"name\":\"Sentinel Beam\",\"description\":\"Fired in semi-automatic mode, or the trigger can be held down to charge and then release multiple plasma grenades in quick succession.\",\"type\":\"Power\",\"largeIconImageUrl\":\"https://content.halocdn.com/media/Default/Requisition/Generated/objects/multi/warzone/requisition/reqs/consumables/power_weapons/sentinel_beam/sentinel_beam_large-27b225987ed345c09e69daa5739561d4.png\",\"smallIconImageUrl\":\"https://image.halocdn.com:443/?path=https%3a%2f%2fcontent.halocdn.com%2fmedia%2fDefault%2fRequisition%2fGenerated%2fobjects%2fmulti%2fwarzone%2frequisition%2freqs%2fconsumables%2fpower_weapons%2fsentinel_beam%2fsentinel_beam_large-27b225987ed345c09e69daa5739561d4.png&width=332&hash=9WAhg0QOoTD9cHO3tm3tvIgU4MRWMsuGmZn%2bAX8Vha4%3d\",\"isUsableByPlayer\":true,\"id\":\"3143603656\",\"contentId\":\"517154cc-c9aa-4c1a-8da5-e535c21a1727\"},{\"name\":\"PHANTOM\",\"description\":\"Phantom deployable for campaign and warzone\",\"type\":\"Vehicle\",\"largeIconImageUrl\":\"https://content.halocdn.com/media/Default/games/halo-5-guardians/default-images/default-weapon-332x132-5e66c8cb2a2045ee8c0b15c0cb1f7944.png\",\"smallIconImageUrl\":\"https://image.halocdn.com:443/?path=https%3a%2f%2fcontent.halocdn.com%2fmedia%2fDefault%2fgames%2fhalo-5-guardians%2fdefault-images%2fdefault-weapon-332x132-5e66c8cb2a2045ee8c0b15c0cb1f7944.png&width=332&hash=B%2fQedDpaFRR6mNigEL1GT9CrU5j8lKSIYZsoepqa2gk%3d\",\"isUsableByPlayer\":false,\"id\":\"1977724336\",\"contentId\":\"54d2716c-b420-4a40-9e93-6636b221177b\"},{\"name\":\"Grunt Mech\",\"description\":null,\"type\":\"Unknown\",\"largeIconImageUrl\":\"https://content.halocdn.com/media/Default/games/halo-5-guardians/default-images/default-weapon-332x132-5e66c8cb2a2045ee8c0b15c0cb1f7944.png\",\"smallIconImageUrl\":\"https://image.halocdn.com:443/?path=https%3a%2f%2fcontent.halocdn.com%2fmedia%2fDefault%2fgames%2fhalo-5-guardians%2fdefault-images%2fdefault-weapon-332x132-5e66c8cb2a2045ee8c0b15c0cb1f7944.png&width=332&hash=B%2fQedDpaFRR6mNigEL1GT9CrU5j8lKSIYZsoepqa2gk%3d\",\"isUsableByPlayer\":false,\"id\":\"1102617398\",\"contentId\":\"3056d7a5-325a-4e12-8f52-29ef4e607736\"}]\n"
   ]
  },
  {
   "cell_type": "markdown",
   "metadata": {},
   "source": [
    "## Player Arena History"
   ]
  },
  {
   "cell_type": "code",
   "execution_count": null,
   "metadata": {
    "ExecuteTime": {
     "end_time": "2021-07-01T17:05:33.921928Z",
     "start_time": "2021-07-01T17:05:32.644678Z"
    }
   },
   "outputs": [],
   "source": [
    "########### Python 3.2 #############\n",
    "import http.client, urllib.request, urllib.parse, urllib.error, base64\n",
    "\n",
    "players = ['thefishhawk88', 'Drymander']\n",
    "\n",
    "headers = {\n",
    "    # Request headers\n",
    "    'Ocp-Apim-Subscription-Key': str(api_key),\n",
    "}\n",
    "\n",
    "params = urllib.parse.urlencode({\n",
    "    # Request parameters\n",
    "#     'seasonId': '{string}',\n",
    "\n",
    "\n",
    "    \n",
    "})\n",
    "\n",
    "try:\n",
    "    conn = http.client.HTTPSConnection('www.haloapi.com')\n",
    "    conn.request(\"GET\", f\"/stats/h5/servicerecords/arena?players=drymander,thefishhawk88&%s\" % params, \"{body}\", headers)\n",
    "    response = conn.getresponse()\n",
    "    data = response.read()\n",
    "    print(data)\n",
    "    conn.close()\n",
    "except Exception as e:\n",
    "    print(\"[Errno {0}] {1}\".format(e.errno, e.strerror))\n",
    "\n",
    "####################################\n"
   ]
  },
  {
   "cell_type": "markdown",
   "metadata": {},
   "source": [
    "## Game Base Variants"
   ]
  },
  {
   "cell_type": "code",
   "execution_count": null,
   "metadata": {
    "ExecuteTime": {
     "end_time": "2021-06-28T20:56:05.053556Z",
     "start_time": "2021-06-28T20:56:04.819844Z"
    }
   },
   "outputs": [],
   "source": [
    "########### Python 3.2 #############\n",
    "import http.client, urllib.request, urllib.parse, urllib.error, base64\n",
    "\n",
    "\n",
    "\n",
    "headers = {\n",
    "    # Request headers\n",
    "    'Accept-Language': 'en',\n",
    "    'Ocp-Apim-Subscription-Key': api_key,\n",
    "}\n",
    "\n",
    "params = urllib.parse.urlencode({\n",
    "})\n",
    "\n",
    "try:\n",
    "    conn = http.client.HTTPSConnection('www.haloapi.com')\n",
    "    conn.request(\"GET\", \"/metadata/h5/metadata/game-base-variants?%s\" % params, \"{body}\", headers)\n",
    "    response = conn.getresponse()\n",
    "    data = response.read()\n",
    "    print(data)\n",
    "    conn.close()\n",
    "except Exception as e:\n",
    "    print(\"[Errno {0}] {1}\".format(e.errno, e.strerror))\n",
    "\n",
    "####################################\n"
   ]
  },
  {
   "cell_type": "code",
   "execution_count": null,
   "metadata": {
    "ExecuteTime": {
     "end_time": "2021-06-28T20:58:35.124606Z",
     "start_time": "2021-06-28T20:58:35.103613Z"
    }
   },
   "outputs": [],
   "source": [
    "test = [{\"name\":\"Strongholds\",\"internalName\":\"Strongholds\",\"iconUrl\":\"https://content.halocdn.com/media/Default/games/halo-5-guardians/game-type-icons/stronghold-8a7cbb21223e4c0fac736492d04eff91.png\",\"supportedGameModes\":[\"Arena\",\"Custom\"],\"id\":\"1571fdac-e0b4-4ebc-a73a-6e13001b71d3\",\"contentId\":\"1571fdac-e0b4-4ebc-a73a-6e13001b71d3\"},{\"name\":\"Slayer\",\"internalName\":\"Slayer\",\"iconUrl\":\"https://content.halocdn.com/media/Default/games/halo-5-guardians/game-type-icons/slayer-b92fd67142834e4d825322f2404d7753.png\",\"supportedGameModes\":[\"Arena\",\"Custom\"],\"id\":\"257a305e-4dd3-41f1-9824-dfe7e8bd59e1\",\"contentId\":\"257a305e-4dd3-41f1-9824-dfe7e8bd59e1\"},{\"name\":\"Breakout\",\"internalName\":\"Breakout\",\"iconUrl\":\"https://content.halocdn.com/media/Default/games/halo-5-guardians/game-type-icons/breakout-bc0a4c0126de468e95c757466d8d3aaf.png\",\"supportedGameModes\":[\"Arena\",\"Custom\"],\"id\":\"1e473914-46e4-408d-af26-178fb115de76\",\"contentId\":\"1e473914-46e4-408d-af26-178fb115de76\"},{\"name\":\"Capture the Flag\",\"internalName\":\"CaptureTheFlag\",\"iconUrl\":\"https://content.halocdn.com/media/Default/games/halo-5-guardians/game-type-icons/capture-the-flag-8c8c85e71b734ecbbd95b14a5d802458.png\",\"supportedGameModes\":[\"Arena\",\"Custom\"],\"id\":\"a2949322-dc84-45ab-8454-cf94fb28c189\",\"contentId\":\"a2949322-dc84-45ab-8454-cf94fb28c189\"},{\"name\":\"Warzone Assault\",\"internalName\":\"WarzoneOneBase\",\"iconUrl\":\"https://content.halocdn.com/media/Default/games/halo-5-guardians/game-type-icons/warzone-923f801e29374c6296e46515713da3c3.png\",\"supportedGameModes\":[\"Warzone\"],\"id\":\"42f97cca-2cb4-497a-a0fd-ceef1ba46bcc\",\"contentId\":\"42f97cca-2cb4-497a-a0fd-ceef1ba46bcc\"},{\"name\":\"Warzone\",\"internalName\":\"WarzoneTwoBase\",\"iconUrl\":\"https://content.halocdn.com/media/Default/games/halo-5-guardians/game-type-icons/warzone-923f801e29374c6296e46515713da3c3.png\",\"supportedGameModes\":[\"Warzone\"],\"id\":\"f6de5351-3797-41e9-8053-7fb111a3a1a0\",\"contentId\":\"f6de5351-3797-41e9-8053-7fb111a3a1a0\"},{\"name\":\"Campaign\",\"internalName\":\"Campaign\",\"iconUrl\":'null',\"supportedGameModes\":[\"Campaign\"],\"id\":\"00000003-0000-0010-8000-00aa00389b71\",\"contentId\":\"00000003-0000-0010-8000-00aa00389b71\"},{\"name\":\"Big Team CTF\",\"internalName\":\"BigTeamBattleCaptureTheFlag\",\"iconUrl\":\"https://content.halocdn.com/media/Default/games/halo-5-guardians/game-type-icons/capture-the-flag-8c8c85e71b734ecbbd95b14a5d802458.png\",\"supportedGameModes\":[\"Arena\",\"Custom\"],\"id\":\"8d4a3dbc-ef7a-405e-862b-34093ff582fd\",\"contentId\":\"8d4a3dbc-ef7a-405e-862b-34093ff582fd\"},{\"name\":\"Big Team Strongholds\",\"internalName\":\"BigTeamBattleStrongholds\",\"iconUrl\":\"https://content.halocdn.com/media/Default/games/halo-5-guardians/game-type-icons/stronghold-8a7cbb21223e4c0fac736492d04eff91.png\",\"supportedGameModes\":[\"Arena\",\"Custom\"],\"id\":\"b45854a7-e6e1-4a9c-9104-139934511779\",\"contentId\":\"b45854a7-e6e1-4a9c-9104-139934511779\"},{\"name\":\"Big Team Slayer\",\"internalName\":\"BigTeamBattleSlayer\",\"iconUrl\":\"https://content.halocdn.com/media/Default/games/halo-5-guardians/game-type-icons/slayer-b92fd67142834e4d825322f2404d7753.png\",\"supportedGameModes\":[\"Arena\",\"Custom\"],\"id\":\"65f033d2-1303-4748-bc26-ef62c38eced4\",\"contentId\":\"65f033d2-1303-4748-bc26-ef62c38eced4\"},{\"name\":'null',\"internalName\":\"Forge\",\"iconUrl\":'null',\"supportedGameModes\":[\"Custom\"],\"id\":\"a2b0a49f-a1ca-cdc2-c0bf-8fa1cacdc2c0\",\"contentId\":\"a2b0a49f-a1ca-cdc2-c0bf-8fa1cacdc2c0\"},{\"name\":\"Assault\",\"internalName\":\"Assault\",\"iconUrl\":\"https://content.halocdn.com/media/Default/games/halo-5-guardians/game-type-icons/assault-ball-409c1609094a4a28a7b7694fe720a112.png\",\"supportedGameModes\":[\"Arena\",\"Custom\"],\"id\":\"b0df8938-0fb6-42ee-846f-a0c3593344d5\",\"contentId\":\"b0df8938-0fb6-42ee-846f-a0c3593344d5\"},{\"name\":\"Grifball\",\"internalName\":\"Grifball\",\"iconUrl\":\"https://content.halocdn.com/media/Default/games/halo-5-guardians/game-type-icons/grifball-77008ff230804c3da846d3e5a11c26e6.png\",\"supportedGameModes\":[\"Arena\",\"Custom\"],\"id\":\"dda182c5-4b50-4a0f-86f3-fcb5e0db4df3\",\"contentId\":\"dda182c5-4b50-4a0f-86f3-fcb5e0db4df3\"},{\"name\":\"Warzone Firefight\",\"internalName\":\"WarzonePvE\",\"iconUrl\":\"https://content.halocdn.com/media/Default/games/halo-5-guardians/game-type-icons/firefight-0fd0ab5ab6324d1cacecb588c9074bff.png\",\"supportedGameModes\":[\"Warzone\"],\"id\":\"dfd51ee3-9060-46c3-b131-08d946c4c7b9\",\"contentId\":\"dfd51ee3-9060-46c3-b131-08d946c4c7b9\"},{\"name\":\"Infection\",\"internalName\":\"Infection\",\"iconUrl\":\"https://content.halocdn.com/media/Default/games/halo-5-guardians/game-type-icons/infection-a32cb582d1a747578342c5412151e9d0.png\",\"supportedGameModes\":[\"Arena\",\"Custom\"],\"id\":\"f6051f51-bbb6-4ccc-8ac0-cf42b7291c76\",\"contentId\":\"f6051f51-bbb6-4ccc-8ac0-cf42b7291c76\"},{\"name\":\"Campaign Score Attack\",\"internalName\":\"Campaign\",\"iconUrl\":'null',\"supportedGameModes\":[\"Campaign\"],\"id\":\"67ffc2ff-a50e-4e5d-ae08-b40e3d961061\",\"contentId\":\"67ffc2ff-a50e-4e5d-ae08-b40e3d961061\"},{\"name\":\"Mini-game\",\"internalName\":\"MiniGame\",\"iconUrl\":'null',\"supportedGameModes\":[\"Arena\",\"Custom\"],\"id\":\"a5c8c223-2418-42cf-8980-e5ceddf12232\",\"contentId\":\"a5c8c223-2418-42cf-8980-e5ceddf12232\"},{\"name\":\"Oddball\",\"internalName\":\"Oddball\",\"iconUrl\":\"https://content.halocdn.com/media/Default/games/halo-5-guardians/game-type-icons/oddball_logo-76fa7fd3131548899d2ae3fbc21376a4.png\",\"supportedGameModes\":[\"Arena\",\"Custom\"],\"id\":\"9bb6fde8-ac5b-4d45-96eb-0acc6980722a\",\"contentId\":\"9bb6fde8-ac5b-4d45-96eb-0acc6980722a\"},{\"name\":\"Big Team Assault\",\"internalName\":\"BigTeamBattleAssault\",\"iconUrl\":\"https://content.halocdn.com/media/Default/games/halo-5-guardians/game-type-icons/assault-ball-409c1609094a4a28a7b7694fe720a112.png\",\"supportedGameModes\":[\"Arena\",\"Custom\"],\"id\":\"657d658d-853a-4e82-9068-7b730720cc7f\",\"contentId\":\"657d658d-853a-4e82-9068-7b730720cc7f\"}]"
   ]
  },
  {
   "cell_type": "code",
   "execution_count": null,
   "metadata": {
    "ExecuteTime": {
     "end_time": "2021-06-28T20:58:38.276050Z",
     "start_time": "2021-06-28T20:58:38.253020Z"
    }
   },
   "outputs": [],
   "source": [
    "test"
   ]
  },
  {
   "cell_type": "code",
   "execution_count": null,
   "metadata": {},
   "outputs": [],
   "source": [
    "type(data)"
   ]
  },
  {
   "cell_type": "code",
   "execution_count": null,
   "metadata": {},
   "outputs": [],
   "source": [
    "pip install halo5.py"
   ]
  },
  {
   "cell_type": "code",
   "execution_count": null,
   "metadata": {},
   "outputs": [],
   "source": [
    "pip install halo5.py==0.3.0"
   ]
  },
  {
   "cell_type": "code",
   "execution_count": null,
   "metadata": {},
   "outputs": [],
   "source": [
    " data_decode = data.decode('utf-8')"
   ]
  },
  {
   "cell_type": "code",
   "execution_count": null,
   "metadata": {},
   "outputs": [],
   "source": [
    "data_decode"
   ]
  },
  {
   "cell_type": "code",
   "execution_count": null,
   "metadata": {},
   "outputs": [],
   "source": [
    "import json\n",
    "d = json.dumps(data_decode)"
   ]
  },
  {
   "cell_type": "code",
   "execution_count": null,
   "metadata": {},
   "outputs": [],
   "source": [
    "d"
   ]
  },
  {
   "cell_type": "code",
   "execution_count": null,
   "metadata": {},
   "outputs": [],
   "source": [
    "pip install git+https://github.com/Jma353/halo5.py"
   ]
  },
  {
   "cell_type": "code",
   "execution_count": null,
   "metadata": {},
   "outputs": [],
   "source": [
    "pip install entities"
   ]
  },
  {
   "cell_type": "code",
   "execution_count": null,
   "metadata": {},
   "outputs": [],
   "source": [
    "!pip install .entity\n",
    "\n",
    "from .entity import Entity"
   ]
  },
  {
   "cell_type": "code",
   "execution_count": null,
   "metadata": {
    "scrolled": true
   },
   "outputs": [],
   "source": [
    "from .entity import Entity"
   ]
  },
  {
   "cell_type": "code",
   "execution_count": null,
   "metadata": {},
   "outputs": [],
   "source": [
    "import halo5"
   ]
  },
  {
   "cell_type": "code",
   "execution_count": null,
   "metadata": {},
   "outputs": [],
   "source": []
  },
  {
   "cell_type": "code",
   "execution_count": null,
   "metadata": {},
   "outputs": [],
   "source": [
    "print(c.stats.post_game_arena('1e1e5a33-f37a-4d75-82b1-5e6ae4697a9c'))"
   ]
  },
  {
   "cell_type": "code",
   "execution_count": null,
   "metadata": {},
   "outputs": [],
   "source": [
    "if scrape == True:\n",
    "\n",
    "    results = []\n",
    "\n",
    "    for year in [2012, 2013, 2014, 2015, 2016, 2017, 2018, 2019]:\n",
    "\n",
    "        page_number = 1\n",
    "\n",
    "        response = requests.get('https://api.themoviedb.org/3/discover/movie?api_key=' \n",
    "                                 +  api_key + '&page=' + str(page_number) + \n",
    "                                 '&with_original_language=en&primary_release_year=' + str(year) + '&with_release_type=3&with_runtime.gte=80')\n",
    "\n",
    "        total_pages = response.json()['total_pages']\n",
    "\n",
    "        results.extend(response.json()['results'])\n",
    "\n",
    "        while page_number < total_pages:\n",
    "\n",
    "            page_number += 1\n",
    "\n",
    "            response = requests.get('https://api.themoviedb.org/3/discover/movie?api_key=' \n",
    "                                 +  api_key + '&page=' + str(page_number) + \n",
    "                                 '&with_original_language=en&primary_release_year=' + str(year) + '&with_release_type=3&with_runtime.gte=80')\n",
    "\n",
    "            results.extend(response.json()['results'])\n",
    "            \n",
    "        results.to_csv('data/2012-2019.csv')\n",
    "            \n",
    "else: print('Scrape is set to False.')"
   ]
  },
  {
   "cell_type": "code",
   "execution_count": null,
   "metadata": {},
   "outputs": [],
   "source": []
  },
  {
   "cell_type": "markdown",
   "metadata": {},
   "source": [
    "## Player History"
   ]
  },
  {
   "cell_type": "markdown",
   "metadata": {},
   "source": [
    "### Base Code"
   ]
  },
  {
   "cell_type": "code",
   "execution_count": null,
   "metadata": {
    "ExecuteTime": {
     "end_time": "2021-06-29T19:30:13.736163Z",
     "start_time": "2021-06-29T19:30:13.433352Z"
    }
   },
   "outputs": [],
   "source": [
    "headers = {\n",
    "    # Request headers\n",
    "    'Ocp-Apim-Subscription-Key': api_key,\n",
    "}\n",
    "\n",
    "player = 'Drymander'\n",
    "\n",
    "params = urllib.parse.urlencode({\n",
    "    # Request parameters\n",
    "    'modes': 'arena',\n",
    "    'start': 25,\n",
    "    'count': 25,\n",
    "    'include-times': True,\n",
    "})\n",
    "\n",
    "try:\n",
    "    conn = http.client.HTTPSConnection('www.haloapi.com')\n",
    "    conn.request(\"GET\", f\"/stats/h5/players/{player}/matches?%s\" % params, \"{body}\", headers)\n",
    "    response = conn.getresponse()\n",
    "    data = response.read()\n",
    "    data = json.loads(data)\n",
    "#     print(data)\n",
    "    conn.close()\n",
    "except Exception as e:\n",
    "    print(f\"[Errno {0}] {1}\".format(e.errno, e.strerror))\n",
    "\n",
    "####################################\n"
   ]
  },
  {
   "cell_type": "code",
   "execution_count": null,
   "metadata": {
    "ExecuteTime": {
     "end_time": "2021-06-29T16:01:45.166341Z",
     "start_time": "2021-06-29T16:01:45.148308Z"
    }
   },
   "outputs": [],
   "source": [
    "type(data['Results'])"
   ]
  },
  {
   "cell_type": "code",
   "execution_count": null,
   "metadata": {
    "ExecuteTime": {
     "end_time": "2021-06-29T16:01:59.670499Z",
     "start_time": "2021-06-29T16:01:59.540542Z"
    }
   },
   "outputs": [],
   "source": [
    "data2"
   ]
  },
  {
   "cell_type": "code",
   "execution_count": null,
   "metadata": {
    "ExecuteTime": {
     "end_time": "2021-06-29T16:03:32.580734Z",
     "start_time": "2021-06-29T16:03:32.572737Z"
    }
   },
   "outputs": [],
   "source": [
    "data3 = data['Results'].extend(data2['Results'])"
   ]
  },
  {
   "cell_type": "code",
   "execution_count": null,
   "metadata": {
    "ExecuteTime": {
     "end_time": "2021-06-29T16:05:24.755936Z",
     "start_time": "2021-06-29T16:05:24.741943Z"
    }
   },
   "outputs": [],
   "source": [
    "data3= []"
   ]
  },
  {
   "cell_type": "code",
   "execution_count": null,
   "metadata": {
    "ExecuteTime": {
     "end_time": "2021-06-29T16:05:24.978946Z",
     "start_time": "2021-06-29T16:05:24.964951Z"
    }
   },
   "outputs": [],
   "source": [
    "data3.extend(data['Results'])"
   ]
  },
  {
   "cell_type": "code",
   "execution_count": null,
   "metadata": {
    "ExecuteTime": {
     "end_time": "2021-06-29T16:05:25.830308Z",
     "start_time": "2021-06-29T16:05:25.819303Z"
    }
   },
   "outputs": [],
   "source": [
    "data3.extend(data2['Results'])"
   ]
  },
  {
   "cell_type": "code",
   "execution_count": null,
   "metadata": {
    "ExecuteTime": {
     "end_time": "2021-06-29T16:05:27.813148Z",
     "start_time": "2021-06-29T16:05:27.520238Z"
    }
   },
   "outputs": [],
   "source": [
    "data3"
   ]
  },
  {
   "cell_type": "code",
   "execution_count": null,
   "metadata": {},
   "outputs": [],
   "source": []
  },
  {
   "cell_type": "markdown",
   "metadata": {},
   "source": [
    "### Pull All"
   ]
  },
  {
   "cell_type": "code",
   "execution_count": null,
   "metadata": {
    "ExecuteTime": {
     "end_time": "2021-07-01T17:33:21.230864Z",
     "start_time": "2021-07-01T17:25:46.864755Z"
    }
   },
   "outputs": [],
   "source": [
    "gamertag = 'Drymander'\n",
    "\n",
    "headers = {\n",
    "    # Request headers\n",
    "    'Ocp-Apim-Subscription-Key': api_key,\n",
    "}\n",
    "\n",
    "start = 0\n",
    "\n",
    "matches = []\n",
    "\n",
    "maxed_out = False\n",
    "\n",
    "while maxed_out == False:\n",
    "    try:\n",
    "        \n",
    "        params = urllib.parse.urlencode({\n",
    "            # Request parameters\n",
    "            # Request parameters\n",
    "            'modes': 'arena',\n",
    "            'start': start,\n",
    "            'count': 25,\n",
    "            'include-times': True,\n",
    "        })\n",
    "        \n",
    "        conn = http.client.HTTPSConnection('www.haloapi.com')\n",
    "        conn.request(\"GET\", f\"/stats/h5/players/{gamertag}/matches?%s\" % params, \"{body}\", headers)\n",
    "        response = conn.getresponse()\n",
    "        data = response.read()\n",
    "#         print(data)\n",
    "        data = json.loads(data)\n",
    "        matches.extend(data['Results'])\n",
    "        \n",
    "\n",
    "#         conn.close()\n",
    "# #         if data['ResultCount'] == 25:\n",
    "#         if data['Start'] > 100:\n",
    "#             maxed_out = True\n",
    "\n",
    "#         else:\n",
    "#             maxed_out = False\n",
    "#             time.sleep(1.1)\n",
    "#             start += 25\n",
    "            \n",
    "        conn.close()\n",
    "        if data['ResultCount'] == 25:\n",
    "#         if data['Start'] > 100:\n",
    "            maxed_out = False\n",
    "            time.sleep(1.1)\n",
    "            start += 25\n",
    "        \n",
    "        else:\n",
    "            maxed_out = True\n",
    "\n",
    "        \n",
    "    \n",
    "    except Exception as e:\n",
    "        print(\"error\")\n",
    "\n",
    "####################################\n",
    "# data['ResultCount'] == 25\n",
    "\n",
    "matches"
   ]
  },
  {
   "cell_type": "code",
   "execution_count": null,
   "metadata": {
    "ExecuteTime": {
     "end_time": "2021-06-28T22:08:58.281089Z",
     "start_time": "2021-06-28T22:08:58.264097Z"
    }
   },
   "outputs": [],
   "source": []
  },
  {
   "cell_type": "code",
   "execution_count": null,
   "metadata": {},
   "outputs": [],
   "source": []
  },
  {
   "cell_type": "markdown",
   "metadata": {},
   "source": [
    "### Match History into Dataframe"
   ]
  },
  {
   "cell_type": "code",
   "execution_count": null,
   "metadata": {
    "ExecuteTime": {
     "end_time": "2021-07-01T17:34:57.640936Z",
     "start_time": "2021-07-01T17:34:57.174087Z"
    }
   },
   "outputs": [],
   "source": [
    "# matches = match_history\n",
    "\n",
    "df = pd.DataFrame(matches)\n",
    "matches\n",
    "df.head(1)\n",
    "\n",
    "# df.insert(2, 'test', df_id['MatchId'])\n",
    "df.to_csv('DrymanderHistory.csv')\n",
    "df.head(1)"
   ]
  },
  {
   "cell_type": "code",
   "execution_count": null,
   "metadata": {
    "ExecuteTime": {
     "end_time": "2021-07-01T17:35:39.639586Z",
     "start_time": "2021-07-01T17:35:37.091138Z"
    }
   },
   "outputs": [],
   "source": [
    "def explode_column(df, column):\n",
    "    column = str(column)\n",
    "    column_loc = df.columns.get_loc(column)\n",
    "    column_split = df[column].apply(pd.Series)\n",
    "    \n",
    "    column_split_columns = column_split.values.tolist()\n",
    "    \n",
    "#     print(column_split)\n",
    "    \n",
    "    df = df.drop(columns=[column])\n",
    "    \n",
    "    df = df.join(column_split, rsuffix=str(column))\n",
    "    \n",
    "# #     for column in column_split_columns:\n",
    "# #         df.insert(column_loc, str(column), column)\n",
    "        \n",
    "#     for column in column_split_columns:\n",
    "#         df.insert(column_loc, 'test5', column_split['MatchId'])\n",
    "    \n",
    "    return df\n",
    "\n",
    "explode_column(df, 'Id').head(1)"
   ]
  },
  {
   "cell_type": "code",
   "execution_count": null,
   "metadata": {
    "ExecuteTime": {
     "end_time": "2021-07-01T17:35:42.414710Z",
     "start_time": "2021-07-01T17:35:39.644582Z"
    }
   },
   "outputs": [],
   "source": [
    "df = explode_column(df, 'Id')\n",
    "\n",
    "df.head(1)"
   ]
  },
  {
   "cell_type": "code",
   "execution_count": null,
   "metadata": {
    "ExecuteTime": {
     "end_time": "2021-07-01T17:35:45.039871Z",
     "start_time": "2021-07-01T17:35:42.417695Z"
    }
   },
   "outputs": [],
   "source": [
    "df = explode_column(df, 'MapVariant')\n",
    "\n",
    "df.head(1)"
   ]
  },
  {
   "cell_type": "code",
   "execution_count": null,
   "metadata": {
    "ExecuteTime": {
     "end_time": "2021-07-01T17:35:47.590041Z",
     "start_time": "2021-07-01T17:35:45.044856Z"
    }
   },
   "outputs": [],
   "source": [
    "df = explode_column(df, 'GameVariant')\n",
    "\n",
    "df.head(1)"
   ]
  },
  {
   "cell_type": "code",
   "execution_count": null,
   "metadata": {
    "ExecuteTime": {
     "end_time": "2021-07-01T17:35:50.363153Z",
     "start_time": "2021-07-01T17:35:47.592039Z"
    }
   },
   "outputs": [],
   "source": [
    "df = explode_column(df, 'MatchCompletedDate')\n",
    "\n",
    "df.head(1)"
   ]
  },
  {
   "cell_type": "code",
   "execution_count": null,
   "metadata": {
    "ExecuteTime": {
     "end_time": "2021-07-01T17:35:52.127782Z",
     "start_time": "2021-07-01T17:35:50.366152Z"
    }
   },
   "outputs": [],
   "source": [
    "df = explode_column(df, 'Teams')\n",
    "\n",
    "df.head(1)"
   ]
  },
  {
   "cell_type": "code",
   "execution_count": null,
   "metadata": {
    "ExecuteTime": {
     "end_time": "2021-07-01T17:36:04.001668Z",
     "start_time": "2021-07-01T17:35:59.007127Z"
    }
   },
   "outputs": [],
   "source": [
    "# df = df.rename(columns={0: 'Blue', 1: 'Red'}, inplace=True)\n",
    "df.columns = df.columns.astype(str)\n",
    "df = explode_column(df, '0')\n",
    "df = explode_column(df, '1')\n",
    "\n",
    "df.head(1)"
   ]
  },
  {
   "cell_type": "code",
   "execution_count": null,
   "metadata": {
    "ExecuteTime": {
     "end_time": "2021-07-01T17:36:21.413760Z",
     "start_time": "2021-07-01T17:36:13.580135Z"
    }
   },
   "outputs": [],
   "source": [
    "explode_column(df, 'Players').head(1)\n",
    "\n",
    "df_players = df['Players'].apply(pd.Series)\n",
    "\n",
    "df_players[0]\n",
    "\n",
    "df_players.columns = df_players.columns.astype(str)\n",
    "\n",
    "df_players_explode = explode_column(df_players, '0')\n",
    "\n",
    "df_match_stats = explode_column(df_players_explode, 'Player')\n",
    "\n",
    "df = df.join(df_match_stats, rsuffix='_stats')\n"
   ]
  },
  {
   "cell_type": "code",
   "execution_count": null,
   "metadata": {
    "ExecuteTime": {
     "end_time": "2021-07-01T17:36:21.491702Z",
     "start_time": "2021-07-01T17:36:21.415710Z"
    }
   },
   "outputs": [],
   "source": [
    "pd.set_option('display.max_columns', None)\n",
    "\n",
    "df.head(1)"
   ]
  },
  {
   "cell_type": "code",
   "execution_count": null,
   "metadata": {
    "ExecuteTime": {
     "end_time": "2021-07-01T17:36:36.988845Z",
     "start_time": "2021-07-01T17:36:36.598933Z"
    }
   },
   "outputs": [],
   "source": [
    "df.to_csv('DrymanderHistoryExplode.csv')"
   ]
  },
  {
   "cell_type": "code",
   "execution_count": null,
   "metadata": {},
   "outputs": [],
   "source": [
    "# ['HopperId', 'MapId', 'GameBaseVariantId', 'MatchDuration',\n",
    "#        'IsTeamGame', 'SeasonId', 'MatchCompletedDateFidelity',\n",
    "#        'MatchId', 'GameMode', 'ResourceType', 'ResourceId', 'OwnerType',\n",
    "#        'Owner', 'ResourceTypeGameVariant', 'ResourceIdGameVariant',\n",
    "#        'OwnerTypeGameVariant', 'OwnerGameVariant', 'ISO8601Date', 'Id',\n",
    "#        'Score', 'Rank', 'Id1', 'Score1', 'Rank1', 'TeamId', 'Rank_stats',\n",
    "#        'Result', 'TotalKills', 'TotalDeaths', 'TotalAssists',\n",
    "#        'PreMatchRatings', 'PostMatchRatings', 'Gamertag']"
   ]
  },
  {
   "cell_type": "code",
   "execution_count": null,
   "metadata": {},
   "outputs": [],
   "source": []
  },
  {
   "cell_type": "code",
   "execution_count": null,
   "metadata": {},
   "outputs": [],
   "source": []
  },
  {
   "cell_type": "code",
   "execution_count": null,
   "metadata": {},
   "outputs": [],
   "source": []
  },
  {
   "cell_type": "code",
   "execution_count": null,
   "metadata": {},
   "outputs": [],
   "source": []
  },
  {
   "cell_type": "code",
   "execution_count": null,
   "metadata": {},
   "outputs": [],
   "source": []
  },
  {
   "cell_type": "code",
   "execution_count": null,
   "metadata": {},
   "outputs": [],
   "source": []
  },
  {
   "cell_type": "code",
   "execution_count": null,
   "metadata": {},
   "outputs": [],
   "source": []
  },
  {
   "cell_type": "code",
   "execution_count": null,
   "metadata": {},
   "outputs": [],
   "source": []
  },
  {
   "cell_type": "code",
   "execution_count": null,
   "metadata": {},
   "outputs": [],
   "source": []
  },
  {
   "cell_type": "code",
   "execution_count": null,
   "metadata": {},
   "outputs": [],
   "source": []
  },
  {
   "cell_type": "code",
   "execution_count": null,
   "metadata": {},
   "outputs": [],
   "source": []
  },
  {
   "cell_type": "code",
   "execution_count": null,
   "metadata": {},
   "outputs": [],
   "source": []
  },
  {
   "cell_type": "code",
   "execution_count": null,
   "metadata": {
    "ExecuteTime": {
     "end_time": "2021-06-28T22:35:14.053906Z",
     "start_time": "2021-06-28T22:35:10.078859Z"
    }
   },
   "outputs": [],
   "source": [
    "pip install isodate"
   ]
  },
  {
   "cell_type": "code",
   "execution_count": null,
   "metadata": {
    "ExecuteTime": {
     "end_time": "2021-06-28T22:36:21.922623Z",
     "start_time": "2021-06-28T22:36:21.885621Z"
    }
   },
   "outputs": [],
   "source": [
    "import isodate"
   ]
  },
  {
   "cell_type": "code",
   "execution_count": null,
   "metadata": {
    "ExecuteTime": {
     "end_time": "2021-06-28T22:13:27.173993Z",
     "start_time": "2021-06-28T22:13:27.156987Z"
    }
   },
   "outputs": [],
   "source": [
    "for data in matches:\n",
    "    data_row = matches['Id']\n",
    "    "
   ]
  },
  {
   "cell_type": "code",
   "execution_count": null,
   "metadata": {
    "ExecuteTime": {
     "end_time": "2021-06-28T22:37:15.591331Z",
     "start_time": "2021-06-28T22:37:15.581337Z"
    }
   },
   "outputs": [],
   "source": [
    "print(isodate.parse_duration('PT7M42.0370831S'))"
   ]
  },
  {
   "cell_type": "code",
   "execution_count": null,
   "metadata": {},
   "outputs": [],
   "source": []
  },
  {
   "cell_type": "code",
   "execution_count": null,
   "metadata": {
    "ExecuteTime": {
     "end_time": "2021-06-28T21:44:02.819544Z",
     "start_time": "2021-06-28T21:44:02.805553Z"
    }
   },
   "outputs": [],
   "source": [
    "response.read()"
   ]
  },
  {
   "cell_type": "code",
   "execution_count": null,
   "metadata": {
    "ExecuteTime": {
     "end_time": "2021-06-28T20:09:25.805598Z",
     "start_time": "2021-06-28T20:09:25.794604Z"
    }
   },
   "outputs": [],
   "source": [
    "dic = json.loads(data)\n",
    "\n",
    "# dic['Results'][0]['MapId']\n",
    "\n",
    "map_list = []\n",
    "\n",
    "i = 0\n",
    "\n",
    "for map in dic['Results']:\n",
    "    mapId = dic['Results'][i]['MapVariant']['ResourceId']\n",
    "    map_list.append(mapId)\n",
    "    i += 1\n",
    "    \n",
    "map_list\n",
    "    "
   ]
  },
  {
   "cell_type": "markdown",
   "metadata": {},
   "source": [
    "## Map Variants"
   ]
  },
  {
   "cell_type": "code",
   "execution_count": null,
   "metadata": {
    "ExecuteTime": {
     "end_time": "2021-06-28T21:42:39.121303Z",
     "start_time": "2021-06-28T21:42:25.260518Z"
    }
   },
   "outputs": [],
   "source": [
    "# # dic['Results'][0]['MapId']\n",
    "\n",
    "# map_list = []\n",
    "\n",
    "# i = 0\n",
    "\n",
    "# for map in dic['Results']:\n",
    "#     mapId = dic['Results'][i]['MapVariant']['ResourceId']\n",
    "#     map_list.append(mapId)\n",
    "#     i += 1\n",
    "    \n",
    "# map_list\n",
    "    \n",
    "\n",
    "########### Python 3.2 #############\n",
    "import http.client, urllib.request, urllib.parse, urllib.error, base64\n",
    "\n",
    "id = '8c7142ec-178e-461a-8b9c-d83e2d63a5df'\n",
    "\n",
    "headers = {\n",
    "    # Request headers\n",
    "    'Accept-Language': 'en',\n",
    "    'Ocp-Apim-Subscription-Key': api_key,\n",
    "}\n",
    "\n",
    "params = urllib.parse.urlencode({\n",
    "})\n",
    "\n",
    "map_list_names = []\n",
    "\n",
    "for map_id in map_list:\n",
    "    try:\n",
    "        conn = http.client.HTTPSConnection('www.haloapi.com')\n",
    "        conn.request(\"GET\", f\"/metadata/h5/metadata/map-variants/{map_id}?%s\" % params, \"{body}\", headers)\n",
    "        response = conn.getresponse()\n",
    "        data = response.read()\n",
    "        data = json.loads(data)\n",
    "        map_name = data['name']\n",
    "        map_list_names.append(map_name)\n",
    "        conn.close()\n",
    "        time.sleep(1.2)\n",
    "    except Exception as e:\n",
    "        print(\"[Errno {0}] {1}\".format(e.errno, e.strerror))\n",
    "\n",
    "####################################\n",
    "\n",
    "map_list_names\n"
   ]
  },
  {
   "cell_type": "code",
   "execution_count": null,
   "metadata": {
    "ExecuteTime": {
     "end_time": "2021-06-28T19:18:40.113088Z",
     "start_time": "2021-06-28T19:17:21.275027Z"
    }
   },
   "outputs": [],
   "source": []
  },
  {
   "cell_type": "markdown",
   "metadata": {
    "ExecuteTime": {
     "end_time": "2021-06-28T19:18:58.190532Z",
     "start_time": "2021-06-28T19:18:58.170539Z"
    }
   },
   "source": [
    "# Scratch"
   ]
  },
  {
   "cell_type": "code",
   "execution_count": null,
   "metadata": {},
   "outputs": [],
   "source": []
  },
  {
   "cell_type": "code",
   "execution_count": null,
   "metadata": {},
   "outputs": [],
   "source": [
    "df_match"
   ]
  },
  {
   "cell_type": "code",
   "execution_count": null,
   "metadata": {},
   "outputs": [],
   "source": [
    "df_match1 = df_match.copy()\n",
    "\n",
    "playerteam = df_match.loc[df_match['Gamertag'] == user, 'TeamId'].values[0]\n",
    "playerteam\n",
    "\n",
    "player_df = df_match.loc[df_match['TeamId'] == playerteam]\n",
    "enemy_df = df_match.loc[df_match['TeamId'] != playerteam]\n",
    "\n",
    "row_list = []\n",
    "\n",
    "row_list.append(match_details[0]['MatchId'])\n",
    "\n",
    "for row in range(len(player_df)):\n",
    "    \n",
    "    row_list.extend(list(player_df.iloc[row].values[1:]))\n",
    "    \n",
    "for row in range(len(enemy_df)):\n",
    "    \n",
    "    row_list.extend(list(enemy_df.iloc[row].values[1:]))\n",
    "\n",
    "# row_list.extend(list(player_df.iloc[row].values[1:]) for row in range(len(player_df)))\n",
    "row_list\n"
   ]
  },
  {
   "cell_type": "code",
   "execution_count": null,
   "metadata": {},
   "outputs": [],
   "source": [
    "# match_details_df.loc[row_count] = row_list\n",
    "\n",
    "match_details_df\n",
    "row_list"
   ]
  },
  {
   "cell_type": "code",
   "execution_count": null,
   "metadata": {},
   "outputs": [],
   "source": [
    "df_match"
   ]
  },
  {
   "cell_type": "code",
   "execution_count": null,
   "metadata": {},
   "outputs": [],
   "source": [
    "match_results = match_details[3]\n",
    "\n",
    "i = 0\n",
    "\n",
    "df_match = pd.DataFrame()\n",
    "columns = [\n",
    "    'TeamId',\n",
    "    'Gamertag',\n",
    "    'SpartanRank',\n",
    "    'PrevTotalXP',\n",
    "]\n",
    "df_match = pd.DataFrame(columns = columns)\n",
    "\n",
    "for player in match_results['PlayerStats']:\n",
    "\n",
    "    player_dic = {}\n",
    "    # Team ID\n",
    "    player_dic['TeamId'] = match_results['PlayerStats'][i]['TeamId']\n",
    "    # Gamer Tag\n",
    "    player_dic['Gamertag'] = match_results['PlayerStats'][i]['Player']['Gamertag']\n",
    "    # Spartan Rank\n",
    "    player_dic['SpartanRank'] = match_results['PlayerStats'][i]['XpInfo']['SpartanRank']\n",
    "    # Previous Total XP\n",
    "    player_dic['PrevTotalXP'] = match_results['PlayerStats'][i]['XpInfo']['PrevTotalXP']\n",
    "    df_match = df_match.append(player_dic, ignore_index=True)\n",
    "    i += 1\n",
    "    \n",
    "df_match\n",
    "\n",
    "# playerteam = df_match.loc[df_match['Gamertag'] == user, 'TeamId'].values[0]\n",
    "\n",
    "# playerteam"
   ]
  },
  {
   "cell_type": "code",
   "execution_count": null,
   "metadata": {},
   "outputs": [],
   "source": []
  },
  {
   "cell_type": "code",
   "execution_count": null,
   "metadata": {},
   "outputs": [],
   "source": [
    "test_df = model_df.copy()\n",
    "\n",
    "\n",
    "\n",
    "test_df['P3_TotalTimePlayed'] = pd.to_numeric(test_df['P3_TotalTimePlayed'], errors='coerce', downcast='float')\n",
    "\n",
    "# test_df.info()\n",
    "\n",
    "test_df.head(20)"
   ]
  },
  {
   "cell_type": "code",
   "execution_count": null,
   "metadata": {},
   "outputs": [],
   "source": [
    "isinstance(test_df['P3_TotalTimePlayed'], pd.Series)"
   ]
  },
  {
   "cell_type": "code",
   "execution_count": null,
   "metadata": {},
   "outputs": [],
   "source": [
    "index_series = test_df['P3_TotalTimePlayed'].map(lambda x: isinstance(x, pd.core.series.Series))\n",
    "\n",
    "test_df[index_series]"
   ]
  },
  {
   "cell_type": "code",
   "execution_count": null,
   "metadata": {},
   "outputs": [],
   "source": [
    "model_df.iloc[18, 3]"
   ]
  },
  {
   "cell_type": "markdown",
   "metadata": {},
   "source": [
    "# original modeling code"
   ]
  },
  {
   "cell_type": "code",
   "execution_count": null,
   "metadata": {},
   "outputs": [],
   "source": []
  },
  {
   "cell_type": "markdown",
   "metadata": {},
   "source": [
    "# Model with TimePlayed"
   ]
  },
  {
   "cell_type": "code",
   "execution_count": null,
   "metadata": {},
   "outputs": [],
   "source": [
    "\n",
    "\n",
    "# Assigning X and y for train test split\n",
    "\n",
    "features = model_1000.drop(['PlayerWin'], axis=1)\n",
    "target = model_1000['PlayerWin']\n",
    "\n",
    "\n",
    "X = features\n",
    "y = target\n",
    "\n",
    "y=y.astype('int')\n",
    "\n",
    "X_train, X_test, y_train, y_test = train_test_split(X, y, test_size=0.3, \n",
    "                                                    random_state=8)\n",
    "\n",
    "print(X_train.shape)\n",
    "print(X_test.shape)\n",
    "\n",
    "X_train"
   ]
  },
  {
   "cell_type": "markdown",
   "metadata": {},
   "source": [
    "# Fit Transform Data"
   ]
  },
  {
   "cell_type": "code",
   "execution_count": null,
   "metadata": {},
   "outputs": [],
   "source": [
    "# numericals = X.select_dtypes('float').columns\n",
    "\n",
    "# scaler = StandardScaler()\n",
    "\n",
    "# X_train = pd.DataFrame(scaler.fit_transform(X_train), columns=numericals)\n",
    "\n",
    "# X_test = pd.DataFrame(scaler.transform(X_test), columns=numericals)"
   ]
  },
  {
   "cell_type": "code",
   "execution_count": null,
   "metadata": {},
   "outputs": [],
   "source": [
    "model_log = LogisticRegression(random_state=8)\n",
    "model_log.fit(X_train, y_train)"
   ]
  },
  {
   "cell_type": "code",
   "execution_count": null,
   "metadata": {},
   "outputs": [],
   "source": [
    "def evaluate_model(model, X_train, X_test, y_train=y_train, \n",
    "                   y_test=y_test, cmap='Greens', normalize=None,\n",
    "                   classes=None,figsize=(10,4)):\n",
    "    \n",
    "    \"\"\"\n",
    "    model :: classifier user desires to evaluate\n",
    "    X_train :: X training data\n",
    "    X_test :: X test data\n",
    "    y_train :: y_train data\n",
    "    y_test :: y_train data\n",
    "    cmap :: color palette of confusion matrix\n",
    "    normalize :: set to True if normalized confusion matrix is desired\n",
    "    figsize :: desired plot size\n",
    "\n",
    "    \"\"\"\n",
    "    \n",
    "    # Print model accuracy\n",
    "    print(f'Training Accuracy: {model.score(X_train,y_train):.2%}')\n",
    "    print(f'Test Accuracy: {model.score(X_test,y_test):.2%}')\n",
    "    print('')\n",
    "    \n",
    "    # Print classification report\n",
    "    y_test_predict = model.predict(X_test)\n",
    "    print(metrics.classification_report(y_test, y_test_predict,\n",
    "                                        target_names=classes))\n",
    "    \n",
    "    # Plot confusion matrix\n",
    "    fig,ax = plt.subplots(ncols=2,figsize=figsize)\n",
    "    metrics.plot_confusion_matrix(model, X_test,y_test,cmap=cmap, \n",
    "                                  normalize=normalize,display_labels=classes,\n",
    "                                  ax=ax[0])\n",
    "    \n",
    "    #Plot ROC curves\n",
    "    with sns.axes_style(\"darkgrid\"):\n",
    "        curve = metrics.plot_roc_curve(model,X_train,y_train,ax=ax[1])\n",
    "        curve2 = metrics.plot_roc_curve(model,X_test,y_test,ax=ax[1])\n",
    "        curve.ax_.grid()\n",
    "        curve.ax_.plot([0,1],[0,1],ls=':')\n",
    "        fig.tight_layout()\n",
    "        plt.show()"
   ]
  },
  {
   "cell_type": "code",
   "execution_count": null,
   "metadata": {},
   "outputs": [],
   "source": [
    "evaluate_model(model_log, X_train, X_test)"
   ]
  },
  {
   "cell_type": "code",
   "execution_count": null,
   "metadata": {},
   "outputs": [],
   "source": []
  },
  {
   "cell_type": "code",
   "execution_count": null,
   "metadata": {},
   "outputs": [],
   "source": [
    "model_columns = ['PlayerWin',\n",
    "    'P1_PrevTotalXP', 'P2_PrevTotalXP',\n",
    "    'P3_PrevTotalXP', 'P4_PrevTotalXP', 'E1_PrevTotalXP',\n",
    "    'E2_PrevTotalXP', 'E3_PrevTotalXP', 'E4_PrevTotalXP',\n",
    "    ]\n",
    "\n",
    "model_df = df[model_columns].copy()\n",
    "\n",
    "model_df = model_df.dropna()\n",
    "\n",
    "\n",
    "# Sort Players in dataframe by highest value\n",
    "i = 0\n",
    "for row in tqdm(model_df.iterrows()):\n",
    "\n",
    "        model_df.iloc[i, 1:5] = model_df.iloc[i, 1:5].sort_values(ascending=False).values\n",
    "        # print(player_sort)\n",
    "\n",
    "        model_df.iloc[i, 5:9] = model_df.iloc[i, 5:9].sort_values(ascending=False).values\n",
    "        # print(enemy_sort)\n",
    "    \n",
    "        i += 1"
   ]
  },
  {
   "cell_type": "code",
   "execution_count": null,
   "metadata": {
    "ExecuteTime": {
     "end_time": "2021-07-11T21:56:56.830945Z",
     "start_time": "2021-07-11T21:56:05.262886Z"
    }
   },
   "outputs": [],
   "source": []
  },
  {
   "cell_type": "code",
   "execution_count": null,
   "metadata": {
    "ExecuteTime": {
     "end_time": "2021-07-12T00:23:34.528430Z",
     "start_time": "2021-07-12T00:21:07.738728Z"
    }
   },
   "outputs": [],
   "source": [
    "# all_players_df = pd.DataFrame(all_players)\n",
    "\n",
    "# all_players_df.head()\n",
    "\n",
    "# all_players_df.to_csv('all_players.csv')"
   ]
  },
  {
   "cell_type": "code",
   "execution_count": null,
   "metadata": {},
   "outputs": [],
   "source": [
    "# df = df2.head(1).copy()\n",
    "\n",
    "# df2.head(1)"
   ]
  },
  {
   "cell_type": "code",
   "execution_count": null,
   "metadata": {},
   "outputs": [],
   "source": [
    "# P1 = (df['P1'].values[0], 'P1')\n",
    "# P2 = (df['P2'].values[0], 'P2')\n",
    "# roster = [P1, P2]\n",
    "\n",
    "# df[P1[1] + '_TotalTimePlayed']"
   ]
  },
  {
   "cell_type": "code",
   "execution_count": null,
   "metadata": {},
   "outputs": [],
   "source": [
    "# # it's not going to the next row so i'm going to figure out why that is\n",
    "\n",
    "# 'P1' in df\n",
    "\n",
    "# p[1] + '_TotalTimePlayed' not in df\n",
    "\n",
    "\n",
    "\n",
    "# df = df2.head(3).copy()\n",
    "\n",
    "# df[p[1] + '_TotalTimePlayed'] = pd.Series\n",
    "# df[p[1] + '_TotalTimePlayed'].iloc[0] = 1\n",
    "# df[p[1] + '_TotalTimePlayed'].iloc[0]"
   ]
  },
  {
   "cell_type": "markdown",
   "metadata": {},
   "source": [
    "# This code successfully adds player stat for game base variant for entire DataFrame"
   ]
  },
  {
   "cell_type": "code",
   "execution_count": null,
   "metadata": {
    "ExecuteTime": {
     "end_time": "2021-07-11T22:00:34.322582Z",
     "start_time": "2021-07-11T22:00:34.319592Z"
    }
   },
   "outputs": [],
   "source": []
  },
  {
   "cell_type": "code",
   "execution_count": null,
   "metadata": {},
   "outputs": [],
   "source": [
    "# if p[1] + '_K/D' not in df:\n",
    "#     df[p[1] + '_K/D'] = pd.Series()\n",
    "#     df[p[1] + '_K/D'].iloc[row_count] = variant['TotalKills'] / variant['TotalDeaths']\n",
    "# # Create new column for TotalTimePlayed using P1, P2, E1, etc.\n",
    "# else:\n",
    "#     df[p[1] + '_K/D'].iloc[row_count] = variant['TotalKills'] / variant['TotalDeaths']\n",
    "    \n",
    "# if p[1] + '_Accuracy' not in df:\n",
    "#     df[p[1] + '_Accuracy'] = pd.Series()\n",
    "#     df[p[1] + '_Accuracy'].iloc[row_count] = variant['TotalShotsLanded'] / variant['TotalShotsFired']\n",
    "# # Create new column for TotalTimePlayed using P1, P2, E1, etc.\n",
    "# else:\n",
    "#     df[p[1] + '_Accuracy'].iloc[row_count] = variant['TotalShotsLanded'] / variant['TotalShotsFired']\n",
    "    \n",
    "# if p[1] + '_WinRate' not in df:\n",
    "#     df[p[1] + '_WinRate'] = pd.Series()\n",
    "#     df[p[1] + '_WinRate'].iloc[row_count] = variant['TotalGamesWon'] / variant['TotalGamesLost']\n",
    "# # Create new column for TotalTimePlayed using P1, P2, E1, etc.\n",
    "# else:\n",
    "#     df[p[1] + '_WinRate'].iloc[row_count] = variant['TotalGamesWon'] / variant['TotalGamesLost']\n"
   ]
  }
 ],
 "metadata": {
  "kernelspec": {
   "display_name": "learn-env",
   "language": "python",
   "name": "learn-env"
  },
  "language_info": {
   "codemirror_mode": {
    "name": "ipython",
    "version": 3
   },
   "file_extension": ".py",
   "mimetype": "text/x-python",
   "name": "python",
   "nbconvert_exporter": "python",
   "pygments_lexer": "ipython3",
   "version": "3.8.5"
  },
  "toc": {
   "base_numbering": 1,
   "nav_menu": {},
   "number_sections": true,
   "sideBar": true,
   "skip_h1_title": false,
   "title_cell": "Table of Contents",
   "title_sidebar": "Contents",
   "toc_cell": false,
   "toc_position": {
    "height": "calc(100% - 180px)",
    "left": "10px",
    "top": "150px",
    "width": "235.825px"
   },
   "toc_section_display": true,
   "toc_window_display": true
  }
 },
 "nbformat": 4,
 "nbformat_minor": 4
}
