{
 "cells": [
  {
   "cell_type": "markdown",
   "metadata": {},
   "source": [
    "# Imports"
   ]
  },
  {
   "cell_type": "code",
   "execution_count": 58,
   "metadata": {
    "ExecuteTime": {
     "end_time": "2021-07-23T19:51:59.358702Z",
     "start_time": "2021-07-23T19:51:59.350699Z"
    }
   },
   "outputs": [],
   "source": [
    "#Standard Packages\n",
    "import pandas as pd\n",
    "pd.set_option('display.max_columns', None)\n",
    "import matplotlib.pyplot as plt\n",
    "%matplotlib inline\n",
    "import seaborn as sns\n",
    "import numpy as np\n",
    "import pickle\n",
    "import warnings\n",
    "warnings.filterwarnings(action='ignore') \n",
    "\n",
    "# Packages used for API calls and data processing\n",
    "import requests\n",
    "import json\n",
    "def get_keys(path):\n",
    "    with open(path) as f:\n",
    "        return json.load(f)\n",
    "import ast\n",
    "import time\n",
    "import http.client, urllib.request, urllib.parse, urllib.error, base64\n",
    "api_key = 'ceeaacb7cf024c7485e00ef8457e42dc'\n",
    "gamertag = 'Drymander'\n",
    "from tqdm import tqdm\n",
    "# !pip install isodate\n",
    "import isodate\n",
    "import streamlit as st"
   ]
  },
  {
   "cell_type": "code",
   "execution_count": 59,
   "metadata": {
    "ExecuteTime": {
     "end_time": "2021-07-23T19:51:59.371704Z",
     "start_time": "2021-07-23T19:51:59.359702Z"
    }
   },
   "outputs": [],
   "source": [
    "# Preprocessing tools\n",
    "from sklearn.model_selection import train_test_split,cross_val_predict,cross_validate\n",
    "from sklearn.preprocessing import MinMaxScaler,StandardScaler,OneHotEncoder\n",
    "scaler = StandardScaler()\n",
    "from sklearn import metrics\n",
    "\n",
    "# Models & Utilities\n",
    "from sklearn.dummy import DummyClassifier\n",
    "from sklearn.linear_model import LogisticRegression,LogisticRegressionCV\n",
    "from sklearn.neighbors import KNeighborsClassifier\n",
    "from sklearn.ensemble import RandomForestClassifier\n",
    "from sklearn.model_selection import train_test_split\n",
    "from sklearn.linear_model import LogisticRegression\n",
    "from sklearn.metrics import classification_report\n",
    "from sklearn.model_selection import cross_val_score\n",
    "from xgboost import XGBClassifier\n",
    "from sklearn.model_selection import GridSearchCV\n",
    "from sklearn.metrics import plot_confusion_matrix\n",
    "from sklearn.metrics import accuracy_score, confusion_matrix, classification_report, precision_score, recall_score, f1_score\n",
    "from sklearn import svm\n",
    "from sklearn.preprocessing import MinMaxScaler\n",
    "from sklearn.preprocessing import minmax_scale\n",
    "from sklearn.preprocessing import MaxAbsScaler\n",
    "from sklearn.preprocessing import StandardScaler\n",
    "from sklearn.preprocessing import RobustScaler\n",
    "from sklearn.preprocessing import Normalizer\n",
    "from sklearn.preprocessing import QuantileTransformer\n",
    "from sklearn.preprocessing import PowerTransformer\n",
    "from sklearn.preprocessing import OneHotEncoder\n"
   ]
  },
  {
   "cell_type": "markdown",
   "metadata": {},
   "source": [
    "# Streamlit Function Save"
   ]
  },
  {
   "cell_type": "code",
   "execution_count": 60,
   "metadata": {
    "ExecuteTime": {
     "end_time": "2021-07-23T19:51:59.383707Z",
     "start_time": "2021-07-23T19:51:59.373708Z"
    }
   },
   "outputs": [],
   "source": [
    "streamlit_function_save = True"
   ]
  },
  {
   "cell_type": "markdown",
   "metadata": {},
   "source": [
    "# Functions"
   ]
  },
  {
   "cell_type": "markdown",
   "metadata": {},
   "source": [
    "## Gamertag for API"
   ]
  },
  {
   "cell_type": "code",
   "execution_count": 83,
   "metadata": {
    "ExecuteTime": {
     "end_time": "2021-07-23T20:41:11.682949Z",
     "start_time": "2021-07-23T20:41:11.678957Z"
    }
   },
   "outputs": [
    {
     "name": "stdout",
     "output_type": "stream",
     "text": [
      "Overwriting gamertag_for_api.py\n"
     ]
    }
   ],
   "source": [
    "# %%writefile 'gamertag_for_api.py'\n",
    "\n",
    "# Prepare gamertag for API\n",
    "def gamertag_for_api(gamertag):\n",
    "    \n",
    "    # Replace spaces with '+'\n",
    "    gamertag = gamertag.replace(' ','+')\n",
    "    return gamertag\n",
    "\n",
    "# Testing the function\n",
    "# gamertag_for_api('this is a test')"
   ]
  },
  {
   "cell_type": "markdown",
   "metadata": {},
   "source": [
    "## Pull Recent Match"
   ]
  },
  {
   "cell_type": "code",
   "execution_count": 168,
   "metadata": {
    "ExecuteTime": {
     "end_time": "2021-07-26T13:37:54.343230Z",
     "start_time": "2021-07-26T13:37:54.339236Z"
    }
   },
   "outputs": [
    {
     "name": "stdout",
     "output_type": "stream",
     "text": [
      "Overwriting pull_recent_match.py\n"
     ]
    }
   ],
   "source": [
    "# %%writefile 'pull_recent_match.py'\n",
    "api_key = 'ceeaacb7cf024c7485e00ef8457e42dc'\n",
    "# Function to pull most recent match stats into JSON format\n",
    "# Uses two separate API calls, one from player history and another from match details\n",
    "def pull_recent_match(gamertag, how_recent, explore=False):\n",
    "    \n",
    "    # Use gamertag_for_api function to remove any spaces\n",
    "    gamertag = gamertag_for_api(gamertag)\n",
    "    headers = {\n",
    "        # Request headers\n",
    "        'Ocp-Apim-Subscription-Key': 'ceeaacb7cf024c7485e00ef8457e42dc',\n",
    "    }\n",
    "    # Pulls from arena mode, how_recent is how far to go back in the match history\n",
    "    # 'count' refers to the number of matches to pull\n",
    "    params = urllib.parse.urlencode({\n",
    "        # Request parameters\n",
    "        'modes': 'arena',\n",
    "        'start': how_recent,\n",
    "        'count': 1,\n",
    "        'include-times': True,\n",
    "    })\n",
    "    \n",
    "    # Try this, otherwise return error message\n",
    "    try:\n",
    "        \n",
    "        # Connect to API and pull most recent match for specified gamer\n",
    "        conn = http.client.HTTPSConnection('www.haloapi.com')\n",
    "        conn.request(\"GET\", f\"/stats/h5/players/{gamertag}/matches?%s\" % params, \"{body}\", headers)\n",
    "        response = conn.getresponse()\n",
    "        latest_match = json.loads(response.read())\n",
    "        \n",
    "        # Identify match ID and match date\n",
    "        match_id = latest_match['Results'][0]['Id']['MatchId']\n",
    "        match_date = latest_match['Results'][0]['MatchCompletedDate']['ISO8601Date']\n",
    "        \n",
    "        # Rest for 1.01 seconds to not get blocked by API\n",
    "        time.sleep(1.01)\n",
    "        \n",
    "        # Using match_id, pull details from match\n",
    "        conn.request(\"GET\", f\"/stats/h5/arena/matches/{match_id}?%s\" % params, \"{body}\", headers)\n",
    "        response = conn.getresponse()\n",
    "        data = response.read()\n",
    "        \n",
    "        # Option to return as byte string for alternative viewing\n",
    "        if explore == True:\n",
    "            print(data)\n",
    "        else:\n",
    "            # Append match ID and date from player history API call\n",
    "            match_results = json.loads(data)\n",
    "            match_results['MatchId'] = match_id\n",
    "            match_results['Date'] = match_date\n",
    "        conn.close()\n",
    "    \n",
    "    # Print error if issue with calling API\n",
    "    except Exception as e:\n",
    "        print(f\"[Errno {0}] {1}\".format(e.errno, e.strerror))\n",
    "    \n",
    "    # Return match results as JSON\n",
    "    return match_results\n",
    "\n",
    "# Show result\n",
    "match_results = pull_recent_match('Drymander', 0, explore=False)\n",
    "# match_results"
   ]
  },
  {
   "cell_type": "markdown",
   "metadata": {},
   "source": [
    "## Build Base Dataframe"
   ]
  },
  {
   "cell_type": "code",
   "execution_count": 159,
   "metadata": {
    "ExecuteTime": {
     "end_time": "2021-07-26T13:30:33.731532Z",
     "start_time": "2021-07-26T13:30:33.725530Z"
    }
   },
   "outputs": [
    {
     "name": "stdout",
     "output_type": "stream",
     "text": [
      "Overwriting build_base_dataframe.py\n"
     ]
    }
   ],
   "source": [
    "# %%writefile 'build_base_dataframe.py'\n",
    "\n",
    "# Function to build the base dataframe for a single match\n",
    "# Designed to take in the JSON provided by the pull_recent_match function\n",
    "def build_base_dataframe(match_results, gamertag):\n",
    "    \n",
    "    # Build empty base match dataframe\n",
    "    df = pd.DataFrame()\n",
    "    columns = [\n",
    "        'Finished'\n",
    "        'TeamId',\n",
    "        'Gamertag',\n",
    "        'SpartanRank',\n",
    "        'PrevTotalXP',\n",
    "    ]\n",
    "    df = pd.DataFrame(columns = columns)\n",
    "    \n",
    "    # Populate base match dataframe with player stats for each player\n",
    "    i = 0\n",
    "    for player in match_results['PlayerStats']:\n",
    "\n",
    "        player_dic = {}\n",
    "        # Team ID\n",
    "        player_dic['DNF'] = match_results['PlayerStats'][i]['DNF']\n",
    "        player_dic['TeamId'] = match_results['PlayerStats'][i]['TeamId']\n",
    "        # Team Color\n",
    "        player_dic['TeamColor'] = match_results['PlayerStats'][i]['TeamId']\n",
    "        # Gamer Tag\n",
    "        player_dic['Gamertag'] = match_results['PlayerStats'][i]['Player']['Gamertag']\n",
    "        # Spartan Rank\n",
    "        player_dic['SpartanRank'] = match_results['PlayerStats'][i]['XpInfo']['SpartanRank']\n",
    "        # Previous Total XP\n",
    "        player_dic['PrevTotalXP'] = match_results['PlayerStats'][i]['XpInfo']['PrevTotalXP']\n",
    "        df = df.append(player_dic, ignore_index=True)\n",
    "        i += 1\n",
    "    \n",
    "    ########## DATE, GAME VARIANT, MAP ID, MATCH ID, PLAYLIST ID ##########\n",
    "    df['Date'] = match_results['Date']\n",
    "    df['Date'] = pd.to_datetime(df['Date']).dt.tz_convert(None)\n",
    "#     df['Date'] = df['Date'].floor('T')\n",
    "    df['MatchId'] = match_results['MatchId']\n",
    "    df['GameBaseVariantId'] = match_results['GameBaseVariantId']\n",
    "    df['MapVariantId'] = match_results['MapVariantId']\n",
    "    df['PlaylistId'] = match_results['PlaylistId']\n",
    "    \n",
    "    ########## DEFINE PLAYER TEAM ##########\n",
    "    playerteam = df.loc[df['Gamertag'] == gamertag, 'TeamId'].values[0]\n",
    "    if playerteam == 0:\n",
    "        enemyteam = 1   \n",
    "    else:\n",
    "        enemyteam = 0\n",
    "        \n",
    "    df['PlayerTeam'] = df['TeamId'].map({playerteam:'Player', enemyteam:'Enemy'})\n",
    "    \n",
    "    if match_results['TeamStats'][0]['TeamId'] == playerteam:\n",
    "        playerteam_stats = match_results['TeamStats'][0]\n",
    "        enemyteam_stats = match_results['TeamStats'][1]\n",
    "    else: \n",
    "        playerteam_stats = match_results['TeamStats'][1]\n",
    "        enemyteam_stats = match_results['TeamStats'][0]\n",
    "    \n",
    "    ########## DETERMINE WINNER ##########\n",
    "    # Tie\n",
    "    if playerteam_stats['Rank'] == 1 and enemyteam_stats['Rank'] == 1:\n",
    "        df['Winner'] = 'Tie'\n",
    "    # Player wins\n",
    "    elif playerteam_stats['Rank'] == 1 and enemyteam_stats['Rank'] == 2:\n",
    "        df['Winner'] = df['TeamId'].map({playerteam:'Victory', enemyteam:'Defeat'})\n",
    "    # Enemy wins\n",
    "    elif playerteam_stats['Rank'] == 2 and enemyteam_stats['Rank'] == 1:\n",
    "        df['Winner'] = df['TeamId'].map({enemyteam:'Victory', playerteam:'Defeat'})\n",
    "    # Error handling\n",
    "    else:\n",
    "        winner = 'Error determining winner'\n",
    "    \n",
    "    ########## TEAM COLOR ##########\n",
    "    df['TeamColor'] = df['TeamId'].map({0:'Red', 1:'Blue'})\n",
    "    \n",
    "    # Set columns\n",
    "    df = df[['Date', 'MatchId', 'GameBaseVariantId', 'PlaylistId', 'MapVariantId', 'DNF',\n",
    "             'TeamId', 'PlayerTeam', 'Winner', 'TeamColor', \n",
    "             'Gamertag', 'SpartanRank', 'PrevTotalXP',\n",
    "            ]]\n",
    "    # Sort match by winning team\n",
    "    df = df.sort_values(by=['Winner'], ascending=False)\n",
    "    \n",
    "    return df\n",
    "\n",
    "# df = build_base_dataframe(pull_recent_match(8), 'Drymander')\n",
    "\n",
    "# df"
   ]
  },
  {
   "cell_type": "markdown",
   "metadata": {},
   "source": [
    "## Get Player List"
   ]
  },
  {
   "cell_type": "code",
   "execution_count": 162,
   "metadata": {
    "ExecuteTime": {
     "end_time": "2021-07-26T13:30:49.491084Z",
     "start_time": "2021-07-26T13:30:49.487083Z"
    }
   },
   "outputs": [
    {
     "name": "stdout",
     "output_type": "stream",
     "text": [
      "Overwriting get_player_list.py\n"
     ]
    }
   ],
   "source": [
    "%%writefile 'get_player_list.py'\n",
    "\n",
    "# Function to combine all gamertags from the match and prepare them in string\n",
    "# format for the next API call\n",
    "def get_player_list(df):\n",
    "    \n",
    "    # Create list from our df['Gamertag'] column and remove the brackets\n",
    "    player_list = str(list(df['Gamertag']))[1:-1]\n",
    "    \n",
    "    # Format string for API\n",
    "    player_list = player_list.replace(', ',',')\n",
    "    player_list = player_list.replace(\"'\",'')\n",
    "    player_list = player_list.replace(' ','+')\n",
    "    \n",
    "    # Return in one full string\n",
    "    return player_list\n",
    "\n",
    "# get_player_list(df)"
   ]
  },
  {
   "cell_type": "markdown",
   "metadata": {},
   "source": [
    "## Get Player History"
   ]
  },
  {
   "cell_type": "code",
   "execution_count": 165,
   "metadata": {
    "ExecuteTime": {
     "end_time": "2021-07-26T13:33:03.957400Z",
     "start_time": "2021-07-26T13:33:03.952398Z"
    }
   },
   "outputs": [
    {
     "name": "stdout",
     "output_type": "stream",
     "text": [
      "Overwriting get_player_history.py\n"
     ]
    }
   ],
   "source": [
    "# %%writefile 'get_player_history.py'\n",
    "\n",
    "# Function to pull more informative information about each player in the match\n",
    "# This information is not available in the two previous API calls\n",
    "def get_player_history(df, readable=False):\n",
    "    headers = {\n",
    "        # Request headers\n",
    "        'Ocp-Apim-Subscription-Key': 'ceeaacb7cf024c7485e00ef8457e42dc',\n",
    "    }\n",
    "    params = urllib.parse.urlencode({\n",
    "    })\n",
    "    # Use our function in the block above the prepare the gamertags for the API\n",
    "    player_list_api = get_player_list(df)\n",
    "    \n",
    "    # Try calling service records API using our player list\n",
    "    try:\n",
    "        conn = http.client.HTTPSConnection('www.haloapi.com')\n",
    "        conn.request(\"GET\", f\"/stats/h5/servicerecords/arena?players={player_list_api}&%s\" % params, \"{body}\", headers)\n",
    "        response = conn.getresponse()\n",
    "        data = response.read()\n",
    "        player_history = json.loads(data)\n",
    "        conn.close()\n",
    "    \n",
    "    # Return error if issue with API\n",
    "    except Exception as e:\n",
    "        print(f\"[Errno {0}] {1}\".format(e.errno, e.strerror))\n",
    "    \n",
    "    # Option to view in byte string readable format\n",
    "    if readable == False:\n",
    "        return player_history\n",
    "    else:\n",
    "        return data\n",
    "\n",
    "# Show result\n",
    "# player_history = get_player_history(df)\n",
    "# player_history"
   ]
  },
  {
   "cell_type": "markdown",
   "metadata": {},
   "source": [
    "## Build History Dataframe"
   ]
  },
  {
   "cell_type": "code",
   "execution_count": 164,
   "metadata": {
    "ExecuteTime": {
     "end_time": "2021-07-26T13:31:13.704544Z",
     "start_time": "2021-07-26T13:31:13.700543Z"
    }
   },
   "outputs": [
    {
     "name": "stdout",
     "output_type": "stream",
     "text": [
      "Overwriting build_history_dataframe.py\n"
     ]
    }
   ],
   "source": [
    "# %%writefile 'build_history_dataframe.py'\n",
    "\n",
    "# Function to build secondary dataframe with more informative player stats\n",
    "def build_history_dataframe(player_history, variant_id, streamlit=False):\n",
    "    \n",
    "    # Option to view 'streamlit' dataframe, which includes pertinent\n",
    "    # information but excludes all stats for modeling\n",
    "    if streamlit == True:\n",
    "        vdf_columns = ['Gamertag','TotalTimePlayed','K/D','Accuracy','WinRate']\n",
    "        vdf = pd.DataFrame(columns = vdf_columns)\n",
    "    else:\n",
    "        stat_list = ['Gamertag', 'TotalKills', 'TotalHeadshots', 'TotalWeaponDamage', 'TotalShotsFired',\n",
    "                    'TotalShotsLanded', 'TotalMeleeKills', 'TotalMeleeDamage', 'TotalAssassinations',\n",
    "                    'TotalGroundPoundKills', 'TotalGroundPoundDamage', 'TotalShoulderBashKills',\n",
    "                    'TotalShoulderBashDamage', 'TotalGrenadeDamage', 'TotalPowerWeaponKills',\n",
    "                    'TotalPowerWeaponDamage', 'TotalPowerWeaponGrabs', 'TotalPowerWeaponPossessionTime',\n",
    "                    'TotalDeaths', 'TotalAssists', 'TotalGamesCompleted', 'TotalGamesWon',\n",
    "                    'TotalGamesLost', 'TotalGamesTied', 'TotalTimePlayed','TotalGrenadeKills']\n",
    "        vdf = pd.DataFrame(columns = stat_list)\n",
    "    \n",
    "    # Set coutner variable\n",
    "    i = 0\n",
    "    # Loop the goes through each player in the player history JSON\n",
    "    for player in player_history['Results']:\n",
    "        \n",
    "        # Loop that goes through each Arena Game Base Variant and locates\n",
    "        # the details specific to the game vase variant of the match\n",
    "        for variant in player['Result']['ArenaStats']['ArenaGameBaseVariantStats']:\n",
    "            if variant['GameBaseVariantId'] == variant_id:\n",
    "                variant_stats = variant\n",
    "        \n",
    "        # Create empty dictionary where stats will be added\n",
    "        variant_dic = {}\n",
    "        \n",
    "        # Streamlit option - calculates specifc features\n",
    "        if streamlit == True:\n",
    "            variant_dic['Gamertag'] = player_history['Results'][i]['Id']\n",
    "            variant_dic['TotalTimePlayed']= isodate.parse_duration(variant_stats['TotalTimePlayed']).total_seconds() / 3600\n",
    "            variant_dic['K/D'] = variant_stats['TotalKills'] / variant_stats['TotalDeaths']\n",
    "            variant_dic['Accuracy'] = variant_stats['TotalShotsLanded'] / variant_stats['TotalShotsFired']\n",
    "            variant_dic['WinRate'] = variant_stats['TotalGamesWon'] / variant_stats['TotalGamesLost']\n",
    "            vdf = vdf.append(variant_dic, True)\n",
    "            i += 1\n",
    "        \n",
    "        # Modeling option - includes all features but does not yet calculate\n",
    "        else:\n",
    "            variant_dic['Gamertag'] = player_history['Results'][i]['Id']\n",
    "            variant_dic['TotalTimePlayed']= isodate.parse_duration(variant_stats['TotalTimePlayed']).total_seconds() / 3600\n",
    "            variant_dic['K/D'] = variant_stats['TotalKills'] / variant_stats['TotalDeaths']\n",
    "            variant_dic['Accuracy'] = variant_stats['TotalShotsLanded'] / variant_stats['TotalShotsFired']\n",
    "            variant_dic['WinRate'] = variant_stats['TotalGamesWon'] / variant_stats['TotalGamesLost']\n",
    "            \n",
    "            # Loop that appends all stats to variant dic\n",
    "            for stat in stat_list[1:]:    \n",
    "                variant_dic[stat] = variant_stats[stat]\n",
    "            \n",
    "            # Parsing ISO duration times\n",
    "            variant_dic['TotalTimePlayed']= isodate.parse_duration(variant_stats['TotalTimePlayed']).total_seconds() / 3600\n",
    "            variant_dic['TotalPowerWeaponPossessionTime']= isodate.parse_duration(variant_stats['TotalPowerWeaponPossessionTime']).total_seconds() / 3600\n",
    "#             vdf = vdf.append(variant_dic, True)\n",
    "#             i += 1\n",
    "            \n",
    "            # Per game stats\n",
    "            per_game_stat_list = ['TotalKills', 'TotalHeadshots', 'TotalWeaponDamage', \n",
    "                                  'TotalShotsFired', 'TotalShotsLanded', 'TotalMeleeKills', \n",
    "                                  'TotalMeleeDamage', 'TotalAssassinations', 'TotalGroundPoundKills', \n",
    "                                  'TotalGroundPoundDamage', 'TotalShoulderBashKills', \n",
    "                                  'TotalShoulderBashDamage', 'TotalGrenadeDamage', 'TotalPowerWeaponKills', \n",
    "                                  'TotalPowerWeaponDamage', 'TotalPowerWeaponGrabs', \n",
    "                                  'TotalPowerWeaponPossessionTime', 'TotalDeaths', 'TotalAssists', \n",
    "                                  'TotalGrenadeKills']\n",
    "            \n",
    "            for stat in per_game_stat_list:\n",
    "                per_game_stat_string = stat.replace('Total', '')\n",
    "                per_game_stat_string = f'{per_game_stat_string}PerGame'\n",
    "                variant_dic[per_game_stat_string] = variant_dic[stat] / variant_dic['TotalGamesCompleted']\n",
    "            \n",
    "            \n",
    "            vdf = vdf.append(variant_dic, True)\n",
    "            i += 1\n",
    "            \n",
    "    # Return the streamlit or modeling dataframe\n",
    "    return vdf\n",
    "    \n",
    "# build_history_dataframe(player_history, '1571fdac-e0b4-4ebc-a73a-6e13001b71d3', streamlit=False)\n",
    "# df = recent_match_stats('Drymander', back_count=0)\n",
    "# df"
   ]
  },
  {
   "cell_type": "markdown",
   "metadata": {},
   "source": [
    "## Decode Column"
   ]
  },
  {
   "cell_type": "code",
   "execution_count": 67,
   "metadata": {
    "ExecuteTime": {
     "end_time": "2021-07-23T19:51:59.504735Z",
     "start_time": "2021-07-23T19:51:59.495733Z"
    }
   },
   "outputs": [
    {
     "name": "stdout",
     "output_type": "stream",
     "text": [
      "Writing decode_column.py\n"
     ]
    }
   ],
   "source": [
    "# %%writefile 'decode_column.py'\n",
    "\n",
    "# This function will convert codes provided by the API into a readable format\n",
    "def decode_column(df, column, api_dict):\n",
    "    \n",
    "    # Empty list of decoded values\n",
    "    decoded_list = []\n",
    "    \n",
    "    # Loop through each row\n",
    "    for row in df[column]:\n",
    "        i = 0\n",
    "        \n",
    "        # Loop through API dictionary\n",
    "        for item in api_dict:\n",
    "            \n",
    "            # If code found, append it to list\n",
    "            if item['id'] == row:\n",
    "                name = item['name']\n",
    "                decoded_list.append(name)\n",
    "            \n",
    "            # Otherwise keep searching until found\n",
    "            else:\n",
    "                i += 1\n",
    "    \n",
    "    # Return decoded list\n",
    "    return decoded_list"
   ]
  },
  {
   "cell_type": "markdown",
   "metadata": {},
   "source": [
    "## Decode Maps"
   ]
  },
  {
   "cell_type": "code",
   "execution_count": 68,
   "metadata": {
    "ExecuteTime": {
     "end_time": "2021-07-23T19:51:59.518738Z",
     "start_time": "2021-07-23T19:51:59.505735Z"
    }
   },
   "outputs": [
    {
     "name": "stdout",
     "output_type": "stream",
     "text": [
      "Writing decode_maps.py\n"
     ]
    }
   ],
   "source": [
    "# %%writefile 'decode_maps.py'\n",
    "\n",
    "# This function will convert maps to readable format\n",
    "def decode_maps(df, column, api_dict):\n",
    "    decoded_list = []\n",
    "    \n",
    "    # Loop through each row\n",
    "    for row in df[column]:\n",
    "        i = 0\n",
    "        \n",
    "        # Creating map_count variable\n",
    "        map_count = len(api_dict)\n",
    "        \n",
    "        # For each item in API dictionary\n",
    "        for item in api_dict:\n",
    "            \n",
    "            # If map cannot be found, name 'Custom Map'\n",
    "            if (i+1) == map_count:\n",
    "                name = 'Custom Map'\n",
    "                decoded_list.append(name)\n",
    "            \n",
    "            # If found, assign value to code\n",
    "            elif item['id'] == row:\n",
    "                name = item['name']\n",
    "                decoded_list.append(name)\n",
    "            \n",
    "            # Otherwise keep looping\n",
    "            else:\n",
    "                i += 1\n",
    "    \n",
    "    # Return decoded list\n",
    "    return decoded_list"
   ]
  },
  {
   "cell_type": "markdown",
   "metadata": {},
   "source": [
    "## Load Pickle Files\n",
    "\n",
    "GameBaseVariantId, PlaylistId, and MapVariantId"
   ]
  },
  {
   "cell_type": "code",
   "execution_count": 69,
   "metadata": {
    "ExecuteTime": {
     "end_time": "2021-07-23T19:51:59.531741Z",
     "start_time": "2021-07-23T19:51:59.519738Z"
    }
   },
   "outputs": [],
   "source": [
    "# no write file here\n",
    "\n",
    "# Loading GameBaseVariantId metadata dictionary pulled from API\n",
    "with open('GameBaseVariantId.pkl', 'rb') as GameBaseVariantId_pickle:\n",
    "    GameBaseVariantId_dic = pickle.load(GameBaseVariantId_pickle)\n",
    "\n",
    "# Loading PlaylistId metadata dictionary pulled from API\n",
    "with open('PlaylistId_dic.pkl', 'rb') as PlaylistId_dic_pickle:\n",
    "    PlaylistId_dic = pickle.load(PlaylistId_dic_pickle)\n",
    "\n",
    "# Loading map_list metadata dictionary pulled from API\n",
    "with open('map_list.pkl', 'rb') as map_list_pickle:\n",
    "    map_list = pickle.load(map_list_pickle)\n",
    "\n",
    "# # Decode columsn with using our decode functions\n",
    "# df['GameBaseVariantId'] = decode_column(df, 'GameBaseVariantId', GameBaseVariantId_dic)    \n",
    "# df['PlaylistId'] = decode_column(df, 'PlaylistId', PlaylistId_dic)\n",
    "# df['MapVariantId'] = decode_maps(df, 'MapVariantId', map_list)\n",
    "\n",
    "# df[['GameBaseVariantId', 'PlaylistId', 'MapVariantId']].head(3)"
   ]
  },
  {
   "cell_type": "markdown",
   "metadata": {},
   "source": [
    "## Master Function - Recent Match Stats"
   ]
  },
  {
   "cell_type": "code",
   "execution_count": 170,
   "metadata": {
    "ExecuteTime": {
     "end_time": "2021-07-26T13:38:28.973631Z",
     "start_time": "2021-07-26T13:38:28.967630Z"
    }
   },
   "outputs": [],
   "source": [
    "# %%writefile 'recent_match_stats.py'\n",
    "\n",
    "# Function that combines all functions above to go through each step to\n",
    "# Get the match dataframe\n",
    "def recent_match_stats(gamertag, back_count=0):\n",
    "    \n",
    "    # Pull the match result as JSON from API\n",
    "    match_results = pull_recent_match(gamertag, back_count, explore=False)\n",
    "    \n",
    "    # Build the base dataframe\n",
    "    base_df = build_base_dataframe(match_results, gamertag=gamertag)\n",
    "    \n",
    "    # Convert dates\n",
    "    base_df['Date'] = base_df['Date'].dt.strftime('%B, %d %Y')\n",
    "    \n",
    "    # Decode GameBaseVariantId, PlaylistId, and MapVariantId\n",
    "    base_df['GameBaseVariantId'] = decode_column(base_df, 'GameBaseVariantId', GameBaseVariantId_dic)    \n",
    "    base_df['PlaylistId'] = decode_column(base_df, 'PlaylistId', PlaylistId_dic)\n",
    "    base_df['MapVariantId'] = decode_maps(base_df, 'MapVariantId', map_list)\n",
    "    \n",
    "    # Sleep for 1.01 seconds to avoid issues with API\n",
    "    time.sleep(1.01)\n",
    "    \n",
    "    # Create playerlist for player history API call\n",
    "    player_list = get_player_list(base_df)\n",
    "    \n",
    "    # Call API to get player history JSON\n",
    "    player_history = get_player_history(base_df)\n",
    "    \n",
    "    # Build base player stats dataframe based on player history API call\n",
    "    history_df = build_history_dataframe(player_history, match_results['GameBaseVariantId'])\n",
    "    \n",
    "    # Merge the base dataframe and stats dataframe\n",
    "    full_stats_df = pd.merge(base_df, history_df, how='inner', on = 'Gamertag')\n",
    "    \n",
    "    return full_stats_df\n",
    "\n",
    "# Show full dataframe for match\n",
    "# df = recent_match_stats('Drymander', back_count=0)\n",
    "# df.to_csv('data/match.csv')"
   ]
  },
  {
   "cell_type": "markdown",
   "metadata": {},
   "source": [
    "# Graphs"
   ]
  },
  {
   "cell_type": "code",
   "execution_count": 71,
   "metadata": {
    "ExecuteTime": {
     "end_time": "2021-07-23T19:51:59.599756Z",
     "start_time": "2021-07-23T19:51:59.543744Z"
    }
   },
   "outputs": [
    {
     "data": {
      "application/vnd.plotly.v1+json": {
       "config": {
        "plotlyServerURL": "https://plot.ly"
       },
       "data": [
        {
         "alignmentgroup": "True",
         "hovertemplate": "TotalTimePlayed=%{x}<br>Gamertag=%{y}<extra></extra>",
         "legendgroup": "",
         "marker": {
          "color": "#636efa"
         },
         "name": "",
         "offsetgroup": "",
         "orientation": "h",
         "showlegend": false,
         "textposition": "auto",
         "type": "bar",
         "x": [
          177.31519168527777,
          195.56451134250003,
          193.55381944916667,
          164.62554222166668,
          297.93141710305554,
          560.0846053136111,
          394.5648751308333,
          2011.7611806161112
         ],
         "xaxis": "x",
         "y": [
          "Dimension vv",
          "Nefarious",
          "SourStarfish28",
          "Nottheeddu",
          "Drymander",
          "cryptolockerSD",
          "Bophodes",
          "SixKnifeWalker"
         ],
         "yaxis": "y"
        }
       ],
       "layout": {
        "barmode": "relative",
        "legend": {
         "tracegroupgap": 0
        },
        "margin": {
         "t": 60
        },
        "template": {
         "data": {
          "bar": [
           {
            "error_x": {
             "color": "#2a3f5f"
            },
            "error_y": {
             "color": "#2a3f5f"
            },
            "marker": {
             "line": {
              "color": "#E5ECF6",
              "width": 0.5
             }
            },
            "type": "bar"
           }
          ],
          "barpolar": [
           {
            "marker": {
             "line": {
              "color": "#E5ECF6",
              "width": 0.5
             }
            },
            "type": "barpolar"
           }
          ],
          "carpet": [
           {
            "aaxis": {
             "endlinecolor": "#2a3f5f",
             "gridcolor": "white",
             "linecolor": "white",
             "minorgridcolor": "white",
             "startlinecolor": "#2a3f5f"
            },
            "baxis": {
             "endlinecolor": "#2a3f5f",
             "gridcolor": "white",
             "linecolor": "white",
             "minorgridcolor": "white",
             "startlinecolor": "#2a3f5f"
            },
            "type": "carpet"
           }
          ],
          "choropleth": [
           {
            "colorbar": {
             "outlinewidth": 0,
             "ticks": ""
            },
            "type": "choropleth"
           }
          ],
          "contour": [
           {
            "colorbar": {
             "outlinewidth": 0,
             "ticks": ""
            },
            "colorscale": [
             [
              0,
              "#0d0887"
             ],
             [
              0.1111111111111111,
              "#46039f"
             ],
             [
              0.2222222222222222,
              "#7201a8"
             ],
             [
              0.3333333333333333,
              "#9c179e"
             ],
             [
              0.4444444444444444,
              "#bd3786"
             ],
             [
              0.5555555555555556,
              "#d8576b"
             ],
             [
              0.6666666666666666,
              "#ed7953"
             ],
             [
              0.7777777777777778,
              "#fb9f3a"
             ],
             [
              0.8888888888888888,
              "#fdca26"
             ],
             [
              1,
              "#f0f921"
             ]
            ],
            "type": "contour"
           }
          ],
          "contourcarpet": [
           {
            "colorbar": {
             "outlinewidth": 0,
             "ticks": ""
            },
            "type": "contourcarpet"
           }
          ],
          "heatmap": [
           {
            "colorbar": {
             "outlinewidth": 0,
             "ticks": ""
            },
            "colorscale": [
             [
              0,
              "#0d0887"
             ],
             [
              0.1111111111111111,
              "#46039f"
             ],
             [
              0.2222222222222222,
              "#7201a8"
             ],
             [
              0.3333333333333333,
              "#9c179e"
             ],
             [
              0.4444444444444444,
              "#bd3786"
             ],
             [
              0.5555555555555556,
              "#d8576b"
             ],
             [
              0.6666666666666666,
              "#ed7953"
             ],
             [
              0.7777777777777778,
              "#fb9f3a"
             ],
             [
              0.8888888888888888,
              "#fdca26"
             ],
             [
              1,
              "#f0f921"
             ]
            ],
            "type": "heatmap"
           }
          ],
          "heatmapgl": [
           {
            "colorbar": {
             "outlinewidth": 0,
             "ticks": ""
            },
            "colorscale": [
             [
              0,
              "#0d0887"
             ],
             [
              0.1111111111111111,
              "#46039f"
             ],
             [
              0.2222222222222222,
              "#7201a8"
             ],
             [
              0.3333333333333333,
              "#9c179e"
             ],
             [
              0.4444444444444444,
              "#bd3786"
             ],
             [
              0.5555555555555556,
              "#d8576b"
             ],
             [
              0.6666666666666666,
              "#ed7953"
             ],
             [
              0.7777777777777778,
              "#fb9f3a"
             ],
             [
              0.8888888888888888,
              "#fdca26"
             ],
             [
              1,
              "#f0f921"
             ]
            ],
            "type": "heatmapgl"
           }
          ],
          "histogram": [
           {
            "marker": {
             "colorbar": {
              "outlinewidth": 0,
              "ticks": ""
             }
            },
            "type": "histogram"
           }
          ],
          "histogram2d": [
           {
            "colorbar": {
             "outlinewidth": 0,
             "ticks": ""
            },
            "colorscale": [
             [
              0,
              "#0d0887"
             ],
             [
              0.1111111111111111,
              "#46039f"
             ],
             [
              0.2222222222222222,
              "#7201a8"
             ],
             [
              0.3333333333333333,
              "#9c179e"
             ],
             [
              0.4444444444444444,
              "#bd3786"
             ],
             [
              0.5555555555555556,
              "#d8576b"
             ],
             [
              0.6666666666666666,
              "#ed7953"
             ],
             [
              0.7777777777777778,
              "#fb9f3a"
             ],
             [
              0.8888888888888888,
              "#fdca26"
             ],
             [
              1,
              "#f0f921"
             ]
            ],
            "type": "histogram2d"
           }
          ],
          "histogram2dcontour": [
           {
            "colorbar": {
             "outlinewidth": 0,
             "ticks": ""
            },
            "colorscale": [
             [
              0,
              "#0d0887"
             ],
             [
              0.1111111111111111,
              "#46039f"
             ],
             [
              0.2222222222222222,
              "#7201a8"
             ],
             [
              0.3333333333333333,
              "#9c179e"
             ],
             [
              0.4444444444444444,
              "#bd3786"
             ],
             [
              0.5555555555555556,
              "#d8576b"
             ],
             [
              0.6666666666666666,
              "#ed7953"
             ],
             [
              0.7777777777777778,
              "#fb9f3a"
             ],
             [
              0.8888888888888888,
              "#fdca26"
             ],
             [
              1,
              "#f0f921"
             ]
            ],
            "type": "histogram2dcontour"
           }
          ],
          "mesh3d": [
           {
            "colorbar": {
             "outlinewidth": 0,
             "ticks": ""
            },
            "type": "mesh3d"
           }
          ],
          "parcoords": [
           {
            "line": {
             "colorbar": {
              "outlinewidth": 0,
              "ticks": ""
             }
            },
            "type": "parcoords"
           }
          ],
          "pie": [
           {
            "automargin": true,
            "type": "pie"
           }
          ],
          "scatter": [
           {
            "marker": {
             "colorbar": {
              "outlinewidth": 0,
              "ticks": ""
             }
            },
            "type": "scatter"
           }
          ],
          "scatter3d": [
           {
            "line": {
             "colorbar": {
              "outlinewidth": 0,
              "ticks": ""
             }
            },
            "marker": {
             "colorbar": {
              "outlinewidth": 0,
              "ticks": ""
             }
            },
            "type": "scatter3d"
           }
          ],
          "scattercarpet": [
           {
            "marker": {
             "colorbar": {
              "outlinewidth": 0,
              "ticks": ""
             }
            },
            "type": "scattercarpet"
           }
          ],
          "scattergeo": [
           {
            "marker": {
             "colorbar": {
              "outlinewidth": 0,
              "ticks": ""
             }
            },
            "type": "scattergeo"
           }
          ],
          "scattergl": [
           {
            "marker": {
             "colorbar": {
              "outlinewidth": 0,
              "ticks": ""
             }
            },
            "type": "scattergl"
           }
          ],
          "scattermapbox": [
           {
            "marker": {
             "colorbar": {
              "outlinewidth": 0,
              "ticks": ""
             }
            },
            "type": "scattermapbox"
           }
          ],
          "scatterpolar": [
           {
            "marker": {
             "colorbar": {
              "outlinewidth": 0,
              "ticks": ""
             }
            },
            "type": "scatterpolar"
           }
          ],
          "scatterpolargl": [
           {
            "marker": {
             "colorbar": {
              "outlinewidth": 0,
              "ticks": ""
             }
            },
            "type": "scatterpolargl"
           }
          ],
          "scatterternary": [
           {
            "marker": {
             "colorbar": {
              "outlinewidth": 0,
              "ticks": ""
             }
            },
            "type": "scatterternary"
           }
          ],
          "surface": [
           {
            "colorbar": {
             "outlinewidth": 0,
             "ticks": ""
            },
            "colorscale": [
             [
              0,
              "#0d0887"
             ],
             [
              0.1111111111111111,
              "#46039f"
             ],
             [
              0.2222222222222222,
              "#7201a8"
             ],
             [
              0.3333333333333333,
              "#9c179e"
             ],
             [
              0.4444444444444444,
              "#bd3786"
             ],
             [
              0.5555555555555556,
              "#d8576b"
             ],
             [
              0.6666666666666666,
              "#ed7953"
             ],
             [
              0.7777777777777778,
              "#fb9f3a"
             ],
             [
              0.8888888888888888,
              "#fdca26"
             ],
             [
              1,
              "#f0f921"
             ]
            ],
            "type": "surface"
           }
          ],
          "table": [
           {
            "cells": {
             "fill": {
              "color": "#EBF0F8"
             },
             "line": {
              "color": "white"
             }
            },
            "header": {
             "fill": {
              "color": "#C8D4E3"
             },
             "line": {
              "color": "white"
             }
            },
            "type": "table"
           }
          ]
         },
         "layout": {
          "annotationdefaults": {
           "arrowcolor": "#2a3f5f",
           "arrowhead": 0,
           "arrowwidth": 1
          },
          "coloraxis": {
           "colorbar": {
            "outlinewidth": 0,
            "ticks": ""
           }
          },
          "colorscale": {
           "diverging": [
            [
             0,
             "#8e0152"
            ],
            [
             0.1,
             "#c51b7d"
            ],
            [
             0.2,
             "#de77ae"
            ],
            [
             0.3,
             "#f1b6da"
            ],
            [
             0.4,
             "#fde0ef"
            ],
            [
             0.5,
             "#f7f7f7"
            ],
            [
             0.6,
             "#e6f5d0"
            ],
            [
             0.7,
             "#b8e186"
            ],
            [
             0.8,
             "#7fbc41"
            ],
            [
             0.9,
             "#4d9221"
            ],
            [
             1,
             "#276419"
            ]
           ],
           "sequential": [
            [
             0,
             "#0d0887"
            ],
            [
             0.1111111111111111,
             "#46039f"
            ],
            [
             0.2222222222222222,
             "#7201a8"
            ],
            [
             0.3333333333333333,
             "#9c179e"
            ],
            [
             0.4444444444444444,
             "#bd3786"
            ],
            [
             0.5555555555555556,
             "#d8576b"
            ],
            [
             0.6666666666666666,
             "#ed7953"
            ],
            [
             0.7777777777777778,
             "#fb9f3a"
            ],
            [
             0.8888888888888888,
             "#fdca26"
            ],
            [
             1,
             "#f0f921"
            ]
           ],
           "sequentialminus": [
            [
             0,
             "#0d0887"
            ],
            [
             0.1111111111111111,
             "#46039f"
            ],
            [
             0.2222222222222222,
             "#7201a8"
            ],
            [
             0.3333333333333333,
             "#9c179e"
            ],
            [
             0.4444444444444444,
             "#bd3786"
            ],
            [
             0.5555555555555556,
             "#d8576b"
            ],
            [
             0.6666666666666666,
             "#ed7953"
            ],
            [
             0.7777777777777778,
             "#fb9f3a"
            ],
            [
             0.8888888888888888,
             "#fdca26"
            ],
            [
             1,
             "#f0f921"
            ]
           ]
          },
          "colorway": [
           "#636efa",
           "#EF553B",
           "#00cc96",
           "#ab63fa",
           "#FFA15A",
           "#19d3f3",
           "#FF6692",
           "#B6E880",
           "#FF97FF",
           "#FECB52"
          ],
          "font": {
           "color": "#2a3f5f"
          },
          "geo": {
           "bgcolor": "white",
           "lakecolor": "white",
           "landcolor": "#E5ECF6",
           "showlakes": true,
           "showland": true,
           "subunitcolor": "white"
          },
          "hoverlabel": {
           "align": "left"
          },
          "hovermode": "closest",
          "mapbox": {
           "style": "light"
          },
          "paper_bgcolor": "white",
          "plot_bgcolor": "#E5ECF6",
          "polar": {
           "angularaxis": {
            "gridcolor": "white",
            "linecolor": "white",
            "ticks": ""
           },
           "bgcolor": "#E5ECF6",
           "radialaxis": {
            "gridcolor": "white",
            "linecolor": "white",
            "ticks": ""
           }
          },
          "scene": {
           "xaxis": {
            "backgroundcolor": "#E5ECF6",
            "gridcolor": "white",
            "gridwidth": 2,
            "linecolor": "white",
            "showbackground": true,
            "ticks": "",
            "zerolinecolor": "white"
           },
           "yaxis": {
            "backgroundcolor": "#E5ECF6",
            "gridcolor": "white",
            "gridwidth": 2,
            "linecolor": "white",
            "showbackground": true,
            "ticks": "",
            "zerolinecolor": "white"
           },
           "zaxis": {
            "backgroundcolor": "#E5ECF6",
            "gridcolor": "white",
            "gridwidth": 2,
            "linecolor": "white",
            "showbackground": true,
            "ticks": "",
            "zerolinecolor": "white"
           }
          },
          "shapedefaults": {
           "line": {
            "color": "#2a3f5f"
           }
          },
          "ternary": {
           "aaxis": {
            "gridcolor": "white",
            "linecolor": "white",
            "ticks": ""
           },
           "baxis": {
            "gridcolor": "white",
            "linecolor": "white",
            "ticks": ""
           },
           "bgcolor": "#E5ECF6",
           "caxis": {
            "gridcolor": "white",
            "linecolor": "white",
            "ticks": ""
           }
          },
          "title": {
           "x": 0.05
          },
          "xaxis": {
           "automargin": true,
           "gridcolor": "white",
           "linecolor": "white",
           "ticks": "",
           "title": {
            "standoff": 15
           },
           "zerolinecolor": "white",
           "zerolinewidth": 2
          },
          "yaxis": {
           "automargin": true,
           "gridcolor": "white",
           "linecolor": "white",
           "ticks": "",
           "title": {
            "standoff": 15
           },
           "zerolinecolor": "white",
           "zerolinewidth": 2
          }
         }
        },
        "xaxis": {
         "anchor": "y",
         "domain": [
          0,
          1
         ],
         "title": {
          "text": "TotalTimePlayed"
         }
        },
        "yaxis": {
         "anchor": "x",
         "domain": [
          0,
          1
         ],
         "title": {
          "text": "Gamertag"
         }
        }
       }
      },
      "text/html": [
       "<div>                            <div id=\"135bc086-6afa-4566-b28d-ec49d9c1d2be\" class=\"plotly-graph-div\" style=\"height:525px; width:100%;\"></div>            <script type=\"text/javascript\">                require([\"plotly\"], function(Plotly) {                    window.PLOTLYENV=window.PLOTLYENV || {};                                    if (document.getElementById(\"135bc086-6afa-4566-b28d-ec49d9c1d2be\")) {                    Plotly.newPlot(                        \"135bc086-6afa-4566-b28d-ec49d9c1d2be\",                        [{\"alignmentgroup\": \"True\", \"hovertemplate\": \"TotalTimePlayed=%{x}<br>Gamertag=%{y}<extra></extra>\", \"legendgroup\": \"\", \"marker\": {\"color\": \"#636efa\"}, \"name\": \"\", \"offsetgroup\": \"\", \"orientation\": \"h\", \"showlegend\": false, \"textposition\": \"auto\", \"type\": \"bar\", \"x\": [177.31519168527777, 195.56451134250003, 193.55381944916667, 164.62554222166668, 297.93141710305554, 560.0846053136111, 394.5648751308333, 2011.7611806161112], \"xaxis\": \"x\", \"y\": [\"Dimension vv\", \"Nefarious\", \"SourStarfish28\", \"Nottheeddu\", \"Drymander\", \"cryptolockerSD\", \"Bophodes\", \"SixKnifeWalker\"], \"yaxis\": \"y\"}],                        {\"barmode\": \"relative\", \"legend\": {\"tracegroupgap\": 0}, \"margin\": {\"t\": 60}, \"template\": {\"data\": {\"bar\": [{\"error_x\": {\"color\": \"#2a3f5f\"}, \"error_y\": {\"color\": \"#2a3f5f\"}, \"marker\": {\"line\": {\"color\": \"#E5ECF6\", \"width\": 0.5}}, \"type\": \"bar\"}], \"barpolar\": [{\"marker\": {\"line\": {\"color\": \"#E5ECF6\", \"width\": 0.5}}, \"type\": \"barpolar\"}], \"carpet\": [{\"aaxis\": {\"endlinecolor\": \"#2a3f5f\", \"gridcolor\": \"white\", \"linecolor\": \"white\", \"minorgridcolor\": \"white\", \"startlinecolor\": \"#2a3f5f\"}, \"baxis\": {\"endlinecolor\": \"#2a3f5f\", \"gridcolor\": \"white\", \"linecolor\": \"white\", \"minorgridcolor\": \"white\", \"startlinecolor\": \"#2a3f5f\"}, \"type\": \"carpet\"}], \"choropleth\": [{\"colorbar\": {\"outlinewidth\": 0, \"ticks\": \"\"}, \"type\": \"choropleth\"}], \"contour\": [{\"colorbar\": {\"outlinewidth\": 0, \"ticks\": \"\"}, \"colorscale\": [[0.0, \"#0d0887\"], [0.1111111111111111, \"#46039f\"], [0.2222222222222222, \"#7201a8\"], [0.3333333333333333, \"#9c179e\"], [0.4444444444444444, \"#bd3786\"], [0.5555555555555556, \"#d8576b\"], [0.6666666666666666, \"#ed7953\"], [0.7777777777777778, \"#fb9f3a\"], [0.8888888888888888, \"#fdca26\"], [1.0, \"#f0f921\"]], \"type\": \"contour\"}], \"contourcarpet\": [{\"colorbar\": {\"outlinewidth\": 0, \"ticks\": \"\"}, \"type\": \"contourcarpet\"}], \"heatmap\": [{\"colorbar\": {\"outlinewidth\": 0, \"ticks\": \"\"}, \"colorscale\": [[0.0, \"#0d0887\"], [0.1111111111111111, \"#46039f\"], [0.2222222222222222, \"#7201a8\"], [0.3333333333333333, \"#9c179e\"], [0.4444444444444444, \"#bd3786\"], [0.5555555555555556, \"#d8576b\"], [0.6666666666666666, \"#ed7953\"], [0.7777777777777778, \"#fb9f3a\"], [0.8888888888888888, \"#fdca26\"], [1.0, \"#f0f921\"]], \"type\": \"heatmap\"}], \"heatmapgl\": [{\"colorbar\": {\"outlinewidth\": 0, \"ticks\": \"\"}, \"colorscale\": [[0.0, \"#0d0887\"], [0.1111111111111111, \"#46039f\"], [0.2222222222222222, \"#7201a8\"], [0.3333333333333333, \"#9c179e\"], [0.4444444444444444, \"#bd3786\"], [0.5555555555555556, \"#d8576b\"], [0.6666666666666666, \"#ed7953\"], [0.7777777777777778, \"#fb9f3a\"], [0.8888888888888888, \"#fdca26\"], [1.0, \"#f0f921\"]], \"type\": \"heatmapgl\"}], \"histogram\": [{\"marker\": {\"colorbar\": {\"outlinewidth\": 0, \"ticks\": \"\"}}, \"type\": \"histogram\"}], \"histogram2d\": [{\"colorbar\": {\"outlinewidth\": 0, \"ticks\": \"\"}, \"colorscale\": [[0.0, \"#0d0887\"], [0.1111111111111111, \"#46039f\"], [0.2222222222222222, \"#7201a8\"], [0.3333333333333333, \"#9c179e\"], [0.4444444444444444, \"#bd3786\"], [0.5555555555555556, \"#d8576b\"], [0.6666666666666666, \"#ed7953\"], [0.7777777777777778, \"#fb9f3a\"], [0.8888888888888888, \"#fdca26\"], [1.0, \"#f0f921\"]], \"type\": \"histogram2d\"}], \"histogram2dcontour\": [{\"colorbar\": {\"outlinewidth\": 0, \"ticks\": \"\"}, \"colorscale\": [[0.0, \"#0d0887\"], [0.1111111111111111, \"#46039f\"], [0.2222222222222222, \"#7201a8\"], [0.3333333333333333, \"#9c179e\"], [0.4444444444444444, \"#bd3786\"], [0.5555555555555556, \"#d8576b\"], [0.6666666666666666, \"#ed7953\"], [0.7777777777777778, \"#fb9f3a\"], [0.8888888888888888, \"#fdca26\"], [1.0, \"#f0f921\"]], \"type\": \"histogram2dcontour\"}], \"mesh3d\": [{\"colorbar\": {\"outlinewidth\": 0, \"ticks\": \"\"}, \"type\": \"mesh3d\"}], \"parcoords\": [{\"line\": {\"colorbar\": {\"outlinewidth\": 0, \"ticks\": \"\"}}, \"type\": \"parcoords\"}], \"pie\": [{\"automargin\": true, \"type\": \"pie\"}], \"scatter\": [{\"marker\": {\"colorbar\": {\"outlinewidth\": 0, \"ticks\": \"\"}}, \"type\": \"scatter\"}], \"scatter3d\": [{\"line\": {\"colorbar\": {\"outlinewidth\": 0, \"ticks\": \"\"}}, \"marker\": {\"colorbar\": {\"outlinewidth\": 0, \"ticks\": \"\"}}, \"type\": \"scatter3d\"}], \"scattercarpet\": [{\"marker\": {\"colorbar\": {\"outlinewidth\": 0, \"ticks\": \"\"}}, \"type\": \"scattercarpet\"}], \"scattergeo\": [{\"marker\": {\"colorbar\": {\"outlinewidth\": 0, \"ticks\": \"\"}}, \"type\": \"scattergeo\"}], \"scattergl\": [{\"marker\": {\"colorbar\": {\"outlinewidth\": 0, \"ticks\": \"\"}}, \"type\": \"scattergl\"}], \"scattermapbox\": [{\"marker\": {\"colorbar\": {\"outlinewidth\": 0, \"ticks\": \"\"}}, \"type\": \"scattermapbox\"}], \"scatterpolar\": [{\"marker\": {\"colorbar\": {\"outlinewidth\": 0, \"ticks\": \"\"}}, \"type\": \"scatterpolar\"}], \"scatterpolargl\": [{\"marker\": {\"colorbar\": {\"outlinewidth\": 0, \"ticks\": \"\"}}, \"type\": \"scatterpolargl\"}], \"scatterternary\": [{\"marker\": {\"colorbar\": {\"outlinewidth\": 0, \"ticks\": \"\"}}, \"type\": \"scatterternary\"}], \"surface\": [{\"colorbar\": {\"outlinewidth\": 0, \"ticks\": \"\"}, \"colorscale\": [[0.0, \"#0d0887\"], [0.1111111111111111, \"#46039f\"], [0.2222222222222222, \"#7201a8\"], [0.3333333333333333, \"#9c179e\"], [0.4444444444444444, \"#bd3786\"], [0.5555555555555556, \"#d8576b\"], [0.6666666666666666, \"#ed7953\"], [0.7777777777777778, \"#fb9f3a\"], [0.8888888888888888, \"#fdca26\"], [1.0, \"#f0f921\"]], \"type\": \"surface\"}], \"table\": [{\"cells\": {\"fill\": {\"color\": \"#EBF0F8\"}, \"line\": {\"color\": \"white\"}}, \"header\": {\"fill\": {\"color\": \"#C8D4E3\"}, \"line\": {\"color\": \"white\"}}, \"type\": \"table\"}]}, \"layout\": {\"annotationdefaults\": {\"arrowcolor\": \"#2a3f5f\", \"arrowhead\": 0, \"arrowwidth\": 1}, \"coloraxis\": {\"colorbar\": {\"outlinewidth\": 0, \"ticks\": \"\"}}, \"colorscale\": {\"diverging\": [[0, \"#8e0152\"], [0.1, \"#c51b7d\"], [0.2, \"#de77ae\"], [0.3, \"#f1b6da\"], [0.4, \"#fde0ef\"], [0.5, \"#f7f7f7\"], [0.6, \"#e6f5d0\"], [0.7, \"#b8e186\"], [0.8, \"#7fbc41\"], [0.9, \"#4d9221\"], [1, \"#276419\"]], \"sequential\": [[0.0, \"#0d0887\"], [0.1111111111111111, \"#46039f\"], [0.2222222222222222, \"#7201a8\"], [0.3333333333333333, \"#9c179e\"], [0.4444444444444444, \"#bd3786\"], [0.5555555555555556, \"#d8576b\"], [0.6666666666666666, \"#ed7953\"], [0.7777777777777778, \"#fb9f3a\"], [0.8888888888888888, \"#fdca26\"], [1.0, \"#f0f921\"]], \"sequentialminus\": [[0.0, \"#0d0887\"], [0.1111111111111111, \"#46039f\"], [0.2222222222222222, \"#7201a8\"], [0.3333333333333333, \"#9c179e\"], [0.4444444444444444, \"#bd3786\"], [0.5555555555555556, \"#d8576b\"], [0.6666666666666666, \"#ed7953\"], [0.7777777777777778, \"#fb9f3a\"], [0.8888888888888888, \"#fdca26\"], [1.0, \"#f0f921\"]]}, \"colorway\": [\"#636efa\", \"#EF553B\", \"#00cc96\", \"#ab63fa\", \"#FFA15A\", \"#19d3f3\", \"#FF6692\", \"#B6E880\", \"#FF97FF\", \"#FECB52\"], \"font\": {\"color\": \"#2a3f5f\"}, \"geo\": {\"bgcolor\": \"white\", \"lakecolor\": \"white\", \"landcolor\": \"#E5ECF6\", \"showlakes\": true, \"showland\": true, \"subunitcolor\": \"white\"}, \"hoverlabel\": {\"align\": \"left\"}, \"hovermode\": \"closest\", \"mapbox\": {\"style\": \"light\"}, \"paper_bgcolor\": \"white\", \"plot_bgcolor\": \"#E5ECF6\", \"polar\": {\"angularaxis\": {\"gridcolor\": \"white\", \"linecolor\": \"white\", \"ticks\": \"\"}, \"bgcolor\": \"#E5ECF6\", \"radialaxis\": {\"gridcolor\": \"white\", \"linecolor\": \"white\", \"ticks\": \"\"}}, \"scene\": {\"xaxis\": {\"backgroundcolor\": \"#E5ECF6\", \"gridcolor\": \"white\", \"gridwidth\": 2, \"linecolor\": \"white\", \"showbackground\": true, \"ticks\": \"\", \"zerolinecolor\": \"white\"}, \"yaxis\": {\"backgroundcolor\": \"#E5ECF6\", \"gridcolor\": \"white\", \"gridwidth\": 2, \"linecolor\": \"white\", \"showbackground\": true, \"ticks\": \"\", \"zerolinecolor\": \"white\"}, \"zaxis\": {\"backgroundcolor\": \"#E5ECF6\", \"gridcolor\": \"white\", \"gridwidth\": 2, \"linecolor\": \"white\", \"showbackground\": true, \"ticks\": \"\", \"zerolinecolor\": \"white\"}}, \"shapedefaults\": {\"line\": {\"color\": \"#2a3f5f\"}}, \"ternary\": {\"aaxis\": {\"gridcolor\": \"white\", \"linecolor\": \"white\", \"ticks\": \"\"}, \"baxis\": {\"gridcolor\": \"white\", \"linecolor\": \"white\", \"ticks\": \"\"}, \"bgcolor\": \"#E5ECF6\", \"caxis\": {\"gridcolor\": \"white\", \"linecolor\": \"white\", \"ticks\": \"\"}}, \"title\": {\"x\": 0.05}, \"xaxis\": {\"automargin\": true, \"gridcolor\": \"white\", \"linecolor\": \"white\", \"ticks\": \"\", \"title\": {\"standoff\": 15}, \"zerolinecolor\": \"white\", \"zerolinewidth\": 2}, \"yaxis\": {\"automargin\": true, \"gridcolor\": \"white\", \"linecolor\": \"white\", \"ticks\": \"\", \"title\": {\"standoff\": 15}, \"zerolinecolor\": \"white\", \"zerolinewidth\": 2}}}, \"xaxis\": {\"anchor\": \"y\", \"domain\": [0.0, 1.0], \"title\": {\"text\": \"TotalTimePlayed\"}}, \"yaxis\": {\"anchor\": \"x\", \"domain\": [0.0, 1.0], \"title\": {\"text\": \"Gamertag\"}}},                        {\"responsive\": true}                    ).then(function(){\n",
       "                            \n",
       "var gd = document.getElementById('135bc086-6afa-4566-b28d-ec49d9c1d2be');\n",
       "var x = new MutationObserver(function (mutations, observer) {{\n",
       "        var display = window.getComputedStyle(gd).display;\n",
       "        if (!display || display === 'none') {{\n",
       "            console.log([gd, 'removed!']);\n",
       "            Plotly.purge(gd);\n",
       "            observer.disconnect();\n",
       "        }}\n",
       "}});\n",
       "\n",
       "// Listen for the removal of the full notebook cells\n",
       "var notebookContainer = gd.closest('#notebook-container');\n",
       "if (notebookContainer) {{\n",
       "    x.observe(notebookContainer, {childList: true});\n",
       "}}\n",
       "\n",
       "// Listen for the clearing of the current output cell\n",
       "var outputEl = gd.closest('.output');\n",
       "if (outputEl) {{\n",
       "    x.observe(outputEl, {childList: true});\n",
       "}}\n",
       "\n",
       "                        })                };                });            </script>        </div>"
      ]
     },
     "metadata": {},
     "output_type": "display_data"
    }
   ],
   "source": [
    "import plotly.express as px\n",
    "# df = df\n",
    "fig = px.bar(df, x='TotalTimePlayed', y='Gamertag', orientation='h')\n",
    "fig.show()"
   ]
  },
  {
   "cell_type": "code",
   "execution_count": 72,
   "metadata": {
    "ExecuteTime": {
     "end_time": "2021-07-23T19:51:59.605758Z",
     "start_time": "2021-07-23T19:51:59.600756Z"
    }
   },
   "outputs": [
    {
     "data": {
      "text/plain": [
       "True"
      ]
     },
     "execution_count": 72,
     "metadata": {},
     "output_type": "execute_result"
    }
   ],
   "source": [
    "df['TotalHeadshots'].dtypes\n",
    "type(df['TotalHeadshots'].iloc[0]) == int\n",
    "# type(df['TotalTimePlayed'].iloc[0]) == np.float64"
   ]
  },
  {
   "cell_type": "code",
   "execution_count": 172,
   "metadata": {
    "ExecuteTime": {
     "end_time": "2021-07-26T13:38:46.964966Z",
     "start_time": "2021-07-26T13:38:43.880641Z"
    }
   },
   "outputs": [
    {
     "data": {
      "text/html": [
       "<div>\n",
       "<style scoped>\n",
       "    .dataframe tbody tr th:only-of-type {\n",
       "        vertical-align: middle;\n",
       "    }\n",
       "\n",
       "    .dataframe tbody tr th {\n",
       "        vertical-align: top;\n",
       "    }\n",
       "\n",
       "    .dataframe thead th {\n",
       "        text-align: right;\n",
       "    }\n",
       "</style>\n",
       "<table border=\"1\" class=\"dataframe\">\n",
       "  <thead>\n",
       "    <tr style=\"text-align: right;\">\n",
       "      <th></th>\n",
       "      <th>Date</th>\n",
       "      <th>MatchId</th>\n",
       "      <th>GameBaseVariantId</th>\n",
       "      <th>PlaylistId</th>\n",
       "      <th>MapVariantId</th>\n",
       "      <th>DNF</th>\n",
       "      <th>TeamId</th>\n",
       "      <th>PlayerTeam</th>\n",
       "      <th>Winner</th>\n",
       "      <th>TeamColor</th>\n",
       "      <th>Gamertag</th>\n",
       "      <th>SpartanRank</th>\n",
       "      <th>PrevTotalXP</th>\n",
       "      <th>TotalKills</th>\n",
       "      <th>TotalHeadshots</th>\n",
       "      <th>TotalWeaponDamage</th>\n",
       "      <th>TotalShotsFired</th>\n",
       "      <th>TotalShotsLanded</th>\n",
       "      <th>TotalMeleeKills</th>\n",
       "      <th>TotalMeleeDamage</th>\n",
       "      <th>TotalAssassinations</th>\n",
       "      <th>TotalGroundPoundKills</th>\n",
       "      <th>TotalGroundPoundDamage</th>\n",
       "      <th>TotalShoulderBashKills</th>\n",
       "      <th>TotalShoulderBashDamage</th>\n",
       "      <th>TotalGrenadeDamage</th>\n",
       "      <th>TotalPowerWeaponKills</th>\n",
       "      <th>TotalPowerWeaponDamage</th>\n",
       "      <th>TotalPowerWeaponGrabs</th>\n",
       "      <th>TotalPowerWeaponPossessionTime</th>\n",
       "      <th>TotalDeaths</th>\n",
       "      <th>TotalAssists</th>\n",
       "      <th>TotalGamesCompleted</th>\n",
       "      <th>TotalGamesWon</th>\n",
       "      <th>TotalGamesLost</th>\n",
       "      <th>TotalGamesTied</th>\n",
       "      <th>TotalTimePlayed</th>\n",
       "      <th>TotalGrenadeKills</th>\n",
       "      <th>Accuracy</th>\n",
       "      <th>AssassinationsPerGame</th>\n",
       "      <th>AssistsPerGame</th>\n",
       "      <th>DeathsPerGame</th>\n",
       "      <th>GrenadeDamagePerGame</th>\n",
       "      <th>GrenadeKillsPerGame</th>\n",
       "      <th>GroundPoundDamagePerGame</th>\n",
       "      <th>GroundPoundKillsPerGame</th>\n",
       "      <th>HeadshotsPerGame</th>\n",
       "      <th>K/D</th>\n",
       "      <th>KillsPerGame</th>\n",
       "      <th>MeleeDamagePerGame</th>\n",
       "      <th>MeleeKillsPerGame</th>\n",
       "      <th>PowerWeaponDamagePerGame</th>\n",
       "      <th>PowerWeaponGrabsPerGame</th>\n",
       "      <th>PowerWeaponKillsPerGame</th>\n",
       "      <th>PowerWeaponPossessionTimePerGame</th>\n",
       "      <th>ShotsFiredPerGame</th>\n",
       "      <th>ShotsLandedPerGame</th>\n",
       "      <th>ShoulderBashDamagePerGame</th>\n",
       "      <th>ShoulderBashKillsPerGame</th>\n",
       "      <th>WeaponDamagePerGame</th>\n",
       "      <th>WinRate</th>\n",
       "    </tr>\n",
       "  </thead>\n",
       "  <tbody>\n",
       "    <tr>\n",
       "      <th>0</th>\n",
       "      <td>July, 26 2021</td>\n",
       "      <td>4d10fbcf-c1ef-4bae-a3da-0000f66ff934</td>\n",
       "      <td>Slayer</td>\n",
       "      <td>Super Fiesta Party</td>\n",
       "      <td>Mercy</td>\n",
       "      <td>0.0</td>\n",
       "      <td>1.0</td>\n",
       "      <td>Enemy</td>\n",
       "      <td>Victory</td>\n",
       "      <td>Blue</td>\n",
       "      <td>iZK8182794</td>\n",
       "      <td>144</td>\n",
       "      <td>7112419</td>\n",
       "      <td>23037</td>\n",
       "      <td>4597</td>\n",
       "      <td>2.779111e+06</td>\n",
       "      <td>563356</td>\n",
       "      <td>187286</td>\n",
       "      <td>1554</td>\n",
       "      <td>143121.249992</td>\n",
       "      <td>251</td>\n",
       "      <td>1</td>\n",
       "      <td>210.000000</td>\n",
       "      <td>122</td>\n",
       "      <td>16116.018838</td>\n",
       "      <td>161003.670295</td>\n",
       "      <td>12642</td>\n",
       "      <td>1.653321e+06</td>\n",
       "      <td>312</td>\n",
       "      <td>87.395062</td>\n",
       "      <td>23513</td>\n",
       "      <td>6358</td>\n",
       "      <td>1813</td>\n",
       "      <td>840</td>\n",
       "      <td>972</td>\n",
       "      <td>1</td>\n",
       "      <td>220.031596</td>\n",
       "      <td>1101</td>\n",
       "      <td>0.332447</td>\n",
       "      <td>0.138445</td>\n",
       "      <td>3.506895</td>\n",
       "      <td>12.969112</td>\n",
       "      <td>88.805113</td>\n",
       "      <td>0.607281</td>\n",
       "      <td>0.115830</td>\n",
       "      <td>0.000552</td>\n",
       "      <td>2.535576</td>\n",
       "      <td>0.979756</td>\n",
       "      <td>12.706564</td>\n",
       "      <td>78.941671</td>\n",
       "      <td>0.857143</td>\n",
       "      <td>911.925692</td>\n",
       "      <td>0.172090</td>\n",
       "      <td>6.972973</td>\n",
       "      <td>0.048205</td>\n",
       "      <td>310.731384</td>\n",
       "      <td>103.301710</td>\n",
       "      <td>8.889144</td>\n",
       "      <td>0.067292</td>\n",
       "      <td>1532.880032</td>\n",
       "      <td>0.864198</td>\n",
       "    </tr>\n",
       "    <tr>\n",
       "      <th>1</th>\n",
       "      <td>July, 26 2021</td>\n",
       "      <td>4d10fbcf-c1ef-4bae-a3da-0000f66ff934</td>\n",
       "      <td>Slayer</td>\n",
       "      <td>Super Fiesta Party</td>\n",
       "      <td>Mercy</td>\n",
       "      <td>0.0</td>\n",
       "      <td>1.0</td>\n",
       "      <td>Enemy</td>\n",
       "      <td>Victory</td>\n",
       "      <td>Blue</td>\n",
       "      <td>PlagueDoctor924</td>\n",
       "      <td>141</td>\n",
       "      <td>6539824</td>\n",
       "      <td>16044</td>\n",
       "      <td>3057</td>\n",
       "      <td>1.837408e+06</td>\n",
       "      <td>376067</td>\n",
       "      <td>126394</td>\n",
       "      <td>1680</td>\n",
       "      <td>233531.102305</td>\n",
       "      <td>519</td>\n",
       "      <td>42</td>\n",
       "      <td>4890.996887</td>\n",
       "      <td>274</td>\n",
       "      <td>39753.824627</td>\n",
       "      <td>37010.256863</td>\n",
       "      <td>7489</td>\n",
       "      <td>9.683606e+05</td>\n",
       "      <td>513</td>\n",
       "      <td>65.560384</td>\n",
       "      <td>19750</td>\n",
       "      <td>4848</td>\n",
       "      <td>1625</td>\n",
       "      <td>544</td>\n",
       "      <td>1080</td>\n",
       "      <td>1</td>\n",
       "      <td>196.045298</td>\n",
       "      <td>277</td>\n",
       "      <td>0.336094</td>\n",
       "      <td>0.319385</td>\n",
       "      <td>2.983385</td>\n",
       "      <td>12.153846</td>\n",
       "      <td>22.775543</td>\n",
       "      <td>0.170462</td>\n",
       "      <td>3.009844</td>\n",
       "      <td>0.025846</td>\n",
       "      <td>1.881231</td>\n",
       "      <td>0.812354</td>\n",
       "      <td>9.873231</td>\n",
       "      <td>143.711448</td>\n",
       "      <td>1.033846</td>\n",
       "      <td>595.914224</td>\n",
       "      <td>0.315692</td>\n",
       "      <td>4.608615</td>\n",
       "      <td>0.040345</td>\n",
       "      <td>231.425846</td>\n",
       "      <td>77.780923</td>\n",
       "      <td>24.463892</td>\n",
       "      <td>0.168615</td>\n",
       "      <td>1130.712601</td>\n",
       "      <td>0.503704</td>\n",
       "    </tr>\n",
       "    <tr>\n",
       "      <th>2</th>\n",
       "      <td>July, 26 2021</td>\n",
       "      <td>4d10fbcf-c1ef-4bae-a3da-0000f66ff934</td>\n",
       "      <td>Slayer</td>\n",
       "      <td>Super Fiesta Party</td>\n",
       "      <td>Mercy</td>\n",
       "      <td>0.0</td>\n",
       "      <td>1.0</td>\n",
       "      <td>Enemy</td>\n",
       "      <td>Victory</td>\n",
       "      <td>Blue</td>\n",
       "      <td>HxC Shingon</td>\n",
       "      <td>113</td>\n",
       "      <td>4185606</td>\n",
       "      <td>14922</td>\n",
       "      <td>8015</td>\n",
       "      <td>2.058423e+06</td>\n",
       "      <td>326786</td>\n",
       "      <td>120334</td>\n",
       "      <td>531</td>\n",
       "      <td>73529.221862</td>\n",
       "      <td>81</td>\n",
       "      <td>22</td>\n",
       "      <td>2986.530644</td>\n",
       "      <td>11</td>\n",
       "      <td>2378.248744</td>\n",
       "      <td>127685.411140</td>\n",
       "      <td>5934</td>\n",
       "      <td>8.637453e+05</td>\n",
       "      <td>291</td>\n",
       "      <td>50.631515</td>\n",
       "      <td>13820</td>\n",
       "      <td>4859</td>\n",
       "      <td>1311</td>\n",
       "      <td>619</td>\n",
       "      <td>692</td>\n",
       "      <td>0</td>\n",
       "      <td>160.517823</td>\n",
       "      <td>474</td>\n",
       "      <td>0.368235</td>\n",
       "      <td>0.061785</td>\n",
       "      <td>3.706331</td>\n",
       "      <td>10.541571</td>\n",
       "      <td>97.395432</td>\n",
       "      <td>0.361556</td>\n",
       "      <td>2.278055</td>\n",
       "      <td>0.016781</td>\n",
       "      <td>6.113654</td>\n",
       "      <td>1.079740</td>\n",
       "      <td>11.382151</td>\n",
       "      <td>56.086363</td>\n",
       "      <td>0.405034</td>\n",
       "      <td>658.844587</td>\n",
       "      <td>0.221968</td>\n",
       "      <td>4.526316</td>\n",
       "      <td>0.038621</td>\n",
       "      <td>249.264683</td>\n",
       "      <td>91.787948</td>\n",
       "      <td>1.814072</td>\n",
       "      <td>0.008391</td>\n",
       "      <td>1570.116715</td>\n",
       "      <td>0.894509</td>\n",
       "    </tr>\n",
       "    <tr>\n",
       "      <th>3</th>\n",
       "      <td>July, 26 2021</td>\n",
       "      <td>4d10fbcf-c1ef-4bae-a3da-0000f66ff934</td>\n",
       "      <td>Slayer</td>\n",
       "      <td>Super Fiesta Party</td>\n",
       "      <td>Mercy</td>\n",
       "      <td>0.0</td>\n",
       "      <td>1.0</td>\n",
       "      <td>Enemy</td>\n",
       "      <td>Victory</td>\n",
       "      <td>Blue</td>\n",
       "      <td>DrDiggler74</td>\n",
       "      <td>133</td>\n",
       "      <td>5690840</td>\n",
       "      <td>19583</td>\n",
       "      <td>5582</td>\n",
       "      <td>2.561268e+06</td>\n",
       "      <td>492743</td>\n",
       "      <td>175670</td>\n",
       "      <td>1041</td>\n",
       "      <td>134487.233584</td>\n",
       "      <td>178</td>\n",
       "      <td>0</td>\n",
       "      <td>0.000000</td>\n",
       "      <td>57</td>\n",
       "      <td>12871.061153</td>\n",
       "      <td>301902.114653</td>\n",
       "      <td>9673</td>\n",
       "      <td>1.274141e+06</td>\n",
       "      <td>145</td>\n",
       "      <td>78.605749</td>\n",
       "      <td>19944</td>\n",
       "      <td>5863</td>\n",
       "      <td>1773</td>\n",
       "      <td>857</td>\n",
       "      <td>915</td>\n",
       "      <td>1</td>\n",
       "      <td>216.639274</td>\n",
       "      <td>1176</td>\n",
       "      <td>0.356514</td>\n",
       "      <td>0.100395</td>\n",
       "      <td>3.306825</td>\n",
       "      <td>11.248731</td>\n",
       "      <td>170.277560</td>\n",
       "      <td>0.663283</td>\n",
       "      <td>0.000000</td>\n",
       "      <td>0.000000</td>\n",
       "      <td>3.148336</td>\n",
       "      <td>0.981899</td>\n",
       "      <td>11.045121</td>\n",
       "      <td>75.852924</td>\n",
       "      <td>0.587140</td>\n",
       "      <td>718.635744</td>\n",
       "      <td>0.081782</td>\n",
       "      <td>5.455725</td>\n",
       "      <td>0.044335</td>\n",
       "      <td>277.914834</td>\n",
       "      <td>99.080654</td>\n",
       "      <td>7.259482</td>\n",
       "      <td>0.032149</td>\n",
       "      <td>1444.595482</td>\n",
       "      <td>0.936612</td>\n",
       "    </tr>\n",
       "    <tr>\n",
       "      <th>4</th>\n",
       "      <td>July, 26 2021</td>\n",
       "      <td>4d10fbcf-c1ef-4bae-a3da-0000f66ff934</td>\n",
       "      <td>Slayer</td>\n",
       "      <td>Super Fiesta Party</td>\n",
       "      <td>Mercy</td>\n",
       "      <td>0.0</td>\n",
       "      <td>0.0</td>\n",
       "      <td>Player</td>\n",
       "      <td>Defeat</td>\n",
       "      <td>Red</td>\n",
       "      <td>Drymander</td>\n",
       "      <td>148</td>\n",
       "      <td>15620337</td>\n",
       "      <td>28819</td>\n",
       "      <td>2160</td>\n",
       "      <td>3.829023e+06</td>\n",
       "      <td>756773</td>\n",
       "      <td>242580</td>\n",
       "      <td>1482</td>\n",
       "      <td>161700.288293</td>\n",
       "      <td>209</td>\n",
       "      <td>35</td>\n",
       "      <td>5230.651564</td>\n",
       "      <td>100</td>\n",
       "      <td>19190.688572</td>\n",
       "      <td>129347.927789</td>\n",
       "      <td>23390</td>\n",
       "      <td>3.114434e+06</td>\n",
       "      <td>140</td>\n",
       "      <td>183.842909</td>\n",
       "      <td>28037</td>\n",
       "      <td>5921</td>\n",
       "      <td>2526</td>\n",
       "      <td>1258</td>\n",
       "      <td>1268</td>\n",
       "      <td>0</td>\n",
       "      <td>299.825284</td>\n",
       "      <td>459</td>\n",
       "      <td>0.320545</td>\n",
       "      <td>0.082740</td>\n",
       "      <td>2.344022</td>\n",
       "      <td>11.099367</td>\n",
       "      <td>51.206622</td>\n",
       "      <td>0.181710</td>\n",
       "      <td>2.070725</td>\n",
       "      <td>0.013856</td>\n",
       "      <td>0.855107</td>\n",
       "      <td>1.027892</td>\n",
       "      <td>11.408947</td>\n",
       "      <td>64.014366</td>\n",
       "      <td>0.586698</td>\n",
       "      <td>1232.951094</td>\n",
       "      <td>0.055424</td>\n",
       "      <td>9.259699</td>\n",
       "      <td>0.072780</td>\n",
       "      <td>299.593428</td>\n",
       "      <td>96.033254</td>\n",
       "      <td>7.597264</td>\n",
       "      <td>0.039588</td>\n",
       "      <td>1515.844507</td>\n",
       "      <td>0.992114</td>\n",
       "    </tr>\n",
       "    <tr>\n",
       "      <th>5</th>\n",
       "      <td>July, 26 2021</td>\n",
       "      <td>4d10fbcf-c1ef-4bae-a3da-0000f66ff934</td>\n",
       "      <td>Slayer</td>\n",
       "      <td>Super Fiesta Party</td>\n",
       "      <td>Mercy</td>\n",
       "      <td>0.0</td>\n",
       "      <td>0.0</td>\n",
       "      <td>Player</td>\n",
       "      <td>Defeat</td>\n",
       "      <td>Red</td>\n",
       "      <td>MarySueMack</td>\n",
       "      <td>148</td>\n",
       "      <td>14325326</td>\n",
       "      <td>44617</td>\n",
       "      <td>8212</td>\n",
       "      <td>5.690563e+06</td>\n",
       "      <td>927912</td>\n",
       "      <td>372361</td>\n",
       "      <td>2746</td>\n",
       "      <td>350708.783403</td>\n",
       "      <td>661</td>\n",
       "      <td>22</td>\n",
       "      <td>5127.313930</td>\n",
       "      <td>594</td>\n",
       "      <td>119023.092286</td>\n",
       "      <td>143133.918647</td>\n",
       "      <td>27630</td>\n",
       "      <td>3.651009e+06</td>\n",
       "      <td>61</td>\n",
       "      <td>220.862244</td>\n",
       "      <td>41794</td>\n",
       "      <td>10862</td>\n",
       "      <td>3741</td>\n",
       "      <td>1757</td>\n",
       "      <td>1979</td>\n",
       "      <td>5</td>\n",
       "      <td>479.578890</td>\n",
       "      <td>628</td>\n",
       "      <td>0.401289</td>\n",
       "      <td>0.176691</td>\n",
       "      <td>2.903502</td>\n",
       "      <td>11.171879</td>\n",
       "      <td>38.260871</td>\n",
       "      <td>0.167870</td>\n",
       "      <td>1.370573</td>\n",
       "      <td>0.005881</td>\n",
       "      <td>2.195135</td>\n",
       "      <td>1.067546</td>\n",
       "      <td>11.926490</td>\n",
       "      <td>93.747336</td>\n",
       "      <td>0.734028</td>\n",
       "      <td>975.944784</td>\n",
       "      <td>0.016306</td>\n",
       "      <td>7.385726</td>\n",
       "      <td>0.059038</td>\n",
       "      <td>248.038492</td>\n",
       "      <td>99.535151</td>\n",
       "      <td>31.815849</td>\n",
       "      <td>0.158781</td>\n",
       "      <td>1521.134321</td>\n",
       "      <td>0.887822</td>\n",
       "    </tr>\n",
       "    <tr>\n",
       "      <th>6</th>\n",
       "      <td>July, 26 2021</td>\n",
       "      <td>4d10fbcf-c1ef-4bae-a3da-0000f66ff934</td>\n",
       "      <td>Slayer</td>\n",
       "      <td>Super Fiesta Party</td>\n",
       "      <td>Mercy</td>\n",
       "      <td>0.0</td>\n",
       "      <td>0.0</td>\n",
       "      <td>Player</td>\n",
       "      <td>Defeat</td>\n",
       "      <td>Red</td>\n",
       "      <td>TheAceFace14</td>\n",
       "      <td>148</td>\n",
       "      <td>17868269</td>\n",
       "      <td>39599</td>\n",
       "      <td>3971</td>\n",
       "      <td>5.278647e+06</td>\n",
       "      <td>823228</td>\n",
       "      <td>306247</td>\n",
       "      <td>1188</td>\n",
       "      <td>140161.875604</td>\n",
       "      <td>205</td>\n",
       "      <td>74</td>\n",
       "      <td>8473.744057</td>\n",
       "      <td>44</td>\n",
       "      <td>10284.230335</td>\n",
       "      <td>174153.176822</td>\n",
       "      <td>32779</td>\n",
       "      <td>4.355876e+06</td>\n",
       "      <td>27</td>\n",
       "      <td>222.810191</td>\n",
       "      <td>41054</td>\n",
       "      <td>7990</td>\n",
       "      <td>3186</td>\n",
       "      <td>1496</td>\n",
       "      <td>1687</td>\n",
       "      <td>3</td>\n",
       "      <td>370.632005</td>\n",
       "      <td>709</td>\n",
       "      <td>0.372008</td>\n",
       "      <td>0.064344</td>\n",
       "      <td>2.507847</td>\n",
       "      <td>12.885750</td>\n",
       "      <td>54.662014</td>\n",
       "      <td>0.222536</td>\n",
       "      <td>2.659681</td>\n",
       "      <td>0.023227</td>\n",
       "      <td>1.246390</td>\n",
       "      <td>0.964559</td>\n",
       "      <td>12.429065</td>\n",
       "      <td>43.993056</td>\n",
       "      <td>0.372881</td>\n",
       "      <td>1367.192751</td>\n",
       "      <td>0.008475</td>\n",
       "      <td>10.288449</td>\n",
       "      <td>0.069934</td>\n",
       "      <td>258.389203</td>\n",
       "      <td>96.122724</td>\n",
       "      <td>3.227944</td>\n",
       "      <td>0.013810</td>\n",
       "      <td>1656.825865</td>\n",
       "      <td>0.886781</td>\n",
       "    </tr>\n",
       "    <tr>\n",
       "      <th>7</th>\n",
       "      <td>July, 26 2021</td>\n",
       "      <td>4d10fbcf-c1ef-4bae-a3da-0000f66ff934</td>\n",
       "      <td>Slayer</td>\n",
       "      <td>Super Fiesta Party</td>\n",
       "      <td>Mercy</td>\n",
       "      <td>0.0</td>\n",
       "      <td>0.0</td>\n",
       "      <td>Player</td>\n",
       "      <td>Defeat</td>\n",
       "      <td>Red</td>\n",
       "      <td>Spartan1769691</td>\n",
       "      <td>119</td>\n",
       "      <td>4529205</td>\n",
       "      <td>5939</td>\n",
       "      <td>1432</td>\n",
       "      <td>1.029871e+06</td>\n",
       "      <td>213037</td>\n",
       "      <td>65507</td>\n",
       "      <td>115</td>\n",
       "      <td>16455.487526</td>\n",
       "      <td>21</td>\n",
       "      <td>2</td>\n",
       "      <td>551.000000</td>\n",
       "      <td>34</td>\n",
       "      <td>8195.513963</td>\n",
       "      <td>85930.075782</td>\n",
       "      <td>4040</td>\n",
       "      <td>6.982752e+05</td>\n",
       "      <td>15</td>\n",
       "      <td>42.726870</td>\n",
       "      <td>4880</td>\n",
       "      <td>1822</td>\n",
       "      <td>518</td>\n",
       "      <td>255</td>\n",
       "      <td>262</td>\n",
       "      <td>1</td>\n",
       "      <td>78.894810</td>\n",
       "      <td>283</td>\n",
       "      <td>0.307491</td>\n",
       "      <td>0.040541</td>\n",
       "      <td>3.517375</td>\n",
       "      <td>9.420849</td>\n",
       "      <td>165.888177</td>\n",
       "      <td>0.546332</td>\n",
       "      <td>1.063707</td>\n",
       "      <td>0.003861</td>\n",
       "      <td>2.764479</td>\n",
       "      <td>1.217008</td>\n",
       "      <td>11.465251</td>\n",
       "      <td>31.767350</td>\n",
       "      <td>0.222008</td>\n",
       "      <td>1348.021606</td>\n",
       "      <td>0.028958</td>\n",
       "      <td>7.799228</td>\n",
       "      <td>0.082484</td>\n",
       "      <td>411.268340</td>\n",
       "      <td>126.461390</td>\n",
       "      <td>15.821456</td>\n",
       "      <td>0.065637</td>\n",
       "      <td>1988.167014</td>\n",
       "      <td>0.973282</td>\n",
       "    </tr>\n",
       "  </tbody>\n",
       "</table>\n",
       "</div>"
      ],
      "text/plain": [
       "            Date                               MatchId GameBaseVariantId  \\\n",
       "0  July, 26 2021  4d10fbcf-c1ef-4bae-a3da-0000f66ff934            Slayer   \n",
       "1  July, 26 2021  4d10fbcf-c1ef-4bae-a3da-0000f66ff934            Slayer   \n",
       "2  July, 26 2021  4d10fbcf-c1ef-4bae-a3da-0000f66ff934            Slayer   \n",
       "3  July, 26 2021  4d10fbcf-c1ef-4bae-a3da-0000f66ff934            Slayer   \n",
       "4  July, 26 2021  4d10fbcf-c1ef-4bae-a3da-0000f66ff934            Slayer   \n",
       "5  July, 26 2021  4d10fbcf-c1ef-4bae-a3da-0000f66ff934            Slayer   \n",
       "6  July, 26 2021  4d10fbcf-c1ef-4bae-a3da-0000f66ff934            Slayer   \n",
       "7  July, 26 2021  4d10fbcf-c1ef-4bae-a3da-0000f66ff934            Slayer   \n",
       "\n",
       "           PlaylistId MapVariantId  DNF  TeamId PlayerTeam   Winner TeamColor  \\\n",
       "0  Super Fiesta Party        Mercy  0.0     1.0      Enemy  Victory      Blue   \n",
       "1  Super Fiesta Party        Mercy  0.0     1.0      Enemy  Victory      Blue   \n",
       "2  Super Fiesta Party        Mercy  0.0     1.0      Enemy  Victory      Blue   \n",
       "3  Super Fiesta Party        Mercy  0.0     1.0      Enemy  Victory      Blue   \n",
       "4  Super Fiesta Party        Mercy  0.0     0.0     Player   Defeat       Red   \n",
       "5  Super Fiesta Party        Mercy  0.0     0.0     Player   Defeat       Red   \n",
       "6  Super Fiesta Party        Mercy  0.0     0.0     Player   Defeat       Red   \n",
       "7  Super Fiesta Party        Mercy  0.0     0.0     Player   Defeat       Red   \n",
       "\n",
       "          Gamertag SpartanRank PrevTotalXP TotalKills TotalHeadshots  \\\n",
       "0       iZK8182794         144     7112419      23037           4597   \n",
       "1  PlagueDoctor924         141     6539824      16044           3057   \n",
       "2      HxC Shingon         113     4185606      14922           8015   \n",
       "3      DrDiggler74         133     5690840      19583           5582   \n",
       "4        Drymander         148    15620337      28819           2160   \n",
       "5      MarySueMack         148    14325326      44617           8212   \n",
       "6     TheAceFace14         148    17868269      39599           3971   \n",
       "7   Spartan1769691         119     4529205       5939           1432   \n",
       "\n",
       "   TotalWeaponDamage TotalShotsFired TotalShotsLanded TotalMeleeKills  \\\n",
       "0       2.779111e+06          563356           187286            1554   \n",
       "1       1.837408e+06          376067           126394            1680   \n",
       "2       2.058423e+06          326786           120334             531   \n",
       "3       2.561268e+06          492743           175670            1041   \n",
       "4       3.829023e+06          756773           242580            1482   \n",
       "5       5.690563e+06          927912           372361            2746   \n",
       "6       5.278647e+06          823228           306247            1188   \n",
       "7       1.029871e+06          213037            65507             115   \n",
       "\n",
       "   TotalMeleeDamage TotalAssassinations TotalGroundPoundKills  \\\n",
       "0     143121.249992                 251                     1   \n",
       "1     233531.102305                 519                    42   \n",
       "2      73529.221862                  81                    22   \n",
       "3     134487.233584                 178                     0   \n",
       "4     161700.288293                 209                    35   \n",
       "5     350708.783403                 661                    22   \n",
       "6     140161.875604                 205                    74   \n",
       "7      16455.487526                  21                     2   \n",
       "\n",
       "   TotalGroundPoundDamage TotalShoulderBashKills  TotalShoulderBashDamage  \\\n",
       "0              210.000000                    122             16116.018838   \n",
       "1             4890.996887                    274             39753.824627   \n",
       "2             2986.530644                     11              2378.248744   \n",
       "3                0.000000                     57             12871.061153   \n",
       "4             5230.651564                    100             19190.688572   \n",
       "5             5127.313930                    594            119023.092286   \n",
       "6             8473.744057                     44             10284.230335   \n",
       "7              551.000000                     34              8195.513963   \n",
       "\n",
       "   TotalGrenadeDamage TotalPowerWeaponKills  TotalPowerWeaponDamage  \\\n",
       "0       161003.670295                 12642            1.653321e+06   \n",
       "1        37010.256863                  7489            9.683606e+05   \n",
       "2       127685.411140                  5934            8.637453e+05   \n",
       "3       301902.114653                  9673            1.274141e+06   \n",
       "4       129347.927789                 23390            3.114434e+06   \n",
       "5       143133.918647                 27630            3.651009e+06   \n",
       "6       174153.176822                 32779            4.355876e+06   \n",
       "7        85930.075782                  4040            6.982752e+05   \n",
       "\n",
       "  TotalPowerWeaponGrabs  TotalPowerWeaponPossessionTime TotalDeaths  \\\n",
       "0                   312                       87.395062       23513   \n",
       "1                   513                       65.560384       19750   \n",
       "2                   291                       50.631515       13820   \n",
       "3                   145                       78.605749       19944   \n",
       "4                   140                      183.842909       28037   \n",
       "5                    61                      220.862244       41794   \n",
       "6                    27                      222.810191       41054   \n",
       "7                    15                       42.726870        4880   \n",
       "\n",
       "  TotalAssists TotalGamesCompleted TotalGamesWon TotalGamesLost  \\\n",
       "0         6358                1813           840            972   \n",
       "1         4848                1625           544           1080   \n",
       "2         4859                1311           619            692   \n",
       "3         5863                1773           857            915   \n",
       "4         5921                2526          1258           1268   \n",
       "5        10862                3741          1757           1979   \n",
       "6         7990                3186          1496           1687   \n",
       "7         1822                 518           255            262   \n",
       "\n",
       "  TotalGamesTied  TotalTimePlayed TotalGrenadeKills  Accuracy  \\\n",
       "0              1       220.031596              1101  0.332447   \n",
       "1              1       196.045298               277  0.336094   \n",
       "2              0       160.517823               474  0.368235   \n",
       "3              1       216.639274              1176  0.356514   \n",
       "4              0       299.825284               459  0.320545   \n",
       "5              5       479.578890               628  0.401289   \n",
       "6              3       370.632005               709  0.372008   \n",
       "7              1        78.894810               283  0.307491   \n",
       "\n",
       "   AssassinationsPerGame  AssistsPerGame  DeathsPerGame  GrenadeDamagePerGame  \\\n",
       "0               0.138445        3.506895      12.969112             88.805113   \n",
       "1               0.319385        2.983385      12.153846             22.775543   \n",
       "2               0.061785        3.706331      10.541571             97.395432   \n",
       "3               0.100395        3.306825      11.248731            170.277560   \n",
       "4               0.082740        2.344022      11.099367             51.206622   \n",
       "5               0.176691        2.903502      11.171879             38.260871   \n",
       "6               0.064344        2.507847      12.885750             54.662014   \n",
       "7               0.040541        3.517375       9.420849            165.888177   \n",
       "\n",
       "   GrenadeKillsPerGame  GroundPoundDamagePerGame  GroundPoundKillsPerGame  \\\n",
       "0             0.607281                  0.115830                 0.000552   \n",
       "1             0.170462                  3.009844                 0.025846   \n",
       "2             0.361556                  2.278055                 0.016781   \n",
       "3             0.663283                  0.000000                 0.000000   \n",
       "4             0.181710                  2.070725                 0.013856   \n",
       "5             0.167870                  1.370573                 0.005881   \n",
       "6             0.222536                  2.659681                 0.023227   \n",
       "7             0.546332                  1.063707                 0.003861   \n",
       "\n",
       "   HeadshotsPerGame       K/D  KillsPerGame  MeleeDamagePerGame  \\\n",
       "0          2.535576  0.979756     12.706564           78.941671   \n",
       "1          1.881231  0.812354      9.873231          143.711448   \n",
       "2          6.113654  1.079740     11.382151           56.086363   \n",
       "3          3.148336  0.981899     11.045121           75.852924   \n",
       "4          0.855107  1.027892     11.408947           64.014366   \n",
       "5          2.195135  1.067546     11.926490           93.747336   \n",
       "6          1.246390  0.964559     12.429065           43.993056   \n",
       "7          2.764479  1.217008     11.465251           31.767350   \n",
       "\n",
       "   MeleeKillsPerGame  PowerWeaponDamagePerGame  PowerWeaponGrabsPerGame  \\\n",
       "0           0.857143                911.925692                 0.172090   \n",
       "1           1.033846                595.914224                 0.315692   \n",
       "2           0.405034                658.844587                 0.221968   \n",
       "3           0.587140                718.635744                 0.081782   \n",
       "4           0.586698               1232.951094                 0.055424   \n",
       "5           0.734028                975.944784                 0.016306   \n",
       "6           0.372881               1367.192751                 0.008475   \n",
       "7           0.222008               1348.021606                 0.028958   \n",
       "\n",
       "   PowerWeaponKillsPerGame  PowerWeaponPossessionTimePerGame  \\\n",
       "0                 6.972973                          0.048205   \n",
       "1                 4.608615                          0.040345   \n",
       "2                 4.526316                          0.038621   \n",
       "3                 5.455725                          0.044335   \n",
       "4                 9.259699                          0.072780   \n",
       "5                 7.385726                          0.059038   \n",
       "6                10.288449                          0.069934   \n",
       "7                 7.799228                          0.082484   \n",
       "\n",
       "   ShotsFiredPerGame  ShotsLandedPerGame  ShoulderBashDamagePerGame  \\\n",
       "0         310.731384          103.301710                   8.889144   \n",
       "1         231.425846           77.780923                  24.463892   \n",
       "2         249.264683           91.787948                   1.814072   \n",
       "3         277.914834           99.080654                   7.259482   \n",
       "4         299.593428           96.033254                   7.597264   \n",
       "5         248.038492           99.535151                  31.815849   \n",
       "6         258.389203           96.122724                   3.227944   \n",
       "7         411.268340          126.461390                  15.821456   \n",
       "\n",
       "   ShoulderBashKillsPerGame  WeaponDamagePerGame   WinRate  \n",
       "0                  0.067292          1532.880032  0.864198  \n",
       "1                  0.168615          1130.712601  0.503704  \n",
       "2                  0.008391          1570.116715  0.894509  \n",
       "3                  0.032149          1444.595482  0.936612  \n",
       "4                  0.039588          1515.844507  0.992114  \n",
       "5                  0.158781          1521.134321  0.887822  \n",
       "6                  0.013810          1656.825865  0.886781  \n",
       "7                  0.065637          1988.167014  0.973282  "
      ]
     },
     "execution_count": 172,
     "metadata": {},
     "output_type": "execute_result"
    }
   ],
   "source": [
    "df = recent_match_stats('Drymander', 0)\n",
    "df.to_csv('data/match.csv')\n",
    "df"
   ]
  },
  {
   "cell_type": "markdown",
   "metadata": {},
   "source": [
    "# Compare Stats Plot Function"
   ]
  },
  {
   "cell_type": "code",
   "execution_count": 144,
   "metadata": {
    "ExecuteTime": {
     "end_time": "2021-07-24T18:04:48.846947Z",
     "start_time": "2021-07-24T18:04:48.842955Z"
    }
   },
   "outputs": [
    {
     "name": "stdout",
     "output_type": "stream",
     "text": [
      "Overwriting compare_stat.py\n"
     ]
    }
   ],
   "source": [
    "# %%writefile 'compare_stat.py'\n",
    "\n",
    "\n",
    "\n",
    "import plotly.graph_objects as go\n",
    "# from plotly.subplots import make_subplots\n",
    "from plotly.subplots import make_subplots\n",
    "def compare_stat(df, column_name):\n",
    "    \n",
    "#     layout = go.Layout(\n",
    "#         margin=go.layout.Margin(\n",
    "#             l=100, #left margin\n",
    "#             r=0, #right margin\n",
    "#             b=0, #bottom margin\n",
    "#             t=0))  #top margin\n",
    "    \n",
    "    df = df.round(2)\n",
    "    # Separate player and enemy teams\n",
    "    df_player = df.loc[df['PlayerTeam'] == 'Player']\n",
    "    df_enemy = df.loc[df['PlayerTeam'] == 'Enemy']\n",
    "\n",
    "    # Sort total time played by descending\n",
    "    df_player = df_player.sort_values(by=[column_name])\n",
    "    df_enemy = df_enemy.sort_values(by=[column_name])\n",
    "\n",
    "    # Assign player / enemy colors\n",
    "    if df_player['TeamColor'].iloc[0] == 'Blue':\n",
    "        player_color = 'Blue'\n",
    "        enemy_color = 'Red'\n",
    "    else:\n",
    "        player_color = 'Red'\n",
    "        enemy_color = 'Blue'\n",
    "    \n",
    "    # Make subplot and X axis range\n",
    "    fig = make_subplots(rows=2, cols=1, subplot_titles=[f'Player Team - {column_name}', \n",
    "                                                        f'Enemy Team - {column_name}'],\n",
    "                       vertical_spacing = 0.12)\n",
    "    x_range = df[column_name].max()\n",
    "    \n",
    "    # Player team sub plot\n",
    "    fig.add_trace(go.Bar(\n",
    "                x=df_player[column_name],\n",
    "                y=df_player['Gamertag'],\n",
    "                orientation='h',\n",
    "                text=df_player[column_name],\n",
    "                textposition='auto',\n",
    "                marker_color=player_color),\n",
    "                    row=1, col=1)\n",
    "    fig.update_xaxes(range=[0, x_range], row=1, col=1)\n",
    "    \n",
    "    # Enemy team sub plot\n",
    "    fig.add_trace(go.Bar(\n",
    "                x=df_enemy[column_name],\n",
    "                y=df_enemy['Gamertag'],\n",
    "                orientation='h',\n",
    "                text=df_enemy[column_name],\n",
    "                textposition='auto',\n",
    "                marker_color=enemy_color),\n",
    "                    row=2, col=1)\n",
    "    fig.update_xaxes(range=[0, x_range], row=2, col=1)\n",
    "    fig.update_yaxes(automargin=True)\n",
    "    fig['layout'].update(margin=dict(l=125,r=50,b=20,t=30))\n",
    "    fig['layout'].update(showlegend=False)\n",
    "#     fig.update_layout(title_text='test')\n",
    "    return fig\n",
    "\n",
    "compare_stat(df, 'TotalHeadshots')"
   ]
  },
  {
   "cell_type": "code",
   "execution_count": 154,
   "metadata": {
    "ExecuteTime": {
     "end_time": "2021-07-24T19:28:14.119765Z",
     "start_time": "2021-07-24T19:28:14.066754Z"
    }
   },
   "outputs": [
    {
     "data": {
      "text/html": [
       "<div>\n",
       "<style scoped>\n",
       "    .dataframe tbody tr th:only-of-type {\n",
       "        vertical-align: middle;\n",
       "    }\n",
       "\n",
       "    .dataframe tbody tr th {\n",
       "        vertical-align: top;\n",
       "    }\n",
       "\n",
       "    .dataframe thead th {\n",
       "        text-align: right;\n",
       "    }\n",
       "</style>\n",
       "<table border=\"1\" class=\"dataframe\">\n",
       "  <thead>\n",
       "    <tr style=\"text-align: right;\">\n",
       "      <th></th>\n",
       "      <th>Date</th>\n",
       "      <th>MatchId</th>\n",
       "      <th>GameBaseVariantId</th>\n",
       "      <th>PlaylistId</th>\n",
       "      <th>MapVariantId</th>\n",
       "      <th>DNF</th>\n",
       "      <th>TeamId</th>\n",
       "      <th>PlayerTeam</th>\n",
       "      <th>Winner</th>\n",
       "      <th>TeamColor</th>\n",
       "      <th>Gamertag</th>\n",
       "      <th>SpartanRank</th>\n",
       "      <th>PrevTotalXP</th>\n",
       "      <th>TotalKills</th>\n",
       "      <th>TotalHeadshots</th>\n",
       "      <th>TotalWeaponDamage</th>\n",
       "      <th>TotalShotsFired</th>\n",
       "      <th>TotalShotsLanded</th>\n",
       "      <th>TotalMeleeKills</th>\n",
       "      <th>TotalMeleeDamage</th>\n",
       "      <th>TotalAssassinations</th>\n",
       "      <th>TotalGroundPoundKills</th>\n",
       "      <th>TotalGroundPoundDamage</th>\n",
       "      <th>TotalShoulderBashKills</th>\n",
       "      <th>TotalShoulderBashDamage</th>\n",
       "      <th>TotalGrenadeDamage</th>\n",
       "      <th>TotalPowerWeaponKills</th>\n",
       "      <th>TotalPowerWeaponDamage</th>\n",
       "      <th>TotalPowerWeaponGrabs</th>\n",
       "      <th>TotalPowerWeaponPossessionTime</th>\n",
       "      <th>TotalDeaths</th>\n",
       "      <th>TotalAssists</th>\n",
       "      <th>TotalGamesCompleted</th>\n",
       "      <th>TotalGamesWon</th>\n",
       "      <th>TotalGamesLost</th>\n",
       "      <th>TotalGamesTied</th>\n",
       "      <th>TotalTimePlayed</th>\n",
       "      <th>TotalGrenadeKills</th>\n",
       "      <th>Accuracy</th>\n",
       "      <th>AssassinationsPerGame</th>\n",
       "      <th>AssistsPerGame</th>\n",
       "      <th>DeathsPerGame</th>\n",
       "      <th>GrenadeDamagePerGame</th>\n",
       "      <th>GrenadeKillsPerGame</th>\n",
       "      <th>GroundPoundDamagePerGame</th>\n",
       "      <th>GroundPoundKillsPerGame</th>\n",
       "      <th>HeadshotsPerGame</th>\n",
       "      <th>K/D</th>\n",
       "      <th>KillsPerGame</th>\n",
       "      <th>MeleeDamagePerGame</th>\n",
       "      <th>MeleeKillsPerGame</th>\n",
       "      <th>PowerWeaponDamagePerGame</th>\n",
       "      <th>PowerWeaponGrabsPerGame</th>\n",
       "      <th>PowerWeaponKillsPerGame</th>\n",
       "      <th>PowerWeaponPossessionTimePerGame</th>\n",
       "      <th>ShotsFiredPerGame</th>\n",
       "      <th>ShotsLandedPerGame</th>\n",
       "      <th>ShoulderBashDamagePerGame</th>\n",
       "      <th>ShoulderBashKillsPerGame</th>\n",
       "      <th>WeaponDamagePerGame</th>\n",
       "      <th>WinRate</th>\n",
       "    </tr>\n",
       "  </thead>\n",
       "  <tbody>\n",
       "    <tr>\n",
       "      <th>0</th>\n",
       "      <td>July, 22 2021</td>\n",
       "      <td>2eecaf00-ba9f-432e-b144-bc1c90b29430</td>\n",
       "      <td>Slayer</td>\n",
       "      <td>Super Fiesta Party</td>\n",
       "      <td>Plaza</td>\n",
       "      <td>0.0</td>\n",
       "      <td>0.0</td>\n",
       "      <td>Enemy</td>\n",
       "      <td>Victory</td>\n",
       "      <td>Red</td>\n",
       "      <td>Dimension vv</td>\n",
       "      <td>138</td>\n",
       "      <td>6187181</td>\n",
       "      <td>18530</td>\n",
       "      <td>9433</td>\n",
       "      <td>1.828544e+06</td>\n",
       "      <td>265430</td>\n",
       "      <td>106770</td>\n",
       "      <td>981</td>\n",
       "      <td>1.655610e+05</td>\n",
       "      <td>569</td>\n",
       "      <td>106</td>\n",
       "      <td>12037.056124</td>\n",
       "      <td>217</td>\n",
       "      <td>28556.529271</td>\n",
       "      <td>8.783789e+04</td>\n",
       "      <td>6366</td>\n",
       "      <td>7.964073e+05</td>\n",
       "      <td>457</td>\n",
       "      <td>47.396104</td>\n",
       "      <td>18288</td>\n",
       "      <td>4075</td>\n",
       "      <td>1548</td>\n",
       "      <td>723</td>\n",
       "      <td>825</td>\n",
       "      <td>0</td>\n",
       "      <td>177.430622</td>\n",
       "      <td>515</td>\n",
       "      <td>0.402253</td>\n",
       "      <td>0.367571</td>\n",
       "      <td>2.632429</td>\n",
       "      <td>11.813953</td>\n",
       "      <td>56.742822</td>\n",
       "      <td>0.332687</td>\n",
       "      <td>7.775876</td>\n",
       "      <td>0.068475</td>\n",
       "      <td>6.093669</td>\n",
       "      <td>1.013233</td>\n",
       "      <td>11.970284</td>\n",
       "      <td>106.951552</td>\n",
       "      <td>0.633721</td>\n",
       "      <td>514.475032</td>\n",
       "      <td>0.295220</td>\n",
       "      <td>4.112403</td>\n",
       "      <td>0.030618</td>\n",
       "      <td>171.466408</td>\n",
       "      <td>68.972868</td>\n",
       "      <td>18.447370</td>\n",
       "      <td>0.140181</td>\n",
       "      <td>1181.230006</td>\n",
       "      <td>0.876364</td>\n",
       "    </tr>\n",
       "    <tr>\n",
       "      <th>1</th>\n",
       "      <td>July, 22 2021</td>\n",
       "      <td>2eecaf00-ba9f-432e-b144-bc1c90b29430</td>\n",
       "      <td>Slayer</td>\n",
       "      <td>Super Fiesta Party</td>\n",
       "      <td>Plaza</td>\n",
       "      <td>0.0</td>\n",
       "      <td>0.0</td>\n",
       "      <td>Enemy</td>\n",
       "      <td>Victory</td>\n",
       "      <td>Red</td>\n",
       "      <td>Nefarious</td>\n",
       "      <td>144</td>\n",
       "      <td>7508121</td>\n",
       "      <td>22619</td>\n",
       "      <td>9779</td>\n",
       "      <td>2.341174e+06</td>\n",
       "      <td>301329</td>\n",
       "      <td>132159</td>\n",
       "      <td>1768</td>\n",
       "      <td>1.827042e+05</td>\n",
       "      <td>498</td>\n",
       "      <td>183</td>\n",
       "      <td>16618.659790</td>\n",
       "      <td>347</td>\n",
       "      <td>26330.779343</td>\n",
       "      <td>1.470351e+05</td>\n",
       "      <td>8724</td>\n",
       "      <td>1.057324e+06</td>\n",
       "      <td>520</td>\n",
       "      <td>56.212851</td>\n",
       "      <td>20930</td>\n",
       "      <td>4852</td>\n",
       "      <td>1726</td>\n",
       "      <td>803</td>\n",
       "      <td>923</td>\n",
       "      <td>0</td>\n",
       "      <td>195.564511</td>\n",
       "      <td>758</td>\n",
       "      <td>0.438587</td>\n",
       "      <td>0.288528</td>\n",
       "      <td>2.811124</td>\n",
       "      <td>12.126304</td>\n",
       "      <td>85.188380</td>\n",
       "      <td>0.439166</td>\n",
       "      <td>9.628424</td>\n",
       "      <td>0.106025</td>\n",
       "      <td>5.665701</td>\n",
       "      <td>1.080698</td>\n",
       "      <td>13.104867</td>\n",
       "      <td>105.854090</td>\n",
       "      <td>1.024334</td>\n",
       "      <td>612.586598</td>\n",
       "      <td>0.301275</td>\n",
       "      <td>5.054461</td>\n",
       "      <td>0.032568</td>\n",
       "      <td>174.582271</td>\n",
       "      <td>76.569525</td>\n",
       "      <td>15.255376</td>\n",
       "      <td>0.201043</td>\n",
       "      <td>1356.416079</td>\n",
       "      <td>0.869989</td>\n",
       "    </tr>\n",
       "    <tr>\n",
       "      <th>2</th>\n",
       "      <td>July, 22 2021</td>\n",
       "      <td>2eecaf00-ba9f-432e-b144-bc1c90b29430</td>\n",
       "      <td>Slayer</td>\n",
       "      <td>Super Fiesta Party</td>\n",
       "      <td>Plaza</td>\n",
       "      <td>0.0</td>\n",
       "      <td>0.0</td>\n",
       "      <td>Enemy</td>\n",
       "      <td>Victory</td>\n",
       "      <td>Red</td>\n",
       "      <td>SourStarfish28</td>\n",
       "      <td>143</td>\n",
       "      <td>6823910</td>\n",
       "      <td>19021</td>\n",
       "      <td>1565</td>\n",
       "      <td>2.442232e+06</td>\n",
       "      <td>346960</td>\n",
       "      <td>132726</td>\n",
       "      <td>522</td>\n",
       "      <td>5.683225e+04</td>\n",
       "      <td>99</td>\n",
       "      <td>12</td>\n",
       "      <td>2313.328398</td>\n",
       "      <td>71</td>\n",
       "      <td>10473.208076</td>\n",
       "      <td>3.920214e+04</td>\n",
       "      <td>16021</td>\n",
       "      <td>2.080327e+06</td>\n",
       "      <td>16</td>\n",
       "      <td>124.868726</td>\n",
       "      <td>18264</td>\n",
       "      <td>3729</td>\n",
       "      <td>1483</td>\n",
       "      <td>730</td>\n",
       "      <td>752</td>\n",
       "      <td>1</td>\n",
       "      <td>193.553819</td>\n",
       "      <td>212</td>\n",
       "      <td>0.382540</td>\n",
       "      <td>0.066757</td>\n",
       "      <td>2.514498</td>\n",
       "      <td>12.315577</td>\n",
       "      <td>26.434346</td>\n",
       "      <td>0.142953</td>\n",
       "      <td>1.559898</td>\n",
       "      <td>0.008092</td>\n",
       "      <td>1.055293</td>\n",
       "      <td>1.041448</td>\n",
       "      <td>12.826028</td>\n",
       "      <td>38.322488</td>\n",
       "      <td>0.351989</td>\n",
       "      <td>1402.782982</td>\n",
       "      <td>0.010789</td>\n",
       "      <td>10.803102</td>\n",
       "      <td>0.084200</td>\n",
       "      <td>233.958193</td>\n",
       "      <td>89.498314</td>\n",
       "      <td>7.062177</td>\n",
       "      <td>0.047876</td>\n",
       "      <td>1646.818840</td>\n",
       "      <td>0.970745</td>\n",
       "    </tr>\n",
       "    <tr>\n",
       "      <th>3</th>\n",
       "      <td>July, 22 2021</td>\n",
       "      <td>2eecaf00-ba9f-432e-b144-bc1c90b29430</td>\n",
       "      <td>Slayer</td>\n",
       "      <td>Super Fiesta Party</td>\n",
       "      <td>Plaza</td>\n",
       "      <td>0.0</td>\n",
       "      <td>0.0</td>\n",
       "      <td>Enemy</td>\n",
       "      <td>Victory</td>\n",
       "      <td>Red</td>\n",
       "      <td>Nottheeddu</td>\n",
       "      <td>150</td>\n",
       "      <td>27262125</td>\n",
       "      <td>15350</td>\n",
       "      <td>4305</td>\n",
       "      <td>2.086481e+06</td>\n",
       "      <td>396248</td>\n",
       "      <td>136780</td>\n",
       "      <td>1021</td>\n",
       "      <td>1.581637e+05</td>\n",
       "      <td>314</td>\n",
       "      <td>60</td>\n",
       "      <td>10741.944481</td>\n",
       "      <td>84</td>\n",
       "      <td>16998.106466</td>\n",
       "      <td>1.828776e+05</td>\n",
       "      <td>7468</td>\n",
       "      <td>1.005274e+06</td>\n",
       "      <td>124</td>\n",
       "      <td>60.039112</td>\n",
       "      <td>14490</td>\n",
       "      <td>4623</td>\n",
       "      <td>1367</td>\n",
       "      <td>655</td>\n",
       "      <td>711</td>\n",
       "      <td>1</td>\n",
       "      <td>164.625542</td>\n",
       "      <td>737</td>\n",
       "      <td>0.345188</td>\n",
       "      <td>0.229700</td>\n",
       "      <td>3.381858</td>\n",
       "      <td>10.599854</td>\n",
       "      <td>133.780261</td>\n",
       "      <td>0.539137</td>\n",
       "      <td>7.858043</td>\n",
       "      <td>0.043892</td>\n",
       "      <td>3.149232</td>\n",
       "      <td>1.059351</td>\n",
       "      <td>11.228969</td>\n",
       "      <td>115.701352</td>\n",
       "      <td>0.746891</td>\n",
       "      <td>735.386701</td>\n",
       "      <td>0.090710</td>\n",
       "      <td>5.463058</td>\n",
       "      <td>0.043920</td>\n",
       "      <td>289.866862</td>\n",
       "      <td>100.058522</td>\n",
       "      <td>12.434606</td>\n",
       "      <td>0.061448</td>\n",
       "      <td>1526.321137</td>\n",
       "      <td>0.921238</td>\n",
       "    </tr>\n",
       "    <tr>\n",
       "      <th>4</th>\n",
       "      <td>July, 22 2021</td>\n",
       "      <td>2eecaf00-ba9f-432e-b144-bc1c90b29430</td>\n",
       "      <td>Slayer</td>\n",
       "      <td>Super Fiesta Party</td>\n",
       "      <td>Plaza</td>\n",
       "      <td>0.0</td>\n",
       "      <td>1.0</td>\n",
       "      <td>Player</td>\n",
       "      <td>Defeat</td>\n",
       "      <td>Blue</td>\n",
       "      <td>Drymander</td>\n",
       "      <td>148</td>\n",
       "      <td>15539108</td>\n",
       "      <td>28622</td>\n",
       "      <td>2148</td>\n",
       "      <td>3.804711e+06</td>\n",
       "      <td>752121</td>\n",
       "      <td>241046</td>\n",
       "      <td>1473</td>\n",
       "      <td>1.607738e+05</td>\n",
       "      <td>208</td>\n",
       "      <td>35</td>\n",
       "      <td>5230.651564</td>\n",
       "      <td>100</td>\n",
       "      <td>19095.688572</td>\n",
       "      <td>1.279060e+05</td>\n",
       "      <td>23221</td>\n",
       "      <td>3.094004e+06</td>\n",
       "      <td>140</td>\n",
       "      <td>182.570881</td>\n",
       "      <td>27853</td>\n",
       "      <td>5890</td>\n",
       "      <td>2510</td>\n",
       "      <td>1252</td>\n",
       "      <td>1258</td>\n",
       "      <td>0</td>\n",
       "      <td>297.931417</td>\n",
       "      <td>452</td>\n",
       "      <td>0.320488</td>\n",
       "      <td>0.082869</td>\n",
       "      <td>2.346614</td>\n",
       "      <td>11.096813</td>\n",
       "      <td>50.958578</td>\n",
       "      <td>0.180080</td>\n",
       "      <td>2.083925</td>\n",
       "      <td>0.013944</td>\n",
       "      <td>0.855777</td>\n",
       "      <td>1.027609</td>\n",
       "      <td>11.403187</td>\n",
       "      <td>64.053293</td>\n",
       "      <td>0.586853</td>\n",
       "      <td>1232.670745</td>\n",
       "      <td>0.055777</td>\n",
       "      <td>9.251394</td>\n",
       "      <td>0.072737</td>\n",
       "      <td>299.649801</td>\n",
       "      <td>96.034263</td>\n",
       "      <td>7.607844</td>\n",
       "      <td>0.039841</td>\n",
       "      <td>1515.821047</td>\n",
       "      <td>0.995231</td>\n",
       "    </tr>\n",
       "    <tr>\n",
       "      <th>5</th>\n",
       "      <td>July, 22 2021</td>\n",
       "      <td>2eecaf00-ba9f-432e-b144-bc1c90b29430</td>\n",
       "      <td>Slayer</td>\n",
       "      <td>Super Fiesta Party</td>\n",
       "      <td>Plaza</td>\n",
       "      <td>0.0</td>\n",
       "      <td>1.0</td>\n",
       "      <td>Player</td>\n",
       "      <td>Defeat</td>\n",
       "      <td>Blue</td>\n",
       "      <td>cryptolockerSD</td>\n",
       "      <td>151</td>\n",
       "      <td>47129356</td>\n",
       "      <td>53899</td>\n",
       "      <td>6851</td>\n",
       "      <td>7.018691e+06</td>\n",
       "      <td>1244500</td>\n",
       "      <td>439444</td>\n",
       "      <td>4114</td>\n",
       "      <td>4.847869e+05</td>\n",
       "      <td>829</td>\n",
       "      <td>184</td>\n",
       "      <td>36020.682724</td>\n",
       "      <td>98</td>\n",
       "      <td>22007.556794</td>\n",
       "      <td>6.860665e+05</td>\n",
       "      <td>33654</td>\n",
       "      <td>4.379956e+06</td>\n",
       "      <td>691</td>\n",
       "      <td>257.554571</td>\n",
       "      <td>49001</td>\n",
       "      <td>15366</td>\n",
       "      <td>4878</td>\n",
       "      <td>2574</td>\n",
       "      <td>2303</td>\n",
       "      <td>1</td>\n",
       "      <td>560.084605</td>\n",
       "      <td>2748</td>\n",
       "      <td>0.353109</td>\n",
       "      <td>0.169947</td>\n",
       "      <td>3.150062</td>\n",
       "      <td>10.045305</td>\n",
       "      <td>140.645043</td>\n",
       "      <td>0.563346</td>\n",
       "      <td>7.384314</td>\n",
       "      <td>0.037720</td>\n",
       "      <td>1.404469</td>\n",
       "      <td>1.099957</td>\n",
       "      <td>11.049405</td>\n",
       "      <td>99.382305</td>\n",
       "      <td>0.843378</td>\n",
       "      <td>897.899898</td>\n",
       "      <td>0.141656</td>\n",
       "      <td>6.899139</td>\n",
       "      <td>0.052799</td>\n",
       "      <td>255.125051</td>\n",
       "      <td>90.086921</td>\n",
       "      <td>4.511594</td>\n",
       "      <td>0.020090</td>\n",
       "      <td>1438.845944</td>\n",
       "      <td>1.117673</td>\n",
       "    </tr>\n",
       "    <tr>\n",
       "      <th>6</th>\n",
       "      <td>July, 22 2021</td>\n",
       "      <td>2eecaf00-ba9f-432e-b144-bc1c90b29430</td>\n",
       "      <td>Slayer</td>\n",
       "      <td>Super Fiesta Party</td>\n",
       "      <td>Plaza</td>\n",
       "      <td>0.0</td>\n",
       "      <td>1.0</td>\n",
       "      <td>Player</td>\n",
       "      <td>Defeat</td>\n",
       "      <td>Blue</td>\n",
       "      <td>Bophodes</td>\n",
       "      <td>146</td>\n",
       "      <td>9757943</td>\n",
       "      <td>37954</td>\n",
       "      <td>4160</td>\n",
       "      <td>5.284578e+06</td>\n",
       "      <td>933293</td>\n",
       "      <td>343770</td>\n",
       "      <td>1414</td>\n",
       "      <td>1.557253e+05</td>\n",
       "      <td>247</td>\n",
       "      <td>116</td>\n",
       "      <td>17884.960927</td>\n",
       "      <td>104</td>\n",
       "      <td>24934.632016</td>\n",
       "      <td>2.671945e+05</td>\n",
       "      <td>26908</td>\n",
       "      <td>3.625981e+06</td>\n",
       "      <td>86</td>\n",
       "      <td>207.241522</td>\n",
       "      <td>35635</td>\n",
       "      <td>10059</td>\n",
       "      <td>3054</td>\n",
       "      <td>1459</td>\n",
       "      <td>1594</td>\n",
       "      <td>1</td>\n",
       "      <td>395.276087</td>\n",
       "      <td>1147</td>\n",
       "      <td>0.368341</td>\n",
       "      <td>0.080878</td>\n",
       "      <td>3.293713</td>\n",
       "      <td>11.668304</td>\n",
       "      <td>87.490018</td>\n",
       "      <td>0.375573</td>\n",
       "      <td>5.856241</td>\n",
       "      <td>0.037983</td>\n",
       "      <td>1.362148</td>\n",
       "      <td>1.065076</td>\n",
       "      <td>12.427636</td>\n",
       "      <td>50.990615</td>\n",
       "      <td>0.462999</td>\n",
       "      <td>1187.289099</td>\n",
       "      <td>0.028160</td>\n",
       "      <td>8.810740</td>\n",
       "      <td>0.067859</td>\n",
       "      <td>305.596922</td>\n",
       "      <td>112.563851</td>\n",
       "      <td>8.164582</td>\n",
       "      <td>0.034054</td>\n",
       "      <td>1730.379211</td>\n",
       "      <td>0.915307</td>\n",
       "    </tr>\n",
       "    <tr>\n",
       "      <th>7</th>\n",
       "      <td>July, 22 2021</td>\n",
       "      <td>2eecaf00-ba9f-432e-b144-bc1c90b29430</td>\n",
       "      <td>Slayer</td>\n",
       "      <td>Super Fiesta Party</td>\n",
       "      <td>Plaza</td>\n",
       "      <td>0.0</td>\n",
       "      <td>1.0</td>\n",
       "      <td>Player</td>\n",
       "      <td>Defeat</td>\n",
       "      <td>Blue</td>\n",
       "      <td>SixKnifeWalker</td>\n",
       "      <td>151</td>\n",
       "      <td>37537896</td>\n",
       "      <td>179664</td>\n",
       "      <td>39190</td>\n",
       "      <td>2.090831e+07</td>\n",
       "      <td>3873645</td>\n",
       "      <td>1382568</td>\n",
       "      <td>19799</td>\n",
       "      <td>2.461718e+06</td>\n",
       "      <td>4564</td>\n",
       "      <td>120</td>\n",
       "      <td>13565.930386</td>\n",
       "      <td>1237</td>\n",
       "      <td>200597.595609</td>\n",
       "      <td>1.936400e+06</td>\n",
       "      <td>64066</td>\n",
       "      <td>7.887582e+06</td>\n",
       "      <td>10649</td>\n",
       "      <td>457.078620</td>\n",
       "      <td>170388</td>\n",
       "      <td>58511</td>\n",
       "      <td>15017</td>\n",
       "      <td>7449</td>\n",
       "      <td>7558</td>\n",
       "      <td>10</td>\n",
       "      <td>2012.214723</td>\n",
       "      <td>16801</td>\n",
       "      <td>0.356917</td>\n",
       "      <td>0.303922</td>\n",
       "      <td>3.896318</td>\n",
       "      <td>11.346341</td>\n",
       "      <td>128.947171</td>\n",
       "      <td>1.118799</td>\n",
       "      <td>0.903372</td>\n",
       "      <td>0.007991</td>\n",
       "      <td>2.609709</td>\n",
       "      <td>1.054440</td>\n",
       "      <td>11.964041</td>\n",
       "      <td>163.928778</td>\n",
       "      <td>1.318439</td>\n",
       "      <td>525.243494</td>\n",
       "      <td>0.709130</td>\n",
       "      <td>4.266232</td>\n",
       "      <td>0.030437</td>\n",
       "      <td>257.950656</td>\n",
       "      <td>92.066858</td>\n",
       "      <td>13.358034</td>\n",
       "      <td>0.082373</td>\n",
       "      <td>1392.309428</td>\n",
       "      <td>0.985578</td>\n",
       "    </tr>\n",
       "  </tbody>\n",
       "</table>\n",
       "</div>"
      ],
      "text/plain": [
       "            Date                               MatchId GameBaseVariantId  \\\n",
       "0  July, 22 2021  2eecaf00-ba9f-432e-b144-bc1c90b29430            Slayer   \n",
       "1  July, 22 2021  2eecaf00-ba9f-432e-b144-bc1c90b29430            Slayer   \n",
       "2  July, 22 2021  2eecaf00-ba9f-432e-b144-bc1c90b29430            Slayer   \n",
       "3  July, 22 2021  2eecaf00-ba9f-432e-b144-bc1c90b29430            Slayer   \n",
       "4  July, 22 2021  2eecaf00-ba9f-432e-b144-bc1c90b29430            Slayer   \n",
       "5  July, 22 2021  2eecaf00-ba9f-432e-b144-bc1c90b29430            Slayer   \n",
       "6  July, 22 2021  2eecaf00-ba9f-432e-b144-bc1c90b29430            Slayer   \n",
       "7  July, 22 2021  2eecaf00-ba9f-432e-b144-bc1c90b29430            Slayer   \n",
       "\n",
       "           PlaylistId MapVariantId  DNF  TeamId PlayerTeam   Winner TeamColor  \\\n",
       "0  Super Fiesta Party        Plaza  0.0     0.0      Enemy  Victory       Red   \n",
       "1  Super Fiesta Party        Plaza  0.0     0.0      Enemy  Victory       Red   \n",
       "2  Super Fiesta Party        Plaza  0.0     0.0      Enemy  Victory       Red   \n",
       "3  Super Fiesta Party        Plaza  0.0     0.0      Enemy  Victory       Red   \n",
       "4  Super Fiesta Party        Plaza  0.0     1.0     Player   Defeat      Blue   \n",
       "5  Super Fiesta Party        Plaza  0.0     1.0     Player   Defeat      Blue   \n",
       "6  Super Fiesta Party        Plaza  0.0     1.0     Player   Defeat      Blue   \n",
       "7  Super Fiesta Party        Plaza  0.0     1.0     Player   Defeat      Blue   \n",
       "\n",
       "         Gamertag SpartanRank PrevTotalXP TotalKills TotalHeadshots  \\\n",
       "0    Dimension vv         138     6187181      18530           9433   \n",
       "1       Nefarious         144     7508121      22619           9779   \n",
       "2  SourStarfish28         143     6823910      19021           1565   \n",
       "3      Nottheeddu         150    27262125      15350           4305   \n",
       "4       Drymander         148    15539108      28622           2148   \n",
       "5  cryptolockerSD         151    47129356      53899           6851   \n",
       "6        Bophodes         146     9757943      37954           4160   \n",
       "7  SixKnifeWalker         151    37537896     179664          39190   \n",
       "\n",
       "   TotalWeaponDamage TotalShotsFired TotalShotsLanded TotalMeleeKills  \\\n",
       "0       1.828544e+06          265430           106770             981   \n",
       "1       2.341174e+06          301329           132159            1768   \n",
       "2       2.442232e+06          346960           132726             522   \n",
       "3       2.086481e+06          396248           136780            1021   \n",
       "4       3.804711e+06          752121           241046            1473   \n",
       "5       7.018691e+06         1244500           439444            4114   \n",
       "6       5.284578e+06          933293           343770            1414   \n",
       "7       2.090831e+07         3873645          1382568           19799   \n",
       "\n",
       "   TotalMeleeDamage TotalAssassinations TotalGroundPoundKills  \\\n",
       "0      1.655610e+05                 569                   106   \n",
       "1      1.827042e+05                 498                   183   \n",
       "2      5.683225e+04                  99                    12   \n",
       "3      1.581637e+05                 314                    60   \n",
       "4      1.607738e+05                 208                    35   \n",
       "5      4.847869e+05                 829                   184   \n",
       "6      1.557253e+05                 247                   116   \n",
       "7      2.461718e+06                4564                   120   \n",
       "\n",
       "   TotalGroundPoundDamage TotalShoulderBashKills  TotalShoulderBashDamage  \\\n",
       "0            12037.056124                    217             28556.529271   \n",
       "1            16618.659790                    347             26330.779343   \n",
       "2             2313.328398                     71             10473.208076   \n",
       "3            10741.944481                     84             16998.106466   \n",
       "4             5230.651564                    100             19095.688572   \n",
       "5            36020.682724                     98             22007.556794   \n",
       "6            17884.960927                    104             24934.632016   \n",
       "7            13565.930386                   1237            200597.595609   \n",
       "\n",
       "   TotalGrenadeDamage TotalPowerWeaponKills  TotalPowerWeaponDamage  \\\n",
       "0        8.783789e+04                  6366            7.964073e+05   \n",
       "1        1.470351e+05                  8724            1.057324e+06   \n",
       "2        3.920214e+04                 16021            2.080327e+06   \n",
       "3        1.828776e+05                  7468            1.005274e+06   \n",
       "4        1.279060e+05                 23221            3.094004e+06   \n",
       "5        6.860665e+05                 33654            4.379956e+06   \n",
       "6        2.671945e+05                 26908            3.625981e+06   \n",
       "7        1.936400e+06                 64066            7.887582e+06   \n",
       "\n",
       "  TotalPowerWeaponGrabs  TotalPowerWeaponPossessionTime TotalDeaths  \\\n",
       "0                   457                       47.396104       18288   \n",
       "1                   520                       56.212851       20930   \n",
       "2                    16                      124.868726       18264   \n",
       "3                   124                       60.039112       14490   \n",
       "4                   140                      182.570881       27853   \n",
       "5                   691                      257.554571       49001   \n",
       "6                    86                      207.241522       35635   \n",
       "7                 10649                      457.078620      170388   \n",
       "\n",
       "  TotalAssists TotalGamesCompleted TotalGamesWon TotalGamesLost  \\\n",
       "0         4075                1548           723            825   \n",
       "1         4852                1726           803            923   \n",
       "2         3729                1483           730            752   \n",
       "3         4623                1367           655            711   \n",
       "4         5890                2510          1252           1258   \n",
       "5        15366                4878          2574           2303   \n",
       "6        10059                3054          1459           1594   \n",
       "7        58511               15017          7449           7558   \n",
       "\n",
       "  TotalGamesTied  TotalTimePlayed TotalGrenadeKills  Accuracy  \\\n",
       "0              0       177.430622               515  0.402253   \n",
       "1              0       195.564511               758  0.438587   \n",
       "2              1       193.553819               212  0.382540   \n",
       "3              1       164.625542               737  0.345188   \n",
       "4              0       297.931417               452  0.320488   \n",
       "5              1       560.084605              2748  0.353109   \n",
       "6              1       395.276087              1147  0.368341   \n",
       "7             10      2012.214723             16801  0.356917   \n",
       "\n",
       "   AssassinationsPerGame  AssistsPerGame  DeathsPerGame  GrenadeDamagePerGame  \\\n",
       "0               0.367571        2.632429      11.813953             56.742822   \n",
       "1               0.288528        2.811124      12.126304             85.188380   \n",
       "2               0.066757        2.514498      12.315577             26.434346   \n",
       "3               0.229700        3.381858      10.599854            133.780261   \n",
       "4               0.082869        2.346614      11.096813             50.958578   \n",
       "5               0.169947        3.150062      10.045305            140.645043   \n",
       "6               0.080878        3.293713      11.668304             87.490018   \n",
       "7               0.303922        3.896318      11.346341            128.947171   \n",
       "\n",
       "   GrenadeKillsPerGame  GroundPoundDamagePerGame  GroundPoundKillsPerGame  \\\n",
       "0             0.332687                  7.775876                 0.068475   \n",
       "1             0.439166                  9.628424                 0.106025   \n",
       "2             0.142953                  1.559898                 0.008092   \n",
       "3             0.539137                  7.858043                 0.043892   \n",
       "4             0.180080                  2.083925                 0.013944   \n",
       "5             0.563346                  7.384314                 0.037720   \n",
       "6             0.375573                  5.856241                 0.037983   \n",
       "7             1.118799                  0.903372                 0.007991   \n",
       "\n",
       "   HeadshotsPerGame       K/D  KillsPerGame  MeleeDamagePerGame  \\\n",
       "0          6.093669  1.013233     11.970284          106.951552   \n",
       "1          5.665701  1.080698     13.104867          105.854090   \n",
       "2          1.055293  1.041448     12.826028           38.322488   \n",
       "3          3.149232  1.059351     11.228969          115.701352   \n",
       "4          0.855777  1.027609     11.403187           64.053293   \n",
       "5          1.404469  1.099957     11.049405           99.382305   \n",
       "6          1.362148  1.065076     12.427636           50.990615   \n",
       "7          2.609709  1.054440     11.964041          163.928778   \n",
       "\n",
       "   MeleeKillsPerGame  PowerWeaponDamagePerGame  PowerWeaponGrabsPerGame  \\\n",
       "0           0.633721                514.475032                 0.295220   \n",
       "1           1.024334                612.586598                 0.301275   \n",
       "2           0.351989               1402.782982                 0.010789   \n",
       "3           0.746891                735.386701                 0.090710   \n",
       "4           0.586853               1232.670745                 0.055777   \n",
       "5           0.843378                897.899898                 0.141656   \n",
       "6           0.462999               1187.289099                 0.028160   \n",
       "7           1.318439                525.243494                 0.709130   \n",
       "\n",
       "   PowerWeaponKillsPerGame  PowerWeaponPossessionTimePerGame  \\\n",
       "0                 4.112403                          0.030618   \n",
       "1                 5.054461                          0.032568   \n",
       "2                10.803102                          0.084200   \n",
       "3                 5.463058                          0.043920   \n",
       "4                 9.251394                          0.072737   \n",
       "5                 6.899139                          0.052799   \n",
       "6                 8.810740                          0.067859   \n",
       "7                 4.266232                          0.030437   \n",
       "\n",
       "   ShotsFiredPerGame  ShotsLandedPerGame  ShoulderBashDamagePerGame  \\\n",
       "0         171.466408           68.972868                  18.447370   \n",
       "1         174.582271           76.569525                  15.255376   \n",
       "2         233.958193           89.498314                   7.062177   \n",
       "3         289.866862          100.058522                  12.434606   \n",
       "4         299.649801           96.034263                   7.607844   \n",
       "5         255.125051           90.086921                   4.511594   \n",
       "6         305.596922          112.563851                   8.164582   \n",
       "7         257.950656           92.066858                  13.358034   \n",
       "\n",
       "   ShoulderBashKillsPerGame  WeaponDamagePerGame   WinRate  \n",
       "0                  0.140181          1181.230006  0.876364  \n",
       "1                  0.201043          1356.416079  0.869989  \n",
       "2                  0.047876          1646.818840  0.970745  \n",
       "3                  0.061448          1526.321137  0.921238  \n",
       "4                  0.039841          1515.821047  0.995231  \n",
       "5                  0.020090          1438.845944  1.117673  \n",
       "6                  0.034054          1730.379211  0.915307  \n",
       "7                  0.082373          1392.309428  0.985578  "
      ]
     },
     "execution_count": 154,
     "metadata": {},
     "output_type": "execute_result"
    }
   ],
   "source": [
    "df"
   ]
  },
  {
   "cell_type": "code",
   "execution_count": 155,
   "metadata": {
    "ExecuteTime": {
     "end_time": "2021-07-24T19:29:11.727248Z",
     "start_time": "2021-07-24T19:29:11.721255Z"
    }
   },
   "outputs": [
    {
     "name": "stdout",
     "output_type": "stream",
     "text": [
      "Showing stats for your match on July, 22 2021\n",
      "Game Mode - Slayer\n",
      "Playlist - Super Fiesta Party\n",
      "Map - Plaza\n"
     ]
    }
   ],
   "source": [
    "gamertag\n",
    "\n",
    "df_outcome = df.loc[df['Gamertag'] == gamertag]\n",
    "\n",
    "gamebasevariantid = df_outcome['GameBaseVariantId'].iloc[0]\n",
    "playlistid = df_outcome['PlaylistId'].iloc[0]\n",
    "map_name = df_outcome['MapVariantId'].iloc[0]\n",
    "if df_outcome['Winner'].iloc[0] == 'Victory':\n",
    "    print('Congrats on your victory!')\n",
    "    \n",
    "print(f\"Showing stats for your match on {df_outcome['Date'].iloc[0]}\")\n",
    "print(f'Game Mode - {gamebasevariantid}')\n",
    "print(f'Playlist - {playlistid}')\n",
    "print(f'Map - {map_name}')\n"
   ]
  },
  {
   "cell_type": "code",
   "execution_count": null,
   "metadata": {},
   "outputs": [],
   "source": [
    "Index(['Date', 'MatchId', 'GameBaseVariantId', 'PlaylistId', 'MapVariantId',\n",
    "       'DNF', 'TeamId', 'PlayerTeam', 'Winner', 'TeamColor', 'Gamertag',\n",
    "       '', '', '', '',\n",
    "       '', '', '',\n",
    "       '', '', '',\n",
    "       '', '',\n",
    "       '', '',\n",
    "       '', '', '',\n",
    "       '', '',\n",
    "       '', '', '', '',\n",
    "       '', '', '',\n",
    "       '', '', '',\n",
    "       '', '', '',\n",
    "       '', '',\n",
    "       '', '', '', '',\n",
    "       '', '', '',\n",
    "       '', '',\n",
    "       '', '',\n",
    "       '', '',\n",
    "       '', '', ''],"
   ]
  },
  {
   "cell_type": "code",
   "execution_count": null,
   "metadata": {},
   "outputs": [],
   "source": []
  },
  {
   "cell_type": "code",
   "execution_count": null,
   "metadata": {},
   "outputs": [],
   "source": []
  },
  {
   "cell_type": "code",
   "execution_count": null,
   "metadata": {},
   "outputs": [],
   "source": []
  },
  {
   "cell_type": "code",
   "execution_count": null,
   "metadata": {},
   "outputs": [],
   "source": []
  },
  {
   "cell_type": "code",
   "execution_count": null,
   "metadata": {},
   "outputs": [],
   "source": []
  },
  {
   "cell_type": "code",
   "execution_count": null,
   "metadata": {},
   "outputs": [],
   "source": []
  },
  {
   "cell_type": "code",
   "execution_count": null,
   "metadata": {},
   "outputs": [],
   "source": []
  },
  {
   "cell_type": "code",
   "execution_count": null,
   "metadata": {},
   "outputs": [],
   "source": []
  },
  {
   "cell_type": "code",
   "execution_count": null,
   "metadata": {},
   "outputs": [],
   "source": []
  },
  {
   "cell_type": "markdown",
   "metadata": {},
   "source": [
    "# Unused Code"
   ]
  },
  {
   "cell_type": "code",
   "execution_count": null,
   "metadata": {},
   "outputs": [],
   "source": [
    "# %%writefile compare_stat.py\n",
    "\n",
    "df = recent_match_stats('Drymander', 0)\n",
    "\n",
    "import plotly.graph_objects as go\n",
    "# from plotly.subplots import make_subplots\n",
    "from plotly.subplots import make_subplots\n",
    "def compare_stat(df, column_name):\n",
    "\n",
    "    # Separate player and enemy teams\n",
    "    df_player = df.loc[df['PlayerTeam'] == 'Player']\n",
    "    df_enemy = df.loc[df['PlayerTeam'] == 'Enemy']\n",
    "\n",
    "    # Sort total time played by descending\n",
    "    df_player = df_player.sort_values(by=[column_name])\n",
    "    df_enemy = df_enemy.sort_values(by=[column_name])\n",
    "\n",
    "    # Assign player / enemy colors\n",
    "    if df_player['TeamColor'].iloc[0] == 'Blue':\n",
    "        player_color = 'Blue'\n",
    "        enemy_color = 'Red'\n",
    "    else:\n",
    "        player_color = 'Red'\n",
    "        enemy_color = 'Blue'\n",
    "    \n",
    "    # Make subplot and X axis range\n",
    "    fig = make_subplots(rows=2, cols=1, subplot_titles=['Player Team', 'Enemy Team'])\n",
    "    x_range = df[column_name].max()\n",
    "    \n",
    "    # Text\n",
    "    if type(df[column_name].iloc[0]) == int:\n",
    "        player_text = df_player[column_name],\n",
    "        enemy_text = df_enemy[column_name],\n",
    "    else:\n",
    "        player_text = df_player[column_name].round(2),\n",
    "        enemy_text = df_enemy[column_name].round(2),\n",
    "    # Player team sub plot\n",
    "    fig.add_trace(go.Bar(\n",
    "                x=df_player[column_name],\n",
    "                y=df_player['Gamertag'],\n",
    "                orientation='h',\n",
    "                text=player_text,\n",
    "                textposition='auto',\n",
    "                marker_color=player_color),\n",
    "                    row=1, col=1)\n",
    "    fig.update_xaxes(range=[0, x_range], row=1, col=1)\n",
    "    \n",
    "    # Enemy team sub plot\n",
    "    fig.add_trace(go.Bar(\n",
    "                x=df_enemy[column_name],\n",
    "                y=df_enemy['Gamertag'],\n",
    "                orientation='h',\n",
    "                text=enemy_text,\n",
    "                textposition='auto',\n",
    "                marker_color=enemy_color),\n",
    "                    row=2, col=1)\n",
    "    fig.update_xaxes(range=[0, x_range], row=2, col=1)\n",
    "    fig.update_layout(title_text='test')\n",
    "    return fig\n",
    "\n",
    "compare_stat(df, 'TotalHeadshots')"
   ]
  },
  {
   "cell_type": "markdown",
   "metadata": {},
   "source": [
    "## Build history dataframe before removing streamlit"
   ]
  },
  {
   "cell_type": "code",
   "execution_count": null,
   "metadata": {},
   "outputs": [],
   "source": [
    "# %%writefile 'build_history_dataframe.py'\n",
    "\n",
    "# Function to build secondary dataframe with more informative player stats\n",
    "def build_history_dataframe(player_history, variant_id, streamlit=False):\n",
    "    \n",
    "    # Option to view 'streamlit' dataframe, which includes pertinent\n",
    "    # information but excludes all stats for modeling\n",
    "    if streamlit == True:\n",
    "        vdf_columns = ['Gamertag','TotalTimePlayed','K/D','Accuracy','WinRate']\n",
    "        vdf = pd.DataFrame(columns = vdf_columns)\n",
    "    else:\n",
    "        stat_list = ['Gamertag', 'TotalKills', 'TotalHeadshots', 'TotalWeaponDamage', 'TotalShotsFired',\n",
    "                    'TotalShotsLanded', 'TotalMeleeKills', 'TotalMeleeDamage', 'TotalAssassinations',\n",
    "                    'TotalGroundPoundKills', 'TotalGroundPoundDamage', 'TotalShoulderBashKills',\n",
    "                    'TotalShoulderBashDamage', 'TotalGrenadeDamage', 'TotalPowerWeaponKills',\n",
    "                    'TotalPowerWeaponDamage', 'TotalPowerWeaponGrabs', 'TotalPowerWeaponPossessionTime',\n",
    "                    'TotalDeaths', 'TotalAssists', 'TotalGamesCompleted', 'TotalGamesWon',\n",
    "                    'TotalGamesLost', 'TotalGamesTied', 'TotalTimePlayed','TotalGrenadeKills']\n",
    "        vdf = pd.DataFrame(columns = stat_list)\n",
    "    \n",
    "    # Set coutner variable\n",
    "    i = 0\n",
    "    # Loop the goes through each player in the player history JSON\n",
    "    for player in player_history['Results']:\n",
    "        \n",
    "        # Loop that goes through each Arena Game Base Variant and locates\n",
    "        # the details specific to the game vase variant of the match\n",
    "        for variant in player['Result']['ArenaStats']['ArenaGameBaseVariantStats']:\n",
    "            if variant['GameBaseVariantId'] == variant_id:\n",
    "                variant_stats = variant\n",
    "        \n",
    "        # Create empty dictionary where stats will be added\n",
    "        variant_dic = {}\n",
    "        \n",
    "        # Streamlit option - calculates specifc features\n",
    "        if streamlit == True:\n",
    "            variant_dic['Gamertag'] = player_history['Results'][i]['Id']\n",
    "            variant_dic['TotalTimePlayed']= isodate.parse_duration(variant_stats['TotalTimePlayed']).total_seconds() / 3600\n",
    "            variant_dic['K/D'] = variant_stats['TotalKills'] / variant_stats['TotalDeaths']\n",
    "            variant_dic['Accuracy'] = variant_stats['TotalShotsLanded'] / variant_stats['TotalShotsFired']\n",
    "            variant_dic['WinRate'] = variant_stats['TotalGamesWon'] / variant_stats['TotalGamesLost']\n",
    "            vdf = vdf.append(variant_dic, True)\n",
    "            i += 1\n",
    "        \n",
    "        # Modeling option - includes all features but does not yet calculate\n",
    "        else:\n",
    "            variant_dic['Gamertag'] = player_history['Results'][i]['Id']\n",
    "            \n",
    "            # Loop that appends all stats to variant dic\n",
    "            for stat in stat_list[1:]:    \n",
    "                variant_dic[stat] = variant_stats[stat]\n",
    "            \n",
    "            # Parsing ISO duration times\n",
    "            variant_dic['TotalTimePlayed']= isodate.parse_duration(variant_stats['TotalTimePlayed']).total_seconds() / 3600\n",
    "            vdf = vdf.append(variant_dic, True)\n",
    "            i += 1\n",
    "    \n",
    "    # Return the streamlit or modeling dataframe\n",
    "    return vdf\n",
    "    \n",
    "# build_history_dataframe(player_history, '1571fdac-e0b4-4ebc-a73a-6e13001b71d3', streamlit=False)"
   ]
  }
 ],
 "metadata": {
  "kernelspec": {
   "display_name": "learn-env",
   "language": "python",
   "name": "learn-env"
  },
  "language_info": {
   "codemirror_mode": {
    "name": "ipython",
    "version": 3
   },
   "file_extension": ".py",
   "mimetype": "text/x-python",
   "name": "python",
   "nbconvert_exporter": "python",
   "pygments_lexer": "ipython3",
   "version": "3.8.5"
  },
  "toc": {
   "base_numbering": 1,
   "nav_menu": {},
   "number_sections": true,
   "sideBar": true,
   "skip_h1_title": false,
   "title_cell": "Table of Contents",
   "title_sidebar": "Contents",
   "toc_cell": false,
   "toc_position": {
    "height": "calc(100% - 180px)",
    "left": "10px",
    "top": "150px",
    "width": "235.825px"
   },
   "toc_section_display": true,
   "toc_window_display": true
  }
 },
 "nbformat": 4,
 "nbformat_minor": 4
}
