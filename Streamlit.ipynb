{
 "cells": [
  {
   "cell_type": "markdown",
   "metadata": {},
   "source": [
    "# Imports"
   ]
  },
  {
   "cell_type": "code",
   "execution_count": 58,
   "metadata": {
    "ExecuteTime": {
     "end_time": "2021-07-23T19:51:59.358702Z",
     "start_time": "2021-07-23T19:51:59.350699Z"
    }
   },
   "outputs": [],
   "source": [
    "#Standard Packages\n",
    "import pandas as pd\n",
    "pd.set_option('display.max_columns', None)\n",
    "import matplotlib.pyplot as plt\n",
    "%matplotlib inline\n",
    "import seaborn as sns\n",
    "import numpy as np\n",
    "import pickle\n",
    "import warnings\n",
    "warnings.filterwarnings(action='ignore') \n",
    "\n",
    "# Packages used for API calls and data processing\n",
    "import requests\n",
    "import json\n",
    "def get_keys(path):\n",
    "    with open(path) as f:\n",
    "        return json.load(f)\n",
    "import ast\n",
    "import time\n",
    "import http.client, urllib.request, urllib.parse, urllib.error, base64\n",
    "api_key = 'ceeaacb7cf024c7485e00ef8457e42dc'\n",
    "gamertag = 'Drymander'\n",
    "from tqdm import tqdm\n",
    "# !pip install isodate\n",
    "import isodate\n",
    "import streamlit as st"
   ]
  },
  {
   "cell_type": "code",
   "execution_count": 59,
   "metadata": {
    "ExecuteTime": {
     "end_time": "2021-07-23T19:51:59.371704Z",
     "start_time": "2021-07-23T19:51:59.359702Z"
    }
   },
   "outputs": [],
   "source": [
    "# Preprocessing tools\n",
    "from sklearn.model_selection import train_test_split,cross_val_predict,cross_validate\n",
    "from sklearn.preprocessing import MinMaxScaler,StandardScaler,OneHotEncoder\n",
    "scaler = StandardScaler()\n",
    "from sklearn import metrics\n",
    "\n",
    "# Models & Utilities\n",
    "from sklearn.dummy import DummyClassifier\n",
    "from sklearn.linear_model import LogisticRegression,LogisticRegressionCV\n",
    "from sklearn.neighbors import KNeighborsClassifier\n",
    "from sklearn.ensemble import RandomForestClassifier\n",
    "from sklearn.model_selection import train_test_split\n",
    "from sklearn.linear_model import LogisticRegression\n",
    "from sklearn.metrics import classification_report\n",
    "from sklearn.model_selection import cross_val_score\n",
    "from xgboost import XGBClassifier\n",
    "from sklearn.model_selection import GridSearchCV\n",
    "from sklearn.metrics import plot_confusion_matrix\n",
    "from sklearn.metrics import accuracy_score, confusion_matrix, classification_report, precision_score, recall_score, f1_score\n",
    "from sklearn import svm\n",
    "from sklearn.preprocessing import MinMaxScaler\n",
    "from sklearn.preprocessing import minmax_scale\n",
    "from sklearn.preprocessing import MaxAbsScaler\n",
    "from sklearn.preprocessing import StandardScaler\n",
    "from sklearn.preprocessing import RobustScaler\n",
    "from sklearn.preprocessing import Normalizer\n",
    "from sklearn.preprocessing import QuantileTransformer\n",
    "from sklearn.preprocessing import PowerTransformer\n",
    "from sklearn.preprocessing import OneHotEncoder\n"
   ]
  },
  {
   "cell_type": "markdown",
   "metadata": {},
   "source": [
    "# Streamlit Function Save"
   ]
  },
  {
   "cell_type": "code",
   "execution_count": 60,
   "metadata": {
    "ExecuteTime": {
     "end_time": "2021-07-23T19:51:59.383707Z",
     "start_time": "2021-07-23T19:51:59.373708Z"
    }
   },
   "outputs": [],
   "source": [
    "streamlit_function_save = True"
   ]
  },
  {
   "cell_type": "markdown",
   "metadata": {},
   "source": [
    "# Functions"
   ]
  },
  {
   "cell_type": "markdown",
   "metadata": {},
   "source": [
    "## Gamertag for API"
   ]
  },
  {
   "cell_type": "code",
   "execution_count": 83,
   "metadata": {
    "ExecuteTime": {
     "end_time": "2021-07-23T20:41:11.682949Z",
     "start_time": "2021-07-23T20:41:11.678957Z"
    }
   },
   "outputs": [
    {
     "name": "stdout",
     "output_type": "stream",
     "text": [
      "Overwriting gamertag_for_api.py\n"
     ]
    }
   ],
   "source": [
    "# %%writefile 'gamertag_for_api.py'\n",
    "\n",
    "# Prepare gamertag for API\n",
    "def gamertag_for_api(gamertag):\n",
    "    \n",
    "    # Replace spaces with '+'\n",
    "    gamertag = gamertag.replace(' ','+')\n",
    "    return gamertag\n",
    "\n",
    "# Testing the function\n",
    "# gamertag_for_api('this is a test')"
   ]
  },
  {
   "cell_type": "markdown",
   "metadata": {},
   "source": [
    "## Pull Recent Match"
   ]
  },
  {
   "cell_type": "code",
   "execution_count": 82,
   "metadata": {
    "ExecuteTime": {
     "end_time": "2021-07-23T20:28:01.587571Z",
     "start_time": "2021-07-23T20:28:01.582570Z"
    }
   },
   "outputs": [
    {
     "name": "stdout",
     "output_type": "stream",
     "text": [
      "Overwriting pull_recent_match.py\n"
     ]
    }
   ],
   "source": [
    "# %%writefile 'pull_recent_match.py'\n",
    "api_key = 'ceeaacb7cf024c7485e00ef8457e42dc'\n",
    "# Function to pull most recent match stats into JSON format\n",
    "# Uses two separate API calls, one from player history and another from match details\n",
    "def pull_recent_match(how_recent, api_key=api_key, explore=False, gamertag='Drymander'):\n",
    "    \n",
    "    # Use gamertag_for_api function to remove any spaces\n",
    "    gamertag = gamertag_for_api(gamertag)\n",
    "    headers = {\n",
    "        # Request headers\n",
    "        'Ocp-Apim-Subscription-Key': api_key,\n",
    "    }\n",
    "    # Pulls from arena mode, how_recent is how far to go back in the match history\n",
    "    # 'count' refers to the number of matches to pull\n",
    "    params = urllib.parse.urlencode({\n",
    "        # Request parameters\n",
    "        'modes': 'arena',\n",
    "        'start': how_recent,\n",
    "        'count': 1,\n",
    "        'include-times': True,\n",
    "    })\n",
    "    \n",
    "    # Try this, otherwise return error message\n",
    "    try:\n",
    "        \n",
    "        # Connect to API and pull most recent match for specified gamer\n",
    "        conn = http.client.HTTPSConnection('www.haloapi.com')\n",
    "        conn.request(\"GET\", f\"/stats/h5/players/{gamertag}/matches?%s\" % params, \"{body}\", headers)\n",
    "        response = conn.getresponse()\n",
    "        latest_match = json.loads(response.read())\n",
    "        \n",
    "        # Identify match ID and match date\n",
    "        match_id = latest_match['Results'][0]['Id']['MatchId']\n",
    "        match_date = latest_match['Results'][0]['MatchCompletedDate']['ISO8601Date']\n",
    "        \n",
    "        # Rest for 1.01 seconds to not get blocked by API\n",
    "        time.sleep(1.01)\n",
    "        \n",
    "        # Using match_id, pull details from match\n",
    "        conn.request(\"GET\", f\"/stats/h5/arena/matches/{match_id}?%s\" % params, \"{body}\", headers)\n",
    "        response = conn.getresponse()\n",
    "        data = response.read()\n",
    "        \n",
    "        # Option to return as byte string for alternative viewing\n",
    "        if explore == True:\n",
    "            print(data)\n",
    "        else:\n",
    "            # Append match ID and date from player history API call\n",
    "            match_results = json.loads(data)\n",
    "            match_results['MatchId'] = match_id\n",
    "            match_results['Date'] = match_date\n",
    "        conn.close()\n",
    "    \n",
    "    # Print error if issue with calling API\n",
    "    except Exception as e:\n",
    "        print(f\"[Errno {0}] {1}\".format(e.errno, e.strerror))\n",
    "    \n",
    "    # Return match results as JSON\n",
    "    return match_results\n",
    "\n",
    "# Show result\n",
    "# match_results = pull_recent_match(0, explore=False, gamertag='Drymander')\n",
    "# match_results"
   ]
  },
  {
   "cell_type": "markdown",
   "metadata": {},
   "source": [
    "## Build Base Dataframe"
   ]
  },
  {
   "cell_type": "code",
   "execution_count": 63,
   "metadata": {
    "ExecuteTime": {
     "end_time": "2021-07-23T19:51:59.429719Z",
     "start_time": "2021-07-23T19:51:59.409713Z"
    }
   },
   "outputs": [
    {
     "name": "stdout",
     "output_type": "stream",
     "text": [
      "Writing build_base_dataframe.py\n"
     ]
    }
   ],
   "source": [
    "# %%writefile 'build_base_dataframe.py'\n",
    "\n",
    "# Function to build the base dataframe for a single match\n",
    "# Designed to take in the JSON provided by the pull_recent_match function\n",
    "def build_base_dataframe(match_results, gamertag):\n",
    "    \n",
    "    # Build empty base match dataframe\n",
    "    df = pd.DataFrame()\n",
    "    columns = [\n",
    "        'Finished'\n",
    "        'TeamId',\n",
    "        'Gamertag',\n",
    "        'SpartanRank',\n",
    "        'PrevTotalXP',\n",
    "    ]\n",
    "    df = pd.DataFrame(columns = columns)\n",
    "    \n",
    "    # Populate base match dataframe with player stats for each player\n",
    "    i = 0\n",
    "    for player in match_results['PlayerStats']:\n",
    "\n",
    "        player_dic = {}\n",
    "        # Team ID\n",
    "        player_dic['DNF'] = match_results['PlayerStats'][i]['DNF']\n",
    "        player_dic['TeamId'] = match_results['PlayerStats'][i]['TeamId']\n",
    "        # Team Color\n",
    "        player_dic['TeamColor'] = match_results['PlayerStats'][i]['TeamId']\n",
    "        # Gamer Tag\n",
    "        player_dic['Gamertag'] = match_results['PlayerStats'][i]['Player']['Gamertag']\n",
    "        # Spartan Rank\n",
    "        player_dic['SpartanRank'] = match_results['PlayerStats'][i]['XpInfo']['SpartanRank']\n",
    "        # Previous Total XP\n",
    "        player_dic['PrevTotalXP'] = match_results['PlayerStats'][i]['XpInfo']['PrevTotalXP']\n",
    "        df = df.append(player_dic, ignore_index=True)\n",
    "        i += 1\n",
    "    \n",
    "    ########## DATE, GAME VARIANT, MAP ID, MATCH ID, PLAYLIST ID ##########\n",
    "    df['Date'] = match_results['Date']\n",
    "    df['Date'] = pd.to_datetime(df['Date']).dt.tz_convert(None)\n",
    "#     df['Date'] = df['Date'].floor('T')\n",
    "    df['MatchId'] = match_results['MatchId']\n",
    "    df['GameBaseVariantId'] = match_results['GameBaseVariantId']\n",
    "    df['MapVariantId'] = match_results['MapVariantId']\n",
    "    df['PlaylistId'] = match_results['PlaylistId']\n",
    "    \n",
    "    ########## DEFINE PLAYER TEAM ##########\n",
    "    playerteam = df.loc[df['Gamertag'] == gamertag, 'TeamId'].values[0]\n",
    "    if playerteam == 0:\n",
    "        enemyteam = 1   \n",
    "    else:\n",
    "        enemyteam = 0\n",
    "        \n",
    "    df['PlayerTeam'] = df['TeamId'].map({playerteam:'Player', enemyteam:'Enemy'})\n",
    "    \n",
    "    if match_results['TeamStats'][0]['TeamId'] == playerteam:\n",
    "        playerteam_stats = match_results['TeamStats'][0]\n",
    "        enemyteam_stats = match_results['TeamStats'][1]\n",
    "    else: \n",
    "        playerteam_stats = match_results['TeamStats'][1]\n",
    "        enemyteam_stats = match_results['TeamStats'][0]\n",
    "    \n",
    "    ########## DETERMINE WINNER ##########\n",
    "    # Tie\n",
    "    if playerteam_stats['Rank'] == 1 and enemyteam_stats['Rank'] == 1:\n",
    "        df['Winner'] = 'Tie'\n",
    "    # Player wins\n",
    "    elif playerteam_stats['Rank'] == 1 and enemyteam_stats['Rank'] == 2:\n",
    "        df['Winner'] = df['TeamId'].map({playerteam:'Victory', enemyteam:'Defeat'})\n",
    "    # Enemy wins\n",
    "    elif playerteam_stats['Rank'] == 2 and enemyteam_stats['Rank'] == 1:\n",
    "        df['Winner'] = df['TeamId'].map({enemyteam:'Victory', playerteam:'Defeat'})\n",
    "    # Error handling\n",
    "    else:\n",
    "        winner = 'Error determining winner'\n",
    "    \n",
    "    ########## TEAM COLOR ##########\n",
    "    df['TeamColor'] = df['TeamId'].map({0:'Red', 1:'Blue'})\n",
    "    \n",
    "    # Set columns\n",
    "    df = df[['Date', 'MatchId', 'GameBaseVariantId', 'PlaylistId', 'MapVariantId', 'DNF',\n",
    "             'TeamId', 'PlayerTeam', 'Winner', 'TeamColor', \n",
    "             'Gamertag', 'SpartanRank', 'PrevTotalXP',\n",
    "            ]]\n",
    "    # Sort match by winning team\n",
    "    df = df.sort_values(by=['Winner'], ascending=False)\n",
    "    \n",
    "    return df\n",
    "\n",
    "# df = build_base_dataframe(pull_recent_match(8), 'Drymander')\n",
    "\n",
    "# df"
   ]
  },
  {
   "cell_type": "markdown",
   "metadata": {},
   "source": [
    "## Get Player List"
   ]
  },
  {
   "cell_type": "code",
   "execution_count": 64,
   "metadata": {
    "ExecuteTime": {
     "end_time": "2021-07-23T19:51:59.450722Z",
     "start_time": "2021-07-23T19:51:59.431718Z"
    }
   },
   "outputs": [
    {
     "name": "stdout",
     "output_type": "stream",
     "text": [
      "Writing get_player_list.py\n"
     ]
    }
   ],
   "source": [
    "# %%writefile 'get_player_list.py'\n",
    "\n",
    "# Function to combine all gamertags from the match and prepare them in string\n",
    "# format for the next API call\n",
    "def get_player_list(df):\n",
    "    \n",
    "    # Create list from our df['Gamertag'] column and remove the brackets\n",
    "    player_list = str(list(df['Gamertag']))[1:-1]\n",
    "    \n",
    "    # Format string for API\n",
    "    player_list = player_list.replace(', ',',')\n",
    "    player_list = player_list.replace(\"'\",'')\n",
    "    player_list = player_list.replace(' ','+')\n",
    "    \n",
    "    # Return in one full string\n",
    "    return player_list\n",
    "\n",
    "# get_player_list(df)"
   ]
  },
  {
   "cell_type": "markdown",
   "metadata": {},
   "source": [
    "## Get Player History"
   ]
  },
  {
   "cell_type": "code",
   "execution_count": 65,
   "metadata": {
    "ExecuteTime": {
     "end_time": "2021-07-23T19:51:59.472729Z",
     "start_time": "2021-07-23T19:51:59.452723Z"
    }
   },
   "outputs": [
    {
     "name": "stdout",
     "output_type": "stream",
     "text": [
      "Writing get_player_history.py\n"
     ]
    }
   ],
   "source": [
    "# %%writefile 'get_player_history.py'\n",
    "\n",
    "# Function to pull more informative information about each player in the match\n",
    "# This information is not available in the two previous API calls\n",
    "def get_player_history(df, readable=False):\n",
    "    headers = {\n",
    "        # Request headers\n",
    "        'Ocp-Apim-Subscription-Key': str(api_key),\n",
    "    }\n",
    "    params = urllib.parse.urlencode({\n",
    "    })\n",
    "    # Use our function in the block above the prepare the gamertags for the API\n",
    "    player_list_api = get_player_list(df)\n",
    "    \n",
    "    # Try calling service records API using our player list\n",
    "    try:\n",
    "        conn = http.client.HTTPSConnection('www.haloapi.com')\n",
    "        conn.request(\"GET\", f\"/stats/h5/servicerecords/arena?players={player_list_api}&%s\" % params, \"{body}\", headers)\n",
    "        response = conn.getresponse()\n",
    "        data = response.read()\n",
    "        player_history = json.loads(data)\n",
    "        conn.close()\n",
    "    \n",
    "    # Return error if issue with API\n",
    "    except Exception as e:\n",
    "        print(f\"[Errno {0}] {1}\".format(e.errno, e.strerror))\n",
    "    \n",
    "    # Option to view in byte string readable format\n",
    "    if readable == False:\n",
    "        return player_history\n",
    "    else:\n",
    "        return data\n",
    "\n",
    "# Show result\n",
    "# player_history = get_player_history(df)\n",
    "# player_history"
   ]
  },
  {
   "cell_type": "markdown",
   "metadata": {},
   "source": [
    "## Build History Dataframe"
   ]
  },
  {
   "cell_type": "code",
   "execution_count": 90,
   "metadata": {
    "ExecuteTime": {
     "end_time": "2021-07-23T21:21:16.130190Z",
     "start_time": "2021-07-23T21:21:13.127019Z"
    }
   },
   "outputs": [
    {
     "data": {
      "text/plain": [
       "0     47.396104\n",
       "1     56.212851\n",
       "2    124.868726\n",
       "3     60.039112\n",
       "4    182.570881\n",
       "5    257.554571\n",
       "6    207.021915\n",
       "7    456.971454\n",
       "Name: TotalPowerWeaponPossessionTime, dtype: float64"
      ]
     },
     "execution_count": 90,
     "metadata": {},
     "output_type": "execute_result"
    }
   ],
   "source": [
    "# %%writefile 'build_history_dataframe.py'\n",
    "\n",
    "# Function to build secondary dataframe with more informative player stats\n",
    "def build_history_dataframe(player_history, variant_id, streamlit=False):\n",
    "    \n",
    "    # Option to view 'streamlit' dataframe, which includes pertinent\n",
    "    # information but excludes all stats for modeling\n",
    "    if streamlit == True:\n",
    "        vdf_columns = ['Gamertag','TotalTimePlayed','K/D','Accuracy','WinRate']\n",
    "        vdf = pd.DataFrame(columns = vdf_columns)\n",
    "    else:\n",
    "        stat_list = ['Gamertag', 'TotalKills', 'TotalHeadshots', 'TotalWeaponDamage', 'TotalShotsFired',\n",
    "                    'TotalShotsLanded', 'TotalMeleeKills', 'TotalMeleeDamage', 'TotalAssassinations',\n",
    "                    'TotalGroundPoundKills', 'TotalGroundPoundDamage', 'TotalShoulderBashKills',\n",
    "                    'TotalShoulderBashDamage', 'TotalGrenadeDamage', 'TotalPowerWeaponKills',\n",
    "                    'TotalPowerWeaponDamage', 'TotalPowerWeaponGrabs', 'TotalPowerWeaponPossessionTime',\n",
    "                    'TotalDeaths', 'TotalAssists', 'TotalGamesCompleted', 'TotalGamesWon',\n",
    "                    'TotalGamesLost', 'TotalGamesTied', 'TotalTimePlayed','TotalGrenadeKills']\n",
    "        vdf = pd.DataFrame(columns = stat_list)\n",
    "    \n",
    "    # Set coutner variable\n",
    "    i = 0\n",
    "    # Loop the goes through each player in the player history JSON\n",
    "    for player in player_history['Results']:\n",
    "        \n",
    "        # Loop that goes through each Arena Game Base Variant and locates\n",
    "        # the details specific to the game vase variant of the match\n",
    "        for variant in player['Result']['ArenaStats']['ArenaGameBaseVariantStats']:\n",
    "            if variant['GameBaseVariantId'] == variant_id:\n",
    "                variant_stats = variant\n",
    "        \n",
    "        # Create empty dictionary where stats will be added\n",
    "        variant_dic = {}\n",
    "        \n",
    "        # Streamlit option - calculates specifc features\n",
    "        if streamlit == True:\n",
    "            variant_dic['Gamertag'] = player_history['Results'][i]['Id']\n",
    "            variant_dic['TotalTimePlayed']= isodate.parse_duration(variant_stats['TotalTimePlayed']).total_seconds() / 3600\n",
    "            variant_dic['K/D'] = variant_stats['TotalKills'] / variant_stats['TotalDeaths']\n",
    "            variant_dic['Accuracy'] = variant_stats['TotalShotsLanded'] / variant_stats['TotalShotsFired']\n",
    "            variant_dic['WinRate'] = variant_stats['TotalGamesWon'] / variant_stats['TotalGamesLost']\n",
    "            vdf = vdf.append(variant_dic, True)\n",
    "            i += 1\n",
    "        \n",
    "        # Modeling option - includes all features but does not yet calculate\n",
    "        else:\n",
    "            variant_dic['Gamertag'] = player_history['Results'][i]['Id']\n",
    "            variant_dic['TotalTimePlayed']= isodate.parse_duration(variant_stats['TotalTimePlayed']).total_seconds() / 3600\n",
    "            variant_dic['K/D'] = variant_stats['TotalKills'] / variant_stats['TotalDeaths']\n",
    "            variant_dic['Accuracy'] = variant_stats['TotalShotsLanded'] / variant_stats['TotalShotsFired']\n",
    "            variant_dic['WinRate'] = variant_stats['TotalGamesWon'] / variant_stats['TotalGamesLost']\n",
    "            \n",
    "            # Loop that appends all stats to variant dic\n",
    "            for stat in stat_list[1:]:    \n",
    "                variant_dic[stat] = variant_stats[stat]\n",
    "            \n",
    "            # Parsing ISO duration times\n",
    "            variant_dic['TotalTimePlayed']= isodate.parse_duration(variant_stats['TotalTimePlayed']).total_seconds() / 3600\n",
    "            variant_dic['TotalPowerWeaponPossessionTime']= isodate.parse_duration(variant_stats['TotalPowerWeaponPossessionTime']).total_seconds() / 3600\n",
    "            vdf = vdf.append(variant_dic, True)\n",
    "            i += 1\n",
    "            \n",
    "            # Per game stats\n",
    "            \n",
    "    # Return the streamlit or modeling dataframe\n",
    "    return vdf\n",
    "    \n",
    "# build_history_dataframe(player_history, '1571fdac-e0b4-4ebc-a73a-6e13001b71d3', streamlit=False)\n",
    "df = recent_match_stats('Drymander', back_count=0)\n",
    "df['TotalPowerWeaponPossessionTime']"
   ]
  },
  {
   "cell_type": "code",
   "execution_count": 92,
   "metadata": {
    "ExecuteTime": {
     "end_time": "2021-07-23T21:22:06.550766Z",
     "start_time": "2021-07-23T21:22:06.543764Z"
    }
   },
   "outputs": [],
   "source": [
    "df.to_csv('making per game features.csv')"
   ]
  },
  {
   "cell_type": "markdown",
   "metadata": {},
   "source": [
    "## Decode Column"
   ]
  },
  {
   "cell_type": "code",
   "execution_count": 67,
   "metadata": {
    "ExecuteTime": {
     "end_time": "2021-07-23T19:51:59.504735Z",
     "start_time": "2021-07-23T19:51:59.495733Z"
    }
   },
   "outputs": [
    {
     "name": "stdout",
     "output_type": "stream",
     "text": [
      "Writing decode_column.py\n"
     ]
    }
   ],
   "source": [
    "# %%writefile 'decode_column.py'\n",
    "\n",
    "# This function will convert codes provided by the API into a readable format\n",
    "def decode_column(df, column, api_dict):\n",
    "    \n",
    "    # Empty list of decoded values\n",
    "    decoded_list = []\n",
    "    \n",
    "    # Loop through each row\n",
    "    for row in df[column]:\n",
    "        i = 0\n",
    "        \n",
    "        # Loop through API dictionary\n",
    "        for item in api_dict:\n",
    "            \n",
    "            # If code found, append it to list\n",
    "            if item['id'] == row:\n",
    "                name = item['name']\n",
    "                decoded_list.append(name)\n",
    "            \n",
    "            # Otherwise keep searching until found\n",
    "            else:\n",
    "                i += 1\n",
    "    \n",
    "    # Return decoded list\n",
    "    return decoded_list"
   ]
  },
  {
   "cell_type": "markdown",
   "metadata": {},
   "source": [
    "## Decode Maps"
   ]
  },
  {
   "cell_type": "code",
   "execution_count": 68,
   "metadata": {
    "ExecuteTime": {
     "end_time": "2021-07-23T19:51:59.518738Z",
     "start_time": "2021-07-23T19:51:59.505735Z"
    }
   },
   "outputs": [
    {
     "name": "stdout",
     "output_type": "stream",
     "text": [
      "Writing decode_maps.py\n"
     ]
    }
   ],
   "source": [
    "# %%writefile 'decode_maps.py'\n",
    "\n",
    "# This function will convert maps to readable format\n",
    "def decode_maps(df, column, api_dict):\n",
    "    decoded_list = []\n",
    "    \n",
    "    # Loop through each row\n",
    "    for row in df[column]:\n",
    "        i = 0\n",
    "        \n",
    "        # Creating map_count variable\n",
    "        map_count = len(api_dict)\n",
    "        \n",
    "        # For each item in API dictionary\n",
    "        for item in api_dict:\n",
    "            \n",
    "            # If map cannot be found, name 'Custom Map'\n",
    "            if (i+1) == map_count:\n",
    "                name = 'Custom Map'\n",
    "                decoded_list.append(name)\n",
    "            \n",
    "            # If found, assign value to code\n",
    "            elif item['id'] == row:\n",
    "                name = item['name']\n",
    "                decoded_list.append(name)\n",
    "            \n",
    "            # Otherwise keep looping\n",
    "            else:\n",
    "                i += 1\n",
    "    \n",
    "    # Return decoded list\n",
    "    return decoded_list"
   ]
  },
  {
   "cell_type": "markdown",
   "metadata": {},
   "source": [
    "## Load Pickle Files\n",
    "\n",
    "GameBaseVariantId, PlaylistId, and MapVariantId"
   ]
  },
  {
   "cell_type": "code",
   "execution_count": 69,
   "metadata": {
    "ExecuteTime": {
     "end_time": "2021-07-23T19:51:59.531741Z",
     "start_time": "2021-07-23T19:51:59.519738Z"
    }
   },
   "outputs": [],
   "source": [
    "# no write file here\n",
    "\n",
    "# Loading GameBaseVariantId metadata dictionary pulled from API\n",
    "with open('GameBaseVariantId.pkl', 'rb') as GameBaseVariantId_pickle:\n",
    "    GameBaseVariantId_dic = pickle.load(GameBaseVariantId_pickle)\n",
    "\n",
    "# Loading PlaylistId metadata dictionary pulled from API\n",
    "with open('PlaylistId_dic.pkl', 'rb') as PlaylistId_dic_pickle:\n",
    "    PlaylistId_dic = pickle.load(PlaylistId_dic_pickle)\n",
    "\n",
    "# Loading map_list metadata dictionary pulled from API\n",
    "with open('map_list.pkl', 'rb') as map_list_pickle:\n",
    "    map_list = pickle.load(map_list_pickle)\n",
    "\n",
    "# # Decode columsn with using our decode functions\n",
    "# df['GameBaseVariantId'] = decode_column(df, 'GameBaseVariantId', GameBaseVariantId_dic)    \n",
    "# df['PlaylistId'] = decode_column(df, 'PlaylistId', PlaylistId_dic)\n",
    "# df['MapVariantId'] = decode_maps(df, 'MapVariantId', map_list)\n",
    "\n",
    "# df[['GameBaseVariantId', 'PlaylistId', 'MapVariantId']].head(3)"
   ]
  },
  {
   "cell_type": "markdown",
   "metadata": {},
   "source": [
    "## Master Function - Recent Match Stats"
   ]
  },
  {
   "cell_type": "code",
   "execution_count": 86,
   "metadata": {
    "ExecuteTime": {
     "end_time": "2021-07-23T21:17:00.308761Z",
     "start_time": "2021-07-23T21:16:57.032810Z"
    }
   },
   "outputs": [
    {
     "data": {
      "text/html": [
       "<div>\n",
       "<style scoped>\n",
       "    .dataframe tbody tr th:only-of-type {\n",
       "        vertical-align: middle;\n",
       "    }\n",
       "\n",
       "    .dataframe tbody tr th {\n",
       "        vertical-align: top;\n",
       "    }\n",
       "\n",
       "    .dataframe thead th {\n",
       "        text-align: right;\n",
       "    }\n",
       "</style>\n",
       "<table border=\"1\" class=\"dataframe\">\n",
       "  <thead>\n",
       "    <tr style=\"text-align: right;\">\n",
       "      <th></th>\n",
       "      <th>Date</th>\n",
       "      <th>MatchId</th>\n",
       "      <th>GameBaseVariantId</th>\n",
       "      <th>PlaylistId</th>\n",
       "      <th>MapVariantId</th>\n",
       "      <th>DNF</th>\n",
       "      <th>TeamId</th>\n",
       "      <th>PlayerTeam</th>\n",
       "      <th>Winner</th>\n",
       "      <th>TeamColor</th>\n",
       "      <th>Gamertag</th>\n",
       "      <th>SpartanRank</th>\n",
       "      <th>PrevTotalXP</th>\n",
       "      <th>TotalKills</th>\n",
       "      <th>TotalHeadshots</th>\n",
       "      <th>TotalWeaponDamage</th>\n",
       "      <th>TotalShotsFired</th>\n",
       "      <th>TotalShotsLanded</th>\n",
       "      <th>TotalMeleeKills</th>\n",
       "      <th>TotalMeleeDamage</th>\n",
       "      <th>TotalAssassinations</th>\n",
       "      <th>TotalGroundPoundKills</th>\n",
       "      <th>TotalGroundPoundDamage</th>\n",
       "      <th>TotalShoulderBashKills</th>\n",
       "      <th>TotalShoulderBashDamage</th>\n",
       "      <th>TotalGrenadeDamage</th>\n",
       "      <th>TotalPowerWeaponKills</th>\n",
       "      <th>TotalPowerWeaponDamage</th>\n",
       "      <th>TotalPowerWeaponGrabs</th>\n",
       "      <th>TotalPowerWeaponPossessionTime</th>\n",
       "      <th>TotalDeaths</th>\n",
       "      <th>TotalAssists</th>\n",
       "      <th>TotalGamesCompleted</th>\n",
       "      <th>TotalGamesWon</th>\n",
       "      <th>TotalGamesLost</th>\n",
       "      <th>TotalGamesTied</th>\n",
       "      <th>TotalTimePlayed</th>\n",
       "      <th>TotalGrenadeKills</th>\n",
       "      <th>Accuracy</th>\n",
       "      <th>K/D</th>\n",
       "      <th>WinRate</th>\n",
       "    </tr>\n",
       "  </thead>\n",
       "  <tbody>\n",
       "    <tr>\n",
       "      <th>0</th>\n",
       "      <td>July, 22 2021</td>\n",
       "      <td>2eecaf00-ba9f-432e-b144-bc1c90b29430</td>\n",
       "      <td>Slayer</td>\n",
       "      <td>Super Fiesta Party</td>\n",
       "      <td>Plaza</td>\n",
       "      <td>0.0</td>\n",
       "      <td>0.0</td>\n",
       "      <td>Enemy</td>\n",
       "      <td>Victory</td>\n",
       "      <td>Red</td>\n",
       "      <td>Dimension vv</td>\n",
       "      <td>138</td>\n",
       "      <td>6187181</td>\n",
       "      <td>18530</td>\n",
       "      <td>9433</td>\n",
       "      <td>1.828544e+06</td>\n",
       "      <td>265430</td>\n",
       "      <td>106770</td>\n",
       "      <td>981</td>\n",
       "      <td>1.655610e+05</td>\n",
       "      <td>569</td>\n",
       "      <td>106</td>\n",
       "      <td>12037.056124</td>\n",
       "      <td>217</td>\n",
       "      <td>28556.529271</td>\n",
       "      <td>8.783789e+04</td>\n",
       "      <td>6366</td>\n",
       "      <td>7.964073e+05</td>\n",
       "      <td>457</td>\n",
       "      <td>P1DT23H23M45.9731S</td>\n",
       "      <td>18288</td>\n",
       "      <td>4075</td>\n",
       "      <td>1548</td>\n",
       "      <td>723</td>\n",
       "      <td>825</td>\n",
       "      <td>0</td>\n",
       "      <td>P7DT9H25M50.2405851S</td>\n",
       "      <td>515</td>\n",
       "      <td>0.402253</td>\n",
       "      <td>1.013233</td>\n",
       "      <td>0.876364</td>\n",
       "    </tr>\n",
       "    <tr>\n",
       "      <th>1</th>\n",
       "      <td>July, 22 2021</td>\n",
       "      <td>2eecaf00-ba9f-432e-b144-bc1c90b29430</td>\n",
       "      <td>Slayer</td>\n",
       "      <td>Super Fiesta Party</td>\n",
       "      <td>Plaza</td>\n",
       "      <td>0.0</td>\n",
       "      <td>0.0</td>\n",
       "      <td>Enemy</td>\n",
       "      <td>Victory</td>\n",
       "      <td>Red</td>\n",
       "      <td>Nefarious</td>\n",
       "      <td>144</td>\n",
       "      <td>7508121</td>\n",
       "      <td>22619</td>\n",
       "      <td>9779</td>\n",
       "      <td>2.341174e+06</td>\n",
       "      <td>301329</td>\n",
       "      <td>132159</td>\n",
       "      <td>1768</td>\n",
       "      <td>1.827042e+05</td>\n",
       "      <td>498</td>\n",
       "      <td>183</td>\n",
       "      <td>16618.659790</td>\n",
       "      <td>347</td>\n",
       "      <td>26330.779343</td>\n",
       "      <td>1.470351e+05</td>\n",
       "      <td>8724</td>\n",
       "      <td>1.057324e+06</td>\n",
       "      <td>520</td>\n",
       "      <td>P2DT8H12M46.2633S</td>\n",
       "      <td>20930</td>\n",
       "      <td>4852</td>\n",
       "      <td>1726</td>\n",
       "      <td>803</td>\n",
       "      <td>923</td>\n",
       "      <td>0</td>\n",
       "      <td>P8DT3H33M52.2408332S</td>\n",
       "      <td>758</td>\n",
       "      <td>0.438587</td>\n",
       "      <td>1.080698</td>\n",
       "      <td>0.869989</td>\n",
       "    </tr>\n",
       "    <tr>\n",
       "      <th>2</th>\n",
       "      <td>July, 22 2021</td>\n",
       "      <td>2eecaf00-ba9f-432e-b144-bc1c90b29430</td>\n",
       "      <td>Slayer</td>\n",
       "      <td>Super Fiesta Party</td>\n",
       "      <td>Plaza</td>\n",
       "      <td>0.0</td>\n",
       "      <td>0.0</td>\n",
       "      <td>Enemy</td>\n",
       "      <td>Victory</td>\n",
       "      <td>Red</td>\n",
       "      <td>SourStarfish28</td>\n",
       "      <td>143</td>\n",
       "      <td>6823910</td>\n",
       "      <td>19021</td>\n",
       "      <td>1565</td>\n",
       "      <td>2.442232e+06</td>\n",
       "      <td>346960</td>\n",
       "      <td>132726</td>\n",
       "      <td>522</td>\n",
       "      <td>5.683225e+04</td>\n",
       "      <td>99</td>\n",
       "      <td>12</td>\n",
       "      <td>2313.328398</td>\n",
       "      <td>71</td>\n",
       "      <td>10473.208076</td>\n",
       "      <td>3.920214e+04</td>\n",
       "      <td>16021</td>\n",
       "      <td>2.080327e+06</td>\n",
       "      <td>16</td>\n",
       "      <td>P5DT4H52M7.412S</td>\n",
       "      <td>18264</td>\n",
       "      <td>3729</td>\n",
       "      <td>1483</td>\n",
       "      <td>730</td>\n",
       "      <td>752</td>\n",
       "      <td>1</td>\n",
       "      <td>P8DT1H33M13.7500174S</td>\n",
       "      <td>212</td>\n",
       "      <td>0.382540</td>\n",
       "      <td>1.041448</td>\n",
       "      <td>0.970745</td>\n",
       "    </tr>\n",
       "    <tr>\n",
       "      <th>3</th>\n",
       "      <td>July, 22 2021</td>\n",
       "      <td>2eecaf00-ba9f-432e-b144-bc1c90b29430</td>\n",
       "      <td>Slayer</td>\n",
       "      <td>Super Fiesta Party</td>\n",
       "      <td>Plaza</td>\n",
       "      <td>0.0</td>\n",
       "      <td>0.0</td>\n",
       "      <td>Enemy</td>\n",
       "      <td>Victory</td>\n",
       "      <td>Red</td>\n",
       "      <td>Nottheeddu</td>\n",
       "      <td>150</td>\n",
       "      <td>27262125</td>\n",
       "      <td>15350</td>\n",
       "      <td>4305</td>\n",
       "      <td>2.086481e+06</td>\n",
       "      <td>396248</td>\n",
       "      <td>136780</td>\n",
       "      <td>1021</td>\n",
       "      <td>1.581637e+05</td>\n",
       "      <td>314</td>\n",
       "      <td>60</td>\n",
       "      <td>10741.944481</td>\n",
       "      <td>84</td>\n",
       "      <td>16998.106466</td>\n",
       "      <td>1.828776e+05</td>\n",
       "      <td>7468</td>\n",
       "      <td>1.005274e+06</td>\n",
       "      <td>124</td>\n",
       "      <td>P2DT12H2M20.8034S</td>\n",
       "      <td>14490</td>\n",
       "      <td>4623</td>\n",
       "      <td>1367</td>\n",
       "      <td>655</td>\n",
       "      <td>711</td>\n",
       "      <td>1</td>\n",
       "      <td>P6DT20H37M31.9519983S</td>\n",
       "      <td>737</td>\n",
       "      <td>0.345188</td>\n",
       "      <td>1.059351</td>\n",
       "      <td>0.921238</td>\n",
       "    </tr>\n",
       "    <tr>\n",
       "      <th>4</th>\n",
       "      <td>July, 22 2021</td>\n",
       "      <td>2eecaf00-ba9f-432e-b144-bc1c90b29430</td>\n",
       "      <td>Slayer</td>\n",
       "      <td>Super Fiesta Party</td>\n",
       "      <td>Plaza</td>\n",
       "      <td>0.0</td>\n",
       "      <td>1.0</td>\n",
       "      <td>Player</td>\n",
       "      <td>Defeat</td>\n",
       "      <td>Blue</td>\n",
       "      <td>Drymander</td>\n",
       "      <td>148</td>\n",
       "      <td>15539108</td>\n",
       "      <td>28622</td>\n",
       "      <td>2148</td>\n",
       "      <td>3.804711e+06</td>\n",
       "      <td>752121</td>\n",
       "      <td>241046</td>\n",
       "      <td>1473</td>\n",
       "      <td>1.607738e+05</td>\n",
       "      <td>208</td>\n",
       "      <td>35</td>\n",
       "      <td>5230.651564</td>\n",
       "      <td>100</td>\n",
       "      <td>19095.688572</td>\n",
       "      <td>1.279060e+05</td>\n",
       "      <td>23221</td>\n",
       "      <td>3.094004e+06</td>\n",
       "      <td>140</td>\n",
       "      <td>P7DT14H34M15.173S</td>\n",
       "      <td>27853</td>\n",
       "      <td>5890</td>\n",
       "      <td>2510</td>\n",
       "      <td>1252</td>\n",
       "      <td>1258</td>\n",
       "      <td>0</td>\n",
       "      <td>P12DT9H55M53.1015715S</td>\n",
       "      <td>452</td>\n",
       "      <td>0.320488</td>\n",
       "      <td>1.027609</td>\n",
       "      <td>0.995231</td>\n",
       "    </tr>\n",
       "    <tr>\n",
       "      <th>5</th>\n",
       "      <td>July, 22 2021</td>\n",
       "      <td>2eecaf00-ba9f-432e-b144-bc1c90b29430</td>\n",
       "      <td>Slayer</td>\n",
       "      <td>Super Fiesta Party</td>\n",
       "      <td>Plaza</td>\n",
       "      <td>0.0</td>\n",
       "      <td>1.0</td>\n",
       "      <td>Player</td>\n",
       "      <td>Defeat</td>\n",
       "      <td>Blue</td>\n",
       "      <td>cryptolockerSD</td>\n",
       "      <td>151</td>\n",
       "      <td>47129356</td>\n",
       "      <td>53899</td>\n",
       "      <td>6851</td>\n",
       "      <td>7.018691e+06</td>\n",
       "      <td>1244500</td>\n",
       "      <td>439444</td>\n",
       "      <td>4114</td>\n",
       "      <td>4.847869e+05</td>\n",
       "      <td>829</td>\n",
       "      <td>184</td>\n",
       "      <td>36020.682724</td>\n",
       "      <td>98</td>\n",
       "      <td>22007.556794</td>\n",
       "      <td>6.860665e+05</td>\n",
       "      <td>33654</td>\n",
       "      <td>4.379956e+06</td>\n",
       "      <td>691</td>\n",
       "      <td>P10DT17H33M16.4553S</td>\n",
       "      <td>49001</td>\n",
       "      <td>15366</td>\n",
       "      <td>4878</td>\n",
       "      <td>2574</td>\n",
       "      <td>2303</td>\n",
       "      <td>1</td>\n",
       "      <td>P23DT8H5M4.5791292S</td>\n",
       "      <td>2748</td>\n",
       "      <td>0.353109</td>\n",
       "      <td>1.099957</td>\n",
       "      <td>1.117673</td>\n",
       "    </tr>\n",
       "    <tr>\n",
       "      <th>6</th>\n",
       "      <td>July, 22 2021</td>\n",
       "      <td>2eecaf00-ba9f-432e-b144-bc1c90b29430</td>\n",
       "      <td>Slayer</td>\n",
       "      <td>Super Fiesta Party</td>\n",
       "      <td>Plaza</td>\n",
       "      <td>0.0</td>\n",
       "      <td>1.0</td>\n",
       "      <td>Player</td>\n",
       "      <td>Defeat</td>\n",
       "      <td>Blue</td>\n",
       "      <td>Bophodes</td>\n",
       "      <td>146</td>\n",
       "      <td>9757943</td>\n",
       "      <td>37928</td>\n",
       "      <td>4159</td>\n",
       "      <td>5.281485e+06</td>\n",
       "      <td>932463</td>\n",
       "      <td>343502</td>\n",
       "      <td>1414</td>\n",
       "      <td>1.556103e+05</td>\n",
       "      <td>246</td>\n",
       "      <td>116</td>\n",
       "      <td>17884.960927</td>\n",
       "      <td>104</td>\n",
       "      <td>24934.632016</td>\n",
       "      <td>2.670781e+05</td>\n",
       "      <td>26884</td>\n",
       "      <td>3.623220e+06</td>\n",
       "      <td>86</td>\n",
       "      <td>P8DT15H1M18.894S</td>\n",
       "      <td>35594</td>\n",
       "      <td>10053</td>\n",
       "      <td>3051</td>\n",
       "      <td>1458</td>\n",
       "      <td>1592</td>\n",
       "      <td>1</td>\n",
       "      <td>P16DT10H54M46.1832725S</td>\n",
       "      <td>1146</td>\n",
       "      <td>0.368381</td>\n",
       "      <td>1.065573</td>\n",
       "      <td>0.915829</td>\n",
       "    </tr>\n",
       "    <tr>\n",
       "      <th>7</th>\n",
       "      <td>July, 22 2021</td>\n",
       "      <td>2eecaf00-ba9f-432e-b144-bc1c90b29430</td>\n",
       "      <td>Slayer</td>\n",
       "      <td>Super Fiesta Party</td>\n",
       "      <td>Plaza</td>\n",
       "      <td>0.0</td>\n",
       "      <td>1.0</td>\n",
       "      <td>Player</td>\n",
       "      <td>Defeat</td>\n",
       "      <td>Blue</td>\n",
       "      <td>SixKnifeWalker</td>\n",
       "      <td>151</td>\n",
       "      <td>37537896</td>\n",
       "      <td>179605</td>\n",
       "      <td>39171</td>\n",
       "      <td>2.090140e+07</td>\n",
       "      <td>3872741</td>\n",
       "      <td>1382222</td>\n",
       "      <td>19792</td>\n",
       "      <td>2.460876e+06</td>\n",
       "      <td>4562</td>\n",
       "      <td>120</td>\n",
       "      <td>13565.930386</td>\n",
       "      <td>1236</td>\n",
       "      <td>200448.845609</td>\n",
       "      <td>1.935772e+06</td>\n",
       "      <td>64047</td>\n",
       "      <td>7.884946e+06</td>\n",
       "      <td>10649</td>\n",
       "      <td>P19DT58M17.2331S</td>\n",
       "      <td>170350</td>\n",
       "      <td>58493</td>\n",
       "      <td>15013</td>\n",
       "      <td>7446</td>\n",
       "      <td>7557</td>\n",
       "      <td>10</td>\n",
       "      <td>P83DT19H45M40.2502178S</td>\n",
       "      <td>16798</td>\n",
       "      <td>0.356911</td>\n",
       "      <td>1.054329</td>\n",
       "      <td>0.985312</td>\n",
       "    </tr>\n",
       "  </tbody>\n",
       "</table>\n",
       "</div>"
      ],
      "text/plain": [
       "            Date                               MatchId GameBaseVariantId  \\\n",
       "0  July, 22 2021  2eecaf00-ba9f-432e-b144-bc1c90b29430            Slayer   \n",
       "1  July, 22 2021  2eecaf00-ba9f-432e-b144-bc1c90b29430            Slayer   \n",
       "2  July, 22 2021  2eecaf00-ba9f-432e-b144-bc1c90b29430            Slayer   \n",
       "3  July, 22 2021  2eecaf00-ba9f-432e-b144-bc1c90b29430            Slayer   \n",
       "4  July, 22 2021  2eecaf00-ba9f-432e-b144-bc1c90b29430            Slayer   \n",
       "5  July, 22 2021  2eecaf00-ba9f-432e-b144-bc1c90b29430            Slayer   \n",
       "6  July, 22 2021  2eecaf00-ba9f-432e-b144-bc1c90b29430            Slayer   \n",
       "7  July, 22 2021  2eecaf00-ba9f-432e-b144-bc1c90b29430            Slayer   \n",
       "\n",
       "           PlaylistId MapVariantId  DNF  TeamId PlayerTeam   Winner TeamColor  \\\n",
       "0  Super Fiesta Party        Plaza  0.0     0.0      Enemy  Victory       Red   \n",
       "1  Super Fiesta Party        Plaza  0.0     0.0      Enemy  Victory       Red   \n",
       "2  Super Fiesta Party        Plaza  0.0     0.0      Enemy  Victory       Red   \n",
       "3  Super Fiesta Party        Plaza  0.0     0.0      Enemy  Victory       Red   \n",
       "4  Super Fiesta Party        Plaza  0.0     1.0     Player   Defeat      Blue   \n",
       "5  Super Fiesta Party        Plaza  0.0     1.0     Player   Defeat      Blue   \n",
       "6  Super Fiesta Party        Plaza  0.0     1.0     Player   Defeat      Blue   \n",
       "7  Super Fiesta Party        Plaza  0.0     1.0     Player   Defeat      Blue   \n",
       "\n",
       "         Gamertag SpartanRank PrevTotalXP TotalKills TotalHeadshots  \\\n",
       "0    Dimension vv         138     6187181      18530           9433   \n",
       "1       Nefarious         144     7508121      22619           9779   \n",
       "2  SourStarfish28         143     6823910      19021           1565   \n",
       "3      Nottheeddu         150    27262125      15350           4305   \n",
       "4       Drymander         148    15539108      28622           2148   \n",
       "5  cryptolockerSD         151    47129356      53899           6851   \n",
       "6        Bophodes         146     9757943      37928           4159   \n",
       "7  SixKnifeWalker         151    37537896     179605          39171   \n",
       "\n",
       "   TotalWeaponDamage TotalShotsFired TotalShotsLanded TotalMeleeKills  \\\n",
       "0       1.828544e+06          265430           106770             981   \n",
       "1       2.341174e+06          301329           132159            1768   \n",
       "2       2.442232e+06          346960           132726             522   \n",
       "3       2.086481e+06          396248           136780            1021   \n",
       "4       3.804711e+06          752121           241046            1473   \n",
       "5       7.018691e+06         1244500           439444            4114   \n",
       "6       5.281485e+06          932463           343502            1414   \n",
       "7       2.090140e+07         3872741          1382222           19792   \n",
       "\n",
       "   TotalMeleeDamage TotalAssassinations TotalGroundPoundKills  \\\n",
       "0      1.655610e+05                 569                   106   \n",
       "1      1.827042e+05                 498                   183   \n",
       "2      5.683225e+04                  99                    12   \n",
       "3      1.581637e+05                 314                    60   \n",
       "4      1.607738e+05                 208                    35   \n",
       "5      4.847869e+05                 829                   184   \n",
       "6      1.556103e+05                 246                   116   \n",
       "7      2.460876e+06                4562                   120   \n",
       "\n",
       "   TotalGroundPoundDamage TotalShoulderBashKills  TotalShoulderBashDamage  \\\n",
       "0            12037.056124                    217             28556.529271   \n",
       "1            16618.659790                    347             26330.779343   \n",
       "2             2313.328398                     71             10473.208076   \n",
       "3            10741.944481                     84             16998.106466   \n",
       "4             5230.651564                    100             19095.688572   \n",
       "5            36020.682724                     98             22007.556794   \n",
       "6            17884.960927                    104             24934.632016   \n",
       "7            13565.930386                   1236            200448.845609   \n",
       "\n",
       "   TotalGrenadeDamage TotalPowerWeaponKills  TotalPowerWeaponDamage  \\\n",
       "0        8.783789e+04                  6366            7.964073e+05   \n",
       "1        1.470351e+05                  8724            1.057324e+06   \n",
       "2        3.920214e+04                 16021            2.080327e+06   \n",
       "3        1.828776e+05                  7468            1.005274e+06   \n",
       "4        1.279060e+05                 23221            3.094004e+06   \n",
       "5        6.860665e+05                 33654            4.379956e+06   \n",
       "6        2.670781e+05                 26884            3.623220e+06   \n",
       "7        1.935772e+06                 64047            7.884946e+06   \n",
       "\n",
       "  TotalPowerWeaponGrabs TotalPowerWeaponPossessionTime TotalDeaths  \\\n",
       "0                   457             P1DT23H23M45.9731S       18288   \n",
       "1                   520              P2DT8H12M46.2633S       20930   \n",
       "2                    16                P5DT4H52M7.412S       18264   \n",
       "3                   124              P2DT12H2M20.8034S       14490   \n",
       "4                   140              P7DT14H34M15.173S       27853   \n",
       "5                   691            P10DT17H33M16.4553S       49001   \n",
       "6                    86               P8DT15H1M18.894S       35594   \n",
       "7                 10649               P19DT58M17.2331S      170350   \n",
       "\n",
       "  TotalAssists TotalGamesCompleted TotalGamesWon TotalGamesLost  \\\n",
       "0         4075                1548           723            825   \n",
       "1         4852                1726           803            923   \n",
       "2         3729                1483           730            752   \n",
       "3         4623                1367           655            711   \n",
       "4         5890                2510          1252           1258   \n",
       "5        15366                4878          2574           2303   \n",
       "6        10053                3051          1458           1592   \n",
       "7        58493               15013          7446           7557   \n",
       "\n",
       "  TotalGamesTied         TotalTimePlayed TotalGrenadeKills  Accuracy  \\\n",
       "0              0    P7DT9H25M50.2405851S               515  0.402253   \n",
       "1              0    P8DT3H33M52.2408332S               758  0.438587   \n",
       "2              1    P8DT1H33M13.7500174S               212  0.382540   \n",
       "3              1   P6DT20H37M31.9519983S               737  0.345188   \n",
       "4              0   P12DT9H55M53.1015715S               452  0.320488   \n",
       "5              1     P23DT8H5M4.5791292S              2748  0.353109   \n",
       "6              1  P16DT10H54M46.1832725S              1146  0.368381   \n",
       "7             10  P83DT19H45M40.2502178S             16798  0.356911   \n",
       "\n",
       "        K/D   WinRate  \n",
       "0  1.013233  0.876364  \n",
       "1  1.080698  0.869989  \n",
       "2  1.041448  0.970745  \n",
       "3  1.059351  0.921238  \n",
       "4  1.027609  0.995231  \n",
       "5  1.099957  1.117673  \n",
       "6  1.065573  0.915829  \n",
       "7  1.054329  0.985312  "
      ]
     },
     "execution_count": 86,
     "metadata": {},
     "output_type": "execute_result"
    }
   ],
   "source": [
    "# %%writefile 'recent_match_stats.py'\n",
    "\n",
    "# Function that combines all functions above to go through each step to\n",
    "# Get the match dataframe\n",
    "def recent_match_stats(gamertag, back_count=0):\n",
    "    \n",
    "    # Pull the match result as JSON from API\n",
    "    match_results = pull_recent_match(back_count, explore=False, gamertag=gamertag)\n",
    "    \n",
    "    # Build the base dataframe\n",
    "    base_df = build_base_dataframe(match_results, gamertag=gamertag)\n",
    "    \n",
    "    # Convert dates\n",
    "    base_df['Date'] = base_df['Date'].dt.strftime('%B, %d %Y')\n",
    "    \n",
    "    # Decode GameBaseVariantId, PlaylistId, and MapVariantId\n",
    "    base_df['GameBaseVariantId'] = decode_column(base_df, 'GameBaseVariantId', GameBaseVariantId_dic)    \n",
    "    base_df['PlaylistId'] = decode_column(base_df, 'PlaylistId', PlaylistId_dic)\n",
    "    base_df['MapVariantId'] = decode_maps(base_df, 'MapVariantId', map_list)\n",
    "    \n",
    "    # Sleep for 1.01 seconds to avoid issues with API\n",
    "    time.sleep(1.01)\n",
    "    \n",
    "    # Create playerlist for player history API call\n",
    "    player_list = get_player_list(base_df)\n",
    "    \n",
    "    # Call API to get player history JSON\n",
    "    player_history = get_player_history(base_df)\n",
    "    \n",
    "    # Build base player stats dataframe based on player history API call\n",
    "    history_df = build_history_dataframe(player_history, match_results['GameBaseVariantId'])\n",
    "    \n",
    "    # Merge the base dataframe and stats dataframe\n",
    "    full_stats_df = pd.merge(base_df, history_df, how='inner', on = 'Gamertag')\n",
    "    \n",
    "    return full_stats_df\n",
    "\n",
    "# Show full dataframe for match\n",
    "df = recent_match_stats('Drymander', back_count=0)\n",
    "df"
   ]
  },
  {
   "cell_type": "markdown",
   "metadata": {},
   "source": [
    "# Graphs"
   ]
  },
  {
   "cell_type": "code",
   "execution_count": 71,
   "metadata": {
    "ExecuteTime": {
     "end_time": "2021-07-23T19:51:59.599756Z",
     "start_time": "2021-07-23T19:51:59.543744Z"
    }
   },
   "outputs": [
    {
     "data": {
      "application/vnd.plotly.v1+json": {
       "config": {
        "plotlyServerURL": "https://plot.ly"
       },
       "data": [
        {
         "alignmentgroup": "True",
         "hovertemplate": "TotalTimePlayed=%{x}<br>Gamertag=%{y}<extra></extra>",
         "legendgroup": "",
         "marker": {
          "color": "#636efa"
         },
         "name": "",
         "offsetgroup": "",
         "orientation": "h",
         "showlegend": false,
         "textposition": "auto",
         "type": "bar",
         "x": [
          177.31519168527777,
          195.56451134250003,
          193.55381944916667,
          164.62554222166668,
          297.93141710305554,
          560.0846053136111,
          394.5648751308333,
          2011.7611806161112
         ],
         "xaxis": "x",
         "y": [
          "Dimension vv",
          "Nefarious",
          "SourStarfish28",
          "Nottheeddu",
          "Drymander",
          "cryptolockerSD",
          "Bophodes",
          "SixKnifeWalker"
         ],
         "yaxis": "y"
        }
       ],
       "layout": {
        "barmode": "relative",
        "legend": {
         "tracegroupgap": 0
        },
        "margin": {
         "t": 60
        },
        "template": {
         "data": {
          "bar": [
           {
            "error_x": {
             "color": "#2a3f5f"
            },
            "error_y": {
             "color": "#2a3f5f"
            },
            "marker": {
             "line": {
              "color": "#E5ECF6",
              "width": 0.5
             }
            },
            "type": "bar"
           }
          ],
          "barpolar": [
           {
            "marker": {
             "line": {
              "color": "#E5ECF6",
              "width": 0.5
             }
            },
            "type": "barpolar"
           }
          ],
          "carpet": [
           {
            "aaxis": {
             "endlinecolor": "#2a3f5f",
             "gridcolor": "white",
             "linecolor": "white",
             "minorgridcolor": "white",
             "startlinecolor": "#2a3f5f"
            },
            "baxis": {
             "endlinecolor": "#2a3f5f",
             "gridcolor": "white",
             "linecolor": "white",
             "minorgridcolor": "white",
             "startlinecolor": "#2a3f5f"
            },
            "type": "carpet"
           }
          ],
          "choropleth": [
           {
            "colorbar": {
             "outlinewidth": 0,
             "ticks": ""
            },
            "type": "choropleth"
           }
          ],
          "contour": [
           {
            "colorbar": {
             "outlinewidth": 0,
             "ticks": ""
            },
            "colorscale": [
             [
              0,
              "#0d0887"
             ],
             [
              0.1111111111111111,
              "#46039f"
             ],
             [
              0.2222222222222222,
              "#7201a8"
             ],
             [
              0.3333333333333333,
              "#9c179e"
             ],
             [
              0.4444444444444444,
              "#bd3786"
             ],
             [
              0.5555555555555556,
              "#d8576b"
             ],
             [
              0.6666666666666666,
              "#ed7953"
             ],
             [
              0.7777777777777778,
              "#fb9f3a"
             ],
             [
              0.8888888888888888,
              "#fdca26"
             ],
             [
              1,
              "#f0f921"
             ]
            ],
            "type": "contour"
           }
          ],
          "contourcarpet": [
           {
            "colorbar": {
             "outlinewidth": 0,
             "ticks": ""
            },
            "type": "contourcarpet"
           }
          ],
          "heatmap": [
           {
            "colorbar": {
             "outlinewidth": 0,
             "ticks": ""
            },
            "colorscale": [
             [
              0,
              "#0d0887"
             ],
             [
              0.1111111111111111,
              "#46039f"
             ],
             [
              0.2222222222222222,
              "#7201a8"
             ],
             [
              0.3333333333333333,
              "#9c179e"
             ],
             [
              0.4444444444444444,
              "#bd3786"
             ],
             [
              0.5555555555555556,
              "#d8576b"
             ],
             [
              0.6666666666666666,
              "#ed7953"
             ],
             [
              0.7777777777777778,
              "#fb9f3a"
             ],
             [
              0.8888888888888888,
              "#fdca26"
             ],
             [
              1,
              "#f0f921"
             ]
            ],
            "type": "heatmap"
           }
          ],
          "heatmapgl": [
           {
            "colorbar": {
             "outlinewidth": 0,
             "ticks": ""
            },
            "colorscale": [
             [
              0,
              "#0d0887"
             ],
             [
              0.1111111111111111,
              "#46039f"
             ],
             [
              0.2222222222222222,
              "#7201a8"
             ],
             [
              0.3333333333333333,
              "#9c179e"
             ],
             [
              0.4444444444444444,
              "#bd3786"
             ],
             [
              0.5555555555555556,
              "#d8576b"
             ],
             [
              0.6666666666666666,
              "#ed7953"
             ],
             [
              0.7777777777777778,
              "#fb9f3a"
             ],
             [
              0.8888888888888888,
              "#fdca26"
             ],
             [
              1,
              "#f0f921"
             ]
            ],
            "type": "heatmapgl"
           }
          ],
          "histogram": [
           {
            "marker": {
             "colorbar": {
              "outlinewidth": 0,
              "ticks": ""
             }
            },
            "type": "histogram"
           }
          ],
          "histogram2d": [
           {
            "colorbar": {
             "outlinewidth": 0,
             "ticks": ""
            },
            "colorscale": [
             [
              0,
              "#0d0887"
             ],
             [
              0.1111111111111111,
              "#46039f"
             ],
             [
              0.2222222222222222,
              "#7201a8"
             ],
             [
              0.3333333333333333,
              "#9c179e"
             ],
             [
              0.4444444444444444,
              "#bd3786"
             ],
             [
              0.5555555555555556,
              "#d8576b"
             ],
             [
              0.6666666666666666,
              "#ed7953"
             ],
             [
              0.7777777777777778,
              "#fb9f3a"
             ],
             [
              0.8888888888888888,
              "#fdca26"
             ],
             [
              1,
              "#f0f921"
             ]
            ],
            "type": "histogram2d"
           }
          ],
          "histogram2dcontour": [
           {
            "colorbar": {
             "outlinewidth": 0,
             "ticks": ""
            },
            "colorscale": [
             [
              0,
              "#0d0887"
             ],
             [
              0.1111111111111111,
              "#46039f"
             ],
             [
              0.2222222222222222,
              "#7201a8"
             ],
             [
              0.3333333333333333,
              "#9c179e"
             ],
             [
              0.4444444444444444,
              "#bd3786"
             ],
             [
              0.5555555555555556,
              "#d8576b"
             ],
             [
              0.6666666666666666,
              "#ed7953"
             ],
             [
              0.7777777777777778,
              "#fb9f3a"
             ],
             [
              0.8888888888888888,
              "#fdca26"
             ],
             [
              1,
              "#f0f921"
             ]
            ],
            "type": "histogram2dcontour"
           }
          ],
          "mesh3d": [
           {
            "colorbar": {
             "outlinewidth": 0,
             "ticks": ""
            },
            "type": "mesh3d"
           }
          ],
          "parcoords": [
           {
            "line": {
             "colorbar": {
              "outlinewidth": 0,
              "ticks": ""
             }
            },
            "type": "parcoords"
           }
          ],
          "pie": [
           {
            "automargin": true,
            "type": "pie"
           }
          ],
          "scatter": [
           {
            "marker": {
             "colorbar": {
              "outlinewidth": 0,
              "ticks": ""
             }
            },
            "type": "scatter"
           }
          ],
          "scatter3d": [
           {
            "line": {
             "colorbar": {
              "outlinewidth": 0,
              "ticks": ""
             }
            },
            "marker": {
             "colorbar": {
              "outlinewidth": 0,
              "ticks": ""
             }
            },
            "type": "scatter3d"
           }
          ],
          "scattercarpet": [
           {
            "marker": {
             "colorbar": {
              "outlinewidth": 0,
              "ticks": ""
             }
            },
            "type": "scattercarpet"
           }
          ],
          "scattergeo": [
           {
            "marker": {
             "colorbar": {
              "outlinewidth": 0,
              "ticks": ""
             }
            },
            "type": "scattergeo"
           }
          ],
          "scattergl": [
           {
            "marker": {
             "colorbar": {
              "outlinewidth": 0,
              "ticks": ""
             }
            },
            "type": "scattergl"
           }
          ],
          "scattermapbox": [
           {
            "marker": {
             "colorbar": {
              "outlinewidth": 0,
              "ticks": ""
             }
            },
            "type": "scattermapbox"
           }
          ],
          "scatterpolar": [
           {
            "marker": {
             "colorbar": {
              "outlinewidth": 0,
              "ticks": ""
             }
            },
            "type": "scatterpolar"
           }
          ],
          "scatterpolargl": [
           {
            "marker": {
             "colorbar": {
              "outlinewidth": 0,
              "ticks": ""
             }
            },
            "type": "scatterpolargl"
           }
          ],
          "scatterternary": [
           {
            "marker": {
             "colorbar": {
              "outlinewidth": 0,
              "ticks": ""
             }
            },
            "type": "scatterternary"
           }
          ],
          "surface": [
           {
            "colorbar": {
             "outlinewidth": 0,
             "ticks": ""
            },
            "colorscale": [
             [
              0,
              "#0d0887"
             ],
             [
              0.1111111111111111,
              "#46039f"
             ],
             [
              0.2222222222222222,
              "#7201a8"
             ],
             [
              0.3333333333333333,
              "#9c179e"
             ],
             [
              0.4444444444444444,
              "#bd3786"
             ],
             [
              0.5555555555555556,
              "#d8576b"
             ],
             [
              0.6666666666666666,
              "#ed7953"
             ],
             [
              0.7777777777777778,
              "#fb9f3a"
             ],
             [
              0.8888888888888888,
              "#fdca26"
             ],
             [
              1,
              "#f0f921"
             ]
            ],
            "type": "surface"
           }
          ],
          "table": [
           {
            "cells": {
             "fill": {
              "color": "#EBF0F8"
             },
             "line": {
              "color": "white"
             }
            },
            "header": {
             "fill": {
              "color": "#C8D4E3"
             },
             "line": {
              "color": "white"
             }
            },
            "type": "table"
           }
          ]
         },
         "layout": {
          "annotationdefaults": {
           "arrowcolor": "#2a3f5f",
           "arrowhead": 0,
           "arrowwidth": 1
          },
          "coloraxis": {
           "colorbar": {
            "outlinewidth": 0,
            "ticks": ""
           }
          },
          "colorscale": {
           "diverging": [
            [
             0,
             "#8e0152"
            ],
            [
             0.1,
             "#c51b7d"
            ],
            [
             0.2,
             "#de77ae"
            ],
            [
             0.3,
             "#f1b6da"
            ],
            [
             0.4,
             "#fde0ef"
            ],
            [
             0.5,
             "#f7f7f7"
            ],
            [
             0.6,
             "#e6f5d0"
            ],
            [
             0.7,
             "#b8e186"
            ],
            [
             0.8,
             "#7fbc41"
            ],
            [
             0.9,
             "#4d9221"
            ],
            [
             1,
             "#276419"
            ]
           ],
           "sequential": [
            [
             0,
             "#0d0887"
            ],
            [
             0.1111111111111111,
             "#46039f"
            ],
            [
             0.2222222222222222,
             "#7201a8"
            ],
            [
             0.3333333333333333,
             "#9c179e"
            ],
            [
             0.4444444444444444,
             "#bd3786"
            ],
            [
             0.5555555555555556,
             "#d8576b"
            ],
            [
             0.6666666666666666,
             "#ed7953"
            ],
            [
             0.7777777777777778,
             "#fb9f3a"
            ],
            [
             0.8888888888888888,
             "#fdca26"
            ],
            [
             1,
             "#f0f921"
            ]
           ],
           "sequentialminus": [
            [
             0,
             "#0d0887"
            ],
            [
             0.1111111111111111,
             "#46039f"
            ],
            [
             0.2222222222222222,
             "#7201a8"
            ],
            [
             0.3333333333333333,
             "#9c179e"
            ],
            [
             0.4444444444444444,
             "#bd3786"
            ],
            [
             0.5555555555555556,
             "#d8576b"
            ],
            [
             0.6666666666666666,
             "#ed7953"
            ],
            [
             0.7777777777777778,
             "#fb9f3a"
            ],
            [
             0.8888888888888888,
             "#fdca26"
            ],
            [
             1,
             "#f0f921"
            ]
           ]
          },
          "colorway": [
           "#636efa",
           "#EF553B",
           "#00cc96",
           "#ab63fa",
           "#FFA15A",
           "#19d3f3",
           "#FF6692",
           "#B6E880",
           "#FF97FF",
           "#FECB52"
          ],
          "font": {
           "color": "#2a3f5f"
          },
          "geo": {
           "bgcolor": "white",
           "lakecolor": "white",
           "landcolor": "#E5ECF6",
           "showlakes": true,
           "showland": true,
           "subunitcolor": "white"
          },
          "hoverlabel": {
           "align": "left"
          },
          "hovermode": "closest",
          "mapbox": {
           "style": "light"
          },
          "paper_bgcolor": "white",
          "plot_bgcolor": "#E5ECF6",
          "polar": {
           "angularaxis": {
            "gridcolor": "white",
            "linecolor": "white",
            "ticks": ""
           },
           "bgcolor": "#E5ECF6",
           "radialaxis": {
            "gridcolor": "white",
            "linecolor": "white",
            "ticks": ""
           }
          },
          "scene": {
           "xaxis": {
            "backgroundcolor": "#E5ECF6",
            "gridcolor": "white",
            "gridwidth": 2,
            "linecolor": "white",
            "showbackground": true,
            "ticks": "",
            "zerolinecolor": "white"
           },
           "yaxis": {
            "backgroundcolor": "#E5ECF6",
            "gridcolor": "white",
            "gridwidth": 2,
            "linecolor": "white",
            "showbackground": true,
            "ticks": "",
            "zerolinecolor": "white"
           },
           "zaxis": {
            "backgroundcolor": "#E5ECF6",
            "gridcolor": "white",
            "gridwidth": 2,
            "linecolor": "white",
            "showbackground": true,
            "ticks": "",
            "zerolinecolor": "white"
           }
          },
          "shapedefaults": {
           "line": {
            "color": "#2a3f5f"
           }
          },
          "ternary": {
           "aaxis": {
            "gridcolor": "white",
            "linecolor": "white",
            "ticks": ""
           },
           "baxis": {
            "gridcolor": "white",
            "linecolor": "white",
            "ticks": ""
           },
           "bgcolor": "#E5ECF6",
           "caxis": {
            "gridcolor": "white",
            "linecolor": "white",
            "ticks": ""
           }
          },
          "title": {
           "x": 0.05
          },
          "xaxis": {
           "automargin": true,
           "gridcolor": "white",
           "linecolor": "white",
           "ticks": "",
           "title": {
            "standoff": 15
           },
           "zerolinecolor": "white",
           "zerolinewidth": 2
          },
          "yaxis": {
           "automargin": true,
           "gridcolor": "white",
           "linecolor": "white",
           "ticks": "",
           "title": {
            "standoff": 15
           },
           "zerolinecolor": "white",
           "zerolinewidth": 2
          }
         }
        },
        "xaxis": {
         "anchor": "y",
         "domain": [
          0,
          1
         ],
         "title": {
          "text": "TotalTimePlayed"
         }
        },
        "yaxis": {
         "anchor": "x",
         "domain": [
          0,
          1
         ],
         "title": {
          "text": "Gamertag"
         }
        }
       }
      },
      "text/html": [
       "<div>                            <div id=\"135bc086-6afa-4566-b28d-ec49d9c1d2be\" class=\"plotly-graph-div\" style=\"height:525px; width:100%;\"></div>            <script type=\"text/javascript\">                require([\"plotly\"], function(Plotly) {                    window.PLOTLYENV=window.PLOTLYENV || {};                                    if (document.getElementById(\"135bc086-6afa-4566-b28d-ec49d9c1d2be\")) {                    Plotly.newPlot(                        \"135bc086-6afa-4566-b28d-ec49d9c1d2be\",                        [{\"alignmentgroup\": \"True\", \"hovertemplate\": \"TotalTimePlayed=%{x}<br>Gamertag=%{y}<extra></extra>\", \"legendgroup\": \"\", \"marker\": {\"color\": \"#636efa\"}, \"name\": \"\", \"offsetgroup\": \"\", \"orientation\": \"h\", \"showlegend\": false, \"textposition\": \"auto\", \"type\": \"bar\", \"x\": [177.31519168527777, 195.56451134250003, 193.55381944916667, 164.62554222166668, 297.93141710305554, 560.0846053136111, 394.5648751308333, 2011.7611806161112], \"xaxis\": \"x\", \"y\": [\"Dimension vv\", \"Nefarious\", \"SourStarfish28\", \"Nottheeddu\", \"Drymander\", \"cryptolockerSD\", \"Bophodes\", \"SixKnifeWalker\"], \"yaxis\": \"y\"}],                        {\"barmode\": \"relative\", \"legend\": {\"tracegroupgap\": 0}, \"margin\": {\"t\": 60}, \"template\": {\"data\": {\"bar\": [{\"error_x\": {\"color\": \"#2a3f5f\"}, \"error_y\": {\"color\": \"#2a3f5f\"}, \"marker\": {\"line\": {\"color\": \"#E5ECF6\", \"width\": 0.5}}, \"type\": \"bar\"}], \"barpolar\": [{\"marker\": {\"line\": {\"color\": \"#E5ECF6\", \"width\": 0.5}}, \"type\": \"barpolar\"}], \"carpet\": [{\"aaxis\": {\"endlinecolor\": \"#2a3f5f\", \"gridcolor\": \"white\", \"linecolor\": \"white\", \"minorgridcolor\": \"white\", \"startlinecolor\": \"#2a3f5f\"}, \"baxis\": {\"endlinecolor\": \"#2a3f5f\", \"gridcolor\": \"white\", \"linecolor\": \"white\", \"minorgridcolor\": \"white\", \"startlinecolor\": \"#2a3f5f\"}, \"type\": \"carpet\"}], \"choropleth\": [{\"colorbar\": {\"outlinewidth\": 0, \"ticks\": \"\"}, \"type\": \"choropleth\"}], \"contour\": [{\"colorbar\": {\"outlinewidth\": 0, \"ticks\": \"\"}, \"colorscale\": [[0.0, \"#0d0887\"], [0.1111111111111111, \"#46039f\"], [0.2222222222222222, \"#7201a8\"], [0.3333333333333333, \"#9c179e\"], [0.4444444444444444, \"#bd3786\"], [0.5555555555555556, \"#d8576b\"], [0.6666666666666666, \"#ed7953\"], [0.7777777777777778, \"#fb9f3a\"], [0.8888888888888888, \"#fdca26\"], [1.0, \"#f0f921\"]], \"type\": \"contour\"}], \"contourcarpet\": [{\"colorbar\": {\"outlinewidth\": 0, \"ticks\": \"\"}, \"type\": \"contourcarpet\"}], \"heatmap\": [{\"colorbar\": {\"outlinewidth\": 0, \"ticks\": \"\"}, \"colorscale\": [[0.0, \"#0d0887\"], [0.1111111111111111, \"#46039f\"], [0.2222222222222222, \"#7201a8\"], [0.3333333333333333, \"#9c179e\"], [0.4444444444444444, \"#bd3786\"], [0.5555555555555556, \"#d8576b\"], [0.6666666666666666, \"#ed7953\"], [0.7777777777777778, \"#fb9f3a\"], [0.8888888888888888, \"#fdca26\"], [1.0, \"#f0f921\"]], \"type\": \"heatmap\"}], \"heatmapgl\": [{\"colorbar\": {\"outlinewidth\": 0, \"ticks\": \"\"}, \"colorscale\": [[0.0, \"#0d0887\"], [0.1111111111111111, \"#46039f\"], [0.2222222222222222, \"#7201a8\"], [0.3333333333333333, \"#9c179e\"], [0.4444444444444444, \"#bd3786\"], [0.5555555555555556, \"#d8576b\"], [0.6666666666666666, \"#ed7953\"], [0.7777777777777778, \"#fb9f3a\"], [0.8888888888888888, \"#fdca26\"], [1.0, \"#f0f921\"]], \"type\": \"heatmapgl\"}], \"histogram\": [{\"marker\": {\"colorbar\": {\"outlinewidth\": 0, \"ticks\": \"\"}}, \"type\": \"histogram\"}], \"histogram2d\": [{\"colorbar\": {\"outlinewidth\": 0, \"ticks\": \"\"}, \"colorscale\": [[0.0, \"#0d0887\"], [0.1111111111111111, \"#46039f\"], [0.2222222222222222, \"#7201a8\"], [0.3333333333333333, \"#9c179e\"], [0.4444444444444444, \"#bd3786\"], [0.5555555555555556, \"#d8576b\"], [0.6666666666666666, \"#ed7953\"], [0.7777777777777778, \"#fb9f3a\"], [0.8888888888888888, \"#fdca26\"], [1.0, \"#f0f921\"]], \"type\": \"histogram2d\"}], \"histogram2dcontour\": [{\"colorbar\": {\"outlinewidth\": 0, \"ticks\": \"\"}, \"colorscale\": [[0.0, \"#0d0887\"], [0.1111111111111111, \"#46039f\"], [0.2222222222222222, \"#7201a8\"], [0.3333333333333333, \"#9c179e\"], [0.4444444444444444, \"#bd3786\"], [0.5555555555555556, \"#d8576b\"], [0.6666666666666666, \"#ed7953\"], [0.7777777777777778, \"#fb9f3a\"], [0.8888888888888888, \"#fdca26\"], [1.0, \"#f0f921\"]], \"type\": \"histogram2dcontour\"}], \"mesh3d\": [{\"colorbar\": {\"outlinewidth\": 0, \"ticks\": \"\"}, \"type\": \"mesh3d\"}], \"parcoords\": [{\"line\": {\"colorbar\": {\"outlinewidth\": 0, \"ticks\": \"\"}}, \"type\": \"parcoords\"}], \"pie\": [{\"automargin\": true, \"type\": \"pie\"}], \"scatter\": [{\"marker\": {\"colorbar\": {\"outlinewidth\": 0, \"ticks\": \"\"}}, \"type\": \"scatter\"}], \"scatter3d\": [{\"line\": {\"colorbar\": {\"outlinewidth\": 0, \"ticks\": \"\"}}, \"marker\": {\"colorbar\": {\"outlinewidth\": 0, \"ticks\": \"\"}}, \"type\": \"scatter3d\"}], \"scattercarpet\": [{\"marker\": {\"colorbar\": {\"outlinewidth\": 0, \"ticks\": \"\"}}, \"type\": \"scattercarpet\"}], \"scattergeo\": [{\"marker\": {\"colorbar\": {\"outlinewidth\": 0, \"ticks\": \"\"}}, \"type\": \"scattergeo\"}], \"scattergl\": [{\"marker\": {\"colorbar\": {\"outlinewidth\": 0, \"ticks\": \"\"}}, \"type\": \"scattergl\"}], \"scattermapbox\": [{\"marker\": {\"colorbar\": {\"outlinewidth\": 0, \"ticks\": \"\"}}, \"type\": \"scattermapbox\"}], \"scatterpolar\": [{\"marker\": {\"colorbar\": {\"outlinewidth\": 0, \"ticks\": \"\"}}, \"type\": \"scatterpolar\"}], \"scatterpolargl\": [{\"marker\": {\"colorbar\": {\"outlinewidth\": 0, \"ticks\": \"\"}}, \"type\": \"scatterpolargl\"}], \"scatterternary\": [{\"marker\": {\"colorbar\": {\"outlinewidth\": 0, \"ticks\": \"\"}}, \"type\": \"scatterternary\"}], \"surface\": [{\"colorbar\": {\"outlinewidth\": 0, \"ticks\": \"\"}, \"colorscale\": [[0.0, \"#0d0887\"], [0.1111111111111111, \"#46039f\"], [0.2222222222222222, \"#7201a8\"], [0.3333333333333333, \"#9c179e\"], [0.4444444444444444, \"#bd3786\"], [0.5555555555555556, \"#d8576b\"], [0.6666666666666666, \"#ed7953\"], [0.7777777777777778, \"#fb9f3a\"], [0.8888888888888888, \"#fdca26\"], [1.0, \"#f0f921\"]], \"type\": \"surface\"}], \"table\": [{\"cells\": {\"fill\": {\"color\": \"#EBF0F8\"}, \"line\": {\"color\": \"white\"}}, \"header\": {\"fill\": {\"color\": \"#C8D4E3\"}, \"line\": {\"color\": \"white\"}}, \"type\": \"table\"}]}, \"layout\": {\"annotationdefaults\": {\"arrowcolor\": \"#2a3f5f\", \"arrowhead\": 0, \"arrowwidth\": 1}, \"coloraxis\": {\"colorbar\": {\"outlinewidth\": 0, \"ticks\": \"\"}}, \"colorscale\": {\"diverging\": [[0, \"#8e0152\"], [0.1, \"#c51b7d\"], [0.2, \"#de77ae\"], [0.3, \"#f1b6da\"], [0.4, \"#fde0ef\"], [0.5, \"#f7f7f7\"], [0.6, \"#e6f5d0\"], [0.7, \"#b8e186\"], [0.8, \"#7fbc41\"], [0.9, \"#4d9221\"], [1, \"#276419\"]], \"sequential\": [[0.0, \"#0d0887\"], [0.1111111111111111, \"#46039f\"], [0.2222222222222222, \"#7201a8\"], [0.3333333333333333, \"#9c179e\"], [0.4444444444444444, \"#bd3786\"], [0.5555555555555556, \"#d8576b\"], [0.6666666666666666, \"#ed7953\"], [0.7777777777777778, \"#fb9f3a\"], [0.8888888888888888, \"#fdca26\"], [1.0, \"#f0f921\"]], \"sequentialminus\": [[0.0, \"#0d0887\"], [0.1111111111111111, \"#46039f\"], [0.2222222222222222, \"#7201a8\"], [0.3333333333333333, \"#9c179e\"], [0.4444444444444444, \"#bd3786\"], [0.5555555555555556, \"#d8576b\"], [0.6666666666666666, \"#ed7953\"], [0.7777777777777778, \"#fb9f3a\"], [0.8888888888888888, \"#fdca26\"], [1.0, \"#f0f921\"]]}, \"colorway\": [\"#636efa\", \"#EF553B\", \"#00cc96\", \"#ab63fa\", \"#FFA15A\", \"#19d3f3\", \"#FF6692\", \"#B6E880\", \"#FF97FF\", \"#FECB52\"], \"font\": {\"color\": \"#2a3f5f\"}, \"geo\": {\"bgcolor\": \"white\", \"lakecolor\": \"white\", \"landcolor\": \"#E5ECF6\", \"showlakes\": true, \"showland\": true, \"subunitcolor\": \"white\"}, \"hoverlabel\": {\"align\": \"left\"}, \"hovermode\": \"closest\", \"mapbox\": {\"style\": \"light\"}, \"paper_bgcolor\": \"white\", \"plot_bgcolor\": \"#E5ECF6\", \"polar\": {\"angularaxis\": {\"gridcolor\": \"white\", \"linecolor\": \"white\", \"ticks\": \"\"}, \"bgcolor\": \"#E5ECF6\", \"radialaxis\": {\"gridcolor\": \"white\", \"linecolor\": \"white\", \"ticks\": \"\"}}, \"scene\": {\"xaxis\": {\"backgroundcolor\": \"#E5ECF6\", \"gridcolor\": \"white\", \"gridwidth\": 2, \"linecolor\": \"white\", \"showbackground\": true, \"ticks\": \"\", \"zerolinecolor\": \"white\"}, \"yaxis\": {\"backgroundcolor\": \"#E5ECF6\", \"gridcolor\": \"white\", \"gridwidth\": 2, \"linecolor\": \"white\", \"showbackground\": true, \"ticks\": \"\", \"zerolinecolor\": \"white\"}, \"zaxis\": {\"backgroundcolor\": \"#E5ECF6\", \"gridcolor\": \"white\", \"gridwidth\": 2, \"linecolor\": \"white\", \"showbackground\": true, \"ticks\": \"\", \"zerolinecolor\": \"white\"}}, \"shapedefaults\": {\"line\": {\"color\": \"#2a3f5f\"}}, \"ternary\": {\"aaxis\": {\"gridcolor\": \"white\", \"linecolor\": \"white\", \"ticks\": \"\"}, \"baxis\": {\"gridcolor\": \"white\", \"linecolor\": \"white\", \"ticks\": \"\"}, \"bgcolor\": \"#E5ECF6\", \"caxis\": {\"gridcolor\": \"white\", \"linecolor\": \"white\", \"ticks\": \"\"}}, \"title\": {\"x\": 0.05}, \"xaxis\": {\"automargin\": true, \"gridcolor\": \"white\", \"linecolor\": \"white\", \"ticks\": \"\", \"title\": {\"standoff\": 15}, \"zerolinecolor\": \"white\", \"zerolinewidth\": 2}, \"yaxis\": {\"automargin\": true, \"gridcolor\": \"white\", \"linecolor\": \"white\", \"ticks\": \"\", \"title\": {\"standoff\": 15}, \"zerolinecolor\": \"white\", \"zerolinewidth\": 2}}}, \"xaxis\": {\"anchor\": \"y\", \"domain\": [0.0, 1.0], \"title\": {\"text\": \"TotalTimePlayed\"}}, \"yaxis\": {\"anchor\": \"x\", \"domain\": [0.0, 1.0], \"title\": {\"text\": \"Gamertag\"}}},                        {\"responsive\": true}                    ).then(function(){\n",
       "                            \n",
       "var gd = document.getElementById('135bc086-6afa-4566-b28d-ec49d9c1d2be');\n",
       "var x = new MutationObserver(function (mutations, observer) {{\n",
       "        var display = window.getComputedStyle(gd).display;\n",
       "        if (!display || display === 'none') {{\n",
       "            console.log([gd, 'removed!']);\n",
       "            Plotly.purge(gd);\n",
       "            observer.disconnect();\n",
       "        }}\n",
       "}});\n",
       "\n",
       "// Listen for the removal of the full notebook cells\n",
       "var notebookContainer = gd.closest('#notebook-container');\n",
       "if (notebookContainer) {{\n",
       "    x.observe(notebookContainer, {childList: true});\n",
       "}}\n",
       "\n",
       "// Listen for the clearing of the current output cell\n",
       "var outputEl = gd.closest('.output');\n",
       "if (outputEl) {{\n",
       "    x.observe(outputEl, {childList: true});\n",
       "}}\n",
       "\n",
       "                        })                };                });            </script>        </div>"
      ]
     },
     "metadata": {},
     "output_type": "display_data"
    }
   ],
   "source": [
    "import plotly.express as px\n",
    "# df = df\n",
    "fig = px.bar(df, x='TotalTimePlayed', y='Gamertag', orientation='h')\n",
    "fig.show()"
   ]
  },
  {
   "cell_type": "code",
   "execution_count": 72,
   "metadata": {
    "ExecuteTime": {
     "end_time": "2021-07-23T19:51:59.605758Z",
     "start_time": "2021-07-23T19:51:59.600756Z"
    }
   },
   "outputs": [
    {
     "data": {
      "text/plain": [
       "True"
      ]
     },
     "execution_count": 72,
     "metadata": {},
     "output_type": "execute_result"
    }
   ],
   "source": [
    "df['TotalHeadshots'].dtypes\n",
    "type(df['TotalHeadshots'].iloc[0]) == int\n",
    "# type(df['TotalTimePlayed'].iloc[0]) == np.float64"
   ]
  },
  {
   "cell_type": "code",
   "execution_count": 81,
   "metadata": {
    "ExecuteTime": {
     "end_time": "2021-07-23T20:12:01.763132Z",
     "start_time": "2021-07-23T20:11:58.567581Z"
    }
   },
   "outputs": [],
   "source": [
    "df = recent_match_stats('Drymander', 0)\n",
    "df.to_csv('match.csv')"
   ]
  },
  {
   "cell_type": "code",
   "execution_count": 80,
   "metadata": {
    "ExecuteTime": {
     "end_time": "2021-07-23T20:05:19.994006Z",
     "start_time": "2021-07-23T20:05:19.957997Z"
    }
   },
   "outputs": [
    {
     "data": {
      "application/vnd.plotly.v1+json": {
       "config": {
        "plotlyServerURL": "https://plot.ly"
       },
       "data": [
        {
         "marker": {
          "color": "Blue"
         },
         "orientation": "h",
         "text": [
          2148,
          4153,
          6851,
          39171
         ],
         "textposition": "auto",
         "type": "bar",
         "x": [
          2148,
          4153,
          6851,
          39171
         ],
         "xaxis": "x",
         "y": [
          "Drymander",
          "Bophodes",
          "cryptolockerSD",
          "SixKnifeWalker"
         ],
         "yaxis": "y"
        },
        {
         "marker": {
          "color": "Red"
         },
         "orientation": "h",
         "text": [
          1565,
          4305,
          9429,
          9779
         ],
         "textposition": "auto",
         "type": "bar",
         "x": [
          1565,
          4305,
          9429,
          9779
         ],
         "xaxis": "x2",
         "y": [
          "SourStarfish28",
          "Nottheeddu",
          "Dimension vv",
          "Nefarious"
         ],
         "yaxis": "y2"
        }
       ],
       "layout": {
        "annotations": [
         {
          "font": {
           "size": 16
          },
          "showarrow": false,
          "text": "Player Team",
          "x": 0.5,
          "xanchor": "center",
          "xref": "paper",
          "y": 1,
          "yanchor": "bottom",
          "yref": "paper"
         },
         {
          "font": {
           "size": 16
          },
          "showarrow": false,
          "text": "Enemy Team",
          "x": 0.5,
          "xanchor": "center",
          "xref": "paper",
          "y": 0.375,
          "yanchor": "bottom",
          "yref": "paper"
         }
        ],
        "template": {
         "data": {
          "bar": [
           {
            "error_x": {
             "color": "#2a3f5f"
            },
            "error_y": {
             "color": "#2a3f5f"
            },
            "marker": {
             "line": {
              "color": "#E5ECF6",
              "width": 0.5
             }
            },
            "type": "bar"
           }
          ],
          "barpolar": [
           {
            "marker": {
             "line": {
              "color": "#E5ECF6",
              "width": 0.5
             }
            },
            "type": "barpolar"
           }
          ],
          "carpet": [
           {
            "aaxis": {
             "endlinecolor": "#2a3f5f",
             "gridcolor": "white",
             "linecolor": "white",
             "minorgridcolor": "white",
             "startlinecolor": "#2a3f5f"
            },
            "baxis": {
             "endlinecolor": "#2a3f5f",
             "gridcolor": "white",
             "linecolor": "white",
             "minorgridcolor": "white",
             "startlinecolor": "#2a3f5f"
            },
            "type": "carpet"
           }
          ],
          "choropleth": [
           {
            "colorbar": {
             "outlinewidth": 0,
             "ticks": ""
            },
            "type": "choropleth"
           }
          ],
          "contour": [
           {
            "colorbar": {
             "outlinewidth": 0,
             "ticks": ""
            },
            "colorscale": [
             [
              0,
              "#0d0887"
             ],
             [
              0.1111111111111111,
              "#46039f"
             ],
             [
              0.2222222222222222,
              "#7201a8"
             ],
             [
              0.3333333333333333,
              "#9c179e"
             ],
             [
              0.4444444444444444,
              "#bd3786"
             ],
             [
              0.5555555555555556,
              "#d8576b"
             ],
             [
              0.6666666666666666,
              "#ed7953"
             ],
             [
              0.7777777777777778,
              "#fb9f3a"
             ],
             [
              0.8888888888888888,
              "#fdca26"
             ],
             [
              1,
              "#f0f921"
             ]
            ],
            "type": "contour"
           }
          ],
          "contourcarpet": [
           {
            "colorbar": {
             "outlinewidth": 0,
             "ticks": ""
            },
            "type": "contourcarpet"
           }
          ],
          "heatmap": [
           {
            "colorbar": {
             "outlinewidth": 0,
             "ticks": ""
            },
            "colorscale": [
             [
              0,
              "#0d0887"
             ],
             [
              0.1111111111111111,
              "#46039f"
             ],
             [
              0.2222222222222222,
              "#7201a8"
             ],
             [
              0.3333333333333333,
              "#9c179e"
             ],
             [
              0.4444444444444444,
              "#bd3786"
             ],
             [
              0.5555555555555556,
              "#d8576b"
             ],
             [
              0.6666666666666666,
              "#ed7953"
             ],
             [
              0.7777777777777778,
              "#fb9f3a"
             ],
             [
              0.8888888888888888,
              "#fdca26"
             ],
             [
              1,
              "#f0f921"
             ]
            ],
            "type": "heatmap"
           }
          ],
          "heatmapgl": [
           {
            "colorbar": {
             "outlinewidth": 0,
             "ticks": ""
            },
            "colorscale": [
             [
              0,
              "#0d0887"
             ],
             [
              0.1111111111111111,
              "#46039f"
             ],
             [
              0.2222222222222222,
              "#7201a8"
             ],
             [
              0.3333333333333333,
              "#9c179e"
             ],
             [
              0.4444444444444444,
              "#bd3786"
             ],
             [
              0.5555555555555556,
              "#d8576b"
             ],
             [
              0.6666666666666666,
              "#ed7953"
             ],
             [
              0.7777777777777778,
              "#fb9f3a"
             ],
             [
              0.8888888888888888,
              "#fdca26"
             ],
             [
              1,
              "#f0f921"
             ]
            ],
            "type": "heatmapgl"
           }
          ],
          "histogram": [
           {
            "marker": {
             "colorbar": {
              "outlinewidth": 0,
              "ticks": ""
             }
            },
            "type": "histogram"
           }
          ],
          "histogram2d": [
           {
            "colorbar": {
             "outlinewidth": 0,
             "ticks": ""
            },
            "colorscale": [
             [
              0,
              "#0d0887"
             ],
             [
              0.1111111111111111,
              "#46039f"
             ],
             [
              0.2222222222222222,
              "#7201a8"
             ],
             [
              0.3333333333333333,
              "#9c179e"
             ],
             [
              0.4444444444444444,
              "#bd3786"
             ],
             [
              0.5555555555555556,
              "#d8576b"
             ],
             [
              0.6666666666666666,
              "#ed7953"
             ],
             [
              0.7777777777777778,
              "#fb9f3a"
             ],
             [
              0.8888888888888888,
              "#fdca26"
             ],
             [
              1,
              "#f0f921"
             ]
            ],
            "type": "histogram2d"
           }
          ],
          "histogram2dcontour": [
           {
            "colorbar": {
             "outlinewidth": 0,
             "ticks": ""
            },
            "colorscale": [
             [
              0,
              "#0d0887"
             ],
             [
              0.1111111111111111,
              "#46039f"
             ],
             [
              0.2222222222222222,
              "#7201a8"
             ],
             [
              0.3333333333333333,
              "#9c179e"
             ],
             [
              0.4444444444444444,
              "#bd3786"
             ],
             [
              0.5555555555555556,
              "#d8576b"
             ],
             [
              0.6666666666666666,
              "#ed7953"
             ],
             [
              0.7777777777777778,
              "#fb9f3a"
             ],
             [
              0.8888888888888888,
              "#fdca26"
             ],
             [
              1,
              "#f0f921"
             ]
            ],
            "type": "histogram2dcontour"
           }
          ],
          "mesh3d": [
           {
            "colorbar": {
             "outlinewidth": 0,
             "ticks": ""
            },
            "type": "mesh3d"
           }
          ],
          "parcoords": [
           {
            "line": {
             "colorbar": {
              "outlinewidth": 0,
              "ticks": ""
             }
            },
            "type": "parcoords"
           }
          ],
          "pie": [
           {
            "automargin": true,
            "type": "pie"
           }
          ],
          "scatter": [
           {
            "marker": {
             "colorbar": {
              "outlinewidth": 0,
              "ticks": ""
             }
            },
            "type": "scatter"
           }
          ],
          "scatter3d": [
           {
            "line": {
             "colorbar": {
              "outlinewidth": 0,
              "ticks": ""
             }
            },
            "marker": {
             "colorbar": {
              "outlinewidth": 0,
              "ticks": ""
             }
            },
            "type": "scatter3d"
           }
          ],
          "scattercarpet": [
           {
            "marker": {
             "colorbar": {
              "outlinewidth": 0,
              "ticks": ""
             }
            },
            "type": "scattercarpet"
           }
          ],
          "scattergeo": [
           {
            "marker": {
             "colorbar": {
              "outlinewidth": 0,
              "ticks": ""
             }
            },
            "type": "scattergeo"
           }
          ],
          "scattergl": [
           {
            "marker": {
             "colorbar": {
              "outlinewidth": 0,
              "ticks": ""
             }
            },
            "type": "scattergl"
           }
          ],
          "scattermapbox": [
           {
            "marker": {
             "colorbar": {
              "outlinewidth": 0,
              "ticks": ""
             }
            },
            "type": "scattermapbox"
           }
          ],
          "scatterpolar": [
           {
            "marker": {
             "colorbar": {
              "outlinewidth": 0,
              "ticks": ""
             }
            },
            "type": "scatterpolar"
           }
          ],
          "scatterpolargl": [
           {
            "marker": {
             "colorbar": {
              "outlinewidth": 0,
              "ticks": ""
             }
            },
            "type": "scatterpolargl"
           }
          ],
          "scatterternary": [
           {
            "marker": {
             "colorbar": {
              "outlinewidth": 0,
              "ticks": ""
             }
            },
            "type": "scatterternary"
           }
          ],
          "surface": [
           {
            "colorbar": {
             "outlinewidth": 0,
             "ticks": ""
            },
            "colorscale": [
             [
              0,
              "#0d0887"
             ],
             [
              0.1111111111111111,
              "#46039f"
             ],
             [
              0.2222222222222222,
              "#7201a8"
             ],
             [
              0.3333333333333333,
              "#9c179e"
             ],
             [
              0.4444444444444444,
              "#bd3786"
             ],
             [
              0.5555555555555556,
              "#d8576b"
             ],
             [
              0.6666666666666666,
              "#ed7953"
             ],
             [
              0.7777777777777778,
              "#fb9f3a"
             ],
             [
              0.8888888888888888,
              "#fdca26"
             ],
             [
              1,
              "#f0f921"
             ]
            ],
            "type": "surface"
           }
          ],
          "table": [
           {
            "cells": {
             "fill": {
              "color": "#EBF0F8"
             },
             "line": {
              "color": "white"
             }
            },
            "header": {
             "fill": {
              "color": "#C8D4E3"
             },
             "line": {
              "color": "white"
             }
            },
            "type": "table"
           }
          ]
         },
         "layout": {
          "annotationdefaults": {
           "arrowcolor": "#2a3f5f",
           "arrowhead": 0,
           "arrowwidth": 1
          },
          "coloraxis": {
           "colorbar": {
            "outlinewidth": 0,
            "ticks": ""
           }
          },
          "colorscale": {
           "diverging": [
            [
             0,
             "#8e0152"
            ],
            [
             0.1,
             "#c51b7d"
            ],
            [
             0.2,
             "#de77ae"
            ],
            [
             0.3,
             "#f1b6da"
            ],
            [
             0.4,
             "#fde0ef"
            ],
            [
             0.5,
             "#f7f7f7"
            ],
            [
             0.6,
             "#e6f5d0"
            ],
            [
             0.7,
             "#b8e186"
            ],
            [
             0.8,
             "#7fbc41"
            ],
            [
             0.9,
             "#4d9221"
            ],
            [
             1,
             "#276419"
            ]
           ],
           "sequential": [
            [
             0,
             "#0d0887"
            ],
            [
             0.1111111111111111,
             "#46039f"
            ],
            [
             0.2222222222222222,
             "#7201a8"
            ],
            [
             0.3333333333333333,
             "#9c179e"
            ],
            [
             0.4444444444444444,
             "#bd3786"
            ],
            [
             0.5555555555555556,
             "#d8576b"
            ],
            [
             0.6666666666666666,
             "#ed7953"
            ],
            [
             0.7777777777777778,
             "#fb9f3a"
            ],
            [
             0.8888888888888888,
             "#fdca26"
            ],
            [
             1,
             "#f0f921"
            ]
           ],
           "sequentialminus": [
            [
             0,
             "#0d0887"
            ],
            [
             0.1111111111111111,
             "#46039f"
            ],
            [
             0.2222222222222222,
             "#7201a8"
            ],
            [
             0.3333333333333333,
             "#9c179e"
            ],
            [
             0.4444444444444444,
             "#bd3786"
            ],
            [
             0.5555555555555556,
             "#d8576b"
            ],
            [
             0.6666666666666666,
             "#ed7953"
            ],
            [
             0.7777777777777778,
             "#fb9f3a"
            ],
            [
             0.8888888888888888,
             "#fdca26"
            ],
            [
             1,
             "#f0f921"
            ]
           ]
          },
          "colorway": [
           "#636efa",
           "#EF553B",
           "#00cc96",
           "#ab63fa",
           "#FFA15A",
           "#19d3f3",
           "#FF6692",
           "#B6E880",
           "#FF97FF",
           "#FECB52"
          ],
          "font": {
           "color": "#2a3f5f"
          },
          "geo": {
           "bgcolor": "white",
           "lakecolor": "white",
           "landcolor": "#E5ECF6",
           "showlakes": true,
           "showland": true,
           "subunitcolor": "white"
          },
          "hoverlabel": {
           "align": "left"
          },
          "hovermode": "closest",
          "mapbox": {
           "style": "light"
          },
          "paper_bgcolor": "white",
          "plot_bgcolor": "#E5ECF6",
          "polar": {
           "angularaxis": {
            "gridcolor": "white",
            "linecolor": "white",
            "ticks": ""
           },
           "bgcolor": "#E5ECF6",
           "radialaxis": {
            "gridcolor": "white",
            "linecolor": "white",
            "ticks": ""
           }
          },
          "scene": {
           "xaxis": {
            "backgroundcolor": "#E5ECF6",
            "gridcolor": "white",
            "gridwidth": 2,
            "linecolor": "white",
            "showbackground": true,
            "ticks": "",
            "zerolinecolor": "white"
           },
           "yaxis": {
            "backgroundcolor": "#E5ECF6",
            "gridcolor": "white",
            "gridwidth": 2,
            "linecolor": "white",
            "showbackground": true,
            "ticks": "",
            "zerolinecolor": "white"
           },
           "zaxis": {
            "backgroundcolor": "#E5ECF6",
            "gridcolor": "white",
            "gridwidth": 2,
            "linecolor": "white",
            "showbackground": true,
            "ticks": "",
            "zerolinecolor": "white"
           }
          },
          "shapedefaults": {
           "line": {
            "color": "#2a3f5f"
           }
          },
          "ternary": {
           "aaxis": {
            "gridcolor": "white",
            "linecolor": "white",
            "ticks": ""
           },
           "baxis": {
            "gridcolor": "white",
            "linecolor": "white",
            "ticks": ""
           },
           "bgcolor": "#E5ECF6",
           "caxis": {
            "gridcolor": "white",
            "linecolor": "white",
            "ticks": ""
           }
          },
          "title": {
           "x": 0.05
          },
          "xaxis": {
           "automargin": true,
           "gridcolor": "white",
           "linecolor": "white",
           "ticks": "",
           "title": {
            "standoff": 15
           },
           "zerolinecolor": "white",
           "zerolinewidth": 2
          },
          "yaxis": {
           "automargin": true,
           "gridcolor": "white",
           "linecolor": "white",
           "ticks": "",
           "title": {
            "standoff": 15
           },
           "zerolinecolor": "white",
           "zerolinewidth": 2
          }
         }
        },
        "title": {
         "text": "test"
        },
        "xaxis": {
         "anchor": "y",
         "domain": [
          0,
          1
         ],
         "range": [
          0,
          39171
         ]
        },
        "xaxis2": {
         "anchor": "y2",
         "domain": [
          0,
          1
         ],
         "range": [
          0,
          39171
         ]
        },
        "yaxis": {
         "anchor": "x",
         "domain": [
          0.625,
          1
         ]
        },
        "yaxis2": {
         "anchor": "x2",
         "domain": [
          0,
          0.375
         ]
        }
       }
      },
      "text/html": [
       "<div>                            <div id=\"d8cb7500-0646-4704-b874-02a2bffd4d70\" class=\"plotly-graph-div\" style=\"height:525px; width:100%;\"></div>            <script type=\"text/javascript\">                require([\"plotly\"], function(Plotly) {                    window.PLOTLYENV=window.PLOTLYENV || {};                                    if (document.getElementById(\"d8cb7500-0646-4704-b874-02a2bffd4d70\")) {                    Plotly.newPlot(                        \"d8cb7500-0646-4704-b874-02a2bffd4d70\",                        [{\"marker\": {\"color\": \"Blue\"}, \"orientation\": \"h\", \"text\": [2148, 4153, 6851, 39171], \"textposition\": \"auto\", \"type\": \"bar\", \"x\": [2148, 4153, 6851, 39171], \"xaxis\": \"x\", \"y\": [\"Drymander\", \"Bophodes\", \"cryptolockerSD\", \"SixKnifeWalker\"], \"yaxis\": \"y\"}, {\"marker\": {\"color\": \"Red\"}, \"orientation\": \"h\", \"text\": [1565, 4305, 9429, 9779], \"textposition\": \"auto\", \"type\": \"bar\", \"x\": [1565, 4305, 9429, 9779], \"xaxis\": \"x2\", \"y\": [\"SourStarfish28\", \"Nottheeddu\", \"Dimension vv\", \"Nefarious\"], \"yaxis\": \"y2\"}],                        {\"annotations\": [{\"font\": {\"size\": 16}, \"showarrow\": false, \"text\": \"Player Team\", \"x\": 0.5, \"xanchor\": \"center\", \"xref\": \"paper\", \"y\": 1.0, \"yanchor\": \"bottom\", \"yref\": \"paper\"}, {\"font\": {\"size\": 16}, \"showarrow\": false, \"text\": \"Enemy Team\", \"x\": 0.5, \"xanchor\": \"center\", \"xref\": \"paper\", \"y\": 0.375, \"yanchor\": \"bottom\", \"yref\": \"paper\"}], \"template\": {\"data\": {\"bar\": [{\"error_x\": {\"color\": \"#2a3f5f\"}, \"error_y\": {\"color\": \"#2a3f5f\"}, \"marker\": {\"line\": {\"color\": \"#E5ECF6\", \"width\": 0.5}}, \"type\": \"bar\"}], \"barpolar\": [{\"marker\": {\"line\": {\"color\": \"#E5ECF6\", \"width\": 0.5}}, \"type\": \"barpolar\"}], \"carpet\": [{\"aaxis\": {\"endlinecolor\": \"#2a3f5f\", \"gridcolor\": \"white\", \"linecolor\": \"white\", \"minorgridcolor\": \"white\", \"startlinecolor\": \"#2a3f5f\"}, \"baxis\": {\"endlinecolor\": \"#2a3f5f\", \"gridcolor\": \"white\", \"linecolor\": \"white\", \"minorgridcolor\": \"white\", \"startlinecolor\": \"#2a3f5f\"}, \"type\": \"carpet\"}], \"choropleth\": [{\"colorbar\": {\"outlinewidth\": 0, \"ticks\": \"\"}, \"type\": \"choropleth\"}], \"contour\": [{\"colorbar\": {\"outlinewidth\": 0, \"ticks\": \"\"}, \"colorscale\": [[0.0, \"#0d0887\"], [0.1111111111111111, \"#46039f\"], [0.2222222222222222, \"#7201a8\"], [0.3333333333333333, \"#9c179e\"], [0.4444444444444444, \"#bd3786\"], [0.5555555555555556, \"#d8576b\"], [0.6666666666666666, \"#ed7953\"], [0.7777777777777778, \"#fb9f3a\"], [0.8888888888888888, \"#fdca26\"], [1.0, \"#f0f921\"]], \"type\": \"contour\"}], \"contourcarpet\": [{\"colorbar\": {\"outlinewidth\": 0, \"ticks\": \"\"}, \"type\": \"contourcarpet\"}], \"heatmap\": [{\"colorbar\": {\"outlinewidth\": 0, \"ticks\": \"\"}, \"colorscale\": [[0.0, \"#0d0887\"], [0.1111111111111111, \"#46039f\"], [0.2222222222222222, \"#7201a8\"], [0.3333333333333333, \"#9c179e\"], [0.4444444444444444, \"#bd3786\"], [0.5555555555555556, \"#d8576b\"], [0.6666666666666666, \"#ed7953\"], [0.7777777777777778, \"#fb9f3a\"], [0.8888888888888888, \"#fdca26\"], [1.0, \"#f0f921\"]], \"type\": \"heatmap\"}], \"heatmapgl\": [{\"colorbar\": {\"outlinewidth\": 0, \"ticks\": \"\"}, \"colorscale\": [[0.0, \"#0d0887\"], [0.1111111111111111, \"#46039f\"], [0.2222222222222222, \"#7201a8\"], [0.3333333333333333, \"#9c179e\"], [0.4444444444444444, \"#bd3786\"], [0.5555555555555556, \"#d8576b\"], [0.6666666666666666, \"#ed7953\"], [0.7777777777777778, \"#fb9f3a\"], [0.8888888888888888, \"#fdca26\"], [1.0, \"#f0f921\"]], \"type\": \"heatmapgl\"}], \"histogram\": [{\"marker\": {\"colorbar\": {\"outlinewidth\": 0, \"ticks\": \"\"}}, \"type\": \"histogram\"}], \"histogram2d\": [{\"colorbar\": {\"outlinewidth\": 0, \"ticks\": \"\"}, \"colorscale\": [[0.0, \"#0d0887\"], [0.1111111111111111, \"#46039f\"], [0.2222222222222222, \"#7201a8\"], [0.3333333333333333, \"#9c179e\"], [0.4444444444444444, \"#bd3786\"], [0.5555555555555556, \"#d8576b\"], [0.6666666666666666, \"#ed7953\"], [0.7777777777777778, \"#fb9f3a\"], [0.8888888888888888, \"#fdca26\"], [1.0, \"#f0f921\"]], \"type\": \"histogram2d\"}], \"histogram2dcontour\": [{\"colorbar\": {\"outlinewidth\": 0, \"ticks\": \"\"}, \"colorscale\": [[0.0, \"#0d0887\"], [0.1111111111111111, \"#46039f\"], [0.2222222222222222, \"#7201a8\"], [0.3333333333333333, \"#9c179e\"], [0.4444444444444444, \"#bd3786\"], [0.5555555555555556, \"#d8576b\"], [0.6666666666666666, \"#ed7953\"], [0.7777777777777778, \"#fb9f3a\"], [0.8888888888888888, \"#fdca26\"], [1.0, \"#f0f921\"]], \"type\": \"histogram2dcontour\"}], \"mesh3d\": [{\"colorbar\": {\"outlinewidth\": 0, \"ticks\": \"\"}, \"type\": \"mesh3d\"}], \"parcoords\": [{\"line\": {\"colorbar\": {\"outlinewidth\": 0, \"ticks\": \"\"}}, \"type\": \"parcoords\"}], \"pie\": [{\"automargin\": true, \"type\": \"pie\"}], \"scatter\": [{\"marker\": {\"colorbar\": {\"outlinewidth\": 0, \"ticks\": \"\"}}, \"type\": \"scatter\"}], \"scatter3d\": [{\"line\": {\"colorbar\": {\"outlinewidth\": 0, \"ticks\": \"\"}}, \"marker\": {\"colorbar\": {\"outlinewidth\": 0, \"ticks\": \"\"}}, \"type\": \"scatter3d\"}], \"scattercarpet\": [{\"marker\": {\"colorbar\": {\"outlinewidth\": 0, \"ticks\": \"\"}}, \"type\": \"scattercarpet\"}], \"scattergeo\": [{\"marker\": {\"colorbar\": {\"outlinewidth\": 0, \"ticks\": \"\"}}, \"type\": \"scattergeo\"}], \"scattergl\": [{\"marker\": {\"colorbar\": {\"outlinewidth\": 0, \"ticks\": \"\"}}, \"type\": \"scattergl\"}], \"scattermapbox\": [{\"marker\": {\"colorbar\": {\"outlinewidth\": 0, \"ticks\": \"\"}}, \"type\": \"scattermapbox\"}], \"scatterpolar\": [{\"marker\": {\"colorbar\": {\"outlinewidth\": 0, \"ticks\": \"\"}}, \"type\": \"scatterpolar\"}], \"scatterpolargl\": [{\"marker\": {\"colorbar\": {\"outlinewidth\": 0, \"ticks\": \"\"}}, \"type\": \"scatterpolargl\"}], \"scatterternary\": [{\"marker\": {\"colorbar\": {\"outlinewidth\": 0, \"ticks\": \"\"}}, \"type\": \"scatterternary\"}], \"surface\": [{\"colorbar\": {\"outlinewidth\": 0, \"ticks\": \"\"}, \"colorscale\": [[0.0, \"#0d0887\"], [0.1111111111111111, \"#46039f\"], [0.2222222222222222, \"#7201a8\"], [0.3333333333333333, \"#9c179e\"], [0.4444444444444444, \"#bd3786\"], [0.5555555555555556, \"#d8576b\"], [0.6666666666666666, \"#ed7953\"], [0.7777777777777778, \"#fb9f3a\"], [0.8888888888888888, \"#fdca26\"], [1.0, \"#f0f921\"]], \"type\": \"surface\"}], \"table\": [{\"cells\": {\"fill\": {\"color\": \"#EBF0F8\"}, \"line\": {\"color\": \"white\"}}, \"header\": {\"fill\": {\"color\": \"#C8D4E3\"}, \"line\": {\"color\": \"white\"}}, \"type\": \"table\"}]}, \"layout\": {\"annotationdefaults\": {\"arrowcolor\": \"#2a3f5f\", \"arrowhead\": 0, \"arrowwidth\": 1}, \"coloraxis\": {\"colorbar\": {\"outlinewidth\": 0, \"ticks\": \"\"}}, \"colorscale\": {\"diverging\": [[0, \"#8e0152\"], [0.1, \"#c51b7d\"], [0.2, \"#de77ae\"], [0.3, \"#f1b6da\"], [0.4, \"#fde0ef\"], [0.5, \"#f7f7f7\"], [0.6, \"#e6f5d0\"], [0.7, \"#b8e186\"], [0.8, \"#7fbc41\"], [0.9, \"#4d9221\"], [1, \"#276419\"]], \"sequential\": [[0.0, \"#0d0887\"], [0.1111111111111111, \"#46039f\"], [0.2222222222222222, \"#7201a8\"], [0.3333333333333333, \"#9c179e\"], [0.4444444444444444, \"#bd3786\"], [0.5555555555555556, \"#d8576b\"], [0.6666666666666666, \"#ed7953\"], [0.7777777777777778, \"#fb9f3a\"], [0.8888888888888888, \"#fdca26\"], [1.0, \"#f0f921\"]], \"sequentialminus\": [[0.0, \"#0d0887\"], [0.1111111111111111, \"#46039f\"], [0.2222222222222222, \"#7201a8\"], [0.3333333333333333, \"#9c179e\"], [0.4444444444444444, \"#bd3786\"], [0.5555555555555556, \"#d8576b\"], [0.6666666666666666, \"#ed7953\"], [0.7777777777777778, \"#fb9f3a\"], [0.8888888888888888, \"#fdca26\"], [1.0, \"#f0f921\"]]}, \"colorway\": [\"#636efa\", \"#EF553B\", \"#00cc96\", \"#ab63fa\", \"#FFA15A\", \"#19d3f3\", \"#FF6692\", \"#B6E880\", \"#FF97FF\", \"#FECB52\"], \"font\": {\"color\": \"#2a3f5f\"}, \"geo\": {\"bgcolor\": \"white\", \"lakecolor\": \"white\", \"landcolor\": \"#E5ECF6\", \"showlakes\": true, \"showland\": true, \"subunitcolor\": \"white\"}, \"hoverlabel\": {\"align\": \"left\"}, \"hovermode\": \"closest\", \"mapbox\": {\"style\": \"light\"}, \"paper_bgcolor\": \"white\", \"plot_bgcolor\": \"#E5ECF6\", \"polar\": {\"angularaxis\": {\"gridcolor\": \"white\", \"linecolor\": \"white\", \"ticks\": \"\"}, \"bgcolor\": \"#E5ECF6\", \"radialaxis\": {\"gridcolor\": \"white\", \"linecolor\": \"white\", \"ticks\": \"\"}}, \"scene\": {\"xaxis\": {\"backgroundcolor\": \"#E5ECF6\", \"gridcolor\": \"white\", \"gridwidth\": 2, \"linecolor\": \"white\", \"showbackground\": true, \"ticks\": \"\", \"zerolinecolor\": \"white\"}, \"yaxis\": {\"backgroundcolor\": \"#E5ECF6\", \"gridcolor\": \"white\", \"gridwidth\": 2, \"linecolor\": \"white\", \"showbackground\": true, \"ticks\": \"\", \"zerolinecolor\": \"white\"}, \"zaxis\": {\"backgroundcolor\": \"#E5ECF6\", \"gridcolor\": \"white\", \"gridwidth\": 2, \"linecolor\": \"white\", \"showbackground\": true, \"ticks\": \"\", \"zerolinecolor\": \"white\"}}, \"shapedefaults\": {\"line\": {\"color\": \"#2a3f5f\"}}, \"ternary\": {\"aaxis\": {\"gridcolor\": \"white\", \"linecolor\": \"white\", \"ticks\": \"\"}, \"baxis\": {\"gridcolor\": \"white\", \"linecolor\": \"white\", \"ticks\": \"\"}, \"bgcolor\": \"#E5ECF6\", \"caxis\": {\"gridcolor\": \"white\", \"linecolor\": \"white\", \"ticks\": \"\"}}, \"title\": {\"x\": 0.05}, \"xaxis\": {\"automargin\": true, \"gridcolor\": \"white\", \"linecolor\": \"white\", \"ticks\": \"\", \"title\": {\"standoff\": 15}, \"zerolinecolor\": \"white\", \"zerolinewidth\": 2}, \"yaxis\": {\"automargin\": true, \"gridcolor\": \"white\", \"linecolor\": \"white\", \"ticks\": \"\", \"title\": {\"standoff\": 15}, \"zerolinecolor\": \"white\", \"zerolinewidth\": 2}}}, \"title\": {\"text\": \"test\"}, \"xaxis\": {\"anchor\": \"y\", \"domain\": [0.0, 1.0], \"range\": [0, 39171]}, \"xaxis2\": {\"anchor\": \"y2\", \"domain\": [0.0, 1.0], \"range\": [0, 39171]}, \"yaxis\": {\"anchor\": \"x\", \"domain\": [0.625, 1.0]}, \"yaxis2\": {\"anchor\": \"x2\", \"domain\": [0.0, 0.375]}},                        {\"responsive\": true}                    ).then(function(){\n",
       "                            \n",
       "var gd = document.getElementById('d8cb7500-0646-4704-b874-02a2bffd4d70');\n",
       "var x = new MutationObserver(function (mutations, observer) {{\n",
       "        var display = window.getComputedStyle(gd).display;\n",
       "        if (!display || display === 'none') {{\n",
       "            console.log([gd, 'removed!']);\n",
       "            Plotly.purge(gd);\n",
       "            observer.disconnect();\n",
       "        }}\n",
       "}});\n",
       "\n",
       "// Listen for the removal of the full notebook cells\n",
       "var notebookContainer = gd.closest('#notebook-container');\n",
       "if (notebookContainer) {{\n",
       "    x.observe(notebookContainer, {childList: true});\n",
       "}}\n",
       "\n",
       "// Listen for the clearing of the current output cell\n",
       "var outputEl = gd.closest('.output');\n",
       "if (outputEl) {{\n",
       "    x.observe(outputEl, {childList: true});\n",
       "}}\n",
       "\n",
       "                        })                };                });            </script>        </div>"
      ]
     },
     "metadata": {},
     "output_type": "display_data"
    }
   ],
   "source": [
    "# %%writefile 'compare_stat.py'\n",
    "\n",
    "\n",
    "\n",
    "import plotly.graph_objects as go\n",
    "# from plotly.subplots import make_subplots\n",
    "from plotly.subplots import make_subplots\n",
    "def compare_stat(df, column_name):\n",
    "    df = df.round(2)\n",
    "    # Separate player and enemy teams\n",
    "    df_player = df.loc[df['PlayerTeam'] == 'Player']\n",
    "    df_enemy = df.loc[df['PlayerTeam'] == 'Enemy']\n",
    "\n",
    "    # Sort total time played by descending\n",
    "    df_player = df_player.sort_values(by=[column_name])\n",
    "    df_enemy = df_enemy.sort_values(by=[column_name])\n",
    "\n",
    "    # Assign player / enemy colors\n",
    "    if df_player['TeamColor'].iloc[0] == 'Blue':\n",
    "        player_color = 'Blue'\n",
    "        enemy_color = 'Red'\n",
    "    else:\n",
    "        player_color = 'Red'\n",
    "        enemy_color = 'Blue'\n",
    "    \n",
    "    # Make subplot and X axis range\n",
    "    fig = make_subplots(rows=2, cols=1, subplot_titles=['Player Team', 'Enemy Team'])\n",
    "    x_range = df[column_name].max()\n",
    "    \n",
    "    # Player team sub plot\n",
    "    fig.add_trace(go.Bar(\n",
    "                x=df_player[column_name],\n",
    "                y=df_player['Gamertag'],\n",
    "                orientation='h',\n",
    "                text=df_player[column_name],\n",
    "                textposition='auto',\n",
    "                marker_color=player_color),\n",
    "                    row=1, col=1)\n",
    "    fig.update_xaxes(range=[0, x_range], row=1, col=1)\n",
    "    \n",
    "    # Enemy team sub plot\n",
    "    fig.add_trace(go.Bar(\n",
    "                x=df_enemy[column_name],\n",
    "                y=df_enemy['Gamertag'],\n",
    "                orientation='h',\n",
    "                text=df_enemy[column_name],\n",
    "                textposition='auto',\n",
    "                marker_color=enemy_color),\n",
    "                    row=2, col=1)\n",
    "    fig.update_xaxes(range=[0, x_range], row=2, col=1)\n",
    "    fig.update_layout(title_text='test')\n",
    "    return fig\n",
    "\n",
    "compare_stat(df, 'TotalHeadshots')"
   ]
  },
  {
   "cell_type": "code",
   "execution_count": 74,
   "metadata": {
    "ExecuteTime": {
     "end_time": "2021-07-23T19:52:26.117946Z",
     "start_time": "2021-07-23T19:52:22.934309Z"
    }
   },
   "outputs": [],
   "source": [
    "df = recent_match_stats('Drymander', 0)"
   ]
  },
  {
   "cell_type": "code",
   "execution_count": 75,
   "metadata": {
    "ExecuteTime": {
     "end_time": "2021-07-23T19:52:29.468416Z",
     "start_time": "2021-07-23T19:52:29.431416Z"
    }
   },
   "outputs": [
    {
     "data": {
      "text/html": [
       "<div>\n",
       "<style scoped>\n",
       "    .dataframe tbody tr th:only-of-type {\n",
       "        vertical-align: middle;\n",
       "    }\n",
       "\n",
       "    .dataframe tbody tr th {\n",
       "        vertical-align: top;\n",
       "    }\n",
       "\n",
       "    .dataframe thead th {\n",
       "        text-align: right;\n",
       "    }\n",
       "</style>\n",
       "<table border=\"1\" class=\"dataframe\">\n",
       "  <thead>\n",
       "    <tr style=\"text-align: right;\">\n",
       "      <th></th>\n",
       "      <th>Date</th>\n",
       "      <th>MatchId</th>\n",
       "      <th>GameBaseVariantId</th>\n",
       "      <th>PlaylistId</th>\n",
       "      <th>MapVariantId</th>\n",
       "      <th>DNF</th>\n",
       "      <th>TeamId</th>\n",
       "      <th>PlayerTeam</th>\n",
       "      <th>Winner</th>\n",
       "      <th>TeamColor</th>\n",
       "      <th>Gamertag</th>\n",
       "      <th>SpartanRank</th>\n",
       "      <th>PrevTotalXP</th>\n",
       "      <th>TotalKills</th>\n",
       "      <th>TotalHeadshots</th>\n",
       "      <th>TotalWeaponDamage</th>\n",
       "      <th>TotalShotsFired</th>\n",
       "      <th>TotalShotsLanded</th>\n",
       "      <th>TotalMeleeKills</th>\n",
       "      <th>TotalMeleeDamage</th>\n",
       "      <th>TotalAssassinations</th>\n",
       "      <th>TotalGroundPoundKills</th>\n",
       "      <th>TotalGroundPoundDamage</th>\n",
       "      <th>TotalShoulderBashKills</th>\n",
       "      <th>TotalShoulderBashDamage</th>\n",
       "      <th>TotalGrenadeDamage</th>\n",
       "      <th>TotalPowerWeaponKills</th>\n",
       "      <th>TotalPowerWeaponDamage</th>\n",
       "      <th>TotalPowerWeaponGrabs</th>\n",
       "      <th>TotalPowerWeaponPossessionTime</th>\n",
       "      <th>TotalDeaths</th>\n",
       "      <th>TotalAssists</th>\n",
       "      <th>TotalGamesCompleted</th>\n",
       "      <th>TotalGamesWon</th>\n",
       "      <th>TotalGamesLost</th>\n",
       "      <th>TotalGamesTied</th>\n",
       "      <th>TotalTimePlayed</th>\n",
       "      <th>TotalGrenadeKills</th>\n",
       "    </tr>\n",
       "  </thead>\n",
       "  <tbody>\n",
       "    <tr>\n",
       "      <th>0</th>\n",
       "      <td>July, 22 2021</td>\n",
       "      <td>2eecaf00-ba9f-432e-b144-bc1c90b29430</td>\n",
       "      <td>Slayer</td>\n",
       "      <td>Super Fiesta Party</td>\n",
       "      <td>Plaza</td>\n",
       "      <td>0.0</td>\n",
       "      <td>0.0</td>\n",
       "      <td>Enemy</td>\n",
       "      <td>Victory</td>\n",
       "      <td>Red</td>\n",
       "      <td>Dimension vv</td>\n",
       "      <td>138</td>\n",
       "      <td>6187181</td>\n",
       "      <td>18515</td>\n",
       "      <td>9429</td>\n",
       "      <td>1.826929e+06</td>\n",
       "      <td>265219</td>\n",
       "      <td>106669</td>\n",
       "      <td>980</td>\n",
       "      <td>1.653060e+05</td>\n",
       "      <td>569</td>\n",
       "      <td>106</td>\n",
       "      <td>12037.056124</td>\n",
       "      <td>217</td>\n",
       "      <td>28556.529271</td>\n",
       "      <td>8.783789e+04</td>\n",
       "      <td>6352</td>\n",
       "      <td>7.949680e+05</td>\n",
       "      <td>457</td>\n",
       "      <td>P1DT23H19M28.9227S</td>\n",
       "      <td>18273</td>\n",
       "      <td>4075</td>\n",
       "      <td>1547</td>\n",
       "      <td>723</td>\n",
       "      <td>824</td>\n",
       "      <td>0</td>\n",
       "      <td>177.315192</td>\n",
       "      <td>515</td>\n",
       "    </tr>\n",
       "    <tr>\n",
       "      <th>1</th>\n",
       "      <td>July, 22 2021</td>\n",
       "      <td>2eecaf00-ba9f-432e-b144-bc1c90b29430</td>\n",
       "      <td>Slayer</td>\n",
       "      <td>Super Fiesta Party</td>\n",
       "      <td>Plaza</td>\n",
       "      <td>0.0</td>\n",
       "      <td>0.0</td>\n",
       "      <td>Enemy</td>\n",
       "      <td>Victory</td>\n",
       "      <td>Red</td>\n",
       "      <td>Nefarious</td>\n",
       "      <td>144</td>\n",
       "      <td>7508121</td>\n",
       "      <td>22619</td>\n",
       "      <td>9779</td>\n",
       "      <td>2.341174e+06</td>\n",
       "      <td>301329</td>\n",
       "      <td>132159</td>\n",
       "      <td>1768</td>\n",
       "      <td>1.827042e+05</td>\n",
       "      <td>498</td>\n",
       "      <td>183</td>\n",
       "      <td>16618.659790</td>\n",
       "      <td>347</td>\n",
       "      <td>26330.779343</td>\n",
       "      <td>1.470351e+05</td>\n",
       "      <td>8724</td>\n",
       "      <td>1.057324e+06</td>\n",
       "      <td>520</td>\n",
       "      <td>P2DT8H12M46.2633S</td>\n",
       "      <td>20930</td>\n",
       "      <td>4852</td>\n",
       "      <td>1726</td>\n",
       "      <td>803</td>\n",
       "      <td>923</td>\n",
       "      <td>0</td>\n",
       "      <td>195.564511</td>\n",
       "      <td>758</td>\n",
       "    </tr>\n",
       "    <tr>\n",
       "      <th>2</th>\n",
       "      <td>July, 22 2021</td>\n",
       "      <td>2eecaf00-ba9f-432e-b144-bc1c90b29430</td>\n",
       "      <td>Slayer</td>\n",
       "      <td>Super Fiesta Party</td>\n",
       "      <td>Plaza</td>\n",
       "      <td>0.0</td>\n",
       "      <td>0.0</td>\n",
       "      <td>Enemy</td>\n",
       "      <td>Victory</td>\n",
       "      <td>Red</td>\n",
       "      <td>SourStarfish28</td>\n",
       "      <td>143</td>\n",
       "      <td>6823910</td>\n",
       "      <td>19021</td>\n",
       "      <td>1565</td>\n",
       "      <td>2.442232e+06</td>\n",
       "      <td>346960</td>\n",
       "      <td>132726</td>\n",
       "      <td>522</td>\n",
       "      <td>5.683225e+04</td>\n",
       "      <td>99</td>\n",
       "      <td>12</td>\n",
       "      <td>2313.328398</td>\n",
       "      <td>71</td>\n",
       "      <td>10473.208076</td>\n",
       "      <td>3.920214e+04</td>\n",
       "      <td>16021</td>\n",
       "      <td>2.080327e+06</td>\n",
       "      <td>16</td>\n",
       "      <td>P5DT4H52M7.412S</td>\n",
       "      <td>18264</td>\n",
       "      <td>3729</td>\n",
       "      <td>1483</td>\n",
       "      <td>730</td>\n",
       "      <td>752</td>\n",
       "      <td>1</td>\n",
       "      <td>193.553819</td>\n",
       "      <td>212</td>\n",
       "    </tr>\n",
       "    <tr>\n",
       "      <th>3</th>\n",
       "      <td>July, 22 2021</td>\n",
       "      <td>2eecaf00-ba9f-432e-b144-bc1c90b29430</td>\n",
       "      <td>Slayer</td>\n",
       "      <td>Super Fiesta Party</td>\n",
       "      <td>Plaza</td>\n",
       "      <td>0.0</td>\n",
       "      <td>0.0</td>\n",
       "      <td>Enemy</td>\n",
       "      <td>Victory</td>\n",
       "      <td>Red</td>\n",
       "      <td>Nottheeddu</td>\n",
       "      <td>150</td>\n",
       "      <td>27262125</td>\n",
       "      <td>15350</td>\n",
       "      <td>4305</td>\n",
       "      <td>2.086481e+06</td>\n",
       "      <td>396248</td>\n",
       "      <td>136780</td>\n",
       "      <td>1021</td>\n",
       "      <td>1.581637e+05</td>\n",
       "      <td>314</td>\n",
       "      <td>60</td>\n",
       "      <td>10741.944481</td>\n",
       "      <td>84</td>\n",
       "      <td>16998.106466</td>\n",
       "      <td>1.828776e+05</td>\n",
       "      <td>7468</td>\n",
       "      <td>1.005274e+06</td>\n",
       "      <td>124</td>\n",
       "      <td>P2DT12H2M20.8034S</td>\n",
       "      <td>14490</td>\n",
       "      <td>4623</td>\n",
       "      <td>1367</td>\n",
       "      <td>655</td>\n",
       "      <td>711</td>\n",
       "      <td>1</td>\n",
       "      <td>164.625542</td>\n",
       "      <td>737</td>\n",
       "    </tr>\n",
       "    <tr>\n",
       "      <th>4</th>\n",
       "      <td>July, 22 2021</td>\n",
       "      <td>2eecaf00-ba9f-432e-b144-bc1c90b29430</td>\n",
       "      <td>Slayer</td>\n",
       "      <td>Super Fiesta Party</td>\n",
       "      <td>Plaza</td>\n",
       "      <td>0.0</td>\n",
       "      <td>1.0</td>\n",
       "      <td>Player</td>\n",
       "      <td>Defeat</td>\n",
       "      <td>Blue</td>\n",
       "      <td>Drymander</td>\n",
       "      <td>148</td>\n",
       "      <td>15539108</td>\n",
       "      <td>28622</td>\n",
       "      <td>2148</td>\n",
       "      <td>3.804711e+06</td>\n",
       "      <td>752121</td>\n",
       "      <td>241046</td>\n",
       "      <td>1473</td>\n",
       "      <td>1.607738e+05</td>\n",
       "      <td>208</td>\n",
       "      <td>35</td>\n",
       "      <td>5230.651564</td>\n",
       "      <td>100</td>\n",
       "      <td>19095.688572</td>\n",
       "      <td>1.279060e+05</td>\n",
       "      <td>23221</td>\n",
       "      <td>3.094004e+06</td>\n",
       "      <td>140</td>\n",
       "      <td>P7DT14H34M15.173S</td>\n",
       "      <td>27853</td>\n",
       "      <td>5890</td>\n",
       "      <td>2510</td>\n",
       "      <td>1252</td>\n",
       "      <td>1258</td>\n",
       "      <td>0</td>\n",
       "      <td>297.931417</td>\n",
       "      <td>452</td>\n",
       "    </tr>\n",
       "    <tr>\n",
       "      <th>5</th>\n",
       "      <td>July, 22 2021</td>\n",
       "      <td>2eecaf00-ba9f-432e-b144-bc1c90b29430</td>\n",
       "      <td>Slayer</td>\n",
       "      <td>Super Fiesta Party</td>\n",
       "      <td>Plaza</td>\n",
       "      <td>0.0</td>\n",
       "      <td>1.0</td>\n",
       "      <td>Player</td>\n",
       "      <td>Defeat</td>\n",
       "      <td>Blue</td>\n",
       "      <td>cryptolockerSD</td>\n",
       "      <td>151</td>\n",
       "      <td>47129356</td>\n",
       "      <td>53899</td>\n",
       "      <td>6851</td>\n",
       "      <td>7.018691e+06</td>\n",
       "      <td>1244500</td>\n",
       "      <td>439444</td>\n",
       "      <td>4114</td>\n",
       "      <td>4.847869e+05</td>\n",
       "      <td>829</td>\n",
       "      <td>184</td>\n",
       "      <td>36020.682724</td>\n",
       "      <td>98</td>\n",
       "      <td>22007.556794</td>\n",
       "      <td>6.860665e+05</td>\n",
       "      <td>33654</td>\n",
       "      <td>4.379956e+06</td>\n",
       "      <td>691</td>\n",
       "      <td>P10DT17H33M16.4553S</td>\n",
       "      <td>49001</td>\n",
       "      <td>15366</td>\n",
       "      <td>4878</td>\n",
       "      <td>2574</td>\n",
       "      <td>2303</td>\n",
       "      <td>1</td>\n",
       "      <td>560.084605</td>\n",
       "      <td>2748</td>\n",
       "    </tr>\n",
       "    <tr>\n",
       "      <th>6</th>\n",
       "      <td>July, 22 2021</td>\n",
       "      <td>2eecaf00-ba9f-432e-b144-bc1c90b29430</td>\n",
       "      <td>Slayer</td>\n",
       "      <td>Super Fiesta Party</td>\n",
       "      <td>Plaza</td>\n",
       "      <td>0.0</td>\n",
       "      <td>1.0</td>\n",
       "      <td>Player</td>\n",
       "      <td>Defeat</td>\n",
       "      <td>Blue</td>\n",
       "      <td>Bophodes</td>\n",
       "      <td>146</td>\n",
       "      <td>9757943</td>\n",
       "      <td>37890</td>\n",
       "      <td>4153</td>\n",
       "      <td>5.277473e+06</td>\n",
       "      <td>931924</td>\n",
       "      <td>343242</td>\n",
       "      <td>1410</td>\n",
       "      <td>1.553133e+05</td>\n",
       "      <td>245</td>\n",
       "      <td>116</td>\n",
       "      <td>17884.960927</td>\n",
       "      <td>104</td>\n",
       "      <td>24839.632016</td>\n",
       "      <td>2.669324e+05</td>\n",
       "      <td>26862</td>\n",
       "      <td>3.620379e+06</td>\n",
       "      <td>86</td>\n",
       "      <td>P8DT14H52M24.3275S</td>\n",
       "      <td>35568</td>\n",
       "      <td>10047</td>\n",
       "      <td>3048</td>\n",
       "      <td>1456</td>\n",
       "      <td>1591</td>\n",
       "      <td>1</td>\n",
       "      <td>394.564875</td>\n",
       "      <td>1144</td>\n",
       "    </tr>\n",
       "    <tr>\n",
       "      <th>7</th>\n",
       "      <td>July, 22 2021</td>\n",
       "      <td>2eecaf00-ba9f-432e-b144-bc1c90b29430</td>\n",
       "      <td>Slayer</td>\n",
       "      <td>Super Fiesta Party</td>\n",
       "      <td>Plaza</td>\n",
       "      <td>0.0</td>\n",
       "      <td>1.0</td>\n",
       "      <td>Player</td>\n",
       "      <td>Defeat</td>\n",
       "      <td>Blue</td>\n",
       "      <td>SixKnifeWalker</td>\n",
       "      <td>151</td>\n",
       "      <td>37537896</td>\n",
       "      <td>179605</td>\n",
       "      <td>39171</td>\n",
       "      <td>2.090140e+07</td>\n",
       "      <td>3872741</td>\n",
       "      <td>1382222</td>\n",
       "      <td>19792</td>\n",
       "      <td>2.460876e+06</td>\n",
       "      <td>4562</td>\n",
       "      <td>120</td>\n",
       "      <td>13565.930386</td>\n",
       "      <td>1236</td>\n",
       "      <td>200448.845609</td>\n",
       "      <td>1.935772e+06</td>\n",
       "      <td>64047</td>\n",
       "      <td>7.884946e+06</td>\n",
       "      <td>10649</td>\n",
       "      <td>P19DT58M17.2331S</td>\n",
       "      <td>170350</td>\n",
       "      <td>58493</td>\n",
       "      <td>15013</td>\n",
       "      <td>7446</td>\n",
       "      <td>7557</td>\n",
       "      <td>10</td>\n",
       "      <td>2011.761181</td>\n",
       "      <td>16798</td>\n",
       "    </tr>\n",
       "  </tbody>\n",
       "</table>\n",
       "</div>"
      ],
      "text/plain": [
       "            Date                               MatchId GameBaseVariantId  \\\n",
       "0  July, 22 2021  2eecaf00-ba9f-432e-b144-bc1c90b29430            Slayer   \n",
       "1  July, 22 2021  2eecaf00-ba9f-432e-b144-bc1c90b29430            Slayer   \n",
       "2  July, 22 2021  2eecaf00-ba9f-432e-b144-bc1c90b29430            Slayer   \n",
       "3  July, 22 2021  2eecaf00-ba9f-432e-b144-bc1c90b29430            Slayer   \n",
       "4  July, 22 2021  2eecaf00-ba9f-432e-b144-bc1c90b29430            Slayer   \n",
       "5  July, 22 2021  2eecaf00-ba9f-432e-b144-bc1c90b29430            Slayer   \n",
       "6  July, 22 2021  2eecaf00-ba9f-432e-b144-bc1c90b29430            Slayer   \n",
       "7  July, 22 2021  2eecaf00-ba9f-432e-b144-bc1c90b29430            Slayer   \n",
       "\n",
       "           PlaylistId MapVariantId  DNF  TeamId PlayerTeam   Winner TeamColor  \\\n",
       "0  Super Fiesta Party        Plaza  0.0     0.0      Enemy  Victory       Red   \n",
       "1  Super Fiesta Party        Plaza  0.0     0.0      Enemy  Victory       Red   \n",
       "2  Super Fiesta Party        Plaza  0.0     0.0      Enemy  Victory       Red   \n",
       "3  Super Fiesta Party        Plaza  0.0     0.0      Enemy  Victory       Red   \n",
       "4  Super Fiesta Party        Plaza  0.0     1.0     Player   Defeat      Blue   \n",
       "5  Super Fiesta Party        Plaza  0.0     1.0     Player   Defeat      Blue   \n",
       "6  Super Fiesta Party        Plaza  0.0     1.0     Player   Defeat      Blue   \n",
       "7  Super Fiesta Party        Plaza  0.0     1.0     Player   Defeat      Blue   \n",
       "\n",
       "         Gamertag SpartanRank PrevTotalXP TotalKills TotalHeadshots  \\\n",
       "0    Dimension vv         138     6187181      18515           9429   \n",
       "1       Nefarious         144     7508121      22619           9779   \n",
       "2  SourStarfish28         143     6823910      19021           1565   \n",
       "3      Nottheeddu         150    27262125      15350           4305   \n",
       "4       Drymander         148    15539108      28622           2148   \n",
       "5  cryptolockerSD         151    47129356      53899           6851   \n",
       "6        Bophodes         146     9757943      37890           4153   \n",
       "7  SixKnifeWalker         151    37537896     179605          39171   \n",
       "\n",
       "   TotalWeaponDamage TotalShotsFired TotalShotsLanded TotalMeleeKills  \\\n",
       "0       1.826929e+06          265219           106669             980   \n",
       "1       2.341174e+06          301329           132159            1768   \n",
       "2       2.442232e+06          346960           132726             522   \n",
       "3       2.086481e+06          396248           136780            1021   \n",
       "4       3.804711e+06          752121           241046            1473   \n",
       "5       7.018691e+06         1244500           439444            4114   \n",
       "6       5.277473e+06          931924           343242            1410   \n",
       "7       2.090140e+07         3872741          1382222           19792   \n",
       "\n",
       "   TotalMeleeDamage TotalAssassinations TotalGroundPoundKills  \\\n",
       "0      1.653060e+05                 569                   106   \n",
       "1      1.827042e+05                 498                   183   \n",
       "2      5.683225e+04                  99                    12   \n",
       "3      1.581637e+05                 314                    60   \n",
       "4      1.607738e+05                 208                    35   \n",
       "5      4.847869e+05                 829                   184   \n",
       "6      1.553133e+05                 245                   116   \n",
       "7      2.460876e+06                4562                   120   \n",
       "\n",
       "   TotalGroundPoundDamage TotalShoulderBashKills  TotalShoulderBashDamage  \\\n",
       "0            12037.056124                    217             28556.529271   \n",
       "1            16618.659790                    347             26330.779343   \n",
       "2             2313.328398                     71             10473.208076   \n",
       "3            10741.944481                     84             16998.106466   \n",
       "4             5230.651564                    100             19095.688572   \n",
       "5            36020.682724                     98             22007.556794   \n",
       "6            17884.960927                    104             24839.632016   \n",
       "7            13565.930386                   1236            200448.845609   \n",
       "\n",
       "   TotalGrenadeDamage TotalPowerWeaponKills  TotalPowerWeaponDamage  \\\n",
       "0        8.783789e+04                  6352            7.949680e+05   \n",
       "1        1.470351e+05                  8724            1.057324e+06   \n",
       "2        3.920214e+04                 16021            2.080327e+06   \n",
       "3        1.828776e+05                  7468            1.005274e+06   \n",
       "4        1.279060e+05                 23221            3.094004e+06   \n",
       "5        6.860665e+05                 33654            4.379956e+06   \n",
       "6        2.669324e+05                 26862            3.620379e+06   \n",
       "7        1.935772e+06                 64047            7.884946e+06   \n",
       "\n",
       "  TotalPowerWeaponGrabs TotalPowerWeaponPossessionTime TotalDeaths  \\\n",
       "0                   457             P1DT23H19M28.9227S       18273   \n",
       "1                   520              P2DT8H12M46.2633S       20930   \n",
       "2                    16                P5DT4H52M7.412S       18264   \n",
       "3                   124              P2DT12H2M20.8034S       14490   \n",
       "4                   140              P7DT14H34M15.173S       27853   \n",
       "5                   691            P10DT17H33M16.4553S       49001   \n",
       "6                    86             P8DT14H52M24.3275S       35568   \n",
       "7                 10649               P19DT58M17.2331S      170350   \n",
       "\n",
       "  TotalAssists TotalGamesCompleted TotalGamesWon TotalGamesLost  \\\n",
       "0         4075                1547           723            824   \n",
       "1         4852                1726           803            923   \n",
       "2         3729                1483           730            752   \n",
       "3         4623                1367           655            711   \n",
       "4         5890                2510          1252           1258   \n",
       "5        15366                4878          2574           2303   \n",
       "6        10047                3048          1456           1591   \n",
       "7        58493               15013          7446           7557   \n",
       "\n",
       "  TotalGamesTied  TotalTimePlayed TotalGrenadeKills  \n",
       "0              0       177.315192               515  \n",
       "1              0       195.564511               758  \n",
       "2              1       193.553819               212  \n",
       "3              1       164.625542               737  \n",
       "4              0       297.931417               452  \n",
       "5              1       560.084605              2748  \n",
       "6              1       394.564875              1144  \n",
       "7             10      2011.761181             16798  "
      ]
     },
     "execution_count": 75,
     "metadata": {},
     "output_type": "execute_result"
    }
   ],
   "source": [
    "df"
   ]
  },
  {
   "cell_type": "code",
   "execution_count": null,
   "metadata": {},
   "outputs": [],
   "source": []
  },
  {
   "cell_type": "code",
   "execution_count": null,
   "metadata": {},
   "outputs": [],
   "source": []
  },
  {
   "cell_type": "code",
   "execution_count": null,
   "metadata": {},
   "outputs": [],
   "source": []
  },
  {
   "cell_type": "code",
   "execution_count": null,
   "metadata": {},
   "outputs": [],
   "source": []
  },
  {
   "cell_type": "code",
   "execution_count": null,
   "metadata": {},
   "outputs": [],
   "source": []
  },
  {
   "cell_type": "code",
   "execution_count": null,
   "metadata": {},
   "outputs": [],
   "source": []
  },
  {
   "cell_type": "code",
   "execution_count": null,
   "metadata": {},
   "outputs": [],
   "source": []
  },
  {
   "cell_type": "code",
   "execution_count": null,
   "metadata": {},
   "outputs": [],
   "source": []
  },
  {
   "cell_type": "code",
   "execution_count": null,
   "metadata": {},
   "outputs": [],
   "source": []
  },
  {
   "cell_type": "code",
   "execution_count": null,
   "metadata": {},
   "outputs": [],
   "source": []
  },
  {
   "cell_type": "markdown",
   "metadata": {},
   "source": [
    "# Unused Code"
   ]
  },
  {
   "cell_type": "code",
   "execution_count": null,
   "metadata": {},
   "outputs": [],
   "source": [
    "# %%writefile compare_stat.py\n",
    "\n",
    "df = recent_match_stats('Drymander', 0)\n",
    "\n",
    "import plotly.graph_objects as go\n",
    "# from plotly.subplots import make_subplots\n",
    "from plotly.subplots import make_subplots\n",
    "def compare_stat(df, column_name):\n",
    "\n",
    "    # Separate player and enemy teams\n",
    "    df_player = df.loc[df['PlayerTeam'] == 'Player']\n",
    "    df_enemy = df.loc[df['PlayerTeam'] == 'Enemy']\n",
    "\n",
    "    # Sort total time played by descending\n",
    "    df_player = df_player.sort_values(by=[column_name])\n",
    "    df_enemy = df_enemy.sort_values(by=[column_name])\n",
    "\n",
    "    # Assign player / enemy colors\n",
    "    if df_player['TeamColor'].iloc[0] == 'Blue':\n",
    "        player_color = 'Blue'\n",
    "        enemy_color = 'Red'\n",
    "    else:\n",
    "        player_color = 'Red'\n",
    "        enemy_color = 'Blue'\n",
    "    \n",
    "    # Make subplot and X axis range\n",
    "    fig = make_subplots(rows=2, cols=1, subplot_titles=['Player Team', 'Enemy Team'])\n",
    "    x_range = df[column_name].max()\n",
    "    \n",
    "    # Text\n",
    "    if type(df[column_name].iloc[0]) == int:\n",
    "        player_text = df_player[column_name],\n",
    "        enemy_text = df_enemy[column_name],\n",
    "    else:\n",
    "        player_text = df_player[column_name].round(2),\n",
    "        enemy_text = df_enemy[column_name].round(2),\n",
    "    # Player team sub plot\n",
    "    fig.add_trace(go.Bar(\n",
    "                x=df_player[column_name],\n",
    "                y=df_player['Gamertag'],\n",
    "                orientation='h',\n",
    "                text=player_text,\n",
    "                textposition='auto',\n",
    "                marker_color=player_color),\n",
    "                    row=1, col=1)\n",
    "    fig.update_xaxes(range=[0, x_range], row=1, col=1)\n",
    "    \n",
    "    # Enemy team sub plot\n",
    "    fig.add_trace(go.Bar(\n",
    "                x=df_enemy[column_name],\n",
    "                y=df_enemy['Gamertag'],\n",
    "                orientation='h',\n",
    "                text=enemy_text,\n",
    "                textposition='auto',\n",
    "                marker_color=enemy_color),\n",
    "                    row=2, col=1)\n",
    "    fig.update_xaxes(range=[0, x_range], row=2, col=1)\n",
    "    fig.update_layout(title_text='test')\n",
    "    return fig\n",
    "\n",
    "compare_stat(df, 'TotalHeadshots')"
   ]
  },
  {
   "cell_type": "markdown",
   "metadata": {},
   "source": [
    "## Build history dataframe before removing streamlit"
   ]
  },
  {
   "cell_type": "code",
   "execution_count": null,
   "metadata": {},
   "outputs": [],
   "source": [
    "# %%writefile 'build_history_dataframe.py'\n",
    "\n",
    "# Function to build secondary dataframe with more informative player stats\n",
    "def build_history_dataframe(player_history, variant_id, streamlit=False):\n",
    "    \n",
    "    # Option to view 'streamlit' dataframe, which includes pertinent\n",
    "    # information but excludes all stats for modeling\n",
    "    if streamlit == True:\n",
    "        vdf_columns = ['Gamertag','TotalTimePlayed','K/D','Accuracy','WinRate']\n",
    "        vdf = pd.DataFrame(columns = vdf_columns)\n",
    "    else:\n",
    "        stat_list = ['Gamertag', 'TotalKills', 'TotalHeadshots', 'TotalWeaponDamage', 'TotalShotsFired',\n",
    "                    'TotalShotsLanded', 'TotalMeleeKills', 'TotalMeleeDamage', 'TotalAssassinations',\n",
    "                    'TotalGroundPoundKills', 'TotalGroundPoundDamage', 'TotalShoulderBashKills',\n",
    "                    'TotalShoulderBashDamage', 'TotalGrenadeDamage', 'TotalPowerWeaponKills',\n",
    "                    'TotalPowerWeaponDamage', 'TotalPowerWeaponGrabs', 'TotalPowerWeaponPossessionTime',\n",
    "                    'TotalDeaths', 'TotalAssists', 'TotalGamesCompleted', 'TotalGamesWon',\n",
    "                    'TotalGamesLost', 'TotalGamesTied', 'TotalTimePlayed','TotalGrenadeKills']\n",
    "        vdf = pd.DataFrame(columns = stat_list)\n",
    "    \n",
    "    # Set coutner variable\n",
    "    i = 0\n",
    "    # Loop the goes through each player in the player history JSON\n",
    "    for player in player_history['Results']:\n",
    "        \n",
    "        # Loop that goes through each Arena Game Base Variant and locates\n",
    "        # the details specific to the game vase variant of the match\n",
    "        for variant in player['Result']['ArenaStats']['ArenaGameBaseVariantStats']:\n",
    "            if variant['GameBaseVariantId'] == variant_id:\n",
    "                variant_stats = variant\n",
    "        \n",
    "        # Create empty dictionary where stats will be added\n",
    "        variant_dic = {}\n",
    "        \n",
    "        # Streamlit option - calculates specifc features\n",
    "        if streamlit == True:\n",
    "            variant_dic['Gamertag'] = player_history['Results'][i]['Id']\n",
    "            variant_dic['TotalTimePlayed']= isodate.parse_duration(variant_stats['TotalTimePlayed']).total_seconds() / 3600\n",
    "            variant_dic['K/D'] = variant_stats['TotalKills'] / variant_stats['TotalDeaths']\n",
    "            variant_dic['Accuracy'] = variant_stats['TotalShotsLanded'] / variant_stats['TotalShotsFired']\n",
    "            variant_dic['WinRate'] = variant_stats['TotalGamesWon'] / variant_stats['TotalGamesLost']\n",
    "            vdf = vdf.append(variant_dic, True)\n",
    "            i += 1\n",
    "        \n",
    "        # Modeling option - includes all features but does not yet calculate\n",
    "        else:\n",
    "            variant_dic['Gamertag'] = player_history['Results'][i]['Id']\n",
    "            \n",
    "            # Loop that appends all stats to variant dic\n",
    "            for stat in stat_list[1:]:    \n",
    "                variant_dic[stat] = variant_stats[stat]\n",
    "            \n",
    "            # Parsing ISO duration times\n",
    "            variant_dic['TotalTimePlayed']= isodate.parse_duration(variant_stats['TotalTimePlayed']).total_seconds() / 3600\n",
    "            vdf = vdf.append(variant_dic, True)\n",
    "            i += 1\n",
    "    \n",
    "    # Return the streamlit or modeling dataframe\n",
    "    return vdf\n",
    "    \n",
    "# build_history_dataframe(player_history, '1571fdac-e0b4-4ebc-a73a-6e13001b71d3', streamlit=False)"
   ]
  }
 ],
 "metadata": {
  "kernelspec": {
   "display_name": "learn-env",
   "language": "python",
   "name": "learn-env"
  },
  "language_info": {
   "codemirror_mode": {
    "name": "ipython",
    "version": 3
   },
   "file_extension": ".py",
   "mimetype": "text/x-python",
   "name": "python",
   "nbconvert_exporter": "python",
   "pygments_lexer": "ipython3",
   "version": "3.8.5"
  },
  "toc": {
   "base_numbering": 1,
   "nav_menu": {},
   "number_sections": true,
   "sideBar": true,
   "skip_h1_title": false,
   "title_cell": "Table of Contents",
   "title_sidebar": "Contents",
   "toc_cell": false,
   "toc_position": {
    "height": "calc(100% - 180px)",
    "left": "10px",
    "top": "150px",
    "width": "235.825px"
   },
   "toc_section_display": true,
   "toc_window_display": true
  }
 },
 "nbformat": 4,
 "nbformat_minor": 4
}
