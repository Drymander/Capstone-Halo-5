{
 "cells": [
  {
   "cell_type": "markdown",
   "metadata": {},
   "source": [
    "# Halo 5 - Visualizations for Increased Engagement and Predicting Victory\n",
    "\n",
    "- Student name: Johnny Dryman\n",
    "- Student pace: full time\n",
    "- Scheduled project review date/time: 7/26/2021\n",
    "- Instructor name: James Irving"
   ]
  },
  {
   "cell_type": "markdown",
   "metadata": {},
   "source": [
    "# Introduction\n",
    "\n",
    "We all had our various ways of getting through the 2020 lockdown - something to keep in touch with people and feel sane.  For me and my friends, we got through it with Halo 5 - specifically their 'Super Fiesta' game mode.  \n",
    "\n",
    "While we had all played Halo 5 for a short period when it first launched in 2015, we hadn't really touched it since.  Before I even started the data science program at Flatiron, I thought it must somehow be possible to get more data about the game, because my friends and I had a lot of questions we wanted answered.  To name a few that will be addressed in this project:\n",
    "\n",
    "- How well do we perform on different maps?\n",
    "- Is there a way to determine whether or not we're improving?\n",
    "- Why do we get destroyed some rounds and do great other rounds?  \n",
    "\n",
    "It just so happens that Halo 5 has a very robust API with far more information than I was able to tackle with this project.  Nevertheless, I knew that I would finally be able to answer some questions that my friends and I have had for months.\n",
    "\n",
    "# Business Problem\n",
    "\n",
    "343 Industries is on the verge of releasing Halo Infinite, likely the most anticipated game of the decade so far.  The stakes are very high, not just for 343, but also for the millenials that grew up with the game.\n",
    "\n",
    "It has been said that Halo Infinite will be a \"10 year game,\" with regular updates and maintenance.  How can 343 keep players engaged for that length of time?  Creating a fun experience for players is obviously first and foremost, but based on the information I now know 343 tracks in Halo 5, I would argue that there is room for improved engagement through graphical analysis.  \n",
    "\n",
    "Further, I believe that by providing more information to the player could position Halo Infinite to break into the 'core' (i.e. hyper competitive) gaming space.  The ability to tell a player they're improving, how well they do on certain maps - more information like this reveals the complexity of the game, and with improved knowledge could bring more engagment and more desire to not only play against others, but play against yourself by improving your own performance figures.\n",
    "\n",
    "To demonstrate what this might look like, I'll need to pull my entire history of 5903 matches from the API."
   ]
  },
  {
   "cell_type": "markdown",
   "metadata": {},
   "source": [
    "# Imports\n",
    "\n",
    "We'll start by importing some standard Python packages as well as a few other tools that will be useful for this particular projcet."
   ]
  },
  {
   "cell_type": "code",
   "execution_count": 4,
   "metadata": {
    "ExecuteTime": {
     "end_time": "2021-07-30T02:48:14.285853Z",
     "start_time": "2021-07-30T02:48:14.277850Z"
    }
   },
   "outputs": [],
   "source": [
    "#Standard Packages\n",
    "import pandas as pd\n",
    "pd.set_option('display.max_columns', None)\n",
    "import matplotlib.pyplot as plt\n",
    "%matplotlib inline\n",
    "import seaborn as sns\n",
    "import numpy as np\n",
    "import pickle\n",
    "import warnings\n",
    "warnings.filterwarnings(action='ignore') \n",
    "\n",
    "# Packages used for API calls and data processing\n",
    "import requests\n",
    "import json\n",
    "def get_keys(path):\n",
    "    with open(path) as f:\n",
    "        return json.load(f)\n",
    "import ast\n",
    "import time\n",
    "import http.client, urllib.request, urllib.parse, urllib.error, base64\n",
    "gamertag = 'Drymander'\n",
    "from tqdm import tqdm\n",
    "# !pip install isodate\n",
    "import isodate"
   ]
  },
  {
   "cell_type": "markdown",
   "metadata": {},
   "source": [
    "# API Key\n",
    "\n",
    "First, we'll want to queue up the API key. I have mine hidden in my GitHub folder on my local disk. If you would like to follow along, visit https://developer.haloapi.com/ to subscribe to Developer Access to get a personal API key."
   ]
  },
  {
   "cell_type": "code",
   "execution_count": 5,
   "metadata": {
    "ExecuteTime": {
     "end_time": "2021-07-30T02:48:14.295854Z",
     "start_time": "2021-07-30T02:48:14.286854Z"
    }
   },
   "outputs": [],
   "source": [
    "def get_keys(path):\n",
    "    with open(path) as f:\n",
    "        return json.load(f)\n",
    "    \n",
    "keys = get_keys('../api_key/api_key.json')\n",
    "api_key = keys['api_key']"
   ]
  },
  {
   "cell_type": "markdown",
   "metadata": {},
   "source": [
    "# Data\n",
    "\n",
    "This data was sourced using the Halo Public API (Beta).  The API is a rich source of data containing information not only about individual players but also about extensive match results.  By combining multiple API calls, we were able to source data to create interesting visuals depicting a player's performance improvement throughout their history and to build machine learning models predicting the outcome of a match using only historical player information.\n",
    "\n",
    "## APIs\n",
    "\n",
    "We'll be using multiple APIs to assemble the dataframe containing all historical matches and stats.  Here's a breakdown of all APIs used.\n",
    "\n",
    "### Player Match History API\n",
    "\n",
    "First, we'll use this API to get a list of all Match ID's and all dates of matches that I have played.\n",
    "\n",
    "### Match Result: Arena API\n",
    "\n",
    "Using the Match ID's, we will call the Match Result - Arena API for all matches returned in the Player Match History API.\n",
    "\n",
    "### Metadata - Game Base Variant API\n",
    "\n",
    "To convert game base variant codes, we'll pull the metadata from the Game Base Variant API.\n",
    "\n",
    "### Metadata - Playlists API\n",
    "\n",
    "To convert playlist codes, we'll pull the metadata from the Playlists API.\n",
    "\n",
    "### Metadata - Map Variants API\n",
    "\n",
    "To convert map codes, we'll pull the metadata from the Map Variants API."
   ]
  },
  {
   "cell_type": "markdown",
   "metadata": {},
   "source": [
    "# Pull 'Player Match History' from API\n",
    "\n",
    "The first step will be to pull every game I have ever played from the API.  There will be some valuable information in this data, but mostly, we just want to extract the MatchId's.  "
   ]
  },
  {
   "cell_type": "code",
   "execution_count": 6,
   "metadata": {
    "ExecuteTime": {
     "end_time": "2021-07-30T02:48:14.309858Z",
     "start_time": "2021-07-30T02:48:14.297856Z"
    }
   },
   "outputs": [],
   "source": [
    "# Setting run equal to false.  If set to true, code will pull all matches for\n",
    "# user in the gamertag variable\n",
    "run = False\n",
    "\n",
    "\n",
    "if run == True:\n",
    "    # Setting API key and 'start' (0 means most recent match played)\n",
    "    headers = {\n",
    "        # Request headers\n",
    "        'Ocp-Apim-Subscription-Key': api_key,\n",
    "    }\n",
    "    start = 0\n",
    "    matches = []\n",
    "    \n",
    "    # Condition to determine whether or not API call has exhausted full match history\n",
    "    maxed_out = False\n",
    "    \n",
    "    # While loop that wil continuously pull from API and terminate once complete\n",
    "    # When 'count' returns as 25, that means there are more matches to be pulled\n",
    "    # When 'count' is less than 25, that indicates it is at the end of the player match history\n",
    "    while maxed_out == False:\n",
    "        try:\n",
    "            params = urllib.parse.urlencode({\n",
    "                # Request parameters\n",
    "                'modes': 'arena',\n",
    "                'start': start,\n",
    "                'count': 25,\n",
    "                'include-times': True,\n",
    "            })\n",
    "            # Code to process the API byte string into a JSON \n",
    "            # Will append each JSON to a list\n",
    "            conn = http.client.HTTPSConnection('www.haloapi.com')\n",
    "            conn.request(\"GET\", f\"/stats/h5/players/{gamertag}/matches?%s\" % params, \"{body}\", headers)\n",
    "            response = conn.getresponse()\n",
    "            data = response.read()\n",
    "            data = json.loads(data)\n",
    "            matches.extend(data['Results'])\n",
    "            conn.close()\n",
    "            \n",
    "            # If statement to detect final API call\n",
    "            if data['ResultCount'] == 25:\n",
    "                maxed_out = False\n",
    "                time.sleep(1.1)\n",
    "                start += 25\n",
    "            else:\n",
    "                maxed_out = True\n",
    "        \n",
    "        # Error handling\n",
    "        except Exception as e:\n",
    "            print(\"error\")\n",
    "    \n",
    "    # Save to dataframe and CSV\n",
    "    df = pd.DataFrame(matches)\n",
    "    df.to_csv('data/DrymanderHistory.csv')\n",
    "\n"
   ]
  },
  {
   "cell_type": "markdown",
   "metadata": {},
   "source": [
    "## Extracting info from Player Match History\n",
    "\n",
    "Now that we have the player match history in a dataframe, we'll need to extract some information."
   ]
  },
  {
   "cell_type": "code",
   "execution_count": 7,
   "metadata": {
    "ExecuteTime": {
     "end_time": "2021-07-30T02:48:14.414882Z",
     "start_time": "2021-07-30T02:48:14.310858Z"
    }
   },
   "outputs": [
    {
     "data": {
      "text/html": [
       "<div>\n",
       "<style scoped>\n",
       "    .dataframe tbody tr th:only-of-type {\n",
       "        vertical-align: middle;\n",
       "    }\n",
       "\n",
       "    .dataframe tbody tr th {\n",
       "        vertical-align: top;\n",
       "    }\n",
       "\n",
       "    .dataframe thead th {\n",
       "        text-align: right;\n",
       "    }\n",
       "</style>\n",
       "<table border=\"1\" class=\"dataframe\">\n",
       "  <thead>\n",
       "    <tr style=\"text-align: right;\">\n",
       "      <th></th>\n",
       "      <th>Links</th>\n",
       "      <th>Id</th>\n",
       "      <th>HopperId</th>\n",
       "      <th>MapId</th>\n",
       "      <th>MapVariant</th>\n",
       "      <th>GameBaseVariantId</th>\n",
       "      <th>GameVariant</th>\n",
       "      <th>MatchDuration</th>\n",
       "      <th>MatchCompletedDate</th>\n",
       "      <th>Teams</th>\n",
       "      <th>Players</th>\n",
       "      <th>IsTeamGame</th>\n",
       "      <th>SeasonId</th>\n",
       "      <th>MatchCompletedDateFidelity</th>\n",
       "    </tr>\n",
       "  </thead>\n",
       "  <tbody>\n",
       "    <tr>\n",
       "      <th>0</th>\n",
       "      <td>{'StatsMatchDetails': {'AuthorityId': 'spartan...</td>\n",
       "      <td>{'MatchId': '10010481-1be2-462b-9774-eac5ee152...</td>\n",
       "      <td>f0c9ef9a-48bd-4b24-9db3-2c76b4e23450</td>\n",
       "      <td>d67fdcb9-6d9c-403e-960d-04202e19b244</td>\n",
       "      <td>{'ResourceType': 3, 'ResourceId': 'beaccaff-81...</td>\n",
       "      <td>a2949322-dc84-45ab-8454-cf94fb28c189</td>\n",
       "      <td>{'ResourceType': 2, 'ResourceId': 'f213daf2-94...</td>\n",
       "      <td>PT8M48.3224767S</td>\n",
       "      <td>{'ISO8601Date': '2021-07-01T00:55:13.88Z'}</td>\n",
       "      <td>[{'Id': 1, 'Score': 1, 'Rank': 2}, {'Id': 0, '...</td>\n",
       "      <td>[{'Player': {'Gamertag': 'Drymander', 'Xuid': ...</td>\n",
       "      <td>True</td>\n",
       "      <td>NaN</td>\n",
       "      <td>2</td>\n",
       "    </tr>\n",
       "  </tbody>\n",
       "</table>\n",
       "</div>"
      ],
      "text/plain": [
       "                                               Links  \\\n",
       "0  {'StatsMatchDetails': {'AuthorityId': 'spartan...   \n",
       "\n",
       "                                                  Id  \\\n",
       "0  {'MatchId': '10010481-1be2-462b-9774-eac5ee152...   \n",
       "\n",
       "                               HopperId                                 MapId  \\\n",
       "0  f0c9ef9a-48bd-4b24-9db3-2c76b4e23450  d67fdcb9-6d9c-403e-960d-04202e19b244   \n",
       "\n",
       "                                          MapVariant  \\\n",
       "0  {'ResourceType': 3, 'ResourceId': 'beaccaff-81...   \n",
       "\n",
       "                      GameBaseVariantId  \\\n",
       "0  a2949322-dc84-45ab-8454-cf94fb28c189   \n",
       "\n",
       "                                         GameVariant    MatchDuration  \\\n",
       "0  {'ResourceType': 2, 'ResourceId': 'f213daf2-94...  PT8M48.3224767S   \n",
       "\n",
       "                           MatchCompletedDate  \\\n",
       "0  {'ISO8601Date': '2021-07-01T00:55:13.88Z'}   \n",
       "\n",
       "                                               Teams  \\\n",
       "0  [{'Id': 1, 'Score': 1, 'Rank': 2}, {'Id': 0, '...   \n",
       "\n",
       "                                             Players  IsTeamGame SeasonId  \\\n",
       "0  [{'Player': {'Gamertag': 'Drymander', 'Xuid': ...        True      NaN   \n",
       "\n",
       "   MatchCompletedDateFidelity  \n",
       "0                           2  "
      ]
     },
     "execution_count": 7,
     "metadata": {},
     "output_type": "execute_result"
    }
   ],
   "source": [
    "# Read DrymanderHistory.csv, drop Unnamed: 0 column, show first row\n",
    "df = pd.read_csv('data/DrymanderHistory.csv')\n",
    "df = df.drop(['Unnamed: 0'], axis=1)\n",
    "df.head(1)"
   ]
  },
  {
   "cell_type": "markdown",
   "metadata": {},
   "source": [
    "It looks like there are quite a few nested dictionaries (dictionaries within dictionaries within dictionaries, etc).  Let's build a function to break out the infromation we need."
   ]
  },
  {
   "cell_type": "code",
   "execution_count": 8,
   "metadata": {
    "ExecuteTime": {
     "end_time": "2021-07-30T02:48:14.419883Z",
     "start_time": "2021-07-30T02:48:14.415882Z"
    }
   },
   "outputs": [],
   "source": [
    "# Function to break out columns, many of which are nested dictionaries\n",
    "def explode_column(df, column):\n",
    "    # Convert column to string, locate column in dataframe, apply pd.Series\n",
    "    # which breaks out the nested dictionaries as individual columns\n",
    "    column = str(column)\n",
    "    column_loc = df.columns.get_loc(column)\n",
    "    column_split = df[column].apply(pd.Series)\n",
    "    \n",
    "    # Drop column with nested dictionaries and add back key / values as new columns\n",
    "    df = df.drop(columns=[column])\n",
    "    df = df.join(column_split, rsuffix=str(column))\n",
    "    \n",
    "    # Return dataframe\n",
    "    return df"
   ]
  },
  {
   "cell_type": "code",
   "execution_count": 9,
   "metadata": {
    "ExecuteTime": {
     "end_time": "2021-07-30T02:48:16.654387Z",
     "start_time": "2021-07-30T02:48:14.420883Z"
    }
   },
   "outputs": [
    {
     "data": {
      "text/html": [
       "<div>\n",
       "<style scoped>\n",
       "    .dataframe tbody tr th:only-of-type {\n",
       "        vertical-align: middle;\n",
       "    }\n",
       "\n",
       "    .dataframe tbody tr th {\n",
       "        vertical-align: top;\n",
       "    }\n",
       "\n",
       "    .dataframe thead th {\n",
       "        text-align: right;\n",
       "    }\n",
       "</style>\n",
       "<table border=\"1\" class=\"dataframe\">\n",
       "  <thead>\n",
       "    <tr style=\"text-align: right;\">\n",
       "      <th></th>\n",
       "      <th>Links</th>\n",
       "      <th>HopperId</th>\n",
       "      <th>MapId</th>\n",
       "      <th>MapVariant</th>\n",
       "      <th>GameBaseVariantId</th>\n",
       "      <th>GameVariant</th>\n",
       "      <th>MatchDuration</th>\n",
       "      <th>MatchCompletedDate</th>\n",
       "      <th>Teams</th>\n",
       "      <th>Players</th>\n",
       "      <th>IsTeamGame</th>\n",
       "      <th>SeasonId</th>\n",
       "      <th>MatchCompletedDateFidelity</th>\n",
       "      <th>MatchId</th>\n",
       "      <th>GameMode</th>\n",
       "    </tr>\n",
       "  </thead>\n",
       "  <tbody>\n",
       "    <tr>\n",
       "      <th>0</th>\n",
       "      <td>{'StatsMatchDetails': {'AuthorityId': 'spartan...</td>\n",
       "      <td>f0c9ef9a-48bd-4b24-9db3-2c76b4e23450</td>\n",
       "      <td>d67fdcb9-6d9c-403e-960d-04202e19b244</td>\n",
       "      <td>{'ResourceType': 3, 'ResourceId': 'beaccaff-81...</td>\n",
       "      <td>a2949322-dc84-45ab-8454-cf94fb28c189</td>\n",
       "      <td>{'ResourceType': 2, 'ResourceId': 'f213daf2-94...</td>\n",
       "      <td>PT8M48.3224767S</td>\n",
       "      <td>{'ISO8601Date': '2021-07-01T00:55:13.88Z'}</td>\n",
       "      <td>[{'Id': 1, 'Score': 1, 'Rank': 2}, {'Id': 0, '...</td>\n",
       "      <td>[{'Player': {'Gamertag': 'Drymander', 'Xuid': ...</td>\n",
       "      <td>True</td>\n",
       "      <td>NaN</td>\n",
       "      <td>2</td>\n",
       "      <td>10010481-1be2-462b-9774-eac5ee152045</td>\n",
       "      <td>1</td>\n",
       "    </tr>\n",
       "  </tbody>\n",
       "</table>\n",
       "</div>"
      ],
      "text/plain": [
       "                                               Links  \\\n",
       "0  {'StatsMatchDetails': {'AuthorityId': 'spartan...   \n",
       "\n",
       "                               HopperId                                 MapId  \\\n",
       "0  f0c9ef9a-48bd-4b24-9db3-2c76b4e23450  d67fdcb9-6d9c-403e-960d-04202e19b244   \n",
       "\n",
       "                                          MapVariant  \\\n",
       "0  {'ResourceType': 3, 'ResourceId': 'beaccaff-81...   \n",
       "\n",
       "                      GameBaseVariantId  \\\n",
       "0  a2949322-dc84-45ab-8454-cf94fb28c189   \n",
       "\n",
       "                                         GameVariant    MatchDuration  \\\n",
       "0  {'ResourceType': 2, 'ResourceId': 'f213daf2-94...  PT8M48.3224767S   \n",
       "\n",
       "                           MatchCompletedDate  \\\n",
       "0  {'ISO8601Date': '2021-07-01T00:55:13.88Z'}   \n",
       "\n",
       "                                               Teams  \\\n",
       "0  [{'Id': 1, 'Score': 1, 'Rank': 2}, {'Id': 0, '...   \n",
       "\n",
       "                                             Players  IsTeamGame SeasonId  \\\n",
       "0  [{'Player': {'Gamertag': 'Drymander', 'Xuid': ...        True      NaN   \n",
       "\n",
       "   MatchCompletedDateFidelity                               MatchId  GameMode  \n",
       "0                           2  10010481-1be2-462b-9774-eac5ee152045         1  "
      ]
     },
     "execution_count": 9,
     "metadata": {},
     "output_type": "execute_result"
    }
   ],
   "source": [
    "# Columns are read from csv as strings, this code converts them back to Python code\n",
    "df['Id'] = df['Id'].map(ast.literal_eval)\n",
    "# Explode Id column\n",
    "df = explode_column(df, 'Id')\n",
    "df.head(1)"
   ]
  },
  {
   "cell_type": "code",
   "execution_count": 10,
   "metadata": {
    "ExecuteTime": {
     "end_time": "2021-07-30T02:48:18.929904Z",
     "start_time": "2021-07-30T02:48:16.655388Z"
    }
   },
   "outputs": [
    {
     "data": {
      "text/html": [
       "<div>\n",
       "<style scoped>\n",
       "    .dataframe tbody tr th:only-of-type {\n",
       "        vertical-align: middle;\n",
       "    }\n",
       "\n",
       "    .dataframe tbody tr th {\n",
       "        vertical-align: top;\n",
       "    }\n",
       "\n",
       "    .dataframe thead th {\n",
       "        text-align: right;\n",
       "    }\n",
       "</style>\n",
       "<table border=\"1\" class=\"dataframe\">\n",
       "  <thead>\n",
       "    <tr style=\"text-align: right;\">\n",
       "      <th></th>\n",
       "      <th>Links</th>\n",
       "      <th>HopperId</th>\n",
       "      <th>MapId</th>\n",
       "      <th>GameBaseVariantId</th>\n",
       "      <th>GameVariant</th>\n",
       "      <th>MatchDuration</th>\n",
       "      <th>MatchCompletedDate</th>\n",
       "      <th>Teams</th>\n",
       "      <th>Players</th>\n",
       "      <th>IsTeamGame</th>\n",
       "      <th>SeasonId</th>\n",
       "      <th>MatchCompletedDateFidelity</th>\n",
       "      <th>MatchId</th>\n",
       "      <th>GameMode</th>\n",
       "      <th>ResourceType</th>\n",
       "      <th>ResourceId</th>\n",
       "      <th>OwnerType</th>\n",
       "      <th>Owner</th>\n",
       "    </tr>\n",
       "  </thead>\n",
       "  <tbody>\n",
       "    <tr>\n",
       "      <th>0</th>\n",
       "      <td>{'StatsMatchDetails': {'AuthorityId': 'spartan...</td>\n",
       "      <td>f0c9ef9a-48bd-4b24-9db3-2c76b4e23450</td>\n",
       "      <td>d67fdcb9-6d9c-403e-960d-04202e19b244</td>\n",
       "      <td>a2949322-dc84-45ab-8454-cf94fb28c189</td>\n",
       "      <td>{'ResourceType': 2, 'ResourceId': 'f213daf2-94...</td>\n",
       "      <td>PT8M48.3224767S</td>\n",
       "      <td>{'ISO8601Date': '2021-07-01T00:55:13.88Z'}</td>\n",
       "      <td>[{'Id': 1, 'Score': 1, 'Rank': 2}, {'Id': 0, '...</td>\n",
       "      <td>[{'Player': {'Gamertag': 'Drymander', 'Xuid': ...</td>\n",
       "      <td>True</td>\n",
       "      <td>NaN</td>\n",
       "      <td>2</td>\n",
       "      <td>10010481-1be2-462b-9774-eac5ee152045</td>\n",
       "      <td>1</td>\n",
       "      <td>3</td>\n",
       "      <td>beaccaff-8166-4fe8-94ba-fd18ad7a83e1</td>\n",
       "      <td>3</td>\n",
       "      <td></td>\n",
       "    </tr>\n",
       "  </tbody>\n",
       "</table>\n",
       "</div>"
      ],
      "text/plain": [
       "                                               Links  \\\n",
       "0  {'StatsMatchDetails': {'AuthorityId': 'spartan...   \n",
       "\n",
       "                               HopperId                                 MapId  \\\n",
       "0  f0c9ef9a-48bd-4b24-9db3-2c76b4e23450  d67fdcb9-6d9c-403e-960d-04202e19b244   \n",
       "\n",
       "                      GameBaseVariantId  \\\n",
       "0  a2949322-dc84-45ab-8454-cf94fb28c189   \n",
       "\n",
       "                                         GameVariant    MatchDuration  \\\n",
       "0  {'ResourceType': 2, 'ResourceId': 'f213daf2-94...  PT8M48.3224767S   \n",
       "\n",
       "                           MatchCompletedDate  \\\n",
       "0  {'ISO8601Date': '2021-07-01T00:55:13.88Z'}   \n",
       "\n",
       "                                               Teams  \\\n",
       "0  [{'Id': 1, 'Score': 1, 'Rank': 2}, {'Id': 0, '...   \n",
       "\n",
       "                                             Players  IsTeamGame SeasonId  \\\n",
       "0  [{'Player': {'Gamertag': 'Drymander', 'Xuid': ...        True      NaN   \n",
       "\n",
       "   MatchCompletedDateFidelity                               MatchId  GameMode  \\\n",
       "0                           2  10010481-1be2-462b-9774-eac5ee152045         1   \n",
       "\n",
       "   ResourceType                            ResourceId  OwnerType Owner  \n",
       "0             3  beaccaff-8166-4fe8-94ba-fd18ad7a83e1          3        "
      ]
     },
     "execution_count": 10,
     "metadata": {},
     "output_type": "execute_result"
    }
   ],
   "source": [
    "# Convert strings to dictionaries and explode MapVariant\n",
    "df['MapVariant'] = df['MapVariant'].map(ast.literal_eval)\n",
    "df = explode_column(df, 'MapVariant')\n",
    "\n",
    "df.head(1)"
   ]
  },
  {
   "cell_type": "code",
   "execution_count": 11,
   "metadata": {
    "ExecuteTime": {
     "end_time": "2021-07-30T02:48:21.178411Z",
     "start_time": "2021-07-30T02:48:18.931904Z"
    }
   },
   "outputs": [
    {
     "data": {
      "text/html": [
       "<div>\n",
       "<style scoped>\n",
       "    .dataframe tbody tr th:only-of-type {\n",
       "        vertical-align: middle;\n",
       "    }\n",
       "\n",
       "    .dataframe tbody tr th {\n",
       "        vertical-align: top;\n",
       "    }\n",
       "\n",
       "    .dataframe thead th {\n",
       "        text-align: right;\n",
       "    }\n",
       "</style>\n",
       "<table border=\"1\" class=\"dataframe\">\n",
       "  <thead>\n",
       "    <tr style=\"text-align: right;\">\n",
       "      <th></th>\n",
       "      <th>Links</th>\n",
       "      <th>HopperId</th>\n",
       "      <th>MapId</th>\n",
       "      <th>GameBaseVariantId</th>\n",
       "      <th>MatchDuration</th>\n",
       "      <th>MatchCompletedDate</th>\n",
       "      <th>Teams</th>\n",
       "      <th>Players</th>\n",
       "      <th>IsTeamGame</th>\n",
       "      <th>SeasonId</th>\n",
       "      <th>MatchCompletedDateFidelity</th>\n",
       "      <th>MatchId</th>\n",
       "      <th>GameMode</th>\n",
       "      <th>ResourceType</th>\n",
       "      <th>ResourceId</th>\n",
       "      <th>OwnerType</th>\n",
       "      <th>Owner</th>\n",
       "      <th>ResourceTypeGameVariant</th>\n",
       "      <th>ResourceIdGameVariant</th>\n",
       "      <th>OwnerTypeGameVariant</th>\n",
       "      <th>OwnerGameVariant</th>\n",
       "    </tr>\n",
       "  </thead>\n",
       "  <tbody>\n",
       "    <tr>\n",
       "      <th>0</th>\n",
       "      <td>{'StatsMatchDetails': {'AuthorityId': 'spartan...</td>\n",
       "      <td>f0c9ef9a-48bd-4b24-9db3-2c76b4e23450</td>\n",
       "      <td>d67fdcb9-6d9c-403e-960d-04202e19b244</td>\n",
       "      <td>a2949322-dc84-45ab-8454-cf94fb28c189</td>\n",
       "      <td>PT8M48.3224767S</td>\n",
       "      <td>{'ISO8601Date': '2021-07-01T00:55:13.88Z'}</td>\n",
       "      <td>[{'Id': 1, 'Score': 1, 'Rank': 2}, {'Id': 0, '...</td>\n",
       "      <td>[{'Player': {'Gamertag': 'Drymander', 'Xuid': ...</td>\n",
       "      <td>True</td>\n",
       "      <td>NaN</td>\n",
       "      <td>2</td>\n",
       "      <td>10010481-1be2-462b-9774-eac5ee152045</td>\n",
       "      <td>1</td>\n",
       "      <td>3</td>\n",
       "      <td>beaccaff-8166-4fe8-94ba-fd18ad7a83e1</td>\n",
       "      <td>3</td>\n",
       "      <td></td>\n",
       "      <td>2</td>\n",
       "      <td>f213daf2-94f9-46a4-a4d8-b3f782da0bec</td>\n",
       "      <td>3</td>\n",
       "      <td></td>\n",
       "    </tr>\n",
       "  </tbody>\n",
       "</table>\n",
       "</div>"
      ],
      "text/plain": [
       "                                               Links  \\\n",
       "0  {'StatsMatchDetails': {'AuthorityId': 'spartan...   \n",
       "\n",
       "                               HopperId                                 MapId  \\\n",
       "0  f0c9ef9a-48bd-4b24-9db3-2c76b4e23450  d67fdcb9-6d9c-403e-960d-04202e19b244   \n",
       "\n",
       "                      GameBaseVariantId    MatchDuration  \\\n",
       "0  a2949322-dc84-45ab-8454-cf94fb28c189  PT8M48.3224767S   \n",
       "\n",
       "                           MatchCompletedDate  \\\n",
       "0  {'ISO8601Date': '2021-07-01T00:55:13.88Z'}   \n",
       "\n",
       "                                               Teams  \\\n",
       "0  [{'Id': 1, 'Score': 1, 'Rank': 2}, {'Id': 0, '...   \n",
       "\n",
       "                                             Players  IsTeamGame SeasonId  \\\n",
       "0  [{'Player': {'Gamertag': 'Drymander', 'Xuid': ...        True      NaN   \n",
       "\n",
       "   MatchCompletedDateFidelity                               MatchId  GameMode  \\\n",
       "0                           2  10010481-1be2-462b-9774-eac5ee152045         1   \n",
       "\n",
       "   ResourceType                            ResourceId  OwnerType Owner  \\\n",
       "0             3  beaccaff-8166-4fe8-94ba-fd18ad7a83e1          3         \n",
       "\n",
       "   ResourceTypeGameVariant                 ResourceIdGameVariant  \\\n",
       "0                        2  f213daf2-94f9-46a4-a4d8-b3f782da0bec   \n",
       "\n",
       "   OwnerTypeGameVariant OwnerGameVariant  \n",
       "0                     3                   "
      ]
     },
     "execution_count": 11,
     "metadata": {},
     "output_type": "execute_result"
    }
   ],
   "source": [
    "# Convert strings to dictionaries and explode GameVariant\n",
    "df['GameVariant'] = df['GameVariant'].map(ast.literal_eval)\n",
    "df = explode_column(df, 'GameVariant')\n",
    "\n",
    "df.head(1)"
   ]
  },
  {
   "cell_type": "code",
   "execution_count": 12,
   "metadata": {
    "ExecuteTime": {
     "end_time": "2021-07-30T02:48:23.455927Z",
     "start_time": "2021-07-30T02:48:21.180412Z"
    }
   },
   "outputs": [
    {
     "data": {
      "text/html": [
       "<div>\n",
       "<style scoped>\n",
       "    .dataframe tbody tr th:only-of-type {\n",
       "        vertical-align: middle;\n",
       "    }\n",
       "\n",
       "    .dataframe tbody tr th {\n",
       "        vertical-align: top;\n",
       "    }\n",
       "\n",
       "    .dataframe thead th {\n",
       "        text-align: right;\n",
       "    }\n",
       "</style>\n",
       "<table border=\"1\" class=\"dataframe\">\n",
       "  <thead>\n",
       "    <tr style=\"text-align: right;\">\n",
       "      <th></th>\n",
       "      <th>Links</th>\n",
       "      <th>HopperId</th>\n",
       "      <th>MapId</th>\n",
       "      <th>GameBaseVariantId</th>\n",
       "      <th>MatchDuration</th>\n",
       "      <th>Teams</th>\n",
       "      <th>Players</th>\n",
       "      <th>IsTeamGame</th>\n",
       "      <th>SeasonId</th>\n",
       "      <th>MatchCompletedDateFidelity</th>\n",
       "      <th>MatchId</th>\n",
       "      <th>GameMode</th>\n",
       "      <th>ResourceType</th>\n",
       "      <th>ResourceId</th>\n",
       "      <th>OwnerType</th>\n",
       "      <th>Owner</th>\n",
       "      <th>ResourceTypeGameVariant</th>\n",
       "      <th>ResourceIdGameVariant</th>\n",
       "      <th>OwnerTypeGameVariant</th>\n",
       "      <th>OwnerGameVariant</th>\n",
       "      <th>ISO8601Date</th>\n",
       "    </tr>\n",
       "  </thead>\n",
       "  <tbody>\n",
       "    <tr>\n",
       "      <th>0</th>\n",
       "      <td>{'StatsMatchDetails': {'AuthorityId': 'spartan...</td>\n",
       "      <td>f0c9ef9a-48bd-4b24-9db3-2c76b4e23450</td>\n",
       "      <td>d67fdcb9-6d9c-403e-960d-04202e19b244</td>\n",
       "      <td>a2949322-dc84-45ab-8454-cf94fb28c189</td>\n",
       "      <td>PT8M48.3224767S</td>\n",
       "      <td>[{'Id': 1, 'Score': 1, 'Rank': 2}, {'Id': 0, '...</td>\n",
       "      <td>[{'Player': {'Gamertag': 'Drymander', 'Xuid': ...</td>\n",
       "      <td>True</td>\n",
       "      <td>NaN</td>\n",
       "      <td>2</td>\n",
       "      <td>10010481-1be2-462b-9774-eac5ee152045</td>\n",
       "      <td>1</td>\n",
       "      <td>3</td>\n",
       "      <td>beaccaff-8166-4fe8-94ba-fd18ad7a83e1</td>\n",
       "      <td>3</td>\n",
       "      <td></td>\n",
       "      <td>2</td>\n",
       "      <td>f213daf2-94f9-46a4-a4d8-b3f782da0bec</td>\n",
       "      <td>3</td>\n",
       "      <td></td>\n",
       "      <td>2021-07-01T00:55:13.88Z</td>\n",
       "    </tr>\n",
       "  </tbody>\n",
       "</table>\n",
       "</div>"
      ],
      "text/plain": [
       "                                               Links  \\\n",
       "0  {'StatsMatchDetails': {'AuthorityId': 'spartan...   \n",
       "\n",
       "                               HopperId                                 MapId  \\\n",
       "0  f0c9ef9a-48bd-4b24-9db3-2c76b4e23450  d67fdcb9-6d9c-403e-960d-04202e19b244   \n",
       "\n",
       "                      GameBaseVariantId    MatchDuration  \\\n",
       "0  a2949322-dc84-45ab-8454-cf94fb28c189  PT8M48.3224767S   \n",
       "\n",
       "                                               Teams  \\\n",
       "0  [{'Id': 1, 'Score': 1, 'Rank': 2}, {'Id': 0, '...   \n",
       "\n",
       "                                             Players  IsTeamGame SeasonId  \\\n",
       "0  [{'Player': {'Gamertag': 'Drymander', 'Xuid': ...        True      NaN   \n",
       "\n",
       "   MatchCompletedDateFidelity                               MatchId  GameMode  \\\n",
       "0                           2  10010481-1be2-462b-9774-eac5ee152045         1   \n",
       "\n",
       "   ResourceType                            ResourceId  OwnerType Owner  \\\n",
       "0             3  beaccaff-8166-4fe8-94ba-fd18ad7a83e1          3         \n",
       "\n",
       "   ResourceTypeGameVariant                 ResourceIdGameVariant  \\\n",
       "0                        2  f213daf2-94f9-46a4-a4d8-b3f782da0bec   \n",
       "\n",
       "   OwnerTypeGameVariant OwnerGameVariant              ISO8601Date  \n",
       "0                     3                   2021-07-01T00:55:13.88Z  "
      ]
     },
     "execution_count": 12,
     "metadata": {},
     "output_type": "execute_result"
    }
   ],
   "source": [
    "# Convert strings to dictionaries and explode GameVariant MatchCompletedDate\n",
    "df['MatchCompletedDate'] = df['MatchCompletedDate'].map(ast.literal_eval)\n",
    "df = explode_column(df, 'MatchCompletedDate')\n",
    "\n",
    "df.head(1)"
   ]
  },
  {
   "cell_type": "code",
   "execution_count": 13,
   "metadata": {
    "ExecuteTime": {
     "end_time": "2021-07-30T02:48:25.018281Z",
     "start_time": "2021-07-30T02:48:23.456928Z"
    }
   },
   "outputs": [
    {
     "data": {
      "text/html": [
       "<div>\n",
       "<style scoped>\n",
       "    .dataframe tbody tr th:only-of-type {\n",
       "        vertical-align: middle;\n",
       "    }\n",
       "\n",
       "    .dataframe tbody tr th {\n",
       "        vertical-align: top;\n",
       "    }\n",
       "\n",
       "    .dataframe thead th {\n",
       "        text-align: right;\n",
       "    }\n",
       "</style>\n",
       "<table border=\"1\" class=\"dataframe\">\n",
       "  <thead>\n",
       "    <tr style=\"text-align: right;\">\n",
       "      <th></th>\n",
       "      <th>Links</th>\n",
       "      <th>HopperId</th>\n",
       "      <th>MapId</th>\n",
       "      <th>GameBaseVariantId</th>\n",
       "      <th>MatchDuration</th>\n",
       "      <th>Players</th>\n",
       "      <th>IsTeamGame</th>\n",
       "      <th>SeasonId</th>\n",
       "      <th>MatchCompletedDateFidelity</th>\n",
       "      <th>MatchId</th>\n",
       "      <th>GameMode</th>\n",
       "      <th>ResourceType</th>\n",
       "      <th>ResourceId</th>\n",
       "      <th>OwnerType</th>\n",
       "      <th>Owner</th>\n",
       "      <th>ResourceTypeGameVariant</th>\n",
       "      <th>ResourceIdGameVariant</th>\n",
       "      <th>OwnerTypeGameVariant</th>\n",
       "      <th>OwnerGameVariant</th>\n",
       "      <th>ISO8601Date</th>\n",
       "      <th>0</th>\n",
       "      <th>1</th>\n",
       "      <th>2</th>\n",
       "      <th>3</th>\n",
       "      <th>4</th>\n",
       "      <th>5</th>\n",
       "      <th>6</th>\n",
       "      <th>7</th>\n",
       "      <th>8</th>\n",
       "      <th>9</th>\n",
       "      <th>10</th>\n",
       "      <th>11</th>\n",
       "    </tr>\n",
       "  </thead>\n",
       "  <tbody>\n",
       "    <tr>\n",
       "      <th>0</th>\n",
       "      <td>{'StatsMatchDetails': {'AuthorityId': 'spartan...</td>\n",
       "      <td>f0c9ef9a-48bd-4b24-9db3-2c76b4e23450</td>\n",
       "      <td>d67fdcb9-6d9c-403e-960d-04202e19b244</td>\n",
       "      <td>a2949322-dc84-45ab-8454-cf94fb28c189</td>\n",
       "      <td>PT8M48.3224767S</td>\n",
       "      <td>[{'Player': {'Gamertag': 'Drymander', 'Xuid': ...</td>\n",
       "      <td>True</td>\n",
       "      <td>NaN</td>\n",
       "      <td>2</td>\n",
       "      <td>10010481-1be2-462b-9774-eac5ee152045</td>\n",
       "      <td>1</td>\n",
       "      <td>3</td>\n",
       "      <td>beaccaff-8166-4fe8-94ba-fd18ad7a83e1</td>\n",
       "      <td>3</td>\n",
       "      <td></td>\n",
       "      <td>2</td>\n",
       "      <td>f213daf2-94f9-46a4-a4d8-b3f782da0bec</td>\n",
       "      <td>3</td>\n",
       "      <td></td>\n",
       "      <td>2021-07-01T00:55:13.88Z</td>\n",
       "      <td>{'Id': 1, 'Score': 1, 'Rank': 2}</td>\n",
       "      <td>{'Id': 0, 'Score': 2, 'Rank': 1}</td>\n",
       "      <td>NaN</td>\n",
       "      <td>NaN</td>\n",
       "      <td>NaN</td>\n",
       "      <td>NaN</td>\n",
       "      <td>NaN</td>\n",
       "      <td>NaN</td>\n",
       "      <td>NaN</td>\n",
       "      <td>NaN</td>\n",
       "      <td>NaN</td>\n",
       "      <td>NaN</td>\n",
       "    </tr>\n",
       "  </tbody>\n",
       "</table>\n",
       "</div>"
      ],
      "text/plain": [
       "                                               Links  \\\n",
       "0  {'StatsMatchDetails': {'AuthorityId': 'spartan...   \n",
       "\n",
       "                               HopperId                                 MapId  \\\n",
       "0  f0c9ef9a-48bd-4b24-9db3-2c76b4e23450  d67fdcb9-6d9c-403e-960d-04202e19b244   \n",
       "\n",
       "                      GameBaseVariantId    MatchDuration  \\\n",
       "0  a2949322-dc84-45ab-8454-cf94fb28c189  PT8M48.3224767S   \n",
       "\n",
       "                                             Players  IsTeamGame SeasonId  \\\n",
       "0  [{'Player': {'Gamertag': 'Drymander', 'Xuid': ...        True      NaN   \n",
       "\n",
       "   MatchCompletedDateFidelity                               MatchId  GameMode  \\\n",
       "0                           2  10010481-1be2-462b-9774-eac5ee152045         1   \n",
       "\n",
       "   ResourceType                            ResourceId  OwnerType Owner  \\\n",
       "0             3  beaccaff-8166-4fe8-94ba-fd18ad7a83e1          3         \n",
       "\n",
       "   ResourceTypeGameVariant                 ResourceIdGameVariant  \\\n",
       "0                        2  f213daf2-94f9-46a4-a4d8-b3f782da0bec   \n",
       "\n",
       "   OwnerTypeGameVariant OwnerGameVariant              ISO8601Date  \\\n",
       "0                     3                   2021-07-01T00:55:13.88Z   \n",
       "\n",
       "                                  0                                 1    2  \\\n",
       "0  {'Id': 1, 'Score': 1, 'Rank': 2}  {'Id': 0, 'Score': 2, 'Rank': 1}  NaN   \n",
       "\n",
       "     3    4    5    6    7    8    9   10   11  \n",
       "0  NaN  NaN  NaN  NaN  NaN  NaN  NaN  NaN  NaN  "
      ]
     },
     "execution_count": 13,
     "metadata": {},
     "output_type": "execute_result"
    }
   ],
   "source": [
    "# Convert strings to dictionaries and explode GameVariant Teams\n",
    "df['Teams'] = df['Teams'].map(ast.literal_eval)\n",
    "df = explode_column(df, 'Teams')\n",
    "\n",
    "df.head(1)"
   ]
  },
  {
   "cell_type": "code",
   "execution_count": 14,
   "metadata": {
    "ExecuteTime": {
     "end_time": "2021-07-30T02:48:32.205907Z",
     "start_time": "2021-07-30T02:48:25.019280Z"
    }
   },
   "outputs": [
    {
     "data": {
      "text/html": [
       "<div>\n",
       "<style scoped>\n",
       "    .dataframe tbody tr th:only-of-type {\n",
       "        vertical-align: middle;\n",
       "    }\n",
       "\n",
       "    .dataframe tbody tr th {\n",
       "        vertical-align: top;\n",
       "    }\n",
       "\n",
       "    .dataframe thead th {\n",
       "        text-align: right;\n",
       "    }\n",
       "</style>\n",
       "<table border=\"1\" class=\"dataframe\">\n",
       "  <thead>\n",
       "    <tr style=\"text-align: right;\">\n",
       "      <th></th>\n",
       "      <th>Links</th>\n",
       "      <th>HopperId</th>\n",
       "      <th>MapId</th>\n",
       "      <th>GameBaseVariantId</th>\n",
       "      <th>MatchDuration</th>\n",
       "      <th>Players</th>\n",
       "      <th>IsTeamGame</th>\n",
       "      <th>SeasonId</th>\n",
       "      <th>MatchCompletedDateFidelity</th>\n",
       "      <th>MatchId</th>\n",
       "      <th>GameMode</th>\n",
       "      <th>ResourceType</th>\n",
       "      <th>ResourceId</th>\n",
       "      <th>OwnerType</th>\n",
       "      <th>Owner</th>\n",
       "      <th>ResourceTypeGameVariant</th>\n",
       "      <th>ResourceIdGameVariant</th>\n",
       "      <th>OwnerTypeGameVariant</th>\n",
       "      <th>OwnerGameVariant</th>\n",
       "      <th>ISO8601Date</th>\n",
       "      <th>0</th>\n",
       "      <th>1</th>\n",
       "      <th>2</th>\n",
       "      <th>3</th>\n",
       "      <th>4</th>\n",
       "      <th>5</th>\n",
       "      <th>6</th>\n",
       "      <th>7</th>\n",
       "      <th>8</th>\n",
       "      <th>9</th>\n",
       "      <th>10</th>\n",
       "      <th>11</th>\n",
       "      <th>TeamId</th>\n",
       "      <th>Rank</th>\n",
       "      <th>Result</th>\n",
       "      <th>TotalKills</th>\n",
       "      <th>TotalDeaths</th>\n",
       "      <th>TotalAssists</th>\n",
       "      <th>PreMatchRatings</th>\n",
       "      <th>PostMatchRatings</th>\n",
       "      <th>Gamertag</th>\n",
       "      <th>Xuid</th>\n",
       "    </tr>\n",
       "  </thead>\n",
       "  <tbody>\n",
       "    <tr>\n",
       "      <th>0</th>\n",
       "      <td>{'StatsMatchDetails': {'AuthorityId': 'spartan...</td>\n",
       "      <td>f0c9ef9a-48bd-4b24-9db3-2c76b4e23450</td>\n",
       "      <td>d67fdcb9-6d9c-403e-960d-04202e19b244</td>\n",
       "      <td>a2949322-dc84-45ab-8454-cf94fb28c189</td>\n",
       "      <td>PT8M48.3224767S</td>\n",
       "      <td>[{'Player': {'Gamertag': 'Drymander', 'Xuid': ...</td>\n",
       "      <td>True</td>\n",
       "      <td>NaN</td>\n",
       "      <td>2</td>\n",
       "      <td>10010481-1be2-462b-9774-eac5ee152045</td>\n",
       "      <td>1</td>\n",
       "      <td>3</td>\n",
       "      <td>beaccaff-8166-4fe8-94ba-fd18ad7a83e1</td>\n",
       "      <td>3</td>\n",
       "      <td></td>\n",
       "      <td>2</td>\n",
       "      <td>f213daf2-94f9-46a4-a4d8-b3f782da0bec</td>\n",
       "      <td>3</td>\n",
       "      <td></td>\n",
       "      <td>2021-07-01T00:55:13.88Z</td>\n",
       "      <td>{'Id': 1, 'Score': 1, 'Rank': 2}</td>\n",
       "      <td>{'Id': 0, 'Score': 2, 'Rank': 1}</td>\n",
       "      <td>NaN</td>\n",
       "      <td>NaN</td>\n",
       "      <td>NaN</td>\n",
       "      <td>NaN</td>\n",
       "      <td>NaN</td>\n",
       "      <td>NaN</td>\n",
       "      <td>NaN</td>\n",
       "      <td>NaN</td>\n",
       "      <td>NaN</td>\n",
       "      <td>NaN</td>\n",
       "      <td>0</td>\n",
       "      <td>2</td>\n",
       "      <td>3</td>\n",
       "      <td>11</td>\n",
       "      <td>9</td>\n",
       "      <td>6</td>\n",
       "      <td>None</td>\n",
       "      <td>None</td>\n",
       "      <td>Drymander</td>\n",
       "      <td>None</td>\n",
       "    </tr>\n",
       "  </tbody>\n",
       "</table>\n",
       "</div>"
      ],
      "text/plain": [
       "                                               Links  \\\n",
       "0  {'StatsMatchDetails': {'AuthorityId': 'spartan...   \n",
       "\n",
       "                               HopperId                                 MapId  \\\n",
       "0  f0c9ef9a-48bd-4b24-9db3-2c76b4e23450  d67fdcb9-6d9c-403e-960d-04202e19b244   \n",
       "\n",
       "                      GameBaseVariantId    MatchDuration  \\\n",
       "0  a2949322-dc84-45ab-8454-cf94fb28c189  PT8M48.3224767S   \n",
       "\n",
       "                                             Players  IsTeamGame SeasonId  \\\n",
       "0  [{'Player': {'Gamertag': 'Drymander', 'Xuid': ...        True      NaN   \n",
       "\n",
       "   MatchCompletedDateFidelity                               MatchId  GameMode  \\\n",
       "0                           2  10010481-1be2-462b-9774-eac5ee152045         1   \n",
       "\n",
       "   ResourceType                            ResourceId  OwnerType Owner  \\\n",
       "0             3  beaccaff-8166-4fe8-94ba-fd18ad7a83e1          3         \n",
       "\n",
       "   ResourceTypeGameVariant                 ResourceIdGameVariant  \\\n",
       "0                        2  f213daf2-94f9-46a4-a4d8-b3f782da0bec   \n",
       "\n",
       "   OwnerTypeGameVariant OwnerGameVariant              ISO8601Date  \\\n",
       "0                     3                   2021-07-01T00:55:13.88Z   \n",
       "\n",
       "                                  0                                 1    2  \\\n",
       "0  {'Id': 1, 'Score': 1, 'Rank': 2}  {'Id': 0, 'Score': 2, 'Rank': 1}  NaN   \n",
       "\n",
       "     3    4    5    6    7    8    9   10   11  TeamId  Rank  Result  \\\n",
       "0  NaN  NaN  NaN  NaN  NaN  NaN  NaN  NaN  NaN       0     2       3   \n",
       "\n",
       "   TotalKills  TotalDeaths  TotalAssists PreMatchRatings PostMatchRatings  \\\n",
       "0          11            9             6            None             None   \n",
       "\n",
       "    Gamertag  Xuid  \n",
       "0  Drymander  None  "
      ]
     },
     "execution_count": 14,
     "metadata": {},
     "output_type": "execute_result"
    }
   ],
   "source": [
    "# Convert strings to dictionaries and explode GameVariant Teams\n",
    "df['Players'] = df['Players'].map(ast.literal_eval)\n",
    "explode_column(df, 'Players').head(1)\n",
    "\n",
    "# Handling 'Players' differently since it has nested dictionaries within nested dictionaries\n",
    "# Breaking out 'Players'\n",
    "df_players = df['Players'].apply(pd.Series)\n",
    "\n",
    "# Converting the columns from integers to strings\n",
    "df_players.columns = df_players.columns.astype(str)\n",
    "\n",
    "# Exploding the '0' column as its own dataframe\n",
    "df_players_explode = explode_column(df_players, '0')\n",
    "\n",
    "# Exploding a more deeply nested 'Player' column\n",
    "df_match_stats = explode_column(df_players_explode, 'Player')\n",
    "\n",
    "# Appending results to main dataframe\n",
    "df = df.join(df_match_stats, rsuffix='_stats')\n",
    "\n",
    "df.head(1)"
   ]
  },
  {
   "cell_type": "markdown",
   "metadata": {},
   "source": [
    "We'll go ahead and load the data from a .csv to make sure we're working with the same information throughout the rest of the notebook."
   ]
  },
  {
   "cell_type": "code",
   "execution_count": 15,
   "metadata": {
    "ExecuteTime": {
     "end_time": "2021-07-30T02:48:32.322933Z",
     "start_time": "2021-07-30T02:48:32.206906Z"
    }
   },
   "outputs": [
    {
     "data": {
      "text/html": [
       "<div>\n",
       "<style scoped>\n",
       "    .dataframe tbody tr th:only-of-type {\n",
       "        vertical-align: middle;\n",
       "    }\n",
       "\n",
       "    .dataframe tbody tr th {\n",
       "        vertical-align: top;\n",
       "    }\n",
       "\n",
       "    .dataframe thead th {\n",
       "        text-align: right;\n",
       "    }\n",
       "</style>\n",
       "<table border=\"1\" class=\"dataframe\">\n",
       "  <thead>\n",
       "    <tr style=\"text-align: right;\">\n",
       "      <th></th>\n",
       "      <th>Unnamed: 0</th>\n",
       "      <th>Links</th>\n",
       "      <th>HopperId</th>\n",
       "      <th>MapId</th>\n",
       "      <th>GameBaseVariantId</th>\n",
       "      <th>MatchDuration</th>\n",
       "      <th>Players</th>\n",
       "      <th>IsTeamGame</th>\n",
       "      <th>SeasonId</th>\n",
       "      <th>MatchCompletedDateFidelity</th>\n",
       "      <th>MatchId</th>\n",
       "      <th>GameMode</th>\n",
       "      <th>ResourceType</th>\n",
       "      <th>ResourceId</th>\n",
       "      <th>OwnerType</th>\n",
       "      <th>Owner</th>\n",
       "      <th>ResourceTypeGameVariant</th>\n",
       "      <th>ResourceIdGameVariant</th>\n",
       "      <th>OwnerTypeGameVariant</th>\n",
       "      <th>OwnerGameVariant</th>\n",
       "      <th>ISO8601Date</th>\n",
       "      <th>2</th>\n",
       "      <th>3</th>\n",
       "      <th>4</th>\n",
       "      <th>5</th>\n",
       "      <th>6</th>\n",
       "      <th>7</th>\n",
       "      <th>8</th>\n",
       "      <th>9</th>\n",
       "      <th>10</th>\n",
       "      <th>11</th>\n",
       "      <th>Id</th>\n",
       "      <th>Score</th>\n",
       "      <th>Rank</th>\n",
       "      <th>Id1</th>\n",
       "      <th>Score1</th>\n",
       "      <th>Rank1</th>\n",
       "      <th>TeamId</th>\n",
       "      <th>Rank_stats</th>\n",
       "      <th>Result</th>\n",
       "      <th>TotalKills</th>\n",
       "      <th>TotalDeaths</th>\n",
       "      <th>TotalAssists</th>\n",
       "      <th>PreMatchRatings</th>\n",
       "      <th>PostMatchRatings</th>\n",
       "      <th>Gamertag</th>\n",
       "      <th>Xuid</th>\n",
       "    </tr>\n",
       "  </thead>\n",
       "  <tbody>\n",
       "    <tr>\n",
       "      <th>0</th>\n",
       "      <td>0</td>\n",
       "      <td>{'StatsMatchDetails': {'AuthorityId': 'spartan...</td>\n",
       "      <td>f0c9ef9a-48bd-4b24-9db3-2c76b4e23450</td>\n",
       "      <td>d67fdcb9-6d9c-403e-960d-04202e19b244</td>\n",
       "      <td>a2949322-dc84-45ab-8454-cf94fb28c189</td>\n",
       "      <td>PT8M48.3224767S</td>\n",
       "      <td>[{'Player': {'Gamertag': 'Drymander', 'Xuid': ...</td>\n",
       "      <td>True</td>\n",
       "      <td>NaN</td>\n",
       "      <td>2</td>\n",
       "      <td>10010481-1be2-462b-9774-eac5ee152045</td>\n",
       "      <td>1</td>\n",
       "      <td>3</td>\n",
       "      <td>beaccaff-8166-4fe8-94ba-fd18ad7a83e1</td>\n",
       "      <td>3</td>\n",
       "      <td>NaN</td>\n",
       "      <td>2</td>\n",
       "      <td>f213daf2-94f9-46a4-a4d8-b3f782da0bec</td>\n",
       "      <td>3</td>\n",
       "      <td>NaN</td>\n",
       "      <td>2021-07-01T00:55:13.88Z</td>\n",
       "      <td>NaN</td>\n",
       "      <td>NaN</td>\n",
       "      <td>NaN</td>\n",
       "      <td>NaN</td>\n",
       "      <td>NaN</td>\n",
       "      <td>NaN</td>\n",
       "      <td>NaN</td>\n",
       "      <td>NaN</td>\n",
       "      <td>NaN</td>\n",
       "      <td>NaN</td>\n",
       "      <td>1</td>\n",
       "      <td>1</td>\n",
       "      <td>2</td>\n",
       "      <td>0</td>\n",
       "      <td>2</td>\n",
       "      <td>1</td>\n",
       "      <td>0</td>\n",
       "      <td>2</td>\n",
       "      <td>3</td>\n",
       "      <td>11</td>\n",
       "      <td>9</td>\n",
       "      <td>6</td>\n",
       "      <td>NaN</td>\n",
       "      <td>NaN</td>\n",
       "      <td>Drymander</td>\n",
       "      <td>NaN</td>\n",
       "    </tr>\n",
       "  </tbody>\n",
       "</table>\n",
       "</div>"
      ],
      "text/plain": [
       "   Unnamed: 0                                              Links  \\\n",
       "0           0  {'StatsMatchDetails': {'AuthorityId': 'spartan...   \n",
       "\n",
       "                               HopperId                                 MapId  \\\n",
       "0  f0c9ef9a-48bd-4b24-9db3-2c76b4e23450  d67fdcb9-6d9c-403e-960d-04202e19b244   \n",
       "\n",
       "                      GameBaseVariantId    MatchDuration  \\\n",
       "0  a2949322-dc84-45ab-8454-cf94fb28c189  PT8M48.3224767S   \n",
       "\n",
       "                                             Players  IsTeamGame SeasonId  \\\n",
       "0  [{'Player': {'Gamertag': 'Drymander', 'Xuid': ...        True      NaN   \n",
       "\n",
       "   MatchCompletedDateFidelity                               MatchId  GameMode  \\\n",
       "0                           2  10010481-1be2-462b-9774-eac5ee152045         1   \n",
       "\n",
       "   ResourceType                            ResourceId  OwnerType  Owner  \\\n",
       "0             3  beaccaff-8166-4fe8-94ba-fd18ad7a83e1          3    NaN   \n",
       "\n",
       "   ResourceTypeGameVariant                 ResourceIdGameVariant  \\\n",
       "0                        2  f213daf2-94f9-46a4-a4d8-b3f782da0bec   \n",
       "\n",
       "   OwnerTypeGameVariant  OwnerGameVariant              ISO8601Date    2    3  \\\n",
       "0                     3               NaN  2021-07-01T00:55:13.88Z  NaN  NaN   \n",
       "\n",
       "     4    5    6    7    8    9   10   11  Id  Score  Rank  Id1  Score1  \\\n",
       "0  NaN  NaN  NaN  NaN  NaN  NaN  NaN  NaN   1      1     2    0       2   \n",
       "\n",
       "   Rank1  TeamId  Rank_stats  Result  TotalKills  TotalDeaths  TotalAssists  \\\n",
       "0      1       0           2       3          11            9             6   \n",
       "\n",
       "   PreMatchRatings  PostMatchRatings   Gamertag  Xuid  \n",
       "0              NaN               NaN  Drymander   NaN  "
      ]
     },
     "execution_count": 15,
     "metadata": {},
     "output_type": "execute_result"
    }
   ],
   "source": [
    "df = pd.read_csv('data/DrymanderHistoryExplode.csv')\n",
    "df.head(1)"
   ]
  },
  {
   "cell_type": "markdown",
   "metadata": {},
   "source": [
    "Truthfully there's not a ton of useful information in this particular API call, but it does have the essential piece of data we need to pull the information that is useful, the MatchId.  "
   ]
  },
  {
   "cell_type": "markdown",
   "metadata": {},
   "source": [
    "# Pull All Matches from 'Match Result - Arena' API Call\n",
    "\n",
    "Now that we have all the match ID's, we'll use each ID to call the Halo 5 API to give us more extensive match information."
   ]
  },
  {
   "cell_type": "code",
   "execution_count": 16,
   "metadata": {
    "ExecuteTime": {
     "end_time": "2021-07-30T02:48:38.069724Z",
     "start_time": "2021-07-30T02:48:32.323932Z"
    }
   },
   "outputs": [
    {
     "data": {
      "text/plain": [
       "5903"
      ]
     },
     "execution_count": 16,
     "metadata": {},
     "output_type": "execute_result"
    }
   ],
   "source": [
    "# Setting run equal to false.  If set to true, code will pull all matches for\n",
    "run = False\n",
    "\n",
    "if run == True:\n",
    "    \n",
    "    # Setting API key\n",
    "    headers = {\n",
    "        # Request headers\n",
    "        'Ocp-Apim-Subscription-Key': api_key,\n",
    "    }\n",
    "    params = urllib.parse.urlencode({\n",
    "    })\n",
    "    \n",
    "    # Setting match_list to every MatchId in the player history dataframe\n",
    "    match_list = df['MatchId']\n",
    "    # Instantiating empty list to append API results\n",
    "    match_details = []\n",
    "    # Counter variable\n",
    "    i = 0\n",
    "    \n",
    "    # This loop will pull extensive match details for every MatchId in the player\n",
    "    # history dataframe and add each match to the match_details list\n",
    "    for match in match_list:\n",
    "        try:\n",
    "            conn = http.client.HTTPSConnection('www.haloapi.com')\n",
    "            conn.request(\"GET\", f\"/stats/h5/arena/matches/{match}?%s\" % params, \"{body}\", headers)\n",
    "            response = conn.getresponse()\n",
    "            data = response.read()\n",
    "            data = json.loads(data)\n",
    "            match_details.append(data)\n",
    "            conn.close()\n",
    "            i += 1\n",
    "            time.sleep(1.1)\n",
    "\n",
    "        except Exception as e:\n",
    "            print(\"error\")\n",
    "\n",
    "# If run == False, this will load previously compiled match_details from pickle\n",
    "else: \n",
    "    with open('data/match_details.pkl', 'rb') as match_details:\n",
    "        match_results = pickle.load(match_details)\n",
    "\n",
    "# Show match details, should be 5903\n",
    "len(match_results)"
   ]
  },
  {
   "cell_type": "markdown",
   "metadata": {},
   "source": [
    "Now we have every match in JSON format, and we'll need to convert that into a more palatable format like a dataframe.  We'll start off by saving our player match history dataframe from earlier and starting a new one with just date and match ID."
   ]
  },
  {
   "cell_type": "code",
   "execution_count": 17,
   "metadata": {
    "ExecuteTime": {
     "end_time": "2021-07-30T02:48:38.074726Z",
     "start_time": "2021-07-30T02:48:38.070724Z"
    }
   },
   "outputs": [],
   "source": [
    "# Saving our original datafarme as df_history\n",
    "df_history = df.copy()"
   ]
  },
  {
   "cell_type": "code",
   "execution_count": 18,
   "metadata": {
    "ExecuteTime": {
     "end_time": "2021-07-30T02:48:38.603845Z",
     "start_time": "2021-07-30T02:48:38.075725Z"
    }
   },
   "outputs": [
    {
     "data": {
      "text/html": [
       "<div>\n",
       "<style scoped>\n",
       "    .dataframe tbody tr th:only-of-type {\n",
       "        vertical-align: middle;\n",
       "    }\n",
       "\n",
       "    .dataframe tbody tr th {\n",
       "        vertical-align: top;\n",
       "    }\n",
       "\n",
       "    .dataframe thead th {\n",
       "        text-align: right;\n",
       "    }\n",
       "</style>\n",
       "<table border=\"1\" class=\"dataframe\">\n",
       "  <thead>\n",
       "    <tr style=\"text-align: right;\">\n",
       "      <th></th>\n",
       "      <th>Date</th>\n",
       "      <th>MatchId</th>\n",
       "    </tr>\n",
       "  </thead>\n",
       "  <tbody>\n",
       "    <tr>\n",
       "      <th>0</th>\n",
       "      <td>2021-07-01 00:55:13.880000+00:00</td>\n",
       "      <td>10010481-1be2-462b-9774-eac5ee152045</td>\n",
       "    </tr>\n",
       "    <tr>\n",
       "      <th>1</th>\n",
       "      <td>2021-07-01 00:49:29.519000+00:00</td>\n",
       "      <td>d8964123-992f-4dd9-8555-40b76a98d4e1</td>\n",
       "    </tr>\n",
       "    <tr>\n",
       "      <th>2</th>\n",
       "      <td>2021-07-01 00:40:43.086000+00:00</td>\n",
       "      <td>c86a93e7-4842-4443-9b90-875b20e3846e</td>\n",
       "    </tr>\n",
       "    <tr>\n",
       "      <th>3</th>\n",
       "      <td>2021-07-01 00:32:49.388000+00:00</td>\n",
       "      <td>79379ee7-036c-4c4a-9945-ef6eec06fed8</td>\n",
       "    </tr>\n",
       "    <tr>\n",
       "      <th>4</th>\n",
       "      <td>2021-07-01 00:24:59.974000+00:00</td>\n",
       "      <td>f16ebbe7-3ddd-4ff8-92de-52904c282d26</td>\n",
       "    </tr>\n",
       "  </tbody>\n",
       "</table>\n",
       "</div>"
      ],
      "text/plain": [
       "                              Date                               MatchId\n",
       "0 2021-07-01 00:55:13.880000+00:00  10010481-1be2-462b-9774-eac5ee152045\n",
       "1 2021-07-01 00:49:29.519000+00:00  d8964123-992f-4dd9-8555-40b76a98d4e1\n",
       "2 2021-07-01 00:40:43.086000+00:00  c86a93e7-4842-4443-9b90-875b20e3846e\n",
       "3 2021-07-01 00:32:49.388000+00:00  79379ee7-036c-4c4a-9945-ef6eec06fed8\n",
       "4 2021-07-01 00:24:59.974000+00:00  f16ebbe7-3ddd-4ff8-92de-52904c282d26"
      ]
     },
     "execution_count": 18,
     "metadata": {},
     "output_type": "execute_result"
    }
   ],
   "source": [
    "# Instantiating new dataframe\n",
    "df = pd.DataFrame()\n",
    "\n",
    "# Converting dates to a more readable format\n",
    "df['Date'] = df_history['ISO8601Date']\n",
    "df['Date'] = df['Date'].apply(pd.to_datetime)\n",
    "\n",
    "# Adding MatchId from df_history\n",
    "df['MatchId'] = df_history['MatchId']\n",
    "\n",
    "df.head(5)"
   ]
  },
  {
   "cell_type": "markdown",
   "metadata": {},
   "source": [
    "# Compile Match Dataframe\n",
    "\n",
    "Now we'll go through every match to pull out infromation we want for our analysis.  We'll define the stats we want to pull out in the cell below and arrange them in a dataframe."
   ]
  },
  {
   "cell_type": "code",
   "execution_count": 19,
   "metadata": {
    "ExecuteTime": {
     "end_time": "2021-07-30T02:48:38.608846Z",
     "start_time": "2021-07-30T02:48:38.604845Z"
    }
   },
   "outputs": [],
   "source": [
    "# List of stats we want to collect from our list of match dictionaries\n",
    "# These are player specific\n",
    "inner_stats = [\n",
    "            'TeamId',\n",
    "            'Rank',\n",
    "            'DNF',\n",
    "            'AvgLifeTimeOfPlayer',\n",
    "            'PlayerScore',\n",
    "            'GameEndStatus',\n",
    "            'TotalKills',\n",
    "            'TotalHeadshots',\n",
    "            'TotalWeaponDamage',\n",
    "            'TotalShotsFired',\n",
    "            'TotalShotsLanded',\n",
    "            'TotalMeleeKills',\n",
    "            'TotalMeleeDamage',\n",
    "            'TotalAssassinations',\n",
    "            'TotalGroundPoundKills',\n",
    "            'TotalGroundPoundDamage',\n",
    "            'TotalShoulderBashKills',\n",
    "            'TotalShoulderBashDamage',\n",
    "            'TotalGrenadeDamage',\n",
    "            'TotalPowerWeaponKills',\n",
    "            'TotalPowerWeaponDamage',\n",
    "            'TotalPowerWeaponGrabs',\n",
    "            'TotalPowerWeaponPossessionTime',\n",
    "            'TotalDeaths',\n",
    "            'TotalAssists',\n",
    "            'TotalGamesCompleted',\n",
    "            'TotalGamesWon',\n",
    "            'TotalGamesLost',\n",
    "            'TotalGamesTied',\n",
    "            'TotalTimePlayed',\n",
    "            'TotalGrenadeKills',\n",
    "            'TotalSpartanKills',\n",
    "              ]\n",
    "\n",
    "# Stats collected for each game that are not player specific\n",
    "outer_stats = [\n",
    "            'TotalDuration',\n",
    "            'MapVariantId',\n",
    "            'GameVariantId',\n",
    "            'PlaylistId',\n",
    "            'MapVariantId',\n",
    "            'GameBaseVariantId'\n",
    "]"
   ]
  },
  {
   "cell_type": "code",
   "execution_count": 20,
   "metadata": {
    "ExecuteTime": {
     "end_time": "2021-07-30T02:49:49.729925Z",
     "start_time": "2021-07-30T02:48:38.609846Z"
    }
   },
   "outputs": [
    {
     "name": "stderr",
     "output_type": "stream",
     "text": [
      "100%|██████████| 5903/5903 [01:11<00:00, 83.04it/s] \n"
     ]
    }
   ],
   "source": [
    "# New dataframe to compile match details\n",
    "all_matches_df = pd.DataFrame()\n",
    "# Setting match count which will help loop through the match list\n",
    "match_count = 0\n",
    "\n",
    "# Loop that will collect data by sifting through all JSONs in our match list\n",
    "for match in tqdm(match_results):\n",
    "    match_dic = {}\n",
    "    i=0\n",
    "    \n",
    "    # Loop that identifies gamertag within match JSONs\n",
    "    for player in match['PlayerStats']:\n",
    "        if match['PlayerStats'][i]['Player']['Gamertag'] == gamertag:\n",
    "            gamertag_stats = match['PlayerStats'][i]\n",
    "        else:\n",
    "            i += 1\n",
    "    \n",
    "    # Appending inner stats (gamertag specific)\n",
    "    for stat in inner_stats:\n",
    "        match_dic[stat] = gamertag_stats[stat]\n",
    "    \n",
    "    # Appending outer stats (match specific)\n",
    "    for stat in outer_stats:\n",
    "        match_dic[stat] = match[stat]\n",
    "    \n",
    "    # Create one row dataframe from appended stats\n",
    "    single_match_df = pd.DataFrame.from_records([match_dic])\n",
    "    # Append that one row dataframe to all_matches_df\n",
    "    all_matches_df = all_matches_df.append(single_match_df, ignore_index=True)\n",
    "\n",
    "# Adding date column and MatchId\n",
    "all_matches_df['Date'] = df['Date'].apply(pd.to_datetime)\n",
    "all_matches_df['MatchId'] = df_history['MatchId']"
   ]
  },
  {
   "cell_type": "markdown",
   "metadata": {},
   "source": [
    "# Data Processing and Feature Creation \n",
    "\n",
    "\n",
    "Now that we have everything we need from the match details JSON files, we can start preparing our data for analysis.  We'll be transforming some data and creating a few features as well."
   ]
  },
  {
   "cell_type": "code",
   "execution_count": 21,
   "metadata": {
    "ExecuteTime": {
     "end_time": "2021-07-30T02:49:49.757931Z",
     "start_time": "2021-07-30T02:49:49.730925Z"
    }
   },
   "outputs": [
    {
     "data": {
      "text/html": [
       "<div>\n",
       "<style scoped>\n",
       "    .dataframe tbody tr th:only-of-type {\n",
       "        vertical-align: middle;\n",
       "    }\n",
       "\n",
       "    .dataframe tbody tr th {\n",
       "        vertical-align: top;\n",
       "    }\n",
       "\n",
       "    .dataframe thead th {\n",
       "        text-align: right;\n",
       "    }\n",
       "</style>\n",
       "<table border=\"1\" class=\"dataframe\">\n",
       "  <thead>\n",
       "    <tr style=\"text-align: right;\">\n",
       "      <th></th>\n",
       "      <th>TeamId</th>\n",
       "      <th>Rank</th>\n",
       "      <th>DNF</th>\n",
       "      <th>AvgLifeTimeOfPlayer</th>\n",
       "      <th>PlayerScore</th>\n",
       "      <th>GameEndStatus</th>\n",
       "      <th>TotalKills</th>\n",
       "      <th>TotalHeadshots</th>\n",
       "      <th>TotalWeaponDamage</th>\n",
       "      <th>TotalShotsFired</th>\n",
       "      <th>TotalShotsLanded</th>\n",
       "      <th>TotalMeleeKills</th>\n",
       "      <th>TotalMeleeDamage</th>\n",
       "      <th>TotalAssassinations</th>\n",
       "      <th>TotalGroundPoundKills</th>\n",
       "      <th>TotalGroundPoundDamage</th>\n",
       "      <th>TotalShoulderBashKills</th>\n",
       "      <th>TotalShoulderBashDamage</th>\n",
       "      <th>TotalGrenadeDamage</th>\n",
       "      <th>TotalPowerWeaponKills</th>\n",
       "      <th>TotalPowerWeaponDamage</th>\n",
       "      <th>TotalPowerWeaponGrabs</th>\n",
       "      <th>TotalPowerWeaponPossessionTime</th>\n",
       "      <th>TotalDeaths</th>\n",
       "      <th>TotalAssists</th>\n",
       "      <th>TotalGamesCompleted</th>\n",
       "      <th>TotalGamesWon</th>\n",
       "      <th>TotalGamesLost</th>\n",
       "      <th>TotalGamesTied</th>\n",
       "      <th>TotalTimePlayed</th>\n",
       "      <th>TotalGrenadeKills</th>\n",
       "      <th>TotalSpartanKills</th>\n",
       "      <th>TotalDuration</th>\n",
       "      <th>MapVariantId</th>\n",
       "      <th>GameVariantId</th>\n",
       "      <th>PlaylistId</th>\n",
       "      <th>GameBaseVariantId</th>\n",
       "      <th>Date</th>\n",
       "      <th>MatchId</th>\n",
       "    </tr>\n",
       "  </thead>\n",
       "  <tbody>\n",
       "    <tr>\n",
       "      <th>0</th>\n",
       "      <td>0</td>\n",
       "      <td>2</td>\n",
       "      <td>False</td>\n",
       "      <td>PT19.0101779S</td>\n",
       "      <td>0</td>\n",
       "      <td>3</td>\n",
       "      <td>11</td>\n",
       "      <td>1</td>\n",
       "      <td>1333.918901</td>\n",
       "      <td>231</td>\n",
       "      <td>66</td>\n",
       "      <td>1</td>\n",
       "      <td>80.029148</td>\n",
       "      <td>0</td>\n",
       "      <td>0</td>\n",
       "      <td>0.0</td>\n",
       "      <td>0</td>\n",
       "      <td>0.0</td>\n",
       "      <td>90.000000</td>\n",
       "      <td>9</td>\n",
       "      <td>1086.018900</td>\n",
       "      <td>0</td>\n",
       "      <td>PT2M24.6165S</td>\n",
       "      <td>9</td>\n",
       "      <td>6</td>\n",
       "      <td>0</td>\n",
       "      <td>0</td>\n",
       "      <td>0</td>\n",
       "      <td>0</td>\n",
       "      <td>PT4M50.4721844S</td>\n",
       "      <td>0</td>\n",
       "      <td>11</td>\n",
       "      <td>PT8M48.3224767S</td>\n",
       "      <td>beaccaff-8166-4fe8-94ba-fd18ad7a83e1</td>\n",
       "      <td>f213daf2-94f9-46a4-a4d8-b3f782da0bec</td>\n",
       "      <td>f0c9ef9a-48bd-4b24-9db3-2c76b4e23450</td>\n",
       "      <td>a2949322-dc84-45ab-8454-cf94fb28c189</td>\n",
       "      <td>2021-07-01 00:55:13.880000+00:00</td>\n",
       "      <td>10010481-1be2-462b-9774-eac5ee152045</td>\n",
       "    </tr>\n",
       "    <tr>\n",
       "      <th>1</th>\n",
       "      <td>0</td>\n",
       "      <td>2</td>\n",
       "      <td>False</td>\n",
       "      <td>PT27.334877S</td>\n",
       "      <td>14</td>\n",
       "      <td>3</td>\n",
       "      <td>14</td>\n",
       "      <td>0</td>\n",
       "      <td>1824.901194</td>\n",
       "      <td>259</td>\n",
       "      <td>87</td>\n",
       "      <td>2</td>\n",
       "      <td>198.000015</td>\n",
       "      <td>0</td>\n",
       "      <td>0</td>\n",
       "      <td>0.0</td>\n",
       "      <td>0</td>\n",
       "      <td>0.0</td>\n",
       "      <td>50.744907</td>\n",
       "      <td>11</td>\n",
       "      <td>1635.156286</td>\n",
       "      <td>0</td>\n",
       "      <td>PT5M14.0166S</td>\n",
       "      <td>12</td>\n",
       "      <td>1</td>\n",
       "      <td>0</td>\n",
       "      <td>0</td>\n",
       "      <td>0</td>\n",
       "      <td>0</td>\n",
       "      <td>PT7M27.8478311S</td>\n",
       "      <td>0</td>\n",
       "      <td>14</td>\n",
       "      <td>PT7M27.8508336S</td>\n",
       "      <td>8e4831a0-debb-4f4e-ae75-a0834edcb153</td>\n",
       "      <td>04a4099c-8b96-40a7-a341-668d94a10357</td>\n",
       "      <td>f0c9ef9a-48bd-4b24-9db3-2c76b4e23450</td>\n",
       "      <td>257a305e-4dd3-41f1-9824-dfe7e8bd59e1</td>\n",
       "      <td>2021-07-01 00:49:29.519000+00:00</td>\n",
       "      <td>d8964123-992f-4dd9-8555-40b76a98d4e1</td>\n",
       "    </tr>\n",
       "    <tr>\n",
       "      <th>2</th>\n",
       "      <td>1</td>\n",
       "      <td>4</td>\n",
       "      <td>False</td>\n",
       "      <td>PT23.8690928S</td>\n",
       "      <td>10</td>\n",
       "      <td>3</td>\n",
       "      <td>10</td>\n",
       "      <td>2</td>\n",
       "      <td>1300.256462</td>\n",
       "      <td>196</td>\n",
       "      <td>47</td>\n",
       "      <td>0</td>\n",
       "      <td>0.000000</td>\n",
       "      <td>0</td>\n",
       "      <td>0</td>\n",
       "      <td>0.0</td>\n",
       "      <td>0</td>\n",
       "      <td>0.0</td>\n",
       "      <td>92.379814</td>\n",
       "      <td>9</td>\n",
       "      <td>1169.076649</td>\n",
       "      <td>0</td>\n",
       "      <td>PT4M8.3165S</td>\n",
       "      <td>12</td>\n",
       "      <td>3</td>\n",
       "      <td>0</td>\n",
       "      <td>0</td>\n",
       "      <td>0</td>\n",
       "      <td>0</td>\n",
       "      <td>PT6M35.1332077S</td>\n",
       "      <td>1</td>\n",
       "      <td>10</td>\n",
       "      <td>PT6M35.1342094S</td>\n",
       "      <td>b82c7fed-4667-43f8-8467-50741a5e1103</td>\n",
       "      <td>1005b609-aed9-4f19-bc3b-e8f0d29465f0</td>\n",
       "      <td>f0c9ef9a-48bd-4b24-9db3-2c76b4e23450</td>\n",
       "      <td>257a305e-4dd3-41f1-9824-dfe7e8bd59e1</td>\n",
       "      <td>2021-07-01 00:40:43.086000+00:00</td>\n",
       "      <td>c86a93e7-4842-4443-9b90-875b20e3846e</td>\n",
       "    </tr>\n",
       "  </tbody>\n",
       "</table>\n",
       "</div>"
      ],
      "text/plain": [
       "   TeamId  Rank    DNF AvgLifeTimeOfPlayer PlayerScore  GameEndStatus  \\\n",
       "0       0     2  False       PT19.0101779S           0              3   \n",
       "1       0     2  False        PT27.334877S          14              3   \n",
       "2       1     4  False       PT23.8690928S          10              3   \n",
       "\n",
       "   TotalKills  TotalHeadshots  TotalWeaponDamage  TotalShotsFired  \\\n",
       "0          11               1        1333.918901              231   \n",
       "1          14               0        1824.901194              259   \n",
       "2          10               2        1300.256462              196   \n",
       "\n",
       "   TotalShotsLanded  TotalMeleeKills  TotalMeleeDamage  TotalAssassinations  \\\n",
       "0                66                1         80.029148                    0   \n",
       "1                87                2        198.000015                    0   \n",
       "2                47                0          0.000000                    0   \n",
       "\n",
       "   TotalGroundPoundKills  TotalGroundPoundDamage  TotalShoulderBashKills  \\\n",
       "0                      0                     0.0                       0   \n",
       "1                      0                     0.0                       0   \n",
       "2                      0                     0.0                       0   \n",
       "\n",
       "   TotalShoulderBashDamage  TotalGrenadeDamage  TotalPowerWeaponKills  \\\n",
       "0                      0.0           90.000000                      9   \n",
       "1                      0.0           50.744907                     11   \n",
       "2                      0.0           92.379814                      9   \n",
       "\n",
       "   TotalPowerWeaponDamage  TotalPowerWeaponGrabs  \\\n",
       "0             1086.018900                      0   \n",
       "1             1635.156286                      0   \n",
       "2             1169.076649                      0   \n",
       "\n",
       "  TotalPowerWeaponPossessionTime  TotalDeaths  TotalAssists  \\\n",
       "0                   PT2M24.6165S            9             6   \n",
       "1                   PT5M14.0166S           12             1   \n",
       "2                    PT4M8.3165S           12             3   \n",
       "\n",
       "   TotalGamesCompleted  TotalGamesWon  TotalGamesLost  TotalGamesTied  \\\n",
       "0                    0              0               0               0   \n",
       "1                    0              0               0               0   \n",
       "2                    0              0               0               0   \n",
       "\n",
       "   TotalTimePlayed  TotalGrenadeKills  TotalSpartanKills    TotalDuration  \\\n",
       "0  PT4M50.4721844S                  0                 11  PT8M48.3224767S   \n",
       "1  PT7M27.8478311S                  0                 14  PT7M27.8508336S   \n",
       "2  PT6M35.1332077S                  1                 10  PT6M35.1342094S   \n",
       "\n",
       "                           MapVariantId                         GameVariantId  \\\n",
       "0  beaccaff-8166-4fe8-94ba-fd18ad7a83e1  f213daf2-94f9-46a4-a4d8-b3f782da0bec   \n",
       "1  8e4831a0-debb-4f4e-ae75-a0834edcb153  04a4099c-8b96-40a7-a341-668d94a10357   \n",
       "2  b82c7fed-4667-43f8-8467-50741a5e1103  1005b609-aed9-4f19-bc3b-e8f0d29465f0   \n",
       "\n",
       "                             PlaylistId                     GameBaseVariantId  \\\n",
       "0  f0c9ef9a-48bd-4b24-9db3-2c76b4e23450  a2949322-dc84-45ab-8454-cf94fb28c189   \n",
       "1  f0c9ef9a-48bd-4b24-9db3-2c76b4e23450  257a305e-4dd3-41f1-9824-dfe7e8bd59e1   \n",
       "2  f0c9ef9a-48bd-4b24-9db3-2c76b4e23450  257a305e-4dd3-41f1-9824-dfe7e8bd59e1   \n",
       "\n",
       "                              Date                               MatchId  \n",
       "0 2021-07-01 00:55:13.880000+00:00  10010481-1be2-462b-9774-eac5ee152045  \n",
       "1 2021-07-01 00:49:29.519000+00:00  d8964123-992f-4dd9-8555-40b76a98d4e1  \n",
       "2 2021-07-01 00:40:43.086000+00:00  c86a93e7-4842-4443-9b90-875b20e3846e  "
      ]
     },
     "execution_count": 21,
     "metadata": {},
     "output_type": "execute_result"
    }
   ],
   "source": [
    "# Making copy of all_matches_df so we can work with just df\n",
    "df = all_matches_df.copy()\n",
    "\n",
    "df.head(3)"
   ]
  },
  {
   "cell_type": "code",
   "execution_count": 22,
   "metadata": {
    "ExecuteTime": {
     "end_time": "2021-07-30T02:49:49.770935Z",
     "start_time": "2021-07-30T02:49:49.758932Z"
    }
   },
   "outputs": [
    {
     "data": {
      "text/plain": [
       "Index(['TeamId', 'Rank', 'DNF', 'AvgLifeTimeOfPlayer', 'PlayerScore',\n",
       "       'GameEndStatus', 'TotalKills', 'TotalHeadshots', 'TotalWeaponDamage',\n",
       "       'TotalShotsFired', 'TotalShotsLanded', 'TotalMeleeKills',\n",
       "       'TotalMeleeDamage', 'TotalAssassinations', 'TotalGroundPoundKills',\n",
       "       'TotalGroundPoundDamage', 'TotalShoulderBashKills',\n",
       "       'TotalShoulderBashDamage', 'TotalGrenadeDamage',\n",
       "       'TotalPowerWeaponKills', 'TotalPowerWeaponDamage',\n",
       "       'TotalPowerWeaponGrabs', 'TotalPowerWeaponPossessionTime',\n",
       "       'TotalDeaths', 'TotalAssists', 'TotalGamesCompleted', 'TotalGamesWon',\n",
       "       'TotalGamesLost', 'TotalGamesTied', 'TotalTimePlayed',\n",
       "       'TotalGrenadeKills', 'TotalSpartanKills', 'TotalDuration',\n",
       "       'MapVariantId', 'GameVariantId', 'PlaylistId', 'GameBaseVariantId',\n",
       "       'Date', 'MatchId'],\n",
       "      dtype='object')"
      ]
     },
     "execution_count": 22,
     "metadata": {},
     "output_type": "execute_result"
    }
   ],
   "source": [
    "# Checking to see that all stats made it within the columns\n",
    "df.columns"
   ]
  },
  {
   "cell_type": "markdown",
   "metadata": {},
   "source": [
    "## Winner Column"
   ]
  },
  {
   "cell_type": "code",
   "execution_count": 23,
   "metadata": {
    "ExecuteTime": {
     "end_time": "2021-07-30T02:49:49.782937Z",
     "start_time": "2021-07-30T02:49:49.771935Z"
    }
   },
   "outputs": [],
   "source": [
    "# Creating column denoting win / lose / tie\n",
    "df['WinLoseTie'] = df['GameEndStatus'].map({3:'Victory', 2:'Tie', 1:'Defeat', 0:'Did Not Finish'})"
   ]
  },
  {
   "cell_type": "markdown",
   "metadata": {},
   "source": [
    "## Converting Time Codes"
   ]
  },
  {
   "cell_type": "code",
   "execution_count": 24,
   "metadata": {
    "ExecuteTime": {
     "end_time": "2021-07-30T02:49:50.162022Z",
     "start_time": "2021-07-30T02:49:49.784938Z"
    }
   },
   "outputs": [
    {
     "data": {
      "text/html": [
       "<div>\n",
       "<style scoped>\n",
       "    .dataframe tbody tr th:only-of-type {\n",
       "        vertical-align: middle;\n",
       "    }\n",
       "\n",
       "    .dataframe tbody tr th {\n",
       "        vertical-align: top;\n",
       "    }\n",
       "\n",
       "    .dataframe thead th {\n",
       "        text-align: right;\n",
       "    }\n",
       "</style>\n",
       "<table border=\"1\" class=\"dataframe\">\n",
       "  <thead>\n",
       "    <tr style=\"text-align: right;\">\n",
       "      <th></th>\n",
       "      <th>AvgLifeTimeOfPlayer</th>\n",
       "      <th>TotalTimePlayed</th>\n",
       "      <th>TotalDuration</th>\n",
       "      <th>TotalPowerWeaponPossessionTime</th>\n",
       "    </tr>\n",
       "  </thead>\n",
       "  <tbody>\n",
       "    <tr>\n",
       "      <th>0</th>\n",
       "      <td>19.010178</td>\n",
       "      <td>4.841203</td>\n",
       "      <td>8.805375</td>\n",
       "      <td>2.410275</td>\n",
       "    </tr>\n",
       "    <tr>\n",
       "      <th>1</th>\n",
       "      <td>27.334877</td>\n",
       "      <td>7.464131</td>\n",
       "      <td>7.464181</td>\n",
       "      <td>5.233610</td>\n",
       "    </tr>\n",
       "    <tr>\n",
       "      <th>2</th>\n",
       "      <td>23.869093</td>\n",
       "      <td>6.585553</td>\n",
       "      <td>6.585570</td>\n",
       "      <td>4.138608</td>\n",
       "    </tr>\n",
       "  </tbody>\n",
       "</table>\n",
       "</div>"
      ],
      "text/plain": [
       "   AvgLifeTimeOfPlayer  TotalTimePlayed  TotalDuration  \\\n",
       "0            19.010178         4.841203       8.805375   \n",
       "1            27.334877         7.464131       7.464181   \n",
       "2            23.869093         6.585553       6.585570   \n",
       "\n",
       "   TotalPowerWeaponPossessionTime  \n",
       "0                        2.410275  \n",
       "1                        5.233610  \n",
       "2                        4.138608  "
      ]
     },
     "execution_count": 24,
     "metadata": {},
     "output_type": "execute_result"
    }
   ],
   "source": [
    "# List of columns we want to convert\n",
    "time_columns = ['AvgLifeTimeOfPlayer', 'TotalTimePlayed', 'TotalDuration',\n",
    "                'TotalPowerWeaponPossessionTime']\n",
    "\n",
    "# Function to convert time columns into readable formate\n",
    "def convert_times(df, time_columns):\n",
    "    for column in time_columns:\n",
    "        parsed_times = []\n",
    "        for row in df[column]:\n",
    "            row = isodate.parse_duration(row).total_seconds() / 60\n",
    "            parsed_times.append(row)\n",
    "        df[column] = parsed_times\n",
    "\n",
    "# Converting time columns\n",
    "convert_times(df, time_columns)\n",
    "\n",
    "# Converting average lifetime of player from minute to seconds\n",
    "df['AvgLifeTimeOfPlayer'] = df['AvgLifeTimeOfPlayer'] * 60\n",
    "\n",
    "df[['AvgLifeTimeOfPlayer', 'TotalTimePlayed', 'TotalDuration',\n",
    "    'TotalPowerWeaponPossessionTime']].head(3)"
   ]
  },
  {
   "cell_type": "markdown",
   "metadata": {},
   "source": [
    "## Decoding GameBaseVariant, PlayListId, MapVariantId\n",
    "\n",
    "The Halo 5 API loves its codes, and we have to ping their metadata API links in order to decode them.  We'll save the metadata responses as dictionaries, and use them to make our data readable."
   ]
  },
  {
   "cell_type": "code",
   "execution_count": 25,
   "metadata": {
    "ExecuteTime": {
     "end_time": "2021-07-30T02:49:50.166024Z",
     "start_time": "2021-07-30T02:49:50.163023Z"
    }
   },
   "outputs": [],
   "source": [
    "# This function will convert codes provided by the API into a readable format\n",
    "def decode_column(df, column, api_dict):\n",
    "    \n",
    "    # Empty list of decoded values\n",
    "    decoded_list = []\n",
    "    \n",
    "    # Loop through each row\n",
    "    for row in df[column]:\n",
    "        i = 0\n",
    "        \n",
    "        # Loop through API dictionary\n",
    "        for item in api_dict:\n",
    "            \n",
    "            # If code found, append it to list\n",
    "            if item['id'] == row:\n",
    "                name = item['name']\n",
    "                decoded_list.append(name)\n",
    "            \n",
    "            # Otherwise keep searching until found\n",
    "            else:\n",
    "                i += 1\n",
    "    \n",
    "    # Return decoded list\n",
    "    return decoded_list"
   ]
  },
  {
   "cell_type": "code",
   "execution_count": 26,
   "metadata": {
    "ExecuteTime": {
     "end_time": "2021-07-30T02:49:50.180026Z",
     "start_time": "2021-07-30T02:49:50.170024Z"
    }
   },
   "outputs": [],
   "source": [
    "# This function will convert maps to readable format\n",
    "def decode_maps(df, column, api_dict):\n",
    "    decoded_list = []\n",
    "    \n",
    "    # Loop through each row\n",
    "    for row in df[column]:\n",
    "        i = 0\n",
    "        \n",
    "        # Creating map_count variable\n",
    "        map_count = len(api_dict)\n",
    "        \n",
    "        # For each item in API dictionary\n",
    "        for item in api_dict:\n",
    "            \n",
    "            # If map cannot be found, name 'Custom Map'\n",
    "            if (i+1) == map_count:\n",
    "                name = 'Custom Map'\n",
    "                decoded_list.append(name)\n",
    "            \n",
    "            # If found, assign value to code\n",
    "            elif item['id'] == row:\n",
    "                name = item['name']\n",
    "                decoded_list.append(name)\n",
    "            \n",
    "            # Otherwise keep looping\n",
    "            else:\n",
    "                i += 1\n",
    "    \n",
    "    # Return decoded list\n",
    "    return decoded_list"
   ]
  },
  {
   "cell_type": "markdown",
   "metadata": {},
   "source": [
    "## GameBaseVariantId\n",
    "\n",
    "Game Base Variant ID represents the broad category of game type in Halo 5 Arena multiplayer.  This includes types that might sound familiar to some - Capture the Flag, Slayer, Oddball, Breakout, etc."
   ]
  },
  {
   "cell_type": "code",
   "execution_count": 27,
   "metadata": {
    "ExecuteTime": {
     "end_time": "2021-07-30T02:49:50.191029Z",
     "start_time": "2021-07-30T02:49:50.182027Z"
    }
   },
   "outputs": [],
   "source": [
    "run = False\n",
    "\n",
    "if run == True:\n",
    "    headers = {\n",
    "        # Request headers\n",
    "        'Accept-Language': 'en',\n",
    "        'Ocp-Apim-Subscription-Key': api_key,\n",
    "    }\n",
    "\n",
    "    params = urllib.parse.urlencode({\n",
    "    })\n",
    "\n",
    "    try:\n",
    "        conn = http.client.HTTPSConnection('www.haloapi.com')\n",
    "        conn.request(\"GET\", \"/metadata/h5/metadata/game-base-variants?%s\" % params, \"{body}\", headers)\n",
    "        response = conn.getresponse()\n",
    "        data = response.read()\n",
    "        GameBaseVariantId_dic = json.loads(data)\n",
    "    #     print(data)\n",
    "        conn.close()\n",
    "    except Exception as e:\n",
    "        print(f\"[Errno {0}] {1}\".format(e.errno, e.strerror))\n",
    "\n",
    "    with open('data/GameBaseVariantId.pkl', 'wb') as GameBaseVariantId_pickle:\n",
    "        pickle.dump(GameBaseVariantId_dic, GameBaseVariantId_pickle)\n",
    "\n",
    "else:\n",
    "    with open('data/GameBaseVariantId.pkl', 'rb') as GameBaseVariantId_pickle:\n",
    "        GameBaseVariantId_dic = pickle.load(GameBaseVariantId_pickle)\n",
    "    \n"
   ]
  },
  {
   "cell_type": "code",
   "execution_count": 28,
   "metadata": {
    "ExecuteTime": {
     "end_time": "2021-07-30T02:49:50.219036Z",
     "start_time": "2021-07-30T02:49:50.192029Z"
    }
   },
   "outputs": [
    {
     "data": {
      "text/plain": [
       "array(['Capture the Flag', 'Slayer', 'Strongholds', 'Oddball',\n",
       "       'Mini-game', 'Big Team Strongholds', 'Infection', 'Breakout',\n",
       "       'Grifball', 'Big Team Slayer', 'Big Team CTF', 'Big Team Assault',\n",
       "       'Assault'], dtype=object)"
      ]
     },
     "execution_count": 28,
     "metadata": {},
     "output_type": "execute_result"
    }
   ],
   "source": [
    "df['GameBaseVariantId'] = decode_column(df, 'GameBaseVariantId', GameBaseVariantId_dic)\n",
    "\n",
    "df['GameBaseVariantId'].unique()"
   ]
  },
  {
   "cell_type": "markdown",
   "metadata": {},
   "source": [
    "## PlaylistID\n",
    "\n",
    "Playlist ID represents the subcategory of a Game Base Variant ID.  For examlpe, by far the most prominent playlist ID for me and my friends will be 'Super Fiesta Party,' where players spawn with random weapons."
   ]
  },
  {
   "cell_type": "code",
   "execution_count": 29,
   "metadata": {
    "ExecuteTime": {
     "end_time": "2021-07-30T02:49:50.749492Z",
     "start_time": "2021-07-30T02:49:50.220036Z"
    }
   },
   "outputs": [],
   "source": [
    "run = True\n",
    "\n",
    "if run == True:\n",
    "\n",
    "    headers = {\n",
    "        # Request headers\n",
    "        'Accept-Language': 'en',\n",
    "        'Ocp-Apim-Subscription-Key': api_key,\n",
    "    }\n",
    "\n",
    "    params = urllib.parse.urlencode({\n",
    "    })\n",
    "\n",
    "    try:\n",
    "        conn = http.client.HTTPSConnection('www.haloapi.com')\n",
    "        conn.request(\"GET\", \"/metadata/h5/metadata/playlists?%s\" % params, \"{body}\", headers)\n",
    "        response = conn.getresponse()\n",
    "        data = response.read()\n",
    "        PlaylistId_dic = json.loads(data)\n",
    "#         print(data)\n",
    "        conn.close()\n",
    "    except Exception as e:\n",
    "        print(f\"[Errno {0}] {1}\".format(e.errno, e.strerror))\n",
    "\n",
    "    with open('data/PlaylistId_dic.pkl', 'wb') as PlaylistId_dic_pickle:\n",
    "        pickle.dump(PlaylistId_dic, PlaylistId_dic_pickle)\n",
    "        \n",
    "else:\n",
    "    with open('data/PlaylistId_dic.pkl', 'rb') as PlaylistId_dic_pickle:\n",
    "        PlaylistId_dic = pickle.load(PlaylistId_dic_pickle)"
   ]
  },
  {
   "cell_type": "code",
   "execution_count": 30,
   "metadata": {
    "ExecuteTime": {
     "end_time": "2021-07-30T02:49:50.805504Z",
     "start_time": "2021-07-30T02:49:50.750492Z"
    }
   },
   "outputs": [
    {
     "data": {
      "text/plain": [
       "array(['Super Fiesta Party', 'Big Team Super Fiesta', 'Core Play',\n",
       "       'Head to Head', 'Big Team Battle', \"Rock 'n' Rail\", 'SWAT',\n",
       "       'Action Sack', 'Free-for-All', 'Elimination', '2v2 Competitive',\n",
       "       'Team Arena', 'Quick Play', 'Community Slayer', 'Roaming King',\n",
       "       'ODST Slayer', 'Slayer ', 'Husky Raid', 'Holiday Fiesta',\n",
       "       'Castle Wars CTF', 'Triple Team', 'Grifball',\n",
       "       'Anniversary Throwback', 'Forerunner Slayer', 'Shotty Snipers',\n",
       "       'Halo 3 Classic Throwback', 'Infection', 'Mythic Arena',\n",
       "       'Team Skirmish', 'HCS 2018', 'Breakout', 'Covenant Slayer',\n",
       "       'Assault'], dtype=object)"
      ]
     },
     "execution_count": 30,
     "metadata": {},
     "output_type": "execute_result"
    }
   ],
   "source": [
    "df['PlaylistId'] = decode_column(df, 'PlaylistId', PlaylistId_dic)\n",
    "\n",
    "df['PlaylistId'].unique()"
   ]
  },
  {
   "cell_type": "code",
   "execution_count": 31,
   "metadata": {
    "ExecuteTime": {
     "end_time": "2021-07-30T02:49:50.813506Z",
     "start_time": "2021-07-30T02:49:50.806506Z"
    }
   },
   "outputs": [
    {
     "data": {
      "text/plain": [
       "Super Fiesta Party          4903\n",
       "Big Team Super Fiesta        339\n",
       "Holiday Fiesta               262\n",
       "Husky Raid                    70\n",
       "Slayer                        62\n",
       "Action Sack                   39\n",
       "Free-for-All                  25\n",
       "Core Play                     23\n",
       "SWAT                          23\n",
       "Grifball                      21\n",
       "Anniversary Throwback         16\n",
       "Roaming King                  14\n",
       "Team Skirmish                 13\n",
       "Big Team Battle               12\n",
       "Elimination                   12\n",
       "Quick Play                    10\n",
       "Team Arena                     9\n",
       "Shotty Snipers                 8\n",
       "Rock 'n' Rail                  7\n",
       "Halo 3 Classic Throwback       5\n",
       "Castle Wars CTF                5\n",
       "Breakout                       5\n",
       "2v2 Competitive                4\n",
       "Triple Team                    4\n",
       "Infection                      3\n",
       "Mythic Arena                   2\n",
       "HCS 2018                       1\n",
       "Head to Head                   1\n",
       "Community Slayer               1\n",
       "Assault                        1\n",
       "Covenant Slayer                1\n",
       "Forerunner Slayer              1\n",
       "ODST Slayer                    1\n",
       "Name: PlaylistId, dtype: int64"
      ]
     },
     "execution_count": 31,
     "metadata": {},
     "output_type": "execute_result"
    }
   ],
   "source": [
    "df['PlaylistId'].value_counts()"
   ]
  },
  {
   "cell_type": "markdown",
   "metadata": {},
   "source": [
    "## MapVariantId\n",
    "\n",
    "There are a couple of different map codes, but for the Super Fiesta playlist, MapVariantId will be the one we'll want to use."
   ]
  },
  {
   "cell_type": "code",
   "execution_count": 32,
   "metadata": {
    "ExecuteTime": {
     "end_time": "2021-07-30T02:49:51.240603Z",
     "start_time": "2021-07-30T02:49:50.814506Z"
    }
   },
   "outputs": [],
   "source": [
    "unique_map_ids = df['MapVariantId'].unique()\n",
    "\n",
    "run = False\n",
    "\n",
    "if run == True:\n",
    "\n",
    "    headers = {\n",
    "        # Request headers\n",
    "        'Accept-Language': 'en',\n",
    "        'Ocp-Apim-Subscription-Key': api_key,\n",
    "    }\n",
    "\n",
    "    params = urllib.parse.urlencode({\n",
    "    })\n",
    "    map_list = []\n",
    "    for map_id in tqdm(unique_map_ids):\n",
    "        try:\n",
    "            conn = http.client.HTTPSConnection('www.haloapi.com')\n",
    "            conn.request(\"GET\", f\"/metadata/h5/metadata/map-variants/{map_id}?%s\" % params, \"{body}\", headers)\n",
    "            response = conn.getresponse()\n",
    "            data = response.read()\n",
    "            map_dic = json.loads(data)\n",
    "            map_list.append(map_dic)\n",
    "    #         print(data)\n",
    "            conn.close()\n",
    "            time.sleep(1.1)\n",
    "        except Exception as e:\n",
    "            print(\"[Errno {0}] {1}\".format(e.errno, e.strerror))\n",
    "\n",
    "    with open('data/map_list.pkl', 'wb') as map_list_pickle:\n",
    "        pickle.dump(map_list, map_list_pickle)\n",
    "\n",
    "else:\n",
    "    with open('data/map_list.pkl', 'rb') as map_list_pickle:\n",
    "        map_list = pickle.load(map_list_pickle)\n",
    "    \n",
    "\n",
    "df['MapVariantId'] = decode_maps(df, 'MapVariantId', map_list)"
   ]
  },
  {
   "cell_type": "code",
   "execution_count": 33,
   "metadata": {
    "ExecuteTime": {
     "end_time": "2021-07-30T02:49:51.246605Z",
     "start_time": "2021-07-30T02:49:51.241603Z"
    }
   },
   "outputs": [
    {
     "data": {
      "text/plain": [
       "array(['Traverse', 'Vestige', 'Russet', 'Hallows', 'Stasis', 'Putput',\n",
       "       'Coliseum', 'Hourglass', 'Furnace', 'Solstace Vista', 'The Rig',\n",
       "       'Harmony', 'Downfall', 'Meta Raid', 'Dominus', 'Eden', 'Meta Wave',\n",
       "       'Raid on the Control Room', 'Reclaimed', 'Plaza', 'Classified ',\n",
       "       'Fever Pitch', 'Swamp Fever', 'Stand Clear', 'Seclusion', 'Mercy',\n",
       "       'Echelon', 'Fathom', 'Moa Fields', 'M808b production',\n",
       "       'Overgrowth', 'Transit', 'Empire', 'Truth', 'Omission', 'Sleipnir',\n",
       "       'Blood and Stone', 'Gutter', 'Crossbow', 'Palmyra', 'Chill Out',\n",
       "       'Containment Breach', 'Junglerock', 'Voyager', 'Guillotine',\n",
       "       'Boulevard', 'Hinterlands', 'Pioneer', 'Dispelled', 'Viking',\n",
       "       'Port Authority', 'Fossil', 'Panic Attack', 'Traffic Jam',\n",
       "       'Scavenger', 'Altar', 'Echoes', 'Meander', 'Fracture', 'Ancestor',\n",
       "       'Eagle Square', 'Game Night', 'Sideswipe', 'Lawnmower Spree',\n",
       "       'Mantis Arena I', 'Ferindale', 'Regret FFA HCS', 'White Cell',\n",
       "       'Night of The Mantis', 'Conduit', 'Pound Town!!!', 'Face To Face',\n",
       "       'PhaseShift', 'pyramoid sandpit', 'Freight', 'Entombed',\n",
       "       'Truth HCS', 'Trident 2.0', 'Highrise', 'Knell', 'Coliseum HCS',\n",
       "       'Fissure HCS', 'Recurve', 'Port 66', 'risen', 'Refuge',\n",
       "       'Regret HCS', 'Pegasus II', 'Regret', 'Torque',\n",
       "       \"Necromancer's Keep\", 'Mausoleum', 'Ecumene Sanctum',\n",
       "       'The Undercity of Sunaion', 'Sidegrinder', 'Prisoner', 'Duck Run',\n",
       "       'Trench 2.0', 'Abyss', 'Molten', 'Construct', 'Citadel', 'Epitaph',\n",
       "       'Foundry', 'Isolation', 'Doubloon', 'Altitude', 'Vengeance',\n",
       "       'Goliath', 'Hive Charity', 'Underpass', 'The Yard', 'Tourist Trap',\n",
       "       'Damnation', 'Battle Creek', \"Hang 'Em High\", 'Rat Race',\n",
       "       'The Rig HCS', 'Pitball', 'Minotaurs', 'Team Sumo ', 'Blok Pit',\n",
       "       'Wizard Duel', 'Crows Court', \"Amnatu's Angels\",\n",
       "       \"The Arbiter's Court\", \"Vadum's Triumph\", 'BLUE vs RED 2003',\n",
       "       'High Charity', 'Sunset Beach', 'Grif Temple', 'Ghoul Town',\n",
       "       'Dreamscape', 'Trident', 'Wash Out', 'Riptide', 'Eden HCS',\n",
       "       'Gambol 2.0', 'Altitude 2.0', 'Tyrant', 'Paintball Junkies',\n",
       "       'Prop Hunt', 'APPARITION', 'Overpass', 'Pegasus', 'Custom Map'],\n",
       "      dtype=object)"
      ]
     },
     "execution_count": 33,
     "metadata": {},
     "output_type": "execute_result"
    }
   ],
   "source": [
    "df['MapVariantId'].unique()"
   ]
  },
  {
   "cell_type": "markdown",
   "metadata": {},
   "source": [
    "## K/D and Accuracy Columns\n",
    "\n",
    "Getting back to feature creation, we'll make K/D and accuracy columns.\n",
    "\n",
    "K/D is a very standard performance metric in first person shooter games.  Simply put, it's the number of players you eliminate in a match divided by the number of times you are eliminated.  K/D comes from \"Kills / Deaths.\"\n",
    "\n",
    "Accuracy would also be nice to analyze, and we can calculate it with total shots landed divided by total shots fired."
   ]
  },
  {
   "cell_type": "code",
   "execution_count": 34,
   "metadata": {
    "ExecuteTime": {
     "end_time": "2021-07-30T02:49:51.265608Z",
     "start_time": "2021-07-30T02:49:51.247604Z"
    }
   },
   "outputs": [
    {
     "data": {
      "text/html": [
       "<div>\n",
       "<style scoped>\n",
       "    .dataframe tbody tr th:only-of-type {\n",
       "        vertical-align: middle;\n",
       "    }\n",
       "\n",
       "    .dataframe tbody tr th {\n",
       "        vertical-align: top;\n",
       "    }\n",
       "\n",
       "    .dataframe thead th {\n",
       "        text-align: right;\n",
       "    }\n",
       "</style>\n",
       "<table border=\"1\" class=\"dataframe\">\n",
       "  <thead>\n",
       "    <tr style=\"text-align: right;\">\n",
       "      <th></th>\n",
       "      <th>K/D</th>\n",
       "      <th>Accuracy</th>\n",
       "    </tr>\n",
       "  </thead>\n",
       "  <tbody>\n",
       "    <tr>\n",
       "      <th>0</th>\n",
       "      <td>1.222222</td>\n",
       "      <td>0.285714</td>\n",
       "    </tr>\n",
       "    <tr>\n",
       "      <th>1</th>\n",
       "      <td>1.166667</td>\n",
       "      <td>0.335907</td>\n",
       "    </tr>\n",
       "    <tr>\n",
       "      <th>2</th>\n",
       "      <td>0.833333</td>\n",
       "      <td>0.239796</td>\n",
       "    </tr>\n",
       "    <tr>\n",
       "      <th>3</th>\n",
       "      <td>1.187500</td>\n",
       "      <td>0.348668</td>\n",
       "    </tr>\n",
       "    <tr>\n",
       "      <th>4</th>\n",
       "      <td>0.200000</td>\n",
       "      <td>0.434211</td>\n",
       "    </tr>\n",
       "    <tr>\n",
       "      <th>...</th>\n",
       "      <td>...</td>\n",
       "      <td>...</td>\n",
       "    </tr>\n",
       "    <tr>\n",
       "      <th>5898</th>\n",
       "      <td>0.272727</td>\n",
       "      <td>0.122530</td>\n",
       "    </tr>\n",
       "    <tr>\n",
       "      <th>5899</th>\n",
       "      <td>0.125000</td>\n",
       "      <td>0.243243</td>\n",
       "    </tr>\n",
       "    <tr>\n",
       "      <th>5900</th>\n",
       "      <td>0.384615</td>\n",
       "      <td>0.326316</td>\n",
       "    </tr>\n",
       "    <tr>\n",
       "      <th>5901</th>\n",
       "      <td>0.294118</td>\n",
       "      <td>0.228365</td>\n",
       "    </tr>\n",
       "    <tr>\n",
       "      <th>5902</th>\n",
       "      <td>0.375000</td>\n",
       "      <td>0.212766</td>\n",
       "    </tr>\n",
       "  </tbody>\n",
       "</table>\n",
       "<p>5903 rows × 2 columns</p>\n",
       "</div>"
      ],
      "text/plain": [
       "           K/D  Accuracy\n",
       "0     1.222222  0.285714\n",
       "1     1.166667  0.335907\n",
       "2     0.833333  0.239796\n",
       "3     1.187500  0.348668\n",
       "4     0.200000  0.434211\n",
       "...        ...       ...\n",
       "5898  0.272727  0.122530\n",
       "5899  0.125000  0.243243\n",
       "5900  0.384615  0.326316\n",
       "5901  0.294118  0.228365\n",
       "5902  0.375000  0.212766\n",
       "\n",
       "[5903 rows x 2 columns]"
      ]
     },
     "execution_count": 34,
     "metadata": {},
     "output_type": "execute_result"
    }
   ],
   "source": [
    "# Creating columns that are useful in understanding player skill\n",
    "df['K/D'] = df['TotalKills'] / df['TotalDeaths']\n",
    "df['Accuracy'] = df['TotalShotsLanded'] / df['TotalShotsFired']\n",
    "\n",
    "df[['K/D', 'Accuracy']]"
   ]
  },
  {
   "cell_type": "code",
   "execution_count": 35,
   "metadata": {
    "ExecuteTime": {
     "end_time": "2021-07-30T02:49:51.284613Z",
     "start_time": "2021-07-30T02:49:51.266608Z"
    }
   },
   "outputs": [
    {
     "data": {
      "text/html": [
       "<div>\n",
       "<style scoped>\n",
       "    .dataframe tbody tr th:only-of-type {\n",
       "        vertical-align: middle;\n",
       "    }\n",
       "\n",
       "    .dataframe tbody tr th {\n",
       "        vertical-align: top;\n",
       "    }\n",
       "\n",
       "    .dataframe thead th {\n",
       "        text-align: right;\n",
       "    }\n",
       "</style>\n",
       "<table border=\"1\" class=\"dataframe\">\n",
       "  <thead>\n",
       "    <tr style=\"text-align: right;\">\n",
       "      <th></th>\n",
       "      <th>Date</th>\n",
       "      <th>DNF</th>\n",
       "      <th>GameBaseVariantId</th>\n",
       "      <th>PlaylistId</th>\n",
       "      <th>MapVariantId</th>\n",
       "      <th>WinLoseTie</th>\n",
       "      <th>TotalKills</th>\n",
       "      <th>TotalDeaths</th>\n",
       "      <th>K/D</th>\n",
       "      <th>Accuracy</th>\n",
       "      <th>TotalHeadshots</th>\n",
       "      <th>TotalWeaponDamage</th>\n",
       "      <th>TotalGrenadeKills</th>\n",
       "      <th>TotalGrenadeDamage</th>\n",
       "      <th>AvgLifeTimeOfPlayer</th>\n",
       "      <th>TotalTimePlayed</th>\n",
       "      <th>TotalDuration</th>\n",
       "      <th>MatchId</th>\n",
       "    </tr>\n",
       "  </thead>\n",
       "  <tbody>\n",
       "    <tr>\n",
       "      <th>0</th>\n",
       "      <td>2021-07-01 00:55:13.880000+00:00</td>\n",
       "      <td>False</td>\n",
       "      <td>Capture the Flag</td>\n",
       "      <td>Super Fiesta Party</td>\n",
       "      <td>Traverse</td>\n",
       "      <td>Victory</td>\n",
       "      <td>11</td>\n",
       "      <td>9</td>\n",
       "      <td>1.222222</td>\n",
       "      <td>0.285714</td>\n",
       "      <td>1</td>\n",
       "      <td>1333.918901</td>\n",
       "      <td>0</td>\n",
       "      <td>90.000000</td>\n",
       "      <td>19.010178</td>\n",
       "      <td>4.841203</td>\n",
       "      <td>8.805375</td>\n",
       "      <td>10010481-1be2-462b-9774-eac5ee152045</td>\n",
       "    </tr>\n",
       "    <tr>\n",
       "      <th>1</th>\n",
       "      <td>2021-07-01 00:49:29.519000+00:00</td>\n",
       "      <td>False</td>\n",
       "      <td>Slayer</td>\n",
       "      <td>Super Fiesta Party</td>\n",
       "      <td>Vestige</td>\n",
       "      <td>Victory</td>\n",
       "      <td>14</td>\n",
       "      <td>12</td>\n",
       "      <td>1.166667</td>\n",
       "      <td>0.335907</td>\n",
       "      <td>0</td>\n",
       "      <td>1824.901194</td>\n",
       "      <td>0</td>\n",
       "      <td>50.744907</td>\n",
       "      <td>27.334877</td>\n",
       "      <td>7.464131</td>\n",
       "      <td>7.464181</td>\n",
       "      <td>d8964123-992f-4dd9-8555-40b76a98d4e1</td>\n",
       "    </tr>\n",
       "  </tbody>\n",
       "</table>\n",
       "</div>"
      ],
      "text/plain": [
       "                              Date    DNF GameBaseVariantId  \\\n",
       "0 2021-07-01 00:55:13.880000+00:00  False  Capture the Flag   \n",
       "1 2021-07-01 00:49:29.519000+00:00  False            Slayer   \n",
       "\n",
       "           PlaylistId MapVariantId WinLoseTie  TotalKills  TotalDeaths  \\\n",
       "0  Super Fiesta Party     Traverse    Victory          11            9   \n",
       "1  Super Fiesta Party      Vestige    Victory          14           12   \n",
       "\n",
       "        K/D  Accuracy  TotalHeadshots  TotalWeaponDamage  TotalGrenadeKills  \\\n",
       "0  1.222222  0.285714               1        1333.918901                  0   \n",
       "1  1.166667  0.335907               0        1824.901194                  0   \n",
       "\n",
       "   TotalGrenadeDamage  AvgLifeTimeOfPlayer  TotalTimePlayed  TotalDuration  \\\n",
       "0           90.000000            19.010178         4.841203       8.805375   \n",
       "1           50.744907            27.334877         7.464131       7.464181   \n",
       "\n",
       "                                MatchId  \n",
       "0  10010481-1be2-462b-9774-eac5ee152045  \n",
       "1  d8964123-992f-4dd9-8555-40b76a98d4e1  "
      ]
     },
     "execution_count": 35,
     "metadata": {},
     "output_type": "execute_result"
    }
   ],
   "source": [
    "# Organizing columns in an order that makes sense\n",
    "df_columns = ['Date',\n",
    "            'DNF',\n",
    "            'GameBaseVariantId',\n",
    "            'PlaylistId',\n",
    "            'MapVariantId',\n",
    "            'WinLoseTie',\n",
    "            'TotalKills',\n",
    "            'TotalDeaths',\n",
    "            'K/D',\n",
    "            'Accuracy',\n",
    "            'TotalHeadshots',\n",
    "            'TotalWeaponDamage',\n",
    "            'TotalGrenadeKills',\n",
    "            'TotalGrenadeDamage',\n",
    "            'AvgLifeTimeOfPlayer',\n",
    "            'TotalTimePlayed',\n",
    "            'TotalDuration',\n",
    "            'MatchId',\n",
    "             ]\n",
    "\n",
    "df = df[df_columns]\n",
    "\n",
    "df.head(2)"
   ]
  },
  {
   "cell_type": "markdown",
   "metadata": {},
   "source": [
    "## Removing Unnecessary Rows\n",
    "\n",
    "A handy piece of data they provide is a \"DNF\" metric, wich stands for \"Did Not Finish.\"  For analysis, I won't want to include any games where I did not finish, so we'll remove those.  "
   ]
  },
  {
   "cell_type": "code",
   "execution_count": 36,
   "metadata": {
    "ExecuteTime": {
     "end_time": "2021-07-30T02:49:51.299616Z",
     "start_time": "2021-07-30T02:49:51.285612Z"
    }
   },
   "outputs": [
    {
     "data": {
      "text/plain": [
       "False    5732\n",
       "Name: DNF, dtype: int64"
      ]
     },
     "execution_count": 36,
     "metadata": {},
     "output_type": "execute_result"
    }
   ],
   "source": [
    "# Removing rows where 'DNF' is true (or where player 'Did Not Finish' the match)\n",
    "\n",
    "df = df.loc[df['DNF'] == False]\n",
    "\n",
    "df['DNF'].value_counts()"
   ]
  },
  {
   "cell_type": "markdown",
   "metadata": {},
   "source": [
    "# Visualizations\n",
    "\n",
    "Okay!  Now that we have every match in our history and all the relevant match details compiled nicely into one dataframe, it's time to make some visualizations that will hopefully be interesting to players other than just myself."
   ]
  },
  {
   "cell_type": "markdown",
   "metadata": {},
   "source": [
    "## Win / Loss / Tie by Month\n",
    "\n",
    "In general, my friends and I wanted to get a better understanding of how we had improving over time.  A good way to visualize this might be to show the breakdwon of wins, losses, and ties over the various months we had played."
   ]
  },
  {
   "cell_type": "code",
   "execution_count": 37,
   "metadata": {
    "ExecuteTime": {
     "end_time": "2021-07-30T02:49:51.308617Z",
     "start_time": "2021-07-30T02:49:51.300616Z"
    }
   },
   "outputs": [],
   "source": [
    "# Setting a copy of df which will be easy to revert to without rerunning all code above\n",
    "df_predate = df.copy()"
   ]
  },
  {
   "cell_type": "code",
   "execution_count": 38,
   "metadata": {
    "ExecuteTime": {
     "end_time": "2021-07-30T02:49:52.108799Z",
     "start_time": "2021-07-30T02:49:51.309617Z"
    }
   },
   "outputs": [
    {
     "data": {
      "image/png": "[encoded data removed]",
      "text/plain": [
       "<Figure size 1152x648 with 1 Axes>"
      ]
     },
     "metadata": {},
     "output_type": "display_data"
    }
   ],
   "source": [
    "# Loading from copy\n",
    "df = df_predate.copy()\n",
    "\n",
    "# Setting seaborn styles\n",
    "sns.set(rc={'axes.facecolor':'white'})\n",
    "sns.set_style(\"darkgrid\")\n",
    "sns.set_context('poster')\n",
    "\n",
    "# Creating 'Month' column\n",
    "df['Month'] = pd.to_datetime(df['Date']).dt.to_period('M')\n",
    "df['Month'] = df['Month'].dt.strftime('%B, %Y')\n",
    "\n",
    "# Setting time frame of data to visualize\n",
    "df = df[(df['Date'] > '2020-05-01')]\n",
    "\n",
    "# Instantiating graph and countplot\n",
    "f, ax = plt.subplots(figsize=(16, 9))\n",
    "ax = sns.countplot(x=\"Month\", \n",
    "                   data=df.sort_values(by=['Date'], ascending=True), \n",
    "                   hue='WinLoseTie',\n",
    "                   hue_order=['Victory','Defeat','Tie'])\n",
    "\n",
    "# Setting xtick labels, axis titles, plot titles, and legend order\n",
    "ax.set_xticklabels(ax.get_xticklabels(),rotation=45, horizontalalignment='right');\n",
    "ax.set_title('Wins, Losses, and Ties by Month', fontsize=30)\n",
    "ax.set(ylabel='Count')\n",
    "plt.legend(labels=['Victory', 'Defeat', 'Tie'])\n",
    "plt.tight_layout()\n",
    "plt.savefig('images/win_lose_tie_by_month.png')\n",
    "\n",
    "# Reverting back to original df for convenience with the next visualization\n",
    "df = df_predate.copy()"
   ]
  },
  {
   "cell_type": "markdown",
   "metadata": {},
   "source": [
    "We first started playing in May of 2020, and it's pretty clear that I personally did more losing than winning.  Less matches were played in June, but but was improving almost to the point where I was even between wins and losses.  July showed a noticeable bump in matches played, and I finally started winning just a bit more than I was losing.\n",
    "\n",
    "August was the month where people started to get the false assumption that perhaps it was safe to start associating in person again.  By September, we realized that wasn't the case and you can see my matches played jump right back up.\n",
    "\n",
    "March is the month I decided to try remapping the buttons on my controller with paddles to allow me to constantly aim while being able to perform the rest of the functions required to play the game.  Judging by the improved win / loss ratio, I would say that not only did the button remapping help me win more, but winning more led to playing more.  "
   ]
  },
  {
   "cell_type": "markdown",
   "metadata": {
    "ExecuteTime": {
     "end_time": "2021-07-21T01:06:51.476014Z",
     "start_time": "2021-07-21T01:06:51.443015Z"
    }
   },
   "source": [
    "## Win Rate by Map\n",
    "\n",
    "Another thing that I definitely wanted to know was how well I did on certain maps, specifically in the \"Husky Raid\" game mode, which is Capture the Flag in the Super Fiesta Party playlist.  Let's see if we can finally answer that question."
   ]
  },
  {
   "cell_type": "code",
   "execution_count": 39,
   "metadata": {
    "ExecuteTime": {
     "end_time": "2021-07-30T02:49:52.115801Z",
     "start_time": "2021-07-30T02:49:52.109799Z"
    }
   },
   "outputs": [],
   "source": [
    "# Creating new columns which will be used for counting wins and losses\n",
    "df['Win'] = df['WinLoseTie'].map({'Victory':1})\n",
    "df['Lose'] = df['WinLoseTie'].map({'Defeat':1})"
   ]
  },
  {
   "cell_type": "code",
   "execution_count": 40,
   "metadata": {
    "ExecuteTime": {
     "end_time": "2021-07-30T02:49:52.129804Z",
     "start_time": "2021-07-30T02:49:52.116801Z"
    }
   },
   "outputs": [],
   "source": [
    "# Function to choose gametype\n",
    "def choose_gametype(df, GameBaseVariantId, PlaylistId):\n",
    "    \n",
    "    # If none selected, return df\n",
    "    # This will be useful for the next function\n",
    "    if GameBaseVariantId == None and PlaylistId == None:\n",
    "        gametype_df = df\n",
    "    \n",
    "    # Option to set GameBaseVariantId to None\n",
    "    elif GameBaseVariantId == None:\n",
    "        gametype_df = df[df['PlaylistId'] == PlaylistId]\n",
    "    \n",
    "    # Option to set PlaylistId to None\n",
    "    elif PlaylistId == None:\n",
    "        gametype_df = df[df['GameBaseVariantId'] == GameBaseVariantId]\n",
    "    \n",
    "    # Set dataframe to specified GameBaseVariantId and PlaylistId\n",
    "    else:\n",
    "        gametype_df = df[(df['GameBaseVariantId'] == GameBaseVariantId) & (df['PlaylistId'] == PlaylistId)]\n",
    "    \n",
    "    # Return dataframe\n",
    "    return gametype_df\n",
    "\n",
    "# Creating new dataframes for husky raid and slayer\n",
    "husky_df = choose_gametype(df, 'Capture the Flag', 'Super Fiesta Party')\n",
    "slayer_df = choose_gametype(df, 'Slayer', 'Super Fiesta Party')"
   ]
  },
  {
   "cell_type": "code",
   "execution_count": 41,
   "metadata": {
    "ExecuteTime": {
     "end_time": "2021-07-30T02:49:52.157810Z",
     "start_time": "2021-07-30T02:49:52.130804Z"
    }
   },
   "outputs": [
    {
     "data": {
      "text/html": [
       "<div>\n",
       "<style scoped>\n",
       "    .dataframe tbody tr th:only-of-type {\n",
       "        vertical-align: middle;\n",
       "    }\n",
       "\n",
       "    .dataframe tbody tr th {\n",
       "        vertical-align: top;\n",
       "    }\n",
       "\n",
       "    .dataframe thead th {\n",
       "        text-align: right;\n",
       "    }\n",
       "</style>\n",
       "<table border=\"1\" class=\"dataframe\">\n",
       "  <thead>\n",
       "    <tr style=\"text-align: right;\">\n",
       "      <th></th>\n",
       "      <th>MapVariantId</th>\n",
       "      <th>DNF</th>\n",
       "      <th>TotalKills</th>\n",
       "      <th>TotalDeaths</th>\n",
       "      <th>K/D</th>\n",
       "      <th>Accuracy</th>\n",
       "      <th>TotalHeadshots</th>\n",
       "      <th>TotalWeaponDamage</th>\n",
       "      <th>TotalGrenadeKills</th>\n",
       "      <th>TotalGrenadeDamage</th>\n",
       "      <th>AvgLifeTimeOfPlayer</th>\n",
       "      <th>TotalTimePlayed</th>\n",
       "      <th>TotalDuration</th>\n",
       "      <th>Win</th>\n",
       "      <th>Lose</th>\n",
       "      <th>WinRate</th>\n",
       "    </tr>\n",
       "  </thead>\n",
       "  <tbody>\n",
       "    <tr>\n",
       "      <th>0</th>\n",
       "      <td>Blood and Stone</td>\n",
       "      <td>0</td>\n",
       "      <td>1964</td>\n",
       "      <td>2602</td>\n",
       "      <td>157.997519</td>\n",
       "      <td>75.339873</td>\n",
       "      <td>136</td>\n",
       "      <td>252318.403049</td>\n",
       "      <td>43</td>\n",
       "      <td>11589.676155</td>\n",
       "      <td>2531.67524</td>\n",
       "      <td>866.854687</td>\n",
       "      <td>868.907452</td>\n",
       "      <td>110.0</td>\n",
       "      <td>71.0</td>\n",
       "      <td>1.549296</td>\n",
       "    </tr>\n",
       "    <tr>\n",
       "      <th>1</th>\n",
       "      <td>Classified</td>\n",
       "      <td>0</td>\n",
       "      <td>1861</td>\n",
       "      <td>1756</td>\n",
       "      <td>103.897660</td>\n",
       "      <td>40.778846</td>\n",
       "      <td>71</td>\n",
       "      <td>235956.888552</td>\n",
       "      <td>32</td>\n",
       "      <td>8005.991636</td>\n",
       "      <td>1460.22443</td>\n",
       "      <td>659.792479</td>\n",
       "      <td>659.825388</td>\n",
       "      <td>40.0</td>\n",
       "      <td>28.0</td>\n",
       "      <td>1.428571</td>\n",
       "    </tr>\n",
       "    <tr>\n",
       "      <th>3</th>\n",
       "      <td>Containment Breach</td>\n",
       "      <td>0</td>\n",
       "      <td>1213</td>\n",
       "      <td>1468</td>\n",
       "      <td>76.050042</td>\n",
       "      <td>35.318265</td>\n",
       "      <td>59</td>\n",
       "      <td>151842.806095</td>\n",
       "      <td>18</td>\n",
       "      <td>6353.467373</td>\n",
       "      <td>1459.76296</td>\n",
       "      <td>575.038938</td>\n",
       "      <td>575.070256</td>\n",
       "      <td>43.0</td>\n",
       "      <td>35.0</td>\n",
       "      <td>1.228571</td>\n",
       "    </tr>\n",
       "  </tbody>\n",
       "</table>\n",
       "</div>"
      ],
      "text/plain": [
       "         MapVariantId  DNF  TotalKills  TotalDeaths         K/D   Accuracy  \\\n",
       "0     Blood and Stone    0        1964         2602  157.997519  75.339873   \n",
       "1         Classified     0        1861         1756  103.897660  40.778846   \n",
       "3  Containment Breach    0        1213         1468   76.050042  35.318265   \n",
       "\n",
       "   TotalHeadshots  TotalWeaponDamage  TotalGrenadeKills  TotalGrenadeDamage  \\\n",
       "0             136      252318.403049                 43        11589.676155   \n",
       "1              71      235956.888552                 32         8005.991636   \n",
       "3              59      151842.806095                 18         6353.467373   \n",
       "\n",
       "   AvgLifeTimeOfPlayer  TotalTimePlayed  TotalDuration    Win  Lose   WinRate  \n",
       "0           2531.67524       866.854687     868.907452  110.0  71.0  1.549296  \n",
       "1           1460.22443       659.792479     659.825388   40.0  28.0  1.428571  \n",
       "3           1459.76296       575.038938     575.070256   43.0  35.0  1.228571  "
      ]
     },
     "execution_count": 41,
     "metadata": {},
     "output_type": "execute_result"
    }
   ],
   "source": [
    "# Creating dataframe grouped by WinRate and sum\n",
    "husky_gb_sum = husky_df.groupby( [\"MapVariantId\"] ).sum()\n",
    "husky_gb_sum.reset_index(level=0, inplace=True)\n",
    "husky_gb_sum['WinRate'] = husky_gb_sum['Win'] / husky_gb_sum['Lose']\n",
    "husky_gb_sum = husky_gb_sum[~husky_gb_sum.isin([np.nan, np.inf, -np.inf]).any(1)]\n",
    "\n",
    "husky_gb_sum.head(3)"
   ]
  },
  {
   "cell_type": "code",
   "execution_count": 42,
   "metadata": {
    "ExecuteTime": {
     "end_time": "2021-07-30T02:49:52.180816Z",
     "start_time": "2021-07-30T02:49:52.158810Z"
    }
   },
   "outputs": [
    {
     "data": {
      "text/html": [
       "<div>\n",
       "<style scoped>\n",
       "    .dataframe tbody tr th:only-of-type {\n",
       "        vertical-align: middle;\n",
       "    }\n",
       "\n",
       "    .dataframe tbody tr th {\n",
       "        vertical-align: top;\n",
       "    }\n",
       "\n",
       "    .dataframe thead th {\n",
       "        text-align: right;\n",
       "    }\n",
       "</style>\n",
       "<table border=\"1\" class=\"dataframe\">\n",
       "  <thead>\n",
       "    <tr style=\"text-align: right;\">\n",
       "      <th></th>\n",
       "      <th>MapVariantId</th>\n",
       "      <th>DNF</th>\n",
       "      <th>TotalKills</th>\n",
       "      <th>TotalDeaths</th>\n",
       "      <th>K/D</th>\n",
       "      <th>Accuracy</th>\n",
       "      <th>TotalHeadshots</th>\n",
       "      <th>TotalWeaponDamage</th>\n",
       "      <th>TotalGrenadeKills</th>\n",
       "      <th>TotalGrenadeDamage</th>\n",
       "      <th>AvgLifeTimeOfPlayer</th>\n",
       "      <th>TotalTimePlayed</th>\n",
       "      <th>TotalDuration</th>\n",
       "      <th>Win</th>\n",
       "      <th>Lose</th>\n",
       "      <th>WinRate</th>\n",
       "    </tr>\n",
       "  </thead>\n",
       "  <tbody>\n",
       "    <tr>\n",
       "      <th>0</th>\n",
       "      <td>Blood and Stone</td>\n",
       "      <td>False</td>\n",
       "      <td>10.791209</td>\n",
       "      <td>14.296703</td>\n",
       "      <td>0.868118</td>\n",
       "      <td>0.413955</td>\n",
       "      <td>0.747253</td>\n",
       "      <td>1386.364852</td>\n",
       "      <td>0.236264</td>\n",
       "      <td>63.679539</td>\n",
       "      <td>13.910304</td>\n",
       "      <td>4.762938</td>\n",
       "      <td>4.774217</td>\n",
       "      <td>1.0</td>\n",
       "      <td>1.0</td>\n",
       "      <td>1.0</td>\n",
       "    </tr>\n",
       "    <tr>\n",
       "      <th>1</th>\n",
       "      <td>Classified</td>\n",
       "      <td>False</td>\n",
       "      <td>20.450549</td>\n",
       "      <td>19.296703</td>\n",
       "      <td>1.141733</td>\n",
       "      <td>0.448119</td>\n",
       "      <td>0.780220</td>\n",
       "      <td>2592.932841</td>\n",
       "      <td>0.351648</td>\n",
       "      <td>87.977930</td>\n",
       "      <td>16.046422</td>\n",
       "      <td>7.250467</td>\n",
       "      <td>7.250828</td>\n",
       "      <td>1.0</td>\n",
       "      <td>1.0</td>\n",
       "      <td>1.0</td>\n",
       "    </tr>\n",
       "    <tr>\n",
       "      <th>3</th>\n",
       "      <td>Containment Breach</td>\n",
       "      <td>False</td>\n",
       "      <td>13.942529</td>\n",
       "      <td>16.873563</td>\n",
       "      <td>0.874138</td>\n",
       "      <td>0.405957</td>\n",
       "      <td>0.678161</td>\n",
       "      <td>1745.319610</td>\n",
       "      <td>0.206897</td>\n",
       "      <td>73.028361</td>\n",
       "      <td>16.778885</td>\n",
       "      <td>6.609643</td>\n",
       "      <td>6.610003</td>\n",
       "      <td>1.0</td>\n",
       "      <td>1.0</td>\n",
       "      <td>1.0</td>\n",
       "    </tr>\n",
       "  </tbody>\n",
       "</table>\n",
       "</div>"
      ],
      "text/plain": [
       "         MapVariantId    DNF  TotalKills  TotalDeaths       K/D  Accuracy  \\\n",
       "0     Blood and Stone  False   10.791209    14.296703  0.868118  0.413955   \n",
       "1         Classified   False   20.450549    19.296703  1.141733  0.448119   \n",
       "3  Containment Breach  False   13.942529    16.873563  0.874138  0.405957   \n",
       "\n",
       "   TotalHeadshots  TotalWeaponDamage  TotalGrenadeKills  TotalGrenadeDamage  \\\n",
       "0        0.747253        1386.364852           0.236264           63.679539   \n",
       "1        0.780220        2592.932841           0.351648           87.977930   \n",
       "3        0.678161        1745.319610           0.206897           73.028361   \n",
       "\n",
       "   AvgLifeTimeOfPlayer  TotalTimePlayed  TotalDuration  Win  Lose  WinRate  \n",
       "0            13.910304         4.762938       4.774217  1.0   1.0      1.0  \n",
       "1            16.046422         7.250467       7.250828  1.0   1.0      1.0  \n",
       "3            16.778885         6.609643       6.610003  1.0   1.0      1.0  "
      ]
     },
     "execution_count": 42,
     "metadata": {},
     "output_type": "execute_result"
    }
   ],
   "source": [
    "# Creating dataframe grouped by WinRate and mean\n",
    "husky_gb_mean = husky_df.groupby( [\"MapVariantId\"] ).mean()\n",
    "husky_gb_mean.reset_index(level=0, inplace=True)\n",
    "husky_gb_mean['WinRate'] = husky_gb_mean['Win'] / husky_gb_mean['Lose']\n",
    "husky_gb_mean = husky_gb_mean[~husky_gb_mean.isin([np.nan, np.inf, -np.inf]).any(1)]\n",
    "\n",
    "husky_gb_mean.head(3)"
   ]
  },
  {
   "cell_type": "code",
   "execution_count": 43,
   "metadata": {
    "ExecuteTime": {
     "end_time": "2021-07-30T02:49:52.698933Z",
     "start_time": "2021-07-30T02:49:52.181816Z"
    }
   },
   "outputs": [
    {
     "data": {
      "image/png": "[encoded data removed]",
      "text/plain": [
       "<Figure size 1152x648 with 1 Axes>"
      ]
     },
     "metadata": {},
     "output_type": "display_data"
    }
   ],
   "source": [
    "# Function to show column stat broken out by map\n",
    "def map_plot(df, column, title, x_range=False, file_name=False):\n",
    "    \n",
    "    # Initiate seaborn barplot that will sort in descending order from best to worst\n",
    "    # stat on each map\n",
    "    f, ax = plt.subplots(figsize=(16, 9))\n",
    "    ax = sns.barplot(x=column, y='MapVariantId', data=df, \n",
    "                order=df.sort_values(column, ascending=False).MapVariantId, \n",
    "                palette=('coolwarm'))\n",
    "    ax.set_title(title, fontsize=30)\n",
    "    \n",
    "    # Option to set x axis range within function parameters\n",
    "    if x_range == False:\n",
    "        pass\n",
    "    else:\n",
    "        ax.set_xlim(x_range[0],x_range[1])\n",
    "    plt.tight_layout()\n",
    "    if file_name == False:\n",
    "        plt.savefig('images/win_by_map.png')\n",
    "    else:\n",
    "        plt.savefig(f'images/{file_name}.png')\n",
    "\n",
    "# Plot win rate by map\n",
    "map_plot(husky_gb_sum, 'WinRate', 'Win Rate by Map', file_name='winrate_by_map')"
   ]
  },
  {
   "cell_type": "markdown",
   "metadata": {},
   "source": [
    "Not surprisingly, my favorite maps happen to be the ones where my win rate is highest, and my least favorite maps are the ones where my win rate is the lowest."
   ]
  },
  {
   "cell_type": "code",
   "execution_count": 44,
   "metadata": {
    "ExecuteTime": {
     "end_time": "2021-07-30T02:49:53.218050Z",
     "start_time": "2021-07-30T02:49:52.699933Z"
    }
   },
   "outputs": [
    {
     "data": {
      "image/png": "[encoded data removed]",
      "text/plain": [
       "<Figure size 1152x648 with 1 Axes>"
      ]
     },
     "metadata": {},
     "output_type": "display_data"
    }
   ],
   "source": [
    "# Plot K/D per map with a range of 0.7-1.2\n",
    "map_plot(husky_gb_mean, 'K/D', 'K/D by Map', x_range=[0.7,1.2])"
   ]
  },
  {
   "cell_type": "markdown",
   "metadata": {},
   "source": [
    "Juxtaposing win rate vs. K/D on different maps presents some interesting revelations.\n",
    "\n",
    "If you look closely, you'll see that my highest win rate is on a map called **Sleipnir**.  However, **Sleipnir** happens to be on of my lowest K/D maps, meaning I die a lot more often than I eliminate an enemy player.  This might reveal how strategy is more important than just elminating your oponents in games of capture the flag.  "
   ]
  },
  {
   "cell_type": "markdown",
   "metadata": {},
   "source": [
    "## K/D Date\n",
    "\n",
    "Finally, I wanted to figure out if I could somehow tell whether or not I had been improving over the course of time.  For this, we'll be using Pandas Groupby function to determine rolling averages, which will help us better understand the trends of my play history."
   ]
  },
  {
   "cell_type": "code",
   "execution_count": 45,
   "metadata": {
    "ExecuteTime": {
     "end_time": "2021-07-30T02:49:53.223051Z",
     "start_time": "2021-07-30T02:49:53.219050Z"
    }
   },
   "outputs": [],
   "source": [
    "# Setting a copy of df which will be easy to revert to without rerunning all code above\n",
    "df_kd = df.copy()"
   ]
  },
  {
   "cell_type": "code",
   "execution_count": 46,
   "metadata": {
    "ExecuteTime": {
     "end_time": "2021-07-30T02:49:54.088247Z",
     "start_time": "2021-07-30T02:49:53.224051Z"
    }
   },
   "outputs": [
    {
     "data": {
      "text/plain": [
       "<AxesSubplot:title={'center':'K/D Over Time - Trailing 12 Months'}, xlabel='Date', ylabel='Count of Kills / Deaths'>"
      ]
     },
     "execution_count": 46,
     "metadata": {},
     "output_type": "execute_result"
    },
    {
     "data": {
      "image/png": "[encoded data removed]",
      "text/plain": [
       "<Figure size 1152x648 with 1 Axes>"
      ]
     },
     "metadata": {},
     "output_type": "display_data"
    }
   ],
   "source": [
    "# Reloading dataframe from copy\n",
    "df = df_kd.copy()\n",
    "\n",
    "# Function to create line plot for any given column stat in the 'slayer' playlist\n",
    "# using rolling days smoothing\n",
    "def stat_lineplot(df, column_list, title, rolling_days=30, \n",
    "                  start_date='2020-07-01', end_date='2021-06-30',\n",
    "                  file_name=False):\n",
    "    \n",
    "    # Choosing 'slayer' gametype\n",
    "    df = choose_gametype(df, 'Slayer', None)\n",
    "    \n",
    "    # Creating 'Day' column\n",
    "    df['Day'] = df['Date'].dt.date\n",
    "    df['Day'] = df['Day'].apply(pd.to_datetime)\n",
    "    \n",
    "    # Creating groupby dataframe using 'Day' column and implementing rolling days\n",
    "    # averaging\n",
    "    df_gb_mean = df.groupby(['Day']).mean()\n",
    "    df_gb_mean = df_gb_mean.loc[~(df_gb_mean==0).all(axis=1)]\n",
    "    _grouped = df_gb_mean[column_list].rolling(f'{rolling_days}D').mean()\n",
    "    df_gb_mean = pd.DataFrame(_grouped)\n",
    "    \n",
    "    # Isolating time frame\n",
    "    df_gb_mean = df_gb_mean[((df_gb_mean.index > start_date) & (df_gb_mean.index < end_date))]\n",
    "    \n",
    "    # Creating line plot\n",
    "    f, ax = plt.subplots(figsize=(16, 9))\n",
    "    ax = sns.lineplot(data=df_gb_mean, linewidth = 3)\n",
    "    plt.xlabel('Date')\n",
    "    ax.set(ylabel='Count of Kills / Deaths')\n",
    "    ax.set_title(title, fontsize=30)\n",
    "    if file_name == False:\n",
    "        plt.savefig('images/kd_over_time.png')\n",
    "    else:\n",
    "        plt.savefig(f'images/{file_name}.png')\n",
    "    return ax;\n",
    "    \n",
    "column_list = ['TotalKills', 'TotalDeaths']\n",
    "stat_lineplot(df, column_list, 'K/D Over Time - Trailing 12 Months', \n",
    "              start_date='2020-07-05', rolling_days=365,\n",
    "             file_name='kd_over_time_trailing_12')"
   ]
  },
  {
   "cell_type": "markdown",
   "metadata": {},
   "source": [
    "Here we see my Total Kills plotted against my Total Deaths for every game of Slayer I have played.  \n",
    "\n",
    "What's interesting is that something must have clicked around March of 2021.  If you remember back to the graph of my wins / losses / ties over time, this might shed more light onto why there were so many games played that month, perhaps I finally felt like I was actually decent at the game.  \n",
    "\n",
    "What's also interesting is that while the total kills and total deaths gap is gradually widening after March 2021, they are both on a downward trend.  If I had to explain this, I would say that I might have come to the realization that approaching every encounter without tact and consideration puts me at a disadvantage.  In other words, I became a lot more careful and less aggressive."
   ]
  },
  {
   "cell_type": "code",
   "execution_count": 47,
   "metadata": {
    "ExecuteTime": {
     "end_time": "2021-07-30T02:49:54.885427Z",
     "start_time": "2021-07-30T02:49:54.089247Z"
    },
    "scrolled": false
   },
   "outputs": [
    {
     "data": {
      "text/plain": [
       "<AxesSubplot:title={'center':'K/D Over Time - 2021'}, xlabel='Date', ylabel='Count of Kills / Deaths'>"
      ]
     },
     "execution_count": 47,
     "metadata": {},
     "output_type": "execute_result"
    },
    {
     "data": {
      "image/png": "[encoded data removed]",
      "text/plain": [
       "<Figure size 1152x648 with 1 Axes>"
      ]
     },
     "metadata": {},
     "output_type": "display_data"
    }
   ],
   "source": [
    "column_list = ['TotalKills', 'TotalDeaths']\n",
    "stat_lineplot(df, column_list, 'K/D Over Time - 2021', rolling_days=30, \n",
    "              start_date='2021-01-01', end_date='2021-06-30',\n",
    "             file_name='kd_2021')"
   ]
  },
  {
   "cell_type": "markdown",
   "metadata": {},
   "source": [
    "Taking a closer look at 30 day rolling average between January - June of 2021, you can see that there is a divergence around the beginning of February, which might be closer to when I remapped my buttons on the controller with paddles.  \n",
    "\n",
    "Sadly, the paddle controller developed an unfixable issue in May of 2021, and you can see that there's a noticeable convergence of total kills and total deaths due to having to relearn pressing all of the buttons with my right thumb as opposed to my left and right index and middle fingers.  It would I receovered somewhat, but had to play a little more conservatively as a result and not take on as many encounters."
   ]
  },
  {
   "cell_type": "code",
   "execution_count": 48,
   "metadata": {
    "ExecuteTime": {
     "end_time": "2021-07-30T02:49:55.685608Z",
     "start_time": "2021-07-30T02:49:54.886427Z"
    }
   },
   "outputs": [
    {
     "data": {
      "text/plain": [
       "<AxesSubplot:title={'center':'Long Range Accuracy Over Time'}, xlabel='Date', ylabel='Count of Kills / Deaths'>"
      ]
     },
     "execution_count": 48,
     "metadata": {},
     "output_type": "execute_result"
    },
    {
     "data": {
      "image/png": "[encoded data removed]",
      "text/plain": [
       "<Figure size 1152x648 with 1 Axes>"
      ]
     },
     "metadata": {},
     "output_type": "display_data"
    }
   ],
   "source": [
    "column_list = ['TotalHeadshots']\n",
    "\n",
    "stat_lineplot(df, column_list, 'Long Range Accuracy Over Time', \n",
    "              file_name='long_range_accuracy_over_time', rolling_days=365)"
   ]
  },
  {
   "cell_type": "markdown",
   "metadata": {},
   "source": [
    "Headshots over time has a bit of a story as well.  Up until December of 2020, I felt very unskilled with long range weapons.  That Christmas, there was a temporary mode with long range weapons, where hitting a 'headshot' will immediately eliminate the enemy player.  After that mode, I got a better grasp of how that system worked, and I felt more comfortable using long range weapons.  \n",
    "\n",
    "You'll also notice a plateau between March and May.  My paddled controller that broke in May also had a very tall right thumb stick, which was **supposed to** improve precision and accuracy.  However, I noticed after switching back to the basic controller with the standard right them stick, my accuracy felt like it improved, and I noticed that I was sniping with greater ease.  But I couldn't prove that notion until viewing this data in visual format\n"
   ]
  },
  {
   "cell_type": "markdown",
   "metadata": {},
   "source": [
    "If your'e playing against yourself, you don't have to feel bad when you're the worst person on your team.  "
   ]
  },
  {
   "cell_type": "markdown",
   "metadata": {
    "ExecuteTime": {
     "end_time": "2021-07-26T12:08:09.184596Z",
     "start_time": "2021-07-26T12:08:09.181597Z"
    }
   },
   "source": [
    "# Conclusions and Recommendations\n",
    "\n",
    "Visuals depicting historical performance and player growth aren't found in many major titles.  After constructing some myself with my own data, I firmly believe that visuals like these are low hanging fruit for developers hoping to increase engagement and player retention.\n",
    "\n",
    "Exploring K/D improvement over time reaffirms many of the decisions I made while trying to become a better team player.  There is a growing community of creaters on YouTube who specialize in skills, tactics, and controller setting optimization.  The popularity of these channels is surely evidence that gamers do indeed care about becoming better players.  \n",
    "\n",
    "For example, providing a K/D ratio over time similar to the one I created here but with visual markers indicating controller setting changes, weapon loadout changes, or anything defined by the player could alleviate frustration caused by a sense of failure and defeat when first starting a game.  \n",
    "\n",
    "I recommend developers experiment with offering these tools to players.  Properly framed, these visuals could increase satisfaction in more seasoned players and offer guidance to newer players.\n",
    "\n",
    "# Next Steps\n",
    "\n",
    "Conducting market research or simply raising the topic on social media or a game's subreddit would offer immediate insight into what players might like to know about their performance.  It would be important to develop an understanding of which visuals are fun and engaging and which visuals could potentially cause more frustration.  \n",
    "\n",
    "Additionally, on top of personal improvement metrics, there is an abundance of post-match data in Halo 5 that is currently going under-utilized.  Here are a few ideas that could be explored for enhancing the match report:\n",
    "- 2D / 3D heat maps depicting areas of high activity during the match\n",
    "- A one dimendsional bar depicting who was in the lead throughout the duration of the match\n",
    "- Sueprlative awards granted to each player (best long distance, most destruction, best accuracy, e tc.)"
   ]
  },
  {
   "cell_type": "markdown",
   "metadata": {},
   "source": [
    "# Continued in Modeling Notebook.ipynb..."
   ]
  }
 ],
 "metadata": {
  "kernelspec": {
   "display_name": "Python 3",
   "language": "python",
   "name": "python3"
  },
  "language_info": {
   "codemirror_mode": {
    "name": "ipython",
    "version": 3
   },
   "file_extension": ".py",
   "mimetype": "text/x-python",
   "name": "python",
   "nbconvert_exporter": "python",
   "pygments_lexer": "ipython3",
   "version": "3.8.5"
  },
  "toc": {
   "base_numbering": 1,
   "nav_menu": {},
   "number_sections": true,
   "sideBar": true,
   "skip_h1_title": false,
   "title_cell": "Table of Contents",
   "title_sidebar": "Contents",
   "toc_cell": false,
   "toc_position": {
    "height": "calc(100% - 180px)",
    "left": "10px",
    "top": "150px",
    "width": "235.812px"
   },
   "toc_section_display": true,
   "toc_window_display": true
  }
 },
 "nbformat": 4,
 "nbformat_minor": 4
}
