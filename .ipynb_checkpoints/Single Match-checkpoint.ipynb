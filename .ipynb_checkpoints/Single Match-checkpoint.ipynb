{
 "cells": [
  {
   "cell_type": "code",
   "execution_count": null,
   "metadata": {},
   "outputs": [],
   "source": [
    "# import jupyterthemes as jt\n",
    "\n",
    "# !jt -t chesterish"
   ]
  },
  {
   "cell_type": "code",
   "execution_count": 1,
   "metadata": {
    "ExecuteTime": {
     "end_time": "2021-07-12T20:55:43.356489Z",
     "start_time": "2021-07-12T20:55:41.958184Z"
    }
   },
   "outputs": [],
   "source": [
    "import requests\n",
    "import pandas as pd\n",
    "import matplotlib.pyplot as plt\n",
    "%matplotlib inline\n",
    "import seaborn as sns\n",
    "import numpy as np\n",
    "\n",
    "import json\n",
    "def get_keys(path):\n",
    "    with open(path) as f:\n",
    "        return json.load(f)\n",
    "# keys = get_keys(\"/Users/Johnny/.secret/yelp_api.json\")\n",
    "# api_key = keys['api_key']\n",
    "# pip install tmdbsimple #Ctrl+? this line to install tmdbsimple\n",
    "import tmdbsimple as tmdb\n",
    "# tmdb.API_KEY = api_key\n",
    "\n",
    "scrape = False\n",
    "\n",
    "import ast\n",
    "import time\n",
    "import http.client, urllib.request, urllib.parse, urllib.error, base64\n",
    "\n",
    "api_key = 'ceeaacb7cf024c7485e00ef8457e42dc'\n",
    "\n",
    "\n",
    "# user = 'Drymander'\n",
    "\n",
    "import pickle\n",
    "from tqdm import tqdm\n",
    "\n",
    "# pip install isodate\n",
    "\n",
    "import isodate"
   ]
  },
  {
   "cell_type": "code",
   "execution_count": 2,
   "metadata": {
    "ExecuteTime": {
     "end_time": "2021-07-12T20:55:44.491788Z",
     "start_time": "2021-07-12T20:55:43.357489Z"
    }
   },
   "outputs": [
    {
     "name": "stderr",
     "output_type": "stream",
     "text": [
      "[nltk_data] Downloading package stopwords to\n",
      "[nltk_data]     C:\\Users\\johnn\\AppData\\Roaming\\nltk_data...\n",
      "[nltk_data]   Package stopwords is already up-to-date!\n"
     ]
    }
   ],
   "source": [
    "#Standard python libraries\n",
    "import pandas as pd\n",
    "import seaborn as sns\n",
    "# sns.set_context('talk')\n",
    "import matplotlib.pyplot as plt\n",
    "import numpy as np\n",
    "import warnings\n",
    "warnings.filterwarnings(action='ignore') \n",
    "\n",
    "# Preprocessing tools\n",
    "from sklearn.model_selection import train_test_split,cross_val_predict,cross_validate\n",
    "from sklearn.preprocessing import MinMaxScaler,StandardScaler,OneHotEncoder\n",
    "scaler = StandardScaler()\n",
    "from sklearn import metrics\n",
    "\n",
    "# Models & Utilities\n",
    "from sklearn.dummy import DummyClassifier\n",
    "from sklearn.linear_model import LogisticRegression,LogisticRegressionCV\n",
    "from sklearn.ensemble import RandomForestClassifier\n",
    "from sklearn.model_selection import train_test_split\n",
    "from sklearn.linear_model import LogisticRegression\n",
    "from sklearn.metrics import classification_report\n",
    "from sklearn.model_selection import cross_val_score\n",
    "from xgboost import XGBClassifier\n",
    "from sklearn.model_selection import GridSearchCV\n",
    "from sklearn.metrics import plot_confusion_matrix\n",
    "from sklearn.metrics import accuracy_score, confusion_matrix, classification_report, precision_score, recall_score, f1_score\n",
    "\n",
    "# Warnings\n",
    "import warnings\n",
    "warnings.filterwarnings(action='ignore') \n",
    "\n",
    "# NLP Libraries\n",
    "import nltk\n",
    "import collections\n",
    "# nltk.download('punkt')\n",
    "from sklearn.manifold import TSNE\n",
    "from nltk.tokenize import word_tokenize\n",
    "from nltk import regexp_tokenize\n",
    "import re\n",
    "from nltk.corpus import stopwords\n",
    "from nltk.collocations import *\n",
    "from nltk import FreqDist\n",
    "from nltk import word_tokenize\n",
    "from nltk import ngrams\n",
    "import string\n",
    "from sklearn.feature_extraction.text import CountVectorizer\n",
    "from sklearn.feature_extraction.text import TfidfVectorizer\n",
    "nltk.download('stopwords')\n",
    "# !pip install wordcloud\n",
    "from wordcloud import WordCloud"
   ]
  },
  {
   "cell_type": "markdown",
   "metadata": {},
   "source": [
    "# Pull Most Recent Match Details\n",
    "\n",
    "This is a combination of two API calls - the first is to pull the latest match for a given player based on their gamertag.  This provides the Match ID, and the second API call pulls the data using the Match ID. "
   ]
  },
  {
   "cell_type": "code",
   "execution_count": 3,
   "metadata": {
    "ExecuteTime": {
     "end_time": "2021-07-12T20:55:45.851363Z",
     "start_time": "2021-07-12T20:55:45.846361Z"
    }
   },
   "outputs": [
    {
     "data": {
      "text/plain": [
       "'this+is+a+test'"
      ]
     },
     "execution_count": 3,
     "metadata": {},
     "output_type": "execute_result"
    }
   ],
   "source": [
    "# Prepare gamertag for API\n",
    "\n",
    "def gamertag_for_api(gamertag):\n",
    "    gamertag = gamertag.replace(' ','+')\n",
    "    return gamertag\n",
    "\n",
    "gamertag_for_api('this is a test')"
   ]
  },
  {
   "cell_type": "code",
   "execution_count": 4,
   "metadata": {
    "ExecuteTime": {
     "end_time": "2021-07-12T20:55:48.235886Z",
     "start_time": "2021-07-12T20:55:46.726675Z"
    }
   },
   "outputs": [],
   "source": [
    "def pull_recent_match(how_recent, api_key=api_key, explore=False, gamertag='Drymander'):\n",
    "    \n",
    "    gamertag = gamertag_for_api(gamertag)\n",
    "    \n",
    "    headers = {\n",
    "        # Request headers\n",
    "        'Ocp-Apim-Subscription-Key': api_key,\n",
    "    }\n",
    "\n",
    "    params = urllib.parse.urlencode({\n",
    "        # Request parameters\n",
    "        'modes': 'arena',\n",
    "        'start': how_recent,\n",
    "        'count': 1,\n",
    "        'include-times': True,\n",
    "    })\n",
    "\n",
    "    try:\n",
    "        conn = http.client.HTTPSConnection('www.haloapi.com')\n",
    "        conn.request(\"GET\", f\"/stats/h5/players/{gamertag}/matches?%s\" % params, \"{body}\", headers)\n",
    "        response = conn.getresponse()\n",
    "        latest_match = json.loads(response.read())\n",
    "\n",
    "        match_id = latest_match['Results'][0]['Id']['MatchId']\n",
    "\n",
    "        time.sleep(1.1)\n",
    "\n",
    "        conn.request(\"GET\", f\"/stats/h5/arena/matches/{match_id}?%s\" % params, \"{body}\", headers)\n",
    "        response = conn.getresponse()\n",
    "        data = response.read()\n",
    "        \n",
    "        if explore == True:\n",
    "            print(data)\n",
    "        else:\n",
    "            match_results = json.loads(data)\n",
    "        conn.close()\n",
    "    except Exception as e:\n",
    "        print(f\"[Errno {0}] {1}\".format(e.errno, e.strerror))\n",
    "    \n",
    "    return match_results\n",
    "\n",
    "####################################\n",
    "\n",
    "# match_results = pull_recent_match(5, explore=True)\n",
    "match_results = pull_recent_match(0, explore=False, gamertag='thefishhawk88')"
   ]
  },
  {
   "cell_type": "markdown",
   "metadata": {},
   "source": [
    "# Pull Any Match"
   ]
  },
  {
   "cell_type": "code",
   "execution_count": null,
   "metadata": {
    "ExecuteTime": {
     "end_time": "2021-07-12T19:11:41.351431Z",
     "start_time": "2021-07-12T19:11:40.846363Z"
    }
   },
   "outputs": [],
   "source": [
    "# explore = True\n",
    "# matchId = '0bbc809c-87d8-423f-88a4-ffb9fc782fd6'\n",
    "\n",
    "# def pull_match(matchId, api_key=api_key, explore=False):\n",
    "\n",
    "#     headers = {\n",
    "#         # Request headers\n",
    "#         'Ocp-Apim-Subscription-Key': api_key,\n",
    "#     }\n",
    "\n",
    "#     params = urllib.parse.urlencode({\n",
    "#     })\n",
    "\n",
    "#     try:\n",
    "#         conn = http.client.HTTPSConnection('www.haloapi.com')\n",
    "#         conn.request(\"GET\", f\"/stats/h5/arena/matches/{matchId}?%s\" % params, \"{body}\", headers)\n",
    "#         response = conn.getresponse()\n",
    "#         if explore == True:\n",
    "#             data = response.read()\n",
    "#             print(data)\n",
    "#         else:\n",
    "#             data = response.read()\n",
    "#             data = json.loads(data)\n",
    "#         conn.close()\n",
    "#     except Exception as e:\n",
    "#         print(f\"[Errno {0}] {1}\".format(e.errno, e.strerror))\n",
    "    \n",
    "#     return data\n",
    "\n",
    "        \n",
    "# pull_match('0bbc809c-87d8-423f-88a4-ffb9fc782fd6', explore=False)"
   ]
  },
  {
   "cell_type": "markdown",
   "metadata": {},
   "source": [
    "# Build Match Dataframe"
   ]
  },
  {
   "cell_type": "code",
   "execution_count": null,
   "metadata": {
    "ExecuteTime": {
     "end_time": "2021-07-12T15:50:07.915575Z",
     "start_time": "2021-07-12T15:50:06.377006Z"
    }
   },
   "outputs": [],
   "source": [
    "match_results = pull_recent_match(0,explore=False)"
   ]
  },
  {
   "cell_type": "markdown",
   "metadata": {},
   "source": [
    "### Notes\n",
    "\n",
    "Red team is team ID 0\n",
    "\n",
    "Blue team is team ID 1"
   ]
  },
  {
   "cell_type": "code",
   "execution_count": 5,
   "metadata": {
    "ExecuteTime": {
     "end_time": "2021-07-12T20:55:52.213343Z",
     "start_time": "2021-07-12T20:55:50.824150Z"
    }
   },
   "outputs": [
    {
     "data": {
      "text/html": [
       "<div>\n",
       "<style scoped>\n",
       "    .dataframe tbody tr th:only-of-type {\n",
       "        vertical-align: middle;\n",
       "    }\n",
       "\n",
       "    .dataframe tbody tr th {\n",
       "        vertical-align: top;\n",
       "    }\n",
       "\n",
       "    .dataframe thead th {\n",
       "        text-align: right;\n",
       "    }\n",
       "</style>\n",
       "<table border=\"1\" class=\"dataframe\">\n",
       "  <thead>\n",
       "    <tr style=\"text-align: right;\">\n",
       "      <th></th>\n",
       "      <th>TeamId</th>\n",
       "      <th>Winner</th>\n",
       "      <th>TeamColor</th>\n",
       "      <th>Gamertag</th>\n",
       "      <th>SpartanRank</th>\n",
       "      <th>PrevTotalXP</th>\n",
       "    </tr>\n",
       "  </thead>\n",
       "  <tbody>\n",
       "    <tr>\n",
       "      <th>1</th>\n",
       "      <td>1</td>\n",
       "      <td>Victory</td>\n",
       "      <td>Blue</td>\n",
       "      <td>William PO2</td>\n",
       "      <td>113</td>\n",
       "      <td>4090626</td>\n",
       "    </tr>\n",
       "    <tr>\n",
       "      <th>2</th>\n",
       "      <td>1</td>\n",
       "      <td>Victory</td>\n",
       "      <td>Blue</td>\n",
       "      <td>Orion II Fred</td>\n",
       "      <td>58</td>\n",
       "      <td>1163661</td>\n",
       "    </tr>\n",
       "    <tr>\n",
       "      <th>4</th>\n",
       "      <td>1</td>\n",
       "      <td>Victory</td>\n",
       "      <td>Blue</td>\n",
       "      <td>FIAB Atheon</td>\n",
       "      <td>105</td>\n",
       "      <td>3500010</td>\n",
       "    </tr>\n",
       "    <tr>\n",
       "      <th>5</th>\n",
       "      <td>1</td>\n",
       "      <td>Victory</td>\n",
       "      <td>Blue</td>\n",
       "      <td>Lilcountry6981</td>\n",
       "      <td>140</td>\n",
       "      <td>6448461</td>\n",
       "    </tr>\n",
       "    <tr>\n",
       "      <th>0</th>\n",
       "      <td>0</td>\n",
       "      <td>Defeat</td>\n",
       "      <td>Red</td>\n",
       "      <td>BladiSsj4045</td>\n",
       "      <td>94</td>\n",
       "      <td>2809071</td>\n",
       "    </tr>\n",
       "    <tr>\n",
       "      <th>3</th>\n",
       "      <td>0</td>\n",
       "      <td>Defeat</td>\n",
       "      <td>Red</td>\n",
       "      <td>Saracenwarrior1</td>\n",
       "      <td>84</td>\n",
       "      <td>2413548</td>\n",
       "    </tr>\n",
       "    <tr>\n",
       "      <th>6</th>\n",
       "      <td>0</td>\n",
       "      <td>Defeat</td>\n",
       "      <td>Red</td>\n",
       "      <td>HungTaiLung</td>\n",
       "      <td>68</td>\n",
       "      <td>1625143</td>\n",
       "    </tr>\n",
       "    <tr>\n",
       "      <th>7</th>\n",
       "      <td>0</td>\n",
       "      <td>Defeat</td>\n",
       "      <td>Red</td>\n",
       "      <td>thefishhawk88</td>\n",
       "      <td>145</td>\n",
       "      <td>7927665</td>\n",
       "    </tr>\n",
       "  </tbody>\n",
       "</table>\n",
       "</div>"
      ],
      "text/plain": [
       "  TeamId   Winner TeamColor         Gamertag SpartanRank PrevTotalXP\n",
       "1      1  Victory      Blue      William PO2         113     4090626\n",
       "2      1  Victory      Blue    Orion II Fred          58     1163661\n",
       "4      1  Victory      Blue      FIAB Atheon         105     3500010\n",
       "5      1  Victory      Blue   Lilcountry6981         140     6448461\n",
       "0      0   Defeat       Red     BladiSsj4045          94     2809071\n",
       "3      0   Defeat       Red  Saracenwarrior1          84     2413548\n",
       "6      0   Defeat       Red      HungTaiLung          68     1625143\n",
       "7      0   Defeat       Red    thefishhawk88         145     7927665"
      ]
     },
     "execution_count": 5,
     "metadata": {},
     "output_type": "execute_result"
    }
   ],
   "source": [
    "# match_results = pull_recent_match(0, explore=False, gamertag='thefishhawk88')\n",
    "def build_base_dataframe(match_results, gamertag):\n",
    "    \n",
    "    # Build empty base match dataframe\n",
    "    df = pd.DataFrame()\n",
    "    columns = [\n",
    "        'TeamId',\n",
    "        'Gamertag',\n",
    "        'SpartanRank',\n",
    "        'PrevTotalXP',\n",
    "    ]\n",
    "    df = pd.DataFrame(columns = columns)\n",
    "    \n",
    "    # Populate base match dataframe with player stats for each player\n",
    "    i = 0\n",
    "    for player in match_results['PlayerStats']:\n",
    "\n",
    "        player_dic = {}\n",
    "        # Team ID\n",
    "        player_dic['TeamId'] = match_results['PlayerStats'][i]['TeamId']\n",
    "        # Team Color\n",
    "        player_dic['TeamColor'] = match_results['PlayerStats'][i]['TeamId']\n",
    "        # Gamer Tag\n",
    "        player_dic['Gamertag'] = match_results['PlayerStats'][i]['Player']['Gamertag']\n",
    "        # Spartan Rank\n",
    "        player_dic['SpartanRank'] = match_results['PlayerStats'][i]['XpInfo']['SpartanRank']\n",
    "        # Previous Total XP\n",
    "        player_dic['PrevTotalXP'] = match_results['PlayerStats'][i]['XpInfo']['PrevTotalXP']\n",
    "        df = df.append(player_dic, ignore_index=True)\n",
    "        i += 1\n",
    "    \n",
    "    playerteam = df.loc[df['Gamertag'] == gamertag, 'TeamId'].values[0]\n",
    "    if playerteam == 0:\n",
    "        enemyteam = 1\n",
    "    else:\n",
    "        enemyteam = 0\n",
    "\n",
    "    if match_results['TeamStats'][0]['TeamId'] == playerteam:\n",
    "        playerteam_stats = match_results['TeamStats'][0]\n",
    "        enemyteam_stats = match_results['TeamStats'][1]\n",
    "    else: \n",
    "        playerteam_stats = match_results['TeamStats'][1]\n",
    "        enemyteam_stats = match_results['TeamStats'][0]\n",
    "    \n",
    "    # Determine winner\n",
    "    # Tie\n",
    "    if playerteam_stats['Rank'] == 1 and enemyteam_stats['Rank'] == 1:\n",
    "        df['Winner'] = 'Tie'\n",
    "    # Player wins\n",
    "    elif playerteam_stats['Rank'] == 1 and enemyteam_stats['Rank'] == 2:\n",
    "        df['Winner'] = df['TeamId'].map({playerteam:'Victory', enemyteam:'Defeat'})\n",
    "    # Enemy wins\n",
    "    elif playerteam_stats['Rank'] == 2 and enemyteam_stats['Rank'] == 1:\n",
    "        df['Winner'] = df['TeamId'].map({enemyteam:'Victory', playerteam:'Defeat'})\n",
    "    # Error handling\n",
    "    else:\n",
    "        winner = 'Error determining winner'\n",
    "    df['TeamColor'] = df['TeamId'].map({0:'Red', 1:'Blue'})\n",
    "    # Set columns\n",
    "    df = df[['TeamId', 'Winner', 'TeamColor', 'Gamertag', 'SpartanRank', 'PrevTotalXP']]\n",
    "    # Sort match by winning team\n",
    "    df = df.sort_values(by=['Winner'], ascending=False)\n",
    "    \n",
    "    return df\n",
    "\n",
    "# df = build_base_dataframe(pull_recent_match(0))\n",
    "# # df.loc[df['TeamId'] == 0]\n",
    "# df\n",
    "# build_base_dataframe(pull_recent_match(0, explore=False, gamertag='thefishhawk88'), gamertag='thefishhawk88')"
   ]
  },
  {
   "cell_type": "code",
   "execution_count": null,
   "metadata": {
    "ExecuteTime": {
     "end_time": "2021-07-12T16:57:26.706885Z",
     "start_time": "2021-07-12T16:57:26.693883Z"
    }
   },
   "outputs": [],
   "source": [
    "# playerteam = 0\n",
    "\n",
    "# df['TeamColor'] = df['TeamId'].map({0:'Red', 1:'Blue'})\n",
    "# df['Winner'] = df['TeamId'].map({playerteam:'Victory', 1:'Defeat'})\n",
    "# df"
   ]
  },
  {
   "cell_type": "code",
   "execution_count": null,
   "metadata": {
    "ExecuteTime": {
     "end_time": "2021-07-12T19:14:05.098648Z",
     "start_time": "2021-07-12T19:14:03.647578Z"
    }
   },
   "outputs": [],
   "source": [
    "# # Red victory\n",
    "# build_base_dataframe(pull_recent_match(0, gamertag='thefishhawk88'), gamertag='thefishhawk88')"
   ]
  },
  {
   "cell_type": "code",
   "execution_count": null,
   "metadata": {
    "ExecuteTime": {
     "end_time": "2021-07-12T19:13:20.458487Z",
     "start_time": "2021-07-12T19:13:19.034643Z"
    }
   },
   "outputs": [],
   "source": [
    "# # Blue loss\n",
    "# build_base_dataframe(pull_recent_match(1, gamertag='thefishhawk88'), gamertag='thefishhawk88')"
   ]
  },
  {
   "cell_type": "code",
   "execution_count": null,
   "metadata": {
    "ExecuteTime": {
     "end_time": "2021-07-12T19:14:10.798737Z",
     "start_time": "2021-07-12T19:14:09.360169Z"
    }
   },
   "outputs": [],
   "source": [
    "# # Blue tie\n",
    "# build_base_dataframe(pull_recent_match(2, gamertag='thefishhawk88'), gamertag='thefishhawk88')"
   ]
  },
  {
   "cell_type": "code",
   "execution_count": null,
   "metadata": {
    "ExecuteTime": {
     "end_time": "2021-07-12T19:14:19.590683Z",
     "start_time": "2021-07-12T19:14:17.953668Z"
    }
   },
   "outputs": [],
   "source": [
    "# # Red victory\n",
    "# build_base_dataframe(pull_recent_match(3, gamertag='thefishhawk88'), gamertag='thefishhawk88')"
   ]
  },
  {
   "cell_type": "code",
   "execution_count": null,
   "metadata": {
    "ExecuteTime": {
     "end_time": "2021-07-12T17:02:43.938476Z",
     "start_time": "2021-07-12T17:02:42.540783Z"
    }
   },
   "outputs": [],
   "source": [
    "# # Red DNF\n",
    "# build_base_dataframe(pull_recent_match(6, gamertag='thefishhawk88'))"
   ]
  },
  {
   "cell_type": "code",
   "execution_count": null,
   "metadata": {
    "ExecuteTime": {
     "end_time": "2021-07-12T17:02:13.490623Z",
     "start_time": "2021-07-12T17:02:11.769529Z"
    }
   },
   "outputs": [],
   "source": [
    "# # Blue victory\n",
    "# build_base_dataframe(pull_recent_match(7))"
   ]
  },
  {
   "cell_type": "markdown",
   "metadata": {},
   "source": [
    "# Pull Game Base Variant Stats for All Players in Match\n",
    "\n",
    "Using the match details, we will compile everyone's gamertags into a list and pull more specific information for each player.  We can get statistics on every game mode (or \"Game Base Variant\" as it is referred to in the API)."
   ]
  },
  {
   "cell_type": "markdown",
   "metadata": {},
   "source": [
    "## Player List"
   ]
  },
  {
   "cell_type": "code",
   "execution_count": 6,
   "metadata": {
    "ExecuteTime": {
     "end_time": "2021-07-12T20:56:23.214903Z",
     "start_time": "2021-07-12T20:56:23.210910Z"
    }
   },
   "outputs": [],
   "source": [
    "# df_match = build_base_dataframe(pull_recent_match(5, gamertag='thefishhawk88'), gamertag='thefishhawk88')\n",
    "\n",
    "def get_player_list(df):\n",
    "    player_list = str(list(df['Gamertag']))[1:-1]\n",
    "\n",
    "    player_list\n",
    "    player_list = player_list.replace(', ',',')\n",
    "    player_list = player_list.replace(\"'\",'')\n",
    "    player_list = player_list.replace(' ','+')\n",
    "\n",
    "    return player_list\n",
    "\n",
    "\n",
    "# get_player_list(df_match)\n"
   ]
  },
  {
   "cell_type": "code",
   "execution_count": 7,
   "metadata": {
    "ExecuteTime": {
     "end_time": "2021-07-12T20:56:29.504889Z",
     "start_time": "2021-07-12T20:56:29.499897Z"
    }
   },
   "outputs": [],
   "source": [
    "def get_player_history(df):\n",
    "    headers = {\n",
    "        # Request headers\n",
    "        'Ocp-Apim-Subscription-Key': str(api_key),\n",
    "    }\n",
    "    params = urllib.parse.urlencode({\n",
    "    })\n",
    "    player_list_api = get_player_list(df)\n",
    "    try:\n",
    "        conn = http.client.HTTPSConnection('www.haloapi.com')\n",
    "        conn.request(\"GET\", f\"/stats/h5/servicerecords/arena?players={player_list_api}&%s\" % params, \"{body}\", headers)\n",
    "        response = conn.getresponse()\n",
    "        data = response.read()\n",
    "        player_history = json.loads(data)\n",
    "    #     print(data)\n",
    "        conn.close()\n",
    "    except Exception as e:\n",
    "        print(f\"[Errno {0}] {1}\".format(e.errno, e.strerror))\n",
    "\n",
    "    return player_history\n",
    "\n",
    "# player_history = get_player_history(df_match)\n",
    "\n",
    "# player_history['Results'][1]"
   ]
  },
  {
   "cell_type": "markdown",
   "metadata": {},
   "source": [
    "## Compile Individual Stats into Dataframe"
   ]
  },
  {
   "cell_type": "code",
   "execution_count": null,
   "metadata": {
    "ExecuteTime": {
     "end_time": "2021-07-12T19:14:54.974475Z",
     "start_time": "2021-07-12T19:14:54.805445Z"
    }
   },
   "outputs": [],
   "source": [
    "player_history['Results'][2]"
   ]
  },
  {
   "cell_type": "code",
   "execution_count": 8,
   "metadata": {
    "ExecuteTime": {
     "end_time": "2021-07-12T20:56:32.706319Z",
     "start_time": "2021-07-12T20:56:32.699327Z"
    }
   },
   "outputs": [],
   "source": [
    "# variant_id = match_results['GameBaseVariantId']\n",
    "\n",
    "def build_history_dataframe(player_history, variant_id):\n",
    "    vdf_columns = [\n",
    "        'Gamertag',\n",
    "        'TotalTimePlayed',\n",
    "        'K/D',\n",
    "        'Accuracy',\n",
    "        'WinRate',\n",
    "    ]\n",
    "\n",
    "    vdf = pd.DataFrame(columns = vdf_columns)\n",
    "\n",
    "    i = 0\n",
    "    for player in player_history['Results']:\n",
    "        for variant in player['Result']['ArenaStats']['ArenaGameBaseVariantStats']:\n",
    "            if variant['GameBaseVariantId'] == variant_id:\n",
    "                variant_stats = variant\n",
    "\n",
    "        variant_dic = {}\n",
    "        variant_dic['Gamertag'] = player_history['Results'][i]['Id']\n",
    "        variant_dic['TotalTimePlayed']= isodate.parse_duration(variant_stats['TotalTimePlayed']).total_seconds() / 3600\n",
    "        variant_dic['K/D'] = variant_stats['TotalKills'] / variant_stats['TotalDeaths']\n",
    "        variant_dic['Accuracy'] = variant_stats['TotalShotsLanded'] / variant_stats['TotalShotsFired']\n",
    "        variant_dic['WinRate'] = variant_stats['TotalGamesWon'] / variant_stats['TotalGamesLost']\n",
    "        vdf = vdf.append(variant_dic, True)\n",
    "\n",
    "        i += 1\n",
    "        \n",
    "    return vdf\n",
    "    \n",
    "# build_history_dataframe(player_history, variant_id)"
   ]
  },
  {
   "cell_type": "markdown",
   "metadata": {},
   "source": [
    "# Merge Match and Game Variant Dataframes"
   ]
  },
  {
   "cell_type": "code",
   "execution_count": null,
   "metadata": {},
   "outputs": [],
   "source": []
  },
  {
   "cell_type": "code",
   "execution_count": null,
   "metadata": {
    "ExecuteTime": {
     "end_time": "2021-07-12T20:53:21.256125Z",
     "start_time": "2021-07-12T20:53:21.253132Z"
    }
   },
   "outputs": [],
   "source": [
    "# df_stats = pd.merge(df_match, vdf, how='inner', on = 'Gamertag')\n",
    "\n",
    "# df_stats"
   ]
  },
  {
   "cell_type": "markdown",
   "metadata": {},
   "source": [
    "# Master Function"
   ]
  },
  {
   "cell_type": "code",
   "execution_count": 9,
   "metadata": {
    "ExecuteTime": {
     "end_time": "2021-07-12T20:56:37.914859Z",
     "start_time": "2021-07-12T20:56:34.941080Z"
    }
   },
   "outputs": [],
   "source": [
    "# gamertag = 'Drymander'\n",
    "\n",
    "def recent_match_stats(gamertag, back_count=0):\n",
    "    match_results = pull_recent_match(back_count, explore=False, gamertag=gamertag)\n",
    "    base_df = build_base_dataframe(match_results, gamertag=gamertag)\n",
    "    time.sleep(1.01)\n",
    "    \n",
    "    player_list = get_player_list(base_df)\n",
    "    \n",
    "    player_history = get_player_history(base_df)\n",
    "    \n",
    "    history_df = build_history_dataframe(player_history, match_results['GameBaseVariantId'])\n",
    "    full_stats_df = pd.merge(base_df, history_df, how='inner', on = 'Gamertag')\n",
    "    \n",
    "    return full_stats_df\n",
    "#     return base_df, history_df, player_list, player_history, full_stats_df\n",
    "# base_df, history_df, player_list, player_history, full_stats_df = recent_match_stats('thefishhawk88', back_count=20)\n",
    "\n",
    "stats_df = recent_match_stats('ATLkrunk420', back_count=0)"
   ]
  },
  {
   "cell_type": "code",
   "execution_count": 25,
   "metadata": {
    "ExecuteTime": {
     "end_time": "2021-07-13T18:12:07.942657Z",
     "start_time": "2021-07-13T18:12:02.861166Z"
    }
   },
   "outputs": [
    {
     "data": {
      "text/html": [
       "<div>\n",
       "<style scoped>\n",
       "    .dataframe tbody tr th:only-of-type {\n",
       "        vertical-align: middle;\n",
       "    }\n",
       "\n",
       "    .dataframe tbody tr th {\n",
       "        vertical-align: top;\n",
       "    }\n",
       "\n",
       "    .dataframe thead th {\n",
       "        text-align: right;\n",
       "    }\n",
       "</style>\n",
       "<table border=\"1\" class=\"dataframe\">\n",
       "  <thead>\n",
       "    <tr style=\"text-align: right;\">\n",
       "      <th></th>\n",
       "      <th>TeamId</th>\n",
       "      <th>Winner</th>\n",
       "      <th>TeamColor</th>\n",
       "      <th>Gamertag</th>\n",
       "      <th>SpartanRank</th>\n",
       "      <th>PrevTotalXP</th>\n",
       "      <th>TotalTimePlayed</th>\n",
       "      <th>K/D</th>\n",
       "      <th>Accuracy</th>\n",
       "      <th>WinRate</th>\n",
       "    </tr>\n",
       "  </thead>\n",
       "  <tbody>\n",
       "    <tr>\n",
       "      <th>0</th>\n",
       "      <td>1</td>\n",
       "      <td>Victory</td>\n",
       "      <td>Blue</td>\n",
       "      <td>NOpeekingDonald</td>\n",
       "      <td>147</td>\n",
       "      <td>12459398</td>\n",
       "      <td>456.592071</td>\n",
       "      <td>1.251471</td>\n",
       "      <td>0.374676</td>\n",
       "      <td>0.981502</td>\n",
       "    </tr>\n",
       "    <tr>\n",
       "      <th>1</th>\n",
       "      <td>1</td>\n",
       "      <td>Victory</td>\n",
       "      <td>Blue</td>\n",
       "      <td>Nutzmann</td>\n",
       "      <td>151</td>\n",
       "      <td>37330390</td>\n",
       "      <td>808.399906</td>\n",
       "      <td>1.337044</td>\n",
       "      <td>0.389528</td>\n",
       "      <td>1.256020</td>\n",
       "    </tr>\n",
       "    <tr>\n",
       "      <th>2</th>\n",
       "      <td>1</td>\n",
       "      <td>Victory</td>\n",
       "      <td>Blue</td>\n",
       "      <td>ElasticWhisper7</td>\n",
       "      <td>149</td>\n",
       "      <td>18251255</td>\n",
       "      <td>595.876977</td>\n",
       "      <td>0.988238</td>\n",
       "      <td>0.323790</td>\n",
       "      <td>0.952705</td>\n",
       "    </tr>\n",
       "    <tr>\n",
       "      <th>3</th>\n",
       "      <td>1</td>\n",
       "      <td>Victory</td>\n",
       "      <td>Blue</td>\n",
       "      <td>frozTyr</td>\n",
       "      <td>148</td>\n",
       "      <td>15016579</td>\n",
       "      <td>480.642340</td>\n",
       "      <td>0.972129</td>\n",
       "      <td>0.355592</td>\n",
       "      <td>1.199535</td>\n",
       "    </tr>\n",
       "    <tr>\n",
       "      <th>4</th>\n",
       "      <td>0</td>\n",
       "      <td>Defeat</td>\n",
       "      <td>Red</td>\n",
       "      <td>Temoneous</td>\n",
       "      <td>149</td>\n",
       "      <td>23826914</td>\n",
       "      <td>904.733138</td>\n",
       "      <td>1.173478</td>\n",
       "      <td>0.388986</td>\n",
       "      <td>1.075825</td>\n",
       "    </tr>\n",
       "    <tr>\n",
       "      <th>5</th>\n",
       "      <td>0</td>\n",
       "      <td>Defeat</td>\n",
       "      <td>Red</td>\n",
       "      <td>Drymander</td>\n",
       "      <td>148</td>\n",
       "      <td>15236993</td>\n",
       "      <td>291.370283</td>\n",
       "      <td>1.026345</td>\n",
       "      <td>0.320813</td>\n",
       "      <td>0.995110</td>\n",
       "    </tr>\n",
       "    <tr>\n",
       "      <th>6</th>\n",
       "      <td>0</td>\n",
       "      <td>Defeat</td>\n",
       "      <td>Red</td>\n",
       "      <td>Coctel de Fruta</td>\n",
       "      <td>148</td>\n",
       "      <td>17814844</td>\n",
       "      <td>361.705901</td>\n",
       "      <td>0.992527</td>\n",
       "      <td>0.443723</td>\n",
       "      <td>1.006786</td>\n",
       "    </tr>\n",
       "    <tr>\n",
       "      <th>7</th>\n",
       "      <td>0</td>\n",
       "      <td>Defeat</td>\n",
       "      <td>Red</td>\n",
       "      <td>BumerChief</td>\n",
       "      <td>149</td>\n",
       "      <td>21567103</td>\n",
       "      <td>725.463310</td>\n",
       "      <td>1.116188</td>\n",
       "      <td>0.377319</td>\n",
       "      <td>0.898177</td>\n",
       "    </tr>\n",
       "  </tbody>\n",
       "</table>\n",
       "</div>"
      ],
      "text/plain": [
       "  TeamId   Winner TeamColor         Gamertag SpartanRank PrevTotalXP  \\\n",
       "0      1  Victory      Blue  NOpeekingDonald         147    12459398   \n",
       "1      1  Victory      Blue         Nutzmann         151    37330390   \n",
       "2      1  Victory      Blue  ElasticWhisper7         149    18251255   \n",
       "3      1  Victory      Blue          frozTyr         148    15016579   \n",
       "4      0   Defeat       Red        Temoneous         149    23826914   \n",
       "5      0   Defeat       Red        Drymander         148    15236993   \n",
       "6      0   Defeat       Red  Coctel de Fruta         148    17814844   \n",
       "7      0   Defeat       Red       BumerChief         149    21567103   \n",
       "\n",
       "   TotalTimePlayed       K/D  Accuracy   WinRate  \n",
       "0       456.592071  1.251471  0.374676  0.981502  \n",
       "1       808.399906  1.337044  0.389528  1.256020  \n",
       "2       595.876977  0.988238  0.323790  0.952705  \n",
       "3       480.642340  0.972129  0.355592  1.199535  \n",
       "4       904.733138  1.173478  0.388986  1.075825  \n",
       "5       291.370283  1.026345  0.320813  0.995110  \n",
       "6       361.705901  0.992527  0.443723  1.006786  \n",
       "7       725.463310  1.116188  0.377319  0.898177  "
      ]
     },
     "execution_count": 25,
     "metadata": {},
     "output_type": "execute_result"
    }
   ],
   "source": [
    "recent_match_stats('Drymander', back_count=1)"
   ]
  },
  {
   "cell_type": "markdown",
   "metadata": {},
   "source": [
    "# Streamlit"
   ]
  },
  {
   "cell_type": "code",
   "execution_count": null,
   "metadata": {
    "ExecuteTime": {
     "end_time": "2021-07-12T20:55:12.830433Z",
     "start_time": "2021-07-12T20:55:10.386456Z"
    }
   },
   "outputs": [],
   "source": [
    "# !pip install streamlit\n",
    "\n",
    "# !pip install --upgrade protobuf"
   ]
  },
  {
   "cell_type": "code",
   "execution_count": 17,
   "metadata": {
    "ExecuteTime": {
     "end_time": "2021-07-12T21:06:11.476999Z",
     "start_time": "2021-07-12T21:06:11.474999Z"
    }
   },
   "outputs": [],
   "source": [
    "import streamlit as st"
   ]
  },
  {
   "cell_type": "code",
   "execution_count": 27,
   "metadata": {
    "ExecuteTime": {
     "end_time": "2021-07-13T18:26:22.456887Z",
     "start_time": "2021-07-13T18:26:22.452886Z"
    }
   },
   "outputs": [],
   "source": [
    "st.title('My first fdsfdsa app')\n",
    "\n",
    "st.write(\"Here's our first attempt at using data to create a table:\")\n",
    "st.write(pd.DataFrame({\n",
    "    'first column': [1, 2, 3, 4],\n",
    "    'second column': [10, 20, 30, 40]\n",
    "    }))"
   ]
  },
  {
   "cell_type": "code",
   "execution_count": 28,
   "metadata": {
    "ExecuteTime": {
     "end_time": "2021-07-13T18:26:29.145126Z",
     "start_time": "2021-07-13T18:26:29.125121Z"
    }
   },
   "outputs": [
    {
     "data": {
      "text/plain": [
       "DeltaGenerator(_root_container=0, _provided_cursor=None, _parent=None, _block_type=None, _form_data=None)"
      ]
     },
     "execution_count": 28,
     "metadata": {},
     "output_type": "execute_result"
    }
   ],
   "source": [
    "chart_data = pd.DataFrame(\n",
    "     np.random.randn(20, 3),\n",
    "     columns=['a', 'b', 'c'])\n",
    "\n",
    "st.line_chart(chart_data)"
   ]
  },
  {
   "cell_type": "code",
   "execution_count": 29,
   "metadata": {
    "ExecuteTime": {
     "end_time": "2021-07-13T18:27:15.361563Z",
     "start_time": "2021-07-13T18:27:08.042517Z"
    }
   },
   "outputs": [
    {
     "name": "stdout",
     "output_type": "stream",
     "text": [
      "Thanks for using my script - checkout christianfjung.com for more. \n",
      "Takes 1 Argument: Name  of ipynb. To stop, CTRL-C in Terminal or Stop Button in JN. \n",
      "\n",
      "\n",
      "This application is used to convert notebook files (*.ipynb) to various other\n",
      "formats.\n",
      "\n",
      "WARNING: THE COMMANDLINE INTERFACE MAY CHANGE IN FUTURE RELEASES.\n",
      "\n",
      "Options\n",
      "=======\n",
      "The options below are convenience aliases to configurable class-options,\n",
      "as listed in the \"Equivalent to\" description-line of the aliases.\n",
      "To see all configurable class-options for some <cmd>, use:\n",
      "    <cmd> --help-all\n",
      "\n",
      "--debug\n",
      "    set log level to logging.DEBUG (maximize logging output)\n",
      "    Equivalent to: [--Application.log_level=10]\n",
      "--generate-config\n",
      "    generate default config file\n",
      "    Equivalent to: [--JupyterApp.generate_config=True]\n",
      "-y\n",
      "    Answer yes to any questions instead of prompting.\n",
      "    Equivalent to: [--JupyterApp.answer_yes=True]\n",
      "--execute\n",
      "    Execute the notebook prior to export.\n",
      "    Equivalent to: [--ExecutePreprocessor.enabled=True]\n",
      "--allow-errors\n",
      "    Continue notebook execution even if one of the cells throws an error and include the error message in the cell output (the default behaviour is to abort conversion). This flag is only relevant if '--execute' was specified, too.\n",
      "    Equivalent to: [--ExecutePreprocessor.allow_errors=True]\n",
      "--stdin\n",
      "    read a single notebook file from stdin. Write the resulting notebook with default basename 'notebook.*'\n",
      "    Equivalent to: [--NbConvertApp.from_stdin=True]\n",
      "--stdout\n",
      "    Write notebook output to stdout instead of files.\n",
      "    Equivalent to: [--NbConvertApp.writer_class=StdoutWriter]\n",
      "--inplace\n",
      "    Run nbconvert in place, overwriting the existing notebook (only \n",
      "    relevant when converting to notebook format)\n",
      "    Equivalent to: [--NbConvertApp.use_output_suffix=False --NbConvertApp.export_format=notebook --FilesWriter.build_directory=]\n",
      "--clear-output\n",
      "    Clear output of current file and save in place, \n",
      "    overwriting the existing notebook.\n",
      "    Equivalent to: [--NbConvertApp.use_output_suffix=False --NbConvertApp.export_format=notebook --FilesWriter.build_directory= --ClearOutputPreprocessor.enabled=True]\n",
      "--no-prompt\n",
      "    Exclude input and output prompts from converted document.\n",
      "    Equivalent to: [--TemplateExporter.exclude_input_prompt=True --TemplateExporter.exclude_output_prompt=True]\n",
      "--no-input\n",
      "    Exclude input cells and output prompts from converted document. \n",
      "    This mode is ideal for generating code-free reports.\n",
      "    Equivalent to: [--TemplateExporter.exclude_output_prompt=True --TemplateExporter.exclude_input=True]\n",
      "--allow-chromium-download\n",
      "    Whether to allow downloading chromium if no suitable version is found on the system.\n",
      "    Equivalent to: [--WebPDFExporter.allow_chromium_download=True]\n",
      "--log-level=<Enum>\n",
      "    Set the log level by value or name.\n",
      "    Choices: any of [0, 10, 20, 30, 40, 50, 'DEBUG', 'INFO', 'WARN', 'ERROR', 'CRITICAL']\n",
      "    Default: 30\n",
      "    Equivalent to: [--Application.log_level]\n",
      "--config=<Unicode>\n",
      "    Full path of a config file.\n",
      "    Default: ''\n",
      "    Equivalent to: [--JupyterApp.config_file]\n",
      "--to=<Unicode>\n",
      "    The export format to be used, either one of the built-in formats\n",
      "    ['asciidoc', 'custom', 'html', 'html_ch', 'html_embed', 'html_toc',\n",
      "    'html_with_lenvs', 'html_with_toclenvs', 'latex', 'latex_with_lenvs',\n",
      "    'markdown', 'notebook', 'pdf', 'python', 'rst', 'script', 'selectLanguage',\n",
      "    'slides', 'slides_with_lenvs', 'webpdf'] or a dotted object name that\n",
      "    represents the import path for an `Exporter` class\n",
      "    Default: ''\n",
      "    Equivalent to: [--NbConvertApp.export_format]\n",
      "--template=<Unicode>\n",
      "    Name of the template to use\n",
      "    Default: ''\n",
      "    Equivalent to: [--TemplateExporter.template_name]\n",
      "--template-file=<Unicode>\n",
      "    Name of the template file to use\n",
      "    Default: None\n",
      "    Equivalent to: [--TemplateExporter.template_file]\n",
      "--writer=<DottedObjectName>\n",
      "    Writer class used to write the  results of the conversion\n",
      "    Default: 'FilesWriter'\n",
      "    Equivalent to: [--NbConvertApp.writer_class]\n",
      "--post=<DottedOrNone>\n",
      "    PostProcessor class used to write the results of the conversion\n",
      "    Default: ''\n",
      "    Equivalent to: [--NbConvertApp.postprocessor_class]\n",
      "--output=<Unicode>\n",
      "    overwrite base name use for output files. can only be used when converting\n",
      "    one notebook at a time.\n",
      "    Default: ''\n",
      "    Equivalent to: [--NbConvertApp.output_base]\n",
      "--output-dir=<Unicode>\n"
     ]
    },
    {
     "name": "stderr",
     "output_type": "stream",
     "text": [
      "  % Total    % Received % Xferd  Average Speed   Time    Time     Time  Current\n",
      "                                 Dload  Upload   Total   Spent    Left  Speed\n",
      "\n",
      "  0     0    0     0    0     0      0      0 --:--:-- --:--:-- --:--:--     0\n",
      "  0     0    0     0    0     0      0      0 --:--:-- --:--:-- --:--:--     0\n",
      "  0     0    0     0    0     0      0      0 --:--:--  0:00:01 --:--:--     0\n",
      "100   291  100   291    0     0    130      0  0:00:02  0:00:02 --:--:--   130\n",
      "100   291  100   291    0     0    130      0  0:00:02  0:00:02 --:--:--   130\n",
      "[NbConvertApp] WARNING | pattern 'YOURNOTEBOOKNAME.ipynb' matched no files\n",
      "awk: fatal: cannot open file `YOURNOTEBOOKNAME.py' for reading (No such file or directory)\n",
      "Usage: streamlit run [OPTIONS] TARGET [ARGS]...\n",
      "\n",
      "Error: Invalid value: File does not exist: app.py\n"
     ]
    },
    {
     "name": "stdout",
     "output_type": "stream",
     "text": [
      "    Directory to write output(s) to. Defaults to output to the directory of each\n",
      "    notebook. To recover previous default behaviour (outputting to the current\n",
      "    working directory) use . as the flag value.\n",
      "    Default: ''\n",
      "    Equivalent to: [--FilesWriter.build_directory]\n",
      "--reveal-prefix=<Unicode>\n",
      "    The URL prefix for reveal.js (version 3.x). This defaults to the reveal CDN,\n",
      "    but can be any url pointing to a copy  of reveal.js.\n",
      "    For speaker notes to work, this must be a relative path to a local  copy of\n",
      "    reveal.js: e.g., \"reveal.js\".\n",
      "    If a relative path is given, it must be a subdirectory of the current\n",
      "    directory (from which the server is run).\n",
      "    See the usage documentation\n",
      "    (https://nbconvert.readthedocs.io/en/latest/usage.html#reveal-js-html-\n",
      "    slideshow) for more details.\n",
      "    Default: ''\n",
      "    Equivalent to: [--SlidesExporter.reveal_url_prefix]\n",
      "--nbformat=<Enum>\n",
      "    The nbformat version to write. Use this to downgrade notebooks.\n",
      "    Choices: any of [1, 2, 3, 4]\n",
      "    Default: 4\n",
      "    Equivalent to: [--NotebookExporter.nbformat_version]\n",
      "\n",
      "Examples\n",
      "--------\n",
      "\n",
      "    The simplest way to use nbconvert is\n",
      "    \n",
      "    > jupyter nbconvert mynotebook.ipynb --to html\n",
      "    \n",
      "    Options include ['asciidoc', 'custom', 'html', 'html_ch', 'html_embed', 'html_toc', 'html_with_lenvs', 'html_with_toclenvs', 'latex', 'latex_with_lenvs', 'markdown', 'notebook', 'pdf', 'python', 'rst', 'script', 'selectLanguage', 'slides', 'slides_with_lenvs', 'webpdf'].\n",
      "    \n",
      "    > jupyter nbconvert --to latex mynotebook.ipynb\n",
      "    \n",
      "    Both HTML and LaTeX support multiple output templates. LaTeX includes\n",
      "    'base', 'article' and 'report'.  HTML includes 'basic' and 'full'. You\n",
      "    can specify the flavor of the format used.\n",
      "    \n",
      "    > jupyter nbconvert --to html --template lab mynotebook.ipynb\n",
      "    \n",
      "    You can also pipe the output to stdout, rather than a file\n",
      "    \n",
      "    > jupyter nbconvert mynotebook.ipynb --stdout\n",
      "    \n",
      "    PDF is generated via latex\n",
      "    \n",
      "    > jupyter nbconvert mynotebook.ipynb --to pdf\n",
      "    \n",
      "    You can get (and serve) a Reveal.js-powered slideshow\n",
      "    \n",
      "    > jupyter nbconvert myslides.ipynb --to slides --post serve\n",
      "    \n",
      "    Multiple notebooks can be given at the command line in a couple of \n",
      "    different ways:\n",
      "    \n",
      "    > jupyter nbconvert notebook*.ipynb\n",
      "    > jupyter nbconvert notebook1.ipynb notebook2.ipynb\n",
      "    \n",
      "    or you can specify the notebooks list in a config file, containing::\n",
      "    \n",
      "        c.NbConvertApp.notebooks = [\"my_notebook.ipynb\"]\n",
      "    \n",
      "    > jupyter nbconvert --config mycfg.py\n",
      "\n",
      "To see all available configurables, use `--help-all`.\n",
      "\n"
     ]
    }
   ],
   "source": [
    "! curl  https://scripts.christianfjung.com/JN-ST.sh | bash -s YOURNOTEBOOKNAME"
   ]
  },
  {
   "cell_type": "code",
   "execution_count": 30,
   "metadata": {
    "ExecuteTime": {
     "end_time": "2021-07-13T18:32:07.109599Z",
     "start_time": "2021-07-13T18:32:02.269522Z"
    }
   },
   "outputs": [
    {
     "name": "stdout",
     "output_type": "stream",
     "text": [
      "This application is used to convert notebook files (*.ipynb) to various other"
     ]
    },
    {
     "name": "stderr",
     "output_type": "stream",
     "text": [
      "[NbConvertApp] WARNING | pattern 'Single' matched no files\n",
      "[NbConvertApp] WARNING | pattern 'Match.ipynb' matched no files\n"
     ]
    },
    {
     "name": "stdout",
     "output_type": "stream",
     "text": [
      "\n",
      "formats.\n",
      "\n",
      "WARNING: THE COMMANDLINE INTERFACE MAY CHANGE IN FUTURE RELEASES.\n",
      "\n",
      "Options\n",
      "=======\n",
      "The options below are convenience aliases to configurable class-options,\n",
      "as listed in the \"Equivalent to\" description-line of the aliases.\n",
      "To see all configurable class-options for some <cmd>, use:\n",
      "    <cmd> --help-all\n",
      "\n",
      "--debug\n",
      "    set log level to logging.DEBUG (maximize logging output)\n",
      "    Equivalent to: [--Application.log_level=10]\n",
      "--generate-config\n",
      "    generate default config file\n",
      "    Equivalent to: [--JupyterApp.generate_config=True]\n",
      "-y\n",
      "    Answer yes to any questions instead of prompting.\n",
      "    Equivalent to: [--JupyterApp.answer_yes=True]\n",
      "--execute\n",
      "    Execute the notebook prior to export.\n",
      "    Equivalent to: [--ExecutePreprocessor.enabled=True]\n",
      "--allow-errors\n",
      "    Continue notebook execution even if one of the cells throws an error and include the error message in the cell output (the default behaviour is to abort conversion). This flag is only relevant if '--execute' was specified, too.\n",
      "    Equivalent to: [--ExecutePreprocessor.allow_errors=True]\n",
      "--stdin\n",
      "    read a single notebook file from stdin. Write the resulting notebook with default basename 'notebook.*'\n",
      "    Equivalent to: [--NbConvertApp.from_stdin=True]\n",
      "--stdout\n",
      "    Write notebook output to stdout instead of files.\n",
      "    Equivalent to: [--NbConvertApp.writer_class=StdoutWriter]\n",
      "--inplace\n",
      "    Run nbconvert in place, overwriting the existing notebook (only \n",
      "    relevant when converting to notebook format)\n",
      "    Equivalent to: [--NbConvertApp.use_output_suffix=False --NbConvertApp.export_format=notebook --FilesWriter.build_directory=]\n",
      "--clear-output\n",
      "    Clear output of current file and save in place, \n",
      "    overwriting the existing notebook.\n",
      "    Equivalent to: [--NbConvertApp.use_output_suffix=False --NbConvertApp.export_format=notebook --FilesWriter.build_directory= --ClearOutputPreprocessor.enabled=True]\n",
      "--no-prompt\n",
      "    Exclude input and output prompts from converted document.\n",
      "    Equivalent to: [--TemplateExporter.exclude_input_prompt=True --TemplateExporter.exclude_output_prompt=True]\n",
      "--no-input\n",
      "    Exclude input cells and output prompts from converted document. \n",
      "    This mode is ideal for generating code-free reports.\n",
      "    Equivalent to: [--TemplateExporter.exclude_output_prompt=True --TemplateExporter.exclude_input=True]\n",
      "--allow-chromium-download\n",
      "    Whether to allow downloading chromium if no suitable version is found on the system.\n",
      "    Equivalent to: [--WebPDFExporter.allow_chromium_download=True]\n",
      "--log-level=<Enum>\n",
      "    Set the log level by value or name.\n",
      "    Choices: any of [0, 10, 20, 30, 40, 50, 'DEBUG', 'INFO', 'WARN', 'ERROR', 'CRITICAL']\n",
      "    Default: 30\n",
      "    Equivalent to: [--Application.log_level]\n",
      "--config=<Unicode>\n",
      "    Full path of a config file.\n",
      "    Default: ''\n",
      "    Equivalent to: [--JupyterApp.config_file]\n",
      "--to=<Unicode>\n",
      "    The export format to be used, either one of the built-in formats\n",
      "    ['asciidoc', 'custom', 'html', 'html_ch', 'html_embed', 'html_toc',\n",
      "    'html_with_lenvs', 'html_with_toclenvs', 'latex', 'latex_with_lenvs',\n",
      "    'markdown', 'notebook', 'pdf', 'python', 'rst', 'script', 'selectLanguage',\n",
      "    'slides', 'slides_with_lenvs', 'webpdf'] or a dotted object name that\n",
      "    represents the import path for an `Exporter` class\n",
      "    Default: ''\n",
      "    Equivalent to: [--NbConvertApp.export_format]\n",
      "--template=<Unicode>\n",
      "    Name of the template to use\n",
      "    Default: ''\n",
      "    Equivalent to: [--TemplateExporter.template_name]\n",
      "--template-file=<Unicode>\n",
      "    Name of the template file to use\n",
      "    Default: None\n",
      "    Equivalent to: [--TemplateExporter.template_file]\n",
      "--writer=<DottedObjectName>\n",
      "    Writer class used to write the  results of the conversion\n",
      "    Default: 'FilesWriter'\n",
      "    Equivalent to: [--NbConvertApp.writer_class]\n",
      "--post=<DottedOrNone>\n",
      "    PostProcessor class used to write the results of the conversion\n",
      "    Default: ''\n",
      "    Equivalent to: [--NbConvertApp.postprocessor_class]\n",
      "--output=<Unicode>\n",
      "    overwrite base name use for output files. can only be used when converting\n",
      "    one notebook at a time.\n",
      "    Default: ''\n",
      "    Equivalent to: [--NbConvertApp.output_base]\n",
      "--output-dir=<Unicode>\n",
      "    Directory to write output(s) to. Defaults to output to the directory of each\n",
      "    notebook. To recover previous default behaviour (outputting to the current\n",
      "    working directory) use . as the flag value.\n",
      "    Default: ''\n",
      "    Equivalent to: [--FilesWriter.build_directory]\n",
      "--reveal-prefix=<Unicode>\n",
      "    The URL prefix for reveal.js (version 3.x). This defaults to the reveal CDN,\n",
      "    but can be any url pointing to a copy  of reveal.js.\n",
      "    For speaker notes to work, this must be a relative path to a local  copy of\n",
      "    reveal.js: e.g., \"reveal.js\".\n",
      "    If a relative path is given, it must be a subdirectory of the current\n",
      "    directory (from which the server is run).\n",
      "    See the usage documentation\n",
      "    (https://nbconvert.readthedocs.io/en/latest/usage.html#reveal-js-html-\n",
      "    slideshow) for more details.\n",
      "    Default: ''\n",
      "    Equivalent to: [--SlidesExporter.reveal_url_prefix]\n",
      "--nbformat=<Enum>\n",
      "    The nbformat version to write. Use this to downgrade notebooks.\n",
      "    Choices: any of [1, 2, 3, 4]\n",
      "    Default: 4\n",
      "    Equivalent to: [--NotebookExporter.nbformat_version]\n",
      "\n",
      "Examples\n",
      "--------\n",
      "\n",
      "    The simplest way to use nbconvert is\n",
      "    \n",
      "    > jupyter nbconvert mynotebook.ipynb --to html\n",
      "    \n",
      "    Options include ['asciidoc', 'custom', 'html', 'html_ch', 'html_embed', 'html_toc', 'html_with_lenvs', 'html_with_toclenvs', 'latex', 'latex_with_lenvs', 'markdown', 'notebook', 'pdf', 'python', 'rst', 'script', 'selectLanguage', 'slides', 'slides_with_lenvs', 'webpdf'].\n",
      "    \n",
      "    > jupyter nbconvert --to latex mynotebook.ipynb\n",
      "    \n",
      "    Both HTML and LaTeX support multiple output templates. LaTeX includes\n",
      "    'base', 'article' and 'report'.  HTML includes 'basic' and 'full'. You\n",
      "    can specify the flavor of the format used.\n",
      "    \n",
      "    > jupyter nbconvert --to html --template lab mynotebook.ipynb\n",
      "    \n",
      "    You can also pipe the output to stdout, rather than a file\n",
      "    \n",
      "    > jupyter nbconvert mynotebook.ipynb --stdout\n",
      "    \n",
      "    PDF is generated via latex\n",
      "    \n",
      "    > jupyter nbconvert mynotebook.ipynb --to pdf\n",
      "    \n",
      "    You can get (and serve) a Reveal.js-powered slideshow\n",
      "    \n",
      "    > jupyter nbconvert myslides.ipynb --to slides --post serve\n",
      "    \n",
      "    Multiple notebooks can be given at the command line in a couple of \n",
      "    different ways:\n",
      "    \n",
      "    > jupyter nbconvert notebook*.ipynb\n",
      "    > jupyter nbconvert notebook1.ipynb notebook2.ipynb\n",
      "    \n",
      "    or you can specify the notebooks list in a config file, containing::\n",
      "    \n",
      "        c.NbConvertApp.notebooks = [\"my_notebook.ipynb\"]\n",
      "    \n",
      "    > jupyter nbconvert --config mycfg.py\n",
      "\n",
      "To see all available configurables, use `--help-all`.\n",
      "\n"
     ]
    },
    {
     "name": "stderr",
     "output_type": "stream",
     "text": [
      "awk: fatal: cannot open file `Single' for reading (No such file or directory)\n",
      "Usage: streamlit run [OPTIONS] TARGET [ARGS]...\n",
      "\n",
      "Error: Invalid value: File does not exist: app.py\n"
     ]
    }
   ],
   "source": [
    "!jupyter nbconvert   --to script Single Match.ipynb\n",
    "!awk '!/ipython/' Single Match.py >  temp.py && mv temp.py app.py && rm YOURNOTEBOOKNAME.py\n",
    "!streamlit run app.py\n"
   ]
  },
  {
   "cell_type": "code",
   "execution_count": null,
   "metadata": {},
   "outputs": [],
   "source": []
  },
  {
   "cell_type": "code",
   "execution_count": null,
   "metadata": {},
   "outputs": [],
   "source": []
  },
  {
   "cell_type": "markdown",
   "metadata": {},
   "source": [
    "# Unused Code"
   ]
  },
  {
   "cell_type": "code",
   "execution_count": null,
   "metadata": {},
   "outputs": [],
   "source": [
    "for variant in players_stats['Results'][0]['Result']['ArenaStats']['ArenaGameBaseVariantStats']:\n",
    "    if variant['GameBaseVariantId'] == variant_id:\n",
    "        variant_stats = variant\n",
    "    else:\n",
    "        continue\n",
    "        \n",
    "variant_stats['TotalKills']"
   ]
  },
  {
   "cell_type": "code",
   "execution_count": null,
   "metadata": {},
   "outputs": [],
   "source": []
  },
  {
   "cell_type": "markdown",
   "metadata": {},
   "source": [
    "## All stats"
   ]
  },
  {
   "cell_type": "code",
   "execution_count": null,
   "metadata": {},
   "outputs": [],
   "source": [
    "# pip install isodate\n",
    "\n",
    "import isodate\n",
    "\n",
    "variant_dic = {}\n",
    "variant_dic['Gamertag'] = players_stats['Results'][0]['Id']\n",
    "variant_dic['TotalTimePlayed']= isodate.parse_duration(variant_stats['TotalTimePlayed']).total_seconds() / 3600\n",
    "variant_dic['K/D'] = variant_stats['TotalKills'] / variant_stats['TotalDeaths']\n",
    "variant_dic['Accuracy'] = variant_stats['TotalShotsLanded'] / variant_stats['TotalShotsFired']\n",
    "variant_dic['WinRate'] = variant_stats['TotalGamesWon'] / variant_stats['TotalGamesLost']\n",
    "\n",
    "variant_dic"
   ]
  },
  {
   "cell_type": "code",
   "execution_count": null,
   "metadata": {},
   "outputs": [],
   "source": [
    "vdf.append(variant_dic, ignore_index=True)"
   ]
  },
  {
   "cell_type": "markdown",
   "metadata": {},
   "source": [
    "## Additional Player History Stats"
   ]
  },
  {
   "cell_type": "code",
   "execution_count": null,
   "metadata": {},
   "outputs": [],
   "source": [
    "# variant_dic['TotalHeadshots']= variant_stats['TotalHeadshots']\n",
    "# variant_dic['TotalWeaponDamage']= variant_stats['TotalWeaponDamage']\n",
    "# variant_dic['TotalShotsFired']= variant_stats['TotalShotsFired']\n",
    "# variant_dic['TotalShotsLanded']= variant_stats['TotalShotsLanded']\n",
    "# variant_dic['TotalMeleeKills']= variant_stats['TotalMeleeKills']\n",
    "# variant_dic['TotalMeleeDamage']= variant_stats['TotalMeleeDamage']\n",
    "# variant_dic['TotalAssassinations']= variant_stats['TotalAssassinations']\n",
    "# variant_dic['TotalGroundPoundKills']= variant_stats['TotalGroundPoundKills']\n",
    "# variant_dic['TotalGroundPoundDamage']= variant_stats['TotalGroundPoundDamage']\n",
    "# variant_dic['TotalShoulderBashKills']= variant_stats['TotalShoulderBashKills']\n",
    "# variant_dic['TotalShoulderBashDamage']= variant_stats['TotalShoulderBashDamage']\n",
    "# variant_dic['TotalGrenadeDamage']= variant_stats['TotalGrenadeDamage']\n",
    "# variant_dic['TotalPowerWeaponKills']= variant_stats['TotalPowerWeaponKills']\n",
    "# variant_dic['TotalPowerWeaponDamage']= variant_stats['TotalPowerWeaponDamage']\n",
    "# variant_dic['TotalPowerWeaponGrabs']= variant_stats['TotalPowerWeaponGrabs']\n",
    "# variant_dic['TotalPowerWeaponPossessionTime']= isodate.parse_duration(variant_stats['TotalPowerWeaponPossessionTime']).total_seconds() / 3600\n",
    "# variant_dic['TotalDeaths']= variant_stats['TotalDeaths']\n",
    "# variant_dic['TotalAssists']= variant_stats['TotalAssists']\n",
    "# variant_dic['TotalGamesCompleted']= variant_stats['TotalGamesCompleted']\n",
    "# variant_dic['TotalGamesWon']= variant_stats['TotalGamesWon']\n",
    "# variant_dic['TotalGamesLost']= variant_stats['TotalGamesLost']\n",
    "# variant_dic['TotalGamesTied']= variant_stats['TotalGamesTied']\n",
    "# variant_dic['TotalGrenadeKills']= variant_stats['TotalGrenadeKills']\n",
    "# variant_dic['TotalKills']= variant_stats['TotalKills']"
   ]
  },
  {
   "cell_type": "markdown",
   "metadata": {},
   "source": [
    "## Build base match dataframe from pull_recent_match"
   ]
  },
  {
   "cell_type": "code",
   "execution_count": null,
   "metadata": {},
   "outputs": [],
   "source": [
    "match_results = pull_recent_match(2494)\n",
    "\n",
    "i = 0\n",
    "\n",
    "df_match = pd.DataFrame()\n",
    "columns = [\n",
    "    'TeamId',\n",
    "    'Gamertag',\n",
    "    'SpartanRank',\n",
    "    'PrevTotalXP',\n",
    "]\n",
    "df_match = pd.DataFrame(columns = columns)\n",
    "\n",
    "for player in match_results['PlayerStats']:\n",
    "\n",
    "    player_dic = {}\n",
    "    # Team ID\n",
    "    player_dic['TeamId'] = match_results['PlayerStats'][i]['TeamId']\n",
    "    # Gamer Tag\n",
    "    player_dic['Gamertag'] = match_results['PlayerStats'][i]['Player']['Gamertag']\n",
    "    # Spartan Rank\n",
    "    player_dic['SpartanRank'] = match_results['PlayerStats'][i]['XpInfo']['SpartanRank']\n",
    "    # Previous Total XP\n",
    "    player_dic['PrevTotalXP'] = match_results['PlayerStats'][i]['XpInfo']['PrevTotalXP']\n",
    "    df_match = df_match.append(player_dic, ignore_index=True)\n",
    "    i += 1\n",
    "\n",
    "# Define winner\n",
    "\n",
    "playerteam = df_match.loc[df_match['Gamertag'] == user, 'TeamId'].values[0]\n",
    "\n",
    "if match_results['TeamStats'][0]['TeamId'] == playerteam:\n",
    "    playerteam_stats = match_results['TeamStats'][0]\n",
    "    enemyteam_stats = match_results['TeamStats'][1]\n",
    "else: \n",
    "    playerteam_stats = match_results['TeamStats'][1]\n",
    "    enemyteam_stats = match_results['TeamStats'][0]\n",
    "\n",
    "print(playerteam_stats['Rank'])\n",
    "print(enemyteam_stats['Rank'])\n",
    "\n",
    "# Tie\n",
    "if playerteam_stats['Rank'] == 1 and enemyteam_stats['Rank'] == 1:\n",
    "    winner = 'Tie'\n",
    "# Player wins\n",
    "elif playerteam_stats['Rank'] == 1 and enemyteam_stats['Rank'] == 2:\n",
    "    winner = 'Player'\n",
    "# Enemy wins\n",
    "elif playerteam_stats['Rank'] == 2 and enemyteam_stats['Rank'] == 1:\n",
    "    winner = 'Enemy'\n",
    "# Error handling\n",
    "else:\n",
    "    winner = 'Error determining winner'\n",
    "\n",
    "print(f'{winner} won the game')\n",
    "\n",
    "df_match"
   ]
  },
  {
   "cell_type": "markdown",
   "metadata": {},
   "source": [
    "## Player History Base Code"
   ]
  },
  {
   "cell_type": "code",
   "execution_count": null,
   "metadata": {},
   "outputs": [],
   "source": []
  },
  {
   "cell_type": "code",
   "execution_count": null,
   "metadata": {
    "ExecuteTime": {
     "end_time": "2021-07-12T18:04:09.433111Z",
     "start_time": "2021-07-12T18:04:09.397101Z"
    }
   },
   "outputs": [],
   "source": [
    "vdf_columns = [\n",
    "    'Gamertag',\n",
    "    'TotalTimePlayed',\n",
    "    'K/D',\n",
    "    'Accuracy',\n",
    "    'WinRate',\n",
    "]\n",
    "\n",
    "vdf = pd.DataFrame(columns = vdf_columns)\n",
    "\n",
    "i = 0\n",
    "\n",
    "for player in player_history['Results']:\n",
    "\n",
    "    \n",
    "    for variant in player['Result']['ArenaStats']['ArenaGameBaseVariantStats']:\n",
    "        if variant['GameBaseVariantId'] == variant_id:\n",
    "            variant_stats = variant\n",
    "#         else:\n",
    "#             continue\n",
    "            \n",
    "    variant_dic = {}\n",
    "    variant_dic['Gamertag'] = player_history['Results'][i]['Id']\n",
    "    variant_dic['TotalTimePlayed']= isodate.parse_duration(variant_stats['TotalTimePlayed']).total_seconds() / 3600\n",
    "    variant_dic['K/D'] = variant_stats['TotalKills'] / variant_stats['TotalDeaths']\n",
    "    variant_dic['Accuracy'] = variant_stats['TotalShotsLanded'] / variant_stats['TotalShotsFired']\n",
    "    variant_dic['WinRate'] = variant_stats['TotalGamesWon'] / variant_stats['TotalGamesLost']\n",
    "    vdf = vdf.append(variant_dic, True)\n",
    "    \n",
    "    i += 1\n",
    "    \n",
    "vdf"
   ]
  },
  {
   "cell_type": "markdown",
   "metadata": {},
   "source": [
    "## Full Match Detail Function Diagnostics"
   ]
  },
  {
   "cell_type": "code",
   "execution_count": null,
   "metadata": {
    "ExecuteTime": {
     "end_time": "2021-07-12T19:23:33.761537Z",
     "start_time": "2021-07-12T19:23:33.751534Z"
    }
   },
   "outputs": [],
   "source": [
    "base_df"
   ]
  },
  {
   "cell_type": "code",
   "execution_count": null,
   "metadata": {
    "ExecuteTime": {
     "end_time": "2021-07-12T19:23:36.648205Z",
     "start_time": "2021-07-12T19:23:36.645213Z"
    }
   },
   "outputs": [],
   "source": [
    "player_list"
   ]
  },
  {
   "cell_type": "code",
   "execution_count": null,
   "metadata": {
    "ExecuteTime": {
     "end_time": "2021-07-12T19:23:39.162055Z",
     "start_time": "2021-07-12T19:23:38.983014Z"
    }
   },
   "outputs": [],
   "source": [
    "player_history['Results'][0]"
   ]
  },
  {
   "cell_type": "code",
   "execution_count": null,
   "metadata": {
    "ExecuteTime": {
     "end_time": "2021-07-12T19:23:48.079191Z",
     "start_time": "2021-07-12T19:23:48.070195Z"
    }
   },
   "outputs": [],
   "source": [
    "history_df # history DF not responding to back_count = 20"
   ]
  },
  {
   "cell_type": "code",
   "execution_count": null,
   "metadata": {
    "ExecuteTime": {
     "end_time": "2021-07-12T19:23:49.156042Z",
     "start_time": "2021-07-12T19:23:49.143041Z"
    }
   },
   "outputs": [],
   "source": [
    "full_stats_df"
   ]
  },
  {
   "cell_type": "code",
   "execution_count": null,
   "metadata": {},
   "outputs": [],
   "source": []
  },
  {
   "cell_type": "code",
   "execution_count": null,
   "metadata": {},
   "outputs": [],
   "source": []
  },
  {
   "cell_type": "code",
   "execution_count": null,
   "metadata": {},
   "outputs": [],
   "source": [
    "# player_df_spartanrank = player_df.copy()\n",
    "\n",
    "row_count = 0\n",
    "\n",
    "for match in tqdm(match_details):\n",
    "# for match in tqdm(mds):\n",
    "    \n",
    "#     try:\n",
    "        data = match\n",
    "        df_match = pd.DataFrame()\n",
    "        columns = [\n",
    "            'TeamId',\n",
    "            'Gamertag',\n",
    "            'SpartanRank',\n",
    "            'PrevTotalXP',\n",
    "        ]\n",
    "        df_match = pd.DataFrame(columns = columns)\n",
    "        i = 0\n",
    "\n",
    "        if len(data['PlayerStats']) != 8:\n",
    "            continue\n",
    "\n",
    "        for player in data['PlayerStats']:\n",
    "\n",
    "            player_dic = {}\n",
    "            # Team ID\n",
    "            player_dic['TeamId'] = data['PlayerStats'][i]['TeamId']\n",
    "            if player_dic['TeamId'] not in (0, 1):\n",
    "                continue\n",
    "            # Gamer Tag\n",
    "            player_dic['Gamertag'] = data['PlayerStats'][i]['Player']['Gamertag']\n",
    "            # Spartan Rank\n",
    "            player_dic['SpartanRank'] = data['PlayerStats'][i]['XpInfo']['SpartanRank']\n",
    "            # Previous Total XP\n",
    "            player_dic['PrevTotalXP'] = data['PlayerStats'][i]['XpInfo']['PrevTotalXP']\n",
    "            df_match = df_match.append(player_dic, ignore_index=True)\n",
    "            i += 1\n",
    "\n",
    "            playerteam = df_match.loc[df_match['Gamertag'] == user, 'TeamId'].values[0]\n",
    "\n",
    "            if data['TeamStats'][0]['Rank'] == 1:\n",
    "                winner = 0\n",
    "            else: winner = 1\n",
    "\n",
    "            if winner == playerteam:\n",
    "                player_win = 1\n",
    "            else:\n",
    "                player_win = 0\n",
    "            \n",
    "        player_df = df_match.loc[df_match['TeamId'] == playerteam]\n",
    "        enemy_df = df_match.loc[df_match['TeamId'] != playerteam]\n",
    "\n",
    "        row_list = []\n",
    "        row_list.append(match['MatchId'])\n",
    "        row_list.append(player_win)\n",
    "        for row in range(len(player_df)):\n",
    "            row_list.extend(list(player_df.iloc[row].values[1:]))\n",
    "        for row in range(len(enemy_df)):\n",
    "            row_list.extend(list(enemy_df.iloc[row].values[1:]))\n",
    "\n",
    "        match_details_df.loc[row_count] = row_list\n",
    "#         print(row_list)\n",
    "        row_count += 1\n",
    " \n",
    "#     except:\n",
    "#         continue\n",
    "    \n",
    "match_details_df"
   ]
  }
 ],
 "metadata": {
  "kernelspec": {
   "display_name": "learn-env",
   "language": "python",
   "name": "learn-env"
  },
  "language_info": {
   "codemirror_mode": {
    "name": "ipython",
    "version": 3
   },
   "file_extension": ".py",
   "mimetype": "text/x-python",
   "name": "python",
   "nbconvert_exporter": "python",
   "pygments_lexer": "ipython3",
   "version": "3.8.5"
  },
  "toc": {
   "base_numbering": 1,
   "nav_menu": {},
   "number_sections": true,
   "sideBar": true,
   "skip_h1_title": false,
   "title_cell": "Table of Contents",
   "title_sidebar": "Contents",
   "toc_cell": false,
   "toc_position": {
    "height": "calc(100% - 180px)",
    "left": "10px",
    "top": "150px",
    "width": "193.812px"
   },
   "toc_section_display": true,
   "toc_window_display": true
  }
 },
 "nbformat": 4,
 "nbformat_minor": 4
}
