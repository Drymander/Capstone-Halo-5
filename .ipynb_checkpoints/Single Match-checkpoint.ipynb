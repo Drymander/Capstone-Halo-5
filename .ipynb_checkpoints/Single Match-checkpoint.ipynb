{
 "cells": [
  {
   "cell_type": "code",
   "execution_count": null,
   "metadata": {
    "ExecuteTime": {
     "end_time": "2021-07-19T01:12:11.167645Z",
     "start_time": "2021-07-19T01:12:11.164643Z"
    }
   },
   "outputs": [],
   "source": [
    "# import jupyterthemes as jt\n",
    "\n",
    "# !jt -t chesterish"
   ]
  },
  {
   "cell_type": "code",
   "execution_count": 1,
   "metadata": {
    "ExecuteTime": {
     "end_time": "2021-07-19T17:08:56.978360Z",
     "start_time": "2021-07-19T17:08:55.636068Z"
    }
   },
   "outputs": [],
   "source": [
    "import requests\n",
    "import pandas as pd\n",
    "import matplotlib.pyplot as plt\n",
    "%matplotlib inline\n",
    "import seaborn as sns\n",
    "import numpy as np\n",
    "\n",
    "import json\n",
    "def get_keys(path):\n",
    "    with open(path) as f:\n",
    "        return json.load(f)\n",
    "# keys = get_keys(\"/Users/Johnny/.secret/yelp_api.json\")\n",
    "# api_key = keys['api_key']\n",
    "# pip install tmdbsimple #Ctrl+? this line to install tmdbsimple\n",
    "import tmdbsimple as tmdb\n",
    "# tmdb.API_KEY = api_key\n",
    "\n",
    "scrape = False\n",
    "\n",
    "import ast\n",
    "import time\n",
    "import http.client, urllib.request, urllib.parse, urllib.error, base64\n",
    "\n",
    "api_key = 'b73b371a458a4cb78d9c68902188098a'\n",
    "\n",
    "\n",
    "# user = 'Drymander'\n",
    "\n",
    "import pickle\n",
    "from tqdm import tqdm\n",
    "\n",
    "# pip install isodate\n",
    "\n",
    "import isodate"
   ]
  },
  {
   "cell_type": "code",
   "execution_count": 2,
   "metadata": {
    "ExecuteTime": {
     "end_time": "2021-07-19T17:08:58.881487Z",
     "start_time": "2021-07-19T17:08:56.979360Z"
    }
   },
   "outputs": [
    {
     "name": "stderr",
     "output_type": "stream",
     "text": [
      "[nltk_data] Downloading package stopwords to\n",
      "[nltk_data]     C:\\Users\\johnn\\AppData\\Roaming\\nltk_data...\n",
      "[nltk_data]   Package stopwords is already up-to-date!\n"
     ]
    }
   ],
   "source": [
    "#Standard python libraries\n",
    "import pandas as pd\n",
    "import seaborn as sns\n",
    "# sns.set_context('talk')\n",
    "import matplotlib.pyplot as plt\n",
    "import numpy as np\n",
    "import warnings\n",
    "warnings.filterwarnings(action='ignore') \n",
    "\n",
    "# Preprocessing tools\n",
    "from sklearn.model_selection import train_test_split,cross_val_predict,cross_validate\n",
    "from sklearn.preprocessing import MinMaxScaler,StandardScaler,OneHotEncoder\n",
    "scaler = StandardScaler()\n",
    "from sklearn import metrics\n",
    "\n",
    "# Models & Utilities\n",
    "from sklearn.dummy import DummyClassifier\n",
    "from sklearn.linear_model import LogisticRegression,LogisticRegressionCV\n",
    "from sklearn.ensemble import RandomForestClassifier\n",
    "from sklearn.model_selection import train_test_split\n",
    "from sklearn.linear_model import LogisticRegression\n",
    "from sklearn.metrics import classification_report\n",
    "from sklearn.model_selection import cross_val_score\n",
    "from xgboost import XGBClassifier\n",
    "from sklearn.model_selection import GridSearchCV\n",
    "from sklearn.metrics import plot_confusion_matrix\n",
    "from sklearn.metrics import accuracy_score, confusion_matrix, classification_report, precision_score, recall_score, f1_score\n",
    "\n",
    "# Warnings\n",
    "import warnings\n",
    "warnings.filterwarnings(action='ignore') \n",
    "\n",
    "# NLP Libraries\n",
    "import nltk\n",
    "import collections\n",
    "# nltk.download('punkt')\n",
    "from sklearn.manifold import TSNE\n",
    "from nltk.tokenize import word_tokenize\n",
    "from nltk import regexp_tokenize\n",
    "import re\n",
    "from nltk.corpus import stopwords\n",
    "from nltk.collocations import *\n",
    "from nltk import FreqDist\n",
    "from nltk import word_tokenize\n",
    "from nltk import ngrams\n",
    "import string\n",
    "from sklearn.feature_extraction.text import CountVectorizer\n",
    "from sklearn.feature_extraction.text import TfidfVectorizer\n",
    "nltk.download('stopwords')\n",
    "# !pip install wordcloud\n",
    "from wordcloud import WordCloud"
   ]
  },
  {
   "cell_type": "markdown",
   "metadata": {},
   "source": [
    "# Pull Most Recent Match Details\n",
    "\n",
    "This is a combination of two API calls - the first is to pull the latest match for a given player based on their gamertag.  This provides the Match ID, and the second API call pulls the data using the Match ID. "
   ]
  },
  {
   "cell_type": "code",
   "execution_count": 10,
   "metadata": {
    "ExecuteTime": {
     "end_time": "2021-07-19T17:15:18.486967Z",
     "start_time": "2021-07-19T17:15:18.482974Z"
    }
   },
   "outputs": [
    {
     "data": {
      "text/plain": [
       "'this+is+a+test'"
      ]
     },
     "execution_count": 10,
     "metadata": {},
     "output_type": "execute_result"
    }
   ],
   "source": [
    "# Prepare gamertag for API\n",
    "\n",
    "def gamertag_for_api(gamertag):\n",
    "    gamertag = gamertag.replace(' ','+')\n",
    "    return gamertag\n",
    "\n",
    "gamertag_for_api('this is a test')"
   ]
  },
  {
   "cell_type": "code",
   "execution_count": 11,
   "metadata": {
    "ExecuteTime": {
     "end_time": "2021-07-19T17:15:20.036419Z",
     "start_time": "2021-07-19T17:15:18.708086Z"
    }
   },
   "outputs": [],
   "source": [
    "def pull_recent_match(how_recent, api_key=api_key, explore=False, gamertag='Drymander'):\n",
    "    \n",
    "    gamertag = gamertag_for_api(gamertag)\n",
    "    \n",
    "    headers = {\n",
    "        # Request headers\n",
    "        'Ocp-Apim-Subscription-Key': api_key,\n",
    "    }\n",
    "\n",
    "    params = urllib.parse.urlencode({\n",
    "        # Request parameters\n",
    "        'modes': 'arena',\n",
    "        'start': how_recent,\n",
    "        'count': 1,\n",
    "        'include-times': True,\n",
    "    })\n",
    "\n",
    "    try:\n",
    "        conn = http.client.HTTPSConnection('www.haloapi.com')\n",
    "        conn.request(\"GET\", f\"/stats/h5/players/{gamertag}/matches?%s\" % params, \"{body}\", headers)\n",
    "        response = conn.getresponse()\n",
    "        latest_match = json.loads(response.read())\n",
    "\n",
    "        match_id = latest_match['Results'][0]['Id']['MatchId']\n",
    "        match_date = latest_match['Results'][0]['MatchCompletedDate']['ISO8601Date']\n",
    "\n",
    "        time.sleep(1.01)\n",
    "\n",
    "        conn.request(\"GET\", f\"/stats/h5/arena/matches/{match_id}?%s\" % params, \"{body}\", headers)\n",
    "        response = conn.getresponse()\n",
    "        data = response.read()\n",
    "        \n",
    "        if explore == True:\n",
    "            print(data)\n",
    "        else:\n",
    "            match_results = json.loads(data)\n",
    "            match_results['MatchId'] = match_id\n",
    "            match_results['Date'] = match_date\n",
    "        conn.close()\n",
    "    except Exception as e:\n",
    "        print(f\"[Errno {0}] {1}\".format(e.errno, e.strerror))\n",
    "    \n",
    "    return match_results\n",
    "\n",
    "####################################\n",
    "\n",
    "# match_results = pull_recent_match(5, explore=True)\n",
    "match_results = pull_recent_match(0, explore=False, gamertag='Drymander')"
   ]
  },
  {
   "cell_type": "code",
   "execution_count": null,
   "metadata": {
    "ExecuteTime": {
     "end_time": "2021-07-19T16:23:49.150090Z",
     "start_time": "2021-07-19T16:23:49.078074Z"
    }
   },
   "outputs": [],
   "source": [
    "match_results"
   ]
  },
  {
   "cell_type": "markdown",
   "metadata": {},
   "source": [
    "# Pull Any Match"
   ]
  },
  {
   "cell_type": "code",
   "execution_count": null,
   "metadata": {
    "ExecuteTime": {
     "end_time": "2021-07-19T01:12:18.227236Z",
     "start_time": "2021-07-19T01:12:11.173Z"
    }
   },
   "outputs": [],
   "source": [
    "# explore = True\n",
    "# matchId = '0bbc809c-87d8-423f-88a4-ffb9fc782fd6'\n",
    "\n",
    "# def pull_match(matchId, api_key=api_key, explore=False):\n",
    "\n",
    "#     headers = {\n",
    "#         # Request headers\n",
    "#         'Ocp-Apim-Subscription-Key': api_key,\n",
    "#     }\n",
    "\n",
    "#     params = urllib.parse.urlencode({\n",
    "#     })\n",
    "\n",
    "#     try:\n",
    "#         conn = http.client.HTTPSConnection('www.haloapi.com')\n",
    "#         conn.request(\"GET\", f\"/stats/h5/arena/matches/{matchId}?%s\" % params, \"{body}\", headers)\n",
    "#         response = conn.getresponse()\n",
    "#         if explore == True:\n",
    "#             data = response.read()\n",
    "#             print(data)\n",
    "#         else:\n",
    "#             data = response.read()\n",
    "#             data = json.loads(data)\n",
    "#         conn.close()\n",
    "#     except Exception as e:\n",
    "#         print(f\"[Errno {0}] {1}\".format(e.errno, e.strerror))\n",
    "    \n",
    "#     return data\n",
    "\n",
    "        \n",
    "# pull_match('0bbc809c-87d8-423f-88a4-ffb9fc782fd6', explore=False)"
   ]
  },
  {
   "cell_type": "markdown",
   "metadata": {},
   "source": [
    "# Build Match Dataframe"
   ]
  },
  {
   "cell_type": "code",
   "execution_count": null,
   "metadata": {
    "ExecuteTime": {
     "end_time": "2021-07-14T19:20:12.779154Z",
     "start_time": "2021-07-14T19:20:11.284671Z"
    }
   },
   "outputs": [],
   "source": []
  },
  {
   "cell_type": "markdown",
   "metadata": {},
   "source": [
    "### Notes\n",
    "\n",
    "Red team is team ID 0\n",
    "\n",
    "Blue team is team ID 1"
   ]
  },
  {
   "cell_type": "code",
   "execution_count": 12,
   "metadata": {
    "ExecuteTime": {
     "end_time": "2021-07-19T17:15:23.776543Z",
     "start_time": "2021-07-19T17:15:22.468326Z"
    }
   },
   "outputs": [
    {
     "data": {
      "text/html": [
       "<div>\n",
       "<style scoped>\n",
       "    .dataframe tbody tr th:only-of-type {\n",
       "        vertical-align: middle;\n",
       "    }\n",
       "\n",
       "    .dataframe tbody tr th {\n",
       "        vertical-align: top;\n",
       "    }\n",
       "\n",
       "    .dataframe thead th {\n",
       "        text-align: right;\n",
       "    }\n",
       "</style>\n",
       "<table border=\"1\" class=\"dataframe\">\n",
       "  <thead>\n",
       "    <tr style=\"text-align: right;\">\n",
       "      <th></th>\n",
       "      <th>Date</th>\n",
       "      <th>MatchId</th>\n",
       "      <th>GameBaseVariantId</th>\n",
       "      <th>PlaylistId</th>\n",
       "      <th>MapVariantId</th>\n",
       "      <th>DNF</th>\n",
       "      <th>TeamId</th>\n",
       "      <th>PlayerTeam</th>\n",
       "      <th>Winner</th>\n",
       "      <th>TeamColor</th>\n",
       "      <th>Gamertag</th>\n",
       "      <th>SpartanRank</th>\n",
       "      <th>PrevTotalXP</th>\n",
       "    </tr>\n",
       "  </thead>\n",
       "  <tbody>\n",
       "    <tr>\n",
       "      <th>0</th>\n",
       "      <td>2021-07-18 22:56:43.729</td>\n",
       "      <td>7fc3fa88-4f4d-493c-afbc-6b7c0836c704</td>\n",
       "      <td>a2949322-dc84-45ab-8454-cf94fb28c189</td>\n",
       "      <td>f0c9ef9a-48bd-4b24-9db3-2c76b4e23450</td>\n",
       "      <td>beaccaff-8166-4fe8-94ba-fd18ad7a83e1</td>\n",
       "      <td>0.0</td>\n",
       "      <td>1.0</td>\n",
       "      <td>Enemy</td>\n",
       "      <td>Victory</td>\n",
       "      <td>Blue</td>\n",
       "      <td>BaselessGolem2</td>\n",
       "      <td>148</td>\n",
       "      <td>17807959</td>\n",
       "    </tr>\n",
       "    <tr>\n",
       "      <th>1</th>\n",
       "      <td>2021-07-18 22:56:43.729</td>\n",
       "      <td>7fc3fa88-4f4d-493c-afbc-6b7c0836c704</td>\n",
       "      <td>a2949322-dc84-45ab-8454-cf94fb28c189</td>\n",
       "      <td>f0c9ef9a-48bd-4b24-9db3-2c76b4e23450</td>\n",
       "      <td>beaccaff-8166-4fe8-94ba-fd18ad7a83e1</td>\n",
       "      <td>0.0</td>\n",
       "      <td>1.0</td>\n",
       "      <td>Enemy</td>\n",
       "      <td>Victory</td>\n",
       "      <td>Blue</td>\n",
       "      <td>JonBlackRoman69</td>\n",
       "      <td>18</td>\n",
       "      <td>124667</td>\n",
       "    </tr>\n",
       "    <tr>\n",
       "      <th>3</th>\n",
       "      <td>2021-07-18 22:56:43.729</td>\n",
       "      <td>7fc3fa88-4f4d-493c-afbc-6b7c0836c704</td>\n",
       "      <td>a2949322-dc84-45ab-8454-cf94fb28c189</td>\n",
       "      <td>f0c9ef9a-48bd-4b24-9db3-2c76b4e23450</td>\n",
       "      <td>beaccaff-8166-4fe8-94ba-fd18ad7a83e1</td>\n",
       "      <td>0.0</td>\n",
       "      <td>1.0</td>\n",
       "      <td>Enemy</td>\n",
       "      <td>Victory</td>\n",
       "      <td>Blue</td>\n",
       "      <td>Abram2022</td>\n",
       "      <td>75</td>\n",
       "      <td>1878839</td>\n",
       "    </tr>\n",
       "    <tr>\n",
       "      <th>4</th>\n",
       "      <td>2021-07-18 22:56:43.729</td>\n",
       "      <td>7fc3fa88-4f4d-493c-afbc-6b7c0836c704</td>\n",
       "      <td>a2949322-dc84-45ab-8454-cf94fb28c189</td>\n",
       "      <td>f0c9ef9a-48bd-4b24-9db3-2c76b4e23450</td>\n",
       "      <td>beaccaff-8166-4fe8-94ba-fd18ad7a83e1</td>\n",
       "      <td>0.0</td>\n",
       "      <td>1.0</td>\n",
       "      <td>Enemy</td>\n",
       "      <td>Victory</td>\n",
       "      <td>Blue</td>\n",
       "      <td>GoldenAspen ELK</td>\n",
       "      <td>149</td>\n",
       "      <td>21780421</td>\n",
       "    </tr>\n",
       "    <tr>\n",
       "      <th>2</th>\n",
       "      <td>2021-07-18 22:56:43.729</td>\n",
       "      <td>7fc3fa88-4f4d-493c-afbc-6b7c0836c704</td>\n",
       "      <td>a2949322-dc84-45ab-8454-cf94fb28c189</td>\n",
       "      <td>f0c9ef9a-48bd-4b24-9db3-2c76b4e23450</td>\n",
       "      <td>beaccaff-8166-4fe8-94ba-fd18ad7a83e1</td>\n",
       "      <td>0.0</td>\n",
       "      <td>0.0</td>\n",
       "      <td>Player</td>\n",
       "      <td>Defeat</td>\n",
       "      <td>Red</td>\n",
       "      <td>SwVL iGniTe</td>\n",
       "      <td>84</td>\n",
       "      <td>2424017</td>\n",
       "    </tr>\n",
       "    <tr>\n",
       "      <th>5</th>\n",
       "      <td>2021-07-18 22:56:43.729</td>\n",
       "      <td>7fc3fa88-4f4d-493c-afbc-6b7c0836c704</td>\n",
       "      <td>a2949322-dc84-45ab-8454-cf94fb28c189</td>\n",
       "      <td>f0c9ef9a-48bd-4b24-9db3-2c76b4e23450</td>\n",
       "      <td>beaccaff-8166-4fe8-94ba-fd18ad7a83e1</td>\n",
       "      <td>0.0</td>\n",
       "      <td>0.0</td>\n",
       "      <td>Player</td>\n",
       "      <td>Defeat</td>\n",
       "      <td>Red</td>\n",
       "      <td>MarbleTrain4435</td>\n",
       "      <td>56</td>\n",
       "      <td>1122210</td>\n",
       "    </tr>\n",
       "    <tr>\n",
       "      <th>6</th>\n",
       "      <td>2021-07-18 22:56:43.729</td>\n",
       "      <td>7fc3fa88-4f4d-493c-afbc-6b7c0836c704</td>\n",
       "      <td>a2949322-dc84-45ab-8454-cf94fb28c189</td>\n",
       "      <td>f0c9ef9a-48bd-4b24-9db3-2c76b4e23450</td>\n",
       "      <td>beaccaff-8166-4fe8-94ba-fd18ad7a83e1</td>\n",
       "      <td>0.0</td>\n",
       "      <td>0.0</td>\n",
       "      <td>Player</td>\n",
       "      <td>Defeat</td>\n",
       "      <td>Red</td>\n",
       "      <td>Drymander</td>\n",
       "      <td>148</td>\n",
       "      <td>15330595</td>\n",
       "    </tr>\n",
       "    <tr>\n",
       "      <th>7</th>\n",
       "      <td>2021-07-18 22:56:43.729</td>\n",
       "      <td>7fc3fa88-4f4d-493c-afbc-6b7c0836c704</td>\n",
       "      <td>a2949322-dc84-45ab-8454-cf94fb28c189</td>\n",
       "      <td>f0c9ef9a-48bd-4b24-9db3-2c76b4e23450</td>\n",
       "      <td>beaccaff-8166-4fe8-94ba-fd18ad7a83e1</td>\n",
       "      <td>1.0</td>\n",
       "      <td>0.0</td>\n",
       "      <td>Player</td>\n",
       "      <td>Defeat</td>\n",
       "      <td>Red</td>\n",
       "      <td>Weebertt</td>\n",
       "      <td>46</td>\n",
       "      <td>701961</td>\n",
       "    </tr>\n",
       "    <tr>\n",
       "      <th>8</th>\n",
       "      <td>2021-07-18 22:56:43.729</td>\n",
       "      <td>7fc3fa88-4f4d-493c-afbc-6b7c0836c704</td>\n",
       "      <td>a2949322-dc84-45ab-8454-cf94fb28c189</td>\n",
       "      <td>f0c9ef9a-48bd-4b24-9db3-2c76b4e23450</td>\n",
       "      <td>beaccaff-8166-4fe8-94ba-fd18ad7a83e1</td>\n",
       "      <td>0.0</td>\n",
       "      <td>0.0</td>\n",
       "      <td>Player</td>\n",
       "      <td>Defeat</td>\n",
       "      <td>Red</td>\n",
       "      <td>StewedZeus57157</td>\n",
       "      <td>152</td>\n",
       "      <td>50253623</td>\n",
       "    </tr>\n",
       "  </tbody>\n",
       "</table>\n",
       "</div>"
      ],
      "text/plain": [
       "                     Date                               MatchId  \\\n",
       "0 2021-07-18 22:56:43.729  7fc3fa88-4f4d-493c-afbc-6b7c0836c704   \n",
       "1 2021-07-18 22:56:43.729  7fc3fa88-4f4d-493c-afbc-6b7c0836c704   \n",
       "3 2021-07-18 22:56:43.729  7fc3fa88-4f4d-493c-afbc-6b7c0836c704   \n",
       "4 2021-07-18 22:56:43.729  7fc3fa88-4f4d-493c-afbc-6b7c0836c704   \n",
       "2 2021-07-18 22:56:43.729  7fc3fa88-4f4d-493c-afbc-6b7c0836c704   \n",
       "5 2021-07-18 22:56:43.729  7fc3fa88-4f4d-493c-afbc-6b7c0836c704   \n",
       "6 2021-07-18 22:56:43.729  7fc3fa88-4f4d-493c-afbc-6b7c0836c704   \n",
       "7 2021-07-18 22:56:43.729  7fc3fa88-4f4d-493c-afbc-6b7c0836c704   \n",
       "8 2021-07-18 22:56:43.729  7fc3fa88-4f4d-493c-afbc-6b7c0836c704   \n",
       "\n",
       "                      GameBaseVariantId                            PlaylistId  \\\n",
       "0  a2949322-dc84-45ab-8454-cf94fb28c189  f0c9ef9a-48bd-4b24-9db3-2c76b4e23450   \n",
       "1  a2949322-dc84-45ab-8454-cf94fb28c189  f0c9ef9a-48bd-4b24-9db3-2c76b4e23450   \n",
       "3  a2949322-dc84-45ab-8454-cf94fb28c189  f0c9ef9a-48bd-4b24-9db3-2c76b4e23450   \n",
       "4  a2949322-dc84-45ab-8454-cf94fb28c189  f0c9ef9a-48bd-4b24-9db3-2c76b4e23450   \n",
       "2  a2949322-dc84-45ab-8454-cf94fb28c189  f0c9ef9a-48bd-4b24-9db3-2c76b4e23450   \n",
       "5  a2949322-dc84-45ab-8454-cf94fb28c189  f0c9ef9a-48bd-4b24-9db3-2c76b4e23450   \n",
       "6  a2949322-dc84-45ab-8454-cf94fb28c189  f0c9ef9a-48bd-4b24-9db3-2c76b4e23450   \n",
       "7  a2949322-dc84-45ab-8454-cf94fb28c189  f0c9ef9a-48bd-4b24-9db3-2c76b4e23450   \n",
       "8  a2949322-dc84-45ab-8454-cf94fb28c189  f0c9ef9a-48bd-4b24-9db3-2c76b4e23450   \n",
       "\n",
       "                           MapVariantId  DNF  TeamId PlayerTeam   Winner  \\\n",
       "0  beaccaff-8166-4fe8-94ba-fd18ad7a83e1  0.0     1.0      Enemy  Victory   \n",
       "1  beaccaff-8166-4fe8-94ba-fd18ad7a83e1  0.0     1.0      Enemy  Victory   \n",
       "3  beaccaff-8166-4fe8-94ba-fd18ad7a83e1  0.0     1.0      Enemy  Victory   \n",
       "4  beaccaff-8166-4fe8-94ba-fd18ad7a83e1  0.0     1.0      Enemy  Victory   \n",
       "2  beaccaff-8166-4fe8-94ba-fd18ad7a83e1  0.0     0.0     Player   Defeat   \n",
       "5  beaccaff-8166-4fe8-94ba-fd18ad7a83e1  0.0     0.0     Player   Defeat   \n",
       "6  beaccaff-8166-4fe8-94ba-fd18ad7a83e1  0.0     0.0     Player   Defeat   \n",
       "7  beaccaff-8166-4fe8-94ba-fd18ad7a83e1  1.0     0.0     Player   Defeat   \n",
       "8  beaccaff-8166-4fe8-94ba-fd18ad7a83e1  0.0     0.0     Player   Defeat   \n",
       "\n",
       "  TeamColor         Gamertag SpartanRank PrevTotalXP  \n",
       "0      Blue   BaselessGolem2         148    17807959  \n",
       "1      Blue  JonBlackRoman69          18      124667  \n",
       "3      Blue        Abram2022          75     1878839  \n",
       "4      Blue  GoldenAspen ELK         149    21780421  \n",
       "2       Red      SwVL iGniTe          84     2424017  \n",
       "5       Red  MarbleTrain4435          56     1122210  \n",
       "6       Red        Drymander         148    15330595  \n",
       "7       Red         Weebertt          46      701961  \n",
       "8       Red  StewedZeus57157         152    50253623  "
      ]
     },
     "execution_count": 12,
     "metadata": {},
     "output_type": "execute_result"
    }
   ],
   "source": [
    "# match_results = pull_recent_match(0, explore=False, gamertag='thefishhawk88')\n",
    "def build_base_dataframe(match_results, gamertag):\n",
    "    \n",
    "    # Build empty base match dataframe\n",
    "    df = pd.DataFrame()\n",
    "    columns = [\n",
    "        'Finished'\n",
    "        'TeamId',\n",
    "        'Gamertag',\n",
    "        'SpartanRank',\n",
    "        'PrevTotalXP',\n",
    "    ]\n",
    "    df = pd.DataFrame(columns = columns)\n",
    "    \n",
    "    # Populate base match dataframe with player stats for each player\n",
    "    i = 0\n",
    "    for player in match_results['PlayerStats']:\n",
    "\n",
    "        player_dic = {}\n",
    "        # Team ID\n",
    "        player_dic['DNF'] = match_results['PlayerStats'][i]['DNF']\n",
    "        player_dic['TeamId'] = match_results['PlayerStats'][i]['TeamId']\n",
    "        # Team Color\n",
    "        player_dic['TeamColor'] = match_results['PlayerStats'][i]['TeamId']\n",
    "        # Gamer Tag\n",
    "        player_dic['Gamertag'] = match_results['PlayerStats'][i]['Player']['Gamertag']\n",
    "        # Spartan Rank\n",
    "        player_dic['SpartanRank'] = match_results['PlayerStats'][i]['XpInfo']['SpartanRank']\n",
    "        # Previous Total XP\n",
    "        player_dic['PrevTotalXP'] = match_results['PlayerStats'][i]['XpInfo']['PrevTotalXP']\n",
    "        df = df.append(player_dic, ignore_index=True)\n",
    "        i += 1\n",
    "    \n",
    "    ########## DATE, GAME VARIANT, MAP ID, MATCH ID, PLAYLIST ID ##########\n",
    "    df['Date'] = match_results['Date']\n",
    "    df['Date'] = pd.to_datetime(df['Date']).dt.tz_convert(None)\n",
    "#     df['Date'] = df['Date'].floor('T')\n",
    "    df['MatchId'] = match_results['MatchId']\n",
    "    df['GameBaseVariantId'] = match_results['GameBaseVariantId']\n",
    "    df['MapVariantId'] = match_results['MapVariantId']\n",
    "    df['PlaylistId'] = match_results['PlaylistId']\n",
    "    \n",
    "    ########## DEFINE PLAYER TEAM ##########\n",
    "    playerteam = df.loc[df['Gamertag'] == gamertag, 'TeamId'].values[0]\n",
    "    if playerteam == 0:\n",
    "        enemyteam = 1   \n",
    "    else:\n",
    "        enemyteam = 0\n",
    "        \n",
    "    df['PlayerTeam'] = df['TeamId'].map({playerteam:'Player', enemyteam:'Enemy'})\n",
    "    \n",
    "    if match_results['TeamStats'][0]['TeamId'] == playerteam:\n",
    "        playerteam_stats = match_results['TeamStats'][0]\n",
    "        enemyteam_stats = match_results['TeamStats'][1]\n",
    "    else: \n",
    "        playerteam_stats = match_results['TeamStats'][1]\n",
    "        enemyteam_stats = match_results['TeamStats'][0]\n",
    "    \n",
    "    ########## DETERMINE WINNER ##########\n",
    "    # Tie\n",
    "    if playerteam_stats['Rank'] == 1 and enemyteam_stats['Rank'] == 1:\n",
    "        df['Winner'] = 'Tie'\n",
    "    # Player wins\n",
    "    elif playerteam_stats['Rank'] == 1 and enemyteam_stats['Rank'] == 2:\n",
    "        df['Winner'] = df['TeamId'].map({playerteam:'Victory', enemyteam:'Defeat'})\n",
    "    # Enemy wins\n",
    "    elif playerteam_stats['Rank'] == 2 and enemyteam_stats['Rank'] == 1:\n",
    "        df['Winner'] = df['TeamId'].map({enemyteam:'Victory', playerteam:'Defeat'})\n",
    "    # Error handling\n",
    "    else:\n",
    "        winner = 'Error determining winner'\n",
    "    \n",
    "    ########## TEAM COLOR ##########\n",
    "    df['TeamColor'] = df['TeamId'].map({0:'Red', 1:'Blue'})\n",
    "    \n",
    "    # Set columns\n",
    "    df = df[['Date', 'MatchId', 'GameBaseVariantId', 'PlaylistId', 'MapVariantId', 'DNF',\n",
    "             'TeamId', 'PlayerTeam', 'Winner', 'TeamColor', \n",
    "             'Gamertag', 'SpartanRank', 'PrevTotalXP',\n",
    "            ]]\n",
    "    # Sort match by winning team\n",
    "    df = df.sort_values(by=['Winner'], ascending=False)\n",
    "    \n",
    "    return df\n",
    "\n",
    "df = build_base_dataframe(pull_recent_match(8), 'Drymander')\n",
    "# playerteam = 0\n",
    "# enemyteam = 1\n",
    "# df['PlayerTeam'] = df['TeamId'].map({playerteam:'Player', enemyteam:'Enemy'})\n",
    "df\n",
    "# df.loc['TeamId'] \n",
    "# # df.loc[df['TeamId'] == 0]\n",
    "# df\n",
    "# build_base_dataframe(pull_recent_match(0, explore=False, gamertag='thefishhawk88'), gamertag='thefishhawk88')\n",
    "\n"
   ]
  },
  {
   "cell_type": "code",
   "execution_count": 13,
   "metadata": {
    "ExecuteTime": {
     "end_time": "2021-07-19T17:15:23.838557Z",
     "start_time": "2021-07-19T17:15:23.834558Z"
    }
   },
   "outputs": [
    {
     "data": {
      "text/plain": [
       "True"
      ]
     },
     "execution_count": 13,
     "metadata": {},
     "output_type": "execute_result"
    }
   ],
   "source": [
    "1 in df['DNF']"
   ]
  },
  {
   "cell_type": "code",
   "execution_count": null,
   "metadata": {
    "ExecuteTime": {
     "end_time": "2021-07-19T01:12:18.228236Z",
     "start_time": "2021-07-19T01:12:11.180Z"
    }
   },
   "outputs": [],
   "source": [
    "# playerteam = 0\n",
    "\n",
    "# df['TeamColor'] = df['TeamId'].map({0:'Red', 1:'Blue'})\n",
    "# df['Winner'] = df['TeamId'].map({playerteam:'Victory', 1:'Defeat'})\n",
    "# df"
   ]
  },
  {
   "cell_type": "code",
   "execution_count": null,
   "metadata": {
    "ExecuteTime": {
     "end_time": "2021-07-19T01:12:18.229236Z",
     "start_time": "2021-07-19T01:12:11.181Z"
    }
   },
   "outputs": [],
   "source": [
    "# # Red victory\n",
    "# build_base_dataframe(pull_recent_match(0, gamertag='thefishhawk88'), gamertag='thefishhawk88')"
   ]
  },
  {
   "cell_type": "code",
   "execution_count": null,
   "metadata": {
    "ExecuteTime": {
     "end_time": "2021-07-19T01:12:18.230237Z",
     "start_time": "2021-07-19T01:12:11.183Z"
    }
   },
   "outputs": [],
   "source": [
    "# # Blue loss\n",
    "# build_base_dataframe(pull_recent_match(1, gamertag='thefishhawk88'), gamertag='thefishhawk88')"
   ]
  },
  {
   "cell_type": "code",
   "execution_count": null,
   "metadata": {
    "ExecuteTime": {
     "end_time": "2021-07-19T01:12:18.231237Z",
     "start_time": "2021-07-19T01:12:11.185Z"
    }
   },
   "outputs": [],
   "source": [
    "# # Blue tie\n",
    "# build_base_dataframe(pull_recent_match(2, gamertag='thefishhawk88'), gamertag='thefishhawk88')"
   ]
  },
  {
   "cell_type": "code",
   "execution_count": null,
   "metadata": {
    "ExecuteTime": {
     "end_time": "2021-07-19T01:12:18.232238Z",
     "start_time": "2021-07-19T01:12:11.187Z"
    }
   },
   "outputs": [],
   "source": [
    "# # Red victory\n",
    "# build_base_dataframe(pull_recent_match(3, gamertag='thefishhawk88'), gamertag='thefishhawk88')"
   ]
  },
  {
   "cell_type": "code",
   "execution_count": null,
   "metadata": {
    "ExecuteTime": {
     "end_time": "2021-07-19T01:12:18.233238Z",
     "start_time": "2021-07-19T01:12:11.188Z"
    }
   },
   "outputs": [],
   "source": [
    "# # Red DNF\n",
    "# build_base_dataframe(pull_recent_match(6, gamertag='thefishhawk88'))"
   ]
  },
  {
   "cell_type": "code",
   "execution_count": null,
   "metadata": {
    "ExecuteTime": {
     "end_time": "2021-07-19T01:12:18.234238Z",
     "start_time": "2021-07-19T01:12:11.191Z"
    }
   },
   "outputs": [],
   "source": [
    "# # Blue victory\n",
    "# build_base_dataframe(pull_recent_match(7))"
   ]
  },
  {
   "cell_type": "markdown",
   "metadata": {},
   "source": [
    "# Pull Game Base Variant Stats for All Players in Match\n",
    "\n",
    "Using the match details, we will compile everyone's gamertags into a list and pull more specific information for each player.  We can get statistics on every game mode (or \"Game Base Variant\" as it is referred to in the API)."
   ]
  },
  {
   "cell_type": "markdown",
   "metadata": {},
   "source": [
    "## Player List"
   ]
  },
  {
   "cell_type": "code",
   "execution_count": 14,
   "metadata": {
    "ExecuteTime": {
     "end_time": "2021-07-19T17:15:27.465067Z",
     "start_time": "2021-07-19T17:15:27.460066Z"
    }
   },
   "outputs": [],
   "source": [
    "# df_match = build_base_dataframe(pull_recent_match(5, gamertag='thefishhawk88'), gamertag='thefishhawk88')\n",
    "\n",
    "def get_player_list(df):\n",
    "    player_list = str(list(df['Gamertag']))[1:-1]\n",
    "\n",
    "    player_list\n",
    "    player_list = player_list.replace(', ',',')\n",
    "    player_list = player_list.replace(\"'\",'')\n",
    "    player_list = player_list.replace(' ','+')\n",
    "\n",
    "    return player_list\n",
    "\n",
    "\n",
    "# get_player_list(df_match)\n"
   ]
  },
  {
   "cell_type": "code",
   "execution_count": 15,
   "metadata": {
    "ExecuteTime": {
     "end_time": "2021-07-19T17:15:28.551474Z",
     "start_time": "2021-07-19T17:15:27.588158Z"
    }
   },
   "outputs": [],
   "source": [
    "def get_player_history(df, readable=False):\n",
    "    headers = {\n",
    "        # Request headers\n",
    "        'Ocp-Apim-Subscription-Key': str(api_key),\n",
    "    }\n",
    "    params = urllib.parse.urlencode({\n",
    "    })\n",
    "    player_list_api = get_player_list(df)\n",
    "    try:\n",
    "        conn = http.client.HTTPSConnection('www.haloapi.com')\n",
    "        conn.request(\"GET\", f\"/stats/h5/servicerecords/arena?players={player_list_api}&%s\" % params, \"{body}\", headers)\n",
    "        response = conn.getresponse()\n",
    "        data = response.read()\n",
    "        player_history = json.loads(data)\n",
    "    #     print(data)\n",
    "        conn.close()\n",
    "    except Exception as e:\n",
    "        print(f\"[Errno {0}] {1}\".format(e.errno, e.strerror))\n",
    "\n",
    "    if readable == False:\n",
    "        return player_history\n",
    "    else:\n",
    "        return data\n",
    "\n",
    "player_history = get_player_history(df, readable=False)\n",
    "\n",
    "# player_history['Results'][1]"
   ]
  },
  {
   "cell_type": "code",
   "execution_count": null,
   "metadata": {
    "ExecuteTime": {
     "end_time": "2021-07-19T01:15:47.823456Z",
     "start_time": "2021-07-19T01:15:47.805453Z"
    }
   },
   "outputs": [],
   "source": [
    "player_history"
   ]
  },
  {
   "cell_type": "markdown",
   "metadata": {},
   "source": [
    "## Compile Individual Stats into Dataframe"
   ]
  },
  {
   "cell_type": "code",
   "execution_count": null,
   "metadata": {
    "ExecuteTime": {
     "end_time": "2021-07-19T01:12:18.237238Z",
     "start_time": "2021-07-19T01:12:11.200Z"
    }
   },
   "outputs": [],
   "source": [
    "# player_history['Results'][2]"
   ]
  },
  {
   "cell_type": "code",
   "execution_count": 16,
   "metadata": {
    "ExecuteTime": {
     "end_time": "2021-07-19T17:15:29.755747Z",
     "start_time": "2021-07-19T17:15:29.620707Z"
    }
   },
   "outputs": [
    {
     "data": {
      "text/html": [
       "<div>\n",
       "<style scoped>\n",
       "    .dataframe tbody tr th:only-of-type {\n",
       "        vertical-align: middle;\n",
       "    }\n",
       "\n",
       "    .dataframe tbody tr th {\n",
       "        vertical-align: top;\n",
       "    }\n",
       "\n",
       "    .dataframe thead th {\n",
       "        text-align: right;\n",
       "    }\n",
       "</style>\n",
       "<table border=\"1\" class=\"dataframe\">\n",
       "  <thead>\n",
       "    <tr style=\"text-align: right;\">\n",
       "      <th></th>\n",
       "      <th>Gamertag</th>\n",
       "      <th>TotalKills</th>\n",
       "      <th>TotalHeadshots</th>\n",
       "      <th>TotalWeaponDamage</th>\n",
       "      <th>TotalShotsFired</th>\n",
       "      <th>TotalShotsLanded</th>\n",
       "      <th>TotalMeleeKills</th>\n",
       "      <th>TotalMeleeDamage</th>\n",
       "      <th>TotalAssassinations</th>\n",
       "      <th>TotalGroundPoundKills</th>\n",
       "      <th>...</th>\n",
       "      <th>TotalPowerWeaponGrabs</th>\n",
       "      <th>TotalPowerWeaponPossessionTime</th>\n",
       "      <th>TotalDeaths</th>\n",
       "      <th>TotalAssists</th>\n",
       "      <th>TotalGamesCompleted</th>\n",
       "      <th>TotalGamesWon</th>\n",
       "      <th>TotalGamesLost</th>\n",
       "      <th>TotalGamesTied</th>\n",
       "      <th>TotalTimePlayed</th>\n",
       "      <th>TotalGrenadeKills</th>\n",
       "    </tr>\n",
       "  </thead>\n",
       "  <tbody>\n",
       "    <tr>\n",
       "      <th>0</th>\n",
       "      <td>BaselessGolem2</td>\n",
       "      <td>3931</td>\n",
       "      <td>717</td>\n",
       "      <td>485173.791943</td>\n",
       "      <td>75325</td>\n",
       "      <td>30036</td>\n",
       "      <td>141</td>\n",
       "      <td>17292.634756</td>\n",
       "      <td>22</td>\n",
       "      <td>2</td>\n",
       "      <td>...</td>\n",
       "      <td>12</td>\n",
       "      <td>PT13H37M29.8349S</td>\n",
       "      <td>2211</td>\n",
       "      <td>786</td>\n",
       "      <td>245</td>\n",
       "      <td>175</td>\n",
       "      <td>70</td>\n",
       "      <td>0</td>\n",
       "      <td>26.722611</td>\n",
       "      <td>68</td>\n",
       "    </tr>\n",
       "    <tr>\n",
       "      <th>1</th>\n",
       "      <td>JonBlackRoman69</td>\n",
       "      <td>15</td>\n",
       "      <td>4</td>\n",
       "      <td>1739.790779</td>\n",
       "      <td>843</td>\n",
       "      <td>396</td>\n",
       "      <td>3</td>\n",
       "      <td>275.904503</td>\n",
       "      <td>0</td>\n",
       "      <td>0</td>\n",
       "      <td>...</td>\n",
       "      <td>0</td>\n",
       "      <td>PT4M33.8668S</td>\n",
       "      <td>7</td>\n",
       "      <td>7</td>\n",
       "      <td>1</td>\n",
       "      <td>1</td>\n",
       "      <td>0</td>\n",
       "      <td>0</td>\n",
       "      <td>0.123868</td>\n",
       "      <td>0</td>\n",
       "    </tr>\n",
       "    <tr>\n",
       "      <th>2</th>\n",
       "      <td>Abram2022</td>\n",
       "      <td>261</td>\n",
       "      <td>58</td>\n",
       "      <td>33954.099867</td>\n",
       "      <td>5234</td>\n",
       "      <td>2133</td>\n",
       "      <td>14</td>\n",
       "      <td>2795.968145</td>\n",
       "      <td>3</td>\n",
       "      <td>1</td>\n",
       "      <td>...</td>\n",
       "      <td>3</td>\n",
       "      <td>PT1H1M8.9497S</td>\n",
       "      <td>288</td>\n",
       "      <td>82</td>\n",
       "      <td>27</td>\n",
       "      <td>11</td>\n",
       "      <td>16</td>\n",
       "      <td>0</td>\n",
       "      <td>2.937544</td>\n",
       "      <td>12</td>\n",
       "    </tr>\n",
       "    <tr>\n",
       "      <th>3</th>\n",
       "      <td>GoldenAspen ELK</td>\n",
       "      <td>2343</td>\n",
       "      <td>717</td>\n",
       "      <td>293185.734804</td>\n",
       "      <td>42293</td>\n",
       "      <td>19727</td>\n",
       "      <td>243</td>\n",
       "      <td>30914.128626</td>\n",
       "      <td>63</td>\n",
       "      <td>6</td>\n",
       "      <td>...</td>\n",
       "      <td>20</td>\n",
       "      <td>PT4H42M10.3491S</td>\n",
       "      <td>1956</td>\n",
       "      <td>820</td>\n",
       "      <td>168</td>\n",
       "      <td>93</td>\n",
       "      <td>75</td>\n",
       "      <td>0</td>\n",
       "      <td>20.350868</td>\n",
       "      <td>162</td>\n",
       "    </tr>\n",
       "    <tr>\n",
       "      <th>4</th>\n",
       "      <td>SwVL iGniTe</td>\n",
       "      <td>389</td>\n",
       "      <td>32</td>\n",
       "      <td>52840.874998</td>\n",
       "      <td>12885</td>\n",
       "      <td>4306</td>\n",
       "      <td>15</td>\n",
       "      <td>1722.144650</td>\n",
       "      <td>1</td>\n",
       "      <td>0</td>\n",
       "      <td>...</td>\n",
       "      <td>0</td>\n",
       "      <td>PT2H12M22.3326S</td>\n",
       "      <td>363</td>\n",
       "      <td>97</td>\n",
       "      <td>39</td>\n",
       "      <td>22</td>\n",
       "      <td>17</td>\n",
       "      <td>0</td>\n",
       "      <td>4.469363</td>\n",
       "      <td>13</td>\n",
       "    </tr>\n",
       "    <tr>\n",
       "      <th>5</th>\n",
       "      <td>MarbleTrain4435</td>\n",
       "      <td>147</td>\n",
       "      <td>15</td>\n",
       "      <td>20319.546647</td>\n",
       "      <td>4398</td>\n",
       "      <td>1415</td>\n",
       "      <td>5</td>\n",
       "      <td>519.200005</td>\n",
       "      <td>2</td>\n",
       "      <td>0</td>\n",
       "      <td>...</td>\n",
       "      <td>0</td>\n",
       "      <td>PT1H47.3505S</td>\n",
       "      <td>135</td>\n",
       "      <td>29</td>\n",
       "      <td>15</td>\n",
       "      <td>5</td>\n",
       "      <td>10</td>\n",
       "      <td>0</td>\n",
       "      <td>1.673279</td>\n",
       "      <td>1</td>\n",
       "    </tr>\n",
       "    <tr>\n",
       "      <th>6</th>\n",
       "      <td>Drymander</td>\n",
       "      <td>2506</td>\n",
       "      <td>130</td>\n",
       "      <td>310877.801991</td>\n",
       "      <td>59165</td>\n",
       "      <td>20398</td>\n",
       "      <td>124</td>\n",
       "      <td>15341.026115</td>\n",
       "      <td>24</td>\n",
       "      <td>2</td>\n",
       "      <td>...</td>\n",
       "      <td>2</td>\n",
       "      <td>PT16H22M35.6487S</td>\n",
       "      <td>2822</td>\n",
       "      <td>482</td>\n",
       "      <td>246</td>\n",
       "      <td>145</td>\n",
       "      <td>101</td>\n",
       "      <td>0</td>\n",
       "      <td>28.304200</td>\n",
       "      <td>47</td>\n",
       "    </tr>\n",
       "    <tr>\n",
       "      <th>7</th>\n",
       "      <td>Weebertt</td>\n",
       "      <td>5</td>\n",
       "      <td>0</td>\n",
       "      <td>1114.151362</td>\n",
       "      <td>310</td>\n",
       "      <td>106</td>\n",
       "      <td>1</td>\n",
       "      <td>7.384709</td>\n",
       "      <td>0</td>\n",
       "      <td>0</td>\n",
       "      <td>...</td>\n",
       "      <td>0</td>\n",
       "      <td>PT3M43.2167S</td>\n",
       "      <td>18</td>\n",
       "      <td>1</td>\n",
       "      <td>2</td>\n",
       "      <td>1</td>\n",
       "      <td>1</td>\n",
       "      <td>0</td>\n",
       "      <td>0.187625</td>\n",
       "      <td>0</td>\n",
       "    </tr>\n",
       "    <tr>\n",
       "      <th>8</th>\n",
       "      <td>StewedZeus57157</td>\n",
       "      <td>805</td>\n",
       "      <td>116</td>\n",
       "      <td>76745.843602</td>\n",
       "      <td>14186</td>\n",
       "      <td>5731</td>\n",
       "      <td>140</td>\n",
       "      <td>15468.579244</td>\n",
       "      <td>24</td>\n",
       "      <td>14</td>\n",
       "      <td>...</td>\n",
       "      <td>25</td>\n",
       "      <td>PT1H55M19.6168S</td>\n",
       "      <td>742</td>\n",
       "      <td>211</td>\n",
       "      <td>84</td>\n",
       "      <td>51</td>\n",
       "      <td>33</td>\n",
       "      <td>0</td>\n",
       "      <td>8.791082</td>\n",
       "      <td>45</td>\n",
       "    </tr>\n",
       "  </tbody>\n",
       "</table>\n",
       "<p>9 rows × 26 columns</p>\n",
       "</div>"
      ],
      "text/plain": [
       "          Gamertag TotalKills TotalHeadshots  TotalWeaponDamage  \\\n",
       "0   BaselessGolem2       3931            717      485173.791943   \n",
       "1  JonBlackRoman69         15              4        1739.790779   \n",
       "2        Abram2022        261             58       33954.099867   \n",
       "3  GoldenAspen ELK       2343            717      293185.734804   \n",
       "4      SwVL iGniTe        389             32       52840.874998   \n",
       "5  MarbleTrain4435        147             15       20319.546647   \n",
       "6        Drymander       2506            130      310877.801991   \n",
       "7         Weebertt          5              0        1114.151362   \n",
       "8  StewedZeus57157        805            116       76745.843602   \n",
       "\n",
       "  TotalShotsFired TotalShotsLanded TotalMeleeKills  TotalMeleeDamage  \\\n",
       "0           75325            30036             141      17292.634756   \n",
       "1             843              396               3        275.904503   \n",
       "2            5234             2133              14       2795.968145   \n",
       "3           42293            19727             243      30914.128626   \n",
       "4           12885             4306              15       1722.144650   \n",
       "5            4398             1415               5        519.200005   \n",
       "6           59165            20398             124      15341.026115   \n",
       "7             310              106               1          7.384709   \n",
       "8           14186             5731             140      15468.579244   \n",
       "\n",
       "  TotalAssassinations TotalGroundPoundKills  ...  TotalPowerWeaponGrabs  \\\n",
       "0                  22                     2  ...                     12   \n",
       "1                   0                     0  ...                      0   \n",
       "2                   3                     1  ...                      3   \n",
       "3                  63                     6  ...                     20   \n",
       "4                   1                     0  ...                      0   \n",
       "5                   2                     0  ...                      0   \n",
       "6                  24                     2  ...                      2   \n",
       "7                   0                     0  ...                      0   \n",
       "8                  24                    14  ...                     25   \n",
       "\n",
       "  TotalPowerWeaponPossessionTime  TotalDeaths  TotalAssists  \\\n",
       "0               PT13H37M29.8349S         2211           786   \n",
       "1                   PT4M33.8668S            7             7   \n",
       "2                  PT1H1M8.9497S          288            82   \n",
       "3                PT4H42M10.3491S         1956           820   \n",
       "4                PT2H12M22.3326S          363            97   \n",
       "5                   PT1H47.3505S          135            29   \n",
       "6               PT16H22M35.6487S         2822           482   \n",
       "7                   PT3M43.2167S           18             1   \n",
       "8                PT1H55M19.6168S          742           211   \n",
       "\n",
       "  TotalGamesCompleted  TotalGamesWon TotalGamesLost TotalGamesTied  \\\n",
       "0                 245            175             70              0   \n",
       "1                   1              1              0              0   \n",
       "2                  27             11             16              0   \n",
       "3                 168             93             75              0   \n",
       "4                  39             22             17              0   \n",
       "5                  15              5             10              0   \n",
       "6                 246            145            101              0   \n",
       "7                   2              1              1              0   \n",
       "8                  84             51             33              0   \n",
       "\n",
       "  TotalTimePlayed TotalGrenadeKills  \n",
       "0       26.722611                68  \n",
       "1        0.123868                 0  \n",
       "2        2.937544                12  \n",
       "3       20.350868               162  \n",
       "4        4.469363                13  \n",
       "5        1.673279                 1  \n",
       "6       28.304200                47  \n",
       "7        0.187625                 0  \n",
       "8        8.791082                45  \n",
       "\n",
       "[9 rows x 26 columns]"
      ]
     },
     "execution_count": 16,
     "metadata": {},
     "output_type": "execute_result"
    }
   ],
   "source": [
    "# variant_id = match_results['GameBaseVariantId']\n",
    "\n",
    "def build_history_dataframe(player_history, variant_id, streamlit=False):\n",
    "    if streamlit == True:\n",
    "        vdf_columns = ['Gamertag','TotalTimePlayed','K/D','Accuracy','WinRate']\n",
    "        vdf = pd.DataFrame(columns = vdf_columns)\n",
    "    else:\n",
    "        stat_list = ['Gamertag', 'TotalKills', 'TotalHeadshots', 'TotalWeaponDamage', 'TotalShotsFired',\n",
    "                    'TotalShotsLanded', 'TotalMeleeKills', 'TotalMeleeDamage', 'TotalAssassinations',\n",
    "                    'TotalGroundPoundKills', 'TotalGroundPoundDamage', 'TotalShoulderBashKills',\n",
    "                    'TotalShoulderBashDamage', 'TotalGrenadeDamage', 'TotalPowerWeaponKills',\n",
    "                    'TotalPowerWeaponDamage', 'TotalPowerWeaponGrabs', 'TotalPowerWeaponPossessionTime',\n",
    "                    'TotalDeaths', 'TotalAssists', 'TotalGamesCompleted', 'TotalGamesWon',\n",
    "                    'TotalGamesLost', 'TotalGamesTied', 'TotalTimePlayed','TotalGrenadeKills']\n",
    "        vdf = pd.DataFrame(columns = stat_list)\n",
    "\n",
    "    i = 0\n",
    "    for player in player_history['Results']:\n",
    "        for variant in player['Result']['ArenaStats']['ArenaGameBaseVariantStats']:\n",
    "            if variant['GameBaseVariantId'] == variant_id:\n",
    "                variant_stats = variant\n",
    "\n",
    "        variant_dic = {}\n",
    "        if streamlit == True:\n",
    "            variant_dic['Gamertag'] = player_history['Results'][i]['Id']\n",
    "            variant_dic['TotalTimePlayed']= isodate.parse_duration(variant_stats['TotalTimePlayed']).total_seconds() / 3600\n",
    "            variant_dic['K/D'] = variant_stats['TotalKills'] / variant_stats['TotalDeaths']\n",
    "            variant_dic['Accuracy'] = variant_stats['TotalShotsLanded'] / variant_stats['TotalShotsFired']\n",
    "            variant_dic['WinRate'] = variant_stats['TotalGamesWon'] / variant_stats['TotalGamesLost']\n",
    "            vdf = vdf.append(variant_dic, True)\n",
    "            i += 1\n",
    "        else:\n",
    "            variant_dic['Gamertag'] = player_history['Results'][i]['Id']\n",
    "            for stat in stat_list[1:]:\n",
    "                \n",
    "                variant_dic[stat] = variant_stats[stat]\n",
    "            variant_dic['TotalTimePlayed']= isodate.parse_duration(variant_stats['TotalTimePlayed']).total_seconds() / 3600\n",
    "            vdf = vdf.append(variant_dic, True)\n",
    "            i += 1\n",
    "    return vdf\n",
    "    \n",
    "build_history_dataframe(player_history, '1571fdac-e0b4-4ebc-a73a-6e13001b71d3', streamlit=False)"
   ]
  },
  {
   "cell_type": "markdown",
   "metadata": {},
   "source": [
    "# Merge Match and Game Variant Dataframes"
   ]
  },
  {
   "cell_type": "code",
   "execution_count": null,
   "metadata": {},
   "outputs": [],
   "source": []
  },
  {
   "cell_type": "code",
   "execution_count": null,
   "metadata": {
    "ExecuteTime": {
     "end_time": "2021-07-19T01:12:18.239239Z",
     "start_time": "2021-07-19T01:12:11.205Z"
    }
   },
   "outputs": [],
   "source": [
    "# df_stats = pd.merge(df_match, vdf, how='inner', on = 'Gamertag')\n",
    "\n",
    "# df_stats"
   ]
  },
  {
   "cell_type": "markdown",
   "metadata": {},
   "source": [
    "# Master Function"
   ]
  },
  {
   "cell_type": "code",
   "execution_count": 17,
   "metadata": {
    "ExecuteTime": {
     "end_time": "2021-07-19T17:15:36.816051Z",
     "start_time": "2021-07-19T17:15:33.813900Z"
    }
   },
   "outputs": [],
   "source": [
    "# gamertag = 'Drymander'\n",
    "\n",
    "def recent_match_stats(gamertag, back_count=0):\n",
    "    match_results = pull_recent_match(back_count, explore=False, gamertag=gamertag)\n",
    "    base_df = build_base_dataframe(match_results, gamertag=gamertag)\n",
    "    time.sleep(1.01)\n",
    "    \n",
    "    player_list = get_player_list(base_df)\n",
    "    \n",
    "    player_history = get_player_history(base_df)\n",
    "    \n",
    "    history_df = build_history_dataframe(player_history, match_results['GameBaseVariantId'])\n",
    "    full_stats_df = pd.merge(base_df, history_df, how='inner', on = 'Gamertag')\n",
    "    \n",
    "    return full_stats_df\n",
    "#     return base_df, history_df, player_list, player_history, full_stats_df\n",
    "# base_df, history_df, player_list, player_history, full_stats_df = recent_match_stats('thefishhawk88', back_count=20)\n",
    "# \n",
    "stats_df = recent_match_stats('ATLkrunk420', back_count=0)"
   ]
  },
  {
   "cell_type": "markdown",
   "metadata": {},
   "source": [
    "# One Line for Modeling"
   ]
  },
  {
   "cell_type": "code",
   "execution_count": null,
   "metadata": {
    "ExecuteTime": {
     "end_time": "2021-07-19T16:37:44.613542Z",
     "start_time": "2021-07-19T16:37:40.366134Z"
    }
   },
   "outputs": [],
   "source": [
    "df_base = recent_match_stats('ubseen817', back_count=6)\n",
    "# df_base.to_csv('df_base_check.csv')\n",
    "# 0 in df_base['DNF'].values\n",
    "df_base"
   ]
  },
  {
   "cell_type": "code",
   "execution_count": null,
   "metadata": {
    "ExecuteTime": {
     "end_time": "2021-07-19T14:35:58.906050Z",
     "start_time": "2021-07-19T14:35:58.903049Z"
    }
   },
   "outputs": [],
   "source": [
    "len(df_base.index)"
   ]
  },
  {
   "cell_type": "code",
   "execution_count": null,
   "metadata": {
    "ExecuteTime": {
     "end_time": "2021-07-19T04:04:49.023708Z",
     "start_time": "2021-07-19T04:04:49.015707Z"
    }
   },
   "outputs": [],
   "source": [
    "df_base.iloc[0:1,0:4]"
   ]
  },
  {
   "cell_type": "code",
   "execution_count": null,
   "metadata": {
    "ExecuteTime": {
     "end_time": "2021-07-19T04:31:43.786241Z",
     "start_time": "2021-07-19T04:31:43.760243Z"
    }
   },
   "outputs": [],
   "source": [
    "df_base.sort_values(by=['PlayerTeam', 'TotalTimePlayed'], ascending=(False, False))"
   ]
  },
  {
   "cell_type": "code",
   "execution_count": null,
   "metadata": {
    "ExecuteTime": {
     "end_time": "2021-07-19T04:07:56.326464Z",
     "start_time": "2021-07-19T04:07:56.319463Z"
    }
   },
   "outputs": [],
   "source": [
    "df_row"
   ]
  },
  {
   "cell_type": "code",
   "execution_count": null,
   "metadata": {
    "ExecuteTime": {
     "end_time": "2021-07-19T04:19:58.538971Z",
     "start_time": "2021-07-19T04:19:58.535979Z"
    }
   },
   "outputs": [],
   "source": [
    "df_player = df_base.loc[df_base['PlayerTeam'] == 'Player']"
   ]
  },
  {
   "cell_type": "code",
   "execution_count": 19,
   "metadata": {
    "ExecuteTime": {
     "end_time": "2021-07-19T17:15:52.792354Z",
     "start_time": "2021-07-19T17:15:49.703437Z"
    }
   },
   "outputs": [
    {
     "data": {
      "text/html": [
       "<div>\n",
       "<style scoped>\n",
       "    .dataframe tbody tr th:only-of-type {\n",
       "        vertical-align: middle;\n",
       "    }\n",
       "\n",
       "    .dataframe tbody tr th {\n",
       "        vertical-align: top;\n",
       "    }\n",
       "\n",
       "    .dataframe thead th {\n",
       "        text-align: right;\n",
       "    }\n",
       "</style>\n",
       "<table border=\"1\" class=\"dataframe\">\n",
       "  <thead>\n",
       "    <tr style=\"text-align: right;\">\n",
       "      <th></th>\n",
       "      <th>Date</th>\n",
       "      <th>MatchId</th>\n",
       "      <th>GameBaseVariantId</th>\n",
       "      <th>PlaylistId</th>\n",
       "      <th>MapVariantId</th>\n",
       "      <th>WinLoseTie</th>\n",
       "      <th>P1_Gamertag</th>\n",
       "      <th>P1_SpartanRank</th>\n",
       "      <th>P1_PrevTotalXP</th>\n",
       "      <th>P1_TotalKills</th>\n",
       "      <th>...</th>\n",
       "      <th>E4_TotalPowerWeaponGrabs</th>\n",
       "      <th>E4_TotalPowerWeaponPossessionTime</th>\n",
       "      <th>E4_TotalDeaths</th>\n",
       "      <th>E4_TotalAssists</th>\n",
       "      <th>E4_TotalGamesCompleted</th>\n",
       "      <th>E4_TotalGamesWon</th>\n",
       "      <th>E4_TotalGamesLost</th>\n",
       "      <th>E4_TotalGamesTied</th>\n",
       "      <th>E4_TotalTimePlayed</th>\n",
       "      <th>E4_TotalGrenadeKills</th>\n",
       "    </tr>\n",
       "  </thead>\n",
       "  <tbody>\n",
       "    <tr>\n",
       "      <th>0</th>\n",
       "      <td>2021-07-18 23:48:37.862</td>\n",
       "      <td>e1ab0c02-0f9f-42ea-ad5c-4bc23163e266</td>\n",
       "      <td>257a305e-4dd3-41f1-9824-dfe7e8bd59e1</td>\n",
       "      <td>f0c9ef9a-48bd-4b24-9db3-2c76b4e23450</td>\n",
       "      <td>d5f2d94f-b51f-4a0c-8c35-af99426bf14d</td>\n",
       "      <td>Defeat</td>\n",
       "      <td>Drymander</td>\n",
       "      <td>148</td>\n",
       "      <td>15335546</td>\n",
       "      <td>28246</td>\n",
       "      <td>...</td>\n",
       "      <td>118</td>\n",
       "      <td>P1DT19H49M8.3007S</td>\n",
       "      <td>12040</td>\n",
       "      <td>2488</td>\n",
       "      <td>1163</td>\n",
       "      <td>577</td>\n",
       "      <td>586</td>\n",
       "      <td>0</td>\n",
       "      <td>122.666</td>\n",
       "      <td>185</td>\n",
       "    </tr>\n",
       "  </tbody>\n",
       "</table>\n",
       "<p>1 rows × 230 columns</p>\n",
       "</div>"
      ],
      "text/plain": [
       "                     Date                               MatchId  \\\n",
       "0 2021-07-18 23:48:37.862  e1ab0c02-0f9f-42ea-ad5c-4bc23163e266   \n",
       "\n",
       "                      GameBaseVariantId                            PlaylistId  \\\n",
       "0  257a305e-4dd3-41f1-9824-dfe7e8bd59e1  f0c9ef9a-48bd-4b24-9db3-2c76b4e23450   \n",
       "\n",
       "                           MapVariantId WinLoseTie P1_Gamertag P1_SpartanRank  \\\n",
       "0  d5f2d94f-b51f-4a0c-8c35-af99426bf14d     Defeat   Drymander            148   \n",
       "\n",
       "  P1_PrevTotalXP P1_TotalKills  ... E4_TotalPowerWeaponGrabs  \\\n",
       "0       15335546         28246  ...                      118   \n",
       "\n",
       "  E4_TotalPowerWeaponPossessionTime E4_TotalDeaths E4_TotalAssists  \\\n",
       "0                 P1DT19H49M8.3007S          12040            2488   \n",
       "\n",
       "  E4_TotalGamesCompleted E4_TotalGamesWon E4_TotalGamesLost E4_TotalGamesTied  \\\n",
       "0                   1163              577               586                 0   \n",
       "\n",
       "  E4_TotalTimePlayed E4_TotalGrenadeKills  \n",
       "0            122.666                  185  \n",
       "\n",
       "[1 rows x 230 columns]"
      ]
     },
     "execution_count": 19,
     "metadata": {},
     "output_type": "execute_result"
    }
   ],
   "source": [
    "df = recent_match_stats('Drymander', back_count=6)\n",
    "# fishhawk = drymander = recent_match_stats('thefishhawk88', back_count=6)\n",
    "\n",
    "def one_row(df, for_model=False):\n",
    "    \n",
    "    if ((for_model==True) and ((len(df.index) != 8) or (1 in df['DNF'].values))):\n",
    "        df = pd.DataFrame()\n",
    "#     if for_model==True:\n",
    "#         print('for model is set to true')\n",
    "#     if len(df.index) != 8:\n",
    "#         print('there are not exactly 8 players in this match')\n",
    "#     if 1 in df['DNF'].values:\n",
    "#         print('one or more players did not finish')\n",
    "    else:\n",
    "        df = df.sort_values(by=['PlayerTeam', 'TotalTimePlayed'], ascending=(False, False))\n",
    "    #     if dnf == True:\n",
    "    #         if 1 in df['DNF']:\n",
    "    #             return\n",
    "        df = df.reset_index()\n",
    "        df_row = df.iloc[0:1,1:6]\n",
    "        df_player = df.loc[df['PlayerTeam'] == 'Player']\n",
    "        if df_player['Winner'].str.contains('Victory').any():\n",
    "            df_row['WinLoseTie'] = 'Victory'\n",
    "        elif df_player['Winner'].str.contains('Defeat').any():\n",
    "            df_row['WinLoseTie'] = 'Defeat'\n",
    "        elif df_player['Winner'].str.contains('Tie').any():\n",
    "            df_row['WinLoseTie'] = 'Tie'\n",
    "        else: \n",
    "            df_row['WinLoseTie'] = 'Error Determining Victor'\n",
    "\n",
    "        column_list = df.columns.to_list()\n",
    "        columns_converted = []\n",
    "        df = df.drop(df.iloc[:, 0:11], axis = 1)\n",
    "        df = df.stack().to_frame().T\n",
    "        df.columns = ['{}_{}'.format(*c) for c in df.columns]\n",
    "\n",
    "        column_convert_dic = {\"0_\":\"P1-\", \"1_\":\"P2-\",\"2_\":\"P3-\",\"3_\":\"P4-\",\n",
    "                              \"4_\":\"E1-\",\"5_\":\"E2-\",\"6_\":\"E3-\",\"7_\":\"E4-\",}\n",
    "\n",
    "        # df.rename(columns=column_convert_dic)\n",
    "        for k, v in column_convert_dic.items():\n",
    "            df.columns = df.columns.str.replace(k, v)\n",
    "        df.columns = df.columns.str.replace('-', '_')\n",
    "        df = df_row.join(df, how='outer')\n",
    "    \n",
    "    return df\n",
    "\n",
    "one_row(df, for_model=True)"
   ]
  },
  {
   "cell_type": "markdown",
   "metadata": {},
   "source": [
    "## Modified Pull multiple matches"
   ]
  },
  {
   "cell_type": "code",
   "execution_count": 7,
   "metadata": {
    "ExecuteTime": {
     "end_time": "2021-07-19T17:12:51.732915Z",
     "start_time": "2021-07-19T17:12:46.272890Z"
    }
   },
   "outputs": [
    {
     "name": "stdout",
     "output_type": "stream",
     "text": [
      "4\n",
      "1 matches appended\n",
      "2 matches appended\n",
      "3 matches appended\n",
      "4 matches appended\n"
     ]
    }
   ],
   "source": [
    "def model_pull_matches(how_recent, api_key=api_key, \n",
    "                       gamertag='Drymander', count=25):\n",
    "    \n",
    "    gamertag = gamertag_for_api(gamertag)\n",
    "    \n",
    "    headers = {\n",
    "        # Request headers\n",
    "        'Ocp-Apim-Subscription-Key': api_key,\n",
    "    }\n",
    "\n",
    "    params = urllib.parse.urlencode({\n",
    "        # Request parameters\n",
    "        'modes': 'arena',\n",
    "        'start': 0,\n",
    "        'count': count,\n",
    "        'include-times': True,\n",
    "    })\n",
    "\n",
    "    try:\n",
    "        conn = http.client.HTTPSConnection('www.haloapi.com')\n",
    "        conn.request(\"GET\", f\"/stats/h5/players/{gamertag}/matches?%s\" % params, \"{body}\", headers)\n",
    "        time.sleep(1.01)\n",
    "        response = conn.getresponse()\n",
    "        data = response.read()\n",
    "        history_pull = json.loads(data)\n",
    "        print(history_pull['ResultCount'])\n",
    "        \n",
    "        i = 0\n",
    "        latest_count_matches = []\n",
    "        for match in history_pull['Results']:\n",
    "            match_id = match['Id']['MatchId']\n",
    "            match_date = match['MatchCompletedDate']['ISO8601Date']\n",
    "            conn.request(\"GET\", f\"/stats/h5/arena/matches/{match_id}?%s\" % params, \"{body}\", headers)\n",
    "            time.sleep(1.01)\n",
    "            response = conn.getresponse()\n",
    "            data = response.read()\n",
    "            \n",
    "\n",
    "            match_results = json.loads(data)\n",
    "            match_results['MatchId'] = match_id\n",
    "            match_results['Date'] = match_date\n",
    "            latest_count_matches.append(match_results)\n",
    "            conn.close()\n",
    "            i += 1\n",
    "            print(f'{i} matches appended')\n",
    "    except Exception as e:\n",
    "        print(f\"[Errno {0}] {1}\".format(e.errno, e.strerror))\n",
    "    \n",
    "    return latest_count_matches\n",
    "\n",
    "####################################\n",
    "\n",
    "# match_results = pull_recent_match(5, explore=True)\n",
    "latest_count_matches = model_pull_matches(0, gamertag='thefishhawk88', count=4)"
   ]
  },
  {
   "cell_type": "code",
   "execution_count": null,
   "metadata": {
    "ExecuteTime": {
     "end_time": "2021-07-19T17:00:52.400320Z",
     "start_time": "2021-07-19T17:00:52.248285Z"
    }
   },
   "outputs": [],
   "source": [
    "latest_count_matches[4]"
   ]
  },
  {
   "cell_type": "markdown",
   "metadata": {},
   "source": [
    "## Modified recent match stats function"
   ]
  },
  {
   "cell_type": "code",
   "execution_count": 26,
   "metadata": {
    "ExecuteTime": {
     "end_time": "2021-07-19T17:39:43.428212Z",
     "start_time": "2021-07-19T17:39:43.416210Z"
    }
   },
   "outputs": [
    {
     "data": {
      "text/plain": [
       "24248"
      ]
     },
     "execution_count": 26,
     "metadata": {},
     "output_type": "execute_result"
    }
   ],
   "source": [
    "with open('unique_gamertags.pkl', 'rb') as unique_gamertags_pickle:\n",
    "    unique_gamertags = pickle.load(unique_gamertags_pickle)\n",
    "    \n",
    "len(unique_gamertags[0:100])"
   ]
  },
  {
   "cell_type": "code",
   "execution_count": 25,
   "metadata": {
    "ExecuteTime": {
     "end_time": "2021-07-19T17:36:10.754816Z",
     "start_time": "2021-07-19T17:34:55.942884Z"
    },
    "scrolled": true
   },
   "outputs": [
    {
     "name": "stderr",
     "output_type": "stream",
     "text": [
      "\r",
      "  0%|          | 0/1 [00:00<?, ?it/s]"
     ]
    },
    {
     "name": "stdout",
     "output_type": "stream",
     "text": [
      "25\n",
      "1 matches appended\n",
      "2 matches appended\n",
      "3 matches appended\n",
      "4 matches appended\n",
      "5 matches appended\n",
      "6 matches appended\n",
      "7 matches appended\n",
      "8 matches appended\n",
      "9 matches appended\n",
      "10 matches appended\n",
      "11 matches appended\n",
      "12 matches appended\n",
      "13 matches appended\n",
      "14 matches appended\n",
      "15 matches appended\n",
      "16 matches appended\n",
      "17 matches appended\n",
      "18 matches appended\n",
      "19 matches appended\n",
      "20 matches appended\n",
      "21 matches appended\n",
      "22 matches appended\n",
      "23 matches appended\n",
      "24 matches appended\n",
      "25 matches appended\n",
      "1 rows added to model dataframe\n",
      "2 rows added to model dataframe\n",
      "3 rows added to model dataframe\n",
      "4 rows added to model dataframe\n",
      "5 rows added to model dataframe\n",
      "6 rows added to model dataframe\n",
      "7 rows added to model dataframe\n",
      "8 rows added to model dataframe\n",
      "9 rows added to model dataframe\n",
      "10 rows added to model dataframe\n",
      "11 rows added to model dataframe\n",
      "12 rows added to model dataframe\n",
      "13 rows added to model dataframe\n",
      "14 rows added to model dataframe\n",
      "15 rows added to model dataframe\n",
      "16 rows added to model dataframe\n",
      "17 rows added to model dataframe\n",
      "18 rows added to model dataframe\n",
      "19 rows added to model dataframe\n",
      "20 rows added to model dataframe\n",
      "21 rows added to model dataframe\n",
      "22 rows added to model dataframe\n",
      "23 rows added to model dataframe\n",
      "24 rows added to model dataframe\n",
      "25 rows added to model dataframe\n"
     ]
    },
    {
     "name": "stderr",
     "output_type": "stream",
     "text": [
      "100%|██████████| 1/1 [01:14<00:00, 74.76s/it]\n"
     ]
    },
    {
     "data": {
      "text/html": [
       "<div>\n",
       "<style scoped>\n",
       "    .dataframe tbody tr th:only-of-type {\n",
       "        vertical-align: middle;\n",
       "    }\n",
       "\n",
       "    .dataframe tbody tr th {\n",
       "        vertical-align: top;\n",
       "    }\n",
       "\n",
       "    .dataframe thead th {\n",
       "        text-align: right;\n",
       "    }\n",
       "</style>\n",
       "<table border=\"1\" class=\"dataframe\">\n",
       "  <thead>\n",
       "    <tr style=\"text-align: right;\">\n",
       "      <th></th>\n",
       "      <th>Date</th>\n",
       "      <th>MatchId</th>\n",
       "      <th>GameBaseVariantId</th>\n",
       "      <th>PlaylistId</th>\n",
       "      <th>MapVariantId</th>\n",
       "      <th>WinLoseTie</th>\n",
       "      <th>P1_Gamertag</th>\n",
       "      <th>P1_SpartanRank</th>\n",
       "      <th>P1_PrevTotalXP</th>\n",
       "      <th>P1_TotalKills</th>\n",
       "      <th>...</th>\n",
       "      <th>E4_TotalPowerWeaponGrabs</th>\n",
       "      <th>E4_TotalPowerWeaponPossessionTime</th>\n",
       "      <th>E4_TotalDeaths</th>\n",
       "      <th>E4_TotalAssists</th>\n",
       "      <th>E4_TotalGamesCompleted</th>\n",
       "      <th>E4_TotalGamesWon</th>\n",
       "      <th>E4_TotalGamesLost</th>\n",
       "      <th>E4_TotalGamesTied</th>\n",
       "      <th>E4_TotalTimePlayed</th>\n",
       "      <th>E4_TotalGrenadeKills</th>\n",
       "    </tr>\n",
       "  </thead>\n",
       "  <tbody>\n",
       "    <tr>\n",
       "      <th>0</th>\n",
       "      <td>2021-06-29 02:21:52.618</td>\n",
       "      <td>d0caf91f-06bf-4898-acfd-d108d7e0d8a7</td>\n",
       "      <td>257a305e-4dd3-41f1-9824-dfe7e8bd59e1</td>\n",
       "      <td>f0c9ef9a-48bd-4b24-9db3-2c76b4e23450</td>\n",
       "      <td>417cc9b3-7c80-4ccc-bd1a-2a6cf7b4ce38</td>\n",
       "      <td>Defeat</td>\n",
       "      <td>thefishhawk88</td>\n",
       "      <td>145</td>\n",
       "      <td>7927665</td>\n",
       "      <td>10716</td>\n",
       "      <td>...</td>\n",
       "      <td>0</td>\n",
       "      <td>PT1H13M0.033S</td>\n",
       "      <td>221</td>\n",
       "      <td>104</td>\n",
       "      <td>19</td>\n",
       "      <td>5</td>\n",
       "      <td>12</td>\n",
       "      <td>2</td>\n",
       "      <td>2.13649</td>\n",
       "      <td>8</td>\n",
       "    </tr>\n",
       "    <tr>\n",
       "      <th>0</th>\n",
       "      <td>2021-06-27 17:48:42.936</td>\n",
       "      <td>04d72979-0f05-4fba-a778-e22c670f7ebb</td>\n",
       "      <td>a2949322-dc84-45ab-8454-cf94fb28c189</td>\n",
       "      <td>f0c9ef9a-48bd-4b24-9db3-2c76b4e23450</td>\n",
       "      <td>b0a773c0-3b79-4838-a6b6-015f366da8a7</td>\n",
       "      <td>Victory</td>\n",
       "      <td>Earth Titan X</td>\n",
       "      <td>150</td>\n",
       "      <td>28397558</td>\n",
       "      <td>42352</td>\n",
       "      <td>...</td>\n",
       "      <td>0</td>\n",
       "      <td>PT7H43M36.3351S</td>\n",
       "      <td>1499</td>\n",
       "      <td>870</td>\n",
       "      <td>164</td>\n",
       "      <td>67</td>\n",
       "      <td>79</td>\n",
       "      <td>18</td>\n",
       "      <td>15.1028</td>\n",
       "      <td>42</td>\n",
       "    </tr>\n",
       "    <tr>\n",
       "      <th>0</th>\n",
       "      <td>2021-06-27 17:38:56.751</td>\n",
       "      <td>a6397ed6-01f4-420a-a953-911ec367fafa</td>\n",
       "      <td>a2949322-dc84-45ab-8454-cf94fb28c189</td>\n",
       "      <td>f0c9ef9a-48bd-4b24-9db3-2c76b4e23450</td>\n",
       "      <td>f37608a5-cae9-4d6f-b1b4-28f8e6b471b9</td>\n",
       "      <td>Victory</td>\n",
       "      <td>SK Lecter</td>\n",
       "      <td>149</td>\n",
       "      <td>21880789</td>\n",
       "      <td>34544</td>\n",
       "      <td>...</td>\n",
       "      <td>8</td>\n",
       "      <td>PT22H25M34.2333S</td>\n",
       "      <td>4271</td>\n",
       "      <td>2665</td>\n",
       "      <td>416</td>\n",
       "      <td>153</td>\n",
       "      <td>202</td>\n",
       "      <td>61</td>\n",
       "      <td>42.254</td>\n",
       "      <td>176</td>\n",
       "    </tr>\n",
       "    <tr>\n",
       "      <th>0</th>\n",
       "      <td>2021-06-27 17:00:40.110</td>\n",
       "      <td>105f36a1-1a02-4a64-ba80-653c99a0c128</td>\n",
       "      <td>a2949322-dc84-45ab-8454-cf94fb28c189</td>\n",
       "      <td>f0c9ef9a-48bd-4b24-9db3-2c76b4e23450</td>\n",
       "      <td>3099f1e3-c911-4620-9bec-73db7cec6b7c</td>\n",
       "      <td>Victory</td>\n",
       "      <td>AlexiMous14</td>\n",
       "      <td>150</td>\n",
       "      <td>25502134</td>\n",
       "      <td>111530</td>\n",
       "      <td>...</td>\n",
       "      <td>0</td>\n",
       "      <td>PT1H6M18.4336S</td>\n",
       "      <td>246</td>\n",
       "      <td>133</td>\n",
       "      <td>23</td>\n",
       "      <td>12</td>\n",
       "      <td>8</td>\n",
       "      <td>3</td>\n",
       "      <td>2.20897</td>\n",
       "      <td>4</td>\n",
       "    </tr>\n",
       "    <tr>\n",
       "      <th>0</th>\n",
       "      <td>2021-06-25 19:18:29.569</td>\n",
       "      <td>543393ac-35fb-401d-935a-039f4871177e</td>\n",
       "      <td>257a305e-4dd3-41f1-9824-dfe7e8bd59e1</td>\n",
       "      <td>f0c9ef9a-48bd-4b24-9db3-2c76b4e23450</td>\n",
       "      <td>6b306cc8-1d60-41ae-9e95-464fdbe1288b</td>\n",
       "      <td>Victory</td>\n",
       "      <td>thefishhawk88</td>\n",
       "      <td>145</td>\n",
       "      <td>7899524</td>\n",
       "      <td>10716</td>\n",
       "      <td>...</td>\n",
       "      <td>6</td>\n",
       "      <td>PT14H46M29.6826S</td>\n",
       "      <td>4689</td>\n",
       "      <td>1598</td>\n",
       "      <td>272</td>\n",
       "      <td>141</td>\n",
       "      <td>95</td>\n",
       "      <td>36</td>\n",
       "      <td>29.0776</td>\n",
       "      <td>115</td>\n",
       "    </tr>\n",
       "    <tr>\n",
       "      <th>0</th>\n",
       "      <td>2021-06-25 18:36:58.672</td>\n",
       "      <td>9d063eae-f2b2-4c2c-979f-022ce5a40b22</td>\n",
       "      <td>a2949322-dc84-45ab-8454-cf94fb28c189</td>\n",
       "      <td>f0c9ef9a-48bd-4b24-9db3-2c76b4e23450</td>\n",
       "      <td>71ade227-23ce-45b0-93b5-927161a7fc4d</td>\n",
       "      <td>Tie</td>\n",
       "      <td>PumpMyGun</td>\n",
       "      <td>151</td>\n",
       "      <td>38814971</td>\n",
       "      <td>70002</td>\n",
       "      <td>...</td>\n",
       "      <td>3</td>\n",
       "      <td>PT3H5M39.0671S</td>\n",
       "      <td>496</td>\n",
       "      <td>250</td>\n",
       "      <td>60</td>\n",
       "      <td>22</td>\n",
       "      <td>30</td>\n",
       "      <td>8</td>\n",
       "      <td>5.70578</td>\n",
       "      <td>11</td>\n",
       "    </tr>\n",
       "    <tr>\n",
       "      <th>0</th>\n",
       "      <td>2021-06-25 18:27:03.207</td>\n",
       "      <td>516352d8-ddff-485f-b215-c9b8984b9a39</td>\n",
       "      <td>257a305e-4dd3-41f1-9824-dfe7e8bd59e1</td>\n",
       "      <td>f0c9ef9a-48bd-4b24-9db3-2c76b4e23450</td>\n",
       "      <td>d253e923-dc79-4426-acb0-c9e5ca536c11</td>\n",
       "      <td>Defeat</td>\n",
       "      <td>thefishhawk88</td>\n",
       "      <td>145</td>\n",
       "      <td>7875937</td>\n",
       "      <td>10716</td>\n",
       "      <td>...</td>\n",
       "      <td>0</td>\n",
       "      <td>PT1H2M19.8996S</td>\n",
       "      <td>219</td>\n",
       "      <td>112</td>\n",
       "      <td>18</td>\n",
       "      <td>5</td>\n",
       "      <td>8</td>\n",
       "      <td>5</td>\n",
       "      <td>1.8796</td>\n",
       "      <td>8</td>\n",
       "    </tr>\n",
       "    <tr>\n",
       "      <th>0</th>\n",
       "      <td>2021-06-24 23:28:30.096</td>\n",
       "      <td>1b3bd738-70c2-49fe-b845-f51aea07bfd7</td>\n",
       "      <td>257a305e-4dd3-41f1-9824-dfe7e8bd59e1</td>\n",
       "      <td>f0c9ef9a-48bd-4b24-9db3-2c76b4e23450</td>\n",
       "      <td>8c7142ec-178e-461a-8b9c-d83e2d63a5df</td>\n",
       "      <td>Victory</td>\n",
       "      <td>FinnedLace982</td>\n",
       "      <td>151</td>\n",
       "      <td>39371766</td>\n",
       "      <td>69311</td>\n",
       "      <td>...</td>\n",
       "      <td>0</td>\n",
       "      <td>PT4H13M49.1999S</td>\n",
       "      <td>1479</td>\n",
       "      <td>562</td>\n",
       "      <td>84</td>\n",
       "      <td>34</td>\n",
       "      <td>36</td>\n",
       "      <td>14</td>\n",
       "      <td>8.65847</td>\n",
       "      <td>44</td>\n",
       "    </tr>\n",
       "    <tr>\n",
       "      <th>0</th>\n",
       "      <td>2021-06-24 23:19:42.976</td>\n",
       "      <td>d5cd0ed5-bb0d-4ce6-b1d9-0a8169c3851c</td>\n",
       "      <td>a2949322-dc84-45ab-8454-cf94fb28c189</td>\n",
       "      <td>f0c9ef9a-48bd-4b24-9db3-2c76b4e23450</td>\n",
       "      <td>f37608a5-cae9-4d6f-b1b4-28f8e6b471b9</td>\n",
       "      <td>Victory</td>\n",
       "      <td>FinnedLace982</td>\n",
       "      <td>151</td>\n",
       "      <td>39370615</td>\n",
       "      <td>69311</td>\n",
       "      <td>...</td>\n",
       "      <td>4</td>\n",
       "      <td>PT7H10M41.0841S</td>\n",
       "      <td>1031</td>\n",
       "      <td>710</td>\n",
       "      <td>121</td>\n",
       "      <td>37</td>\n",
       "      <td>66</td>\n",
       "      <td>18</td>\n",
       "      <td>12.8173</td>\n",
       "      <td>34</td>\n",
       "    </tr>\n",
       "    <tr>\n",
       "      <th>0</th>\n",
       "      <td>2021-06-24 23:12:02.942</td>\n",
       "      <td>963d7b1b-5b96-4269-9e9c-07cc7abb24e4</td>\n",
       "      <td>a2949322-dc84-45ab-8454-cf94fb28c189</td>\n",
       "      <td>f0c9ef9a-48bd-4b24-9db3-2c76b4e23450</td>\n",
       "      <td>3f9d9825-4359-43d2-8235-88658c0e4bb7</td>\n",
       "      <td>Defeat</td>\n",
       "      <td>Wolverine029</td>\n",
       "      <td>148</td>\n",
       "      <td>16724387</td>\n",
       "      <td>12724</td>\n",
       "      <td>...</td>\n",
       "      <td>8</td>\n",
       "      <td>PT9H31M48.3193S</td>\n",
       "      <td>1876</td>\n",
       "      <td>1034</td>\n",
       "      <td>185</td>\n",
       "      <td>82</td>\n",
       "      <td>83</td>\n",
       "      <td>20</td>\n",
       "      <td>19.0732</td>\n",
       "      <td>94</td>\n",
       "    </tr>\n",
       "    <tr>\n",
       "      <th>0</th>\n",
       "      <td>2021-06-24 22:02:51.328</td>\n",
       "      <td>cac7399d-2138-48fb-a3e3-db6ead06ee1f</td>\n",
       "      <td>a2949322-dc84-45ab-8454-cf94fb28c189</td>\n",
       "      <td>f0c9ef9a-48bd-4b24-9db3-2c76b4e23450</td>\n",
       "      <td>7a4ca104-7242-4efe-a53e-fb5295d7b092</td>\n",
       "      <td>Victory</td>\n",
       "      <td>Gr00vyTuna</td>\n",
       "      <td>150</td>\n",
       "      <td>25262257</td>\n",
       "      <td>25315</td>\n",
       "      <td>...</td>\n",
       "      <td>0</td>\n",
       "      <td>PT23M43.9167S</td>\n",
       "      <td>100</td>\n",
       "      <td>41</td>\n",
       "      <td>7</td>\n",
       "      <td>0</td>\n",
       "      <td>5</td>\n",
       "      <td>2</td>\n",
       "      <td>0.696157</td>\n",
       "      <td>0</td>\n",
       "    </tr>\n",
       "    <tr>\n",
       "      <th>0</th>\n",
       "      <td>2021-06-23 20:51:32.036</td>\n",
       "      <td>8c78645f-6707-4239-b2ba-888c1b93acbc</td>\n",
       "      <td>257a305e-4dd3-41f1-9824-dfe7e8bd59e1</td>\n",
       "      <td>c98949ae-60a8-43dc-85d7-0feb0b92e719</td>\n",
       "      <td>a638fcdd-1d7a-481f-b463-813d22b9cc91</td>\n",
       "      <td>Victory</td>\n",
       "      <td>thefishhawk88</td>\n",
       "      <td>145</td>\n",
       "      <td>7762735</td>\n",
       "      <td>10716</td>\n",
       "      <td>...</td>\n",
       "      <td>2</td>\n",
       "      <td>PT1H10M40.9507S</td>\n",
       "      <td>329</td>\n",
       "      <td>125</td>\n",
       "      <td>23</td>\n",
       "      <td>12</td>\n",
       "      <td>9</td>\n",
       "      <td>2</td>\n",
       "      <td>2.90721</td>\n",
       "      <td>10</td>\n",
       "    </tr>\n",
       "    <tr>\n",
       "      <th>0</th>\n",
       "      <td>2021-06-23 20:39:26.799</td>\n",
       "      <td>f8b22265-53ea-4837-815a-c2790ceab908</td>\n",
       "      <td>a2949322-dc84-45ab-8454-cf94fb28c189</td>\n",
       "      <td>c98949ae-60a8-43dc-85d7-0feb0b92e719</td>\n",
       "      <td>4658ae48-d1a9-4839-8bc8-b724d6674e70</td>\n",
       "      <td>Defeat</td>\n",
       "      <td>thefishhawk88</td>\n",
       "      <td>145</td>\n",
       "      <td>7760694</td>\n",
       "      <td>10716</td>\n",
       "      <td>...</td>\n",
       "      <td>8</td>\n",
       "      <td>PT2M10.0667S</td>\n",
       "      <td>100</td>\n",
       "      <td>30</td>\n",
       "      <td>11</td>\n",
       "      <td>9</td>\n",
       "      <td>2</td>\n",
       "      <td>0</td>\n",
       "      <td>1.23661</td>\n",
       "      <td>0</td>\n",
       "    </tr>\n",
       "    <tr>\n",
       "      <th>0</th>\n",
       "      <td>2021-06-23 13:58:28.609</td>\n",
       "      <td>1fb37ba0-3d8a-436a-9b05-e32c449eb1f6</td>\n",
       "      <td>a2949322-dc84-45ab-8454-cf94fb28c189</td>\n",
       "      <td>f0c9ef9a-48bd-4b24-9db3-2c76b4e23450</td>\n",
       "      <td>e2c25cc8-8f51-44ba-bcde-ff08993b01c8</td>\n",
       "      <td>Victory</td>\n",
       "      <td>carlozlsca</td>\n",
       "      <td>149</td>\n",
       "      <td>18206022</td>\n",
       "      <td>12484</td>\n",
       "      <td>...</td>\n",
       "      <td>0</td>\n",
       "      <td>PT1H33M53.9507S</td>\n",
       "      <td>451</td>\n",
       "      <td>167</td>\n",
       "      <td>31</td>\n",
       "      <td>11</td>\n",
       "      <td>15</td>\n",
       "      <td>5</td>\n",
       "      <td>3.26949</td>\n",
       "      <td>8</td>\n",
       "    </tr>\n",
       "    <tr>\n",
       "      <th>0</th>\n",
       "      <td>2021-06-23 13:51:02.613</td>\n",
       "      <td>e5ce3307-8150-45aa-8da7-a53d33213240</td>\n",
       "      <td>a2949322-dc84-45ab-8454-cf94fb28c189</td>\n",
       "      <td>f0c9ef9a-48bd-4b24-9db3-2c76b4e23450</td>\n",
       "      <td>b0a773c0-3b79-4838-a6b6-015f366da8a7</td>\n",
       "      <td>Tie</td>\n",
       "      <td>carlozlsca</td>\n",
       "      <td>149</td>\n",
       "      <td>18204445</td>\n",
       "      <td>12484</td>\n",
       "      <td>...</td>\n",
       "      <td>0</td>\n",
       "      <td>PT1H33M53.9507S</td>\n",
       "      <td>451</td>\n",
       "      <td>167</td>\n",
       "      <td>31</td>\n",
       "      <td>11</td>\n",
       "      <td>15</td>\n",
       "      <td>5</td>\n",
       "      <td>3.26949</td>\n",
       "      <td>8</td>\n",
       "    </tr>\n",
       "    <tr>\n",
       "      <th>0</th>\n",
       "      <td>2021-06-23 03:00:10.620</td>\n",
       "      <td>8ab38ce7-d854-4b91-9809-6a3fe134cfa3</td>\n",
       "      <td>a2949322-dc84-45ab-8454-cf94fb28c189</td>\n",
       "      <td>f0c9ef9a-48bd-4b24-9db3-2c76b4e23450</td>\n",
       "      <td>3099f1e3-c911-4620-9bec-73db7cec6b7c</td>\n",
       "      <td>Defeat</td>\n",
       "      <td>BHEC35</td>\n",
       "      <td>149</td>\n",
       "      <td>21248538</td>\n",
       "      <td>21341</td>\n",
       "      <td>...</td>\n",
       "      <td>0</td>\n",
       "      <td>PT2H23M15.8837S</td>\n",
       "      <td>813</td>\n",
       "      <td>465</td>\n",
       "      <td>57</td>\n",
       "      <td>30</td>\n",
       "      <td>21</td>\n",
       "      <td>6</td>\n",
       "      <td>6.7885</td>\n",
       "      <td>52</td>\n",
       "    </tr>\n",
       "    <tr>\n",
       "      <th>0</th>\n",
       "      <td>2021-06-23 02:52:13.463</td>\n",
       "      <td>af2c84f8-ca71-416f-9c0b-90cb46b0498d</td>\n",
       "      <td>a2949322-dc84-45ab-8454-cf94fb28c189</td>\n",
       "      <td>f0c9ef9a-48bd-4b24-9db3-2c76b4e23450</td>\n",
       "      <td>beaccaff-8166-4fe8-94ba-fd18ad7a83e1</td>\n",
       "      <td>Defeat</td>\n",
       "      <td>thefishhawk88</td>\n",
       "      <td>144</td>\n",
       "      <td>7695132</td>\n",
       "      <td>10716</td>\n",
       "      <td>...</td>\n",
       "      <td>14</td>\n",
       "      <td>P1DT18H24M38.6286S</td>\n",
       "      <td>8857</td>\n",
       "      <td>4553</td>\n",
       "      <td>726</td>\n",
       "      <td>296</td>\n",
       "      <td>327</td>\n",
       "      <td>103</td>\n",
       "      <td>74.734</td>\n",
       "      <td>497</td>\n",
       "    </tr>\n",
       "    <tr>\n",
       "      <th>0</th>\n",
       "      <td>2021-06-23 02:39:53.849</td>\n",
       "      <td>2e8ec230-64cb-4dd1-ab63-5ab1fccd3a61</td>\n",
       "      <td>9bb6fde8-ac5b-4d45-96eb-0acc6980722a</td>\n",
       "      <td>f0c9ef9a-48bd-4b24-9db3-2c76b4e23450</td>\n",
       "      <td>3565e2b7-da54-4887-8529-a14b4ac13c90</td>\n",
       "      <td>Victory</td>\n",
       "      <td>CrilledKing</td>\n",
       "      <td>147</td>\n",
       "      <td>13992661</td>\n",
       "      <td>27887</td>\n",
       "      <td>...</td>\n",
       "      <td>1</td>\n",
       "      <td>PT1H41M40.0165S</td>\n",
       "      <td>479</td>\n",
       "      <td>260</td>\n",
       "      <td>50</td>\n",
       "      <td>13</td>\n",
       "      <td>36</td>\n",
       "      <td>1</td>\n",
       "      <td>4.56464</td>\n",
       "      <td>18</td>\n",
       "    </tr>\n",
       "    <tr>\n",
       "      <th>0</th>\n",
       "      <td>2021-06-23 02:33:36.666</td>\n",
       "      <td>dce2fc42-e951-46a1-b5c9-a1aff8e678fc</td>\n",
       "      <td>a2949322-dc84-45ab-8454-cf94fb28c189</td>\n",
       "      <td>f0c9ef9a-48bd-4b24-9db3-2c76b4e23450</td>\n",
       "      <td>7a4ca104-7242-4efe-a53e-fb5295d7b092</td>\n",
       "      <td>Victory</td>\n",
       "      <td>ALEXGMZ1735</td>\n",
       "      <td>141</td>\n",
       "      <td>6517454</td>\n",
       "      <td>25497</td>\n",
       "      <td>...</td>\n",
       "      <td>2</td>\n",
       "      <td>P1DT15H15M29.3292S</td>\n",
       "      <td>13574</td>\n",
       "      <td>4689</td>\n",
       "      <td>764</td>\n",
       "      <td>460</td>\n",
       "      <td>241</td>\n",
       "      <td>63</td>\n",
       "      <td>79.3112</td>\n",
       "      <td>119</td>\n",
       "    </tr>\n",
       "  </tbody>\n",
       "</table>\n",
       "<p>19 rows × 230 columns</p>\n",
       "</div>"
      ],
      "text/plain": [
       "                     Date                               MatchId  \\\n",
       "0 2021-06-29 02:21:52.618  d0caf91f-06bf-4898-acfd-d108d7e0d8a7   \n",
       "0 2021-06-27 17:48:42.936  04d72979-0f05-4fba-a778-e22c670f7ebb   \n",
       "0 2021-06-27 17:38:56.751  a6397ed6-01f4-420a-a953-911ec367fafa   \n",
       "0 2021-06-27 17:00:40.110  105f36a1-1a02-4a64-ba80-653c99a0c128   \n",
       "0 2021-06-25 19:18:29.569  543393ac-35fb-401d-935a-039f4871177e   \n",
       "0 2021-06-25 18:36:58.672  9d063eae-f2b2-4c2c-979f-022ce5a40b22   \n",
       "0 2021-06-25 18:27:03.207  516352d8-ddff-485f-b215-c9b8984b9a39   \n",
       "0 2021-06-24 23:28:30.096  1b3bd738-70c2-49fe-b845-f51aea07bfd7   \n",
       "0 2021-06-24 23:19:42.976  d5cd0ed5-bb0d-4ce6-b1d9-0a8169c3851c   \n",
       "0 2021-06-24 23:12:02.942  963d7b1b-5b96-4269-9e9c-07cc7abb24e4   \n",
       "0 2021-06-24 22:02:51.328  cac7399d-2138-48fb-a3e3-db6ead06ee1f   \n",
       "0 2021-06-23 20:51:32.036  8c78645f-6707-4239-b2ba-888c1b93acbc   \n",
       "0 2021-06-23 20:39:26.799  f8b22265-53ea-4837-815a-c2790ceab908   \n",
       "0 2021-06-23 13:58:28.609  1fb37ba0-3d8a-436a-9b05-e32c449eb1f6   \n",
       "0 2021-06-23 13:51:02.613  e5ce3307-8150-45aa-8da7-a53d33213240   \n",
       "0 2021-06-23 03:00:10.620  8ab38ce7-d854-4b91-9809-6a3fe134cfa3   \n",
       "0 2021-06-23 02:52:13.463  af2c84f8-ca71-416f-9c0b-90cb46b0498d   \n",
       "0 2021-06-23 02:39:53.849  2e8ec230-64cb-4dd1-ab63-5ab1fccd3a61   \n",
       "0 2021-06-23 02:33:36.666  dce2fc42-e951-46a1-b5c9-a1aff8e678fc   \n",
       "\n",
       "                      GameBaseVariantId                            PlaylistId  \\\n",
       "0  257a305e-4dd3-41f1-9824-dfe7e8bd59e1  f0c9ef9a-48bd-4b24-9db3-2c76b4e23450   \n",
       "0  a2949322-dc84-45ab-8454-cf94fb28c189  f0c9ef9a-48bd-4b24-9db3-2c76b4e23450   \n",
       "0  a2949322-dc84-45ab-8454-cf94fb28c189  f0c9ef9a-48bd-4b24-9db3-2c76b4e23450   \n",
       "0  a2949322-dc84-45ab-8454-cf94fb28c189  f0c9ef9a-48bd-4b24-9db3-2c76b4e23450   \n",
       "0  257a305e-4dd3-41f1-9824-dfe7e8bd59e1  f0c9ef9a-48bd-4b24-9db3-2c76b4e23450   \n",
       "0  a2949322-dc84-45ab-8454-cf94fb28c189  f0c9ef9a-48bd-4b24-9db3-2c76b4e23450   \n",
       "0  257a305e-4dd3-41f1-9824-dfe7e8bd59e1  f0c9ef9a-48bd-4b24-9db3-2c76b4e23450   \n",
       "0  257a305e-4dd3-41f1-9824-dfe7e8bd59e1  f0c9ef9a-48bd-4b24-9db3-2c76b4e23450   \n",
       "0  a2949322-dc84-45ab-8454-cf94fb28c189  f0c9ef9a-48bd-4b24-9db3-2c76b4e23450   \n",
       "0  a2949322-dc84-45ab-8454-cf94fb28c189  f0c9ef9a-48bd-4b24-9db3-2c76b4e23450   \n",
       "0  a2949322-dc84-45ab-8454-cf94fb28c189  f0c9ef9a-48bd-4b24-9db3-2c76b4e23450   \n",
       "0  257a305e-4dd3-41f1-9824-dfe7e8bd59e1  c98949ae-60a8-43dc-85d7-0feb0b92e719   \n",
       "0  a2949322-dc84-45ab-8454-cf94fb28c189  c98949ae-60a8-43dc-85d7-0feb0b92e719   \n",
       "0  a2949322-dc84-45ab-8454-cf94fb28c189  f0c9ef9a-48bd-4b24-9db3-2c76b4e23450   \n",
       "0  a2949322-dc84-45ab-8454-cf94fb28c189  f0c9ef9a-48bd-4b24-9db3-2c76b4e23450   \n",
       "0  a2949322-dc84-45ab-8454-cf94fb28c189  f0c9ef9a-48bd-4b24-9db3-2c76b4e23450   \n",
       "0  a2949322-dc84-45ab-8454-cf94fb28c189  f0c9ef9a-48bd-4b24-9db3-2c76b4e23450   \n",
       "0  9bb6fde8-ac5b-4d45-96eb-0acc6980722a  f0c9ef9a-48bd-4b24-9db3-2c76b4e23450   \n",
       "0  a2949322-dc84-45ab-8454-cf94fb28c189  f0c9ef9a-48bd-4b24-9db3-2c76b4e23450   \n",
       "\n",
       "                           MapVariantId WinLoseTie    P1_Gamertag  \\\n",
       "0  417cc9b3-7c80-4ccc-bd1a-2a6cf7b4ce38     Defeat  thefishhawk88   \n",
       "0  b0a773c0-3b79-4838-a6b6-015f366da8a7    Victory  Earth Titan X   \n",
       "0  f37608a5-cae9-4d6f-b1b4-28f8e6b471b9    Victory      SK Lecter   \n",
       "0  3099f1e3-c911-4620-9bec-73db7cec6b7c    Victory    AlexiMous14   \n",
       "0  6b306cc8-1d60-41ae-9e95-464fdbe1288b    Victory  thefishhawk88   \n",
       "0  71ade227-23ce-45b0-93b5-927161a7fc4d        Tie      PumpMyGun   \n",
       "0  d253e923-dc79-4426-acb0-c9e5ca536c11     Defeat  thefishhawk88   \n",
       "0  8c7142ec-178e-461a-8b9c-d83e2d63a5df    Victory  FinnedLace982   \n",
       "0  f37608a5-cae9-4d6f-b1b4-28f8e6b471b9    Victory  FinnedLace982   \n",
       "0  3f9d9825-4359-43d2-8235-88658c0e4bb7     Defeat   Wolverine029   \n",
       "0  7a4ca104-7242-4efe-a53e-fb5295d7b092    Victory     Gr00vyTuna   \n",
       "0  a638fcdd-1d7a-481f-b463-813d22b9cc91    Victory  thefishhawk88   \n",
       "0  4658ae48-d1a9-4839-8bc8-b724d6674e70     Defeat  thefishhawk88   \n",
       "0  e2c25cc8-8f51-44ba-bcde-ff08993b01c8    Victory     carlozlsca   \n",
       "0  b0a773c0-3b79-4838-a6b6-015f366da8a7        Tie     carlozlsca   \n",
       "0  3099f1e3-c911-4620-9bec-73db7cec6b7c     Defeat         BHEC35   \n",
       "0  beaccaff-8166-4fe8-94ba-fd18ad7a83e1     Defeat  thefishhawk88   \n",
       "0  3565e2b7-da54-4887-8529-a14b4ac13c90    Victory    CrilledKing   \n",
       "0  7a4ca104-7242-4efe-a53e-fb5295d7b092    Victory    ALEXGMZ1735   \n",
       "\n",
       "  P1_SpartanRank P1_PrevTotalXP P1_TotalKills  ... E4_TotalPowerWeaponGrabs  \\\n",
       "0            145        7927665         10716  ...                        0   \n",
       "0            150       28397558         42352  ...                        0   \n",
       "0            149       21880789         34544  ...                        8   \n",
       "0            150       25502134        111530  ...                        0   \n",
       "0            145        7899524         10716  ...                        6   \n",
       "0            151       38814971         70002  ...                        3   \n",
       "0            145        7875937         10716  ...                        0   \n",
       "0            151       39371766         69311  ...                        0   \n",
       "0            151       39370615         69311  ...                        4   \n",
       "0            148       16724387         12724  ...                        8   \n",
       "0            150       25262257         25315  ...                        0   \n",
       "0            145        7762735         10716  ...                        2   \n",
       "0            145        7760694         10716  ...                        8   \n",
       "0            149       18206022         12484  ...                        0   \n",
       "0            149       18204445         12484  ...                        0   \n",
       "0            149       21248538         21341  ...                        0   \n",
       "0            144        7695132         10716  ...                       14   \n",
       "0            147       13992661         27887  ...                        1   \n",
       "0            141        6517454         25497  ...                        2   \n",
       "\n",
       "  E4_TotalPowerWeaponPossessionTime E4_TotalDeaths E4_TotalAssists  \\\n",
       "0                     PT1H13M0.033S            221             104   \n",
       "0                   PT7H43M36.3351S           1499             870   \n",
       "0                  PT22H25M34.2333S           4271            2665   \n",
       "0                    PT1H6M18.4336S            246             133   \n",
       "0                  PT14H46M29.6826S           4689            1598   \n",
       "0                    PT3H5M39.0671S            496             250   \n",
       "0                    PT1H2M19.8996S            219             112   \n",
       "0                   PT4H13M49.1999S           1479             562   \n",
       "0                   PT7H10M41.0841S           1031             710   \n",
       "0                   PT9H31M48.3193S           1876            1034   \n",
       "0                     PT23M43.9167S            100              41   \n",
       "0                   PT1H10M40.9507S            329             125   \n",
       "0                      PT2M10.0667S            100              30   \n",
       "0                   PT1H33M53.9507S            451             167   \n",
       "0                   PT1H33M53.9507S            451             167   \n",
       "0                   PT2H23M15.8837S            813             465   \n",
       "0                P1DT18H24M38.6286S           8857            4553   \n",
       "0                   PT1H41M40.0165S            479             260   \n",
       "0                P1DT15H15M29.3292S          13574            4689   \n",
       "\n",
       "  E4_TotalGamesCompleted E4_TotalGamesWon E4_TotalGamesLost E4_TotalGamesTied  \\\n",
       "0                     19                5                12                 2   \n",
       "0                    164               67                79                18   \n",
       "0                    416              153               202                61   \n",
       "0                     23               12                 8                 3   \n",
       "0                    272              141                95                36   \n",
       "0                     60               22                30                 8   \n",
       "0                     18                5                 8                 5   \n",
       "0                     84               34                36                14   \n",
       "0                    121               37                66                18   \n",
       "0                    185               82                83                20   \n",
       "0                      7                0                 5                 2   \n",
       "0                     23               12                 9                 2   \n",
       "0                     11                9                 2                 0   \n",
       "0                     31               11                15                 5   \n",
       "0                     31               11                15                 5   \n",
       "0                     57               30                21                 6   \n",
       "0                    726              296               327               103   \n",
       "0                     50               13                36                 1   \n",
       "0                    764              460               241                63   \n",
       "\n",
       "  E4_TotalTimePlayed E4_TotalGrenadeKills  \n",
       "0            2.13649                    8  \n",
       "0            15.1028                   42  \n",
       "0             42.254                  176  \n",
       "0            2.20897                    4  \n",
       "0            29.0776                  115  \n",
       "0            5.70578                   11  \n",
       "0             1.8796                    8  \n",
       "0            8.65847                   44  \n",
       "0            12.8173                   34  \n",
       "0            19.0732                   94  \n",
       "0           0.696157                    0  \n",
       "0            2.90721                   10  \n",
       "0            1.23661                    0  \n",
       "0            3.26949                    8  \n",
       "0            3.26949                    8  \n",
       "0             6.7885                   52  \n",
       "0             74.734                  497  \n",
       "0            4.56464                   18  \n",
       "0            79.3112                  119  \n",
       "\n",
       "[19 rows x 230 columns]"
      ]
     },
     "execution_count": 25,
     "metadata": {},
     "output_type": "execute_result"
    }
   ],
   "source": [
    "gamertag_list = unique_gamertags[0:100]\n",
    "\n",
    "def model_recent_match_stats(gamertag_list, back_count=0, count=25):\n",
    "    df = pd.DataFrame()\n",
    "    \n",
    "    for gamertag in tqdm(gamertag_list):\n",
    "        latest_count_matches = model_pull_matches(0, gamertag=gamertag, count=count)\n",
    "        time.sleep(1.01)\n",
    "        \n",
    "        error_count = 0\n",
    "        i = 0\n",
    "        for match in latest_count_matches:\n",
    "            \n",
    "            try:\n",
    "                \n",
    "                base_df = build_base_dataframe(match, gamertag=gamertag)\n",
    "\n",
    "                player_list = get_player_list(base_df)\n",
    "\n",
    "                player_history = get_player_history(base_df)\n",
    "            \n",
    "                history_df = build_history_dataframe(player_history, match_results['GameBaseVariantId'])\n",
    "                full_stats_df = pd.merge(base_df, history_df, how='inner', on = 'Gamertag')\n",
    "                row = one_row(full_stats_df, for_model=True)\n",
    "                df = df.append(row)\n",
    "                i += 1\n",
    "                print(f'{i} rows added to model dataframe')\n",
    "                \n",
    "                time.sleep(1.01)\n",
    "            except:\n",
    "                error_count += 1\n",
    "                print(f'{i} rows returned error when getting player history')\n",
    "                time.sleep(1.01)\n",
    "                error_count += 1\n",
    "                continue\n",
    "    return df\n",
    "#     return base_df, history_df, player_list, player_history, full_stats_df\n",
    "# base_df, history_df, player_list, player_history, full_stats_df = recent_match_stats('thefishhawk88', back_count=20)\n",
    "# \n",
    "model_df = model_recent_match_stats(gamertag_list, back_count=0, count=25)\n",
    "model_df.to_csv('model_df_test.csv')\n",
    "model_df"
   ]
  },
  {
   "cell_type": "code",
   "execution_count": null,
   "metadata": {},
   "outputs": [],
   "source": [
    "model_df.to_csv('model_df_test.csv')"
   ]
  },
  {
   "cell_type": "markdown",
   "metadata": {},
   "source": [
    "## Full Pull with Player List"
   ]
  },
  {
   "cell_type": "code",
   "execution_count": null,
   "metadata": {
    "ExecuteTime": {
     "end_time": "2021-07-19T15:01:45.314047Z",
     "start_time": "2021-07-19T15:01:32.707159Z"
    }
   },
   "outputs": [],
   "source": [
    "gamertag_list = ['thefishhawk88', 'Drymander', 'ATLkrunk420']\n",
    "gamertag_errors = []\n",
    "\n",
    "def pull_model_rows(gamertag_list):\n",
    "    df = pd.DataFrame()\n",
    "    for gamertag in gamertag_list:\n",
    "#         try:\n",
    "            match = recent_match_stats(gamertag, back_count=0)\n",
    "            row = one_row(match, for_model=True)\n",
    "            df = df.append(row)\n",
    "            time.sleep(1.01)\n",
    "#         except:\n",
    "#             continue\n",
    "        \n",
    "    return df\n",
    "    \n",
    "df_append = pull_model_rows(gamertag_list)\n",
    "df_append"
   ]
  },
  {
   "cell_type": "code",
   "execution_count": null,
   "metadata": {},
   "outputs": [],
   "source": []
  },
  {
   "cell_type": "code",
   "execution_count": null,
   "metadata": {
    "ExecuteTime": {
     "end_time": "2021-07-19T05:15:31.947815Z",
     "start_time": "2021-07-19T05:15:28.627689Z"
    }
   },
   "outputs": [],
   "source": [
    "recent_match_stats('ATLkrunk420', back_count=0)"
   ]
  },
  {
   "cell_type": "code",
   "execution_count": null,
   "metadata": {
    "ExecuteTime": {
     "end_time": "2021-07-19T05:12:21.488611Z",
     "start_time": "2021-07-19T05:12:21.484609Z"
    }
   },
   "outputs": [],
   "source": [
    "# df = pd.DataFrame()\n",
    "test"
   ]
  },
  {
   "cell_type": "code",
   "execution_count": null,
   "metadata": {
    "ExecuteTime": {
     "end_time": "2021-07-19T05:06:27.256505Z",
     "start_time": "2021-07-19T05:06:23.759478Z"
    }
   },
   "outputs": [],
   "source": [
    "pull_model_rows(['thefishhawk88'])"
   ]
  },
  {
   "cell_type": "code",
   "execution_count": null,
   "metadata": {
    "ExecuteTime": {
     "end_time": "2021-07-19T04:59:56.457254Z",
     "start_time": "2021-07-19T04:59:53.424485Z"
    }
   },
   "outputs": [],
   "source": [
    "model_df = pd.DataFrame()\n",
    "model_df.append(pull_model_rows(gamertag_list))"
   ]
  },
  {
   "cell_type": "code",
   "execution_count": null,
   "metadata": {
    "ExecuteTime": {
     "end_time": "2021-07-19T04:53:08.614115Z",
     "start_time": "2021-07-19T04:53:01.549149Z"
    }
   },
   "outputs": [],
   "source": [
    "first = one_row(recent_match_stats('Drymander', back_count=0))\n",
    "second = one_row(recent_match_stats('thefishhawk88', back_count=0))\n",
    "first.append(second)"
   ]
  },
  {
   "cell_type": "code",
   "execution_count": null,
   "metadata": {
    "ExecuteTime": {
     "end_time": "2021-07-19T04:53:50.654234Z",
     "start_time": "2021-07-19T04:53:47.522239Z"
    }
   },
   "outputs": [],
   "source": [
    "second = one_row(recent_match_stats('thefishhawk88', back_count=0))\n",
    "second"
   ]
  },
  {
   "cell_type": "code",
   "execution_count": null,
   "metadata": {
    "ExecuteTime": {
     "end_time": "2021-07-19T04:27:18.562300Z",
     "start_time": "2021-07-19T04:27:18.558299Z"
    }
   },
   "outputs": [],
   "source": [
    "df_player\n",
    "\n",
    "if df_player['Winner'].str.contains('Defeat').any():\n",
    "    print (\"Mel is there\")"
   ]
  },
  {
   "cell_type": "markdown",
   "metadata": {},
   "source": [
    "# Plotting Graphs"
   ]
  },
  {
   "cell_type": "code",
   "execution_count": null,
   "metadata": {
    "ExecuteTime": {
     "end_time": "2021-07-14T22:15:09.990760Z",
     "start_time": "2021-07-14T22:15:09.058557Z"
    }
   },
   "outputs": [],
   "source": [
    "import plotly.express as px\n",
    "# df = df\n",
    "fig = px.bar(df, x='TotalTimePlayed', y='Gamertag', orientation='h')\n",
    "fig.show()"
   ]
  },
  {
   "cell_type": "code",
   "execution_count": null,
   "metadata": {
    "ExecuteTime": {
     "end_time": "2021-07-14T22:16:07.847156Z",
     "start_time": "2021-07-14T22:16:03.481076Z"
    }
   },
   "outputs": [],
   "source": [
    "df = recent_match_stats('Drymander', 2)"
   ]
  },
  {
   "cell_type": "code",
   "execution_count": null,
   "metadata": {
    "ExecuteTime": {
     "end_time": "2021-07-14T20:20:24.021445Z",
     "start_time": "2021-07-14T20:20:24.007449Z"
    }
   },
   "outputs": [],
   "source": [
    "df"
   ]
  },
  {
   "cell_type": "code",
   "execution_count": null,
   "metadata": {
    "ExecuteTime": {
     "end_time": "2021-07-14T22:16:08.671994Z",
     "start_time": "2021-07-14T22:16:08.666001Z"
    }
   },
   "outputs": [],
   "source": [
    "df.to_csv('match.csv')"
   ]
  },
  {
   "cell_type": "code",
   "execution_count": null,
   "metadata": {
    "ExecuteTime": {
     "end_time": "2021-07-14T21:51:05.364196Z",
     "start_time": "2021-07-14T21:51:05.359195Z"
    }
   },
   "outputs": [],
   "source": [
    "%%writefile 'filename.py'\n",
    "\n",
    "fname = 'generated.py'\n",
    "data = 5\n",
    "\n",
    "with open(fname, 'w') as f:\n",
    "    f.write('data = [{}]'.format(data))\n",
    "\n",
    "import generated\n",
    "print(generated.data)\n",
    "\n",
    "print('test')"
   ]
  },
  {
   "cell_type": "code",
   "execution_count": null,
   "metadata": {},
   "outputs": [],
   "source": [
    "df = recent_match_stats('Drymander', 4)"
   ]
  },
  {
   "cell_type": "code",
   "execution_count": null,
   "metadata": {
    "ExecuteTime": {
     "end_time": "2021-07-15T01:29:07.760794Z",
     "start_time": "2021-07-15T01:29:04.325157Z"
    }
   },
   "outputs": [],
   "source": [
    "# %%writefile compare_stat.py\n",
    "\n",
    "df = recent_match_stats('Drymander', 0)\n",
    "\n",
    "import plotly.graph_objects as go\n",
    "# from plotly.subplots import make_subplots\n",
    "from plotly.subplots import make_subplots\n",
    "def compare_stat(df, column_name):\n",
    "\n",
    "    # Separate player and enemy teams\n",
    "    df_player = df.loc[df['PlayerTeam'] == 'Player']\n",
    "    df_enemy = df.loc[df['PlayerTeam'] == 'Enemy']\n",
    "\n",
    "    # Sort total time played by descending\n",
    "    df_player = df_player.sort_values(by=[column_name])\n",
    "    df_enemy = df_enemy.sort_values(by=[column_name])\n",
    "\n",
    "    # Assign player / enemy colors\n",
    "    if df_player['TeamColor'].iloc[0] == 'Blue':\n",
    "        player_color = 'Blue'\n",
    "        enemy_color = 'Red'\n",
    "    else:\n",
    "        player_color = 'Red'\n",
    "        enemy_color = 'Blue'\n",
    "    \n",
    "    # Make subplot and X axis range\n",
    "    fig = make_subplots(rows=2, cols=1, subplot_titles=['Player Team', 'Enemy Team'])\n",
    "    x_range = df[column_name].max()\n",
    "    \n",
    "    # Player team sub plot\n",
    "    fig.add_trace(go.Bar(\n",
    "                x=df_player[column_name],\n",
    "                y=df_player['Gamertag'],\n",
    "                orientation='h',\n",
    "                text=df_player[column_name].round(2),\n",
    "                textposition='auto',\n",
    "                marker_color=player_color),\n",
    "                    row=1, col=1)\n",
    "    fig.update_xaxes(range=[0, x_range], row=1, col=1)\n",
    "    \n",
    "    # Enemy team sub plot\n",
    "    fig.add_trace(go.Bar(\n",
    "                x=df_enemy[column_name],\n",
    "                y=df_enemy['Gamertag'],\n",
    "                orientation='h',\n",
    "                text=df_enemy[column_name].round(2),\n",
    "                textposition='auto',\n",
    "                marker_color=enemy_color),\n",
    "                    row=2, col=1)\n",
    "    fig.update_xaxes(range=[0, x_range], row=2, col=1)\n",
    "    fig.update_layout(title_text='test')\n",
    "    return fig\n",
    "\n",
    "compare_stat(df, 'TotalTimePlayed')"
   ]
  },
  {
   "cell_type": "code",
   "execution_count": null,
   "metadata": {
    "ExecuteTime": {
     "end_time": "2021-07-15T01:31:22.788643Z",
     "start_time": "2021-07-15T01:31:22.758636Z"
    }
   },
   "outputs": [],
   "source": [
    "compare_stat(df, 'TotalTimePlayed')\n",
    "compare_stat(df, 'WinRate')"
   ]
  },
  {
   "cell_type": "code",
   "execution_count": null,
   "metadata": {
    "ExecuteTime": {
     "end_time": "2021-07-15T01:31:57.245566Z",
     "start_time": "2021-07-15T01:31:57.225561Z"
    }
   },
   "outputs": [],
   "source": [
    "compare_stat(df, 'K/D')"
   ]
  },
  {
   "cell_type": "code",
   "execution_count": null,
   "metadata": {
    "ExecuteTime": {
     "end_time": "2021-07-15T01:32:41.172032Z",
     "start_time": "2021-07-15T01:32:41.152028Z"
    }
   },
   "outputs": [],
   "source": [
    "compare_stat(df, 'Accuracy')"
   ]
  },
  {
   "cell_type": "markdown",
   "metadata": {},
   "source": [
    "# Streamlit"
   ]
  },
  {
   "cell_type": "code",
   "execution_count": null,
   "metadata": {
    "ExecuteTime": {
     "end_time": "2021-07-12T20:55:12.830433Z",
     "start_time": "2021-07-12T20:55:10.386456Z"
    }
   },
   "outputs": [],
   "source": [
    "# !pip install streamlit\n",
    "\n",
    "# !pip install --upgrade protobuf"
   ]
  },
  {
   "cell_type": "code",
   "execution_count": null,
   "metadata": {
    "ExecuteTime": {
     "end_time": "2021-07-12T21:06:11.476999Z",
     "start_time": "2021-07-12T21:06:11.474999Z"
    }
   },
   "outputs": [],
   "source": [
    "import streamlit as st"
   ]
  },
  {
   "cell_type": "code",
   "execution_count": null,
   "metadata": {
    "ExecuteTime": {
     "end_time": "2021-07-13T18:26:22.456887Z",
     "start_time": "2021-07-13T18:26:22.452886Z"
    }
   },
   "outputs": [],
   "source": [
    "st.title('My first fdsfdsa app')\n",
    "\n",
    "st.write(\"Here's our first attempt at using data to create a table:\")\n",
    "st.write(pd.DataFrame({\n",
    "    'first column': [1, 2, 3, 4],\n",
    "    'second column': [10, 20, 30, 40]\n",
    "    }))"
   ]
  },
  {
   "cell_type": "code",
   "execution_count": null,
   "metadata": {
    "ExecuteTime": {
     "end_time": "2021-07-13T18:26:29.145126Z",
     "start_time": "2021-07-13T18:26:29.125121Z"
    }
   },
   "outputs": [],
   "source": [
    "chart_data = pd.DataFrame(\n",
    "     np.random.randn(20, 3),\n",
    "     columns=['a', 'b', 'c'])\n",
    "\n",
    "st.line_chart(chart_data)"
   ]
  },
  {
   "cell_type": "code",
   "execution_count": null,
   "metadata": {},
   "outputs": [],
   "source": []
  },
  {
   "cell_type": "code",
   "execution_count": null,
   "metadata": {},
   "outputs": [],
   "source": []
  },
  {
   "cell_type": "markdown",
   "metadata": {},
   "source": [
    "# Unused Code"
   ]
  },
  {
   "cell_type": "code",
   "execution_count": null,
   "metadata": {},
   "outputs": [],
   "source": [
    "for variant in players_stats['Results'][0]['Result']['ArenaStats']['ArenaGameBaseVariantStats']:\n",
    "    if variant['GameBaseVariantId'] == variant_id:\n",
    "        variant_stats = variant\n",
    "    else:\n",
    "        continue\n",
    "        \n",
    "variant_stats['TotalKills']"
   ]
  },
  {
   "cell_type": "code",
   "execution_count": null,
   "metadata": {},
   "outputs": [],
   "source": []
  },
  {
   "cell_type": "markdown",
   "metadata": {},
   "source": [
    "## All stats"
   ]
  },
  {
   "cell_type": "code",
   "execution_count": null,
   "metadata": {},
   "outputs": [],
   "source": [
    "# pip install isodate\n",
    "\n",
    "import isodate\n",
    "\n",
    "variant_dic = {}\n",
    "variant_dic['Gamertag'] = players_stats['Results'][0]['Id']\n",
    "variant_dic['TotalTimePlayed']= isodate.parse_duration(variant_stats['TotalTimePlayed']).total_seconds() / 3600\n",
    "variant_dic['K/D'] = variant_stats['TotalKills'] / variant_stats['TotalDeaths']\n",
    "variant_dic['Accuracy'] = variant_stats['TotalShotsLanded'] / variant_stats['TotalShotsFired']\n",
    "variant_dic['WinRate'] = variant_stats['TotalGamesWon'] / variant_stats['TotalGamesLost']\n",
    "\n",
    "variant_dic"
   ]
  },
  {
   "cell_type": "code",
   "execution_count": null,
   "metadata": {},
   "outputs": [],
   "source": [
    "vdf.append(variant_dic, ignore_index=True)"
   ]
  },
  {
   "cell_type": "markdown",
   "metadata": {},
   "source": [
    "## Additional Player History Stats"
   ]
  },
  {
   "cell_type": "code",
   "execution_count": null,
   "metadata": {},
   "outputs": [],
   "source": [
    "# variant_dic['TotalHeadshots']= variant_stats['TotalHeadshots']\n",
    "# variant_dic['TotalWeaponDamage']= variant_stats['TotalWeaponDamage']\n",
    "# variant_dic['TotalShotsFired']= variant_stats['TotalShotsFired']\n",
    "# variant_dic['TotalShotsLanded']= variant_stats['TotalShotsLanded']\n",
    "# variant_dic['TotalMeleeKills']= variant_stats['TotalMeleeKills']\n",
    "# variant_dic['TotalMeleeDamage']= variant_stats['TotalMeleeDamage']\n",
    "# variant_dic['TotalAssassinations']= variant_stats['TotalAssassinations']\n",
    "# variant_dic['TotalGroundPoundKills']= variant_stats['TotalGroundPoundKills']\n",
    "# variant_dic['TotalGroundPoundDamage']= variant_stats['TotalGroundPoundDamage']\n",
    "# variant_dic['TotalShoulderBashKills']= variant_stats['TotalShoulderBashKills']\n",
    "# variant_dic['TotalShoulderBashDamage']= variant_stats['TotalShoulderBashDamage']\n",
    "# variant_dic['TotalGrenadeDamage']= variant_stats['TotalGrenadeDamage']\n",
    "# variant_dic['TotalPowerWeaponKills']= variant_stats['TotalPowerWeaponKills']\n",
    "# variant_dic['TotalPowerWeaponDamage']= variant_stats['TotalPowerWeaponDamage']\n",
    "# variant_dic['TotalPowerWeaponGrabs']= variant_stats['TotalPowerWeaponGrabs']\n",
    "# variant_dic['TotalPowerWeaponPossessionTime']= isodate.parse_duration(variant_stats['TotalPowerWeaponPossessionTime']).total_seconds() / 3600\n",
    "# variant_dic['TotalDeaths']= variant_stats['TotalDeaths']\n",
    "# variant_dic['TotalAssists']= variant_stats['TotalAssists']\n",
    "# variant_dic['TotalGamesCompleted']= variant_stats['TotalGamesCompleted']\n",
    "# variant_dic['TotalGamesWon']= variant_stats['TotalGamesWon']\n",
    "# variant_dic['TotalGamesLost']= variant_stats['TotalGamesLost']\n",
    "# variant_dic['TotalGamesTied']= variant_stats['TotalGamesTied']\n",
    "# variant_dic['TotalGrenadeKills']= variant_stats['TotalGrenadeKills']\n",
    "# variant_dic['TotalKills']= variant_stats['TotalKills']"
   ]
  },
  {
   "cell_type": "markdown",
   "metadata": {},
   "source": [
    "## Build base match dataframe from pull_recent_match"
   ]
  },
  {
   "cell_type": "code",
   "execution_count": null,
   "metadata": {},
   "outputs": [],
   "source": [
    "match_results = pull_recent_match(2494)\n",
    "\n",
    "i = 0\n",
    "\n",
    "df_match = pd.DataFrame()\n",
    "columns = [\n",
    "    'TeamId',\n",
    "    'Gamertag',\n",
    "    'SpartanRank',\n",
    "    'PrevTotalXP',\n",
    "]\n",
    "df_match = pd.DataFrame(columns = columns)\n",
    "\n",
    "for player in match_results['PlayerStats']:\n",
    "\n",
    "    player_dic = {}\n",
    "    # Team ID\n",
    "    player_dic['TeamId'] = match_results['PlayerStats'][i]['TeamId']\n",
    "    # Gamer Tag\n",
    "    player_dic['Gamertag'] = match_results['PlayerStats'][i]['Player']['Gamertag']\n",
    "    # Spartan Rank\n",
    "    player_dic['SpartanRank'] = match_results['PlayerStats'][i]['XpInfo']['SpartanRank']\n",
    "    # Previous Total XP\n",
    "    player_dic['PrevTotalXP'] = match_results['PlayerStats'][i]['XpInfo']['PrevTotalXP']\n",
    "    df_match = df_match.append(player_dic, ignore_index=True)\n",
    "    i += 1\n",
    "\n",
    "# Define winner\n",
    "\n",
    "playerteam = df_match.loc[df_match['Gamertag'] == user, 'TeamId'].values[0]\n",
    "\n",
    "if match_results['TeamStats'][0]['TeamId'] == playerteam:\n",
    "    playerteam_stats = match_results['TeamStats'][0]\n",
    "    enemyteam_stats = match_results['TeamStats'][1]\n",
    "else: \n",
    "    playerteam_stats = match_results['TeamStats'][1]\n",
    "    enemyteam_stats = match_results['TeamStats'][0]\n",
    "\n",
    "print(playerteam_stats['Rank'])\n",
    "print(enemyteam_stats['Rank'])\n",
    "\n",
    "# Tie\n",
    "if playerteam_stats['Rank'] == 1 and enemyteam_stats['Rank'] == 1:\n",
    "    winner = 'Tie'\n",
    "# Player wins\n",
    "elif playerteam_stats['Rank'] == 1 and enemyteam_stats['Rank'] == 2:\n",
    "    winner = 'Player'\n",
    "# Enemy wins\n",
    "elif playerteam_stats['Rank'] == 2 and enemyteam_stats['Rank'] == 1:\n",
    "    winner = 'Enemy'\n",
    "# Error handling\n",
    "else:\n",
    "    winner = 'Error determining winner'\n",
    "\n",
    "print(f'{winner} won the game')\n",
    "\n",
    "df_match"
   ]
  },
  {
   "cell_type": "markdown",
   "metadata": {},
   "source": [
    "## Player History Base Code"
   ]
  },
  {
   "cell_type": "code",
   "execution_count": null,
   "metadata": {},
   "outputs": [],
   "source": []
  },
  {
   "cell_type": "code",
   "execution_count": null,
   "metadata": {
    "ExecuteTime": {
     "end_time": "2021-07-12T18:04:09.433111Z",
     "start_time": "2021-07-12T18:04:09.397101Z"
    }
   },
   "outputs": [],
   "source": [
    "vdf_columns = [\n",
    "    'Gamertag',\n",
    "    'TotalTimePlayed',\n",
    "    'K/D',\n",
    "    'Accuracy',\n",
    "    'WinRate',\n",
    "]\n",
    "\n",
    "vdf = pd.DataFrame(columns = vdf_columns)\n",
    "\n",
    "i = 0\n",
    "\n",
    "for player in player_history['Results']:\n",
    "\n",
    "    \n",
    "    for variant in player['Result']['ArenaStats']['ArenaGameBaseVariantStats']:\n",
    "        if variant['GameBaseVariantId'] == variant_id:\n",
    "            variant_stats = variant\n",
    "#         else:\n",
    "#             continue\n",
    "            \n",
    "    variant_dic = {}\n",
    "    variant_dic['Gamertag'] = player_history['Results'][i]['Id']\n",
    "    variant_dic['TotalTimePlayed']= isodate.parse_duration(variant_stats['TotalTimePlayed']).total_seconds() / 3600\n",
    "    variant_dic['K/D'] = variant_stats['TotalKills'] / variant_stats['TotalDeaths']\n",
    "    variant_dic['Accuracy'] = variant_stats['TotalShotsLanded'] / variant_stats['TotalShotsFired']\n",
    "    variant_dic['WinRate'] = variant_stats['TotalGamesWon'] / variant_stats['TotalGamesLost']\n",
    "    vdf = vdf.append(variant_dic, True)\n",
    "    \n",
    "    i += 1\n",
    "    \n",
    "vdf"
   ]
  },
  {
   "cell_type": "markdown",
   "metadata": {},
   "source": [
    "## Full Match Detail Function Diagnostics"
   ]
  },
  {
   "cell_type": "code",
   "execution_count": null,
   "metadata": {
    "ExecuteTime": {
     "end_time": "2021-07-12T19:23:33.761537Z",
     "start_time": "2021-07-12T19:23:33.751534Z"
    }
   },
   "outputs": [],
   "source": [
    "base_df"
   ]
  },
  {
   "cell_type": "code",
   "execution_count": null,
   "metadata": {
    "ExecuteTime": {
     "end_time": "2021-07-12T19:23:36.648205Z",
     "start_time": "2021-07-12T19:23:36.645213Z"
    }
   },
   "outputs": [],
   "source": [
    "player_list"
   ]
  },
  {
   "cell_type": "code",
   "execution_count": null,
   "metadata": {
    "ExecuteTime": {
     "end_time": "2021-07-12T19:23:39.162055Z",
     "start_time": "2021-07-12T19:23:38.983014Z"
    }
   },
   "outputs": [],
   "source": [
    "player_history['Results'][0]"
   ]
  },
  {
   "cell_type": "code",
   "execution_count": null,
   "metadata": {
    "ExecuteTime": {
     "end_time": "2021-07-12T19:23:48.079191Z",
     "start_time": "2021-07-12T19:23:48.070195Z"
    }
   },
   "outputs": [],
   "source": [
    "history_df # history DF not responding to back_count = 20"
   ]
  },
  {
   "cell_type": "code",
   "execution_count": null,
   "metadata": {
    "ExecuteTime": {
     "end_time": "2021-07-12T19:23:49.156042Z",
     "start_time": "2021-07-12T19:23:49.143041Z"
    }
   },
   "outputs": [],
   "source": [
    "full_stats_df"
   ]
  },
  {
   "cell_type": "code",
   "execution_count": null,
   "metadata": {},
   "outputs": [],
   "source": []
  },
  {
   "cell_type": "code",
   "execution_count": null,
   "metadata": {},
   "outputs": [],
   "source": []
  },
  {
   "cell_type": "code",
   "execution_count": null,
   "metadata": {},
   "outputs": [],
   "source": [
    "# player_df_spartanrank = player_df.copy()\n",
    "\n",
    "row_count = 0\n",
    "\n",
    "for match in tqdm(match_details):\n",
    "# for match in tqdm(mds):\n",
    "    \n",
    "#     try:\n",
    "        data = match\n",
    "        df_match = pd.DataFrame()\n",
    "        columns = [\n",
    "            'TeamId',\n",
    "            'Gamertag',\n",
    "            'SpartanRank',\n",
    "            'PrevTotalXP',\n",
    "        ]\n",
    "        df_match = pd.DataFrame(columns = columns)\n",
    "        i = 0\n",
    "\n",
    "        if len(data['PlayerStats']) != 8:\n",
    "            continue\n",
    "\n",
    "        for player in data['PlayerStats']:\n",
    "\n",
    "            player_dic = {}\n",
    "            # Team ID\n",
    "            player_dic['TeamId'] = data['PlayerStats'][i]['TeamId']\n",
    "            if player_dic['TeamId'] not in (0, 1):\n",
    "                continue\n",
    "            # Gamer Tag\n",
    "            player_dic['Gamertag'] = data['PlayerStats'][i]['Player']['Gamertag']\n",
    "            # Spartan Rank\n",
    "            player_dic['SpartanRank'] = data['PlayerStats'][i]['XpInfo']['SpartanRank']\n",
    "            # Previous Total XP\n",
    "            player_dic['PrevTotalXP'] = data['PlayerStats'][i]['XpInfo']['PrevTotalXP']\n",
    "            df_match = df_match.append(player_dic, ignore_index=True)\n",
    "            i += 1\n",
    "\n",
    "            playerteam = df_match.loc[df_match['Gamertag'] == user, 'TeamId'].values[0]\n",
    "\n",
    "            if data['TeamStats'][0]['Rank'] == 1:\n",
    "                winner = 0\n",
    "            else: winner = 1\n",
    "\n",
    "            if winner == playerteam:\n",
    "                player_win = 1\n",
    "            else:\n",
    "                player_win = 0\n",
    "            \n",
    "        player_df = df_match.loc[df_match['TeamId'] == playerteam]\n",
    "        enemy_df = df_match.loc[df_match['TeamId'] != playerteam]\n",
    "\n",
    "        row_list = []\n",
    "        row_list.append(match['MatchId'])\n",
    "        row_list.append(player_win)\n",
    "        for row in range(len(player_df)):\n",
    "            row_list.extend(list(player_df.iloc[row].values[1:]))\n",
    "        for row in range(len(enemy_df)):\n",
    "            row_list.extend(list(enemy_df.iloc[row].values[1:]))\n",
    "\n",
    "        match_details_df.loc[row_count] = row_list\n",
    "#         print(row_list)\n",
    "        row_count += 1\n",
    " \n",
    "#     except:\n",
    "#         continue\n",
    "    \n",
    "match_details_df"
   ]
  },
  {
   "cell_type": "markdown",
   "metadata": {},
   "source": [
    "## Jupyter Notebook Streamlit"
   ]
  },
  {
   "cell_type": "code",
   "execution_count": null,
   "metadata": {},
   "outputs": [],
   "source": []
  },
  {
   "cell_type": "code",
   "execution_count": null,
   "metadata": {
    "ExecuteTime": {
     "end_time": "2021-07-14T19:23:30.636255Z",
     "start_time": "2021-07-14T19:23:26.845189Z"
    }
   },
   "outputs": [],
   "source": [
    "df = recent_match_stats('Drymander', back_count=1)\n",
    "df\n",
    "\n",
    "fig = plt.figure()\n",
    "fig.patch.set_facecolor('white')\n",
    "fig.patch.set_alpha(0.6)\n",
    "\n",
    "ax = plt.axes()\n",
    "ax.set_facecolor(\"white\")\n",
    "# OR\n",
    "\n",
    "plt.barh( df['Gamertag'], df['TotalTimePlayed'].sort_values())\n",
    "\n",
    "# setting label of y-axis\n",
    "plt.ylabel(\"Gamertag\")\n",
    "  \n",
    "# setting label of x-axis\n",
    "plt.xlabel(\"Hours\") \n",
    "plt.title(\"Time Played\")\n",
    "plt.show()"
   ]
  },
  {
   "cell_type": "markdown",
   "metadata": {},
   "source": [
    "## Old Var Dic Code"
   ]
  },
  {
   "cell_type": "code",
   "execution_count": null,
   "metadata": {},
   "outputs": [],
   "source": [
    "'TotalKills',\n",
    "'TotalHeadshots',\n",
    "'TotalWeaponDamage',\n",
    "'TotalShotsFired',\n",
    "'TotalShotsLanded',\n",
    "'TotalMeleeKills',\n",
    "'TotalMeleeDamage',\n",
    "'TotalAssassinations',\n",
    "'TotalGroundPoundKills',\n",
    "'TotalGroundPoundDamage',\n",
    "'TotalShoulderBashKills',\n",
    "'TotalShoulderBashDamage',\n",
    "'TotalGrenadeDamage',\n",
    "'TotalPowerWeaponKills',\n",
    "'TotalPowerWeaponDamage',\n",
    "'TotalPowerWeaponGrabs',\n",
    "'TotalPowerWeaponPossessionTime',\n",
    "'TotalDeaths',\n",
    "'TotalAssists',\n",
    "'TotalGamesCompleted',\n",
    "'TotalGamesWon',\n",
    "'TotalGamesLost',\n",
    "'TotalGamesTied',\n",
    "'TotalTimePlayed',\n",
    "'TotalGrenadeKills',\n"
   ]
  },
  {
   "cell_type": "code",
   "execution_count": null,
   "metadata": {},
   "outputs": [],
   "source": [
    "        variant_dic = {}\n",
    "        variant_dic['Gamertag'] = player_history['Results'][i]['Id']\n",
    "        variant_dic['TotalTimePlayed']= isodate.parse_duration(variant_stats['TotalTimePlayed']).total_seconds() / 3600\n",
    "        variant_dic['K/D'] = variant_stats['TotalKills'] / variant_stats['TotalDeaths']\n",
    "        variant_dic['Accuracy'] = variant_stats['TotalShotsLanded'] / variant_stats['TotalShotsFired']\n",
    "        variant_dic['WinRate'] = variant_stats['TotalGamesWon'] / variant_stats['TotalGamesLost']\n",
    "        vdf = vdf.append(variant_dic, True)"
   ]
  },
  {
   "cell_type": "markdown",
   "metadata": {},
   "source": [
    "## Unused code for converting match dataframe to one row"
   ]
  },
  {
   "cell_type": "code",
   "execution_count": null,
   "metadata": {},
   "outputs": [],
   "source": []
  },
  {
   "cell_type": "code",
   "execution_count": null,
   "metadata": {
    "ExecuteTime": {
     "end_time": "2021-07-19T02:49:26.244244Z",
     "start_time": "2021-07-19T02:49:26.216238Z"
    }
   },
   "outputs": [],
   "source": [
    "df_row = df\n",
    "\n",
    "df = df_base.copy()\n",
    "\n",
    "row = {}\n",
    "row['MatchId'] = df['MatchId'].iloc[0]\n",
    "row['GameBaseVariantId'] = df['GameBaseVariantId'].iloc[0]\n",
    "row['PlaylistId'] = df['PlaylistId'].iloc[0]\n",
    "row['MapVariantId'] = df['MapVariantId'].iloc[0]\n",
    "\n",
    "df = df.drop(['MatchId', 'GameBaseVariantId', 'PlaylistId', 'MapVariantId'], axis=1)\n",
    "\n",
    "df_player = df.loc[df['PlayerTeam'] == 'Player']\n",
    "df_enemy = df.loc[df['PlayerTeam'] == 'Enemy']\n",
    "\n",
    "stat_sorter = 'TotalTimePlayed'\n",
    "# Sort total time played by descending\n",
    "df_player = df_player.sort_values(by=[stat_sorter], ascending=False)\n",
    "df_enemy = df_enemy.sort_values(by=[stat_sorter], ascending=False)\n",
    "\n",
    "P1, P2, P3, P4 = ('P1'), ('P2'), ('P3'), ('P4')\n",
    "E1, E2, E3, E4 = ('E1'), ('E2'), ('E3'), ('E4')\n",
    "roster = [P1, P2, P3, P4]\n",
    "\n",
    "for stat in df_player:        \n",
    "    row[stat] = df_player[stat].iloc\n",
    "\n",
    "\n",
    "# P2 = ('P2')\n",
    "# P3 = ('P3')\n",
    "# P4 = ('P4')\n",
    "# E1 = ('E1')\n",
    "# E2 = ('E2')\n",
    "# E3 = ('E3')\n",
    "# E4 = ('E4')\n",
    "\n",
    "row\n",
    "# # df\n",
    "# P4\n",
    "# df_player"
   ]
  },
  {
   "cell_type": "code",
   "execution_count": null,
   "metadata": {
    "ExecuteTime": {
     "end_time": "2021-07-19T03:37:22.307746Z",
     "start_time": "2021-07-19T03:37:22.300752Z"
    }
   },
   "outputs": [],
   "source": [
    "df_base.to_csv('df_base.csv')"
   ]
  },
  {
   "cell_type": "code",
   "execution_count": null,
   "metadata": {
    "ExecuteTime": {
     "end_time": "2021-07-19T03:37:27.589184Z",
     "start_time": "2021-07-19T03:37:27.565187Z"
    },
    "scrolled": true
   },
   "outputs": [],
   "source": [
    "df_base"
   ]
  },
  {
   "cell_type": "code",
   "execution_count": null,
   "metadata": {
    "ExecuteTime": {
     "end_time": "2021-07-19T04:01:10.289372Z",
     "start_time": "2021-07-19T04:01:10.252364Z"
    }
   },
   "outputs": [],
   "source": [
    "column_list = df.columns.to_list()\n",
    "columns_converted = []\n",
    "df = df_base.copy()\n",
    "df = df.drop(df.iloc[:, 0:10], axis = 1)\n",
    "df = df.stack().to_frame().T\n",
    "df.columns = ['{}_{}'.format(*c) for c in df.columns]\n",
    "\n",
    "column_convert_dic = {\"0_\":\"P1-\", \"1_\":\"P2-\",\"2_\":\"P3-\",\"3_\":\"P4-\",\n",
    "                      \"4_\":\"E1-\",\"5_\":\"E2-\",\"6_\":\"E3-\",\"7_\":\"E4-\",}\n",
    "\n",
    "# df.rename(columns=column_convert_dic)\n",
    "for k, v in column_convert_dic.items():\n",
    "    df.columns = df.columns.str.replace(k, v)\n",
    "df.columns = df.columns.str.replace('-', '_')\n",
    "df"
   ]
  },
  {
   "cell_type": "code",
   "execution_count": null,
   "metadata": {
    "ExecuteTime": {
     "end_time": "2021-07-19T03:42:56.384932Z",
     "start_time": "2021-07-19T03:42:56.357924Z"
    }
   },
   "outputs": [],
   "source": [
    "df = df_base.copy()\n",
    "df\n",
    "df = df.drop(df.iloc[:, 0:10], axis = 1)\n",
    "df"
   ]
  },
  {
   "cell_type": "code",
   "execution_count": null,
   "metadata": {},
   "outputs": [],
   "source": [
    "\n",
    "\n",
    "def one_row(df):\n",
    "\n",
    "df = df_base.copy()\n",
    "df = df.sort_values(by=['PlayerTeam', 'TotalTimePlayed'], ascending=(False, False))\n",
    "df = df.reset_index()\n",
    "df_row = df_base.copy().iloc[0:1,0:4]\n",
    "df_player = df_base.loc[df_base['PlayerTeam'] == 'Player']\n",
    "if df_player['Winner'].str.contains('Victory').any():\n",
    "    df_row['WinLoseTie'] = 'Vicotry'\n",
    "elif df_player['Winner'].str.contains('Defeat').any():\n",
    "    df_row['WinLoseTie'] = 'Defeat'\n",
    "elif df_player['Winner'].str.contains('Tie').any():\n",
    "    df_row['WinLoseTie'] = 'Tie'\n",
    "else: \n",
    "    df_row['WinLoseTie'] = 'Error Determining Victor'\n",
    "\n",
    "column_list = df.columns.to_list()\n",
    "columns_converted = []\n",
    "df = df.drop(df.iloc[:, 0:10], axis = 1)\n",
    "df = df.stack().to_frame().T\n",
    "df.columns = ['{}_{}'.format(*c) for c in df.columns]\n",
    "\n",
    "column_convert_dic = {\"0_\":\"P1-\", \"1_\":\"P2-\",\"2_\":\"P3-\",\"3_\":\"P4-\",\n",
    "                      \"4_\":\"E1-\",\"5_\":\"E2-\",\"6_\":\"E3-\",\"7_\":\"E4-\",}\n",
    "\n",
    "# df.rename(columns=column_convert_dic)\n",
    "for k, v in column_convert_dic.items():\n",
    "    df.columns = df.columns.str.replace(k, v)\n",
    "df.columns = df.columns.str.replace('-', '_')\n",
    "df_row.join(df, how='outer')"
   ]
  }
 ],
 "metadata": {
  "kernelspec": {
   "display_name": "learn-env",
   "language": "python",
   "name": "learn-env"
  },
  "language_info": {
   "codemirror_mode": {
    "name": "ipython",
    "version": 3
   },
   "file_extension": ".py",
   "mimetype": "text/x-python",
   "name": "python",
   "nbconvert_exporter": "python",
   "pygments_lexer": "ipython3",
   "version": "3.8.5"
  },
  "toc": {
   "base_numbering": 1,
   "nav_menu": {},
   "number_sections": true,
   "sideBar": true,
   "skip_h1_title": false,
   "title_cell": "Table of Contents",
   "title_sidebar": "Contents",
   "toc_cell": false,
   "toc_position": {
    "height": "calc(100% - 180px)",
    "left": "10px",
    "top": "150px",
    "width": "193.8px"
   },
   "toc_section_display": true,
   "toc_window_display": true
  }
 },
 "nbformat": 4,
 "nbformat_minor": 4
}
