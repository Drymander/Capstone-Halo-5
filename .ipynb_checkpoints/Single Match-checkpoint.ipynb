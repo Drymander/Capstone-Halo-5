{
 "cells": [
  {
   "cell_type": "code",
   "execution_count": null,
   "metadata": {},
   "outputs": [],
   "source": [
    "import jupyterthemes as jt\n",
    "\n",
    "!jt -t chesterish"
   ]
  },
  {
   "cell_type": "code",
   "execution_count": 2,
   "metadata": {
    "ExecuteTime": {
     "end_time": "2021-07-12T20:52:45.750729Z",
     "start_time": "2021-07-12T20:52:44.401426Z"
    }
   },
   "outputs": [],
   "source": [
    "import requests\n",
    "import pandas as pd\n",
    "import matplotlib.pyplot as plt\n",
    "%matplotlib inline\n",
    "import seaborn as sns\n",
    "import numpy as np\n",
    "\n",
    "import json\n",
    "def get_keys(path):\n",
    "    with open(path) as f:\n",
    "        return json.load(f)\n",
    "# keys = get_keys(\"/Users/Johnny/.secret/yelp_api.json\")\n",
    "# api_key = keys['api_key']\n",
    "# pip install tmdbsimple #Ctrl+? this line to install tmdbsimple\n",
    "import tmdbsimple as tmdb\n",
    "# tmdb.API_KEY = api_key\n",
    "\n",
    "scrape = False\n",
    "\n",
    "import ast\n",
    "import time\n",
    "import http.client, urllib.request, urllib.parse, urllib.error, base64\n",
    "\n",
    "api_key = 'ceeaacb7cf024c7485e00ef8457e42dc'\n",
    "\n",
    "\n",
    "# user = 'Drymander'\n",
    "\n",
    "import pickle\n",
    "from tqdm import tqdm\n",
    "\n",
    "# pip install isodate\n",
    "\n",
    "import isodate"
   ]
  },
  {
   "cell_type": "code",
   "execution_count": 3,
   "metadata": {
    "ExecuteTime": {
     "end_time": "2021-07-12T20:52:46.872921Z",
     "start_time": "2021-07-12T20:52:45.751729Z"
    }
   },
   "outputs": [
    {
     "name": "stderr",
     "output_type": "stream",
     "text": [
      "[nltk_data] Downloading package stopwords to\n",
      "[nltk_data]     C:\\Users\\johnn\\AppData\\Roaming\\nltk_data...\n",
      "[nltk_data]   Package stopwords is already up-to-date!\n"
     ]
    }
   ],
   "source": [
    "#Standard python libraries\n",
    "import pandas as pd\n",
    "import seaborn as sns\n",
    "# sns.set_context('talk')\n",
    "import matplotlib.pyplot as plt\n",
    "import numpy as np\n",
    "import warnings\n",
    "warnings.filterwarnings(action='ignore') \n",
    "\n",
    "# Preprocessing tools\n",
    "from sklearn.model_selection import train_test_split,cross_val_predict,cross_validate\n",
    "from sklearn.preprocessing import MinMaxScaler,StandardScaler,OneHotEncoder\n",
    "scaler = StandardScaler()\n",
    "from sklearn import metrics\n",
    "\n",
    "# Models & Utilities\n",
    "from sklearn.dummy import DummyClassifier\n",
    "from sklearn.linear_model import LogisticRegression,LogisticRegressionCV\n",
    "from sklearn.ensemble import RandomForestClassifier\n",
    "from sklearn.model_selection import train_test_split\n",
    "from sklearn.linear_model import LogisticRegression\n",
    "from sklearn.metrics import classification_report\n",
    "from sklearn.model_selection import cross_val_score\n",
    "from xgboost import XGBClassifier\n",
    "from sklearn.model_selection import GridSearchCV\n",
    "from sklearn.metrics import plot_confusion_matrix\n",
    "from sklearn.metrics import accuracy_score, confusion_matrix, classification_report, precision_score, recall_score, f1_score\n",
    "\n",
    "# Warnings\n",
    "import warnings\n",
    "warnings.filterwarnings(action='ignore') \n",
    "\n",
    "# NLP Libraries\n",
    "import nltk\n",
    "import collections\n",
    "# nltk.download('punkt')\n",
    "from sklearn.manifold import TSNE\n",
    "from nltk.tokenize import word_tokenize\n",
    "from nltk import regexp_tokenize\n",
    "import re\n",
    "from nltk.corpus import stopwords\n",
    "from nltk.collocations import *\n",
    "from nltk import FreqDist\n",
    "from nltk import word_tokenize\n",
    "from nltk import ngrams\n",
    "import string\n",
    "from sklearn.feature_extraction.text import CountVectorizer\n",
    "from sklearn.feature_extraction.text import TfidfVectorizer\n",
    "nltk.download('stopwords')\n",
    "# !pip install wordcloud\n",
    "from wordcloud import WordCloud"
   ]
  },
  {
   "cell_type": "markdown",
   "metadata": {},
   "source": [
    "# Pull Most Recent Match Details\n",
    "\n",
    "This is a combination of two API calls - the first is to pull the latest match for a given player based on their gamertag.  This provides the Match ID, and the second API call pulls the data using the Match ID. "
   ]
  },
  {
   "cell_type": "code",
   "execution_count": 4,
   "metadata": {
    "ExecuteTime": {
     "end_time": "2021-07-12T20:52:47.157924Z",
     "start_time": "2021-07-12T20:52:47.151929Z"
    }
   },
   "outputs": [
    {
     "data": {
      "text/plain": [
       "'this+is+a+test'"
      ]
     },
     "execution_count": 4,
     "metadata": {},
     "output_type": "execute_result"
    }
   ],
   "source": [
    "# Prepare gamertag for API\n",
    "\n",
    "def gamertag_for_api(gamertag):\n",
    "    gamertag = gamertag.replace(' ','+')\n",
    "    return gamertag\n",
    "\n",
    "gamertag_for_api('this is a test')"
   ]
  },
  {
   "cell_type": "code",
   "execution_count": 5,
   "metadata": {
    "ExecuteTime": {
     "end_time": "2021-07-12T20:52:48.910034Z",
     "start_time": "2021-07-12T20:52:47.280965Z"
    }
   },
   "outputs": [],
   "source": [
    "def pull_recent_match(how_recent, api_key=api_key, explore=False, gamertag='Drymander'):\n",
    "    \n",
    "    gamertag = gamertag_for_api(gamertag)\n",
    "    \n",
    "    headers = {\n",
    "        # Request headers\n",
    "        'Ocp-Apim-Subscription-Key': api_key,\n",
    "    }\n",
    "\n",
    "    params = urllib.parse.urlencode({\n",
    "        # Request parameters\n",
    "        'modes': 'arena',\n",
    "        'start': how_recent,\n",
    "        'count': 1,\n",
    "        'include-times': True,\n",
    "    })\n",
    "\n",
    "    try:\n",
    "        conn = http.client.HTTPSConnection('www.haloapi.com')\n",
    "        conn.request(\"GET\", f\"/stats/h5/players/{gamertag}/matches?%s\" % params, \"{body}\", headers)\n",
    "        response = conn.getresponse()\n",
    "        latest_match = json.loads(response.read())\n",
    "\n",
    "        match_id = latest_match['Results'][0]['Id']['MatchId']\n",
    "\n",
    "        time.sleep(1.1)\n",
    "\n",
    "        conn.request(\"GET\", f\"/stats/h5/arena/matches/{match_id}?%s\" % params, \"{body}\", headers)\n",
    "        response = conn.getresponse()\n",
    "        data = response.read()\n",
    "        \n",
    "        if explore == True:\n",
    "            print(data)\n",
    "        else:\n",
    "            match_results = json.loads(data)\n",
    "        conn.close()\n",
    "    except Exception as e:\n",
    "        print(f\"[Errno {0}] {1}\".format(e.errno, e.strerror))\n",
    "    \n",
    "    return match_results\n",
    "\n",
    "####################################\n",
    "\n",
    "# match_results = pull_recent_match(5, explore=True)\n",
    "match_results = pull_recent_match(0, explore=False, gamertag='thefishhawk88')"
   ]
  },
  {
   "cell_type": "markdown",
   "metadata": {},
   "source": [
    "# Pull Any Match"
   ]
  },
  {
   "cell_type": "code",
   "execution_count": null,
   "metadata": {
    "ExecuteTime": {
     "end_time": "2021-07-12T19:11:41.351431Z",
     "start_time": "2021-07-12T19:11:40.846363Z"
    }
   },
   "outputs": [],
   "source": [
    "explore = True\n",
    "matchId = '0bbc809c-87d8-423f-88a4-ffb9fc782fd6'\n",
    "\n",
    "def pull_match(matchId, api_key=api_key, explore=False):\n",
    "\n",
    "    headers = {\n",
    "        # Request headers\n",
    "        'Ocp-Apim-Subscription-Key': api_key,\n",
    "    }\n",
    "\n",
    "    params = urllib.parse.urlencode({\n",
    "    })\n",
    "\n",
    "    try:\n",
    "        conn = http.client.HTTPSConnection('www.haloapi.com')\n",
    "        conn.request(\"GET\", f\"/stats/h5/arena/matches/{matchId}?%s\" % params, \"{body}\", headers)\n",
    "        response = conn.getresponse()\n",
    "        if explore == True:\n",
    "            data = response.read()\n",
    "            print(data)\n",
    "        else:\n",
    "            data = response.read()\n",
    "            data = json.loads(data)\n",
    "        conn.close()\n",
    "    except Exception as e:\n",
    "        print(f\"[Errno {0}] {1}\".format(e.errno, e.strerror))\n",
    "    \n",
    "    return data\n",
    "\n",
    "        \n",
    "pull_match('0bbc809c-87d8-423f-88a4-ffb9fc782fd6', explore=False)"
   ]
  },
  {
   "cell_type": "markdown",
   "metadata": {},
   "source": [
    "# Build Match Dataframe"
   ]
  },
  {
   "cell_type": "code",
   "execution_count": null,
   "metadata": {
    "ExecuteTime": {
     "end_time": "2021-07-12T15:50:07.915575Z",
     "start_time": "2021-07-12T15:50:06.377006Z"
    }
   },
   "outputs": [],
   "source": [
    "match_results = pull_recent_match(0,explore=False)"
   ]
  },
  {
   "cell_type": "markdown",
   "metadata": {},
   "source": [
    "### Notes\n",
    "\n",
    "Red team is team ID 0\n",
    "\n",
    "Blue team is team ID 1"
   ]
  },
  {
   "cell_type": "code",
   "execution_count": 6,
   "metadata": {
    "ExecuteTime": {
     "end_time": "2021-07-12T20:52:56.458914Z",
     "start_time": "2021-07-12T20:52:54.945429Z"
    }
   },
   "outputs": [
    {
     "data": {
      "text/html": [
       "<div>\n",
       "<style scoped>\n",
       "    .dataframe tbody tr th:only-of-type {\n",
       "        vertical-align: middle;\n",
       "    }\n",
       "\n",
       "    .dataframe tbody tr th {\n",
       "        vertical-align: top;\n",
       "    }\n",
       "\n",
       "    .dataframe thead th {\n",
       "        text-align: right;\n",
       "    }\n",
       "</style>\n",
       "<table border=\"1\" class=\"dataframe\">\n",
       "  <thead>\n",
       "    <tr style=\"text-align: right;\">\n",
       "      <th></th>\n",
       "      <th>TeamId</th>\n",
       "      <th>Winner</th>\n",
       "      <th>TeamColor</th>\n",
       "      <th>Gamertag</th>\n",
       "      <th>SpartanRank</th>\n",
       "      <th>PrevTotalXP</th>\n",
       "    </tr>\n",
       "  </thead>\n",
       "  <tbody>\n",
       "    <tr>\n",
       "      <th>1</th>\n",
       "      <td>1</td>\n",
       "      <td>Victory</td>\n",
       "      <td>Blue</td>\n",
       "      <td>William PO2</td>\n",
       "      <td>113</td>\n",
       "      <td>4090626</td>\n",
       "    </tr>\n",
       "    <tr>\n",
       "      <th>2</th>\n",
       "      <td>1</td>\n",
       "      <td>Victory</td>\n",
       "      <td>Blue</td>\n",
       "      <td>Orion II Fred</td>\n",
       "      <td>58</td>\n",
       "      <td>1163661</td>\n",
       "    </tr>\n",
       "    <tr>\n",
       "      <th>4</th>\n",
       "      <td>1</td>\n",
       "      <td>Victory</td>\n",
       "      <td>Blue</td>\n",
       "      <td>FIAB Atheon</td>\n",
       "      <td>105</td>\n",
       "      <td>3500010</td>\n",
       "    </tr>\n",
       "    <tr>\n",
       "      <th>5</th>\n",
       "      <td>1</td>\n",
       "      <td>Victory</td>\n",
       "      <td>Blue</td>\n",
       "      <td>Lilcountry6981</td>\n",
       "      <td>140</td>\n",
       "      <td>6448461</td>\n",
       "    </tr>\n",
       "    <tr>\n",
       "      <th>0</th>\n",
       "      <td>0</td>\n",
       "      <td>Defeat</td>\n",
       "      <td>Red</td>\n",
       "      <td>BladiSsj4045</td>\n",
       "      <td>94</td>\n",
       "      <td>2809071</td>\n",
       "    </tr>\n",
       "    <tr>\n",
       "      <th>3</th>\n",
       "      <td>0</td>\n",
       "      <td>Defeat</td>\n",
       "      <td>Red</td>\n",
       "      <td>Saracenwarrior1</td>\n",
       "      <td>84</td>\n",
       "      <td>2413548</td>\n",
       "    </tr>\n",
       "    <tr>\n",
       "      <th>6</th>\n",
       "      <td>0</td>\n",
       "      <td>Defeat</td>\n",
       "      <td>Red</td>\n",
       "      <td>HungTaiLung</td>\n",
       "      <td>68</td>\n",
       "      <td>1625143</td>\n",
       "    </tr>\n",
       "    <tr>\n",
       "      <th>7</th>\n",
       "      <td>0</td>\n",
       "      <td>Defeat</td>\n",
       "      <td>Red</td>\n",
       "      <td>thefishhawk88</td>\n",
       "      <td>145</td>\n",
       "      <td>7927665</td>\n",
       "    </tr>\n",
       "  </tbody>\n",
       "</table>\n",
       "</div>"
      ],
      "text/plain": [
       "  TeamId   Winner TeamColor         Gamertag SpartanRank PrevTotalXP\n",
       "1      1  Victory      Blue      William PO2         113     4090626\n",
       "2      1  Victory      Blue    Orion II Fred          58     1163661\n",
       "4      1  Victory      Blue      FIAB Atheon         105     3500010\n",
       "5      1  Victory      Blue   Lilcountry6981         140     6448461\n",
       "0      0   Defeat       Red     BladiSsj4045          94     2809071\n",
       "3      0   Defeat       Red  Saracenwarrior1          84     2413548\n",
       "6      0   Defeat       Red      HungTaiLung          68     1625143\n",
       "7      0   Defeat       Red    thefishhawk88         145     7927665"
      ]
     },
     "execution_count": 6,
     "metadata": {},
     "output_type": "execute_result"
    }
   ],
   "source": [
    "# match_results = pull_recent_match(0, explore=False, gamertag='thefishhawk88')\n",
    "def build_base_dataframe(match_results, gamertag):\n",
    "    \n",
    "    # Build empty base match dataframe\n",
    "    df = pd.DataFrame()\n",
    "    columns = [\n",
    "        'TeamId',\n",
    "        'Gamertag',\n",
    "        'SpartanRank',\n",
    "        'PrevTotalXP',\n",
    "    ]\n",
    "    df = pd.DataFrame(columns = columns)\n",
    "    \n",
    "    # Populate base match dataframe with player stats for each player\n",
    "    i = 0\n",
    "    for player in match_results['PlayerStats']:\n",
    "\n",
    "        player_dic = {}\n",
    "        # Team ID\n",
    "        player_dic['TeamId'] = match_results['PlayerStats'][i]['TeamId']\n",
    "        # Team Color\n",
    "        player_dic['TeamColor'] = match_results['PlayerStats'][i]['TeamId']\n",
    "        # Gamer Tag\n",
    "        player_dic['Gamertag'] = match_results['PlayerStats'][i]['Player']['Gamertag']\n",
    "        # Spartan Rank\n",
    "        player_dic['SpartanRank'] = match_results['PlayerStats'][i]['XpInfo']['SpartanRank']\n",
    "        # Previous Total XP\n",
    "        player_dic['PrevTotalXP'] = match_results['PlayerStats'][i]['XpInfo']['PrevTotalXP']\n",
    "        df = df.append(player_dic, ignore_index=True)\n",
    "        i += 1\n",
    "    \n",
    "    playerteam = df.loc[df['Gamertag'] == gamertag, 'TeamId'].values[0]\n",
    "    if playerteam == 0:\n",
    "        enemyteam = 1\n",
    "    else:\n",
    "        enemyteam = 0\n",
    "\n",
    "    if match_results['TeamStats'][0]['TeamId'] == playerteam:\n",
    "        playerteam_stats = match_results['TeamStats'][0]\n",
    "        enemyteam_stats = match_results['TeamStats'][1]\n",
    "    else: \n",
    "        playerteam_stats = match_results['TeamStats'][1]\n",
    "        enemyteam_stats = match_results['TeamStats'][0]\n",
    "    \n",
    "    # Determine winner\n",
    "    # Tie\n",
    "    if playerteam_stats['Rank'] == 1 and enemyteam_stats['Rank'] == 1:\n",
    "        df['Winner'] = 'Tie'\n",
    "    # Player wins\n",
    "    elif playerteam_stats['Rank'] == 1 and enemyteam_stats['Rank'] == 2:\n",
    "        df['Winner'] = df['TeamId'].map({playerteam:'Victory', enemyteam:'Defeat'})\n",
    "    # Enemy wins\n",
    "    elif playerteam_stats['Rank'] == 2 and enemyteam_stats['Rank'] == 1:\n",
    "        df['Winner'] = df['TeamId'].map({enemyteam:'Victory', playerteam:'Defeat'})\n",
    "    # Error handling\n",
    "    else:\n",
    "        winner = 'Error determining winner'\n",
    "    df['TeamColor'] = df['TeamId'].map({0:'Red', 1:'Blue'})\n",
    "    # Set columns\n",
    "    df = df[['TeamId', 'Winner', 'TeamColor', 'Gamertag', 'SpartanRank', 'PrevTotalXP']]\n",
    "    # Sort match by winning team\n",
    "    df = df.sort_values(by=['Winner'], ascending=False)\n",
    "    \n",
    "    return df\n",
    "\n",
    "# df = build_base_dataframe(pull_recent_match(0))\n",
    "# # df.loc[df['TeamId'] == 0]\n",
    "# df\n",
    "build_base_dataframe(pull_recent_match(0, explore=False, gamertag='thefishhawk88'), gamertag='thefishhawk88')"
   ]
  },
  {
   "cell_type": "code",
   "execution_count": null,
   "metadata": {
    "ExecuteTime": {
     "end_time": "2021-07-12T16:57:26.706885Z",
     "start_time": "2021-07-12T16:57:26.693883Z"
    }
   },
   "outputs": [],
   "source": [
    "# playerteam = 0\n",
    "\n",
    "# df['TeamColor'] = df['TeamId'].map({0:'Red', 1:'Blue'})\n",
    "# df['Winner'] = df['TeamId'].map({playerteam:'Victory', 1:'Defeat'})\n",
    "# df"
   ]
  },
  {
   "cell_type": "code",
   "execution_count": null,
   "metadata": {
    "ExecuteTime": {
     "end_time": "2021-07-12T19:14:05.098648Z",
     "start_time": "2021-07-12T19:14:03.647578Z"
    }
   },
   "outputs": [],
   "source": [
    "# Red victory\n",
    "build_base_dataframe(pull_recent_match(0, gamertag='thefishhawk88'), gamertag='thefishhawk88')"
   ]
  },
  {
   "cell_type": "code",
   "execution_count": null,
   "metadata": {
    "ExecuteTime": {
     "end_time": "2021-07-12T19:13:20.458487Z",
     "start_time": "2021-07-12T19:13:19.034643Z"
    }
   },
   "outputs": [],
   "source": [
    "# Blue loss\n",
    "build_base_dataframe(pull_recent_match(1, gamertag='thefishhawk88'), gamertag='thefishhawk88')"
   ]
  },
  {
   "cell_type": "code",
   "execution_count": null,
   "metadata": {
    "ExecuteTime": {
     "end_time": "2021-07-12T19:14:10.798737Z",
     "start_time": "2021-07-12T19:14:09.360169Z"
    }
   },
   "outputs": [],
   "source": [
    "# Blue tie\n",
    "build_base_dataframe(pull_recent_match(2, gamertag='thefishhawk88'), gamertag='thefishhawk88')"
   ]
  },
  {
   "cell_type": "code",
   "execution_count": null,
   "metadata": {
    "ExecuteTime": {
     "end_time": "2021-07-12T19:14:19.590683Z",
     "start_time": "2021-07-12T19:14:17.953668Z"
    }
   },
   "outputs": [],
   "source": [
    "# Red victory\n",
    "build_base_dataframe(pull_recent_match(3, gamertag='thefishhawk88'), gamertag='thefishhawk88')"
   ]
  },
  {
   "cell_type": "code",
   "execution_count": null,
   "metadata": {
    "ExecuteTime": {
     "end_time": "2021-07-12T17:02:43.938476Z",
     "start_time": "2021-07-12T17:02:42.540783Z"
    }
   },
   "outputs": [],
   "source": [
    "# Red DNF\n",
    "build_base_dataframe(pull_recent_match(6, gamertag='thefishhawk88'))"
   ]
  },
  {
   "cell_type": "code",
   "execution_count": null,
   "metadata": {
    "ExecuteTime": {
     "end_time": "2021-07-12T17:02:13.490623Z",
     "start_time": "2021-07-12T17:02:11.769529Z"
    }
   },
   "outputs": [],
   "source": [
    "# Blue victory\n",
    "build_base_dataframe(pull_recent_match(7))"
   ]
  },
  {
   "cell_type": "markdown",
   "metadata": {},
   "source": [
    "# Pull Game Base Variant Stats for All Players in Match\n",
    "\n",
    "Using the match details, we will compile everyone's gamertags into a list and pull more specific information for each player.  We can get statistics on every game mode (or \"Game Base Variant\" as it is referred to in the API)."
   ]
  },
  {
   "cell_type": "markdown",
   "metadata": {},
   "source": [
    "## Player List"
   ]
  },
  {
   "cell_type": "code",
   "execution_count": 7,
   "metadata": {
    "ExecuteTime": {
     "end_time": "2021-07-12T20:53:04.599293Z",
     "start_time": "2021-07-12T20:53:04.594292Z"
    }
   },
   "outputs": [],
   "source": [
    "# df_match = build_base_dataframe(pull_recent_match(5, gamertag='thefishhawk88'), gamertag='thefishhawk88')\n",
    "\n",
    "def get_player_list(df):\n",
    "    player_list = str(list(df['Gamertag']))[1:-1]\n",
    "\n",
    "    player_list\n",
    "    player_list = player_list.replace(', ',',')\n",
    "    player_list = player_list.replace(\"'\",'')\n",
    "    player_list = player_list.replace(' ','+')\n",
    "\n",
    "    return player_list\n",
    "\n",
    "\n",
    "# get_player_list(df_match)\n"
   ]
  },
  {
   "cell_type": "code",
   "execution_count": 8,
   "metadata": {
    "ExecuteTime": {
     "end_time": "2021-07-12T20:53:09.223512Z",
     "start_time": "2021-07-12T20:53:09.219511Z"
    }
   },
   "outputs": [],
   "source": [
    "def get_player_history(df):\n",
    "    headers = {\n",
    "        # Request headers\n",
    "        'Ocp-Apim-Subscription-Key': str(api_key),\n",
    "    }\n",
    "    params = urllib.parse.urlencode({\n",
    "    })\n",
    "    player_list_api = get_player_list(df)\n",
    "    try:\n",
    "        conn = http.client.HTTPSConnection('www.haloapi.com')\n",
    "        conn.request(\"GET\", f\"/stats/h5/servicerecords/arena?players={player_list_api}&%s\" % params, \"{body}\", headers)\n",
    "        response = conn.getresponse()\n",
    "        data = response.read()\n",
    "        player_history = json.loads(data)\n",
    "    #     print(data)\n",
    "        conn.close()\n",
    "    except Exception as e:\n",
    "        print(f\"[Errno {0}] {1}\".format(e.errno, e.strerror))\n",
    "\n",
    "    return player_history\n",
    "\n",
    "# player_history = get_player_history(df_match)\n",
    "\n",
    "# player_history['Results'][1]"
   ]
  },
  {
   "cell_type": "markdown",
   "metadata": {},
   "source": [
    "## Compile Individual Stats into Dataframe"
   ]
  },
  {
   "cell_type": "code",
   "execution_count": null,
   "metadata": {
    "ExecuteTime": {
     "end_time": "2021-07-12T19:14:54.974475Z",
     "start_time": "2021-07-12T19:14:54.805445Z"
    }
   },
   "outputs": [],
   "source": [
    "player_history['Results'][2]"
   ]
  },
  {
   "cell_type": "code",
   "execution_count": 9,
   "metadata": {
    "ExecuteTime": {
     "end_time": "2021-07-12T20:53:15.819305Z",
     "start_time": "2021-07-12T20:53:15.812304Z"
    }
   },
   "outputs": [],
   "source": [
    "# variant_id = match_results['GameBaseVariantId']\n",
    "\n",
    "def build_history_dataframe(player_history, variant_id):\n",
    "    vdf_columns = [\n",
    "        'Gamertag',\n",
    "        'TotalTimePlayed',\n",
    "        'K/D',\n",
    "        'Accuracy',\n",
    "        'WinRate',\n",
    "    ]\n",
    "\n",
    "    vdf = pd.DataFrame(columns = vdf_columns)\n",
    "\n",
    "    i = 0\n",
    "    for player in player_history['Results']:\n",
    "        for variant in player['Result']['ArenaStats']['ArenaGameBaseVariantStats']:\n",
    "            if variant['GameBaseVariantId'] == variant_id:\n",
    "                variant_stats = variant\n",
    "\n",
    "        variant_dic = {}\n",
    "        variant_dic['Gamertag'] = player_history['Results'][i]['Id']\n",
    "        variant_dic['TotalTimePlayed']= isodate.parse_duration(variant_stats['TotalTimePlayed']).total_seconds() / 3600\n",
    "        variant_dic['K/D'] = variant_stats['TotalKills'] / variant_stats['TotalDeaths']\n",
    "        variant_dic['Accuracy'] = variant_stats['TotalShotsLanded'] / variant_stats['TotalShotsFired']\n",
    "        variant_dic['WinRate'] = variant_stats['TotalGamesWon'] / variant_stats['TotalGamesLost']\n",
    "        vdf = vdf.append(variant_dic, True)\n",
    "\n",
    "        i += 1\n",
    "        \n",
    "    return vdf\n",
    "    \n",
    "# build_history_dataframe(player_history, variant_id)"
   ]
  },
  {
   "cell_type": "markdown",
   "metadata": {},
   "source": [
    "# Merge Match and Game Variant Dataframes"
   ]
  },
  {
   "cell_type": "code",
   "execution_count": null,
   "metadata": {},
   "outputs": [],
   "source": []
  },
  {
   "cell_type": "code",
   "execution_count": 10,
   "metadata": {
    "ExecuteTime": {
     "end_time": "2021-07-12T20:53:21.256125Z",
     "start_time": "2021-07-12T20:53:21.253132Z"
    }
   },
   "outputs": [],
   "source": [
    "# df_stats = pd.merge(df_match, vdf, how='inner', on = 'Gamertag')\n",
    "\n",
    "# df_stats"
   ]
  },
  {
   "cell_type": "markdown",
   "metadata": {},
   "source": [
    "# Master Function"
   ]
  },
  {
   "cell_type": "code",
   "execution_count": 11,
   "metadata": {
    "ExecuteTime": {
     "end_time": "2021-07-12T20:53:29.002951Z",
     "start_time": "2021-07-12T20:53:25.653737Z"
    }
   },
   "outputs": [],
   "source": [
    "# gamertag = 'Drymander'\n",
    "\n",
    "def recent_match_stats(gamertag, back_count=0):\n",
    "    match_results = pull_recent_match(back_count, explore=False, gamertag=gamertag)\n",
    "    base_df = build_base_dataframe(match_results, gamertag=gamertag)\n",
    "    time.sleep(1.01)\n",
    "    \n",
    "    player_list = get_player_list(base_df)\n",
    "    \n",
    "    player_history = get_player_history(base_df)\n",
    "    \n",
    "    history_df = build_history_dataframe(player_history, match_results['GameBaseVariantId'])\n",
    "    full_stats_df = pd.merge(base_df, history_df, how='inner', on = 'Gamertag')\n",
    "    \n",
    "    return full_stats_df\n",
    "#     return base_df, history_df, player_list, player_history, full_stats_df\n",
    "# base_df, history_df, player_list, player_history, full_stats_df = recent_match_stats('thefishhawk88', back_count=20)\n",
    "\n",
    "stats_df = recent_match_stats('ATLkrunk420', back_count=0)"
   ]
  },
  {
   "cell_type": "code",
   "execution_count": null,
   "metadata": {
    "ExecuteTime": {
     "end_time": "2021-07-12T20:29:57.721797Z",
     "start_time": "2021-07-12T20:29:54.426366Z"
    }
   },
   "outputs": [],
   "source": [
    "recent_match_stats('Drymander', back_count=1)"
   ]
  },
  {
   "cell_type": "code",
   "execution_count": 12,
   "metadata": {
    "ExecuteTime": {
     "end_time": "2021-07-12T20:53:45.702542Z",
     "start_time": "2021-07-12T20:53:45.687540Z"
    }
   },
   "outputs": [
    {
     "data": {
      "text/html": [
       "<div>\n",
       "<style scoped>\n",
       "    .dataframe tbody tr th:only-of-type {\n",
       "        vertical-align: middle;\n",
       "    }\n",
       "\n",
       "    .dataframe tbody tr th {\n",
       "        vertical-align: top;\n",
       "    }\n",
       "\n",
       "    .dataframe thead th {\n",
       "        text-align: right;\n",
       "    }\n",
       "</style>\n",
       "<table border=\"1\" class=\"dataframe\">\n",
       "  <thead>\n",
       "    <tr style=\"text-align: right;\">\n",
       "      <th></th>\n",
       "      <th>TeamId</th>\n",
       "      <th>Winner</th>\n",
       "      <th>TeamColor</th>\n",
       "      <th>Gamertag</th>\n",
       "      <th>SpartanRank</th>\n",
       "      <th>PrevTotalXP</th>\n",
       "      <th>TotalTimePlayed</th>\n",
       "      <th>K/D</th>\n",
       "      <th>Accuracy</th>\n",
       "      <th>WinRate</th>\n",
       "    </tr>\n",
       "  </thead>\n",
       "  <tbody>\n",
       "    <tr>\n",
       "      <th>0</th>\n",
       "      <td>0</td>\n",
       "      <td>Victory</td>\n",
       "      <td>Red</td>\n",
       "      <td>FresherVeil5030</td>\n",
       "      <td>35</td>\n",
       "      <td>427675</td>\n",
       "      <td>4.343877</td>\n",
       "      <td>1.164045</td>\n",
       "      <td>0.345606</td>\n",
       "      <td>0.650000</td>\n",
       "    </tr>\n",
       "    <tr>\n",
       "      <th>1</th>\n",
       "      <td>0</td>\n",
       "      <td>Victory</td>\n",
       "      <td>Red</td>\n",
       "      <td>domonthebox</td>\n",
       "      <td>74</td>\n",
       "      <td>1818568</td>\n",
       "      <td>2.688454</td>\n",
       "      <td>0.966867</td>\n",
       "      <td>0.322928</td>\n",
       "      <td>0.500000</td>\n",
       "    </tr>\n",
       "    <tr>\n",
       "      <th>2</th>\n",
       "      <td>0</td>\n",
       "      <td>Victory</td>\n",
       "      <td>Red</td>\n",
       "      <td>DuskyALPHA 98</td>\n",
       "      <td>16</td>\n",
       "      <td>89928</td>\n",
       "      <td>3.952547</td>\n",
       "      <td>1.145740</td>\n",
       "      <td>0.292267</td>\n",
       "      <td>0.571429</td>\n",
       "    </tr>\n",
       "    <tr>\n",
       "      <th>3</th>\n",
       "      <td>0</td>\n",
       "      <td>Victory</td>\n",
       "      <td>Red</td>\n",
       "      <td>DavizZ Mustaine</td>\n",
       "      <td>27</td>\n",
       "      <td>274876</td>\n",
       "      <td>4.257510</td>\n",
       "      <td>0.425287</td>\n",
       "      <td>0.224102</td>\n",
       "      <td>0.925926</td>\n",
       "    </tr>\n",
       "    <tr>\n",
       "      <th>4</th>\n",
       "      <td>1</td>\n",
       "      <td>Defeat</td>\n",
       "      <td>Blue</td>\n",
       "      <td>MineMikoPL</td>\n",
       "      <td>44</td>\n",
       "      <td>627007</td>\n",
       "      <td>7.957635</td>\n",
       "      <td>1.144893</td>\n",
       "      <td>0.275344</td>\n",
       "      <td>0.794872</td>\n",
       "    </tr>\n",
       "    <tr>\n",
       "      <th>5</th>\n",
       "      <td>1</td>\n",
       "      <td>Defeat</td>\n",
       "      <td>Blue</td>\n",
       "      <td>SAANTITTO</td>\n",
       "      <td>48</td>\n",
       "      <td>772105</td>\n",
       "      <td>14.168369</td>\n",
       "      <td>0.993851</td>\n",
       "      <td>0.314657</td>\n",
       "      <td>0.583333</td>\n",
       "    </tr>\n",
       "    <tr>\n",
       "      <th>6</th>\n",
       "      <td>1</td>\n",
       "      <td>Defeat</td>\n",
       "      <td>Blue</td>\n",
       "      <td>ATLkrunk420</td>\n",
       "      <td>129</td>\n",
       "      <td>5394655</td>\n",
       "      <td>10.045282</td>\n",
       "      <td>0.690789</td>\n",
       "      <td>0.277247</td>\n",
       "      <td>0.764706</td>\n",
       "    </tr>\n",
       "    <tr>\n",
       "      <th>7</th>\n",
       "      <td>1</td>\n",
       "      <td>Defeat</td>\n",
       "      <td>Blue</td>\n",
       "      <td>MATU8133</td>\n",
       "      <td>51</td>\n",
       "      <td>903502</td>\n",
       "      <td>10.915504</td>\n",
       "      <td>0.605793</td>\n",
       "      <td>0.221338</td>\n",
       "      <td>0.840000</td>\n",
       "    </tr>\n",
       "    <tr>\n",
       "      <th>8</th>\n",
       "      <td>1</td>\n",
       "      <td>Defeat</td>\n",
       "      <td>Blue</td>\n",
       "      <td>FeLiPe10283012</td>\n",
       "      <td>37</td>\n",
       "      <td>481423</td>\n",
       "      <td>4.939214</td>\n",
       "      <td>0.947214</td>\n",
       "      <td>0.319913</td>\n",
       "      <td>0.724138</td>\n",
       "    </tr>\n",
       "  </tbody>\n",
       "</table>\n",
       "</div>"
      ],
      "text/plain": [
       "  TeamId   Winner TeamColor         Gamertag SpartanRank PrevTotalXP  \\\n",
       "0      0  Victory       Red  FresherVeil5030          35      427675   \n",
       "1      0  Victory       Red      domonthebox          74     1818568   \n",
       "2      0  Victory       Red    DuskyALPHA 98          16       89928   \n",
       "3      0  Victory       Red  DavizZ Mustaine          27      274876   \n",
       "4      1   Defeat      Blue       MineMikoPL          44      627007   \n",
       "5      1   Defeat      Blue        SAANTITTO          48      772105   \n",
       "6      1   Defeat      Blue      ATLkrunk420         129     5394655   \n",
       "7      1   Defeat      Blue         MATU8133          51      903502   \n",
       "8      1   Defeat      Blue   FeLiPe10283012          37      481423   \n",
       "\n",
       "   TotalTimePlayed       K/D  Accuracy   WinRate  \n",
       "0         4.343877  1.164045  0.345606  0.650000  \n",
       "1         2.688454  0.966867  0.322928  0.500000  \n",
       "2         3.952547  1.145740  0.292267  0.571429  \n",
       "3         4.257510  0.425287  0.224102  0.925926  \n",
       "4         7.957635  1.144893  0.275344  0.794872  \n",
       "5        14.168369  0.993851  0.314657  0.583333  \n",
       "6        10.045282  0.690789  0.277247  0.764706  \n",
       "7        10.915504  0.605793  0.221338  0.840000  \n",
       "8         4.939214  0.947214  0.319913  0.724138  "
      ]
     },
     "execution_count": 12,
     "metadata": {},
     "output_type": "execute_result"
    }
   ],
   "source": [
    "stats_df"
   ]
  },
  {
   "cell_type": "markdown",
   "metadata": {},
   "source": [
    "# Streamlit"
   ]
  },
  {
   "cell_type": "code",
   "execution_count": 17,
   "metadata": {
    "ExecuteTime": {
     "end_time": "2021-07-12T20:55:12.830433Z",
     "start_time": "2021-07-12T20:55:10.386456Z"
    }
   },
   "outputs": [
    {
     "name": "stdout",
     "output_type": "stream",
     "text": [
      "Requirement already satisfied: protobuf in c:\\users\\johnn\\anaconda3\\envs\\learn-env\\lib\\site-packages (3.17.3)\n",
      "Requirement already satisfied: six>=1.9 in c:\\users\\johnn\\anaconda3\\envs\\learn-env\\lib\\site-packages (from protobuf) (1.15.0)\n"
     ]
    }
   ],
   "source": [
    "# !pip install streamlit\n",
    "\n",
    "!pip install --upgrade protobuf"
   ]
  },
  {
   "cell_type": "code",
   "execution_count": 18,
   "metadata": {
    "ExecuteTime": {
     "end_time": "2021-07-12T20:55:15.138700Z",
     "start_time": "2021-07-12T20:55:15.122696Z"
    }
   },
   "outputs": [
    {
     "ename": "AttributeError",
     "evalue": "module 'google.protobuf.descriptor' has no attribute '_internal_create_key'",
     "output_type": "error",
     "traceback": [
      "\u001b[1;31m---------------------------------------------------------------------------\u001b[0m",
      "\u001b[1;31mAttributeError\u001b[0m                            Traceback (most recent call last)",
      "\u001b[1;32m<ipython-input-18-1aa3dc4fa683>\u001b[0m in \u001b[0;36m<module>\u001b[1;34m\u001b[0m\n\u001b[1;32m----> 1\u001b[1;33m \u001b[1;32mimport\u001b[0m \u001b[0mstreamlit\u001b[0m \u001b[1;32mas\u001b[0m \u001b[0mst\u001b[0m\u001b[1;33m\u001b[0m\u001b[1;33m\u001b[0m\u001b[0m\n\u001b[0m",
      "\u001b[1;32m~\\anaconda3\\envs\\learn-env\\lib\\site-packages\\streamlit\\__init__.py\u001b[0m in \u001b[0;36m<module>\u001b[1;34m\u001b[0m\n\u001b[0;32m     47\u001b[0m \u001b[1;32mfrom\u001b[0m \u001b[0mstreamlit\u001b[0m \u001b[1;32mimport\u001b[0m \u001b[0mconfig\u001b[0m \u001b[1;32mas\u001b[0m \u001b[0m_config\u001b[0m\u001b[1;33m\u001b[0m\u001b[1;33m\u001b[0m\u001b[0m\n\u001b[0;32m     48\u001b[0m \u001b[1;32mfrom\u001b[0m \u001b[0mstreamlit\u001b[0m\u001b[1;33m.\u001b[0m\u001b[0mbeta_util\u001b[0m \u001b[1;32mimport\u001b[0m \u001b[0mobject_beta_warning\u001b[0m\u001b[1;33m\u001b[0m\u001b[1;33m\u001b[0m\u001b[0m\n\u001b[1;32m---> 49\u001b[1;33m \u001b[1;32mfrom\u001b[0m \u001b[0mstreamlit\u001b[0m\u001b[1;33m.\u001b[0m\u001b[0mproto\u001b[0m\u001b[1;33m.\u001b[0m\u001b[0mRootContainer_pb2\u001b[0m \u001b[1;32mimport\u001b[0m \u001b[0mRootContainer\u001b[0m\u001b[1;33m\u001b[0m\u001b[1;33m\u001b[0m\u001b[0m\n\u001b[0m\u001b[0;32m     50\u001b[0m \u001b[1;32mfrom\u001b[0m \u001b[0mstreamlit\u001b[0m\u001b[1;33m.\u001b[0m\u001b[0msecrets\u001b[0m \u001b[1;32mimport\u001b[0m \u001b[0mSecrets\u001b[0m\u001b[1;33m,\u001b[0m \u001b[0mSECRETS_FILE_LOC\u001b[0m\u001b[1;33m\u001b[0m\u001b[1;33m\u001b[0m\u001b[0m\n\u001b[0;32m     51\u001b[0m \u001b[1;33m\u001b[0m\u001b[0m\n",
      "\u001b[1;32m~\\anaconda3\\envs\\learn-env\\lib\\site-packages\\streamlit\\proto\\RootContainer_pb2.py\u001b[0m in \u001b[0;36m<module>\u001b[1;34m\u001b[0m\n\u001b[0;32m     20\u001b[0m   \u001b[0msyntax\u001b[0m\u001b[1;33m=\u001b[0m\u001b[1;34m'proto3'\u001b[0m\u001b[1;33m,\u001b[0m\u001b[1;33m\u001b[0m\u001b[1;33m\u001b[0m\u001b[0m\n\u001b[0;32m     21\u001b[0m   \u001b[0mserialized_options\u001b[0m\u001b[1;33m=\u001b[0m\u001b[1;32mNone\u001b[0m\u001b[1;33m,\u001b[0m\u001b[1;33m\u001b[0m\u001b[1;33m\u001b[0m\u001b[0m\n\u001b[1;32m---> 22\u001b[1;33m   \u001b[0mcreate_key\u001b[0m\u001b[1;33m=\u001b[0m\u001b[0m_descriptor\u001b[0m\u001b[1;33m.\u001b[0m\u001b[0m_internal_create_key\u001b[0m\u001b[1;33m,\u001b[0m\u001b[1;33m\u001b[0m\u001b[1;33m\u001b[0m\u001b[0m\n\u001b[0m\u001b[0;32m     23\u001b[0m   \u001b[0mserialized_pb\u001b[0m\u001b[1;33m=\u001b[0m\u001b[1;34mb'\\n#streamlit/proto/RootContainer.proto*&\\n\\rRootContainer\\x12\\x08\\n\\x04MAIN\\x10\\x00\\x12\\x0b\\n\\x07SIDEBAR\\x10\\x01\\x62\\x06proto3'\u001b[0m\u001b[1;33m\u001b[0m\u001b[1;33m\u001b[0m\u001b[0m\n\u001b[0;32m     24\u001b[0m )\n",
      "\u001b[1;31mAttributeError\u001b[0m: module 'google.protobuf.descriptor' has no attribute '_internal_create_key'"
     ]
    }
   ],
   "source": [
    "import streamlit as st"
   ]
  },
  {
   "cell_type": "code",
   "execution_count": null,
   "metadata": {},
   "outputs": [],
   "source": []
  },
  {
   "cell_type": "code",
   "execution_count": null,
   "metadata": {},
   "outputs": [],
   "source": []
  },
  {
   "cell_type": "code",
   "execution_count": null,
   "metadata": {},
   "outputs": [],
   "source": []
  },
  {
   "cell_type": "code",
   "execution_count": null,
   "metadata": {},
   "outputs": [],
   "source": []
  },
  {
   "cell_type": "code",
   "execution_count": null,
   "metadata": {},
   "outputs": [],
   "source": []
  },
  {
   "cell_type": "markdown",
   "metadata": {},
   "source": [
    "# Unused Code"
   ]
  },
  {
   "cell_type": "code",
   "execution_count": null,
   "metadata": {},
   "outputs": [],
   "source": [
    "for variant in players_stats['Results'][0]['Result']['ArenaStats']['ArenaGameBaseVariantStats']:\n",
    "    if variant['GameBaseVariantId'] == variant_id:\n",
    "        variant_stats = variant\n",
    "    else:\n",
    "        continue\n",
    "        \n",
    "variant_stats['TotalKills']"
   ]
  },
  {
   "cell_type": "code",
   "execution_count": null,
   "metadata": {},
   "outputs": [],
   "source": []
  },
  {
   "cell_type": "markdown",
   "metadata": {},
   "source": [
    "## All stats"
   ]
  },
  {
   "cell_type": "code",
   "execution_count": null,
   "metadata": {},
   "outputs": [],
   "source": [
    "# pip install isodate\n",
    "\n",
    "import isodate\n",
    "\n",
    "variant_dic = {}\n",
    "variant_dic['Gamertag'] = players_stats['Results'][0]['Id']\n",
    "variant_dic['TotalTimePlayed']= isodate.parse_duration(variant_stats['TotalTimePlayed']).total_seconds() / 3600\n",
    "variant_dic['K/D'] = variant_stats['TotalKills'] / variant_stats['TotalDeaths']\n",
    "variant_dic['Accuracy'] = variant_stats['TotalShotsLanded'] / variant_stats['TotalShotsFired']\n",
    "variant_dic['WinRate'] = variant_stats['TotalGamesWon'] / variant_stats['TotalGamesLost']\n",
    "\n",
    "variant_dic"
   ]
  },
  {
   "cell_type": "code",
   "execution_count": null,
   "metadata": {},
   "outputs": [],
   "source": [
    "vdf.append(variant_dic, ignore_index=True)"
   ]
  },
  {
   "cell_type": "markdown",
   "metadata": {},
   "source": [
    "## Additional Player History Stats"
   ]
  },
  {
   "cell_type": "code",
   "execution_count": null,
   "metadata": {},
   "outputs": [],
   "source": [
    "# variant_dic['TotalHeadshots']= variant_stats['TotalHeadshots']\n",
    "# variant_dic['TotalWeaponDamage']= variant_stats['TotalWeaponDamage']\n",
    "# variant_dic['TotalShotsFired']= variant_stats['TotalShotsFired']\n",
    "# variant_dic['TotalShotsLanded']= variant_stats['TotalShotsLanded']\n",
    "# variant_dic['TotalMeleeKills']= variant_stats['TotalMeleeKills']\n",
    "# variant_dic['TotalMeleeDamage']= variant_stats['TotalMeleeDamage']\n",
    "# variant_dic['TotalAssassinations']= variant_stats['TotalAssassinations']\n",
    "# variant_dic['TotalGroundPoundKills']= variant_stats['TotalGroundPoundKills']\n",
    "# variant_dic['TotalGroundPoundDamage']= variant_stats['TotalGroundPoundDamage']\n",
    "# variant_dic['TotalShoulderBashKills']= variant_stats['TotalShoulderBashKills']\n",
    "# variant_dic['TotalShoulderBashDamage']= variant_stats['TotalShoulderBashDamage']\n",
    "# variant_dic['TotalGrenadeDamage']= variant_stats['TotalGrenadeDamage']\n",
    "# variant_dic['TotalPowerWeaponKills']= variant_stats['TotalPowerWeaponKills']\n",
    "# variant_dic['TotalPowerWeaponDamage']= variant_stats['TotalPowerWeaponDamage']\n",
    "# variant_dic['TotalPowerWeaponGrabs']= variant_stats['TotalPowerWeaponGrabs']\n",
    "# variant_dic['TotalPowerWeaponPossessionTime']= isodate.parse_duration(variant_stats['TotalPowerWeaponPossessionTime']).total_seconds() / 3600\n",
    "# variant_dic['TotalDeaths']= variant_stats['TotalDeaths']\n",
    "# variant_dic['TotalAssists']= variant_stats['TotalAssists']\n",
    "# variant_dic['TotalGamesCompleted']= variant_stats['TotalGamesCompleted']\n",
    "# variant_dic['TotalGamesWon']= variant_stats['TotalGamesWon']\n",
    "# variant_dic['TotalGamesLost']= variant_stats['TotalGamesLost']\n",
    "# variant_dic['TotalGamesTied']= variant_stats['TotalGamesTied']\n",
    "# variant_dic['TotalGrenadeKills']= variant_stats['TotalGrenadeKills']\n",
    "# variant_dic['TotalKills']= variant_stats['TotalKills']"
   ]
  },
  {
   "cell_type": "markdown",
   "metadata": {},
   "source": [
    "## Build base match dataframe from pull_recent_match"
   ]
  },
  {
   "cell_type": "code",
   "execution_count": null,
   "metadata": {},
   "outputs": [],
   "source": [
    "match_results = pull_recent_match(2494)\n",
    "\n",
    "i = 0\n",
    "\n",
    "df_match = pd.DataFrame()\n",
    "columns = [\n",
    "    'TeamId',\n",
    "    'Gamertag',\n",
    "    'SpartanRank',\n",
    "    'PrevTotalXP',\n",
    "]\n",
    "df_match = pd.DataFrame(columns = columns)\n",
    "\n",
    "for player in match_results['PlayerStats']:\n",
    "\n",
    "    player_dic = {}\n",
    "    # Team ID\n",
    "    player_dic['TeamId'] = match_results['PlayerStats'][i]['TeamId']\n",
    "    # Gamer Tag\n",
    "    player_dic['Gamertag'] = match_results['PlayerStats'][i]['Player']['Gamertag']\n",
    "    # Spartan Rank\n",
    "    player_dic['SpartanRank'] = match_results['PlayerStats'][i]['XpInfo']['SpartanRank']\n",
    "    # Previous Total XP\n",
    "    player_dic['PrevTotalXP'] = match_results['PlayerStats'][i]['XpInfo']['PrevTotalXP']\n",
    "    df_match = df_match.append(player_dic, ignore_index=True)\n",
    "    i += 1\n",
    "\n",
    "# Define winner\n",
    "\n",
    "playerteam = df_match.loc[df_match['Gamertag'] == user, 'TeamId'].values[0]\n",
    "\n",
    "if match_results['TeamStats'][0]['TeamId'] == playerteam:\n",
    "    playerteam_stats = match_results['TeamStats'][0]\n",
    "    enemyteam_stats = match_results['TeamStats'][1]\n",
    "else: \n",
    "    playerteam_stats = match_results['TeamStats'][1]\n",
    "    enemyteam_stats = match_results['TeamStats'][0]\n",
    "\n",
    "print(playerteam_stats['Rank'])\n",
    "print(enemyteam_stats['Rank'])\n",
    "\n",
    "# Tie\n",
    "if playerteam_stats['Rank'] == 1 and enemyteam_stats['Rank'] == 1:\n",
    "    winner = 'Tie'\n",
    "# Player wins\n",
    "elif playerteam_stats['Rank'] == 1 and enemyteam_stats['Rank'] == 2:\n",
    "    winner = 'Player'\n",
    "# Enemy wins\n",
    "elif playerteam_stats['Rank'] == 2 and enemyteam_stats['Rank'] == 1:\n",
    "    winner = 'Enemy'\n",
    "# Error handling\n",
    "else:\n",
    "    winner = 'Error determining winner'\n",
    "\n",
    "print(f'{winner} won the game')\n",
    "\n",
    "df_match"
   ]
  },
  {
   "cell_type": "markdown",
   "metadata": {},
   "source": [
    "## Player History Base Code"
   ]
  },
  {
   "cell_type": "code",
   "execution_count": null,
   "metadata": {},
   "outputs": [],
   "source": []
  },
  {
   "cell_type": "code",
   "execution_count": null,
   "metadata": {
    "ExecuteTime": {
     "end_time": "2021-07-12T18:04:09.433111Z",
     "start_time": "2021-07-12T18:04:09.397101Z"
    }
   },
   "outputs": [],
   "source": [
    "vdf_columns = [\n",
    "    'Gamertag',\n",
    "    'TotalTimePlayed',\n",
    "    'K/D',\n",
    "    'Accuracy',\n",
    "    'WinRate',\n",
    "]\n",
    "\n",
    "vdf = pd.DataFrame(columns = vdf_columns)\n",
    "\n",
    "i = 0\n",
    "\n",
    "for player in player_history['Results']:\n",
    "\n",
    "    \n",
    "    for variant in player['Result']['ArenaStats']['ArenaGameBaseVariantStats']:\n",
    "        if variant['GameBaseVariantId'] == variant_id:\n",
    "            variant_stats = variant\n",
    "#         else:\n",
    "#             continue\n",
    "            \n",
    "    variant_dic = {}\n",
    "    variant_dic['Gamertag'] = player_history['Results'][i]['Id']\n",
    "    variant_dic['TotalTimePlayed']= isodate.parse_duration(variant_stats['TotalTimePlayed']).total_seconds() / 3600\n",
    "    variant_dic['K/D'] = variant_stats['TotalKills'] / variant_stats['TotalDeaths']\n",
    "    variant_dic['Accuracy'] = variant_stats['TotalShotsLanded'] / variant_stats['TotalShotsFired']\n",
    "    variant_dic['WinRate'] = variant_stats['TotalGamesWon'] / variant_stats['TotalGamesLost']\n",
    "    vdf = vdf.append(variant_dic, True)\n",
    "    \n",
    "    i += 1\n",
    "    \n",
    "vdf"
   ]
  },
  {
   "cell_type": "markdown",
   "metadata": {},
   "source": [
    "## Full Match Detail Function Diagnostics"
   ]
  },
  {
   "cell_type": "code",
   "execution_count": null,
   "metadata": {
    "ExecuteTime": {
     "end_time": "2021-07-12T19:23:33.761537Z",
     "start_time": "2021-07-12T19:23:33.751534Z"
    }
   },
   "outputs": [],
   "source": [
    "base_df"
   ]
  },
  {
   "cell_type": "code",
   "execution_count": null,
   "metadata": {
    "ExecuteTime": {
     "end_time": "2021-07-12T19:23:36.648205Z",
     "start_time": "2021-07-12T19:23:36.645213Z"
    }
   },
   "outputs": [],
   "source": [
    "player_list"
   ]
  },
  {
   "cell_type": "code",
   "execution_count": null,
   "metadata": {
    "ExecuteTime": {
     "end_time": "2021-07-12T19:23:39.162055Z",
     "start_time": "2021-07-12T19:23:38.983014Z"
    }
   },
   "outputs": [],
   "source": [
    "player_history['Results'][0]"
   ]
  },
  {
   "cell_type": "code",
   "execution_count": null,
   "metadata": {
    "ExecuteTime": {
     "end_time": "2021-07-12T19:23:48.079191Z",
     "start_time": "2021-07-12T19:23:48.070195Z"
    }
   },
   "outputs": [],
   "source": [
    "history_df # history DF not responding to back_count = 20"
   ]
  },
  {
   "cell_type": "code",
   "execution_count": null,
   "metadata": {
    "ExecuteTime": {
     "end_time": "2021-07-12T19:23:49.156042Z",
     "start_time": "2021-07-12T19:23:49.143041Z"
    }
   },
   "outputs": [],
   "source": [
    "full_stats_df"
   ]
  },
  {
   "cell_type": "code",
   "execution_count": null,
   "metadata": {},
   "outputs": [],
   "source": []
  },
  {
   "cell_type": "code",
   "execution_count": null,
   "metadata": {},
   "outputs": [],
   "source": []
  },
  {
   "cell_type": "code",
   "execution_count": null,
   "metadata": {},
   "outputs": [],
   "source": [
    "# player_df_spartanrank = player_df.copy()\n",
    "\n",
    "row_count = 0\n",
    "\n",
    "for match in tqdm(match_details):\n",
    "# for match in tqdm(mds):\n",
    "    \n",
    "#     try:\n",
    "        data = match\n",
    "        df_match = pd.DataFrame()\n",
    "        columns = [\n",
    "            'TeamId',\n",
    "            'Gamertag',\n",
    "            'SpartanRank',\n",
    "            'PrevTotalXP',\n",
    "        ]\n",
    "        df_match = pd.DataFrame(columns = columns)\n",
    "        i = 0\n",
    "\n",
    "        if len(data['PlayerStats']) != 8:\n",
    "            continue\n",
    "\n",
    "        for player in data['PlayerStats']:\n",
    "\n",
    "            player_dic = {}\n",
    "            # Team ID\n",
    "            player_dic['TeamId'] = data['PlayerStats'][i]['TeamId']\n",
    "            if player_dic['TeamId'] not in (0, 1):\n",
    "                continue\n",
    "            # Gamer Tag\n",
    "            player_dic['Gamertag'] = data['PlayerStats'][i]['Player']['Gamertag']\n",
    "            # Spartan Rank\n",
    "            player_dic['SpartanRank'] = data['PlayerStats'][i]['XpInfo']['SpartanRank']\n",
    "            # Previous Total XP\n",
    "            player_dic['PrevTotalXP'] = data['PlayerStats'][i]['XpInfo']['PrevTotalXP']\n",
    "            df_match = df_match.append(player_dic, ignore_index=True)\n",
    "            i += 1\n",
    "\n",
    "            playerteam = df_match.loc[df_match['Gamertag'] == user, 'TeamId'].values[0]\n",
    "\n",
    "            if data['TeamStats'][0]['Rank'] == 1:\n",
    "                winner = 0\n",
    "            else: winner = 1\n",
    "\n",
    "            if winner == playerteam:\n",
    "                player_win = 1\n",
    "            else:\n",
    "                player_win = 0\n",
    "            \n",
    "        player_df = df_match.loc[df_match['TeamId'] == playerteam]\n",
    "        enemy_df = df_match.loc[df_match['TeamId'] != playerteam]\n",
    "\n",
    "        row_list = []\n",
    "        row_list.append(match['MatchId'])\n",
    "        row_list.append(player_win)\n",
    "        for row in range(len(player_df)):\n",
    "            row_list.extend(list(player_df.iloc[row].values[1:]))\n",
    "        for row in range(len(enemy_df)):\n",
    "            row_list.extend(list(enemy_df.iloc[row].values[1:]))\n",
    "\n",
    "        match_details_df.loc[row_count] = row_list\n",
    "#         print(row_list)\n",
    "        row_count += 1\n",
    " \n",
    "#     except:\n",
    "#         continue\n",
    "    \n",
    "match_details_df"
   ]
  }
 ],
 "metadata": {
  "kernelspec": {
   "display_name": "learn-env",
   "language": "python",
   "name": "learn-env"
  },
  "language_info": {
   "codemirror_mode": {
    "name": "ipython",
    "version": 3
   },
   "file_extension": ".py",
   "mimetype": "text/x-python",
   "name": "python",
   "nbconvert_exporter": "python",
   "pygments_lexer": "ipython3",
   "version": "3.8.5"
  },
  "toc": {
   "base_numbering": 1,
   "nav_menu": {},
   "number_sections": true,
   "sideBar": true,
   "skip_h1_title": false,
   "title_cell": "Table of Contents",
   "title_sidebar": "Contents",
   "toc_cell": false,
   "toc_position": {
    "height": "calc(100% - 180px)",
    "left": "10px",
    "top": "150px",
    "width": "193.812px"
   },
   "toc_section_display": true,
   "toc_window_display": true
  }
 },
 "nbformat": 4,
 "nbformat_minor": 4
}
