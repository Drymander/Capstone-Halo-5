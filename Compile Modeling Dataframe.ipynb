{
 "cells": [
  {
   "cell_type": "markdown",
   "metadata": {},
   "source": [
    "# To Do"
   ]
  },
  {
   "cell_type": "markdown",
   "metadata": {},
   "source": [
    "TRY SORTING ONLY FOR ONE FEATURE AND REARRANGING THE P1 P2 TO CORRESPOND\n",
    "\n",
    "Pull last 25 matches for enough players to fill large database, determine winner based on specified player, and pull playlist history for each player in that match to new modeling dataframe.  \n",
    "\n",
    "Thinking 10,000\n",
    "\n"
   ]
  },
  {
   "cell_type": "markdown",
   "metadata": {},
   "source": [
    "# Theme"
   ]
  },
  {
   "cell_type": "code",
   "execution_count": 1,
   "metadata": {
    "ExecuteTime": {
     "end_time": "2021-07-15T21:11:48.392189Z",
     "start_time": "2021-07-15T21:11:48.390191Z"
    }
   },
   "outputs": [],
   "source": [
    "# import jupyterthemes as jt\n",
    "\n",
    "# !jt -r\n",
    "\n",
    "# !jt -t gruvboxd\n",
    "# !jt -t gruvboxd -T\n",
    "# from IPython.core.display import display, HTML\n",
    "# display(HTML(\"<style>.container { width:80% !important; }</style>\"))"
   ]
  },
  {
   "cell_type": "markdown",
   "metadata": {},
   "source": [
    "# Imports"
   ]
  },
  {
   "cell_type": "code",
   "execution_count": 2,
   "metadata": {
    "ExecuteTime": {
     "end_time": "2021-07-15T21:11:49.733494Z",
     "start_time": "2021-07-15T21:11:48.396191Z"
    }
   },
   "outputs": [],
   "source": [
    "import requests\n",
    "import pandas as pd\n",
    "import matplotlib.pyplot as plt\n",
    "%matplotlib inline\n",
    "import seaborn as sns\n",
    "import numpy as np\n",
    "\n",
    "import json\n",
    "def get_keys(path):\n",
    "    with open(path) as f:\n",
    "        return json.load(f)\n",
    "# keys = get_keys(\"/Users/Johnny/.secret/yelp_api.json\")\n",
    "# api_key = keys['api_key']\n",
    "# pip install tmdbsimple #Ctrl+? this line to install tmdbsimple\n",
    "import tmdbsimple as tmdb\n",
    "# tmdb.API_KEY = api_key\n",
    "\n",
    "scrape = False\n",
    "\n",
    "import ast\n",
    "import time\n",
    "import http.client, urllib.request, urllib.parse, urllib.error, base64\n",
    "\n",
    "api_key = 'ceeaacb7cf024c7485e00ef8457e42dc'\n",
    "\n",
    "# !pip install isodate\n",
    "\n",
    "user = 'Drymander'\n",
    "\n",
    "import pickle\n",
    "from tqdm import tqdm"
   ]
  },
  {
   "cell_type": "code",
   "execution_count": 3,
   "metadata": {
    "ExecuteTime": {
     "end_time": "2021-07-15T21:11:50.874763Z",
     "start_time": "2021-07-15T21:11:49.734494Z"
    }
   },
   "outputs": [
    {
     "name": "stderr",
     "output_type": "stream",
     "text": [
      "[nltk_data] Downloading package punkt to\n",
      "[nltk_data]     C:\\Users\\johnn\\AppData\\Roaming\\nltk_data...\n",
      "[nltk_data]   Package punkt is already up-to-date!\n",
      "[nltk_data] Downloading package stopwords to\n",
      "[nltk_data]     C:\\Users\\johnn\\AppData\\Roaming\\nltk_data...\n",
      "[nltk_data]   Package stopwords is already up-to-date!\n"
     ]
    }
   ],
   "source": [
    "#Standard python libraries\n",
    "import pandas as pd\n",
    "import seaborn as sns\n",
    "# sns.set_context('talk')\n",
    "import matplotlib.pyplot as plt\n",
    "import numpy as np\n",
    "import warnings\n",
    "warnings.filterwarnings(action='ignore') \n",
    "\n",
    "# Preprocessing tools\n",
    "from sklearn.model_selection import train_test_split,cross_val_predict,cross_validate\n",
    "from sklearn.preprocessing import MinMaxScaler,StandardScaler,OneHotEncoder\n",
    "scaler = StandardScaler()\n",
    "from sklearn import metrics\n",
    "\n",
    "# Models & Utilities\n",
    "from sklearn.dummy import DummyClassifier\n",
    "from sklearn.linear_model import LogisticRegression,LogisticRegressionCV\n",
    "from sklearn.ensemble import RandomForestClassifier\n",
    "from sklearn.model_selection import train_test_split\n",
    "from sklearn.linear_model import LogisticRegression\n",
    "from sklearn.metrics import classification_report\n",
    "from sklearn.model_selection import cross_val_score\n",
    "from xgboost import XGBClassifier\n",
    "from sklearn.model_selection import GridSearchCV\n",
    "from sklearn.metrics import plot_confusion_matrix\n",
    "from sklearn.metrics import accuracy_score, confusion_matrix, classification_report, precision_score, recall_score, f1_score\n",
    "\n",
    "# Warnings\n",
    "import warnings\n",
    "warnings.filterwarnings(action='ignore') \n",
    "\n",
    "# NLP Libraries\n",
    "import nltk\n",
    "import collections\n",
    "nltk.download('punkt')\n",
    "from sklearn.manifold import TSNE\n",
    "from nltk.tokenize import word_tokenize\n",
    "from nltk import regexp_tokenize\n",
    "import re\n",
    "from nltk.corpus import stopwords\n",
    "from nltk.collocations import *\n",
    "from nltk import FreqDist\n",
    "from nltk import word_tokenize\n",
    "from nltk import ngrams\n",
    "import string\n",
    "from sklearn.feature_extraction.text import CountVectorizer\n",
    "from sklearn.feature_extraction.text import TfidfVectorizer\n",
    "nltk.download('stopwords')\n",
    "# !pip install wordcloud\n",
    "from wordcloud import WordCloud\n",
    "\n",
    "import http.client, urllib.request, urllib.parse, urllib.error, base64\n",
    "\n",
    "import isodate\n"
   ]
  },
  {
   "cell_type": "markdown",
   "metadata": {},
   "source": [
    "# Load Player Match History and All Matches"
   ]
  },
  {
   "cell_type": "code",
   "execution_count": 4,
   "metadata": {
    "ExecuteTime": {
     "end_time": "2021-07-15T21:11:56.574054Z",
     "start_time": "2021-07-15T21:11:50.875763Z"
    }
   },
   "outputs": [
    {
     "data": {
      "text/plain": [
       "5903"
      ]
     },
     "execution_count": 4,
     "metadata": {},
     "output_type": "execute_result"
    }
   ],
   "source": [
    "df_history = pd.read_csv('DrymanderHistoryExplode.csv')\n",
    "\n",
    "with open('match_details.pkl', 'rb') as match_details:\n",
    "    match_details = pickle.load(match_details)\n",
    "    \n",
    "len(match_details)"
   ]
  },
  {
   "cell_type": "markdown",
   "metadata": {},
   "source": [
    "## Add MatchId, GameBaseVariantId"
   ]
  },
  {
   "cell_type": "code",
   "execution_count": 5,
   "metadata": {
    "ExecuteTime": {
     "end_time": "2021-07-15T21:11:56.587058Z",
     "start_time": "2021-07-15T21:11:56.575054Z"
    }
   },
   "outputs": [
    {
     "data": {
      "text/html": [
       "<div>\n",
       "<style scoped>\n",
       "    .dataframe tbody tr th:only-of-type {\n",
       "        vertical-align: middle;\n",
       "    }\n",
       "\n",
       "    .dataframe tbody tr th {\n",
       "        vertical-align: top;\n",
       "    }\n",
       "\n",
       "    .dataframe thead th {\n",
       "        text-align: right;\n",
       "    }\n",
       "</style>\n",
       "<table border=\"1\" class=\"dataframe\">\n",
       "  <thead>\n",
       "    <tr style=\"text-align: right;\">\n",
       "      <th></th>\n",
       "      <th>MatchId</th>\n",
       "      <th>GameBaseVariantId</th>\n",
       "    </tr>\n",
       "  </thead>\n",
       "  <tbody>\n",
       "    <tr>\n",
       "      <th>0</th>\n",
       "      <td>10010481-1be2-462b-9774-eac5ee152045</td>\n",
       "      <td>a2949322-dc84-45ab-8454-cf94fb28c189</td>\n",
       "    </tr>\n",
       "    <tr>\n",
       "      <th>1</th>\n",
       "      <td>d8964123-992f-4dd9-8555-40b76a98d4e1</td>\n",
       "      <td>257a305e-4dd3-41f1-9824-dfe7e8bd59e1</td>\n",
       "    </tr>\n",
       "    <tr>\n",
       "      <th>2</th>\n",
       "      <td>c86a93e7-4842-4443-9b90-875b20e3846e</td>\n",
       "      <td>257a305e-4dd3-41f1-9824-dfe7e8bd59e1</td>\n",
       "    </tr>\n",
       "  </tbody>\n",
       "</table>\n",
       "</div>"
      ],
      "text/plain": [
       "                                MatchId                     GameBaseVariantId\n",
       "0  10010481-1be2-462b-9774-eac5ee152045  a2949322-dc84-45ab-8454-cf94fb28c189\n",
       "1  d8964123-992f-4dd9-8555-40b76a98d4e1  257a305e-4dd3-41f1-9824-dfe7e8bd59e1\n",
       "2  c86a93e7-4842-4443-9b90-875b20e3846e  257a305e-4dd3-41f1-9824-dfe7e8bd59e1"
      ]
     },
     "execution_count": 5,
     "metadata": {},
     "output_type": "execute_result"
    }
   ],
   "source": [
    "df = pd.DataFrame()\n",
    "\n",
    "df['MatchId'] = df_history['MatchId']\n",
    "df['GameBaseVariantId'] = df_history['GameBaseVariantId']\n",
    "\n",
    "df.head(3)"
   ]
  },
  {
   "cell_type": "markdown",
   "metadata": {},
   "source": [
    "## Store GameBaseVariantId Original Column\n",
    "\n",
    "We'll store this column as its own dataframe, which will be necessary for pulling the game variant in our Player History step."
   ]
  },
  {
   "cell_type": "code",
   "execution_count": 6,
   "metadata": {
    "ExecuteTime": {
     "end_time": "2021-07-15T21:11:56.604061Z",
     "start_time": "2021-07-15T21:11:56.588057Z"
    }
   },
   "outputs": [
    {
     "data": {
      "text/html": [
       "<div>\n",
       "<style scoped>\n",
       "    .dataframe tbody tr th:only-of-type {\n",
       "        vertical-align: middle;\n",
       "    }\n",
       "\n",
       "    .dataframe tbody tr th {\n",
       "        vertical-align: top;\n",
       "    }\n",
       "\n",
       "    .dataframe thead th {\n",
       "        text-align: right;\n",
       "    }\n",
       "</style>\n",
       "<table border=\"1\" class=\"dataframe\">\n",
       "  <thead>\n",
       "    <tr style=\"text-align: right;\">\n",
       "      <th></th>\n",
       "      <th>MatchId</th>\n",
       "      <th>GameBaseVariantId</th>\n",
       "    </tr>\n",
       "  </thead>\n",
       "  <tbody>\n",
       "    <tr>\n",
       "      <th>0</th>\n",
       "      <td>10010481-1be2-462b-9774-eac5ee152045</td>\n",
       "      <td>a2949322-dc84-45ab-8454-cf94fb28c189</td>\n",
       "    </tr>\n",
       "    <tr>\n",
       "      <th>1</th>\n",
       "      <td>d8964123-992f-4dd9-8555-40b76a98d4e1</td>\n",
       "      <td>257a305e-4dd3-41f1-9824-dfe7e8bd59e1</td>\n",
       "    </tr>\n",
       "    <tr>\n",
       "      <th>2</th>\n",
       "      <td>c86a93e7-4842-4443-9b90-875b20e3846e</td>\n",
       "      <td>257a305e-4dd3-41f1-9824-dfe7e8bd59e1</td>\n",
       "    </tr>\n",
       "    <tr>\n",
       "      <th>3</th>\n",
       "      <td>79379ee7-036c-4c4a-9945-ef6eec06fed8</td>\n",
       "      <td>a2949322-dc84-45ab-8454-cf94fb28c189</td>\n",
       "    </tr>\n",
       "    <tr>\n",
       "      <th>4</th>\n",
       "      <td>f16ebbe7-3ddd-4ff8-92de-52904c282d26</td>\n",
       "      <td>a2949322-dc84-45ab-8454-cf94fb28c189</td>\n",
       "    </tr>\n",
       "    <tr>\n",
       "      <th>...</th>\n",
       "      <td>...</td>\n",
       "      <td>...</td>\n",
       "    </tr>\n",
       "    <tr>\n",
       "      <th>5898</th>\n",
       "      <td>3be18e3f-1354-4f6f-9418-63a02ae630ec</td>\n",
       "      <td>257a305e-4dd3-41f1-9824-dfe7e8bd59e1</td>\n",
       "    </tr>\n",
       "    <tr>\n",
       "      <th>5899</th>\n",
       "      <td>0bbc809c-87d8-423f-88a4-ffb9fc782fd6</td>\n",
       "      <td>257a305e-4dd3-41f1-9824-dfe7e8bd59e1</td>\n",
       "    </tr>\n",
       "    <tr>\n",
       "      <th>5900</th>\n",
       "      <td>f165735b-3687-4a8a-890c-d5f3000d9257</td>\n",
       "      <td>257a305e-4dd3-41f1-9824-dfe7e8bd59e1</td>\n",
       "    </tr>\n",
       "    <tr>\n",
       "      <th>5901</th>\n",
       "      <td>994913a5-26ab-41fe-836e-e082188b3253</td>\n",
       "      <td>257a305e-4dd3-41f1-9824-dfe7e8bd59e1</td>\n",
       "    </tr>\n",
       "    <tr>\n",
       "      <th>5902</th>\n",
       "      <td>db10eb2e-77ca-409c-bc43-018eb0c470f3</td>\n",
       "      <td>257a305e-4dd3-41f1-9824-dfe7e8bd59e1</td>\n",
       "    </tr>\n",
       "  </tbody>\n",
       "</table>\n",
       "<p>5903 rows × 2 columns</p>\n",
       "</div>"
      ],
      "text/plain": [
       "                                   MatchId  \\\n",
       "0     10010481-1be2-462b-9774-eac5ee152045   \n",
       "1     d8964123-992f-4dd9-8555-40b76a98d4e1   \n",
       "2     c86a93e7-4842-4443-9b90-875b20e3846e   \n",
       "3     79379ee7-036c-4c4a-9945-ef6eec06fed8   \n",
       "4     f16ebbe7-3ddd-4ff8-92de-52904c282d26   \n",
       "...                                    ...   \n",
       "5898  3be18e3f-1354-4f6f-9418-63a02ae630ec   \n",
       "5899  0bbc809c-87d8-423f-88a4-ffb9fc782fd6   \n",
       "5900  f165735b-3687-4a8a-890c-d5f3000d9257   \n",
       "5901  994913a5-26ab-41fe-836e-e082188b3253   \n",
       "5902  db10eb2e-77ca-409c-bc43-018eb0c470f3   \n",
       "\n",
       "                         GameBaseVariantId  \n",
       "0     a2949322-dc84-45ab-8454-cf94fb28c189  \n",
       "1     257a305e-4dd3-41f1-9824-dfe7e8bd59e1  \n",
       "2     257a305e-4dd3-41f1-9824-dfe7e8bd59e1  \n",
       "3     a2949322-dc84-45ab-8454-cf94fb28c189  \n",
       "4     a2949322-dc84-45ab-8454-cf94fb28c189  \n",
       "...                                    ...  \n",
       "5898  257a305e-4dd3-41f1-9824-dfe7e8bd59e1  \n",
       "5899  257a305e-4dd3-41f1-9824-dfe7e8bd59e1  \n",
       "5900  257a305e-4dd3-41f1-9824-dfe7e8bd59e1  \n",
       "5901  257a305e-4dd3-41f1-9824-dfe7e8bd59e1  \n",
       "5902  257a305e-4dd3-41f1-9824-dfe7e8bd59e1  \n",
       "\n",
       "[5903 rows x 2 columns]"
      ]
     },
     "execution_count": 6,
     "metadata": {},
     "output_type": "execute_result"
    }
   ],
   "source": [
    "game_base_column_store_df = pd.DataFrame()\n",
    "game_base_column_store_df['MatchId'] = df_history['MatchId']\n",
    "game_base_column_store_df['GameBaseVariantId'] = df_history['GameBaseVariantId']\n",
    "game_base_column_store_df"
   ]
  },
  {
   "cell_type": "markdown",
   "metadata": {},
   "source": [
    "## MapVariantId"
   ]
  },
  {
   "cell_type": "code",
   "execution_count": 7,
   "metadata": {
    "ExecuteTime": {
     "end_time": "2021-07-15T21:11:56.623066Z",
     "start_time": "2021-07-15T21:11:56.605061Z"
    }
   },
   "outputs": [
    {
     "data": {
      "text/html": [
       "<div>\n",
       "<style scoped>\n",
       "    .dataframe tbody tr th:only-of-type {\n",
       "        vertical-align: middle;\n",
       "    }\n",
       "\n",
       "    .dataframe tbody tr th {\n",
       "        vertical-align: top;\n",
       "    }\n",
       "\n",
       "    .dataframe thead th {\n",
       "        text-align: right;\n",
       "    }\n",
       "</style>\n",
       "<table border=\"1\" class=\"dataframe\">\n",
       "  <thead>\n",
       "    <tr style=\"text-align: right;\">\n",
       "      <th></th>\n",
       "      <th>MatchId</th>\n",
       "      <th>GameBaseVariantId</th>\n",
       "      <th>MapVariantId</th>\n",
       "    </tr>\n",
       "  </thead>\n",
       "  <tbody>\n",
       "    <tr>\n",
       "      <th>0</th>\n",
       "      <td>10010481-1be2-462b-9774-eac5ee152045</td>\n",
       "      <td>a2949322-dc84-45ab-8454-cf94fb28c189</td>\n",
       "      <td>beaccaff-8166-4fe8-94ba-fd18ad7a83e1</td>\n",
       "    </tr>\n",
       "    <tr>\n",
       "      <th>1</th>\n",
       "      <td>d8964123-992f-4dd9-8555-40b76a98d4e1</td>\n",
       "      <td>257a305e-4dd3-41f1-9824-dfe7e8bd59e1</td>\n",
       "      <td>8e4831a0-debb-4f4e-ae75-a0834edcb153</td>\n",
       "    </tr>\n",
       "    <tr>\n",
       "      <th>2</th>\n",
       "      <td>c86a93e7-4842-4443-9b90-875b20e3846e</td>\n",
       "      <td>257a305e-4dd3-41f1-9824-dfe7e8bd59e1</td>\n",
       "      <td>b82c7fed-4667-43f8-8467-50741a5e1103</td>\n",
       "    </tr>\n",
       "  </tbody>\n",
       "</table>\n",
       "</div>"
      ],
      "text/plain": [
       "                                MatchId                     GameBaseVariantId  \\\n",
       "0  10010481-1be2-462b-9774-eac5ee152045  a2949322-dc84-45ab-8454-cf94fb28c189   \n",
       "1  d8964123-992f-4dd9-8555-40b76a98d4e1  257a305e-4dd3-41f1-9824-dfe7e8bd59e1   \n",
       "2  c86a93e7-4842-4443-9b90-875b20e3846e  257a305e-4dd3-41f1-9824-dfe7e8bd59e1   \n",
       "\n",
       "                           MapVariantId  \n",
       "0  beaccaff-8166-4fe8-94ba-fd18ad7a83e1  \n",
       "1  8e4831a0-debb-4f4e-ae75-a0834edcb153  \n",
       "2  b82c7fed-4667-43f8-8467-50741a5e1103  "
      ]
     },
     "execution_count": 7,
     "metadata": {},
     "output_type": "execute_result"
    }
   ],
   "source": [
    "MapVariantId_list = []\n",
    "\n",
    "for match in match_details:\n",
    "    MapVariantId = match['MapVariantId']\n",
    "    MapVariantId_list.append(MapVariantId)\n",
    "    \n",
    "df['MapVariantId'] = MapVariantId_list\n",
    "\n",
    "df.head(3)"
   ]
  },
  {
   "cell_type": "markdown",
   "metadata": {},
   "source": [
    "## Playlist ID"
   ]
  },
  {
   "cell_type": "code",
   "execution_count": 8,
   "metadata": {
    "ExecuteTime": {
     "end_time": "2021-07-15T21:11:56.643071Z",
     "start_time": "2021-07-15T21:11:56.624065Z"
    }
   },
   "outputs": [
    {
     "data": {
      "text/html": [
       "<div>\n",
       "<style scoped>\n",
       "    .dataframe tbody tr th:only-of-type {\n",
       "        vertical-align: middle;\n",
       "    }\n",
       "\n",
       "    .dataframe tbody tr th {\n",
       "        vertical-align: top;\n",
       "    }\n",
       "\n",
       "    .dataframe thead th {\n",
       "        text-align: right;\n",
       "    }\n",
       "</style>\n",
       "<table border=\"1\" class=\"dataframe\">\n",
       "  <thead>\n",
       "    <tr style=\"text-align: right;\">\n",
       "      <th></th>\n",
       "      <th>MatchId</th>\n",
       "      <th>GameBaseVariantId</th>\n",
       "      <th>MapVariantId</th>\n",
       "      <th>PlaylistId</th>\n",
       "    </tr>\n",
       "  </thead>\n",
       "  <tbody>\n",
       "    <tr>\n",
       "      <th>0</th>\n",
       "      <td>10010481-1be2-462b-9774-eac5ee152045</td>\n",
       "      <td>a2949322-dc84-45ab-8454-cf94fb28c189</td>\n",
       "      <td>beaccaff-8166-4fe8-94ba-fd18ad7a83e1</td>\n",
       "      <td>f0c9ef9a-48bd-4b24-9db3-2c76b4e23450</td>\n",
       "    </tr>\n",
       "    <tr>\n",
       "      <th>1</th>\n",
       "      <td>d8964123-992f-4dd9-8555-40b76a98d4e1</td>\n",
       "      <td>257a305e-4dd3-41f1-9824-dfe7e8bd59e1</td>\n",
       "      <td>8e4831a0-debb-4f4e-ae75-a0834edcb153</td>\n",
       "      <td>f0c9ef9a-48bd-4b24-9db3-2c76b4e23450</td>\n",
       "    </tr>\n",
       "    <tr>\n",
       "      <th>2</th>\n",
       "      <td>c86a93e7-4842-4443-9b90-875b20e3846e</td>\n",
       "      <td>257a305e-4dd3-41f1-9824-dfe7e8bd59e1</td>\n",
       "      <td>b82c7fed-4667-43f8-8467-50741a5e1103</td>\n",
       "      <td>f0c9ef9a-48bd-4b24-9db3-2c76b4e23450</td>\n",
       "    </tr>\n",
       "  </tbody>\n",
       "</table>\n",
       "</div>"
      ],
      "text/plain": [
       "                                MatchId                     GameBaseVariantId  \\\n",
       "0  10010481-1be2-462b-9774-eac5ee152045  a2949322-dc84-45ab-8454-cf94fb28c189   \n",
       "1  d8964123-992f-4dd9-8555-40b76a98d4e1  257a305e-4dd3-41f1-9824-dfe7e8bd59e1   \n",
       "2  c86a93e7-4842-4443-9b90-875b20e3846e  257a305e-4dd3-41f1-9824-dfe7e8bd59e1   \n",
       "\n",
       "                           MapVariantId                            PlaylistId  \n",
       "0  beaccaff-8166-4fe8-94ba-fd18ad7a83e1  f0c9ef9a-48bd-4b24-9db3-2c76b4e23450  \n",
       "1  8e4831a0-debb-4f4e-ae75-a0834edcb153  f0c9ef9a-48bd-4b24-9db3-2c76b4e23450  \n",
       "2  b82c7fed-4667-43f8-8467-50741a5e1103  f0c9ef9a-48bd-4b24-9db3-2c76b4e23450  "
      ]
     },
     "execution_count": 8,
     "metadata": {},
     "output_type": "execute_result"
    }
   ],
   "source": [
    "PlaylistId_list = []\n",
    "\n",
    "for match in match_details:\n",
    "    PlaylistId = match['PlaylistId']\n",
    "    PlaylistId_list.append(PlaylistId)\n",
    "    \n",
    "df['PlaylistId'] = PlaylistId_list\n",
    "\n",
    "df.head(3)\n",
    "\n",
    "# df.to_csv('playlist.csv')"
   ]
  },
  {
   "cell_type": "markdown",
   "metadata": {},
   "source": [
    "# Convert Codes to Names\n",
    "\n",
    "Now that we have MatchId, GameBaseVariantId, MapVariantId, and PlaylistId, we'll convert these to their readable naems that might be more familiar to players."
   ]
  },
  {
   "cell_type": "markdown",
   "metadata": {},
   "source": [
    "## Decode Column ID Function"
   ]
  },
  {
   "cell_type": "code",
   "execution_count": 9,
   "metadata": {
    "ExecuteTime": {
     "end_time": "2021-07-15T21:11:56.653072Z",
     "start_time": "2021-07-15T21:11:56.645070Z"
    }
   },
   "outputs": [],
   "source": [
    "def decode_column(df, column, api_dict):\n",
    "    decoded_list = []\n",
    "\n",
    "    for row in df[column]:\n",
    "        i = 0\n",
    "    #     print(row)\n",
    "        for item in api_dict:\n",
    "            if item['id'] == row:\n",
    "                name = item['name']\n",
    "                decoded_list.append(name)\n",
    "            else:\n",
    "                i += 1\n",
    "\n",
    "#     df[column] = decoded_list\n",
    "    \n",
    "    return decoded_list\n",
    "\n",
    "\n",
    "\n",
    "# decode_column(df, 'PlaylistId', plid)\n",
    "# # decode_column(df, 'GameBaseVariantId', gbv)"
   ]
  },
  {
   "cell_type": "markdown",
   "metadata": {},
   "source": [
    "## GameBaseVariant"
   ]
  },
  {
   "cell_type": "code",
   "execution_count": 10,
   "metadata": {
    "ExecuteTime": {
     "end_time": "2021-07-15T21:11:56.665075Z",
     "start_time": "2021-07-15T21:11:56.655073Z"
    }
   },
   "outputs": [],
   "source": [
    "run = False\n",
    "\n",
    "if run == True:\n",
    "    headers = {\n",
    "        # Request headers\n",
    "        'Accept-Language': 'en',\n",
    "        'Ocp-Apim-Subscription-Key': api_key,\n",
    "    }\n",
    "\n",
    "    params = urllib.parse.urlencode({\n",
    "    })\n",
    "\n",
    "    try:\n",
    "        conn = http.client.HTTPSConnection('www.haloapi.com')\n",
    "        conn.request(\"GET\", \"/metadata/h5/metadata/game-base-variants?%s\" % params, \"{body}\", headers)\n",
    "        response = conn.getresponse()\n",
    "        data = response.read()\n",
    "        GameBaseVariantId_dic = json.loads(data)\n",
    "    #     print(data)\n",
    "        conn.close()\n",
    "    except Exception as e:\n",
    "        print(\"[Errno {0}] {1}\".format(e.errno, e.strerror))\n",
    "\n",
    "    with open('GameBaseVariantId.pkl', 'wb') as GameBaseVariantId_pickle:\n",
    "        pickle.dump(GameBaseVariantId_dic, GameBaseVariantId_pickle)\n",
    "\n",
    "else:\n",
    "    with open('GameBaseVariantId.pkl', 'rb') as GameBaseVariantId_pickle:\n",
    "        GameBaseVariantId_dic = pickle.load(GameBaseVariantId_pickle)\n",
    "    \n"
   ]
  },
  {
   "cell_type": "code",
   "execution_count": 11,
   "metadata": {
    "ExecuteTime": {
     "end_time": "2021-07-15T21:11:56.697082Z",
     "start_time": "2021-07-15T21:11:56.666075Z"
    }
   },
   "outputs": [
    {
     "data": {
      "text/html": [
       "<div>\n",
       "<style scoped>\n",
       "    .dataframe tbody tr th:only-of-type {\n",
       "        vertical-align: middle;\n",
       "    }\n",
       "\n",
       "    .dataframe tbody tr th {\n",
       "        vertical-align: top;\n",
       "    }\n",
       "\n",
       "    .dataframe thead th {\n",
       "        text-align: right;\n",
       "    }\n",
       "</style>\n",
       "<table border=\"1\" class=\"dataframe\">\n",
       "  <thead>\n",
       "    <tr style=\"text-align: right;\">\n",
       "      <th></th>\n",
       "      <th>MatchId</th>\n",
       "      <th>GameBaseVariantId</th>\n",
       "      <th>MapVariantId</th>\n",
       "      <th>PlaylistId</th>\n",
       "    </tr>\n",
       "  </thead>\n",
       "  <tbody>\n",
       "    <tr>\n",
       "      <th>0</th>\n",
       "      <td>10010481-1be2-462b-9774-eac5ee152045</td>\n",
       "      <td>Capture the Flag</td>\n",
       "      <td>beaccaff-8166-4fe8-94ba-fd18ad7a83e1</td>\n",
       "      <td>f0c9ef9a-48bd-4b24-9db3-2c76b4e23450</td>\n",
       "    </tr>\n",
       "    <tr>\n",
       "      <th>1</th>\n",
       "      <td>d8964123-992f-4dd9-8555-40b76a98d4e1</td>\n",
       "      <td>Slayer</td>\n",
       "      <td>8e4831a0-debb-4f4e-ae75-a0834edcb153</td>\n",
       "      <td>f0c9ef9a-48bd-4b24-9db3-2c76b4e23450</td>\n",
       "    </tr>\n",
       "    <tr>\n",
       "      <th>2</th>\n",
       "      <td>c86a93e7-4842-4443-9b90-875b20e3846e</td>\n",
       "      <td>Slayer</td>\n",
       "      <td>b82c7fed-4667-43f8-8467-50741a5e1103</td>\n",
       "      <td>f0c9ef9a-48bd-4b24-9db3-2c76b4e23450</td>\n",
       "    </tr>\n",
       "  </tbody>\n",
       "</table>\n",
       "</div>"
      ],
      "text/plain": [
       "                                MatchId GameBaseVariantId  \\\n",
       "0  10010481-1be2-462b-9774-eac5ee152045  Capture the Flag   \n",
       "1  d8964123-992f-4dd9-8555-40b76a98d4e1            Slayer   \n",
       "2  c86a93e7-4842-4443-9b90-875b20e3846e            Slayer   \n",
       "\n",
       "                           MapVariantId                            PlaylistId  \n",
       "0  beaccaff-8166-4fe8-94ba-fd18ad7a83e1  f0c9ef9a-48bd-4b24-9db3-2c76b4e23450  \n",
       "1  8e4831a0-debb-4f4e-ae75-a0834edcb153  f0c9ef9a-48bd-4b24-9db3-2c76b4e23450  \n",
       "2  b82c7fed-4667-43f8-8467-50741a5e1103  f0c9ef9a-48bd-4b24-9db3-2c76b4e23450  "
      ]
     },
     "execution_count": 11,
     "metadata": {},
     "output_type": "execute_result"
    }
   ],
   "source": [
    "df['GameBaseVariantId'] = decode_column(df, 'GameBaseVariantId', GameBaseVariantId_dic)\n",
    "\n",
    "df.head(3)"
   ]
  },
  {
   "cell_type": "code",
   "execution_count": 12,
   "metadata": {
    "ExecuteTime": {
     "end_time": "2021-07-15T21:11:56.708085Z",
     "start_time": "2021-07-15T21:11:56.698082Z"
    }
   },
   "outputs": [
    {
     "data": {
      "text/plain": [
       "array(['Capture the Flag', 'Slayer', 'Strongholds', 'Oddball',\n",
       "       'Mini-game', 'Big Team Strongholds', 'Infection', 'Breakout',\n",
       "       'Grifball', 'Big Team Slayer', 'Big Team CTF', 'Big Team Assault',\n",
       "       'Assault'], dtype=object)"
      ]
     },
     "execution_count": 12,
     "metadata": {},
     "output_type": "execute_result"
    }
   ],
   "source": [
    "df['GameBaseVariantId'].unique()"
   ]
  },
  {
   "cell_type": "code",
   "execution_count": 13,
   "metadata": {
    "ExecuteTime": {
     "end_time": "2021-07-15T21:11:56.726090Z",
     "start_time": "2021-07-15T21:11:56.709085Z"
    }
   },
   "outputs": [
    {
     "data": {
      "text/html": [
       "<div>\n",
       "<style scoped>\n",
       "    .dataframe tbody tr th:only-of-type {\n",
       "        vertical-align: middle;\n",
       "    }\n",
       "\n",
       "    .dataframe tbody tr th {\n",
       "        vertical-align: top;\n",
       "    }\n",
       "\n",
       "    .dataframe thead th {\n",
       "        text-align: right;\n",
       "    }\n",
       "</style>\n",
       "<table border=\"1\" class=\"dataframe\">\n",
       "  <thead>\n",
       "    <tr style=\"text-align: right;\">\n",
       "      <th></th>\n",
       "      <th>MatchId</th>\n",
       "      <th>GameBaseVariantId</th>\n",
       "      <th>MapVariantId</th>\n",
       "      <th>PlaylistId</th>\n",
       "    </tr>\n",
       "  </thead>\n",
       "  <tbody>\n",
       "    <tr>\n",
       "      <th>0</th>\n",
       "      <td>10010481-1be2-462b-9774-eac5ee152045</td>\n",
       "      <td>a2949322-dc84-45ab-8454-cf94fb28c189</td>\n",
       "      <td>beaccaff-8166-4fe8-94ba-fd18ad7a83e1</td>\n",
       "      <td>f0c9ef9a-48bd-4b24-9db3-2c76b4e23450</td>\n",
       "    </tr>\n",
       "    <tr>\n",
       "      <th>1</th>\n",
       "      <td>d8964123-992f-4dd9-8555-40b76a98d4e1</td>\n",
       "      <td>257a305e-4dd3-41f1-9824-dfe7e8bd59e1</td>\n",
       "      <td>8e4831a0-debb-4f4e-ae75-a0834edcb153</td>\n",
       "      <td>f0c9ef9a-48bd-4b24-9db3-2c76b4e23450</td>\n",
       "    </tr>\n",
       "    <tr>\n",
       "      <th>2</th>\n",
       "      <td>c86a93e7-4842-4443-9b90-875b20e3846e</td>\n",
       "      <td>257a305e-4dd3-41f1-9824-dfe7e8bd59e1</td>\n",
       "      <td>b82c7fed-4667-43f8-8467-50741a5e1103</td>\n",
       "      <td>f0c9ef9a-48bd-4b24-9db3-2c76b4e23450</td>\n",
       "    </tr>\n",
       "  </tbody>\n",
       "</table>\n",
       "</div>"
      ],
      "text/plain": [
       "                                MatchId                     GameBaseVariantId  \\\n",
       "0  10010481-1be2-462b-9774-eac5ee152045  a2949322-dc84-45ab-8454-cf94fb28c189   \n",
       "1  d8964123-992f-4dd9-8555-40b76a98d4e1  257a305e-4dd3-41f1-9824-dfe7e8bd59e1   \n",
       "2  c86a93e7-4842-4443-9b90-875b20e3846e  257a305e-4dd3-41f1-9824-dfe7e8bd59e1   \n",
       "\n",
       "                           MapVariantId                            PlaylistId  \n",
       "0  beaccaff-8166-4fe8-94ba-fd18ad7a83e1  f0c9ef9a-48bd-4b24-9db3-2c76b4e23450  \n",
       "1  8e4831a0-debb-4f4e-ae75-a0834edcb153  f0c9ef9a-48bd-4b24-9db3-2c76b4e23450  \n",
       "2  b82c7fed-4667-43f8-8467-50741a5e1103  f0c9ef9a-48bd-4b24-9db3-2c76b4e23450  "
      ]
     },
     "execution_count": 13,
     "metadata": {},
     "output_type": "execute_result"
    }
   ],
   "source": [
    "df['GameBaseVariantId'] = df_history['GameBaseVariantId']\n",
    "\n",
    "df.head(3)"
   ]
  },
  {
   "cell_type": "markdown",
   "metadata": {},
   "source": [
    "## Playlist ID"
   ]
  },
  {
   "cell_type": "code",
   "execution_count": 14,
   "metadata": {
    "ExecuteTime": {
     "end_time": "2021-07-15T21:11:57.039160Z",
     "start_time": "2021-07-15T21:11:56.727089Z"
    }
   },
   "outputs": [],
   "source": [
    "run = True\n",
    "\n",
    "if run == True:\n",
    "\n",
    "    headers = {\n",
    "        # Request headers\n",
    "        'Accept-Language': 'en',\n",
    "        'Ocp-Apim-Subscription-Key': api_key,\n",
    "    }\n",
    "\n",
    "    params = urllib.parse.urlencode({\n",
    "    })\n",
    "\n",
    "    try:\n",
    "        conn = http.client.HTTPSConnection('www.haloapi.com')\n",
    "        conn.request(\"GET\", \"/metadata/h5/metadata/playlists?%s\" % params, \"{body}\", headers)\n",
    "        response = conn.getresponse()\n",
    "        data = response.read()\n",
    "        PlaylistId_dic = json.loads(data)\n",
    "#         print(data)\n",
    "        conn.close()\n",
    "    except Exception as e:\n",
    "        print(\"[Errno {0}] {1}\".format(e.errno, e.strerror))\n",
    "\n",
    "    with open('PlaylistId_dic.pkl', 'wb') as PlaylistId_dic_pickle:\n",
    "        pickle.dump(PlaylistId_dic, PlaylistId_dic_pickle)\n",
    "        \n",
    "else:\n",
    "    with open('PlaylistId_dic.pkl', 'rb') as PlaylistId_dic_pickle:\n",
    "        PlaylistId_dic = pickle.load(PlaylistId_dic_pickle)"
   ]
  },
  {
   "cell_type": "code",
   "execution_count": 15,
   "metadata": {
    "ExecuteTime": {
     "end_time": "2021-07-15T21:11:57.095172Z",
     "start_time": "2021-07-15T21:11:57.040160Z"
    }
   },
   "outputs": [
    {
     "data": {
      "text/html": [
       "<div>\n",
       "<style scoped>\n",
       "    .dataframe tbody tr th:only-of-type {\n",
       "        vertical-align: middle;\n",
       "    }\n",
       "\n",
       "    .dataframe tbody tr th {\n",
       "        vertical-align: top;\n",
       "    }\n",
       "\n",
       "    .dataframe thead th {\n",
       "        text-align: right;\n",
       "    }\n",
       "</style>\n",
       "<table border=\"1\" class=\"dataframe\">\n",
       "  <thead>\n",
       "    <tr style=\"text-align: right;\">\n",
       "      <th></th>\n",
       "      <th>MatchId</th>\n",
       "      <th>GameBaseVariantId</th>\n",
       "      <th>MapVariantId</th>\n",
       "      <th>PlaylistId</th>\n",
       "    </tr>\n",
       "  </thead>\n",
       "  <tbody>\n",
       "    <tr>\n",
       "      <th>0</th>\n",
       "      <td>10010481-1be2-462b-9774-eac5ee152045</td>\n",
       "      <td>a2949322-dc84-45ab-8454-cf94fb28c189</td>\n",
       "      <td>beaccaff-8166-4fe8-94ba-fd18ad7a83e1</td>\n",
       "      <td>Super Fiesta Party</td>\n",
       "    </tr>\n",
       "    <tr>\n",
       "      <th>1</th>\n",
       "      <td>d8964123-992f-4dd9-8555-40b76a98d4e1</td>\n",
       "      <td>257a305e-4dd3-41f1-9824-dfe7e8bd59e1</td>\n",
       "      <td>8e4831a0-debb-4f4e-ae75-a0834edcb153</td>\n",
       "      <td>Super Fiesta Party</td>\n",
       "    </tr>\n",
       "    <tr>\n",
       "      <th>2</th>\n",
       "      <td>c86a93e7-4842-4443-9b90-875b20e3846e</td>\n",
       "      <td>257a305e-4dd3-41f1-9824-dfe7e8bd59e1</td>\n",
       "      <td>b82c7fed-4667-43f8-8467-50741a5e1103</td>\n",
       "      <td>Super Fiesta Party</td>\n",
       "    </tr>\n",
       "  </tbody>\n",
       "</table>\n",
       "</div>"
      ],
      "text/plain": [
       "                                MatchId                     GameBaseVariantId  \\\n",
       "0  10010481-1be2-462b-9774-eac5ee152045  a2949322-dc84-45ab-8454-cf94fb28c189   \n",
       "1  d8964123-992f-4dd9-8555-40b76a98d4e1  257a305e-4dd3-41f1-9824-dfe7e8bd59e1   \n",
       "2  c86a93e7-4842-4443-9b90-875b20e3846e  257a305e-4dd3-41f1-9824-dfe7e8bd59e1   \n",
       "\n",
       "                           MapVariantId          PlaylistId  \n",
       "0  beaccaff-8166-4fe8-94ba-fd18ad7a83e1  Super Fiesta Party  \n",
       "1  8e4831a0-debb-4f4e-ae75-a0834edcb153  Super Fiesta Party  \n",
       "2  b82c7fed-4667-43f8-8467-50741a5e1103  Super Fiesta Party  "
      ]
     },
     "execution_count": 15,
     "metadata": {},
     "output_type": "execute_result"
    }
   ],
   "source": [
    "df['PlaylistId'] = decode_column(df, 'PlaylistId', PlaylistId_dic)\n",
    "\n",
    "df.head(3)"
   ]
  },
  {
   "cell_type": "code",
   "execution_count": 16,
   "metadata": {
    "ExecuteTime": {
     "end_time": "2021-07-15T21:11:57.100173Z",
     "start_time": "2021-07-15T21:11:57.096172Z"
    }
   },
   "outputs": [
    {
     "data": {
      "text/plain": [
       "array(['Super Fiesta Party', 'Big Team Super Fiesta', 'Core Play',\n",
       "       'Head to Head', 'Big Team Battle', \"Rock 'n' Rail\", 'SWAT',\n",
       "       'Action Sack', 'Free-for-All', 'Elimination', '2v2 Competitive',\n",
       "       'Team Arena', 'Quick Play', 'Community Slayer', 'Roaming King',\n",
       "       'ODST Slayer', 'Slayer ', 'Husky Raid', 'Holiday Fiesta',\n",
       "       'Castle Wars CTF', 'Triple Team', 'Grifball',\n",
       "       'Anniversary Throwback', 'Forerunner Slayer', 'Shotty Snipers',\n",
       "       'Halo 3 Classic Throwback', 'Infection', 'Mythic Arena',\n",
       "       'Team Skirmish', 'HCS 2018', 'Breakout', 'Covenant Slayer',\n",
       "       'Assault'], dtype=object)"
      ]
     },
     "execution_count": 16,
     "metadata": {},
     "output_type": "execute_result"
    }
   ],
   "source": [
    "df['PlaylistId'].unique()"
   ]
  },
  {
   "cell_type": "code",
   "execution_count": 109,
   "metadata": {
    "ExecuteTime": {
     "end_time": "2021-07-15T22:51:34.197396Z",
     "start_time": "2021-07-15T22:51:34.191387Z"
    }
   },
   "outputs": [
    {
     "data": {
      "text/plain": [
       "Super Fiesta Party          3765\n",
       "Slayer                        61\n",
       "Husky Raid                    56\n",
       "SWAT                          22\n",
       "Core Play                     19\n",
       "Anniversary Throwback         16\n",
       "Grifball                      14\n",
       "Elimination                   12\n",
       "Action Sack                   11\n",
       "Team Arena                     9\n",
       "Roaming King                   6\n",
       "Team Skirmish                  6\n",
       "Quick Play                     5\n",
       "Breakout                       5\n",
       "Rock 'n' Rail                  4\n",
       "Halo 3 Classic Throwback       3\n",
       "Mythic Arena                   2\n",
       "HCS 2018                       1\n",
       "Name: PlaylistId, dtype: int64"
      ]
     },
     "execution_count": 109,
     "metadata": {},
     "output_type": "execute_result"
    }
   ],
   "source": [
    "df['PlaylistId'].value_counts()"
   ]
  },
  {
   "cell_type": "markdown",
   "metadata": {},
   "source": [
    "## MapId"
   ]
  },
  {
   "cell_type": "code",
   "execution_count": 17,
   "metadata": {
    "ExecuteTime": {
     "end_time": "2021-07-15T21:11:57.111176Z",
     "start_time": "2021-07-15T21:11:57.101173Z"
    }
   },
   "outputs": [],
   "source": [
    "unique_map_ids = df['MapVariantId'].unique()"
   ]
  },
  {
   "cell_type": "code",
   "execution_count": 18,
   "metadata": {
    "ExecuteTime": {
     "end_time": "2021-07-15T21:11:57.124179Z",
     "start_time": "2021-07-15T21:11:57.112176Z"
    }
   },
   "outputs": [],
   "source": [
    "run = False\n",
    "\n",
    "if run == True:\n",
    "\n",
    "    headers = {\n",
    "        # Request headers\n",
    "        'Accept-Language': 'en',\n",
    "        'Ocp-Apim-Subscription-Key': api_key,\n",
    "    }\n",
    "\n",
    "    params = urllib.parse.urlencode({\n",
    "    })\n",
    "    map_list = []\n",
    "    for map_id in tqdm(unique_map_ids):\n",
    "        try:\n",
    "            conn = http.client.HTTPSConnection('www.haloapi.com')\n",
    "            conn.request(\"GET\", f\"/metadata/h5/metadata/map-variants/{map_id}?%s\" % params, \"{body}\", headers)\n",
    "            response = conn.getresponse()\n",
    "            data = response.read()\n",
    "            map_dic = json.loads(data)\n",
    "            map_list.append(map_dic)\n",
    "    #         print(data)\n",
    "            conn.close()\n",
    "            time.sleep(1.1)\n",
    "        except Exception as e:\n",
    "            print(\"[Errno {0}] {1}\".format(e.errno, e.strerror))\n",
    "\n",
    "    with open('map_list.pkl', 'wb') as map_list_pickle:\n",
    "        pickle.dump(map_list, map_list_pickle)\n",
    "\n",
    "else:\n",
    "    with open('map_list.pkl', 'rb') as map_list_pickle:\n",
    "        map_list = pickle.load(map_list_pickle)\n",
    "    \n",
    "\n"
   ]
  },
  {
   "cell_type": "code",
   "execution_count": 19,
   "metadata": {
    "ExecuteTime": {
     "end_time": "2021-07-15T21:11:57.348230Z",
     "start_time": "2021-07-15T21:11:57.125179Z"
    }
   },
   "outputs": [
    {
     "data": {
      "text/html": [
       "<div>\n",
       "<style scoped>\n",
       "    .dataframe tbody tr th:only-of-type {\n",
       "        vertical-align: middle;\n",
       "    }\n",
       "\n",
       "    .dataframe tbody tr th {\n",
       "        vertical-align: top;\n",
       "    }\n",
       "\n",
       "    .dataframe thead th {\n",
       "        text-align: right;\n",
       "    }\n",
       "</style>\n",
       "<table border=\"1\" class=\"dataframe\">\n",
       "  <thead>\n",
       "    <tr style=\"text-align: right;\">\n",
       "      <th></th>\n",
       "      <th>MatchId</th>\n",
       "      <th>GameBaseVariantId</th>\n",
       "      <th>MapVariantId</th>\n",
       "      <th>PlaylistId</th>\n",
       "    </tr>\n",
       "  </thead>\n",
       "  <tbody>\n",
       "    <tr>\n",
       "      <th>0</th>\n",
       "      <td>10010481-1be2-462b-9774-eac5ee152045</td>\n",
       "      <td>a2949322-dc84-45ab-8454-cf94fb28c189</td>\n",
       "      <td>Traverse</td>\n",
       "      <td>Super Fiesta Party</td>\n",
       "    </tr>\n",
       "    <tr>\n",
       "      <th>1</th>\n",
       "      <td>d8964123-992f-4dd9-8555-40b76a98d4e1</td>\n",
       "      <td>257a305e-4dd3-41f1-9824-dfe7e8bd59e1</td>\n",
       "      <td>Vestige</td>\n",
       "      <td>Super Fiesta Party</td>\n",
       "    </tr>\n",
       "    <tr>\n",
       "      <th>2</th>\n",
       "      <td>c86a93e7-4842-4443-9b90-875b20e3846e</td>\n",
       "      <td>257a305e-4dd3-41f1-9824-dfe7e8bd59e1</td>\n",
       "      <td>Russet</td>\n",
       "      <td>Super Fiesta Party</td>\n",
       "    </tr>\n",
       "    <tr>\n",
       "      <th>3</th>\n",
       "      <td>79379ee7-036c-4c4a-9945-ef6eec06fed8</td>\n",
       "      <td>a2949322-dc84-45ab-8454-cf94fb28c189</td>\n",
       "      <td>Hallows</td>\n",
       "      <td>Super Fiesta Party</td>\n",
       "    </tr>\n",
       "    <tr>\n",
       "      <th>4</th>\n",
       "      <td>f16ebbe7-3ddd-4ff8-92de-52904c282d26</td>\n",
       "      <td>a2949322-dc84-45ab-8454-cf94fb28c189</td>\n",
       "      <td>Stasis</td>\n",
       "      <td>Super Fiesta Party</td>\n",
       "    </tr>\n",
       "    <tr>\n",
       "      <th>5</th>\n",
       "      <td>71256ff9-bacd-4e89-90f5-27a797b0353d</td>\n",
       "      <td>a2949322-dc84-45ab-8454-cf94fb28c189</td>\n",
       "      <td>Traverse</td>\n",
       "      <td>Super Fiesta Party</td>\n",
       "    </tr>\n",
       "    <tr>\n",
       "      <th>6</th>\n",
       "      <td>a3726a6f-d404-450a-b4ee-b396a5bf518f</td>\n",
       "      <td>a2949322-dc84-45ab-8454-cf94fb28c189</td>\n",
       "      <td>Putput</td>\n",
       "      <td>Super Fiesta Party</td>\n",
       "    </tr>\n",
       "    <tr>\n",
       "      <th>7</th>\n",
       "      <td>9ae95690-bb2a-4521-bdeb-cac76d32a138</td>\n",
       "      <td>a2949322-dc84-45ab-8454-cf94fb28c189</td>\n",
       "      <td>Coliseum</td>\n",
       "      <td>Super Fiesta Party</td>\n",
       "    </tr>\n",
       "    <tr>\n",
       "      <th>8</th>\n",
       "      <td>0e78a319-27b1-4c24-a6b6-462c362a77f2</td>\n",
       "      <td>257a305e-4dd3-41f1-9824-dfe7e8bd59e1</td>\n",
       "      <td>Hourglass</td>\n",
       "      <td>Super Fiesta Party</td>\n",
       "    </tr>\n",
       "    <tr>\n",
       "      <th>9</th>\n",
       "      <td>95f40a31-298b-42fd-82a0-41271963ce22</td>\n",
       "      <td>257a305e-4dd3-41f1-9824-dfe7e8bd59e1</td>\n",
       "      <td>Furnace</td>\n",
       "      <td>Super Fiesta Party</td>\n",
       "    </tr>\n",
       "  </tbody>\n",
       "</table>\n",
       "</div>"
      ],
      "text/plain": [
       "                                MatchId                     GameBaseVariantId  \\\n",
       "0  10010481-1be2-462b-9774-eac5ee152045  a2949322-dc84-45ab-8454-cf94fb28c189   \n",
       "1  d8964123-992f-4dd9-8555-40b76a98d4e1  257a305e-4dd3-41f1-9824-dfe7e8bd59e1   \n",
       "2  c86a93e7-4842-4443-9b90-875b20e3846e  257a305e-4dd3-41f1-9824-dfe7e8bd59e1   \n",
       "3  79379ee7-036c-4c4a-9945-ef6eec06fed8  a2949322-dc84-45ab-8454-cf94fb28c189   \n",
       "4  f16ebbe7-3ddd-4ff8-92de-52904c282d26  a2949322-dc84-45ab-8454-cf94fb28c189   \n",
       "5  71256ff9-bacd-4e89-90f5-27a797b0353d  a2949322-dc84-45ab-8454-cf94fb28c189   \n",
       "6  a3726a6f-d404-450a-b4ee-b396a5bf518f  a2949322-dc84-45ab-8454-cf94fb28c189   \n",
       "7  9ae95690-bb2a-4521-bdeb-cac76d32a138  a2949322-dc84-45ab-8454-cf94fb28c189   \n",
       "8  0e78a319-27b1-4c24-a6b6-462c362a77f2  257a305e-4dd3-41f1-9824-dfe7e8bd59e1   \n",
       "9  95f40a31-298b-42fd-82a0-41271963ce22  257a305e-4dd3-41f1-9824-dfe7e8bd59e1   \n",
       "\n",
       "  MapVariantId          PlaylistId  \n",
       "0     Traverse  Super Fiesta Party  \n",
       "1      Vestige  Super Fiesta Party  \n",
       "2       Russet  Super Fiesta Party  \n",
       "3      Hallows  Super Fiesta Party  \n",
       "4       Stasis  Super Fiesta Party  \n",
       "5     Traverse  Super Fiesta Party  \n",
       "6       Putput  Super Fiesta Party  \n",
       "7     Coliseum  Super Fiesta Party  \n",
       "8    Hourglass  Super Fiesta Party  \n",
       "9      Furnace  Super Fiesta Party  "
      ]
     },
     "execution_count": 19,
     "metadata": {},
     "output_type": "execute_result"
    }
   ],
   "source": [
    "df['MapVariantId'] = decode_column(df, 'MapVariantId', map_list)\n",
    "\n",
    "df.head(10)"
   ]
  },
  {
   "cell_type": "code",
   "execution_count": 20,
   "metadata": {
    "ExecuteTime": {
     "end_time": "2021-07-15T21:11:57.353231Z",
     "start_time": "2021-07-15T21:11:57.349230Z"
    }
   },
   "outputs": [
    {
     "data": {
      "text/plain": [
       "array(['Traverse', 'Vestige', 'Russet', 'Hallows', 'Stasis', 'Putput',\n",
       "       'Coliseum', 'Hourglass', 'Furnace', 'Solstace Vista', 'The Rig',\n",
       "       'Harmony', 'Downfall', 'Meta Raid', 'Dominus', 'Eden', 'Meta Wave',\n",
       "       'Raid on the Control Room', 'Reclaimed', 'Plaza', 'Classified ',\n",
       "       'Fever Pitch', 'Swamp Fever', 'Stand Clear', 'Seclusion', 'Mercy',\n",
       "       'Echelon', 'Fathom', 'Moa Fields', 'M808b production',\n",
       "       'Overgrowth', 'Transit', 'Empire', 'Truth', 'Omission', 'Sleipnir',\n",
       "       'Blood and Stone', 'Gutter', 'Crossbow', 'Palmyra', 'Chill Out',\n",
       "       'Containment Breach', 'Junglerock', 'Voyager', 'Guillotine',\n",
       "       'Boulevard', 'Hinterlands', 'Pioneer', 'Dispelled', 'Viking',\n",
       "       'Port Authority', 'Fossil', 'Panic Attack', 'Traffic Jam',\n",
       "       'Scavenger', 'Altar', 'Echoes', 'Meander', 'Fracture', 'Ancestor',\n",
       "       'Eagle Square', 'Game Night', 'Sideswipe', 'Lawnmower Spree',\n",
       "       'Mantis Arena I', 'Ferindale', 'Regret FFA HCS', 'White Cell',\n",
       "       'Night of The Mantis', 'Conduit', 'Pound Town!!!', 'Face To Face',\n",
       "       'PhaseShift', 'pyramoid sandpit', 'Freight', 'Entombed',\n",
       "       'Truth HCS', 'Trident 2.0', 'Highrise', 'Knell', 'Coliseum HCS',\n",
       "       'Fissure HCS', 'Recurve', 'Port 66', 'risen', 'Refuge',\n",
       "       'Regret HCS', 'Pegasus II', 'Regret', 'Torque',\n",
       "       \"Necromancer's Keep\", 'Mausoleum', 'Ecumene Sanctum',\n",
       "       'The Undercity of Sunaion', 'Sidegrinder', 'Prisoner', 'Duck Run',\n",
       "       'Trench 2.0', 'Abyss', 'Molten', 'Construct', 'Citadel', 'Epitaph',\n",
       "       'Foundry', 'Isolation', 'Doubloon', 'Altitude', 'Vengeance',\n",
       "       'Goliath', 'Hive Charity', 'Underpass', 'The Yard', 'Tourist Trap',\n",
       "       'Damnation', 'Battle Creek', \"Hang 'Em High\", 'Rat Race',\n",
       "       'The Rig HCS', 'Pitball', 'Minotaurs', 'Team Sumo ', 'Blok Pit',\n",
       "       'Wizard Duel', 'Crows Court', \"Amnatu's Angels\",\n",
       "       \"The Arbiter's Court\", \"Vadum's Triumph\", 'BLUE vs RED 2003',\n",
       "       'High Charity', 'Sunset Beach', 'Grif Temple', 'Ghoul Town',\n",
       "       'Dreamscape', 'Trident', 'Wash Out', 'Riptide', 'Eden HCS',\n",
       "       'Gambol 2.0', 'Altitude 2.0', 'Tyrant', 'Paintball Junkies',\n",
       "       'Prop Hunt', 'APPARITION', 'Overpass', 'Pegasus'], dtype=object)"
      ]
     },
     "execution_count": 20,
     "metadata": {},
     "output_type": "execute_result"
    }
   ],
   "source": [
    "df['MapVariantId'].unique()"
   ]
  },
  {
   "cell_type": "markdown",
   "metadata": {},
   "source": [
    "# Model Dataframe"
   ]
  },
  {
   "cell_type": "markdown",
   "metadata": {},
   "source": [
    "## Add MatchId to Match Details DF\n",
    "\n",
    "Our full match details pull did not include MatchId's, but we were able to retrieve those from our original full player history pull.  Fortunately everything is sequential, so we can add MatchId's to our match details dictionary with a basic for loop.  We'll test everything to make sure everything lines up."
   ]
  },
  {
   "cell_type": "code",
   "execution_count": 21,
   "metadata": {
    "ExecuteTime": {
     "end_time": "2021-07-15T21:11:57.435249Z",
     "start_time": "2021-07-15T21:11:57.354231Z"
    }
   },
   "outputs": [],
   "source": [
    "i = 0\n",
    "\n",
    "for match in match_details:\n",
    "    match['MatchId'] = df['MatchId'].iloc[i]\n",
    "    i += 1"
   ]
  },
  {
   "cell_type": "code",
   "execution_count": 22,
   "metadata": {
    "ExecuteTime": {
     "end_time": "2021-07-15T21:11:57.439250Z",
     "start_time": "2021-07-15T21:11:57.436249Z"
    }
   },
   "outputs": [
    {
     "name": "stdout",
     "output_type": "stream",
     "text": [
      "db10eb2e-77ca-409c-bc43-018eb0c470f3\n",
      "db10eb2e-77ca-409c-bc43-018eb0c470f3\n"
     ]
    }
   ],
   "source": [
    "i = 5902\n",
    "\n",
    "print(match_details[i]['MatchId'])\n",
    "\n",
    "print(df['MatchId'].iloc[i])"
   ]
  },
  {
   "cell_type": "markdown",
   "metadata": {},
   "source": [
    "## Initial Columns"
   ]
  },
  {
   "cell_type": "code",
   "execution_count": 23,
   "metadata": {
    "ExecuteTime": {
     "end_time": "2021-07-15T21:11:57.462255Z",
     "start_time": "2021-07-15T21:11:57.440250Z"
    }
   },
   "outputs": [
    {
     "data": {
      "text/html": [
       "<div>\n",
       "<style scoped>\n",
       "    .dataframe tbody tr th:only-of-type {\n",
       "        vertical-align: middle;\n",
       "    }\n",
       "\n",
       "    .dataframe tbody tr th {\n",
       "        vertical-align: top;\n",
       "    }\n",
       "\n",
       "    .dataframe thead th {\n",
       "        text-align: right;\n",
       "    }\n",
       "</style>\n",
       "<table border=\"1\" class=\"dataframe\">\n",
       "  <thead>\n",
       "    <tr style=\"text-align: right;\">\n",
       "      <th></th>\n",
       "      <th>MatchId</th>\n",
       "      <th>PlayerWin</th>\n",
       "      <th>P1</th>\n",
       "      <th>P1_SpartanRank</th>\n",
       "      <th>P1_PrevTotalXP</th>\n",
       "      <th>P2</th>\n",
       "      <th>P2_SpartanRank</th>\n",
       "      <th>P2_PrevTotalXP</th>\n",
       "      <th>P3</th>\n",
       "      <th>P3_SpartanRank</th>\n",
       "      <th>...</th>\n",
       "      <th>E1_PrevTotalXP</th>\n",
       "      <th>E2</th>\n",
       "      <th>E2_SpartanRank</th>\n",
       "      <th>E2_PrevTotalXP</th>\n",
       "      <th>E3</th>\n",
       "      <th>E3_SpartanRank</th>\n",
       "      <th>E3_PrevTotalXP</th>\n",
       "      <th>E4</th>\n",
       "      <th>E4_SpartanRank</th>\n",
       "      <th>E4_PrevTotalXP</th>\n",
       "    </tr>\n",
       "  </thead>\n",
       "  <tbody>\n",
       "  </tbody>\n",
       "</table>\n",
       "<p>0 rows × 26 columns</p>\n",
       "</div>"
      ],
      "text/plain": [
       "Empty DataFrame\n",
       "Columns: [MatchId, PlayerWin, P1, P1_SpartanRank, P1_PrevTotalXP, P2, P2_SpartanRank, P2_PrevTotalXP, P3, P3_SpartanRank, P3_PrevTotalXP, P4, P4_SpartanRank, P4_PrevTotalXP, E1, E1_SpartanRank, E1_PrevTotalXP, E2, E2_SpartanRank, E2_PrevTotalXP, E3, E3_SpartanRank, E3_PrevTotalXP, E4, E4_SpartanRank, E4_PrevTotalXP]\n",
       "Index: []\n",
       "\n",
       "[0 rows x 26 columns]"
      ]
     },
     "execution_count": 23,
     "metadata": {},
     "output_type": "execute_result"
    }
   ],
   "source": [
    "match_details_df = pd.DataFrame()\n",
    "\n",
    "match_details_df_columns = [\n",
    "    'MatchId',\n",
    "    'PlayerWin',\n",
    "    'P1',\n",
    "    'P1_SpartanRank',\n",
    "    'P1_PrevTotalXP',\n",
    "    'P2',\n",
    "    'P2_SpartanRank',\n",
    "    'P2_PrevTotalXP',\n",
    "    'P3',\n",
    "    'P3_SpartanRank',\n",
    "    'P3_PrevTotalXP',\n",
    "    'P4',\n",
    "    'P4_SpartanRank',\n",
    "    'P4_PrevTotalXP',\n",
    "    'E1',\n",
    "    'E1_SpartanRank',\n",
    "    'E1_PrevTotalXP',\n",
    "    'E2',\n",
    "    'E2_SpartanRank',\n",
    "    'E2_PrevTotalXP',\n",
    "    'E3',\n",
    "    'E3_SpartanRank',\n",
    "    'E3_PrevTotalXP',\n",
    "    'E4',\n",
    "    'E4_SpartanRank',\n",
    "    'E4_PrevTotalXP',\n",
    "]\n",
    "\n",
    "match_details_df = pd.DataFrame(columns=match_details_df_columns)\n",
    "match_details_df"
   ]
  },
  {
   "cell_type": "code",
   "execution_count": 24,
   "metadata": {
    "ExecuteTime": {
     "end_time": "2021-07-15T21:11:57.501265Z",
     "start_time": "2021-07-15T21:11:57.465256Z"
    }
   },
   "outputs": [],
   "source": [
    "# player_df_spartanrank = player_df.copy()\n",
    "\n",
    "run = False\n",
    "\n",
    "if run == True:\n",
    "    error_count = 0\n",
    "\n",
    "    row_count = 0\n",
    "\n",
    "    user = 'Drymander'\n",
    "\n",
    "    for match in tqdm(match_details):\n",
    "    # for match in tqdm(mds):\n",
    "\n",
    "        try:\n",
    "            data = match\n",
    "            df_match = pd.DataFrame()\n",
    "            columns = [\n",
    "                'TeamId',\n",
    "                'Gamertag',\n",
    "                'SpartanRank',\n",
    "                'PrevTotalXP',\n",
    "            ]\n",
    "            df_match = pd.DataFrame(columns = columns)\n",
    "            i = 0\n",
    "\n",
    "            if len(data['PlayerStats']) != 8:\n",
    "                continue\n",
    "\n",
    "            for player in data['PlayerStats']:\n",
    "\n",
    "                player_dic = {}\n",
    "                # Team ID\n",
    "                player_dic['TeamId'] = data['PlayerStats'][i]['TeamId']\n",
    "                if player_dic['TeamId'] not in (0, 1):\n",
    "                    continue\n",
    "                # Gamer Tag\n",
    "                player_dic['Gamertag'] = data['PlayerStats'][i]['Player']['Gamertag']\n",
    "                # Spartan Rank\n",
    "                player_dic['SpartanRank'] = data['PlayerStats'][i]['XpInfo']['SpartanRank']\n",
    "                # Previous Total XP\n",
    "                player_dic['PrevTotalXP'] = data['PlayerStats'][i]['XpInfo']['PrevTotalXP']\n",
    "                df_match = df_match.append(player_dic, ignore_index=True)\n",
    "                i += 1\n",
    "\n",
    "            playerteam = df_match.loc[df_match['Gamertag'] == user, 'TeamId'].values[0]\n",
    "\n",
    "            if data['TeamStats'][0]['TeamId'] == playerteam:\n",
    "                playerteam_stats = data['TeamStats'][0]\n",
    "                enemyteam_stats = data['TeamStats'][1]\n",
    "            else: \n",
    "                playerteam_stats = data['TeamStats'][1]\n",
    "                enemyteam_stats = data['TeamStats'][0]\n",
    "\n",
    "            # Tie\n",
    "            if playerteam_stats['Rank'] == 1 and enemyteam_stats['Rank'] == 1:\n",
    "                winner = 'Tie'\n",
    "            # Player wins\n",
    "            elif playerteam_stats['Rank'] == 1 and enemyteam_stats['Rank'] == 2:\n",
    "                winner = 'Player'\n",
    "            # Enemy wins\n",
    "            elif playerteam_stats['Rank'] == 2 and enemyteam_stats['Rank'] == 1:\n",
    "                winner = 'Enemy'\n",
    "            # Error handling\n",
    "            else:\n",
    "                winner = 'Error determining winner'\n",
    "\n",
    "            player_df = df_match.loc[df_match['TeamId'] == playerteam]\n",
    "            enemy_df = df_match.loc[df_match['TeamId'] != playerteam]\n",
    "\n",
    "            row_list = []\n",
    "            row_list.append(match['MatchId'])\n",
    "            row_list.append(winner)\n",
    "            for row in range(len(player_df)):\n",
    "                row_list.extend(list(player_df.iloc[row].values[1:]))\n",
    "            for row in range(len(enemy_df)):\n",
    "                row_list.extend(list(enemy_df.iloc[row].values[1:]))\n",
    "\n",
    "            match_details_df.loc[row_count] = row_list\n",
    "\n",
    "            row_count += 1\n",
    "\n",
    "        except:\n",
    "            error_count += 1\n",
    "            continue\n",
    "    print(error_count)\n",
    "    match_details_df.to_csv('match_details_df.csv')\n",
    "    match_details_df.head(5)\n",
    "    match_details_df = match_details_df.drop(['Unnamed: 0'], axis=1)\n",
    "    \n",
    "else:\n",
    "    match_details_df = pd.read_csv('match_details_df.csv')\n",
    "    match_details_df = match_details_df.drop(['Unnamed: 0'], axis=1)\n",
    "    "
   ]
  },
  {
   "cell_type": "code",
   "execution_count": 25,
   "metadata": {
    "ExecuteTime": {
     "end_time": "2021-07-15T21:11:57.524270Z",
     "start_time": "2021-07-15T21:11:57.502264Z"
    }
   },
   "outputs": [
    {
     "data": {
      "text/html": [
       "<div>\n",
       "<style scoped>\n",
       "    .dataframe tbody tr th:only-of-type {\n",
       "        vertical-align: middle;\n",
       "    }\n",
       "\n",
       "    .dataframe tbody tr th {\n",
       "        vertical-align: top;\n",
       "    }\n",
       "\n",
       "    .dataframe thead th {\n",
       "        text-align: right;\n",
       "    }\n",
       "</style>\n",
       "<table border=\"1\" class=\"dataframe\">\n",
       "  <thead>\n",
       "    <tr style=\"text-align: right;\">\n",
       "      <th></th>\n",
       "      <th>MatchId</th>\n",
       "      <th>PlayerWin</th>\n",
       "      <th>P1</th>\n",
       "      <th>P1_SpartanRank</th>\n",
       "      <th>P1_PrevTotalXP</th>\n",
       "      <th>P2</th>\n",
       "      <th>P2_SpartanRank</th>\n",
       "      <th>P2_PrevTotalXP</th>\n",
       "      <th>P3</th>\n",
       "      <th>P3_SpartanRank</th>\n",
       "      <th>...</th>\n",
       "      <th>E1_PrevTotalXP</th>\n",
       "      <th>E2</th>\n",
       "      <th>E2_SpartanRank</th>\n",
       "      <th>E2_PrevTotalXP</th>\n",
       "      <th>E3</th>\n",
       "      <th>E3_SpartanRank</th>\n",
       "      <th>E3_PrevTotalXP</th>\n",
       "      <th>E4</th>\n",
       "      <th>E4_SpartanRank</th>\n",
       "      <th>E4_PrevTotalXP</th>\n",
       "    </tr>\n",
       "  </thead>\n",
       "  <tbody>\n",
       "    <tr>\n",
       "      <th>0</th>\n",
       "      <td>c86a93e7-4842-4443-9b90-875b20e3846e</td>\n",
       "      <td>Player</td>\n",
       "      <td>Drymander</td>\n",
       "      <td>148</td>\n",
       "      <td>14888512</td>\n",
       "      <td>Lightblack1100</td>\n",
       "      <td>70</td>\n",
       "      <td>1726224</td>\n",
       "      <td>MASTER BROTHA17</td>\n",
       "      <td>146</td>\n",
       "      <td>...</td>\n",
       "      <td>20790650</td>\n",
       "      <td>juantecua</td>\n",
       "      <td>147</td>\n",
       "      <td>11207654</td>\n",
       "      <td>Kingsmaster797</td>\n",
       "      <td>146</td>\n",
       "      <td>9290072</td>\n",
       "      <td>VulgarWizard</td>\n",
       "      <td>126</td>\n",
       "      <td>5062639</td>\n",
       "    </tr>\n",
       "    <tr>\n",
       "      <th>1</th>\n",
       "      <td>79379ee7-036c-4c4a-9945-ef6eec06fed8</td>\n",
       "      <td>Enemy</td>\n",
       "      <td>MrPicardBottoms</td>\n",
       "      <td>145</td>\n",
       "      <td>8542389</td>\n",
       "      <td>Drymander</td>\n",
       "      <td>148</td>\n",
       "      <td>14886075</td>\n",
       "      <td>Estebandido1983</td>\n",
       "      <td>142</td>\n",
       "      <td>...</td>\n",
       "      <td>10696184</td>\n",
       "      <td>WobblyLettuce97</td>\n",
       "      <td>147</td>\n",
       "      <td>12241652</td>\n",
       "      <td>infinityMS666</td>\n",
       "      <td>149</td>\n",
       "      <td>20788776</td>\n",
       "      <td>DuranguenC1020</td>\n",
       "      <td>146</td>\n",
       "      <td>9513831</td>\n",
       "    </tr>\n",
       "    <tr>\n",
       "      <th>2</th>\n",
       "      <td>f16ebbe7-3ddd-4ff8-92de-52904c282d26</td>\n",
       "      <td>Enemy</td>\n",
       "      <td>N8 Santiago</td>\n",
       "      <td>151</td>\n",
       "      <td>45675262</td>\n",
       "      <td>BarneySanders</td>\n",
       "      <td>150</td>\n",
       "      <td>27755510</td>\n",
       "      <td>infinityMS666</td>\n",
       "      <td>149</td>\n",
       "      <td>...</td>\n",
       "      <td>34604351</td>\n",
       "      <td>Adrianmed117</td>\n",
       "      <td>145</td>\n",
       "      <td>8069166</td>\n",
       "      <td>Kingsmaster797</td>\n",
       "      <td>146</td>\n",
       "      <td>9287740</td>\n",
       "      <td>AidedBridge965</td>\n",
       "      <td>150</td>\n",
       "      <td>30976866</td>\n",
       "    </tr>\n",
       "  </tbody>\n",
       "</table>\n",
       "<p>3 rows × 26 columns</p>\n",
       "</div>"
      ],
      "text/plain": [
       "                                MatchId PlayerWin               P1  \\\n",
       "0  c86a93e7-4842-4443-9b90-875b20e3846e    Player        Drymander   \n",
       "1  79379ee7-036c-4c4a-9945-ef6eec06fed8     Enemy  MrPicardBottoms   \n",
       "2  f16ebbe7-3ddd-4ff8-92de-52904c282d26     Enemy      N8 Santiago   \n",
       "\n",
       "   P1_SpartanRank  P1_PrevTotalXP              P2  P2_SpartanRank  \\\n",
       "0             148        14888512  Lightblack1100              70   \n",
       "1             145         8542389       Drymander             148   \n",
       "2             151        45675262   BarneySanders             150   \n",
       "\n",
       "   P2_PrevTotalXP               P3  P3_SpartanRank  ...  E1_PrevTotalXP  \\\n",
       "0         1726224  MASTER BROTHA17             146  ...        20790650   \n",
       "1        14886075  Estebandido1983             142  ...        10696184   \n",
       "2        27755510    infinityMS666             149  ...        34604351   \n",
       "\n",
       "                E2  E2_SpartanRank  E2_PrevTotalXP              E3  \\\n",
       "0        juantecua             147        11207654  Kingsmaster797   \n",
       "1  WobblyLettuce97             147        12241652   infinityMS666   \n",
       "2     Adrianmed117             145         8069166  Kingsmaster797   \n",
       "\n",
       "   E3_SpartanRank  E3_PrevTotalXP              E4  E4_SpartanRank  \\\n",
       "0             146         9290072    VulgarWizard             126   \n",
       "1             149        20788776  DuranguenC1020             146   \n",
       "2             146         9287740  AidedBridge965             150   \n",
       "\n",
       "   E4_PrevTotalXP  \n",
       "0         5062639  \n",
       "1         9513831  \n",
       "2        30976866  \n",
       "\n",
       "[3 rows x 26 columns]"
      ]
     },
     "execution_count": 25,
     "metadata": {},
     "output_type": "execute_result"
    }
   ],
   "source": [
    "match_details_df.head(3)"
   ]
  },
  {
   "cell_type": "code",
   "execution_count": 26,
   "metadata": {
    "ExecuteTime": {
     "end_time": "2021-07-15T21:11:57.536272Z",
     "start_time": "2021-07-15T21:11:57.525271Z"
    }
   },
   "outputs": [
    {
     "data": {
      "text/plain": [
       "Player    2233\n",
       "Enemy     1784\n",
       "Tie        216\n",
       "Name: PlayerWin, dtype: int64"
      ]
     },
     "execution_count": 26,
     "metadata": {},
     "output_type": "execute_result"
    }
   ],
   "source": [
    "match_details_df['PlayerWin'].value_counts()"
   ]
  },
  {
   "cell_type": "markdown",
   "metadata": {},
   "source": [
    "# Merge Player DF with Base DF"
   ]
  },
  {
   "cell_type": "code",
   "execution_count": 27,
   "metadata": {
    "ExecuteTime": {
     "end_time": "2021-07-15T21:11:57.642296Z",
     "start_time": "2021-07-15T21:11:57.537273Z"
    }
   },
   "outputs": [
    {
     "data": {
      "text/html": [
       "<div>\n",
       "<style scoped>\n",
       "    .dataframe tbody tr th:only-of-type {\n",
       "        vertical-align: middle;\n",
       "    }\n",
       "\n",
       "    .dataframe tbody tr th {\n",
       "        vertical-align: top;\n",
       "    }\n",
       "\n",
       "    .dataframe thead th {\n",
       "        text-align: right;\n",
       "    }\n",
       "</style>\n",
       "<table border=\"1\" class=\"dataframe\">\n",
       "  <thead>\n",
       "    <tr style=\"text-align: right;\">\n",
       "      <th></th>\n",
       "      <th>MatchId</th>\n",
       "      <th>GameBaseVariantId</th>\n",
       "      <th>MapVariantId</th>\n",
       "      <th>PlaylistId</th>\n",
       "      <th>PlayerWin</th>\n",
       "      <th>P1</th>\n",
       "      <th>P1_SpartanRank</th>\n",
       "      <th>P1_PrevTotalXP</th>\n",
       "      <th>P2</th>\n",
       "      <th>P2_SpartanRank</th>\n",
       "      <th>...</th>\n",
       "      <th>E1_PrevTotalXP</th>\n",
       "      <th>E2</th>\n",
       "      <th>E2_SpartanRank</th>\n",
       "      <th>E2_PrevTotalXP</th>\n",
       "      <th>E3</th>\n",
       "      <th>E3_SpartanRank</th>\n",
       "      <th>E3_PrevTotalXP</th>\n",
       "      <th>E4</th>\n",
       "      <th>E4_SpartanRank</th>\n",
       "      <th>E4_PrevTotalXP</th>\n",
       "    </tr>\n",
       "  </thead>\n",
       "  <tbody>\n",
       "    <tr>\n",
       "      <th>0</th>\n",
       "      <td>c86a93e7-4842-4443-9b90-875b20e3846e</td>\n",
       "      <td>257a305e-4dd3-41f1-9824-dfe7e8bd59e1</td>\n",
       "      <td>Russet</td>\n",
       "      <td>Super Fiesta Party</td>\n",
       "      <td>Player</td>\n",
       "      <td>Drymander</td>\n",
       "      <td>148</td>\n",
       "      <td>14888512</td>\n",
       "      <td>Lightblack1100</td>\n",
       "      <td>70</td>\n",
       "      <td>...</td>\n",
       "      <td>20790650</td>\n",
       "      <td>juantecua</td>\n",
       "      <td>147</td>\n",
       "      <td>11207654</td>\n",
       "      <td>Kingsmaster797</td>\n",
       "      <td>146</td>\n",
       "      <td>9290072</td>\n",
       "      <td>VulgarWizard</td>\n",
       "      <td>126</td>\n",
       "      <td>5062639</td>\n",
       "    </tr>\n",
       "    <tr>\n",
       "      <th>1</th>\n",
       "      <td>79379ee7-036c-4c4a-9945-ef6eec06fed8</td>\n",
       "      <td>a2949322-dc84-45ab-8454-cf94fb28c189</td>\n",
       "      <td>Hallows</td>\n",
       "      <td>Super Fiesta Party</td>\n",
       "      <td>Enemy</td>\n",
       "      <td>MrPicardBottoms</td>\n",
       "      <td>145</td>\n",
       "      <td>8542389</td>\n",
       "      <td>Drymander</td>\n",
       "      <td>148</td>\n",
       "      <td>...</td>\n",
       "      <td>10696184</td>\n",
       "      <td>WobblyLettuce97</td>\n",
       "      <td>147</td>\n",
       "      <td>12241652</td>\n",
       "      <td>infinityMS666</td>\n",
       "      <td>149</td>\n",
       "      <td>20788776</td>\n",
       "      <td>DuranguenC1020</td>\n",
       "      <td>146</td>\n",
       "      <td>9513831</td>\n",
       "    </tr>\n",
       "    <tr>\n",
       "      <th>2</th>\n",
       "      <td>f16ebbe7-3ddd-4ff8-92de-52904c282d26</td>\n",
       "      <td>a2949322-dc84-45ab-8454-cf94fb28c189</td>\n",
       "      <td>Stasis</td>\n",
       "      <td>Super Fiesta Party</td>\n",
       "      <td>Enemy</td>\n",
       "      <td>N8 Santiago</td>\n",
       "      <td>151</td>\n",
       "      <td>45675262</td>\n",
       "      <td>BarneySanders</td>\n",
       "      <td>150</td>\n",
       "      <td>...</td>\n",
       "      <td>34604351</td>\n",
       "      <td>Adrianmed117</td>\n",
       "      <td>145</td>\n",
       "      <td>8069166</td>\n",
       "      <td>Kingsmaster797</td>\n",
       "      <td>146</td>\n",
       "      <td>9287740</td>\n",
       "      <td>AidedBridge965</td>\n",
       "      <td>150</td>\n",
       "      <td>30976866</td>\n",
       "    </tr>\n",
       "    <tr>\n",
       "      <th>3</th>\n",
       "      <td>71256ff9-bacd-4e89-90f5-27a797b0353d</td>\n",
       "      <td>a2949322-dc84-45ab-8454-cf94fb28c189</td>\n",
       "      <td>Traverse</td>\n",
       "      <td>Super Fiesta Party</td>\n",
       "      <td>Player</td>\n",
       "      <td>Drymander</td>\n",
       "      <td>148</td>\n",
       "      <td>14879925</td>\n",
       "      <td>Siezelhecarp</td>\n",
       "      <td>149</td>\n",
       "      <td>...</td>\n",
       "      <td>757254</td>\n",
       "      <td>WobblyLettuce97</td>\n",
       "      <td>147</td>\n",
       "      <td>12240229</td>\n",
       "      <td>Kingsmaster797</td>\n",
       "      <td>146</td>\n",
       "      <td>9286374</td>\n",
       "      <td>Adrianmed117</td>\n",
       "      <td>145</td>\n",
       "      <td>8067801</td>\n",
       "    </tr>\n",
       "    <tr>\n",
       "      <th>4</th>\n",
       "      <td>a3726a6f-d404-450a-b4ee-b396a5bf518f</td>\n",
       "      <td>a2949322-dc84-45ab-8454-cf94fb28c189</td>\n",
       "      <td>Putput</td>\n",
       "      <td>Super Fiesta Party</td>\n",
       "      <td>Player</td>\n",
       "      <td>Drymander</td>\n",
       "      <td>148</td>\n",
       "      <td>14877173</td>\n",
       "      <td>WoIfenstein</td>\n",
       "      <td>152</td>\n",
       "      <td>...</td>\n",
       "      <td>52265289</td>\n",
       "      <td>jAngLes rAgEs x</td>\n",
       "      <td>152</td>\n",
       "      <td>51998764</td>\n",
       "      <td>XX HANK C30 XX</td>\n",
       "      <td>152</td>\n",
       "      <td>100000000</td>\n",
       "      <td>TheLansa</td>\n",
       "      <td>148</td>\n",
       "      <td>14377863</td>\n",
       "    </tr>\n",
       "    <tr>\n",
       "      <th>5</th>\n",
       "      <td>9ae95690-bb2a-4521-bdeb-cac76d32a138</td>\n",
       "      <td>a2949322-dc84-45ab-8454-cf94fb28c189</td>\n",
       "      <td>Coliseum</td>\n",
       "      <td>Super Fiesta Party</td>\n",
       "      <td>Player</td>\n",
       "      <td>FierceCon</td>\n",
       "      <td>151</td>\n",
       "      <td>41347936</td>\n",
       "      <td>Drymander</td>\n",
       "      <td>148</td>\n",
       "      <td>...</td>\n",
       "      <td>2371626</td>\n",
       "      <td>SHADOW 0228</td>\n",
       "      <td>128</td>\n",
       "      <td>5236271</td>\n",
       "      <td>Itmer A GG18</td>\n",
       "      <td>147</td>\n",
       "      <td>13445630</td>\n",
       "      <td>KSI DoctorBoz</td>\n",
       "      <td>149</td>\n",
       "      <td>19746870</td>\n",
       "    </tr>\n",
       "    <tr>\n",
       "      <th>6</th>\n",
       "      <td>0e78a319-27b1-4c24-a6b6-462c362a77f2</td>\n",
       "      <td>257a305e-4dd3-41f1-9824-dfe7e8bd59e1</td>\n",
       "      <td>Hourglass</td>\n",
       "      <td>Super Fiesta Party</td>\n",
       "      <td>Player</td>\n",
       "      <td>Bizarro B0B</td>\n",
       "      <td>84</td>\n",
       "      <td>2369979</td>\n",
       "      <td>CradleOF69EYES</td>\n",
       "      <td>149</td>\n",
       "      <td>...</td>\n",
       "      <td>16461320</td>\n",
       "      <td>The HuBear</td>\n",
       "      <td>145</td>\n",
       "      <td>7970552</td>\n",
       "      <td>FierceCon</td>\n",
       "      <td>151</td>\n",
       "      <td>41344928</td>\n",
       "      <td>GiantTrashPanda</td>\n",
       "      <td>115</td>\n",
       "      <td>4324758</td>\n",
       "    </tr>\n",
       "    <tr>\n",
       "      <th>7</th>\n",
       "      <td>95f40a31-298b-42fd-82a0-41271963ce22</td>\n",
       "      <td>257a305e-4dd3-41f1-9824-dfe7e8bd59e1</td>\n",
       "      <td>Furnace</td>\n",
       "      <td>Super Fiesta Party</td>\n",
       "      <td>Enemy</td>\n",
       "      <td>Drymander</td>\n",
       "      <td>148</td>\n",
       "      <td>14870882</td>\n",
       "      <td>MJacksonsCloset</td>\n",
       "      <td>150</td>\n",
       "      <td>...</td>\n",
       "      <td>22701061</td>\n",
       "      <td>darktowermiguel</td>\n",
       "      <td>151</td>\n",
       "      <td>39852918</td>\n",
       "      <td>The HuBear</td>\n",
       "      <td>145</td>\n",
       "      <td>7968823</td>\n",
       "      <td>HunterSDx</td>\n",
       "      <td>151</td>\n",
       "      <td>36932399</td>\n",
       "    </tr>\n",
       "    <tr>\n",
       "      <th>8</th>\n",
       "      <td>e031e7ae-bc16-4d01-85af-8f3b259b6609</td>\n",
       "      <td>a2949322-dc84-45ab-8454-cf94fb28c189</td>\n",
       "      <td>Solstace Vista</td>\n",
       "      <td>Super Fiesta Party</td>\n",
       "      <td>Enemy</td>\n",
       "      <td>Drymander</td>\n",
       "      <td>148</td>\n",
       "      <td>14868042</td>\n",
       "      <td>CradleOF69EYES</td>\n",
       "      <td>149</td>\n",
       "      <td>...</td>\n",
       "      <td>30627840</td>\n",
       "      <td>TENAHSEE</td>\n",
       "      <td>149</td>\n",
       "      <td>21480043</td>\n",
       "      <td>TAHU</td>\n",
       "      <td>149</td>\n",
       "      <td>19041057</td>\n",
       "      <td>Explosion25</td>\n",
       "      <td>98</td>\n",
       "      <td>3121323</td>\n",
       "    </tr>\n",
       "    <tr>\n",
       "      <th>9</th>\n",
       "      <td>6b286743-9a65-4f7e-9482-dcc542cfc359</td>\n",
       "      <td>1571fdac-e0b4-4ebc-a73a-6e13001b71d3</td>\n",
       "      <td>The Rig</td>\n",
       "      <td>Super Fiesta Party</td>\n",
       "      <td>Enemy</td>\n",
       "      <td>Drymander</td>\n",
       "      <td>148</td>\n",
       "      <td>14864780</td>\n",
       "      <td>tonatihu98x09</td>\n",
       "      <td>149</td>\n",
       "      <td>...</td>\n",
       "      <td>10363417</td>\n",
       "      <td>Scigit2121</td>\n",
       "      <td>148</td>\n",
       "      <td>14978216</td>\n",
       "      <td>WhiteWalker44</td>\n",
       "      <td>147</td>\n",
       "      <td>12500810</td>\n",
       "      <td>LowlifeSpice115</td>\n",
       "      <td>150</td>\n",
       "      <td>24798363</td>\n",
       "    </tr>\n",
       "  </tbody>\n",
       "</table>\n",
       "<p>10 rows × 29 columns</p>\n",
       "</div>"
      ],
      "text/plain": [
       "                                MatchId                     GameBaseVariantId  \\\n",
       "0  c86a93e7-4842-4443-9b90-875b20e3846e  257a305e-4dd3-41f1-9824-dfe7e8bd59e1   \n",
       "1  79379ee7-036c-4c4a-9945-ef6eec06fed8  a2949322-dc84-45ab-8454-cf94fb28c189   \n",
       "2  f16ebbe7-3ddd-4ff8-92de-52904c282d26  a2949322-dc84-45ab-8454-cf94fb28c189   \n",
       "3  71256ff9-bacd-4e89-90f5-27a797b0353d  a2949322-dc84-45ab-8454-cf94fb28c189   \n",
       "4  a3726a6f-d404-450a-b4ee-b396a5bf518f  a2949322-dc84-45ab-8454-cf94fb28c189   \n",
       "5  9ae95690-bb2a-4521-bdeb-cac76d32a138  a2949322-dc84-45ab-8454-cf94fb28c189   \n",
       "6  0e78a319-27b1-4c24-a6b6-462c362a77f2  257a305e-4dd3-41f1-9824-dfe7e8bd59e1   \n",
       "7  95f40a31-298b-42fd-82a0-41271963ce22  257a305e-4dd3-41f1-9824-dfe7e8bd59e1   \n",
       "8  e031e7ae-bc16-4d01-85af-8f3b259b6609  a2949322-dc84-45ab-8454-cf94fb28c189   \n",
       "9  6b286743-9a65-4f7e-9482-dcc542cfc359  1571fdac-e0b4-4ebc-a73a-6e13001b71d3   \n",
       "\n",
       "     MapVariantId          PlaylistId PlayerWin               P1  \\\n",
       "0          Russet  Super Fiesta Party    Player        Drymander   \n",
       "1         Hallows  Super Fiesta Party     Enemy  MrPicardBottoms   \n",
       "2          Stasis  Super Fiesta Party     Enemy      N8 Santiago   \n",
       "3        Traverse  Super Fiesta Party    Player        Drymander   \n",
       "4          Putput  Super Fiesta Party    Player        Drymander   \n",
       "5        Coliseum  Super Fiesta Party    Player        FierceCon   \n",
       "6       Hourglass  Super Fiesta Party    Player      Bizarro B0B   \n",
       "7         Furnace  Super Fiesta Party     Enemy        Drymander   \n",
       "8  Solstace Vista  Super Fiesta Party     Enemy        Drymander   \n",
       "9         The Rig  Super Fiesta Party     Enemy        Drymander   \n",
       "\n",
       "   P1_SpartanRank  P1_PrevTotalXP               P2  P2_SpartanRank  ...  \\\n",
       "0             148        14888512   Lightblack1100              70  ...   \n",
       "1             145         8542389        Drymander             148  ...   \n",
       "2             151        45675262    BarneySanders             150  ...   \n",
       "3             148        14879925     Siezelhecarp             149  ...   \n",
       "4             148        14877173      WoIfenstein             152  ...   \n",
       "5             151        41347936        Drymander             148  ...   \n",
       "6              84         2369979   CradleOF69EYES             149  ...   \n",
       "7             148        14870882  MJacksonsCloset             150  ...   \n",
       "8             148        14868042   CradleOF69EYES             149  ...   \n",
       "9             148        14864780    tonatihu98x09             149  ...   \n",
       "\n",
       "   E1_PrevTotalXP               E2  E2_SpartanRank  E2_PrevTotalXP  \\\n",
       "0        20790650        juantecua             147        11207654   \n",
       "1        10696184  WobblyLettuce97             147        12241652   \n",
       "2        34604351     Adrianmed117             145         8069166   \n",
       "3          757254  WobblyLettuce97             147        12240229   \n",
       "4        52265289  jAngLes rAgEs x             152        51998764   \n",
       "5         2371626      SHADOW 0228             128         5236271   \n",
       "6        16461320       The HuBear             145         7970552   \n",
       "7        22701061  darktowermiguel             151        39852918   \n",
       "8        30627840         TENAHSEE             149        21480043   \n",
       "9        10363417       Scigit2121             148        14978216   \n",
       "\n",
       "               E3  E3_SpartanRank  E3_PrevTotalXP               E4  \\\n",
       "0  Kingsmaster797             146         9290072     VulgarWizard   \n",
       "1   infinityMS666             149        20788776   DuranguenC1020   \n",
       "2  Kingsmaster797             146         9287740   AidedBridge965   \n",
       "3  Kingsmaster797             146         9286374     Adrianmed117   \n",
       "4  XX HANK C30 XX             152       100000000         TheLansa   \n",
       "5    Itmer A GG18             147        13445630    KSI DoctorBoz   \n",
       "6       FierceCon             151        41344928  GiantTrashPanda   \n",
       "7      The HuBear             145         7968823        HunterSDx   \n",
       "8            TAHU             149        19041057      Explosion25   \n",
       "9   WhiteWalker44             147        12500810  LowlifeSpice115   \n",
       "\n",
       "   E4_SpartanRank  E4_PrevTotalXP  \n",
       "0             126         5062639  \n",
       "1             146         9513831  \n",
       "2             150        30976866  \n",
       "3             145         8067801  \n",
       "4             148        14377863  \n",
       "5             149        19746870  \n",
       "6             115         4324758  \n",
       "7             151        36932399  \n",
       "8              98         3121323  \n",
       "9             150        24798363  \n",
       "\n",
       "[10 rows x 29 columns]"
      ]
     },
     "execution_count": 27,
     "metadata": {},
     "output_type": "execute_result"
    }
   ],
   "source": [
    "df2 = pd.merge(df, match_details_df, how='inner', on = 'MatchId')\n",
    "df2.to_csv('df2.csv')\n",
    "\n",
    "df2.head(10)"
   ]
  },
  {
   "cell_type": "code",
   "execution_count": 28,
   "metadata": {
    "ExecuteTime": {
     "end_time": "2021-07-15T21:11:57.645297Z",
     "start_time": "2021-07-15T21:11:57.643296Z"
    }
   },
   "outputs": [],
   "source": [
    "# df2 = pd.read_csv(\"df2.csv\")\n",
    "# df2 = df2.drop(['Unnamed: 0'], axis=1)\n",
    "# df2 = df2.drop(['Unnamed: 0.1'], axis=1)\n",
    "# df2"
   ]
  },
  {
   "cell_type": "markdown",
   "metadata": {},
   "source": [
    "# Pull Stats for All Players\n",
    "\n",
    "Using our match_details_df, we'll pull extended stats for every player we've played with.  This will allow us to pull out more detailed features based on game variant, since players often spend more time in their favoriate variants."
   ]
  },
  {
   "cell_type": "markdown",
   "metadata": {},
   "source": [
    "## Create List of Unique Gamertags"
   ]
  },
  {
   "cell_type": "code",
   "execution_count": 29,
   "metadata": {
    "ExecuteTime": {
     "end_time": "2021-07-15T21:11:57.663301Z",
     "start_time": "2021-07-15T21:11:57.646297Z"
    }
   },
   "outputs": [
    {
     "data": {
      "text/plain": [
       "24248"
      ]
     },
     "execution_count": 29,
     "metadata": {},
     "output_type": "execute_result"
    }
   ],
   "source": [
    "column_list = ['P1', 'P2', 'P3', 'P4', 'E1', 'E2', 'E3', 'E4']\n",
    "\n",
    "unique_gamertags = []\n",
    "\n",
    "for column in column_list:\n",
    "    unique_gamertags.extend(list(df2[column].unique()))\n",
    "\n",
    "len(unique_gamertags)"
   ]
  },
  {
   "cell_type": "code",
   "execution_count": 30,
   "metadata": {
    "ExecuteTime": {
     "end_time": "2021-07-15T21:11:57.689307Z",
     "start_time": "2021-07-15T21:11:57.664301Z"
    }
   },
   "outputs": [
    {
     "data": {
      "text/plain": [
       "array(['Drymander', 'MrPicardBottoms', 'N8 Santiago', 'FierceCon',\n",
       "       'Bizarro B0B', 'Razd up Ice', 'MFxSpiderman', 'VenomousNinja1',\n",
       "       'NOTORIOUS FU', 'SwedishPlumber1', 'ArchForspark', 'LASKI343',\n",
       "       'Shankst3r', 'albania', 'sboplataz', 'FinnedLace982',\n",
       "       'NoBrainer92', 'lilChKNnuGet', 'GingerTomato259', 'Abena2009',\n",
       "       'AnOrganicPotato', 'Tinkertrain2211', 'Zeus Gio', 'GarezMC',\n",
       "       'gageshotz1213', 'GusChiggins8705', 'Culpable 97', 'Albora9',\n",
       "       'OzMar Arias', 'mastercheefz724', 'GingerRex27193', 'ButtonySea1'],\n",
       "      dtype='<U15')"
      ]
     },
     "execution_count": 30,
     "metadata": {},
     "output_type": "execute_result"
    }
   ],
   "source": [
    "gamertag_groups = np.array_split(unique_gamertags, 758)\n",
    "gamertag_groups[0]"
   ]
  },
  {
   "cell_type": "markdown",
   "metadata": {},
   "source": [
    "## Code to convert list of player names into a string for the API"
   ]
  },
  {
   "cell_type": "code",
   "execution_count": 31,
   "metadata": {
    "ExecuteTime": {
     "end_time": "2021-07-15T21:11:57.702310Z",
     "start_time": "2021-07-15T21:11:57.690307Z"
    }
   },
   "outputs": [
    {
     "data": {
      "text/plain": [
       "'Drymander,MrPicardBottoms,N8+Santiago,FierceCon,Bizarro+B0B,Razd+up+Ice,MFxSpiderman,VenomousNinja1,NOTORIOUS+FU,SwedishPlumber1,ArchForspark,LASKI343,Shankst3r,albania,sboplataz,FinnedLace982,NoBrainer92,lilChKNnuGet,GingerTomato259,Abena2009,AnOrganicPotato,Tinkertrain2211,Zeus+Gio,GarezMC,gageshotz1213,GusChiggins8705,Culpable+97,Albora9,OzMar+Arias,mastercheefz724,GingerRex27193,ButtonySea1'"
      ]
     },
     "execution_count": 31,
     "metadata": {},
     "output_type": "execute_result"
    }
   ],
   "source": [
    "player_list = str(list(gamertag_groups[0]))[1:-1]\n",
    "\n",
    "player_list\n",
    "player_list = player_list.replace(', ',',')\n",
    "player_list = player_list.replace(\"'\",'')\n",
    "player_list = player_list.replace(' ','+')\n",
    "\n",
    "player_list"
   ]
  },
  {
   "cell_type": "markdown",
   "metadata": {},
   "source": [
    "## Player Stats API Call"
   ]
  },
  {
   "cell_type": "code",
   "execution_count": 32,
   "metadata": {
    "ExecuteTime": {
     "end_time": "2021-07-15T21:12:46.002253Z",
     "start_time": "2021-07-15T21:11:57.703310Z"
    }
   },
   "outputs": [
    {
     "data": {
      "text/plain": [
       "24248"
      ]
     },
     "execution_count": 32,
     "metadata": {},
     "output_type": "execute_result"
    }
   ],
   "source": [
    "run = False\n",
    "\n",
    "if run == True:\n",
    "\n",
    "    all_players = []\n",
    "\n",
    "    headers = {\n",
    "        # Request headers\n",
    "        'Ocp-Apim-Subscription-Key': str(api_key),\n",
    "    }\n",
    "\n",
    "    params = urllib.parse.urlencode({\n",
    "        # Request parameters\n",
    "    #     'seasonId': '{string}',\n",
    "\n",
    "    })\n",
    "\n",
    "    for group in tqdm(gamertag_groups[0:3]):\n",
    "\n",
    "        player_list = str(list(group))[1:-1]\n",
    "        player_list = player_list.replace(', ',',')\n",
    "        player_list = player_list.replace(\"'\",'')\n",
    "        player_list = player_list.replace(' ','+')\n",
    "\n",
    "        try:\n",
    "            conn = http.client.HTTPSConnection('www.haloapi.com')\n",
    "            conn.request(\"GET\", f\"/stats/h5/servicerecords/arena?players={player_list}&%s\" % params, \"{body}\", headers)\n",
    "\n",
    "            response = conn.getresponse()\n",
    "            players_stats = json.loads(response.read())\n",
    "            all_players.extend(players_stats['Results'])\n",
    "        #     print(data)\n",
    "            conn.close()\n",
    "        except Exception as e:\n",
    "            print(\"[Errno {0}] {1}\".format(e.errno, e.strerror))\n",
    "\n",
    "        time.sleep(1.1)\n",
    "\n",
    "    with open('all_players.pkl', 'wb') as all_players_pickle:\n",
    "        pickle.dump(all_players, all_players_pickle)\n",
    "\n",
    "######## CAUTION - THIS CONSUMES 16 GB of RAM ##########\n",
    "else:\n",
    "    with open('all_players.pkl', 'rb') as all_players_pickle:\n",
    "        all_players = pickle.load(all_players_pickle)\n",
    "    \n",
    "len(all_players)\n"
   ]
  },
  {
   "cell_type": "markdown",
   "metadata": {},
   "source": [
    "# Merge All Player Stats with Base Dataframe"
   ]
  },
  {
   "cell_type": "markdown",
   "metadata": {},
   "source": [
    "## Reset GameVaseVariantID to code for model DF"
   ]
  },
  {
   "cell_type": "code",
   "execution_count": 33,
   "metadata": {
    "ExecuteTime": {
     "end_time": "2021-07-15T21:12:46.008254Z",
     "start_time": "2021-07-15T21:12:46.003253Z"
    }
   },
   "outputs": [],
   "source": [
    "df2_save = df2.copy()"
   ]
  },
  {
   "cell_type": "code",
   "execution_count": 34,
   "metadata": {
    "ExecuteTime": {
     "end_time": "2021-07-15T21:12:46.038261Z",
     "start_time": "2021-07-15T21:12:46.009254Z"
    }
   },
   "outputs": [
    {
     "data": {
      "text/html": [
       "<div>\n",
       "<style scoped>\n",
       "    .dataframe tbody tr th:only-of-type {\n",
       "        vertical-align: middle;\n",
       "    }\n",
       "\n",
       "    .dataframe tbody tr th {\n",
       "        vertical-align: top;\n",
       "    }\n",
       "\n",
       "    .dataframe thead th {\n",
       "        text-align: right;\n",
       "    }\n",
       "</style>\n",
       "<table border=\"1\" class=\"dataframe\">\n",
       "  <thead>\n",
       "    <tr style=\"text-align: right;\">\n",
       "      <th></th>\n",
       "      <th>MatchId</th>\n",
       "      <th>GameBaseVariantId</th>\n",
       "      <th>MapVariantId</th>\n",
       "      <th>PlaylistId</th>\n",
       "      <th>PlayerWin</th>\n",
       "      <th>P1</th>\n",
       "      <th>P1_SpartanRank</th>\n",
       "      <th>P1_PrevTotalXP</th>\n",
       "      <th>P2</th>\n",
       "      <th>P2_SpartanRank</th>\n",
       "      <th>...</th>\n",
       "      <th>E1_PrevTotalXP</th>\n",
       "      <th>E2</th>\n",
       "      <th>E2_SpartanRank</th>\n",
       "      <th>E2_PrevTotalXP</th>\n",
       "      <th>E3</th>\n",
       "      <th>E3_SpartanRank</th>\n",
       "      <th>E3_PrevTotalXP</th>\n",
       "      <th>E4</th>\n",
       "      <th>E4_SpartanRank</th>\n",
       "      <th>E4_PrevTotalXP</th>\n",
       "    </tr>\n",
       "  </thead>\n",
       "  <tbody>\n",
       "    <tr>\n",
       "      <th>0</th>\n",
       "      <td>c86a93e7-4842-4443-9b90-875b20e3846e</td>\n",
       "      <td>257a305e-4dd3-41f1-9824-dfe7e8bd59e1</td>\n",
       "      <td>Russet</td>\n",
       "      <td>Super Fiesta Party</td>\n",
       "      <td>Player</td>\n",
       "      <td>Drymander</td>\n",
       "      <td>148</td>\n",
       "      <td>14888512</td>\n",
       "      <td>Lightblack1100</td>\n",
       "      <td>70</td>\n",
       "      <td>...</td>\n",
       "      <td>20790650</td>\n",
       "      <td>juantecua</td>\n",
       "      <td>147</td>\n",
       "      <td>11207654</td>\n",
       "      <td>Kingsmaster797</td>\n",
       "      <td>146</td>\n",
       "      <td>9290072</td>\n",
       "      <td>VulgarWizard</td>\n",
       "      <td>126</td>\n",
       "      <td>5062639</td>\n",
       "    </tr>\n",
       "    <tr>\n",
       "      <th>1</th>\n",
       "      <td>79379ee7-036c-4c4a-9945-ef6eec06fed8</td>\n",
       "      <td>a2949322-dc84-45ab-8454-cf94fb28c189</td>\n",
       "      <td>Hallows</td>\n",
       "      <td>Super Fiesta Party</td>\n",
       "      <td>Enemy</td>\n",
       "      <td>MrPicardBottoms</td>\n",
       "      <td>145</td>\n",
       "      <td>8542389</td>\n",
       "      <td>Drymander</td>\n",
       "      <td>148</td>\n",
       "      <td>...</td>\n",
       "      <td>10696184</td>\n",
       "      <td>WobblyLettuce97</td>\n",
       "      <td>147</td>\n",
       "      <td>12241652</td>\n",
       "      <td>infinityMS666</td>\n",
       "      <td>149</td>\n",
       "      <td>20788776</td>\n",
       "      <td>DuranguenC1020</td>\n",
       "      <td>146</td>\n",
       "      <td>9513831</td>\n",
       "    </tr>\n",
       "  </tbody>\n",
       "</table>\n",
       "<p>2 rows × 29 columns</p>\n",
       "</div>"
      ],
      "text/plain": [
       "                                MatchId                     GameBaseVariantId  \\\n",
       "0  c86a93e7-4842-4443-9b90-875b20e3846e  257a305e-4dd3-41f1-9824-dfe7e8bd59e1   \n",
       "1  79379ee7-036c-4c4a-9945-ef6eec06fed8  a2949322-dc84-45ab-8454-cf94fb28c189   \n",
       "\n",
       "  MapVariantId          PlaylistId PlayerWin               P1  P1_SpartanRank  \\\n",
       "0       Russet  Super Fiesta Party    Player        Drymander             148   \n",
       "1      Hallows  Super Fiesta Party     Enemy  MrPicardBottoms             145   \n",
       "\n",
       "   P1_PrevTotalXP              P2  P2_SpartanRank  ...  E1_PrevTotalXP  \\\n",
       "0        14888512  Lightblack1100              70  ...        20790650   \n",
       "1         8542389       Drymander             148  ...        10696184   \n",
       "\n",
       "                E2  E2_SpartanRank  E2_PrevTotalXP              E3  \\\n",
       "0        juantecua             147        11207654  Kingsmaster797   \n",
       "1  WobblyLettuce97             147        12241652   infinityMS666   \n",
       "\n",
       "   E3_SpartanRank  E3_PrevTotalXP              E4  E4_SpartanRank  \\\n",
       "0             146         9290072    VulgarWizard             126   \n",
       "1             149        20788776  DuranguenC1020             146   \n",
       "\n",
       "   E4_PrevTotalXP  \n",
       "0         5062639  \n",
       "1         9513831  \n",
       "\n",
       "[2 rows x 29 columns]"
      ]
     },
     "execution_count": 34,
     "metadata": {},
     "output_type": "execute_result"
    }
   ],
   "source": [
    "df2.head(2)"
   ]
  },
  {
   "cell_type": "code",
   "execution_count": null,
   "metadata": {
    "ExecuteTime": {
     "end_time": "2021-07-15T20:34:06.700139Z",
     "start_time": "2021-07-15T20:34:06.672141Z"
    }
   },
   "outputs": [],
   "source": []
  },
  {
   "cell_type": "code",
   "execution_count": 39,
   "metadata": {
    "ExecuteTime": {
     "end_time": "2021-07-15T22:01:08.727489Z",
     "start_time": "2021-07-15T22:01:08.646470Z"
    }
   },
   "outputs": [
    {
     "data": {
      "text/html": [
       "<div>\n",
       "<style scoped>\n",
       "    .dataframe tbody tr th:only-of-type {\n",
       "        vertical-align: middle;\n",
       "    }\n",
       "\n",
       "    .dataframe tbody tr th {\n",
       "        vertical-align: top;\n",
       "    }\n",
       "\n",
       "    .dataframe thead th {\n",
       "        text-align: right;\n",
       "    }\n",
       "</style>\n",
       "<table border=\"1\" class=\"dataframe\">\n",
       "  <thead>\n",
       "    <tr style=\"text-align: right;\">\n",
       "      <th></th>\n",
       "      <th>Unnamed: 0</th>\n",
       "      <th>MatchId</th>\n",
       "      <th>GameBaseVariantId</th>\n",
       "      <th>MapVariantId</th>\n",
       "      <th>PlaylistId</th>\n",
       "      <th>PlayerWin</th>\n",
       "      <th>P1</th>\n",
       "      <th>P1_SpartanRank</th>\n",
       "      <th>P1_PrevTotalXP</th>\n",
       "      <th>P2</th>\n",
       "      <th>...</th>\n",
       "      <th>E2_Accuracy</th>\n",
       "      <th>E2_WinRate</th>\n",
       "      <th>E3_TotalTimePlayed</th>\n",
       "      <th>E3_K/D</th>\n",
       "      <th>E3_Accuracy</th>\n",
       "      <th>E3_WinRate</th>\n",
       "      <th>E4_TotalTimePlayed</th>\n",
       "      <th>E4_K/D</th>\n",
       "      <th>E4_Accuracy</th>\n",
       "      <th>E4_WinRate</th>\n",
       "    </tr>\n",
       "  </thead>\n",
       "  <tbody>\n",
       "    <tr>\n",
       "      <th>0</th>\n",
       "      <td>0</td>\n",
       "      <td>c86a93e7-4842-4443-9b90-875b20e3846e</td>\n",
       "      <td>257a305e-4dd3-41f1-9824-dfe7e8bd59e1</td>\n",
       "      <td>Russet</td>\n",
       "      <td>Super Fiesta Party</td>\n",
       "      <td>Player</td>\n",
       "      <td>Drymander</td>\n",
       "      <td>148</td>\n",
       "      <td>14888512</td>\n",
       "      <td>Lightblack1100</td>\n",
       "      <td>...</td>\n",
       "      <td>0.378842</td>\n",
       "      <td>0.756111</td>\n",
       "      <td>479.605452</td>\n",
       "      <td>1.091919</td>\n",
       "      <td>0.305437</td>\n",
       "      <td>0.916330</td>\n",
       "      <td>101.949003</td>\n",
       "      <td>0.934634</td>\n",
       "      <td>0.346448</td>\n",
       "      <td>1.013730</td>\n",
       "    </tr>\n",
       "    <tr>\n",
       "      <th>1</th>\n",
       "      <td>1</td>\n",
       "      <td>79379ee7-036c-4c4a-9945-ef6eec06fed8</td>\n",
       "      <td>a2949322-dc84-45ab-8454-cf94fb28c189</td>\n",
       "      <td>Hallows</td>\n",
       "      <td>Super Fiesta Party</td>\n",
       "      <td>Enemy</td>\n",
       "      <td>MrPicardBottoms</td>\n",
       "      <td>145</td>\n",
       "      <td>8542389</td>\n",
       "      <td>Drymander</td>\n",
       "      <td>...</td>\n",
       "      <td>0.391760</td>\n",
       "      <td>1.109615</td>\n",
       "      <td>388.329832</td>\n",
       "      <td>0.819723</td>\n",
       "      <td>0.322088</td>\n",
       "      <td>0.867347</td>\n",
       "      <td>67.199272</td>\n",
       "      <td>0.939086</td>\n",
       "      <td>0.364014</td>\n",
       "      <td>0.799410</td>\n",
       "    </tr>\n",
       "    <tr>\n",
       "      <th>2</th>\n",
       "      <td>2</td>\n",
       "      <td>f16ebbe7-3ddd-4ff8-92de-52904c282d26</td>\n",
       "      <td>a2949322-dc84-45ab-8454-cf94fb28c189</td>\n",
       "      <td>Stasis</td>\n",
       "      <td>Super Fiesta Party</td>\n",
       "      <td>Enemy</td>\n",
       "      <td>N8 Santiago</td>\n",
       "      <td>151</td>\n",
       "      <td>45675262</td>\n",
       "      <td>BarneySanders</td>\n",
       "      <td>...</td>\n",
       "      <td>0.322811</td>\n",
       "      <td>0.744401</td>\n",
       "      <td>479.605452</td>\n",
       "      <td>1.091919</td>\n",
       "      <td>0.305437</td>\n",
       "      <td>0.916330</td>\n",
       "      <td>695.025787</td>\n",
       "      <td>1.060988</td>\n",
       "      <td>0.359755</td>\n",
       "      <td>0.873743</td>\n",
       "    </tr>\n",
       "  </tbody>\n",
       "</table>\n",
       "<p>3 rows × 62 columns</p>\n",
       "</div>"
      ],
      "text/plain": [
       "   Unnamed: 0                               MatchId  \\\n",
       "0           0  c86a93e7-4842-4443-9b90-875b20e3846e   \n",
       "1           1  79379ee7-036c-4c4a-9945-ef6eec06fed8   \n",
       "2           2  f16ebbe7-3ddd-4ff8-92de-52904c282d26   \n",
       "\n",
       "                      GameBaseVariantId MapVariantId          PlaylistId  \\\n",
       "0  257a305e-4dd3-41f1-9824-dfe7e8bd59e1       Russet  Super Fiesta Party   \n",
       "1  a2949322-dc84-45ab-8454-cf94fb28c189      Hallows  Super Fiesta Party   \n",
       "2  a2949322-dc84-45ab-8454-cf94fb28c189       Stasis  Super Fiesta Party   \n",
       "\n",
       "  PlayerWin               P1  P1_SpartanRank  P1_PrevTotalXP              P2  \\\n",
       "0    Player        Drymander             148        14888512  Lightblack1100   \n",
       "1     Enemy  MrPicardBottoms             145         8542389       Drymander   \n",
       "2     Enemy      N8 Santiago             151        45675262   BarneySanders   \n",
       "\n",
       "   ...  E2_Accuracy  E2_WinRate E3_TotalTimePlayed    E3_K/D  E3_Accuracy  \\\n",
       "0  ...     0.378842    0.756111         479.605452  1.091919     0.305437   \n",
       "1  ...     0.391760    1.109615         388.329832  0.819723     0.322088   \n",
       "2  ...     0.322811    0.744401         479.605452  1.091919     0.305437   \n",
       "\n",
       "  E3_WinRate  E4_TotalTimePlayed    E4_K/D E4_Accuracy  E4_WinRate  \n",
       "0   0.916330          101.949003  0.934634    0.346448    1.013730  \n",
       "1   0.867347           67.199272  0.939086    0.364014    0.799410  \n",
       "2   0.916330          695.025787  1.060988    0.359755    0.873743  \n",
       "\n",
       "[3 rows x 62 columns]"
      ]
     },
     "execution_count": 39,
     "metadata": {},
     "output_type": "execute_result"
    }
   ],
   "source": [
    "run = False\n",
    "\n",
    "if run == True:\n",
    "\n",
    "    df = df2.copy()\n",
    "\n",
    "    row_count = 0\n",
    "\n",
    "    for index, row in tqdm(df.iterrows()):\n",
    "\n",
    "        # Set Variant ID\n",
    "        variant_id = df['GameBaseVariantId'].values[0]\n",
    "\n",
    "        # Define player / enemy variables\n",
    "        P1 = (df['P1'].values[row_count], 'P1')\n",
    "        P2 = (df['P2'].values[row_count], 'P2')\n",
    "        P3 = (df['P3'].values[row_count], 'P3')\n",
    "        P4 = (df['P4'].values[row_count], 'P4')\n",
    "        E1 = (df['E1'].values[row_count], 'E1')\n",
    "        E2 = (df['E2'].values[row_count], 'E2')\n",
    "        E3 = (df['E3'].values[row_count], 'E3')\n",
    "        E4 = (df['E4'].values[row_count], 'E4')\n",
    "        roster = [P1, P2, P3, P4, E1, E2, E3, E4]\n",
    "\n",
    "        # For loop to loop through player / enemy variables in dataframe    \n",
    "        for p in roster:        \n",
    "            i = 0   \n",
    "\n",
    "            # Loop through large all_players dictionary and find player / enemy gamertag\n",
    "            for player in all_players:\n",
    "                if all_players[i]['Id'] == p[0]:\n",
    "    #                 print('found')\n",
    "\n",
    "                    # Once gamertag found, locate game variant as specified by dataframe row\n",
    "                    for variant in player['Result']['ArenaStats']['ArenaGameBaseVariantStats']:\n",
    "                        if variant['GameBaseVariantId'] == variant_id:\n",
    "                            # Create new row if does not already exist AND\n",
    "                            # Create new column for TotalTimePlayed using P1, P2, E1, etc.\n",
    "                            if p[1] + '_TotalTimePlayed' not in df:\n",
    "                                df[p[1] + '_TotalTimePlayed'] = pd.Series()\n",
    "                            try:\n",
    "                                df[p[1] + '_TotalTimePlayed'].iloc[row_count] = isodate.parse_duration(variant['TotalTimePlayed']).total_seconds() / 3600\n",
    "                            except:\n",
    "                                df[p[1] + '_TotalTimePlayed'].iloc[row_count] = None\n",
    "\n",
    "                            if p[1] + '_K/D' not in df:\n",
    "                                df[p[1] + '_K/D'] = pd.Series()\n",
    "                            try:\n",
    "                                df[p[1] + '_K/D'].iloc[row_count] = variant['TotalKills'] / variant['TotalDeaths']\n",
    "                            except:\n",
    "                                df[p[1] + '_K/D'].iloc[row_count] = None\n",
    "\n",
    "                            if p[1] + '_Accuracy' not in df:\n",
    "                                df[p[1] + '_Accuracy'] = pd.Series()     \n",
    "                            try:\n",
    "                                df[p[1] + '_Accuracy'].iloc[row_count] = variant['TotalShotsLanded'] / variant['TotalShotsFired']\n",
    "                            except:\n",
    "                                df[p[1] + '_Accuracy'].iloc[row_count] = None\n",
    "\n",
    "                            if p[1] + '_WinRate' not in df:\n",
    "                                df[p[1] + '_WinRate'] = pd.Series()\n",
    "                            try: \n",
    "                                df[p[1] + '_WinRate'].iloc[row_count] = variant['TotalGamesWon'] / variant['TotalGamesLost']\n",
    "                            except:\n",
    "                                df[p[1] + '_WinRate'].iloc[row_count] = None\n",
    "\n",
    "                    i += 1\n",
    "        #                 else: \n",
    "        #                     continue\n",
    "                else:\n",
    "                    i += 1\n",
    "                    continue\n",
    "\n",
    "        row_count += 1\n",
    "\n",
    "    ##     Convert df['PlayerWin'] to .int\n",
    "    #     df = df[df['PlayerWin'] != 'Tie']\n",
    "    #     df.loc[(df['PlayerWin'] == 'Player'),'PlayerWin'] = 1\n",
    "    #     df.loc[(df['PlayerWin'] == 'Enemy'),'PlayerWin'] = 0\n",
    "    #     df['PlayerWin'] = df['PlayerWin'].astype('int')\n",
    "\n",
    "        df.to_csv('model_df_w_all_featurse.csv')\n",
    "\n",
    "else:\n",
    "    df = pd.read_csv('model_df_w_all_featurse.csv')\n",
    "\n",
    "df.head(3)"
   ]
  },
  {
   "cell_type": "markdown",
   "metadata": {},
   "source": [
    "# Load Model DF from csv"
   ]
  },
  {
   "cell_type": "code",
   "execution_count": 41,
   "metadata": {
    "ExecuteTime": {
     "end_time": "2021-07-15T22:01:42.465993Z",
     "start_time": "2021-07-15T22:01:42.419984Z"
    }
   },
   "outputs": [
    {
     "data": {
      "text/html": [
       "<div>\n",
       "<style scoped>\n",
       "    .dataframe tbody tr th:only-of-type {\n",
       "        vertical-align: middle;\n",
       "    }\n",
       "\n",
       "    .dataframe tbody tr th {\n",
       "        vertical-align: top;\n",
       "    }\n",
       "\n",
       "    .dataframe thead th {\n",
       "        text-align: right;\n",
       "    }\n",
       "</style>\n",
       "<table border=\"1\" class=\"dataframe\">\n",
       "  <thead>\n",
       "    <tr style=\"text-align: right;\">\n",
       "      <th></th>\n",
       "      <th>MatchId</th>\n",
       "      <th>GameBaseVariantId</th>\n",
       "      <th>MapVariantId</th>\n",
       "      <th>PlaylistId</th>\n",
       "      <th>PlayerWin</th>\n",
       "      <th>P1</th>\n",
       "      <th>P1_SpartanRank</th>\n",
       "      <th>P1_PrevTotalXP</th>\n",
       "      <th>P2</th>\n",
       "      <th>P2_SpartanRank</th>\n",
       "      <th>...</th>\n",
       "      <th>E2_Accuracy</th>\n",
       "      <th>E2_WinRate</th>\n",
       "      <th>E3_TotalTimePlayed</th>\n",
       "      <th>E3_K/D</th>\n",
       "      <th>E3_Accuracy</th>\n",
       "      <th>E3_WinRate</th>\n",
       "      <th>E4_TotalTimePlayed</th>\n",
       "      <th>E4_K/D</th>\n",
       "      <th>E4_Accuracy</th>\n",
       "      <th>E4_WinRate</th>\n",
       "    </tr>\n",
       "  </thead>\n",
       "  <tbody>\n",
       "    <tr>\n",
       "      <th>0</th>\n",
       "      <td>c86a93e7-4842-4443-9b90-875b20e3846e</td>\n",
       "      <td>Slayer</td>\n",
       "      <td>Russet</td>\n",
       "      <td>Super Fiesta Party</td>\n",
       "      <td>1</td>\n",
       "      <td>Drymander</td>\n",
       "      <td>148</td>\n",
       "      <td>14888512</td>\n",
       "      <td>Lightblack1100</td>\n",
       "      <td>70</td>\n",
       "      <td>...</td>\n",
       "      <td>0.378842</td>\n",
       "      <td>0.756111</td>\n",
       "      <td>479.605452</td>\n",
       "      <td>1.091919</td>\n",
       "      <td>0.305437</td>\n",
       "      <td>0.916330</td>\n",
       "      <td>101.949003</td>\n",
       "      <td>0.934634</td>\n",
       "      <td>0.346448</td>\n",
       "      <td>1.013730</td>\n",
       "    </tr>\n",
       "    <tr>\n",
       "      <th>1</th>\n",
       "      <td>79379ee7-036c-4c4a-9945-ef6eec06fed8</td>\n",
       "      <td>Capture the Flag</td>\n",
       "      <td>Hallows</td>\n",
       "      <td>Super Fiesta Party</td>\n",
       "      <td>0</td>\n",
       "      <td>MrPicardBottoms</td>\n",
       "      <td>145</td>\n",
       "      <td>8542389</td>\n",
       "      <td>Drymander</td>\n",
       "      <td>148</td>\n",
       "      <td>...</td>\n",
       "      <td>0.391760</td>\n",
       "      <td>1.109615</td>\n",
       "      <td>388.329832</td>\n",
       "      <td>0.819723</td>\n",
       "      <td>0.322088</td>\n",
       "      <td>0.867347</td>\n",
       "      <td>67.199272</td>\n",
       "      <td>0.939086</td>\n",
       "      <td>0.364014</td>\n",
       "      <td>0.799410</td>\n",
       "    </tr>\n",
       "    <tr>\n",
       "      <th>2</th>\n",
       "      <td>f16ebbe7-3ddd-4ff8-92de-52904c282d26</td>\n",
       "      <td>Capture the Flag</td>\n",
       "      <td>Stasis</td>\n",
       "      <td>Super Fiesta Party</td>\n",
       "      <td>0</td>\n",
       "      <td>N8 Santiago</td>\n",
       "      <td>151</td>\n",
       "      <td>45675262</td>\n",
       "      <td>BarneySanders</td>\n",
       "      <td>150</td>\n",
       "      <td>...</td>\n",
       "      <td>0.322811</td>\n",
       "      <td>0.744401</td>\n",
       "      <td>479.605452</td>\n",
       "      <td>1.091919</td>\n",
       "      <td>0.305437</td>\n",
       "      <td>0.916330</td>\n",
       "      <td>695.025787</td>\n",
       "      <td>1.060988</td>\n",
       "      <td>0.359755</td>\n",
       "      <td>0.873743</td>\n",
       "    </tr>\n",
       "    <tr>\n",
       "      <th>3</th>\n",
       "      <td>71256ff9-bacd-4e89-90f5-27a797b0353d</td>\n",
       "      <td>Capture the Flag</td>\n",
       "      <td>Traverse</td>\n",
       "      <td>Super Fiesta Party</td>\n",
       "      <td>1</td>\n",
       "      <td>Drymander</td>\n",
       "      <td>148</td>\n",
       "      <td>14879925</td>\n",
       "      <td>Siezelhecarp</td>\n",
       "      <td>149</td>\n",
       "      <td>...</td>\n",
       "      <td>0.391760</td>\n",
       "      <td>1.109615</td>\n",
       "      <td>479.605452</td>\n",
       "      <td>1.091919</td>\n",
       "      <td>0.305437</td>\n",
       "      <td>0.916330</td>\n",
       "      <td>150.780064</td>\n",
       "      <td>0.974846</td>\n",
       "      <td>0.322811</td>\n",
       "      <td>0.744401</td>\n",
       "    </tr>\n",
       "    <tr>\n",
       "      <th>4</th>\n",
       "      <td>a3726a6f-d404-450a-b4ee-b396a5bf518f</td>\n",
       "      <td>Capture the Flag</td>\n",
       "      <td>Putput</td>\n",
       "      <td>Super Fiesta Party</td>\n",
       "      <td>1</td>\n",
       "      <td>Drymander</td>\n",
       "      <td>148</td>\n",
       "      <td>14877173</td>\n",
       "      <td>WoIfenstein</td>\n",
       "      <td>152</td>\n",
       "      <td>...</td>\n",
       "      <td>0.356516</td>\n",
       "      <td>2.213391</td>\n",
       "      <td>1152.719231</td>\n",
       "      <td>2.105011</td>\n",
       "      <td>0.332886</td>\n",
       "      <td>2.589878</td>\n",
       "      <td>289.786145</td>\n",
       "      <td>1.375716</td>\n",
       "      <td>0.365860</td>\n",
       "      <td>1.527105</td>\n",
       "    </tr>\n",
       "    <tr>\n",
       "      <th>5</th>\n",
       "      <td>9ae95690-bb2a-4521-bdeb-cac76d32a138</td>\n",
       "      <td>Capture the Flag</td>\n",
       "      <td>Coliseum</td>\n",
       "      <td>Super Fiesta Party</td>\n",
       "      <td>1</td>\n",
       "      <td>FierceCon</td>\n",
       "      <td>151</td>\n",
       "      <td>41347936</td>\n",
       "      <td>Drymander</td>\n",
       "      <td>148</td>\n",
       "      <td>...</td>\n",
       "      <td>0.385199</td>\n",
       "      <td>1.069307</td>\n",
       "      <td>182.766360</td>\n",
       "      <td>1.055044</td>\n",
       "      <td>0.375112</td>\n",
       "      <td>0.828829</td>\n",
       "      <td>365.667727</td>\n",
       "      <td>0.959303</td>\n",
       "      <td>0.316319</td>\n",
       "      <td>0.816789</td>\n",
       "    </tr>\n",
       "    <tr>\n",
       "      <th>6</th>\n",
       "      <td>0e78a319-27b1-4c24-a6b6-462c362a77f2</td>\n",
       "      <td>Slayer</td>\n",
       "      <td>Hourglass</td>\n",
       "      <td>Super Fiesta Party</td>\n",
       "      <td>1</td>\n",
       "      <td>Bizarro B0B</td>\n",
       "      <td>84</td>\n",
       "      <td>2369979</td>\n",
       "      <td>CradleOF69EYES</td>\n",
       "      <td>149</td>\n",
       "      <td>...</td>\n",
       "      <td>0.264600</td>\n",
       "      <td>0.866812</td>\n",
       "      <td>1498.778256</td>\n",
       "      <td>1.214542</td>\n",
       "      <td>0.398085</td>\n",
       "      <td>1.074424</td>\n",
       "      <td>64.399771</td>\n",
       "      <td>1.017341</td>\n",
       "      <td>0.368756</td>\n",
       "      <td>0.876866</td>\n",
       "    </tr>\n",
       "    <tr>\n",
       "      <th>7</th>\n",
       "      <td>95f40a31-298b-42fd-82a0-41271963ce22</td>\n",
       "      <td>Slayer</td>\n",
       "      <td>Furnace</td>\n",
       "      <td>Super Fiesta Party</td>\n",
       "      <td>0</td>\n",
       "      <td>Drymander</td>\n",
       "      <td>148</td>\n",
       "      <td>14870882</td>\n",
       "      <td>MJacksonsCloset</td>\n",
       "      <td>150</td>\n",
       "      <td>...</td>\n",
       "      <td>0.386496</td>\n",
       "      <td>1.360115</td>\n",
       "      <td>119.493063</td>\n",
       "      <td>1.043017</td>\n",
       "      <td>0.264600</td>\n",
       "      <td>0.866812</td>\n",
       "      <td>164.828871</td>\n",
       "      <td>1.267798</td>\n",
       "      <td>0.343339</td>\n",
       "      <td>0.955923</td>\n",
       "    </tr>\n",
       "    <tr>\n",
       "      <th>8</th>\n",
       "      <td>e031e7ae-bc16-4d01-85af-8f3b259b6609</td>\n",
       "      <td>Capture the Flag</td>\n",
       "      <td>Solstace Vista</td>\n",
       "      <td>Super Fiesta Party</td>\n",
       "      <td>0</td>\n",
       "      <td>Drymander</td>\n",
       "      <td>148</td>\n",
       "      <td>14868042</td>\n",
       "      <td>CradleOF69EYES</td>\n",
       "      <td>149</td>\n",
       "      <td>...</td>\n",
       "      <td>0.530470</td>\n",
       "      <td>1.925226</td>\n",
       "      <td>272.083914</td>\n",
       "      <td>0.903789</td>\n",
       "      <td>0.339163</td>\n",
       "      <td>1.042785</td>\n",
       "      <td>77.934466</td>\n",
       "      <td>0.969494</td>\n",
       "      <td>0.417755</td>\n",
       "      <td>0.875371</td>\n",
       "    </tr>\n",
       "    <tr>\n",
       "      <th>9</th>\n",
       "      <td>6b286743-9a65-4f7e-9482-dcc542cfc359</td>\n",
       "      <td>Strongholds</td>\n",
       "      <td>The Rig</td>\n",
       "      <td>Super Fiesta Party</td>\n",
       "      <td>0</td>\n",
       "      <td>Drymander</td>\n",
       "      <td>148</td>\n",
       "      <td>14864780</td>\n",
       "      <td>tonatihu98x09</td>\n",
       "      <td>149</td>\n",
       "      <td>...</td>\n",
       "      <td>0.384292</td>\n",
       "      <td>1.389918</td>\n",
       "      <td>135.846964</td>\n",
       "      <td>1.042038</td>\n",
       "      <td>0.338631</td>\n",
       "      <td>1.498938</td>\n",
       "      <td>756.280103</td>\n",
       "      <td>1.007574</td>\n",
       "      <td>0.281259</td>\n",
       "      <td>0.909002</td>\n",
       "    </tr>\n",
       "  </tbody>\n",
       "</table>\n",
       "<p>10 rows × 61 columns</p>\n",
       "</div>"
      ],
      "text/plain": [
       "                                MatchId GameBaseVariantId    MapVariantId  \\\n",
       "0  c86a93e7-4842-4443-9b90-875b20e3846e            Slayer          Russet   \n",
       "1  79379ee7-036c-4c4a-9945-ef6eec06fed8  Capture the Flag         Hallows   \n",
       "2  f16ebbe7-3ddd-4ff8-92de-52904c282d26  Capture the Flag          Stasis   \n",
       "3  71256ff9-bacd-4e89-90f5-27a797b0353d  Capture the Flag        Traverse   \n",
       "4  a3726a6f-d404-450a-b4ee-b396a5bf518f  Capture the Flag          Putput   \n",
       "5  9ae95690-bb2a-4521-bdeb-cac76d32a138  Capture the Flag        Coliseum   \n",
       "6  0e78a319-27b1-4c24-a6b6-462c362a77f2            Slayer       Hourglass   \n",
       "7  95f40a31-298b-42fd-82a0-41271963ce22            Slayer         Furnace   \n",
       "8  e031e7ae-bc16-4d01-85af-8f3b259b6609  Capture the Flag  Solstace Vista   \n",
       "9  6b286743-9a65-4f7e-9482-dcc542cfc359       Strongholds         The Rig   \n",
       "\n",
       "           PlaylistId  PlayerWin               P1  P1_SpartanRank  \\\n",
       "0  Super Fiesta Party          1        Drymander             148   \n",
       "1  Super Fiesta Party          0  MrPicardBottoms             145   \n",
       "2  Super Fiesta Party          0      N8 Santiago             151   \n",
       "3  Super Fiesta Party          1        Drymander             148   \n",
       "4  Super Fiesta Party          1        Drymander             148   \n",
       "5  Super Fiesta Party          1        FierceCon             151   \n",
       "6  Super Fiesta Party          1      Bizarro B0B              84   \n",
       "7  Super Fiesta Party          0        Drymander             148   \n",
       "8  Super Fiesta Party          0        Drymander             148   \n",
       "9  Super Fiesta Party          0        Drymander             148   \n",
       "\n",
       "   P1_PrevTotalXP               P2  P2_SpartanRank  ...  E2_Accuracy  \\\n",
       "0        14888512   Lightblack1100              70  ...     0.378842   \n",
       "1         8542389        Drymander             148  ...     0.391760   \n",
       "2        45675262    BarneySanders             150  ...     0.322811   \n",
       "3        14879925     Siezelhecarp             149  ...     0.391760   \n",
       "4        14877173      WoIfenstein             152  ...     0.356516   \n",
       "5        41347936        Drymander             148  ...     0.385199   \n",
       "6         2369979   CradleOF69EYES             149  ...     0.264600   \n",
       "7        14870882  MJacksonsCloset             150  ...     0.386496   \n",
       "8        14868042   CradleOF69EYES             149  ...     0.530470   \n",
       "9        14864780    tonatihu98x09             149  ...     0.384292   \n",
       "\n",
       "  E2_WinRate  E3_TotalTimePlayed    E3_K/D E3_Accuracy  E3_WinRate  \\\n",
       "0   0.756111          479.605452  1.091919    0.305437    0.916330   \n",
       "1   1.109615          388.329832  0.819723    0.322088    0.867347   \n",
       "2   0.744401          479.605452  1.091919    0.305437    0.916330   \n",
       "3   1.109615          479.605452  1.091919    0.305437    0.916330   \n",
       "4   2.213391         1152.719231  2.105011    0.332886    2.589878   \n",
       "5   1.069307          182.766360  1.055044    0.375112    0.828829   \n",
       "6   0.866812         1498.778256  1.214542    0.398085    1.074424   \n",
       "7   1.360115          119.493063  1.043017    0.264600    0.866812   \n",
       "8   1.925226          272.083914  0.903789    0.339163    1.042785   \n",
       "9   1.389918          135.846964  1.042038    0.338631    1.498938   \n",
       "\n",
       "   E4_TotalTimePlayed    E4_K/D  E4_Accuracy  E4_WinRate  \n",
       "0          101.949003  0.934634     0.346448    1.013730  \n",
       "1           67.199272  0.939086     0.364014    0.799410  \n",
       "2          695.025787  1.060988     0.359755    0.873743  \n",
       "3          150.780064  0.974846     0.322811    0.744401  \n",
       "4          289.786145  1.375716     0.365860    1.527105  \n",
       "5          365.667727  0.959303     0.316319    0.816789  \n",
       "6           64.399771  1.017341     0.368756    0.876866  \n",
       "7          164.828871  1.267798     0.343339    0.955923  \n",
       "8           77.934466  0.969494     0.417755    0.875371  \n",
       "9          756.280103  1.007574     0.281259    0.909002  \n",
       "\n",
       "[10 rows x 61 columns]"
      ]
     },
     "execution_count": 41,
     "metadata": {},
     "output_type": "execute_result"
    }
   ],
   "source": [
    "df['GameBaseVariantId'] = decode_column(df, 'GameBaseVariantId', GameBaseVariantId_dic)\n",
    "df = df.drop(['Unnamed: 0'], axis=1)\n",
    "df = df[df['PlayerWin'] != 'Tie']\n",
    "df.loc[(df['PlayerWin'] == 'Player'),'PlayerWin'] = 1\n",
    "df.loc[(df['PlayerWin'] == 'Enemy'),'PlayerWin'] = 0\n",
    "df['PlayerWin'] = df['PlayerWin'].astype('int')\n",
    "\n",
    "df.head(10)"
   ]
  },
  {
   "cell_type": "markdown",
   "metadata": {},
   "source": [
    "# Choose GameBaseVariantId to model"
   ]
  },
  {
   "cell_type": "code",
   "execution_count": 50,
   "metadata": {
    "ExecuteTime": {
     "end_time": "2021-07-15T22:09:10.185141Z",
     "start_time": "2021-07-15T22:09:10.162136Z"
    }
   },
   "outputs": [
    {
     "data": {
      "text/html": [
       "<div>\n",
       "<style scoped>\n",
       "    .dataframe tbody tr th:only-of-type {\n",
       "        vertical-align: middle;\n",
       "    }\n",
       "\n",
       "    .dataframe tbody tr th {\n",
       "        vertical-align: top;\n",
       "    }\n",
       "\n",
       "    .dataframe thead th {\n",
       "        text-align: right;\n",
       "    }\n",
       "</style>\n",
       "<table border=\"1\" class=\"dataframe\">\n",
       "  <thead>\n",
       "    <tr style=\"text-align: right;\">\n",
       "      <th></th>\n",
       "      <th>MatchId</th>\n",
       "      <th>GameBaseVariantId</th>\n",
       "      <th>MapVariantId</th>\n",
       "      <th>PlaylistId</th>\n",
       "      <th>PlayerWin</th>\n",
       "      <th>P1</th>\n",
       "      <th>P1_SpartanRank</th>\n",
       "      <th>P1_PrevTotalXP</th>\n",
       "      <th>P2</th>\n",
       "      <th>P2_SpartanRank</th>\n",
       "      <th>...</th>\n",
       "      <th>E2_Accuracy</th>\n",
       "      <th>E2_WinRate</th>\n",
       "      <th>E3_TotalTimePlayed</th>\n",
       "      <th>E3_K/D</th>\n",
       "      <th>E3_Accuracy</th>\n",
       "      <th>E3_WinRate</th>\n",
       "      <th>E4_TotalTimePlayed</th>\n",
       "      <th>E4_K/D</th>\n",
       "      <th>E4_Accuracy</th>\n",
       "      <th>E4_WinRate</th>\n",
       "    </tr>\n",
       "  </thead>\n",
       "  <tbody>\n",
       "    <tr>\n",
       "      <th>0</th>\n",
       "      <td>c86a93e7-4842-4443-9b90-875b20e3846e</td>\n",
       "      <td>Slayer</td>\n",
       "      <td>Russet</td>\n",
       "      <td>Super Fiesta Party</td>\n",
       "      <td>1</td>\n",
       "      <td>Drymander</td>\n",
       "      <td>148</td>\n",
       "      <td>14888512</td>\n",
       "      <td>Lightblack1100</td>\n",
       "      <td>70</td>\n",
       "      <td>...</td>\n",
       "      <td>0.378842</td>\n",
       "      <td>0.756111</td>\n",
       "      <td>479.605452</td>\n",
       "      <td>1.091919</td>\n",
       "      <td>0.305437</td>\n",
       "      <td>0.91633</td>\n",
       "      <td>101.949003</td>\n",
       "      <td>0.934634</td>\n",
       "      <td>0.346448</td>\n",
       "      <td>1.01373</td>\n",
       "    </tr>\n",
       "  </tbody>\n",
       "</table>\n",
       "<p>1 rows × 61 columns</p>\n",
       "</div>"
      ],
      "text/plain": [
       "                                MatchId GameBaseVariantId MapVariantId  \\\n",
       "0  c86a93e7-4842-4443-9b90-875b20e3846e            Slayer       Russet   \n",
       "\n",
       "           PlaylistId  PlayerWin         P1  P1_SpartanRank  P1_PrevTotalXP  \\\n",
       "0  Super Fiesta Party          1  Drymander             148        14888512   \n",
       "\n",
       "               P2  P2_SpartanRank  ...  E2_Accuracy E2_WinRate  \\\n",
       "0  Lightblack1100              70  ...     0.378842   0.756111   \n",
       "\n",
       "   E3_TotalTimePlayed    E3_K/D E3_Accuracy  E3_WinRate  E4_TotalTimePlayed  \\\n",
       "0          479.605452  1.091919    0.305437     0.91633          101.949003   \n",
       "\n",
       "     E4_K/D  E4_Accuracy  E4_WinRate  \n",
       "0  0.934634     0.346448     1.01373  \n",
       "\n",
       "[1 rows x 61 columns]"
      ]
     },
     "execution_count": 50,
     "metadata": {},
     "output_type": "execute_result"
    }
   ],
   "source": [
    "def choose_gametype(df, GameBaseVariantId, PlaylistId):\n",
    "    if GameBaseVariantId == None and PlaylistId == None:\n",
    "        gametype_df = df\n",
    "    elif GameBaseVariantId == None:\n",
    "        gametype_df = df[df['PlaylistId'] == PlaylistId]\n",
    "    elif PlaylistId == None:\n",
    "        gametype_df = df[df['GameBaseVariantId'] == GameBaseVariantId]\n",
    "    else:\n",
    "        gametype_df = df[(df['GameBaseVariantId'] == GameBaseVariantId) & (df['PlaylistId'] == PlaylistId)]\n",
    "    \n",
    "    return gametype_df\n",
    "\n",
    "hr_df_test = choose_gametype(df, None, 'Super Fiesta Party')\n",
    "hr_df_test.head(1)"
   ]
  },
  {
   "cell_type": "markdown",
   "metadata": {},
   "source": [
    "# Make Model Dataframe Function"
   ]
  },
  {
   "cell_type": "code",
   "execution_count": 98,
   "metadata": {
    "ExecuteTime": {
     "end_time": "2021-07-15T22:47:26.470327Z",
     "start_time": "2021-07-15T22:47:22.431419Z"
    }
   },
   "outputs": [
    {
     "name": "stderr",
     "output_type": "stream",
     "text": [
      "4017it [00:04, 998.04it/s] \n"
     ]
    }
   ],
   "source": [
    "feature_list = ['TotalTimePlayed', 'PrevTotalXP']\n",
    "\n",
    "def make_model_df(df, feature_list, GameBaseVariantId, PlaylistId):\n",
    "    \n",
    "    df = choose_gametype(df, GameBaseVariantId, PlaylistId) \n",
    "    model_df = pd.DataFrame()\n",
    "    model_df['PlayerWin'] = df['PlayerWin']\n",
    "    # Creating columns\n",
    "    for feature in feature_list:\n",
    "        feature_columns = [\n",
    "            f'P1_{feature}', f'P2_{feature}',\n",
    "            f'P3_{feature}', f'P4_{feature}', f'E1_{feature}',\n",
    "            f'E2_{feature}', f'E3_{feature}', f'E4_{feature}',\n",
    "            ]\n",
    "\n",
    "        feature_df = df[feature_columns].copy()\n",
    "\n",
    "        # Sort Players in dataframe by highest value\n",
    "        i = 0\n",
    "        for row in tqdm(feature_df.iterrows()):\n",
    "                # Sort player / enemy from highest to lowest in row\n",
    "            feature_df.iloc[i, 0:4] = feature_df.iloc[i, 0:4].sort_values(ascending=False).values\n",
    "            feature_df.iloc[i, 4:8] = feature_df.iloc[i, 4:8].sort_values(ascending=False).values\n",
    "            i += 1\n",
    "            \n",
    "        model_df = model_df.join(feature_df, on=model_df.index)\n",
    "        \n",
    "    model_df = model_df.dropna()\n",
    "    return model_df\n",
    "            \n",
    "# model_df = make_model_df(hr_df, ['TotalTimePlayed'])\n",
    "# hr_model_df = make_model_df(hr_df, ['TotalTimePlayed'])\n",
    "model_df = make_model_df(df, ['TotalTimePlayed'], None, None)"
   ]
  },
  {
   "cell_type": "code",
   "execution_count": 52,
   "metadata": {
    "ExecuteTime": {
     "end_time": "2021-07-15T22:13:48.910857Z",
     "start_time": "2021-07-15T22:13:25.712601Z"
    }
   },
   "outputs": [
    {
     "name": "stderr",
     "output_type": "stream",
     "text": [
      "3765it [00:04, 932.41it/s]\n",
      "3765it [00:04, 933.80it/s]\n",
      "3765it [00:03, 999.77it/s] \n",
      "3765it [00:03, 997.65it/s] \n",
      "3765it [00:03, 996.86it/s] \n",
      "3765it [00:03, 997.39it/s] \n"
     ]
    }
   ],
   "source": [
    "super_fiesta_df = make_model_df(df, ['SpartanRank', 'PrevTotalXP','TotalTimePlayed', \n",
    "                              'K/D', 'Accuracy', 'WinRate'], \n",
    "                         None, 'Super Fiesta Party')"
   ]
  },
  {
   "cell_type": "code",
   "execution_count": null,
   "metadata": {
    "ExecuteTime": {
     "end_time": "2021-07-11T16:58:29.441456Z",
     "start_time": "2021-07-11T16:58:12.776732Z"
    }
   },
   "outputs": [],
   "source": [
    "        \n",
    "# time_df = make_model_df(df, ['TotalTimePlayed'])\n",
    "# xp_df = make_model_df(df, ['PrevTotalXP'])\n",
    "# merged_df = make_model_df(df, ['TotalTimePlayed', 'PrevTotalXP'])"
   ]
  },
  {
   "cell_type": "code",
   "execution_count": null,
   "metadata": {
    "ExecuteTime": {
     "end_time": "2021-07-11T16:58:32.136358Z",
     "start_time": "2021-07-11T16:58:32.123362Z"
    }
   },
   "outputs": [],
   "source": [
    "merged_df.head(3)"
   ]
  },
  {
   "cell_type": "markdown",
   "metadata": {},
   "source": [
    "# Model with All Features"
   ]
  },
  {
   "cell_type": "code",
   "execution_count": 99,
   "metadata": {
    "ExecuteTime": {
     "end_time": "2021-07-15T22:48:37.346525Z",
     "start_time": "2021-07-15T22:48:12.485893Z"
    }
   },
   "outputs": [
    {
     "name": "stderr",
     "output_type": "stream",
     "text": [
      "4017it [00:04, 928.15it/s]\n",
      "4017it [00:04, 923.45it/s]\n",
      "4017it [00:04, 994.33it/s]\n",
      "4017it [00:04, 997.29it/s] \n",
      "4017it [00:04, 994.57it/s]\n",
      "4017it [00:04, 993.59it/s]\n"
     ]
    }
   ],
   "source": [
    "model_df = make_model_df(df, ['SpartanRank', 'PrevTotalXP','TotalTimePlayed', \n",
    "                              'K/D', 'Accuracy', 'WinRate'], \n",
    "                         None, None)"
   ]
  },
  {
   "cell_type": "code",
   "execution_count": 138,
   "metadata": {
    "ExecuteTime": {
     "end_time": "2021-07-15T23:15:01.651968Z",
     "start_time": "2021-07-15T23:15:01.643966Z"
    }
   },
   "outputs": [
    {
     "name": "stdout",
     "output_type": "stream",
     "text": [
      "(2770, 48)\n",
      "(1188, 48)\n"
     ]
    }
   ],
   "source": [
    "# Assigning X and y for train test split\n",
    "\n",
    "features = model_df.drop(['PlayerWin'], axis=1)\n",
    "target = model_df['PlayerWin']\n",
    "\n",
    "\n",
    "X = features\n",
    "y = target\n",
    "\n",
    "y=y.astype('int')\n",
    "\n",
    "X_train, X_test, y_train, y_test = train_test_split(X, y, test_size=0.3, \n",
    "                                                    random_state=8)\n",
    "\n",
    "print(X_train.shape)\n",
    "print(X_test.shape)"
   ]
  },
  {
   "cell_type": "code",
   "execution_count": 139,
   "metadata": {
    "ExecuteTime": {
     "end_time": "2021-07-15T23:15:02.436207Z",
     "start_time": "2021-07-15T23:15:02.412209Z"
    }
   },
   "outputs": [
    {
     "data": {
      "text/plain": [
       "LogisticRegression(random_state=8)"
      ]
     },
     "execution_count": 139,
     "metadata": {},
     "output_type": "execute_result"
    }
   ],
   "source": [
    "model_log = LogisticRegression(random_state=8)\n",
    "model_log.fit(X_train, y_train)"
   ]
  },
  {
   "cell_type": "code",
   "execution_count": 140,
   "metadata": {
    "ExecuteTime": {
     "end_time": "2021-07-15T23:15:03.361435Z",
     "start_time": "2021-07-15T23:15:03.132383Z"
    }
   },
   "outputs": [
    {
     "name": "stdout",
     "output_type": "stream",
     "text": [
      "Logistic Regression Cross Validation Scores:\n",
      "[0.6534296  0.60288809 0.62454874 0.60649819 0.62815884 0.60288809\n",
      " 0.58122744 0.60649819 0.55595668 0.566787  ]\n",
      "\n",
      "Cross validation mean: \t60.29%\n"
     ]
    }
   ],
   "source": [
    "def cross_val_check(model_string_name, model, X_train, y_train, X_test, y_test):\n",
    "    scores = cross_val_score(model, X_train, y_train, cv=10) # model, train, target, cross validation\n",
    "    print(f'{model_string_name} Cross Validation Scores:')\n",
    "    print(scores)\n",
    "    print(f'\\nCross validation mean: \\t{scores.mean():.2%}')\n",
    "    \n",
    "cross_val_check('Logistic Regression', model_log, X_train, y_train, X_test, y_test)"
   ]
  },
  {
   "cell_type": "code",
   "execution_count": 142,
   "metadata": {
    "ExecuteTime": {
     "end_time": "2021-07-15T23:15:22.682100Z",
     "start_time": "2021-07-15T23:15:22.287010Z"
    }
   },
   "outputs": [
    {
     "name": "stdout",
     "output_type": "stream",
     "text": [
      "Training Accuracy: 60.76%\n",
      "Test Accuracy: 57.15%\n",
      "\n",
      "              precision    recall  f1-score   support\n",
      "\n",
      "           0       0.58      0.32      0.41       557\n",
      "           1       0.57      0.80      0.66       631\n",
      "\n",
      "    accuracy                           0.57      1188\n",
      "   macro avg       0.57      0.56      0.54      1188\n",
      "weighted avg       0.57      0.57      0.54      1188\n",
      "\n"
     ]
    },
    {
     "data": {
      "image/png": "[encoded data removed]",
      "text/plain": [
       "<Figure size 720x288 with 3 Axes>"
      ]
     },
     "metadata": {
      "needs_background": "light"
     },
     "output_type": "display_data"
    }
   ],
   "source": [
    "def evaluate_model(model, X_train, X_test, y_train, \n",
    "                   y_test, cmap='Greens', normalize=None,\n",
    "                   classes=None,figsize=(10,4), graphs=False):\n",
    "    \n",
    "    \"\"\"\n",
    "    model :: classifier user desires to evaluate\n",
    "    X_train :: X training data\n",
    "    X_test :: X test data\n",
    "    y_train :: y_train data\n",
    "    y_test :: y_train data\n",
    "    cmap :: color palette of confusion matrix\n",
    "    normalize :: set to True if normalized confusion matrix is desired\n",
    "    figsize :: desired plot size\n",
    "\n",
    "    \"\"\"\n",
    "    \n",
    "    # Print model accuracy\n",
    "    print(f'Training Accuracy: {model.score(X_train,y_train):.2%}')\n",
    "    print(f'Test Accuracy: {model.score(X_test,y_test):.2%}')\n",
    "    print('')\n",
    "    \n",
    "    if graphs == True:\n",
    "        # Print classification report\n",
    "        y_test_predict = model.predict(X_test)\n",
    "        print(metrics.classification_report(y_test, y_test_predict,\n",
    "                                            target_names=classes))\n",
    "\n",
    "        # Plot confusion matrix\n",
    "        fig,ax = plt.subplots(ncols=2,figsize=figsize)\n",
    "        metrics.plot_confusion_matrix(model, X_test,y_test,cmap=cmap, \n",
    "                                      normalize=normalize,display_labels=classes,\n",
    "                                      ax=ax[0])\n",
    "\n",
    "        #Plot ROC curves\n",
    "        with sns.axes_style(\"darkgrid\"):\n",
    "            curve = metrics.plot_roc_curve(model,X_train,y_train,ax=ax[1])\n",
    "            curve2 = metrics.plot_roc_curve(model,X_test,y_test,ax=ax[1])\n",
    "            curve.ax_.grid()\n",
    "            curve.ax_.plot([0,1],[0,1],ls=':')\n",
    "            fig.tight_layout()\n",
    "            plt.show()\n",
    "        \n",
    "evaluate_model(model_log, X_train, X_test, y_train, \n",
    "                   y_test, graphs=True)"
   ]
  },
  {
   "cell_type": "code",
   "execution_count": 146,
   "metadata": {
    "ExecuteTime": {
     "end_time": "2021-07-15T23:19:47.717472Z",
     "start_time": "2021-07-15T23:19:47.072334Z"
    }
   },
   "outputs": [
    {
     "name": "stdout",
     "output_type": "stream",
     "text": [
      "Total number of samples: 3958\n",
      "------------------------------------------\n",
      "Logistic Regression Cross Validation Scores:\n",
      "[0.6534296  0.60288809 0.62454874 0.60649819 0.62815884 0.60288809\n",
      " 0.58122744 0.60649819 0.55595668 0.566787  ]\n",
      "\n",
      "Cross validation mean: \t60.29%\n",
      "Training Accuracy: 60.76%\n",
      "Test Accuracy: 57.15%\n",
      "\n",
      "              precision    recall  f1-score   support\n",
      "\n",
      "           0       0.58      0.32      0.41       557\n",
      "           1       0.57      0.80      0.66       631\n",
      "\n",
      "    accuracy                           0.57      1188\n",
      "   macro avg       0.57      0.56      0.54      1188\n",
      "weighted avg       0.57      0.57      0.54      1188\n",
      "\n"
     ]
    },
    {
     "data": {
      "image/png": "[encoded data removed]",
      "text/plain": [
       "<Figure size 720x288 with 3 Axes>"
      ]
     },
     "metadata": {
      "needs_background": "light"
     },
     "output_type": "display_data"
    }
   ],
   "source": [
    "def make_model(df, scale=False, graphs=False, dummy=False, cmap='Greens',\n",
    "              slim=False):\n",
    "\n",
    "    # Assigning X and y for train test split\n",
    "\n",
    "    X = df.drop(['PlayerWin'], axis=1)\n",
    "    y = df['PlayerWin']\n",
    "\n",
    "    y=y.astype('int')\n",
    "\n",
    "    X_train, X_test, y_train, y_test = train_test_split(X, y, test_size=0.3, \n",
    "                                                        random_state=8)\n",
    "    \n",
    "    if scale==True:\n",
    "        numericals = X.select_dtypes(X.iloc[1].dtypes).columns\n",
    "        scaler = StandardScaler()\n",
    "        X_train = pd.DataFrame(scaler.fit_transform(X_train), columns=numericals)\n",
    "        X_test = pd.DataFrame(scaler.transform(X_test), columns=numericals)\n",
    "    \n",
    "    if dummy == True:\n",
    "        model_log = DummyClassifier(strategy='stratified')\n",
    "        print('Using Dummy Model')\n",
    "    else:\n",
    "        model_log = LogisticRegression(random_state=8)\n",
    "    \n",
    "    model_log.fit(X_train, y_train)\n",
    "    total_samples = X_train.shape[0] + X_test.shape[0]\n",
    "    print(f'Total number of samples: {total_samples}')\n",
    "    print('------------------------------------------')\n",
    "#     print(f'The X_train shape is: {X_train.shape}')\n",
    "#     print(f'The X_test shape is: {X_test.shape}')\n",
    "    if slim == False:\n",
    "        cross_val_check('Logistic Regression', model_log, X_train, y_train, X_test, y_test)\n",
    "    evaluate_model(model_log, X_train, X_test, y_train, y_test, graphs=graphs, cmap=cmap)\n",
    "    \n",
    "#     return X_train, X_test, y_train, y_test\n",
    "\n",
    "make_model(model_df, scale=False, graphs=True)"
   ]
  },
  {
   "cell_type": "markdown",
   "metadata": {},
   "source": [
    "Let's compare that to a dummy model to be sure the performance is coming from the model and not by chance."
   ]
  },
  {
   "cell_type": "code",
   "execution_count": 104,
   "metadata": {
    "ExecuteTime": {
     "end_time": "2021-07-15T22:48:48.124103Z",
     "start_time": "2021-07-15T22:48:47.721013Z"
    }
   },
   "outputs": [
    {
     "name": "stdout",
     "output_type": "stream",
     "text": [
      "Using Dummy Model\n",
      "-------------- Total number of samples: 3958 --------------\n",
      "The X_train shape is: (2770, 48)\n",
      "The X_test shape is: (1188, 48)\n",
      "\n",
      "Logistic Regression Cross Validation Scores:\n",
      "[0.54873646 0.4765343  0.53068592 0.49819495 0.4801444  0.48375451\n",
      " 0.51624549 0.46931408 0.51263538 0.4801444 ]\n",
      "\n",
      "Cross validation mean: \t49.96%\n",
      "Training Accuracy: 50.36%\n",
      "Test Accuracy: 49.75%\n",
      "\n",
      "              precision    recall  f1-score   support\n",
      "\n",
      "           0       0.46      0.43      0.45       557\n",
      "           1       0.52      0.55      0.54       631\n",
      "\n",
      "    accuracy                           0.50      1188\n",
      "   macro avg       0.49      0.49      0.49      1188\n",
      "weighted avg       0.49      0.50      0.50      1188\n",
      "\n"
     ]
    },
    {
     "data": {
      "image/png": "[encoded data removed]",
      "text/plain": [
       "<Figure size 720x288 with 3 Axes>"
      ]
     },
     "metadata": {
      "needs_background": "light"
     },
     "output_type": "display_data"
    }
   ],
   "source": [
    "make_model(model_df, scale=False, graphs=True, dummy=True, cmap='Reds')"
   ]
  },
  {
   "cell_type": "markdown",
   "metadata": {},
   "source": [
    "### Investigating Models with more recent samples"
   ]
  },
  {
   "cell_type": "code",
   "execution_count": 124,
   "metadata": {
    "ExecuteTime": {
     "end_time": "2021-07-15T23:07:47.344640Z",
     "start_time": "2021-07-15T23:07:47.206610Z"
    }
   },
   "outputs": [
    {
     "name": "stdout",
     "output_type": "stream",
     "text": [
      "-------------- Total number of samples: 3000 --------------\n",
      "\n",
      "Training Accuracy: 60.86%\n",
      "Test Accuracy: 61.78%\n",
      "\n",
      "-------------- Total number of samples: 2500 --------------\n",
      "\n",
      "Training Accuracy: 60.86%\n",
      "Test Accuracy: 60.40%\n",
      "\n",
      "-------------- Total number of samples: 2000 --------------\n",
      "\n",
      "Training Accuracy: 59.71%\n",
      "Test Accuracy: 64.00%\n",
      "\n",
      "-------------- Total number of samples: 1500 --------------\n",
      "\n",
      "Training Accuracy: 60.29%\n",
      "Test Accuracy: 66.22%\n",
      "\n",
      "-------------- Total number of samples: 1000 --------------\n",
      "\n",
      "Training Accuracy: 61.43%\n",
      "Test Accuracy: 62.33%\n",
      "\n",
      "-------------- Total number of samples: 750 --------------\n",
      "\n",
      "Training Accuracy: 62.48%\n",
      "Test Accuracy: 59.56%\n",
      "\n"
     ]
    }
   ],
   "source": [
    "def make_many_models(df, head_list, scale=False):\n",
    "    for number in head_list:\n",
    "        make_model(df.head(number), scale=scale, graphs=False, slim=True)\n",
    "\n",
    "make_many_models(model_df, [3000, 2500, 2000, 1500, 1000, 750])"
   ]
  },
  {
   "cell_type": "markdown",
   "metadata": {},
   "source": [
    "## Time, K/D, Accuracy, Win Rate"
   ]
  },
  {
   "cell_type": "code",
   "execution_count": 114,
   "metadata": {
    "ExecuteTime": {
     "end_time": "2021-07-15T23:00:15.841337Z",
     "start_time": "2021-07-15T22:59:59.598655Z"
    }
   },
   "outputs": [
    {
     "name": "stderr",
     "output_type": "stream",
     "text": [
      "4017it [00:04, 997.29it/s] \n",
      "4017it [00:04, 989.67it/s]\n",
      "4017it [00:04, 981.93it/s]\n",
      "4017it [00:04, 994.08it/s] \n"
     ]
    }
   ],
   "source": [
    "time_kd_acc_win_df = make_model_df(df, ['TotalTimePlayed', \n",
    "                              'K/D', 'Accuracy', 'WinRate'], \n",
    "                         None, None)\n",
    "\n",
    "make_model(model_df, scale=False, graphs=True)"
   ]
  },
  {
   "cell_type": "code",
   "execution_count": 148,
   "metadata": {
    "ExecuteTime": {
     "end_time": "2021-07-15T23:20:37.667681Z",
     "start_time": "2021-07-15T23:20:37.270590Z"
    }
   },
   "outputs": [
    {
     "name": "stdout",
     "output_type": "stream",
     "text": [
      "Total number of samples: 3958\n",
      "------------------------------------------\n",
      "Training Accuracy: 61.41%\n",
      "Test Accuracy: 58.92%\n",
      "\n",
      "Total number of samples: 3000\n",
      "------------------------------------------\n",
      "Training Accuracy: 62.24%\n",
      "Test Accuracy: 63.11%\n",
      "\n",
      "Total number of samples: 2500\n",
      "------------------------------------------\n",
      "Training Accuracy: 63.83%\n",
      "Test Accuracy: 65.60%\n",
      "\n",
      "Total number of samples: 2000\n",
      "------------------------------------------\n",
      "Training Accuracy: 64.14%\n",
      "Test Accuracy: 67.33%\n",
      "\n",
      "Total number of samples: 1500\n",
      "------------------------------------------\n",
      "Training Accuracy: 62.48%\n",
      "Test Accuracy: 66.67%\n",
      "\n",
      "Total number of samples: 1000\n",
      "------------------------------------------\n",
      "Training Accuracy: 67.86%\n",
      "Test Accuracy: 65.67%\n",
      "\n",
      "Total number of samples: 750\n",
      "------------------------------------------\n",
      "Training Accuracy: 64.57%\n",
      "Test Accuracy: 60.89%\n",
      "\n",
      "Total number of samples: 500\n",
      "------------------------------------------\n",
      "Training Accuracy: 64.86%\n",
      "Test Accuracy: 61.33%\n",
      "\n"
     ]
    }
   ],
   "source": [
    "make_many_models(time_kd_acc_win_df, [4017, 3000, 2500, 2000, 1500, 1000, 750, 500], scale=False)"
   ]
  },
  {
   "cell_type": "markdown",
   "metadata": {},
   "source": [
    "## Time, Win Rate"
   ]
  },
  {
   "cell_type": "code",
   "execution_count": 121,
   "metadata": {
    "ExecuteTime": {
     "end_time": "2021-07-15T23:06:11.725760Z",
     "start_time": "2021-07-15T23:06:03.640928Z"
    }
   },
   "outputs": [
    {
     "name": "stderr",
     "output_type": "stream",
     "text": [
      "4017it [00:04, 996.30it/s] \n",
      "4017it [00:04, 994.82it/s] \n"
     ]
    }
   ],
   "source": [
    "time_win_df = make_model_df(df, ['TotalTimePlayed', \n",
    "                              'WinRate'], \n",
    "                         None, None)"
   ]
  },
  {
   "cell_type": "code",
   "execution_count": 147,
   "metadata": {
    "ExecuteTime": {
     "end_time": "2021-07-15T23:20:19.154426Z",
     "start_time": "2021-07-15T23:20:18.788352Z"
    }
   },
   "outputs": [
    {
     "name": "stdout",
     "output_type": "stream",
     "text": [
      "Total number of samples: 3958\n",
      "------------------------------------------\n",
      "Training Accuracy: 58.19%\n",
      "Test Accuracy: 56.23%\n",
      "\n",
      "Total number of samples: 3000\n",
      "------------------------------------------\n",
      "Training Accuracy: 63.10%\n",
      "Test Accuracy: 64.67%\n",
      "\n",
      "Total number of samples: 2500\n",
      "------------------------------------------\n",
      "Training Accuracy: 63.20%\n",
      "Test Accuracy: 64.80%\n",
      "\n",
      "Total number of samples: 2000\n",
      "------------------------------------------\n",
      "Training Accuracy: 63.50%\n",
      "Test Accuracy: 65.83%\n",
      "\n",
      "Total number of samples: 1500\n",
      "------------------------------------------\n",
      "Training Accuracy: 64.10%\n",
      "Test Accuracy: 69.78%\n",
      "\n",
      "Total number of samples: 1000\n",
      "------------------------------------------\n",
      "Training Accuracy: 66.43%\n",
      "Test Accuracy: 65.00%\n",
      "\n",
      "Total number of samples: 750\n",
      "------------------------------------------\n",
      "Training Accuracy: 61.90%\n",
      "Test Accuracy: 52.89%\n",
      "\n",
      "Total number of samples: 500\n",
      "------------------------------------------\n",
      "Training Accuracy: 66.00%\n",
      "Test Accuracy: 62.00%\n",
      "\n"
     ]
    }
   ],
   "source": [
    "make_many_models(time_win_df, [4017, 3000, 2500, 2000, 1500, 1000, 750, 500])"
   ]
  },
  {
   "cell_type": "code",
   "execution_count": null,
   "metadata": {},
   "outputs": [],
   "source": []
  },
  {
   "cell_type": "markdown",
   "metadata": {},
   "source": [
    "# Super Fiesta\n",
    "\n",
    "The reason I made this project\n",
    "\n",
    "## Super Fiesta Slayer\n",
    "\n",
    "## Husky Raid"
   ]
  },
  {
   "cell_type": "markdown",
   "metadata": {},
   "source": [
    "#### Super Fiesta"
   ]
  },
  {
   "cell_type": "code",
   "execution_count": 130,
   "metadata": {
    "ExecuteTime": {
     "end_time": "2021-07-15T23:10:29.759869Z",
     "start_time": "2021-07-15T23:10:14.521424Z"
    }
   },
   "outputs": [
    {
     "name": "stderr",
     "output_type": "stream",
     "text": [
      "3765it [00:03, 997.13it/s] \n",
      "3765it [00:03, 987.71it/s]\n",
      "3765it [00:03, 985.12it/s]\n",
      "3765it [00:03, 989.78it/s]\n"
     ]
    }
   ],
   "source": [
    "super_fiesta_df = make_model_df(df, ['TotalTimePlayed', \n",
    "                              'K/D', 'Accuracy', 'WinRate'], \n",
    "                         None, 'Super Fiesta Party')"
   ]
  },
  {
   "cell_type": "code",
   "execution_count": 151,
   "metadata": {
    "ExecuteTime": {
     "end_time": "2021-07-15T23:21:43.548413Z",
     "start_time": "2021-07-15T23:21:43.246355Z"
    }
   },
   "outputs": [
    {
     "name": "stdout",
     "output_type": "stream",
     "text": [
      "Total number of samples: 3711\n",
      "------------------------------------------\n",
      "Training Accuracy: 61.53%\n",
      "Test Accuracy: 62.48%\n",
      "\n",
      "Total number of samples: 3000\n",
      "------------------------------------------\n",
      "Training Accuracy: 62.71%\n",
      "Test Accuracy: 64.00%\n",
      "\n",
      "Total number of samples: 2000\n",
      "------------------------------------------\n",
      "Training Accuracy: 66.64%\n",
      "Test Accuracy: 65.67%\n",
      "\n",
      "Total number of samples: 1500\n",
      "------------------------------------------\n",
      "Training Accuracy: 64.76%\n",
      "Test Accuracy: 66.22%\n",
      "\n",
      "Total number of samples: 1000\n",
      "------------------------------------------\n",
      "Training Accuracy: 68.43%\n",
      "Test Accuracy: 64.33%\n",
      "\n",
      "Total number of samples: 750\n",
      "------------------------------------------\n",
      "Training Accuracy: 67.24%\n",
      "Test Accuracy: 64.89%\n",
      "\n"
     ]
    }
   ],
   "source": [
    "make_many_models(super_fiesta_df, [3765, 3000, 2000, 1500, 1000, 750], scale=False)"
   ]
  },
  {
   "cell_type": "markdown",
   "metadata": {},
   "source": [
    "#### Super Fiesta Slayer"
   ]
  },
  {
   "cell_type": "code",
   "execution_count": 132,
   "metadata": {
    "ExecuteTime": {
     "end_time": "2021-07-15T23:10:34.928042Z",
     "start_time": "2021-07-15T23:10:30.089944Z"
    }
   },
   "outputs": [
    {
     "name": "stderr",
     "output_type": "stream",
     "text": [
      "1190it [00:01, 980.82it/s]\n",
      "1190it [00:01, 992.27it/s]\n",
      "1190it [00:01, 991.44it/s]\n",
      "1190it [00:01, 989.79it/s]\n"
     ]
    }
   ],
   "source": [
    "super_fiesta_slayer_df = make_model_df(df, ['TotalTimePlayed', \n",
    "                              'K/D', 'Accuracy', 'WinRate'], \n",
    "                         'Slayer', 'Super Fiesta Party')"
   ]
  },
  {
   "cell_type": "code",
   "execution_count": 152,
   "metadata": {
    "ExecuteTime": {
     "end_time": "2021-07-15T23:21:51.349241Z",
     "start_time": "2021-07-15T23:21:51.167210Z"
    }
   },
   "outputs": [
    {
     "name": "stdout",
     "output_type": "stream",
     "text": [
      "Total number of samples: 1174\n",
      "------------------------------------------\n",
      "Training Accuracy: 65.16%\n",
      "Test Accuracy: 58.64%\n",
      "\n",
      "Total number of samples: 900\n",
      "------------------------------------------\n",
      "Training Accuracy: 66.51%\n",
      "Test Accuracy: 63.70%\n",
      "\n",
      "Total number of samples: 700\n",
      "------------------------------------------\n",
      "Training Accuracy: 67.96%\n",
      "Test Accuracy: 63.33%\n",
      "\n",
      "Total number of samples: 500\n",
      "------------------------------------------\n",
      "Training Accuracy: 66.29%\n",
      "Test Accuracy: 62.67%\n",
      "\n"
     ]
    }
   ],
   "source": [
    "make_many_models(super_fiesta_slayer_df, [1190, 900, 700, 500])"
   ]
  },
  {
   "cell_type": "code",
   "execution_count": 154,
   "metadata": {
    "ExecuteTime": {
     "end_time": "2021-07-15T23:23:40.669565Z",
     "start_time": "2021-07-15T23:23:40.572551Z"
    }
   },
   "outputs": [
    {
     "name": "stdout",
     "output_type": "stream",
     "text": [
      "Total number of samples: 1174\n",
      "------------------------------------------\n",
      "Training Accuracy: 66.38%\n",
      "Test Accuracy: 58.36%\n",
      "\n",
      "Total number of samples: 900\n",
      "------------------------------------------\n",
      "Training Accuracy: 66.98%\n",
      "Test Accuracy: 62.22%\n",
      "\n",
      "Total number of samples: 700\n",
      "------------------------------------------\n",
      "Training Accuracy: 68.37%\n",
      "Test Accuracy: 60.00%\n",
      "\n",
      "Total number of samples: 500\n",
      "------------------------------------------\n",
      "Training Accuracy: 70.29%\n",
      "Test Accuracy: 62.00%\n",
      "\n"
     ]
    }
   ],
   "source": [
    "make_many_models(super_fiesta_slayer_df, [1190, 900, 700, 500], scale=True)"
   ]
  },
  {
   "cell_type": "markdown",
   "metadata": {},
   "source": [
    "#### Husky Raid"
   ]
  },
  {
   "cell_type": "code",
   "execution_count": 134,
   "metadata": {
    "ExecuteTime": {
     "end_time": "2021-07-15T23:10:44.305164Z",
     "start_time": "2021-07-15T23:10:35.128085Z"
    }
   },
   "outputs": [
    {
     "name": "stderr",
     "output_type": "stream",
     "text": [
      "2261it [00:02, 986.68it/s]\n",
      "2261it [00:02, 989.27it/s]\n",
      "2261it [00:02, 986.25it/s]\n",
      "2261it [00:02, 990.57it/s]\n"
     ]
    }
   ],
   "source": [
    "husky_raid_df = make_model_df(df, ['TotalTimePlayed', \n",
    "                              'K/D', 'Accuracy', 'WinRate'], \n",
    "                         'Capture the Flag', 'Super Fiesta Party')"
   ]
  },
  {
   "cell_type": "code",
   "execution_count": null,
   "metadata": {},
   "outputs": [],
   "source": [
    "husky_raid_df"
   ]
  },
  {
   "cell_type": "code",
   "execution_count": 135,
   "metadata": {
    "ExecuteTime": {
     "end_time": "2021-07-15T23:11:12.971295Z",
     "start_time": "2021-07-15T23:11:12.640228Z"
    }
   },
   "outputs": [
    {
     "name": "stdout",
     "output_type": "stream",
     "text": [
      "-------------- Total number of samples: 2229 --------------\n",
      "\n",
      "Training Accuracy: 62.76%\n",
      "Test Accuracy: 60.99%\n",
      "\n",
      "-------------- Total number of samples: 1500 --------------\n",
      "\n",
      "Training Accuracy: 62.10%\n",
      "Test Accuracy: 61.56%\n",
      "\n",
      "-------------- Total number of samples: 1250 --------------\n",
      "\n",
      "Training Accuracy: 66.51%\n",
      "Test Accuracy: 67.20%\n",
      "\n",
      "-------------- Total number of samples: 1000 --------------\n",
      "\n",
      "Training Accuracy: 67.29%\n",
      "Test Accuracy: 63.33%\n",
      "\n",
      "-------------- Total number of samples: 900 --------------\n",
      "\n",
      "Training Accuracy: 66.35%\n",
      "Test Accuracy: 62.96%\n",
      "\n",
      "-------------- Total number of samples: 800 --------------\n",
      "\n",
      "Training Accuracy: 65.89%\n",
      "Test Accuracy: 65.83%\n",
      "\n",
      "-------------- Total number of samples: 600 --------------\n",
      "\n",
      "Training Accuracy: 63.57%\n",
      "Test Accuracy: 58.33%\n",
      "\n"
     ]
    }
   ],
   "source": [
    "make_many_models(husky_raid_df, [2261, 1500, 1250, 1000, 900, 800, 600])"
   ]
  },
  {
   "cell_type": "markdown",
   "metadata": {},
   "source": [
    "## Best Dataframe - Time, Accuracy, K/D, Win Rate with 1000 samples"
   ]
  },
  {
   "cell_type": "markdown",
   "metadata": {},
   "source": [
    "## XGBoost"
   ]
  },
  {
   "cell_type": "code",
   "execution_count": 155,
   "metadata": {
    "ExecuteTime": {
     "end_time": "2021-07-15T23:25:11.012312Z",
     "start_time": "2021-07-15T23:25:10.937303Z"
    }
   },
   "outputs": [
    {
     "name": "stdout",
     "output_type": "stream",
     "text": [
      "Training Accuracy: 59.14%\n",
      "Test Accuracy: 56.67%\n",
      "\n"
     ]
    }
   ],
   "source": [
    "from sklearn.naive_bayes import MultinomialNB\n",
    "from sklearn.svm import LinearSVC\n",
    "\n",
    "df = time_kd_acc_win_df.head(1000).copy()\n",
    "\n",
    "X = df.drop(['PlayerWin'], axis=1)\n",
    "y = df['PlayerWin']\n",
    "\n",
    "X_train, X_test, y_train, y_test = train_test_split(X, y, test_size=0.3, \n",
    "                                                    random_state=8)\n",
    "\n",
    "model_xgb = LinearSVC()\n",
    "model_xgb.fit(X_train, y_train)\n",
    "\n",
    "evaluate_model(model_xgb, X_train, X_test, y_train=y_train, y_test=y_test)"
   ]
  },
  {
   "cell_type": "markdown",
   "metadata": {},
   "source": [
    "# CNN"
   ]
  },
  {
   "cell_type": "code",
   "execution_count": null,
   "metadata": {},
   "outputs": [],
   "source": []
  },
  {
   "cell_type": "code",
   "execution_count": null,
   "metadata": {},
   "outputs": [],
   "source": []
  },
  {
   "cell_type": "code",
   "execution_count": null,
   "metadata": {},
   "outputs": [],
   "source": []
  },
  {
   "cell_type": "code",
   "execution_count": null,
   "metadata": {},
   "outputs": [],
   "source": []
  },
  {
   "cell_type": "code",
   "execution_count": null,
   "metadata": {},
   "outputs": [],
   "source": []
  },
  {
   "cell_type": "code",
   "execution_count": null,
   "metadata": {},
   "outputs": [],
   "source": []
  },
  {
   "cell_type": "code",
   "execution_count": null,
   "metadata": {},
   "outputs": [],
   "source": []
  },
  {
   "cell_type": "code",
   "execution_count": null,
   "metadata": {},
   "outputs": [],
   "source": []
  },
  {
   "cell_type": "code",
   "execution_count": null,
   "metadata": {},
   "outputs": [],
   "source": []
  },
  {
   "cell_type": "markdown",
   "metadata": {},
   "source": [
    "# This code successfully creates new values for one row"
   ]
  },
  {
   "cell_type": "code",
   "execution_count": null,
   "metadata": {},
   "outputs": [],
   "source": [
    "df = df2.head(3).copy()\n",
    "\n",
    "for index, row in df.iterrows():\n",
    "\n",
    "    # Set Variant ID\n",
    "    variant_id = df['GameBaseVariantId'].values[0]\n",
    "\n",
    "    # Define player / enemy variables\n",
    "    P1 = (df['P1'].values[0], 'P1')\n",
    "    P2 = (df['P2'].values[0], 'P2')\n",
    "    P3 = (df['P3'].values[0], 'P3')\n",
    "    roster = [P1, P2, P3]\n",
    "\n",
    "    # For loop to loop through player / enemy variables in dataframe    \n",
    "    for p in roster:        \n",
    "        i = 0   \n",
    "\n",
    "        # Loop through large all_players dictionary and find player / enemy gamertag\n",
    "        for player in all_players:\n",
    "            if all_players[i]['Id'] == p[0]:\n",
    "                print('found')\n",
    "\n",
    "                # Once gamertag found, locate game variant as specified by dataframe row\n",
    "                for variant in player['Result']['ArenaStats']['ArenaGameBaseVariantStats']:\n",
    "                    if variant['GameBaseVariantId'] == variant_id:\n",
    "\n",
    "                        # Create new column for TotalTimePlayed using P1, P2, E1, etc.\n",
    "                        df[p[1] + '_TotalTimePlayed'] = isodate.parse_duration(variant['TotalTimePlayed']).total_seconds() / 3600\n",
    "\n",
    "                i += 1\n",
    "    #                 else: \n",
    "    #                     continue\n",
    "            else:\n",
    "                i += 1\n",
    "                continue\n",
    "\n",
    "# df['P1_Time']\n",
    "\n",
    "df"
   ]
  },
  {
   "cell_type": "markdown",
   "metadata": {},
   "source": [
    "## Code below works to add P1_totaltimeplayed to dataframe"
   ]
  },
  {
   "cell_type": "code",
   "execution_count": null,
   "metadata": {},
   "outputs": [],
   "source": [
    "df = df2.head(1).copy()\n",
    "\n",
    "for index, row in df.iterrows():\n",
    "    P1 = df['P1'].values[0]\n",
    "    \n",
    "    # Set Variant ID\n",
    "    variant_id = df['GameBaseVariantId'].values[0]\n",
    "    \n",
    "    # Loop through all_players to pull out stats and add to dataframe\n",
    "    i = 0   \n",
    "    for player in all_players:\n",
    "        if all_players[i]['Id'] == P1:\n",
    "            print('found')\n",
    "            \n",
    "            for variant in player['Result']['ArenaStats']['ArenaGameBaseVariantStats']:\n",
    "                if variant['GameBaseVariantId'] == variant_id:\n",
    "                    df['P1_TotalTimePlayed'] = isodate.parse_duration(variant['TotalTimePlayed']).total_seconds() / 3600\n",
    "\n",
    "            i += 1\n",
    "#                 else: \n",
    "#                     continue\n",
    "        else:\n",
    "            i += 1\n",
    "            continue\n",
    "\n",
    "# df['P1_Time']\n",
    "\n",
    "df"
   ]
  },
  {
   "cell_type": "code",
   "execution_count": null,
   "metadata": {},
   "outputs": [],
   "source": [
    "#                     df['P1_K/D'] = variant['TotalKills'] / variant['TotalDeaths']\n",
    "#                     df['P1_Accuracy'] = variant['TotalShotsLanded'] / variant['TotalShotsFired']\n",
    "#                     df['P1_WinRate'] = variant['TotalGamesWon'] / variant['TotalGamesLost']"
   ]
  },
  {
   "cell_type": "code",
   "execution_count": null,
   "metadata": {},
   "outputs": [],
   "source": [
    "drymander_instance = []\n",
    "\n",
    "i = 0     \n",
    "for player in all_players:\n",
    "    if all_players[i]['Id'] == 'Ace Darkscythe':\n",
    "        print('found')\n",
    "        drymander_instance.append(player)\n",
    "        i += 1\n",
    "    else:\n",
    "        i += 1\n",
    "        continue"
   ]
  },
  {
   "cell_type": "code",
   "execution_count": null,
   "metadata": {},
   "outputs": [],
   "source": [
    "drymander_instance"
   ]
  },
  {
   "cell_type": "code",
   "execution_count": null,
   "metadata": {},
   "outputs": [],
   "source": []
  },
  {
   "cell_type": "code",
   "execution_count": null,
   "metadata": {},
   "outputs": [],
   "source": []
  },
  {
   "cell_type": "code",
   "execution_count": null,
   "metadata": {},
   "outputs": [],
   "source": []
  },
  {
   "cell_type": "code",
   "execution_count": null,
   "metadata": {},
   "outputs": [],
   "source": [
    "model_df = pd.DataFrame()\n",
    "\n",
    "model_df_columns = [\n",
    "    'PlayerWin',\n",
    "    'Player1',\n",
    "    'Player2',\n",
    "    'Player3',\n",
    "    'Player4',\n",
    "    'Enemy1',\n",
    "    'Enemy2',\n",
    "    'Enemy3',\n",
    "    'Enemy4',\n",
    "]\n",
    "\n",
    "model_df = pd.DataFrame(columns=model_df_columns)\n",
    "\n",
    "# model_df_spartanrank = model_df.copy()\n",
    "\n",
    "x = 1\n",
    "\n",
    "for match in tqdm(match_details[0:20]):\n",
    "# for match in tqdm(mds):\n",
    "    \n",
    "    try:\n",
    "        data = match\n",
    "        df_match = pd.DataFrame()\n",
    "        columns = [\n",
    "            'TeamId',\n",
    "            'Gamertag',\n",
    "            'SpartanRank',\n",
    "            'PrevTotalXP',\n",
    "        ]\n",
    "        df_match = pd.DataFrame(columns = columns)\n",
    "        i = 0\n",
    "\n",
    "        if len(data['PlayerStats']) != 8:\n",
    "            continue\n",
    "\n",
    "        for player in data['PlayerStats']:\n",
    "\n",
    "            player_dic = {}\n",
    "            # Team ID\n",
    "            player_dic['TeamId'] = data['PlayerStats'][i]['TeamId']\n",
    "            # Gamer Tag\n",
    "            player_dic['Gamertag'] = data['PlayerStats'][i]['Player']['Gamertag']\n",
    "            # Spartan Rank\n",
    "            player_dic['SpartanRank'] = data['PlayerStats'][i]['XpInfo']['SpartanRank']\n",
    "            # Previous Total XP\n",
    "            player_dic['PrevTotalXP'] = data['PlayerStats'][i]['XpInfo']['PrevTotalXP']\n",
    "            df_match = df_match.append(player_dic, ignore_index=True)\n",
    "            i += 1\n",
    "\n",
    "        model_row = {}\n",
    "\n",
    "        playerteam = df_match.loc[df_match['Gamertag'] == user, 'TeamId'].values[0]\n",
    "\n",
    "        if data['TeamStats'][0]['Rank'] == 1:\n",
    "            winner = 0\n",
    "        else: winner = 1\n",
    "\n",
    "        if winner == playerteam:\n",
    "            model_row['PlayerWin'] = 1\n",
    "        else:\n",
    "            model_row['PlayerWin'] = 0\n",
    "\n",
    "\n",
    "################\n",
    "        ## testing here\n",
    "        column = 'PrevTotalXP'\n",
    "################\n",
    "\n",
    "        player_xp_sort = df_match[column].loc[df_match['TeamId'] == playerteam].sort_values(ascending=False).values\n",
    "        enemy_xp_sort = df_match[column].loc[df_match['TeamId'] != playerteam].sort_values(ascending=False).values\n",
    "\n",
    "        model_row['Player1'] = player_xp_sort[0]\n",
    "        model_row['Player2'] = player_xp_sort[1]\n",
    "        model_row['Player3'] = player_xp_sort[2]\n",
    "        model_row['Player4'] = player_xp_sort[3]\n",
    "        model_row['Enemy1'] = enemy_xp_sort[0]\n",
    "        model_row['Enemy2'] = enemy_xp_sort[1]\n",
    "        model_row['Enemy3'] = enemy_xp_sort[2]\n",
    "        model_row['Enemy4'] = enemy_xp_sort[3]\n",
    "\n",
    "        model_df = model_df.append(model_row, ignore_index=True)\n",
    "\n",
    "    #     print(f\"{x} match collected out of {len(match_details_pickle_test)} :: {(x / len(match_details_pickle_test)) * 100}% complete.\")\n",
    "    #     x += 1\n",
    "    except:\n",
    "        continue\n",
    "    \n",
    "model_df.head()\n",
    "\n"
   ]
  },
  {
   "cell_type": "code",
   "execution_count": null,
   "metadata": {},
   "outputs": [],
   "source": []
  },
  {
   "cell_type": "code",
   "execution_count": null,
   "metadata": {},
   "outputs": [],
   "source": []
  },
  {
   "cell_type": "code",
   "execution_count": null,
   "metadata": {},
   "outputs": [],
   "source": []
  },
  {
   "cell_type": "code",
   "execution_count": null,
   "metadata": {},
   "outputs": [],
   "source": []
  },
  {
   "cell_type": "code",
   "execution_count": null,
   "metadata": {},
   "outputs": [],
   "source": []
  },
  {
   "cell_type": "code",
   "execution_count": null,
   "metadata": {},
   "outputs": [],
   "source": []
  },
  {
   "cell_type": "code",
   "execution_count": null,
   "metadata": {},
   "outputs": [],
   "source": []
  },
  {
   "cell_type": "code",
   "execution_count": null,
   "metadata": {},
   "outputs": [],
   "source": []
  },
  {
   "cell_type": "markdown",
   "metadata": {},
   "source": [
    "## Pull Match"
   ]
  },
  {
   "cell_type": "markdown",
   "metadata": {},
   "source": [
    "### Basic"
   ]
  },
  {
   "cell_type": "code",
   "execution_count": null,
   "metadata": {
    "ExecuteTime": {
     "end_time": "2021-06-29T19:30:39.507939Z",
     "start_time": "2021-06-29T19:30:39.304256Z"
    }
   },
   "outputs": [],
   "source": [
    "import http.client, urllib.request, urllib.parse, urllib.error, base64\n",
    "\n",
    "matchId = df['MatchId'][0]\n",
    "\n",
    "headers = {\n",
    "    # Request headers\n",
    "    'Ocp-Apim-Subscription-Key': api_key,\n",
    "}\n",
    "\n",
    "params = urllib.parse.urlencode({\n",
    "})\n",
    "\n",
    "try:\n",
    "    conn = http.client.HTTPSConnection('www.haloapi.com')\n",
    "    conn.request(\"GET\", f\"/stats/h5/arena/matches/{matchId}?%s\" % params, \"{body}\", headers)\n",
    "    response = conn.getresponse()\n",
    "#     data = response.read().decode('utf-8')\n",
    "#     json = json.loads(data)\n",
    "#     print(data)\n",
    "    data = response.read()\n",
    "    data = json.loads(data)\n",
    "    print(data)\n",
    "    conn.close()\n",
    "except Exception as e:\n",
    "    print(\"[Errno {0}] {1}\".format(e.errno, e.strerror))\n",
    "\n",
    "####################################"
   ]
  },
  {
   "cell_type": "code",
   "execution_count": null,
   "metadata": {
    "ExecuteTime": {
     "end_time": "2021-06-29T19:32:02.883825Z",
     "start_time": "2021-06-29T19:32:02.658414Z"
    }
   },
   "outputs": [],
   "source": [
    "# match_stats = []\n",
    "\n",
    "# match_stats.append(json1)\n",
    "# match_stats.append(json2)\n",
    "\n",
    "# match_stats\n",
    "\n",
    "# pd.DataFrame(match_stats)\n",
    "\n",
    "# df['MatchId']"
   ]
  },
  {
   "cell_type": "markdown",
   "metadata": {},
   "source": [
    "### Multiple"
   ]
  },
  {
   "cell_type": "code",
   "execution_count": null,
   "metadata": {
    "ExecuteTime": {
     "end_time": "2021-07-01T22:20:36.955428Z",
     "start_time": "2021-07-01T20:11:02.966555Z"
    },
    "scrolled": true
   },
   "outputs": [],
   "source": [
    "run = True\n",
    "\n",
    "if run == True:\n",
    "    headers = {\n",
    "        # Request headers\n",
    "        'Ocp-Apim-Subscription-Key': api_key,\n",
    "    }\n",
    "\n",
    "    params = urllib.parse.urlencode({\n",
    "    })\n",
    "\n",
    "#     match_list = ['babfb117-9d14-407a-ae45-3647de5a48f9',\n",
    "#                  '951683b7-8135-4937-a1a0-8bacc9c34659',\n",
    "#                  '10010481-1be2-462b-9774-eac5ee152045',\n",
    "#                  'd8964123-992f-4dd9-8555-40b76a98d4e1',\n",
    "#                  'c86a93e7-4842-4443-9b90-875b20e3846e']\n",
    "\n",
    "    match_list = df['MatchId']\n",
    "\n",
    "    match_details = []\n",
    "\n",
    "    i = 0\n",
    "\n",
    "    for match in match_list:\n",
    "        try:\n",
    "            conn = http.client.HTTPSConnection('www.haloapi.com')\n",
    "    #         conn.request(\"GET\", f\"/stats/h5/arena/matches/{match[i]}?%s\" % params, \"{body}\", headers)\n",
    "            conn.request(\"GET\", f\"/stats/h5/arena/matches/{match}?%s\" % params, \"{body}\", headers)\n",
    "            response = conn.getresponse()\n",
    "            data = response.read()\n",
    "            data = json.loads(data)\n",
    "            match_details.append(data)\n",
    "    #         print(data)\n",
    "            conn.close()\n",
    "            i += 1\n",
    "            time.sleep(1.1)\n",
    "\n",
    "            print(f\"Match {match} collected and appended to match_details.\")\n",
    "            print(f\"{i} match collected out of {len(match_list)} :: {(i / len(match_list)) * 100}% complete.\")\n",
    "        except Exception as e:\n",
    "            print(\"error\")\n",
    "\n",
    "#     with open('match_details.pkl', 'wb') as match_details_pickle:\n",
    "#         pickle.dump(match_details, match_details_pickle)\n",
    "        \n",
    "else: \n",
    "    print(\"To run, set run = True\")\n",
    "    print(\"WARNING - this will overwrite the pickle file\")"
   ]
  },
  {
   "cell_type": "code",
   "execution_count": null,
   "metadata": {},
   "outputs": [],
   "source": [
    "data = match_details[2]"
   ]
  },
  {
   "cell_type": "code",
   "execution_count": null,
   "metadata": {
    "ExecuteTime": {
     "end_time": "2021-07-01T22:22:10.202799Z",
     "start_time": "2021-07-01T22:20:57.641339Z"
    }
   },
   "outputs": [],
   "source": [
    "with open('match_details.pkl', 'rb') as match_details_pickle:\n",
    "    match_details_pickle_test = pickle.load(match_details_pickle)\n",
    "    \n",
    "# mds = match_details_pickle_test[0:20]"
   ]
  },
  {
   "cell_type": "code",
   "execution_count": null,
   "metadata": {
    "ExecuteTime": {
     "end_time": "2021-07-01T22:23:32.968311Z",
     "start_time": "2021-07-01T22:23:32.778373Z"
    }
   },
   "outputs": [],
   "source": [
    "len(match_details_pickle_test)\n",
    "\n",
    "match_details_id = match_details_pickle_test.copy()"
   ]
  },
  {
   "cell_type": "code",
   "execution_count": null,
   "metadata": {},
   "outputs": [],
   "source": [
    "len(df['MatchId'])\n",
    "\n",
    "df['MatchId'].iloc[500]\n",
    "\n",
    "df['MatchId'].iloc[5902]"
   ]
  },
  {
   "cell_type": "markdown",
   "metadata": {},
   "source": [
    "## Adding MatchID to Match Details\n",
    "\n",
    "MatchID is not included in match results for some reason"
   ]
  },
  {
   "cell_type": "code",
   "execution_count": null,
   "metadata": {},
   "outputs": [],
   "source": [
    "# match_id_add = match_details_pickle_test[0]\n",
    "\n",
    "type(match_id_add)\n",
    "\n",
    "match_id_add['MatchId'] = df['MatchId'].iloc[500]\n",
    "\n",
    "match_id_add['MatchId']"
   ]
  },
  {
   "cell_type": "code",
   "execution_count": null,
   "metadata": {},
   "outputs": [],
   "source": [
    "i = 0\n",
    "\n",
    "for match in match_details_id:\n",
    "    match['MatchId'] = df['MatchId'].iloc[i]\n",
    "    i += 1"
   ]
  },
  {
   "cell_type": "code",
   "execution_count": null,
   "metadata": {},
   "outputs": [],
   "source": [
    "i = 5902\n",
    "\n",
    "print(match_details_id[i]['MatchId'])\n",
    "\n",
    "print(df['MatchId'].iloc[i])"
   ]
  },
  {
   "cell_type": "code",
   "execution_count": null,
   "metadata": {},
   "outputs": [],
   "source": [
    "match_details_id[0]"
   ]
  },
  {
   "cell_type": "markdown",
   "metadata": {},
   "source": [
    "## Match Details to Dataframe\n",
    "\n",
    "Here we are going to try and pull out the data in individual columns rather than working with a massive dataframe."
   ]
  },
  {
   "cell_type": "code",
   "execution_count": null,
   "metadata": {},
   "outputs": [],
   "source": [
    "# data = json.loads(data)\n",
    "\n",
    "match_details = mds"
   ]
  },
  {
   "cell_type": "code",
   "execution_count": null,
   "metadata": {},
   "outputs": [],
   "source": [
    "model_df = pd.DataFrame()\n",
    "\n",
    "model_df_columns = [\n",
    "    'PlayerWin',\n",
    "    'Player1',\n",
    "    'Player2',\n",
    "    'Player3',\n",
    "    'Player4',\n",
    "    'Enemy1',\n",
    "    'Enemy2',\n",
    "    'Enemy3',\n",
    "    'Enemy4',\n",
    "]\n",
    "\n",
    "model_df = pd.DataFrame(columns=model_df_columns)\n",
    "\n",
    "model_df"
   ]
  },
  {
   "cell_type": "code",
   "execution_count": null,
   "metadata": {},
   "outputs": [],
   "source": [
    "# match_details_pickle_test[0]\n",
    "data = match_details_pickle_test[2]\n",
    "\n",
    "data"
   ]
  },
  {
   "cell_type": "code",
   "execution_count": null,
   "metadata": {},
   "outputs": [],
   "source": [
    "i = 0\n",
    "\n",
    "df_match = pd.DataFrame()\n",
    "columns = [\n",
    "    'TeamId',\n",
    "    'Gamertag',\n",
    "    'SpartanRank',\n",
    "    'PrevTotalXP',\n",
    "]\n",
    "df_match = pd.DataFrame(columns = columns)\n",
    "\n",
    "for player in data['PlayerStats']:\n",
    "\n",
    "    player_dic = {}\n",
    "    # Team ID\n",
    "    player_dic['TeamId'] = data['PlayerStats'][i]['TeamId']\n",
    "    # Gamer Tag\n",
    "    player_dic['Gamertag'] = data['PlayerStats'][i]['Player']['Gamertag']\n",
    "    # Spartan Rank\n",
    "    player_dic['SpartanRank'] = data['PlayerStats'][i]['XpInfo']['SpartanRank']\n",
    "    # Previous Total XP\n",
    "    player_dic['PrevTotalXP'] = data['PlayerStats'][i]['XpInfo']['PrevTotalXP']\n",
    "    df_match = df_match.append(player_dic, ignore_index=True)\n",
    "    i += 1\n",
    "    \n",
    "df_match\n",
    "\n",
    "playerteam = df_match.loc[df_match['Gamertag'] == user, 'TeamId'].values[0]\n",
    "\n",
    "playerteam\n",
    "\n",
    "df_match_player = df_match.loc[df_match['TeamId'] == playerteam]\n",
    "df_match_enemy = df_match.loc[df_match['TeamId'] != playerteam]\n",
    "\n",
    "# df_match_player\n",
    "\n",
    "# df_match_player['Gamertag'].iloc[0]\n",
    "\n",
    "# df_match.loc[df_match['Gamertag'] == user, 'TeamId'].values[0]\n",
    "# df_match['Gamertag'] == user, 'TeamId'\n",
    "\n",
    "# data['PlayerStats'][5]['TeamId']\n",
    "\n",
    "df_match"
   ]
  },
  {
   "cell_type": "code",
   "execution_count": null,
   "metadata": {},
   "outputs": [],
   "source": [
    "data = match_details_pickle_test[0:6]\n",
    "\n",
    "data"
   ]
  },
  {
   "cell_type": "markdown",
   "metadata": {},
   "source": [
    "# Dataframe with Gamertags"
   ]
  },
  {
   "cell_type": "code",
   "execution_count": null,
   "metadata": {},
   "outputs": [],
   "source": [
    "model_df = pd.DataFrame()\n",
    "\n",
    "model_df_columns = [\n",
    "    'PlayerWin',\n",
    "    'Player1',\n",
    "    'Player2',\n",
    "    'Player3',\n",
    "    'Player4',\n",
    "    'Enemy1',\n",
    "    'Enemy2',\n",
    "    'Enemy3',\n",
    "    'Enemy4',\n",
    "    'MatchId',\n",
    "]\n",
    "\n",
    "model_df = pd.DataFrame(columns=model_df_columns)\n",
    "\n",
    "# model_df_spartanrank = model_df.copy()\n",
    "\n",
    "x = 1\n",
    "\n",
    "for match in tqdm(match_details_pickle_test[0:5]):\n",
    "# for match in tqdm(mds):\n",
    "    \n",
    "#     try:\n",
    "        data = match\n",
    "        df_match = pd.DataFrame()\n",
    "        columns = [\n",
    "            'TeamId',\n",
    "            'Gamertag',\n",
    "            'SpartanRank',\n",
    "            'PrevTotalXP',\n",
    "        ]\n",
    "        df_match = pd.DataFrame(columns = columns)\n",
    "        i = 0\n",
    "\n",
    "        if len(data['PlayerStats']) != 8:\n",
    "            continue\n",
    "\n",
    "        for player in data['PlayerStats']:\n",
    "\n",
    "            player_dic = {}\n",
    "            # Team ID\n",
    "            player_dic['TeamId'] = data['PlayerStats'][i]['TeamId']\n",
    "            # Gamer Tag\n",
    "            player_dic['Gamertag'] = data['PlayerStats'][i]['Player']['Gamertag']\n",
    "            # Spartan Rank\n",
    "            player_dic['SpartanRank'] = data['PlayerStats'][i]['XpInfo']['SpartanRank']\n",
    "            # Previous Total XP\n",
    "            player_dic['PrevTotalXP'] = data['PlayerStats'][i]['XpInfo']['PrevTotalXP']\n",
    "            df_match = df_match.append(player_dic, ignore_index=True)\n",
    "            i += 1\n",
    "\n",
    "        model_row = {}\n",
    "\n",
    "        playerteam = df_match.loc[df_match['Gamertag'] == user, 'TeamId'].values[0]\n",
    "\n",
    "        if data['TeamStats'][0]['Rank'] == 1:\n",
    "            winner = 0\n",
    "        else: winner = 1\n",
    "\n",
    "        if winner == playerteam:\n",
    "            model_row['PlayerWin'] = 1\n",
    "        else:\n",
    "            model_row['PlayerWin'] = 0\n",
    "\n",
    "\n",
    "################\n",
    "        ## testing here\n",
    "#         column = 'PrevTotalXP'\n",
    "################\n",
    "        \n",
    "#         player_xp_sort = df_match[column].loc[df_match['TeamId'] == playerteam].sort_values(ascending=False).values\n",
    "#         enemy_xp_sort = df_match[column].loc[df_match['TeamId'] != playerteam].sort_values(ascending=False).values\n",
    "        \n",
    "        df_match_player = df_match.loc[df_match['TeamId'] == playerteam]\n",
    "        df_match_enemy = df_match.loc[df_match['TeamId'] != playerteam]\n",
    "        model_row['Player1'] = df_match_player['Gamertag'].iloc[0]\n",
    "        model_row['Player2'] = df_match_player['Gamertag'].iloc[1]\n",
    "        model_row['Player3'] = df_match_player['Gamertag'].iloc[2]\n",
    "        model_row['Player4'] = df_match_player['Gamertag'].iloc[3]\n",
    "        model_row['Enemy1'] = df_match_enemy['Gamertag'].iloc[0]\n",
    "        model_row['Enemy2'] = df_match_enemy['Gamertag'].iloc[1]\n",
    "        model_row['Enemy3'] = df_match_enemy['Gamertag'].iloc[2]\n",
    "        model_row['Enemy4'] = df_match_enemy['Gamertag'].iloc[3]\n",
    "\n",
    "        model_df = model_df.append(model_row, ignore_index=True)\n",
    "\n",
    "    #     print(f\"{x} match collected out of {len(match_details_pickle_test)} :: {(x / len(match_details_pickle_test)) * 100}% complete.\")\n",
    "    #     x += 1\n",
    "#     except:\n",
    "#         continue\n",
    "    \n",
    "model_df.head()\n",
    "\n",
    "# model_row"
   ]
  },
  {
   "cell_type": "code",
   "execution_count": null,
   "metadata": {},
   "outputs": [],
   "source": []
  },
  {
   "cell_type": "code",
   "execution_count": null,
   "metadata": {},
   "outputs": [],
   "source": [
    "df_match_player = df_match.loc[df_match['TeamId'] == playerteam]\n",
    "df_match_enemy = df_match.loc[df_match['TeamId'] != playerteam]\n",
    "model_row['Player1'] = df_match_player['Gamertag'].iloc[0]\n",
    "model_row['Player2'] = df_match_player['Gamertag'].iloc[1]\n",
    "model_row['Player3'] = df_match_player['Gamertag'].iloc[2]\n",
    "model_row['Player4'] = df_match_player['Gamertag'].iloc[3]\n",
    "model_row['Enemy1'] = df_match_enemy['Gamertag'].iloc[0]\n",
    "model_row['Enemy2'] = df_match_enemy['Gamertag'].iloc[1]\n",
    "model_row['Enemy3'] = df_match_enemy['Gamertag'].iloc[2]\n",
    "model_row['Enemy4'] = df_match_enemy['Gamertag'].iloc[3]\n",
    "#         model_row['MatchId'] = match['MatchId']\n",
    "print(model_row)\n",
    "model_df = model_df.append(model_row, ignore_index=True)"
   ]
  },
  {
   "cell_type": "markdown",
   "metadata": {},
   "source": [
    "# Player History for more detailed stats per match"
   ]
  },
  {
   "cell_type": "markdown",
   "metadata": {},
   "source": [
    "## Player Arena History"
   ]
  },
  {
   "cell_type": "code",
   "execution_count": null,
   "metadata": {},
   "outputs": [],
   "source": [
    "player_list = model_df.iloc[0].tolist()\n",
    "player_list = str(str(player_list[1:9]))[1:-1]\n",
    "# player_list str(test_list)[1:-1]\n",
    "\n",
    "player_list\n",
    "player_list = player_list.replace(', ',',')\n",
    "player_list = player_list.replace(\"'\",'')\n",
    "player_list = player_list.replace(' ','+')\n",
    "\n",
    "\n",
    "player_list"
   ]
  },
  {
   "cell_type": "code",
   "execution_count": null,
   "metadata": {},
   "outputs": [],
   "source": []
  },
  {
   "cell_type": "code",
   "execution_count": null,
   "metadata": {
    "ExecuteTime": {
     "end_time": "2021-07-01T17:05:33.921928Z",
     "start_time": "2021-07-01T17:05:32.644678Z"
    }
   },
   "outputs": [],
   "source": [
    "\n",
    "########### Python 3.2 #############\n",
    "import http.client, urllib.request, urllib.parse, urllib.error, base64\n",
    "\n",
    "players = player_list\n",
    "\n",
    "headers = {\n",
    "    # Request headers\n",
    "    'Ocp-Apim-Subscription-Key': str(api_key),\n",
    "}\n",
    "\n",
    "params = urllib.parse.urlencode({\n",
    "    # Request parameters\n",
    "#     'seasonId': '{string}',\n",
    "\n",
    "\n",
    "    \n",
    "})\n",
    "\n",
    "try:\n",
    "    conn = http.client.HTTPSConnection('www.haloapi.com')\n",
    "    conn.request(\"GET\", f\"/stats/h5/servicerecords/arena?players={player_list}&%s\" % params, \"{body}\", headers)\n",
    "#     conn.request(\"GET\", f\"/stats/h5/servicerecords/arena?players=jAngLes+rAgEs+x&%s\" % params, \"{body}\", headers)\n",
    "    \n",
    "    response = conn.getresponse()\n",
    "    data = response.read()\n",
    "    print(data)\n",
    "    conn.close()\n",
    "except Exception as e:\n",
    "    print(\"[Errno {0}] {1}\".format(e.errno, e.strerror))\n",
    "\n",
    "####################################\n"
   ]
  },
  {
   "cell_type": "code",
   "execution_count": null,
   "metadata": {},
   "outputs": [],
   "source": []
  },
  {
   "cell_type": "code",
   "execution_count": null,
   "metadata": {},
   "outputs": [],
   "source": []
  },
  {
   "cell_type": "markdown",
   "metadata": {},
   "source": [
    "# Model DF"
   ]
  },
  {
   "cell_type": "code",
   "execution_count": null,
   "metadata": {},
   "outputs": [],
   "source": [
    "model_df = pd.DataFrame()\n",
    "\n",
    "model_df_columns = [\n",
    "    'PlayerWin',\n",
    "    'Player1',\n",
    "    'Player2',\n",
    "    'Player3',\n",
    "    'Player4',\n",
    "    'Enemy1',\n",
    "    'Enemy2',\n",
    "    'Enemy3',\n",
    "    'Enemy4',\n",
    "]\n",
    "\n",
    "model_df = pd.DataFrame(columns=model_df_columns)\n",
    "\n",
    "# model_df_spartanrank = model_df.copy()\n",
    "\n",
    "x = 1\n",
    "\n",
    "for match in tqdm(match_details_pickle_test):\n",
    "# for match in tqdm(mds):\n",
    "    \n",
    "    try:\n",
    "        data = match\n",
    "        df_match = pd.DataFrame()\n",
    "        columns = [\n",
    "            'TeamId',\n",
    "            'Gamertag',\n",
    "            'SpartanRank',\n",
    "            'PrevTotalXP',\n",
    "        ]\n",
    "        df_match = pd.DataFrame(columns = columns)\n",
    "        i = 0\n",
    "\n",
    "        if len(data['PlayerStats']) != 8:\n",
    "            continue\n",
    "\n",
    "        for player in data['PlayerStats']:\n",
    "\n",
    "            player_dic = {}\n",
    "            # Team ID\n",
    "            player_dic['TeamId'] = data['PlayerStats'][i]['TeamId']\n",
    "            # Gamer Tag\n",
    "            player_dic['Gamertag'] = data['PlayerStats'][i]['Player']['Gamertag']\n",
    "            # Spartan Rank\n",
    "            player_dic['SpartanRank'] = data['PlayerStats'][i]['XpInfo']['SpartanRank']\n",
    "            # Previous Total XP\n",
    "            player_dic['PrevTotalXP'] = data['PlayerStats'][i]['XpInfo']['PrevTotalXP']\n",
    "            df_match = df_match.append(player_dic, ignore_index=True)\n",
    "            i += 1\n",
    "\n",
    "        model_row = {}\n",
    "\n",
    "        playerteam = df_match.loc[df_match['Gamertag'] == user, 'TeamId'].values[0]\n",
    "\n",
    "        if data['TeamStats'][0]['Rank'] == 1:\n",
    "            winner = 0\n",
    "        else: winner = 1\n",
    "\n",
    "        if winner == playerteam:\n",
    "            model_row['PlayerWin'] = 1\n",
    "        else:\n",
    "            model_row['PlayerWin'] = 0\n",
    "\n",
    "\n",
    "################\n",
    "        ## testing here\n",
    "        column = 'PrevTotalXP'\n",
    "################\n",
    "\n",
    "        player_xp_sort = df_match[column].loc[df_match['TeamId'] == playerteam].sort_values(ascending=False).values\n",
    "        enemy_xp_sort = df_match[column].loc[df_match['TeamId'] != playerteam].sort_values(ascending=False).values\n",
    "\n",
    "        model_row['Player1'] = player_xp_sort[0]\n",
    "        model_row['Player2'] = player_xp_sort[1]\n",
    "        model_row['Player3'] = player_xp_sort[2]\n",
    "        model_row['Player4'] = player_xp_sort[3]\n",
    "        model_row['Enemy1'] = enemy_xp_sort[0]\n",
    "        model_row['Enemy2'] = enemy_xp_sort[1]\n",
    "        model_row['Enemy3'] = enemy_xp_sort[2]\n",
    "        model_row['Enemy4'] = enemy_xp_sort[3]\n",
    "\n",
    "        model_df = model_df.append(model_row, ignore_index=True)\n",
    "\n",
    "    #     print(f\"{x} match collected out of {len(match_details_pickle_test)} :: {(x / len(match_details_pickle_test)) * 100}% complete.\")\n",
    "    #     x += 1\n",
    "    except:\n",
    "        continue\n",
    "    \n",
    "model_df.head()\n",
    "\n"
   ]
  },
  {
   "cell_type": "code",
   "execution_count": null,
   "metadata": {},
   "outputs": [],
   "source": [
    "xp_df = model_df.copy()"
   ]
  },
  {
   "cell_type": "code",
   "execution_count": null,
   "metadata": {},
   "outputs": [],
   "source": [
    "# model_df.to_csv('first_model.csv')\n",
    "\n",
    "model_df_spartanrank.to_csv('spartanrank.csv')"
   ]
  },
  {
   "cell_type": "code",
   "execution_count": null,
   "metadata": {},
   "outputs": [],
   "source": [
    "model_df_spartanrank"
   ]
  },
  {
   "cell_type": "code",
   "execution_count": null,
   "metadata": {},
   "outputs": [],
   "source": [
    "# model_df = model_df.replace(100000000, 50000000)"
   ]
  },
  {
   "cell_type": "code",
   "execution_count": null,
   "metadata": {},
   "outputs": [],
   "source": [
    "# model_1000 = model_df[0:1000]"
   ]
  },
  {
   "cell_type": "code",
   "execution_count": null,
   "metadata": {},
   "outputs": [],
   "source": [
    "xp_df = pd.DataFrame()\n",
    "\n",
    "xp_df['PlayerWin'] = model_df['PlayerWin']\n",
    "xp_df['PlayerXp'] = model_df['Player1'] + model_df['Player2'] + model_df['Player3'] + model_df['Player4']\n",
    "xp_df['EnemyXp'] = model_df['Enemy1'] + model_df['Enemy2'] + model_df['Enemy3'] + model_df['Enemy4']\n",
    "\n",
    "xp_df"
   ]
  },
  {
   "cell_type": "code",
   "execution_count": null,
   "metadata": {},
   "outputs": [],
   "source": [
    "model_df.head()"
   ]
  },
  {
   "cell_type": "markdown",
   "metadata": {},
   "source": [
    "# Model"
   ]
  },
  {
   "cell_type": "code",
   "execution_count": null,
   "metadata": {},
   "outputs": [],
   "source": [
    "# Assigning X and y for train test split\n",
    "\n",
    "features = model_df.drop(['PlayerWin'], axis=1)\n",
    "target = model_df['PlayerWin']\n",
    "\n",
    "\n",
    "X = features\n",
    "y = target\n",
    "\n",
    "y=y.astype('int')\n",
    "\n",
    "X_train, X_test, y_train, y_test = train_test_split(X, y, test_size=0.3, \n",
    "                                                    random_state=8)\n",
    "\n",
    "print(X_train.shape)\n",
    "print(X_test.shape)"
   ]
  },
  {
   "cell_type": "code",
   "execution_count": null,
   "metadata": {},
   "outputs": [],
   "source": [
    "model_log = LogisticRegression(random_state=8)\n",
    "model_log.fit(X_train, y_train)"
   ]
  },
  {
   "cell_type": "code",
   "execution_count": null,
   "metadata": {},
   "outputs": [],
   "source": [
    "def evaluate_model(model, X_train, X_test, y_train=y_train, \n",
    "                   y_test=y_test, cmap='Greens', normalize=None,\n",
    "                   classes=None,figsize=(10,4)):\n",
    "    \n",
    "    \"\"\"\n",
    "    model :: classifier user desires to evaluate\n",
    "    X_train :: X training data\n",
    "    X_test :: X test data\n",
    "    y_train :: y_train data\n",
    "    y_test :: y_train data\n",
    "    cmap :: color palette of confusion matrix\n",
    "    normalize :: set to True if normalized confusion matrix is desired\n",
    "    figsize :: desired plot size\n",
    "\n",
    "    \"\"\"\n",
    "    \n",
    "    # Print model accuracy\n",
    "    print(f'Training Accuracy: {model.score(X_train,y_train):.2%}')\n",
    "    print(f'Test Accuracy: {model.score(X_test,y_test):.2%}')\n",
    "    print('')\n",
    "    \n",
    "    # Print classification report\n",
    "    y_test_predict = model.predict(X_test)\n",
    "    print(metrics.classification_report(y_test, y_test_predict,\n",
    "                                        target_names=classes))\n",
    "    \n",
    "    # Plot confusion matrix\n",
    "    fig,ax = plt.subplots(ncols=2,figsize=figsize)\n",
    "    metrics.plot_confusion_matrix(model, X_test,y_test,cmap=cmap, \n",
    "                                  normalize=normalize,display_labels=classes,\n",
    "                                  ax=ax[0])\n",
    "    \n",
    "    #Plot ROC curves\n",
    "    with sns.axes_style(\"darkgrid\"):\n",
    "        curve = metrics.plot_roc_curve(model,X_train,y_train,ax=ax[1])\n",
    "        curve2 = metrics.plot_roc_curve(model,X_test,y_test,ax=ax[1])\n",
    "        curve.ax_.grid()\n",
    "        curve.ax_.plot([0,1],[0,1],ls=':')\n",
    "        fig.tight_layout()\n",
    "        plt.show()"
   ]
  },
  {
   "cell_type": "code",
   "execution_count": null,
   "metadata": {},
   "outputs": [],
   "source": [
    "evaluate_model(model_log, X_train, X_test)"
   ]
  },
  {
   "cell_type": "code",
   "execution_count": null,
   "metadata": {},
   "outputs": [],
   "source": [
    "y.value_counts()"
   ]
  },
  {
   "cell_type": "code",
   "execution_count": null,
   "metadata": {},
   "outputs": [],
   "source": []
  },
  {
   "cell_type": "code",
   "execution_count": null,
   "metadata": {},
   "outputs": [],
   "source": []
  },
  {
   "cell_type": "code",
   "execution_count": null,
   "metadata": {},
   "outputs": [],
   "source": []
  },
  {
   "cell_type": "code",
   "execution_count": null,
   "metadata": {},
   "outputs": [],
   "source": [
    "df_mr = pd.DataFrame()\n",
    "\n",
    "df_mr_columns = [\n",
    "    'PlayerWin',\n",
    "    'Player1',\n",
    "    'Player2',\n",
    "    'Player3',\n",
    "    'Player4',\n",
    "    'Enemy1',\n",
    "    'Enemy2',\n",
    "    'Enemy3',\n",
    "    'Enemy4',\n",
    "]\n",
    "\n",
    "df_mr = pd.DataFrame(columns=df_mr_columns)\n",
    "\n",
    "df_mr"
   ]
  },
  {
   "cell_type": "markdown",
   "metadata": {},
   "source": [
    "### Winner Column"
   ]
  },
  {
   "cell_type": "code",
   "execution_count": null,
   "metadata": {},
   "outputs": [],
   "source": [
    "model_row = {}\n",
    "\n",
    "playerteam = df_match.loc[df_match['Gamertag'] == user, 'TeamId'].values[0]\n",
    "\n",
    "playerteam\n",
    "\n",
    "if data['TeamStats'][0]['Rank'] == 1:\n",
    "    winner = 0\n",
    "else: winner = 1\n",
    "\n",
    "if winner == playerteam:\n",
    "    model_row['PlayerWin'] = 1\n",
    "else:\n",
    "    model_row['PlayerWin'] = 0\n",
    "\n",
    "winner\n",
    "playerteam\n",
    "\n",
    "model_row"
   ]
  },
  {
   "cell_type": "markdown",
   "metadata": {},
   "source": [
    "### Player 1-4"
   ]
  },
  {
   "cell_type": "code",
   "execution_count": null,
   "metadata": {},
   "outputs": [],
   "source": [
    "player_xp_sort = df_match['PrevTotalXP'].loc[df_match['TeamId'] == playerteam].sort_values(ascending=False).values\n",
    "enemy_xp_sort = df_match['PrevTotalXP'].loc[df_match['TeamId'] != playerteam].sort_values(ascending=False).values\n",
    "\n",
    "model_row['Player1'] = player_xp_sort[0]\n",
    "model_row['Player2'] = player_xp_sort[1]\n",
    "model_row['Player3'] = player_xp_sort[2]\n",
    "model_row['Player4'] = player_xp_sort[3]\n",
    "model_row['Enemy1'] = enemy_xp_sort[0]\n",
    "model_row['Enemy2'] = enemy_xp_sort[1]\n",
    "model_row['Enemy3'] = enemy_xp_sort[2]\n",
    "model_row['Enemy4'] = enemy_xp_sort[3]\n",
    "\n",
    "model_row"
   ]
  },
  {
   "cell_type": "code",
   "execution_count": null,
   "metadata": {},
   "outputs": [],
   "source": [
    "df_mr = df_mr.append(model_row, ignore_index=True)\n",
    "\n",
    "df_mr"
   ]
  },
  {
   "cell_type": "code",
   "execution_count": null,
   "metadata": {},
   "outputs": [],
   "source": []
  },
  {
   "cell_type": "code",
   "execution_count": null,
   "metadata": {},
   "outputs": [],
   "source": []
  },
  {
   "cell_type": "code",
   "execution_count": null,
   "metadata": {},
   "outputs": [],
   "source": []
  },
  {
   "cell_type": "code",
   "execution_count": null,
   "metadata": {},
   "outputs": [],
   "source": []
  },
  {
   "cell_type": "code",
   "execution_count": null,
   "metadata": {},
   "outputs": [],
   "source": []
  },
  {
   "cell_type": "code",
   "execution_count": null,
   "metadata": {},
   "outputs": [],
   "source": []
  },
  {
   "cell_type": "code",
   "execution_count": null,
   "metadata": {},
   "outputs": [],
   "source": []
  },
  {
   "cell_type": "code",
   "execution_count": null,
   "metadata": {},
   "outputs": [],
   "source": []
  },
  {
   "cell_type": "code",
   "execution_count": null,
   "metadata": {},
   "outputs": [],
   "source": []
  },
  {
   "cell_type": "code",
   "execution_count": null,
   "metadata": {},
   "outputs": [],
   "source": []
  },
  {
   "cell_type": "code",
   "execution_count": null,
   "metadata": {
    "ExecuteTime": {
     "end_time": "2021-07-01T22:24:06.103769Z",
     "start_time": "2021-07-01T22:23:40.320376Z"
    }
   },
   "outputs": [],
   "source": [
    "dfm = pd.DataFrame(match_details)\n",
    "\n",
    "dfm.to_csv('match_details.csv')"
   ]
  },
  {
   "cell_type": "code",
   "execution_count": null,
   "metadata": {
    "ExecuteTime": {
     "end_time": "2021-06-30T19:30:42.871084Z",
     "start_time": "2021-06-30T19:30:42.855090Z"
    }
   },
   "outputs": [],
   "source": [
    "dfm.drop(['PlayerStats'], axis=1).to_csv('match_details_example3.csv')"
   ]
  },
  {
   "cell_type": "code",
   "execution_count": null,
   "metadata": {
    "ExecuteTime": {
     "end_time": "2021-06-30T19:31:38.219861Z",
     "start_time": "2021-06-30T19:31:38.191871Z"
    }
   },
   "outputs": [],
   "source": [
    "dfm['PlayerStats'].to_csv('match_details_playerstats.csv')"
   ]
  },
  {
   "cell_type": "code",
   "execution_count": null,
   "metadata": {
    "ExecuteTime": {
     "end_time": "2021-07-01T18:23:34.530578Z",
     "start_time": "2021-07-01T18:23:34.254668Z"
    }
   },
   "outputs": [],
   "source": [
    "df_ps = dfm['PlayerStats'].apply(pd.Series)\n",
    "\n",
    "df_ps[0].apply(pd.Series)"
   ]
  },
  {
   "cell_type": "markdown",
   "metadata": {},
   "source": [
    "## Match Events"
   ]
  },
  {
   "cell_type": "code",
   "execution_count": null,
   "metadata": {},
   "outputs": [],
   "source": [
    "########### Python 3.2 #############\n",
    "import http.client, urllib.request, urllib.parse, urllib.error, base64\n",
    "\n",
    "matchId = 'c86a93e7-4842-4443-9b90-875b20e3846e'\n",
    "\n",
    "headers = {\n",
    "    # Request headers\n",
    "    'Ocp-Apim-Subscription-Key': api_key,\n",
    "}\n",
    "\n",
    "params = urllib.parse.urlencode({\n",
    "})\n",
    "\n",
    "try:\n",
    "    conn = http.client.HTTPSConnection('www.haloapi.com')\n",
    "    conn.request(\"GET\", f\"/stats/h5/matches/{matchId}/events?%s\" % params, \"{body}\", headers)\n",
    "    response = conn.getresponse()\n",
    "    data = response.read()\n",
    "    print(data)\n",
    "    conn.close()\n",
    "except Exception as e:\n",
    "    print(\"[Errno {0}] {1}\".format(e.errno, e.strerror))\n",
    "\n",
    "####################################\n"
   ]
  },
  {
   "cell_type": "markdown",
   "metadata": {},
   "source": [
    "## Weapons Meta"
   ]
  },
  {
   "cell_type": "code",
   "execution_count": null,
   "metadata": {},
   "outputs": [],
   "source": [
    "########### Python 3.2 #############\n",
    "import http.client, urllib.request, urllib.parse, urllib.error, base64\n",
    "\n",
    "headers = {\n",
    "    # Request headers\n",
    "    'Accept-Language': 'en',\n",
    "    'Ocp-Apim-Subscription-Key': api_key,\n",
    "}\n",
    "\n",
    "params = urllib.parse.urlencode({\n",
    "})\n",
    "\n",
    "try:\n",
    "    conn = http.client.HTTPSConnection('www.haloapi.com')\n",
    "    conn.request(\"GET\", \"/metadata/h5/metadata/weapons?%s\" % params, \"{body}\", headers)\n",
    "    response = conn.getresponse()\n",
    "    data = response.read()\n",
    "    my_json = data.decode('utf8').replace(\"'\", '\"')\n",
    "    print(data)\n",
    "    conn.close()\n",
    "except Exception as e:\n",
    "    print(\"[Errno {0}] {1}\".format(e.errno, e.strerror))\n",
    "\n",
    "####################################\n"
   ]
  },
  {
   "cell_type": "code",
   "execution_count": null,
   "metadata": {},
   "outputs": [],
   "source": [
    "my_json"
   ]
  },
  {
   "cell_type": "code",
   "execution_count": null,
   "metadata": {
    "scrolled": true
   },
   "outputs": [],
   "source": [
    "[{\"name\":\"Flagnum\",\"description\":null,\"type\":\"Standard\",\"largeIconImageUrl\":\"https://content.halocdn.com/media/Default/games/halo-5-guardians/tools-of-destruction/weapons/flagnum-282503fb5260409a844e29eeae45bbca.png\",\"smallIconImageUrl\":\"https://image.halocdn.com:443/?path=https%3a%2f%2fcontent.halocdn.com%2fmedia%2fDefault%2fgames%2fhalo-5-guardians%2ftools-of-destruction%2fweapons%2fflagnum-282503fb5260409a844e29eeae45bbca.png&width=332&hash=376WQLPQ8ra7Xbij6jhSp6avT3QG3ccjBS%2fKVFs4Efw%3d\",\"isUsableByPlayer\":true,\"id\":\"2244200496\",\"contentId\":\"cc556937-465f-4286-a989-e4ac28e6988b\"},{\"name\":\"Spartan\",\"description\":null,\"type\":\"Unknown\",\"largeIconImageUrl\":\"https://content.halocdn.com/media/Default/games/halo-5-guardians/tools-of-destruction/weapons/spartan-7d33bbefeee740f8a43e3e081a5b7aea.png\",\"smallIconImageUrl\":\"https://image.halocdn.com:443/?path=https%3a%2f%2fcontent.halocdn.com%2fmedia%2fDefault%2fgames%2fhalo-5-guardians%2ftools-of-destruction%2fweapons%2fspartan-7d33bbefeee740f8a43e3e081a5b7aea.png&width=332&hash=dwLka%2fmOgqyoZhE4czunU6Awgo3XClrV1M%2bWFof83rE%3d\",\"isUsableByPlayer\":false,\"id\":\"3168248199\",\"contentId\":\"447b227e-18eb-4060-904a-1cf709638958\"},{\"name\":\"SHADE AA TURRET\",\"description\":\"Shade AA Turret deployable for campaign and warzone\",\"type\":\"Turret\",\"largeIconImageUrl\":\"https://content.halocdn.com/media/Default/games/halo-5-guardians/tools-of-destruction/weapons/shade-plasma-turret-type2-43a3e7bd5506473d8b21db5529132500.png\",\"smallIconImageUrl\":\"https://image.halocdn.com:443/?path=https%3a%2f%2fcontent.halocdn.com%2fmedia%2fDefault%2fgames%2fhalo-5-guardians%2ftools-of-destruction%2fweapons%2fshade-plasma-turret-type2-43a3e7bd5506473d8b21db5529132500.png&width=332&hash=DMp8f6sqvTQQdtdrMktKI8osrwk9VUAwO21qfUV7dtc%3d\",\"isUsableByPlayer\":true,\"id\":\"2989142719\",\"contentId\":\"0a98a07c-51df-44b8-9359-982458bff2ae\"},{\"name\":\"SHADE PLASMA TURRET\",\"description\":\"Shade Plasma Turret deployable for campaign and warzone\",\"type\":\"Turret\",\"largeIconImageUrl\":\"https://content.halocdn.com/media/Default/games/halo-5-guardians/tools-of-destruction/weapons/shade-plasma-turret-a46b99d2048c46f18511568c722ad301.png\",\"smallIconImageUrl\":\"https://image.halocdn.com:443/?path=https%3a%2f%2fcontent.halocdn.com%2fmedia%2fDefault%2fgames%2fhalo-5-guardians%2ftools-of-destruction%2fweapons%2fshade-plasma-turret-a46b99d2048c46f18511568c722ad301.png&width=332&hash=yReKqrjSq2RAGw6N3L4r27Ch0MXbKCaAfgZ5c%2bQTg0w%3d\",\"isUsableByPlayer\":true,\"id\":\"698769165\",\"contentId\":\"8d6b0d58-f536-4685-b19c-0bbe6bd7fc96\"},{\"name\":\"Environmental Explosives\",\"description\":null,\"type\":\"Unknown\",\"largeIconImageUrl\":\"https://content.halocdn.com/media/Default/games/halo-5-guardians/tools-of-destruction/explosives/explosives-040c30c3a5f3402abfb616e7d18c2395.png\",\"smallIconImageUrl\":\"https://image.halocdn.com:443/?path=https%3a%2f%2fcontent.halocdn.com%2fmedia%2fDefault%2fgames%2fhalo-5-guardians%2ftools-of-destruction%2fexplosives%2fexplosives-040c30c3a5f3402abfb616e7d18c2395.png&width=332&hash=tv3HlwTBv5ChH2KebQAHYTNmOo7ADIksqKIhIu6W13M%3d\",\"isUsableByPlayer\":true,\"id\":\"47178948\",\"contentId\":\"fd412929-4a3f-49c0-b392-5521012f33fc\"},{\"name\":\"Gauss Turret\",\"description\":\"Precision anti-tank coilgun.\",\"type\":\"Turret\",\"largeIconImageUrl\":\"https://content.halocdn.com/media/Default/games/halo-5-guardians/tools-of-destruction/weapons/gauss-turret-5f9a751679634bce91a77bf95c7e2d67.png\",\"smallIconImageUrl\":\"https://image.halocdn.com:443/?path=https%3a%2f%2fcontent.halocdn.com%2fmedia%2fDefault%2fgames%2fhalo-5-guardians%2ftools-of-destruction%2fweapons%2fgauss-turret-5f9a751679634bce91a77bf95c7e2d67.png&width=332&hash=ty4y%2f1sEuT8eMQwX6cVXuZ3KL9bAHaf1A0LPabuLpzE%3d\",\"isUsableByPlayer\":true,\"id\":\"4233134183\",\"contentId\":\"cfa92e74-82be-4b25-a0cd-4f7a97f2bf8c\"},{\"name\":\"ROCKET POD TURRET\",\"description\":\"Multirole missile launcher.\",\"type\":\"Turret\",\"largeIconImageUrl\":\"https://content.halocdn.com/media/Default/games/halo-5-guardians/tools-of-destruction/weapons/missile-rocket-turret-12e04f30fdbf4dc2b9a1f37a907f5234.png\",\"smallIconImageUrl\":\"https://image.halocdn.com:443/?path=https%3a%2f%2fcontent.halocdn.com%2fmedia%2fDefault%2fgames%2fhalo-5-guardians%2ftools-of-destruction%2fweapons%2fmissile-rocket-turret-12e04f30fdbf4dc2b9a1f37a907f5234.png&width=332&hash=EuZSiblHWcj3CRx3LzuVo1Fw2jq9HnCS6NOTBPNYkgQ%3d\",\"isUsableByPlayer\":true,\"id\":\"2907783784\",\"contentId\":\"ec137dd1-82d1-4ef4-809a-f838420416c1\"},{\"name\":\"Chaingun Turret\",\"description\":\"Rotary autocannon.\",\"type\":\"Turret\",\"largeIconImageUrl\":\"https://content.halocdn.com/media/Default/games/halo-5-guardians/tools-of-destruction/weapons/chaingun-turret-0cbad9f5d3a74313adba3d6faf43592e.png\",\"smallIconImageUrl\":\"https://image.halocdn.com:443/?path=https%3a%2f%2fcontent.halocdn.com%2fmedia%2fDefault%2fgames%2fhalo-5-guardians%2ftools-of-destruction%2fweapons%2fchaingun-turret-0cbad9f5d3a74313adba3d6faf43592e.png&width=332&hash=P70p8qnHLXmbuf7tPzofDzeiIXYThkFjMB74JqyD0vk%3d\",\"isUsableByPlayer\":true,\"id\":\"2988661926\",\"contentId\":\"fc78a02f-5f48-4134-a5a8-a92e34d9142d\"},{\"name\":\"Incineration Cannon\",\"description\":\"Heavy cannon that fires a powerful energy charge. Main charge spawns submunitions on impact.\",\"type\":\"Power\",\"largeIconImageUrl\":\"https://content.halocdn.com/media/Default/games/halo-5-guardians/tools-of-destruction/weapons/incineration-cannon-2caa0e0e074543c79c9ff8d0fe289752.png\",\"smallIconImageUrl\":\"https://image.halocdn.com:443/?path=https%3a%2f%2fcontent.halocdn.com%2fmedia%2fDefault%2fgames%2fhalo-5-guardians%2ftools-of-destruction%2fweapons%2fincineration-cannon-2caa0e0e074543c79c9ff8d0fe289752.png&width=332&hash=8T1ASpOwRZxeUIlLWGn39KDYwvUNVEYdvHRpe1w%2blVw%3d\",\"isUsableByPlayer\":true,\"id\":\"4086418184\",\"contentId\":\"f26f8097-a383-4038-ba31-70de7b994c73\"},{\"name\":\"Splinter Turret\",\"description\":\"Fires hardlight projectiles that break apart and detonate after impact.\",\"type\":\"Turret\",\"largeIconImageUrl\":\"https://content.halocdn.com/media/Default/games/halo-5-guardians/tools-of-destruction/weapons/splinter-turret-6a1cad04de8a49ea9370d6bf285f9b29.png\",\"smallIconImageUrl\":\"https://image.halocdn.com:443/?path=https%3a%2f%2fcontent.halocdn.com%2fmedia%2fDefault%2fgames%2fhalo-5-guardians%2ftools-of-destruction%2fweapons%2fsplinter-turret-6a1cad04de8a49ea9370d6bf285f9b29.png&width=332&hash=OR%2baWnYY76UZOtWm4BVXMYAPJQquCBFJDlRx47RxoEQ%3d\",\"isUsableByPlayer\":true,\"id\":\"1749823285\",\"contentId\":\"890bf973-addf-45a1-80c9-71fecc38f77f\"},{\"name\":\"UNSC AUTO TURRET\",\"description\":\"UNSC Auto Turret deployable for campaign and warzone\",\"type\":\"Turret\",\"largeIconImageUrl\":\"https://content.halocdn.com/media/Default/games/halo-5-guardians/default-images/default-turret-332x132-c3db09f21ee242589b5277004462d27e.png\",\"smallIconImageUrl\":\"https://image.halocdn.com:443/?path=https%3a%2f%2fcontent.halocdn.com%2fmedia%2fDefault%2fgames%2fhalo-5-guardians%2fdefault-images%2fdefault-turret-332x132-c3db09f21ee242589b5277004462d27e.png&width=332&hash=M89098C3LTFFiK9wiIUdjWSNxlXvoKTGlmRoBEmd6RU%3d\",\"isUsableByPlayer\":false,\"id\":\"2031824349\",\"contentId\":\"65289c8a-cc54-4503-b1aa-29938b20d436\"},{\"name\":\"SCORPION ANTI INFANTRY TURRET\",\"description\":\"Scorpion Infantry Turret deployable for campaign and warzone\",\"type\":\"Turret\",\"largeIconImageUrl\":\"https://content.halocdn.com/media/Default/games/halo-5-guardians/tools-of-destruction/weapons/scorpion-turret-3acbd9d1a40d4f71ba4721b1ac1c230e.png\",\"smallIconImageUrl\":\"https://image.halocdn.com:443/?path=https%3a%2f%2fcontent.halocdn.com%2fmedia%2fDefault%2fgames%2fhalo-5-guardians%2ftools-of-destruction%2fweapons%2fscorpion-turret-3acbd9d1a40d4f71ba4721b1ac1c230e.png&width=332&hash=Vv2qdYARoN%2bkGscXEQz1ntxVZ071UbMVmuVjK3b3xoI%3d\",\"isUsableByPlayer\":true,\"id\":\"244872079\",\"contentId\":\"b504ed6b-8335-477a-9834-42c90b4a2d88\"},{\"name\":\"WRAITH ANTI INFANTRY TURRET\",\"description\":\"Wraith Infantry Turret deployable for campaign and warzone\",\"type\":\"Turret\",\"largeIconImageUrl\":\"https://content.halocdn.com/media/Default/games/halo-5-guardians/tools-of-destruction/weapons/wraith-turret-8c7f77f080f34ab9b5d97509485f9daf.png\",\"smallIconImageUrl\":\"https://image.halocdn.com:443/?path=https%3a%2f%2fcontent.halocdn.com%2fmedia%2fDefault%2fgames%2fhalo-5-guardians%2ftools-of-destruction%2fweapons%2fwraith-turret-8c7f77f080f34ab9b5d97509485f9daf.png&width=332&hash=9F05IIx2%2ffu2ZBYgnsjpLkDp9HToePCOiCtdmwvYhMs%3d\",\"isUsableByPlayer\":true,\"id\":\"1701501807\",\"contentId\":\"c293d75e-4528-44fc-8be2-b3b101bff2bd\"},{\"name\":\"Plasma Caster\",\"description\":\"Fires plasma bolts that can be bounced off terrain to reach targets behind cover. Bolts stick and will chain-detonate when fired using Smart-Link.\",\"type\":\"Power\",\"largeIconImageUrl\":\"https://content.halocdn.com/media/Default/games/halo-5-guardians/tools-of-destruction/weapons/plasma-caster-8373c86c00cb4cffb36f29381d2f1025.png\",\"smallIconImageUrl\":\"https://image.halocdn.com:443/?path=https%3a%2f%2fcontent.halocdn.com%2fmedia%2fDefault%2fgames%2fhalo-5-guardians%2ftools-of-destruction%2fweapons%2fplasma-caster-8373c86c00cb4cffb36f29381d2f1025.png&width=332&hash=FeGzpg78yr5g8uuwCPkC7ZkN2Wie%2f0la8NMDEbBl2VM%3d\",\"isUsableByPlayer\":true,\"id\":\"4054937266\",\"contentId\":\"006861b7-ca17-4032-a998-99ae1cb1fc4f\"},{\"name\":\"FORERUNNER BEAM TURRET\",\"description\":\"Forerunner Beam Turret deployable for campaign and warzone\",\"type\":\"Turret\",\"largeIconImageUrl\":\"https://content.halocdn.com/media/Default/games/halo-5-guardians/default-images/default-turret-332x132-c3db09f21ee242589b5277004462d27e.png\",\"smallIconImageUrl\":\"https://image.halocdn.com:443/?path=https%3a%2f%2fcontent.halocdn.com%2fmedia%2fDefault%2fgames%2fhalo-5-guardians%2fdefault-images%2fdefault-turret-332x132-c3db09f21ee242589b5277004462d27e.png&width=332&hash=M89098C3LTFFiK9wiIUdjWSNxlXvoKTGlmRoBEmd6RU%3d\",\"isUsableByPlayer\":false,\"id\":\"514985629\",\"contentId\":\"f3c11ff9-d960-481b-b733-e7994c001f0f\"},{\"name\":\"SPIRIT CHIN GUN\",\"description\":\"Spirit Chin Gun deployable for campaign and warzone\",\"type\":\"Turret\",\"largeIconImageUrl\":\"https://content.halocdn.com/media/Default/games/halo-5-guardians/tools-of-destruction/weapons/spirit-chain-gun-1884effb163d43bb82b198fdd43dbe11.png\",\"smallIconImageUrl\":\"https://image.halocdn.com:443/?path=https%3a%2f%2fcontent.halocdn.com%2fmedia%2fDefault%2fgames%2fhalo-5-guardians%2ftools-of-destruction%2fweapons%2fspirit-chain-gun-1884effb163d43bb82b198fdd43dbe11.png&width=332&hash=y%2bwojiZdKkre25hosAHW30JWNa87lzts9NruwwzEybs%3d\",\"isUsableByPlayer\":false,\"id\":\"1797509873\",\"contentId\":\"55ae77f4-3111-4d34-a1ae-ee82ef69f6cb\"},{\"name\":\"Carbine\",\"description\":\"Carbine with Holoscope. Versatile semi-automatic rifle renowned for its accuracy and long range. New production models use a streamlined manufacturing process and reactive materials in place of radioisotopes for coating projectiles.\",\"type\":\"Standard\",\"largeIconImageUrl\":\"https://content.halocdn.com/media/Default/games/halo-5-guardians/tools-of-destruction/weapons/covenant-carbine-30811039456f475f805eaa52762820b0.png\",\"smallIconImageUrl\":\"https://image.halocdn.com:443/?path=https%3a%2f%2fcontent.halocdn.com%2fmedia%2fDefault%2fgames%2fhalo-5-guardians%2ftools-of-destruction%2fweapons%2fcovenant-carbine-30811039456f475f805eaa52762820b0.png&width=332&hash=Zin20muBr8qdP73e6MEp23Qwug0dAaImKkcxtX%2b1xgA%3d\",\"isUsableByPlayer\":true,\"id\":\"4108759423\",\"contentId\":\"a32d5b79-aa24-4897-8850-55ffc7450d6e\"},{\"name\":\"PHANTOM CHIN GUN\",\"description\":\"Phantom Chin Gun deployable for campaign and warzone\",\"type\":\"Turret\",\"largeIconImageUrl\":\"https://content.halocdn.com/media/Default/games/halo-5-guardians/tools-of-destruction/weapons/phantom-chin-gun-a446b325e7494d29a8cabe7e693548da.png\",\"smallIconImageUrl\":\"https://image.halocdn.com:443/?path=https%3a%2f%2fcontent.halocdn.com%2fmedia%2fDefault%2fgames%2fhalo-5-guardians%2ftools-of-destruction%2fweapons%2fphantom-chin-gun-a446b325e7494d29a8cabe7e693548da.png&width=332&hash=GszX%2ffGgOqVHYsp40W8g1IdLn6sxFh%2bbHtqrtcNs0aQ%3d\",\"isUsableByPlayer\":false,\"id\":\"3717288512\",\"contentId\":\"1b15c7be-a807-460a-987a-60037c346b9b\"},{\"name\":\"LightRifle\",\"description\":\"Accurate and powerful, LightRifles were the standard-issue weapon of ancient Promethean warriors.\",\"type\":\"Standard\",\"largeIconImageUrl\":\"https://content.halocdn.com/media/Default/games/halo-5-guardians/tools-of-destruction/weapons/light-rifle-0c9fc99241fc414a85d6e210fed36d04.png\",\"smallIconImageUrl\":\"https://image.halocdn.com:443/?path=https%3a%2f%2fcontent.halocdn.com%2fmedia%2fDefault%2fgames%2fhalo-5-guardians%2ftools-of-destruction%2fweapons%2flight-rifle-0c9fc99241fc414a85d6e210fed36d04.png&width=332&hash=tIJEZDRfA5lPq2QmM6Ql66UCCyNFECIxJXWqlSFDJLE%3d\",\"isUsableByPlayer\":true,\"id\":\"2511447508\",\"contentId\":\"59026c44-1498-4580-99ef-c45fad75bc12\"},{\"name\":\"Storm Rifle\",\"description\":\"Rapid-fire plasma rifle effective out to medium range when Smart-Link is engaged. Sustained fire can temporarily overheat the weapon.\",\"type\":\"Standard\",\"largeIconImageUrl\":\"https://content.halocdn.com/media/Default/games/halo-5-guardians/tools-of-destruction/weapons/covenant-storm-rifle-a440460289a54237832d39becaaf0046.png\",\"smallIconImageUrl\":\"https://image.halocdn.com:443/?path=https%3a%2f%2fcontent.halocdn.com%2fmedia%2fDefault%2fgames%2fhalo-5-guardians%2ftools-of-destruction%2fweapons%2fcovenant-storm-rifle-a440460289a54237832d39becaaf0046.png&width=332&hash=BdfDk%2fhQyjjfC3cPrWYvadmKNtKU5fLlKyuj1QhlSRA%3d\",\"isUsableByPlayer\":true,\"id\":\"2133511419\",\"contentId\":\"611e61ad-5b14-4631-8eef-f8bb6a14b1f0\"},{\"name\":\"Binary Rifle\",\"description\":\"Semi-automatic sniper energy rifle with variable-zoom 4x/9x optics. Use Smart-Link when engaging targets at long range.\",\"type\":\"Power\",\"largeIconImageUrl\":\"https://content.halocdn.com/media/Default/games/halo-5-guardians/tools-of-destruction/weapons/binary-rifle-79e0c4a1283641bda007e0d861ded31b.png\",\"smallIconImageUrl\":\"https://image.halocdn.com:443/?path=https%3a%2f%2fcontent.halocdn.com%2fmedia%2fDefault%2fgames%2fhalo-5-guardians%2ftools-of-destruction%2fweapons%2fbinary-rifle-79e0c4a1283641bda007e0d861ded31b.png&width=332&hash=s0YVJm3ACjKC2uS31lvIGShLBOn9BXeLOxeskO0xeLA%3d\",\"isUsableByPlayer\":true,\"id\":\"2140505068\",\"contentId\":\"5130eeaa-d67e-4001-a548-20408dffe0d8\"},{\"name\":\"Plasma Pistol\",\"description\":\"Semi-automatic energy pistol that fires packets of superheated plasma. Holding down the trigger, then releasing, will fire a tracking overcharge shot with an EMP effect that will disable vehicles and knock out shields.\",\"type\":\"Standard\",\"largeIconImageUrl\":\"https://content.halocdn.com/media/Default/games/halo-5-guardians/tools-of-destruction/weapons/plasma-pistol-1a65716f9b894b8496b501c69b4c05d9.png\",\"smallIconImageUrl\":\"https://image.halocdn.com:443/?path=https%3a%2f%2fcontent.halocdn.com%2fmedia%2fDefault%2fgames%2fhalo-5-guardians%2ftools-of-destruction%2fweapons%2fplasma-pistol-1a65716f9b894b8496b501c69b4c05d9.png&width=332&hash=EXTEQAQlvspdmk0AJWHxJfJKVBhejMoyiZPWQjzN0Ro%3d\",\"isUsableByPlayer\":true,\"id\":\"524558978\",\"contentId\":\"c8dd731b-0766-4315-8ec0-8922f40cc101\"},{\"name\":\"Scorpion\",\"description\":\"Main battle tank armed with a heavy cannon and pintle-mounted heavy machine gun. This new iteration of the storied Scorpion is half the mass of the old M808 yet has nearly identical firepower and armor protection.\",\"type\":\"Vehicle\",\"largeIconImageUrl\":\"https://content.halocdn.com/media/Default/games/halo-5-guardians/tools-of-destruction/vehicles/scorpion-6c7fb074aa1c42549a765a294e78c3c7.png\",\"smallIconImageUrl\":\"https://image.halocdn.com:443/?path=https%3a%2f%2fcontent.halocdn.com%2fmedia%2fDefault%2fgames%2fhalo-5-guardians%2ftools-of-destruction%2fvehicles%2fscorpion-6c7fb074aa1c42549a765a294e78c3c7.png&width=332&hash=%2fCkx7J14PgzU9QjJ5ndSwhhMk0%2bTZa6nlpEndWfyTHc%3d\",\"isUsableByPlayer\":true,\"id\":\"1730553442\",\"contentId\":\"c7e2f6aa-b86c-4131-b5d7-71bb35fcd0c4\"},{\"name\":\"Suppressor\",\"description\":\"Fully-automatic energy rifle effective at short range. Accuracy significantly improves when using Smart-Link.\",\"type\":\"Standard\",\"largeIconImageUrl\":\"https://content.halocdn.com/media/Default/games/halo-5-guardians/tools-of-destruction/weapons/suppressor-5ee536381da34f48abb542a29a51a898.png\",\"smallIconImageUrl\":\"https://image.halocdn.com:443/?path=https%3a%2f%2fcontent.halocdn.com%2fmedia%2fDefault%2fgames%2fhalo-5-guardians%2ftools-of-destruction%2fweapons%2fsuppressor-5ee536381da34f48abb542a29a51a898.png&width=332&hash=wJMTrh6lL7uesgj0OU9W3Cene%2fInCVHLAd5ZUUMK5Lg%3d\",\"isUsableByPlayer\":true,\"id\":\"2681172411\",\"contentId\":\"fc839d35-d0e3-4234-b9ff-70c428d8cca7\"},{\"name\":\"Phaeton\",\"description\":null,\"type\":\"Vehicle\",\"largeIconImageUrl\":\"https://content.halocdn.com/media/Default/games/halo-5-guardians/tools-of-destruction/vehicles/vtol-5c02f48bfdf246c0aab7f738687b5744.png\",\"smallIconImageUrl\":\"https://image.halocdn.com:443/?path=https%3a%2f%2fcontent.halocdn.com%2fmedia%2fDefault%2fgames%2fhalo-5-guardians%2ftools-of-destruction%2fvehicles%2fvtol-5c02f48bfdf246c0aab7f738687b5744.png&width=332&hash=p%2b56GNOiSUDlhjfn%2ffB2d457Le7Vdw752wer9fGX0Ts%3d\",\"isUsableByPlayer\":true,\"id\":\"3394982816\",\"contentId\":\"011cd325-c192-477c-8767-23b99546031d\"},{\"name\":\"Boltshot\",\"description\":\"Burst-fire energy pistol. Bolts home-in on close range targets. This new functionality appears to be related to other adaptations the Prometheans have displayed since the disappearance of the Didact.\",\"type\":\"Standard\",\"largeIconImageUrl\":\"https://content.halocdn.com/media/Default/games/halo-5-guardians/tools-of-destruction/weapons/boltshot-c9cdbdb343524915b1d80bc8b3047286.png\",\"smallIconImageUrl\":\"https://image.halocdn.com:443/?path=https%3a%2f%2fcontent.halocdn.com%2fmedia%2fDefault%2fgames%2fhalo-5-guardians%2ftools-of-destruction%2fweapons%2fboltshot-c9cdbdb343524915b1d80bc8b3047286.png&width=332&hash=ufVTmfMPj5xIOpOyGMEn%2fV6Pa5Qb5%2b%2fb%2b520Px3XAX0%3d\",\"isUsableByPlayer\":true,\"id\":\"4153405209\",\"contentId\":\"4ead2f3c-c9ba-41d0-bf69-a3ac1d4b4e32\"},{\"name\":\"Mantis\",\"description\":\"Combat walker armed with heavy machine gun and missile launcher. Missiles can lock-on to aerial targets. Melee unleashes a devastating stomp attack. Extended use of the heavy machine gun will cause it to overheat.\",\"type\":\"Vehicle\",\"largeIconImageUrl\":\"https://content.halocdn.com/media/Default/games/halo-5-guardians/tools-of-destruction/vehicles/mantis-88bcd6e59a3d469aa380620309a5e8a5.png\",\"smallIconImageUrl\":\"https://image.halocdn.com:443/?path=https%3a%2f%2fcontent.halocdn.com%2fmedia%2fDefault%2fgames%2fhalo-5-guardians%2ftools-of-destruction%2fvehicles%2fmantis-88bcd6e59a3d469aa380620309a5e8a5.png&width=332&hash=bQ58hOrEtc%2b3XuXpGvrmzK31OhA5Ctt8mUlqXZ%2bMmRU%3d\",\"isUsableByPlayer\":true,\"id\":\"3227919741\",\"contentId\":\"71347094-6fdb-437a-862c-59db1b936aa6\"},{\"name\":\"Banshee\",\"description\":\"Agile ground attack aircraft. Armed with rapid-fire plasma cannons and secondary fuel rod cannon. Can perform acrobatic rolls and loops or high-speed boosts.\",\"type\":\"Vehicle\",\"largeIconImageUrl\":\"https://content.halocdn.com/media/Default/games/halo-5-guardians/tools-of-destruction/vehicles/banshee-9626ac8f343644f3a592a0b7d49faac6.png\",\"smallIconImageUrl\":\"https://image.halocdn.com:443/?path=https%3a%2f%2fcontent.halocdn.com%2fmedia%2fDefault%2fgames%2fhalo-5-guardians%2ftools-of-destruction%2fvehicles%2fbanshee-9626ac8f343644f3a592a0b7d49faac6.png&width=332&hash=%2bwTKTSuyqU6fPV%2f0JYmjU2YOh4SvpWEcKMVyHF7gL3U%3d\",\"isUsableByPlayer\":true,\"id\":\"419783896\",\"contentId\":\"91fafc39-ee57-4ae7-ad93-b36e6ac34561\"},{\"name\":\"Wraith\",\"description\":\"Assault tank armed with a heavy plasma mortar and pintle-mounted plasma cannon. Can boost for quick sprints. The latest Wraith revisits an ancient Sangheili design that is easier to manufacture and less costly to lose.\",\"type\":\"Vehicle\",\"largeIconImageUrl\":\"https://content.halocdn.com/media/Default/games/halo-5-guardians/tools-of-destruction/vehicles/wraith-bd8975a1a57348a2b8a2588e9a5040f1.png\",\"smallIconImageUrl\":\"https://image.halocdn.com:443/?path=https%3a%2f%2fcontent.halocdn.com%2fmedia%2fDefault%2fgames%2fhalo-5-guardians%2ftools-of-destruction%2fvehicles%2fwraith-bd8975a1a57348a2b8a2588e9a5040f1.png&width=332&hash=vr34Tpz64SEzQReJpo2bu0kn5bBSbyOGwpDwCXhzF0M%3d\",\"isUsableByPlayer\":true,\"id\":\"1206711506\",\"contentId\":\"c12685a5-956c-483b-8254-70765a23d863\"},{\"name\":\"Warthog\",\"description\":\"Warthog armed reconnaissance configuration fitted with a rotary autocannon on a full-rotation turret mount. \",\"type\":\"Vehicle\",\"largeIconImageUrl\":\"https://content.halocdn.com/media/Default/games/halo-5-guardians/tools-of-destruction/vehicles/warthog-951f2406dea44d229662df881d89272e.png\",\"smallIconImageUrl\":\"https://image.halocdn.com:443/?path=https%3a%2f%2fcontent.halocdn.com%2fmedia%2fDefault%2fgames%2fhalo-5-guardians%2ftools-of-destruction%2fvehicles%2fwarthog-951f2406dea44d229662df881d89272e.png&width=332&hash=fgVOMTjIBBWxAMSe5%2bGu6VRwzTrdizeFN7F6YDNtbMw%3d\",\"isUsableByPlayer\":true,\"id\":\"4028516791\",\"contentId\":\"4dcc7ed4-6d15-4170-bad2-fdf28705fbae\"},{\"name\":\"Assault Rifle\",\"description\":\"Assault Rifle with Projection Sight. Standard-issue fully-automatic rifle effective at short to medium range.\",\"type\":\"Standard\",\"largeIconImageUrl\":\"https://content.halocdn.com/media/Default/games/halo-5-guardians/tools-of-destruction/weapons/assault-rifle-72bb6004e7804715935013ca745cadb9.png\",\"smallIconImageUrl\":\"https://image.halocdn.com:443/?path=https%3a%2f%2fcontent.halocdn.com%2fmedia%2fDefault%2fgames%2fhalo-5-guardians%2ftools-of-destruction%2fweapons%2fassault-rifle-72bb6004e7804715935013ca745cadb9.png&width=332&hash=5aSvHLqf3tm3VL4EyZXk9WkfZAD%2fwaVy2T22GduWhqw%3d\",\"isUsableByPlayer\":true,\"id\":\"313138863\",\"contentId\":\"9f00429a-687a-4e0e-8690-cde5ba010bcf\"},{\"name\":\"SMG\",\"description\":\"SMG with CQB Sight. Rapid fire submachine gun best suited for close-quarters combat while leveraging Smart-Link.\",\"type\":\"Standard\",\"largeIconImageUrl\":\"https://content.halocdn.com/media/Default/games/halo-5-guardians/tools-of-destruction/weapons/smg-74d80a6bc14c4c64aa08db838e775db7.png\",\"smallIconImageUrl\":\"https://image.halocdn.com:443/?path=https%3a%2f%2fcontent.halocdn.com%2fmedia%2fDefault%2fgames%2fhalo-5-guardians%2ftools-of-destruction%2fweapons%2fsmg-74d80a6bc14c4c64aa08db838e775db7.png&width=332&hash=6Ikf%2fFGrIZ8eeJfpuA6Ti%2bn5cdzoFu66S4ctCjr3RZo%3d\",\"isUsableByPlayer\":true,\"id\":\"723388907\",\"contentId\":\"5d4f4df8-9684-40d8-9d25-a15481a1047f\"},{\"name\":\"Scattershot\",\"description\":\"Short-range semi-automatic energy shotgun. Energy projectiles ricochet off hard surfaces and exhibit homing behavior.\",\"type\":\"Power\",\"largeIconImageUrl\":\"https://content.halocdn.com/media/Default/games/halo-5-guardians/tools-of-destruction/weapons/scattershot-7453d1d0f9a149dfb2649675322780cd.png\",\"smallIconImageUrl\":\"https://image.halocdn.com:443/?path=https%3a%2f%2fcontent.halocdn.com%2fmedia%2fDefault%2fgames%2fhalo-5-guardians%2ftools-of-destruction%2fweapons%2fscattershot-7453d1d0f9a149dfb2649675322780cd.png&width=332&hash=cAtlmS3kBkUWiC8goxDP4DPNo%2f%2ffLsK2ojbQhNKQL6Y%3d\",\"isUsableByPlayer\":true,\"id\":\"3808094875\",\"contentId\":\"6e033e34-9ebe-4120-9abb-59c5d55159e0\"},{\"name\":\"Ghost\",\"description\":\"Fast attack bike fitted with dual rapid-fire plasma cannons. Can boost for extra speed, at the expense of maneuverability.\",\"type\":\"Vehicle\",\"largeIconImageUrl\":\"https://content.halocdn.com/media/Default/games/halo-5-guardians/tools-of-destruction/vehicles/ghost-3d8125d531f14b5499eb203bb6689c19.png\",\"smallIconImageUrl\":\"https://image.halocdn.com:443/?path=https%3a%2f%2fcontent.halocdn.com%2fmedia%2fDefault%2fgames%2fhalo-5-guardians%2ftools-of-destruction%2fvehicles%2fghost-3d8125d531f14b5499eb203bb6689c19.png&width=332&hash=8iIZszbCW4BymoY%2ftsU02sVjy9k1RPVcIR9WPhE%2bNLA%3d\",\"isUsableByPlayer\":true,\"id\":\"3010146366\",\"contentId\":\"d760ed2e-8b55-44c0-9b47-fc5c8d44910d\"},{\"name\":\"Railgun\",\"description\":\"Powerful single-shot coilgun that requires a short charge cycle before firing. Will automatically fire if the charge is held for too long.\",\"type\":\"Power\",\"largeIconImageUrl\":\"https://content.halocdn.com/media/Default/games/halo-5-guardians/tools-of-destruction/weapons/railgun-ce34452629a74a0899a091f0f2e52f89.png\",\"smallIconImageUrl\":\"https://image.halocdn.com:443/?path=https%3a%2f%2fcontent.halocdn.com%2fmedia%2fDefault%2fgames%2fhalo-5-guardians%2ftools-of-destruction%2fweapons%2frailgun-ce34452629a74a0899a091f0f2e52f89.png&width=332&hash=eh%2b4lDppbLwobJ7CtqVzSGgfvCv7qVABYIqP%2fq3QMCs%3d\",\"isUsableByPlayer\":true,\"id\":\"3682788176\",\"contentId\":\"c5fe5ab1-6583-443f-abc6-4c513847fdd1\"},{\"name\":\"Mongoose\",\"description\":\"Heavy-duty all-terrain quad bike. A passenger can be accommodated on the rear-facing seat. \",\"type\":\"Vehicle\",\"largeIconImageUrl\":\"https://content.halocdn.com/media/Default/games/halo-5-guardians/tools-of-destruction/vehicles/wargoose-6bfb5d0d8ff34c67ac7537dbecea9f59.png\",\"smallIconImageUrl\":\"https://image.halocdn.com:443/?path=https%3a%2f%2fcontent.halocdn.com%2fmedia%2fDefault%2fgames%2fhalo-5-guardians%2ftools-of-destruction%2fvehicles%2fwargoose-6bfb5d0d8ff34c67ac7537dbecea9f59.png&width=332&hash=Alksbp7GujgkvJ5tsRpgWqCOoUqpeIvuRAY9Y9dFWRk%3d\",\"isUsableByPlayer\":true,\"id\":\"1063919886\",\"contentId\":\"f9b11bd7-7959-4639-94de-a9df329579a5\"},{\"name\":\"Hydra Launcher\",\"description\":\"Portable mini-missile launcher. Use Smart-Link to lock-on to targets before firing.\",\"type\":\"Power\",\"largeIconImageUrl\":\"https://content.halocdn.com/media/Default/games/halo-5-guardians/tools-of-destruction/weapons/hydra-ae5ed76d25b048dd98ca20efd8818935.png\",\"smallIconImageUrl\":\"https://image.halocdn.com:443/?path=https%3a%2f%2fcontent.halocdn.com%2fmedia%2fDefault%2fgames%2fhalo-5-guardians%2ftools-of-destruction%2fweapons%2fhydra-ae5ed76d25b048dd98ca20efd8818935.png&width=332&hash=Igp%2bCCVwYELH%2biLOj8nQjtUFtI0%2fb7WO7XQ96mvNiZk%3d\",\"isUsableByPlayer\":true,\"id\":\"1579758889\",\"contentId\":\"0dd40ad7-9120-4fdf-881a-ecda58fedff3\"},{\"name\":\"Spartan Laser\",\"description\":\"Anti-vehicle laser. Requires a short warmup time before firing.\",\"type\":\"Power\",\"largeIconImageUrl\":\"https://content.halocdn.com/media/Default/games/halo-5-guardians/tools-of-destruction/weapons/spartan-laser-1dce3448ef73469ab8f9e2d38c9d531c.png\",\"smallIconImageUrl\":\"https://image.halocdn.com:443/?path=https%3a%2f%2fcontent.halocdn.com%2fmedia%2fDefault%2fgames%2fhalo-5-guardians%2ftools-of-destruction%2fweapons%2fspartan-laser-1dce3448ef73469ab8f9e2d38c9d531c.png&width=332&hash=dmKMiRo6bmqIWsY%2btMFku6K4YsmlBhWyd2wQMGe8hsA%3d\",\"isUsableByPlayer\":true,\"id\":\"3885603197\",\"contentId\":\"7f28cc32-55a6-4bce-ae30-8703ac50f2e3\"},{\"name\":\"Needler\",\"description\":\"Exotic weapon which fires shards that home in on short-range targets. If multiple shards strike a target they will detonate - creating a \\\\\"supercombine\\\\\" explosion. Will bounce off heavy armor, such as that used by vehicles and Hunters.\",\"type\":\"Power\",\"largeIconImageUrl\":\"https://content.halocdn.com/media/Default/games/halo-5-guardians/tools-of-destruction/weapons/needler-5690d414b19a4b2d83be15baaffa2fe9.png\",\"smallIconImageUrl\":\"https://image.halocdn.com:443/?path=https%3a%2f%2fcontent.halocdn.com%2fmedia%2fDefault%2fgames%2fhalo-5-guardians%2ftools-of-destruction%2fweapons%2fneedler-5690d414b19a4b2d83be15baaffa2fe9.png&width=332&hash=N00LDPlPB5dg3BgRm%2fDef2bQs8MR0c4DJsEeAtIR5ck%3d\",\"isUsableByPlayer\":true,\"id\":\"2050745863\",\"contentId\":\"f6c599f2-2c86-447d-944d-fa604b17136a\"},{\"name\":\"Shotgun\",\"description\":\"Short-ranged semi-automatic shotgun. Get up-close and personal to maximize damage.\",\"type\":\"Power\",\"largeIconImageUrl\":\"https://content.halocdn.com/media/Default/games/halo-5-guardians/tools-of-destruction/weapons/shotgun-35bca45ecb8440479bfbab9e075f4302.png\",\"smallIconImageUrl\":\"https://image.halocdn.com:443/?path=https%3a%2f%2fcontent.halocdn.com%2fmedia%2fDefault%2fgames%2fhalo-5-guardians%2ftools-of-destruction%2fweapons%2fshotgun-35bca45ecb8440479bfbab9e075f4302.png&width=332&hash=aRRxaPLRsA9%2bxwd5%2fA43ghuA0p7jr3L9mX0TtUI8bIo%3d\",\"isUsableByPlayer\":true,\"id\":\"3484334713\",\"contentId\":\"39c25783-6a10-4b13-a586-546eae1c99bc\"},{\"name\":\"SAW\",\"description\":\"Rapid-fire light machine gun with a large ammo capacity.\",\"type\":\"Power\",\"largeIconImageUrl\":\"https://content.halocdn.com/media/Default/games/halo-5-guardians/tools-of-destruction/weapons/saw-0f3ee44a215d4a57b6e578cd760a3fb0.png\",\"smallIconImageUrl\":\"https://image.halocdn.com:443/?path=https%3a%2f%2fcontent.halocdn.com%2fmedia%2fDefault%2fgames%2fhalo-5-guardians%2ftools-of-destruction%2fweapons%2fsaw-0f3ee44a215d4a57b6e578cd760a3fb0.png&width=332&hash=pfWvwfHvmhEmIgcc2SJ2hfon7EHNIAwJwECLlAayPps%3d\",\"isUsableByPlayer\":true,\"id\":\"2278207101\",\"contentId\":\"93970223-4c24-4c73-9ce0-af44299e529d\"},{\"name\":\"Fuel Rod Cannon\",\"description\":\"Magazine-fed, shoulder-fired heavy weapon that fires explosive fuel rods. Modern fuel rod cannons are significantly more accurate than those used by the old Covenant; a refinement sourced from the multi-species workshops on Venezia.\",\"type\":\"Power\",\"largeIconImageUrl\":\"https://content.halocdn.com/media/Default/games/halo-5-guardians/tools-of-destruction/weapons/fuel-rod-cannon-041deffe5b6e4ca283e10b2d3cc734df.png\",\"smallIconImageUrl\":\"https://image.halocdn.com:443/?path=https%3a%2f%2fcontent.halocdn.com%2fmedia%2fDefault%2fgames%2fhalo-5-guardians%2ftools-of-destruction%2fweapons%2ffuel-rod-cannon-041deffe5b6e4ca283e10b2d3cc734df.png&width=332&hash=2V1VcxW79vt%2f8BddOjOIN3V2JKaXX%2bmHelsB%2bdEfO7k%3d\",\"isUsableByPlayer\":true,\"id\":\"2670072722\",\"contentId\":\"1e4a8790-77cd-4106-9047-5ba66053e4fc\"},{\"name\":\"FRAG GRENADE\",\"description\":\"Frag grenade deployable for campaign\",\"type\":\"Grenade\",\"largeIconImageUrl\":\"https://content.halocdn.com/media/Default/games/halo-5-guardians/tools-of-destruction/weapons/frag-grenade-475ae914b9154a0fad1097e1bd93705c.png\",\"smallIconImageUrl\":\"https://image.halocdn.com:443/?path=https%3a%2f%2fcontent.halocdn.com%2fmedia%2fDefault%2fgames%2fhalo-5-guardians%2ftools-of-destruction%2fweapons%2ffrag-grenade-475ae914b9154a0fad1097e1bd93705c.png&width=332&hash=NoUz5nJ9pJWI4daAx%2b%2fGpb%2f1bxmeSqBBrZ0Q3Ue1rcE%3d\",\"isUsableByPlayer\":true,\"id\":\"4106030681\",\"contentId\":\"2355c403-e88b-4897-9698-e731cfdaf8d7\"},{\"name\":\"Energy Sword\",\"description\":\"Deadly plasma-based melee weapon. Successful strikes deplete the sword\"s limited energy charge.\",\"type\":\"Power\",\"largeIconImageUrl\":\"https://content.halocdn.com/media/Default/games/halo-5-guardians/tools-of-destruction/weapons/energy-sword-2c1b6748e5bc4354b832d9369fe814bc.png\",\"smallIconImageUrl\":\"https://image.halocdn.com:443/?path=https%3a%2f%2fcontent.halocdn.com%2fmedia%2fDefault%2fgames%2fhalo-5-guardians%2ftools-of-destruction%2fweapons%2fenergy-sword-2c1b6748e5bc4354b832d9369fe814bc.png&width=332&hash=91cKKp6Ay7GfyEHB4r8nRvzZplD7nl1mCLFx21HjJro%3d\",\"isUsableByPlayer\":true,\"id\":\"2650887244\",\"contentId\":\"d83e562a-5cef-4e86-8231-b1f5ee4e710b\"},{\"name\":\"Beam Rifle\",\"description\":\"Long-range semi-automatic energy rifle with variable-zoom 4x/10x optics. Use Smart-Link to line up headshots for one-shot kills.\",\"type\":\"Power\",\"largeIconImageUrl\":\"https://content.halocdn.com/media/Default/games/halo-5-guardians/tools-of-destruction/weapons/beam-rifle-3a4d95cd93a94895a23b217d812f8c7d.png\",\"smallIconImageUrl\":\"https://image.halocdn.com:443/?path=https%3a%2f%2fcontent.halocdn.com%2fmedia%2fDefault%2fgames%2fhalo-5-guardians%2ftools-of-destruction%2fweapons%2fbeam-rifle-3a4d95cd93a94895a23b217d812f8c7d.png&width=332&hash=oh4MRfkENVebE%2bbbqj2jIWI%2bnz1D0fPyGzkcXUf2%2b7k%3d\",\"isUsableByPlayer\":true,\"id\":\"2862629816\",\"contentId\":\"8d299779-5e9b-4273-aecf-b5727c62fcd7\"},{\"name\":\"SPLINTER GRENADE\",\"description\":\"Splinter grenade deployable for campaign\",\"type\":\"Grenade\",\"largeIconImageUrl\":\"https://content.halocdn.com/media/Default/games/halo-5-guardians/tools-of-destruction/weapons/splinter-grenade-a3734115247e4709af0ab1f53a9c6a55.png\",\"smallIconImageUrl\":\"https://image.halocdn.com:443/?path=https%3a%2f%2fcontent.halocdn.com%2fmedia%2fDefault%2fgames%2fhalo-5-guardians%2ftools-of-destruction%2fweapons%2fsplinter-grenade-a3734115247e4709af0ab1f53a9c6a55.png&width=332&hash=h03UgF2mSwcB3o56FpX5%2bj3Q1N5dfjsCh17Ur%2bSOtw0%3d\",\"isUsableByPlayer\":true,\"id\":\"3190813201\",\"contentId\":\"4eb8f0d1-4c77-438b-9719-c450b3b875db\"},{\"name\":\"DMR\",\"description\":\"DMR with Longshot Sight. Powerful and accurate semi-automatic rifle best used at mid to long-range.\",\"type\":\"Standard\",\"largeIconImageUrl\":\"https://content.halocdn.com/media/Default/games/halo-5-guardians/tools-of-destruction/weapons/dmr-13a45fa2ad074b5cb70a0ef81f36f0e1.png\",\"smallIconImageUrl\":\"https://image.halocdn.com:443/?path=https%3a%2f%2fcontent.halocdn.com%2fmedia%2fDefault%2fgames%2fhalo-5-guardians%2ftools-of-destruction%2fweapons%2fdmr-13a45fa2ad074b5cb70a0ef81f36f0e1.png&width=332&hash=WDK4RgJy%2blGjzyU1%2fCeHy5MjHgisKjGLvk0%2fZxFoj%2fE%3d\",\"isUsableByPlayer\":true,\"id\":\"523953283\",\"contentId\":\"71a5cf7d-c8f1-4ab5-8771-1854338bbb85\"},{\"name\":\"PLASMA GRENADE\",\"description\":\"Plasma grenade deployable for campaign\",\"type\":\"Grenade\",\"largeIconImageUrl\":\"https://content.halocdn.com/media/Default/games/halo-5-guardians/tools-of-destruction/weapons/plasma-grenade-e63ed2a67258459882ea3d73ca173237.png\",\"smallIconImageUrl\":\"https://image.halocdn.com:443/?path=https%3a%2f%2fcontent.halocdn.com%2fmedia%2fDefault%2fgames%2fhalo-5-guardians%2ftools-of-destruction%2fweapons%2fplasma-grenade-e63ed2a67258459882ea3d73ca173237.png&width=332&hash=zhaeCiBVuRlstZfXhYcfmtur5N8W7r3HXnpMBMECvhA%3d\",\"isUsableByPlayer\":true,\"id\":\"2460880172\",\"contentId\":\"a1ede5b9-3819-42d3-a3b3-a276571547a2\"},{\"name\":\"Sniper Rifle\",\"description\":\"Semi-automatic multi-role heavy rifle with variable-zoom 4x/9x optics. Best used at long range in conjunction with Smart-Link.\",\"type\":\"Power\",\"largeIconImageUrl\":\"https://content.halocdn.com/media/Default/games/halo-5-guardians/tools-of-destruction/weapons/sniper-rifle-b6d462a6c57d4297953d12e93e468053.png\",\"smallIconImageUrl\":\"https://image.halocdn.com:443/?path=https%3a%2f%2fcontent.halocdn.com%2fmedia%2fDefault%2fgames%2fhalo-5-guardians%2ftools-of-destruction%2fweapons%2fsniper-rifle-b6d462a6c57d4297953d12e93e468053.png&width=332&hash=BiMAWO4c0GfjEiyp%2fYMyGApujlhorPHFr8tEr49q02Y%3d\",\"isUsableByPlayer\":true,\"id\":\"669296699\",\"contentId\":\"22cad0dc-8af0-44d2-8654-f80a0c231955\"},{\"name\":\"Rocket Launcher\",\"description\":\"Shoulder-fired heavy weapon widely issued to UNSC Army, Marine Corps, and Spartan infantry to counter enemy vehicles and Promethean Knights. Can fire two missiles per magazine. Lock-on to air targets using Smart-Link before firing.\",\"type\":\"Power\",\"largeIconImageUrl\":\"https://content.halocdn.com/media/Default/games/halo-5-guardians/tools-of-destruction/weapons/rocket-launcher-fc1d373704564123ae76cf41de665d18.png\",\"smallIconImageUrl\":\"https://image.halocdn.com:443/?path=https%3a%2f%2fcontent.halocdn.com%2fmedia%2fDefault%2fgames%2fhalo-5-guardians%2ftools-of-destruction%2fweapons%2frocket-launcher-fc1d373704564123ae76cf41de665d18.png&width=332&hash=87HtwFUlzN7GoQu%2bEeySijltY9fM79i7XpN1B%2bPvvaw%3d\",\"isUsableByPlayer\":true,\"id\":\"723523180\",\"contentId\":\"f4aa9fab-fc38-4cbe-a777-0d6eab03bcc4\"},{\"name\":\"Magnum\",\"description\":\"Magnum with Projection Sight. Standard-issue semi-automatic heavy pistol. Use Smart-Link and call your shots.\",\"type\":\"Standard\",\"largeIconImageUrl\":\"https://content.halocdn.com/media/Default/games/halo-5-guardians/tools-of-destruction/weapons/magnum-d98e366992d4489bbb34e75e1ad7c2f6.png\",\"smallIconImageUrl\":\"https://image.halocdn.com:443/?path=https%3a%2f%2fcontent.halocdn.com%2fmedia%2fDefault%2fgames%2fhalo-5-guardians%2ftools-of-destruction%2fweapons%2fmagnum-d98e366992d4489bbb34e75e1ad7c2f6.png&width=332&hash=T2cr3zTZxUhcD7EWVZMgThYlYG%2brBbbZd2z8rp2dMz0%3d\",\"isUsableByPlayer\":true,\"id\":\"4096745987\",\"contentId\":\"9cf1c3ce-bf33-4c20-b9ae-56de0f6f0652\"},{\"name\":\"Battle Rifle\",\"description\":\"Battle Rifle with Recon Sight. Standard-issue burst-fire rifle that can excel at any engagement range.\",\"type\":\"Standard\",\"largeIconImageUrl\":\"https://content.halocdn.com/media/Default/games/halo-5-guardians/tools-of-destruction/weapons/br-07be901f5fac4a68aeea3dac36decc06.png\",\"smallIconImageUrl\":\"https://image.halocdn.com:443/?path=https%3a%2f%2fcontent.halocdn.com%2fmedia%2fDefault%2fgames%2fhalo-5-guardians%2ftools-of-destruction%2fweapons%2fbr-07be901f5fac4a68aeea3dac36decc06.png&width=332&hash=375YR8hAEtNlO6Vq7RPB6V56bdbd4ermo6n6UrrK2ss%3d\",\"isUsableByPlayer\":true,\"id\":\"424645655\",\"contentId\":\"9b2089b8-5652-465a-ad78-78a36761fcac\"},{\"name\":\"SPNKr Rocket Launcher\",\"description\":\"Make some noise! Twin-tube shoulder-fired rocket launcher with Smart-Link sights. Rockets can lock-on to air targets.\",\"type\":\"Power\",\"largeIconImageUrl\":\"https://content.halocdn.com/media/Default/games/halo-5-guardians/tools-of-destruction/weapons/spnkr-25d0ddbcefd14a859bceef38875b28a3.png\",\"smallIconImageUrl\":\"https://image.halocdn.com:443/?path=https%3a%2f%2fcontent.halocdn.com%2fmedia%2fDefault%2fgames%2fhalo-5-guardians%2ftools-of-destruction%2fweapons%2fspnkr-25d0ddbcefd14a859bceef38875b28a3.png&width=332&hash=YZndAuIi%2bqCqGGCvgHjNQSI1FEB5ZcW5946sExuvqSA%3d\",\"isUsableByPlayer\":true,\"id\":\"2902827823\",\"contentId\":\"e7d65a17-2517-458c-ac3f-1dd48405718e\"},{\"name\":\"Halo 2 Battle Rifle\",\"description\":\"BR with Classic Sight. Reliable firepower never goes out of style. Battle Rifle with full-screen zoom.\",\"type\":\"Standard\",\"largeIconImageUrl\":\"https://content.halocdn.com/media/Default/games/halo-5-guardians/tools-of-destruction/weapons/halo-2-battle-rifle-967c07de6b78414eafa429be2eb7ab48.png\",\"smallIconImageUrl\":\"https://image.halocdn.com:443/?path=https%3a%2f%2fcontent.halocdn.com%2fmedia%2fDefault%2fgames%2fhalo-5-guardians%2ftools-of-destruction%2fweapons%2fhalo-2-battle-rifle-967c07de6b78414eafa429be2eb7ab48.png&width=332&hash=B67pwYaY0I3WpJu5t2D11AD%2bpfb4Vqn3x41DZtJU3JY%3d\",\"isUsableByPlayer\":true,\"id\":\"4222743534\",\"contentId\":\"798a60dd-410a-4493-ba48-22e9dfd8ddff\"},{\"name\":\"Ball\",\"description\":null,\"type\":\"Unknown\",\"largeIconImageUrl\":\"https://content.halocdn.com/media/Default/games/halo-5-guardians/tools-of-destruction/weapons/assault-ball-weapon-e1cffc1788c849d8938bf104fe55e07a.png\",\"smallIconImageUrl\":\"https://image.halocdn.com:443/?path=https%3a%2f%2fcontent.halocdn.com%2fmedia%2fDefault%2fgames%2fhalo-5-guardians%2ftools-of-destruction%2fweapons%2fassault-ball-weapon-e1cffc1788c849d8938bf104fe55e07a.png&width=332&hash=XinxuuCPidF6%2fISNfNygk%2bm8Hp9%2b%2b9xAg8ZPCu9Pr1k%3d\",\"isUsableByPlayer\":true,\"id\":\"393532233\",\"contentId\":\"1e2acd11-6bbb-4f62-855b-21a8b84f5a7d\"},{\"name\":\"Gravity Hammer\",\"description\":\"Brutally effective melee weapon that combines a hammer with repurposed gravitic impellers on the striking face. Each smash unleashes a damaging area-of-effect pulse with knockback. Regular melee attacks are weaker, but do not consume energy.\",\"type\":\"Power\",\"largeIconImageUrl\":\"https://content.halocdn.com/media/Default/games/halo-5-guardians/tools-of-destruction/weapons/gravity-hammer-07ce6812c81c4c67a6dd68dbb7456355.png\",\"smallIconImageUrl\":\"https://image.halocdn.com:443/?path=https%3a%2f%2fcontent.halocdn.com%2fmedia%2fDefault%2fgames%2fhalo-5-guardians%2ftools-of-destruction%2fweapons%2fgravity-hammer-07ce6812c81c4c67a6dd68dbb7456355.png&width=332&hash=AflzYP165PLTA%2fVLKmehUKYhO7vCycNsO2GNox7ZM24%3d\",\"isUsableByPlayer\":true,\"id\":\"2899979324\",\"contentId\":\"91cefab6-7af6-4fec-8543-f8efd4908c21\"},{\"name\":\"Halo One Pistol\",\"description\":null,\"type\":\"Power\",\"largeIconImageUrl\":\"https://content.halocdn.com/media/Default/games/halo-5-guardians/tools-of-destruction/weapons/magnum-h1-42d7453086fa48ba897bd99f8f7cab8f.png\",\"smallIconImageUrl\":\"https://image.halocdn.com:443/?path=https%3a%2f%2fcontent.halocdn.com%2fmedia%2fDefault%2fgames%2fhalo-5-guardians%2ftools-of-destruction%2fweapons%2fmagnum-h1-42d7453086fa48ba897bd99f8f7cab8f.png&width=332&hash=GJ5%2fNOKvONYcodHWSK510eVm5lmK7CW92O2Nrvg0ZZE%3d\",\"isUsableByPlayer\":true,\"id\":\"2758094302\",\"contentId\":\"459e3484-e687-4867-88dc-01331973e0aa\"},{\"name\":\"Brute Plasma Rifle\",\"description\":\"Newly manufactured Brute Plasma Rifles continue to appear in the hands of mercenaries and raiders, though their source is unknown.  All Brute Plasma Rifles are capable of unleashing a devastating fusillade of plasma bolts between emergency cooling breaks.\",\"type\":\"Power\",\"largeIconImageUrl\":\"https://content.halocdn.com/media/Default/games/halo-5-guardians/tools-of-destruction/weapons/plasma_rifle-b1c39105c2b341ba9a21fb8602b51a58.png\",\"smallIconImageUrl\":\"https://image.halocdn.com:443/?path=https%3a%2f%2fcontent.halocdn.com%2fmedia%2fDefault%2fgames%2fhalo-5-guardians%2ftools-of-destruction%2fweapons%2fplasma_rifle-b1c39105c2b341ba9a21fb8602b51a58.png&width=332&hash=cISQme4MQ1V8E9e%2f0NTgE5RlWbjDrjfPUN6tJFwI8%2bQ%3d\",\"isUsableByPlayer\":true,\"id\":\"2015271382\",\"contentId\":\"eedf40c7-8fa6-4c8c-89d6-cffab3381711\"},{\"name\":\"Retro Beam Rifle\",\"description\":\"The T-50 Beam Rifle is a Covenant long-range directed-energy weapon used by raiders, snipers, and scout-executors. Long-range semi-automatic energy rifle with variable-zoom optics. Use Smart-Link to line up headshots for one-shot kills.\",\"type\":\"Power\",\"largeIconImageUrl\":\"https://content.halocdn.com/media/Default/games/halo-5-guardians/tools-of-destruction/weapons/beam_rifle_h2_default__542x305-75cb58f18b774b1286714d2843dd4e79.png\",\"smallIconImageUrl\":\"https://image.halocdn.com:443/?path=https%3a%2f%2fcontent.halocdn.com%2fmedia%2fDefault%2fgames%2fhalo-5-guardians%2ftools-of-destruction%2fweapons%2fbeam_rifle_h2_default__542x305-75cb58f18b774b1286714d2843dd4e79.png&width=332&hash=pJXZIBPNlKtG8Re1%2f9YZEj4R5ub%2fBa9xPFd%2fckmoXIY%3d\",\"isUsableByPlayer\":true,\"id\":\"907086443\",\"contentId\":\"c1028797-dff7-4f5b-bc9b-2c0f43374ca7\"},{\"name\":\"Wasp\",\"description\":\"The AV-49 Wasp supplements existing stocks of AV-14 and AV-22 aircraft in Marine service. Close air support VTOL armed with heavy machine guns and twin rocket launchers.\",\"type\":\"Vehicle\",\"largeIconImageUrl\":\"https://content.halocdn.com/media/Default/games/halo-5-guardians/tools-of-destruction/vehicles/linked_wasp_default_542x305-383ceb295f764556ba15dd3d4daaa03c.png\",\"smallIconImageUrl\":\"https://image.halocdn.com:443/?path=https%3a%2f%2fcontent.halocdn.com%2fmedia%2fDefault%2fgames%2fhalo-5-guardians%2ftools-of-destruction%2fvehicles%2flinked_wasp_default_542x305-383ceb295f764556ba15dd3d4daaa03c.png&width=332&hash=eNyCWjHbTDW56FJ9igozd197kql%2bc86xUiY142%2fd9O0%3d\",\"isUsableByPlayer\":true,\"id\":\"3207900961\",\"contentId\":\"104e4c82-b93c-4540-aae7-37ad3a8a9807\"},{\"name\":\"Hunter Arm Turret\",\"description\":\"The Lekgolo that remain in this stolen limb retain a feral vestige of their once-expansive composite mind. The Wicked Grasp fires bursts of tracking plasma shots.\",\"type\":\"Turret\",\"largeIconImageUrl\":\"https://content.halocdn.com/media/Default/games/halo-5-guardians/tools-of-destruction/weapons/hunter_arm-bbaad2f06c914a10815e2ce5c5cfdbd7.png\",\"smallIconImageUrl\":\"https://image.halocdn.com:443/?path=https%3a%2f%2fcontent.halocdn.com%2fmedia%2fDefault%2fgames%2fhalo-5-guardians%2ftools-of-destruction%2fweapons%2fhunter_arm-bbaad2f06c914a10815e2ce5c5cfdbd7.png&width=332&hash=g1DxaQfgZFeily0WUlfWHL2yi3s6yvrJX35EvqS8plU%3d\",\"isUsableByPlayer\":true,\"id\":\"1351500565\",\"contentId\":\"6779263c-57a9-49b3-9048-43a12706e4d4\"},{\"name\":\"Plasma Turret\",\"description\":\"Rapid-fire plasma cannon.\",\"type\":\"Turret\",\"largeIconImageUrl\":\"https://content.halocdn.com/media/Default/games/halo-5-guardians/tools-of-destruction/weapons/plasma_turret-aec66472854145ca9124130353ba2dd2.png\",\"smallIconImageUrl\":\"https://image.halocdn.com:443/?path=https%3a%2f%2fcontent.halocdn.com%2fmedia%2fDefault%2fgames%2fhalo-5-guardians%2ftools-of-destruction%2fweapons%2fplasma_turret-aec66472854145ca9124130353ba2dd2.png&width=332&hash=fQWbpv7LS1G%2btAXqp30E49g3wsexYg8IMFCbvSVm8XY%3d\",\"isUsableByPlayer\":true,\"id\":\"2023669721\",\"contentId\":\"ccab2aea-c7e9-4acf-baf7-916cf01b7c16\"},{\"name\":\"Jorge\"s Chaingun\",\"description\":null,\"type\":\"Turret\",\"largeIconImageUrl\":\"https://content.halocdn.com/media/Default/games/halo-5-guardians/default-images/default-turret-332x132-c3db09f21ee242589b5277004462d27e.png\",\"smallIconImageUrl\":\"https://image.halocdn.com:443/?path=https%3a%2f%2fcontent.halocdn.com%2fmedia%2fDefault%2fgames%2fhalo-5-guardians%2fdefault-images%2fdefault-turret-332x132-c3db09f21ee242589b5277004462d27e.png&width=332&hash=M89098C3LTFFiK9wiIUdjWSNxlXvoKTGlmRoBEmd6RU%3d\",\"isUsableByPlayer\":true,\"id\":\"1364188648\",\"contentId\":\"8ff7b779-b30f-48ea-b366-2c44b56f0f48\"},{\"name\":\"Golf Club\",\"description\":\"409331533\",\"type\":\"Unknown\",\"largeIconImageUrl\":\"https://content.halocdn.com/media/Default/games/halo-5-guardians/default-images/default-weapon-332x132-5e66c8cb2a2045ee8c0b15c0cb1f7944.png\",\"smallIconImageUrl\":\"https://image.halocdn.com:443/?path=https%3a%2f%2fcontent.halocdn.com%2fmedia%2fDefault%2fgames%2fhalo-5-guardians%2fdefault-images%2fdefault-weapon-332x132-5e66c8cb2a2045ee8c0b15c0cb1f7944.png&width=332&hash=B%2fQedDpaFRR6mNigEL1GT9CrU5j8lKSIYZsoepqa2gk%3d\",\"isUsableByPlayer\":true,\"id\":\"409331533\",\"contentId\":\"71e5512e-a151-492f-afe8-aef88045b9c7\"},{\"name\":\"Reach Grenade Launcher\",\"description\":\"M319\"s are single shot, break-action grenade launchers that can fire a variety of 40mm rounds. Hold trigger for alternate fuse: release trigger to manually detonate with EMP effect. The grenade can be bounced to reach around cover.\",\"type\":\"Power\",\"largeIconImageUrl\":\"https://content.halocdn.com/media/Default/Requisition/Generated/objects/multi/warzone/requisition/reqs/consumables/power_weapons/reach_grenade_launcher/reach_grenade_launcher_large-72cd406204db4d82b037928edf50cecb.png\",\"smallIconImageUrl\":\"https://image.halocdn.com:443/?path=https%3a%2f%2fcontent.halocdn.com%2fmedia%2fDefault%2fRequisition%2fGenerated%2fobjects%2fmulti%2fwarzone%2frequisition%2freqs%2fconsumables%2fpower_weapons%2freach_grenade_launcher%2freach_grenade_launcher_large-72cd406204db4d82b037928edf50cecb.png&width=332&hash=NN9c%2fFnVo6AlbPNnL5DmxP%2fuMwHh%2bo0O9vOVSy70tPo%3d\",\"isUsableByPlayer\":true,\"id\":\"1390323522\",\"contentId\":\"b0d9a560-1254-41f5-aa28-8dc0395c48c5\"},{\"name\":\"Sentinel Beam\",\"description\":\"Fired in semi-automatic mode, or the trigger can be held down to charge and then release multiple plasma grenades in quick succession.\",\"type\":\"Power\",\"largeIconImageUrl\":\"https://content.halocdn.com/media/Default/Requisition/Generated/objects/multi/warzone/requisition/reqs/consumables/power_weapons/sentinel_beam/sentinel_beam_large-27b225987ed345c09e69daa5739561d4.png\",\"smallIconImageUrl\":\"https://image.halocdn.com:443/?path=https%3a%2f%2fcontent.halocdn.com%2fmedia%2fDefault%2fRequisition%2fGenerated%2fobjects%2fmulti%2fwarzone%2frequisition%2freqs%2fconsumables%2fpower_weapons%2fsentinel_beam%2fsentinel_beam_large-27b225987ed345c09e69daa5739561d4.png&width=332&hash=9WAhg0QOoTD9cHO3tm3tvIgU4MRWMsuGmZn%2bAX8Vha4%3d\",\"isUsableByPlayer\":true,\"id\":\"3143603656\",\"contentId\":\"517154cc-c9aa-4c1a-8da5-e535c21a1727\"},{\"name\":\"PHANTOM\",\"description\":\"Phantom deployable for campaign and warzone\",\"type\":\"Vehicle\",\"largeIconImageUrl\":\"https://content.halocdn.com/media/Default/games/halo-5-guardians/default-images/default-weapon-332x132-5e66c8cb2a2045ee8c0b15c0cb1f7944.png\",\"smallIconImageUrl\":\"https://image.halocdn.com:443/?path=https%3a%2f%2fcontent.halocdn.com%2fmedia%2fDefault%2fgames%2fhalo-5-guardians%2fdefault-images%2fdefault-weapon-332x132-5e66c8cb2a2045ee8c0b15c0cb1f7944.png&width=332&hash=B%2fQedDpaFRR6mNigEL1GT9CrU5j8lKSIYZsoepqa2gk%3d\",\"isUsableByPlayer\":false,\"id\":\"1977724336\",\"contentId\":\"54d2716c-b420-4a40-9e93-6636b221177b\"},{\"name\":\"Grunt Mech\",\"description\":null,\"type\":\"Unknown\",\"largeIconImageUrl\":\"https://content.halocdn.com/media/Default/games/halo-5-guardians/default-images/default-weapon-332x132-5e66c8cb2a2045ee8c0b15c0cb1f7944.png\",\"smallIconImageUrl\":\"https://image.halocdn.com:443/?path=https%3a%2f%2fcontent.halocdn.com%2fmedia%2fDefault%2fgames%2fhalo-5-guardians%2fdefault-images%2fdefault-weapon-332x132-5e66c8cb2a2045ee8c0b15c0cb1f7944.png&width=332&hash=B%2fQedDpaFRR6mNigEL1GT9CrU5j8lKSIYZsoepqa2gk%3d\",\"isUsableByPlayer\":false,\"id\":\"1102617398\",\"contentId\":\"3056d7a5-325a-4e12-8f52-29ef4e607736\"}]\n"
   ]
  },
  {
   "cell_type": "markdown",
   "metadata": {},
   "source": [
    "## Player Arena History"
   ]
  },
  {
   "cell_type": "code",
   "execution_count": null,
   "metadata": {
    "ExecuteTime": {
     "end_time": "2021-07-01T17:05:33.921928Z",
     "start_time": "2021-07-01T17:05:32.644678Z"
    }
   },
   "outputs": [],
   "source": [
    "########### Python 3.2 #############\n",
    "import http.client, urllib.request, urllib.parse, urllib.error, base64\n",
    "\n",
    "players = ['thefishhawk88', 'Drymander']\n",
    "\n",
    "headers = {\n",
    "    # Request headers\n",
    "    'Ocp-Apim-Subscription-Key': str(api_key),\n",
    "}\n",
    "\n",
    "params = urllib.parse.urlencode({\n",
    "    # Request parameters\n",
    "#     'seasonId': '{string}',\n",
    "\n",
    "\n",
    "    \n",
    "})\n",
    "\n",
    "try:\n",
    "    conn = http.client.HTTPSConnection('www.haloapi.com')\n",
    "    conn.request(\"GET\", f\"/stats/h5/servicerecords/arena?players=drymander,thefishhawk88&%s\" % params, \"{body}\", headers)\n",
    "    response = conn.getresponse()\n",
    "    data = response.read()\n",
    "    print(data)\n",
    "    conn.close()\n",
    "except Exception as e:\n",
    "    print(\"[Errno {0}] {1}\".format(e.errno, e.strerror))\n",
    "\n",
    "####################################\n"
   ]
  },
  {
   "cell_type": "markdown",
   "metadata": {},
   "source": [
    "## Game Base Variants"
   ]
  },
  {
   "cell_type": "code",
   "execution_count": null,
   "metadata": {
    "ExecuteTime": {
     "end_time": "2021-06-28T20:56:05.053556Z",
     "start_time": "2021-06-28T20:56:04.819844Z"
    }
   },
   "outputs": [],
   "source": [
    "########### Python 3.2 #############\n",
    "import http.client, urllib.request, urllib.parse, urllib.error, base64\n",
    "\n",
    "\n",
    "\n",
    "headers = {\n",
    "    # Request headers\n",
    "    'Accept-Language': 'en',\n",
    "    'Ocp-Apim-Subscription-Key': api_key,\n",
    "}\n",
    "\n",
    "params = urllib.parse.urlencode({\n",
    "})\n",
    "\n",
    "try:\n",
    "    conn = http.client.HTTPSConnection('www.haloapi.com')\n",
    "    conn.request(\"GET\", \"/metadata/h5/metadata/game-base-variants?%s\" % params, \"{body}\", headers)\n",
    "    response = conn.getresponse()\n",
    "    data = response.read()\n",
    "    print(data)\n",
    "    conn.close()\n",
    "except Exception as e:\n",
    "    print(\"[Errno {0}] {1}\".format(e.errno, e.strerror))\n",
    "\n",
    "####################################\n"
   ]
  },
  {
   "cell_type": "code",
   "execution_count": null,
   "metadata": {
    "ExecuteTime": {
     "end_time": "2021-06-28T20:58:35.124606Z",
     "start_time": "2021-06-28T20:58:35.103613Z"
    }
   },
   "outputs": [],
   "source": [
    "test = [{\"name\":\"Strongholds\",\"internalName\":\"Strongholds\",\"iconUrl\":\"https://content.halocdn.com/media/Default/games/halo-5-guardians/game-type-icons/stronghold-8a7cbb21223e4c0fac736492d04eff91.png\",\"supportedGameModes\":[\"Arena\",\"Custom\"],\"id\":\"1571fdac-e0b4-4ebc-a73a-6e13001b71d3\",\"contentId\":\"1571fdac-e0b4-4ebc-a73a-6e13001b71d3\"},{\"name\":\"Slayer\",\"internalName\":\"Slayer\",\"iconUrl\":\"https://content.halocdn.com/media/Default/games/halo-5-guardians/game-type-icons/slayer-b92fd67142834e4d825322f2404d7753.png\",\"supportedGameModes\":[\"Arena\",\"Custom\"],\"id\":\"257a305e-4dd3-41f1-9824-dfe7e8bd59e1\",\"contentId\":\"257a305e-4dd3-41f1-9824-dfe7e8bd59e1\"},{\"name\":\"Breakout\",\"internalName\":\"Breakout\",\"iconUrl\":\"https://content.halocdn.com/media/Default/games/halo-5-guardians/game-type-icons/breakout-bc0a4c0126de468e95c757466d8d3aaf.png\",\"supportedGameModes\":[\"Arena\",\"Custom\"],\"id\":\"1e473914-46e4-408d-af26-178fb115de76\",\"contentId\":\"1e473914-46e4-408d-af26-178fb115de76\"},{\"name\":\"Capture the Flag\",\"internalName\":\"CaptureTheFlag\",\"iconUrl\":\"https://content.halocdn.com/media/Default/games/halo-5-guardians/game-type-icons/capture-the-flag-8c8c85e71b734ecbbd95b14a5d802458.png\",\"supportedGameModes\":[\"Arena\",\"Custom\"],\"id\":\"a2949322-dc84-45ab-8454-cf94fb28c189\",\"contentId\":\"a2949322-dc84-45ab-8454-cf94fb28c189\"},{\"name\":\"Warzone Assault\",\"internalName\":\"WarzoneOneBase\",\"iconUrl\":\"https://content.halocdn.com/media/Default/games/halo-5-guardians/game-type-icons/warzone-923f801e29374c6296e46515713da3c3.png\",\"supportedGameModes\":[\"Warzone\"],\"id\":\"42f97cca-2cb4-497a-a0fd-ceef1ba46bcc\",\"contentId\":\"42f97cca-2cb4-497a-a0fd-ceef1ba46bcc\"},{\"name\":\"Warzone\",\"internalName\":\"WarzoneTwoBase\",\"iconUrl\":\"https://content.halocdn.com/media/Default/games/halo-5-guardians/game-type-icons/warzone-923f801e29374c6296e46515713da3c3.png\",\"supportedGameModes\":[\"Warzone\"],\"id\":\"f6de5351-3797-41e9-8053-7fb111a3a1a0\",\"contentId\":\"f6de5351-3797-41e9-8053-7fb111a3a1a0\"},{\"name\":\"Campaign\",\"internalName\":\"Campaign\",\"iconUrl\":'null',\"supportedGameModes\":[\"Campaign\"],\"id\":\"00000003-0000-0010-8000-00aa00389b71\",\"contentId\":\"00000003-0000-0010-8000-00aa00389b71\"},{\"name\":\"Big Team CTF\",\"internalName\":\"BigTeamBattleCaptureTheFlag\",\"iconUrl\":\"https://content.halocdn.com/media/Default/games/halo-5-guardians/game-type-icons/capture-the-flag-8c8c85e71b734ecbbd95b14a5d802458.png\",\"supportedGameModes\":[\"Arena\",\"Custom\"],\"id\":\"8d4a3dbc-ef7a-405e-862b-34093ff582fd\",\"contentId\":\"8d4a3dbc-ef7a-405e-862b-34093ff582fd\"},{\"name\":\"Big Team Strongholds\",\"internalName\":\"BigTeamBattleStrongholds\",\"iconUrl\":\"https://content.halocdn.com/media/Default/games/halo-5-guardians/game-type-icons/stronghold-8a7cbb21223e4c0fac736492d04eff91.png\",\"supportedGameModes\":[\"Arena\",\"Custom\"],\"id\":\"b45854a7-e6e1-4a9c-9104-139934511779\",\"contentId\":\"b45854a7-e6e1-4a9c-9104-139934511779\"},{\"name\":\"Big Team Slayer\",\"internalName\":\"BigTeamBattleSlayer\",\"iconUrl\":\"https://content.halocdn.com/media/Default/games/halo-5-guardians/game-type-icons/slayer-b92fd67142834e4d825322f2404d7753.png\",\"supportedGameModes\":[\"Arena\",\"Custom\"],\"id\":\"65f033d2-1303-4748-bc26-ef62c38eced4\",\"contentId\":\"65f033d2-1303-4748-bc26-ef62c38eced4\"},{\"name\":'null',\"internalName\":\"Forge\",\"iconUrl\":'null',\"supportedGameModes\":[\"Custom\"],\"id\":\"a2b0a49f-a1ca-cdc2-c0bf-8fa1cacdc2c0\",\"contentId\":\"a2b0a49f-a1ca-cdc2-c0bf-8fa1cacdc2c0\"},{\"name\":\"Assault\",\"internalName\":\"Assault\",\"iconUrl\":\"https://content.halocdn.com/media/Default/games/halo-5-guardians/game-type-icons/assault-ball-409c1609094a4a28a7b7694fe720a112.png\",\"supportedGameModes\":[\"Arena\",\"Custom\"],\"id\":\"b0df8938-0fb6-42ee-846f-a0c3593344d5\",\"contentId\":\"b0df8938-0fb6-42ee-846f-a0c3593344d5\"},{\"name\":\"Grifball\",\"internalName\":\"Grifball\",\"iconUrl\":\"https://content.halocdn.com/media/Default/games/halo-5-guardians/game-type-icons/grifball-77008ff230804c3da846d3e5a11c26e6.png\",\"supportedGameModes\":[\"Arena\",\"Custom\"],\"id\":\"dda182c5-4b50-4a0f-86f3-fcb5e0db4df3\",\"contentId\":\"dda182c5-4b50-4a0f-86f3-fcb5e0db4df3\"},{\"name\":\"Warzone Firefight\",\"internalName\":\"WarzonePvE\",\"iconUrl\":\"https://content.halocdn.com/media/Default/games/halo-5-guardians/game-type-icons/firefight-0fd0ab5ab6324d1cacecb588c9074bff.png\",\"supportedGameModes\":[\"Warzone\"],\"id\":\"dfd51ee3-9060-46c3-b131-08d946c4c7b9\",\"contentId\":\"dfd51ee3-9060-46c3-b131-08d946c4c7b9\"},{\"name\":\"Infection\",\"internalName\":\"Infection\",\"iconUrl\":\"https://content.halocdn.com/media/Default/games/halo-5-guardians/game-type-icons/infection-a32cb582d1a747578342c5412151e9d0.png\",\"supportedGameModes\":[\"Arena\",\"Custom\"],\"id\":\"f6051f51-bbb6-4ccc-8ac0-cf42b7291c76\",\"contentId\":\"f6051f51-bbb6-4ccc-8ac0-cf42b7291c76\"},{\"name\":\"Campaign Score Attack\",\"internalName\":\"Campaign\",\"iconUrl\":'null',\"supportedGameModes\":[\"Campaign\"],\"id\":\"67ffc2ff-a50e-4e5d-ae08-b40e3d961061\",\"contentId\":\"67ffc2ff-a50e-4e5d-ae08-b40e3d961061\"},{\"name\":\"Mini-game\",\"internalName\":\"MiniGame\",\"iconUrl\":'null',\"supportedGameModes\":[\"Arena\",\"Custom\"],\"id\":\"a5c8c223-2418-42cf-8980-e5ceddf12232\",\"contentId\":\"a5c8c223-2418-42cf-8980-e5ceddf12232\"},{\"name\":\"Oddball\",\"internalName\":\"Oddball\",\"iconUrl\":\"https://content.halocdn.com/media/Default/games/halo-5-guardians/game-type-icons/oddball_logo-76fa7fd3131548899d2ae3fbc21376a4.png\",\"supportedGameModes\":[\"Arena\",\"Custom\"],\"id\":\"9bb6fde8-ac5b-4d45-96eb-0acc6980722a\",\"contentId\":\"9bb6fde8-ac5b-4d45-96eb-0acc6980722a\"},{\"name\":\"Big Team Assault\",\"internalName\":\"BigTeamBattleAssault\",\"iconUrl\":\"https://content.halocdn.com/media/Default/games/halo-5-guardians/game-type-icons/assault-ball-409c1609094a4a28a7b7694fe720a112.png\",\"supportedGameModes\":[\"Arena\",\"Custom\"],\"id\":\"657d658d-853a-4e82-9068-7b730720cc7f\",\"contentId\":\"657d658d-853a-4e82-9068-7b730720cc7f\"}]"
   ]
  },
  {
   "cell_type": "code",
   "execution_count": null,
   "metadata": {
    "ExecuteTime": {
     "end_time": "2021-06-28T20:58:38.276050Z",
     "start_time": "2021-06-28T20:58:38.253020Z"
    }
   },
   "outputs": [],
   "source": [
    "test"
   ]
  },
  {
   "cell_type": "code",
   "execution_count": null,
   "metadata": {},
   "outputs": [],
   "source": [
    "type(data)"
   ]
  },
  {
   "cell_type": "code",
   "execution_count": null,
   "metadata": {},
   "outputs": [],
   "source": [
    "pip install halo5.py"
   ]
  },
  {
   "cell_type": "code",
   "execution_count": null,
   "metadata": {},
   "outputs": [],
   "source": [
    "pip install halo5.py==0.3.0"
   ]
  },
  {
   "cell_type": "code",
   "execution_count": null,
   "metadata": {},
   "outputs": [],
   "source": [
    " data_decode = data.decode('utf-8')"
   ]
  },
  {
   "cell_type": "code",
   "execution_count": null,
   "metadata": {},
   "outputs": [],
   "source": [
    "data_decode"
   ]
  },
  {
   "cell_type": "code",
   "execution_count": null,
   "metadata": {},
   "outputs": [],
   "source": [
    "import json\n",
    "d = json.dumps(data_decode)"
   ]
  },
  {
   "cell_type": "code",
   "execution_count": null,
   "metadata": {},
   "outputs": [],
   "source": [
    "d"
   ]
  },
  {
   "cell_type": "code",
   "execution_count": null,
   "metadata": {},
   "outputs": [],
   "source": [
    "pip install git+https://github.com/Jma353/halo5.py"
   ]
  },
  {
   "cell_type": "code",
   "execution_count": null,
   "metadata": {},
   "outputs": [],
   "source": [
    "pip install entities"
   ]
  },
  {
   "cell_type": "code",
   "execution_count": null,
   "metadata": {},
   "outputs": [],
   "source": [
    "!pip install .entity\n",
    "\n",
    "from .entity import Entity"
   ]
  },
  {
   "cell_type": "code",
   "execution_count": null,
   "metadata": {
    "scrolled": true
   },
   "outputs": [],
   "source": [
    "from .entity import Entity"
   ]
  },
  {
   "cell_type": "code",
   "execution_count": null,
   "metadata": {},
   "outputs": [],
   "source": [
    "import halo5"
   ]
  },
  {
   "cell_type": "code",
   "execution_count": null,
   "metadata": {},
   "outputs": [],
   "source": []
  },
  {
   "cell_type": "code",
   "execution_count": null,
   "metadata": {},
   "outputs": [],
   "source": [
    "print(c.stats.post_game_arena('1e1e5a33-f37a-4d75-82b1-5e6ae4697a9c'))"
   ]
  },
  {
   "cell_type": "code",
   "execution_count": null,
   "metadata": {},
   "outputs": [],
   "source": [
    "if scrape == True:\n",
    "\n",
    "    results = []\n",
    "\n",
    "    for year in [2012, 2013, 2014, 2015, 2016, 2017, 2018, 2019]:\n",
    "\n",
    "        page_number = 1\n",
    "\n",
    "        response = requests.get('https://api.themoviedb.org/3/discover/movie?api_key=' \n",
    "                                 +  api_key + '&page=' + str(page_number) + \n",
    "                                 '&with_original_language=en&primary_release_year=' + str(year) + '&with_release_type=3&with_runtime.gte=80')\n",
    "\n",
    "        total_pages = response.json()['total_pages']\n",
    "\n",
    "        results.extend(response.json()['results'])\n",
    "\n",
    "        while page_number < total_pages:\n",
    "\n",
    "            page_number += 1\n",
    "\n",
    "            response = requests.get('https://api.themoviedb.org/3/discover/movie?api_key=' \n",
    "                                 +  api_key + '&page=' + str(page_number) + \n",
    "                                 '&with_original_language=en&primary_release_year=' + str(year) + '&with_release_type=3&with_runtime.gte=80')\n",
    "\n",
    "            results.extend(response.json()['results'])\n",
    "            \n",
    "        results.to_csv('data/2012-2019.csv')\n",
    "            \n",
    "else: print('Scrape is set to False.')"
   ]
  },
  {
   "cell_type": "code",
   "execution_count": null,
   "metadata": {},
   "outputs": [],
   "source": []
  },
  {
   "cell_type": "markdown",
   "metadata": {},
   "source": [
    "## Player History"
   ]
  },
  {
   "cell_type": "markdown",
   "metadata": {},
   "source": [
    "### Base Code"
   ]
  },
  {
   "cell_type": "code",
   "execution_count": null,
   "metadata": {
    "ExecuteTime": {
     "end_time": "2021-06-29T19:30:13.736163Z",
     "start_time": "2021-06-29T19:30:13.433352Z"
    }
   },
   "outputs": [],
   "source": [
    "headers = {\n",
    "    # Request headers\n",
    "    'Ocp-Apim-Subscription-Key': api_key,\n",
    "}\n",
    "\n",
    "player = 'Drymander'\n",
    "\n",
    "params = urllib.parse.urlencode({\n",
    "    # Request parameters\n",
    "    'modes': 'arena',\n",
    "    'start': 25,\n",
    "    'count': 25,\n",
    "    'include-times': True,\n",
    "})\n",
    "\n",
    "try:\n",
    "    conn = http.client.HTTPSConnection('www.haloapi.com')\n",
    "    conn.request(\"GET\", f\"/stats/h5/players/{player}/matches?%s\" % params, \"{body}\", headers)\n",
    "    response = conn.getresponse()\n",
    "    data = response.read()\n",
    "    data = json.loads(data)\n",
    "#     print(data)\n",
    "    conn.close()\n",
    "except Exception as e:\n",
    "    print(f\"[Errno {0}] {1}\".format(e.errno, e.strerror))\n",
    "\n",
    "####################################\n"
   ]
  },
  {
   "cell_type": "code",
   "execution_count": null,
   "metadata": {
    "ExecuteTime": {
     "end_time": "2021-06-29T16:01:45.166341Z",
     "start_time": "2021-06-29T16:01:45.148308Z"
    }
   },
   "outputs": [],
   "source": [
    "type(data['Results'])"
   ]
  },
  {
   "cell_type": "code",
   "execution_count": null,
   "metadata": {
    "ExecuteTime": {
     "end_time": "2021-06-29T16:01:59.670499Z",
     "start_time": "2021-06-29T16:01:59.540542Z"
    }
   },
   "outputs": [],
   "source": [
    "data2"
   ]
  },
  {
   "cell_type": "code",
   "execution_count": null,
   "metadata": {
    "ExecuteTime": {
     "end_time": "2021-06-29T16:03:32.580734Z",
     "start_time": "2021-06-29T16:03:32.572737Z"
    }
   },
   "outputs": [],
   "source": [
    "data3 = data['Results'].extend(data2['Results'])"
   ]
  },
  {
   "cell_type": "code",
   "execution_count": null,
   "metadata": {
    "ExecuteTime": {
     "end_time": "2021-06-29T16:05:24.755936Z",
     "start_time": "2021-06-29T16:05:24.741943Z"
    }
   },
   "outputs": [],
   "source": [
    "data3= []"
   ]
  },
  {
   "cell_type": "code",
   "execution_count": null,
   "metadata": {
    "ExecuteTime": {
     "end_time": "2021-06-29T16:05:24.978946Z",
     "start_time": "2021-06-29T16:05:24.964951Z"
    }
   },
   "outputs": [],
   "source": [
    "data3.extend(data['Results'])"
   ]
  },
  {
   "cell_type": "code",
   "execution_count": null,
   "metadata": {
    "ExecuteTime": {
     "end_time": "2021-06-29T16:05:25.830308Z",
     "start_time": "2021-06-29T16:05:25.819303Z"
    }
   },
   "outputs": [],
   "source": [
    "data3.extend(data2['Results'])"
   ]
  },
  {
   "cell_type": "code",
   "execution_count": null,
   "metadata": {
    "ExecuteTime": {
     "end_time": "2021-06-29T16:05:27.813148Z",
     "start_time": "2021-06-29T16:05:27.520238Z"
    }
   },
   "outputs": [],
   "source": [
    "data3"
   ]
  },
  {
   "cell_type": "code",
   "execution_count": null,
   "metadata": {},
   "outputs": [],
   "source": []
  },
  {
   "cell_type": "markdown",
   "metadata": {},
   "source": [
    "### Pull All"
   ]
  },
  {
   "cell_type": "code",
   "execution_count": null,
   "metadata": {
    "ExecuteTime": {
     "end_time": "2021-07-01T17:33:21.230864Z",
     "start_time": "2021-07-01T17:25:46.864755Z"
    }
   },
   "outputs": [],
   "source": [
    "gamertag = 'Drymander'\n",
    "\n",
    "headers = {\n",
    "    # Request headers\n",
    "    'Ocp-Apim-Subscription-Key': api_key,\n",
    "}\n",
    "\n",
    "start = 0\n",
    "\n",
    "matches = []\n",
    "\n",
    "maxed_out = False\n",
    "\n",
    "while maxed_out == False:\n",
    "    try:\n",
    "        \n",
    "        params = urllib.parse.urlencode({\n",
    "            # Request parameters\n",
    "            # Request parameters\n",
    "            'modes': 'arena',\n",
    "            'start': start,\n",
    "            'count': 25,\n",
    "            'include-times': True,\n",
    "        })\n",
    "        \n",
    "        conn = http.client.HTTPSConnection('www.haloapi.com')\n",
    "        conn.request(\"GET\", f\"/stats/h5/players/{gamertag}/matches?%s\" % params, \"{body}\", headers)\n",
    "        response = conn.getresponse()\n",
    "        data = response.read()\n",
    "#         print(data)\n",
    "        data = json.loads(data)\n",
    "        matches.extend(data['Results'])\n",
    "        \n",
    "\n",
    "#         conn.close()\n",
    "# #         if data['ResultCount'] == 25:\n",
    "#         if data['Start'] > 100:\n",
    "#             maxed_out = True\n",
    "\n",
    "#         else:\n",
    "#             maxed_out = False\n",
    "#             time.sleep(1.1)\n",
    "#             start += 25\n",
    "            \n",
    "        conn.close()\n",
    "        if data['ResultCount'] == 25:\n",
    "#         if data['Start'] > 100:\n",
    "            maxed_out = False\n",
    "            time.sleep(1.1)\n",
    "            start += 25\n",
    "        \n",
    "        else:\n",
    "            maxed_out = True\n",
    "\n",
    "        \n",
    "    \n",
    "    except Exception as e:\n",
    "        print(\"error\")\n",
    "\n",
    "####################################\n",
    "# data['ResultCount'] == 25\n",
    "\n",
    "matches"
   ]
  },
  {
   "cell_type": "code",
   "execution_count": null,
   "metadata": {
    "ExecuteTime": {
     "end_time": "2021-06-28T22:08:58.281089Z",
     "start_time": "2021-06-28T22:08:58.264097Z"
    }
   },
   "outputs": [],
   "source": []
  },
  {
   "cell_type": "code",
   "execution_count": null,
   "metadata": {},
   "outputs": [],
   "source": []
  },
  {
   "cell_type": "markdown",
   "metadata": {},
   "source": [
    "### Match History into Dataframe"
   ]
  },
  {
   "cell_type": "code",
   "execution_count": null,
   "metadata": {
    "ExecuteTime": {
     "end_time": "2021-07-01T17:34:57.640936Z",
     "start_time": "2021-07-01T17:34:57.174087Z"
    }
   },
   "outputs": [],
   "source": [
    "# matches = match_history\n",
    "\n",
    "df = pd.DataFrame(matches)\n",
    "matches\n",
    "df.head(1)\n",
    "\n",
    "# df.insert(2, 'test', df_id['MatchId'])\n",
    "df.to_csv('DrymanderHistory.csv')\n",
    "df.head(1)"
   ]
  },
  {
   "cell_type": "code",
   "execution_count": null,
   "metadata": {
    "ExecuteTime": {
     "end_time": "2021-07-01T17:35:39.639586Z",
     "start_time": "2021-07-01T17:35:37.091138Z"
    }
   },
   "outputs": [],
   "source": [
    "def explode_column(df, column):\n",
    "    column = str(column)\n",
    "    column_loc = df.columns.get_loc(column)\n",
    "    column_split = df[column].apply(pd.Series)\n",
    "    \n",
    "    column_split_columns = column_split.values.tolist()\n",
    "    \n",
    "#     print(column_split)\n",
    "    \n",
    "    df = df.drop(columns=[column])\n",
    "    \n",
    "    df = df.join(column_split, rsuffix=str(column))\n",
    "    \n",
    "# #     for column in column_split_columns:\n",
    "# #         df.insert(column_loc, str(column), column)\n",
    "        \n",
    "#     for column in column_split_columns:\n",
    "#         df.insert(column_loc, 'test5', column_split['MatchId'])\n",
    "    \n",
    "    return df\n",
    "\n",
    "explode_column(df, 'Id').head(1)"
   ]
  },
  {
   "cell_type": "code",
   "execution_count": null,
   "metadata": {
    "ExecuteTime": {
     "end_time": "2021-07-01T17:35:42.414710Z",
     "start_time": "2021-07-01T17:35:39.644582Z"
    }
   },
   "outputs": [],
   "source": [
    "df = explode_column(df, 'Id')\n",
    "\n",
    "df.head(1)"
   ]
  },
  {
   "cell_type": "code",
   "execution_count": null,
   "metadata": {
    "ExecuteTime": {
     "end_time": "2021-07-01T17:35:45.039871Z",
     "start_time": "2021-07-01T17:35:42.417695Z"
    }
   },
   "outputs": [],
   "source": [
    "df = explode_column(df, 'MapVariant')\n",
    "\n",
    "df.head(1)"
   ]
  },
  {
   "cell_type": "code",
   "execution_count": null,
   "metadata": {
    "ExecuteTime": {
     "end_time": "2021-07-01T17:35:47.590041Z",
     "start_time": "2021-07-01T17:35:45.044856Z"
    }
   },
   "outputs": [],
   "source": [
    "df = explode_column(df, 'GameVariant')\n",
    "\n",
    "df.head(1)"
   ]
  },
  {
   "cell_type": "code",
   "execution_count": null,
   "metadata": {
    "ExecuteTime": {
     "end_time": "2021-07-01T17:35:50.363153Z",
     "start_time": "2021-07-01T17:35:47.592039Z"
    }
   },
   "outputs": [],
   "source": [
    "df = explode_column(df, 'MatchCompletedDate')\n",
    "\n",
    "df.head(1)"
   ]
  },
  {
   "cell_type": "code",
   "execution_count": null,
   "metadata": {
    "ExecuteTime": {
     "end_time": "2021-07-01T17:35:52.127782Z",
     "start_time": "2021-07-01T17:35:50.366152Z"
    }
   },
   "outputs": [],
   "source": [
    "df = explode_column(df, 'Teams')\n",
    "\n",
    "df.head(1)"
   ]
  },
  {
   "cell_type": "code",
   "execution_count": null,
   "metadata": {
    "ExecuteTime": {
     "end_time": "2021-07-01T17:36:04.001668Z",
     "start_time": "2021-07-01T17:35:59.007127Z"
    }
   },
   "outputs": [],
   "source": [
    "# df = df.rename(columns={0: 'Blue', 1: 'Red'}, inplace=True)\n",
    "df.columns = df.columns.astype(str)\n",
    "df = explode_column(df, '0')\n",
    "df = explode_column(df, '1')\n",
    "\n",
    "df.head(1)"
   ]
  },
  {
   "cell_type": "code",
   "execution_count": null,
   "metadata": {
    "ExecuteTime": {
     "end_time": "2021-07-01T17:36:21.413760Z",
     "start_time": "2021-07-01T17:36:13.580135Z"
    }
   },
   "outputs": [],
   "source": [
    "explode_column(df, 'Players').head(1)\n",
    "\n",
    "df_players = df['Players'].apply(pd.Series)\n",
    "\n",
    "df_players[0]\n",
    "\n",
    "df_players.columns = df_players.columns.astype(str)\n",
    "\n",
    "df_players_explode = explode_column(df_players, '0')\n",
    "\n",
    "df_match_stats = explode_column(df_players_explode, 'Player')\n",
    "\n",
    "df = df.join(df_match_stats, rsuffix='_stats')\n"
   ]
  },
  {
   "cell_type": "code",
   "execution_count": null,
   "metadata": {
    "ExecuteTime": {
     "end_time": "2021-07-01T17:36:21.491702Z",
     "start_time": "2021-07-01T17:36:21.415710Z"
    }
   },
   "outputs": [],
   "source": [
    "pd.set_option('display.max_columns', None)\n",
    "\n",
    "df.head(1)"
   ]
  },
  {
   "cell_type": "code",
   "execution_count": null,
   "metadata": {
    "ExecuteTime": {
     "end_time": "2021-07-01T17:36:36.988845Z",
     "start_time": "2021-07-01T17:36:36.598933Z"
    }
   },
   "outputs": [],
   "source": [
    "df.to_csv('DrymanderHistoryExplode.csv')"
   ]
  },
  {
   "cell_type": "code",
   "execution_count": null,
   "metadata": {},
   "outputs": [],
   "source": [
    "# ['HopperId', 'MapId', 'GameBaseVariantId', 'MatchDuration',\n",
    "#        'IsTeamGame', 'SeasonId', 'MatchCompletedDateFidelity',\n",
    "#        'MatchId', 'GameMode', 'ResourceType', 'ResourceId', 'OwnerType',\n",
    "#        'Owner', 'ResourceTypeGameVariant', 'ResourceIdGameVariant',\n",
    "#        'OwnerTypeGameVariant', 'OwnerGameVariant', 'ISO8601Date', 'Id',\n",
    "#        'Score', 'Rank', 'Id1', 'Score1', 'Rank1', 'TeamId', 'Rank_stats',\n",
    "#        'Result', 'TotalKills', 'TotalDeaths', 'TotalAssists',\n",
    "#        'PreMatchRatings', 'PostMatchRatings', 'Gamertag']"
   ]
  },
  {
   "cell_type": "code",
   "execution_count": null,
   "metadata": {},
   "outputs": [],
   "source": []
  },
  {
   "cell_type": "code",
   "execution_count": null,
   "metadata": {},
   "outputs": [],
   "source": []
  },
  {
   "cell_type": "code",
   "execution_count": null,
   "metadata": {},
   "outputs": [],
   "source": []
  },
  {
   "cell_type": "code",
   "execution_count": null,
   "metadata": {},
   "outputs": [],
   "source": []
  },
  {
   "cell_type": "code",
   "execution_count": null,
   "metadata": {},
   "outputs": [],
   "source": []
  },
  {
   "cell_type": "code",
   "execution_count": null,
   "metadata": {},
   "outputs": [],
   "source": []
  },
  {
   "cell_type": "code",
   "execution_count": null,
   "metadata": {},
   "outputs": [],
   "source": []
  },
  {
   "cell_type": "code",
   "execution_count": null,
   "metadata": {},
   "outputs": [],
   "source": []
  },
  {
   "cell_type": "code",
   "execution_count": null,
   "metadata": {},
   "outputs": [],
   "source": []
  },
  {
   "cell_type": "code",
   "execution_count": null,
   "metadata": {},
   "outputs": [],
   "source": []
  },
  {
   "cell_type": "code",
   "execution_count": null,
   "metadata": {},
   "outputs": [],
   "source": []
  },
  {
   "cell_type": "code",
   "execution_count": null,
   "metadata": {},
   "outputs": [],
   "source": []
  },
  {
   "cell_type": "code",
   "execution_count": null,
   "metadata": {
    "ExecuteTime": {
     "end_time": "2021-06-28T22:35:14.053906Z",
     "start_time": "2021-06-28T22:35:10.078859Z"
    }
   },
   "outputs": [],
   "source": [
    "pip install isodate"
   ]
  },
  {
   "cell_type": "code",
   "execution_count": null,
   "metadata": {
    "ExecuteTime": {
     "end_time": "2021-06-28T22:36:21.922623Z",
     "start_time": "2021-06-28T22:36:21.885621Z"
    }
   },
   "outputs": [],
   "source": [
    "import isodate"
   ]
  },
  {
   "cell_type": "code",
   "execution_count": null,
   "metadata": {
    "ExecuteTime": {
     "end_time": "2021-06-28T22:13:27.173993Z",
     "start_time": "2021-06-28T22:13:27.156987Z"
    }
   },
   "outputs": [],
   "source": [
    "for data in matches:\n",
    "    data_row = matches['Id']\n",
    "    "
   ]
  },
  {
   "cell_type": "code",
   "execution_count": null,
   "metadata": {
    "ExecuteTime": {
     "end_time": "2021-06-28T22:37:15.591331Z",
     "start_time": "2021-06-28T22:37:15.581337Z"
    }
   },
   "outputs": [],
   "source": [
    "print(isodate.parse_duration('PT7M42.0370831S'))"
   ]
  },
  {
   "cell_type": "code",
   "execution_count": null,
   "metadata": {},
   "outputs": [],
   "source": []
  },
  {
   "cell_type": "code",
   "execution_count": null,
   "metadata": {
    "ExecuteTime": {
     "end_time": "2021-06-28T21:44:02.819544Z",
     "start_time": "2021-06-28T21:44:02.805553Z"
    }
   },
   "outputs": [],
   "source": [
    "response.read()"
   ]
  },
  {
   "cell_type": "code",
   "execution_count": null,
   "metadata": {
    "ExecuteTime": {
     "end_time": "2021-06-28T20:09:25.805598Z",
     "start_time": "2021-06-28T20:09:25.794604Z"
    }
   },
   "outputs": [],
   "source": [
    "dic = json.loads(data)\n",
    "\n",
    "# dic['Results'][0]['MapId']\n",
    "\n",
    "map_list = []\n",
    "\n",
    "i = 0\n",
    "\n",
    "for map in dic['Results']:\n",
    "    mapId = dic['Results'][i]['MapVariant']['ResourceId']\n",
    "    map_list.append(mapId)\n",
    "    i += 1\n",
    "    \n",
    "map_list\n",
    "    "
   ]
  },
  {
   "cell_type": "markdown",
   "metadata": {},
   "source": [
    "## Map Variants"
   ]
  },
  {
   "cell_type": "code",
   "execution_count": null,
   "metadata": {
    "ExecuteTime": {
     "end_time": "2021-06-28T21:42:39.121303Z",
     "start_time": "2021-06-28T21:42:25.260518Z"
    }
   },
   "outputs": [],
   "source": [
    "# # dic['Results'][0]['MapId']\n",
    "\n",
    "# map_list = []\n",
    "\n",
    "# i = 0\n",
    "\n",
    "# for map in dic['Results']:\n",
    "#     mapId = dic['Results'][i]['MapVariant']['ResourceId']\n",
    "#     map_list.append(mapId)\n",
    "#     i += 1\n",
    "    \n",
    "# map_list\n",
    "    \n",
    "\n",
    "########### Python 3.2 #############\n",
    "import http.client, urllib.request, urllib.parse, urllib.error, base64\n",
    "\n",
    "id = '8c7142ec-178e-461a-8b9c-d83e2d63a5df'\n",
    "\n",
    "headers = {\n",
    "    # Request headers\n",
    "    'Accept-Language': 'en',\n",
    "    'Ocp-Apim-Subscription-Key': api_key,\n",
    "}\n",
    "\n",
    "params = urllib.parse.urlencode({\n",
    "})\n",
    "\n",
    "map_list_names = []\n",
    "\n",
    "for map_id in map_list:\n",
    "    try:\n",
    "        conn = http.client.HTTPSConnection('www.haloapi.com')\n",
    "        conn.request(\"GET\", f\"/metadata/h5/metadata/map-variants/{map_id}?%s\" % params, \"{body}\", headers)\n",
    "        response = conn.getresponse()\n",
    "        data = response.read()\n",
    "        data = json.loads(data)\n",
    "        map_name = data['name']\n",
    "        map_list_names.append(map_name)\n",
    "        conn.close()\n",
    "        time.sleep(1.2)\n",
    "    except Exception as e:\n",
    "        print(\"[Errno {0}] {1}\".format(e.errno, e.strerror))\n",
    "\n",
    "####################################\n",
    "\n",
    "map_list_names\n"
   ]
  },
  {
   "cell_type": "code",
   "execution_count": null,
   "metadata": {
    "ExecuteTime": {
     "end_time": "2021-06-28T19:18:40.113088Z",
     "start_time": "2021-06-28T19:17:21.275027Z"
    }
   },
   "outputs": [],
   "source": []
  },
  {
   "cell_type": "markdown",
   "metadata": {
    "ExecuteTime": {
     "end_time": "2021-06-28T19:18:58.190532Z",
     "start_time": "2021-06-28T19:18:58.170539Z"
    }
   },
   "source": [
    "# Scratch"
   ]
  },
  {
   "cell_type": "code",
   "execution_count": null,
   "metadata": {},
   "outputs": [],
   "source": []
  },
  {
   "cell_type": "code",
   "execution_count": null,
   "metadata": {},
   "outputs": [],
   "source": [
    "df_match"
   ]
  },
  {
   "cell_type": "code",
   "execution_count": null,
   "metadata": {},
   "outputs": [],
   "source": [
    "df_match1 = df_match.copy()\n",
    "\n",
    "playerteam = df_match.loc[df_match['Gamertag'] == user, 'TeamId'].values[0]\n",
    "playerteam\n",
    "\n",
    "player_df = df_match.loc[df_match['TeamId'] == playerteam]\n",
    "enemy_df = df_match.loc[df_match['TeamId'] != playerteam]\n",
    "\n",
    "row_list = []\n",
    "\n",
    "row_list.append(match_details[0]['MatchId'])\n",
    "\n",
    "for row in range(len(player_df)):\n",
    "    \n",
    "    row_list.extend(list(player_df.iloc[row].values[1:]))\n",
    "    \n",
    "for row in range(len(enemy_df)):\n",
    "    \n",
    "    row_list.extend(list(enemy_df.iloc[row].values[1:]))\n",
    "\n",
    "# row_list.extend(list(player_df.iloc[row].values[1:]) for row in range(len(player_df)))\n",
    "row_list\n"
   ]
  },
  {
   "cell_type": "code",
   "execution_count": null,
   "metadata": {},
   "outputs": [],
   "source": [
    "# match_details_df.loc[row_count] = row_list\n",
    "\n",
    "match_details_df\n",
    "row_list"
   ]
  },
  {
   "cell_type": "code",
   "execution_count": null,
   "metadata": {},
   "outputs": [],
   "source": [
    "df_match"
   ]
  },
  {
   "cell_type": "code",
   "execution_count": null,
   "metadata": {},
   "outputs": [],
   "source": [
    "match_results = match_details[3]\n",
    "\n",
    "i = 0\n",
    "\n",
    "df_match = pd.DataFrame()\n",
    "columns = [\n",
    "    'TeamId',\n",
    "    'Gamertag',\n",
    "    'SpartanRank',\n",
    "    'PrevTotalXP',\n",
    "]\n",
    "df_match = pd.DataFrame(columns = columns)\n",
    "\n",
    "for player in match_results['PlayerStats']:\n",
    "\n",
    "    player_dic = {}\n",
    "    # Team ID\n",
    "    player_dic['TeamId'] = match_results['PlayerStats'][i]['TeamId']\n",
    "    # Gamer Tag\n",
    "    player_dic['Gamertag'] = match_results['PlayerStats'][i]['Player']['Gamertag']\n",
    "    # Spartan Rank\n",
    "    player_dic['SpartanRank'] = match_results['PlayerStats'][i]['XpInfo']['SpartanRank']\n",
    "    # Previous Total XP\n",
    "    player_dic['PrevTotalXP'] = match_results['PlayerStats'][i]['XpInfo']['PrevTotalXP']\n",
    "    df_match = df_match.append(player_dic, ignore_index=True)\n",
    "    i += 1\n",
    "    \n",
    "df_match\n",
    "\n",
    "# playerteam = df_match.loc[df_match['Gamertag'] == user, 'TeamId'].values[0]\n",
    "\n",
    "# playerteam"
   ]
  },
  {
   "cell_type": "code",
   "execution_count": null,
   "metadata": {},
   "outputs": [],
   "source": []
  },
  {
   "cell_type": "code",
   "execution_count": null,
   "metadata": {},
   "outputs": [],
   "source": [
    "test_df = model_df.copy()\n",
    "\n",
    "\n",
    "\n",
    "test_df['P3_TotalTimePlayed'] = pd.to_numeric(test_df['P3_TotalTimePlayed'], errors='coerce', downcast='float')\n",
    "\n",
    "# test_df.info()\n",
    "\n",
    "test_df.head(20)"
   ]
  },
  {
   "cell_type": "code",
   "execution_count": null,
   "metadata": {},
   "outputs": [],
   "source": [
    "isinstance(test_df['P3_TotalTimePlayed'], pd.Series)"
   ]
  },
  {
   "cell_type": "code",
   "execution_count": null,
   "metadata": {},
   "outputs": [],
   "source": [
    "index_series = test_df['P3_TotalTimePlayed'].map(lambda x: isinstance(x, pd.core.series.Series))\n",
    "\n",
    "test_df[index_series]"
   ]
  },
  {
   "cell_type": "code",
   "execution_count": null,
   "metadata": {},
   "outputs": [],
   "source": [
    "model_df.iloc[18, 3]"
   ]
  },
  {
   "cell_type": "markdown",
   "metadata": {},
   "source": [
    "# original modeling code"
   ]
  },
  {
   "cell_type": "code",
   "execution_count": null,
   "metadata": {},
   "outputs": [],
   "source": []
  },
  {
   "cell_type": "markdown",
   "metadata": {},
   "source": [
    "# Model with TimePlayed"
   ]
  },
  {
   "cell_type": "code",
   "execution_count": null,
   "metadata": {},
   "outputs": [],
   "source": [
    "\n",
    "\n",
    "# Assigning X and y for train test split\n",
    "\n",
    "features = model_1000.drop(['PlayerWin'], axis=1)\n",
    "target = model_1000['PlayerWin']\n",
    "\n",
    "\n",
    "X = features\n",
    "y = target\n",
    "\n",
    "y=y.astype('int')\n",
    "\n",
    "X_train, X_test, y_train, y_test = train_test_split(X, y, test_size=0.3, \n",
    "                                                    random_state=8)\n",
    "\n",
    "print(X_train.shape)\n",
    "print(X_test.shape)\n",
    "\n",
    "X_train"
   ]
  },
  {
   "cell_type": "markdown",
   "metadata": {},
   "source": [
    "# Fit Transform Data"
   ]
  },
  {
   "cell_type": "code",
   "execution_count": null,
   "metadata": {},
   "outputs": [],
   "source": [
    "# numericals = X.select_dtypes('float').columns\n",
    "\n",
    "# scaler = StandardScaler()\n",
    "\n",
    "# X_train = pd.DataFrame(scaler.fit_transform(X_train), columns=numericals)\n",
    "\n",
    "# X_test = pd.DataFrame(scaler.transform(X_test), columns=numericals)"
   ]
  },
  {
   "cell_type": "code",
   "execution_count": null,
   "metadata": {},
   "outputs": [],
   "source": [
    "model_log = LogisticRegression(random_state=8)\n",
    "model_log.fit(X_train, y_train)"
   ]
  },
  {
   "cell_type": "code",
   "execution_count": null,
   "metadata": {},
   "outputs": [],
   "source": [
    "def evaluate_model(model, X_train, X_test, y_train=y_train, \n",
    "                   y_test=y_test, cmap='Greens', normalize=None,\n",
    "                   classes=None,figsize=(10,4)):\n",
    "    \n",
    "    \"\"\"\n",
    "    model :: classifier user desires to evaluate\n",
    "    X_train :: X training data\n",
    "    X_test :: X test data\n",
    "    y_train :: y_train data\n",
    "    y_test :: y_train data\n",
    "    cmap :: color palette of confusion matrix\n",
    "    normalize :: set to True if normalized confusion matrix is desired\n",
    "    figsize :: desired plot size\n",
    "\n",
    "    \"\"\"\n",
    "    \n",
    "    # Print model accuracy\n",
    "    print(f'Training Accuracy: {model.score(X_train,y_train):.2%}')\n",
    "    print(f'Test Accuracy: {model.score(X_test,y_test):.2%}')\n",
    "    print('')\n",
    "    \n",
    "    # Print classification report\n",
    "    y_test_predict = model.predict(X_test)\n",
    "    print(metrics.classification_report(y_test, y_test_predict,\n",
    "                                        target_names=classes))\n",
    "    \n",
    "    # Plot confusion matrix\n",
    "    fig,ax = plt.subplots(ncols=2,figsize=figsize)\n",
    "    metrics.plot_confusion_matrix(model, X_test,y_test,cmap=cmap, \n",
    "                                  normalize=normalize,display_labels=classes,\n",
    "                                  ax=ax[0])\n",
    "    \n",
    "    #Plot ROC curves\n",
    "    with sns.axes_style(\"darkgrid\"):\n",
    "        curve = metrics.plot_roc_curve(model,X_train,y_train,ax=ax[1])\n",
    "        curve2 = metrics.plot_roc_curve(model,X_test,y_test,ax=ax[1])\n",
    "        curve.ax_.grid()\n",
    "        curve.ax_.plot([0,1],[0,1],ls=':')\n",
    "        fig.tight_layout()\n",
    "        plt.show()"
   ]
  },
  {
   "cell_type": "code",
   "execution_count": null,
   "metadata": {},
   "outputs": [],
   "source": [
    "evaluate_model(model_log, X_train, X_test)"
   ]
  },
  {
   "cell_type": "code",
   "execution_count": null,
   "metadata": {},
   "outputs": [],
   "source": []
  },
  {
   "cell_type": "code",
   "execution_count": null,
   "metadata": {},
   "outputs": [],
   "source": [
    "model_columns = ['PlayerWin',\n",
    "    'P1_PrevTotalXP', 'P2_PrevTotalXP',\n",
    "    'P3_PrevTotalXP', 'P4_PrevTotalXP', 'E1_PrevTotalXP',\n",
    "    'E2_PrevTotalXP', 'E3_PrevTotalXP', 'E4_PrevTotalXP',\n",
    "    ]\n",
    "\n",
    "model_df = df[model_columns].copy()\n",
    "\n",
    "model_df = model_df.dropna()\n",
    "\n",
    "\n",
    "# Sort Players in dataframe by highest value\n",
    "i = 0\n",
    "for row in tqdm(model_df.iterrows()):\n",
    "\n",
    "        model_df.iloc[i, 1:5] = model_df.iloc[i, 1:5].sort_values(ascending=False).values\n",
    "        # print(player_sort)\n",
    "\n",
    "        model_df.iloc[i, 5:9] = model_df.iloc[i, 5:9].sort_values(ascending=False).values\n",
    "        # print(enemy_sort)\n",
    "    \n",
    "        i += 1"
   ]
  },
  {
   "cell_type": "code",
   "execution_count": null,
   "metadata": {
    "ExecuteTime": {
     "end_time": "2021-07-11T21:56:56.830945Z",
     "start_time": "2021-07-11T21:56:05.262886Z"
    }
   },
   "outputs": [],
   "source": []
  },
  {
   "cell_type": "code",
   "execution_count": null,
   "metadata": {
    "ExecuteTime": {
     "end_time": "2021-07-12T00:23:34.528430Z",
     "start_time": "2021-07-12T00:21:07.738728Z"
    }
   },
   "outputs": [],
   "source": [
    "# all_players_df = pd.DataFrame(all_players)\n",
    "\n",
    "# all_players_df.head()\n",
    "\n",
    "# all_players_df.to_csv('all_players.csv')"
   ]
  },
  {
   "cell_type": "code",
   "execution_count": null,
   "metadata": {},
   "outputs": [],
   "source": [
    "# df = df2.head(1).copy()\n",
    "\n",
    "# df2.head(1)"
   ]
  },
  {
   "cell_type": "code",
   "execution_count": null,
   "metadata": {},
   "outputs": [],
   "source": [
    "# P1 = (df['P1'].values[0], 'P1')\n",
    "# P2 = (df['P2'].values[0], 'P2')\n",
    "# roster = [P1, P2]\n",
    "\n",
    "# df[P1[1] + '_TotalTimePlayed']"
   ]
  },
  {
   "cell_type": "code",
   "execution_count": null,
   "metadata": {},
   "outputs": [],
   "source": [
    "# # it's not going to the next row so i'm going to figure out why that is\n",
    "\n",
    "# 'P1' in df\n",
    "\n",
    "# p[1] + '_TotalTimePlayed' not in df\n",
    "\n",
    "\n",
    "\n",
    "# df = df2.head(3).copy()\n",
    "\n",
    "# df[p[1] + '_TotalTimePlayed'] = pd.Series\n",
    "# df[p[1] + '_TotalTimePlayed'].iloc[0] = 1\n",
    "# df[p[1] + '_TotalTimePlayed'].iloc[0]"
   ]
  },
  {
   "cell_type": "markdown",
   "metadata": {},
   "source": [
    "# This code successfully adds player stat for game base variant for entire DataFrame"
   ]
  },
  {
   "cell_type": "code",
   "execution_count": null,
   "metadata": {
    "ExecuteTime": {
     "end_time": "2021-07-11T22:00:34.322582Z",
     "start_time": "2021-07-11T22:00:34.319592Z"
    }
   },
   "outputs": [],
   "source": []
  },
  {
   "cell_type": "code",
   "execution_count": null,
   "metadata": {},
   "outputs": [],
   "source": [
    "# if p[1] + '_K/D' not in df:\n",
    "#     df[p[1] + '_K/D'] = pd.Series()\n",
    "#     df[p[1] + '_K/D'].iloc[row_count] = variant['TotalKills'] / variant['TotalDeaths']\n",
    "# # Create new column for TotalTimePlayed using P1, P2, E1, etc.\n",
    "# else:\n",
    "#     df[p[1] + '_K/D'].iloc[row_count] = variant['TotalKills'] / variant['TotalDeaths']\n",
    "    \n",
    "# if p[1] + '_Accuracy' not in df:\n",
    "#     df[p[1] + '_Accuracy'] = pd.Series()\n",
    "#     df[p[1] + '_Accuracy'].iloc[row_count] = variant['TotalShotsLanded'] / variant['TotalShotsFired']\n",
    "# # Create new column for TotalTimePlayed using P1, P2, E1, etc.\n",
    "# else:\n",
    "#     df[p[1] + '_Accuracy'].iloc[row_count] = variant['TotalShotsLanded'] / variant['TotalShotsFired']\n",
    "    \n",
    "# if p[1] + '_WinRate' not in df:\n",
    "#     df[p[1] + '_WinRate'] = pd.Series()\n",
    "#     df[p[1] + '_WinRate'].iloc[row_count] = variant['TotalGamesWon'] / variant['TotalGamesLost']\n",
    "# # Create new column for TotalTimePlayed using P1, P2, E1, etc.\n",
    "# else:\n",
    "#     df[p[1] + '_WinRate'].iloc[row_count] = variant['TotalGamesWon'] / variant['TotalGamesLost']\n"
   ]
  }
 ],
 "metadata": {
  "kernelspec": {
   "display_name": "learn-env",
   "language": "python",
   "name": "learn-env"
  },
  "language_info": {
   "codemirror_mode": {
    "name": "ipython",
    "version": 3
   },
   "file_extension": ".py",
   "mimetype": "text/x-python",
   "name": "python",
   "nbconvert_exporter": "python",
   "pygments_lexer": "ipython3",
   "version": "3.8.5"
  },
  "toc": {
   "base_numbering": 1,
   "nav_menu": {},
   "number_sections": true,
   "sideBar": true,
   "skip_h1_title": false,
   "title_cell": "Table of Contents",
   "title_sidebar": "Contents",
   "toc_cell": false,
   "toc_position": {
    "height": "calc(100% - 180px)",
    "left": "10px",
    "top": "150px",
    "width": "235.825px"
   },
   "toc_section_display": true,
   "toc_window_display": true
  }
 },
 "nbformat": 4,
 "nbformat_minor": 4
}
