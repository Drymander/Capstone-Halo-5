{
 "cells": [
  {
   "cell_type": "markdown",
   "metadata": {},
   "source": [
    "# To Do"
   ]
  },
  {
   "cell_type": "markdown",
   "metadata": {},
   "source": [
    "TRY SORTING ONLY FOR ONE FEATURE AND REARRANGING THE P1 P2 TO CORRESPOND\n",
    "\n",
    "Pull last 25 matches for enough players to fill large database, determine winner based on specified player, and pull playlist history for each player in that match to new modeling dataframe.  \n",
    "\n",
    "Thinking 10,000\n",
    "\n"
   ]
  },
  {
   "cell_type": "markdown",
   "metadata": {},
   "source": [
    "# Theme"
   ]
  },
  {
   "cell_type": "code",
   "execution_count": 428,
   "metadata": {
    "ExecuteTime": {
     "end_time": "2021-07-20T16:36:11.536983Z",
     "start_time": "2021-07-20T16:36:11.533982Z"
    }
   },
   "outputs": [],
   "source": [
    "# import jupyterthemes as jt\n",
    "\n",
    "# !jt -r\n",
    "\n",
    "# !jt -t gruvboxd\n",
    "# !jt -t gruvboxd -T\n",
    "# from IPython.core.display import display, HTML\n",
    "# display(HTML(\"<style>.container { width:80% !important; }</style>\"))"
   ]
  },
  {
   "cell_type": "markdown",
   "metadata": {},
   "source": [
    "# Imports"
   ]
  },
  {
   "cell_type": "code",
   "execution_count": 429,
   "metadata": {
    "ExecuteTime": {
     "end_time": "2021-07-20T16:36:11.548978Z",
     "start_time": "2021-07-20T16:36:11.539984Z"
    }
   },
   "outputs": [],
   "source": [
    "import requests\n",
    "import pandas as pd\n",
    "import matplotlib.pyplot as plt\n",
    "%matplotlib inline\n",
    "import seaborn as sns\n",
    "import numpy as np\n",
    "\n",
    "import json\n",
    "def get_keys(path):\n",
    "    with open(path) as f:\n",
    "        return json.load(f)\n",
    "# keys = get_keys(\"/Users/Johnny/.secret/yelp_api.json\")\n",
    "# api_key = keys['api_key']\n",
    "# pip install tmdbsimple #Ctrl+? this line to install tmdbsimple\n",
    "import tmdbsimple as tmdb\n",
    "# tmdb.API_KEY = api_key\n",
    "\n",
    "scrape = False\n",
    "\n",
    "import ast\n",
    "import time\n",
    "import http.client, urllib.request, urllib.parse, urllib.error, base64\n",
    "\n",
    "api_key = 'ceeaacb7cf024c7485e00ef8457e42dc'\n",
    "\n",
    "# !pip install isodate\n",
    "\n",
    "user = 'Drymander'\n",
    "\n",
    "import pickle\n",
    "from tqdm import tqdm"
   ]
  },
  {
   "cell_type": "code",
   "execution_count": 430,
   "metadata": {
    "ExecuteTime": {
     "end_time": "2021-07-20T16:36:11.561989Z",
     "start_time": "2021-07-20T16:36:11.549986Z"
    }
   },
   "outputs": [
    {
     "name": "stderr",
     "output_type": "stream",
     "text": [
      "[nltk_data] Downloading package punkt to\n",
      "[nltk_data]     C:\\Users\\johnn\\AppData\\Roaming\\nltk_data...\n",
      "[nltk_data]   Package punkt is already up-to-date!\n",
      "[nltk_data] Downloading package stopwords to\n",
      "[nltk_data]     C:\\Users\\johnn\\AppData\\Roaming\\nltk_data...\n",
      "[nltk_data]   Package stopwords is already up-to-date!\n"
     ]
    }
   ],
   "source": [
    "#Standard python libraries\n",
    "import pandas as pd\n",
    "import seaborn as sns\n",
    "# sns.set_context('talk')\n",
    "import matplotlib.pyplot as plt\n",
    "import numpy as np\n",
    "import warnings\n",
    "warnings.filterwarnings(action='ignore') \n",
    "\n",
    "# Preprocessing tools\n",
    "from sklearn.model_selection import train_test_split,cross_val_predict,cross_validate\n",
    "from sklearn.preprocessing import MinMaxScaler,StandardScaler,OneHotEncoder\n",
    "scaler = StandardScaler()\n",
    "from sklearn import metrics\n",
    "\n",
    "# Models & Utilities\n",
    "from sklearn.dummy import DummyClassifier\n",
    "from sklearn.linear_model import LogisticRegression,LogisticRegressionCV\n",
    "from sklearn.ensemble import RandomForestClassifier\n",
    "from sklearn.model_selection import train_test_split\n",
    "from sklearn.linear_model import LogisticRegression\n",
    "from sklearn.metrics import classification_report\n",
    "from sklearn.model_selection import cross_val_score\n",
    "from xgboost import XGBClassifier\n",
    "from sklearn.model_selection import GridSearchCV\n",
    "from sklearn.metrics import plot_confusion_matrix\n",
    "from sklearn.metrics import accuracy_score, confusion_matrix, classification_report, precision_score, recall_score, f1_score\n",
    "from sklearn import svm\n",
    "\n",
    "# Warnings\n",
    "import warnings\n",
    "warnings.filterwarnings(action='ignore') \n",
    "\n",
    "# NLP Libraries\n",
    "import nltk\n",
    "import collections\n",
    "nltk.download('punkt')\n",
    "from sklearn.manifold import TSNE\n",
    "from nltk.tokenize import word_tokenize\n",
    "from nltk import regexp_tokenize\n",
    "import re\n",
    "from nltk.corpus import stopwords\n",
    "from nltk.collocations import *\n",
    "from nltk import FreqDist\n",
    "from nltk import word_tokenize\n",
    "from nltk import ngrams\n",
    "import string\n",
    "from sklearn.feature_extraction.text import CountVectorizer\n",
    "from sklearn.feature_extraction.text import TfidfVectorizer\n",
    "nltk.download('stopwords')\n",
    "# !pip install wordcloud\n",
    "from wordcloud import WordCloud\n",
    "\n",
    "import http.client, urllib.request, urllib.parse, urllib.error, base64\n",
    "\n",
    "import isodate\n",
    "from sklearn.preprocessing import MinMaxScaler\n",
    "from sklearn.preprocessing import minmax_scale\n",
    "from sklearn.preprocessing import MaxAbsScaler\n",
    "from sklearn.preprocessing import StandardScaler\n",
    "from sklearn.preprocessing import RobustScaler\n",
    "from sklearn.preprocessing import Normalizer\n",
    "from sklearn.preprocessing import QuantileTransformer\n",
    "from sklearn.preprocessing import PowerTransformer"
   ]
  },
  {
   "cell_type": "markdown",
   "metadata": {},
   "source": [
    "# Load Player Match History and All Matches"
   ]
  },
  {
   "cell_type": "code",
   "execution_count": 431,
   "metadata": {
    "ExecuteTime": {
     "end_time": "2021-07-20T16:36:11.572984Z",
     "start_time": "2021-07-20T16:36:11.562980Z"
    }
   },
   "outputs": [],
   "source": [
    "# df_history = pd.read_csv('DrymanderHistoryExplode.csv')\n",
    "\n",
    "# with open('match_details.pkl', 'rb') as match_details:\n",
    "#     match_details = pickle.load(match_details)\n",
    "    \n",
    "# len(match_details)"
   ]
  },
  {
   "cell_type": "code",
   "execution_count": 432,
   "metadata": {
    "ExecuteTime": {
     "end_time": "2021-07-20T16:36:13.111331Z",
     "start_time": "2021-07-20T16:36:11.573983Z"
    }
   },
   "outputs": [
    {
     "data": {
      "text/html": [
       "<div>\n",
       "<style scoped>\n",
       "    .dataframe tbody tr th:only-of-type {\n",
       "        vertical-align: middle;\n",
       "    }\n",
       "\n",
       "    .dataframe tbody tr th {\n",
       "        vertical-align: top;\n",
       "    }\n",
       "\n",
       "    .dataframe thead th {\n",
       "        text-align: right;\n",
       "    }\n",
       "</style>\n",
       "<table border=\"1\" class=\"dataframe\">\n",
       "  <thead>\n",
       "    <tr style=\"text-align: right;\">\n",
       "      <th></th>\n",
       "      <th>Date</th>\n",
       "      <th>MatchId</th>\n",
       "      <th>GameBaseVariantId</th>\n",
       "      <th>PlaylistId</th>\n",
       "      <th>MapVariantId</th>\n",
       "      <th>WinLoseTie</th>\n",
       "      <th>P1_Gamertag</th>\n",
       "      <th>P1_SpartanRank</th>\n",
       "      <th>P1_PrevTotalXP</th>\n",
       "      <th>P1_TotalKills</th>\n",
       "      <th>...</th>\n",
       "      <th>E4_TotalPowerWeaponGrabs</th>\n",
       "      <th>E4_TotalPowerWeaponPossessionTime</th>\n",
       "      <th>E4_TotalDeaths</th>\n",
       "      <th>E4_TotalAssists</th>\n",
       "      <th>E4_TotalGamesCompleted</th>\n",
       "      <th>E4_TotalGamesWon</th>\n",
       "      <th>E4_TotalGamesLost</th>\n",
       "      <th>E4_TotalGamesTied</th>\n",
       "      <th>E4_TotalTimePlayed</th>\n",
       "      <th>E4_TotalGrenadeKills</th>\n",
       "    </tr>\n",
       "  </thead>\n",
       "  <tbody>\n",
       "    <tr>\n",
       "      <th>0</th>\n",
       "      <td>2021-07-17 21:39:00</td>\n",
       "      <td>1bc32b01-2dda-418a-8853-ba3d3b09f912</td>\n",
       "      <td>257a305e-4dd3-41f1-9824-dfe7e8bd59e1</td>\n",
       "      <td>f0c9ef9a-48bd-4b24-9db3-2c76b4e23450</td>\n",
       "      <td>d5f2d94f-b51f-4a0c-8c35-af99426bf14d</td>\n",
       "      <td>Defeat</td>\n",
       "      <td>TED Cloverlan</td>\n",
       "      <td>102</td>\n",
       "      <td>3348130</td>\n",
       "      <td>3378</td>\n",
       "      <td>...</td>\n",
       "      <td>18</td>\n",
       "      <td>PT2H59M39.6153S</td>\n",
       "      <td>1089</td>\n",
       "      <td>445</td>\n",
       "      <td>107</td>\n",
       "      <td>52</td>\n",
       "      <td>48</td>\n",
       "      <td>7</td>\n",
       "      <td>11.855415</td>\n",
       "      <td>43</td>\n",
       "    </tr>\n",
       "    <tr>\n",
       "      <th>1</th>\n",
       "      <td>2021-07-19 00:29:00</td>\n",
       "      <td>06c5149f-72af-4678-9615-7d2db89db290</td>\n",
       "      <td>a2949322-dc84-45ab-8454-cf94fb28c189</td>\n",
       "      <td>f0c9ef9a-48bd-4b24-9db3-2c76b4e23450</td>\n",
       "      <td>7a4ca104-7242-4efe-a53e-fb5295d7b092</td>\n",
       "      <td>Victory</td>\n",
       "      <td>Drymander</td>\n",
       "      <td>148</td>\n",
       "      <td>15348257</td>\n",
       "      <td>39273</td>\n",
       "      <td>...</td>\n",
       "      <td>31</td>\n",
       "      <td>PT1H50M55.1666S</td>\n",
       "      <td>1227</td>\n",
       "      <td>559</td>\n",
       "      <td>105</td>\n",
       "      <td>35</td>\n",
       "      <td>65</td>\n",
       "      <td>5</td>\n",
       "      <td>12.014393</td>\n",
       "      <td>11</td>\n",
       "    </tr>\n",
       "    <tr>\n",
       "      <th>2</th>\n",
       "      <td>2021-07-19 00:25:00</td>\n",
       "      <td>7801d2b0-f941-4851-9b04-8208a5439497</td>\n",
       "      <td>a2949322-dc84-45ab-8454-cf94fb28c189</td>\n",
       "      <td>f0c9ef9a-48bd-4b24-9db3-2c76b4e23450</td>\n",
       "      <td>d0a6c435-a5df-465f-b728-0547dea06c3c</td>\n",
       "      <td>Victory</td>\n",
       "      <td>TWINKYNECKS</td>\n",
       "      <td>151</td>\n",
       "      <td>37161347</td>\n",
       "      <td>58661</td>\n",
       "      <td>...</td>\n",
       "      <td>0</td>\n",
       "      <td>PT6H28M57.5337S</td>\n",
       "      <td>1603</td>\n",
       "      <td>853</td>\n",
       "      <td>117</td>\n",
       "      <td>49</td>\n",
       "      <td>48</td>\n",
       "      <td>20</td>\n",
       "      <td>12.392531</td>\n",
       "      <td>40</td>\n",
       "    </tr>\n",
       "  </tbody>\n",
       "</table>\n",
       "<p>3 rows × 230 columns</p>\n",
       "</div>"
      ],
      "text/plain": [
       "                 Date                               MatchId  \\\n",
       "0 2021-07-17 21:39:00  1bc32b01-2dda-418a-8853-ba3d3b09f912   \n",
       "1 2021-07-19 00:29:00  06c5149f-72af-4678-9615-7d2db89db290   \n",
       "2 2021-07-19 00:25:00  7801d2b0-f941-4851-9b04-8208a5439497   \n",
       "\n",
       "                      GameBaseVariantId                            PlaylistId  \\\n",
       "0  257a305e-4dd3-41f1-9824-dfe7e8bd59e1  f0c9ef9a-48bd-4b24-9db3-2c76b4e23450   \n",
       "1  a2949322-dc84-45ab-8454-cf94fb28c189  f0c9ef9a-48bd-4b24-9db3-2c76b4e23450   \n",
       "2  a2949322-dc84-45ab-8454-cf94fb28c189  f0c9ef9a-48bd-4b24-9db3-2c76b4e23450   \n",
       "\n",
       "                           MapVariantId WinLoseTie    P1_Gamertag  \\\n",
       "0  d5f2d94f-b51f-4a0c-8c35-af99426bf14d     Defeat  TED Cloverlan   \n",
       "1  7a4ca104-7242-4efe-a53e-fb5295d7b092    Victory      Drymander   \n",
       "2  d0a6c435-a5df-465f-b728-0547dea06c3c    Victory    TWINKYNECKS   \n",
       "\n",
       "   P1_SpartanRank  P1_PrevTotalXP  P1_TotalKills  ...  \\\n",
       "0             102         3348130           3378  ...   \n",
       "1             148        15348257          39273  ...   \n",
       "2             151        37161347          58661  ...   \n",
       "\n",
       "   E4_TotalPowerWeaponGrabs  E4_TotalPowerWeaponPossessionTime  \\\n",
       "0                        18                    PT2H59M39.6153S   \n",
       "1                        31                    PT1H50M55.1666S   \n",
       "2                         0                    PT6H28M57.5337S   \n",
       "\n",
       "   E4_TotalDeaths  E4_TotalAssists  E4_TotalGamesCompleted  E4_TotalGamesWon  \\\n",
       "0            1089              445                     107                52   \n",
       "1            1227              559                     105                35   \n",
       "2            1603              853                     117                49   \n",
       "\n",
       "   E4_TotalGamesLost  E4_TotalGamesTied  E4_TotalTimePlayed  \\\n",
       "0                 48                  7           11.855415   \n",
       "1                 65                  5           12.014393   \n",
       "2                 48                 20           12.392531   \n",
       "\n",
       "   E4_TotalGrenadeKills  \n",
       "0                    43  \n",
       "1                    11  \n",
       "2                    40  \n",
       "\n",
       "[3 rows x 230 columns]"
      ]
     },
     "execution_count": 432,
     "metadata": {},
     "output_type": "execute_result"
    }
   ],
   "source": [
    "# df = pd.read_csv('MODEL_PULL.csv')\n",
    "# # df = df.reset_index\n",
    "# df = df.drop(['Unnamed: 0'], axis=1)\n",
    "# df['GameBaseVariantId'] = decode_column(df, 'GameBaseVariantId', GameBaseVariantId_dic)\n",
    "# df['PlaylistId'] = decode_column(df, 'PlaylistId', PlaylistId_dic)\n",
    "# df['MapVariantId'] = decode_maps(df, 'MapVariantId', map_list)\n",
    "\n",
    "# df = df[df['WinLoseTie'] != 'Tie']\n",
    "# df.loc[(df['WinLoseTie'] == 'Victory'),'WinLoseTie'] = 1\n",
    "# df.loc[(df['WinLoseTie'] == 'Defeat'),'WinLoseTie'] = 0\n",
    "# df['WinLoseTie'] = df['WinLoseTie'].astype('int')\n",
    "\n",
    "# df['Date'] = df['Date'].apply(pd.to_datetime)\n",
    "# df = df[(df['Date'] > '2021-07-01')]\n",
    "\n",
    "df\n",
    "\n",
    "df = pd.read_csv('MODEL_PULL.csv')\n",
    "df['Date'] = df['Date'].apply(pd.to_datetime)\n",
    "df = df.drop(['Unnamed: 0'], axis=1)\n",
    "df = df[~df.isin([np.nan, np.inf, -np.inf]).any(1)]\n",
    "df.head(3)"
   ]
  },
  {
   "cell_type": "markdown",
   "metadata": {},
   "source": [
    "## Power Weapon Time Convert"
   ]
  },
  {
   "cell_type": "code",
   "execution_count": null,
   "metadata": {
    "ExecuteTime": {
     "end_time": "2021-07-20T16:04:16.857180Z",
     "start_time": "2021-07-20T16:04:16.853179Z"
    }
   },
   "outputs": [],
   "source": []
  },
  {
   "cell_type": "code",
   "execution_count": 433,
   "metadata": {
    "ExecuteTime": {
     "end_time": "2021-07-20T16:36:13.114331Z",
     "start_time": "2021-07-20T16:36:13.112330Z"
    }
   },
   "outputs": [],
   "source": [
    "# df2 = df.copy()\n",
    "# df2['P1_TotalPowerWeaponPossessionTime']"
   ]
  },
  {
   "cell_type": "code",
   "execution_count": 434,
   "metadata": {
    "ExecuteTime": {
     "end_time": "2021-07-20T16:36:13.126333Z",
     "start_time": "2021-07-20T16:36:13.116332Z"
    }
   },
   "outputs": [],
   "source": [
    "# df = df2.copy()\n",
    "\n",
    "# df.dropna()\n",
    "# df = df[~df.isin([np.nan, np.inf, -np.inf]).any(1)]\n",
    "# # df"
   ]
  },
  {
   "cell_type": "code",
   "execution_count": 435,
   "metadata": {
    "ExecuteTime": {
     "end_time": "2021-07-20T16:36:14.279595Z",
     "start_time": "2021-07-20T16:36:13.128334Z"
    }
   },
   "outputs": [
    {
     "data": {
      "text/plain": [
       "0        14.334023\n",
       "1       157.602300\n",
       "2       215.471346\n",
       "3       346.243585\n",
       "4       157.602300\n",
       "           ...    \n",
       "8802    384.195127\n",
       "8803    400.001890\n",
       "8804    400.001890\n",
       "8805    400.001890\n",
       "8806    400.001890\n",
       "Name: P1_TotalPowerWeaponPossessionTime, Length: 8797, dtype: float64"
      ]
     },
     "execution_count": 435,
     "metadata": {},
     "output_type": "execute_result"
    }
   ],
   "source": [
    "# df = df2.copy()\n",
    "\n",
    "roster = ['P1', 'P2', 'P3', 'P4', 'E1', 'E2', 'E3', 'E4']\n",
    "# roster = ['P4']\n",
    "# for player in roster:\n",
    "#     df[f'{player}_TotalPowerWeaponPossessionTime'] = isodate.parse_duration(df[f'{player}_TotalPowerWeaponPossessionTime'] / df[f'{player}_TotalGamesLost']).total_seconds() / 3600\n",
    "\n",
    "df['P1_TotalPowerWeaponPossessionTime']\n",
    "# isodate.parse_duration(df['P1_TotalPowerWeaponPossessionTime']).total_seconds() / 3600\n",
    "isodate.parse_duration('PT0S').total_seconds() / 3600\n",
    "\n",
    "for player in roster:\n",
    "    parsed_times = []\n",
    "    for row in df[f'{player}_TotalPowerWeaponPossessionTime']:\n",
    "        row = isodate.parse_duration(row).total_seconds() / 3600\n",
    "    #     print(row)\n",
    "        parsed_times.append(row)\n",
    "    df[f'{player}_TotalPowerWeaponPossessionTime'] = parsed_times\n",
    "    # df['P1_TotalPowerWeaponPossessionTime']\n",
    "df['P1_TotalPowerWeaponPossessionTime']"
   ]
  },
  {
   "cell_type": "markdown",
   "metadata": {},
   "source": [
    "## Add MatchId, GameBaseVariantId"
   ]
  },
  {
   "cell_type": "code",
   "execution_count": 436,
   "metadata": {
    "ExecuteTime": {
     "end_time": "2021-07-20T16:36:14.285595Z",
     "start_time": "2021-07-20T16:36:14.281595Z"
    }
   },
   "outputs": [],
   "source": [
    "# df = pd.DataFrame()\n",
    "\n",
    "# df['MatchId'] = df_history['MatchId']\n",
    "# df['GameBaseVariantId'] = df_history['GameBaseVariantId']\n",
    "\n",
    "# df.head(3)"
   ]
  },
  {
   "cell_type": "markdown",
   "metadata": {},
   "source": [
    "## Store GameBaseVariantId Original Column\n",
    "\n",
    "We'll store this column as its own dataframe, which will be necessary for pulling the game variant in our Player History step."
   ]
  },
  {
   "cell_type": "code",
   "execution_count": 437,
   "metadata": {
    "ExecuteTime": {
     "end_time": "2021-07-20T16:36:14.296597Z",
     "start_time": "2021-07-20T16:36:14.287595Z"
    }
   },
   "outputs": [],
   "source": [
    "# game_base_column_store_df = pd.DataFrame()\n",
    "# game_base_column_store_df['MatchId'] = df_history['MatchId']\n",
    "# game_base_column_store_df['GameBaseVariantId'] = df_history['GameBaseVariantId']\n",
    "# game_base_column_store_df"
   ]
  },
  {
   "cell_type": "markdown",
   "metadata": {},
   "source": [
    "## MapVariantId"
   ]
  },
  {
   "cell_type": "code",
   "execution_count": 438,
   "metadata": {
    "ExecuteTime": {
     "end_time": "2021-07-20T16:36:14.307600Z",
     "start_time": "2021-07-20T16:36:14.297597Z"
    }
   },
   "outputs": [],
   "source": [
    "# MapVariantId_list = []\n",
    "\n",
    "# for match in match_details:\n",
    "#     MapVariantId = match['MapVariantId']\n",
    "#     MapVariantId_list.append(MapVariantId)\n",
    "    \n",
    "# df['MapVariantId'] = MapVariantId_list\n",
    "\n",
    "# df.head(3)"
   ]
  },
  {
   "cell_type": "markdown",
   "metadata": {},
   "source": [
    "## Playlist ID"
   ]
  },
  {
   "cell_type": "code",
   "execution_count": 439,
   "metadata": {
    "ExecuteTime": {
     "end_time": "2021-07-20T16:36:14.317602Z",
     "start_time": "2021-07-20T16:36:14.308599Z"
    }
   },
   "outputs": [],
   "source": [
    "# PlaylistId_list = []\n",
    "\n",
    "# for match in match_details:\n",
    "#     PlaylistId = match['PlaylistId']\n",
    "#     PlaylistId_list.append(PlaylistId)\n",
    "    \n",
    "# df['PlaylistId'] = PlaylistId_list\n",
    "\n",
    "# df.head(3)\n",
    "\n",
    "# # df.to_csv('playlist.csv')"
   ]
  },
  {
   "cell_type": "markdown",
   "metadata": {},
   "source": [
    "# Convert Codes to Names\n",
    "\n",
    "Now that we have MatchId, GameBaseVariantId, MapVariantId, and PlaylistId, we'll convert these to their readable naems that might be more familiar to players."
   ]
  },
  {
   "cell_type": "markdown",
   "metadata": {},
   "source": [
    "## Decode Column ID Function"
   ]
  },
  {
   "cell_type": "code",
   "execution_count": 440,
   "metadata": {
    "ExecuteTime": {
     "end_time": "2021-07-20T16:36:14.328604Z",
     "start_time": "2021-07-20T16:36:14.318602Z"
    }
   },
   "outputs": [],
   "source": [
    "def decode_column(df, column, api_dict):\n",
    "    decoded_list = []\n",
    "\n",
    "    for row in df[column]:\n",
    "        i = 0\n",
    "    #     print(row)\n",
    "        for item in api_dict:\n",
    "            if item['id'] == row:\n",
    "                name = item['name']\n",
    "                decoded_list.append(name)\n",
    "            else:\n",
    "                i += 1\n",
    "\n",
    "#     df[column] = decoded_list\n",
    "    \n",
    "    return decoded_list\n",
    "\n",
    "\n",
    "\n",
    "# decode_column(df, 'PlaylistId', plid)\n",
    "# # decode_column(df, 'GameBaseVariantId', gbv)"
   ]
  },
  {
   "cell_type": "markdown",
   "metadata": {},
   "source": [
    "## GameBaseVariant"
   ]
  },
  {
   "cell_type": "code",
   "execution_count": 441,
   "metadata": {
    "ExecuteTime": {
     "end_time": "2021-07-20T16:36:14.341607Z",
     "start_time": "2021-07-20T16:36:14.329604Z"
    }
   },
   "outputs": [],
   "source": [
    "run = False\n",
    "\n",
    "if run == True:\n",
    "    headers = {\n",
    "        # Request headers\n",
    "        'Accept-Language': 'en',\n",
    "        'Ocp-Apim-Subscription-Key': api_key,\n",
    "    }\n",
    "\n",
    "    params = urllib.parse.urlencode({\n",
    "    })\n",
    "\n",
    "    try:\n",
    "        conn = http.client.HTTPSConnection('www.haloapi.com')\n",
    "        conn.request(\"GET\", \"/metadata/h5/metadata/game-base-variants?%s\" % params, \"{body}\", headers)\n",
    "        response = conn.getresponse()\n",
    "        data = response.read()\n",
    "        GameBaseVariantId_dic = json.loads(data)\n",
    "    #     print(data)\n",
    "        conn.close()\n",
    "    except Exception as e:\n",
    "        print(\"[Errno {0}] {1}\".format(e.errno, e.strerror))\n",
    "\n",
    "    with open('GameBaseVariantId.pkl', 'wb') as GameBaseVariantId_pickle:\n",
    "        pickle.dump(GameBaseVariantId_dic, GameBaseVariantId_pickle)\n",
    "\n",
    "else:\n",
    "    with open('GameBaseVariantId.pkl', 'rb') as GameBaseVariantId_pickle:\n",
    "        GameBaseVariantId_dic = pickle.load(GameBaseVariantId_pickle)\n",
    "    \n"
   ]
  },
  {
   "cell_type": "code",
   "execution_count": 442,
   "metadata": {
    "ExecuteTime": {
     "end_time": "2021-07-20T16:36:14.390619Z",
     "start_time": "2021-07-20T16:36:14.344608Z"
    }
   },
   "outputs": [
    {
     "data": {
      "text/html": [
       "<div>\n",
       "<style scoped>\n",
       "    .dataframe tbody tr th:only-of-type {\n",
       "        vertical-align: middle;\n",
       "    }\n",
       "\n",
       "    .dataframe tbody tr th {\n",
       "        vertical-align: top;\n",
       "    }\n",
       "\n",
       "    .dataframe thead th {\n",
       "        text-align: right;\n",
       "    }\n",
       "</style>\n",
       "<table border=\"1\" class=\"dataframe\">\n",
       "  <thead>\n",
       "    <tr style=\"text-align: right;\">\n",
       "      <th></th>\n",
       "      <th>Date</th>\n",
       "      <th>MatchId</th>\n",
       "      <th>GameBaseVariantId</th>\n",
       "      <th>PlaylistId</th>\n",
       "      <th>MapVariantId</th>\n",
       "      <th>WinLoseTie</th>\n",
       "      <th>P1_Gamertag</th>\n",
       "      <th>P1_SpartanRank</th>\n",
       "      <th>P1_PrevTotalXP</th>\n",
       "      <th>P1_TotalKills</th>\n",
       "      <th>...</th>\n",
       "      <th>E4_TotalPowerWeaponGrabs</th>\n",
       "      <th>E4_TotalPowerWeaponPossessionTime</th>\n",
       "      <th>E4_TotalDeaths</th>\n",
       "      <th>E4_TotalAssists</th>\n",
       "      <th>E4_TotalGamesCompleted</th>\n",
       "      <th>E4_TotalGamesWon</th>\n",
       "      <th>E4_TotalGamesLost</th>\n",
       "      <th>E4_TotalGamesTied</th>\n",
       "      <th>E4_TotalTimePlayed</th>\n",
       "      <th>E4_TotalGrenadeKills</th>\n",
       "    </tr>\n",
       "  </thead>\n",
       "  <tbody>\n",
       "    <tr>\n",
       "      <th>0</th>\n",
       "      <td>2021-07-17 21:39:00</td>\n",
       "      <td>1bc32b01-2dda-418a-8853-ba3d3b09f912</td>\n",
       "      <td>Slayer</td>\n",
       "      <td>f0c9ef9a-48bd-4b24-9db3-2c76b4e23450</td>\n",
       "      <td>d5f2d94f-b51f-4a0c-8c35-af99426bf14d</td>\n",
       "      <td>Defeat</td>\n",
       "      <td>TED Cloverlan</td>\n",
       "      <td>102</td>\n",
       "      <td>3348130</td>\n",
       "      <td>3378</td>\n",
       "      <td>...</td>\n",
       "      <td>18</td>\n",
       "      <td>2.994338</td>\n",
       "      <td>1089</td>\n",
       "      <td>445</td>\n",
       "      <td>107</td>\n",
       "      <td>52</td>\n",
       "      <td>48</td>\n",
       "      <td>7</td>\n",
       "      <td>11.855415</td>\n",
       "      <td>43</td>\n",
       "    </tr>\n",
       "    <tr>\n",
       "      <th>1</th>\n",
       "      <td>2021-07-19 00:29:00</td>\n",
       "      <td>06c5149f-72af-4678-9615-7d2db89db290</td>\n",
       "      <td>Capture the Flag</td>\n",
       "      <td>f0c9ef9a-48bd-4b24-9db3-2c76b4e23450</td>\n",
       "      <td>7a4ca104-7242-4efe-a53e-fb5295d7b092</td>\n",
       "      <td>Victory</td>\n",
       "      <td>Drymander</td>\n",
       "      <td>148</td>\n",
       "      <td>15348257</td>\n",
       "      <td>39273</td>\n",
       "      <td>...</td>\n",
       "      <td>31</td>\n",
       "      <td>1.848657</td>\n",
       "      <td>1227</td>\n",
       "      <td>559</td>\n",
       "      <td>105</td>\n",
       "      <td>35</td>\n",
       "      <td>65</td>\n",
       "      <td>5</td>\n",
       "      <td>12.014393</td>\n",
       "      <td>11</td>\n",
       "    </tr>\n",
       "    <tr>\n",
       "      <th>2</th>\n",
       "      <td>2021-07-19 00:25:00</td>\n",
       "      <td>7801d2b0-f941-4851-9b04-8208a5439497</td>\n",
       "      <td>Capture the Flag</td>\n",
       "      <td>f0c9ef9a-48bd-4b24-9db3-2c76b4e23450</td>\n",
       "      <td>d0a6c435-a5df-465f-b728-0547dea06c3c</td>\n",
       "      <td>Victory</td>\n",
       "      <td>TWINKYNECKS</td>\n",
       "      <td>151</td>\n",
       "      <td>37161347</td>\n",
       "      <td>58661</td>\n",
       "      <td>...</td>\n",
       "      <td>0</td>\n",
       "      <td>6.482648</td>\n",
       "      <td>1603</td>\n",
       "      <td>853</td>\n",
       "      <td>117</td>\n",
       "      <td>49</td>\n",
       "      <td>48</td>\n",
       "      <td>20</td>\n",
       "      <td>12.392531</td>\n",
       "      <td>40</td>\n",
       "    </tr>\n",
       "  </tbody>\n",
       "</table>\n",
       "<p>3 rows × 230 columns</p>\n",
       "</div>"
      ],
      "text/plain": [
       "                 Date                               MatchId GameBaseVariantId  \\\n",
       "0 2021-07-17 21:39:00  1bc32b01-2dda-418a-8853-ba3d3b09f912            Slayer   \n",
       "1 2021-07-19 00:29:00  06c5149f-72af-4678-9615-7d2db89db290  Capture the Flag   \n",
       "2 2021-07-19 00:25:00  7801d2b0-f941-4851-9b04-8208a5439497  Capture the Flag   \n",
       "\n",
       "                             PlaylistId                          MapVariantId  \\\n",
       "0  f0c9ef9a-48bd-4b24-9db3-2c76b4e23450  d5f2d94f-b51f-4a0c-8c35-af99426bf14d   \n",
       "1  f0c9ef9a-48bd-4b24-9db3-2c76b4e23450  7a4ca104-7242-4efe-a53e-fb5295d7b092   \n",
       "2  f0c9ef9a-48bd-4b24-9db3-2c76b4e23450  d0a6c435-a5df-465f-b728-0547dea06c3c   \n",
       "\n",
       "  WinLoseTie    P1_Gamertag  P1_SpartanRank  P1_PrevTotalXP  P1_TotalKills  \\\n",
       "0     Defeat  TED Cloverlan             102         3348130           3378   \n",
       "1    Victory      Drymander             148        15348257          39273   \n",
       "2    Victory    TWINKYNECKS             151        37161347          58661   \n",
       "\n",
       "   ...  E4_TotalPowerWeaponGrabs  E4_TotalPowerWeaponPossessionTime  \\\n",
       "0  ...                        18                           2.994338   \n",
       "1  ...                        31                           1.848657   \n",
       "2  ...                         0                           6.482648   \n",
       "\n",
       "   E4_TotalDeaths  E4_TotalAssists  E4_TotalGamesCompleted  E4_TotalGamesWon  \\\n",
       "0            1089              445                     107                52   \n",
       "1            1227              559                     105                35   \n",
       "2            1603              853                     117                49   \n",
       "\n",
       "   E4_TotalGamesLost  E4_TotalGamesTied  E4_TotalTimePlayed  \\\n",
       "0                 48                  7           11.855415   \n",
       "1                 65                  5           12.014393   \n",
       "2                 48                 20           12.392531   \n",
       "\n",
       "   E4_TotalGrenadeKills  \n",
       "0                    43  \n",
       "1                    11  \n",
       "2                    40  \n",
       "\n",
       "[3 rows x 230 columns]"
      ]
     },
     "execution_count": 442,
     "metadata": {},
     "output_type": "execute_result"
    }
   ],
   "source": [
    "df['GameBaseVariantId'] = decode_column(df, 'GameBaseVariantId', GameBaseVariantId_dic)\n",
    "\n",
    "df.head(3)"
   ]
  },
  {
   "cell_type": "code",
   "execution_count": 443,
   "metadata": {
    "ExecuteTime": {
     "end_time": "2021-07-20T16:36:14.402621Z",
     "start_time": "2021-07-20T16:36:14.392619Z"
    }
   },
   "outputs": [
    {
     "data": {
      "text/plain": [
       "array(['Slayer', 'Capture the Flag', 'Oddball', 'Strongholds', 'Grifball',\n",
       "       'Breakout', 'Mini-game'], dtype=object)"
      ]
     },
     "execution_count": 443,
     "metadata": {},
     "output_type": "execute_result"
    }
   ],
   "source": [
    "df['GameBaseVariantId'].unique()"
   ]
  },
  {
   "cell_type": "code",
   "execution_count": 444,
   "metadata": {
    "ExecuteTime": {
     "end_time": "2021-07-20T16:36:14.411623Z",
     "start_time": "2021-07-20T16:36:14.403621Z"
    }
   },
   "outputs": [],
   "source": [
    "# df['GameBaseVariantId'] = df_history['GameBaseVariantId']\n",
    "\n",
    "# df.head(3)"
   ]
  },
  {
   "cell_type": "markdown",
   "metadata": {},
   "source": [
    "## Playlist ID"
   ]
  },
  {
   "cell_type": "code",
   "execution_count": 445,
   "metadata": {
    "ExecuteTime": {
     "end_time": "2021-07-20T16:36:14.733696Z",
     "start_time": "2021-07-20T16:36:14.412623Z"
    }
   },
   "outputs": [],
   "source": [
    "run = True\n",
    "\n",
    "if run == True:\n",
    "\n",
    "    headers = {\n",
    "        # Request headers\n",
    "        'Accept-Language': 'en',\n",
    "        'Ocp-Apim-Subscription-Key': api_key,\n",
    "    }\n",
    "\n",
    "    params = urllib.parse.urlencode({\n",
    "    })\n",
    "\n",
    "    try:\n",
    "        conn = http.client.HTTPSConnection('www.haloapi.com')\n",
    "        conn.request(\"GET\", \"/metadata/h5/metadata/playlists?%s\" % params, \"{body}\", headers)\n",
    "        response = conn.getresponse()\n",
    "        data = response.read()\n",
    "        PlaylistId_dic = json.loads(data)\n",
    "#         print(data)\n",
    "        conn.close()\n",
    "    except Exception as e:\n",
    "        print(\"[Errno {0}] {1}\".format(e.errno, e.strerror))\n",
    "\n",
    "    with open('PlaylistId_dic.pkl', 'wb') as PlaylistId_dic_pickle:\n",
    "        pickle.dump(PlaylistId_dic, PlaylistId_dic_pickle)\n",
    "        \n",
    "else:\n",
    "    with open('PlaylistId_dic.pkl', 'rb') as PlaylistId_dic_pickle:\n",
    "        PlaylistId_dic = pickle.load(PlaylistId_dic_pickle)"
   ]
  },
  {
   "cell_type": "code",
   "execution_count": 446,
   "metadata": {
    "ExecuteTime": {
     "end_time": "2021-07-20T16:36:14.824716Z",
     "start_time": "2021-07-20T16:36:14.734696Z"
    }
   },
   "outputs": [
    {
     "data": {
      "text/html": [
       "<div>\n",
       "<style scoped>\n",
       "    .dataframe tbody tr th:only-of-type {\n",
       "        vertical-align: middle;\n",
       "    }\n",
       "\n",
       "    .dataframe tbody tr th {\n",
       "        vertical-align: top;\n",
       "    }\n",
       "\n",
       "    .dataframe thead th {\n",
       "        text-align: right;\n",
       "    }\n",
       "</style>\n",
       "<table border=\"1\" class=\"dataframe\">\n",
       "  <thead>\n",
       "    <tr style=\"text-align: right;\">\n",
       "      <th></th>\n",
       "      <th>Date</th>\n",
       "      <th>MatchId</th>\n",
       "      <th>GameBaseVariantId</th>\n",
       "      <th>PlaylistId</th>\n",
       "      <th>MapVariantId</th>\n",
       "      <th>WinLoseTie</th>\n",
       "      <th>P1_Gamertag</th>\n",
       "      <th>P1_SpartanRank</th>\n",
       "      <th>P1_PrevTotalXP</th>\n",
       "      <th>P1_TotalKills</th>\n",
       "      <th>...</th>\n",
       "      <th>E4_TotalPowerWeaponGrabs</th>\n",
       "      <th>E4_TotalPowerWeaponPossessionTime</th>\n",
       "      <th>E4_TotalDeaths</th>\n",
       "      <th>E4_TotalAssists</th>\n",
       "      <th>E4_TotalGamesCompleted</th>\n",
       "      <th>E4_TotalGamesWon</th>\n",
       "      <th>E4_TotalGamesLost</th>\n",
       "      <th>E4_TotalGamesTied</th>\n",
       "      <th>E4_TotalTimePlayed</th>\n",
       "      <th>E4_TotalGrenadeKills</th>\n",
       "    </tr>\n",
       "  </thead>\n",
       "  <tbody>\n",
       "    <tr>\n",
       "      <th>0</th>\n",
       "      <td>2021-07-17 21:39:00</td>\n",
       "      <td>1bc32b01-2dda-418a-8853-ba3d3b09f912</td>\n",
       "      <td>Slayer</td>\n",
       "      <td>Super Fiesta Party</td>\n",
       "      <td>d5f2d94f-b51f-4a0c-8c35-af99426bf14d</td>\n",
       "      <td>Defeat</td>\n",
       "      <td>TED Cloverlan</td>\n",
       "      <td>102</td>\n",
       "      <td>3348130</td>\n",
       "      <td>3378</td>\n",
       "      <td>...</td>\n",
       "      <td>18</td>\n",
       "      <td>2.994338</td>\n",
       "      <td>1089</td>\n",
       "      <td>445</td>\n",
       "      <td>107</td>\n",
       "      <td>52</td>\n",
       "      <td>48</td>\n",
       "      <td>7</td>\n",
       "      <td>11.855415</td>\n",
       "      <td>43</td>\n",
       "    </tr>\n",
       "    <tr>\n",
       "      <th>1</th>\n",
       "      <td>2021-07-19 00:29:00</td>\n",
       "      <td>06c5149f-72af-4678-9615-7d2db89db290</td>\n",
       "      <td>Capture the Flag</td>\n",
       "      <td>Super Fiesta Party</td>\n",
       "      <td>7a4ca104-7242-4efe-a53e-fb5295d7b092</td>\n",
       "      <td>Victory</td>\n",
       "      <td>Drymander</td>\n",
       "      <td>148</td>\n",
       "      <td>15348257</td>\n",
       "      <td>39273</td>\n",
       "      <td>...</td>\n",
       "      <td>31</td>\n",
       "      <td>1.848657</td>\n",
       "      <td>1227</td>\n",
       "      <td>559</td>\n",
       "      <td>105</td>\n",
       "      <td>35</td>\n",
       "      <td>65</td>\n",
       "      <td>5</td>\n",
       "      <td>12.014393</td>\n",
       "      <td>11</td>\n",
       "    </tr>\n",
       "    <tr>\n",
       "      <th>2</th>\n",
       "      <td>2021-07-19 00:25:00</td>\n",
       "      <td>7801d2b0-f941-4851-9b04-8208a5439497</td>\n",
       "      <td>Capture the Flag</td>\n",
       "      <td>Super Fiesta Party</td>\n",
       "      <td>d0a6c435-a5df-465f-b728-0547dea06c3c</td>\n",
       "      <td>Victory</td>\n",
       "      <td>TWINKYNECKS</td>\n",
       "      <td>151</td>\n",
       "      <td>37161347</td>\n",
       "      <td>58661</td>\n",
       "      <td>...</td>\n",
       "      <td>0</td>\n",
       "      <td>6.482648</td>\n",
       "      <td>1603</td>\n",
       "      <td>853</td>\n",
       "      <td>117</td>\n",
       "      <td>49</td>\n",
       "      <td>48</td>\n",
       "      <td>20</td>\n",
       "      <td>12.392531</td>\n",
       "      <td>40</td>\n",
       "    </tr>\n",
       "  </tbody>\n",
       "</table>\n",
       "<p>3 rows × 230 columns</p>\n",
       "</div>"
      ],
      "text/plain": [
       "                 Date                               MatchId GameBaseVariantId  \\\n",
       "0 2021-07-17 21:39:00  1bc32b01-2dda-418a-8853-ba3d3b09f912            Slayer   \n",
       "1 2021-07-19 00:29:00  06c5149f-72af-4678-9615-7d2db89db290  Capture the Flag   \n",
       "2 2021-07-19 00:25:00  7801d2b0-f941-4851-9b04-8208a5439497  Capture the Flag   \n",
       "\n",
       "           PlaylistId                          MapVariantId WinLoseTie  \\\n",
       "0  Super Fiesta Party  d5f2d94f-b51f-4a0c-8c35-af99426bf14d     Defeat   \n",
       "1  Super Fiesta Party  7a4ca104-7242-4efe-a53e-fb5295d7b092    Victory   \n",
       "2  Super Fiesta Party  d0a6c435-a5df-465f-b728-0547dea06c3c    Victory   \n",
       "\n",
       "     P1_Gamertag  P1_SpartanRank  P1_PrevTotalXP  P1_TotalKills  ...  \\\n",
       "0  TED Cloverlan             102         3348130           3378  ...   \n",
       "1      Drymander             148        15348257          39273  ...   \n",
       "2    TWINKYNECKS             151        37161347          58661  ...   \n",
       "\n",
       "   E4_TotalPowerWeaponGrabs  E4_TotalPowerWeaponPossessionTime  \\\n",
       "0                        18                           2.994338   \n",
       "1                        31                           1.848657   \n",
       "2                         0                           6.482648   \n",
       "\n",
       "   E4_TotalDeaths  E4_TotalAssists  E4_TotalGamesCompleted  E4_TotalGamesWon  \\\n",
       "0            1089              445                     107                52   \n",
       "1            1227              559                     105                35   \n",
       "2            1603              853                     117                49   \n",
       "\n",
       "   E4_TotalGamesLost  E4_TotalGamesTied  E4_TotalTimePlayed  \\\n",
       "0                 48                  7           11.855415   \n",
       "1                 65                  5           12.014393   \n",
       "2                 48                 20           12.392531   \n",
       "\n",
       "   E4_TotalGrenadeKills  \n",
       "0                    43  \n",
       "1                    11  \n",
       "2                    40  \n",
       "\n",
       "[3 rows x 230 columns]"
      ]
     },
     "execution_count": 446,
     "metadata": {},
     "output_type": "execute_result"
    }
   ],
   "source": [
    "df['PlaylistId'] = decode_column(df, 'PlaylistId', PlaylistId_dic)\n",
    "\n",
    "df.head(3)"
   ]
  },
  {
   "cell_type": "code",
   "execution_count": 447,
   "metadata": {
    "ExecuteTime": {
     "end_time": "2021-07-20T16:36:14.830717Z",
     "start_time": "2021-07-20T16:36:14.825717Z"
    }
   },
   "outputs": [
    {
     "data": {
      "text/plain": [
       "array(['Super Fiesta Party', 'SWAT', 'Community Slayer', 'Team Arena',\n",
       "       'Slayer ', 'Husky Raid', 'Quick Play', \"Rock 'n' Rail\",\n",
       "       'Solo/Duo Queue Team Arena', 'Grifball', 'Elimination',\n",
       "       'Action Sack', 'Roaming King', 'ODST Slayer', 'Covenant Slayer',\n",
       "       'Core Play', 'Snipers', 'Anniversary Throwback'], dtype=object)"
      ]
     },
     "execution_count": 447,
     "metadata": {},
     "output_type": "execute_result"
    }
   ],
   "source": [
    "df['PlaylistId'].unique()"
   ]
  },
  {
   "cell_type": "code",
   "execution_count": 448,
   "metadata": {
    "ExecuteTime": {
     "end_time": "2021-07-20T16:36:14.843720Z",
     "start_time": "2021-07-20T16:36:14.831718Z"
    }
   },
   "outputs": [
    {
     "data": {
      "text/plain": [
       "Super Fiesta Party           7277\n",
       "SWAT                          446\n",
       "Slayer                        396\n",
       "Quick Play                    151\n",
       "Team Arena                    138\n",
       "Community Slayer              108\n",
       "Solo/Duo Queue Team Arena      84\n",
       "Grifball                       61\n",
       "Elimination                    44\n",
       "Rock 'n' Rail                  25\n",
       "Action Sack                    19\n",
       "Roaming King                   12\n",
       "Snipers                        11\n",
       "Core Play                       7\n",
       "Anniversary Throwback           6\n",
       "ODST Slayer                     6\n",
       "Covenant Slayer                 3\n",
       "Husky Raid                      3\n",
       "Name: PlaylistId, dtype: int64"
      ]
     },
     "execution_count": 448,
     "metadata": {},
     "output_type": "execute_result"
    }
   ],
   "source": [
    "df['PlaylistId'].value_counts()"
   ]
  },
  {
   "cell_type": "markdown",
   "metadata": {},
   "source": [
    "## MapId"
   ]
  },
  {
   "cell_type": "code",
   "execution_count": 449,
   "metadata": {
    "ExecuteTime": {
     "end_time": "2021-07-20T16:36:14.855724Z",
     "start_time": "2021-07-20T16:36:14.844721Z"
    }
   },
   "outputs": [],
   "source": [
    "unique_map_ids = df['MapVariantId'].unique()"
   ]
  },
  {
   "cell_type": "code",
   "execution_count": 450,
   "metadata": {
    "ExecuteTime": {
     "end_time": "2021-07-20T16:36:14.867726Z",
     "start_time": "2021-07-20T16:36:14.856724Z"
    }
   },
   "outputs": [],
   "source": [
    "run = False\n",
    "\n",
    "if run == True:\n",
    "\n",
    "    headers = {\n",
    "        # Request headers\n",
    "        'Accept-Language': 'en',\n",
    "        'Ocp-Apim-Subscription-Key': api_key,\n",
    "    }\n",
    "\n",
    "    params = urllib.parse.urlencode({\n",
    "    })\n",
    "    map_list = []\n",
    "    for map_id in tqdm(unique_map_ids):\n",
    "        try:\n",
    "            conn = http.client.HTTPSConnection('www.haloapi.com')\n",
    "            conn.request(\"GET\", f\"/metadata/h5/metadata/map-variants/{map_id}?%s\" % params, \"{body}\", headers)\n",
    "            response = conn.getresponse()\n",
    "            data = response.read()\n",
    "            map_dic = json.loads(data)\n",
    "            map_list.append(map_dic)\n",
    "    #         print(data)\n",
    "            conn.close()\n",
    "            time.sleep(1.1)\n",
    "        except Exception as e:\n",
    "            print(\"[Errno {0}] {1}\".format(e.errno, e.strerror))\n",
    "\n",
    "    with open('map_list.pkl', 'wb') as map_list_pickle:\n",
    "        pickle.dump(map_list, map_list_pickle)\n",
    "\n",
    "else:\n",
    "    with open('map_list.pkl', 'rb') as map_list_pickle:\n",
    "        map_list = pickle.load(map_list_pickle)\n",
    "    \n",
    "\n"
   ]
  },
  {
   "cell_type": "code",
   "execution_count": null,
   "metadata": {},
   "outputs": [],
   "source": []
  },
  {
   "cell_type": "code",
   "execution_count": 451,
   "metadata": {
    "ExecuteTime": {
     "end_time": "2021-07-20T16:36:14.877728Z",
     "start_time": "2021-07-20T16:36:14.868726Z"
    }
   },
   "outputs": [],
   "source": [
    "def decode_maps(df, column, api_dict):\n",
    "    decoded_list = []\n",
    "\n",
    "    for row in df[column]:\n",
    "        i = 0\n",
    "        map_count = len(api_dict)\n",
    "    #     print(row)\n",
    "        for item in api_dict:\n",
    "            if (i+1) == map_count:\n",
    "                name = 'Custom Map'\n",
    "                decoded_list.append(name)\n",
    "            elif item['id'] == row:\n",
    "                name = item['name']\n",
    "                decoded_list.append(name)\n",
    "            else:\n",
    "                i += 1\n",
    "\n",
    "#     df[column] = decoded_list\n",
    "    \n",
    "    return decoded_list\n",
    "# df = pd.read_csv('MODEL_PULL - Copy.csv')\n",
    "# # df = df.reset_index\n",
    "# df = df.drop(['Unnamed: 0'], axis=1)\n",
    "# df['GameBaseVariantId'] = decode_column(df, 'GameBaseVariantId', GameBaseVariantId_dic)\n",
    "# df['PlaylistId'] = decode_column(df, 'PlaylistId', PlaylistId_dic)\n",
    "# df['MapVariantId'] = decode_maps(df, 'MapVariantId', map_list)"
   ]
  },
  {
   "cell_type": "code",
   "execution_count": 452,
   "metadata": {
    "ExecuteTime": {
     "end_time": "2021-07-20T16:36:15.544887Z",
     "start_time": "2021-07-20T16:36:14.878728Z"
    }
   },
   "outputs": [
    {
     "data": {
      "text/html": [
       "<div>\n",
       "<style scoped>\n",
       "    .dataframe tbody tr th:only-of-type {\n",
       "        vertical-align: middle;\n",
       "    }\n",
       "\n",
       "    .dataframe tbody tr th {\n",
       "        vertical-align: top;\n",
       "    }\n",
       "\n",
       "    .dataframe thead th {\n",
       "        text-align: right;\n",
       "    }\n",
       "</style>\n",
       "<table border=\"1\" class=\"dataframe\">\n",
       "  <thead>\n",
       "    <tr style=\"text-align: right;\">\n",
       "      <th></th>\n",
       "      <th>Date</th>\n",
       "      <th>MatchId</th>\n",
       "      <th>GameBaseVariantId</th>\n",
       "      <th>PlaylistId</th>\n",
       "      <th>MapVariantId</th>\n",
       "      <th>WinLoseTie</th>\n",
       "      <th>P1_Gamertag</th>\n",
       "      <th>P1_SpartanRank</th>\n",
       "      <th>P1_PrevTotalXP</th>\n",
       "      <th>P1_TotalKills</th>\n",
       "      <th>...</th>\n",
       "      <th>E4_TotalPowerWeaponGrabs</th>\n",
       "      <th>E4_TotalPowerWeaponPossessionTime</th>\n",
       "      <th>E4_TotalDeaths</th>\n",
       "      <th>E4_TotalAssists</th>\n",
       "      <th>E4_TotalGamesCompleted</th>\n",
       "      <th>E4_TotalGamesWon</th>\n",
       "      <th>E4_TotalGamesLost</th>\n",
       "      <th>E4_TotalGamesTied</th>\n",
       "      <th>E4_TotalTimePlayed</th>\n",
       "      <th>E4_TotalGrenadeKills</th>\n",
       "    </tr>\n",
       "  </thead>\n",
       "  <tbody>\n",
       "    <tr>\n",
       "      <th>0</th>\n",
       "      <td>2021-07-17 21:39:00</td>\n",
       "      <td>1bc32b01-2dda-418a-8853-ba3d3b09f912</td>\n",
       "      <td>Slayer</td>\n",
       "      <td>Super Fiesta Party</td>\n",
       "      <td>Transit</td>\n",
       "      <td>Defeat</td>\n",
       "      <td>TED Cloverlan</td>\n",
       "      <td>102</td>\n",
       "      <td>3348130</td>\n",
       "      <td>3378</td>\n",
       "      <td>...</td>\n",
       "      <td>18</td>\n",
       "      <td>2.994338</td>\n",
       "      <td>1089</td>\n",
       "      <td>445</td>\n",
       "      <td>107</td>\n",
       "      <td>52</td>\n",
       "      <td>48</td>\n",
       "      <td>7</td>\n",
       "      <td>11.855415</td>\n",
       "      <td>43</td>\n",
       "    </tr>\n",
       "    <tr>\n",
       "      <th>1</th>\n",
       "      <td>2021-07-19 00:29:00</td>\n",
       "      <td>06c5149f-72af-4678-9615-7d2db89db290</td>\n",
       "      <td>Capture the Flag</td>\n",
       "      <td>Super Fiesta Party</td>\n",
       "      <td>Coliseum</td>\n",
       "      <td>Victory</td>\n",
       "      <td>Drymander</td>\n",
       "      <td>148</td>\n",
       "      <td>15348257</td>\n",
       "      <td>39273</td>\n",
       "      <td>...</td>\n",
       "      <td>31</td>\n",
       "      <td>1.848657</td>\n",
       "      <td>1227</td>\n",
       "      <td>559</td>\n",
       "      <td>105</td>\n",
       "      <td>35</td>\n",
       "      <td>65</td>\n",
       "      <td>5</td>\n",
       "      <td>12.014393</td>\n",
       "      <td>11</td>\n",
       "    </tr>\n",
       "    <tr>\n",
       "      <th>2</th>\n",
       "      <td>2021-07-19 00:25:00</td>\n",
       "      <td>7801d2b0-f941-4851-9b04-8208a5439497</td>\n",
       "      <td>Capture the Flag</td>\n",
       "      <td>Super Fiesta Party</td>\n",
       "      <td>Raid on the Control Room</td>\n",
       "      <td>Victory</td>\n",
       "      <td>TWINKYNECKS</td>\n",
       "      <td>151</td>\n",
       "      <td>37161347</td>\n",
       "      <td>58661</td>\n",
       "      <td>...</td>\n",
       "      <td>0</td>\n",
       "      <td>6.482648</td>\n",
       "      <td>1603</td>\n",
       "      <td>853</td>\n",
       "      <td>117</td>\n",
       "      <td>49</td>\n",
       "      <td>48</td>\n",
       "      <td>20</td>\n",
       "      <td>12.392531</td>\n",
       "      <td>40</td>\n",
       "    </tr>\n",
       "    <tr>\n",
       "      <th>3</th>\n",
       "      <td>2021-07-19 00:17:00</td>\n",
       "      <td>66b24b25-1d47-490d-a60f-7762bf257e94</td>\n",
       "      <td>Capture the Flag</td>\n",
       "      <td>Super Fiesta Party</td>\n",
       "      <td>Putput</td>\n",
       "      <td>Victory</td>\n",
       "      <td>ZeroX932</td>\n",
       "      <td>151</td>\n",
       "      <td>47050485</td>\n",
       "      <td>100339</td>\n",
       "      <td>...</td>\n",
       "      <td>22</td>\n",
       "      <td>18.032953</td>\n",
       "      <td>7012</td>\n",
       "      <td>2200</td>\n",
       "      <td>373</td>\n",
       "      <td>249</td>\n",
       "      <td>97</td>\n",
       "      <td>27</td>\n",
       "      <td>41.323951</td>\n",
       "      <td>235</td>\n",
       "    </tr>\n",
       "    <tr>\n",
       "      <th>4</th>\n",
       "      <td>2021-07-19 00:09:00</td>\n",
       "      <td>3f287ac2-1914-490b-86d4-11c050f9e52d</td>\n",
       "      <td>Capture the Flag</td>\n",
       "      <td>Super Fiesta Party</td>\n",
       "      <td>Solstace Vista</td>\n",
       "      <td>Victory</td>\n",
       "      <td>Drymander</td>\n",
       "      <td>148</td>\n",
       "      <td>15342496</td>\n",
       "      <td>39273</td>\n",
       "      <td>...</td>\n",
       "      <td>35</td>\n",
       "      <td>49.419732</td>\n",
       "      <td>6777</td>\n",
       "      <td>4525</td>\n",
       "      <td>748</td>\n",
       "      <td>292</td>\n",
       "      <td>343</td>\n",
       "      <td>113</td>\n",
       "      <td>84.279160</td>\n",
       "      <td>248</td>\n",
       "    </tr>\n",
       "    <tr>\n",
       "      <th>5</th>\n",
       "      <td>2021-07-19 00:05:00</td>\n",
       "      <td>60c4cc1e-0387-4ed9-ac6e-22286c8c9e49</td>\n",
       "      <td>Capture the Flag</td>\n",
       "      <td>Super Fiesta Party</td>\n",
       "      <td>Omission</td>\n",
       "      <td>Tie</td>\n",
       "      <td>RamiRock</td>\n",
       "      <td>150</td>\n",
       "      <td>25136062</td>\n",
       "      <td>73644</td>\n",
       "      <td>...</td>\n",
       "      <td>9</td>\n",
       "      <td>3.999963</td>\n",
       "      <td>707</td>\n",
       "      <td>257</td>\n",
       "      <td>61</td>\n",
       "      <td>24</td>\n",
       "      <td>24</td>\n",
       "      <td>13</td>\n",
       "      <td>7.213244</td>\n",
       "      <td>47</td>\n",
       "    </tr>\n",
       "    <tr>\n",
       "      <th>6</th>\n",
       "      <td>2021-07-18 23:56:00</td>\n",
       "      <td>a40d0cef-b176-447a-9883-da57cd9f6800</td>\n",
       "      <td>Capture the Flag</td>\n",
       "      <td>Super Fiesta Party</td>\n",
       "      <td>Classified</td>\n",
       "      <td>Victory</td>\n",
       "      <td>RamiRock</td>\n",
       "      <td>150</td>\n",
       "      <td>25133060</td>\n",
       "      <td>73644</td>\n",
       "      <td>...</td>\n",
       "      <td>38</td>\n",
       "      <td>17.671709</td>\n",
       "      <td>6497</td>\n",
       "      <td>2934</td>\n",
       "      <td>485</td>\n",
       "      <td>207</td>\n",
       "      <td>226</td>\n",
       "      <td>52</td>\n",
       "      <td>52.677496</td>\n",
       "      <td>191</td>\n",
       "    </tr>\n",
       "    <tr>\n",
       "      <th>7</th>\n",
       "      <td>2021-07-18 23:48:00</td>\n",
       "      <td>e1ab0c02-0f9f-42ea-ad5c-4bc23163e266</td>\n",
       "      <td>Slayer</td>\n",
       "      <td>Super Fiesta Party</td>\n",
       "      <td>Transit</td>\n",
       "      <td>Defeat</td>\n",
       "      <td>Drymander</td>\n",
       "      <td>148</td>\n",
       "      <td>15335546</td>\n",
       "      <td>39273</td>\n",
       "      <td>...</td>\n",
       "      <td>8</td>\n",
       "      <td>2.870917</td>\n",
       "      <td>752</td>\n",
       "      <td>304</td>\n",
       "      <td>60</td>\n",
       "      <td>25</td>\n",
       "      <td>28</td>\n",
       "      <td>7</td>\n",
       "      <td>7.213125</td>\n",
       "      <td>25</td>\n",
       "    </tr>\n",
       "    <tr>\n",
       "      <th>8</th>\n",
       "      <td>2021-07-18 23:06:00</td>\n",
       "      <td>e6e25b66-671f-4f1b-aac9-3bb7673000db</td>\n",
       "      <td>Slayer</td>\n",
       "      <td>Super Fiesta Party</td>\n",
       "      <td>Seclusion</td>\n",
       "      <td>Victory</td>\n",
       "      <td>Drymander</td>\n",
       "      <td>148</td>\n",
       "      <td>15332740</td>\n",
       "      <td>39273</td>\n",
       "      <td>...</td>\n",
       "      <td>1</td>\n",
       "      <td>7.113745</td>\n",
       "      <td>1683</td>\n",
       "      <td>1065</td>\n",
       "      <td>141</td>\n",
       "      <td>55</td>\n",
       "      <td>65</td>\n",
       "      <td>21</td>\n",
       "      <td>15.016156</td>\n",
       "      <td>51</td>\n",
       "    </tr>\n",
       "    <tr>\n",
       "      <th>9</th>\n",
       "      <td>2021-07-18 22:43:00</td>\n",
       "      <td>4e1d8ec2-27a1-4690-ba37-2ed5e696c443</td>\n",
       "      <td>Capture the Flag</td>\n",
       "      <td>Super Fiesta Party</td>\n",
       "      <td>Coliseum</td>\n",
       "      <td>Victory</td>\n",
       "      <td>Sindrome117</td>\n",
       "      <td>150</td>\n",
       "      <td>34892656</td>\n",
       "      <td>70094</td>\n",
       "      <td>...</td>\n",
       "      <td>15</td>\n",
       "      <td>12.185644</td>\n",
       "      <td>1649</td>\n",
       "      <td>606</td>\n",
       "      <td>122</td>\n",
       "      <td>56</td>\n",
       "      <td>34</td>\n",
       "      <td>32</td>\n",
       "      <td>20.048027</td>\n",
       "      <td>259</td>\n",
       "    </tr>\n",
       "  </tbody>\n",
       "</table>\n",
       "<p>10 rows × 230 columns</p>\n",
       "</div>"
      ],
      "text/plain": [
       "                 Date                               MatchId GameBaseVariantId  \\\n",
       "0 2021-07-17 21:39:00  1bc32b01-2dda-418a-8853-ba3d3b09f912            Slayer   \n",
       "1 2021-07-19 00:29:00  06c5149f-72af-4678-9615-7d2db89db290  Capture the Flag   \n",
       "2 2021-07-19 00:25:00  7801d2b0-f941-4851-9b04-8208a5439497  Capture the Flag   \n",
       "3 2021-07-19 00:17:00  66b24b25-1d47-490d-a60f-7762bf257e94  Capture the Flag   \n",
       "4 2021-07-19 00:09:00  3f287ac2-1914-490b-86d4-11c050f9e52d  Capture the Flag   \n",
       "5 2021-07-19 00:05:00  60c4cc1e-0387-4ed9-ac6e-22286c8c9e49  Capture the Flag   \n",
       "6 2021-07-18 23:56:00  a40d0cef-b176-447a-9883-da57cd9f6800  Capture the Flag   \n",
       "7 2021-07-18 23:48:00  e1ab0c02-0f9f-42ea-ad5c-4bc23163e266            Slayer   \n",
       "8 2021-07-18 23:06:00  e6e25b66-671f-4f1b-aac9-3bb7673000db            Slayer   \n",
       "9 2021-07-18 22:43:00  4e1d8ec2-27a1-4690-ba37-2ed5e696c443  Capture the Flag   \n",
       "\n",
       "           PlaylistId              MapVariantId WinLoseTie    P1_Gamertag  \\\n",
       "0  Super Fiesta Party                   Transit     Defeat  TED Cloverlan   \n",
       "1  Super Fiesta Party                  Coliseum    Victory      Drymander   \n",
       "2  Super Fiesta Party  Raid on the Control Room    Victory    TWINKYNECKS   \n",
       "3  Super Fiesta Party                    Putput    Victory       ZeroX932   \n",
       "4  Super Fiesta Party            Solstace Vista    Victory      Drymander   \n",
       "5  Super Fiesta Party                  Omission        Tie       RamiRock   \n",
       "6  Super Fiesta Party               Classified     Victory       RamiRock   \n",
       "7  Super Fiesta Party                   Transit     Defeat      Drymander   \n",
       "8  Super Fiesta Party                 Seclusion    Victory      Drymander   \n",
       "9  Super Fiesta Party                  Coliseum    Victory    Sindrome117   \n",
       "\n",
       "   P1_SpartanRank  P1_PrevTotalXP  P1_TotalKills  ...  \\\n",
       "0             102         3348130           3378  ...   \n",
       "1             148        15348257          39273  ...   \n",
       "2             151        37161347          58661  ...   \n",
       "3             151        47050485         100339  ...   \n",
       "4             148        15342496          39273  ...   \n",
       "5             150        25136062          73644  ...   \n",
       "6             150        25133060          73644  ...   \n",
       "7             148        15335546          39273  ...   \n",
       "8             148        15332740          39273  ...   \n",
       "9             150        34892656          70094  ...   \n",
       "\n",
       "   E4_TotalPowerWeaponGrabs  E4_TotalPowerWeaponPossessionTime  \\\n",
       "0                        18                           2.994338   \n",
       "1                        31                           1.848657   \n",
       "2                         0                           6.482648   \n",
       "3                        22                          18.032953   \n",
       "4                        35                          49.419732   \n",
       "5                         9                           3.999963   \n",
       "6                        38                          17.671709   \n",
       "7                         8                           2.870917   \n",
       "8                         1                           7.113745   \n",
       "9                        15                          12.185644   \n",
       "\n",
       "   E4_TotalDeaths  E4_TotalAssists  E4_TotalGamesCompleted  E4_TotalGamesWon  \\\n",
       "0            1089              445                     107                52   \n",
       "1            1227              559                     105                35   \n",
       "2            1603              853                     117                49   \n",
       "3            7012             2200                     373               249   \n",
       "4            6777             4525                     748               292   \n",
       "5             707              257                      61                24   \n",
       "6            6497             2934                     485               207   \n",
       "7             752              304                      60                25   \n",
       "8            1683             1065                     141                55   \n",
       "9            1649              606                     122                56   \n",
       "\n",
       "   E4_TotalGamesLost  E4_TotalGamesTied  E4_TotalTimePlayed  \\\n",
       "0                 48                  7           11.855415   \n",
       "1                 65                  5           12.014393   \n",
       "2                 48                 20           12.392531   \n",
       "3                 97                 27           41.323951   \n",
       "4                343                113           84.279160   \n",
       "5                 24                 13            7.213244   \n",
       "6                226                 52           52.677496   \n",
       "7                 28                  7            7.213125   \n",
       "8                 65                 21           15.016156   \n",
       "9                 34                 32           20.048027   \n",
       "\n",
       "   E4_TotalGrenadeKills  \n",
       "0                    43  \n",
       "1                    11  \n",
       "2                    40  \n",
       "3                   235  \n",
       "4                   248  \n",
       "5                    47  \n",
       "6                   191  \n",
       "7                    25  \n",
       "8                    51  \n",
       "9                   259  \n",
       "\n",
       "[10 rows x 230 columns]"
      ]
     },
     "execution_count": 452,
     "metadata": {},
     "output_type": "execute_result"
    }
   ],
   "source": [
    "df['MapVariantId'] = decode_maps(df, 'MapVariantId', map_list)\n",
    "\n",
    "df.head(10)"
   ]
  },
  {
   "cell_type": "code",
   "execution_count": 453,
   "metadata": {
    "ExecuteTime": {
     "end_time": "2021-07-20T16:36:15.549880Z",
     "start_time": "2021-07-20T16:36:15.545878Z"
    }
   },
   "outputs": [
    {
     "data": {
      "text/plain": [
       "array(['Transit', 'Coliseum', 'Raid on the Control Room', 'Putput',\n",
       "       'Solstace Vista', 'Omission', 'Classified ', 'Seclusion',\n",
       "       'Moa Fields', 'Plaza', 'The Rig', 'Fathom', 'M808b production',\n",
       "       'Eden', 'Meta Raid', 'Sleipnir', 'Traverse', 'Containment Breach',\n",
       "       'Echelon', 'Swamp Fever', 'Meta Wave', 'Harmony', 'Reclaimed',\n",
       "       'Blood and Stone', 'Chill Out', 'Palmyra', 'Russet', 'Vestige',\n",
       "       'Downfall', 'Fever Pitch', 'Custom Map', 'Stasis', 'Hourglass',\n",
       "       'Dominus', 'Truth', 'Stand Clear', 'Gutter', 'Fissure HCS',\n",
       "       'Refuge', 'Overgrowth', 'Furnace', 'Hallows', 'Empire',\n",
       "       'Coliseum HCS', 'Mercy', 'Torque', 'Regret HCS', 'Pegasus II',\n",
       "       'Grif Temple', \"Amnatu's Angels\", 'Abyss', 'Highrise', 'Regret',\n",
       "       'PhaseShift', 'Dreamscape', 'Port 66', 'Trident 2.0',\n",
       "       'High Charity', 'Altitude', 'Wash Out', 'BLUE vs RED 2003',\n",
       "       'The Yard', 'Knell', 'Hive Charity', 'Crows Court',\n",
       "       \"The Arbiter's Court\", 'Sidegrinder', 'Face To Face', 'Underpass',\n",
       "       'Tourist Trap', 'Trench 2.0', \"Vadum's Triumph\", 'Prisoner',\n",
       "       'Damnation', 'Battle Creek', 'Team Sumo ', 'Wizard Duel',\n",
       "       'Freight', 'Conduit', 'pyramoid sandpit', 'Trident',\n",
       "       'Night of The Mantis'], dtype=object)"
      ]
     },
     "execution_count": 453,
     "metadata": {},
     "output_type": "execute_result"
    }
   ],
   "source": [
    "df['MapVariantId'].unique()"
   ]
  },
  {
   "cell_type": "code",
   "execution_count": 454,
   "metadata": {
    "ExecuteTime": {
     "end_time": "2021-07-20T16:36:15.563883Z",
     "start_time": "2021-07-20T16:36:15.550880Z"
    }
   },
   "outputs": [
    {
     "data": {
      "text/plain": [
       "Custom Map         742\n",
       "Plaza              419\n",
       "Coliseum           402\n",
       "Dominus            322\n",
       "Harmony            313\n",
       "                  ... \n",
       "Damnation            1\n",
       "Team Sumo            1\n",
       "Trench 2.0           1\n",
       "Tourist Trap         1\n",
       "Vadum's Triumph      1\n",
       "Name: MapVariantId, Length: 82, dtype: int64"
      ]
     },
     "execution_count": 454,
     "metadata": {},
     "output_type": "execute_result"
    }
   ],
   "source": [
    "df['MapVariantId'].value_counts()\n",
    "\n"
   ]
  },
  {
   "cell_type": "markdown",
   "metadata": {},
   "source": [
    "# Model Dataframe"
   ]
  },
  {
   "cell_type": "markdown",
   "metadata": {},
   "source": [
    "## Add MatchId to Match Details DF\n",
    "\n",
    "Our full match details pull did not include MatchId's, but we were able to retrieve those from our original full player history pull.  Fortunately everything is sequential, so we can add MatchId's to our match details dictionary with a basic for loop.  We'll test everything to make sure everything lines up."
   ]
  },
  {
   "cell_type": "code",
   "execution_count": 455,
   "metadata": {
    "ExecuteTime": {
     "end_time": "2021-07-20T16:36:15.573885Z",
     "start_time": "2021-07-20T16:36:15.564883Z"
    }
   },
   "outputs": [],
   "source": [
    "# i = 0\n",
    "\n",
    "# for match in match_details:\n",
    "#     match['MatchId'] = df['MatchId'].iloc[i]\n",
    "#     i += 1"
   ]
  },
  {
   "cell_type": "code",
   "execution_count": 456,
   "metadata": {
    "ExecuteTime": {
     "end_time": "2021-07-20T16:36:15.585889Z",
     "start_time": "2021-07-20T16:36:15.574885Z"
    }
   },
   "outputs": [],
   "source": [
    "# i = 5902\n",
    "\n",
    "# print(match_details[i]['MatchId'])\n",
    "\n",
    "# print(df['MatchId'].iloc[i])"
   ]
  },
  {
   "cell_type": "markdown",
   "metadata": {},
   "source": [
    "## Initial Columns"
   ]
  },
  {
   "cell_type": "code",
   "execution_count": 457,
   "metadata": {
    "ExecuteTime": {
     "end_time": "2021-07-20T16:36:15.595890Z",
     "start_time": "2021-07-20T16:36:15.586888Z"
    }
   },
   "outputs": [],
   "source": [
    "# match_details_df = pd.DataFrame()\n",
    "\n",
    "# match_details_df_columns = [\n",
    "#     'MatchId',\n",
    "#     'PlayerWin',\n",
    "#     'P1',\n",
    "#     'P1_SpartanRank',\n",
    "#     'P1_PrevTotalXP',\n",
    "#     'P2',\n",
    "#     'P2_SpartanRank',\n",
    "#     'P2_PrevTotalXP',\n",
    "#     'P3',\n",
    "#     'P3_SpartanRank',\n",
    "#     'P3_PrevTotalXP',\n",
    "#     'P4',\n",
    "#     'P4_SpartanRank',\n",
    "#     'P4_PrevTotalXP',\n",
    "#     'E1',\n",
    "#     'E1_SpartanRank',\n",
    "#     'E1_PrevTotalXP',\n",
    "#     'E2',\n",
    "#     'E2_SpartanRank',\n",
    "#     'E2_PrevTotalXP',\n",
    "#     'E3',\n",
    "#     'E3_SpartanRank',\n",
    "#     'E3_PrevTotalXP',\n",
    "#     'E4',\n",
    "#     'E4_SpartanRank',\n",
    "#     'E4_PrevTotalXP',\n",
    "# ]\n",
    "\n",
    "# match_details_df = pd.DataFrame(columns=match_details_df_columns)\n",
    "# match_details_df"
   ]
  },
  {
   "cell_type": "code",
   "execution_count": 458,
   "metadata": {
    "ExecuteTime": {
     "end_time": "2021-07-20T16:36:15.607893Z",
     "start_time": "2021-07-20T16:36:15.596890Z"
    }
   },
   "outputs": [],
   "source": [
    "# # player_df_spartanrank = player_df.copy()\n",
    "\n",
    "# run = False\n",
    "\n",
    "# if run == True:\n",
    "#     error_count = 0\n",
    "\n",
    "#     row_count = 0\n",
    "\n",
    "#     user = 'Drymander'\n",
    "\n",
    "#     for match in tqdm(match_details):\n",
    "#     # for match in tqdm(mds):\n",
    "\n",
    "#         try:\n",
    "#             data = match\n",
    "#             df_match = pd.DataFrame()\n",
    "#             columns = [\n",
    "#                 'TeamId',\n",
    "#                 'Gamertag',\n",
    "#                 'SpartanRank',\n",
    "#                 'PrevTotalXP',\n",
    "#             ]\n",
    "#             df_match = pd.DataFrame(columns = columns)\n",
    "#             i = 0\n",
    "\n",
    "#             if len(data['PlayerStats']) != 8:\n",
    "#                 continue\n",
    "\n",
    "#             for player in data['PlayerStats']:\n",
    "\n",
    "#                 player_dic = {}\n",
    "#                 # Team ID\n",
    "#                 player_dic['TeamId'] = data['PlayerStats'][i]['TeamId']\n",
    "#                 if player_dic['TeamId'] not in (0, 1):\n",
    "#                     continue\n",
    "#                 # Gamer Tag\n",
    "#                 player_dic['Gamertag'] = data['PlayerStats'][i]['Player']['Gamertag']\n",
    "#                 # Spartan Rank\n",
    "#                 player_dic['SpartanRank'] = data['PlayerStats'][i]['XpInfo']['SpartanRank']\n",
    "#                 # Previous Total XP\n",
    "#                 player_dic['PrevTotalXP'] = data['PlayerStats'][i]['XpInfo']['PrevTotalXP']\n",
    "#                 df_match = df_match.append(player_dic, ignore_index=True)\n",
    "#                 i += 1\n",
    "\n",
    "#             playerteam = df_match.loc[df_match['Gamertag'] == user, 'TeamId'].values[0]\n",
    "\n",
    "#             if data['TeamStats'][0]['TeamId'] == playerteam:\n",
    "#                 playerteam_stats = data['TeamStats'][0]\n",
    "#                 enemyteam_stats = data['TeamStats'][1]\n",
    "#             else: \n",
    "#                 playerteam_stats = data['TeamStats'][1]\n",
    "#                 enemyteam_stats = data['TeamStats'][0]\n",
    "\n",
    "#             # Tie\n",
    "#             if playerteam_stats['Rank'] == 1 and enemyteam_stats['Rank'] == 1:\n",
    "#                 winner = 'Tie'\n",
    "#             # Player wins\n",
    "#             elif playerteam_stats['Rank'] == 1 and enemyteam_stats['Rank'] == 2:\n",
    "#                 winner = 'Player'\n",
    "#             # Enemy wins\n",
    "#             elif playerteam_stats['Rank'] == 2 and enemyteam_stats['Rank'] == 1:\n",
    "#                 winner = 'Enemy'\n",
    "#             # Error handling\n",
    "#             else:\n",
    "#                 winner = 'Error determining winner'\n",
    "\n",
    "#             player_df = df_match.loc[df_match['TeamId'] == playerteam]\n",
    "#             enemy_df = df_match.loc[df_match['TeamId'] != playerteam]\n",
    "\n",
    "#             row_list = []\n",
    "#             row_list.append(match['MatchId'])\n",
    "#             row_list.append(winner)\n",
    "#             for row in range(len(player_df)):\n",
    "#                 row_list.extend(list(player_df.iloc[row].values[1:]))\n",
    "#             for row in range(len(enemy_df)):\n",
    "#                 row_list.extend(list(enemy_df.iloc[row].values[1:]))\n",
    "\n",
    "#             match_details_df.loc[row_count] = row_list\n",
    "\n",
    "#             row_count += 1\n",
    "\n",
    "#         except:\n",
    "#             error_count += 1\n",
    "#             continue\n",
    "#     print(error_count)\n",
    "#     match_details_df.to_csv('match_details_df.csv')\n",
    "#     match_details_df.head(5)\n",
    "#     match_details_df = match_details_df.drop(['Unnamed: 0'], axis=1)\n",
    "    \n",
    "# else:\n",
    "#     match_details_df = pd.read_csv('match_details_df.csv')\n",
    "#     match_details_df = match_details_df.drop(['Unnamed: 0'], axis=1)\n",
    "    "
   ]
  },
  {
   "cell_type": "code",
   "execution_count": 459,
   "metadata": {
    "ExecuteTime": {
     "end_time": "2021-07-20T16:36:15.619895Z",
     "start_time": "2021-07-20T16:36:15.608893Z"
    }
   },
   "outputs": [],
   "source": [
    "# match_details_df.head(3)"
   ]
  },
  {
   "cell_type": "code",
   "execution_count": 460,
   "metadata": {
    "ExecuteTime": {
     "end_time": "2021-07-20T16:36:15.630898Z",
     "start_time": "2021-07-20T16:36:15.620895Z"
    }
   },
   "outputs": [],
   "source": [
    "# match_details_df['PlayerWin'].value_counts()"
   ]
  },
  {
   "cell_type": "markdown",
   "metadata": {},
   "source": [
    "# Merge Player DF with Base DF"
   ]
  },
  {
   "cell_type": "code",
   "execution_count": 461,
   "metadata": {
    "ExecuteTime": {
     "end_time": "2021-07-20T16:36:15.641900Z",
     "start_time": "2021-07-20T16:36:15.631898Z"
    }
   },
   "outputs": [],
   "source": [
    "# df2 = pd.merge(df, match_details_df, how='inner', on = 'MatchId')\n",
    "# df2.to_csv('df2.csv')\n",
    "\n",
    "# df2.head(10)"
   ]
  },
  {
   "cell_type": "code",
   "execution_count": 462,
   "metadata": {
    "ExecuteTime": {
     "end_time": "2021-07-20T16:36:15.654903Z",
     "start_time": "2021-07-20T16:36:15.642901Z"
    }
   },
   "outputs": [],
   "source": [
    "# df2 = pd.read_csv(\"df2.csv\")\n",
    "# df2 = df2.drop(['Unnamed: 0'], axis=1)\n",
    "# df2 = df2.drop(['Unnamed: 0.1'], axis=1)\n",
    "# df2"
   ]
  },
  {
   "cell_type": "markdown",
   "metadata": {},
   "source": [
    "# Pull Stats for All Players\n",
    "\n",
    "Using our match_details_df, we'll pull extended stats for every player we've played with.  This will allow us to pull out more detailed features based on game variant, since players often spend more time in their favoriate variants."
   ]
  },
  {
   "cell_type": "markdown",
   "metadata": {},
   "source": [
    "## Create List of Unique Gamertags"
   ]
  },
  {
   "cell_type": "code",
   "execution_count": 463,
   "metadata": {
    "ExecuteTime": {
     "end_time": "2021-07-20T16:36:15.665905Z",
     "start_time": "2021-07-20T16:36:15.656904Z"
    }
   },
   "outputs": [],
   "source": [
    "# column_list = ['P1', 'P2', 'P3', 'P4', 'E1', 'E2', 'E3', 'E4']\n",
    "\n",
    "# unique_gamertags = []\n",
    "\n",
    "# for column in column_list:\n",
    "#     unique_gamertags.extend(list(df2[column].unique()))\n",
    "\n",
    "# len(unique_gamertags)\n",
    "\n",
    "# with open('unique_gamertags.pkl', 'wb') as unique_gamertags_pickle:\n",
    "#     pickle.dump(unique_gamertags, unique_gamertags_pickle)\n",
    "\n"
   ]
  },
  {
   "cell_type": "code",
   "execution_count": 464,
   "metadata": {
    "ExecuteTime": {
     "end_time": "2021-07-20T16:36:15.676908Z",
     "start_time": "2021-07-20T16:36:15.666906Z"
    }
   },
   "outputs": [],
   "source": [
    "# gamertag_groups = np.array_split(unique_gamertags, 758)\n",
    "# gamertag_groups[0]"
   ]
  },
  {
   "cell_type": "code",
   "execution_count": 465,
   "metadata": {
    "ExecuteTime": {
     "end_time": "2021-07-20T16:36:15.688911Z",
     "start_time": "2021-07-20T16:36:15.677908Z"
    }
   },
   "outputs": [],
   "source": [
    "# gamertag_groups"
   ]
  },
  {
   "cell_type": "markdown",
   "metadata": {},
   "source": [
    "## Code to convert list of player names into a string for the API"
   ]
  },
  {
   "cell_type": "code",
   "execution_count": 466,
   "metadata": {
    "ExecuteTime": {
     "end_time": "2021-07-20T16:36:15.699913Z",
     "start_time": "2021-07-20T16:36:15.692912Z"
    }
   },
   "outputs": [],
   "source": [
    "# player_list = str(list(gamertag_groups[0]))[1:-1]\n",
    "\n",
    "# player_list\n",
    "# player_list = player_list.replace(', ',',')\n",
    "# player_list = player_list.replace(\"'\",'')\n",
    "# player_list = player_list.replace(' ','+')\n",
    "\n",
    "# player_list"
   ]
  },
  {
   "cell_type": "markdown",
   "metadata": {},
   "source": [
    "## Player Stats API Call"
   ]
  },
  {
   "cell_type": "code",
   "execution_count": 467,
   "metadata": {
    "ExecuteTime": {
     "end_time": "2021-07-20T16:36:15.709916Z",
     "start_time": "2021-07-20T16:36:15.701914Z"
    }
   },
   "outputs": [],
   "source": [
    "# run = False\n",
    "\n",
    "# if run == True:\n",
    "\n",
    "#     all_players = []\n",
    "\n",
    "#     headers = {\n",
    "#         # Request headers\n",
    "#         'Ocp-Apim-Subscription-Key': str(api_key),\n",
    "#     }\n",
    "\n",
    "#     params = urllib.parse.urlencode({\n",
    "#         # Request parameters\n",
    "#     #     'seasonId': '{string}',\n",
    "\n",
    "#     })\n",
    "\n",
    "# #     for group in tqdm(gamertag_groups[0:3]):\n",
    "#     for group in tqdm(gamertag_groups):\n",
    "\n",
    "#         player_list = str(list(group))[1:-1]\n",
    "#         player_list = player_list.replace(', ',',')\n",
    "#         player_list = player_list.replace(\"'\",'')\n",
    "#         player_list = player_list.replace(' ','+')\n",
    "\n",
    "#         try:\n",
    "#             conn = http.client.HTTPSConnection('www.haloapi.com')\n",
    "#             conn.request(\"GET\", f\"/stats/h5/servicerecords/arena?players={player_list}&%s\" % params, \"{body}\", headers)\n",
    "\n",
    "#             response = conn.getresponse()\n",
    "#             players_stats = json.loads(response.read())\n",
    "#             all_players.extend(players_stats['Results'])\n",
    "#         #     print(data)\n",
    "#             conn.close()\n",
    "#         except Exception as e:\n",
    "#             print(\"[Errno {0}] {1}\".format(e.errno, e.strerror))\n",
    "\n",
    "#         time.sleep(1.1)\n",
    "\n",
    "#     with open('all_players.pkl', 'wb') as all_players_pickle:\n",
    "#         pickle.dump(all_players, all_players_pickle)\n",
    "\n",
    "# ######## CAUTION - THIS CONSUMES 16 GB of RAM ##########\n",
    "# else:\n",
    "#     with open('all_players.pkl', 'rb') as all_players_pickle:\n",
    "#         all_players = pickle.load(all_players_pickle)\n",
    "    \n",
    "# len(all_players)\n"
   ]
  },
  {
   "cell_type": "markdown",
   "metadata": {},
   "source": [
    "# Merge All Player Stats with Base Dataframe"
   ]
  },
  {
   "cell_type": "markdown",
   "metadata": {},
   "source": [
    "## Reset GameVaseVariantID to code for model DF"
   ]
  },
  {
   "cell_type": "code",
   "execution_count": 468,
   "metadata": {
    "ExecuteTime": {
     "end_time": "2021-07-20T16:36:15.721918Z",
     "start_time": "2021-07-20T16:36:15.710916Z"
    }
   },
   "outputs": [],
   "source": [
    "# df2_save = df2.copy()"
   ]
  },
  {
   "cell_type": "code",
   "execution_count": 469,
   "metadata": {
    "ExecuteTime": {
     "end_time": "2021-07-20T16:36:15.742923Z",
     "start_time": "2021-07-20T16:36:15.722918Z"
    }
   },
   "outputs": [],
   "source": [
    "# df2.head(2)"
   ]
  },
  {
   "cell_type": "code",
   "execution_count": null,
   "metadata": {
    "ExecuteTime": {
     "end_time": "2021-07-15T20:34:06.700139Z",
     "start_time": "2021-07-15T20:34:06.672141Z"
    }
   },
   "outputs": [],
   "source": []
  },
  {
   "cell_type": "code",
   "execution_count": 470,
   "metadata": {
    "ExecuteTime": {
     "end_time": "2021-07-20T16:36:15.754926Z",
     "start_time": "2021-07-20T16:36:15.743924Z"
    }
   },
   "outputs": [],
   "source": [
    "# run = False\n",
    "\n",
    "# if run == True:\n",
    "\n",
    "#     df = df2.copy()\n",
    "\n",
    "#     row_count = 0\n",
    "\n",
    "#     for index, row in tqdm(df.iterrows()):\n",
    "\n",
    "#         # Set Variant ID\n",
    "#         variant_id = df['GameBaseVariantId'].values[0]\n",
    "\n",
    "#         # Define player / enemy variables\n",
    "#         P1 = (df['P1'].values[row_count], 'P1')\n",
    "#         P2 = (df['P2'].values[row_count], 'P2')\n",
    "#         P3 = (df['P3'].values[row_count], 'P3')\n",
    "#         P4 = (df['P4'].values[row_count], 'P4')\n",
    "#         E1 = (df['E1'].values[row_count], 'E1')\n",
    "#         E2 = (df['E2'].values[row_count], 'E2')\n",
    "#         E3 = (df['E3'].values[row_count], 'E3')\n",
    "#         E4 = (df['E4'].values[row_count], 'E4')\n",
    "#         roster = [P1, P2, P3, P4, E1, E2, E3, E4]\n",
    "\n",
    "#         # For loop to loop through player / enemy variables in dataframe    \n",
    "#         for p in roster:        \n",
    "#             i = 0   \n",
    "\n",
    "#             # Loop through large all_players dictionary and find player / enemy gamertag\n",
    "#             for player in all_players:\n",
    "#                 if all_players[i]['Id'] == p[0]:\n",
    "#     #                 print('found')\n",
    "\n",
    "#                     # Once gamertag found, locate game variant as specified by dataframe row\n",
    "#                     for variant in player['Result']['ArenaStats']['ArenaGameBaseVariantStats']:\n",
    "#                         if variant['GameBaseVariantId'] == variant_id:\n",
    "#                             # Create new row if does not already exist AND\n",
    "#                             # Create new column for TotalTimePlayed using P1, P2, E1, etc.\n",
    "#                             if p[1] + '_TotalTimePlayed' not in df:\n",
    "#                                 df[p[1] + '_TotalTimePlayed'] = pd.Series()\n",
    "#                             try:\n",
    "#                                 df[p[1] + '_TotalTimePlayed'].iloc[row_count] = isodate.parse_duration(variant['TotalTimePlayed']).total_seconds() / 3600\n",
    "#                             except:\n",
    "#                                 df[p[1] + '_TotalTimePlayed'].iloc[row_count] = None\n",
    "\n",
    "#                             if p[1] + '_K/D' not in df:\n",
    "#                                 df[p[1] + '_K/D'] = pd.Series()\n",
    "#                             try:\n",
    "#                                 df[p[1] + '_K/D'].iloc[row_count] = variant['TotalKills'] / variant['TotalDeaths']\n",
    "#                             except:\n",
    "#                                 df[p[1] + '_K/D'].iloc[row_count] = None\n",
    "\n",
    "#                             if p[1] + '_Accuracy' not in df:\n",
    "#                                 df[p[1] + '_Accuracy'] = pd.Series()     \n",
    "#                             try:\n",
    "#                                 df[p[1] + '_Accuracy'].iloc[row_count] = variant['TotalShotsLanded'] / variant['TotalShotsFired']\n",
    "#                             except:\n",
    "#                                 df[p[1] + '_Accuracy'].iloc[row_count] = None\n",
    "\n",
    "#                             if p[1] + '_WinRate' not in df:\n",
    "#                                 df[p[1] + '_WinRate'] = pd.Series()\n",
    "#                             try: \n",
    "#                                 df[p[1] + '_WinRate'].iloc[row_count] = variant['TotalGamesWon'] / variant['TotalGamesLost']\n",
    "#                             except:\n",
    "#                                 df[p[1] + '_WinRate'].iloc[row_count] = None\n",
    "\n",
    "#                     i += 1\n",
    "#         #                 else: \n",
    "#         #                     continue\n",
    "#                 else:\n",
    "#                     i += 1\n",
    "#                     continue\n",
    "\n",
    "#         row_count += 1\n",
    "\n",
    "#     ##     Convert df['PlayerWin'] to .int\n",
    "#     #     df = df[df['PlayerWin'] != 'Tie']\n",
    "#     #     df.loc[(df['PlayerWin'] == 'Player'),'PlayerWin'] = 1\n",
    "#     #     df.loc[(df['PlayerWin'] == 'Enemy'),'PlayerWin'] = 0\n",
    "#     #     df['PlayerWin'] = df['PlayerWin'].astype('int')\n",
    "\n",
    "#         df.to_csv('model_df_w_all_features.csv')\n",
    "\n",
    "# else:\n",
    "#     df = pd.read_csv('model_df_w_all_features.csv')\n",
    "\n",
    "# df.head(3)"
   ]
  },
  {
   "cell_type": "markdown",
   "metadata": {},
   "source": [
    "# Model DF from Single Match Pull"
   ]
  },
  {
   "cell_type": "code",
   "execution_count": 471,
   "metadata": {
    "ExecuteTime": {
     "end_time": "2021-07-20T16:36:15.765928Z",
     "start_time": "2021-07-20T16:36:15.755926Z"
    }
   },
   "outputs": [],
   "source": [
    "# df = pd.read_csv('MODEL_PULL.csv')\n",
    "\n",
    "# df"
   ]
  },
  {
   "cell_type": "code",
   "execution_count": 472,
   "metadata": {
    "ExecuteTime": {
     "end_time": "2021-07-20T16:36:15.776931Z",
     "start_time": "2021-07-20T16:36:15.766929Z"
    }
   },
   "outputs": [],
   "source": [
    "# df = pd.read_csv('MODEL_PULL.csv')\n",
    "# #df = df.reset_index\n",
    "# df = df.drop(['Unnamed: 0'], axis=1)\n",
    "# df['GameBaseVariantId'] = decode_column(df, 'GameBaseVariantId', GameBaseVariantId_dic)\n",
    "# df['PlaylistId'] = decode_column(df, 'PlaylistId', PlaylistId_dic)\n",
    "# df['MapVariantId'] = decode_maps(df, 'MapVariantId', map_list)\n",
    "\n",
    "# df = df[df['WinLoseTie'] != 'Tie']\n",
    "# df.loc[(df['WinLoseTie'] == 'Victory'),'WinLoseTie'] = 1\n",
    "# df.loc[(df['WinLoseTie'] == 'Defeat'),'WinLoseTie'] = 0\n",
    "# df['WinLoseTie'] = df['WinLoseTie'].astype('int')\n",
    "\n",
    "# df['Date'] = df['Date'].apply(pd.to_datetime)\n",
    "# df = df[(df['Date'] > '2021-07-01')]\n",
    "\n",
    "# df"
   ]
  },
  {
   "cell_type": "code",
   "execution_count": 473,
   "metadata": {
    "ExecuteTime": {
     "end_time": "2021-07-20T16:36:15.839945Z",
     "start_time": "2021-07-20T16:36:15.777931Z"
    }
   },
   "outputs": [
    {
     "data": {
      "text/html": [
       "<div>\n",
       "<style scoped>\n",
       "    .dataframe tbody tr th:only-of-type {\n",
       "        vertical-align: middle;\n",
       "    }\n",
       "\n",
       "    .dataframe tbody tr th {\n",
       "        vertical-align: top;\n",
       "    }\n",
       "\n",
       "    .dataframe thead th {\n",
       "        text-align: right;\n",
       "    }\n",
       "</style>\n",
       "<table border=\"1\" class=\"dataframe\">\n",
       "  <thead>\n",
       "    <tr style=\"text-align: right;\">\n",
       "      <th></th>\n",
       "      <th>Date</th>\n",
       "      <th>MatchId</th>\n",
       "      <th>GameBaseVariantId</th>\n",
       "      <th>PlaylistId</th>\n",
       "      <th>MapVariantId</th>\n",
       "      <th>WinLoseTie</th>\n",
       "      <th>P1_Gamertag</th>\n",
       "      <th>P1_SpartanRank</th>\n",
       "      <th>P1_PrevTotalXP</th>\n",
       "      <th>P1_TotalKills</th>\n",
       "      <th>...</th>\n",
       "      <th>E4_TotalPowerWeaponGrabs</th>\n",
       "      <th>E4_TotalPowerWeaponPossessionTime</th>\n",
       "      <th>E4_TotalDeaths</th>\n",
       "      <th>E4_TotalAssists</th>\n",
       "      <th>E4_TotalGamesCompleted</th>\n",
       "      <th>E4_TotalGamesWon</th>\n",
       "      <th>E4_TotalGamesLost</th>\n",
       "      <th>E4_TotalGamesTied</th>\n",
       "      <th>E4_TotalTimePlayed</th>\n",
       "      <th>E4_TotalGrenadeKills</th>\n",
       "    </tr>\n",
       "  </thead>\n",
       "  <tbody>\n",
       "    <tr>\n",
       "      <th>0</th>\n",
       "      <td>2021-07-17 21:39:00</td>\n",
       "      <td>1bc32b01-2dda-418a-8853-ba3d3b09f912</td>\n",
       "      <td>Slayer</td>\n",
       "      <td>Super Fiesta Party</td>\n",
       "      <td>Transit</td>\n",
       "      <td>0</td>\n",
       "      <td>TED Cloverlan</td>\n",
       "      <td>102</td>\n",
       "      <td>3348130</td>\n",
       "      <td>3378</td>\n",
       "      <td>...</td>\n",
       "      <td>18</td>\n",
       "      <td>2.994338</td>\n",
       "      <td>1089</td>\n",
       "      <td>445</td>\n",
       "      <td>107</td>\n",
       "      <td>52</td>\n",
       "      <td>48</td>\n",
       "      <td>7</td>\n",
       "      <td>11.855415</td>\n",
       "      <td>43</td>\n",
       "    </tr>\n",
       "    <tr>\n",
       "      <th>1</th>\n",
       "      <td>2021-07-19 00:29:00</td>\n",
       "      <td>06c5149f-72af-4678-9615-7d2db89db290</td>\n",
       "      <td>Capture the Flag</td>\n",
       "      <td>Super Fiesta Party</td>\n",
       "      <td>Coliseum</td>\n",
       "      <td>1</td>\n",
       "      <td>Drymander</td>\n",
       "      <td>148</td>\n",
       "      <td>15348257</td>\n",
       "      <td>39273</td>\n",
       "      <td>...</td>\n",
       "      <td>31</td>\n",
       "      <td>1.848657</td>\n",
       "      <td>1227</td>\n",
       "      <td>559</td>\n",
       "      <td>105</td>\n",
       "      <td>35</td>\n",
       "      <td>65</td>\n",
       "      <td>5</td>\n",
       "      <td>12.014393</td>\n",
       "      <td>11</td>\n",
       "    </tr>\n",
       "    <tr>\n",
       "      <th>2</th>\n",
       "      <td>2021-07-19 00:25:00</td>\n",
       "      <td>7801d2b0-f941-4851-9b04-8208a5439497</td>\n",
       "      <td>Capture the Flag</td>\n",
       "      <td>Super Fiesta Party</td>\n",
       "      <td>Raid on the Control Room</td>\n",
       "      <td>1</td>\n",
       "      <td>TWINKYNECKS</td>\n",
       "      <td>151</td>\n",
       "      <td>37161347</td>\n",
       "      <td>58661</td>\n",
       "      <td>...</td>\n",
       "      <td>0</td>\n",
       "      <td>6.482648</td>\n",
       "      <td>1603</td>\n",
       "      <td>853</td>\n",
       "      <td>117</td>\n",
       "      <td>49</td>\n",
       "      <td>48</td>\n",
       "      <td>20</td>\n",
       "      <td>12.392531</td>\n",
       "      <td>40</td>\n",
       "    </tr>\n",
       "    <tr>\n",
       "      <th>3</th>\n",
       "      <td>2021-07-19 00:17:00</td>\n",
       "      <td>66b24b25-1d47-490d-a60f-7762bf257e94</td>\n",
       "      <td>Capture the Flag</td>\n",
       "      <td>Super Fiesta Party</td>\n",
       "      <td>Putput</td>\n",
       "      <td>1</td>\n",
       "      <td>ZeroX932</td>\n",
       "      <td>151</td>\n",
       "      <td>47050485</td>\n",
       "      <td>100339</td>\n",
       "      <td>...</td>\n",
       "      <td>22</td>\n",
       "      <td>18.032953</td>\n",
       "      <td>7012</td>\n",
       "      <td>2200</td>\n",
       "      <td>373</td>\n",
       "      <td>249</td>\n",
       "      <td>97</td>\n",
       "      <td>27</td>\n",
       "      <td>41.323951</td>\n",
       "      <td>235</td>\n",
       "    </tr>\n",
       "    <tr>\n",
       "      <th>4</th>\n",
       "      <td>2021-07-19 00:09:00</td>\n",
       "      <td>3f287ac2-1914-490b-86d4-11c050f9e52d</td>\n",
       "      <td>Capture the Flag</td>\n",
       "      <td>Super Fiesta Party</td>\n",
       "      <td>Solstace Vista</td>\n",
       "      <td>1</td>\n",
       "      <td>Drymander</td>\n",
       "      <td>148</td>\n",
       "      <td>15342496</td>\n",
       "      <td>39273</td>\n",
       "      <td>...</td>\n",
       "      <td>35</td>\n",
       "      <td>49.419732</td>\n",
       "      <td>6777</td>\n",
       "      <td>4525</td>\n",
       "      <td>748</td>\n",
       "      <td>292</td>\n",
       "      <td>343</td>\n",
       "      <td>113</td>\n",
       "      <td>84.279160</td>\n",
       "      <td>248</td>\n",
       "    </tr>\n",
       "    <tr>\n",
       "      <th>...</th>\n",
       "      <td>...</td>\n",
       "      <td>...</td>\n",
       "      <td>...</td>\n",
       "      <td>...</td>\n",
       "      <td>...</td>\n",
       "      <td>...</td>\n",
       "      <td>...</td>\n",
       "      <td>...</td>\n",
       "      <td>...</td>\n",
       "      <td>...</td>\n",
       "      <td>...</td>\n",
       "      <td>...</td>\n",
       "      <td>...</td>\n",
       "      <td>...</td>\n",
       "      <td>...</td>\n",
       "      <td>...</td>\n",
       "      <td>...</td>\n",
       "      <td>...</td>\n",
       "      <td>...</td>\n",
       "      <td>...</td>\n",
       "      <td>...</td>\n",
       "    </tr>\n",
       "    <tr>\n",
       "      <th>8801</th>\n",
       "      <td>2021-07-16 04:39:56</td>\n",
       "      <td>28d31d6a-699e-4ffe-a1f9-2597f3a80d7e</td>\n",
       "      <td>Capture the Flag</td>\n",
       "      <td>Super Fiesta Party</td>\n",
       "      <td>Stand Clear</td>\n",
       "      <td>1</td>\n",
       "      <td>SUPAMAN240</td>\n",
       "      <td>152</td>\n",
       "      <td>100000000</td>\n",
       "      <td>107737</td>\n",
       "      <td>...</td>\n",
       "      <td>126</td>\n",
       "      <td>3.485125</td>\n",
       "      <td>2143</td>\n",
       "      <td>657</td>\n",
       "      <td>183</td>\n",
       "      <td>97</td>\n",
       "      <td>82</td>\n",
       "      <td>4</td>\n",
       "      <td>20.644192</td>\n",
       "      <td>138</td>\n",
       "    </tr>\n",
       "    <tr>\n",
       "      <th>8802</th>\n",
       "      <td>2021-07-16 04:31:08</td>\n",
       "      <td>f5033d96-dc0d-4371-aa1e-c9ce61ea9e73</td>\n",
       "      <td>Capture the Flag</td>\n",
       "      <td>Super Fiesta Party</td>\n",
       "      <td>Solstace Vista</td>\n",
       "      <td>1</td>\n",
       "      <td>SUPAMAN240</td>\n",
       "      <td>152</td>\n",
       "      <td>100000000</td>\n",
       "      <td>107737</td>\n",
       "      <td>...</td>\n",
       "      <td>2</td>\n",
       "      <td>34.980773</td>\n",
       "      <td>7995</td>\n",
       "      <td>3928</td>\n",
       "      <td>643</td>\n",
       "      <td>458</td>\n",
       "      <td>135</td>\n",
       "      <td>50</td>\n",
       "      <td>61.901096</td>\n",
       "      <td>441</td>\n",
       "    </tr>\n",
       "    <tr>\n",
       "      <th>8803</th>\n",
       "      <td>2021-07-16 04:16:25</td>\n",
       "      <td>b26f1cff-2df7-4549-a1b3-eb657620cb58</td>\n",
       "      <td>Capture the Flag</td>\n",
       "      <td>Super Fiesta Party</td>\n",
       "      <td>Traverse</td>\n",
       "      <td>0</td>\n",
       "      <td>WoIfenstein</td>\n",
       "      <td>152</td>\n",
       "      <td>58353169</td>\n",
       "      <td>140297</td>\n",
       "      <td>...</td>\n",
       "      <td>76</td>\n",
       "      <td>3.050709</td>\n",
       "      <td>2805</td>\n",
       "      <td>1501</td>\n",
       "      <td>224</td>\n",
       "      <td>127</td>\n",
       "      <td>89</td>\n",
       "      <td>8</td>\n",
       "      <td>27.231480</td>\n",
       "      <td>97</td>\n",
       "    </tr>\n",
       "    <tr>\n",
       "      <th>8805</th>\n",
       "      <td>2021-07-15 04:48:00</td>\n",
       "      <td>a793c257-8b0d-431d-a513-ef9b435fd56a</td>\n",
       "      <td>Strongholds</td>\n",
       "      <td>Super Fiesta Party</td>\n",
       "      <td>The Rig</td>\n",
       "      <td>1</td>\n",
       "      <td>WoIfenstein</td>\n",
       "      <td>152</td>\n",
       "      <td>58344009</td>\n",
       "      <td>140297</td>\n",
       "      <td>...</td>\n",
       "      <td>3</td>\n",
       "      <td>25.920591</td>\n",
       "      <td>6106</td>\n",
       "      <td>2956</td>\n",
       "      <td>483</td>\n",
       "      <td>215</td>\n",
       "      <td>209</td>\n",
       "      <td>59</td>\n",
       "      <td>48.976513</td>\n",
       "      <td>76</td>\n",
       "    </tr>\n",
       "    <tr>\n",
       "      <th>8806</th>\n",
       "      <td>2021-07-15 01:39:04</td>\n",
       "      <td>515514df-833b-45a3-aa34-67c187148cac</td>\n",
       "      <td>Capture the Flag</td>\n",
       "      <td>Super Fiesta Party</td>\n",
       "      <td>Blood and Stone</td>\n",
       "      <td>1</td>\n",
       "      <td>WoIfenstein</td>\n",
       "      <td>152</td>\n",
       "      <td>58341894</td>\n",
       "      <td>140297</td>\n",
       "      <td>...</td>\n",
       "      <td>5</td>\n",
       "      <td>21.243767</td>\n",
       "      <td>4905</td>\n",
       "      <td>1398</td>\n",
       "      <td>293</td>\n",
       "      <td>111</td>\n",
       "      <td>132</td>\n",
       "      <td>50</td>\n",
       "      <td>37.521943</td>\n",
       "      <td>177</td>\n",
       "    </tr>\n",
       "  </tbody>\n",
       "</table>\n",
       "<p>6181 rows × 230 columns</p>\n",
       "</div>"
      ],
      "text/plain": [
       "                    Date                               MatchId  \\\n",
       "0    2021-07-17 21:39:00  1bc32b01-2dda-418a-8853-ba3d3b09f912   \n",
       "1    2021-07-19 00:29:00  06c5149f-72af-4678-9615-7d2db89db290   \n",
       "2    2021-07-19 00:25:00  7801d2b0-f941-4851-9b04-8208a5439497   \n",
       "3    2021-07-19 00:17:00  66b24b25-1d47-490d-a60f-7762bf257e94   \n",
       "4    2021-07-19 00:09:00  3f287ac2-1914-490b-86d4-11c050f9e52d   \n",
       "...                  ...                                   ...   \n",
       "8801 2021-07-16 04:39:56  28d31d6a-699e-4ffe-a1f9-2597f3a80d7e   \n",
       "8802 2021-07-16 04:31:08  f5033d96-dc0d-4371-aa1e-c9ce61ea9e73   \n",
       "8803 2021-07-16 04:16:25  b26f1cff-2df7-4549-a1b3-eb657620cb58   \n",
       "8805 2021-07-15 04:48:00  a793c257-8b0d-431d-a513-ef9b435fd56a   \n",
       "8806 2021-07-15 01:39:04  515514df-833b-45a3-aa34-67c187148cac   \n",
       "\n",
       "     GameBaseVariantId          PlaylistId              MapVariantId  \\\n",
       "0               Slayer  Super Fiesta Party                   Transit   \n",
       "1     Capture the Flag  Super Fiesta Party                  Coliseum   \n",
       "2     Capture the Flag  Super Fiesta Party  Raid on the Control Room   \n",
       "3     Capture the Flag  Super Fiesta Party                    Putput   \n",
       "4     Capture the Flag  Super Fiesta Party            Solstace Vista   \n",
       "...                ...                 ...                       ...   \n",
       "8801  Capture the Flag  Super Fiesta Party               Stand Clear   \n",
       "8802  Capture the Flag  Super Fiesta Party            Solstace Vista   \n",
       "8803  Capture the Flag  Super Fiesta Party                  Traverse   \n",
       "8805       Strongholds  Super Fiesta Party                   The Rig   \n",
       "8806  Capture the Flag  Super Fiesta Party           Blood and Stone   \n",
       "\n",
       "      WinLoseTie    P1_Gamertag  P1_SpartanRank  P1_PrevTotalXP  \\\n",
       "0              0  TED Cloverlan             102         3348130   \n",
       "1              1      Drymander             148        15348257   \n",
       "2              1    TWINKYNECKS             151        37161347   \n",
       "3              1       ZeroX932             151        47050485   \n",
       "4              1      Drymander             148        15342496   \n",
       "...          ...            ...             ...             ...   \n",
       "8801           1     SUPAMAN240             152       100000000   \n",
       "8802           1     SUPAMAN240             152       100000000   \n",
       "8803           0    WoIfenstein             152        58353169   \n",
       "8805           1    WoIfenstein             152        58344009   \n",
       "8806           1    WoIfenstein             152        58341894   \n",
       "\n",
       "      P1_TotalKills  ...  E4_TotalPowerWeaponGrabs  \\\n",
       "0              3378  ...                        18   \n",
       "1             39273  ...                        31   \n",
       "2             58661  ...                         0   \n",
       "3            100339  ...                        22   \n",
       "4             39273  ...                        35   \n",
       "...             ...  ...                       ...   \n",
       "8801         107737  ...                       126   \n",
       "8802         107737  ...                         2   \n",
       "8803         140297  ...                        76   \n",
       "8805         140297  ...                         3   \n",
       "8806         140297  ...                         5   \n",
       "\n",
       "      E4_TotalPowerWeaponPossessionTime  E4_TotalDeaths  E4_TotalAssists  \\\n",
       "0                              2.994338            1089              445   \n",
       "1                              1.848657            1227              559   \n",
       "2                              6.482648            1603              853   \n",
       "3                             18.032953            7012             2200   \n",
       "4                             49.419732            6777             4525   \n",
       "...                                 ...             ...              ...   \n",
       "8801                           3.485125            2143              657   \n",
       "8802                          34.980773            7995             3928   \n",
       "8803                           3.050709            2805             1501   \n",
       "8805                          25.920591            6106             2956   \n",
       "8806                          21.243767            4905             1398   \n",
       "\n",
       "      E4_TotalGamesCompleted  E4_TotalGamesWon  E4_TotalGamesLost  \\\n",
       "0                        107                52                 48   \n",
       "1                        105                35                 65   \n",
       "2                        117                49                 48   \n",
       "3                        373               249                 97   \n",
       "4                        748               292                343   \n",
       "...                      ...               ...                ...   \n",
       "8801                     183                97                 82   \n",
       "8802                     643               458                135   \n",
       "8803                     224               127                 89   \n",
       "8805                     483               215                209   \n",
       "8806                     293               111                132   \n",
       "\n",
       "      E4_TotalGamesTied  E4_TotalTimePlayed  E4_TotalGrenadeKills  \n",
       "0                     7           11.855415                    43  \n",
       "1                     5           12.014393                    11  \n",
       "2                    20           12.392531                    40  \n",
       "3                    27           41.323951                   235  \n",
       "4                   113           84.279160                   248  \n",
       "...                 ...                 ...                   ...  \n",
       "8801                  4           20.644192                   138  \n",
       "8802                 50           61.901096                   441  \n",
       "8803                  8           27.231480                    97  \n",
       "8805                 59           48.976513                    76  \n",
       "8806                 50           37.521943                   177  \n",
       "\n",
       "[6181 rows x 230 columns]"
      ]
     },
     "execution_count": 473,
     "metadata": {},
     "output_type": "execute_result"
    }
   ],
   "source": [
    "df = df[df['WinLoseTie'] != 'Tie']\n",
    "df.loc[(df['WinLoseTie'] == 'Victory'),'WinLoseTie'] = 1\n",
    "df.loc[(df['WinLoseTie'] == 'Defeat'),'WinLoseTie'] = 0\n",
    "df['WinLoseTie'] = df['WinLoseTie'].astype('int')\n",
    "\n",
    "# df['Date'] = df['Date'].apply(pd.to_datetime)\n",
    "df = df[(df['Date'] > '2021-07-01')]\n",
    "\n",
    "df"
   ]
  },
  {
   "cell_type": "markdown",
   "metadata": {},
   "source": [
    "# Choose GameBaseVariantId to model"
   ]
  },
  {
   "cell_type": "code",
   "execution_count": 474,
   "metadata": {
    "ExecuteTime": {
     "end_time": "2021-07-20T16:36:15.854948Z",
     "start_time": "2021-07-20T16:36:15.840945Z"
    }
   },
   "outputs": [
    {
     "data": {
      "text/plain": [
       "Super Fiesta Party    5098\n",
       "Name: PlaylistId, dtype: int64"
      ]
     },
     "execution_count": 474,
     "metadata": {},
     "output_type": "execute_result"
    }
   ],
   "source": [
    "def choose_gametype(df, GameBaseVariantId, PlaylistId):\n",
    "    if GameBaseVariantId == None and PlaylistId == None:\n",
    "        gametype_df = df\n",
    "    elif GameBaseVariantId == None:\n",
    "        gametype_df = df[df['PlaylistId'] == PlaylistId]\n",
    "    elif PlaylistId == None:\n",
    "        gametype_df = df[df['GameBaseVariantId'] == GameBaseVariantId]\n",
    "    else:\n",
    "        gametype_df = df[(df['GameBaseVariantId'] == GameBaseVariantId) & (df['PlaylistId'] == PlaylistId)]\n",
    "    \n",
    "    return gametype_df\n",
    "\n",
    "df = choose_gametype(df, None, 'Super Fiesta Party')\n",
    "# df = choose_gametype(df, None, None)\n",
    "df['PlaylistId'].value_counts()"
   ]
  },
  {
   "cell_type": "markdown",
   "metadata": {},
   "source": [
    "## Drop columns"
   ]
  },
  {
   "cell_type": "code",
   "execution_count": 475,
   "metadata": {
    "ExecuteTime": {
     "end_time": "2021-07-20T16:36:15.894958Z",
     "start_time": "2021-07-20T16:36:15.855948Z"
    }
   },
   "outputs": [
    {
     "data": {
      "text/html": [
       "<div>\n",
       "<style scoped>\n",
       "    .dataframe tbody tr th:only-of-type {\n",
       "        vertical-align: middle;\n",
       "    }\n",
       "\n",
       "    .dataframe tbody tr th {\n",
       "        vertical-align: top;\n",
       "    }\n",
       "\n",
       "    .dataframe thead th {\n",
       "        text-align: right;\n",
       "    }\n",
       "</style>\n",
       "<table border=\"1\" class=\"dataframe\">\n",
       "  <thead>\n",
       "    <tr style=\"text-align: right;\">\n",
       "      <th></th>\n",
       "      <th>PlayerWin</th>\n",
       "      <th>P1_SpartanRank</th>\n",
       "      <th>P1_PrevTotalXP</th>\n",
       "      <th>P1_TotalKills</th>\n",
       "      <th>P1_TotalHeadshots</th>\n",
       "      <th>P1_TotalWeaponDamage</th>\n",
       "      <th>P1_TotalShotsFired</th>\n",
       "      <th>P1_TotalShotsLanded</th>\n",
       "      <th>P1_TotalMeleeKills</th>\n",
       "      <th>P1_TotalMeleeDamage</th>\n",
       "      <th>...</th>\n",
       "      <th>E4_TotalPowerWeaponGrabs</th>\n",
       "      <th>E4_TotalPowerWeaponPossessionTime</th>\n",
       "      <th>E4_TotalDeaths</th>\n",
       "      <th>E4_TotalAssists</th>\n",
       "      <th>E4_TotalGamesCompleted</th>\n",
       "      <th>E4_TotalGamesWon</th>\n",
       "      <th>E4_TotalGamesLost</th>\n",
       "      <th>E4_TotalGamesTied</th>\n",
       "      <th>E4_TotalTimePlayed</th>\n",
       "      <th>E4_TotalGrenadeKills</th>\n",
       "    </tr>\n",
       "  </thead>\n",
       "  <tbody>\n",
       "    <tr>\n",
       "      <th>0</th>\n",
       "      <td>0</td>\n",
       "      <td>102</td>\n",
       "      <td>3348130</td>\n",
       "      <td>3378</td>\n",
       "      <td>551</td>\n",
       "      <td>4.362411e+05</td>\n",
       "      <td>96140</td>\n",
       "      <td>31174</td>\n",
       "      <td>150</td>\n",
       "      <td>14200.282440</td>\n",
       "      <td>...</td>\n",
       "      <td>18</td>\n",
       "      <td>2.994338</td>\n",
       "      <td>1089</td>\n",
       "      <td>445</td>\n",
       "      <td>107</td>\n",
       "      <td>52</td>\n",
       "      <td>48</td>\n",
       "      <td>7</td>\n",
       "      <td>11.855415</td>\n",
       "      <td>43</td>\n",
       "    </tr>\n",
       "    <tr>\n",
       "      <th>1</th>\n",
       "      <td>1</td>\n",
       "      <td>148</td>\n",
       "      <td>15348257</td>\n",
       "      <td>39273</td>\n",
       "      <td>3202</td>\n",
       "      <td>5.020049e+06</td>\n",
       "      <td>1025141</td>\n",
       "      <td>367059</td>\n",
       "      <td>1289</td>\n",
       "      <td>147219.068300</td>\n",
       "      <td>...</td>\n",
       "      <td>31</td>\n",
       "      <td>1.848657</td>\n",
       "      <td>1227</td>\n",
       "      <td>559</td>\n",
       "      <td>105</td>\n",
       "      <td>35</td>\n",
       "      <td>65</td>\n",
       "      <td>5</td>\n",
       "      <td>12.014393</td>\n",
       "      <td>11</td>\n",
       "    </tr>\n",
       "    <tr>\n",
       "      <th>2</th>\n",
       "      <td>1</td>\n",
       "      <td>151</td>\n",
       "      <td>37161347</td>\n",
       "      <td>58661</td>\n",
       "      <td>11418</td>\n",
       "      <td>7.990578e+06</td>\n",
       "      <td>1326652</td>\n",
       "      <td>460037</td>\n",
       "      <td>1669</td>\n",
       "      <td>222380.100500</td>\n",
       "      <td>...</td>\n",
       "      <td>0</td>\n",
       "      <td>6.482648</td>\n",
       "      <td>1603</td>\n",
       "      <td>853</td>\n",
       "      <td>117</td>\n",
       "      <td>49</td>\n",
       "      <td>48</td>\n",
       "      <td>20</td>\n",
       "      <td>12.392531</td>\n",
       "      <td>40</td>\n",
       "    </tr>\n",
       "    <tr>\n",
       "      <th>3</th>\n",
       "      <td>1</td>\n",
       "      <td>151</td>\n",
       "      <td>47050485</td>\n",
       "      <td>100339</td>\n",
       "      <td>22173</td>\n",
       "      <td>1.279709e+07</td>\n",
       "      <td>2176535</td>\n",
       "      <td>766384</td>\n",
       "      <td>1959</td>\n",
       "      <td>228599.805100</td>\n",
       "      <td>...</td>\n",
       "      <td>22</td>\n",
       "      <td>18.032953</td>\n",
       "      <td>7012</td>\n",
       "      <td>2200</td>\n",
       "      <td>373</td>\n",
       "      <td>249</td>\n",
       "      <td>97</td>\n",
       "      <td>27</td>\n",
       "      <td>41.323951</td>\n",
       "      <td>235</td>\n",
       "    </tr>\n",
       "    <tr>\n",
       "      <th>4</th>\n",
       "      <td>1</td>\n",
       "      <td>148</td>\n",
       "      <td>15342496</td>\n",
       "      <td>39273</td>\n",
       "      <td>3202</td>\n",
       "      <td>5.020049e+06</td>\n",
       "      <td>1025141</td>\n",
       "      <td>367059</td>\n",
       "      <td>1289</td>\n",
       "      <td>147219.068300</td>\n",
       "      <td>...</td>\n",
       "      <td>35</td>\n",
       "      <td>49.419732</td>\n",
       "      <td>6777</td>\n",
       "      <td>4525</td>\n",
       "      <td>748</td>\n",
       "      <td>292</td>\n",
       "      <td>343</td>\n",
       "      <td>113</td>\n",
       "      <td>84.279160</td>\n",
       "      <td>248</td>\n",
       "    </tr>\n",
       "    <tr>\n",
       "      <th>...</th>\n",
       "      <td>...</td>\n",
       "      <td>...</td>\n",
       "      <td>...</td>\n",
       "      <td>...</td>\n",
       "      <td>...</td>\n",
       "      <td>...</td>\n",
       "      <td>...</td>\n",
       "      <td>...</td>\n",
       "      <td>...</td>\n",
       "      <td>...</td>\n",
       "      <td>...</td>\n",
       "      <td>...</td>\n",
       "      <td>...</td>\n",
       "      <td>...</td>\n",
       "      <td>...</td>\n",
       "      <td>...</td>\n",
       "      <td>...</td>\n",
       "      <td>...</td>\n",
       "      <td>...</td>\n",
       "      <td>...</td>\n",
       "      <td>...</td>\n",
       "    </tr>\n",
       "    <tr>\n",
       "      <th>8801</th>\n",
       "      <td>1</td>\n",
       "      <td>152</td>\n",
       "      <td>100000000</td>\n",
       "      <td>107737</td>\n",
       "      <td>14217</td>\n",
       "      <td>1.413503e+07</td>\n",
       "      <td>2703353</td>\n",
       "      <td>951319</td>\n",
       "      <td>3063</td>\n",
       "      <td>379913.664517</td>\n",
       "      <td>...</td>\n",
       "      <td>126</td>\n",
       "      <td>3.485125</td>\n",
       "      <td>2143</td>\n",
       "      <td>657</td>\n",
       "      <td>183</td>\n",
       "      <td>97</td>\n",
       "      <td>82</td>\n",
       "      <td>4</td>\n",
       "      <td>20.644192</td>\n",
       "      <td>138</td>\n",
       "    </tr>\n",
       "    <tr>\n",
       "      <th>8802</th>\n",
       "      <td>1</td>\n",
       "      <td>152</td>\n",
       "      <td>100000000</td>\n",
       "      <td>107737</td>\n",
       "      <td>14217</td>\n",
       "      <td>1.413503e+07</td>\n",
       "      <td>2703353</td>\n",
       "      <td>951319</td>\n",
       "      <td>3063</td>\n",
       "      <td>379913.664517</td>\n",
       "      <td>...</td>\n",
       "      <td>2</td>\n",
       "      <td>34.980773</td>\n",
       "      <td>7995</td>\n",
       "      <td>3928</td>\n",
       "      <td>643</td>\n",
       "      <td>458</td>\n",
       "      <td>135</td>\n",
       "      <td>50</td>\n",
       "      <td>61.901096</td>\n",
       "      <td>441</td>\n",
       "    </tr>\n",
       "    <tr>\n",
       "      <th>8803</th>\n",
       "      <td>0</td>\n",
       "      <td>152</td>\n",
       "      <td>58353169</td>\n",
       "      <td>140297</td>\n",
       "      <td>18428</td>\n",
       "      <td>1.790750e+07</td>\n",
       "      <td>2486704</td>\n",
       "      <td>950057</td>\n",
       "      <td>3812</td>\n",
       "      <td>464067.645749</td>\n",
       "      <td>...</td>\n",
       "      <td>76</td>\n",
       "      <td>3.050709</td>\n",
       "      <td>2805</td>\n",
       "      <td>1501</td>\n",
       "      <td>224</td>\n",
       "      <td>127</td>\n",
       "      <td>89</td>\n",
       "      <td>8</td>\n",
       "      <td>27.231480</td>\n",
       "      <td>97</td>\n",
       "    </tr>\n",
       "    <tr>\n",
       "      <th>8805</th>\n",
       "      <td>1</td>\n",
       "      <td>152</td>\n",
       "      <td>58344009</td>\n",
       "      <td>140297</td>\n",
       "      <td>18428</td>\n",
       "      <td>1.790750e+07</td>\n",
       "      <td>2486704</td>\n",
       "      <td>950057</td>\n",
       "      <td>3812</td>\n",
       "      <td>464067.645749</td>\n",
       "      <td>...</td>\n",
       "      <td>3</td>\n",
       "      <td>25.920591</td>\n",
       "      <td>6106</td>\n",
       "      <td>2956</td>\n",
       "      <td>483</td>\n",
       "      <td>215</td>\n",
       "      <td>209</td>\n",
       "      <td>59</td>\n",
       "      <td>48.976513</td>\n",
       "      <td>76</td>\n",
       "    </tr>\n",
       "    <tr>\n",
       "      <th>8806</th>\n",
       "      <td>1</td>\n",
       "      <td>152</td>\n",
       "      <td>58341894</td>\n",
       "      <td>140297</td>\n",
       "      <td>18428</td>\n",
       "      <td>1.790750e+07</td>\n",
       "      <td>2486704</td>\n",
       "      <td>950057</td>\n",
       "      <td>3812</td>\n",
       "      <td>464067.645749</td>\n",
       "      <td>...</td>\n",
       "      <td>5</td>\n",
       "      <td>21.243767</td>\n",
       "      <td>4905</td>\n",
       "      <td>1398</td>\n",
       "      <td>293</td>\n",
       "      <td>111</td>\n",
       "      <td>132</td>\n",
       "      <td>50</td>\n",
       "      <td>37.521943</td>\n",
       "      <td>177</td>\n",
       "    </tr>\n",
       "  </tbody>\n",
       "</table>\n",
       "<p>5098 rows × 217 columns</p>\n",
       "</div>"
      ],
      "text/plain": [
       "      PlayerWin  P1_SpartanRank  P1_PrevTotalXP  P1_TotalKills  \\\n",
       "0             0             102         3348130           3378   \n",
       "1             1             148        15348257          39273   \n",
       "2             1             151        37161347          58661   \n",
       "3             1             151        47050485         100339   \n",
       "4             1             148        15342496          39273   \n",
       "...         ...             ...             ...            ...   \n",
       "8801          1             152       100000000         107737   \n",
       "8802          1             152       100000000         107737   \n",
       "8803          0             152        58353169         140297   \n",
       "8805          1             152        58344009         140297   \n",
       "8806          1             152        58341894         140297   \n",
       "\n",
       "      P1_TotalHeadshots  P1_TotalWeaponDamage  P1_TotalShotsFired  \\\n",
       "0                   551          4.362411e+05               96140   \n",
       "1                  3202          5.020049e+06             1025141   \n",
       "2                 11418          7.990578e+06             1326652   \n",
       "3                 22173          1.279709e+07             2176535   \n",
       "4                  3202          5.020049e+06             1025141   \n",
       "...                 ...                   ...                 ...   \n",
       "8801              14217          1.413503e+07             2703353   \n",
       "8802              14217          1.413503e+07             2703353   \n",
       "8803              18428          1.790750e+07             2486704   \n",
       "8805              18428          1.790750e+07             2486704   \n",
       "8806              18428          1.790750e+07             2486704   \n",
       "\n",
       "      P1_TotalShotsLanded  P1_TotalMeleeKills  P1_TotalMeleeDamage  ...  \\\n",
       "0                   31174                 150         14200.282440  ...   \n",
       "1                  367059                1289        147219.068300  ...   \n",
       "2                  460037                1669        222380.100500  ...   \n",
       "3                  766384                1959        228599.805100  ...   \n",
       "4                  367059                1289        147219.068300  ...   \n",
       "...                   ...                 ...                  ...  ...   \n",
       "8801               951319                3063        379913.664517  ...   \n",
       "8802               951319                3063        379913.664517  ...   \n",
       "8803               950057                3812        464067.645749  ...   \n",
       "8805               950057                3812        464067.645749  ...   \n",
       "8806               950057                3812        464067.645749  ...   \n",
       "\n",
       "      E4_TotalPowerWeaponGrabs  E4_TotalPowerWeaponPossessionTime  \\\n",
       "0                           18                           2.994338   \n",
       "1                           31                           1.848657   \n",
       "2                            0                           6.482648   \n",
       "3                           22                          18.032953   \n",
       "4                           35                          49.419732   \n",
       "...                        ...                                ...   \n",
       "8801                       126                           3.485125   \n",
       "8802                         2                          34.980773   \n",
       "8803                        76                           3.050709   \n",
       "8805                         3                          25.920591   \n",
       "8806                         5                          21.243767   \n",
       "\n",
       "      E4_TotalDeaths  E4_TotalAssists  E4_TotalGamesCompleted  \\\n",
       "0               1089              445                     107   \n",
       "1               1227              559                     105   \n",
       "2               1603              853                     117   \n",
       "3               7012             2200                     373   \n",
       "4               6777             4525                     748   \n",
       "...              ...              ...                     ...   \n",
       "8801            2143              657                     183   \n",
       "8802            7995             3928                     643   \n",
       "8803            2805             1501                     224   \n",
       "8805            6106             2956                     483   \n",
       "8806            4905             1398                     293   \n",
       "\n",
       "      E4_TotalGamesWon  E4_TotalGamesLost  E4_TotalGamesTied  \\\n",
       "0                   52                 48                  7   \n",
       "1                   35                 65                  5   \n",
       "2                   49                 48                 20   \n",
       "3                  249                 97                 27   \n",
       "4                  292                343                113   \n",
       "...                ...                ...                ...   \n",
       "8801                97                 82                  4   \n",
       "8802               458                135                 50   \n",
       "8803               127                 89                  8   \n",
       "8805               215                209                 59   \n",
       "8806               111                132                 50   \n",
       "\n",
       "      E4_TotalTimePlayed  E4_TotalGrenadeKills  \n",
       "0              11.855415                    43  \n",
       "1              12.014393                    11  \n",
       "2              12.392531                    40  \n",
       "3              41.323951                   235  \n",
       "4              84.279160                   248  \n",
       "...                  ...                   ...  \n",
       "8801           20.644192                   138  \n",
       "8802           61.901096                   441  \n",
       "8803           27.231480                    97  \n",
       "8805           48.976513                    76  \n",
       "8806           37.521943                   177  \n",
       "\n",
       "[5098 rows x 217 columns]"
      ]
     },
     "execution_count": 475,
     "metadata": {},
     "output_type": "execute_result"
    }
   ],
   "source": [
    "df = df.drop(['Date',\n",
    "        'MatchId',\n",
    "        'GameBaseVariantId',\n",
    "        'PlaylistId',\n",
    "        'MapVariantId',\n",
    "        'P1_Gamertag',\n",
    "        'P2_Gamertag',\n",
    "        'P3_Gamertag',\n",
    "        'P4_Gamertag',\n",
    "        'E1_Gamertag',\n",
    "        'E2_Gamertag',\n",
    "        'E3_Gamertag',\n",
    "        'E4_Gamertag',\n",
    "        ]\n",
    "        ,axis=1)\n",
    "df.rename(columns={'WinLoseTie':'PlayerWin'}, inplace=True)\n",
    "\n",
    "df"
   ]
  },
  {
   "cell_type": "markdown",
   "metadata": {},
   "source": [
    "## Feature Creation"
   ]
  },
  {
   "cell_type": "code",
   "execution_count": 476,
   "metadata": {
    "ExecuteTime": {
     "end_time": "2021-07-20T16:36:15.940968Z",
     "start_time": "2021-07-20T16:36:15.895957Z"
    }
   },
   "outputs": [],
   "source": [
    "roster = ['P1', 'P2', 'P3', 'P4', 'E1', 'E2', 'E3', 'E4']\n",
    "\n",
    "for player in roster:\n",
    "    df[f'{player}_WinRate'] = df[f'{player}_TotalGamesWon'] / df[f'{player}_TotalGamesLost']\n",
    "    df[f'{player}_K/D'] = df[f'{player}_TotalKills'] / df[f'{player}_TotalDeaths']\n",
    "    df[f'{player}_Accuracy'] = df[f'{player}_TotalShotsLanded'] / df[f'{player}_TotalShotsFired']\n",
    "\n",
    "df = df.dropna()\n",
    "df = df[~df.isin([np.nan, np.inf, -np.inf]).any(1)]"
   ]
  },
  {
   "cell_type": "code",
   "execution_count": 477,
   "metadata": {
    "ExecuteTime": {
     "end_time": "2021-07-20T16:36:15.944969Z",
     "start_time": "2021-07-20T16:36:15.941968Z"
    }
   },
   "outputs": [],
   "source": [
    "# df.columns.values"
   ]
  },
  {
   "cell_type": "markdown",
   "metadata": {},
   "source": [
    "# Load Model DF from csv"
   ]
  },
  {
   "cell_type": "code",
   "execution_count": 478,
   "metadata": {
    "ExecuteTime": {
     "end_time": "2021-07-20T16:36:15.955971Z",
     "start_time": "2021-07-20T16:36:15.945969Z"
    }
   },
   "outputs": [],
   "source": [
    "# df['GameBaseVariantId'] = decode_column(df, 'GameBaseVariantId', GameBaseVariantId_dic)\n",
    "# df = df.drop(['Unnamed: 0'], axis=1)\n",
    "# df = df[df['PlayerWin'] != 'Tie']\n",
    "# df.loc[(df['PlayerWin'] == 'Player'),'PlayerWin'] = 1\n",
    "# df.loc[(df['PlayerWin'] == 'Enemy'),'PlayerWin'] = 0\n",
    "# df['PlayerWin'] = df['PlayerWin'].astype('int')\n",
    "\n",
    "# df.head(10)"
   ]
  },
  {
   "cell_type": "markdown",
   "metadata": {},
   "source": [
    "# Make Model Dataframe Function"
   ]
  },
  {
   "cell_type": "code",
   "execution_count": 479,
   "metadata": {
    "ExecuteTime": {
     "end_time": "2021-07-20T16:36:55.772704Z",
     "start_time": "2021-07-20T16:36:18.789366Z"
    }
   },
   "outputs": [
    {
     "name": "stderr",
     "output_type": "stream",
     "text": [
      "5066it [00:05, 991.36it/s]\n",
      "5066it [00:05, 989.23it/s]\n",
      "5066it [00:05, 926.95it/s]\n",
      "5066it [00:05, 988.26it/s]\n",
      "5066it [00:05, 988.26it/s]\n",
      "5066it [00:05, 923.91it/s]\n",
      "5066it [00:05, 924.41it/s]\n"
     ]
    },
    {
     "data": {
      "text/html": [
       "<div>\n",
       "<style scoped>\n",
       "    .dataframe tbody tr th:only-of-type {\n",
       "        vertical-align: middle;\n",
       "    }\n",
       "\n",
       "    .dataframe tbody tr th {\n",
       "        vertical-align: top;\n",
       "    }\n",
       "\n",
       "    .dataframe thead th {\n",
       "        text-align: right;\n",
       "    }\n",
       "</style>\n",
       "<table border=\"1\" class=\"dataframe\">\n",
       "  <thead>\n",
       "    <tr style=\"text-align: right;\">\n",
       "      <th></th>\n",
       "      <th>PlayerWin</th>\n",
       "      <th>P1_WinRate</th>\n",
       "      <th>P2_WinRate</th>\n",
       "      <th>P3_WinRate</th>\n",
       "      <th>P4_WinRate</th>\n",
       "      <th>E1_WinRate</th>\n",
       "      <th>E2_WinRate</th>\n",
       "      <th>E3_WinRate</th>\n",
       "      <th>E4_WinRate</th>\n",
       "      <th>P1_K/D</th>\n",
       "      <th>...</th>\n",
       "      <th>E3_PrevTotalXP</th>\n",
       "      <th>E4_PrevTotalXP</th>\n",
       "      <th>P1_SpartanRank</th>\n",
       "      <th>P2_SpartanRank</th>\n",
       "      <th>P3_SpartanRank</th>\n",
       "      <th>P4_SpartanRank</th>\n",
       "      <th>E1_SpartanRank</th>\n",
       "      <th>E2_SpartanRank</th>\n",
       "      <th>E3_SpartanRank</th>\n",
       "      <th>E4_SpartanRank</th>\n",
       "    </tr>\n",
       "  </thead>\n",
       "  <tbody>\n",
       "    <tr>\n",
       "      <th>0</th>\n",
       "      <td>0</td>\n",
       "      <td>1.225000</td>\n",
       "      <td>1.180952</td>\n",
       "      <td>1.063830</td>\n",
       "      <td>0.857143</td>\n",
       "      <td>1.126506</td>\n",
       "      <td>1.083333</td>\n",
       "      <td>0.890805</td>\n",
       "      <td>0.676636</td>\n",
       "      <td>1.208274</td>\n",
       "      <td>...</td>\n",
       "      <td>11450262</td>\n",
       "      <td>2573644</td>\n",
       "      <td>145</td>\n",
       "      <td>144</td>\n",
       "      <td>102</td>\n",
       "      <td>72</td>\n",
       "      <td>152</td>\n",
       "      <td>149</td>\n",
       "      <td>147</td>\n",
       "      <td>89</td>\n",
       "    </tr>\n",
       "    <tr>\n",
       "      <th>1</th>\n",
       "      <td>1</td>\n",
       "      <td>1.722798</td>\n",
       "      <td>1.330551</td>\n",
       "      <td>0.908046</td>\n",
       "      <td>0.881633</td>\n",
       "      <td>0.768844</td>\n",
       "      <td>0.725061</td>\n",
       "      <td>0.646302</td>\n",
       "      <td>0.538462</td>\n",
       "      <td>1.110204</td>\n",
       "      <td>...</td>\n",
       "      <td>8731606</td>\n",
       "      <td>1723305</td>\n",
       "      <td>149</td>\n",
       "      <td>148</td>\n",
       "      <td>98</td>\n",
       "      <td>96</td>\n",
       "      <td>152</td>\n",
       "      <td>149</td>\n",
       "      <td>145</td>\n",
       "      <td>70</td>\n",
       "    </tr>\n",
       "    <tr>\n",
       "      <th>2</th>\n",
       "      <td>1</td>\n",
       "      <td>1.330551</td>\n",
       "      <td>1.032609</td>\n",
       "      <td>1.008532</td>\n",
       "      <td>0.998724</td>\n",
       "      <td>1.020833</td>\n",
       "      <td>0.867140</td>\n",
       "      <td>0.844732</td>\n",
       "      <td>0.646302</td>\n",
       "      <td>1.161104</td>\n",
       "      <td>...</td>\n",
       "      <td>11150915</td>\n",
       "      <td>622488</td>\n",
       "      <td>151</td>\n",
       "      <td>148</td>\n",
       "      <td>146</td>\n",
       "      <td>48</td>\n",
       "      <td>152</td>\n",
       "      <td>149</td>\n",
       "      <td>147</td>\n",
       "      <td>43</td>\n",
       "    </tr>\n",
       "    <tr>\n",
       "      <th>3</th>\n",
       "      <td>1</td>\n",
       "      <td>1.451870</td>\n",
       "      <td>1.330551</td>\n",
       "      <td>1.167612</td>\n",
       "      <td>0.995571</td>\n",
       "      <td>2.567010</td>\n",
       "      <td>1.716578</td>\n",
       "      <td>0.867140</td>\n",
       "      <td>0.844732</td>\n",
       "      <td>1.573131</td>\n",
       "      <td>...</td>\n",
       "      <td>19074972</td>\n",
       "      <td>11149681</td>\n",
       "      <td>151</td>\n",
       "      <td>150</td>\n",
       "      <td>150</td>\n",
       "      <td>148</td>\n",
       "      <td>151</td>\n",
       "      <td>149</td>\n",
       "      <td>149</td>\n",
       "      <td>147</td>\n",
       "    </tr>\n",
       "    <tr>\n",
       "      <th>4</th>\n",
       "      <td>1</td>\n",
       "      <td>2.567010</td>\n",
       "      <td>1.716578</td>\n",
       "      <td>1.330551</td>\n",
       "      <td>1.101504</td>\n",
       "      <td>1.451870</td>\n",
       "      <td>1.167612</td>\n",
       "      <td>0.867140</td>\n",
       "      <td>0.851312</td>\n",
       "      <td>1.134367</td>\n",
       "      <td>...</td>\n",
       "      <td>14980333</td>\n",
       "      <td>11149103</td>\n",
       "      <td>151</td>\n",
       "      <td>149</td>\n",
       "      <td>148</td>\n",
       "      <td>145</td>\n",
       "      <td>150</td>\n",
       "      <td>150</td>\n",
       "      <td>148</td>\n",
       "      <td>147</td>\n",
       "    </tr>\n",
       "    <tr>\n",
       "      <th>...</th>\n",
       "      <td>...</td>\n",
       "      <td>...</td>\n",
       "      <td>...</td>\n",
       "      <td>...</td>\n",
       "      <td>...</td>\n",
       "      <td>...</td>\n",
       "      <td>...</td>\n",
       "      <td>...</td>\n",
       "      <td>...</td>\n",
       "      <td>...</td>\n",
       "      <td>...</td>\n",
       "      <td>...</td>\n",
       "      <td>...</td>\n",
       "      <td>...</td>\n",
       "      <td>...</td>\n",
       "      <td>...</td>\n",
       "      <td>...</td>\n",
       "      <td>...</td>\n",
       "      <td>...</td>\n",
       "      <td>...</td>\n",
       "      <td>...</td>\n",
       "    </tr>\n",
       "    <tr>\n",
       "      <th>8801</th>\n",
       "      <td>1</td>\n",
       "      <td>3.771588</td>\n",
       "      <td>3.599646</td>\n",
       "      <td>3.126510</td>\n",
       "      <td>2.170464</td>\n",
       "      <td>1.959972</td>\n",
       "      <td>1.402372</td>\n",
       "      <td>1.394167</td>\n",
       "      <td>1.182927</td>\n",
       "      <td>1.670461</td>\n",
       "      <td>...</td>\n",
       "      <td>31117525</td>\n",
       "      <td>11074971</td>\n",
       "      <td>152</td>\n",
       "      <td>152</td>\n",
       "      <td>150</td>\n",
       "      <td>149</td>\n",
       "      <td>151</td>\n",
       "      <td>151</td>\n",
       "      <td>150</td>\n",
       "      <td>147</td>\n",
       "    </tr>\n",
       "    <tr>\n",
       "      <th>8802</th>\n",
       "      <td>1</td>\n",
       "      <td>3.771588</td>\n",
       "      <td>3.599646</td>\n",
       "      <td>3.126510</td>\n",
       "      <td>2.170464</td>\n",
       "      <td>7.946043</td>\n",
       "      <td>3.392593</td>\n",
       "      <td>2.676104</td>\n",
       "      <td>1.695788</td>\n",
       "      <td>1.670461</td>\n",
       "      <td>...</td>\n",
       "      <td>12860124</td>\n",
       "      <td>4376208</td>\n",
       "      <td>152</td>\n",
       "      <td>152</td>\n",
       "      <td>150</td>\n",
       "      <td>149</td>\n",
       "      <td>151</td>\n",
       "      <td>148</td>\n",
       "      <td>147</td>\n",
       "      <td>116</td>\n",
       "    </tr>\n",
       "    <tr>\n",
       "      <th>8803</th>\n",
       "      <td>0</td>\n",
       "      <td>3.771588</td>\n",
       "      <td>3.599646</td>\n",
       "      <td>1.126177</td>\n",
       "      <td>1.015873</td>\n",
       "      <td>1.715711</td>\n",
       "      <td>1.671803</td>\n",
       "      <td>1.545455</td>\n",
       "      <td>1.426966</td>\n",
       "      <td>1.670461</td>\n",
       "      <td>...</td>\n",
       "      <td>22600465</td>\n",
       "      <td>6742184</td>\n",
       "      <td>152</td>\n",
       "      <td>150</td>\n",
       "      <td>148</td>\n",
       "      <td>120</td>\n",
       "      <td>152</td>\n",
       "      <td>149</td>\n",
       "      <td>149</td>\n",
       "      <td>142</td>\n",
       "    </tr>\n",
       "    <tr>\n",
       "      <th>8805</th>\n",
       "      <td>1</td>\n",
       "      <td>3.771588</td>\n",
       "      <td>3.599646</td>\n",
       "      <td>1.021997</td>\n",
       "      <td>0.833333</td>\n",
       "      <td>1.566038</td>\n",
       "      <td>1.062903</td>\n",
       "      <td>1.028708</td>\n",
       "      <td>0.835294</td>\n",
       "      <td>1.670461</td>\n",
       "      <td>...</td>\n",
       "      <td>10625916</td>\n",
       "      <td>3742104</td>\n",
       "      <td>152</td>\n",
       "      <td>150</td>\n",
       "      <td>146</td>\n",
       "      <td>104</td>\n",
       "      <td>152</td>\n",
       "      <td>149</td>\n",
       "      <td>146</td>\n",
       "      <td>109</td>\n",
       "    </tr>\n",
       "    <tr>\n",
       "      <th>8806</th>\n",
       "      <td>1</td>\n",
       "      <td>3.771588</td>\n",
       "      <td>3.599646</td>\n",
       "      <td>1.593870</td>\n",
       "      <td>1.044904</td>\n",
       "      <td>1.168177</td>\n",
       "      <td>1.047619</td>\n",
       "      <td>0.840909</td>\n",
       "      <td>0.778894</td>\n",
       "      <td>1.670461</td>\n",
       "      <td>...</td>\n",
       "      <td>8666011</td>\n",
       "      <td>8083698</td>\n",
       "      <td>152</td>\n",
       "      <td>150</td>\n",
       "      <td>148</td>\n",
       "      <td>120</td>\n",
       "      <td>150</td>\n",
       "      <td>148</td>\n",
       "      <td>145</td>\n",
       "      <td>145</td>\n",
       "    </tr>\n",
       "  </tbody>\n",
       "</table>\n",
       "<p>5066 rows × 57 columns</p>\n",
       "</div>"
      ],
      "text/plain": [
       "      PlayerWin  P1_WinRate  P2_WinRate  P3_WinRate  P4_WinRate  E1_WinRate  \\\n",
       "0             0    1.225000    1.180952    1.063830    0.857143    1.126506   \n",
       "1             1    1.722798    1.330551    0.908046    0.881633    0.768844   \n",
       "2             1    1.330551    1.032609    1.008532    0.998724    1.020833   \n",
       "3             1    1.451870    1.330551    1.167612    0.995571    2.567010   \n",
       "4             1    2.567010    1.716578    1.330551    1.101504    1.451870   \n",
       "...         ...         ...         ...         ...         ...         ...   \n",
       "8801          1    3.771588    3.599646    3.126510    2.170464    1.959972   \n",
       "8802          1    3.771588    3.599646    3.126510    2.170464    7.946043   \n",
       "8803          0    3.771588    3.599646    1.126177    1.015873    1.715711   \n",
       "8805          1    3.771588    3.599646    1.021997    0.833333    1.566038   \n",
       "8806          1    3.771588    3.599646    1.593870    1.044904    1.168177   \n",
       "\n",
       "      E2_WinRate  E3_WinRate  E4_WinRate    P1_K/D  ...  E3_PrevTotalXP  \\\n",
       "0       1.083333    0.890805    0.676636  1.208274  ...        11450262   \n",
       "1       0.725061    0.646302    0.538462  1.110204  ...         8731606   \n",
       "2       0.867140    0.844732    0.646302  1.161104  ...        11150915   \n",
       "3       1.716578    0.867140    0.844732  1.573131  ...        19074972   \n",
       "4       1.167612    0.867140    0.851312  1.134367  ...        14980333   \n",
       "...          ...         ...         ...       ...  ...             ...   \n",
       "8801    1.402372    1.394167    1.182927  1.670461  ...        31117525   \n",
       "8802    3.392593    2.676104    1.695788  1.670461  ...        12860124   \n",
       "8803    1.671803    1.545455    1.426966  1.670461  ...        22600465   \n",
       "8805    1.062903    1.028708    0.835294  1.670461  ...        10625916   \n",
       "8806    1.047619    0.840909    0.778894  1.670461  ...         8666011   \n",
       "\n",
       "      E4_PrevTotalXP  P1_SpartanRank  P2_SpartanRank  P3_SpartanRank  \\\n",
       "0            2573644             145             144             102   \n",
       "1            1723305             149             148              98   \n",
       "2             622488             151             148             146   \n",
       "3           11149681             151             150             150   \n",
       "4           11149103             151             149             148   \n",
       "...              ...             ...             ...             ...   \n",
       "8801        11074971             152             152             150   \n",
       "8802         4376208             152             152             150   \n",
       "8803         6742184             152             150             148   \n",
       "8805         3742104             152             150             146   \n",
       "8806         8083698             152             150             148   \n",
       "\n",
       "      P4_SpartanRank  E1_SpartanRank  E2_SpartanRank  E3_SpartanRank  \\\n",
       "0                 72             152             149             147   \n",
       "1                 96             152             149             145   \n",
       "2                 48             152             149             147   \n",
       "3                148             151             149             149   \n",
       "4                145             150             150             148   \n",
       "...              ...             ...             ...             ...   \n",
       "8801             149             151             151             150   \n",
       "8802             149             151             148             147   \n",
       "8803             120             152             149             149   \n",
       "8805             104             152             149             146   \n",
       "8806             120             150             148             145   \n",
       "\n",
       "      E4_SpartanRank  \n",
       "0                 89  \n",
       "1                 70  \n",
       "2                 43  \n",
       "3                147  \n",
       "4                147  \n",
       "...              ...  \n",
       "8801             147  \n",
       "8802             116  \n",
       "8803             142  \n",
       "8805             109  \n",
       "8806             145  \n",
       "\n",
       "[5066 rows x 57 columns]"
      ]
     },
     "execution_count": 479,
     "metadata": {},
     "output_type": "execute_result"
    }
   ],
   "source": [
    "# feature_list = ['WinRate', 'TotalKills', 'TotalHeadshots', 'TotalWeaponDamage', \n",
    "#                 'TotalShotsFired', 'K/D', 'TotalPowerWeaponPossessionTime', 'Accuracy',\n",
    "#                 'TotalShotsLanded', 'TotalMeleeKills', 'TotalMeleeDamage', 'TotalAssassinations',\n",
    "#                 'TotalGroundPoundKills', 'TotalGroundPoundDamage', 'TotalShoulderBashKills',\n",
    "#                 'TotalShoulderBashDamage', 'TotalGrenadeDamage', 'TotalPowerWeaponKills',\n",
    "#                 'TotalPowerWeaponDamage', 'TotalPowerWeaponGrabs',\n",
    "#                 'TotalDeaths', 'TotalAssists', 'TotalGamesCompleted', 'TotalGamesWon',\n",
    "#                 'TotalGamesLost', 'TotalGamesTied', 'TotalTimePlayed','TotalGrenadeKills',\n",
    "#                 'PrevTotalXP', 'SpartanRank']\n",
    "feature_list = ['WinRate', 'K/D', 'TotalGamesCompleted', 'TotalTimePlayed', 'Accuracy',\n",
    "                'PrevTotalXP', 'SpartanRank']\n",
    "\n",
    "\n",
    "def make_model_df(df, feature_list, GameBaseVariantId, PlaylistId):\n",
    "    \n",
    "    df = choose_gametype(df, GameBaseVariantId, PlaylistId) \n",
    "    model_df = pd.DataFrame()\n",
    "    model_df['PlayerWin'] = df['PlayerWin']\n",
    "    # Creating columns\n",
    "    for feature in feature_list:\n",
    "        feature_columns = [\n",
    "            f'P1_{feature}', f'P2_{feature}',\n",
    "            f'P3_{feature}', f'P4_{feature}', f'E1_{feature}',\n",
    "            f'E2_{feature}', f'E3_{feature}', f'E4_{feature}',\n",
    "            ]\n",
    "\n",
    "        feature_df = df[feature_columns].copy()\n",
    "\n",
    "        # Sort Players in dataframe by highest value\n",
    "        i = 0\n",
    "        for row in tqdm(feature_df.iterrows()):\n",
    "                # Sort player / enemy from highest to lowest in row\n",
    "            feature_df.iloc[i, 0:4] = feature_df.iloc[i, 0:4].sort_values(ascending=False).values\n",
    "            feature_df.iloc[i, 4:8] = feature_df.iloc[i, 4:8].sort_values(ascending=False).values\n",
    "            i += 1\n",
    "            \n",
    "        model_df = model_df.join(feature_df, on=model_df.index)\n",
    "        \n",
    "    model_df = model_df.dropna()\n",
    "    return model_df\n",
    "            \n",
    "# model_df = make_model_df(hr_df, ['TotalTimePlayed'])\n",
    "# hr_model_df = make_model_df(hr_df, ['TotalTimePlayed'])\n",
    "df = make_model_df(df, feature_list, None, None)\n",
    "\n",
    "df"
   ]
  },
  {
   "cell_type": "code",
   "execution_count": 516,
   "metadata": {
    "ExecuteTime": {
     "end_time": "2021-07-20T16:47:47.012465Z",
     "start_time": "2021-07-20T16:47:46.969465Z"
    }
   },
   "outputs": [
    {
     "data": {
      "text/html": [
       "<div>\n",
       "<style scoped>\n",
       "    .dataframe tbody tr th:only-of-type {\n",
       "        vertical-align: middle;\n",
       "    }\n",
       "\n",
       "    .dataframe tbody tr th {\n",
       "        vertical-align: top;\n",
       "    }\n",
       "\n",
       "    .dataframe thead th {\n",
       "        text-align: right;\n",
       "    }\n",
       "</style>\n",
       "<table border=\"1\" class=\"dataframe\">\n",
       "  <thead>\n",
       "    <tr style=\"text-align: right;\">\n",
       "      <th></th>\n",
       "      <th>PlayerWin</th>\n",
       "      <th>Player_WinRate</th>\n",
       "      <th>Enemy_WinRate</th>\n",
       "      <th>Player_K/D</th>\n",
       "      <th>Enemy_K/D</th>\n",
       "      <th>Player_TotalGamesCompleted</th>\n",
       "      <th>Enemy_TotalGamesCompleted</th>\n",
       "      <th>Player_TotalTimePlayed</th>\n",
       "      <th>Enemy_TotalTimePlayed</th>\n",
       "      <th>Player_Accuracy</th>\n",
       "      <th>Enemy_Accuracy</th>\n",
       "      <th>Player_PrevTotalXP</th>\n",
       "      <th>Enemy_PrevTotalXP</th>\n",
       "      <th>Player_SpartanRank</th>\n",
       "      <th>Enemy_SpartanRank</th>\n",
       "    </tr>\n",
       "  </thead>\n",
       "  <tbody>\n",
       "    <tr>\n",
       "      <th>0</th>\n",
       "      <td>0</td>\n",
       "      <td>1.081731</td>\n",
       "      <td>0.944320</td>\n",
       "      <td>1.001582</td>\n",
       "      <td>1.090913</td>\n",
       "      <td>183.75</td>\n",
       "      <td>668.50</td>\n",
       "      <td>19.762377</td>\n",
       "      <td>71.401962</td>\n",
       "      <td>0.329293</td>\n",
       "      <td>0.326039</td>\n",
       "      <td>5265749.75</td>\n",
       "      <td>21339587.50</td>\n",
       "      <td>115.75</td>\n",
       "      <td>134.25</td>\n",
       "    </tr>\n",
       "    <tr>\n",
       "      <th>1</th>\n",
       "      <td>1</td>\n",
       "      <td>1.210757</td>\n",
       "      <td>0.669667</td>\n",
       "      <td>1.012847</td>\n",
       "      <td>1.052453</td>\n",
       "      <td>1547.50</td>\n",
       "      <td>791.25</td>\n",
       "      <td>155.392598</td>\n",
       "      <td>90.771716</td>\n",
       "      <td>0.343911</td>\n",
       "      <td>0.377892</td>\n",
       "      <td>11323792.25</td>\n",
       "      <td>19864156.50</td>\n",
       "      <td>122.75</td>\n",
       "      <td>129.00</td>\n",
       "    </tr>\n",
       "    <tr>\n",
       "      <th>2</th>\n",
       "      <td>1</td>\n",
       "      <td>1.092604</td>\n",
       "      <td>0.844752</td>\n",
       "      <td>0.966017</td>\n",
       "      <td>1.032910</td>\n",
       "      <td>2102.75</td>\n",
       "      <td>1126.50</td>\n",
       "      <td>228.236587</td>\n",
       "      <td>127.340630</td>\n",
       "      <td>0.361132</td>\n",
       "      <td>0.348593</td>\n",
       "      <td>15760299.00</td>\n",
       "      <td>20310125.75</td>\n",
       "      <td>123.25</td>\n",
       "      <td>122.75</td>\n",
       "    </tr>\n",
       "    <tr>\n",
       "      <th>3</th>\n",
       "      <td>1</td>\n",
       "      <td>1.236401</td>\n",
       "      <td>1.498865</td>\n",
       "      <td>1.165205</td>\n",
       "      <td>1.004284</td>\n",
       "      <td>4053.00</td>\n",
       "      <td>1043.50</td>\n",
       "      <td>433.955225</td>\n",
       "      <td>117.960500</td>\n",
       "      <td>0.350705</td>\n",
       "      <td>0.366385</td>\n",
       "      <td>29123969.50</td>\n",
       "      <td>23281604.75</td>\n",
       "      <td>149.75</td>\n",
       "      <td>149.00</td>\n",
       "    </tr>\n",
       "    <tr>\n",
       "      <th>4</th>\n",
       "      <td>1</td>\n",
       "      <td>1.678911</td>\n",
       "      <td>1.084483</td>\n",
       "      <td>0.975596</td>\n",
       "      <td>1.351607</td>\n",
       "      <td>1156.25</td>\n",
       "      <td>2790.75</td>\n",
       "      <td>115.280680</td>\n",
       "      <td>305.389289</td>\n",
       "      <td>0.363884</td>\n",
       "      <td>0.345664</td>\n",
       "      <td>21807131.75</td>\n",
       "      <td>20057565.50</td>\n",
       "      <td>148.25</td>\n",
       "      <td>148.75</td>\n",
       "    </tr>\n",
       "    <tr>\n",
       "      <th>...</th>\n",
       "      <td>...</td>\n",
       "      <td>...</td>\n",
       "      <td>...</td>\n",
       "      <td>...</td>\n",
       "      <td>...</td>\n",
       "      <td>...</td>\n",
       "      <td>...</td>\n",
       "      <td>...</td>\n",
       "      <td>...</td>\n",
       "      <td>...</td>\n",
       "      <td>...</td>\n",
       "      <td>...</td>\n",
       "      <td>...</td>\n",
       "      <td>...</td>\n",
       "      <td>...</td>\n",
       "    </tr>\n",
       "    <tr>\n",
       "      <th>8801</th>\n",
       "      <td>1</td>\n",
       "      <td>3.167052</td>\n",
       "      <td>1.484859</td>\n",
       "      <td>1.386900</td>\n",
       "      <td>1.044907</td>\n",
       "      <td>5254.25</td>\n",
       "      <td>2786.25</td>\n",
       "      <td>563.445804</td>\n",
       "      <td>303.861138</td>\n",
       "      <td>0.366094</td>\n",
       "      <td>0.347633</td>\n",
       "      <td>50447273.50</td>\n",
       "      <td>28849878.75</td>\n",
       "      <td>150.75</td>\n",
       "      <td>149.75</td>\n",
       "    </tr>\n",
       "    <tr>\n",
       "      <th>8802</th>\n",
       "      <td>1</td>\n",
       "      <td>3.167052</td>\n",
       "      <td>3.927632</td>\n",
       "      <td>1.386900</td>\n",
       "      <td>1.734094</td>\n",
       "      <td>5254.25</td>\n",
       "      <td>2657.00</td>\n",
       "      <td>563.445804</td>\n",
       "      <td>251.749577</td>\n",
       "      <td>0.366094</td>\n",
       "      <td>0.402635</td>\n",
       "      <td>50445365.25</td>\n",
       "      <td>19273582.75</td>\n",
       "      <td>150.75</td>\n",
       "      <td>140.50</td>\n",
       "    </tr>\n",
       "    <tr>\n",
       "      <th>8803</th>\n",
       "      <td>0</td>\n",
       "      <td>2.378321</td>\n",
       "      <td>1.589984</td>\n",
       "      <td>1.279009</td>\n",
       "      <td>1.182877</td>\n",
       "      <td>2790.75</td>\n",
       "      <td>1480.25</td>\n",
       "      <td>315.980530</td>\n",
       "      <td>169.935191</td>\n",
       "      <td>0.351305</td>\n",
       "      <td>0.408828</td>\n",
       "      <td>25565233.50</td>\n",
       "      <td>34284304.25</td>\n",
       "      <td>142.50</td>\n",
       "      <td>148.00</td>\n",
       "    </tr>\n",
       "    <tr>\n",
       "      <th>8805</th>\n",
       "      <td>1</td>\n",
       "      <td>2.306641</td>\n",
       "      <td>1.123236</td>\n",
       "      <td>1.293991</td>\n",
       "      <td>1.038184</td>\n",
       "      <td>3177.25</td>\n",
       "      <td>1437.75</td>\n",
       "      <td>356.846455</td>\n",
       "      <td>168.802702</td>\n",
       "      <td>0.354345</td>\n",
       "      <td>0.369693</td>\n",
       "      <td>24200436.75</td>\n",
       "      <td>22311350.50</td>\n",
       "      <td>138.00</td>\n",
       "      <td>139.00</td>\n",
       "    </tr>\n",
       "    <tr>\n",
       "      <th>8806</th>\n",
       "      <td>1</td>\n",
       "      <td>2.502502</td>\n",
       "      <td>0.958900</td>\n",
       "      <td>1.345602</td>\n",
       "      <td>1.166165</td>\n",
       "      <td>3446.50</td>\n",
       "      <td>956.25</td>\n",
       "      <td>380.366120</td>\n",
       "      <td>106.673936</td>\n",
       "      <td>0.351205</td>\n",
       "      <td>0.361254</td>\n",
       "      <td>25723537.00</td>\n",
       "      <td>15638556.50</td>\n",
       "      <td>142.50</td>\n",
       "      <td>147.00</td>\n",
       "    </tr>\n",
       "  </tbody>\n",
       "</table>\n",
       "<p>5066 rows × 15 columns</p>\n",
       "</div>"
      ],
      "text/plain": [
       "      PlayerWin  Player_WinRate  Enemy_WinRate  Player_K/D  Enemy_K/D  \\\n",
       "0             0        1.081731       0.944320    1.001582   1.090913   \n",
       "1             1        1.210757       0.669667    1.012847   1.052453   \n",
       "2             1        1.092604       0.844752    0.966017   1.032910   \n",
       "3             1        1.236401       1.498865    1.165205   1.004284   \n",
       "4             1        1.678911       1.084483    0.975596   1.351607   \n",
       "...         ...             ...            ...         ...        ...   \n",
       "8801          1        3.167052       1.484859    1.386900   1.044907   \n",
       "8802          1        3.167052       3.927632    1.386900   1.734094   \n",
       "8803          0        2.378321       1.589984    1.279009   1.182877   \n",
       "8805          1        2.306641       1.123236    1.293991   1.038184   \n",
       "8806          1        2.502502       0.958900    1.345602   1.166165   \n",
       "\n",
       "      Player_TotalGamesCompleted  Enemy_TotalGamesCompleted  \\\n",
       "0                         183.75                     668.50   \n",
       "1                        1547.50                     791.25   \n",
       "2                        2102.75                    1126.50   \n",
       "3                        4053.00                    1043.50   \n",
       "4                        1156.25                    2790.75   \n",
       "...                          ...                        ...   \n",
       "8801                     5254.25                    2786.25   \n",
       "8802                     5254.25                    2657.00   \n",
       "8803                     2790.75                    1480.25   \n",
       "8805                     3177.25                    1437.75   \n",
       "8806                     3446.50                     956.25   \n",
       "\n",
       "      Player_TotalTimePlayed  Enemy_TotalTimePlayed  Player_Accuracy  \\\n",
       "0                  19.762377              71.401962         0.329293   \n",
       "1                 155.392598              90.771716         0.343911   \n",
       "2                 228.236587             127.340630         0.361132   \n",
       "3                 433.955225             117.960500         0.350705   \n",
       "4                 115.280680             305.389289         0.363884   \n",
       "...                      ...                    ...              ...   \n",
       "8801              563.445804             303.861138         0.366094   \n",
       "8802              563.445804             251.749577         0.366094   \n",
       "8803              315.980530             169.935191         0.351305   \n",
       "8805              356.846455             168.802702         0.354345   \n",
       "8806              380.366120             106.673936         0.351205   \n",
       "\n",
       "      Enemy_Accuracy  Player_PrevTotalXP  Enemy_PrevTotalXP  \\\n",
       "0           0.326039          5265749.75        21339587.50   \n",
       "1           0.377892         11323792.25        19864156.50   \n",
       "2           0.348593         15760299.00        20310125.75   \n",
       "3           0.366385         29123969.50        23281604.75   \n",
       "4           0.345664         21807131.75        20057565.50   \n",
       "...              ...                 ...                ...   \n",
       "8801        0.347633         50447273.50        28849878.75   \n",
       "8802        0.402635         50445365.25        19273582.75   \n",
       "8803        0.408828         25565233.50        34284304.25   \n",
       "8805        0.369693         24200436.75        22311350.50   \n",
       "8806        0.361254         25723537.00        15638556.50   \n",
       "\n",
       "      Player_SpartanRank  Enemy_SpartanRank  \n",
       "0                 115.75             134.25  \n",
       "1                 122.75             129.00  \n",
       "2                 123.25             122.75  \n",
       "3                 149.75             149.00  \n",
       "4                 148.25             148.75  \n",
       "...                  ...                ...  \n",
       "8801              150.75             149.75  \n",
       "8802              150.75             140.50  \n",
       "8803              142.50             148.00  \n",
       "8805              138.00             139.00  \n",
       "8806              142.50             147.00  \n",
       "\n",
       "[5066 rows x 15 columns]"
      ]
     },
     "execution_count": 516,
     "metadata": {},
     "output_type": "execute_result"
    }
   ],
   "source": [
    "df_total=pd.DataFrame()\n",
    "df_total['PlayerWin'] = df['PlayerWin']\n",
    "for feature in feature_list:\n",
    "    df_total[f'Player_{feature}'] = df[f'P1_{feature}'] + df[f'P2_{feature}'] + df[f'P3_{feature}'] + df[f'P4_{feature}']\n",
    "    df_total[f'Enemy_{feature}'] = df[f'E1_{feature}'] + df[f'E2_{feature}'] + df[f'E3_{feature}'] + df[f'E4_{feature}']\n",
    "    df_total[f'Player_{feature}'] = df_total[f'Player_{feature}'] / 4\n",
    "    df_total[f'Enemy_{feature}'] = df_total[f'Enemy_{feature}'] / 4\n",
    "\n",
    "    \n",
    "df = df_total.copy()\n",
    "df"
   ]
  },
  {
   "cell_type": "code",
   "execution_count": null,
   "metadata": {
    "ExecuteTime": {
     "end_time": "2021-07-20T14:34:46.518230Z",
     "start_time": "2021-07-20T14:34:46.498235Z"
    }
   },
   "outputs": [],
   "source": [
    "df"
   ]
  },
  {
   "cell_type": "markdown",
   "metadata": {},
   "source": [
    "# Model with All Features"
   ]
  },
  {
   "cell_type": "code",
   "execution_count": 517,
   "metadata": {
    "ExecuteTime": {
     "end_time": "2021-07-20T16:47:52.385509Z",
     "start_time": "2021-07-20T16:47:52.377500Z"
    }
   },
   "outputs": [
    {
     "name": "stdout",
     "output_type": "stream",
     "text": [
      "(3546, 14)\n",
      "(1520, 14)\n"
     ]
    }
   ],
   "source": [
    "model_df = df.copy()\n",
    "\n",
    "# Assigning X and y for train test split\n",
    "\n",
    "features = model_df.drop(['PlayerWin'], axis=1)\n",
    "target = model_df['PlayerWin']\n",
    "\n",
    "\n",
    "X = features\n",
    "y = target\n",
    "\n",
    "y=y.astype('int')\n",
    "\n",
    "X_train, X_test, y_train, y_test = train_test_split(X, y, test_size=0.3, \n",
    "                                                    random_state=8)\n",
    "\n",
    "print(X_train.shape)\n",
    "print(X_test.shape)"
   ]
  },
  {
   "cell_type": "code",
   "execution_count": 518,
   "metadata": {
    "ExecuteTime": {
     "end_time": "2021-07-20T16:47:52.632557Z",
     "start_time": "2021-07-20T16:47:52.618554Z"
    }
   },
   "outputs": [
    {
     "data": {
      "text/plain": [
       "LogisticRegression(random_state=8)"
      ]
     },
     "execution_count": 518,
     "metadata": {},
     "output_type": "execute_result"
    }
   ],
   "source": [
    "# model_log = LogisticRegression(random_state=8)\n",
    "model_log = LogisticRegression(random_state=8)\n",
    "model_log.fit(X_train, y_train)"
   ]
  },
  {
   "cell_type": "code",
   "execution_count": 519,
   "metadata": {
    "ExecuteTime": {
     "end_time": "2021-07-20T16:47:52.901618Z",
     "start_time": "2021-07-20T16:47:52.835603Z"
    }
   },
   "outputs": [
    {
     "name": "stdout",
     "output_type": "stream",
     "text": [
      "Logistic Regression Cross Validation Scores:\n",
      "[0.56197183 0.59802539 0.60507757 0.63046544 0.5796897 ]\n",
      "\n",
      "Cross validation mean: \t59.50%\n"
     ]
    }
   ],
   "source": [
    "def cross_val_check(model_string_name, model, X_train, y_train, X_test, y_test):\n",
    "    scores = cross_val_score(model, X_train, y_train, cv=5) # model, train, target, cross validation\n",
    "    print(f'{model_string_name} Cross Validation Scores:')\n",
    "    print(scores)\n",
    "    print(f'\\nCross validation mean: \\t{scores.mean():.2%}')\n",
    "    \n",
    "cross_val_check('Logistic Regression', model_log, X_train, y_train, X_test, y_test)"
   ]
  },
  {
   "cell_type": "code",
   "execution_count": 520,
   "metadata": {
    "ExecuteTime": {
     "end_time": "2021-07-20T16:47:54.647932Z",
     "start_time": "2021-07-20T16:47:54.249850Z"
    }
   },
   "outputs": [
    {
     "name": "stdout",
     "output_type": "stream",
     "text": [
      "Training Accuracy: 59.59%\n",
      "Test Accuracy: 61.45%\n",
      "\n",
      "              precision    recall  f1-score   support\n",
      "\n",
      "           0       0.59      0.46      0.52       685\n",
      "           1       0.63      0.74      0.68       835\n",
      "\n",
      "    accuracy                           0.61      1520\n",
      "   macro avg       0.61      0.60      0.60      1520\n",
      "weighted avg       0.61      0.61      0.61      1520\n",
      "\n"
     ]
    },
    {
     "data": {
      "image/png": "[encoded data removed]",
      "text/plain": [
       "<Figure size 720x288 with 3 Axes>"
      ]
     },
     "metadata": {
      "needs_background": "light"
     },
     "output_type": "display_data"
    }
   ],
   "source": [
    "def evaluate_model(model, X_train, X_test, y_train, \n",
    "                   y_test, cmap='Greens', normalize=None,\n",
    "                   classes=None,figsize=(10,4), graphs=False):\n",
    "    \n",
    "    \"\"\"\n",
    "    model :: classifier user desires to evaluate\n",
    "    X_train :: X training data\n",
    "    X_test :: X test data\n",
    "    y_train :: y_train data\n",
    "    y_test :: y_train data\n",
    "    cmap :: color palette of confusion matrix\n",
    "    normalize :: set to True if normalized confusion matrix is desired\n",
    "    figsize :: desired plot size\n",
    "\n",
    "    \"\"\"\n",
    "    \n",
    "    # Print model accuracy\n",
    "    print(f'Training Accuracy: {model.score(X_train,y_train):.2%}')\n",
    "    print(f'Test Accuracy: {model.score(X_test,y_test):.2%}')\n",
    "    print('')\n",
    "    \n",
    "    if graphs == True:\n",
    "        # Print classification report\n",
    "        y_test_predict = model.predict(X_test)\n",
    "        print(metrics.classification_report(y_test, y_test_predict,\n",
    "                                            target_names=classes))\n",
    "\n",
    "        # Plot confusion matrix\n",
    "        fig,ax = plt.subplots(ncols=2,figsize=figsize)\n",
    "        metrics.plot_confusion_matrix(model, X_test,y_test,cmap=cmap, \n",
    "                                      normalize=normalize,display_labels=classes,\n",
    "                                      ax=ax[0])\n",
    "\n",
    "        #Plot ROC curves\n",
    "        with sns.axes_style(\"darkgrid\"):\n",
    "            curve = metrics.plot_roc_curve(model,X_train,y_train,ax=ax[1])\n",
    "            curve2 = metrics.plot_roc_curve(model,X_test,y_test,ax=ax[1])\n",
    "            curve.ax_.grid()\n",
    "            curve.ax_.plot([0,1],[0,1],ls=':')\n",
    "            fig.tight_layout()\n",
    "            plt.show()\n",
    "        \n",
    "evaluate_model(model_log, X_train, X_test, y_train, \n",
    "                   y_test, graphs=True)"
   ]
  },
  {
   "cell_type": "code",
   "execution_count": 484,
   "metadata": {
    "ExecuteTime": {
     "end_time": "2021-07-20T16:41:12.348326Z",
     "start_time": "2021-07-20T16:41:12.345334Z"
    }
   },
   "outputs": [],
   "source": [
    "from sklearn.preprocessing import MinMaxScaler\n",
    "from sklearn.preprocessing import RobustScaler\n",
    "from sklearn.preprocessing import MaxAbsScaler"
   ]
  },
  {
   "cell_type": "code",
   "execution_count": 521,
   "metadata": {
    "ExecuteTime": {
     "end_time": "2021-07-20T16:47:59.421657Z",
     "start_time": "2021-07-20T16:47:58.954551Z"
    }
   },
   "outputs": [
    {
     "name": "stdout",
     "output_type": "stream",
     "text": [
      "Total number of samples: 5066\n",
      "------------------------------------------\n",
      "Logistic Regression Cross Validation Scores:\n",
      "[0.56197183 0.59802539 0.60507757 0.63046544 0.5796897 ]\n",
      "\n",
      "Cross validation mean: \t59.50%\n",
      "Training Accuracy: 59.59%\n",
      "Test Accuracy: 61.45%\n",
      "\n",
      "              precision    recall  f1-score   support\n",
      "\n",
      "           0       0.59      0.46      0.52       685\n",
      "           1       0.63      0.74      0.68       835\n",
      "\n",
      "    accuracy                           0.61      1520\n",
      "   macro avg       0.61      0.60      0.60      1520\n",
      "weighted avg       0.61      0.61      0.61      1520\n",
      "\n"
     ]
    },
    {
     "data": {
      "image/png": "[encoded data removed]",
      "text/plain": [
       "<Figure size 720x288 with 3 Axes>"
      ]
     },
     "metadata": {
      "needs_background": "light"
     },
     "output_type": "display_data"
    }
   ],
   "source": [
    "def make_model(df, regressor=LogisticRegression, scale=False, graphs=False, dummy=False, cmap='Greens',\n",
    "              slim=False, scaler=StandardScaler()):\n",
    "\n",
    "    # Assigning X and y for train test split\n",
    "\n",
    "    X = df.drop(['PlayerWin'], axis=1)\n",
    "    y = df['PlayerWin']\n",
    "\n",
    "    y=y.astype('int')\n",
    "\n",
    "    X_train, X_test, y_train, y_test = train_test_split(X, y, test_size=0.3, \n",
    "                                                        random_state=8)\n",
    "    \n",
    "    if scale==True:\n",
    "#         numericals = X.select_dtypes(X.iloc[1].dtypes).columns\n",
    "        scaler = scaler\n",
    "        X_train = pd.DataFrame(scaler.fit_transform(X_train))\n",
    "        X_test = pd.DataFrame(scaler.transform(X_test))\n",
    "    \n",
    "    if dummy == True:\n",
    "        model_log = DummyClassifier(strategy='stratified')\n",
    "        print('Using Dummy Model')\n",
    "    else:\n",
    "        model_log = regressor\n",
    "    \n",
    "    model_log.fit(X_train, y_train)\n",
    "    total_samples = X_train.shape[0] + X_test.shape[0]\n",
    "    print(f'Total number of samples: {total_samples}')\n",
    "    print('------------------------------------------')\n",
    "#     print(f'The X_train shape is: {X_train.shape}')\n",
    "#     print(f'The X_test shape is: {X_test.shape}')\n",
    "    if slim == False:\n",
    "        cross_val_check('Logistic Regression', model_log, X_train, y_train, X_test, y_test)\n",
    "    evaluate_model(model_log, X_train, X_test, y_train, y_test, graphs=graphs, cmap=cmap)\n",
    "    \n",
    "#     return X_train, X_test, y_train, y_test\n",
    "\n",
    "make_model(model_df, scale=False, graphs=True, regressor=LogisticRegression())"
   ]
  },
  {
   "cell_type": "code",
   "execution_count": 522,
   "metadata": {
    "ExecuteTime": {
     "end_time": "2021-07-20T16:48:05.166762Z",
     "start_time": "2021-07-20T16:48:04.602635Z"
    }
   },
   "outputs": [
    {
     "name": "stdout",
     "output_type": "stream",
     "text": [
      "Total number of samples: 5066\n",
      "------------------------------------------\n",
      "Logistic Regression Cross Validation Scores:\n",
      "[0.65070423 0.66854725 0.674189   0.65726375 0.65303244]\n",
      "\n",
      "Cross validation mean: \t66.07%\n",
      "Training Accuracy: 66.36%\n",
      "Test Accuracy: 67.89%\n",
      "\n",
      "              precision    recall  f1-score   support\n",
      "\n",
      "           0       0.67      0.56      0.61       685\n",
      "           1       0.68      0.78      0.73       835\n",
      "\n",
      "    accuracy                           0.68      1520\n",
      "   macro avg       0.68      0.67      0.67      1520\n",
      "weighted avg       0.68      0.68      0.67      1520\n",
      "\n"
     ]
    },
    {
     "data": {
      "image/png": "[encoded data removed]",
      "text/plain": [
       "<Figure size 720x288 with 3 Axes>"
      ]
     },
     "metadata": {
      "needs_background": "light"
     },
     "output_type": "display_data"
    }
   ],
   "source": [
    "# make_model(model_df, scale=True, graphs=True, regressor=LogisticRegression(), scaler=StandardScaler())\n",
    "# make_model(model_df, scale=True, graphs=True, regressor=LogisticRegression(), scaler=RobustScaler())\n",
    "make_model(model_df, scale=True, graphs=True, regressor=LogisticRegression(), scaler=PowerTransformer())\n",
    "# All features sorted power transformer 66.44 cross val, 67.96 test accuracy\n",
    "# All features merged (not divided by 4) PT - 67.12 CV, 68.55 TA\n",
    "# All features merged AVERAGE - PT - 67.03 CV, 68.55 TA\n",
    "# Select featuers sorted 64.97 cv 67.30 TA\n",
    "# Select features averaged 66.07 cv, 67.89 TA"
   ]
  },
  {
   "cell_type": "code",
   "execution_count": 271,
   "metadata": {
    "ExecuteTime": {
     "end_time": "2021-07-20T16:17:12.091659Z",
     "start_time": "2021-07-20T16:17:11.671572Z"
    }
   },
   "outputs": [
    {
     "name": "stdout",
     "output_type": "stream",
     "text": [
      "Using Dummy Model\n",
      "Total number of samples: 5066\n",
      "------------------------------------------\n",
      "Logistic Regression Cross Validation Scores:\n",
      "[0.46901408 0.5190409  0.5077574  0.49647391 0.51198872]\n",
      "\n",
      "Cross validation mean: \t50.09%\n",
      "Training Accuracy: 49.58%\n",
      "Test Accuracy: 48.88%\n",
      "\n",
      "              precision    recall  f1-score   support\n",
      "\n",
      "           0       0.46      0.45      0.46       685\n",
      "           1       0.56      0.56      0.56       835\n",
      "\n",
      "    accuracy                           0.51      1520\n",
      "   macro avg       0.51      0.51      0.51      1520\n",
      "weighted avg       0.51      0.51      0.51      1520\n",
      "\n"
     ]
    },
    {
     "data": {
      "image/png": "[encoded data removed]",
      "text/plain": [
       "<Figure size 720x288 with 3 Axes>"
      ]
     },
     "metadata": {
      "needs_background": "light"
     },
     "output_type": "display_data"
    }
   ],
   "source": [
    "make_model(model_df, scale=False, graphs=True, dummy=True, \n",
    "           cmap='Reds', regressor=LogisticRegression())"
   ]
  },
  {
   "cell_type": "markdown",
   "metadata": {},
   "source": [
    "## Linear Regression Feature Importances"
   ]
  },
  {
   "cell_type": "code",
   "execution_count": 523,
   "metadata": {
    "ExecuteTime": {
     "end_time": "2021-07-20T16:48:39.302137Z",
     "start_time": "2021-07-20T16:48:39.199123Z"
    }
   },
   "outputs": [
    {
     "name": "stdout",
     "output_type": "stream",
     "text": [
      "(3546, 14)\n",
      "(1520, 14)\n"
     ]
    }
   ],
   "source": [
    "model_df = df.copy()\n",
    "\n",
    "# Assigning X and y for train test split\n",
    "\n",
    "features = model_df.drop(['PlayerWin'], axis=1)\n",
    "target = model_df['PlayerWin']\n",
    "\n",
    "\n",
    "X = features\n",
    "y = target\n",
    "\n",
    "y=y.astype('int')\n",
    "\n",
    "X_train, X_test, y_train, y_test = train_test_split(X, y, test_size=0.3, \n",
    "                                                    random_state=8)\n",
    "scaler = PowerTransformer()\n",
    "X_train = pd.DataFrame(scaler.fit_transform(X_train))\n",
    "X_test = pd.DataFrame(scaler.transform(X_test))\n",
    "\n",
    "model_log = LogisticRegression()\n",
    "model_log.fit(X_train, y_train)\n",
    "\n",
    "print(X_train.shape)\n",
    "print(X_test.shape)"
   ]
  },
  {
   "cell_type": "code",
   "execution_count": 524,
   "metadata": {
    "ExecuteTime": {
     "end_time": "2021-07-20T16:48:40.228010Z",
     "start_time": "2021-07-20T16:48:40.209006Z"
    }
   },
   "outputs": [
    {
     "data": {
      "text/html": [
       "<div>\n",
       "<style scoped>\n",
       "    .dataframe tbody tr th:only-of-type {\n",
       "        vertical-align: middle;\n",
       "    }\n",
       "\n",
       "    .dataframe tbody tr th {\n",
       "        vertical-align: top;\n",
       "    }\n",
       "\n",
       "    .dataframe thead th {\n",
       "        text-align: right;\n",
       "    }\n",
       "</style>\n",
       "<table border=\"1\" class=\"dataframe\">\n",
       "  <thead>\n",
       "    <tr style=\"text-align: right;\">\n",
       "      <th></th>\n",
       "      <th>PlayerWin</th>\n",
       "      <th>Player_WinRate</th>\n",
       "      <th>Enemy_WinRate</th>\n",
       "      <th>Player_K/D</th>\n",
       "      <th>Enemy_K/D</th>\n",
       "      <th>Player_TotalGamesCompleted</th>\n",
       "      <th>Enemy_TotalGamesCompleted</th>\n",
       "      <th>Player_TotalTimePlayed</th>\n",
       "      <th>Enemy_TotalTimePlayed</th>\n",
       "      <th>Player_Accuracy</th>\n",
       "      <th>Enemy_Accuracy</th>\n",
       "      <th>Player_PrevTotalXP</th>\n",
       "      <th>Enemy_PrevTotalXP</th>\n",
       "      <th>Player_SpartanRank</th>\n",
       "      <th>Enemy_SpartanRank</th>\n",
       "    </tr>\n",
       "  </thead>\n",
       "  <tbody>\n",
       "    <tr>\n",
       "      <th>0</th>\n",
       "      <td>0</td>\n",
       "      <td>1.081731</td>\n",
       "      <td>0.944320</td>\n",
       "      <td>1.001582</td>\n",
       "      <td>1.090913</td>\n",
       "      <td>183.75</td>\n",
       "      <td>668.50</td>\n",
       "      <td>19.762377</td>\n",
       "      <td>71.401962</td>\n",
       "      <td>0.329293</td>\n",
       "      <td>0.326039</td>\n",
       "      <td>5265749.75</td>\n",
       "      <td>21339587.50</td>\n",
       "      <td>115.75</td>\n",
       "      <td>134.25</td>\n",
       "    </tr>\n",
       "    <tr>\n",
       "      <th>1</th>\n",
       "      <td>1</td>\n",
       "      <td>1.210757</td>\n",
       "      <td>0.669667</td>\n",
       "      <td>1.012847</td>\n",
       "      <td>1.052453</td>\n",
       "      <td>1547.50</td>\n",
       "      <td>791.25</td>\n",
       "      <td>155.392598</td>\n",
       "      <td>90.771716</td>\n",
       "      <td>0.343911</td>\n",
       "      <td>0.377892</td>\n",
       "      <td>11323792.25</td>\n",
       "      <td>19864156.50</td>\n",
       "      <td>122.75</td>\n",
       "      <td>129.00</td>\n",
       "    </tr>\n",
       "    <tr>\n",
       "      <th>2</th>\n",
       "      <td>1</td>\n",
       "      <td>1.092604</td>\n",
       "      <td>0.844752</td>\n",
       "      <td>0.966017</td>\n",
       "      <td>1.032910</td>\n",
       "      <td>2102.75</td>\n",
       "      <td>1126.50</td>\n",
       "      <td>228.236587</td>\n",
       "      <td>127.340630</td>\n",
       "      <td>0.361132</td>\n",
       "      <td>0.348593</td>\n",
       "      <td>15760299.00</td>\n",
       "      <td>20310125.75</td>\n",
       "      <td>123.25</td>\n",
       "      <td>122.75</td>\n",
       "    </tr>\n",
       "    <tr>\n",
       "      <th>3</th>\n",
       "      <td>1</td>\n",
       "      <td>1.236401</td>\n",
       "      <td>1.498865</td>\n",
       "      <td>1.165205</td>\n",
       "      <td>1.004284</td>\n",
       "      <td>4053.00</td>\n",
       "      <td>1043.50</td>\n",
       "      <td>433.955225</td>\n",
       "      <td>117.960500</td>\n",
       "      <td>0.350705</td>\n",
       "      <td>0.366385</td>\n",
       "      <td>29123969.50</td>\n",
       "      <td>23281604.75</td>\n",
       "      <td>149.75</td>\n",
       "      <td>149.00</td>\n",
       "    </tr>\n",
       "    <tr>\n",
       "      <th>4</th>\n",
       "      <td>1</td>\n",
       "      <td>1.678911</td>\n",
       "      <td>1.084483</td>\n",
       "      <td>0.975596</td>\n",
       "      <td>1.351607</td>\n",
       "      <td>1156.25</td>\n",
       "      <td>2790.75</td>\n",
       "      <td>115.280680</td>\n",
       "      <td>305.389289</td>\n",
       "      <td>0.363884</td>\n",
       "      <td>0.345664</td>\n",
       "      <td>21807131.75</td>\n",
       "      <td>20057565.50</td>\n",
       "      <td>148.25</td>\n",
       "      <td>148.75</td>\n",
       "    </tr>\n",
       "    <tr>\n",
       "      <th>...</th>\n",
       "      <td>...</td>\n",
       "      <td>...</td>\n",
       "      <td>...</td>\n",
       "      <td>...</td>\n",
       "      <td>...</td>\n",
       "      <td>...</td>\n",
       "      <td>...</td>\n",
       "      <td>...</td>\n",
       "      <td>...</td>\n",
       "      <td>...</td>\n",
       "      <td>...</td>\n",
       "      <td>...</td>\n",
       "      <td>...</td>\n",
       "      <td>...</td>\n",
       "      <td>...</td>\n",
       "    </tr>\n",
       "    <tr>\n",
       "      <th>8801</th>\n",
       "      <td>1</td>\n",
       "      <td>3.167052</td>\n",
       "      <td>1.484859</td>\n",
       "      <td>1.386900</td>\n",
       "      <td>1.044907</td>\n",
       "      <td>5254.25</td>\n",
       "      <td>2786.25</td>\n",
       "      <td>563.445804</td>\n",
       "      <td>303.861138</td>\n",
       "      <td>0.366094</td>\n",
       "      <td>0.347633</td>\n",
       "      <td>50447273.50</td>\n",
       "      <td>28849878.75</td>\n",
       "      <td>150.75</td>\n",
       "      <td>149.75</td>\n",
       "    </tr>\n",
       "    <tr>\n",
       "      <th>8802</th>\n",
       "      <td>1</td>\n",
       "      <td>3.167052</td>\n",
       "      <td>3.927632</td>\n",
       "      <td>1.386900</td>\n",
       "      <td>1.734094</td>\n",
       "      <td>5254.25</td>\n",
       "      <td>2657.00</td>\n",
       "      <td>563.445804</td>\n",
       "      <td>251.749577</td>\n",
       "      <td>0.366094</td>\n",
       "      <td>0.402635</td>\n",
       "      <td>50445365.25</td>\n",
       "      <td>19273582.75</td>\n",
       "      <td>150.75</td>\n",
       "      <td>140.50</td>\n",
       "    </tr>\n",
       "    <tr>\n",
       "      <th>8803</th>\n",
       "      <td>0</td>\n",
       "      <td>2.378321</td>\n",
       "      <td>1.589984</td>\n",
       "      <td>1.279009</td>\n",
       "      <td>1.182877</td>\n",
       "      <td>2790.75</td>\n",
       "      <td>1480.25</td>\n",
       "      <td>315.980530</td>\n",
       "      <td>169.935191</td>\n",
       "      <td>0.351305</td>\n",
       "      <td>0.408828</td>\n",
       "      <td>25565233.50</td>\n",
       "      <td>34284304.25</td>\n",
       "      <td>142.50</td>\n",
       "      <td>148.00</td>\n",
       "    </tr>\n",
       "    <tr>\n",
       "      <th>8805</th>\n",
       "      <td>1</td>\n",
       "      <td>2.306641</td>\n",
       "      <td>1.123236</td>\n",
       "      <td>1.293991</td>\n",
       "      <td>1.038184</td>\n",
       "      <td>3177.25</td>\n",
       "      <td>1437.75</td>\n",
       "      <td>356.846455</td>\n",
       "      <td>168.802702</td>\n",
       "      <td>0.354345</td>\n",
       "      <td>0.369693</td>\n",
       "      <td>24200436.75</td>\n",
       "      <td>22311350.50</td>\n",
       "      <td>138.00</td>\n",
       "      <td>139.00</td>\n",
       "    </tr>\n",
       "    <tr>\n",
       "      <th>8806</th>\n",
       "      <td>1</td>\n",
       "      <td>2.502502</td>\n",
       "      <td>0.958900</td>\n",
       "      <td>1.345602</td>\n",
       "      <td>1.166165</td>\n",
       "      <td>3446.50</td>\n",
       "      <td>956.25</td>\n",
       "      <td>380.366120</td>\n",
       "      <td>106.673936</td>\n",
       "      <td>0.351205</td>\n",
       "      <td>0.361254</td>\n",
       "      <td>25723537.00</td>\n",
       "      <td>15638556.50</td>\n",
       "      <td>142.50</td>\n",
       "      <td>147.00</td>\n",
       "    </tr>\n",
       "  </tbody>\n",
       "</table>\n",
       "<p>5066 rows × 15 columns</p>\n",
       "</div>"
      ],
      "text/plain": [
       "      PlayerWin  Player_WinRate  Enemy_WinRate  Player_K/D  Enemy_K/D  \\\n",
       "0             0        1.081731       0.944320    1.001582   1.090913   \n",
       "1             1        1.210757       0.669667    1.012847   1.052453   \n",
       "2             1        1.092604       0.844752    0.966017   1.032910   \n",
       "3             1        1.236401       1.498865    1.165205   1.004284   \n",
       "4             1        1.678911       1.084483    0.975596   1.351607   \n",
       "...         ...             ...            ...         ...        ...   \n",
       "8801          1        3.167052       1.484859    1.386900   1.044907   \n",
       "8802          1        3.167052       3.927632    1.386900   1.734094   \n",
       "8803          0        2.378321       1.589984    1.279009   1.182877   \n",
       "8805          1        2.306641       1.123236    1.293991   1.038184   \n",
       "8806          1        2.502502       0.958900    1.345602   1.166165   \n",
       "\n",
       "      Player_TotalGamesCompleted  Enemy_TotalGamesCompleted  \\\n",
       "0                         183.75                     668.50   \n",
       "1                        1547.50                     791.25   \n",
       "2                        2102.75                    1126.50   \n",
       "3                        4053.00                    1043.50   \n",
       "4                        1156.25                    2790.75   \n",
       "...                          ...                        ...   \n",
       "8801                     5254.25                    2786.25   \n",
       "8802                     5254.25                    2657.00   \n",
       "8803                     2790.75                    1480.25   \n",
       "8805                     3177.25                    1437.75   \n",
       "8806                     3446.50                     956.25   \n",
       "\n",
       "      Player_TotalTimePlayed  Enemy_TotalTimePlayed  Player_Accuracy  \\\n",
       "0                  19.762377              71.401962         0.329293   \n",
       "1                 155.392598              90.771716         0.343911   \n",
       "2                 228.236587             127.340630         0.361132   \n",
       "3                 433.955225             117.960500         0.350705   \n",
       "4                 115.280680             305.389289         0.363884   \n",
       "...                      ...                    ...              ...   \n",
       "8801              563.445804             303.861138         0.366094   \n",
       "8802              563.445804             251.749577         0.366094   \n",
       "8803              315.980530             169.935191         0.351305   \n",
       "8805              356.846455             168.802702         0.354345   \n",
       "8806              380.366120             106.673936         0.351205   \n",
       "\n",
       "      Enemy_Accuracy  Player_PrevTotalXP  Enemy_PrevTotalXP  \\\n",
       "0           0.326039          5265749.75        21339587.50   \n",
       "1           0.377892         11323792.25        19864156.50   \n",
       "2           0.348593         15760299.00        20310125.75   \n",
       "3           0.366385         29123969.50        23281604.75   \n",
       "4           0.345664         21807131.75        20057565.50   \n",
       "...              ...                 ...                ...   \n",
       "8801        0.347633         50447273.50        28849878.75   \n",
       "8802        0.402635         50445365.25        19273582.75   \n",
       "8803        0.408828         25565233.50        34284304.25   \n",
       "8805        0.369693         24200436.75        22311350.50   \n",
       "8806        0.361254         25723537.00        15638556.50   \n",
       "\n",
       "      Player_SpartanRank  Enemy_SpartanRank  \n",
       "0                 115.75             134.25  \n",
       "1                 122.75             129.00  \n",
       "2                 123.25             122.75  \n",
       "3                 149.75             149.00  \n",
       "4                 148.25             148.75  \n",
       "...                  ...                ...  \n",
       "8801              150.75             149.75  \n",
       "8802              150.75             140.50  \n",
       "8803              142.50             148.00  \n",
       "8805              138.00             139.00  \n",
       "8806              142.50             147.00  \n",
       "\n",
       "[5066 rows x 15 columns]"
      ]
     },
     "execution_count": 524,
     "metadata": {},
     "output_type": "execute_result"
    }
   ],
   "source": [
    "model_df"
   ]
  },
  {
   "cell_type": "code",
   "execution_count": 525,
   "metadata": {
    "ExecuteTime": {
     "end_time": "2021-07-20T16:48:41.969036Z",
     "start_time": "2021-07-20T16:48:41.183867Z"
    }
   },
   "outputs": [
    {
     "name": "stdout",
     "output_type": "stream",
     "text": [
      "Training Accuracy: 66.36%\n",
      "Test Accuracy: 67.89%\n"
     ]
    },
    {
     "data": {
      "image/png": "[encoded data removed]",
      "text/plain": [
       "<Figure size 864x720 with 1 Axes>"
      ]
     },
     "metadata": {},
     "output_type": "display_data"
    }
   ],
   "source": [
    "def model_accuracy(model, X_train=X_train, y_train=y_train, X_test=X_test, y_test=y_test):\n",
    "    print(f'Training Accuracy: {model.score(X_train,y_train):.2%}')\n",
    "    print(f'Test Accuracy: {model.score(X_test,y_test):.2%}')\n",
    "# Create coefficient graph function\n",
    "\n",
    "# Uncomment line below to create images for presentation\n",
    "# sns.set_context('talk')\n",
    "\n",
    "def plot_coefficients(model, features, X_train, X_test, y_train=y_train, y_test=y_test, count=20):    \n",
    "    \n",
    "    # Train model on X_train and y_train\n",
    "#     model.fit(X_train, y_train)\n",
    "    \n",
    "    # Create a list of coefficients\n",
    "    coeffs = pd.Series(model.coef_.flatten(), index=features.columns).sort_values(ascending=False)\n",
    "#     coeffs = coeffs[:20]\n",
    "    top_coeffs = coeffs[:count]\n",
    "    bottom_coeffs = coeffs[-count:]\n",
    "    coeffs = top_coeffs.append(bottom_coeffs)\n",
    "    # Display accuracy of newly trained model\n",
    "    model_accuracy(model, X_train=X_train, y_train=y_train, X_test=X_test, y_test=y_test)\n",
    "\n",
    "    # Create coefficients plot\n",
    "    with sns.axes_style(\"darkgrid\"):\n",
    "        plt.figure(figsize=(12, 10))\n",
    "        ax = sns.barplot(x=coeffs, y=coeffs.index, palette='coolwarm')\n",
    "        ax.set(xlabel='Log Coefficients', ylabel='Features')\n",
    "    \n",
    "    # Save image\n",
    "    plt.tight_layout()\n",
    "\n",
    "    \n",
    "plot_coefficients(model_log, features, X_train, X_test)"
   ]
  },
  {
   "cell_type": "code",
   "execution_count": null,
   "metadata": {},
   "outputs": [],
   "source": [
    "# All features combined (not divided by 4) - \n",
    "# top is power weapon time posession, ground pund win rate, games won\n",
    "# All features combined averaged - \n",
    "# basically teh same\n",
    "# Select features sorted shows total time played games completed win rate at top\n",
    "# Select features merged win rate, games completed, K/D"
   ]
  },
  {
   "cell_type": "code",
   "execution_count": null,
   "metadata": {},
   "outputs": [],
   "source": []
  },
  {
   "cell_type": "code",
   "execution_count": null,
   "metadata": {},
   "outputs": [],
   "source": []
  },
  {
   "cell_type": "markdown",
   "metadata": {},
   "source": [
    "# Random Forest"
   ]
  },
  {
   "cell_type": "code",
   "execution_count": 526,
   "metadata": {
    "ExecuteTime": {
     "end_time": "2021-07-20T16:49:31.326085Z",
     "start_time": "2021-07-20T16:49:31.318075Z"
    }
   },
   "outputs": [
    {
     "name": "stdout",
     "output_type": "stream",
     "text": [
      "(3546, 14)\n",
      "(1520, 14)\n"
     ]
    }
   ],
   "source": [
    "model_df = df.copy()\n",
    "\n",
    "# Assigning X and y for train test split\n",
    "\n",
    "features = model_df.drop(['PlayerWin'], axis=1)\n",
    "target = model_df['PlayerWin']\n",
    "\n",
    "\n",
    "X = features\n",
    "y = target\n",
    "\n",
    "y=y.astype('int')\n",
    "\n",
    "X_train, X_test, y_train, y_test = train_test_split(X, y, test_size=0.3, \n",
    "                                                    random_state=8)\n",
    "\n",
    "print(X_train.shape)\n",
    "print(X_test.shape)"
   ]
  },
  {
   "cell_type": "code",
   "execution_count": 527,
   "metadata": {
    "ExecuteTime": {
     "end_time": "2021-07-20T16:49:36.788968Z",
     "start_time": "2021-07-20T16:49:32.229940Z"
    }
   },
   "outputs": [
    {
     "name": "stdout",
     "output_type": "stream",
     "text": [
      "Total number of samples: 5066\n",
      "------------------------------------------\n",
      "Logistic Regression Cross Validation Scores:\n",
      "[0.67605634 0.69111425 0.674189   0.6403385  0.66713681]\n",
      "\n",
      "Cross validation mean: \t66.98%\n",
      "Training Accuracy: 100.00%\n",
      "Test Accuracy: 66.84%\n",
      "\n",
      "              precision    recall  f1-score   support\n",
      "\n",
      "           0       0.65      0.57      0.61       685\n",
      "           1       0.68      0.75      0.71       835\n",
      "\n",
      "    accuracy                           0.67      1520\n",
      "   macro avg       0.67      0.66      0.66      1520\n",
      "weighted avg       0.67      0.67      0.67      1520\n",
      "\n"
     ]
    },
    {
     "data": {
      "image/png": "[encoded data removed]",
      "text/plain": [
       "<Figure size 720x288 with 3 Axes>"
      ]
     },
     "metadata": {
      "needs_background": "light"
     },
     "output_type": "display_data"
    }
   ],
   "source": [
    "make_model(model_df, scale=False, graphs=True, regressor=RandomForestClassifier())\n",
    "# all features sorted 65.88 CV, 67.11 test accuracy\n",
    "# all features averaged 66.24 cv, 67.96 TA\n",
    "# select features sort 67.30 TA"
   ]
  },
  {
   "cell_type": "code",
   "execution_count": 528,
   "metadata": {
    "ExecuteTime": {
     "end_time": "2021-07-20T16:49:41.468031Z",
     "start_time": "2021-07-20T16:49:36.789968Z"
    }
   },
   "outputs": [
    {
     "name": "stdout",
     "output_type": "stream",
     "text": [
      "Total number of samples: 5066\n",
      "------------------------------------------\n",
      "Logistic Regression Cross Validation Scores:\n",
      "[0.66760563 0.68829337 0.67559944 0.63187588 0.66149506]\n",
      "\n",
      "Cross validation mean: \t66.50%\n",
      "Training Accuracy: 100.00%\n",
      "Test Accuracy: 68.42%\n",
      "\n",
      "              precision    recall  f1-score   support\n",
      "\n",
      "           0       0.67      0.58      0.62       685\n",
      "           1       0.69      0.77      0.73       835\n",
      "\n",
      "    accuracy                           0.68      1520\n",
      "   macro avg       0.68      0.68      0.68      1520\n",
      "weighted avg       0.68      0.68      0.68      1520\n",
      "\n"
     ]
    },
    {
     "data": {
      "image/png": "[encoded data removed]",
      "text/plain": [
       "<Figure size 720x288 with 3 Axes>"
      ]
     },
     "metadata": {
      "needs_background": "light"
     },
     "output_type": "display_data"
    }
   ],
   "source": [
    "make_model(model_df, scale=True, graphs=True, \n",
    "           regressor=RandomForestClassifier(), scaler=PowerTransformer())\n",
    "\n",
    "# all featuers standard scaler 65.34 CV, 68.09 test accuracy\n",
    "# all featuers added PT 64.89 CV, 68.29 test accuracy\n",
    "# all features averaged PT 65.68 cv, 67.17 TA\n",
    "# Select features sorted PT 65.85 CV 68.55 TA\n",
    "# Select features merged PT 66.50 CV 68.42 TA"
   ]
  },
  {
   "cell_type": "markdown",
   "metadata": {},
   "source": [
    "# Support Vector Machines"
   ]
  },
  {
   "cell_type": "code",
   "execution_count": 529,
   "metadata": {
    "ExecuteTime": {
     "end_time": "2021-07-20T16:50:23.290231Z",
     "start_time": "2021-07-20T16:50:20.667640Z"
    }
   },
   "outputs": [
    {
     "name": "stdout",
     "output_type": "stream",
     "text": [
      "Total number of samples: 5066\n",
      "------------------------------------------\n",
      "Logistic Regression Cross Validation Scores:\n",
      "[0.5943662  0.59802539 0.59379408 0.60366714 0.58533145]\n",
      "\n",
      "Cross validation mean: \t59.50%\n",
      "Training Accuracy: 59.42%\n",
      "Test Accuracy: 61.38%\n",
      "\n",
      "              precision    recall  f1-score   support\n",
      "\n",
      "           0       0.65      0.31      0.42       685\n",
      "           1       0.60      0.86      0.71       835\n",
      "\n",
      "    accuracy                           0.61      1520\n",
      "   macro avg       0.63      0.59      0.57      1520\n",
      "weighted avg       0.62      0.61      0.58      1520\n",
      "\n"
     ]
    },
    {
     "data": {
      "image/png": "[encoded data removed]",
      "text/plain": [
       "<Figure size 720x288 with 3 Axes>"
      ]
     },
     "metadata": {
      "needs_background": "light"
     },
     "output_type": "display_data"
    }
   ],
   "source": [
    "make_model(model_df, scale=False, graphs=True, regressor=svm.SVC())"
   ]
  },
  {
   "cell_type": "code",
   "execution_count": 533,
   "metadata": {
    "ExecuteTime": {
     "end_time": "2021-07-20T16:51:04.412544Z",
     "start_time": "2021-07-20T16:51:01.936996Z"
    }
   },
   "outputs": [
    {
     "name": "stdout",
     "output_type": "stream",
     "text": [
      "Total number of samples: 5066\n",
      "------------------------------------------\n",
      "Logistic Regression Cross Validation Scores:\n",
      "[0.66619718 0.67842031 0.66995769 0.62059238 0.65021157]\n",
      "\n",
      "Cross validation mean: \t65.71%\n",
      "Training Accuracy: 71.01%\n",
      "Test Accuracy: 67.04%\n",
      "\n",
      "              precision    recall  f1-score   support\n",
      "\n",
      "           0       0.68      0.52      0.59       685\n",
      "           1       0.67      0.80      0.73       835\n",
      "\n",
      "    accuracy                           0.67      1520\n",
      "   macro avg       0.67      0.66      0.66      1520\n",
      "weighted avg       0.67      0.67      0.66      1520\n",
      "\n"
     ]
    },
    {
     "data": {
      "image/png": "[encoded data removed]",
      "text/plain": [
       "<Figure size 720x288 with 3 Axes>"
      ]
     },
     "metadata": {
      "needs_background": "light"
     },
     "output_type": "display_data"
    }
   ],
   "source": [
    "# make_model(model_df, scale=True, graphs=True, regressor=svm.SVC(), scaler=RobustScaler())\n",
    "make_model(model_df, scale=True, graphs=True, regressor=svm.SVC(), scaler=StandardScaler())\n",
    "# make_model(model_df, scale=True, graphs=True, regressor=svm.SVC(), scaler=PowerTransformer())\n",
    "# all features sorted PT 66.16 cv 67.76 ta\n",
    "# all features merged PT averaged by 4 66.53 CV 68.68 TA\n",
    "# sorted features 68.09 TA\n",
    "# sorted merged standard scaler 67.04 TA"
   ]
  },
  {
   "cell_type": "markdown",
   "metadata": {},
   "source": [
    "## SVM with Grid Search"
   ]
  },
  {
   "cell_type": "code",
   "execution_count": null,
   "metadata": {
    "ExecuteTime": {
     "end_time": "2021-07-20T02:40:25.978602Z",
     "start_time": "2021-07-20T02:40:25.883581Z"
    }
   },
   "outputs": [],
   "source": [
    "model = svm.SVC()\n",
    "\n",
    "scaler = RobustScaler()\n",
    "X_train = pd.DataFrame(scaler.fit_transform(X_train))\n",
    "X_test = pd.DataFrame(scaler.transform(X_test))\n",
    "\n",
    "model.fit(X_train, y_train)\n",
    "  \n",
    "# print prediction results\n",
    "predictions = model.predict(X_test)\n",
    "print(classification_report(y_test, predictions))"
   ]
  },
  {
   "cell_type": "code",
   "execution_count": null,
   "metadata": {
    "ExecuteTime": {
     "end_time": "2021-07-20T02:40:45.457611Z",
     "start_time": "2021-07-20T02:40:32.221625Z"
    }
   },
   "outputs": [],
   "source": [
    "from sklearn.model_selection import GridSearchCV\n",
    "  \n",
    "# defining parameter range\n",
    "param_grid = {'C': [0.1, 1, 10, 100, 1000], \n",
    "              'gamma': [1, 0.1, 0.01, 0.001, 0.0001],\n",
    "              'kernel': ['rbf']} \n",
    "  \n",
    "grid = GridSearchCV(svm.SVC(), param_grid, refit = True, verbose = 100)\n",
    "  \n",
    "# fitting the model for grid search\n",
    "grid.fit(X_train, y_train)"
   ]
  },
  {
   "cell_type": "code",
   "execution_count": null,
   "metadata": {
    "ExecuteTime": {
     "end_time": "2021-07-20T02:40:49.322048Z",
     "start_time": "2021-07-20T02:40:48.799929Z"
    }
   },
   "outputs": [],
   "source": [
    "print(f\"Cross Validated Score: {grid.best_score_ :.2%}\")\n",
    "print(\"\")\n",
    "print(f\"Optimal Parameters: {grid.best_params_}\")\n",
    "\n",
    "evaluate_model(grid.best_estimator_,X_train, X_test, y_train, \n",
    "                   y_test, cmap='Purples', graphs=True)"
   ]
  },
  {
   "cell_type": "markdown",
   "metadata": {},
   "source": [
    "## Feature Importances"
   ]
  },
  {
   "cell_type": "code",
   "execution_count": null,
   "metadata": {
    "ExecuteTime": {
     "end_time": "2021-07-20T01:59:18.736959Z",
     "start_time": "2021-07-20T01:59:18.731958Z"
    }
   },
   "outputs": [],
   "source": [
    "X_train.columns"
   ]
  },
  {
   "cell_type": "code",
   "execution_count": null,
   "metadata": {
    "ExecuteTime": {
     "end_time": "2021-07-20T02:01:05.634359Z",
     "start_time": "2021-07-20T02:01:02.873737Z"
    }
   },
   "outputs": [],
   "source": [
    "def f_importances(coef, names, top=-1):\n",
    "    imp = coef\n",
    "    imp, names = zip(*sorted(list(zip(imp, names))))\n",
    "\n",
    "    # Show all features\n",
    "    if top == -1:\n",
    "        top = len(names)\n",
    "\n",
    "    plt.barh(range(top), imp[::-1][0:top], align='center')\n",
    "    plt.yticks(range(top), names[::-1][0:top])\n",
    "    plt.show()\n",
    "\n",
    "model = svm.SVC(kernel='linear')\n",
    "\n",
    "scaler = RobustScaler()\n",
    "X_train = pd.DataFrame(scaler.fit_transform(X_train))\n",
    "X_test = pd.DataFrame(scaler.transform(X_test))\n",
    "\n",
    "features_names = model_df.columns\n",
    "\n",
    "model.fit(X_train, y_train)\n",
    "# f_importances(model.coef_, feature_names)\n",
    "f_importances(abs(model.coef_[0]), features_names, top=10)"
   ]
  },
  {
   "cell_type": "code",
   "execution_count": null,
   "metadata": {},
   "outputs": [],
   "source": []
  },
  {
   "cell_type": "markdown",
   "metadata": {},
   "source": [
    "# XGBoost"
   ]
  },
  {
   "cell_type": "code",
   "execution_count": 534,
   "metadata": {
    "ExecuteTime": {
     "end_time": "2021-07-20T16:51:20.873615Z",
     "start_time": "2021-07-20T16:51:19.683356Z"
    }
   },
   "outputs": [
    {
     "name": "stdout",
     "output_type": "stream",
     "text": [
      "Total number of samples: 5066\n",
      "------------------------------------------\n",
      "Logistic Regression Cross Validation Scores:\n",
      "[0.65774648 0.65021157 0.651622   0.62764457 0.62764457]\n",
      "\n",
      "Cross validation mean: \t64.30%\n",
      "Training Accuracy: 99.66%\n",
      "Test Accuracy: 67.37%\n",
      "\n",
      "              precision    recall  f1-score   support\n",
      "\n",
      "           0       0.65      0.60      0.62       685\n",
      "           1       0.69      0.74      0.71       835\n",
      "\n",
      "    accuracy                           0.67      1520\n",
      "   macro avg       0.67      0.67      0.67      1520\n",
      "weighted avg       0.67      0.67      0.67      1520\n",
      "\n"
     ]
    },
    {
     "data": {
      "image/png": "[encoded data removed]",
      "text/plain": [
       "<Figure size 720x288 with 3 Axes>"
      ]
     },
     "metadata": {
      "needs_background": "light"
     },
     "output_type": "display_data"
    }
   ],
   "source": [
    "make_model(model_df, scale=False, graphs=True, regressor=XGBClassifier())\n",
    "# no 68"
   ]
  },
  {
   "cell_type": "code",
   "execution_count": 537,
   "metadata": {
    "ExecuteTime": {
     "end_time": "2021-07-20T16:51:35.432469Z",
     "start_time": "2021-07-20T16:51:34.277209Z"
    }
   },
   "outputs": [
    {
     "name": "stdout",
     "output_type": "stream",
     "text": [
      "Total number of samples: 5066\n",
      "------------------------------------------\n",
      "Logistic Regression Cross Validation Scores:\n",
      "[0.65774648 0.65021157 0.651622   0.62905501 0.62764457]\n",
      "\n",
      "Cross validation mean: \t64.33%\n",
      "Training Accuracy: 99.66%\n",
      "Test Accuracy: 67.30%\n",
      "\n",
      "              precision    recall  f1-score   support\n",
      "\n",
      "           0       0.65      0.59      0.62       685\n",
      "           1       0.69      0.74      0.71       835\n",
      "\n",
      "    accuracy                           0.67      1520\n",
      "   macro avg       0.67      0.67      0.67      1520\n",
      "weighted avg       0.67      0.67      0.67      1520\n",
      "\n"
     ]
    },
    {
     "data": {
      "image/png": "[encoded data removed]",
      "text/plain": [
       "<Figure size 720x288 with 3 Axes>"
      ]
     },
     "metadata": {
      "needs_background": "light"
     },
     "output_type": "display_data"
    }
   ],
   "source": [
    "make_model(model_df, scale=True, graphs=True, regressor=XGBClassifier(), scaler=StandardScaler())\n",
    "# make_model(model_df, scale=True, graphs=True, regressor=XGBClassifier(), scaler=RobustScaler())\n",
    "# make_model(model_df, scale=True, graphs=True, regressor=XGBClassifier(), scaler=PowerTransformer())\n",
    "# no 68"
   ]
  },
  {
   "cell_type": "markdown",
   "metadata": {},
   "source": [
    "# K Nearest Neighbors"
   ]
  },
  {
   "cell_type": "code",
   "execution_count": 538,
   "metadata": {
    "ExecuteTime": {
     "end_time": "2021-07-20T16:51:44.427169Z",
     "start_time": "2021-07-20T16:51:43.509970Z"
    }
   },
   "outputs": [
    {
     "name": "stdout",
     "output_type": "stream",
     "text": [
      "Total number of samples: 5066\n",
      "------------------------------------------\n",
      "Logistic Regression Cross Validation Scores:\n",
      "[0.53521127 0.55571227 0.55148096 0.55571227 0.55007052]\n",
      "\n",
      "Cross validation mean: \t54.96%\n",
      "Training Accuracy: 71.07%\n",
      "Test Accuracy: 56.51%\n",
      "\n",
      "              precision    recall  f1-score   support\n",
      "\n",
      "           0       0.52      0.46      0.49       685\n",
      "           1       0.59      0.65      0.62       835\n",
      "\n",
      "    accuracy                           0.57      1520\n",
      "   macro avg       0.56      0.56      0.55      1520\n",
      "weighted avg       0.56      0.57      0.56      1520\n",
      "\n"
     ]
    },
    {
     "data": {
      "image/png": "[encoded data removed]",
      "text/plain": [
       "<Figure size 720x288 with 3 Axes>"
      ]
     },
     "metadata": {
      "needs_background": "light"
     },
     "output_type": "display_data"
    }
   ],
   "source": [
    "from sklearn.neighbors import KNeighborsClassifier\n",
    "\n",
    "make_model(model_df, scale=False, graphs=True, regressor=KNeighborsClassifier())"
   ]
  },
  {
   "cell_type": "code",
   "execution_count": 539,
   "metadata": {
    "ExecuteTime": {
     "end_time": "2021-07-20T16:51:46.312595Z",
     "start_time": "2021-07-20T16:51:44.428169Z"
    }
   },
   "outputs": [
    {
     "name": "stdout",
     "output_type": "stream",
     "text": [
      "Total number of samples: 5066\n",
      "------------------------------------------\n",
      "Logistic Regression Cross Validation Scores:\n",
      "[0.6        0.62200282 0.59802539 0.58956276 0.60084626]\n",
      "\n",
      "Cross validation mean: \t60.21%\n",
      "Training Accuracy: 74.48%\n",
      "Test Accuracy: 62.76%\n",
      "\n",
      "              precision    recall  f1-score   support\n",
      "\n",
      "           0       0.60      0.51      0.55       685\n",
      "           1       0.64      0.72      0.68       835\n",
      "\n",
      "    accuracy                           0.63      1520\n",
      "   macro avg       0.62      0.62      0.62      1520\n",
      "weighted avg       0.62      0.63      0.62      1520\n",
      "\n"
     ]
    },
    {
     "data": {
      "image/png": "[encoded data removed]",
      "text/plain": [
       "<Figure size 720x288 with 3 Axes>"
      ]
     },
     "metadata": {
      "needs_background": "light"
     },
     "output_type": "display_data"
    }
   ],
   "source": [
    "make_model(model_df, scale=True, graphs=True, \n",
    "           regressor=KNeighborsClassifier(), scaler=PowerTransformer())"
   ]
  },
  {
   "cell_type": "code",
   "execution_count": null,
   "metadata": {},
   "outputs": [],
   "source": []
  },
  {
   "cell_type": "markdown",
   "metadata": {},
   "source": [
    "# Neural Networks"
   ]
  },
  {
   "cell_type": "markdown",
   "metadata": {},
   "source": [
    "## MLP Classifier"
   ]
  },
  {
   "cell_type": "code",
   "execution_count": 540,
   "metadata": {
    "ExecuteTime": {
     "end_time": "2021-07-20T16:51:51.795003Z",
     "start_time": "2021-07-20T16:51:49.591507Z"
    }
   },
   "outputs": [
    {
     "name": "stdout",
     "output_type": "stream",
     "text": [
      "Total number of samples: 5066\n",
      "------------------------------------------\n",
      "Logistic Regression Cross Validation Scores:\n",
      "[0.66619718 0.68124118 0.67983075 0.64880113 0.65021157]\n",
      "\n",
      "Cross validation mean: \t66.53%\n",
      "Training Accuracy: 68.02%\n",
      "Test Accuracy: 67.24%\n",
      "\n",
      "              precision    recall  f1-score   support\n",
      "\n",
      "           0       0.66      0.56      0.61       685\n",
      "           1       0.68      0.77      0.72       835\n",
      "\n",
      "    accuracy                           0.67      1520\n",
      "   macro avg       0.67      0.66      0.66      1520\n",
      "weighted avg       0.67      0.67      0.67      1520\n",
      "\n"
     ]
    },
    {
     "data": {
      "image/png": "[encoded data removed]",
      "text/plain": [
       "<Figure size 720x288 with 3 Axes>"
      ]
     },
     "metadata": {
      "needs_background": "light"
     },
     "output_type": "display_data"
    }
   ],
   "source": [
    "from sklearn.neural_network import MLPClassifier\n",
    "\n",
    "make_model(model_df, scale=True, scaler=PowerTransformer(), graphs=True, \n",
    "           regressor=MLPClassifier(solver='lbfgs', alpha=1e-5, \n",
    "                                   hidden_layer_sizes=(5, 2), random_state=1))"
   ]
  },
  {
   "cell_type": "markdown",
   "metadata": {},
   "source": [
    "## CNN Model"
   ]
  },
  {
   "cell_type": "code",
   "execution_count": null,
   "metadata": {
    "ExecuteTime": {
     "end_time": "2021-07-20T15:02:32.182318Z",
     "start_time": "2021-07-20T15:02:30.287900Z"
    }
   },
   "outputs": [],
   "source": [
    "import pandas\n",
    "from keras.models import Sequential\n",
    "from keras.layers import Dense\n",
    "from keras.wrappers.scikit_learn import KerasClassifier\n",
    "from sklearn.model_selection import cross_val_score\n",
    "from sklearn.preprocessing import LabelEncoder\n",
    "from sklearn.model_selection import StratifiedKFold\n",
    "from sklearn.preprocessing import StandardScaler\n",
    "from sklearn.pipeline import Pipeline"
   ]
  },
  {
   "cell_type": "code",
   "execution_count": null,
   "metadata": {
    "ExecuteTime": {
     "end_time": "2021-07-20T14:56:25.747585Z",
     "start_time": "2021-07-20T14:56:25.730581Z"
    }
   },
   "outputs": [],
   "source": [
    "X"
   ]
  },
  {
   "cell_type": "code",
   "execution_count": null,
   "metadata": {
    "ExecuteTime": {
     "end_time": "2021-07-20T15:02:40.869082Z",
     "start_time": "2021-07-20T15:02:40.864081Z"
    }
   },
   "outputs": [],
   "source": [
    "model_df = df.copy()\n",
    "\n",
    "# Assigning X and y for train test split\n",
    "\n",
    "features = model_df.drop(['PlayerWin'], axis=1)\n",
    "target = model_df['PlayerWin']\n",
    "\n",
    "\n",
    "X = features\n",
    "Y = target\n",
    "\n",
    "Y=Y.astype('int')"
   ]
  },
  {
   "cell_type": "code",
   "execution_count": null,
   "metadata": {
    "ExecuteTime": {
     "end_time": "2021-07-20T15:02:45.157651Z",
     "start_time": "2021-07-20T15:02:45.153659Z"
    }
   },
   "outputs": [],
   "source": [
    "encoder = LabelEncoder()\n",
    "encoder.fit(Y)\n",
    "encoded_Y = encoder.transform(Y)"
   ]
  },
  {
   "cell_type": "code",
   "execution_count": null,
   "metadata": {
    "ExecuteTime": {
     "end_time": "2021-07-20T15:02:45.471722Z",
     "start_time": "2021-07-20T15:02:45.468722Z"
    }
   },
   "outputs": [],
   "source": [
    "\n",
    "# baseline model\n",
    "def create_baseline():\n",
    "\t# create model\n",
    "\tmodel = Sequential()\n",
    "\tmodel.add(Dense(12, input_dim=12, activation='relu'))\n",
    "\tmodel.add(Dense(1, activation='sigmoid'))\n",
    "\t# Compile model\n",
    "\tmodel.compile(loss='binary_crossentropy', optimizer='adam', metrics=['accuracy'])\n",
    "\treturn model"
   ]
  },
  {
   "cell_type": "code",
   "execution_count": null,
   "metadata": {
    "ExecuteTime": {
     "end_time": "2021-07-20T15:09:19.695069Z",
     "start_time": "2021-07-20T15:02:47.824721Z"
    },
    "scrolled": true
   },
   "outputs": [],
   "source": [
    "\n",
    "# evaluate model with standardized dataset\n",
    "estimator = KerasClassifier(build_fn=create_baseline, epochs=100, batch_size=5, verbose=True)\n",
    "kfold = StratifiedKFold(n_splits=10, shuffle=True)\n",
    "results = cross_val_score(estimator, X, encoded_Y, cv=kfold)\n",
    "print(\"Baseline: %.2f%% (%.2f%%)\" % (results.mean()*100, results.std()*100))"
   ]
  },
  {
   "cell_type": "code",
   "execution_count": null,
   "metadata": {},
   "outputs": [],
   "source": []
  },
  {
   "cell_type": "code",
   "execution_count": null,
   "metadata": {},
   "outputs": [],
   "source": []
  },
  {
   "cell_type": "markdown",
   "metadata": {},
   "source": [
    "### Investigating Models with more recent samples"
   ]
  },
  {
   "cell_type": "code",
   "execution_count": null,
   "metadata": {
    "ExecuteTime": {
     "end_time": "2021-07-15T23:07:47.344640Z",
     "start_time": "2021-07-15T23:07:47.206610Z"
    }
   },
   "outputs": [],
   "source": [
    "def make_many_models(df, head_list, scale=False):\n",
    "    for number in head_list:\n",
    "        make_model(df.head(number), scale=scale, graphs=False, slim=True)\n",
    "\n",
    "make_many_models(model_df, [3000, 2500, 2000, 1500, 1000, 750])"
   ]
  },
  {
   "cell_type": "markdown",
   "metadata": {},
   "source": [
    "## Time, K/D, Accuracy, Win Rate"
   ]
  },
  {
   "cell_type": "code",
   "execution_count": null,
   "metadata": {
    "ExecuteTime": {
     "end_time": "2021-07-15T23:00:15.841337Z",
     "start_time": "2021-07-15T22:59:59.598655Z"
    }
   },
   "outputs": [],
   "source": [
    "time_kd_acc_win_df = make_model_df(df, ['TotalTimePlayed', \n",
    "                              'K/D', 'Accuracy', 'WinRate'], \n",
    "                         None, None)\n",
    "\n",
    "make_model(model_df, scale=False, graphs=True)"
   ]
  },
  {
   "cell_type": "code",
   "execution_count": null,
   "metadata": {
    "ExecuteTime": {
     "end_time": "2021-07-15T23:20:37.667681Z",
     "start_time": "2021-07-15T23:20:37.270590Z"
    }
   },
   "outputs": [],
   "source": [
    "make_many_models(time_kd_acc_win_df, [4017, 3000, 2500, 2000, 1500, 1000, 750, 500], scale=False)"
   ]
  },
  {
   "cell_type": "markdown",
   "metadata": {},
   "source": [
    "## Time, Win Rate"
   ]
  },
  {
   "cell_type": "code",
   "execution_count": null,
   "metadata": {
    "ExecuteTime": {
     "end_time": "2021-07-15T23:06:11.725760Z",
     "start_time": "2021-07-15T23:06:03.640928Z"
    }
   },
   "outputs": [],
   "source": [
    "time_win_df = make_model_df(df, ['TotalTimePlayed', \n",
    "                              'WinRate'], \n",
    "                         None, None)"
   ]
  },
  {
   "cell_type": "code",
   "execution_count": null,
   "metadata": {
    "ExecuteTime": {
     "end_time": "2021-07-15T23:20:19.154426Z",
     "start_time": "2021-07-15T23:20:18.788352Z"
    }
   },
   "outputs": [],
   "source": [
    "make_many_models(time_win_df, [4017, 3000, 2500, 2000, 1500, 1000, 750, 500])"
   ]
  },
  {
   "cell_type": "code",
   "execution_count": null,
   "metadata": {},
   "outputs": [],
   "source": []
  },
  {
   "cell_type": "markdown",
   "metadata": {},
   "source": [
    "# Super Fiesta\n",
    "\n",
    "The reason I made this project\n",
    "\n",
    "## Super Fiesta Slayer\n",
    "\n",
    "## Husky Raid"
   ]
  },
  {
   "cell_type": "markdown",
   "metadata": {},
   "source": [
    "#### Super Fiesta"
   ]
  },
  {
   "cell_type": "code",
   "execution_count": null,
   "metadata": {
    "ExecuteTime": {
     "end_time": "2021-07-15T23:10:29.759869Z",
     "start_time": "2021-07-15T23:10:14.521424Z"
    }
   },
   "outputs": [],
   "source": [
    "super_fiesta_df = make_model_df(df, ['TotalTimePlayed', \n",
    "                              'K/D', 'Accuracy', 'WinRate'], \n",
    "                         None, 'Super Fiesta Party')"
   ]
  },
  {
   "cell_type": "code",
   "execution_count": null,
   "metadata": {
    "ExecuteTime": {
     "end_time": "2021-07-15T23:21:43.548413Z",
     "start_time": "2021-07-15T23:21:43.246355Z"
    }
   },
   "outputs": [],
   "source": [
    "make_many_models(super_fiesta_df, [3765, 3000, 2000, 1500, 1000, 750], scale=False)"
   ]
  },
  {
   "cell_type": "markdown",
   "metadata": {},
   "source": [
    "#### Super Fiesta Slayer"
   ]
  },
  {
   "cell_type": "code",
   "execution_count": null,
   "metadata": {
    "ExecuteTime": {
     "end_time": "2021-07-15T23:10:34.928042Z",
     "start_time": "2021-07-15T23:10:30.089944Z"
    }
   },
   "outputs": [],
   "source": [
    "super_fiesta_slayer_df = make_model_df(df, ['TotalTimePlayed', \n",
    "                              'K/D', 'Accuracy', 'WinRate'], \n",
    "                         'Slayer', 'Super Fiesta Party')"
   ]
  },
  {
   "cell_type": "code",
   "execution_count": null,
   "metadata": {
    "ExecuteTime": {
     "end_time": "2021-07-15T23:21:51.349241Z",
     "start_time": "2021-07-15T23:21:51.167210Z"
    }
   },
   "outputs": [],
   "source": [
    "make_many_models(super_fiesta_slayer_df, [1190, 900, 700, 500])"
   ]
  },
  {
   "cell_type": "code",
   "execution_count": null,
   "metadata": {
    "ExecuteTime": {
     "end_time": "2021-07-15T23:23:40.669565Z",
     "start_time": "2021-07-15T23:23:40.572551Z"
    }
   },
   "outputs": [],
   "source": [
    "make_many_models(super_fiesta_slayer_df, [1190, 900, 700, 500], scale=True)"
   ]
  },
  {
   "cell_type": "markdown",
   "metadata": {},
   "source": [
    "#### Husky Raid"
   ]
  },
  {
   "cell_type": "code",
   "execution_count": null,
   "metadata": {
    "ExecuteTime": {
     "end_time": "2021-07-15T23:10:44.305164Z",
     "start_time": "2021-07-15T23:10:35.128085Z"
    }
   },
   "outputs": [],
   "source": [
    "husky_raid_df = make_model_df(df, ['TotalTimePlayed', \n",
    "                              'K/D', 'Accuracy', 'WinRate'], \n",
    "                         'Capture the Flag', 'Super Fiesta Party')"
   ]
  },
  {
   "cell_type": "code",
   "execution_count": null,
   "metadata": {},
   "outputs": [],
   "source": [
    "husky_raid_df"
   ]
  },
  {
   "cell_type": "code",
   "execution_count": null,
   "metadata": {
    "ExecuteTime": {
     "end_time": "2021-07-15T23:11:12.971295Z",
     "start_time": "2021-07-15T23:11:12.640228Z"
    }
   },
   "outputs": [],
   "source": [
    "make_many_models(husky_raid_df, [2261, 1500, 1250, 1000, 900, 800, 600])"
   ]
  },
  {
   "cell_type": "markdown",
   "metadata": {},
   "source": [
    "## Best Dataframe - Time, Accuracy, K/D, Win Rate with 1000 samples"
   ]
  },
  {
   "cell_type": "markdown",
   "metadata": {},
   "source": [
    "## XGBoost"
   ]
  },
  {
   "cell_type": "code",
   "execution_count": null,
   "metadata": {
    "ExecuteTime": {
     "end_time": "2021-07-15T23:25:11.012312Z",
     "start_time": "2021-07-15T23:25:10.937303Z"
    }
   },
   "outputs": [],
   "source": [
    "from sklearn.naive_bayes import MultinomialNB\n",
    "from sklearn.svm import LinearSVC\n",
    "\n",
    "df = time_kd_acc_win_df.head(1000).copy()\n",
    "\n",
    "X = df.drop(['PlayerWin'], axis=1)\n",
    "y = df['PlayerWin']\n",
    "\n",
    "X_train, X_test, y_train, y_test = train_test_split(X, y, test_size=0.3, \n",
    "                                                    random_state=8)\n",
    "\n",
    "model_xgb = LinearSVC()\n",
    "model_xgb.fit(X_train, y_train)\n",
    "\n",
    "evaluate_model(model_xgb, X_train, X_test, y_train=y_train, y_test=y_test)"
   ]
  },
  {
   "cell_type": "markdown",
   "metadata": {},
   "source": [
    "# CNN"
   ]
  },
  {
   "cell_type": "code",
   "execution_count": null,
   "metadata": {},
   "outputs": [],
   "source": []
  },
  {
   "cell_type": "code",
   "execution_count": null,
   "metadata": {},
   "outputs": [],
   "source": []
  },
  {
   "cell_type": "code",
   "execution_count": null,
   "metadata": {},
   "outputs": [],
   "source": []
  },
  {
   "cell_type": "code",
   "execution_count": null,
   "metadata": {},
   "outputs": [],
   "source": []
  },
  {
   "cell_type": "code",
   "execution_count": null,
   "metadata": {},
   "outputs": [],
   "source": []
  },
  {
   "cell_type": "code",
   "execution_count": null,
   "metadata": {},
   "outputs": [],
   "source": []
  },
  {
   "cell_type": "code",
   "execution_count": null,
   "metadata": {},
   "outputs": [],
   "source": []
  },
  {
   "cell_type": "code",
   "execution_count": null,
   "metadata": {},
   "outputs": [],
   "source": []
  },
  {
   "cell_type": "code",
   "execution_count": null,
   "metadata": {},
   "outputs": [],
   "source": []
  },
  {
   "cell_type": "markdown",
   "metadata": {},
   "source": [
    "# This code successfully creates new values for one row"
   ]
  },
  {
   "cell_type": "code",
   "execution_count": null,
   "metadata": {},
   "outputs": [],
   "source": [
    "df = df2.head(3).copy()\n",
    "\n",
    "for index, row in df.iterrows():\n",
    "\n",
    "    # Set Variant ID\n",
    "    variant_id = df['GameBaseVariantId'].values[0]\n",
    "\n",
    "    # Define player / enemy variables\n",
    "    P1 = (df['P1'].values[0], 'P1')\n",
    "    P2 = (df['P2'].values[0], 'P2')\n",
    "    P3 = (df['P3'].values[0], 'P3')\n",
    "    roster = [P1, P2, P3]\n",
    "\n",
    "    # For loop to loop through player / enemy variables in dataframe    \n",
    "    for p in roster:        \n",
    "        i = 0   \n",
    "\n",
    "        # Loop through large all_players dictionary and find player / enemy gamertag\n",
    "        for player in all_players:\n",
    "            if all_players[i]['Id'] == p[0]:\n",
    "                print('found')\n",
    "\n",
    "                # Once gamertag found, locate game variant as specified by dataframe row\n",
    "                for variant in player['Result']['ArenaStats']['ArenaGameBaseVariantStats']:\n",
    "                    if variant['GameBaseVariantId'] == variant_id:\n",
    "\n",
    "                        # Create new column for TotalTimePlayed using P1, P2, E1, etc.\n",
    "                        df[p[1] + '_TotalTimePlayed'] = isodate.parse_duration(variant['TotalTimePlayed']).total_seconds() / 3600\n",
    "\n",
    "                i += 1\n",
    "    #                 else: \n",
    "    #                     continue\n",
    "            else:\n",
    "                i += 1\n",
    "                continue\n",
    "\n",
    "# df['P1_Time']\n",
    "\n",
    "df"
   ]
  },
  {
   "cell_type": "markdown",
   "metadata": {},
   "source": [
    "## Code below works to add P1_totaltimeplayed to dataframe"
   ]
  },
  {
   "cell_type": "code",
   "execution_count": null,
   "metadata": {},
   "outputs": [],
   "source": [
    "df = df2.head(1).copy()\n",
    "\n",
    "for index, row in df.iterrows():\n",
    "    P1 = df['P1'].values[0]\n",
    "    \n",
    "    # Set Variant ID\n",
    "    variant_id = df['GameBaseVariantId'].values[0]\n",
    "    \n",
    "    # Loop through all_players to pull out stats and add to dataframe\n",
    "    i = 0   \n",
    "    for player in all_players:\n",
    "        if all_players[i]['Id'] == P1:\n",
    "            print('found')\n",
    "            \n",
    "            for variant in player['Result']['ArenaStats']['ArenaGameBaseVariantStats']:\n",
    "                if variant['GameBaseVariantId'] == variant_id:\n",
    "                    df['P1_TotalTimePlayed'] = isodate.parse_duration(variant['TotalTimePlayed']).total_seconds() / 3600\n",
    "\n",
    "            i += 1\n",
    "#                 else: \n",
    "#                     continue\n",
    "        else:\n",
    "            i += 1\n",
    "            continue\n",
    "\n",
    "# df['P1_Time']\n",
    "\n",
    "df"
   ]
  },
  {
   "cell_type": "code",
   "execution_count": null,
   "metadata": {},
   "outputs": [],
   "source": [
    "#                     df['P1_K/D'] = variant['TotalKills'] / variant['TotalDeaths']\n",
    "#                     df['P1_Accuracy'] = variant['TotalShotsLanded'] / variant['TotalShotsFired']\n",
    "#                     df['P1_WinRate'] = variant['TotalGamesWon'] / variant['TotalGamesLost']"
   ]
  },
  {
   "cell_type": "code",
   "execution_count": null,
   "metadata": {},
   "outputs": [],
   "source": [
    "drymander_instance = []\n",
    "\n",
    "i = 0     \n",
    "for player in all_players:\n",
    "    if all_players[i]['Id'] == 'Ace Darkscythe':\n",
    "        print('found')\n",
    "        drymander_instance.append(player)\n",
    "        i += 1\n",
    "    else:\n",
    "        i += 1\n",
    "        continue"
   ]
  },
  {
   "cell_type": "code",
   "execution_count": null,
   "metadata": {},
   "outputs": [],
   "source": [
    "drymander_instance"
   ]
  },
  {
   "cell_type": "code",
   "execution_count": null,
   "metadata": {},
   "outputs": [],
   "source": []
  },
  {
   "cell_type": "code",
   "execution_count": null,
   "metadata": {},
   "outputs": [],
   "source": []
  },
  {
   "cell_type": "code",
   "execution_count": null,
   "metadata": {},
   "outputs": [],
   "source": []
  },
  {
   "cell_type": "code",
   "execution_count": null,
   "metadata": {},
   "outputs": [],
   "source": [
    "model_df = pd.DataFrame()\n",
    "\n",
    "model_df_columns = [\n",
    "    'PlayerWin',\n",
    "    'Player1',\n",
    "    'Player2',\n",
    "    'Player3',\n",
    "    'Player4',\n",
    "    'Enemy1',\n",
    "    'Enemy2',\n",
    "    'Enemy3',\n",
    "    'Enemy4',\n",
    "]\n",
    "\n",
    "model_df = pd.DataFrame(columns=model_df_columns)\n",
    "\n",
    "# model_df_spartanrank = model_df.copy()\n",
    "\n",
    "x = 1\n",
    "\n",
    "for match in tqdm(match_details[0:20]):\n",
    "# for match in tqdm(mds):\n",
    "    \n",
    "    try:\n",
    "        data = match\n",
    "        df_match = pd.DataFrame()\n",
    "        columns = [\n",
    "            'TeamId',\n",
    "            'Gamertag',\n",
    "            'SpartanRank',\n",
    "            'PrevTotalXP',\n",
    "        ]\n",
    "        df_match = pd.DataFrame(columns = columns)\n",
    "        i = 0\n",
    "\n",
    "        if len(data['PlayerStats']) != 8:\n",
    "            continue\n",
    "\n",
    "        for player in data['PlayerStats']:\n",
    "\n",
    "            player_dic = {}\n",
    "            # Team ID\n",
    "            player_dic['TeamId'] = data['PlayerStats'][i]['TeamId']\n",
    "            # Gamer Tag\n",
    "            player_dic['Gamertag'] = data['PlayerStats'][i]['Player']['Gamertag']\n",
    "            # Spartan Rank\n",
    "            player_dic['SpartanRank'] = data['PlayerStats'][i]['XpInfo']['SpartanRank']\n",
    "            # Previous Total XP\n",
    "            player_dic['PrevTotalXP'] = data['PlayerStats'][i]['XpInfo']['PrevTotalXP']\n",
    "            df_match = df_match.append(player_dic, ignore_index=True)\n",
    "            i += 1\n",
    "\n",
    "        model_row = {}\n",
    "\n",
    "        playerteam = df_match.loc[df_match['Gamertag'] == user, 'TeamId'].values[0]\n",
    "\n",
    "        if data['TeamStats'][0]['Rank'] == 1:\n",
    "            winner = 0\n",
    "        else: winner = 1\n",
    "\n",
    "        if winner == playerteam:\n",
    "            model_row['PlayerWin'] = 1\n",
    "        else:\n",
    "            model_row['PlayerWin'] = 0\n",
    "\n",
    "\n",
    "################\n",
    "        ## testing here\n",
    "        column = 'PrevTotalXP'\n",
    "################\n",
    "\n",
    "        player_xp_sort = df_match[column].loc[df_match['TeamId'] == playerteam].sort_values(ascending=False).values\n",
    "        enemy_xp_sort = df_match[column].loc[df_match['TeamId'] != playerteam].sort_values(ascending=False).values\n",
    "\n",
    "        model_row['Player1'] = player_xp_sort[0]\n",
    "        model_row['Player2'] = player_xp_sort[1]\n",
    "        model_row['Player3'] = player_xp_sort[2]\n",
    "        model_row['Player4'] = player_xp_sort[3]\n",
    "        model_row['Enemy1'] = enemy_xp_sort[0]\n",
    "        model_row['Enemy2'] = enemy_xp_sort[1]\n",
    "        model_row['Enemy3'] = enemy_xp_sort[2]\n",
    "        model_row['Enemy4'] = enemy_xp_sort[3]\n",
    "\n",
    "        model_df = model_df.append(model_row, ignore_index=True)\n",
    "\n",
    "    #     print(f\"{x} match collected out of {len(match_details_pickle_test)} :: {(x / len(match_details_pickle_test)) * 100}% complete.\")\n",
    "    #     x += 1\n",
    "    except:\n",
    "        continue\n",
    "    \n",
    "model_df.head()\n",
    "\n"
   ]
  },
  {
   "cell_type": "code",
   "execution_count": null,
   "metadata": {},
   "outputs": [],
   "source": []
  },
  {
   "cell_type": "code",
   "execution_count": null,
   "metadata": {},
   "outputs": [],
   "source": []
  },
  {
   "cell_type": "code",
   "execution_count": null,
   "metadata": {},
   "outputs": [],
   "source": []
  },
  {
   "cell_type": "code",
   "execution_count": null,
   "metadata": {},
   "outputs": [],
   "source": []
  },
  {
   "cell_type": "code",
   "execution_count": null,
   "metadata": {},
   "outputs": [],
   "source": []
  },
  {
   "cell_type": "code",
   "execution_count": null,
   "metadata": {},
   "outputs": [],
   "source": []
  },
  {
   "cell_type": "code",
   "execution_count": null,
   "metadata": {},
   "outputs": [],
   "source": []
  },
  {
   "cell_type": "code",
   "execution_count": null,
   "metadata": {},
   "outputs": [],
   "source": []
  },
  {
   "cell_type": "markdown",
   "metadata": {},
   "source": [
    "## Pull Match"
   ]
  },
  {
   "cell_type": "markdown",
   "metadata": {},
   "source": [
    "### Basic"
   ]
  },
  {
   "cell_type": "code",
   "execution_count": null,
   "metadata": {
    "ExecuteTime": {
     "end_time": "2021-06-29T19:30:39.507939Z",
     "start_time": "2021-06-29T19:30:39.304256Z"
    }
   },
   "outputs": [],
   "source": [
    "import http.client, urllib.request, urllib.parse, urllib.error, base64\n",
    "\n",
    "matchId = df['MatchId'][0]\n",
    "\n",
    "headers = {\n",
    "    # Request headers\n",
    "    'Ocp-Apim-Subscription-Key': api_key,\n",
    "}\n",
    "\n",
    "params = urllib.parse.urlencode({\n",
    "})\n",
    "\n",
    "try:\n",
    "    conn = http.client.HTTPSConnection('www.haloapi.com')\n",
    "    conn.request(\"GET\", f\"/stats/h5/arena/matches/{matchId}?%s\" % params, \"{body}\", headers)\n",
    "    response = conn.getresponse()\n",
    "#     data = response.read().decode('utf-8')\n",
    "#     json = json.loads(data)\n",
    "#     print(data)\n",
    "    data = response.read()\n",
    "    data = json.loads(data)\n",
    "    print(data)\n",
    "    conn.close()\n",
    "except Exception as e:\n",
    "    print(\"[Errno {0}] {1}\".format(e.errno, e.strerror))\n",
    "\n",
    "####################################"
   ]
  },
  {
   "cell_type": "code",
   "execution_count": null,
   "metadata": {
    "ExecuteTime": {
     "end_time": "2021-06-29T19:32:02.883825Z",
     "start_time": "2021-06-29T19:32:02.658414Z"
    }
   },
   "outputs": [],
   "source": [
    "# match_stats = []\n",
    "\n",
    "# match_stats.append(json1)\n",
    "# match_stats.append(json2)\n",
    "\n",
    "# match_stats\n",
    "\n",
    "# pd.DataFrame(match_stats)\n",
    "\n",
    "# df['MatchId']"
   ]
  },
  {
   "cell_type": "markdown",
   "metadata": {},
   "source": [
    "### Multiple"
   ]
  },
  {
   "cell_type": "code",
   "execution_count": null,
   "metadata": {
    "ExecuteTime": {
     "end_time": "2021-07-01T22:20:36.955428Z",
     "start_time": "2021-07-01T20:11:02.966555Z"
    },
    "scrolled": true
   },
   "outputs": [],
   "source": [
    "run = True\n",
    "\n",
    "if run == True:\n",
    "    headers = {\n",
    "        # Request headers\n",
    "        'Ocp-Apim-Subscription-Key': api_key,\n",
    "    }\n",
    "\n",
    "    params = urllib.parse.urlencode({\n",
    "    })\n",
    "\n",
    "#     match_list = ['babfb117-9d14-407a-ae45-3647de5a48f9',\n",
    "#                  '951683b7-8135-4937-a1a0-8bacc9c34659',\n",
    "#                  '10010481-1be2-462b-9774-eac5ee152045',\n",
    "#                  'd8964123-992f-4dd9-8555-40b76a98d4e1',\n",
    "#                  'c86a93e7-4842-4443-9b90-875b20e3846e']\n",
    "\n",
    "    match_list = df['MatchId']\n",
    "\n",
    "    match_details = []\n",
    "\n",
    "    i = 0\n",
    "\n",
    "    for match in match_list:\n",
    "        try:\n",
    "            conn = http.client.HTTPSConnection('www.haloapi.com')\n",
    "    #         conn.request(\"GET\", f\"/stats/h5/arena/matches/{match[i]}?%s\" % params, \"{body}\", headers)\n",
    "            conn.request(\"GET\", f\"/stats/h5/arena/matches/{match}?%s\" % params, \"{body}\", headers)\n",
    "            response = conn.getresponse()\n",
    "            data = response.read()\n",
    "            data = json.loads(data)\n",
    "            match_details.append(data)\n",
    "    #         print(data)\n",
    "            conn.close()\n",
    "            i += 1\n",
    "            time.sleep(1.1)\n",
    "\n",
    "            print(f\"Match {match} collected and appended to match_details.\")\n",
    "            print(f\"{i} match collected out of {len(match_list)} :: {(i / len(match_list)) * 100}% complete.\")\n",
    "        except Exception as e:\n",
    "            print(\"error\")\n",
    "\n",
    "#     with open('match_details.pkl', 'wb') as match_details_pickle:\n",
    "#         pickle.dump(match_details, match_details_pickle)\n",
    "        \n",
    "else: \n",
    "    print(\"To run, set run = True\")\n",
    "    print(\"WARNING - this will overwrite the pickle file\")"
   ]
  },
  {
   "cell_type": "code",
   "execution_count": null,
   "metadata": {},
   "outputs": [],
   "source": [
    "data = match_details[2]"
   ]
  },
  {
   "cell_type": "code",
   "execution_count": null,
   "metadata": {
    "ExecuteTime": {
     "end_time": "2021-07-01T22:22:10.202799Z",
     "start_time": "2021-07-01T22:20:57.641339Z"
    }
   },
   "outputs": [],
   "source": [
    "with open('match_details.pkl', 'rb') as match_details_pickle:\n",
    "    match_details_pickle_test = pickle.load(match_details_pickle)\n",
    "    \n",
    "# mds = match_details_pickle_test[0:20]"
   ]
  },
  {
   "cell_type": "code",
   "execution_count": null,
   "metadata": {
    "ExecuteTime": {
     "end_time": "2021-07-01T22:23:32.968311Z",
     "start_time": "2021-07-01T22:23:32.778373Z"
    }
   },
   "outputs": [],
   "source": [
    "len(match_details_pickle_test)\n",
    "\n",
    "match_details_id = match_details_pickle_test.copy()"
   ]
  },
  {
   "cell_type": "code",
   "execution_count": null,
   "metadata": {},
   "outputs": [],
   "source": [
    "len(df['MatchId'])\n",
    "\n",
    "df['MatchId'].iloc[500]\n",
    "\n",
    "df['MatchId'].iloc[5902]"
   ]
  },
  {
   "cell_type": "markdown",
   "metadata": {},
   "source": [
    "## Adding MatchID to Match Details\n",
    "\n",
    "MatchID is not included in match results for some reason"
   ]
  },
  {
   "cell_type": "code",
   "execution_count": null,
   "metadata": {},
   "outputs": [],
   "source": [
    "# match_id_add = match_details_pickle_test[0]\n",
    "\n",
    "type(match_id_add)\n",
    "\n",
    "match_id_add['MatchId'] = df['MatchId'].iloc[500]\n",
    "\n",
    "match_id_add['MatchId']"
   ]
  },
  {
   "cell_type": "code",
   "execution_count": null,
   "metadata": {},
   "outputs": [],
   "source": [
    "i = 0\n",
    "\n",
    "for match in match_details_id:\n",
    "    match['MatchId'] = df['MatchId'].iloc[i]\n",
    "    i += 1"
   ]
  },
  {
   "cell_type": "code",
   "execution_count": null,
   "metadata": {},
   "outputs": [],
   "source": [
    "i = 5902\n",
    "\n",
    "print(match_details_id[i]['MatchId'])\n",
    "\n",
    "print(df['MatchId'].iloc[i])"
   ]
  },
  {
   "cell_type": "code",
   "execution_count": null,
   "metadata": {},
   "outputs": [],
   "source": [
    "match_details_id[0]"
   ]
  },
  {
   "cell_type": "markdown",
   "metadata": {},
   "source": [
    "## Match Details to Dataframe\n",
    "\n",
    "Here we are going to try and pull out the data in individual columns rather than working with a massive dataframe."
   ]
  },
  {
   "cell_type": "code",
   "execution_count": null,
   "metadata": {},
   "outputs": [],
   "source": [
    "# data = json.loads(data)\n",
    "\n",
    "match_details = mds"
   ]
  },
  {
   "cell_type": "code",
   "execution_count": null,
   "metadata": {},
   "outputs": [],
   "source": [
    "model_df = pd.DataFrame()\n",
    "\n",
    "model_df_columns = [\n",
    "    'PlayerWin',\n",
    "    'Player1',\n",
    "    'Player2',\n",
    "    'Player3',\n",
    "    'Player4',\n",
    "    'Enemy1',\n",
    "    'Enemy2',\n",
    "    'Enemy3',\n",
    "    'Enemy4',\n",
    "]\n",
    "\n",
    "model_df = pd.DataFrame(columns=model_df_columns)\n",
    "\n",
    "model_df"
   ]
  },
  {
   "cell_type": "code",
   "execution_count": null,
   "metadata": {},
   "outputs": [],
   "source": [
    "# match_details_pickle_test[0]\n",
    "data = match_details_pickle_test[2]\n",
    "\n",
    "data"
   ]
  },
  {
   "cell_type": "code",
   "execution_count": null,
   "metadata": {},
   "outputs": [],
   "source": [
    "i = 0\n",
    "\n",
    "df_match = pd.DataFrame()\n",
    "columns = [\n",
    "    'TeamId',\n",
    "    'Gamertag',\n",
    "    'SpartanRank',\n",
    "    'PrevTotalXP',\n",
    "]\n",
    "df_match = pd.DataFrame(columns = columns)\n",
    "\n",
    "for player in data['PlayerStats']:\n",
    "\n",
    "    player_dic = {}\n",
    "    # Team ID\n",
    "    player_dic['TeamId'] = data['PlayerStats'][i]['TeamId']\n",
    "    # Gamer Tag\n",
    "    player_dic['Gamertag'] = data['PlayerStats'][i]['Player']['Gamertag']\n",
    "    # Spartan Rank\n",
    "    player_dic['SpartanRank'] = data['PlayerStats'][i]['XpInfo']['SpartanRank']\n",
    "    # Previous Total XP\n",
    "    player_dic['PrevTotalXP'] = data['PlayerStats'][i]['XpInfo']['PrevTotalXP']\n",
    "    df_match = df_match.append(player_dic, ignore_index=True)\n",
    "    i += 1\n",
    "    \n",
    "df_match\n",
    "\n",
    "playerteam = df_match.loc[df_match['Gamertag'] == user, 'TeamId'].values[0]\n",
    "\n",
    "playerteam\n",
    "\n",
    "df_match_player = df_match.loc[df_match['TeamId'] == playerteam]\n",
    "df_match_enemy = df_match.loc[df_match['TeamId'] != playerteam]\n",
    "\n",
    "# df_match_player\n",
    "\n",
    "# df_match_player['Gamertag'].iloc[0]\n",
    "\n",
    "# df_match.loc[df_match['Gamertag'] == user, 'TeamId'].values[0]\n",
    "# df_match['Gamertag'] == user, 'TeamId'\n",
    "\n",
    "# data['PlayerStats'][5]['TeamId']\n",
    "\n",
    "df_match"
   ]
  },
  {
   "cell_type": "code",
   "execution_count": null,
   "metadata": {},
   "outputs": [],
   "source": [
    "data = match_details_pickle_test[0:6]\n",
    "\n",
    "data"
   ]
  },
  {
   "cell_type": "markdown",
   "metadata": {},
   "source": [
    "# Dataframe with Gamertags"
   ]
  },
  {
   "cell_type": "code",
   "execution_count": null,
   "metadata": {},
   "outputs": [],
   "source": [
    "model_df = pd.DataFrame()\n",
    "\n",
    "model_df_columns = [\n",
    "    'PlayerWin',\n",
    "    'Player1',\n",
    "    'Player2',\n",
    "    'Player3',\n",
    "    'Player4',\n",
    "    'Enemy1',\n",
    "    'Enemy2',\n",
    "    'Enemy3',\n",
    "    'Enemy4',\n",
    "    'MatchId',\n",
    "]\n",
    "\n",
    "model_df = pd.DataFrame(columns=model_df_columns)\n",
    "\n",
    "# model_df_spartanrank = model_df.copy()\n",
    "\n",
    "x = 1\n",
    "\n",
    "for match in tqdm(match_details_pickle_test[0:5]):\n",
    "# for match in tqdm(mds):\n",
    "    \n",
    "#     try:\n",
    "        data = match\n",
    "        df_match = pd.DataFrame()\n",
    "        columns = [\n",
    "            'TeamId',\n",
    "            'Gamertag',\n",
    "            'SpartanRank',\n",
    "            'PrevTotalXP',\n",
    "        ]\n",
    "        df_match = pd.DataFrame(columns = columns)\n",
    "        i = 0\n",
    "\n",
    "        if len(data['PlayerStats']) != 8:\n",
    "            continue\n",
    "\n",
    "        for player in data['PlayerStats']:\n",
    "\n",
    "            player_dic = {}\n",
    "            # Team ID\n",
    "            player_dic['TeamId'] = data['PlayerStats'][i]['TeamId']\n",
    "            # Gamer Tag\n",
    "            player_dic['Gamertag'] = data['PlayerStats'][i]['Player']['Gamertag']\n",
    "            # Spartan Rank\n",
    "            player_dic['SpartanRank'] = data['PlayerStats'][i]['XpInfo']['SpartanRank']\n",
    "            # Previous Total XP\n",
    "            player_dic['PrevTotalXP'] = data['PlayerStats'][i]['XpInfo']['PrevTotalXP']\n",
    "            df_match = df_match.append(player_dic, ignore_index=True)\n",
    "            i += 1\n",
    "\n",
    "        model_row = {}\n",
    "\n",
    "        playerteam = df_match.loc[df_match['Gamertag'] == user, 'TeamId'].values[0]\n",
    "\n",
    "        if data['TeamStats'][0]['Rank'] == 1:\n",
    "            winner = 0\n",
    "        else: winner = 1\n",
    "\n",
    "        if winner == playerteam:\n",
    "            model_row['PlayerWin'] = 1\n",
    "        else:\n",
    "            model_row['PlayerWin'] = 0\n",
    "\n",
    "\n",
    "################\n",
    "        ## testing here\n",
    "#         column = 'PrevTotalXP'\n",
    "################\n",
    "        \n",
    "#         player_xp_sort = df_match[column].loc[df_match['TeamId'] == playerteam].sort_values(ascending=False).values\n",
    "#         enemy_xp_sort = df_match[column].loc[df_match['TeamId'] != playerteam].sort_values(ascending=False).values\n",
    "        \n",
    "        df_match_player = df_match.loc[df_match['TeamId'] == playerteam]\n",
    "        df_match_enemy = df_match.loc[df_match['TeamId'] != playerteam]\n",
    "        model_row['Player1'] = df_match_player['Gamertag'].iloc[0]\n",
    "        model_row['Player2'] = df_match_player['Gamertag'].iloc[1]\n",
    "        model_row['Player3'] = df_match_player['Gamertag'].iloc[2]\n",
    "        model_row['Player4'] = df_match_player['Gamertag'].iloc[3]\n",
    "        model_row['Enemy1'] = df_match_enemy['Gamertag'].iloc[0]\n",
    "        model_row['Enemy2'] = df_match_enemy['Gamertag'].iloc[1]\n",
    "        model_row['Enemy3'] = df_match_enemy['Gamertag'].iloc[2]\n",
    "        model_row['Enemy4'] = df_match_enemy['Gamertag'].iloc[3]\n",
    "\n",
    "        model_df = model_df.append(model_row, ignore_index=True)\n",
    "\n",
    "    #     print(f\"{x} match collected out of {len(match_details_pickle_test)} :: {(x / len(match_details_pickle_test)) * 100}% complete.\")\n",
    "    #     x += 1\n",
    "#     except:\n",
    "#         continue\n",
    "    \n",
    "model_df.head()\n",
    "\n",
    "# model_row"
   ]
  },
  {
   "cell_type": "code",
   "execution_count": null,
   "metadata": {},
   "outputs": [],
   "source": []
  },
  {
   "cell_type": "code",
   "execution_count": null,
   "metadata": {},
   "outputs": [],
   "source": [
    "df_match_player = df_match.loc[df_match['TeamId'] == playerteam]\n",
    "df_match_enemy = df_match.loc[df_match['TeamId'] != playerteam]\n",
    "model_row['Player1'] = df_match_player['Gamertag'].iloc[0]\n",
    "model_row['Player2'] = df_match_player['Gamertag'].iloc[1]\n",
    "model_row['Player3'] = df_match_player['Gamertag'].iloc[2]\n",
    "model_row['Player4'] = df_match_player['Gamertag'].iloc[3]\n",
    "model_row['Enemy1'] = df_match_enemy['Gamertag'].iloc[0]\n",
    "model_row['Enemy2'] = df_match_enemy['Gamertag'].iloc[1]\n",
    "model_row['Enemy3'] = df_match_enemy['Gamertag'].iloc[2]\n",
    "model_row['Enemy4'] = df_match_enemy['Gamertag'].iloc[3]\n",
    "#         model_row['MatchId'] = match['MatchId']\n",
    "print(model_row)\n",
    "model_df = model_df.append(model_row, ignore_index=True)"
   ]
  },
  {
   "cell_type": "markdown",
   "metadata": {},
   "source": [
    "# Player History for more detailed stats per match"
   ]
  },
  {
   "cell_type": "markdown",
   "metadata": {},
   "source": [
    "## Player Arena History"
   ]
  },
  {
   "cell_type": "code",
   "execution_count": null,
   "metadata": {},
   "outputs": [],
   "source": [
    "player_list = model_df.iloc[0].tolist()\n",
    "player_list = str(str(player_list[1:9]))[1:-1]\n",
    "# player_list str(test_list)[1:-1]\n",
    "\n",
    "player_list\n",
    "player_list = player_list.replace(', ',',')\n",
    "player_list = player_list.replace(\"'\",'')\n",
    "player_list = player_list.replace(' ','+')\n",
    "\n",
    "\n",
    "player_list"
   ]
  },
  {
   "cell_type": "code",
   "execution_count": null,
   "metadata": {},
   "outputs": [],
   "source": []
  },
  {
   "cell_type": "code",
   "execution_count": null,
   "metadata": {
    "ExecuteTime": {
     "end_time": "2021-07-01T17:05:33.921928Z",
     "start_time": "2021-07-01T17:05:32.644678Z"
    }
   },
   "outputs": [],
   "source": [
    "\n",
    "########### Python 3.2 #############\n",
    "import http.client, urllib.request, urllib.parse, urllib.error, base64\n",
    "\n",
    "players = player_list\n",
    "\n",
    "headers = {\n",
    "    # Request headers\n",
    "    'Ocp-Apim-Subscription-Key': str(api_key),\n",
    "}\n",
    "\n",
    "params = urllib.parse.urlencode({\n",
    "    # Request parameters\n",
    "#     'seasonId': '{string}',\n",
    "\n",
    "\n",
    "    \n",
    "})\n",
    "\n",
    "try:\n",
    "    conn = http.client.HTTPSConnection('www.haloapi.com')\n",
    "    conn.request(\"GET\", f\"/stats/h5/servicerecords/arena?players={player_list}&%s\" % params, \"{body}\", headers)\n",
    "#     conn.request(\"GET\", f\"/stats/h5/servicerecords/arena?players=jAngLes+rAgEs+x&%s\" % params, \"{body}\", headers)\n",
    "    \n",
    "    response = conn.getresponse()\n",
    "    data = response.read()\n",
    "    print(data)\n",
    "    conn.close()\n",
    "except Exception as e:\n",
    "    print(\"[Errno {0}] {1}\".format(e.errno, e.strerror))\n",
    "\n",
    "####################################\n"
   ]
  },
  {
   "cell_type": "code",
   "execution_count": null,
   "metadata": {},
   "outputs": [],
   "source": []
  },
  {
   "cell_type": "code",
   "execution_count": null,
   "metadata": {},
   "outputs": [],
   "source": []
  },
  {
   "cell_type": "markdown",
   "metadata": {},
   "source": [
    "# Model DF"
   ]
  },
  {
   "cell_type": "code",
   "execution_count": null,
   "metadata": {},
   "outputs": [],
   "source": [
    "model_df = pd.DataFrame()\n",
    "\n",
    "model_df_columns = [\n",
    "    'PlayerWin',\n",
    "    'Player1',\n",
    "    'Player2',\n",
    "    'Player3',\n",
    "    'Player4',\n",
    "    'Enemy1',\n",
    "    'Enemy2',\n",
    "    'Enemy3',\n",
    "    'Enemy4',\n",
    "]\n",
    "\n",
    "model_df = pd.DataFrame(columns=model_df_columns)\n",
    "\n",
    "# model_df_spartanrank = model_df.copy()\n",
    "\n",
    "x = 1\n",
    "\n",
    "for match in tqdm(match_details_pickle_test):\n",
    "# for match in tqdm(mds):\n",
    "    \n",
    "    try:\n",
    "        data = match\n",
    "        df_match = pd.DataFrame()\n",
    "        columns = [\n",
    "            'TeamId',\n",
    "            'Gamertag',\n",
    "            'SpartanRank',\n",
    "            'PrevTotalXP',\n",
    "        ]\n",
    "        df_match = pd.DataFrame(columns = columns)\n",
    "        i = 0\n",
    "\n",
    "        if len(data['PlayerStats']) != 8:\n",
    "            continue\n",
    "\n",
    "        for player in data['PlayerStats']:\n",
    "\n",
    "            player_dic = {}\n",
    "            # Team ID\n",
    "            player_dic['TeamId'] = data['PlayerStats'][i]['TeamId']\n",
    "            # Gamer Tag\n",
    "            player_dic['Gamertag'] = data['PlayerStats'][i]['Player']['Gamertag']\n",
    "            # Spartan Rank\n",
    "            player_dic['SpartanRank'] = data['PlayerStats'][i]['XpInfo']['SpartanRank']\n",
    "            # Previous Total XP\n",
    "            player_dic['PrevTotalXP'] = data['PlayerStats'][i]['XpInfo']['PrevTotalXP']\n",
    "            df_match = df_match.append(player_dic, ignore_index=True)\n",
    "            i += 1\n",
    "\n",
    "        model_row = {}\n",
    "\n",
    "        playerteam = df_match.loc[df_match['Gamertag'] == user, 'TeamId'].values[0]\n",
    "\n",
    "        if data['TeamStats'][0]['Rank'] == 1:\n",
    "            winner = 0\n",
    "        else: winner = 1\n",
    "\n",
    "        if winner == playerteam:\n",
    "            model_row['PlayerWin'] = 1\n",
    "        else:\n",
    "            model_row['PlayerWin'] = 0\n",
    "\n",
    "\n",
    "################\n",
    "        ## testing here\n",
    "        column = 'PrevTotalXP'\n",
    "################\n",
    "\n",
    "        player_xp_sort = df_match[column].loc[df_match['TeamId'] == playerteam].sort_values(ascending=False).values\n",
    "        enemy_xp_sort = df_match[column].loc[df_match['TeamId'] != playerteam].sort_values(ascending=False).values\n",
    "\n",
    "        model_row['Player1'] = player_xp_sort[0]\n",
    "        model_row['Player2'] = player_xp_sort[1]\n",
    "        model_row['Player3'] = player_xp_sort[2]\n",
    "        model_row['Player4'] = player_xp_sort[3]\n",
    "        model_row['Enemy1'] = enemy_xp_sort[0]\n",
    "        model_row['Enemy2'] = enemy_xp_sort[1]\n",
    "        model_row['Enemy3'] = enemy_xp_sort[2]\n",
    "        model_row['Enemy4'] = enemy_xp_sort[3]\n",
    "\n",
    "        model_df = model_df.append(model_row, ignore_index=True)\n",
    "\n",
    "    #     print(f\"{x} match collected out of {len(match_details_pickle_test)} :: {(x / len(match_details_pickle_test)) * 100}% complete.\")\n",
    "    #     x += 1\n",
    "    except:\n",
    "        continue\n",
    "    \n",
    "model_df.head()\n",
    "\n"
   ]
  },
  {
   "cell_type": "code",
   "execution_count": null,
   "metadata": {},
   "outputs": [],
   "source": [
    "xp_df = model_df.copy()"
   ]
  },
  {
   "cell_type": "code",
   "execution_count": null,
   "metadata": {},
   "outputs": [],
   "source": [
    "# model_df.to_csv('first_model.csv')\n",
    "\n",
    "model_df_spartanrank.to_csv('spartanrank.csv')"
   ]
  },
  {
   "cell_type": "code",
   "execution_count": null,
   "metadata": {},
   "outputs": [],
   "source": [
    "model_df_spartanrank"
   ]
  },
  {
   "cell_type": "code",
   "execution_count": null,
   "metadata": {},
   "outputs": [],
   "source": [
    "# model_df = model_df.replace(100000000, 50000000)"
   ]
  },
  {
   "cell_type": "code",
   "execution_count": null,
   "metadata": {},
   "outputs": [],
   "source": [
    "# model_1000 = model_df[0:1000]"
   ]
  },
  {
   "cell_type": "code",
   "execution_count": null,
   "metadata": {},
   "outputs": [],
   "source": [
    "xp_df = pd.DataFrame()\n",
    "\n",
    "xp_df['PlayerWin'] = model_df['PlayerWin']\n",
    "xp_df['PlayerXp'] = model_df['Player1'] + model_df['Player2'] + model_df['Player3'] + model_df['Player4']\n",
    "xp_df['EnemyXp'] = model_df['Enemy1'] + model_df['Enemy2'] + model_df['Enemy3'] + model_df['Enemy4']\n",
    "\n",
    "xp_df"
   ]
  },
  {
   "cell_type": "code",
   "execution_count": null,
   "metadata": {},
   "outputs": [],
   "source": [
    "model_df.head()"
   ]
  },
  {
   "cell_type": "markdown",
   "metadata": {},
   "source": [
    "# Model"
   ]
  },
  {
   "cell_type": "code",
   "execution_count": null,
   "metadata": {},
   "outputs": [],
   "source": [
    "# Assigning X and y for train test split\n",
    "\n",
    "features = model_df.drop(['PlayerWin'], axis=1)\n",
    "target = model_df['PlayerWin']\n",
    "\n",
    "\n",
    "X = features\n",
    "y = target\n",
    "\n",
    "y=y.astype('int')\n",
    "\n",
    "X_train, X_test, y_train, y_test = train_test_split(X, y, test_size=0.3, \n",
    "                                                    random_state=8)\n",
    "\n",
    "print(X_train.shape)\n",
    "print(X_test.shape)"
   ]
  },
  {
   "cell_type": "code",
   "execution_count": null,
   "metadata": {},
   "outputs": [],
   "source": [
    "model_log = LogisticRegression(random_state=8)\n",
    "model_log.fit(X_train, y_train)"
   ]
  },
  {
   "cell_type": "code",
   "execution_count": null,
   "metadata": {},
   "outputs": [],
   "source": [
    "def evaluate_model(model, X_train, X_test, y_train=y_train, \n",
    "                   y_test=y_test, cmap='Greens', normalize=None,\n",
    "                   classes=None,figsize=(10,4)):\n",
    "    \n",
    "    \"\"\"\n",
    "    model :: classifier user desires to evaluate\n",
    "    X_train :: X training data\n",
    "    X_test :: X test data\n",
    "    y_train :: y_train data\n",
    "    y_test :: y_train data\n",
    "    cmap :: color palette of confusion matrix\n",
    "    normalize :: set to True if normalized confusion matrix is desired\n",
    "    figsize :: desired plot size\n",
    "\n",
    "    \"\"\"\n",
    "    \n",
    "    # Print model accuracy\n",
    "    print(f'Training Accuracy: {model.score(X_train,y_train):.2%}')\n",
    "    print(f'Test Accuracy: {model.score(X_test,y_test):.2%}')\n",
    "    print('')\n",
    "    \n",
    "    # Print classification report\n",
    "    y_test_predict = model.predict(X_test)\n",
    "    print(metrics.classification_report(y_test, y_test_predict,\n",
    "                                        target_names=classes))\n",
    "    \n",
    "    # Plot confusion matrix\n",
    "    fig,ax = plt.subplots(ncols=2,figsize=figsize)\n",
    "    metrics.plot_confusion_matrix(model, X_test,y_test,cmap=cmap, \n",
    "                                  normalize=normalize,display_labels=classes,\n",
    "                                  ax=ax[0])\n",
    "    \n",
    "    #Plot ROC curves\n",
    "    with sns.axes_style(\"darkgrid\"):\n",
    "        curve = metrics.plot_roc_curve(model,X_train,y_train,ax=ax[1])\n",
    "        curve2 = metrics.plot_roc_curve(model,X_test,y_test,ax=ax[1])\n",
    "        curve.ax_.grid()\n",
    "        curve.ax_.plot([0,1],[0,1],ls=':')\n",
    "        fig.tight_layout()\n",
    "        plt.show()"
   ]
  },
  {
   "cell_type": "code",
   "execution_count": null,
   "metadata": {},
   "outputs": [],
   "source": [
    "evaluate_model(model_log, X_train, X_test)"
   ]
  },
  {
   "cell_type": "code",
   "execution_count": null,
   "metadata": {},
   "outputs": [],
   "source": [
    "y.value_counts()"
   ]
  },
  {
   "cell_type": "code",
   "execution_count": null,
   "metadata": {},
   "outputs": [],
   "source": []
  },
  {
   "cell_type": "code",
   "execution_count": null,
   "metadata": {},
   "outputs": [],
   "source": []
  },
  {
   "cell_type": "code",
   "execution_count": null,
   "metadata": {},
   "outputs": [],
   "source": []
  },
  {
   "cell_type": "code",
   "execution_count": null,
   "metadata": {},
   "outputs": [],
   "source": [
    "df_mr = pd.DataFrame()\n",
    "\n",
    "df_mr_columns = [\n",
    "    'PlayerWin',\n",
    "    'Player1',\n",
    "    'Player2',\n",
    "    'Player3',\n",
    "    'Player4',\n",
    "    'Enemy1',\n",
    "    'Enemy2',\n",
    "    'Enemy3',\n",
    "    'Enemy4',\n",
    "]\n",
    "\n",
    "df_mr = pd.DataFrame(columns=df_mr_columns)\n",
    "\n",
    "df_mr"
   ]
  },
  {
   "cell_type": "markdown",
   "metadata": {},
   "source": [
    "### Winner Column"
   ]
  },
  {
   "cell_type": "code",
   "execution_count": null,
   "metadata": {},
   "outputs": [],
   "source": [
    "model_row = {}\n",
    "\n",
    "playerteam = df_match.loc[df_match['Gamertag'] == user, 'TeamId'].values[0]\n",
    "\n",
    "playerteam\n",
    "\n",
    "if data['TeamStats'][0]['Rank'] == 1:\n",
    "    winner = 0\n",
    "else: winner = 1\n",
    "\n",
    "if winner == playerteam:\n",
    "    model_row['PlayerWin'] = 1\n",
    "else:\n",
    "    model_row['PlayerWin'] = 0\n",
    "\n",
    "winner\n",
    "playerteam\n",
    "\n",
    "model_row"
   ]
  },
  {
   "cell_type": "markdown",
   "metadata": {},
   "source": [
    "### Player 1-4"
   ]
  },
  {
   "cell_type": "code",
   "execution_count": null,
   "metadata": {},
   "outputs": [],
   "source": [
    "player_xp_sort = df_match['PrevTotalXP'].loc[df_match['TeamId'] == playerteam].sort_values(ascending=False).values\n",
    "enemy_xp_sort = df_match['PrevTotalXP'].loc[df_match['TeamId'] != playerteam].sort_values(ascending=False).values\n",
    "\n",
    "model_row['Player1'] = player_xp_sort[0]\n",
    "model_row['Player2'] = player_xp_sort[1]\n",
    "model_row['Player3'] = player_xp_sort[2]\n",
    "model_row['Player4'] = player_xp_sort[3]\n",
    "model_row['Enemy1'] = enemy_xp_sort[0]\n",
    "model_row['Enemy2'] = enemy_xp_sort[1]\n",
    "model_row['Enemy3'] = enemy_xp_sort[2]\n",
    "model_row['Enemy4'] = enemy_xp_sort[3]\n",
    "\n",
    "model_row"
   ]
  },
  {
   "cell_type": "code",
   "execution_count": null,
   "metadata": {},
   "outputs": [],
   "source": [
    "df_mr = df_mr.append(model_row, ignore_index=True)\n",
    "\n",
    "df_mr"
   ]
  },
  {
   "cell_type": "code",
   "execution_count": null,
   "metadata": {},
   "outputs": [],
   "source": []
  },
  {
   "cell_type": "code",
   "execution_count": null,
   "metadata": {},
   "outputs": [],
   "source": []
  },
  {
   "cell_type": "code",
   "execution_count": null,
   "metadata": {},
   "outputs": [],
   "source": []
  },
  {
   "cell_type": "code",
   "execution_count": null,
   "metadata": {},
   "outputs": [],
   "source": []
  },
  {
   "cell_type": "code",
   "execution_count": null,
   "metadata": {},
   "outputs": [],
   "source": []
  },
  {
   "cell_type": "code",
   "execution_count": null,
   "metadata": {},
   "outputs": [],
   "source": []
  },
  {
   "cell_type": "code",
   "execution_count": null,
   "metadata": {},
   "outputs": [],
   "source": []
  },
  {
   "cell_type": "code",
   "execution_count": null,
   "metadata": {},
   "outputs": [],
   "source": []
  },
  {
   "cell_type": "code",
   "execution_count": null,
   "metadata": {},
   "outputs": [],
   "source": []
  },
  {
   "cell_type": "code",
   "execution_count": null,
   "metadata": {},
   "outputs": [],
   "source": []
  },
  {
   "cell_type": "code",
   "execution_count": null,
   "metadata": {
    "ExecuteTime": {
     "end_time": "2021-07-01T22:24:06.103769Z",
     "start_time": "2021-07-01T22:23:40.320376Z"
    }
   },
   "outputs": [],
   "source": [
    "dfm = pd.DataFrame(match_details)\n",
    "\n",
    "dfm.to_csv('match_details.csv')"
   ]
  },
  {
   "cell_type": "code",
   "execution_count": null,
   "metadata": {
    "ExecuteTime": {
     "end_time": "2021-06-30T19:30:42.871084Z",
     "start_time": "2021-06-30T19:30:42.855090Z"
    }
   },
   "outputs": [],
   "source": [
    "dfm.drop(['PlayerStats'], axis=1).to_csv('match_details_example3.csv')"
   ]
  },
  {
   "cell_type": "code",
   "execution_count": null,
   "metadata": {
    "ExecuteTime": {
     "end_time": "2021-06-30T19:31:38.219861Z",
     "start_time": "2021-06-30T19:31:38.191871Z"
    }
   },
   "outputs": [],
   "source": [
    "dfm['PlayerStats'].to_csv('match_details_playerstats.csv')"
   ]
  },
  {
   "cell_type": "code",
   "execution_count": null,
   "metadata": {
    "ExecuteTime": {
     "end_time": "2021-07-01T18:23:34.530578Z",
     "start_time": "2021-07-01T18:23:34.254668Z"
    }
   },
   "outputs": [],
   "source": [
    "df_ps = dfm['PlayerStats'].apply(pd.Series)\n",
    "\n",
    "df_ps[0].apply(pd.Series)"
   ]
  },
  {
   "cell_type": "markdown",
   "metadata": {},
   "source": [
    "## Match Events"
   ]
  },
  {
   "cell_type": "code",
   "execution_count": null,
   "metadata": {},
   "outputs": [],
   "source": [
    "########### Python 3.2 #############\n",
    "import http.client, urllib.request, urllib.parse, urllib.error, base64\n",
    "\n",
    "matchId = 'c86a93e7-4842-4443-9b90-875b20e3846e'\n",
    "\n",
    "headers = {\n",
    "    # Request headers\n",
    "    'Ocp-Apim-Subscription-Key': api_key,\n",
    "}\n",
    "\n",
    "params = urllib.parse.urlencode({\n",
    "})\n",
    "\n",
    "try:\n",
    "    conn = http.client.HTTPSConnection('www.haloapi.com')\n",
    "    conn.request(\"GET\", f\"/stats/h5/matches/{matchId}/events?%s\" % params, \"{body}\", headers)\n",
    "    response = conn.getresponse()\n",
    "    data = response.read()\n",
    "    print(data)\n",
    "    conn.close()\n",
    "except Exception as e:\n",
    "    print(\"[Errno {0}] {1}\".format(e.errno, e.strerror))\n",
    "\n",
    "####################################\n"
   ]
  },
  {
   "cell_type": "markdown",
   "metadata": {},
   "source": [
    "## Weapons Meta"
   ]
  },
  {
   "cell_type": "code",
   "execution_count": null,
   "metadata": {},
   "outputs": [],
   "source": [
    "########### Python 3.2 #############\n",
    "import http.client, urllib.request, urllib.parse, urllib.error, base64\n",
    "\n",
    "headers = {\n",
    "    # Request headers\n",
    "    'Accept-Language': 'en',\n",
    "    'Ocp-Apim-Subscription-Key': api_key,\n",
    "}\n",
    "\n",
    "params = urllib.parse.urlencode({\n",
    "})\n",
    "\n",
    "try:\n",
    "    conn = http.client.HTTPSConnection('www.haloapi.com')\n",
    "    conn.request(\"GET\", \"/metadata/h5/metadata/weapons?%s\" % params, \"{body}\", headers)\n",
    "    response = conn.getresponse()\n",
    "    data = response.read()\n",
    "    my_json = data.decode('utf8').replace(\"'\", '\"')\n",
    "    print(data)\n",
    "    conn.close()\n",
    "except Exception as e:\n",
    "    print(\"[Errno {0}] {1}\".format(e.errno, e.strerror))\n",
    "\n",
    "####################################\n"
   ]
  },
  {
   "cell_type": "code",
   "execution_count": null,
   "metadata": {},
   "outputs": [],
   "source": [
    "my_json"
   ]
  },
  {
   "cell_type": "code",
   "execution_count": null,
   "metadata": {
    "scrolled": true
   },
   "outputs": [],
   "source": [
    "[{\"name\":\"Flagnum\",\"description\":null,\"type\":\"Standard\",\"largeIconImageUrl\":\"https://content.halocdn.com/media/Default/games/halo-5-guardians/tools-of-destruction/weapons/flagnum-282503fb5260409a844e29eeae45bbca.png\",\"smallIconImageUrl\":\"https://image.halocdn.com:443/?path=https%3a%2f%2fcontent.halocdn.com%2fmedia%2fDefault%2fgames%2fhalo-5-guardians%2ftools-of-destruction%2fweapons%2fflagnum-282503fb5260409a844e29eeae45bbca.png&width=332&hash=376WQLPQ8ra7Xbij6jhSp6avT3QG3ccjBS%2fKVFs4Efw%3d\",\"isUsableByPlayer\":true,\"id\":\"2244200496\",\"contentId\":\"cc556937-465f-4286-a989-e4ac28e6988b\"},{\"name\":\"Spartan\",\"description\":null,\"type\":\"Unknown\",\"largeIconImageUrl\":\"https://content.halocdn.com/media/Default/games/halo-5-guardians/tools-of-destruction/weapons/spartan-7d33bbefeee740f8a43e3e081a5b7aea.png\",\"smallIconImageUrl\":\"https://image.halocdn.com:443/?path=https%3a%2f%2fcontent.halocdn.com%2fmedia%2fDefault%2fgames%2fhalo-5-guardians%2ftools-of-destruction%2fweapons%2fspartan-7d33bbefeee740f8a43e3e081a5b7aea.png&width=332&hash=dwLka%2fmOgqyoZhE4czunU6Awgo3XClrV1M%2bWFof83rE%3d\",\"isUsableByPlayer\":false,\"id\":\"3168248199\",\"contentId\":\"447b227e-18eb-4060-904a-1cf709638958\"},{\"name\":\"SHADE AA TURRET\",\"description\":\"Shade AA Turret deployable for campaign and warzone\",\"type\":\"Turret\",\"largeIconImageUrl\":\"https://content.halocdn.com/media/Default/games/halo-5-guardians/tools-of-destruction/weapons/shade-plasma-turret-type2-43a3e7bd5506473d8b21db5529132500.png\",\"smallIconImageUrl\":\"https://image.halocdn.com:443/?path=https%3a%2f%2fcontent.halocdn.com%2fmedia%2fDefault%2fgames%2fhalo-5-guardians%2ftools-of-destruction%2fweapons%2fshade-plasma-turret-type2-43a3e7bd5506473d8b21db5529132500.png&width=332&hash=DMp8f6sqvTQQdtdrMktKI8osrwk9VUAwO21qfUV7dtc%3d\",\"isUsableByPlayer\":true,\"id\":\"2989142719\",\"contentId\":\"0a98a07c-51df-44b8-9359-982458bff2ae\"},{\"name\":\"SHADE PLASMA TURRET\",\"description\":\"Shade Plasma Turret deployable for campaign and warzone\",\"type\":\"Turret\",\"largeIconImageUrl\":\"https://content.halocdn.com/media/Default/games/halo-5-guardians/tools-of-destruction/weapons/shade-plasma-turret-a46b99d2048c46f18511568c722ad301.png\",\"smallIconImageUrl\":\"https://image.halocdn.com:443/?path=https%3a%2f%2fcontent.halocdn.com%2fmedia%2fDefault%2fgames%2fhalo-5-guardians%2ftools-of-destruction%2fweapons%2fshade-plasma-turret-a46b99d2048c46f18511568c722ad301.png&width=332&hash=yReKqrjSq2RAGw6N3L4r27Ch0MXbKCaAfgZ5c%2bQTg0w%3d\",\"isUsableByPlayer\":true,\"id\":\"698769165\",\"contentId\":\"8d6b0d58-f536-4685-b19c-0bbe6bd7fc96\"},{\"name\":\"Environmental Explosives\",\"description\":null,\"type\":\"Unknown\",\"largeIconImageUrl\":\"https://content.halocdn.com/media/Default/games/halo-5-guardians/tools-of-destruction/explosives/explosives-040c30c3a5f3402abfb616e7d18c2395.png\",\"smallIconImageUrl\":\"https://image.halocdn.com:443/?path=https%3a%2f%2fcontent.halocdn.com%2fmedia%2fDefault%2fgames%2fhalo-5-guardians%2ftools-of-destruction%2fexplosives%2fexplosives-040c30c3a5f3402abfb616e7d18c2395.png&width=332&hash=tv3HlwTBv5ChH2KebQAHYTNmOo7ADIksqKIhIu6W13M%3d\",\"isUsableByPlayer\":true,\"id\":\"47178948\",\"contentId\":\"fd412929-4a3f-49c0-b392-5521012f33fc\"},{\"name\":\"Gauss Turret\",\"description\":\"Precision anti-tank coilgun.\",\"type\":\"Turret\",\"largeIconImageUrl\":\"https://content.halocdn.com/media/Default/games/halo-5-guardians/tools-of-destruction/weapons/gauss-turret-5f9a751679634bce91a77bf95c7e2d67.png\",\"smallIconImageUrl\":\"https://image.halocdn.com:443/?path=https%3a%2f%2fcontent.halocdn.com%2fmedia%2fDefault%2fgames%2fhalo-5-guardians%2ftools-of-destruction%2fweapons%2fgauss-turret-5f9a751679634bce91a77bf95c7e2d67.png&width=332&hash=ty4y%2f1sEuT8eMQwX6cVXuZ3KL9bAHaf1A0LPabuLpzE%3d\",\"isUsableByPlayer\":true,\"id\":\"4233134183\",\"contentId\":\"cfa92e74-82be-4b25-a0cd-4f7a97f2bf8c\"},{\"name\":\"ROCKET POD TURRET\",\"description\":\"Multirole missile launcher.\",\"type\":\"Turret\",\"largeIconImageUrl\":\"https://content.halocdn.com/media/Default/games/halo-5-guardians/tools-of-destruction/weapons/missile-rocket-turret-12e04f30fdbf4dc2b9a1f37a907f5234.png\",\"smallIconImageUrl\":\"https://image.halocdn.com:443/?path=https%3a%2f%2fcontent.halocdn.com%2fmedia%2fDefault%2fgames%2fhalo-5-guardians%2ftools-of-destruction%2fweapons%2fmissile-rocket-turret-12e04f30fdbf4dc2b9a1f37a907f5234.png&width=332&hash=EuZSiblHWcj3CRx3LzuVo1Fw2jq9HnCS6NOTBPNYkgQ%3d\",\"isUsableByPlayer\":true,\"id\":\"2907783784\",\"contentId\":\"ec137dd1-82d1-4ef4-809a-f838420416c1\"},{\"name\":\"Chaingun Turret\",\"description\":\"Rotary autocannon.\",\"type\":\"Turret\",\"largeIconImageUrl\":\"https://content.halocdn.com/media/Default/games/halo-5-guardians/tools-of-destruction/weapons/chaingun-turret-0cbad9f5d3a74313adba3d6faf43592e.png\",\"smallIconImageUrl\":\"https://image.halocdn.com:443/?path=https%3a%2f%2fcontent.halocdn.com%2fmedia%2fDefault%2fgames%2fhalo-5-guardians%2ftools-of-destruction%2fweapons%2fchaingun-turret-0cbad9f5d3a74313adba3d6faf43592e.png&width=332&hash=P70p8qnHLXmbuf7tPzofDzeiIXYThkFjMB74JqyD0vk%3d\",\"isUsableByPlayer\":true,\"id\":\"2988661926\",\"contentId\":\"fc78a02f-5f48-4134-a5a8-a92e34d9142d\"},{\"name\":\"Incineration Cannon\",\"description\":\"Heavy cannon that fires a powerful energy charge. Main charge spawns submunitions on impact.\",\"type\":\"Power\",\"largeIconImageUrl\":\"https://content.halocdn.com/media/Default/games/halo-5-guardians/tools-of-destruction/weapons/incineration-cannon-2caa0e0e074543c79c9ff8d0fe289752.png\",\"smallIconImageUrl\":\"https://image.halocdn.com:443/?path=https%3a%2f%2fcontent.halocdn.com%2fmedia%2fDefault%2fgames%2fhalo-5-guardians%2ftools-of-destruction%2fweapons%2fincineration-cannon-2caa0e0e074543c79c9ff8d0fe289752.png&width=332&hash=8T1ASpOwRZxeUIlLWGn39KDYwvUNVEYdvHRpe1w%2blVw%3d\",\"isUsableByPlayer\":true,\"id\":\"4086418184\",\"contentId\":\"f26f8097-a383-4038-ba31-70de7b994c73\"},{\"name\":\"Splinter Turret\",\"description\":\"Fires hardlight projectiles that break apart and detonate after impact.\",\"type\":\"Turret\",\"largeIconImageUrl\":\"https://content.halocdn.com/media/Default/games/halo-5-guardians/tools-of-destruction/weapons/splinter-turret-6a1cad04de8a49ea9370d6bf285f9b29.png\",\"smallIconImageUrl\":\"https://image.halocdn.com:443/?path=https%3a%2f%2fcontent.halocdn.com%2fmedia%2fDefault%2fgames%2fhalo-5-guardians%2ftools-of-destruction%2fweapons%2fsplinter-turret-6a1cad04de8a49ea9370d6bf285f9b29.png&width=332&hash=OR%2baWnYY76UZOtWm4BVXMYAPJQquCBFJDlRx47RxoEQ%3d\",\"isUsableByPlayer\":true,\"id\":\"1749823285\",\"contentId\":\"890bf973-addf-45a1-80c9-71fecc38f77f\"},{\"name\":\"UNSC AUTO TURRET\",\"description\":\"UNSC Auto Turret deployable for campaign and warzone\",\"type\":\"Turret\",\"largeIconImageUrl\":\"https://content.halocdn.com/media/Default/games/halo-5-guardians/default-images/default-turret-332x132-c3db09f21ee242589b5277004462d27e.png\",\"smallIconImageUrl\":\"https://image.halocdn.com:443/?path=https%3a%2f%2fcontent.halocdn.com%2fmedia%2fDefault%2fgames%2fhalo-5-guardians%2fdefault-images%2fdefault-turret-332x132-c3db09f21ee242589b5277004462d27e.png&width=332&hash=M89098C3LTFFiK9wiIUdjWSNxlXvoKTGlmRoBEmd6RU%3d\",\"isUsableByPlayer\":false,\"id\":\"2031824349\",\"contentId\":\"65289c8a-cc54-4503-b1aa-29938b20d436\"},{\"name\":\"SCORPION ANTI INFANTRY TURRET\",\"description\":\"Scorpion Infantry Turret deployable for campaign and warzone\",\"type\":\"Turret\",\"largeIconImageUrl\":\"https://content.halocdn.com/media/Default/games/halo-5-guardians/tools-of-destruction/weapons/scorpion-turret-3acbd9d1a40d4f71ba4721b1ac1c230e.png\",\"smallIconImageUrl\":\"https://image.halocdn.com:443/?path=https%3a%2f%2fcontent.halocdn.com%2fmedia%2fDefault%2fgames%2fhalo-5-guardians%2ftools-of-destruction%2fweapons%2fscorpion-turret-3acbd9d1a40d4f71ba4721b1ac1c230e.png&width=332&hash=Vv2qdYARoN%2bkGscXEQz1ntxVZ071UbMVmuVjK3b3xoI%3d\",\"isUsableByPlayer\":true,\"id\":\"244872079\",\"contentId\":\"b504ed6b-8335-477a-9834-42c90b4a2d88\"},{\"name\":\"WRAITH ANTI INFANTRY TURRET\",\"description\":\"Wraith Infantry Turret deployable for campaign and warzone\",\"type\":\"Turret\",\"largeIconImageUrl\":\"https://content.halocdn.com/media/Default/games/halo-5-guardians/tools-of-destruction/weapons/wraith-turret-8c7f77f080f34ab9b5d97509485f9daf.png\",\"smallIconImageUrl\":\"https://image.halocdn.com:443/?path=https%3a%2f%2fcontent.halocdn.com%2fmedia%2fDefault%2fgames%2fhalo-5-guardians%2ftools-of-destruction%2fweapons%2fwraith-turret-8c7f77f080f34ab9b5d97509485f9daf.png&width=332&hash=9F05IIx2%2ffu2ZBYgnsjpLkDp9HToePCOiCtdmwvYhMs%3d\",\"isUsableByPlayer\":true,\"id\":\"1701501807\",\"contentId\":\"c293d75e-4528-44fc-8be2-b3b101bff2bd\"},{\"name\":\"Plasma Caster\",\"description\":\"Fires plasma bolts that can be bounced off terrain to reach targets behind cover. Bolts stick and will chain-detonate when fired using Smart-Link.\",\"type\":\"Power\",\"largeIconImageUrl\":\"https://content.halocdn.com/media/Default/games/halo-5-guardians/tools-of-destruction/weapons/plasma-caster-8373c86c00cb4cffb36f29381d2f1025.png\",\"smallIconImageUrl\":\"https://image.halocdn.com:443/?path=https%3a%2f%2fcontent.halocdn.com%2fmedia%2fDefault%2fgames%2fhalo-5-guardians%2ftools-of-destruction%2fweapons%2fplasma-caster-8373c86c00cb4cffb36f29381d2f1025.png&width=332&hash=FeGzpg78yr5g8uuwCPkC7ZkN2Wie%2f0la8NMDEbBl2VM%3d\",\"isUsableByPlayer\":true,\"id\":\"4054937266\",\"contentId\":\"006861b7-ca17-4032-a998-99ae1cb1fc4f\"},{\"name\":\"FORERUNNER BEAM TURRET\",\"description\":\"Forerunner Beam Turret deployable for campaign and warzone\",\"type\":\"Turret\",\"largeIconImageUrl\":\"https://content.halocdn.com/media/Default/games/halo-5-guardians/default-images/default-turret-332x132-c3db09f21ee242589b5277004462d27e.png\",\"smallIconImageUrl\":\"https://image.halocdn.com:443/?path=https%3a%2f%2fcontent.halocdn.com%2fmedia%2fDefault%2fgames%2fhalo-5-guardians%2fdefault-images%2fdefault-turret-332x132-c3db09f21ee242589b5277004462d27e.png&width=332&hash=M89098C3LTFFiK9wiIUdjWSNxlXvoKTGlmRoBEmd6RU%3d\",\"isUsableByPlayer\":false,\"id\":\"514985629\",\"contentId\":\"f3c11ff9-d960-481b-b733-e7994c001f0f\"},{\"name\":\"SPIRIT CHIN GUN\",\"description\":\"Spirit Chin Gun deployable for campaign and warzone\",\"type\":\"Turret\",\"largeIconImageUrl\":\"https://content.halocdn.com/media/Default/games/halo-5-guardians/tools-of-destruction/weapons/spirit-chain-gun-1884effb163d43bb82b198fdd43dbe11.png\",\"smallIconImageUrl\":\"https://image.halocdn.com:443/?path=https%3a%2f%2fcontent.halocdn.com%2fmedia%2fDefault%2fgames%2fhalo-5-guardians%2ftools-of-destruction%2fweapons%2fspirit-chain-gun-1884effb163d43bb82b198fdd43dbe11.png&width=332&hash=y%2bwojiZdKkre25hosAHW30JWNa87lzts9NruwwzEybs%3d\",\"isUsableByPlayer\":false,\"id\":\"1797509873\",\"contentId\":\"55ae77f4-3111-4d34-a1ae-ee82ef69f6cb\"},{\"name\":\"Carbine\",\"description\":\"Carbine with Holoscope. Versatile semi-automatic rifle renowned for its accuracy and long range. New production models use a streamlined manufacturing process and reactive materials in place of radioisotopes for coating projectiles.\",\"type\":\"Standard\",\"largeIconImageUrl\":\"https://content.halocdn.com/media/Default/games/halo-5-guardians/tools-of-destruction/weapons/covenant-carbine-30811039456f475f805eaa52762820b0.png\",\"smallIconImageUrl\":\"https://image.halocdn.com:443/?path=https%3a%2f%2fcontent.halocdn.com%2fmedia%2fDefault%2fgames%2fhalo-5-guardians%2ftools-of-destruction%2fweapons%2fcovenant-carbine-30811039456f475f805eaa52762820b0.png&width=332&hash=Zin20muBr8qdP73e6MEp23Qwug0dAaImKkcxtX%2b1xgA%3d\",\"isUsableByPlayer\":true,\"id\":\"4108759423\",\"contentId\":\"a32d5b79-aa24-4897-8850-55ffc7450d6e\"},{\"name\":\"PHANTOM CHIN GUN\",\"description\":\"Phantom Chin Gun deployable for campaign and warzone\",\"type\":\"Turret\",\"largeIconImageUrl\":\"https://content.halocdn.com/media/Default/games/halo-5-guardians/tools-of-destruction/weapons/phantom-chin-gun-a446b325e7494d29a8cabe7e693548da.png\",\"smallIconImageUrl\":\"https://image.halocdn.com:443/?path=https%3a%2f%2fcontent.halocdn.com%2fmedia%2fDefault%2fgames%2fhalo-5-guardians%2ftools-of-destruction%2fweapons%2fphantom-chin-gun-a446b325e7494d29a8cabe7e693548da.png&width=332&hash=GszX%2ffGgOqVHYsp40W8g1IdLn6sxFh%2bbHtqrtcNs0aQ%3d\",\"isUsableByPlayer\":false,\"id\":\"3717288512\",\"contentId\":\"1b15c7be-a807-460a-987a-60037c346b9b\"},{\"name\":\"LightRifle\",\"description\":\"Accurate and powerful, LightRifles were the standard-issue weapon of ancient Promethean warriors.\",\"type\":\"Standard\",\"largeIconImageUrl\":\"https://content.halocdn.com/media/Default/games/halo-5-guardians/tools-of-destruction/weapons/light-rifle-0c9fc99241fc414a85d6e210fed36d04.png\",\"smallIconImageUrl\":\"https://image.halocdn.com:443/?path=https%3a%2f%2fcontent.halocdn.com%2fmedia%2fDefault%2fgames%2fhalo-5-guardians%2ftools-of-destruction%2fweapons%2flight-rifle-0c9fc99241fc414a85d6e210fed36d04.png&width=332&hash=tIJEZDRfA5lPq2QmM6Ql66UCCyNFECIxJXWqlSFDJLE%3d\",\"isUsableByPlayer\":true,\"id\":\"2511447508\",\"contentId\":\"59026c44-1498-4580-99ef-c45fad75bc12\"},{\"name\":\"Storm Rifle\",\"description\":\"Rapid-fire plasma rifle effective out to medium range when Smart-Link is engaged. Sustained fire can temporarily overheat the weapon.\",\"type\":\"Standard\",\"largeIconImageUrl\":\"https://content.halocdn.com/media/Default/games/halo-5-guardians/tools-of-destruction/weapons/covenant-storm-rifle-a440460289a54237832d39becaaf0046.png\",\"smallIconImageUrl\":\"https://image.halocdn.com:443/?path=https%3a%2f%2fcontent.halocdn.com%2fmedia%2fDefault%2fgames%2fhalo-5-guardians%2ftools-of-destruction%2fweapons%2fcovenant-storm-rifle-a440460289a54237832d39becaaf0046.png&width=332&hash=BdfDk%2fhQyjjfC3cPrWYvadmKNtKU5fLlKyuj1QhlSRA%3d\",\"isUsableByPlayer\":true,\"id\":\"2133511419\",\"contentId\":\"611e61ad-5b14-4631-8eef-f8bb6a14b1f0\"},{\"name\":\"Binary Rifle\",\"description\":\"Semi-automatic sniper energy rifle with variable-zoom 4x/9x optics. Use Smart-Link when engaging targets at long range.\",\"type\":\"Power\",\"largeIconImageUrl\":\"https://content.halocdn.com/media/Default/games/halo-5-guardians/tools-of-destruction/weapons/binary-rifle-79e0c4a1283641bda007e0d861ded31b.png\",\"smallIconImageUrl\":\"https://image.halocdn.com:443/?path=https%3a%2f%2fcontent.halocdn.com%2fmedia%2fDefault%2fgames%2fhalo-5-guardians%2ftools-of-destruction%2fweapons%2fbinary-rifle-79e0c4a1283641bda007e0d861ded31b.png&width=332&hash=s0YVJm3ACjKC2uS31lvIGShLBOn9BXeLOxeskO0xeLA%3d\",\"isUsableByPlayer\":true,\"id\":\"2140505068\",\"contentId\":\"5130eeaa-d67e-4001-a548-20408dffe0d8\"},{\"name\":\"Plasma Pistol\",\"description\":\"Semi-automatic energy pistol that fires packets of superheated plasma. Holding down the trigger, then releasing, will fire a tracking overcharge shot with an EMP effect that will disable vehicles and knock out shields.\",\"type\":\"Standard\",\"largeIconImageUrl\":\"https://content.halocdn.com/media/Default/games/halo-5-guardians/tools-of-destruction/weapons/plasma-pistol-1a65716f9b894b8496b501c69b4c05d9.png\",\"smallIconImageUrl\":\"https://image.halocdn.com:443/?path=https%3a%2f%2fcontent.halocdn.com%2fmedia%2fDefault%2fgames%2fhalo-5-guardians%2ftools-of-destruction%2fweapons%2fplasma-pistol-1a65716f9b894b8496b501c69b4c05d9.png&width=332&hash=EXTEQAQlvspdmk0AJWHxJfJKVBhejMoyiZPWQjzN0Ro%3d\",\"isUsableByPlayer\":true,\"id\":\"524558978\",\"contentId\":\"c8dd731b-0766-4315-8ec0-8922f40cc101\"},{\"name\":\"Scorpion\",\"description\":\"Main battle tank armed with a heavy cannon and pintle-mounted heavy machine gun. This new iteration of the storied Scorpion is half the mass of the old M808 yet has nearly identical firepower and armor protection.\",\"type\":\"Vehicle\",\"largeIconImageUrl\":\"https://content.halocdn.com/media/Default/games/halo-5-guardians/tools-of-destruction/vehicles/scorpion-6c7fb074aa1c42549a765a294e78c3c7.png\",\"smallIconImageUrl\":\"https://image.halocdn.com:443/?path=https%3a%2f%2fcontent.halocdn.com%2fmedia%2fDefault%2fgames%2fhalo-5-guardians%2ftools-of-destruction%2fvehicles%2fscorpion-6c7fb074aa1c42549a765a294e78c3c7.png&width=332&hash=%2fCkx7J14PgzU9QjJ5ndSwhhMk0%2bTZa6nlpEndWfyTHc%3d\",\"isUsableByPlayer\":true,\"id\":\"1730553442\",\"contentId\":\"c7e2f6aa-b86c-4131-b5d7-71bb35fcd0c4\"},{\"name\":\"Suppressor\",\"description\":\"Fully-automatic energy rifle effective at short range. Accuracy significantly improves when using Smart-Link.\",\"type\":\"Standard\",\"largeIconImageUrl\":\"https://content.halocdn.com/media/Default/games/halo-5-guardians/tools-of-destruction/weapons/suppressor-5ee536381da34f48abb542a29a51a898.png\",\"smallIconImageUrl\":\"https://image.halocdn.com:443/?path=https%3a%2f%2fcontent.halocdn.com%2fmedia%2fDefault%2fgames%2fhalo-5-guardians%2ftools-of-destruction%2fweapons%2fsuppressor-5ee536381da34f48abb542a29a51a898.png&width=332&hash=wJMTrh6lL7uesgj0OU9W3Cene%2fInCVHLAd5ZUUMK5Lg%3d\",\"isUsableByPlayer\":true,\"id\":\"2681172411\",\"contentId\":\"fc839d35-d0e3-4234-b9ff-70c428d8cca7\"},{\"name\":\"Phaeton\",\"description\":null,\"type\":\"Vehicle\",\"largeIconImageUrl\":\"https://content.halocdn.com/media/Default/games/halo-5-guardians/tools-of-destruction/vehicles/vtol-5c02f48bfdf246c0aab7f738687b5744.png\",\"smallIconImageUrl\":\"https://image.halocdn.com:443/?path=https%3a%2f%2fcontent.halocdn.com%2fmedia%2fDefault%2fgames%2fhalo-5-guardians%2ftools-of-destruction%2fvehicles%2fvtol-5c02f48bfdf246c0aab7f738687b5744.png&width=332&hash=p%2b56GNOiSUDlhjfn%2ffB2d457Le7Vdw752wer9fGX0Ts%3d\",\"isUsableByPlayer\":true,\"id\":\"3394982816\",\"contentId\":\"011cd325-c192-477c-8767-23b99546031d\"},{\"name\":\"Boltshot\",\"description\":\"Burst-fire energy pistol. Bolts home-in on close range targets. This new functionality appears to be related to other adaptations the Prometheans have displayed since the disappearance of the Didact.\",\"type\":\"Standard\",\"largeIconImageUrl\":\"https://content.halocdn.com/media/Default/games/halo-5-guardians/tools-of-destruction/weapons/boltshot-c9cdbdb343524915b1d80bc8b3047286.png\",\"smallIconImageUrl\":\"https://image.halocdn.com:443/?path=https%3a%2f%2fcontent.halocdn.com%2fmedia%2fDefault%2fgames%2fhalo-5-guardians%2ftools-of-destruction%2fweapons%2fboltshot-c9cdbdb343524915b1d80bc8b3047286.png&width=332&hash=ufVTmfMPj5xIOpOyGMEn%2fV6Pa5Qb5%2b%2fb%2b520Px3XAX0%3d\",\"isUsableByPlayer\":true,\"id\":\"4153405209\",\"contentId\":\"4ead2f3c-c9ba-41d0-bf69-a3ac1d4b4e32\"},{\"name\":\"Mantis\",\"description\":\"Combat walker armed with heavy machine gun and missile launcher. Missiles can lock-on to aerial targets. Melee unleashes a devastating stomp attack. Extended use of the heavy machine gun will cause it to overheat.\",\"type\":\"Vehicle\",\"largeIconImageUrl\":\"https://content.halocdn.com/media/Default/games/halo-5-guardians/tools-of-destruction/vehicles/mantis-88bcd6e59a3d469aa380620309a5e8a5.png\",\"smallIconImageUrl\":\"https://image.halocdn.com:443/?path=https%3a%2f%2fcontent.halocdn.com%2fmedia%2fDefault%2fgames%2fhalo-5-guardians%2ftools-of-destruction%2fvehicles%2fmantis-88bcd6e59a3d469aa380620309a5e8a5.png&width=332&hash=bQ58hOrEtc%2b3XuXpGvrmzK31OhA5Ctt8mUlqXZ%2bMmRU%3d\",\"isUsableByPlayer\":true,\"id\":\"3227919741\",\"contentId\":\"71347094-6fdb-437a-862c-59db1b936aa6\"},{\"name\":\"Banshee\",\"description\":\"Agile ground attack aircraft. Armed with rapid-fire plasma cannons and secondary fuel rod cannon. Can perform acrobatic rolls and loops or high-speed boosts.\",\"type\":\"Vehicle\",\"largeIconImageUrl\":\"https://content.halocdn.com/media/Default/games/halo-5-guardians/tools-of-destruction/vehicles/banshee-9626ac8f343644f3a592a0b7d49faac6.png\",\"smallIconImageUrl\":\"https://image.halocdn.com:443/?path=https%3a%2f%2fcontent.halocdn.com%2fmedia%2fDefault%2fgames%2fhalo-5-guardians%2ftools-of-destruction%2fvehicles%2fbanshee-9626ac8f343644f3a592a0b7d49faac6.png&width=332&hash=%2bwTKTSuyqU6fPV%2f0JYmjU2YOh4SvpWEcKMVyHF7gL3U%3d\",\"isUsableByPlayer\":true,\"id\":\"419783896\",\"contentId\":\"91fafc39-ee57-4ae7-ad93-b36e6ac34561\"},{\"name\":\"Wraith\",\"description\":\"Assault tank armed with a heavy plasma mortar and pintle-mounted plasma cannon. Can boost for quick sprints. The latest Wraith revisits an ancient Sangheili design that is easier to manufacture and less costly to lose.\",\"type\":\"Vehicle\",\"largeIconImageUrl\":\"https://content.halocdn.com/media/Default/games/halo-5-guardians/tools-of-destruction/vehicles/wraith-bd8975a1a57348a2b8a2588e9a5040f1.png\",\"smallIconImageUrl\":\"https://image.halocdn.com:443/?path=https%3a%2f%2fcontent.halocdn.com%2fmedia%2fDefault%2fgames%2fhalo-5-guardians%2ftools-of-destruction%2fvehicles%2fwraith-bd8975a1a57348a2b8a2588e9a5040f1.png&width=332&hash=vr34Tpz64SEzQReJpo2bu0kn5bBSbyOGwpDwCXhzF0M%3d\",\"isUsableByPlayer\":true,\"id\":\"1206711506\",\"contentId\":\"c12685a5-956c-483b-8254-70765a23d863\"},{\"name\":\"Warthog\",\"description\":\"Warthog armed reconnaissance configuration fitted with a rotary autocannon on a full-rotation turret mount. \",\"type\":\"Vehicle\",\"largeIconImageUrl\":\"https://content.halocdn.com/media/Default/games/halo-5-guardians/tools-of-destruction/vehicles/warthog-951f2406dea44d229662df881d89272e.png\",\"smallIconImageUrl\":\"https://image.halocdn.com:443/?path=https%3a%2f%2fcontent.halocdn.com%2fmedia%2fDefault%2fgames%2fhalo-5-guardians%2ftools-of-destruction%2fvehicles%2fwarthog-951f2406dea44d229662df881d89272e.png&width=332&hash=fgVOMTjIBBWxAMSe5%2bGu6VRwzTrdizeFN7F6YDNtbMw%3d\",\"isUsableByPlayer\":true,\"id\":\"4028516791\",\"contentId\":\"4dcc7ed4-6d15-4170-bad2-fdf28705fbae\"},{\"name\":\"Assault Rifle\",\"description\":\"Assault Rifle with Projection Sight. Standard-issue fully-automatic rifle effective at short to medium range.\",\"type\":\"Standard\",\"largeIconImageUrl\":\"https://content.halocdn.com/media/Default/games/halo-5-guardians/tools-of-destruction/weapons/assault-rifle-72bb6004e7804715935013ca745cadb9.png\",\"smallIconImageUrl\":\"https://image.halocdn.com:443/?path=https%3a%2f%2fcontent.halocdn.com%2fmedia%2fDefault%2fgames%2fhalo-5-guardians%2ftools-of-destruction%2fweapons%2fassault-rifle-72bb6004e7804715935013ca745cadb9.png&width=332&hash=5aSvHLqf3tm3VL4EyZXk9WkfZAD%2fwaVy2T22GduWhqw%3d\",\"isUsableByPlayer\":true,\"id\":\"313138863\",\"contentId\":\"9f00429a-687a-4e0e-8690-cde5ba010bcf\"},{\"name\":\"SMG\",\"description\":\"SMG with CQB Sight. Rapid fire submachine gun best suited for close-quarters combat while leveraging Smart-Link.\",\"type\":\"Standard\",\"largeIconImageUrl\":\"https://content.halocdn.com/media/Default/games/halo-5-guardians/tools-of-destruction/weapons/smg-74d80a6bc14c4c64aa08db838e775db7.png\",\"smallIconImageUrl\":\"https://image.halocdn.com:443/?path=https%3a%2f%2fcontent.halocdn.com%2fmedia%2fDefault%2fgames%2fhalo-5-guardians%2ftools-of-destruction%2fweapons%2fsmg-74d80a6bc14c4c64aa08db838e775db7.png&width=332&hash=6Ikf%2fFGrIZ8eeJfpuA6Ti%2bn5cdzoFu66S4ctCjr3RZo%3d\",\"isUsableByPlayer\":true,\"id\":\"723388907\",\"contentId\":\"5d4f4df8-9684-40d8-9d25-a15481a1047f\"},{\"name\":\"Scattershot\",\"description\":\"Short-range semi-automatic energy shotgun. Energy projectiles ricochet off hard surfaces and exhibit homing behavior.\",\"type\":\"Power\",\"largeIconImageUrl\":\"https://content.halocdn.com/media/Default/games/halo-5-guardians/tools-of-destruction/weapons/scattershot-7453d1d0f9a149dfb2649675322780cd.png\",\"smallIconImageUrl\":\"https://image.halocdn.com:443/?path=https%3a%2f%2fcontent.halocdn.com%2fmedia%2fDefault%2fgames%2fhalo-5-guardians%2ftools-of-destruction%2fweapons%2fscattershot-7453d1d0f9a149dfb2649675322780cd.png&width=332&hash=cAtlmS3kBkUWiC8goxDP4DPNo%2f%2ffLsK2ojbQhNKQL6Y%3d\",\"isUsableByPlayer\":true,\"id\":\"3808094875\",\"contentId\":\"6e033e34-9ebe-4120-9abb-59c5d55159e0\"},{\"name\":\"Ghost\",\"description\":\"Fast attack bike fitted with dual rapid-fire plasma cannons. Can boost for extra speed, at the expense of maneuverability.\",\"type\":\"Vehicle\",\"largeIconImageUrl\":\"https://content.halocdn.com/media/Default/games/halo-5-guardians/tools-of-destruction/vehicles/ghost-3d8125d531f14b5499eb203bb6689c19.png\",\"smallIconImageUrl\":\"https://image.halocdn.com:443/?path=https%3a%2f%2fcontent.halocdn.com%2fmedia%2fDefault%2fgames%2fhalo-5-guardians%2ftools-of-destruction%2fvehicles%2fghost-3d8125d531f14b5499eb203bb6689c19.png&width=332&hash=8iIZszbCW4BymoY%2ftsU02sVjy9k1RPVcIR9WPhE%2bNLA%3d\",\"isUsableByPlayer\":true,\"id\":\"3010146366\",\"contentId\":\"d760ed2e-8b55-44c0-9b47-fc5c8d44910d\"},{\"name\":\"Railgun\",\"description\":\"Powerful single-shot coilgun that requires a short charge cycle before firing. Will automatically fire if the charge is held for too long.\",\"type\":\"Power\",\"largeIconImageUrl\":\"https://content.halocdn.com/media/Default/games/halo-5-guardians/tools-of-destruction/weapons/railgun-ce34452629a74a0899a091f0f2e52f89.png\",\"smallIconImageUrl\":\"https://image.halocdn.com:443/?path=https%3a%2f%2fcontent.halocdn.com%2fmedia%2fDefault%2fgames%2fhalo-5-guardians%2ftools-of-destruction%2fweapons%2frailgun-ce34452629a74a0899a091f0f2e52f89.png&width=332&hash=eh%2b4lDppbLwobJ7CtqVzSGgfvCv7qVABYIqP%2fq3QMCs%3d\",\"isUsableByPlayer\":true,\"id\":\"3682788176\",\"contentId\":\"c5fe5ab1-6583-443f-abc6-4c513847fdd1\"},{\"name\":\"Mongoose\",\"description\":\"Heavy-duty all-terrain quad bike. A passenger can be accommodated on the rear-facing seat. \",\"type\":\"Vehicle\",\"largeIconImageUrl\":\"https://content.halocdn.com/media/Default/games/halo-5-guardians/tools-of-destruction/vehicles/wargoose-6bfb5d0d8ff34c67ac7537dbecea9f59.png\",\"smallIconImageUrl\":\"https://image.halocdn.com:443/?path=https%3a%2f%2fcontent.halocdn.com%2fmedia%2fDefault%2fgames%2fhalo-5-guardians%2ftools-of-destruction%2fvehicles%2fwargoose-6bfb5d0d8ff34c67ac7537dbecea9f59.png&width=332&hash=Alksbp7GujgkvJ5tsRpgWqCOoUqpeIvuRAY9Y9dFWRk%3d\",\"isUsableByPlayer\":true,\"id\":\"1063919886\",\"contentId\":\"f9b11bd7-7959-4639-94de-a9df329579a5\"},{\"name\":\"Hydra Launcher\",\"description\":\"Portable mini-missile launcher. Use Smart-Link to lock-on to targets before firing.\",\"type\":\"Power\",\"largeIconImageUrl\":\"https://content.halocdn.com/media/Default/games/halo-5-guardians/tools-of-destruction/weapons/hydra-ae5ed76d25b048dd98ca20efd8818935.png\",\"smallIconImageUrl\":\"https://image.halocdn.com:443/?path=https%3a%2f%2fcontent.halocdn.com%2fmedia%2fDefault%2fgames%2fhalo-5-guardians%2ftools-of-destruction%2fweapons%2fhydra-ae5ed76d25b048dd98ca20efd8818935.png&width=332&hash=Igp%2bCCVwYELH%2biLOj8nQjtUFtI0%2fb7WO7XQ96mvNiZk%3d\",\"isUsableByPlayer\":true,\"id\":\"1579758889\",\"contentId\":\"0dd40ad7-9120-4fdf-881a-ecda58fedff3\"},{\"name\":\"Spartan Laser\",\"description\":\"Anti-vehicle laser. Requires a short warmup time before firing.\",\"type\":\"Power\",\"largeIconImageUrl\":\"https://content.halocdn.com/media/Default/games/halo-5-guardians/tools-of-destruction/weapons/spartan-laser-1dce3448ef73469ab8f9e2d38c9d531c.png\",\"smallIconImageUrl\":\"https://image.halocdn.com:443/?path=https%3a%2f%2fcontent.halocdn.com%2fmedia%2fDefault%2fgames%2fhalo-5-guardians%2ftools-of-destruction%2fweapons%2fspartan-laser-1dce3448ef73469ab8f9e2d38c9d531c.png&width=332&hash=dmKMiRo6bmqIWsY%2btMFku6K4YsmlBhWyd2wQMGe8hsA%3d\",\"isUsableByPlayer\":true,\"id\":\"3885603197\",\"contentId\":\"7f28cc32-55a6-4bce-ae30-8703ac50f2e3\"},{\"name\":\"Needler\",\"description\":\"Exotic weapon which fires shards that home in on short-range targets. If multiple shards strike a target they will detonate - creating a \\\\\"supercombine\\\\\" explosion. Will bounce off heavy armor, such as that used by vehicles and Hunters.\",\"type\":\"Power\",\"largeIconImageUrl\":\"https://content.halocdn.com/media/Default/games/halo-5-guardians/tools-of-destruction/weapons/needler-5690d414b19a4b2d83be15baaffa2fe9.png\",\"smallIconImageUrl\":\"https://image.halocdn.com:443/?path=https%3a%2f%2fcontent.halocdn.com%2fmedia%2fDefault%2fgames%2fhalo-5-guardians%2ftools-of-destruction%2fweapons%2fneedler-5690d414b19a4b2d83be15baaffa2fe9.png&width=332&hash=N00LDPlPB5dg3BgRm%2fDef2bQs8MR0c4DJsEeAtIR5ck%3d\",\"isUsableByPlayer\":true,\"id\":\"2050745863\",\"contentId\":\"f6c599f2-2c86-447d-944d-fa604b17136a\"},{\"name\":\"Shotgun\",\"description\":\"Short-ranged semi-automatic shotgun. Get up-close and personal to maximize damage.\",\"type\":\"Power\",\"largeIconImageUrl\":\"https://content.halocdn.com/media/Default/games/halo-5-guardians/tools-of-destruction/weapons/shotgun-35bca45ecb8440479bfbab9e075f4302.png\",\"smallIconImageUrl\":\"https://image.halocdn.com:443/?path=https%3a%2f%2fcontent.halocdn.com%2fmedia%2fDefault%2fgames%2fhalo-5-guardians%2ftools-of-destruction%2fweapons%2fshotgun-35bca45ecb8440479bfbab9e075f4302.png&width=332&hash=aRRxaPLRsA9%2bxwd5%2fA43ghuA0p7jr3L9mX0TtUI8bIo%3d\",\"isUsableByPlayer\":true,\"id\":\"3484334713\",\"contentId\":\"39c25783-6a10-4b13-a586-546eae1c99bc\"},{\"name\":\"SAW\",\"description\":\"Rapid-fire light machine gun with a large ammo capacity.\",\"type\":\"Power\",\"largeIconImageUrl\":\"https://content.halocdn.com/media/Default/games/halo-5-guardians/tools-of-destruction/weapons/saw-0f3ee44a215d4a57b6e578cd760a3fb0.png\",\"smallIconImageUrl\":\"https://image.halocdn.com:443/?path=https%3a%2f%2fcontent.halocdn.com%2fmedia%2fDefault%2fgames%2fhalo-5-guardians%2ftools-of-destruction%2fweapons%2fsaw-0f3ee44a215d4a57b6e578cd760a3fb0.png&width=332&hash=pfWvwfHvmhEmIgcc2SJ2hfon7EHNIAwJwECLlAayPps%3d\",\"isUsableByPlayer\":true,\"id\":\"2278207101\",\"contentId\":\"93970223-4c24-4c73-9ce0-af44299e529d\"},{\"name\":\"Fuel Rod Cannon\",\"description\":\"Magazine-fed, shoulder-fired heavy weapon that fires explosive fuel rods. Modern fuel rod cannons are significantly more accurate than those used by the old Covenant; a refinement sourced from the multi-species workshops on Venezia.\",\"type\":\"Power\",\"largeIconImageUrl\":\"https://content.halocdn.com/media/Default/games/halo-5-guardians/tools-of-destruction/weapons/fuel-rod-cannon-041deffe5b6e4ca283e10b2d3cc734df.png\",\"smallIconImageUrl\":\"https://image.halocdn.com:443/?path=https%3a%2f%2fcontent.halocdn.com%2fmedia%2fDefault%2fgames%2fhalo-5-guardians%2ftools-of-destruction%2fweapons%2ffuel-rod-cannon-041deffe5b6e4ca283e10b2d3cc734df.png&width=332&hash=2V1VcxW79vt%2f8BddOjOIN3V2JKaXX%2bmHelsB%2bdEfO7k%3d\",\"isUsableByPlayer\":true,\"id\":\"2670072722\",\"contentId\":\"1e4a8790-77cd-4106-9047-5ba66053e4fc\"},{\"name\":\"FRAG GRENADE\",\"description\":\"Frag grenade deployable for campaign\",\"type\":\"Grenade\",\"largeIconImageUrl\":\"https://content.halocdn.com/media/Default/games/halo-5-guardians/tools-of-destruction/weapons/frag-grenade-475ae914b9154a0fad1097e1bd93705c.png\",\"smallIconImageUrl\":\"https://image.halocdn.com:443/?path=https%3a%2f%2fcontent.halocdn.com%2fmedia%2fDefault%2fgames%2fhalo-5-guardians%2ftools-of-destruction%2fweapons%2ffrag-grenade-475ae914b9154a0fad1097e1bd93705c.png&width=332&hash=NoUz5nJ9pJWI4daAx%2b%2fGpb%2f1bxmeSqBBrZ0Q3Ue1rcE%3d\",\"isUsableByPlayer\":true,\"id\":\"4106030681\",\"contentId\":\"2355c403-e88b-4897-9698-e731cfdaf8d7\"},{\"name\":\"Energy Sword\",\"description\":\"Deadly plasma-based melee weapon. Successful strikes deplete the sword\"s limited energy charge.\",\"type\":\"Power\",\"largeIconImageUrl\":\"https://content.halocdn.com/media/Default/games/halo-5-guardians/tools-of-destruction/weapons/energy-sword-2c1b6748e5bc4354b832d9369fe814bc.png\",\"smallIconImageUrl\":\"https://image.halocdn.com:443/?path=https%3a%2f%2fcontent.halocdn.com%2fmedia%2fDefault%2fgames%2fhalo-5-guardians%2ftools-of-destruction%2fweapons%2fenergy-sword-2c1b6748e5bc4354b832d9369fe814bc.png&width=332&hash=91cKKp6Ay7GfyEHB4r8nRvzZplD7nl1mCLFx21HjJro%3d\",\"isUsableByPlayer\":true,\"id\":\"2650887244\",\"contentId\":\"d83e562a-5cef-4e86-8231-b1f5ee4e710b\"},{\"name\":\"Beam Rifle\",\"description\":\"Long-range semi-automatic energy rifle with variable-zoom 4x/10x optics. Use Smart-Link to line up headshots for one-shot kills.\",\"type\":\"Power\",\"largeIconImageUrl\":\"https://content.halocdn.com/media/Default/games/halo-5-guardians/tools-of-destruction/weapons/beam-rifle-3a4d95cd93a94895a23b217d812f8c7d.png\",\"smallIconImageUrl\":\"https://image.halocdn.com:443/?path=https%3a%2f%2fcontent.halocdn.com%2fmedia%2fDefault%2fgames%2fhalo-5-guardians%2ftools-of-destruction%2fweapons%2fbeam-rifle-3a4d95cd93a94895a23b217d812f8c7d.png&width=332&hash=oh4MRfkENVebE%2bbbqj2jIWI%2bnz1D0fPyGzkcXUf2%2b7k%3d\",\"isUsableByPlayer\":true,\"id\":\"2862629816\",\"contentId\":\"8d299779-5e9b-4273-aecf-b5727c62fcd7\"},{\"name\":\"SPLINTER GRENADE\",\"description\":\"Splinter grenade deployable for campaign\",\"type\":\"Grenade\",\"largeIconImageUrl\":\"https://content.halocdn.com/media/Default/games/halo-5-guardians/tools-of-destruction/weapons/splinter-grenade-a3734115247e4709af0ab1f53a9c6a55.png\",\"smallIconImageUrl\":\"https://image.halocdn.com:443/?path=https%3a%2f%2fcontent.halocdn.com%2fmedia%2fDefault%2fgames%2fhalo-5-guardians%2ftools-of-destruction%2fweapons%2fsplinter-grenade-a3734115247e4709af0ab1f53a9c6a55.png&width=332&hash=h03UgF2mSwcB3o56FpX5%2bj3Q1N5dfjsCh17Ur%2bSOtw0%3d\",\"isUsableByPlayer\":true,\"id\":\"3190813201\",\"contentId\":\"4eb8f0d1-4c77-438b-9719-c450b3b875db\"},{\"name\":\"DMR\",\"description\":\"DMR with Longshot Sight. Powerful and accurate semi-automatic rifle best used at mid to long-range.\",\"type\":\"Standard\",\"largeIconImageUrl\":\"https://content.halocdn.com/media/Default/games/halo-5-guardians/tools-of-destruction/weapons/dmr-13a45fa2ad074b5cb70a0ef81f36f0e1.png\",\"smallIconImageUrl\":\"https://image.halocdn.com:443/?path=https%3a%2f%2fcontent.halocdn.com%2fmedia%2fDefault%2fgames%2fhalo-5-guardians%2ftools-of-destruction%2fweapons%2fdmr-13a45fa2ad074b5cb70a0ef81f36f0e1.png&width=332&hash=WDK4RgJy%2blGjzyU1%2fCeHy5MjHgisKjGLvk0%2fZxFoj%2fE%3d\",\"isUsableByPlayer\":true,\"id\":\"523953283\",\"contentId\":\"71a5cf7d-c8f1-4ab5-8771-1854338bbb85\"},{\"name\":\"PLASMA GRENADE\",\"description\":\"Plasma grenade deployable for campaign\",\"type\":\"Grenade\",\"largeIconImageUrl\":\"https://content.halocdn.com/media/Default/games/halo-5-guardians/tools-of-destruction/weapons/plasma-grenade-e63ed2a67258459882ea3d73ca173237.png\",\"smallIconImageUrl\":\"https://image.halocdn.com:443/?path=https%3a%2f%2fcontent.halocdn.com%2fmedia%2fDefault%2fgames%2fhalo-5-guardians%2ftools-of-destruction%2fweapons%2fplasma-grenade-e63ed2a67258459882ea3d73ca173237.png&width=332&hash=zhaeCiBVuRlstZfXhYcfmtur5N8W7r3HXnpMBMECvhA%3d\",\"isUsableByPlayer\":true,\"id\":\"2460880172\",\"contentId\":\"a1ede5b9-3819-42d3-a3b3-a276571547a2\"},{\"name\":\"Sniper Rifle\",\"description\":\"Semi-automatic multi-role heavy rifle with variable-zoom 4x/9x optics. Best used at long range in conjunction with Smart-Link.\",\"type\":\"Power\",\"largeIconImageUrl\":\"https://content.halocdn.com/media/Default/games/halo-5-guardians/tools-of-destruction/weapons/sniper-rifle-b6d462a6c57d4297953d12e93e468053.png\",\"smallIconImageUrl\":\"https://image.halocdn.com:443/?path=https%3a%2f%2fcontent.halocdn.com%2fmedia%2fDefault%2fgames%2fhalo-5-guardians%2ftools-of-destruction%2fweapons%2fsniper-rifle-b6d462a6c57d4297953d12e93e468053.png&width=332&hash=BiMAWO4c0GfjEiyp%2fYMyGApujlhorPHFr8tEr49q02Y%3d\",\"isUsableByPlayer\":true,\"id\":\"669296699\",\"contentId\":\"22cad0dc-8af0-44d2-8654-f80a0c231955\"},{\"name\":\"Rocket Launcher\",\"description\":\"Shoulder-fired heavy weapon widely issued to UNSC Army, Marine Corps, and Spartan infantry to counter enemy vehicles and Promethean Knights. Can fire two missiles per magazine. Lock-on to air targets using Smart-Link before firing.\",\"type\":\"Power\",\"largeIconImageUrl\":\"https://content.halocdn.com/media/Default/games/halo-5-guardians/tools-of-destruction/weapons/rocket-launcher-fc1d373704564123ae76cf41de665d18.png\",\"smallIconImageUrl\":\"https://image.halocdn.com:443/?path=https%3a%2f%2fcontent.halocdn.com%2fmedia%2fDefault%2fgames%2fhalo-5-guardians%2ftools-of-destruction%2fweapons%2frocket-launcher-fc1d373704564123ae76cf41de665d18.png&width=332&hash=87HtwFUlzN7GoQu%2bEeySijltY9fM79i7XpN1B%2bPvvaw%3d\",\"isUsableByPlayer\":true,\"id\":\"723523180\",\"contentId\":\"f4aa9fab-fc38-4cbe-a777-0d6eab03bcc4\"},{\"name\":\"Magnum\",\"description\":\"Magnum with Projection Sight. Standard-issue semi-automatic heavy pistol. Use Smart-Link and call your shots.\",\"type\":\"Standard\",\"largeIconImageUrl\":\"https://content.halocdn.com/media/Default/games/halo-5-guardians/tools-of-destruction/weapons/magnum-d98e366992d4489bbb34e75e1ad7c2f6.png\",\"smallIconImageUrl\":\"https://image.halocdn.com:443/?path=https%3a%2f%2fcontent.halocdn.com%2fmedia%2fDefault%2fgames%2fhalo-5-guardians%2ftools-of-destruction%2fweapons%2fmagnum-d98e366992d4489bbb34e75e1ad7c2f6.png&width=332&hash=T2cr3zTZxUhcD7EWVZMgThYlYG%2brBbbZd2z8rp2dMz0%3d\",\"isUsableByPlayer\":true,\"id\":\"4096745987\",\"contentId\":\"9cf1c3ce-bf33-4c20-b9ae-56de0f6f0652\"},{\"name\":\"Battle Rifle\",\"description\":\"Battle Rifle with Recon Sight. Standard-issue burst-fire rifle that can excel at any engagement range.\",\"type\":\"Standard\",\"largeIconImageUrl\":\"https://content.halocdn.com/media/Default/games/halo-5-guardians/tools-of-destruction/weapons/br-07be901f5fac4a68aeea3dac36decc06.png\",\"smallIconImageUrl\":\"https://image.halocdn.com:443/?path=https%3a%2f%2fcontent.halocdn.com%2fmedia%2fDefault%2fgames%2fhalo-5-guardians%2ftools-of-destruction%2fweapons%2fbr-07be901f5fac4a68aeea3dac36decc06.png&width=332&hash=375YR8hAEtNlO6Vq7RPB6V56bdbd4ermo6n6UrrK2ss%3d\",\"isUsableByPlayer\":true,\"id\":\"424645655\",\"contentId\":\"9b2089b8-5652-465a-ad78-78a36761fcac\"},{\"name\":\"SPNKr Rocket Launcher\",\"description\":\"Make some noise! Twin-tube shoulder-fired rocket launcher with Smart-Link sights. Rockets can lock-on to air targets.\",\"type\":\"Power\",\"largeIconImageUrl\":\"https://content.halocdn.com/media/Default/games/halo-5-guardians/tools-of-destruction/weapons/spnkr-25d0ddbcefd14a859bceef38875b28a3.png\",\"smallIconImageUrl\":\"https://image.halocdn.com:443/?path=https%3a%2f%2fcontent.halocdn.com%2fmedia%2fDefault%2fgames%2fhalo-5-guardians%2ftools-of-destruction%2fweapons%2fspnkr-25d0ddbcefd14a859bceef38875b28a3.png&width=332&hash=YZndAuIi%2bqCqGGCvgHjNQSI1FEB5ZcW5946sExuvqSA%3d\",\"isUsableByPlayer\":true,\"id\":\"2902827823\",\"contentId\":\"e7d65a17-2517-458c-ac3f-1dd48405718e\"},{\"name\":\"Halo 2 Battle Rifle\",\"description\":\"BR with Classic Sight. Reliable firepower never goes out of style. Battle Rifle with full-screen zoom.\",\"type\":\"Standard\",\"largeIconImageUrl\":\"https://content.halocdn.com/media/Default/games/halo-5-guardians/tools-of-destruction/weapons/halo-2-battle-rifle-967c07de6b78414eafa429be2eb7ab48.png\",\"smallIconImageUrl\":\"https://image.halocdn.com:443/?path=https%3a%2f%2fcontent.halocdn.com%2fmedia%2fDefault%2fgames%2fhalo-5-guardians%2ftools-of-destruction%2fweapons%2fhalo-2-battle-rifle-967c07de6b78414eafa429be2eb7ab48.png&width=332&hash=B67pwYaY0I3WpJu5t2D11AD%2bpfb4Vqn3x41DZtJU3JY%3d\",\"isUsableByPlayer\":true,\"id\":\"4222743534\",\"contentId\":\"798a60dd-410a-4493-ba48-22e9dfd8ddff\"},{\"name\":\"Ball\",\"description\":null,\"type\":\"Unknown\",\"largeIconImageUrl\":\"https://content.halocdn.com/media/Default/games/halo-5-guardians/tools-of-destruction/weapons/assault-ball-weapon-e1cffc1788c849d8938bf104fe55e07a.png\",\"smallIconImageUrl\":\"https://image.halocdn.com:443/?path=https%3a%2f%2fcontent.halocdn.com%2fmedia%2fDefault%2fgames%2fhalo-5-guardians%2ftools-of-destruction%2fweapons%2fassault-ball-weapon-e1cffc1788c849d8938bf104fe55e07a.png&width=332&hash=XinxuuCPidF6%2fISNfNygk%2bm8Hp9%2b%2b9xAg8ZPCu9Pr1k%3d\",\"isUsableByPlayer\":true,\"id\":\"393532233\",\"contentId\":\"1e2acd11-6bbb-4f62-855b-21a8b84f5a7d\"},{\"name\":\"Gravity Hammer\",\"description\":\"Brutally effective melee weapon that combines a hammer with repurposed gravitic impellers on the striking face. Each smash unleashes a damaging area-of-effect pulse with knockback. Regular melee attacks are weaker, but do not consume energy.\",\"type\":\"Power\",\"largeIconImageUrl\":\"https://content.halocdn.com/media/Default/games/halo-5-guardians/tools-of-destruction/weapons/gravity-hammer-07ce6812c81c4c67a6dd68dbb7456355.png\",\"smallIconImageUrl\":\"https://image.halocdn.com:443/?path=https%3a%2f%2fcontent.halocdn.com%2fmedia%2fDefault%2fgames%2fhalo-5-guardians%2ftools-of-destruction%2fweapons%2fgravity-hammer-07ce6812c81c4c67a6dd68dbb7456355.png&width=332&hash=AflzYP165PLTA%2fVLKmehUKYhO7vCycNsO2GNox7ZM24%3d\",\"isUsableByPlayer\":true,\"id\":\"2899979324\",\"contentId\":\"91cefab6-7af6-4fec-8543-f8efd4908c21\"},{\"name\":\"Halo One Pistol\",\"description\":null,\"type\":\"Power\",\"largeIconImageUrl\":\"https://content.halocdn.com/media/Default/games/halo-5-guardians/tools-of-destruction/weapons/magnum-h1-42d7453086fa48ba897bd99f8f7cab8f.png\",\"smallIconImageUrl\":\"https://image.halocdn.com:443/?path=https%3a%2f%2fcontent.halocdn.com%2fmedia%2fDefault%2fgames%2fhalo-5-guardians%2ftools-of-destruction%2fweapons%2fmagnum-h1-42d7453086fa48ba897bd99f8f7cab8f.png&width=332&hash=GJ5%2fNOKvONYcodHWSK510eVm5lmK7CW92O2Nrvg0ZZE%3d\",\"isUsableByPlayer\":true,\"id\":\"2758094302\",\"contentId\":\"459e3484-e687-4867-88dc-01331973e0aa\"},{\"name\":\"Brute Plasma Rifle\",\"description\":\"Newly manufactured Brute Plasma Rifles continue to appear in the hands of mercenaries and raiders, though their source is unknown.  All Brute Plasma Rifles are capable of unleashing a devastating fusillade of plasma bolts between emergency cooling breaks.\",\"type\":\"Power\",\"largeIconImageUrl\":\"https://content.halocdn.com/media/Default/games/halo-5-guardians/tools-of-destruction/weapons/plasma_rifle-b1c39105c2b341ba9a21fb8602b51a58.png\",\"smallIconImageUrl\":\"https://image.halocdn.com:443/?path=https%3a%2f%2fcontent.halocdn.com%2fmedia%2fDefault%2fgames%2fhalo-5-guardians%2ftools-of-destruction%2fweapons%2fplasma_rifle-b1c39105c2b341ba9a21fb8602b51a58.png&width=332&hash=cISQme4MQ1V8E9e%2f0NTgE5RlWbjDrjfPUN6tJFwI8%2bQ%3d\",\"isUsableByPlayer\":true,\"id\":\"2015271382\",\"contentId\":\"eedf40c7-8fa6-4c8c-89d6-cffab3381711\"},{\"name\":\"Retro Beam Rifle\",\"description\":\"The T-50 Beam Rifle is a Covenant long-range directed-energy weapon used by raiders, snipers, and scout-executors. Long-range semi-automatic energy rifle with variable-zoom optics. Use Smart-Link to line up headshots for one-shot kills.\",\"type\":\"Power\",\"largeIconImageUrl\":\"https://content.halocdn.com/media/Default/games/halo-5-guardians/tools-of-destruction/weapons/beam_rifle_h2_default__542x305-75cb58f18b774b1286714d2843dd4e79.png\",\"smallIconImageUrl\":\"https://image.halocdn.com:443/?path=https%3a%2f%2fcontent.halocdn.com%2fmedia%2fDefault%2fgames%2fhalo-5-guardians%2ftools-of-destruction%2fweapons%2fbeam_rifle_h2_default__542x305-75cb58f18b774b1286714d2843dd4e79.png&width=332&hash=pJXZIBPNlKtG8Re1%2f9YZEj4R5ub%2fBa9xPFd%2fckmoXIY%3d\",\"isUsableByPlayer\":true,\"id\":\"907086443\",\"contentId\":\"c1028797-dff7-4f5b-bc9b-2c0f43374ca7\"},{\"name\":\"Wasp\",\"description\":\"The AV-49 Wasp supplements existing stocks of AV-14 and AV-22 aircraft in Marine service. Close air support VTOL armed with heavy machine guns and twin rocket launchers.\",\"type\":\"Vehicle\",\"largeIconImageUrl\":\"https://content.halocdn.com/media/Default/games/halo-5-guardians/tools-of-destruction/vehicles/linked_wasp_default_542x305-383ceb295f764556ba15dd3d4daaa03c.png\",\"smallIconImageUrl\":\"https://image.halocdn.com:443/?path=https%3a%2f%2fcontent.halocdn.com%2fmedia%2fDefault%2fgames%2fhalo-5-guardians%2ftools-of-destruction%2fvehicles%2flinked_wasp_default_542x305-383ceb295f764556ba15dd3d4daaa03c.png&width=332&hash=eNyCWjHbTDW56FJ9igozd197kql%2bc86xUiY142%2fd9O0%3d\",\"isUsableByPlayer\":true,\"id\":\"3207900961\",\"contentId\":\"104e4c82-b93c-4540-aae7-37ad3a8a9807\"},{\"name\":\"Hunter Arm Turret\",\"description\":\"The Lekgolo that remain in this stolen limb retain a feral vestige of their once-expansive composite mind. The Wicked Grasp fires bursts of tracking plasma shots.\",\"type\":\"Turret\",\"largeIconImageUrl\":\"https://content.halocdn.com/media/Default/games/halo-5-guardians/tools-of-destruction/weapons/hunter_arm-bbaad2f06c914a10815e2ce5c5cfdbd7.png\",\"smallIconImageUrl\":\"https://image.halocdn.com:443/?path=https%3a%2f%2fcontent.halocdn.com%2fmedia%2fDefault%2fgames%2fhalo-5-guardians%2ftools-of-destruction%2fweapons%2fhunter_arm-bbaad2f06c914a10815e2ce5c5cfdbd7.png&width=332&hash=g1DxaQfgZFeily0WUlfWHL2yi3s6yvrJX35EvqS8plU%3d\",\"isUsableByPlayer\":true,\"id\":\"1351500565\",\"contentId\":\"6779263c-57a9-49b3-9048-43a12706e4d4\"},{\"name\":\"Plasma Turret\",\"description\":\"Rapid-fire plasma cannon.\",\"type\":\"Turret\",\"largeIconImageUrl\":\"https://content.halocdn.com/media/Default/games/halo-5-guardians/tools-of-destruction/weapons/plasma_turret-aec66472854145ca9124130353ba2dd2.png\",\"smallIconImageUrl\":\"https://image.halocdn.com:443/?path=https%3a%2f%2fcontent.halocdn.com%2fmedia%2fDefault%2fgames%2fhalo-5-guardians%2ftools-of-destruction%2fweapons%2fplasma_turret-aec66472854145ca9124130353ba2dd2.png&width=332&hash=fQWbpv7LS1G%2btAXqp30E49g3wsexYg8IMFCbvSVm8XY%3d\",\"isUsableByPlayer\":true,\"id\":\"2023669721\",\"contentId\":\"ccab2aea-c7e9-4acf-baf7-916cf01b7c16\"},{\"name\":\"Jorge\"s Chaingun\",\"description\":null,\"type\":\"Turret\",\"largeIconImageUrl\":\"https://content.halocdn.com/media/Default/games/halo-5-guardians/default-images/default-turret-332x132-c3db09f21ee242589b5277004462d27e.png\",\"smallIconImageUrl\":\"https://image.halocdn.com:443/?path=https%3a%2f%2fcontent.halocdn.com%2fmedia%2fDefault%2fgames%2fhalo-5-guardians%2fdefault-images%2fdefault-turret-332x132-c3db09f21ee242589b5277004462d27e.png&width=332&hash=M89098C3LTFFiK9wiIUdjWSNxlXvoKTGlmRoBEmd6RU%3d\",\"isUsableByPlayer\":true,\"id\":\"1364188648\",\"contentId\":\"8ff7b779-b30f-48ea-b366-2c44b56f0f48\"},{\"name\":\"Golf Club\",\"description\":\"409331533\",\"type\":\"Unknown\",\"largeIconImageUrl\":\"https://content.halocdn.com/media/Default/games/halo-5-guardians/default-images/default-weapon-332x132-5e66c8cb2a2045ee8c0b15c0cb1f7944.png\",\"smallIconImageUrl\":\"https://image.halocdn.com:443/?path=https%3a%2f%2fcontent.halocdn.com%2fmedia%2fDefault%2fgames%2fhalo-5-guardians%2fdefault-images%2fdefault-weapon-332x132-5e66c8cb2a2045ee8c0b15c0cb1f7944.png&width=332&hash=B%2fQedDpaFRR6mNigEL1GT9CrU5j8lKSIYZsoepqa2gk%3d\",\"isUsableByPlayer\":true,\"id\":\"409331533\",\"contentId\":\"71e5512e-a151-492f-afe8-aef88045b9c7\"},{\"name\":\"Reach Grenade Launcher\",\"description\":\"M319\"s are single shot, break-action grenade launchers that can fire a variety of 40mm rounds. Hold trigger for alternate fuse: release trigger to manually detonate with EMP effect. The grenade can be bounced to reach around cover.\",\"type\":\"Power\",\"largeIconImageUrl\":\"https://content.halocdn.com/media/Default/Requisition/Generated/objects/multi/warzone/requisition/reqs/consumables/power_weapons/reach_grenade_launcher/reach_grenade_launcher_large-72cd406204db4d82b037928edf50cecb.png\",\"smallIconImageUrl\":\"https://image.halocdn.com:443/?path=https%3a%2f%2fcontent.halocdn.com%2fmedia%2fDefault%2fRequisition%2fGenerated%2fobjects%2fmulti%2fwarzone%2frequisition%2freqs%2fconsumables%2fpower_weapons%2freach_grenade_launcher%2freach_grenade_launcher_large-72cd406204db4d82b037928edf50cecb.png&width=332&hash=NN9c%2fFnVo6AlbPNnL5DmxP%2fuMwHh%2bo0O9vOVSy70tPo%3d\",\"isUsableByPlayer\":true,\"id\":\"1390323522\",\"contentId\":\"b0d9a560-1254-41f5-aa28-8dc0395c48c5\"},{\"name\":\"Sentinel Beam\",\"description\":\"Fired in semi-automatic mode, or the trigger can be held down to charge and then release multiple plasma grenades in quick succession.\",\"type\":\"Power\",\"largeIconImageUrl\":\"https://content.halocdn.com/media/Default/Requisition/Generated/objects/multi/warzone/requisition/reqs/consumables/power_weapons/sentinel_beam/sentinel_beam_large-27b225987ed345c09e69daa5739561d4.png\",\"smallIconImageUrl\":\"https://image.halocdn.com:443/?path=https%3a%2f%2fcontent.halocdn.com%2fmedia%2fDefault%2fRequisition%2fGenerated%2fobjects%2fmulti%2fwarzone%2frequisition%2freqs%2fconsumables%2fpower_weapons%2fsentinel_beam%2fsentinel_beam_large-27b225987ed345c09e69daa5739561d4.png&width=332&hash=9WAhg0QOoTD9cHO3tm3tvIgU4MRWMsuGmZn%2bAX8Vha4%3d\",\"isUsableByPlayer\":true,\"id\":\"3143603656\",\"contentId\":\"517154cc-c9aa-4c1a-8da5-e535c21a1727\"},{\"name\":\"PHANTOM\",\"description\":\"Phantom deployable for campaign and warzone\",\"type\":\"Vehicle\",\"largeIconImageUrl\":\"https://content.halocdn.com/media/Default/games/halo-5-guardians/default-images/default-weapon-332x132-5e66c8cb2a2045ee8c0b15c0cb1f7944.png\",\"smallIconImageUrl\":\"https://image.halocdn.com:443/?path=https%3a%2f%2fcontent.halocdn.com%2fmedia%2fDefault%2fgames%2fhalo-5-guardians%2fdefault-images%2fdefault-weapon-332x132-5e66c8cb2a2045ee8c0b15c0cb1f7944.png&width=332&hash=B%2fQedDpaFRR6mNigEL1GT9CrU5j8lKSIYZsoepqa2gk%3d\",\"isUsableByPlayer\":false,\"id\":\"1977724336\",\"contentId\":\"54d2716c-b420-4a40-9e93-6636b221177b\"},{\"name\":\"Grunt Mech\",\"description\":null,\"type\":\"Unknown\",\"largeIconImageUrl\":\"https://content.halocdn.com/media/Default/games/halo-5-guardians/default-images/default-weapon-332x132-5e66c8cb2a2045ee8c0b15c0cb1f7944.png\",\"smallIconImageUrl\":\"https://image.halocdn.com:443/?path=https%3a%2f%2fcontent.halocdn.com%2fmedia%2fDefault%2fgames%2fhalo-5-guardians%2fdefault-images%2fdefault-weapon-332x132-5e66c8cb2a2045ee8c0b15c0cb1f7944.png&width=332&hash=B%2fQedDpaFRR6mNigEL1GT9CrU5j8lKSIYZsoepqa2gk%3d\",\"isUsableByPlayer\":false,\"id\":\"1102617398\",\"contentId\":\"3056d7a5-325a-4e12-8f52-29ef4e607736\"}]\n"
   ]
  },
  {
   "cell_type": "markdown",
   "metadata": {},
   "source": [
    "## Player Arena History"
   ]
  },
  {
   "cell_type": "code",
   "execution_count": null,
   "metadata": {
    "ExecuteTime": {
     "end_time": "2021-07-01T17:05:33.921928Z",
     "start_time": "2021-07-01T17:05:32.644678Z"
    }
   },
   "outputs": [],
   "source": [
    "########### Python 3.2 #############\n",
    "import http.client, urllib.request, urllib.parse, urllib.error, base64\n",
    "\n",
    "players = ['thefishhawk88', 'Drymander']\n",
    "\n",
    "headers = {\n",
    "    # Request headers\n",
    "    'Ocp-Apim-Subscription-Key': str(api_key),\n",
    "}\n",
    "\n",
    "params = urllib.parse.urlencode({\n",
    "    # Request parameters\n",
    "#     'seasonId': '{string}',\n",
    "\n",
    "\n",
    "    \n",
    "})\n",
    "\n",
    "try:\n",
    "    conn = http.client.HTTPSConnection('www.haloapi.com')\n",
    "    conn.request(\"GET\", f\"/stats/h5/servicerecords/arena?players=drymander,thefishhawk88&%s\" % params, \"{body}\", headers)\n",
    "    response = conn.getresponse()\n",
    "    data = response.read()\n",
    "    print(data)\n",
    "    conn.close()\n",
    "except Exception as e:\n",
    "    print(\"[Errno {0}] {1}\".format(e.errno, e.strerror))\n",
    "\n",
    "####################################\n"
   ]
  },
  {
   "cell_type": "markdown",
   "metadata": {},
   "source": [
    "## Game Base Variants"
   ]
  },
  {
   "cell_type": "code",
   "execution_count": null,
   "metadata": {
    "ExecuteTime": {
     "end_time": "2021-06-28T20:56:05.053556Z",
     "start_time": "2021-06-28T20:56:04.819844Z"
    }
   },
   "outputs": [],
   "source": [
    "########### Python 3.2 #############\n",
    "import http.client, urllib.request, urllib.parse, urllib.error, base64\n",
    "\n",
    "\n",
    "\n",
    "headers = {\n",
    "    # Request headers\n",
    "    'Accept-Language': 'en',\n",
    "    'Ocp-Apim-Subscription-Key': api_key,\n",
    "}\n",
    "\n",
    "params = urllib.parse.urlencode({\n",
    "})\n",
    "\n",
    "try:\n",
    "    conn = http.client.HTTPSConnection('www.haloapi.com')\n",
    "    conn.request(\"GET\", \"/metadata/h5/metadata/game-base-variants?%s\" % params, \"{body}\", headers)\n",
    "    response = conn.getresponse()\n",
    "    data = response.read()\n",
    "    print(data)\n",
    "    conn.close()\n",
    "except Exception as e:\n",
    "    print(\"[Errno {0}] {1}\".format(e.errno, e.strerror))\n",
    "\n",
    "####################################\n"
   ]
  },
  {
   "cell_type": "code",
   "execution_count": null,
   "metadata": {
    "ExecuteTime": {
     "end_time": "2021-06-28T20:58:35.124606Z",
     "start_time": "2021-06-28T20:58:35.103613Z"
    }
   },
   "outputs": [],
   "source": [
    "test = [{\"name\":\"Strongholds\",\"internalName\":\"Strongholds\",\"iconUrl\":\"https://content.halocdn.com/media/Default/games/halo-5-guardians/game-type-icons/stronghold-8a7cbb21223e4c0fac736492d04eff91.png\",\"supportedGameModes\":[\"Arena\",\"Custom\"],\"id\":\"1571fdac-e0b4-4ebc-a73a-6e13001b71d3\",\"contentId\":\"1571fdac-e0b4-4ebc-a73a-6e13001b71d3\"},{\"name\":\"Slayer\",\"internalName\":\"Slayer\",\"iconUrl\":\"https://content.halocdn.com/media/Default/games/halo-5-guardians/game-type-icons/slayer-b92fd67142834e4d825322f2404d7753.png\",\"supportedGameModes\":[\"Arena\",\"Custom\"],\"id\":\"257a305e-4dd3-41f1-9824-dfe7e8bd59e1\",\"contentId\":\"257a305e-4dd3-41f1-9824-dfe7e8bd59e1\"},{\"name\":\"Breakout\",\"internalName\":\"Breakout\",\"iconUrl\":\"https://content.halocdn.com/media/Default/games/halo-5-guardians/game-type-icons/breakout-bc0a4c0126de468e95c757466d8d3aaf.png\",\"supportedGameModes\":[\"Arena\",\"Custom\"],\"id\":\"1e473914-46e4-408d-af26-178fb115de76\",\"contentId\":\"1e473914-46e4-408d-af26-178fb115de76\"},{\"name\":\"Capture the Flag\",\"internalName\":\"CaptureTheFlag\",\"iconUrl\":\"https://content.halocdn.com/media/Default/games/halo-5-guardians/game-type-icons/capture-the-flag-8c8c85e71b734ecbbd95b14a5d802458.png\",\"supportedGameModes\":[\"Arena\",\"Custom\"],\"id\":\"a2949322-dc84-45ab-8454-cf94fb28c189\",\"contentId\":\"a2949322-dc84-45ab-8454-cf94fb28c189\"},{\"name\":\"Warzone Assault\",\"internalName\":\"WarzoneOneBase\",\"iconUrl\":\"https://content.halocdn.com/media/Default/games/halo-5-guardians/game-type-icons/warzone-923f801e29374c6296e46515713da3c3.png\",\"supportedGameModes\":[\"Warzone\"],\"id\":\"42f97cca-2cb4-497a-a0fd-ceef1ba46bcc\",\"contentId\":\"42f97cca-2cb4-497a-a0fd-ceef1ba46bcc\"},{\"name\":\"Warzone\",\"internalName\":\"WarzoneTwoBase\",\"iconUrl\":\"https://content.halocdn.com/media/Default/games/halo-5-guardians/game-type-icons/warzone-923f801e29374c6296e46515713da3c3.png\",\"supportedGameModes\":[\"Warzone\"],\"id\":\"f6de5351-3797-41e9-8053-7fb111a3a1a0\",\"contentId\":\"f6de5351-3797-41e9-8053-7fb111a3a1a0\"},{\"name\":\"Campaign\",\"internalName\":\"Campaign\",\"iconUrl\":'null',\"supportedGameModes\":[\"Campaign\"],\"id\":\"00000003-0000-0010-8000-00aa00389b71\",\"contentId\":\"00000003-0000-0010-8000-00aa00389b71\"},{\"name\":\"Big Team CTF\",\"internalName\":\"BigTeamBattleCaptureTheFlag\",\"iconUrl\":\"https://content.halocdn.com/media/Default/games/halo-5-guardians/game-type-icons/capture-the-flag-8c8c85e71b734ecbbd95b14a5d802458.png\",\"supportedGameModes\":[\"Arena\",\"Custom\"],\"id\":\"8d4a3dbc-ef7a-405e-862b-34093ff582fd\",\"contentId\":\"8d4a3dbc-ef7a-405e-862b-34093ff582fd\"},{\"name\":\"Big Team Strongholds\",\"internalName\":\"BigTeamBattleStrongholds\",\"iconUrl\":\"https://content.halocdn.com/media/Default/games/halo-5-guardians/game-type-icons/stronghold-8a7cbb21223e4c0fac736492d04eff91.png\",\"supportedGameModes\":[\"Arena\",\"Custom\"],\"id\":\"b45854a7-e6e1-4a9c-9104-139934511779\",\"contentId\":\"b45854a7-e6e1-4a9c-9104-139934511779\"},{\"name\":\"Big Team Slayer\",\"internalName\":\"BigTeamBattleSlayer\",\"iconUrl\":\"https://content.halocdn.com/media/Default/games/halo-5-guardians/game-type-icons/slayer-b92fd67142834e4d825322f2404d7753.png\",\"supportedGameModes\":[\"Arena\",\"Custom\"],\"id\":\"65f033d2-1303-4748-bc26-ef62c38eced4\",\"contentId\":\"65f033d2-1303-4748-bc26-ef62c38eced4\"},{\"name\":'null',\"internalName\":\"Forge\",\"iconUrl\":'null',\"supportedGameModes\":[\"Custom\"],\"id\":\"a2b0a49f-a1ca-cdc2-c0bf-8fa1cacdc2c0\",\"contentId\":\"a2b0a49f-a1ca-cdc2-c0bf-8fa1cacdc2c0\"},{\"name\":\"Assault\",\"internalName\":\"Assault\",\"iconUrl\":\"https://content.halocdn.com/media/Default/games/halo-5-guardians/game-type-icons/assault-ball-409c1609094a4a28a7b7694fe720a112.png\",\"supportedGameModes\":[\"Arena\",\"Custom\"],\"id\":\"b0df8938-0fb6-42ee-846f-a0c3593344d5\",\"contentId\":\"b0df8938-0fb6-42ee-846f-a0c3593344d5\"},{\"name\":\"Grifball\",\"internalName\":\"Grifball\",\"iconUrl\":\"https://content.halocdn.com/media/Default/games/halo-5-guardians/game-type-icons/grifball-77008ff230804c3da846d3e5a11c26e6.png\",\"supportedGameModes\":[\"Arena\",\"Custom\"],\"id\":\"dda182c5-4b50-4a0f-86f3-fcb5e0db4df3\",\"contentId\":\"dda182c5-4b50-4a0f-86f3-fcb5e0db4df3\"},{\"name\":\"Warzone Firefight\",\"internalName\":\"WarzonePvE\",\"iconUrl\":\"https://content.halocdn.com/media/Default/games/halo-5-guardians/game-type-icons/firefight-0fd0ab5ab6324d1cacecb588c9074bff.png\",\"supportedGameModes\":[\"Warzone\"],\"id\":\"dfd51ee3-9060-46c3-b131-08d946c4c7b9\",\"contentId\":\"dfd51ee3-9060-46c3-b131-08d946c4c7b9\"},{\"name\":\"Infection\",\"internalName\":\"Infection\",\"iconUrl\":\"https://content.halocdn.com/media/Default/games/halo-5-guardians/game-type-icons/infection-a32cb582d1a747578342c5412151e9d0.png\",\"supportedGameModes\":[\"Arena\",\"Custom\"],\"id\":\"f6051f51-bbb6-4ccc-8ac0-cf42b7291c76\",\"contentId\":\"f6051f51-bbb6-4ccc-8ac0-cf42b7291c76\"},{\"name\":\"Campaign Score Attack\",\"internalName\":\"Campaign\",\"iconUrl\":'null',\"supportedGameModes\":[\"Campaign\"],\"id\":\"67ffc2ff-a50e-4e5d-ae08-b40e3d961061\",\"contentId\":\"67ffc2ff-a50e-4e5d-ae08-b40e3d961061\"},{\"name\":\"Mini-game\",\"internalName\":\"MiniGame\",\"iconUrl\":'null',\"supportedGameModes\":[\"Arena\",\"Custom\"],\"id\":\"a5c8c223-2418-42cf-8980-e5ceddf12232\",\"contentId\":\"a5c8c223-2418-42cf-8980-e5ceddf12232\"},{\"name\":\"Oddball\",\"internalName\":\"Oddball\",\"iconUrl\":\"https://content.halocdn.com/media/Default/games/halo-5-guardians/game-type-icons/oddball_logo-76fa7fd3131548899d2ae3fbc21376a4.png\",\"supportedGameModes\":[\"Arena\",\"Custom\"],\"id\":\"9bb6fde8-ac5b-4d45-96eb-0acc6980722a\",\"contentId\":\"9bb6fde8-ac5b-4d45-96eb-0acc6980722a\"},{\"name\":\"Big Team Assault\",\"internalName\":\"BigTeamBattleAssault\",\"iconUrl\":\"https://content.halocdn.com/media/Default/games/halo-5-guardians/game-type-icons/assault-ball-409c1609094a4a28a7b7694fe720a112.png\",\"supportedGameModes\":[\"Arena\",\"Custom\"],\"id\":\"657d658d-853a-4e82-9068-7b730720cc7f\",\"contentId\":\"657d658d-853a-4e82-9068-7b730720cc7f\"}]"
   ]
  },
  {
   "cell_type": "code",
   "execution_count": null,
   "metadata": {
    "ExecuteTime": {
     "end_time": "2021-06-28T20:58:38.276050Z",
     "start_time": "2021-06-28T20:58:38.253020Z"
    }
   },
   "outputs": [],
   "source": [
    "test"
   ]
  },
  {
   "cell_type": "code",
   "execution_count": null,
   "metadata": {},
   "outputs": [],
   "source": [
    "type(data)"
   ]
  },
  {
   "cell_type": "code",
   "execution_count": null,
   "metadata": {},
   "outputs": [],
   "source": [
    "pip install halo5.py"
   ]
  },
  {
   "cell_type": "code",
   "execution_count": null,
   "metadata": {},
   "outputs": [],
   "source": [
    "pip install halo5.py==0.3.0"
   ]
  },
  {
   "cell_type": "code",
   "execution_count": null,
   "metadata": {},
   "outputs": [],
   "source": [
    " data_decode = data.decode('utf-8')"
   ]
  },
  {
   "cell_type": "code",
   "execution_count": null,
   "metadata": {},
   "outputs": [],
   "source": [
    "data_decode"
   ]
  },
  {
   "cell_type": "code",
   "execution_count": null,
   "metadata": {},
   "outputs": [],
   "source": [
    "import json\n",
    "d = json.dumps(data_decode)"
   ]
  },
  {
   "cell_type": "code",
   "execution_count": null,
   "metadata": {},
   "outputs": [],
   "source": [
    "d"
   ]
  },
  {
   "cell_type": "code",
   "execution_count": null,
   "metadata": {},
   "outputs": [],
   "source": [
    "pip install git+https://github.com/Jma353/halo5.py"
   ]
  },
  {
   "cell_type": "code",
   "execution_count": null,
   "metadata": {},
   "outputs": [],
   "source": [
    "pip install entities"
   ]
  },
  {
   "cell_type": "code",
   "execution_count": null,
   "metadata": {},
   "outputs": [],
   "source": [
    "!pip install .entity\n",
    "\n",
    "from .entity import Entity"
   ]
  },
  {
   "cell_type": "code",
   "execution_count": null,
   "metadata": {
    "scrolled": true
   },
   "outputs": [],
   "source": [
    "from .entity import Entity"
   ]
  },
  {
   "cell_type": "code",
   "execution_count": null,
   "metadata": {},
   "outputs": [],
   "source": [
    "import halo5"
   ]
  },
  {
   "cell_type": "code",
   "execution_count": null,
   "metadata": {},
   "outputs": [],
   "source": []
  },
  {
   "cell_type": "code",
   "execution_count": null,
   "metadata": {},
   "outputs": [],
   "source": [
    "print(c.stats.post_game_arena('1e1e5a33-f37a-4d75-82b1-5e6ae4697a9c'))"
   ]
  },
  {
   "cell_type": "code",
   "execution_count": null,
   "metadata": {},
   "outputs": [],
   "source": [
    "if scrape == True:\n",
    "\n",
    "    results = []\n",
    "\n",
    "    for year in [2012, 2013, 2014, 2015, 2016, 2017, 2018, 2019]:\n",
    "\n",
    "        page_number = 1\n",
    "\n",
    "        response = requests.get('https://api.themoviedb.org/3/discover/movie?api_key=' \n",
    "                                 +  api_key + '&page=' + str(page_number) + \n",
    "                                 '&with_original_language=en&primary_release_year=' + str(year) + '&with_release_type=3&with_runtime.gte=80')\n",
    "\n",
    "        total_pages = response.json()['total_pages']\n",
    "\n",
    "        results.extend(response.json()['results'])\n",
    "\n",
    "        while page_number < total_pages:\n",
    "\n",
    "            page_number += 1\n",
    "\n",
    "            response = requests.get('https://api.themoviedb.org/3/discover/movie?api_key=' \n",
    "                                 +  api_key + '&page=' + str(page_number) + \n",
    "                                 '&with_original_language=en&primary_release_year=' + str(year) + '&with_release_type=3&with_runtime.gte=80')\n",
    "\n",
    "            results.extend(response.json()['results'])\n",
    "            \n",
    "        results.to_csv('data/2012-2019.csv')\n",
    "            \n",
    "else: print('Scrape is set to False.')"
   ]
  },
  {
   "cell_type": "code",
   "execution_count": null,
   "metadata": {},
   "outputs": [],
   "source": []
  },
  {
   "cell_type": "markdown",
   "metadata": {},
   "source": [
    "## Player History"
   ]
  },
  {
   "cell_type": "markdown",
   "metadata": {},
   "source": [
    "### Base Code"
   ]
  },
  {
   "cell_type": "code",
   "execution_count": null,
   "metadata": {
    "ExecuteTime": {
     "end_time": "2021-06-29T19:30:13.736163Z",
     "start_time": "2021-06-29T19:30:13.433352Z"
    }
   },
   "outputs": [],
   "source": [
    "headers = {\n",
    "    # Request headers\n",
    "    'Ocp-Apim-Subscription-Key': api_key,\n",
    "}\n",
    "\n",
    "player = 'Drymander'\n",
    "\n",
    "params = urllib.parse.urlencode({\n",
    "    # Request parameters\n",
    "    'modes': 'arena',\n",
    "    'start': 25,\n",
    "    'count': 25,\n",
    "    'include-times': True,\n",
    "})\n",
    "\n",
    "try:\n",
    "    conn = http.client.HTTPSConnection('www.haloapi.com')\n",
    "    conn.request(\"GET\", f\"/stats/h5/players/{player}/matches?%s\" % params, \"{body}\", headers)\n",
    "    response = conn.getresponse()\n",
    "    data = response.read()\n",
    "    data = json.loads(data)\n",
    "#     print(data)\n",
    "    conn.close()\n",
    "except Exception as e:\n",
    "    print(f\"[Errno {0}] {1}\".format(e.errno, e.strerror))\n",
    "\n",
    "####################################\n"
   ]
  },
  {
   "cell_type": "code",
   "execution_count": null,
   "metadata": {
    "ExecuteTime": {
     "end_time": "2021-06-29T16:01:45.166341Z",
     "start_time": "2021-06-29T16:01:45.148308Z"
    }
   },
   "outputs": [],
   "source": [
    "type(data['Results'])"
   ]
  },
  {
   "cell_type": "code",
   "execution_count": null,
   "metadata": {
    "ExecuteTime": {
     "end_time": "2021-06-29T16:01:59.670499Z",
     "start_time": "2021-06-29T16:01:59.540542Z"
    }
   },
   "outputs": [],
   "source": [
    "data2"
   ]
  },
  {
   "cell_type": "code",
   "execution_count": null,
   "metadata": {
    "ExecuteTime": {
     "end_time": "2021-06-29T16:03:32.580734Z",
     "start_time": "2021-06-29T16:03:32.572737Z"
    }
   },
   "outputs": [],
   "source": [
    "data3 = data['Results'].extend(data2['Results'])"
   ]
  },
  {
   "cell_type": "code",
   "execution_count": null,
   "metadata": {
    "ExecuteTime": {
     "end_time": "2021-06-29T16:05:24.755936Z",
     "start_time": "2021-06-29T16:05:24.741943Z"
    }
   },
   "outputs": [],
   "source": [
    "data3= []"
   ]
  },
  {
   "cell_type": "code",
   "execution_count": null,
   "metadata": {
    "ExecuteTime": {
     "end_time": "2021-06-29T16:05:24.978946Z",
     "start_time": "2021-06-29T16:05:24.964951Z"
    }
   },
   "outputs": [],
   "source": [
    "data3.extend(data['Results'])"
   ]
  },
  {
   "cell_type": "code",
   "execution_count": null,
   "metadata": {
    "ExecuteTime": {
     "end_time": "2021-06-29T16:05:25.830308Z",
     "start_time": "2021-06-29T16:05:25.819303Z"
    }
   },
   "outputs": [],
   "source": [
    "data3.extend(data2['Results'])"
   ]
  },
  {
   "cell_type": "code",
   "execution_count": null,
   "metadata": {
    "ExecuteTime": {
     "end_time": "2021-06-29T16:05:27.813148Z",
     "start_time": "2021-06-29T16:05:27.520238Z"
    }
   },
   "outputs": [],
   "source": [
    "data3"
   ]
  },
  {
   "cell_type": "code",
   "execution_count": null,
   "metadata": {},
   "outputs": [],
   "source": []
  },
  {
   "cell_type": "markdown",
   "metadata": {},
   "source": [
    "### Pull All"
   ]
  },
  {
   "cell_type": "code",
   "execution_count": null,
   "metadata": {
    "ExecuteTime": {
     "end_time": "2021-07-01T17:33:21.230864Z",
     "start_time": "2021-07-01T17:25:46.864755Z"
    }
   },
   "outputs": [],
   "source": [
    "gamertag = 'Drymander'\n",
    "\n",
    "headers = {\n",
    "    # Request headers\n",
    "    'Ocp-Apim-Subscription-Key': api_key,\n",
    "}\n",
    "\n",
    "start = 0\n",
    "\n",
    "matches = []\n",
    "\n",
    "maxed_out = False\n",
    "\n",
    "while maxed_out == False:\n",
    "    try:\n",
    "        \n",
    "        params = urllib.parse.urlencode({\n",
    "            # Request parameters\n",
    "            # Request parameters\n",
    "            'modes': 'arena',\n",
    "            'start': start,\n",
    "            'count': 25,\n",
    "            'include-times': True,\n",
    "        })\n",
    "        \n",
    "        conn = http.client.HTTPSConnection('www.haloapi.com')\n",
    "        conn.request(\"GET\", f\"/stats/h5/players/{gamertag}/matches?%s\" % params, \"{body}\", headers)\n",
    "        response = conn.getresponse()\n",
    "        data = response.read()\n",
    "#         print(data)\n",
    "        data = json.loads(data)\n",
    "        matches.extend(data['Results'])\n",
    "        \n",
    "\n",
    "#         conn.close()\n",
    "# #         if data['ResultCount'] == 25:\n",
    "#         if data['Start'] > 100:\n",
    "#             maxed_out = True\n",
    "\n",
    "#         else:\n",
    "#             maxed_out = False\n",
    "#             time.sleep(1.1)\n",
    "#             start += 25\n",
    "            \n",
    "        conn.close()\n",
    "        if data['ResultCount'] == 25:\n",
    "#         if data['Start'] > 100:\n",
    "            maxed_out = False\n",
    "            time.sleep(1.1)\n",
    "            start += 25\n",
    "        \n",
    "        else:\n",
    "            maxed_out = True\n",
    "\n",
    "        \n",
    "    \n",
    "    except Exception as e:\n",
    "        print(\"error\")\n",
    "\n",
    "####################################\n",
    "# data['ResultCount'] == 25\n",
    "\n",
    "matches"
   ]
  },
  {
   "cell_type": "code",
   "execution_count": null,
   "metadata": {
    "ExecuteTime": {
     "end_time": "2021-06-28T22:08:58.281089Z",
     "start_time": "2021-06-28T22:08:58.264097Z"
    }
   },
   "outputs": [],
   "source": []
  },
  {
   "cell_type": "code",
   "execution_count": null,
   "metadata": {},
   "outputs": [],
   "source": []
  },
  {
   "cell_type": "markdown",
   "metadata": {},
   "source": [
    "### Match History into Dataframe"
   ]
  },
  {
   "cell_type": "code",
   "execution_count": null,
   "metadata": {
    "ExecuteTime": {
     "end_time": "2021-07-01T17:34:57.640936Z",
     "start_time": "2021-07-01T17:34:57.174087Z"
    }
   },
   "outputs": [],
   "source": [
    "# matches = match_history\n",
    "\n",
    "df = pd.DataFrame(matches)\n",
    "matches\n",
    "df.head(1)\n",
    "\n",
    "# df.insert(2, 'test', df_id['MatchId'])\n",
    "df.to_csv('DrymanderHistory.csv')\n",
    "df.head(1)"
   ]
  },
  {
   "cell_type": "code",
   "execution_count": null,
   "metadata": {
    "ExecuteTime": {
     "end_time": "2021-07-01T17:35:39.639586Z",
     "start_time": "2021-07-01T17:35:37.091138Z"
    }
   },
   "outputs": [],
   "source": [
    "def explode_column(df, column):\n",
    "    column = str(column)\n",
    "    column_loc = df.columns.get_loc(column)\n",
    "    column_split = df[column].apply(pd.Series)\n",
    "    \n",
    "    column_split_columns = column_split.values.tolist()\n",
    "    \n",
    "#     print(column_split)\n",
    "    \n",
    "    df = df.drop(columns=[column])\n",
    "    \n",
    "    df = df.join(column_split, rsuffix=str(column))\n",
    "    \n",
    "# #     for column in column_split_columns:\n",
    "# #         df.insert(column_loc, str(column), column)\n",
    "        \n",
    "#     for column in column_split_columns:\n",
    "#         df.insert(column_loc, 'test5', column_split['MatchId'])\n",
    "    \n",
    "    return df\n",
    "\n",
    "explode_column(df, 'Id').head(1)"
   ]
  },
  {
   "cell_type": "code",
   "execution_count": null,
   "metadata": {
    "ExecuteTime": {
     "end_time": "2021-07-01T17:35:42.414710Z",
     "start_time": "2021-07-01T17:35:39.644582Z"
    }
   },
   "outputs": [],
   "source": [
    "df = explode_column(df, 'Id')\n",
    "\n",
    "df.head(1)"
   ]
  },
  {
   "cell_type": "code",
   "execution_count": null,
   "metadata": {
    "ExecuteTime": {
     "end_time": "2021-07-01T17:35:45.039871Z",
     "start_time": "2021-07-01T17:35:42.417695Z"
    }
   },
   "outputs": [],
   "source": [
    "df = explode_column(df, 'MapVariant')\n",
    "\n",
    "df.head(1)"
   ]
  },
  {
   "cell_type": "code",
   "execution_count": null,
   "metadata": {
    "ExecuteTime": {
     "end_time": "2021-07-01T17:35:47.590041Z",
     "start_time": "2021-07-01T17:35:45.044856Z"
    }
   },
   "outputs": [],
   "source": [
    "df = explode_column(df, 'GameVariant')\n",
    "\n",
    "df.head(1)"
   ]
  },
  {
   "cell_type": "code",
   "execution_count": null,
   "metadata": {
    "ExecuteTime": {
     "end_time": "2021-07-01T17:35:50.363153Z",
     "start_time": "2021-07-01T17:35:47.592039Z"
    }
   },
   "outputs": [],
   "source": [
    "df = explode_column(df, 'MatchCompletedDate')\n",
    "\n",
    "df.head(1)"
   ]
  },
  {
   "cell_type": "code",
   "execution_count": null,
   "metadata": {
    "ExecuteTime": {
     "end_time": "2021-07-01T17:35:52.127782Z",
     "start_time": "2021-07-01T17:35:50.366152Z"
    }
   },
   "outputs": [],
   "source": [
    "df = explode_column(df, 'Teams')\n",
    "\n",
    "df.head(1)"
   ]
  },
  {
   "cell_type": "code",
   "execution_count": null,
   "metadata": {
    "ExecuteTime": {
     "end_time": "2021-07-01T17:36:04.001668Z",
     "start_time": "2021-07-01T17:35:59.007127Z"
    }
   },
   "outputs": [],
   "source": [
    "# df = df.rename(columns={0: 'Blue', 1: 'Red'}, inplace=True)\n",
    "df.columns = df.columns.astype(str)\n",
    "df = explode_column(df, '0')\n",
    "df = explode_column(df, '1')\n",
    "\n",
    "df.head(1)"
   ]
  },
  {
   "cell_type": "code",
   "execution_count": null,
   "metadata": {
    "ExecuteTime": {
     "end_time": "2021-07-01T17:36:21.413760Z",
     "start_time": "2021-07-01T17:36:13.580135Z"
    }
   },
   "outputs": [],
   "source": [
    "explode_column(df, 'Players').head(1)\n",
    "\n",
    "df_players = df['Players'].apply(pd.Series)\n",
    "\n",
    "df_players[0]\n",
    "\n",
    "df_players.columns = df_players.columns.astype(str)\n",
    "\n",
    "df_players_explode = explode_column(df_players, '0')\n",
    "\n",
    "df_match_stats = explode_column(df_players_explode, 'Player')\n",
    "\n",
    "df = df.join(df_match_stats, rsuffix='_stats')\n"
   ]
  },
  {
   "cell_type": "code",
   "execution_count": null,
   "metadata": {
    "ExecuteTime": {
     "end_time": "2021-07-01T17:36:21.491702Z",
     "start_time": "2021-07-01T17:36:21.415710Z"
    }
   },
   "outputs": [],
   "source": [
    "pd.set_option('display.max_columns', None)\n",
    "\n",
    "df.head(1)"
   ]
  },
  {
   "cell_type": "code",
   "execution_count": null,
   "metadata": {
    "ExecuteTime": {
     "end_time": "2021-07-01T17:36:36.988845Z",
     "start_time": "2021-07-01T17:36:36.598933Z"
    }
   },
   "outputs": [],
   "source": [
    "df.to_csv('DrymanderHistoryExplode.csv')"
   ]
  },
  {
   "cell_type": "code",
   "execution_count": null,
   "metadata": {},
   "outputs": [],
   "source": [
    "# ['HopperId', 'MapId', 'GameBaseVariantId', 'MatchDuration',\n",
    "#        'IsTeamGame', 'SeasonId', 'MatchCompletedDateFidelity',\n",
    "#        'MatchId', 'GameMode', 'ResourceType', 'ResourceId', 'OwnerType',\n",
    "#        'Owner', 'ResourceTypeGameVariant', 'ResourceIdGameVariant',\n",
    "#        'OwnerTypeGameVariant', 'OwnerGameVariant', 'ISO8601Date', 'Id',\n",
    "#        'Score', 'Rank', 'Id1', 'Score1', 'Rank1', 'TeamId', 'Rank_stats',\n",
    "#        'Result', 'TotalKills', 'TotalDeaths', 'TotalAssists',\n",
    "#        'PreMatchRatings', 'PostMatchRatings', 'Gamertag']"
   ]
  },
  {
   "cell_type": "code",
   "execution_count": null,
   "metadata": {},
   "outputs": [],
   "source": []
  },
  {
   "cell_type": "code",
   "execution_count": null,
   "metadata": {},
   "outputs": [],
   "source": []
  },
  {
   "cell_type": "code",
   "execution_count": null,
   "metadata": {},
   "outputs": [],
   "source": []
  },
  {
   "cell_type": "code",
   "execution_count": null,
   "metadata": {},
   "outputs": [],
   "source": []
  },
  {
   "cell_type": "code",
   "execution_count": null,
   "metadata": {},
   "outputs": [],
   "source": []
  },
  {
   "cell_type": "code",
   "execution_count": null,
   "metadata": {},
   "outputs": [],
   "source": []
  },
  {
   "cell_type": "code",
   "execution_count": null,
   "metadata": {},
   "outputs": [],
   "source": []
  },
  {
   "cell_type": "code",
   "execution_count": null,
   "metadata": {},
   "outputs": [],
   "source": []
  },
  {
   "cell_type": "code",
   "execution_count": null,
   "metadata": {},
   "outputs": [],
   "source": []
  },
  {
   "cell_type": "code",
   "execution_count": null,
   "metadata": {},
   "outputs": [],
   "source": []
  },
  {
   "cell_type": "code",
   "execution_count": null,
   "metadata": {},
   "outputs": [],
   "source": []
  },
  {
   "cell_type": "code",
   "execution_count": null,
   "metadata": {},
   "outputs": [],
   "source": []
  },
  {
   "cell_type": "code",
   "execution_count": null,
   "metadata": {
    "ExecuteTime": {
     "end_time": "2021-06-28T22:35:14.053906Z",
     "start_time": "2021-06-28T22:35:10.078859Z"
    }
   },
   "outputs": [],
   "source": [
    "pip install isodate"
   ]
  },
  {
   "cell_type": "code",
   "execution_count": null,
   "metadata": {
    "ExecuteTime": {
     "end_time": "2021-06-28T22:36:21.922623Z",
     "start_time": "2021-06-28T22:36:21.885621Z"
    }
   },
   "outputs": [],
   "source": [
    "import isodate"
   ]
  },
  {
   "cell_type": "code",
   "execution_count": null,
   "metadata": {
    "ExecuteTime": {
     "end_time": "2021-06-28T22:13:27.173993Z",
     "start_time": "2021-06-28T22:13:27.156987Z"
    }
   },
   "outputs": [],
   "source": [
    "for data in matches:\n",
    "    data_row = matches['Id']\n",
    "    "
   ]
  },
  {
   "cell_type": "code",
   "execution_count": null,
   "metadata": {
    "ExecuteTime": {
     "end_time": "2021-06-28T22:37:15.591331Z",
     "start_time": "2021-06-28T22:37:15.581337Z"
    }
   },
   "outputs": [],
   "source": [
    "print(isodate.parse_duration('PT7M42.0370831S'))"
   ]
  },
  {
   "cell_type": "code",
   "execution_count": null,
   "metadata": {},
   "outputs": [],
   "source": []
  },
  {
   "cell_type": "code",
   "execution_count": null,
   "metadata": {
    "ExecuteTime": {
     "end_time": "2021-06-28T21:44:02.819544Z",
     "start_time": "2021-06-28T21:44:02.805553Z"
    }
   },
   "outputs": [],
   "source": [
    "response.read()"
   ]
  },
  {
   "cell_type": "code",
   "execution_count": null,
   "metadata": {
    "ExecuteTime": {
     "end_time": "2021-06-28T20:09:25.805598Z",
     "start_time": "2021-06-28T20:09:25.794604Z"
    }
   },
   "outputs": [],
   "source": [
    "dic = json.loads(data)\n",
    "\n",
    "# dic['Results'][0]['MapId']\n",
    "\n",
    "map_list = []\n",
    "\n",
    "i = 0\n",
    "\n",
    "for map in dic['Results']:\n",
    "    mapId = dic['Results'][i]['MapVariant']['ResourceId']\n",
    "    map_list.append(mapId)\n",
    "    i += 1\n",
    "    \n",
    "map_list\n",
    "    "
   ]
  },
  {
   "cell_type": "markdown",
   "metadata": {},
   "source": [
    "## Map Variants"
   ]
  },
  {
   "cell_type": "code",
   "execution_count": null,
   "metadata": {
    "ExecuteTime": {
     "end_time": "2021-06-28T21:42:39.121303Z",
     "start_time": "2021-06-28T21:42:25.260518Z"
    }
   },
   "outputs": [],
   "source": [
    "# # dic['Results'][0]['MapId']\n",
    "\n",
    "# map_list = []\n",
    "\n",
    "# i = 0\n",
    "\n",
    "# for map in dic['Results']:\n",
    "#     mapId = dic['Results'][i]['MapVariant']['ResourceId']\n",
    "#     map_list.append(mapId)\n",
    "#     i += 1\n",
    "    \n",
    "# map_list\n",
    "    \n",
    "\n",
    "########### Python 3.2 #############\n",
    "import http.client, urllib.request, urllib.parse, urllib.error, base64\n",
    "\n",
    "id = '8c7142ec-178e-461a-8b9c-d83e2d63a5df'\n",
    "\n",
    "headers = {\n",
    "    # Request headers\n",
    "    'Accept-Language': 'en',\n",
    "    'Ocp-Apim-Subscription-Key': api_key,\n",
    "}\n",
    "\n",
    "params = urllib.parse.urlencode({\n",
    "})\n",
    "\n",
    "map_list_names = []\n",
    "\n",
    "for map_id in map_list:\n",
    "    try:\n",
    "        conn = http.client.HTTPSConnection('www.haloapi.com')\n",
    "        conn.request(\"GET\", f\"/metadata/h5/metadata/map-variants/{map_id}?%s\" % params, \"{body}\", headers)\n",
    "        response = conn.getresponse()\n",
    "        data = response.read()\n",
    "        data = json.loads(data)\n",
    "        map_name = data['name']\n",
    "        map_list_names.append(map_name)\n",
    "        conn.close()\n",
    "        time.sleep(1.2)\n",
    "    except Exception as e:\n",
    "        print(\"[Errno {0}] {1}\".format(e.errno, e.strerror))\n",
    "\n",
    "####################################\n",
    "\n",
    "map_list_names\n"
   ]
  },
  {
   "cell_type": "code",
   "execution_count": null,
   "metadata": {
    "ExecuteTime": {
     "end_time": "2021-06-28T19:18:40.113088Z",
     "start_time": "2021-06-28T19:17:21.275027Z"
    }
   },
   "outputs": [],
   "source": []
  },
  {
   "cell_type": "markdown",
   "metadata": {
    "ExecuteTime": {
     "end_time": "2021-06-28T19:18:58.190532Z",
     "start_time": "2021-06-28T19:18:58.170539Z"
    }
   },
   "source": [
    "# Scratch"
   ]
  },
  {
   "cell_type": "code",
   "execution_count": null,
   "metadata": {},
   "outputs": [],
   "source": []
  },
  {
   "cell_type": "code",
   "execution_count": null,
   "metadata": {},
   "outputs": [],
   "source": [
    "df_match"
   ]
  },
  {
   "cell_type": "code",
   "execution_count": null,
   "metadata": {},
   "outputs": [],
   "source": [
    "df_match1 = df_match.copy()\n",
    "\n",
    "playerteam = df_match.loc[df_match['Gamertag'] == user, 'TeamId'].values[0]\n",
    "playerteam\n",
    "\n",
    "player_df = df_match.loc[df_match['TeamId'] == playerteam]\n",
    "enemy_df = df_match.loc[df_match['TeamId'] != playerteam]\n",
    "\n",
    "row_list = []\n",
    "\n",
    "row_list.append(match_details[0]['MatchId'])\n",
    "\n",
    "for row in range(len(player_df)):\n",
    "    \n",
    "    row_list.extend(list(player_df.iloc[row].values[1:]))\n",
    "    \n",
    "for row in range(len(enemy_df)):\n",
    "    \n",
    "    row_list.extend(list(enemy_df.iloc[row].values[1:]))\n",
    "\n",
    "# row_list.extend(list(player_df.iloc[row].values[1:]) for row in range(len(player_df)))\n",
    "row_list\n"
   ]
  },
  {
   "cell_type": "code",
   "execution_count": null,
   "metadata": {},
   "outputs": [],
   "source": [
    "# match_details_df.loc[row_count] = row_list\n",
    "\n",
    "match_details_df\n",
    "row_list"
   ]
  },
  {
   "cell_type": "code",
   "execution_count": null,
   "metadata": {},
   "outputs": [],
   "source": [
    "df_match"
   ]
  },
  {
   "cell_type": "code",
   "execution_count": null,
   "metadata": {},
   "outputs": [],
   "source": [
    "match_results = match_details[3]\n",
    "\n",
    "i = 0\n",
    "\n",
    "df_match = pd.DataFrame()\n",
    "columns = [\n",
    "    'TeamId',\n",
    "    'Gamertag',\n",
    "    'SpartanRank',\n",
    "    'PrevTotalXP',\n",
    "]\n",
    "df_match = pd.DataFrame(columns = columns)\n",
    "\n",
    "for player in match_results['PlayerStats']:\n",
    "\n",
    "    player_dic = {}\n",
    "    # Team ID\n",
    "    player_dic['TeamId'] = match_results['PlayerStats'][i]['TeamId']\n",
    "    # Gamer Tag\n",
    "    player_dic['Gamertag'] = match_results['PlayerStats'][i]['Player']['Gamertag']\n",
    "    # Spartan Rank\n",
    "    player_dic['SpartanRank'] = match_results['PlayerStats'][i]['XpInfo']['SpartanRank']\n",
    "    # Previous Total XP\n",
    "    player_dic['PrevTotalXP'] = match_results['PlayerStats'][i]['XpInfo']['PrevTotalXP']\n",
    "    df_match = df_match.append(player_dic, ignore_index=True)\n",
    "    i += 1\n",
    "    \n",
    "df_match\n",
    "\n",
    "# playerteam = df_match.loc[df_match['Gamertag'] == user, 'TeamId'].values[0]\n",
    "\n",
    "# playerteam"
   ]
  },
  {
   "cell_type": "code",
   "execution_count": null,
   "metadata": {},
   "outputs": [],
   "source": []
  },
  {
   "cell_type": "code",
   "execution_count": null,
   "metadata": {},
   "outputs": [],
   "source": [
    "test_df = model_df.copy()\n",
    "\n",
    "\n",
    "\n",
    "test_df['P3_TotalTimePlayed'] = pd.to_numeric(test_df['P3_TotalTimePlayed'], errors='coerce', downcast='float')\n",
    "\n",
    "# test_df.info()\n",
    "\n",
    "test_df.head(20)"
   ]
  },
  {
   "cell_type": "code",
   "execution_count": null,
   "metadata": {},
   "outputs": [],
   "source": [
    "isinstance(test_df['P3_TotalTimePlayed'], pd.Series)"
   ]
  },
  {
   "cell_type": "code",
   "execution_count": null,
   "metadata": {},
   "outputs": [],
   "source": [
    "index_series = test_df['P3_TotalTimePlayed'].map(lambda x: isinstance(x, pd.core.series.Series))\n",
    "\n",
    "test_df[index_series]"
   ]
  },
  {
   "cell_type": "code",
   "execution_count": null,
   "metadata": {},
   "outputs": [],
   "source": [
    "model_df.iloc[18, 3]"
   ]
  },
  {
   "cell_type": "markdown",
   "metadata": {},
   "source": [
    "# original modeling code"
   ]
  },
  {
   "cell_type": "code",
   "execution_count": null,
   "metadata": {},
   "outputs": [],
   "source": []
  },
  {
   "cell_type": "markdown",
   "metadata": {},
   "source": [
    "# Model with TimePlayed"
   ]
  },
  {
   "cell_type": "code",
   "execution_count": null,
   "metadata": {},
   "outputs": [],
   "source": [
    "\n",
    "\n",
    "# Assigning X and y for train test split\n",
    "\n",
    "features = model_1000.drop(['PlayerWin'], axis=1)\n",
    "target = model_1000['PlayerWin']\n",
    "\n",
    "\n",
    "X = features\n",
    "y = target\n",
    "\n",
    "y=y.astype('int')\n",
    "\n",
    "X_train, X_test, y_train, y_test = train_test_split(X, y, test_size=0.3, \n",
    "                                                    random_state=8)\n",
    "\n",
    "print(X_train.shape)\n",
    "print(X_test.shape)\n",
    "\n",
    "X_train"
   ]
  },
  {
   "cell_type": "markdown",
   "metadata": {},
   "source": [
    "# Fit Transform Data"
   ]
  },
  {
   "cell_type": "code",
   "execution_count": null,
   "metadata": {},
   "outputs": [],
   "source": [
    "# numericals = X.select_dtypes('float').columns\n",
    "\n",
    "# scaler = StandardScaler()\n",
    "\n",
    "# X_train = pd.DataFrame(scaler.fit_transform(X_train), columns=numericals)\n",
    "\n",
    "# X_test = pd.DataFrame(scaler.transform(X_test), columns=numericals)"
   ]
  },
  {
   "cell_type": "code",
   "execution_count": null,
   "metadata": {},
   "outputs": [],
   "source": [
    "model_log = LogisticRegression(random_state=8)\n",
    "model_log.fit(X_train, y_train)"
   ]
  },
  {
   "cell_type": "code",
   "execution_count": null,
   "metadata": {},
   "outputs": [],
   "source": [
    "def evaluate_model(model, X_train, X_test, y_train=y_train, \n",
    "                   y_test=y_test, cmap='Greens', normalize=None,\n",
    "                   classes=None,figsize=(10,4)):\n",
    "    \n",
    "    \"\"\"\n",
    "    model :: classifier user desires to evaluate\n",
    "    X_train :: X training data\n",
    "    X_test :: X test data\n",
    "    y_train :: y_train data\n",
    "    y_test :: y_train data\n",
    "    cmap :: color palette of confusion matrix\n",
    "    normalize :: set to True if normalized confusion matrix is desired\n",
    "    figsize :: desired plot size\n",
    "\n",
    "    \"\"\"\n",
    "    \n",
    "    # Print model accuracy\n",
    "    print(f'Training Accuracy: {model.score(X_train,y_train):.2%}')\n",
    "    print(f'Test Accuracy: {model.score(X_test,y_test):.2%}')\n",
    "    print('')\n",
    "    \n",
    "    # Print classification report\n",
    "    y_test_predict = model.predict(X_test)\n",
    "    print(metrics.classification_report(y_test, y_test_predict,\n",
    "                                        target_names=classes))\n",
    "    \n",
    "    # Plot confusion matrix\n",
    "    fig,ax = plt.subplots(ncols=2,figsize=figsize)\n",
    "    metrics.plot_confusion_matrix(model, X_test,y_test,cmap=cmap, \n",
    "                                  normalize=normalize,display_labels=classes,\n",
    "                                  ax=ax[0])\n",
    "    \n",
    "    #Plot ROC curves\n",
    "    with sns.axes_style(\"darkgrid\"):\n",
    "        curve = metrics.plot_roc_curve(model,X_train,y_train,ax=ax[1])\n",
    "        curve2 = metrics.plot_roc_curve(model,X_test,y_test,ax=ax[1])\n",
    "        curve.ax_.grid()\n",
    "        curve.ax_.plot([0,1],[0,1],ls=':')\n",
    "        fig.tight_layout()\n",
    "        plt.show()"
   ]
  },
  {
   "cell_type": "code",
   "execution_count": null,
   "metadata": {},
   "outputs": [],
   "source": [
    "evaluate_model(model_log, X_train, X_test)"
   ]
  },
  {
   "cell_type": "code",
   "execution_count": null,
   "metadata": {},
   "outputs": [],
   "source": []
  },
  {
   "cell_type": "code",
   "execution_count": null,
   "metadata": {},
   "outputs": [],
   "source": [
    "model_columns = ['PlayerWin',\n",
    "    'P1_PrevTotalXP', 'P2_PrevTotalXP',\n",
    "    'P3_PrevTotalXP', 'P4_PrevTotalXP', 'E1_PrevTotalXP',\n",
    "    'E2_PrevTotalXP', 'E3_PrevTotalXP', 'E4_PrevTotalXP',\n",
    "    ]\n",
    "\n",
    "model_df = df[model_columns].copy()\n",
    "\n",
    "model_df = model_df.dropna()\n",
    "\n",
    "\n",
    "# Sort Players in dataframe by highest value\n",
    "i = 0\n",
    "for row in tqdm(model_df.iterrows()):\n",
    "\n",
    "        model_df.iloc[i, 1:5] = model_df.iloc[i, 1:5].sort_values(ascending=False).values\n",
    "        # print(player_sort)\n",
    "\n",
    "        model_df.iloc[i, 5:9] = model_df.iloc[i, 5:9].sort_values(ascending=False).values\n",
    "        # print(enemy_sort)\n",
    "    \n",
    "        i += 1"
   ]
  },
  {
   "cell_type": "code",
   "execution_count": null,
   "metadata": {
    "ExecuteTime": {
     "end_time": "2021-07-11T21:56:56.830945Z",
     "start_time": "2021-07-11T21:56:05.262886Z"
    }
   },
   "outputs": [],
   "source": []
  },
  {
   "cell_type": "code",
   "execution_count": null,
   "metadata": {
    "ExecuteTime": {
     "end_time": "2021-07-12T00:23:34.528430Z",
     "start_time": "2021-07-12T00:21:07.738728Z"
    }
   },
   "outputs": [],
   "source": [
    "# all_players_df = pd.DataFrame(all_players)\n",
    "\n",
    "# all_players_df.head()\n",
    "\n",
    "# all_players_df.to_csv('all_players.csv')"
   ]
  },
  {
   "cell_type": "code",
   "execution_count": null,
   "metadata": {},
   "outputs": [],
   "source": [
    "# df = df2.head(1).copy()\n",
    "\n",
    "# df2.head(1)"
   ]
  },
  {
   "cell_type": "code",
   "execution_count": null,
   "metadata": {},
   "outputs": [],
   "source": [
    "# P1 = (df['P1'].values[0], 'P1')\n",
    "# P2 = (df['P2'].values[0], 'P2')\n",
    "# roster = [P1, P2]\n",
    "\n",
    "# df[P1[1] + '_TotalTimePlayed']"
   ]
  },
  {
   "cell_type": "code",
   "execution_count": null,
   "metadata": {},
   "outputs": [],
   "source": [
    "# # it's not going to the next row so i'm going to figure out why that is\n",
    "\n",
    "# 'P1' in df\n",
    "\n",
    "# p[1] + '_TotalTimePlayed' not in df\n",
    "\n",
    "\n",
    "\n",
    "# df = df2.head(3).copy()\n",
    "\n",
    "# df[p[1] + '_TotalTimePlayed'] = pd.Series\n",
    "# df[p[1] + '_TotalTimePlayed'].iloc[0] = 1\n",
    "# df[p[1] + '_TotalTimePlayed'].iloc[0]"
   ]
  },
  {
   "cell_type": "markdown",
   "metadata": {},
   "source": [
    "# This code successfully adds player stat for game base variant for entire DataFrame"
   ]
  },
  {
   "cell_type": "code",
   "execution_count": null,
   "metadata": {
    "ExecuteTime": {
     "end_time": "2021-07-11T22:00:34.322582Z",
     "start_time": "2021-07-11T22:00:34.319592Z"
    }
   },
   "outputs": [],
   "source": []
  },
  {
   "cell_type": "code",
   "execution_count": null,
   "metadata": {},
   "outputs": [],
   "source": [
    "# if p[1] + '_K/D' not in df:\n",
    "#     df[p[1] + '_K/D'] = pd.Series()\n",
    "#     df[p[1] + '_K/D'].iloc[row_count] = variant['TotalKills'] / variant['TotalDeaths']\n",
    "# # Create new column for TotalTimePlayed using P1, P2, E1, etc.\n",
    "# else:\n",
    "#     df[p[1] + '_K/D'].iloc[row_count] = variant['TotalKills'] / variant['TotalDeaths']\n",
    "    \n",
    "# if p[1] + '_Accuracy' not in df:\n",
    "#     df[p[1] + '_Accuracy'] = pd.Series()\n",
    "#     df[p[1] + '_Accuracy'].iloc[row_count] = variant['TotalShotsLanded'] / variant['TotalShotsFired']\n",
    "# # Create new column for TotalTimePlayed using P1, P2, E1, etc.\n",
    "# else:\n",
    "#     df[p[1] + '_Accuracy'].iloc[row_count] = variant['TotalShotsLanded'] / variant['TotalShotsFired']\n",
    "    \n",
    "# if p[1] + '_WinRate' not in df:\n",
    "#     df[p[1] + '_WinRate'] = pd.Series()\n",
    "#     df[p[1] + '_WinRate'].iloc[row_count] = variant['TotalGamesWon'] / variant['TotalGamesLost']\n",
    "# # Create new column for TotalTimePlayed using P1, P2, E1, etc.\n",
    "# else:\n",
    "#     df[p[1] + '_WinRate'].iloc[row_count] = variant['TotalGamesWon'] / variant['TotalGamesLost']\n"
   ]
  }
 ],
 "metadata": {
  "kernelspec": {
   "display_name": "learn-env",
   "language": "python",
   "name": "learn-env"
  },
  "language_info": {
   "codemirror_mode": {
    "name": "ipython",
    "version": 3
   },
   "file_extension": ".py",
   "mimetype": "text/x-python",
   "name": "python",
   "nbconvert_exporter": "python",
   "pygments_lexer": "ipython3",
   "version": "3.8.5"
  },
  "toc": {
   "base_numbering": 1,
   "nav_menu": {},
   "number_sections": true,
   "sideBar": true,
   "skip_h1_title": false,
   "title_cell": "Table of Contents",
   "title_sidebar": "Contents",
   "toc_cell": false,
   "toc_position": {
    "height": "calc(100% - 180px)",
    "left": "10px",
    "top": "150px",
    "width": "235.825px"
   },
   "toc_section_display": true,
   "toc_window_display": true
  }
 },
 "nbformat": 4,
 "nbformat_minor": 4
}
